{
 "cells": [
  {
   "cell_type": "code",
   "execution_count": 1,
   "metadata": {},
   "outputs": [],
   "source": [
    "# model\n",
    "from ultralytics import YOLO\n",
    "model = YOLO('yolov8n.pt')"
   ]
  },
  {
   "cell_type": "code",
   "execution_count": 1,
   "metadata": {},
   "outputs": [
    {
     "ename": "NameError",
     "evalue": "name 'model' is not defined",
     "output_type": "error",
     "traceback": [
      "\u001b[1;31m---------------------------------------------------------------------------\u001b[0m",
      "\u001b[1;31mNameError\u001b[0m                                 Traceback (most recent call last)",
      "Cell \u001b[1;32mIn[1], line 1\u001b[0m\n\u001b[1;32m----> 1\u001b[0m \u001b[43mmodel\u001b[49m\u001b[38;5;241m.\u001b[39mtrain(data \u001b[38;5;241m=\u001b[39m \u001b[38;5;124mr\u001b[39m\u001b[38;5;124m'\u001b[39m\u001b[38;5;124mC:\u001b[39m\u001b[38;5;124m\\\u001b[39m\u001b[38;5;124mUsers\u001b[39m\u001b[38;5;124m\\\u001b[39m\u001b[38;5;124muser\u001b[39m\u001b[38;5;124m\\\u001b[39m\u001b[38;5;124mDesktop\u001b[39m\u001b[38;5;124m\\\u001b[39m\u001b[38;5;124mFinalProject\u001b[39m\u001b[38;5;124m\\\u001b[39m\u001b[38;5;124mFinal_VSCODE\u001b[39m\u001b[38;5;124m\\\u001b[39m\u001b[38;5;124mfood\u001b[39m\u001b[38;5;124m\\\u001b[39m\u001b[38;5;124mfile\u001b[39m\u001b[38;5;124m\\\u001b[39m\u001b[38;5;124mdata.yaml\u001b[39m\u001b[38;5;124m'\u001b[39m, \n\u001b[0;32m      2\u001b[0m             epochs\u001b[38;5;241m=\u001b[39m\u001b[38;5;241m100\u001b[39m, \n\u001b[0;32m      3\u001b[0m             patience\u001b[38;5;241m=\u001b[39m\u001b[38;5;241m30\u001b[39m, \n\u001b[0;32m      4\u001b[0m             batch\u001b[38;5;241m=\u001b[39m\u001b[38;5;241m32\u001b[39m, \n\u001b[0;32m      5\u001b[0m             imgsz\u001b[38;5;241m=\u001b[39m\u001b[38;5;241m416\u001b[39m)\n",
      "\u001b[1;31mNameError\u001b[0m: name 'model' is not defined"
     ]
    }
   ],
   "source": [
    "model.train(data = r'C:\\Users\\user\\Desktop\\FinalProject\\Final_VSCODE\\food\\file\\data.yaml', \n",
    "            epochs=100, \n",
    "            patience=30, \n",
    "            batch=32, \n",
    "            imgsz=416)"
   ]
  },
  {
   "cell_type": "code",
   "execution_count": null,
   "metadata": {},
   "outputs": [],
   "source": [
    "# 테스트 이미지\n",
    "from glob import glob\n",
    "\n",
    "# 경로\n",
    "test_image_list = glob(r'C:\\Users\\user\\Desktop\\FinalProject\\Final_VSCODE\\food\\file\\test\\images\\*')\n",
    "\n",
    "# 테스트 데이터 개수\n",
    "print(len(test_image_list))\n",
    "\n",
    "# 정렬\n",
    "test_image_list.sort()\n",
    "\n",
    "# for i in range(len(test_image_list)):\n",
    "#     print('i = ',i, test_image_list[i])"
   ]
  },
  {
   "cell_type": "code",
   "execution_count": null,
   "metadata": {},
   "outputs": [],
   "source": [
    "#이미지내의 객체 검출\n",
    "results = model.predict(source=r'C:\\Users\\user\\Desktop\\FinalProject\\Final_VSCODE\\food\\file\\test\\images\\*', save=True)"
   ]
  },
  {
   "cell_type": "code",
   "execution_count": null,
   "metadata": {},
   "outputs": [],
   "source": [
    "import numpy as np\n",
    "\n",
    "for result in results:\n",
    "    uniq, cnt = np.unique(result.boxes.cls.cpu().numpy(), return_counts=True)  # Torch.Tensor -> numpy\n",
    "    # uniq = 각 사진의 객체 인식 후 class 번호 저장\n",
    "    # cnt = 해당 class의 개수가 몇개인지 저장\n",
    "\n",
    "    uniq_cnt_dict = dict(zip(uniq, cnt))\n",
    "    # uniq_cnt_dict = 클래스와 개수를 dictinary로 생성\n",
    "\n",
    "    # print('\\n{class num:counts} =', uniq_cnt_dict,'\\n')\n",
    "    \n",
    "    # for c in result.boxes.cls:\n",
    "    #     # 각각의 사진에 class번호와 class명 출력\n",
    "    #     print('class num =', int(c), ', class_name =', model.names[int(c)])"
   ]
  },
  {
   "cell_type": "code",
   "execution_count": null,
   "metadata": {},
   "outputs": [],
   "source": [
    "#결과 확인\n",
    "import glob\n",
    "\n",
    "detetced_image_list = glob.glob(('food/runs/detect/predict/*'))\n",
    "\n",
    "detected_image_nums = len(detetced_image_list)\n",
    "\n",
    "print(detected_image_nums)\n",
    "\n",
    "print(detetced_image_list)"
   ]
  },
  {
   "cell_type": "code",
   "execution_count": null,
   "metadata": {},
   "outputs": [],
   "source": []
  }
 ],
 "metadata": {
  "kernelspec": {
   "display_name": "Python 3",
   "language": "python",
   "name": "python3"
  },
  "language_info": {
   "codemirror_mode": {
    "name": "ipython",
    "version": 3
   },
   "file_extension": ".py",
   "mimetype": "text/x-python",
   "name": "python",
   "nbconvert_exporter": "python",
   "pygments_lexer": "ipython3",
   "version": "3.11.8"
  }
 },
 "nbformat": 4,
 "nbformat_minor": 2
}
