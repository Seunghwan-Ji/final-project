{
 "cells": [
  {
   "cell_type": "code",
   "execution_count": 2,
   "id": "70f39c51",
   "metadata": {},
   "outputs": [],
   "source": [
    "from ultralytics import YOLO"
   ]
  },
  {
   "cell_type": "code",
   "execution_count": 3,
   "id": "e3a610c6",
   "metadata": {},
   "outputs": [
    {
     "name": "stdout",
     "output_type": "stream",
     "text": [
      "Ultralytics YOLOv8.2.51  Python-3.9.7 torch-2.3.1 CUDA:0 (NVIDIA GeForce RTX 4080 SUPER, 16375MiB)\n",
      "Setup complete  (16 CPUs, 31.9 GB RAM, 471.7/930.8 GB disk)\n"
     ]
    }
   ],
   "source": [
    "import ultralytics\n",
    "\n",
    "ultralytics.checks()"
   ]
  },
  {
   "cell_type": "code",
   "execution_count": 10,
   "id": "fe026325",
   "metadata": {},
   "outputs": [],
   "source": [
    "model = YOLO('yolov8n.pt')"
   ]
  },
  {
   "cell_type": "code",
   "execution_count": 11,
   "id": "217a6d1b",
   "metadata": {},
   "outputs": [
    {
     "name": "stdout",
     "output_type": "stream",
     "text": [
      "{'train': '../train/images', 'val': '../valid/images', 'test': '../test/images', 'nc': 169, 'names': ['-', '10_pineapple', '10_tangerine', 'Apple', 'Bagel', 'Banana', 'Bitter melon', 'Cucumber', 'Garlic', 'Green Chili', 'Lady finger', 'Mushroom', 'Onion', 'Orange', 'Potato', 'Sponge Gourd', 'Tomato', 'ampalaya', 'apple', 'asparagus', 'avocado', 'bacon', 'banana', 'beef', 'bell pepper', 'bell_pepper', 'bento', 'bitter gourd', 'blueberries', 'bok choy', 'bottle', 'bread', 'broccoli', 'butter', 'cabbage', 'can', 'canned_tuna', 'carrot', 'cashew', 'cauliflower', 'cheese', 'cherry', 'chicken', 'chicken breast', 'chicken thigh', 'chicken wing', 'chicken_breast', 'chilli', 'chocolate', 'corn', 'crab', 'cream-cheese', 'cucumber', 'dates', 'egg', 'egg_', 'eggplant', 'eggs', 'fish', 'fish_cake', 'flour', 'french_fries', 'garlic', 'ginger', 'goat_cheese', 'grapefruit', 'grapes', 'grated_cheese', 'green chilli', 'green-chillies', 'green_beans', 'green_onion', 'ground_beef', 'guacamole', 'ham', 'hash_brown', 'heavy_cream', 'humus', 'juice', 'ketchup', 'kimchi', 'kiwi', 'leek', 'lemon', 'lettuce', 'lime', 'lobster tails', 'mango', 'marmelade', 'mayonaise', 'mayonnaise', 'milk', 'mint', 'mozzarella cheese', 'mushrooms', 'mustard', 'nacho_chips', 'nuts', 'olives', 'onion', 'orange', 'oysters', 'pak_choi', 'parmasan_cheese', 'parsley', 'pasta', 'pawpaw', 'peach', 'peanuts', 'pear', 'peas', 'pepper', 'pickles', 'pimento', 'pineapple', 'plantains', 'plasticsaveholder', 'pomegrante', 'pork', 'pork belly', 'pot', 'potato', 'potatoes', 'pudding', 'pumpkin', 'radish', 'red chili', 'red_cabbage', 'red_grapes', 'red_onion', 'rice', 'rice_ball', 'rice_cake', 'salad', 'salami', 'salmon', 'sandwich', 'sausage', 'sayote', 'sea scallops', 'seaweed', 'seseme', 'shrimp', 'smoothie', 'spinach', 'spring_onion', 'strawberries', 'strawberry', 'sugar', 'sweet potato', 'sweet_potato', 'tangerine', 'tempeh', 'tofu', 'tomato', 'tomato_sauce', 'tortillas', 'tuna', 'turkey', 'watermelon', 'white rice', 'yogurt', 'zucchini', 'fruit_jam', 'korean_pancake', 'mushroom', 'persimmon', 'powder', 'sauce'], 'roboflow': {'workspace': 'dsstudy-h0rzy', 'project': 'food-ingredients-image-detection_team4', 'version': 1, 'license': 'CC BY 4.0', 'url': 'https://universe.roboflow.com/dsstudy-h0rzy/food-ingredients-image-detection_team4/dataset/1'}}\n"
     ]
    }
   ],
   "source": [
    "import yaml\n",
    "\n",
    "with open('data/data.yaml', 'r') as file:\n",
    "    data = yaml.safe_load(file)\n",
    "    \n",
    "print(data)"
   ]
  },
  {
   "cell_type": "code",
   "execution_count": 22,
   "id": "226e8ab3",
   "metadata": {
    "scrolled": true
   },
   "outputs": [
    {
     "name": "stdout",
     "output_type": "stream",
     "text": [
      "{0: 'person', 1: 'bicycle', 2: 'car', 3: 'motorcycle', 4: 'airplane', 5: 'bus', 6: 'train', 7: 'truck', 8: 'boat', 9: 'traffic light', 10: 'fire hydrant', 11: 'stop sign', 12: 'parking meter', 13: 'bench', 14: 'bird', 15: 'cat', 16: 'dog', 17: 'horse', 18: 'sheep', 19: 'cow', 20: 'elephant', 21: 'bear', 22: 'zebra', 23: 'giraffe', 24: 'backpack', 25: 'umbrella', 26: 'handbag', 27: 'tie', 28: 'suitcase', 29: 'frisbee', 30: 'skis', 31: 'snowboard', 32: 'sports ball', 33: 'kite', 34: 'baseball bat', 35: 'baseball glove', 36: 'skateboard', 37: 'surfboard', 38: 'tennis racket', 39: 'bottle', 40: 'wine glass', 41: 'cup', 42: 'fork', 43: 'knife', 44: 'spoon', 45: 'bowl', 46: 'banana', 47: 'apple', 48: 'sandwich', 49: 'orange', 50: 'broccoli', 51: 'carrot', 52: 'hot dog', 53: 'pizza', 54: 'donut', 55: 'cake', 56: 'chair', 57: 'couch', 58: 'potted plant', 59: 'bed', 60: 'dining table', 61: 'toilet', 62: 'tv', 63: 'laptop', 64: 'mouse', 65: 'remote', 66: 'keyboard', 67: 'cell phone', 68: 'microwave', 69: 'oven', 70: 'toaster', 71: 'sink', 72: 'refrigerator', 73: 'book', 74: 'clock', 75: 'vase', 76: 'scissors', 77: 'teddy bear', 78: 'hair drier', 79: 'toothbrush'}\n"
     ]
    }
   ],
   "source": [
    "print(model.names) # 현재는 ms 데이터셋 상태"
   ]
  },
  {
   "cell_type": "code",
   "execution_count": 9,
   "id": "11de86c5",
   "metadata": {},
   "outputs": [],
   "source": [
    "# gpu 캐시 비우기\n",
    "import torch\n",
    "torch.cuda.empty_cache()"
   ]
  },
  {
   "cell_type": "code",
   "execution_count": 23,
   "id": "bac5d419",
   "metadata": {},
   "outputs": [],
   "source": [
    "# 데이터셋 경로 변경\n",
    "# # ‘C:\\Users\\ryun1\\AppData\\Roaming\\Ultralytics\\settings.yaml’에서\n",
    "# C:\\Users\\ryun1\\ds\\final_project\\final_datafile\\data"
   ]
  },
  {
   "cell_type": "code",
   "execution_count": 24,
   "id": "e5af9c5c",
   "metadata": {},
   "outputs": [],
   "source": [
    "# patience : 30번동안 향상 x -> 조기 종료\n",
    "# batch : 한번에 훈련하는 데이터의 수"
   ]
  },
  {
   "cell_type": "code",
   "execution_count": 12,
   "id": "8e5c7971",
   "metadata": {},
   "outputs": [
    {
     "name": "stdout",
     "output_type": "stream",
     "text": [
      "New https://pypi.org/project/ultralytics/8.2.58 available  Update with 'pip install -U ultralytics'\n",
      "Ultralytics YOLOv8.2.51  Python-3.9.7 torch-2.3.1 CUDA:0 (NVIDIA GeForce RTX 4080 SUPER, 16375MiB)\n",
      "\u001b[34m\u001b[1mengine\\trainer: \u001b[0mtask=detect, mode=train, model=yolov8n.pt, data=data/data.yaml, epochs=100, time=None, patience=30, batch=16, imgsz=416, save=True, save_period=-1, cache=False, device=None, workers=8, project=None, name=train12, exist_ok=False, pretrained=True, optimizer=auto, verbose=True, seed=0, deterministic=True, single_cls=False, rect=False, cos_lr=False, close_mosaic=10, resume=False, amp=True, fraction=1.0, profile=False, freeze=None, multi_scale=False, overlap_mask=True, mask_ratio=4, dropout=0.0, val=True, split=val, save_json=False, save_hybrid=False, conf=None, iou=0.7, max_det=300, half=False, dnn=False, plots=True, source=None, vid_stride=1, stream_buffer=False, visualize=False, augment=False, agnostic_nms=False, classes=None, retina_masks=False, embed=None, show=False, save_frames=False, save_txt=False, save_conf=False, save_crop=False, show_labels=True, show_conf=True, show_boxes=True, line_width=None, format=torchscript, keras=False, optimize=False, int8=False, dynamic=False, simplify=False, opset=None, workspace=4, nms=False, lr0=0.01, lrf=0.01, momentum=0.937, weight_decay=0.0005, warmup_epochs=3.0, warmup_momentum=0.8, warmup_bias_lr=0.1, box=7.5, cls=0.5, dfl=1.5, pose=12.0, kobj=1.0, label_smoothing=0.0, nbs=64, hsv_h=0.015, hsv_s=0.7, hsv_v=0.4, degrees=0.0, translate=0.1, scale=0.5, shear=0.0, perspective=0.0, flipud=0.0, fliplr=0.5, bgr=0.0, mosaic=1.0, mixup=0.0, copy_paste=0.0, auto_augment=randaugment, erasing=0.4, crop_fraction=1.0, cfg=None, tracker=botsort.yaml, save_dir=runs\\detect\\train12\n",
      "Overriding model.yaml nc=80 with nc=169\n",
      "\n",
      "                   from  n    params  module                                       arguments                     \n",
      "  0                  -1  1       464  ultralytics.nn.modules.conv.Conv             [3, 16, 3, 2]                 \n",
      "  1                  -1  1      4672  ultralytics.nn.modules.conv.Conv             [16, 32, 3, 2]                \n",
      "  2                  -1  1      7360  ultralytics.nn.modules.block.C2f             [32, 32, 1, True]             \n",
      "  3                  -1  1     18560  ultralytics.nn.modules.conv.Conv             [32, 64, 3, 2]                \n",
      "  4                  -1  2     49664  ultralytics.nn.modules.block.C2f             [64, 64, 2, True]             \n",
      "  5                  -1  1     73984  ultralytics.nn.modules.conv.Conv             [64, 128, 3, 2]               \n",
      "  6                  -1  2    197632  ultralytics.nn.modules.block.C2f             [128, 128, 2, True]           \n",
      "  7                  -1  1    295424  ultralytics.nn.modules.conv.Conv             [128, 256, 3, 2]              \n",
      "  8                  -1  1    460288  ultralytics.nn.modules.block.C2f             [256, 256, 1, True]           \n",
      "  9                  -1  1    164608  ultralytics.nn.modules.block.SPPF            [256, 256, 5]                 \n",
      " 10                  -1  1         0  torch.nn.modules.upsampling.Upsample         [None, 2, 'nearest']          \n",
      " 11             [-1, 6]  1         0  ultralytics.nn.modules.conv.Concat           [1]                           \n",
      " 12                  -1  1    148224  ultralytics.nn.modules.block.C2f             [384, 128, 1]                 \n",
      " 13                  -1  1         0  torch.nn.modules.upsampling.Upsample         [None, 2, 'nearest']          \n",
      " 14             [-1, 4]  1         0  ultralytics.nn.modules.conv.Concat           [1]                           \n",
      " 15                  -1  1     37248  ultralytics.nn.modules.block.C2f             [192, 64, 1]                  \n",
      " 16                  -1  1     36992  ultralytics.nn.modules.conv.Conv             [64, 64, 3, 2]                \n",
      " 17            [-1, 12]  1         0  ultralytics.nn.modules.conv.Concat           [1]                           \n",
      " 18                  -1  1    123648  ultralytics.nn.modules.block.C2f             [192, 128, 1]                 \n",
      " 19                  -1  1    147712  ultralytics.nn.modules.conv.Conv             [128, 128, 3, 2]              \n",
      " 20             [-1, 9]  1         0  ultralytics.nn.modules.conv.Concat           [1]                           \n",
      " 21                  -1  1    493056  ultralytics.nn.modules.block.C2f             [384, 256, 1]                 \n",
      " 22        [15, 18, 21]  1   1107511  ultralytics.nn.modules.head.Detect           [169, [64, 128, 256]]         \n",
      "Model summary: 225 layers, 3367047 parameters, 3367031 gradients, 9.8 GFLOPs\n",
      "\n",
      "Transferred 319/355 items from pretrained weights\n",
      "Freezing layer 'model.22.dfl.conv.weight'\n",
      "\u001b[34m\u001b[1mAMP: \u001b[0mrunning Automatic Mixed Precision (AMP) checks with YOLOv8n...\n",
      "\u001b[34m\u001b[1mAMP: \u001b[0mchecks passed \n"
     ]
    },
    {
     "name": "stderr",
     "output_type": "stream",
     "text": [
      "\u001b[34m\u001b[1mtrain: \u001b[0mScanning C:\\Users\\ryun1\\ds\\final_project\\final_datafile\\data\\train\\labels.cache... 8096 images, 0 backgrounds, 0\u001b[0m"
     ]
    },
    {
     "name": "stdout",
     "output_type": "stream",
     "text": [
      "\u001b[34m\u001b[1mtrain: \u001b[0mWARNING  C:\\Users\\ryun1\\ds\\final_project\\final_datafile\\data\\train\\images\\photo-1590848791238-fb3596a2ba56_jpg.rf.0f389fd81faa7300281bc607100b096e.jpg: 1 duplicate labels removed\n",
      "WARNING  Box and segment counts should be equal, but got len(segments) = 2042, len(boxes) = 34405. To resolve this only boxes will be used and all segments will be removed. To avoid this please supply either a detect or segment dataset, not a detect-segment mixed dataset.\n"
     ]
    },
    {
     "name": "stderr",
     "output_type": "stream",
     "text": [
      "\n",
      "\u001b[34m\u001b[1mval: \u001b[0mScanning C:\\Users\\ryun1\\ds\\final_project\\final_datafile\\data\\valid\\labels.cache... 2115 images, 2 backgrounds, 0 c\u001b[0m"
     ]
    },
    {
     "name": "stdout",
     "output_type": "stream",
     "text": [
      "WARNING  Box and segment counts should be equal, but got len(segments) = 491, len(boxes) = 9223. To resolve this only boxes will be used and all segments will be removed. To avoid this please supply either a detect or segment dataset, not a detect-segment mixed dataset.\n"
     ]
    },
    {
     "name": "stderr",
     "output_type": "stream",
     "text": [
      "\n"
     ]
    },
    {
     "name": "stdout",
     "output_type": "stream",
     "text": [
      "Plotting labels to runs\\detect\\train12\\labels.jpg... \n",
      "\u001b[34m\u001b[1moptimizer:\u001b[0m 'optimizer=auto' found, ignoring 'lr0=0.01' and 'momentum=0.937' and determining best 'optimizer', 'lr0' and 'momentum' automatically... \n",
      "\u001b[34m\u001b[1moptimizer:\u001b[0m SGD(lr=0.01, momentum=0.9) with parameter groups 57 weight(decay=0.0), 64 weight(decay=0.0005), 63 bias(decay=0.0)\n",
      "Image sizes 416 train, 416 val\n",
      "Using 8 dataloader workers\n",
      "Logging results to \u001b[1mruns\\detect\\train12\u001b[0m\n",
      "Starting training for 100 epochs...\n",
      "\n",
      "      Epoch    GPU_mem   box_loss   cls_loss   dfl_loss  Instances       Size\n"
     ]
    },
    {
     "name": "stderr",
     "output_type": "stream",
     "text": [
      "      1/100      1.56G      1.349      4.967      1.377        120        416: 100%|██████████| 506/506 [00:51<00:00,  \n",
      "                 Class     Images  Instances      Box(P          R      mAP50  mAP50-95): 100%|██████████| 67/67 [00:10\n"
     ]
    },
    {
     "name": "stdout",
     "output_type": "stream",
     "text": [
      "                   all       2115       9223      0.516     0.0903     0.0481     0.0309\n",
      "\n",
      "      Epoch    GPU_mem   box_loss   cls_loss   dfl_loss  Instances       Size\n"
     ]
    },
    {
     "name": "stderr",
     "output_type": "stream",
     "text": [
      "      2/100      1.46G      1.432      3.551       1.47        129        416: 100%|██████████| 506/506 [00:46<00:00, 1\n",
      "                 Class     Images  Instances      Box(P          R      mAP50  mAP50-95): 100%|██████████| 67/67 [00:10\n"
     ]
    },
    {
     "name": "stdout",
     "output_type": "stream",
     "text": [
      "                   all       2115       9223      0.455      0.175      0.147     0.0877\n",
      "\n",
      "      Epoch    GPU_mem   box_loss   cls_loss   dfl_loss  Instances       Size\n"
     ]
    },
    {
     "name": "stderr",
     "output_type": "stream",
     "text": [
      "      3/100      1.47G      1.452      2.897      1.501        113        416: 100%|██████████| 506/506 [00:44<00:00, 1\n",
      "                 Class     Images  Instances      Box(P          R      mAP50  mAP50-95): 100%|██████████| 67/67 [00:10\n"
     ]
    },
    {
     "name": "stdout",
     "output_type": "stream",
     "text": [
      "                   all       2115       9223      0.448      0.184      0.173     0.0958\n",
      "\n",
      "      Epoch    GPU_mem   box_loss   cls_loss   dfl_loss  Instances       Size\n"
     ]
    },
    {
     "name": "stderr",
     "output_type": "stream",
     "text": [
      "      4/100      1.48G       1.46      2.685      1.506        115        416: 100%|██████████| 506/506 [00:44<00:00, 1\n",
      "                 Class     Images  Instances      Box(P          R      mAP50  mAP50-95): 100%|██████████| 67/67 [00:10\n"
     ]
    },
    {
     "name": "stdout",
     "output_type": "stream",
     "text": [
      "                   all       2115       9223      0.497      0.226      0.228      0.135\n",
      "\n",
      "      Epoch    GPU_mem   box_loss   cls_loss   dfl_loss  Instances       Size\n"
     ]
    },
    {
     "name": "stderr",
     "output_type": "stream",
     "text": [
      "      5/100      1.44G      1.406      2.477      1.478        112        416: 100%|██████████| 506/506 [00:46<00:00, 1\n",
      "                 Class     Images  Instances      Box(P          R      mAP50  mAP50-95): 100%|██████████| 67/67 [00:10\n"
     ]
    },
    {
     "name": "stdout",
     "output_type": "stream",
     "text": [
      "                   all       2115       9223      0.473      0.264      0.268      0.167\n",
      "\n",
      "      Epoch    GPU_mem   box_loss   cls_loss   dfl_loss  Instances       Size\n"
     ]
    },
    {
     "name": "stderr",
     "output_type": "stream",
     "text": [
      "      6/100      1.47G      1.379      2.312       1.45         91        416: 100%|██████████| 506/506 [00:44<00:00, 1\n",
      "                 Class     Images  Instances      Box(P          R      mAP50  mAP50-95): 100%|██████████| 67/67 [00:10\n"
     ]
    },
    {
     "name": "stdout",
     "output_type": "stream",
     "text": [
      "                   all       2115       9223      0.417      0.274      0.263      0.156\n",
      "\n",
      "      Epoch    GPU_mem   box_loss   cls_loss   dfl_loss  Instances       Size\n"
     ]
    },
    {
     "name": "stderr",
     "output_type": "stream",
     "text": [
      "      7/100      1.47G      1.342      2.199      1.425         94        416: 100%|██████████| 506/506 [00:44<00:00, 1\n",
      "                 Class     Images  Instances      Box(P          R      mAP50  mAP50-95): 100%|██████████| 67/67 [00:10\n"
     ]
    },
    {
     "name": "stdout",
     "output_type": "stream",
     "text": [
      "                   all       2115       9223       0.49      0.321      0.338      0.211\n",
      "\n",
      "      Epoch    GPU_mem   box_loss   cls_loss   dfl_loss  Instances       Size\n"
     ]
    },
    {
     "name": "stderr",
     "output_type": "stream",
     "text": [
      "      8/100      1.46G      1.327      2.125      1.415        113        416: 100%|██████████| 506/506 [00:44<00:00, 1\n",
      "                 Class     Images  Instances      Box(P          R      mAP50  mAP50-95): 100%|██████████| 67/67 [00:10\n"
     ]
    },
    {
     "name": "stdout",
     "output_type": "stream",
     "text": [
      "                   all       2115       9223       0.49      0.356      0.353      0.228\n",
      "\n",
      "      Epoch    GPU_mem   box_loss   cls_loss   dfl_loss  Instances       Size\n"
     ]
    },
    {
     "name": "stderr",
     "output_type": "stream",
     "text": [
      "      9/100      1.48G      1.312      2.048      1.403        145        416: 100%|██████████| 506/506 [00:44<00:00, 1\n",
      "                 Class     Images  Instances      Box(P          R      mAP50  mAP50-95): 100%|██████████| 67/67 [00:10\n"
     ]
    },
    {
     "name": "stdout",
     "output_type": "stream",
     "text": [
      "                   all       2115       9223      0.415      0.354       0.33      0.211\n",
      "\n",
      "      Epoch    GPU_mem   box_loss   cls_loss   dfl_loss  Instances       Size\n"
     ]
    },
    {
     "name": "stderr",
     "output_type": "stream",
     "text": [
      "     10/100      1.46G      1.295      1.965      1.389        110        416: 100%|██████████| 506/506 [00:44<00:00, 1\n",
      "                 Class     Images  Instances      Box(P          R      mAP50  mAP50-95): 100%|██████████| 67/67 [00:10\n"
     ]
    },
    {
     "name": "stdout",
     "output_type": "stream",
     "text": [
      "                   all       2115       9223      0.483      0.366      0.379      0.244\n",
      "\n",
      "      Epoch    GPU_mem   box_loss   cls_loss   dfl_loss  Instances       Size\n"
     ]
    },
    {
     "name": "stderr",
     "output_type": "stream",
     "text": [
      "     11/100      1.46G      1.279      1.905      1.372         73        416: 100%|██████████| 506/506 [00:44<00:00, 1\n",
      "                 Class     Images  Instances      Box(P          R      mAP50  mAP50-95): 100%|██████████| 67/67 [00:10\n"
     ]
    },
    {
     "name": "stdout",
     "output_type": "stream",
     "text": [
      "                   all       2115       9223      0.525       0.41      0.414      0.271\n",
      "\n",
      "      Epoch    GPU_mem   box_loss   cls_loss   dfl_loss  Instances       Size\n"
     ]
    },
    {
     "name": "stderr",
     "output_type": "stream",
     "text": [
      "     12/100      1.46G      1.264      1.866      1.367        156        416: 100%|██████████| 506/506 [00:42<00:00, 1\n",
      "                 Class     Images  Instances      Box(P          R      mAP50  mAP50-95): 100%|██████████| 67/67 [00:10\n"
     ]
    },
    {
     "name": "stdout",
     "output_type": "stream",
     "text": [
      "                   all       2115       9223      0.541      0.392      0.428      0.289\n",
      "\n",
      "      Epoch    GPU_mem   box_loss   cls_loss   dfl_loss  Instances       Size\n"
     ]
    },
    {
     "name": "stderr",
     "output_type": "stream",
     "text": [
      "     13/100      1.45G      1.252      1.815      1.355         91        416: 100%|██████████| 506/506 [00:42<00:00, 1\n",
      "                 Class     Images  Instances      Box(P          R      mAP50  mAP50-95): 100%|██████████| 67/67 [00:10\n"
     ]
    },
    {
     "name": "stdout",
     "output_type": "stream",
     "text": [
      "                   all       2115       9223      0.564      0.428      0.456      0.312\n",
      "\n",
      "      Epoch    GPU_mem   box_loss   cls_loss   dfl_loss  Instances       Size\n"
     ]
    },
    {
     "name": "stderr",
     "output_type": "stream",
     "text": [
      "     14/100      1.46G      1.246      1.774       1.35        117        416: 100%|██████████| 506/506 [00:43<00:00, 1\n",
      "                 Class     Images  Instances      Box(P          R      mAP50  mAP50-95): 100%|██████████| 67/67 [00:10\n"
     ]
    },
    {
     "name": "stdout",
     "output_type": "stream",
     "text": [
      "                   all       2115       9223      0.593       0.41       0.46      0.316\n",
      "\n",
      "      Epoch    GPU_mem   box_loss   cls_loss   dfl_loss  Instances       Size\n"
     ]
    },
    {
     "name": "stderr",
     "output_type": "stream",
     "text": [
      "     15/100      1.47G      1.242      1.751      1.347        160        416: 100%|██████████| 506/506 [00:42<00:00, 1\n",
      "                 Class     Images  Instances      Box(P          R      mAP50  mAP50-95): 100%|██████████| 67/67 [00:10\n"
     ]
    },
    {
     "name": "stdout",
     "output_type": "stream",
     "text": [
      "                   all       2115       9223      0.608      0.422      0.462      0.308\n",
      "\n",
      "      Epoch    GPU_mem   box_loss   cls_loss   dfl_loss  Instances       Size\n"
     ]
    },
    {
     "name": "stderr",
     "output_type": "stream",
     "text": [
      "     16/100      1.47G      1.233      1.715      1.338        133        416: 100%|██████████| 506/506 [00:42<00:00, 1\n",
      "                 Class     Images  Instances      Box(P          R      mAP50  mAP50-95): 100%|██████████| 67/67 [00:10\n"
     ]
    },
    {
     "name": "stdout",
     "output_type": "stream",
     "text": [
      "                   all       2115       9223      0.567      0.436      0.466      0.318\n",
      "\n",
      "      Epoch    GPU_mem   box_loss   cls_loss   dfl_loss  Instances       Size\n"
     ]
    },
    {
     "name": "stderr",
     "output_type": "stream",
     "text": [
      "     17/100      1.47G      1.229      1.678      1.335         88        416: 100%|██████████| 506/506 [00:42<00:00, 1\n",
      "                 Class     Images  Instances      Box(P          R      mAP50  mAP50-95): 100%|██████████| 67/67 [00:10\n"
     ]
    },
    {
     "name": "stdout",
     "output_type": "stream",
     "text": [
      "                   all       2115       9223       0.64      0.442      0.506      0.347\n",
      "\n",
      "      Epoch    GPU_mem   box_loss   cls_loss   dfl_loss  Instances       Size\n"
     ]
    },
    {
     "name": "stderr",
     "output_type": "stream",
     "text": [
      "     18/100      1.47G      1.213      1.647      1.334        101        416: 100%|██████████| 506/506 [00:42<00:00, 1\n",
      "                 Class     Images  Instances      Box(P          R      mAP50  mAP50-95): 100%|██████████| 67/67 [00:10\n"
     ]
    },
    {
     "name": "stdout",
     "output_type": "stream",
     "text": [
      "                   all       2115       9223      0.615      0.457      0.502      0.346\n",
      "\n",
      "      Epoch    GPU_mem   box_loss   cls_loss   dfl_loss  Instances       Size\n"
     ]
    },
    {
     "name": "stderr",
     "output_type": "stream",
     "text": [
      "     19/100      1.45G      1.201      1.594      1.317        138        416: 100%|██████████| 506/506 [00:42<00:00, 1\n",
      "                 Class     Images  Instances      Box(P          R      mAP50  mAP50-95): 100%|██████████| 67/67 [00:10\n"
     ]
    },
    {
     "name": "stdout",
     "output_type": "stream",
     "text": [
      "                   all       2115       9223      0.622      0.455      0.509      0.349\n",
      "\n",
      "      Epoch    GPU_mem   box_loss   cls_loss   dfl_loss  Instances       Size\n"
     ]
    },
    {
     "name": "stderr",
     "output_type": "stream",
     "text": [
      "     20/100      1.45G      1.194      1.577      1.316         78        416: 100%|██████████| 506/506 [00:42<00:00, 1\n",
      "                 Class     Images  Instances      Box(P          R      mAP50  mAP50-95): 100%|██████████| 67/67 [00:10\n"
     ]
    },
    {
     "name": "stdout",
     "output_type": "stream",
     "text": [
      "                   all       2115       9223      0.608      0.463      0.508      0.347\n",
      "\n",
      "      Epoch    GPU_mem   box_loss   cls_loss   dfl_loss  Instances       Size\n"
     ]
    },
    {
     "name": "stderr",
     "output_type": "stream",
     "text": [
      "     21/100      1.45G      1.194      1.544      1.307        106        416: 100%|██████████| 506/506 [00:42<00:00, 1\n",
      "                 Class     Images  Instances      Box(P          R      mAP50  mAP50-95): 100%|██████████| 67/67 [00:10\n"
     ]
    },
    {
     "name": "stdout",
     "output_type": "stream",
     "text": [
      "                   all       2115       9223      0.621      0.477      0.521      0.361\n",
      "\n",
      "      Epoch    GPU_mem   box_loss   cls_loss   dfl_loss  Instances       Size\n"
     ]
    },
    {
     "name": "stderr",
     "output_type": "stream",
     "text": [
      "     22/100      1.47G      1.192      1.542      1.307        105        416: 100%|██████████| 506/506 [00:42<00:00, 1\n",
      "                 Class     Images  Instances      Box(P          R      mAP50  mAP50-95): 100%|██████████| 67/67 [00:09\n"
     ]
    },
    {
     "name": "stdout",
     "output_type": "stream",
     "text": [
      "                   all       2115       9223      0.642      0.477      0.542      0.376\n",
      "\n",
      "      Epoch    GPU_mem   box_loss   cls_loss   dfl_loss  Instances       Size\n"
     ]
    },
    {
     "name": "stderr",
     "output_type": "stream",
     "text": [
      "     23/100      1.47G      1.183      1.503      1.301        102        416: 100%|██████████| 506/506 [00:41<00:00, 1\n",
      "                 Class     Images  Instances      Box(P          R      mAP50  mAP50-95): 100%|██████████| 67/67 [00:09\n"
     ]
    },
    {
     "name": "stdout",
     "output_type": "stream",
     "text": [
      "                   all       2115       9223      0.634      0.472       0.54       0.37\n",
      "\n",
      "      Epoch    GPU_mem   box_loss   cls_loss   dfl_loss  Instances       Size\n"
     ]
    },
    {
     "name": "stderr",
     "output_type": "stream",
     "text": [
      "     24/100      1.47G      1.162      1.477      1.292        133        416: 100%|██████████| 506/506 [00:41<00:00, 1\n",
      "                 Class     Images  Instances      Box(P          R      mAP50  mAP50-95): 100%|██████████| 67/67 [00:10\n"
     ]
    },
    {
     "name": "stdout",
     "output_type": "stream",
     "text": [
      "                   all       2115       9223      0.636      0.495      0.554      0.383\n",
      "\n",
      "      Epoch    GPU_mem   box_loss   cls_loss   dfl_loss  Instances       Size\n"
     ]
    },
    {
     "name": "stderr",
     "output_type": "stream",
     "text": [
      "     25/100      1.47G      1.168       1.47      1.297         82        416: 100%|██████████| 506/506 [00:42<00:00, 1\n",
      "                 Class     Images  Instances      Box(P          R      mAP50  mAP50-95): 100%|██████████| 67/67 [00:09\n"
     ]
    },
    {
     "name": "stdout",
     "output_type": "stream",
     "text": [
      "                   all       2115       9223      0.616      0.511      0.548      0.383\n",
      "\n",
      "      Epoch    GPU_mem   box_loss   cls_loss   dfl_loss  Instances       Size\n"
     ]
    },
    {
     "name": "stderr",
     "output_type": "stream",
     "text": [
      "     26/100      1.47G      1.168      1.434      1.287         75        416: 100%|██████████| 506/506 [00:42<00:00, 1\n",
      "                 Class     Images  Instances      Box(P          R      mAP50  mAP50-95): 100%|██████████| 67/67 [00:10\n"
     ]
    },
    {
     "name": "stdout",
     "output_type": "stream",
     "text": [
      "                   all       2115       9223      0.638      0.501      0.566      0.391\n",
      "\n",
      "      Epoch    GPU_mem   box_loss   cls_loss   dfl_loss  Instances       Size\n"
     ]
    },
    {
     "name": "stderr",
     "output_type": "stream",
     "text": [
      "     27/100      1.46G      1.164      1.415      1.283         98        416: 100%|██████████| 506/506 [00:42<00:00, 1\n",
      "                 Class     Images  Instances      Box(P          R      mAP50  mAP50-95): 100%|██████████| 67/67 [00:09\n"
     ]
    },
    {
     "name": "stdout",
     "output_type": "stream",
     "text": [
      "                   all       2115       9223      0.637       0.52      0.589      0.412\n",
      "\n",
      "      Epoch    GPU_mem   box_loss   cls_loss   dfl_loss  Instances       Size\n"
     ]
    },
    {
     "name": "stderr",
     "output_type": "stream",
     "text": [
      "     28/100      1.47G       1.15      1.384      1.274         96        416: 100%|██████████| 506/506 [00:42<00:00, 1\n",
      "                 Class     Images  Instances      Box(P          R      mAP50  mAP50-95): 100%|██████████| 67/67 [00:10\n"
     ]
    },
    {
     "name": "stdout",
     "output_type": "stream",
     "text": [
      "                   all       2115       9223      0.681      0.489      0.582      0.403\n",
      "\n",
      "      Epoch    GPU_mem   box_loss   cls_loss   dfl_loss  Instances       Size\n"
     ]
    },
    {
     "name": "stderr",
     "output_type": "stream",
     "text": [
      "     29/100      1.43G      1.155      1.388      1.281        114        416: 100%|██████████| 506/506 [00:42<00:00, 1\n",
      "                 Class     Images  Instances      Box(P          R      mAP50  mAP50-95): 100%|██████████| 67/67 [00:09\n"
     ]
    },
    {
     "name": "stdout",
     "output_type": "stream",
     "text": [
      "                   all       2115       9223      0.656      0.501      0.563      0.392\n",
      "\n",
      "      Epoch    GPU_mem   box_loss   cls_loss   dfl_loss  Instances       Size\n"
     ]
    },
    {
     "name": "stderr",
     "output_type": "stream",
     "text": [
      "     30/100      1.47G      1.148      1.361      1.275         91        416: 100%|██████████| 506/506 [00:42<00:00, 1\n",
      "                 Class     Images  Instances      Box(P          R      mAP50  mAP50-95): 100%|██████████| 67/67 [00:09\n"
     ]
    },
    {
     "name": "stdout",
     "output_type": "stream",
     "text": [
      "                   all       2115       9223      0.624      0.522      0.585      0.411\n",
      "\n",
      "      Epoch    GPU_mem   box_loss   cls_loss   dfl_loss  Instances       Size\n"
     ]
    },
    {
     "name": "stderr",
     "output_type": "stream",
     "text": [
      "     31/100      1.47G      1.142       1.34      1.268        100        416: 100%|██████████| 506/506 [00:42<00:00, 1\n",
      "                 Class     Images  Instances      Box(P          R      mAP50  mAP50-95): 100%|██████████| 67/67 [00:10\n"
     ]
    },
    {
     "name": "stdout",
     "output_type": "stream",
     "text": [
      "                   all       2115       9223      0.602      0.567      0.612       0.42\n",
      "\n",
      "      Epoch    GPU_mem   box_loss   cls_loss   dfl_loss  Instances       Size\n"
     ]
    },
    {
     "name": "stderr",
     "output_type": "stream",
     "text": [
      "     32/100      1.47G      1.137      1.347      1.274        126        416: 100%|██████████| 506/506 [00:42<00:00, 1\n",
      "                 Class     Images  Instances      Box(P          R      mAP50  mAP50-95): 100%|██████████| 67/67 [00:10\n"
     ]
    },
    {
     "name": "stdout",
     "output_type": "stream",
     "text": [
      "                   all       2115       9223      0.649      0.531      0.604      0.421\n",
      "\n",
      "      Epoch    GPU_mem   box_loss   cls_loss   dfl_loss  Instances       Size\n"
     ]
    },
    {
     "name": "stderr",
     "output_type": "stream",
     "text": [
      "     33/100      1.46G      1.142      1.315      1.267         97        416: 100%|██████████| 506/506 [00:42<00:00, 1\n",
      "                 Class     Images  Instances      Box(P          R      mAP50  mAP50-95): 100%|██████████| 67/67 [00:10\n"
     ]
    },
    {
     "name": "stdout",
     "output_type": "stream",
     "text": [
      "                   all       2115       9223      0.625      0.548      0.607      0.422\n",
      "\n",
      "      Epoch    GPU_mem   box_loss   cls_loss   dfl_loss  Instances       Size\n"
     ]
    },
    {
     "name": "stderr",
     "output_type": "stream",
     "text": [
      "     34/100      1.47G      1.125        1.3      1.261         86        416: 100%|██████████| 506/506 [00:42<00:00, 1\n",
      "                 Class     Images  Instances      Box(P          R      mAP50  mAP50-95): 100%|██████████| 67/67 [00:09\n"
     ]
    },
    {
     "name": "stdout",
     "output_type": "stream",
     "text": [
      "                   all       2115       9223      0.637      0.549      0.614      0.427\n",
      "\n",
      "      Epoch    GPU_mem   box_loss   cls_loss   dfl_loss  Instances       Size\n"
     ]
    },
    {
     "name": "stderr",
     "output_type": "stream",
     "text": [
      "     35/100      1.47G       1.12      1.288      1.256        156        416: 100%|██████████| 506/506 [00:42<00:00, 1\n",
      "                 Class     Images  Instances      Box(P          R      mAP50  mAP50-95): 100%|██████████| 67/67 [00:10\n"
     ]
    },
    {
     "name": "stdout",
     "output_type": "stream",
     "text": [
      "                   all       2115       9223      0.695      0.559      0.633      0.444\n",
      "\n",
      "      Epoch    GPU_mem   box_loss   cls_loss   dfl_loss  Instances       Size\n"
     ]
    },
    {
     "name": "stderr",
     "output_type": "stream",
     "text": [
      "     36/100      1.47G      1.111      1.271      1.251        160        416: 100%|██████████| 506/506 [00:42<00:00, 1\n",
      "                 Class     Images  Instances      Box(P          R      mAP50  mAP50-95): 100%|██████████| 67/67 [00:09\n"
     ]
    },
    {
     "name": "stdout",
     "output_type": "stream",
     "text": [
      "                   all       2115       9223       0.68      0.551      0.634      0.443\n",
      "\n",
      "      Epoch    GPU_mem   box_loss   cls_loss   dfl_loss  Instances       Size\n"
     ]
    },
    {
     "name": "stderr",
     "output_type": "stream",
     "text": [
      "     37/100      1.46G      1.129      1.281      1.258         85        416: 100%|██████████| 506/506 [00:42<00:00, 1\n",
      "                 Class     Images  Instances      Box(P          R      mAP50  mAP50-95): 100%|██████████| 67/67 [00:09\n"
     ]
    },
    {
     "name": "stdout",
     "output_type": "stream",
     "text": [
      "                   all       2115       9223      0.638      0.595      0.643      0.445\n",
      "\n",
      "      Epoch    GPU_mem   box_loss   cls_loss   dfl_loss  Instances       Size\n"
     ]
    },
    {
     "name": "stderr",
     "output_type": "stream",
     "text": [
      "     38/100      1.47G       1.12      1.258      1.251         88        416: 100%|██████████| 506/506 [00:41<00:00, 1\n",
      "                 Class     Images  Instances      Box(P          R      mAP50  mAP50-95): 100%|██████████| 67/67 [00:09"
     ]
    },
    {
     "name": "stdout",
     "output_type": "stream",
     "text": [
      "                   all       2115       9223      0.643      0.592      0.646      0.449\n"
     ]
    },
    {
     "name": "stderr",
     "output_type": "stream",
     "text": [
      "\n"
     ]
    },
    {
     "name": "stdout",
     "output_type": "stream",
     "text": [
      "\n",
      "      Epoch    GPU_mem   box_loss   cls_loss   dfl_loss  Instances       Size\n"
     ]
    },
    {
     "name": "stderr",
     "output_type": "stream",
     "text": [
      "     39/100      1.46G      1.119      1.249      1.251        152        416: 100%|██████████| 506/506 [00:41<00:00, 1\n",
      "                 Class     Images  Instances      Box(P          R      mAP50  mAP50-95): 100%|██████████| 67/67 [00:09"
     ]
    },
    {
     "name": "stdout",
     "output_type": "stream",
     "text": [
      "                   all       2115       9223       0.65      0.604      0.672      0.471\n"
     ]
    },
    {
     "name": "stderr",
     "output_type": "stream",
     "text": [
      "\n"
     ]
    },
    {
     "name": "stdout",
     "output_type": "stream",
     "text": [
      "\n",
      "      Epoch    GPU_mem   box_loss   cls_loss   dfl_loss  Instances       Size\n"
     ]
    },
    {
     "name": "stderr",
     "output_type": "stream",
     "text": [
      "     40/100      1.47G      1.114      1.241      1.243        115        416: 100%|██████████| 506/506 [00:41<00:00, 1\n",
      "                 Class     Images  Instances      Box(P          R      mAP50  mAP50-95): 100%|██████████| 67/67 [00:09\n"
     ]
    },
    {
     "name": "stdout",
     "output_type": "stream",
     "text": [
      "                   all       2115       9223      0.678      0.602       0.66      0.464\n",
      "\n",
      "      Epoch    GPU_mem   box_loss   cls_loss   dfl_loss  Instances       Size\n"
     ]
    },
    {
     "name": "stderr",
     "output_type": "stream",
     "text": [
      "     41/100      1.47G      1.104      1.222      1.246        146        416: 100%|██████████| 506/506 [00:42<00:00, 1\n",
      "                 Class     Images  Instances      Box(P          R      mAP50  mAP50-95): 100%|██████████| 67/67 [00:09\n"
     ]
    },
    {
     "name": "stdout",
     "output_type": "stream",
     "text": [
      "                   all       2115       9223      0.689      0.595      0.667      0.469\n",
      "\n",
      "      Epoch    GPU_mem   box_loss   cls_loss   dfl_loss  Instances       Size\n"
     ]
    },
    {
     "name": "stderr",
     "output_type": "stream",
     "text": [
      "     42/100      1.47G        1.1      1.207      1.241        112        416: 100%|██████████| 506/506 [00:42<00:00, 1\n",
      "                 Class     Images  Instances      Box(P          R      mAP50  mAP50-95): 100%|██████████| 67/67 [00:09\n"
     ]
    },
    {
     "name": "stdout",
     "output_type": "stream",
     "text": [
      "                   all       2115       9223      0.634      0.615      0.682      0.475\n",
      "\n",
      "      Epoch    GPU_mem   box_loss   cls_loss   dfl_loss  Instances       Size\n"
     ]
    },
    {
     "name": "stderr",
     "output_type": "stream",
     "text": [
      "     43/100      1.47G      1.088      1.192      1.232        129        416: 100%|██████████| 506/506 [00:42<00:00, 1\n",
      "                 Class     Images  Instances      Box(P          R      mAP50  mAP50-95): 100%|██████████| 67/67 [00:09\n"
     ]
    },
    {
     "name": "stdout",
     "output_type": "stream",
     "text": [
      "                   all       2115       9223      0.677      0.608      0.678      0.479\n",
      "\n",
      "      Epoch    GPU_mem   box_loss   cls_loss   dfl_loss  Instances       Size\n"
     ]
    },
    {
     "name": "stderr",
     "output_type": "stream",
     "text": [
      "     44/100      1.45G      1.096      1.195       1.24         83        416: 100%|██████████| 506/506 [00:41<00:00, 1\n",
      "                 Class     Images  Instances      Box(P          R      mAP50  mAP50-95): 100%|██████████| 67/67 [00:09"
     ]
    },
    {
     "name": "stdout",
     "output_type": "stream",
     "text": [
      "                   all       2115       9223      0.664      0.619      0.676      0.471\n"
     ]
    },
    {
     "name": "stderr",
     "output_type": "stream",
     "text": [
      "\n"
     ]
    },
    {
     "name": "stdout",
     "output_type": "stream",
     "text": [
      "\n",
      "      Epoch    GPU_mem   box_loss   cls_loss   dfl_loss  Instances       Size\n"
     ]
    },
    {
     "name": "stderr",
     "output_type": "stream",
     "text": [
      "     45/100      1.46G      1.089      1.173       1.23        141        416: 100%|██████████| 506/506 [00:41<00:00, 1\n",
      "                 Class     Images  Instances      Box(P          R      mAP50  mAP50-95): 100%|██████████| 67/67 [00:09\n"
     ]
    },
    {
     "name": "stdout",
     "output_type": "stream",
     "text": [
      "                   all       2115       9223      0.649       0.63      0.682      0.481\n",
      "\n",
      "      Epoch    GPU_mem   box_loss   cls_loss   dfl_loss  Instances       Size\n"
     ]
    },
    {
     "name": "stderr",
     "output_type": "stream",
     "text": [
      "     46/100      1.46G       1.08      1.163      1.232         88        416: 100%|██████████| 506/506 [00:41<00:00, 1\n",
      "                 Class     Images  Instances      Box(P          R      mAP50  mAP50-95): 100%|██████████| 67/67 [00:09\n"
     ]
    },
    {
     "name": "stdout",
     "output_type": "stream",
     "text": [
      "                   all       2115       9223      0.652       0.63       0.67      0.473\n",
      "\n",
      "      Epoch    GPU_mem   box_loss   cls_loss   dfl_loss  Instances       Size\n"
     ]
    },
    {
     "name": "stderr",
     "output_type": "stream",
     "text": [
      "     47/100      1.47G      1.085      1.155      1.227         91        416: 100%|██████████| 506/506 [00:41<00:00, 1\n",
      "                 Class     Images  Instances      Box(P          R      mAP50  mAP50-95): 100%|██████████| 67/67 [00:09"
     ]
    },
    {
     "name": "stdout",
     "output_type": "stream",
     "text": [
      "                   all       2115       9223      0.653      0.632      0.692      0.486\n"
     ]
    },
    {
     "name": "stderr",
     "output_type": "stream",
     "text": [
      "\n"
     ]
    },
    {
     "name": "stdout",
     "output_type": "stream",
     "text": [
      "\n",
      "      Epoch    GPU_mem   box_loss   cls_loss   dfl_loss  Instances       Size\n"
     ]
    },
    {
     "name": "stderr",
     "output_type": "stream",
     "text": [
      "     48/100      1.47G       1.08      1.162      1.235        109        416: 100%|██████████| 506/506 [00:41<00:00, 1\n",
      "                 Class     Images  Instances      Box(P          R      mAP50  mAP50-95): 100%|██████████| 67/67 [00:09"
     ]
    },
    {
     "name": "stdout",
     "output_type": "stream",
     "text": [
      "                   all       2115       9223      0.667      0.624      0.682      0.484\n"
     ]
    },
    {
     "name": "stderr",
     "output_type": "stream",
     "text": [
      "\n"
     ]
    },
    {
     "name": "stdout",
     "output_type": "stream",
     "text": [
      "\n",
      "      Epoch    GPU_mem   box_loss   cls_loss   dfl_loss  Instances       Size\n"
     ]
    },
    {
     "name": "stderr",
     "output_type": "stream",
     "text": [
      "     49/100      1.46G       1.07      1.138      1.218        131        416: 100%|██████████| 506/506 [00:41<00:00, 1\n",
      "                 Class     Images  Instances      Box(P          R      mAP50  mAP50-95): 100%|██████████| 67/67 [00:09\n"
     ]
    },
    {
     "name": "stdout",
     "output_type": "stream",
     "text": [
      "                   all       2115       9223      0.682      0.619      0.677      0.482\n",
      "\n",
      "      Epoch    GPU_mem   box_loss   cls_loss   dfl_loss  Instances       Size\n"
     ]
    },
    {
     "name": "stderr",
     "output_type": "stream",
     "text": [
      "     50/100      1.45G      1.075      1.124      1.224        114        416: 100%|██████████| 506/506 [00:41<00:00, 1\n",
      "                 Class     Images  Instances      Box(P          R      mAP50  mAP50-95): 100%|██████████| 67/67 [00:09\n"
     ]
    },
    {
     "name": "stdout",
     "output_type": "stream",
     "text": [
      "                   all       2115       9223       0.69      0.619      0.694      0.494\n",
      "\n",
      "      Epoch    GPU_mem   box_loss   cls_loss   dfl_loss  Instances       Size\n"
     ]
    },
    {
     "name": "stderr",
     "output_type": "stream",
     "text": [
      "     51/100      1.47G      1.068      1.123      1.224        130        416: 100%|██████████| 506/506 [00:41<00:00, 1\n",
      "                 Class     Images  Instances      Box(P          R      mAP50  mAP50-95): 100%|██████████| 67/67 [00:09\n"
     ]
    },
    {
     "name": "stdout",
     "output_type": "stream",
     "text": [
      "                   all       2115       9223      0.718      0.619       0.69      0.488\n",
      "\n",
      "      Epoch    GPU_mem   box_loss   cls_loss   dfl_loss  Instances       Size\n"
     ]
    },
    {
     "name": "stderr",
     "output_type": "stream",
     "text": [
      "     52/100      1.47G      1.062      1.121      1.216        129        416: 100%|██████████| 506/506 [00:41<00:00, 1\n",
      "                 Class     Images  Instances      Box(P          R      mAP50  mAP50-95): 100%|██████████| 67/67 [00:09\n"
     ]
    },
    {
     "name": "stdout",
     "output_type": "stream",
     "text": [
      "                   all       2115       9223      0.709      0.634      0.691      0.489\n",
      "\n",
      "      Epoch    GPU_mem   box_loss   cls_loss   dfl_loss  Instances       Size\n"
     ]
    },
    {
     "name": "stderr",
     "output_type": "stream",
     "text": [
      "     53/100      1.47G      1.065      1.106      1.219        145        416: 100%|██████████| 506/506 [00:42<00:00, 1\n",
      "                 Class     Images  Instances      Box(P          R      mAP50  mAP50-95): 100%|██████████| 67/67 [00:10\n"
     ]
    },
    {
     "name": "stdout",
     "output_type": "stream",
     "text": [
      "                   all       2115       9223      0.684      0.631      0.697      0.493\n",
      "\n",
      "      Epoch    GPU_mem   box_loss   cls_loss   dfl_loss  Instances       Size\n"
     ]
    },
    {
     "name": "stderr",
     "output_type": "stream",
     "text": [
      "     54/100      1.45G      1.055      1.104      1.218        129        416: 100%|██████████| 506/506 [00:42<00:00, 1\n",
      "                 Class     Images  Instances      Box(P          R      mAP50  mAP50-95): 100%|██████████| 67/67 [00:10"
     ]
    },
    {
     "name": "stdout",
     "output_type": "stream",
     "text": [
      "                   all       2115       9223       0.69      0.626      0.697      0.491\n"
     ]
    },
    {
     "name": "stderr",
     "output_type": "stream",
     "text": [
      "\n"
     ]
    },
    {
     "name": "stdout",
     "output_type": "stream",
     "text": [
      "\n",
      "      Epoch    GPU_mem   box_loss   cls_loss   dfl_loss  Instances       Size\n"
     ]
    },
    {
     "name": "stderr",
     "output_type": "stream",
     "text": [
      "     55/100      1.46G      1.071      1.104       1.22        120        416: 100%|██████████| 506/506 [00:42<00:00, 1\n",
      "                 Class     Images  Instances      Box(P          R      mAP50  mAP50-95): 100%|██████████| 67/67 [00:09\n"
     ]
    },
    {
     "name": "stdout",
     "output_type": "stream",
     "text": [
      "                   all       2115       9223      0.669      0.678      0.693       0.49\n",
      "\n",
      "      Epoch    GPU_mem   box_loss   cls_loss   dfl_loss  Instances       Size\n"
     ]
    },
    {
     "name": "stderr",
     "output_type": "stream",
     "text": [
      "     56/100      1.45G       1.05      1.083      1.211         90        416: 100%|██████████| 506/506 [00:42<00:00, 1\n",
      "                 Class     Images  Instances      Box(P          R      mAP50  mAP50-95): 100%|██████████| 67/67 [00:09\n"
     ]
    },
    {
     "name": "stdout",
     "output_type": "stream",
     "text": [
      "                   all       2115       9223      0.671       0.68      0.703      0.503\n",
      "\n",
      "      Epoch    GPU_mem   box_loss   cls_loss   dfl_loss  Instances       Size\n"
     ]
    },
    {
     "name": "stderr",
     "output_type": "stream",
     "text": [
      "     57/100      1.46G      1.056       1.09      1.213         76        416: 100%|██████████| 506/506 [00:41<00:00, 1\n",
      "                 Class     Images  Instances      Box(P          R      mAP50  mAP50-95): 100%|██████████| 67/67 [00:09"
     ]
    },
    {
     "name": "stdout",
     "output_type": "stream",
     "text": [
      "                   all       2115       9223      0.653      0.681      0.704      0.498\n"
     ]
    },
    {
     "name": "stderr",
     "output_type": "stream",
     "text": [
      "\n"
     ]
    },
    {
     "name": "stdout",
     "output_type": "stream",
     "text": [
      "\n",
      "      Epoch    GPU_mem   box_loss   cls_loss   dfl_loss  Instances       Size\n"
     ]
    },
    {
     "name": "stderr",
     "output_type": "stream",
     "text": [
      "     58/100      1.46G      1.051      1.068      1.212         97        416: 100%|██████████| 506/506 [00:41<00:00, 1\n",
      "                 Class     Images  Instances      Box(P          R      mAP50  mAP50-95): 100%|██████████| 67/67 [00:09"
     ]
    },
    {
     "name": "stdout",
     "output_type": "stream",
     "text": [
      "                   all       2115       9223      0.672      0.674      0.718      0.516\n"
     ]
    },
    {
     "name": "stderr",
     "output_type": "stream",
     "text": [
      "\n"
     ]
    },
    {
     "name": "stdout",
     "output_type": "stream",
     "text": [
      "\n",
      "      Epoch    GPU_mem   box_loss   cls_loss   dfl_loss  Instances       Size\n"
     ]
    },
    {
     "name": "stderr",
     "output_type": "stream",
     "text": [
      "     59/100      1.47G      1.044      1.058      1.205        150        416: 100%|██████████| 506/506 [00:42<00:00, 1\n",
      "                 Class     Images  Instances      Box(P          R      mAP50  mAP50-95): 100%|██████████| 67/67 [00:09"
     ]
    },
    {
     "name": "stdout",
     "output_type": "stream",
     "text": [
      "                   all       2115       9223      0.685      0.656      0.713       0.51\n"
     ]
    },
    {
     "name": "stderr",
     "output_type": "stream",
     "text": [
      "\n"
     ]
    },
    {
     "name": "stdout",
     "output_type": "stream",
     "text": [
      "\n",
      "      Epoch    GPU_mem   box_loss   cls_loss   dfl_loss  Instances       Size\n"
     ]
    },
    {
     "name": "stderr",
     "output_type": "stream",
     "text": [
      "     60/100      1.62G      1.038      1.054        1.2        111        416: 100%|██████████| 506/506 [00:42<00:00, 1\n",
      "                 Class     Images  Instances      Box(P          R      mAP50  mAP50-95): 100%|██████████| 67/67 [00:10"
     ]
    },
    {
     "name": "stdout",
     "output_type": "stream",
     "text": [
      "                   all       2115       9223      0.647      0.696      0.712      0.507\n"
     ]
    },
    {
     "name": "stderr",
     "output_type": "stream",
     "text": [
      "\n"
     ]
    },
    {
     "name": "stdout",
     "output_type": "stream",
     "text": [
      "\n",
      "      Epoch    GPU_mem   box_loss   cls_loss   dfl_loss  Instances       Size\n"
     ]
    },
    {
     "name": "stderr",
     "output_type": "stream",
     "text": [
      "     61/100      1.47G      1.039      1.052      1.203        138        416: 100%|██████████| 506/506 [00:42<00:00, 1\n",
      "                 Class     Images  Instances      Box(P          R      mAP50  mAP50-95): 100%|██████████| 67/67 [00:09"
     ]
    },
    {
     "name": "stdout",
     "output_type": "stream",
     "text": [
      "                   all       2115       9223      0.718      0.647      0.713       0.51\n"
     ]
    },
    {
     "name": "stderr",
     "output_type": "stream",
     "text": [
      "\n"
     ]
    },
    {
     "name": "stdout",
     "output_type": "stream",
     "text": [
      "\n",
      "      Epoch    GPU_mem   box_loss   cls_loss   dfl_loss  Instances       Size\n"
     ]
    },
    {
     "name": "stderr",
     "output_type": "stream",
     "text": [
      "     62/100      1.47G      1.037      1.036      1.202        149        416: 100%|██████████| 506/506 [00:42<00:00, 1\n",
      "                 Class     Images  Instances      Box(P          R      mAP50  mAP50-95): 100%|██████████| 67/67 [00:10"
     ]
    },
    {
     "name": "stdout",
     "output_type": "stream",
     "text": [
      "                   all       2115       9223      0.701      0.651      0.723      0.517\n"
     ]
    },
    {
     "name": "stderr",
     "output_type": "stream",
     "text": [
      "\n"
     ]
    },
    {
     "name": "stdout",
     "output_type": "stream",
     "text": [
      "\n",
      "      Epoch    GPU_mem   box_loss   cls_loss   dfl_loss  Instances       Size\n"
     ]
    },
    {
     "name": "stderr",
     "output_type": "stream",
     "text": [
      "     63/100      1.43G      1.037       1.04      1.197        100        416: 100%|██████████| 506/506 [00:42<00:00, 1\n",
      "                 Class     Images  Instances      Box(P          R      mAP50  mAP50-95): 100%|██████████| 67/67 [00:09"
     ]
    },
    {
     "name": "stdout",
     "output_type": "stream",
     "text": [
      "                   all       2115       9223      0.681      0.664      0.706      0.507\n"
     ]
    },
    {
     "name": "stderr",
     "output_type": "stream",
     "text": [
      "\n"
     ]
    },
    {
     "name": "stdout",
     "output_type": "stream",
     "text": [
      "\n",
      "      Epoch    GPU_mem   box_loss   cls_loss   dfl_loss  Instances       Size\n"
     ]
    },
    {
     "name": "stderr",
     "output_type": "stream",
     "text": [
      "     64/100      1.47G      1.024      1.021      1.195         75        416: 100%|██████████| 506/506 [00:42<00:00, 1\n",
      "                 Class     Images  Instances      Box(P          R      mAP50  mAP50-95): 100%|██████████| 67/67 [00:09"
     ]
    },
    {
     "name": "stdout",
     "output_type": "stream",
     "text": [
      "                   all       2115       9223      0.737      0.653      0.725       0.52\n"
     ]
    },
    {
     "name": "stderr",
     "output_type": "stream",
     "text": [
      "\n"
     ]
    },
    {
     "name": "stdout",
     "output_type": "stream",
     "text": [
      "\n",
      "      Epoch    GPU_mem   box_loss   cls_loss   dfl_loss  Instances       Size\n"
     ]
    },
    {
     "name": "stderr",
     "output_type": "stream",
     "text": [
      "     65/100      1.47G      1.026      1.007      1.191        110        416: 100%|██████████| 506/506 [00:41<00:00, 1\n",
      "                 Class     Images  Instances      Box(P          R      mAP50  mAP50-95): 100%|██████████| 67/67 [00:10"
     ]
    },
    {
     "name": "stdout",
     "output_type": "stream",
     "text": [
      "                   all       2115       9223      0.731      0.638      0.722      0.518\n"
     ]
    },
    {
     "name": "stderr",
     "output_type": "stream",
     "text": [
      "\n"
     ]
    },
    {
     "name": "stdout",
     "output_type": "stream",
     "text": [
      "\n",
      "      Epoch    GPU_mem   box_loss   cls_loss   dfl_loss  Instances       Size\n"
     ]
    },
    {
     "name": "stderr",
     "output_type": "stream",
     "text": [
      "     66/100      1.56G      1.026       1.01      1.186         88        416: 100%|██████████| 506/506 [00:42<00:00, 1\n",
      "                 Class     Images  Instances      Box(P          R      mAP50  mAP50-95): 100%|██████████| 67/67 [00:09"
     ]
    },
    {
     "name": "stdout",
     "output_type": "stream",
     "text": [
      "                   all       2115       9223      0.724      0.663      0.732      0.525\n"
     ]
    },
    {
     "name": "stderr",
     "output_type": "stream",
     "text": [
      "\n"
     ]
    },
    {
     "name": "stdout",
     "output_type": "stream",
     "text": [
      "\n",
      "      Epoch    GPU_mem   box_loss   cls_loss   dfl_loss  Instances       Size\n"
     ]
    },
    {
     "name": "stderr",
     "output_type": "stream",
     "text": [
      "     67/100      1.49G      1.018      1.014       1.19         85        416: 100%|██████████| 506/506 [00:42<00:00, 1\n",
      "                 Class     Images  Instances      Box(P          R      mAP50  mAP50-95): 100%|██████████| 67/67 [00:09"
     ]
    },
    {
     "name": "stdout",
     "output_type": "stream",
     "text": [
      "                   all       2115       9223      0.706      0.671      0.733      0.526\n"
     ]
    },
    {
     "name": "stderr",
     "output_type": "stream",
     "text": [
      "\n"
     ]
    },
    {
     "name": "stdout",
     "output_type": "stream",
     "text": [
      "\n",
      "      Epoch    GPU_mem   box_loss   cls_loss   dfl_loss  Instances       Size\n"
     ]
    },
    {
     "name": "stderr",
     "output_type": "stream",
     "text": [
      "     68/100       1.5G      1.018     0.9935      1.183        120        416: 100%|██████████| 506/506 [00:41<00:00, 1\n",
      "                 Class     Images  Instances      Box(P          R      mAP50  mAP50-95): 100%|██████████| 67/67 [00:09"
     ]
    },
    {
     "name": "stdout",
     "output_type": "stream",
     "text": [
      "                   all       2115       9223      0.698      0.684      0.736      0.526\n"
     ]
    },
    {
     "name": "stderr",
     "output_type": "stream",
     "text": [
      "\n"
     ]
    },
    {
     "name": "stdout",
     "output_type": "stream",
     "text": [
      "\n",
      "      Epoch    GPU_mem   box_loss   cls_loss   dfl_loss  Instances       Size\n"
     ]
    },
    {
     "name": "stderr",
     "output_type": "stream",
     "text": [
      "     69/100      1.46G      1.007     0.9953      1.185         87        416: 100%|██████████| 506/506 [00:41<00:00, 1\n",
      "                 Class     Images  Instances      Box(P          R      mAP50  mAP50-95): 100%|██████████| 67/67 [00:09"
     ]
    },
    {
     "name": "stdout",
     "output_type": "stream",
     "text": [
      "                   all       2115       9223      0.707      0.673      0.733      0.528\n"
     ]
    },
    {
     "name": "stderr",
     "output_type": "stream",
     "text": [
      "\n"
     ]
    },
    {
     "name": "stdout",
     "output_type": "stream",
     "text": [
      "\n",
      "      Epoch    GPU_mem   box_loss   cls_loss   dfl_loss  Instances       Size\n"
     ]
    },
    {
     "name": "stderr",
     "output_type": "stream",
     "text": [
      "     70/100      1.46G      1.006     0.9688      1.177         96        416: 100%|██████████| 506/506 [00:41<00:00, 1\n",
      "                 Class     Images  Instances      Box(P          R      mAP50  mAP50-95): 100%|██████████| 67/67 [00:09"
     ]
    },
    {
     "name": "stdout",
     "output_type": "stream",
     "text": [
      "                   all       2115       9223      0.717      0.658      0.736      0.528\n"
     ]
    },
    {
     "name": "stderr",
     "output_type": "stream",
     "text": [
      "\n"
     ]
    },
    {
     "name": "stdout",
     "output_type": "stream",
     "text": [
      "\n",
      "      Epoch    GPU_mem   box_loss   cls_loss   dfl_loss  Instances       Size\n"
     ]
    },
    {
     "name": "stderr",
     "output_type": "stream",
     "text": [
      "     71/100      1.47G      1.003     0.9745      1.181        122        416: 100%|██████████| 506/506 [00:41<00:00, 1\n",
      "                 Class     Images  Instances      Box(P          R      mAP50  mAP50-95): 100%|██████████| 67/67 [00:09"
     ]
    },
    {
     "name": "stdout",
     "output_type": "stream",
     "text": [
      "                   all       2115       9223      0.727      0.668      0.736       0.53\n"
     ]
    },
    {
     "name": "stderr",
     "output_type": "stream",
     "text": [
      "\n"
     ]
    },
    {
     "name": "stdout",
     "output_type": "stream",
     "text": [
      "\n",
      "      Epoch    GPU_mem   box_loss   cls_loss   dfl_loss  Instances       Size\n"
     ]
    },
    {
     "name": "stderr",
     "output_type": "stream",
     "text": [
      "     72/100      1.47G       1.01     0.9775      1.184        134        416: 100%|██████████| 506/506 [00:41<00:00, 1\n",
      "                 Class     Images  Instances      Box(P          R      mAP50  mAP50-95): 100%|██████████| 67/67 [00:09"
     ]
    },
    {
     "name": "stdout",
     "output_type": "stream",
     "text": [
      "                   all       2115       9223       0.71      0.683      0.735      0.533\n"
     ]
    },
    {
     "name": "stderr",
     "output_type": "stream",
     "text": [
      "\n"
     ]
    },
    {
     "name": "stdout",
     "output_type": "stream",
     "text": [
      "\n",
      "      Epoch    GPU_mem   box_loss   cls_loss   dfl_loss  Instances       Size\n"
     ]
    },
    {
     "name": "stderr",
     "output_type": "stream",
     "text": [
      "     73/100      1.47G      1.002     0.9681      1.178         90        416: 100%|██████████| 506/506 [00:41<00:00, 1\n",
      "                 Class     Images  Instances      Box(P          R      mAP50  mAP50-95): 100%|██████████| 67/67 [00:09"
     ]
    },
    {
     "name": "stdout",
     "output_type": "stream",
     "text": [
      "                   all       2115       9223      0.749      0.676       0.74      0.536\n"
     ]
    },
    {
     "name": "stderr",
     "output_type": "stream",
     "text": [
      "\n"
     ]
    },
    {
     "name": "stdout",
     "output_type": "stream",
     "text": [
      "\n",
      "      Epoch    GPU_mem   box_loss   cls_loss   dfl_loss  Instances       Size\n"
     ]
    },
    {
     "name": "stderr",
     "output_type": "stream",
     "text": [
      "     74/100      1.43G     0.9937     0.9531      1.173         69        416: 100%|██████████| 506/506 [00:41<00:00, 1\n",
      "                 Class     Images  Instances      Box(P          R      mAP50  mAP50-95): 100%|██████████| 67/67 [00:09"
     ]
    },
    {
     "name": "stdout",
     "output_type": "stream",
     "text": [
      "                   all       2115       9223      0.763      0.668      0.744       0.54\n"
     ]
    },
    {
     "name": "stderr",
     "output_type": "stream",
     "text": [
      "\n"
     ]
    },
    {
     "name": "stdout",
     "output_type": "stream",
     "text": [
      "\n",
      "      Epoch    GPU_mem   box_loss   cls_loss   dfl_loss  Instances       Size\n"
     ]
    },
    {
     "name": "stderr",
     "output_type": "stream",
     "text": [
      "     75/100      1.47G     0.9951     0.9559      1.177         62        416: 100%|██████████| 506/506 [00:41<00:00, 1\n",
      "                 Class     Images  Instances      Box(P          R      mAP50  mAP50-95): 100%|██████████| 67/67 [00:09"
     ]
    },
    {
     "name": "stdout",
     "output_type": "stream",
     "text": [
      "                   all       2115       9223      0.708      0.707      0.748      0.542\n"
     ]
    },
    {
     "name": "stderr",
     "output_type": "stream",
     "text": [
      "\n"
     ]
    },
    {
     "name": "stdout",
     "output_type": "stream",
     "text": [
      "\n",
      "      Epoch    GPU_mem   box_loss   cls_loss   dfl_loss  Instances       Size\n"
     ]
    },
    {
     "name": "stderr",
     "output_type": "stream",
     "text": [
      "     76/100      1.47G     0.9924     0.9506      1.176        126        416: 100%|██████████| 506/506 [00:41<00:00, 1\n",
      "                 Class     Images  Instances      Box(P          R      mAP50  mAP50-95): 100%|██████████| 67/67 [00:09"
     ]
    },
    {
     "name": "stdout",
     "output_type": "stream",
     "text": [
      "                   all       2115       9223      0.737      0.677      0.749      0.542\n"
     ]
    },
    {
     "name": "stderr",
     "output_type": "stream",
     "text": [
      "\n"
     ]
    },
    {
     "name": "stdout",
     "output_type": "stream",
     "text": [
      "\n",
      "      Epoch    GPU_mem   box_loss   cls_loss   dfl_loss  Instances       Size\n"
     ]
    },
    {
     "name": "stderr",
     "output_type": "stream",
     "text": [
      "     77/100      1.43G     0.9844     0.9371       1.17        118        416: 100%|██████████| 506/506 [00:41<00:00, 1\n",
      "                 Class     Images  Instances      Box(P          R      mAP50  mAP50-95): 100%|██████████| 67/67 [00:09"
     ]
    },
    {
     "name": "stdout",
     "output_type": "stream",
     "text": [
      "                   all       2115       9223      0.705      0.709      0.753      0.545\n"
     ]
    },
    {
     "name": "stderr",
     "output_type": "stream",
     "text": [
      "\n"
     ]
    },
    {
     "name": "stdout",
     "output_type": "stream",
     "text": [
      "\n",
      "      Epoch    GPU_mem   box_loss   cls_loss   dfl_loss  Instances       Size\n"
     ]
    },
    {
     "name": "stderr",
     "output_type": "stream",
     "text": [
      "     78/100      1.45G     0.9888     0.9351       1.17        127        416: 100%|██████████| 506/506 [00:41<00:00, 1\n",
      "                 Class     Images  Instances      Box(P          R      mAP50  mAP50-95): 100%|██████████| 67/67 [00:09"
     ]
    },
    {
     "name": "stdout",
     "output_type": "stream",
     "text": [
      "                   all       2115       9223      0.703      0.708      0.751      0.542\n"
     ]
    },
    {
     "name": "stderr",
     "output_type": "stream",
     "text": [
      "\n"
     ]
    },
    {
     "name": "stdout",
     "output_type": "stream",
     "text": [
      "\n",
      "      Epoch    GPU_mem   box_loss   cls_loss   dfl_loss  Instances       Size\n"
     ]
    },
    {
     "name": "stderr",
     "output_type": "stream",
     "text": [
      "     79/100      1.43G     0.9855     0.9311       1.17         80        416: 100%|██████████| 506/506 [00:41<00:00, 1\n",
      "                 Class     Images  Instances      Box(P          R      mAP50  mAP50-95): 100%|██████████| 67/67 [00:09"
     ]
    },
    {
     "name": "stdout",
     "output_type": "stream",
     "text": [
      "                   all       2115       9223      0.744      0.681      0.747      0.538\n"
     ]
    },
    {
     "name": "stderr",
     "output_type": "stream",
     "text": [
      "\n"
     ]
    },
    {
     "name": "stdout",
     "output_type": "stream",
     "text": [
      "\n",
      "      Epoch    GPU_mem   box_loss   cls_loss   dfl_loss  Instances       Size\n"
     ]
    },
    {
     "name": "stderr",
     "output_type": "stream",
     "text": [
      "     80/100      1.46G     0.9779     0.9245      1.166        127        416: 100%|██████████| 506/506 [00:41<00:00, 1\n",
      "                 Class     Images  Instances      Box(P          R      mAP50  mAP50-95): 100%|██████████| 67/67 [00:09"
     ]
    },
    {
     "name": "stdout",
     "output_type": "stream",
     "text": [
      "                   all       2115       9223      0.735      0.694       0.75      0.539\n"
     ]
    },
    {
     "name": "stderr",
     "output_type": "stream",
     "text": [
      "\n"
     ]
    },
    {
     "name": "stdout",
     "output_type": "stream",
     "text": [
      "\n",
      "      Epoch    GPU_mem   box_loss   cls_loss   dfl_loss  Instances       Size\n"
     ]
    },
    {
     "name": "stderr",
     "output_type": "stream",
     "text": [
      "     81/100      1.43G     0.9844     0.9315      1.163        150        416: 100%|██████████| 506/506 [00:41<00:00, 1\n",
      "                 Class     Images  Instances      Box(P          R      mAP50  mAP50-95): 100%|██████████| 67/67 [00:09"
     ]
    },
    {
     "name": "stdout",
     "output_type": "stream",
     "text": [
      "                   all       2115       9223      0.715      0.711      0.751      0.544\n"
     ]
    },
    {
     "name": "stderr",
     "output_type": "stream",
     "text": [
      "\n"
     ]
    },
    {
     "name": "stdout",
     "output_type": "stream",
     "text": [
      "\n",
      "      Epoch    GPU_mem   box_loss   cls_loss   dfl_loss  Instances       Size\n"
     ]
    },
    {
     "name": "stderr",
     "output_type": "stream",
     "text": [
      "     82/100      1.47G     0.9869     0.9262      1.168        125        416: 100%|██████████| 506/506 [00:41<00:00, 1\n",
      "                 Class     Images  Instances      Box(P          R      mAP50  mAP50-95): 100%|██████████| 67/67 [00:09"
     ]
    },
    {
     "name": "stdout",
     "output_type": "stream",
     "text": [
      "                   all       2115       9223      0.717      0.717      0.756      0.544\n"
     ]
    },
    {
     "name": "stderr",
     "output_type": "stream",
     "text": [
      "\n"
     ]
    },
    {
     "name": "stdout",
     "output_type": "stream",
     "text": [
      "\n",
      "      Epoch    GPU_mem   box_loss   cls_loss   dfl_loss  Instances       Size\n"
     ]
    },
    {
     "name": "stderr",
     "output_type": "stream",
     "text": [
      "     83/100      1.47G     0.9713        0.9       1.16         99        416: 100%|██████████| 506/506 [00:41<00:00, 1\n",
      "                 Class     Images  Instances      Box(P          R      mAP50  mAP50-95): 100%|██████████| 67/67 [00:09\n"
     ]
    },
    {
     "name": "stdout",
     "output_type": "stream",
     "text": [
      "                   all       2115       9223      0.746      0.691      0.757      0.545\n",
      "\n",
      "      Epoch    GPU_mem   box_loss   cls_loss   dfl_loss  Instances       Size\n"
     ]
    },
    {
     "name": "stderr",
     "output_type": "stream",
     "text": [
      "     84/100      1.47G      0.971     0.8994       1.16         99        416: 100%|██████████| 506/506 [00:42<00:00, 1\n",
      "                 Class     Images  Instances      Box(P          R      mAP50  mAP50-95): 100%|██████████| 67/67 [00:09"
     ]
    },
    {
     "name": "stdout",
     "output_type": "stream",
     "text": [
      "                   all       2115       9223      0.746       0.69      0.754      0.544\n"
     ]
    },
    {
     "name": "stderr",
     "output_type": "stream",
     "text": [
      "\n"
     ]
    },
    {
     "name": "stdout",
     "output_type": "stream",
     "text": [
      "\n",
      "      Epoch    GPU_mem   box_loss   cls_loss   dfl_loss  Instances       Size\n"
     ]
    },
    {
     "name": "stderr",
     "output_type": "stream",
     "text": [
      "     85/100      1.46G     0.9703     0.9013       1.16        120        416: 100%|██████████| 506/506 [00:42<00:00, 1\n",
      "                 Class     Images  Instances      Box(P          R      mAP50  mAP50-95): 100%|██████████| 67/67 [00:09"
     ]
    },
    {
     "name": "stdout",
     "output_type": "stream",
     "text": [
      "                   all       2115       9223      0.774      0.672      0.753      0.544\n"
     ]
    },
    {
     "name": "stderr",
     "output_type": "stream",
     "text": [
      "\n"
     ]
    },
    {
     "name": "stdout",
     "output_type": "stream",
     "text": [
      "\n",
      "      Epoch    GPU_mem   box_loss   cls_loss   dfl_loss  Instances       Size\n"
     ]
    },
    {
     "name": "stderr",
     "output_type": "stream",
     "text": [
      "     86/100      1.43G     0.9654     0.8925      1.157        125        416: 100%|██████████| 506/506 [00:42<00:00, 1\n",
      "                 Class     Images  Instances      Box(P          R      mAP50  mAP50-95): 100%|██████████| 67/67 [00:09"
     ]
    },
    {
     "name": "stdout",
     "output_type": "stream",
     "text": [
      "                   all       2115       9223       0.76      0.681      0.754      0.546\n"
     ]
    },
    {
     "name": "stderr",
     "output_type": "stream",
     "text": [
      "\n"
     ]
    },
    {
     "name": "stdout",
     "output_type": "stream",
     "text": [
      "\n",
      "      Epoch    GPU_mem   box_loss   cls_loss   dfl_loss  Instances       Size\n"
     ]
    },
    {
     "name": "stderr",
     "output_type": "stream",
     "text": [
      "     87/100      1.47G     0.9643     0.8884      1.158         73        416: 100%|██████████| 506/506 [00:42<00:00, 1\n",
      "                 Class     Images  Instances      Box(P          R      mAP50  mAP50-95): 100%|██████████| 67/67 [00:09"
     ]
    },
    {
     "name": "stdout",
     "output_type": "stream",
     "text": [
      "                   all       2115       9223      0.755      0.688      0.754      0.544\n"
     ]
    },
    {
     "name": "stderr",
     "output_type": "stream",
     "text": [
      "\n"
     ]
    },
    {
     "name": "stdout",
     "output_type": "stream",
     "text": [
      "\n",
      "      Epoch    GPU_mem   box_loss   cls_loss   dfl_loss  Instances       Size\n"
     ]
    },
    {
     "name": "stderr",
     "output_type": "stream",
     "text": [
      "     88/100      1.47G     0.9582     0.8786      1.154        139        416: 100%|██████████| 506/506 [00:42<00:00, 1\n",
      "                 Class     Images  Instances      Box(P          R      mAP50  mAP50-95): 100%|██████████| 67/67 [00:09"
     ]
    },
    {
     "name": "stdout",
     "output_type": "stream",
     "text": [
      "                   all       2115       9223      0.768      0.677      0.754      0.545\n"
     ]
    },
    {
     "name": "stderr",
     "output_type": "stream",
     "text": [
      "\n"
     ]
    },
    {
     "name": "stdout",
     "output_type": "stream",
     "text": [
      "\n",
      "      Epoch    GPU_mem   box_loss   cls_loss   dfl_loss  Instances       Size\n"
     ]
    },
    {
     "name": "stderr",
     "output_type": "stream",
     "text": [
      "     89/100      1.47G     0.9591     0.8788      1.154        135        416: 100%|██████████| 506/506 [00:42<00:00, 1\n",
      "                 Class     Images  Instances      Box(P          R      mAP50  mAP50-95): 100%|██████████| 67/67 [00:09"
     ]
    },
    {
     "name": "stdout",
     "output_type": "stream",
     "text": [
      "                   all       2115       9223      0.765      0.685      0.755      0.546\n"
     ]
    },
    {
     "name": "stderr",
     "output_type": "stream",
     "text": [
      "\n"
     ]
    },
    {
     "name": "stdout",
     "output_type": "stream",
     "text": [
      "\n",
      "      Epoch    GPU_mem   box_loss   cls_loss   dfl_loss  Instances       Size\n"
     ]
    },
    {
     "name": "stderr",
     "output_type": "stream",
     "text": [
      "     90/100      1.46G     0.9551     0.8658      1.155         84        416: 100%|██████████| 506/506 [00:42<00:00, 1\n",
      "                 Class     Images  Instances      Box(P          R      mAP50  mAP50-95): 100%|██████████| 67/67 [00:09"
     ]
    },
    {
     "name": "stdout",
     "output_type": "stream",
     "text": [
      "                   all       2115       9223      0.752      0.691      0.754      0.543\n"
     ]
    },
    {
     "name": "stderr",
     "output_type": "stream",
     "text": [
      "\n"
     ]
    },
    {
     "name": "stdout",
     "output_type": "stream",
     "text": [
      "Closing dataloader mosaic\n",
      "\n",
      "      Epoch    GPU_mem   box_loss   cls_loss   dfl_loss  Instances       Size\n"
     ]
    },
    {
     "name": "stderr",
     "output_type": "stream",
     "text": [
      "     91/100      1.43G     0.9342     0.7638      1.155         78        416: 100%|██████████| 506/506 [00:43<00:00, 1\n",
      "                 Class     Images  Instances      Box(P          R      mAP50  mAP50-95): 100%|██████████| 67/67 [00:09"
     ]
    },
    {
     "name": "stdout",
     "output_type": "stream",
     "text": [
      "                   all       2115       9223      0.747      0.691      0.753      0.543\n"
     ]
    },
    {
     "name": "stderr",
     "output_type": "stream",
     "text": [
      "\n"
     ]
    },
    {
     "name": "stdout",
     "output_type": "stream",
     "text": [
      "\n",
      "      Epoch    GPU_mem   box_loss   cls_loss   dfl_loss  Instances       Size\n"
     ]
    },
    {
     "name": "stderr",
     "output_type": "stream",
     "text": [
      "     92/100      1.43G     0.9257     0.7459      1.155         68        416: 100%|██████████| 506/506 [00:41<00:00, 1\n",
      "                 Class     Images  Instances      Box(P          R      mAP50  mAP50-95): 100%|██████████| 67/67 [00:09"
     ]
    },
    {
     "name": "stdout",
     "output_type": "stream",
     "text": [
      "                   all       2115       9223      0.743      0.693      0.754      0.544\n"
     ]
    },
    {
     "name": "stderr",
     "output_type": "stream",
     "text": [
      "\n"
     ]
    },
    {
     "name": "stdout",
     "output_type": "stream",
     "text": [
      "\n",
      "      Epoch    GPU_mem   box_loss   cls_loss   dfl_loss  Instances       Size\n"
     ]
    },
    {
     "name": "stderr",
     "output_type": "stream",
     "text": [
      "     93/100      1.45G     0.9221     0.7339       1.15         23        416: 100%|██████████| 506/506 [00:41<00:00, 1\n",
      "                 Class     Images  Instances      Box(P          R      mAP50  mAP50-95): 100%|██████████| 67/67 [00:09"
     ]
    },
    {
     "name": "stdout",
     "output_type": "stream",
     "text": [
      "                   all       2115       9223      0.763      0.682      0.754      0.544\n"
     ]
    },
    {
     "name": "stderr",
     "output_type": "stream",
     "text": [
      "\n"
     ]
    },
    {
     "name": "stdout",
     "output_type": "stream",
     "text": [
      "\n",
      "      Epoch    GPU_mem   box_loss   cls_loss   dfl_loss  Instances       Size\n"
     ]
    },
    {
     "name": "stderr",
     "output_type": "stream",
     "text": [
      "     94/100      1.47G     0.9092     0.7213      1.149         90        416: 100%|██████████| 506/506 [00:41<00:00, 1\n",
      "                 Class     Images  Instances      Box(P          R      mAP50  mAP50-95): 100%|██████████| 67/67 [00:09"
     ]
    },
    {
     "name": "stdout",
     "output_type": "stream",
     "text": [
      "                   all       2115       9223      0.758      0.693      0.755      0.546\n"
     ]
    },
    {
     "name": "stderr",
     "output_type": "stream",
     "text": [
      "\n"
     ]
    },
    {
     "name": "stdout",
     "output_type": "stream",
     "text": [
      "\n",
      "      Epoch    GPU_mem   box_loss   cls_loss   dfl_loss  Instances       Size\n"
     ]
    },
    {
     "name": "stderr",
     "output_type": "stream",
     "text": [
      "     95/100      1.43G     0.9085      0.717      1.147         90        416: 100%|██████████| 506/506 [00:41<00:00, 1\n",
      "                 Class     Images  Instances      Box(P          R      mAP50  mAP50-95): 100%|██████████| 67/67 [00:09"
     ]
    },
    {
     "name": "stdout",
     "output_type": "stream",
     "text": [
      "                   all       2115       9223      0.755      0.697      0.757      0.546\n"
     ]
    },
    {
     "name": "stderr",
     "output_type": "stream",
     "text": [
      "\n"
     ]
    },
    {
     "name": "stdout",
     "output_type": "stream",
     "text": [
      "\n",
      "      Epoch    GPU_mem   box_loss   cls_loss   dfl_loss  Instances       Size\n"
     ]
    },
    {
     "name": "stderr",
     "output_type": "stream",
     "text": [
      "     96/100      1.43G     0.9054     0.7114      1.141         51        416: 100%|██████████| 506/506 [00:41<00:00, 1\n",
      "                 Class     Images  Instances      Box(P          R      mAP50  mAP50-95): 100%|██████████| 67/67 [00:10"
     ]
    },
    {
     "name": "stdout",
     "output_type": "stream",
     "text": [
      "                   all       2115       9223       0.75      0.702       0.76      0.549\n"
     ]
    },
    {
     "name": "stderr",
     "output_type": "stream",
     "text": [
      "\n"
     ]
    },
    {
     "name": "stdout",
     "output_type": "stream",
     "text": [
      "\n",
      "      Epoch    GPU_mem   box_loss   cls_loss   dfl_loss  Instances       Size\n"
     ]
    },
    {
     "name": "stderr",
     "output_type": "stream",
     "text": [
      "     97/100      1.43G     0.8995     0.7048      1.134         84        416: 100%|██████████| 506/506 [00:41<00:00, 1\n",
      "                 Class     Images  Instances      Box(P          R      mAP50  mAP50-95): 100%|██████████| 67/67 [00:09"
     ]
    },
    {
     "name": "stdout",
     "output_type": "stream",
     "text": [
      "                   all       2115       9223      0.758      0.703      0.763      0.551\n"
     ]
    },
    {
     "name": "stderr",
     "output_type": "stream",
     "text": [
      "\n"
     ]
    },
    {
     "name": "stdout",
     "output_type": "stream",
     "text": [
      "\n",
      "      Epoch    GPU_mem   box_loss   cls_loss   dfl_loss  Instances       Size\n"
     ]
    },
    {
     "name": "stderr",
     "output_type": "stream",
     "text": [
      "     98/100      1.45G     0.8968     0.6972       1.14         70        416: 100%|██████████| 506/506 [00:41<00:00, 1\n",
      "                 Class     Images  Instances      Box(P          R      mAP50  mAP50-95): 100%|██████████| 67/67 [00:09"
     ]
    },
    {
     "name": "stdout",
     "output_type": "stream",
     "text": [
      "                   all       2115       9223      0.757      0.706      0.759       0.55\n"
     ]
    },
    {
     "name": "stderr",
     "output_type": "stream",
     "text": [
      "\n"
     ]
    },
    {
     "name": "stdout",
     "output_type": "stream",
     "text": [
      "\n",
      "      Epoch    GPU_mem   box_loss   cls_loss   dfl_loss  Instances       Size\n"
     ]
    },
    {
     "name": "stderr",
     "output_type": "stream",
     "text": [
      "     99/100      1.43G     0.8919     0.6933      1.136         49        416: 100%|██████████| 506/506 [00:41<00:00, 1\n",
      "                 Class     Images  Instances      Box(P          R      mAP50  mAP50-95): 100%|██████████| 67/67 [00:09"
     ]
    },
    {
     "name": "stdout",
     "output_type": "stream",
     "text": [
      "                   all       2115       9223      0.747      0.713      0.759       0.55\n"
     ]
    },
    {
     "name": "stderr",
     "output_type": "stream",
     "text": [
      "\n"
     ]
    },
    {
     "name": "stdout",
     "output_type": "stream",
     "text": [
      "\n",
      "      Epoch    GPU_mem   box_loss   cls_loss   dfl_loss  Instances       Size\n"
     ]
    },
    {
     "name": "stderr",
     "output_type": "stream",
     "text": [
      "    100/100      1.43G     0.8847     0.6822      1.131        105        416: 100%|██████████| 506/506 [00:41<00:00, 1\n",
      "                 Class     Images  Instances      Box(P          R      mAP50  mAP50-95): 100%|██████████| 67/67 [00:09"
     ]
    },
    {
     "name": "stdout",
     "output_type": "stream",
     "text": [
      "                   all       2115       9223       0.75      0.709      0.761      0.551\n"
     ]
    },
    {
     "name": "stderr",
     "output_type": "stream",
     "text": [
      "\n"
     ]
    },
    {
     "name": "stdout",
     "output_type": "stream",
     "text": [
      "\n",
      "100 epochs completed in 1.477 hours.\n",
      "Optimizer stripped from runs\\detect\\train12\\weights\\last.pt, 6.9MB\n",
      "Optimizer stripped from runs\\detect\\train12\\weights\\best.pt, 6.9MB\n",
      "\n",
      "Validating runs\\detect\\train12\\weights\\best.pt...\n",
      "Ultralytics YOLOv8.2.51  Python-3.9.7 torch-2.3.1 CUDA:0 (NVIDIA GeForce RTX 4080 SUPER, 16375MiB)\n",
      "Model summary (fused): 168 layers, 3361631 parameters, 0 gradients, 9.7 GFLOPs\n"
     ]
    },
    {
     "name": "stderr",
     "output_type": "stream",
     "text": [
      "                 Class     Images  Instances      Box(P          R      mAP50  mAP50-95): 100%|██████████| 67/67 [00:12\n"
     ]
    },
    {
     "name": "stdout",
     "output_type": "stream",
     "text": [
      "                   all       2115       9223      0.759      0.703      0.763      0.552\n",
      "          10_tangerine         28        145      0.671       0.76      0.772        0.6\n",
      "                 Apple         40        151      0.915      0.785      0.875      0.522\n",
      "                Banana         31        100      0.908       0.75      0.828      0.418\n",
      "              Cucumber         40        105      0.795      0.724      0.802      0.368\n",
      "              Mushroom        100        292      0.631      0.287       0.37      0.205\n",
      "                Orange         40        152       0.92      0.855      0.928      0.568\n",
      "                Tomato         40        127      0.931      0.743      0.888      0.444\n",
      "              ampalaya          3          4       0.84       0.75      0.754      0.574\n",
      "                 apple         89         98      0.879      0.867      0.923      0.702\n",
      "             asparagus         41         76      0.687      0.347      0.462      0.242\n",
      "               avocado         89        146      0.789      0.717      0.805      0.595\n",
      "                banana        213        333      0.852      0.865      0.906      0.673\n",
      "                  beef        209        271      0.779      0.797      0.864      0.572\n",
      "           bell pepper         13         59      0.364      0.746      0.573      0.318\n",
      "           bell_pepper         28         28      0.855      0.821      0.912      0.825\n",
      "          bitter gourd         10         33       0.53      0.364      0.344      0.122\n",
      "           blueberries        123        123       0.97      0.902      0.948       0.64\n",
      "              bok choy         17         49      0.753      0.435      0.644      0.271\n",
      "                 bread         58         58      0.743      0.569      0.641      0.537\n",
      "              broccoli         33         53      0.826      0.806      0.874      0.675\n",
      "                butter        182        182      0.964      0.984      0.994      0.824\n",
      "               cabbage         29         38      0.849      0.947      0.935       0.77\n",
      "           canned_tuna          1          1          1          0      0.497      0.348\n",
      "                carrot        231        307      0.734      0.853      0.854      0.653\n",
      "                cashew         14         94      0.645      0.619      0.642       0.25\n",
      "           cauliflower         14         17      0.809      0.748      0.797      0.534\n",
      "                cheese        211        221      0.829      0.824      0.888      0.648\n",
      "               chicken        230        257       0.89      0.907      0.944      0.754\n",
      "        chicken breast         20         38      0.652      0.641      0.748      0.391\n",
      "         chicken thigh         18         31       0.71      0.903      0.892      0.662\n",
      "          chicken wing         13         34       0.56      0.353      0.439       0.27\n",
      "        chicken_breast         16         16      0.905      0.375      0.694      0.415\n",
      "                chilli         13         55      0.489      0.157      0.279      0.157\n",
      "             chocolate         18         18          1          0      0.184      0.145\n",
      "                  corn        169        230      0.864      0.848      0.923       0.65\n",
      "                  crab         11         18      0.869      0.371      0.413      0.241\n",
      "              cucumber         39         96      0.695      0.617      0.701      0.501\n",
      "                   egg         69        131       0.77      0.641      0.734      0.522\n",
      "                  egg_         13         61      0.531       0.77      0.608      0.495\n",
      "              eggplant         19         19          1      0.881      0.962      0.962\n",
      "                  eggs         39         39      0.968       0.59      0.832      0.593\n",
      "                  fish          9         16      0.614      0.812      0.801      0.348\n",
      "             fish_cake          4          4      0.489          1      0.745       0.63\n",
      "                 flour        143        178      0.988      0.962      0.992      0.736\n",
      "          french_fries          1          1      0.768          1      0.995      0.697\n",
      "                garlic         24         70      0.635      0.671      0.663      0.449\n",
      "                ginger         40         57      0.742      0.807      0.832      0.692\n",
      "           goat_cheese         99         99       0.93      0.869      0.964      0.647\n",
      "                grapes         11         20      0.658       0.75      0.741       0.43\n",
      "         grated_cheese         10         14      0.443      0.118      0.178     0.0772\n",
      "          green chilli         18         69       0.47      0.552      0.456      0.303\n",
      "           green_beans        102        102      0.867      0.922      0.957      0.677\n",
      "           green_onion          2          2        0.8          1      0.995      0.697\n",
      "           ground_beef         69         69      0.918      0.957       0.97      0.652\n",
      "             guacamole          4          4      0.425       0.25      0.426      0.303\n",
      "                   ham        116        116      0.973      0.966      0.988      0.673\n",
      "            hash_brown          1          1      0.699          1      0.995      0.895\n",
      "           heavy_cream        131        131      0.963      0.962      0.986      0.741\n",
      "                 humus         20         28       0.74       0.75      0.765      0.428\n",
      "               ketchup          4          4      0.701      0.602      0.895      0.724\n",
      "                  kiwi         19         19      0.952          1      0.995       0.99\n",
      "                  leek          2          2          1          0      0.169      0.101\n",
      "                 lemon         42         83       0.71      0.648        0.7      0.533\n",
      "               lettuce         29         32       0.82      0.781      0.826      0.764\n",
      "                  lime        158        167      0.917      0.862      0.913      0.625\n",
      "         lobster tails         11         28       0.78      0.128      0.406      0.192\n",
      "                 mango         16         49      0.613      0.613      0.688      0.583\n",
      "             marmelade          3          3      0.634          1      0.995      0.697\n",
      "             mayonaise         14         14      0.664      0.643       0.77       0.38\n",
      "            mayonnaise          2          2      0.298        0.5      0.662      0.339\n",
      "                  milk        147        200      0.909      0.855      0.926      0.707\n",
      "     mozzarella cheese          6          6      0.586          1      0.942      0.711\n",
      "             mushrooms         94         94      0.872      0.851      0.926      0.634\n",
      "               mustard          2          2      0.952          1      0.995      0.746\n",
      "           nacho_chips          2          2      0.628          1      0.995      0.598\n",
      "                 onion        125        195      0.858      0.713      0.783      0.601\n",
      "                orange         10         36      0.538      0.472      0.544      0.383\n",
      "               oysters         12         87      0.779      0.805      0.796      0.543\n",
      "              pak_choi          7          7      0.415      0.714      0.722      0.502\n",
      "       parmasan_cheese          1          1      0.659          1      0.995      0.995\n",
      "                 pasta          1          1      0.282          1      0.332      0.298\n",
      "                pawpaw          1          2          0          0          0          0\n",
      "                pepper          2          2      0.714          1      0.995      0.349\n",
      "               pimento          2          2          1      0.869      0.995      0.698\n",
      "             pineapple         30         40      0.875      0.697      0.774      0.477\n",
      "             plantains          3          4          1          0       0.28      0.202\n",
      "                  pork         59        164      0.668        0.6      0.656       0.42\n",
      "            pork belly         13         29      0.569      0.448      0.515      0.288\n",
      "                potato        270        459      0.872      0.933      0.965      0.803\n",
      "               pumpkin         11         19      0.702      0.868      0.905      0.808\n",
      "                radish         19         19          1      0.982      0.995      0.995\n",
      "             red chili         14         40      0.399        0.7      0.547      0.409\n"
     ]
    },
    {
     "name": "stdout",
     "output_type": "stream",
     "text": [
      "                  rice         13         13      0.889      0.769      0.818      0.538\n",
      "                 salad         21         23       0.66      0.696      0.682      0.454\n",
      "                salmon         17         27      0.809      0.704      0.793      0.517\n",
      "               sausage         26         33      0.918      0.303      0.474      0.287\n",
      "          sea scallops          6         43      0.434      0.214      0.302       0.19\n",
      "               seaweed          3          3          1          0      0.995      0.808\n",
      "                seseme          3          3          1          0      0.863      0.564\n",
      "                shrimp        157        203      0.836      0.793      0.857       0.51\n",
      "               spinach        139        275      0.718      0.731      0.771      0.531\n",
      "          spring_onion         18         31      0.705      0.769      0.725      0.451\n",
      "          strawberries        191        191      0.957          1      0.995      0.798\n",
      "            strawberry         12         59       0.54      0.814      0.787      0.449\n",
      "                 sugar        150        193      0.969       0.96      0.984      0.823\n",
      "          sweet potato         19         77      0.739       0.66      0.764      0.513\n",
      "          sweet_potato        122        139      0.924      0.892      0.975      0.704\n",
      "                  tofu         15         58        0.8       0.76      0.857      0.555\n",
      "                tomato        273        349      0.851        0.9      0.918      0.735\n",
      "          tomato_sauce          9          9      0.714      0.667      0.648      0.478\n",
      "                  tuna          2          2          0          0          0          0\n",
      "            watermelon         53        176      0.846      0.907      0.938      0.779\n",
      "            white rice          8         10      0.662       0.59      0.674      0.403\n",
      "                yogurt         34         67      0.763      0.578      0.705      0.409\n",
      "              zucchini         14         24      0.605      0.875      0.811      0.624\n",
      "             fruit_jam         19         19      0.967          1      0.995      0.987\n",
      "        korean_pancake         19         19      0.953          1      0.995      0.984\n",
      "              mushroom         19         19      0.851      0.903      0.952      0.952\n",
      "             persimmon         19         19       0.94          1      0.995      0.995\n",
      "                powder         19         19      0.921          1      0.995       0.98\n",
      "                 sauce         19         19      0.969          1      0.995      0.995\n",
      "Speed: 0.2ms preprocess, 1.2ms inference, 0.0ms loss, 1.0ms postprocess per image\n",
      "Results saved to \u001b[1mruns\\detect\\train12\u001b[0m\n"
     ]
    },
    {
     "data": {
      "text/plain": [
       "ultralytics.utils.metrics.DetMetrics object with attributes:\n",
       "\n",
       "ap_class_index: array([  2,   3,   5,   7,  11,  13,  16,  17,  18,  19,  20,  22,  23,  24,  25,  27,  28,  29,  31,  32,  33,  34,  36,  37,  38,  39,  40,  42,  43,  44,  45,  46,  47,  48,  49,  50,  52,  54,  55,  56,  57,  58,  59,  60,  61,  62,  63,  64,  66,  67,  68,  70,  71,  72,  73,  74,  75,  76,  77,  79,  81,  82,\n",
       "        83,  84,  85,  86,  87,  88,  89,  90,  91,  93,  94,  95,  96,  99, 100, 101, 102, 103, 105, 106, 111, 113, 114, 115, 118, 119, 121, 124, 125, 126, 130, 133, 135, 137, 139, 140, 141, 142, 144, 145, 146, 147, 148, 149, 150, 153, 154, 155, 157, 159, 160, 161, 162, 163, 164, 165, 166, 167, 168])\n",
       "box: ultralytics.utils.metrics.Metric object\n",
       "confusion_matrix: <ultralytics.utils.metrics.ConfusionMatrix object at 0x00000140797246A0>\n",
       "curves: ['Precision-Recall(B)', 'F1-Confidence(B)', 'Precision-Confidence(B)', 'Recall-Confidence(B)']\n",
       "curves_results: [[array([          0,    0.001001,    0.002002,    0.003003,    0.004004,    0.005005,    0.006006,    0.007007,    0.008008,    0.009009,     0.01001,    0.011011,    0.012012,    0.013013,    0.014014,    0.015015,    0.016016,    0.017017,    0.018018,    0.019019,     0.02002,    0.021021,    0.022022,    0.023023,\n",
       "          0.024024,    0.025025,    0.026026,    0.027027,    0.028028,    0.029029,     0.03003,    0.031031,    0.032032,    0.033033,    0.034034,    0.035035,    0.036036,    0.037037,    0.038038,    0.039039,     0.04004,    0.041041,    0.042042,    0.043043,    0.044044,    0.045045,    0.046046,    0.047047,\n",
       "          0.048048,    0.049049,     0.05005,    0.051051,    0.052052,    0.053053,    0.054054,    0.055055,    0.056056,    0.057057,    0.058058,    0.059059,     0.06006,    0.061061,    0.062062,    0.063063,    0.064064,    0.065065,    0.066066,    0.067067,    0.068068,    0.069069,     0.07007,    0.071071,\n",
       "          0.072072,    0.073073,    0.074074,    0.075075,    0.076076,    0.077077,    0.078078,    0.079079,     0.08008,    0.081081,    0.082082,    0.083083,    0.084084,    0.085085,    0.086086,    0.087087,    0.088088,    0.089089,     0.09009,    0.091091,    0.092092,    0.093093,    0.094094,    0.095095,\n",
       "          0.096096,    0.097097,    0.098098,    0.099099,      0.1001,      0.1011,      0.1021,      0.1031,      0.1041,     0.10511,     0.10611,     0.10711,     0.10811,     0.10911,     0.11011,     0.11111,     0.11211,     0.11311,     0.11411,     0.11512,     0.11612,     0.11712,     0.11812,     0.11912,\n",
       "           0.12012,     0.12112,     0.12212,     0.12312,     0.12412,     0.12513,     0.12613,     0.12713,     0.12813,     0.12913,     0.13013,     0.13113,     0.13213,     0.13313,     0.13413,     0.13514,     0.13614,     0.13714,     0.13814,     0.13914,     0.14014,     0.14114,     0.14214,     0.14314,\n",
       "           0.14414,     0.14515,     0.14615,     0.14715,     0.14815,     0.14915,     0.15015,     0.15115,     0.15215,     0.15315,     0.15415,     0.15516,     0.15616,     0.15716,     0.15816,     0.15916,     0.16016,     0.16116,     0.16216,     0.16316,     0.16416,     0.16517,     0.16617,     0.16717,\n",
       "           0.16817,     0.16917,     0.17017,     0.17117,     0.17217,     0.17317,     0.17417,     0.17518,     0.17618,     0.17718,     0.17818,     0.17918,     0.18018,     0.18118,     0.18218,     0.18318,     0.18418,     0.18519,     0.18619,     0.18719,     0.18819,     0.18919,     0.19019,     0.19119,\n",
       "           0.19219,     0.19319,     0.19419,      0.1952,      0.1962,      0.1972,      0.1982,      0.1992,      0.2002,      0.2012,      0.2022,      0.2032,      0.2042,     0.20521,     0.20621,     0.20721,     0.20821,     0.20921,     0.21021,     0.21121,     0.21221,     0.21321,     0.21421,     0.21522,\n",
       "           0.21622,     0.21722,     0.21822,     0.21922,     0.22022,     0.22122,     0.22222,     0.22322,     0.22422,     0.22523,     0.22623,     0.22723,     0.22823,     0.22923,     0.23023,     0.23123,     0.23223,     0.23323,     0.23423,     0.23524,     0.23624,     0.23724,     0.23824,     0.23924,\n",
       "           0.24024,     0.24124,     0.24224,     0.24324,     0.24424,     0.24525,     0.24625,     0.24725,     0.24825,     0.24925,     0.25025,     0.25125,     0.25225,     0.25325,     0.25425,     0.25526,     0.25626,     0.25726,     0.25826,     0.25926,     0.26026,     0.26126,     0.26226,     0.26326,\n",
       "           0.26426,     0.26527,     0.26627,     0.26727,     0.26827,     0.26927,     0.27027,     0.27127,     0.27227,     0.27327,     0.27427,     0.27528,     0.27628,     0.27728,     0.27828,     0.27928,     0.28028,     0.28128,     0.28228,     0.28328,     0.28428,     0.28529,     0.28629,     0.28729,\n",
       "           0.28829,     0.28929,     0.29029,     0.29129,     0.29229,     0.29329,     0.29429,      0.2953,      0.2963,      0.2973,      0.2983,      0.2993,      0.3003,      0.3013,      0.3023,      0.3033,      0.3043,     0.30531,     0.30631,     0.30731,     0.30831,     0.30931,     0.31031,     0.31131,\n",
       "           0.31231,     0.31331,     0.31431,     0.31532,     0.31632,     0.31732,     0.31832,     0.31932,     0.32032,     0.32132,     0.32232,     0.32332,     0.32432,     0.32533,     0.32633,     0.32733,     0.32833,     0.32933,     0.33033,     0.33133,     0.33233,     0.33333,     0.33433,     0.33534,\n",
       "           0.33634,     0.33734,     0.33834,     0.33934,     0.34034,     0.34134,     0.34234,     0.34334,     0.34434,     0.34535,     0.34635,     0.34735,     0.34835,     0.34935,     0.35035,     0.35135,     0.35235,     0.35335,     0.35435,     0.35536,     0.35636,     0.35736,     0.35836,     0.35936,\n",
       "           0.36036,     0.36136,     0.36236,     0.36336,     0.36436,     0.36537,     0.36637,     0.36737,     0.36837,     0.36937,     0.37037,     0.37137,     0.37237,     0.37337,     0.37437,     0.37538,     0.37638,     0.37738,     0.37838,     0.37938,     0.38038,     0.38138,     0.38238,     0.38338,\n",
       "           0.38438,     0.38539,     0.38639,     0.38739,     0.38839,     0.38939,     0.39039,     0.39139,     0.39239,     0.39339,     0.39439,      0.3954,      0.3964,      0.3974,      0.3984,      0.3994,      0.4004,      0.4014,      0.4024,      0.4034,      0.4044,     0.40541,     0.40641,     0.40741,\n",
       "           0.40841,     0.40941,     0.41041,     0.41141,     0.41241,     0.41341,     0.41441,     0.41542,     0.41642,     0.41742,     0.41842,     0.41942,     0.42042,     0.42142,     0.42242,     0.42342,     0.42442,     0.42543,     0.42643,     0.42743,     0.42843,     0.42943,     0.43043,     0.43143,\n",
       "           0.43243,     0.43343,     0.43443,     0.43544,     0.43644,     0.43744,     0.43844,     0.43944,     0.44044,     0.44144,     0.44244,     0.44344,     0.44444,     0.44545,     0.44645,     0.44745,     0.44845,     0.44945,     0.45045,     0.45145,     0.45245,     0.45345,     0.45445,     0.45546,\n",
       "           0.45646,     0.45746,     0.45846,     0.45946,     0.46046,     0.46146,     0.46246,     0.46346,     0.46446,     0.46547,     0.46647,     0.46747,     0.46847,     0.46947,     0.47047,     0.47147,     0.47247,     0.47347,     0.47447,     0.47548,     0.47648,     0.47748,     0.47848,     0.47948,\n",
       "           0.48048,     0.48148,     0.48248,     0.48348,     0.48448,     0.48549,     0.48649,     0.48749,     0.48849,     0.48949,     0.49049,     0.49149,     0.49249,     0.49349,     0.49449,      0.4955,      0.4965,      0.4975,      0.4985,      0.4995,      0.5005,      0.5015,      0.5025,      0.5035,\n",
       "            0.5045,     0.50551,     0.50651,     0.50751,     0.50851,     0.50951,     0.51051,     0.51151,     0.51251,     0.51351,     0.51451,     0.51552,     0.51652,     0.51752,     0.51852,     0.51952,     0.52052,     0.52152,     0.52252,     0.52352,     0.52452,     0.52553,     0.52653,     0.52753,\n",
       "           0.52853,     0.52953,     0.53053,     0.53153,     0.53253,     0.53353,     0.53453,     0.53554,     0.53654,     0.53754,     0.53854,     0.53954,     0.54054,     0.54154,     0.54254,     0.54354,     0.54454,     0.54555,     0.54655,     0.54755,     0.54855,     0.54955,     0.55055,     0.55155,\n",
       "           0.55255,     0.55355,     0.55455,     0.55556,     0.55656,     0.55756,     0.55856,     0.55956,     0.56056,     0.56156,     0.56256,     0.56356,     0.56456,     0.56557,     0.56657,     0.56757,     0.56857,     0.56957,     0.57057,     0.57157,     0.57257,     0.57357,     0.57457,     0.57558,\n",
       "           0.57658,     0.57758,     0.57858,     0.57958,     0.58058,     0.58158,     0.58258,     0.58358,     0.58458,     0.58559,     0.58659,     0.58759,     0.58859,     0.58959,     0.59059,     0.59159,     0.59259,     0.59359,     0.59459,      0.5956,      0.5966,      0.5976,      0.5986,      0.5996,\n",
       "            0.6006,      0.6016,      0.6026,      0.6036,      0.6046,     0.60561,     0.60661,     0.60761,     0.60861,     0.60961,     0.61061,     0.61161,     0.61261,     0.61361,     0.61461,     0.61562,     0.61662,     0.61762,     0.61862,     0.61962,     0.62062,     0.62162,     0.62262,     0.62362,\n",
       "           0.62462,     0.62563,     0.62663,     0.62763,     0.62863,     0.62963,     0.63063,     0.63163,     0.63263,     0.63363,     0.63463,     0.63564,     0.63664,     0.63764,     0.63864,     0.63964,     0.64064,     0.64164,     0.64264,     0.64364,     0.64464,     0.64565,     0.64665,     0.64765,\n",
       "           0.64865,     0.64965,     0.65065,     0.65165,     0.65265,     0.65365,     0.65465,     0.65566,     0.65666,     0.65766,     0.65866,     0.65966,     0.66066,     0.66166,     0.66266,     0.66366,     0.66466,     0.66567,     0.66667,     0.66767,     0.66867,     0.66967,     0.67067,     0.67167,\n",
       "           0.67267,     0.67367,     0.67467,     0.67568,     0.67668,     0.67768,     0.67868,     0.67968,     0.68068,     0.68168,     0.68268,     0.68368,     0.68468,     0.68569,     0.68669,     0.68769,     0.68869,     0.68969,     0.69069,     0.69169,     0.69269,     0.69369,     0.69469,      0.6957,\n",
       "            0.6967,      0.6977,      0.6987,      0.6997,      0.7007,      0.7017,      0.7027,      0.7037,      0.7047,     0.70571,     0.70671,     0.70771,     0.70871,     0.70971,     0.71071,     0.71171,     0.71271,     0.71371,     0.71471,     0.71572,     0.71672,     0.71772,     0.71872,     0.71972,\n",
       "           0.72072,     0.72172,     0.72272,     0.72372,     0.72472,     0.72573,     0.72673,     0.72773,     0.72873,     0.72973,     0.73073,     0.73173,     0.73273,     0.73373,     0.73473,     0.73574,     0.73674,     0.73774,     0.73874,     0.73974,     0.74074,     0.74174,     0.74274,     0.74374,\n",
       "           0.74474,     0.74575,     0.74675,     0.74775,     0.74875,     0.74975,     0.75075,     0.75175,     0.75275,     0.75375,     0.75475,     0.75576,     0.75676,     0.75776,     0.75876,     0.75976,     0.76076,     0.76176,     0.76276,     0.76376,     0.76476,     0.76577,     0.76677,     0.76777,\n",
       "           0.76877,     0.76977,     0.77077,     0.77177,     0.77277,     0.77377,     0.77477,     0.77578,     0.77678,     0.77778,     0.77878,     0.77978,     0.78078,     0.78178,     0.78278,     0.78378,     0.78478,     0.78579,     0.78679,     0.78779,     0.78879,     0.78979,     0.79079,     0.79179,\n",
       "           0.79279,     0.79379,     0.79479,      0.7958,      0.7968,      0.7978,      0.7988,      0.7998,      0.8008,      0.8018,      0.8028,      0.8038,      0.8048,     0.80581,     0.80681,     0.80781,     0.80881,     0.80981,     0.81081,     0.81181,     0.81281,     0.81381,     0.81481,     0.81582,\n",
       "           0.81682,     0.81782,     0.81882,     0.81982,     0.82082,     0.82182,     0.82282,     0.82382,     0.82482,     0.82583,     0.82683,     0.82783,     0.82883,     0.82983,     0.83083,     0.83183,     0.83283,     0.83383,     0.83483,     0.83584,     0.83684,     0.83784,     0.83884,     0.83984,\n",
       "           0.84084,     0.84184,     0.84284,     0.84384,     0.84484,     0.84585,     0.84685,     0.84785,     0.84885,     0.84985,     0.85085,     0.85185,     0.85285,     0.85385,     0.85485,     0.85586,     0.85686,     0.85786,     0.85886,     0.85986,     0.86086,     0.86186,     0.86286,     0.86386,\n",
       "           0.86486,     0.86587,     0.86687,     0.86787,     0.86887,     0.86987,     0.87087,     0.87187,     0.87287,     0.87387,     0.87487,     0.87588,     0.87688,     0.87788,     0.87888,     0.87988,     0.88088,     0.88188,     0.88288,     0.88388,     0.88488,     0.88589,     0.88689,     0.88789,\n",
       "           0.88889,     0.88989,     0.89089,     0.89189,     0.89289,     0.89389,     0.89489,      0.8959,      0.8969,      0.8979,      0.8989,      0.8999,      0.9009,      0.9019,      0.9029,      0.9039,      0.9049,     0.90591,     0.90691,     0.90791,     0.90891,     0.90991,     0.91091,     0.91191,\n",
       "           0.91291,     0.91391,     0.91491,     0.91592,     0.91692,     0.91792,     0.91892,     0.91992,     0.92092,     0.92192,     0.92292,     0.92392,     0.92492,     0.92593,     0.92693,     0.92793,     0.92893,     0.92993,     0.93093,     0.93193,     0.93293,     0.93393,     0.93493,     0.93594,\n",
       "           0.93694,     0.93794,     0.93894,     0.93994,     0.94094,     0.94194,     0.94294,     0.94394,     0.94494,     0.94595,     0.94695,     0.94795,     0.94895,     0.94995,     0.95095,     0.95195,     0.95295,     0.95395,     0.95495,     0.95596,     0.95696,     0.95796,     0.95896,     0.95996,\n",
       "           0.96096,     0.96196,     0.96296,     0.96396,     0.96496,     0.96597,     0.96697,     0.96797,     0.96897,     0.96997,     0.97097,     0.97197,     0.97297,     0.97397,     0.97497,     0.97598,     0.97698,     0.97798,     0.97898,     0.97998,     0.98098,     0.98198,     0.98298,     0.98398,\n",
       "           0.98498,     0.98599,     0.98699,     0.98799,     0.98899,     0.98999,     0.99099,     0.99199,     0.99299,     0.99399,     0.99499,       0.996,       0.997,       0.998,       0.999,           1]), array([[          1,           1,           1, ...,   0.0037725,   0.0018862,           0],\n",
       "       [          1,           1,           1, ...,    0.002784,    0.001392,           0],\n",
       "       [          1,           1,           1, ...,    0.004267,   0.0021335,           0],\n",
       "       ...,\n",
       "       [          1,           1,           1, ...,           1,           1,           0],\n",
       "       [          1,           1,           1, ...,           1,           1,           0],\n",
       "       [          1,           1,           1, ...,           1,           1,           0]]), 'Recall', 'Precision'], [array([          0,    0.001001,    0.002002,    0.003003,    0.004004,    0.005005,    0.006006,    0.007007,    0.008008,    0.009009,     0.01001,    0.011011,    0.012012,    0.013013,    0.014014,    0.015015,    0.016016,    0.017017,    0.018018,    0.019019,     0.02002,    0.021021,    0.022022,    0.023023,\n",
       "          0.024024,    0.025025,    0.026026,    0.027027,    0.028028,    0.029029,     0.03003,    0.031031,    0.032032,    0.033033,    0.034034,    0.035035,    0.036036,    0.037037,    0.038038,    0.039039,     0.04004,    0.041041,    0.042042,    0.043043,    0.044044,    0.045045,    0.046046,    0.047047,\n",
       "          0.048048,    0.049049,     0.05005,    0.051051,    0.052052,    0.053053,    0.054054,    0.055055,    0.056056,    0.057057,    0.058058,    0.059059,     0.06006,    0.061061,    0.062062,    0.063063,    0.064064,    0.065065,    0.066066,    0.067067,    0.068068,    0.069069,     0.07007,    0.071071,\n",
       "          0.072072,    0.073073,    0.074074,    0.075075,    0.076076,    0.077077,    0.078078,    0.079079,     0.08008,    0.081081,    0.082082,    0.083083,    0.084084,    0.085085,    0.086086,    0.087087,    0.088088,    0.089089,     0.09009,    0.091091,    0.092092,    0.093093,    0.094094,    0.095095,\n",
       "          0.096096,    0.097097,    0.098098,    0.099099,      0.1001,      0.1011,      0.1021,      0.1031,      0.1041,     0.10511,     0.10611,     0.10711,     0.10811,     0.10911,     0.11011,     0.11111,     0.11211,     0.11311,     0.11411,     0.11512,     0.11612,     0.11712,     0.11812,     0.11912,\n",
       "           0.12012,     0.12112,     0.12212,     0.12312,     0.12412,     0.12513,     0.12613,     0.12713,     0.12813,     0.12913,     0.13013,     0.13113,     0.13213,     0.13313,     0.13413,     0.13514,     0.13614,     0.13714,     0.13814,     0.13914,     0.14014,     0.14114,     0.14214,     0.14314,\n",
       "           0.14414,     0.14515,     0.14615,     0.14715,     0.14815,     0.14915,     0.15015,     0.15115,     0.15215,     0.15315,     0.15415,     0.15516,     0.15616,     0.15716,     0.15816,     0.15916,     0.16016,     0.16116,     0.16216,     0.16316,     0.16416,     0.16517,     0.16617,     0.16717,\n",
       "           0.16817,     0.16917,     0.17017,     0.17117,     0.17217,     0.17317,     0.17417,     0.17518,     0.17618,     0.17718,     0.17818,     0.17918,     0.18018,     0.18118,     0.18218,     0.18318,     0.18418,     0.18519,     0.18619,     0.18719,     0.18819,     0.18919,     0.19019,     0.19119,\n",
       "           0.19219,     0.19319,     0.19419,      0.1952,      0.1962,      0.1972,      0.1982,      0.1992,      0.2002,      0.2012,      0.2022,      0.2032,      0.2042,     0.20521,     0.20621,     0.20721,     0.20821,     0.20921,     0.21021,     0.21121,     0.21221,     0.21321,     0.21421,     0.21522,\n",
       "           0.21622,     0.21722,     0.21822,     0.21922,     0.22022,     0.22122,     0.22222,     0.22322,     0.22422,     0.22523,     0.22623,     0.22723,     0.22823,     0.22923,     0.23023,     0.23123,     0.23223,     0.23323,     0.23423,     0.23524,     0.23624,     0.23724,     0.23824,     0.23924,\n",
       "           0.24024,     0.24124,     0.24224,     0.24324,     0.24424,     0.24525,     0.24625,     0.24725,     0.24825,     0.24925,     0.25025,     0.25125,     0.25225,     0.25325,     0.25425,     0.25526,     0.25626,     0.25726,     0.25826,     0.25926,     0.26026,     0.26126,     0.26226,     0.26326,\n",
       "           0.26426,     0.26527,     0.26627,     0.26727,     0.26827,     0.26927,     0.27027,     0.27127,     0.27227,     0.27327,     0.27427,     0.27528,     0.27628,     0.27728,     0.27828,     0.27928,     0.28028,     0.28128,     0.28228,     0.28328,     0.28428,     0.28529,     0.28629,     0.28729,\n",
       "           0.28829,     0.28929,     0.29029,     0.29129,     0.29229,     0.29329,     0.29429,      0.2953,      0.2963,      0.2973,      0.2983,      0.2993,      0.3003,      0.3013,      0.3023,      0.3033,      0.3043,     0.30531,     0.30631,     0.30731,     0.30831,     0.30931,     0.31031,     0.31131,\n",
       "           0.31231,     0.31331,     0.31431,     0.31532,     0.31632,     0.31732,     0.31832,     0.31932,     0.32032,     0.32132,     0.32232,     0.32332,     0.32432,     0.32533,     0.32633,     0.32733,     0.32833,     0.32933,     0.33033,     0.33133,     0.33233,     0.33333,     0.33433,     0.33534,\n",
       "           0.33634,     0.33734,     0.33834,     0.33934,     0.34034,     0.34134,     0.34234,     0.34334,     0.34434,     0.34535,     0.34635,     0.34735,     0.34835,     0.34935,     0.35035,     0.35135,     0.35235,     0.35335,     0.35435,     0.35536,     0.35636,     0.35736,     0.35836,     0.35936,\n",
       "           0.36036,     0.36136,     0.36236,     0.36336,     0.36436,     0.36537,     0.36637,     0.36737,     0.36837,     0.36937,     0.37037,     0.37137,     0.37237,     0.37337,     0.37437,     0.37538,     0.37638,     0.37738,     0.37838,     0.37938,     0.38038,     0.38138,     0.38238,     0.38338,\n",
       "           0.38438,     0.38539,     0.38639,     0.38739,     0.38839,     0.38939,     0.39039,     0.39139,     0.39239,     0.39339,     0.39439,      0.3954,      0.3964,      0.3974,      0.3984,      0.3994,      0.4004,      0.4014,      0.4024,      0.4034,      0.4044,     0.40541,     0.40641,     0.40741,\n",
       "           0.40841,     0.40941,     0.41041,     0.41141,     0.41241,     0.41341,     0.41441,     0.41542,     0.41642,     0.41742,     0.41842,     0.41942,     0.42042,     0.42142,     0.42242,     0.42342,     0.42442,     0.42543,     0.42643,     0.42743,     0.42843,     0.42943,     0.43043,     0.43143,\n",
       "           0.43243,     0.43343,     0.43443,     0.43544,     0.43644,     0.43744,     0.43844,     0.43944,     0.44044,     0.44144,     0.44244,     0.44344,     0.44444,     0.44545,     0.44645,     0.44745,     0.44845,     0.44945,     0.45045,     0.45145,     0.45245,     0.45345,     0.45445,     0.45546,\n",
       "           0.45646,     0.45746,     0.45846,     0.45946,     0.46046,     0.46146,     0.46246,     0.46346,     0.46446,     0.46547,     0.46647,     0.46747,     0.46847,     0.46947,     0.47047,     0.47147,     0.47247,     0.47347,     0.47447,     0.47548,     0.47648,     0.47748,     0.47848,     0.47948,\n",
       "           0.48048,     0.48148,     0.48248,     0.48348,     0.48448,     0.48549,     0.48649,     0.48749,     0.48849,     0.48949,     0.49049,     0.49149,     0.49249,     0.49349,     0.49449,      0.4955,      0.4965,      0.4975,      0.4985,      0.4995,      0.5005,      0.5015,      0.5025,      0.5035,\n",
       "            0.5045,     0.50551,     0.50651,     0.50751,     0.50851,     0.50951,     0.51051,     0.51151,     0.51251,     0.51351,     0.51451,     0.51552,     0.51652,     0.51752,     0.51852,     0.51952,     0.52052,     0.52152,     0.52252,     0.52352,     0.52452,     0.52553,     0.52653,     0.52753,\n",
       "           0.52853,     0.52953,     0.53053,     0.53153,     0.53253,     0.53353,     0.53453,     0.53554,     0.53654,     0.53754,     0.53854,     0.53954,     0.54054,     0.54154,     0.54254,     0.54354,     0.54454,     0.54555,     0.54655,     0.54755,     0.54855,     0.54955,     0.55055,     0.55155,\n",
       "           0.55255,     0.55355,     0.55455,     0.55556,     0.55656,     0.55756,     0.55856,     0.55956,     0.56056,     0.56156,     0.56256,     0.56356,     0.56456,     0.56557,     0.56657,     0.56757,     0.56857,     0.56957,     0.57057,     0.57157,     0.57257,     0.57357,     0.57457,     0.57558,\n",
       "           0.57658,     0.57758,     0.57858,     0.57958,     0.58058,     0.58158,     0.58258,     0.58358,     0.58458,     0.58559,     0.58659,     0.58759,     0.58859,     0.58959,     0.59059,     0.59159,     0.59259,     0.59359,     0.59459,      0.5956,      0.5966,      0.5976,      0.5986,      0.5996,\n",
       "            0.6006,      0.6016,      0.6026,      0.6036,      0.6046,     0.60561,     0.60661,     0.60761,     0.60861,     0.60961,     0.61061,     0.61161,     0.61261,     0.61361,     0.61461,     0.61562,     0.61662,     0.61762,     0.61862,     0.61962,     0.62062,     0.62162,     0.62262,     0.62362,\n",
       "           0.62462,     0.62563,     0.62663,     0.62763,     0.62863,     0.62963,     0.63063,     0.63163,     0.63263,     0.63363,     0.63463,     0.63564,     0.63664,     0.63764,     0.63864,     0.63964,     0.64064,     0.64164,     0.64264,     0.64364,     0.64464,     0.64565,     0.64665,     0.64765,\n",
       "           0.64865,     0.64965,     0.65065,     0.65165,     0.65265,     0.65365,     0.65465,     0.65566,     0.65666,     0.65766,     0.65866,     0.65966,     0.66066,     0.66166,     0.66266,     0.66366,     0.66466,     0.66567,     0.66667,     0.66767,     0.66867,     0.66967,     0.67067,     0.67167,\n",
       "           0.67267,     0.67367,     0.67467,     0.67568,     0.67668,     0.67768,     0.67868,     0.67968,     0.68068,     0.68168,     0.68268,     0.68368,     0.68468,     0.68569,     0.68669,     0.68769,     0.68869,     0.68969,     0.69069,     0.69169,     0.69269,     0.69369,     0.69469,      0.6957,\n",
       "            0.6967,      0.6977,      0.6987,      0.6997,      0.7007,      0.7017,      0.7027,      0.7037,      0.7047,     0.70571,     0.70671,     0.70771,     0.70871,     0.70971,     0.71071,     0.71171,     0.71271,     0.71371,     0.71471,     0.71572,     0.71672,     0.71772,     0.71872,     0.71972,\n",
       "           0.72072,     0.72172,     0.72272,     0.72372,     0.72472,     0.72573,     0.72673,     0.72773,     0.72873,     0.72973,     0.73073,     0.73173,     0.73273,     0.73373,     0.73473,     0.73574,     0.73674,     0.73774,     0.73874,     0.73974,     0.74074,     0.74174,     0.74274,     0.74374,\n",
       "           0.74474,     0.74575,     0.74675,     0.74775,     0.74875,     0.74975,     0.75075,     0.75175,     0.75275,     0.75375,     0.75475,     0.75576,     0.75676,     0.75776,     0.75876,     0.75976,     0.76076,     0.76176,     0.76276,     0.76376,     0.76476,     0.76577,     0.76677,     0.76777,\n",
       "           0.76877,     0.76977,     0.77077,     0.77177,     0.77277,     0.77377,     0.77477,     0.77578,     0.77678,     0.77778,     0.77878,     0.77978,     0.78078,     0.78178,     0.78278,     0.78378,     0.78478,     0.78579,     0.78679,     0.78779,     0.78879,     0.78979,     0.79079,     0.79179,\n",
       "           0.79279,     0.79379,     0.79479,      0.7958,      0.7968,      0.7978,      0.7988,      0.7998,      0.8008,      0.8018,      0.8028,      0.8038,      0.8048,     0.80581,     0.80681,     0.80781,     0.80881,     0.80981,     0.81081,     0.81181,     0.81281,     0.81381,     0.81481,     0.81582,\n",
       "           0.81682,     0.81782,     0.81882,     0.81982,     0.82082,     0.82182,     0.82282,     0.82382,     0.82482,     0.82583,     0.82683,     0.82783,     0.82883,     0.82983,     0.83083,     0.83183,     0.83283,     0.83383,     0.83483,     0.83584,     0.83684,     0.83784,     0.83884,     0.83984,\n",
       "           0.84084,     0.84184,     0.84284,     0.84384,     0.84484,     0.84585,     0.84685,     0.84785,     0.84885,     0.84985,     0.85085,     0.85185,     0.85285,     0.85385,     0.85485,     0.85586,     0.85686,     0.85786,     0.85886,     0.85986,     0.86086,     0.86186,     0.86286,     0.86386,\n",
       "           0.86486,     0.86587,     0.86687,     0.86787,     0.86887,     0.86987,     0.87087,     0.87187,     0.87287,     0.87387,     0.87487,     0.87588,     0.87688,     0.87788,     0.87888,     0.87988,     0.88088,     0.88188,     0.88288,     0.88388,     0.88488,     0.88589,     0.88689,     0.88789,\n",
       "           0.88889,     0.88989,     0.89089,     0.89189,     0.89289,     0.89389,     0.89489,      0.8959,      0.8969,      0.8979,      0.8989,      0.8999,      0.9009,      0.9019,      0.9029,      0.9039,      0.9049,     0.90591,     0.90691,     0.90791,     0.90891,     0.90991,     0.91091,     0.91191,\n",
       "           0.91291,     0.91391,     0.91491,     0.91592,     0.91692,     0.91792,     0.91892,     0.91992,     0.92092,     0.92192,     0.92292,     0.92392,     0.92492,     0.92593,     0.92693,     0.92793,     0.92893,     0.92993,     0.93093,     0.93193,     0.93293,     0.93393,     0.93493,     0.93594,\n",
       "           0.93694,     0.93794,     0.93894,     0.93994,     0.94094,     0.94194,     0.94294,     0.94394,     0.94494,     0.94595,     0.94695,     0.94795,     0.94895,     0.94995,     0.95095,     0.95195,     0.95295,     0.95395,     0.95495,     0.95596,     0.95696,     0.95796,     0.95896,     0.95996,\n",
       "           0.96096,     0.96196,     0.96296,     0.96396,     0.96496,     0.96597,     0.96697,     0.96797,     0.96897,     0.96997,     0.97097,     0.97197,     0.97297,     0.97397,     0.97497,     0.97598,     0.97698,     0.97798,     0.97898,     0.97998,     0.98098,     0.98198,     0.98298,     0.98398,\n",
       "           0.98498,     0.98599,     0.98699,     0.98799,     0.98899,     0.98999,     0.99099,     0.99199,     0.99299,     0.99399,     0.99499,       0.996,       0.997,       0.998,       0.999,           1]), array([[    0.16606,     0.16606,     0.23824, ...,           0,           0,           0],\n",
       "       [    0.13671,     0.13671,     0.19545, ...,           0,           0,           0],\n",
       "       [   0.081701,    0.081701,     0.12068, ...,           0,           0,           0],\n",
       "       ...,\n",
       "       [    0.43678,     0.43678,     0.55516, ...,           0,           0,           0],\n",
       "       [    0.39175,     0.39175,     0.54606, ...,           0,           0,           0],\n",
       "       [    0.33043,     0.33043,      0.4949, ...,           0,           0,           0]]), 'Confidence', 'F1'], [array([          0,    0.001001,    0.002002,    0.003003,    0.004004,    0.005005,    0.006006,    0.007007,    0.008008,    0.009009,     0.01001,    0.011011,    0.012012,    0.013013,    0.014014,    0.015015,    0.016016,    0.017017,    0.018018,    0.019019,     0.02002,    0.021021,    0.022022,    0.023023,\n",
       "          0.024024,    0.025025,    0.026026,    0.027027,    0.028028,    0.029029,     0.03003,    0.031031,    0.032032,    0.033033,    0.034034,    0.035035,    0.036036,    0.037037,    0.038038,    0.039039,     0.04004,    0.041041,    0.042042,    0.043043,    0.044044,    0.045045,    0.046046,    0.047047,\n",
       "          0.048048,    0.049049,     0.05005,    0.051051,    0.052052,    0.053053,    0.054054,    0.055055,    0.056056,    0.057057,    0.058058,    0.059059,     0.06006,    0.061061,    0.062062,    0.063063,    0.064064,    0.065065,    0.066066,    0.067067,    0.068068,    0.069069,     0.07007,    0.071071,\n",
       "          0.072072,    0.073073,    0.074074,    0.075075,    0.076076,    0.077077,    0.078078,    0.079079,     0.08008,    0.081081,    0.082082,    0.083083,    0.084084,    0.085085,    0.086086,    0.087087,    0.088088,    0.089089,     0.09009,    0.091091,    0.092092,    0.093093,    0.094094,    0.095095,\n",
       "          0.096096,    0.097097,    0.098098,    0.099099,      0.1001,      0.1011,      0.1021,      0.1031,      0.1041,     0.10511,     0.10611,     0.10711,     0.10811,     0.10911,     0.11011,     0.11111,     0.11211,     0.11311,     0.11411,     0.11512,     0.11612,     0.11712,     0.11812,     0.11912,\n",
       "           0.12012,     0.12112,     0.12212,     0.12312,     0.12412,     0.12513,     0.12613,     0.12713,     0.12813,     0.12913,     0.13013,     0.13113,     0.13213,     0.13313,     0.13413,     0.13514,     0.13614,     0.13714,     0.13814,     0.13914,     0.14014,     0.14114,     0.14214,     0.14314,\n",
       "           0.14414,     0.14515,     0.14615,     0.14715,     0.14815,     0.14915,     0.15015,     0.15115,     0.15215,     0.15315,     0.15415,     0.15516,     0.15616,     0.15716,     0.15816,     0.15916,     0.16016,     0.16116,     0.16216,     0.16316,     0.16416,     0.16517,     0.16617,     0.16717,\n",
       "           0.16817,     0.16917,     0.17017,     0.17117,     0.17217,     0.17317,     0.17417,     0.17518,     0.17618,     0.17718,     0.17818,     0.17918,     0.18018,     0.18118,     0.18218,     0.18318,     0.18418,     0.18519,     0.18619,     0.18719,     0.18819,     0.18919,     0.19019,     0.19119,\n",
       "           0.19219,     0.19319,     0.19419,      0.1952,      0.1962,      0.1972,      0.1982,      0.1992,      0.2002,      0.2012,      0.2022,      0.2032,      0.2042,     0.20521,     0.20621,     0.20721,     0.20821,     0.20921,     0.21021,     0.21121,     0.21221,     0.21321,     0.21421,     0.21522,\n",
       "           0.21622,     0.21722,     0.21822,     0.21922,     0.22022,     0.22122,     0.22222,     0.22322,     0.22422,     0.22523,     0.22623,     0.22723,     0.22823,     0.22923,     0.23023,     0.23123,     0.23223,     0.23323,     0.23423,     0.23524,     0.23624,     0.23724,     0.23824,     0.23924,\n",
       "           0.24024,     0.24124,     0.24224,     0.24324,     0.24424,     0.24525,     0.24625,     0.24725,     0.24825,     0.24925,     0.25025,     0.25125,     0.25225,     0.25325,     0.25425,     0.25526,     0.25626,     0.25726,     0.25826,     0.25926,     0.26026,     0.26126,     0.26226,     0.26326,\n",
       "           0.26426,     0.26527,     0.26627,     0.26727,     0.26827,     0.26927,     0.27027,     0.27127,     0.27227,     0.27327,     0.27427,     0.27528,     0.27628,     0.27728,     0.27828,     0.27928,     0.28028,     0.28128,     0.28228,     0.28328,     0.28428,     0.28529,     0.28629,     0.28729,\n",
       "           0.28829,     0.28929,     0.29029,     0.29129,     0.29229,     0.29329,     0.29429,      0.2953,      0.2963,      0.2973,      0.2983,      0.2993,      0.3003,      0.3013,      0.3023,      0.3033,      0.3043,     0.30531,     0.30631,     0.30731,     0.30831,     0.30931,     0.31031,     0.31131,\n",
       "           0.31231,     0.31331,     0.31431,     0.31532,     0.31632,     0.31732,     0.31832,     0.31932,     0.32032,     0.32132,     0.32232,     0.32332,     0.32432,     0.32533,     0.32633,     0.32733,     0.32833,     0.32933,     0.33033,     0.33133,     0.33233,     0.33333,     0.33433,     0.33534,\n",
       "           0.33634,     0.33734,     0.33834,     0.33934,     0.34034,     0.34134,     0.34234,     0.34334,     0.34434,     0.34535,     0.34635,     0.34735,     0.34835,     0.34935,     0.35035,     0.35135,     0.35235,     0.35335,     0.35435,     0.35536,     0.35636,     0.35736,     0.35836,     0.35936,\n",
       "           0.36036,     0.36136,     0.36236,     0.36336,     0.36436,     0.36537,     0.36637,     0.36737,     0.36837,     0.36937,     0.37037,     0.37137,     0.37237,     0.37337,     0.37437,     0.37538,     0.37638,     0.37738,     0.37838,     0.37938,     0.38038,     0.38138,     0.38238,     0.38338,\n",
       "           0.38438,     0.38539,     0.38639,     0.38739,     0.38839,     0.38939,     0.39039,     0.39139,     0.39239,     0.39339,     0.39439,      0.3954,      0.3964,      0.3974,      0.3984,      0.3994,      0.4004,      0.4014,      0.4024,      0.4034,      0.4044,     0.40541,     0.40641,     0.40741,\n",
       "           0.40841,     0.40941,     0.41041,     0.41141,     0.41241,     0.41341,     0.41441,     0.41542,     0.41642,     0.41742,     0.41842,     0.41942,     0.42042,     0.42142,     0.42242,     0.42342,     0.42442,     0.42543,     0.42643,     0.42743,     0.42843,     0.42943,     0.43043,     0.43143,\n",
       "           0.43243,     0.43343,     0.43443,     0.43544,     0.43644,     0.43744,     0.43844,     0.43944,     0.44044,     0.44144,     0.44244,     0.44344,     0.44444,     0.44545,     0.44645,     0.44745,     0.44845,     0.44945,     0.45045,     0.45145,     0.45245,     0.45345,     0.45445,     0.45546,\n",
       "           0.45646,     0.45746,     0.45846,     0.45946,     0.46046,     0.46146,     0.46246,     0.46346,     0.46446,     0.46547,     0.46647,     0.46747,     0.46847,     0.46947,     0.47047,     0.47147,     0.47247,     0.47347,     0.47447,     0.47548,     0.47648,     0.47748,     0.47848,     0.47948,\n",
       "           0.48048,     0.48148,     0.48248,     0.48348,     0.48448,     0.48549,     0.48649,     0.48749,     0.48849,     0.48949,     0.49049,     0.49149,     0.49249,     0.49349,     0.49449,      0.4955,      0.4965,      0.4975,      0.4985,      0.4995,      0.5005,      0.5015,      0.5025,      0.5035,\n",
       "            0.5045,     0.50551,     0.50651,     0.50751,     0.50851,     0.50951,     0.51051,     0.51151,     0.51251,     0.51351,     0.51451,     0.51552,     0.51652,     0.51752,     0.51852,     0.51952,     0.52052,     0.52152,     0.52252,     0.52352,     0.52452,     0.52553,     0.52653,     0.52753,\n",
       "           0.52853,     0.52953,     0.53053,     0.53153,     0.53253,     0.53353,     0.53453,     0.53554,     0.53654,     0.53754,     0.53854,     0.53954,     0.54054,     0.54154,     0.54254,     0.54354,     0.54454,     0.54555,     0.54655,     0.54755,     0.54855,     0.54955,     0.55055,     0.55155,\n",
       "           0.55255,     0.55355,     0.55455,     0.55556,     0.55656,     0.55756,     0.55856,     0.55956,     0.56056,     0.56156,     0.56256,     0.56356,     0.56456,     0.56557,     0.56657,     0.56757,     0.56857,     0.56957,     0.57057,     0.57157,     0.57257,     0.57357,     0.57457,     0.57558,\n",
       "           0.57658,     0.57758,     0.57858,     0.57958,     0.58058,     0.58158,     0.58258,     0.58358,     0.58458,     0.58559,     0.58659,     0.58759,     0.58859,     0.58959,     0.59059,     0.59159,     0.59259,     0.59359,     0.59459,      0.5956,      0.5966,      0.5976,      0.5986,      0.5996,\n",
       "            0.6006,      0.6016,      0.6026,      0.6036,      0.6046,     0.60561,     0.60661,     0.60761,     0.60861,     0.60961,     0.61061,     0.61161,     0.61261,     0.61361,     0.61461,     0.61562,     0.61662,     0.61762,     0.61862,     0.61962,     0.62062,     0.62162,     0.62262,     0.62362,\n",
       "           0.62462,     0.62563,     0.62663,     0.62763,     0.62863,     0.62963,     0.63063,     0.63163,     0.63263,     0.63363,     0.63463,     0.63564,     0.63664,     0.63764,     0.63864,     0.63964,     0.64064,     0.64164,     0.64264,     0.64364,     0.64464,     0.64565,     0.64665,     0.64765,\n",
       "           0.64865,     0.64965,     0.65065,     0.65165,     0.65265,     0.65365,     0.65465,     0.65566,     0.65666,     0.65766,     0.65866,     0.65966,     0.66066,     0.66166,     0.66266,     0.66366,     0.66466,     0.66567,     0.66667,     0.66767,     0.66867,     0.66967,     0.67067,     0.67167,\n",
       "           0.67267,     0.67367,     0.67467,     0.67568,     0.67668,     0.67768,     0.67868,     0.67968,     0.68068,     0.68168,     0.68268,     0.68368,     0.68468,     0.68569,     0.68669,     0.68769,     0.68869,     0.68969,     0.69069,     0.69169,     0.69269,     0.69369,     0.69469,      0.6957,\n",
       "            0.6967,      0.6977,      0.6987,      0.6997,      0.7007,      0.7017,      0.7027,      0.7037,      0.7047,     0.70571,     0.70671,     0.70771,     0.70871,     0.70971,     0.71071,     0.71171,     0.71271,     0.71371,     0.71471,     0.71572,     0.71672,     0.71772,     0.71872,     0.71972,\n",
       "           0.72072,     0.72172,     0.72272,     0.72372,     0.72472,     0.72573,     0.72673,     0.72773,     0.72873,     0.72973,     0.73073,     0.73173,     0.73273,     0.73373,     0.73473,     0.73574,     0.73674,     0.73774,     0.73874,     0.73974,     0.74074,     0.74174,     0.74274,     0.74374,\n",
       "           0.74474,     0.74575,     0.74675,     0.74775,     0.74875,     0.74975,     0.75075,     0.75175,     0.75275,     0.75375,     0.75475,     0.75576,     0.75676,     0.75776,     0.75876,     0.75976,     0.76076,     0.76176,     0.76276,     0.76376,     0.76476,     0.76577,     0.76677,     0.76777,\n",
       "           0.76877,     0.76977,     0.77077,     0.77177,     0.77277,     0.77377,     0.77477,     0.77578,     0.77678,     0.77778,     0.77878,     0.77978,     0.78078,     0.78178,     0.78278,     0.78378,     0.78478,     0.78579,     0.78679,     0.78779,     0.78879,     0.78979,     0.79079,     0.79179,\n",
       "           0.79279,     0.79379,     0.79479,      0.7958,      0.7968,      0.7978,      0.7988,      0.7998,      0.8008,      0.8018,      0.8028,      0.8038,      0.8048,     0.80581,     0.80681,     0.80781,     0.80881,     0.80981,     0.81081,     0.81181,     0.81281,     0.81381,     0.81481,     0.81582,\n",
       "           0.81682,     0.81782,     0.81882,     0.81982,     0.82082,     0.82182,     0.82282,     0.82382,     0.82482,     0.82583,     0.82683,     0.82783,     0.82883,     0.82983,     0.83083,     0.83183,     0.83283,     0.83383,     0.83483,     0.83584,     0.83684,     0.83784,     0.83884,     0.83984,\n",
       "           0.84084,     0.84184,     0.84284,     0.84384,     0.84484,     0.84585,     0.84685,     0.84785,     0.84885,     0.84985,     0.85085,     0.85185,     0.85285,     0.85385,     0.85485,     0.85586,     0.85686,     0.85786,     0.85886,     0.85986,     0.86086,     0.86186,     0.86286,     0.86386,\n",
       "           0.86486,     0.86587,     0.86687,     0.86787,     0.86887,     0.86987,     0.87087,     0.87187,     0.87287,     0.87387,     0.87487,     0.87588,     0.87688,     0.87788,     0.87888,     0.87988,     0.88088,     0.88188,     0.88288,     0.88388,     0.88488,     0.88589,     0.88689,     0.88789,\n",
       "           0.88889,     0.88989,     0.89089,     0.89189,     0.89289,     0.89389,     0.89489,      0.8959,      0.8969,      0.8979,      0.8989,      0.8999,      0.9009,      0.9019,      0.9029,      0.9039,      0.9049,     0.90591,     0.90691,     0.90791,     0.90891,     0.90991,     0.91091,     0.91191,\n",
       "           0.91291,     0.91391,     0.91491,     0.91592,     0.91692,     0.91792,     0.91892,     0.91992,     0.92092,     0.92192,     0.92292,     0.92392,     0.92492,     0.92593,     0.92693,     0.92793,     0.92893,     0.92993,     0.93093,     0.93193,     0.93293,     0.93393,     0.93493,     0.93594,\n",
       "           0.93694,     0.93794,     0.93894,     0.93994,     0.94094,     0.94194,     0.94294,     0.94394,     0.94494,     0.94595,     0.94695,     0.94795,     0.94895,     0.94995,     0.95095,     0.95195,     0.95295,     0.95395,     0.95495,     0.95596,     0.95696,     0.95796,     0.95896,     0.95996,\n",
       "           0.96096,     0.96196,     0.96296,     0.96396,     0.96496,     0.96597,     0.96697,     0.96797,     0.96897,     0.96997,     0.97097,     0.97197,     0.97297,     0.97397,     0.97497,     0.97598,     0.97698,     0.97798,     0.97898,     0.97998,     0.98098,     0.98198,     0.98298,     0.98398,\n",
       "           0.98498,     0.98599,     0.98699,     0.98799,     0.98899,     0.98999,     0.99099,     0.99199,     0.99299,     0.99399,     0.99499,       0.996,       0.997,       0.998,       0.999,           1]), array([[   0.090969,    0.090969,     0.13631, ...,           1,           1,           1],\n",
       "       [   0.073673,    0.073673,     0.10906, ...,           1,           1,           1],\n",
       "       [   0.042627,    0.042627,    0.064301, ...,           1,           1,           1],\n",
       "       ...,\n",
       "       [    0.27941,     0.27941,     0.38424, ...,           1,           1,           1],\n",
       "       [    0.24359,     0.24359,     0.37557, ...,           1,           1,           1],\n",
       "       [    0.19792,     0.19792,     0.32881, ...,           1,           1,           1]]), 'Confidence', 'Precision'], [array([          0,    0.001001,    0.002002,    0.003003,    0.004004,    0.005005,    0.006006,    0.007007,    0.008008,    0.009009,     0.01001,    0.011011,    0.012012,    0.013013,    0.014014,    0.015015,    0.016016,    0.017017,    0.018018,    0.019019,     0.02002,    0.021021,    0.022022,    0.023023,\n",
       "          0.024024,    0.025025,    0.026026,    0.027027,    0.028028,    0.029029,     0.03003,    0.031031,    0.032032,    0.033033,    0.034034,    0.035035,    0.036036,    0.037037,    0.038038,    0.039039,     0.04004,    0.041041,    0.042042,    0.043043,    0.044044,    0.045045,    0.046046,    0.047047,\n",
       "          0.048048,    0.049049,     0.05005,    0.051051,    0.052052,    0.053053,    0.054054,    0.055055,    0.056056,    0.057057,    0.058058,    0.059059,     0.06006,    0.061061,    0.062062,    0.063063,    0.064064,    0.065065,    0.066066,    0.067067,    0.068068,    0.069069,     0.07007,    0.071071,\n",
       "          0.072072,    0.073073,    0.074074,    0.075075,    0.076076,    0.077077,    0.078078,    0.079079,     0.08008,    0.081081,    0.082082,    0.083083,    0.084084,    0.085085,    0.086086,    0.087087,    0.088088,    0.089089,     0.09009,    0.091091,    0.092092,    0.093093,    0.094094,    0.095095,\n",
       "          0.096096,    0.097097,    0.098098,    0.099099,      0.1001,      0.1011,      0.1021,      0.1031,      0.1041,     0.10511,     0.10611,     0.10711,     0.10811,     0.10911,     0.11011,     0.11111,     0.11211,     0.11311,     0.11411,     0.11512,     0.11612,     0.11712,     0.11812,     0.11912,\n",
       "           0.12012,     0.12112,     0.12212,     0.12312,     0.12412,     0.12513,     0.12613,     0.12713,     0.12813,     0.12913,     0.13013,     0.13113,     0.13213,     0.13313,     0.13413,     0.13514,     0.13614,     0.13714,     0.13814,     0.13914,     0.14014,     0.14114,     0.14214,     0.14314,\n",
       "           0.14414,     0.14515,     0.14615,     0.14715,     0.14815,     0.14915,     0.15015,     0.15115,     0.15215,     0.15315,     0.15415,     0.15516,     0.15616,     0.15716,     0.15816,     0.15916,     0.16016,     0.16116,     0.16216,     0.16316,     0.16416,     0.16517,     0.16617,     0.16717,\n",
       "           0.16817,     0.16917,     0.17017,     0.17117,     0.17217,     0.17317,     0.17417,     0.17518,     0.17618,     0.17718,     0.17818,     0.17918,     0.18018,     0.18118,     0.18218,     0.18318,     0.18418,     0.18519,     0.18619,     0.18719,     0.18819,     0.18919,     0.19019,     0.19119,\n",
       "           0.19219,     0.19319,     0.19419,      0.1952,      0.1962,      0.1972,      0.1982,      0.1992,      0.2002,      0.2012,      0.2022,      0.2032,      0.2042,     0.20521,     0.20621,     0.20721,     0.20821,     0.20921,     0.21021,     0.21121,     0.21221,     0.21321,     0.21421,     0.21522,\n",
       "           0.21622,     0.21722,     0.21822,     0.21922,     0.22022,     0.22122,     0.22222,     0.22322,     0.22422,     0.22523,     0.22623,     0.22723,     0.22823,     0.22923,     0.23023,     0.23123,     0.23223,     0.23323,     0.23423,     0.23524,     0.23624,     0.23724,     0.23824,     0.23924,\n",
       "           0.24024,     0.24124,     0.24224,     0.24324,     0.24424,     0.24525,     0.24625,     0.24725,     0.24825,     0.24925,     0.25025,     0.25125,     0.25225,     0.25325,     0.25425,     0.25526,     0.25626,     0.25726,     0.25826,     0.25926,     0.26026,     0.26126,     0.26226,     0.26326,\n",
       "           0.26426,     0.26527,     0.26627,     0.26727,     0.26827,     0.26927,     0.27027,     0.27127,     0.27227,     0.27327,     0.27427,     0.27528,     0.27628,     0.27728,     0.27828,     0.27928,     0.28028,     0.28128,     0.28228,     0.28328,     0.28428,     0.28529,     0.28629,     0.28729,\n",
       "           0.28829,     0.28929,     0.29029,     0.29129,     0.29229,     0.29329,     0.29429,      0.2953,      0.2963,      0.2973,      0.2983,      0.2993,      0.3003,      0.3013,      0.3023,      0.3033,      0.3043,     0.30531,     0.30631,     0.30731,     0.30831,     0.30931,     0.31031,     0.31131,\n",
       "           0.31231,     0.31331,     0.31431,     0.31532,     0.31632,     0.31732,     0.31832,     0.31932,     0.32032,     0.32132,     0.32232,     0.32332,     0.32432,     0.32533,     0.32633,     0.32733,     0.32833,     0.32933,     0.33033,     0.33133,     0.33233,     0.33333,     0.33433,     0.33534,\n",
       "           0.33634,     0.33734,     0.33834,     0.33934,     0.34034,     0.34134,     0.34234,     0.34334,     0.34434,     0.34535,     0.34635,     0.34735,     0.34835,     0.34935,     0.35035,     0.35135,     0.35235,     0.35335,     0.35435,     0.35536,     0.35636,     0.35736,     0.35836,     0.35936,\n",
       "           0.36036,     0.36136,     0.36236,     0.36336,     0.36436,     0.36537,     0.36637,     0.36737,     0.36837,     0.36937,     0.37037,     0.37137,     0.37237,     0.37337,     0.37437,     0.37538,     0.37638,     0.37738,     0.37838,     0.37938,     0.38038,     0.38138,     0.38238,     0.38338,\n",
       "           0.38438,     0.38539,     0.38639,     0.38739,     0.38839,     0.38939,     0.39039,     0.39139,     0.39239,     0.39339,     0.39439,      0.3954,      0.3964,      0.3974,      0.3984,      0.3994,      0.4004,      0.4014,      0.4024,      0.4034,      0.4044,     0.40541,     0.40641,     0.40741,\n",
       "           0.40841,     0.40941,     0.41041,     0.41141,     0.41241,     0.41341,     0.41441,     0.41542,     0.41642,     0.41742,     0.41842,     0.41942,     0.42042,     0.42142,     0.42242,     0.42342,     0.42442,     0.42543,     0.42643,     0.42743,     0.42843,     0.42943,     0.43043,     0.43143,\n",
       "           0.43243,     0.43343,     0.43443,     0.43544,     0.43644,     0.43744,     0.43844,     0.43944,     0.44044,     0.44144,     0.44244,     0.44344,     0.44444,     0.44545,     0.44645,     0.44745,     0.44845,     0.44945,     0.45045,     0.45145,     0.45245,     0.45345,     0.45445,     0.45546,\n",
       "           0.45646,     0.45746,     0.45846,     0.45946,     0.46046,     0.46146,     0.46246,     0.46346,     0.46446,     0.46547,     0.46647,     0.46747,     0.46847,     0.46947,     0.47047,     0.47147,     0.47247,     0.47347,     0.47447,     0.47548,     0.47648,     0.47748,     0.47848,     0.47948,\n",
       "           0.48048,     0.48148,     0.48248,     0.48348,     0.48448,     0.48549,     0.48649,     0.48749,     0.48849,     0.48949,     0.49049,     0.49149,     0.49249,     0.49349,     0.49449,      0.4955,      0.4965,      0.4975,      0.4985,      0.4995,      0.5005,      0.5015,      0.5025,      0.5035,\n",
       "            0.5045,     0.50551,     0.50651,     0.50751,     0.50851,     0.50951,     0.51051,     0.51151,     0.51251,     0.51351,     0.51451,     0.51552,     0.51652,     0.51752,     0.51852,     0.51952,     0.52052,     0.52152,     0.52252,     0.52352,     0.52452,     0.52553,     0.52653,     0.52753,\n",
       "           0.52853,     0.52953,     0.53053,     0.53153,     0.53253,     0.53353,     0.53453,     0.53554,     0.53654,     0.53754,     0.53854,     0.53954,     0.54054,     0.54154,     0.54254,     0.54354,     0.54454,     0.54555,     0.54655,     0.54755,     0.54855,     0.54955,     0.55055,     0.55155,\n",
       "           0.55255,     0.55355,     0.55455,     0.55556,     0.55656,     0.55756,     0.55856,     0.55956,     0.56056,     0.56156,     0.56256,     0.56356,     0.56456,     0.56557,     0.56657,     0.56757,     0.56857,     0.56957,     0.57057,     0.57157,     0.57257,     0.57357,     0.57457,     0.57558,\n",
       "           0.57658,     0.57758,     0.57858,     0.57958,     0.58058,     0.58158,     0.58258,     0.58358,     0.58458,     0.58559,     0.58659,     0.58759,     0.58859,     0.58959,     0.59059,     0.59159,     0.59259,     0.59359,     0.59459,      0.5956,      0.5966,      0.5976,      0.5986,      0.5996,\n",
       "            0.6006,      0.6016,      0.6026,      0.6036,      0.6046,     0.60561,     0.60661,     0.60761,     0.60861,     0.60961,     0.61061,     0.61161,     0.61261,     0.61361,     0.61461,     0.61562,     0.61662,     0.61762,     0.61862,     0.61962,     0.62062,     0.62162,     0.62262,     0.62362,\n",
       "           0.62462,     0.62563,     0.62663,     0.62763,     0.62863,     0.62963,     0.63063,     0.63163,     0.63263,     0.63363,     0.63463,     0.63564,     0.63664,     0.63764,     0.63864,     0.63964,     0.64064,     0.64164,     0.64264,     0.64364,     0.64464,     0.64565,     0.64665,     0.64765,\n",
       "           0.64865,     0.64965,     0.65065,     0.65165,     0.65265,     0.65365,     0.65465,     0.65566,     0.65666,     0.65766,     0.65866,     0.65966,     0.66066,     0.66166,     0.66266,     0.66366,     0.66466,     0.66567,     0.66667,     0.66767,     0.66867,     0.66967,     0.67067,     0.67167,\n",
       "           0.67267,     0.67367,     0.67467,     0.67568,     0.67668,     0.67768,     0.67868,     0.67968,     0.68068,     0.68168,     0.68268,     0.68368,     0.68468,     0.68569,     0.68669,     0.68769,     0.68869,     0.68969,     0.69069,     0.69169,     0.69269,     0.69369,     0.69469,      0.6957,\n",
       "            0.6967,      0.6977,      0.6987,      0.6997,      0.7007,      0.7017,      0.7027,      0.7037,      0.7047,     0.70571,     0.70671,     0.70771,     0.70871,     0.70971,     0.71071,     0.71171,     0.71271,     0.71371,     0.71471,     0.71572,     0.71672,     0.71772,     0.71872,     0.71972,\n",
       "           0.72072,     0.72172,     0.72272,     0.72372,     0.72472,     0.72573,     0.72673,     0.72773,     0.72873,     0.72973,     0.73073,     0.73173,     0.73273,     0.73373,     0.73473,     0.73574,     0.73674,     0.73774,     0.73874,     0.73974,     0.74074,     0.74174,     0.74274,     0.74374,\n",
       "           0.74474,     0.74575,     0.74675,     0.74775,     0.74875,     0.74975,     0.75075,     0.75175,     0.75275,     0.75375,     0.75475,     0.75576,     0.75676,     0.75776,     0.75876,     0.75976,     0.76076,     0.76176,     0.76276,     0.76376,     0.76476,     0.76577,     0.76677,     0.76777,\n",
       "           0.76877,     0.76977,     0.77077,     0.77177,     0.77277,     0.77377,     0.77477,     0.77578,     0.77678,     0.77778,     0.77878,     0.77978,     0.78078,     0.78178,     0.78278,     0.78378,     0.78478,     0.78579,     0.78679,     0.78779,     0.78879,     0.78979,     0.79079,     0.79179,\n",
       "           0.79279,     0.79379,     0.79479,      0.7958,      0.7968,      0.7978,      0.7988,      0.7998,      0.8008,      0.8018,      0.8028,      0.8038,      0.8048,     0.80581,     0.80681,     0.80781,     0.80881,     0.80981,     0.81081,     0.81181,     0.81281,     0.81381,     0.81481,     0.81582,\n",
       "           0.81682,     0.81782,     0.81882,     0.81982,     0.82082,     0.82182,     0.82282,     0.82382,     0.82482,     0.82583,     0.82683,     0.82783,     0.82883,     0.82983,     0.83083,     0.83183,     0.83283,     0.83383,     0.83483,     0.83584,     0.83684,     0.83784,     0.83884,     0.83984,\n",
       "           0.84084,     0.84184,     0.84284,     0.84384,     0.84484,     0.84585,     0.84685,     0.84785,     0.84885,     0.84985,     0.85085,     0.85185,     0.85285,     0.85385,     0.85485,     0.85586,     0.85686,     0.85786,     0.85886,     0.85986,     0.86086,     0.86186,     0.86286,     0.86386,\n",
       "           0.86486,     0.86587,     0.86687,     0.86787,     0.86887,     0.86987,     0.87087,     0.87187,     0.87287,     0.87387,     0.87487,     0.87588,     0.87688,     0.87788,     0.87888,     0.87988,     0.88088,     0.88188,     0.88288,     0.88388,     0.88488,     0.88589,     0.88689,     0.88789,\n",
       "           0.88889,     0.88989,     0.89089,     0.89189,     0.89289,     0.89389,     0.89489,      0.8959,      0.8969,      0.8979,      0.8989,      0.8999,      0.9009,      0.9019,      0.9029,      0.9039,      0.9049,     0.90591,     0.90691,     0.90791,     0.90891,     0.90991,     0.91091,     0.91191,\n",
       "           0.91291,     0.91391,     0.91491,     0.91592,     0.91692,     0.91792,     0.91892,     0.91992,     0.92092,     0.92192,     0.92292,     0.92392,     0.92492,     0.92593,     0.92693,     0.92793,     0.92893,     0.92993,     0.93093,     0.93193,     0.93293,     0.93393,     0.93493,     0.93594,\n",
       "           0.93694,     0.93794,     0.93894,     0.93994,     0.94094,     0.94194,     0.94294,     0.94394,     0.94494,     0.94595,     0.94695,     0.94795,     0.94895,     0.94995,     0.95095,     0.95195,     0.95295,     0.95395,     0.95495,     0.95596,     0.95696,     0.95796,     0.95896,     0.95996,\n",
       "           0.96096,     0.96196,     0.96296,     0.96396,     0.96496,     0.96597,     0.96697,     0.96797,     0.96897,     0.96997,     0.97097,     0.97197,     0.97297,     0.97397,     0.97497,     0.97598,     0.97698,     0.97798,     0.97898,     0.97998,     0.98098,     0.98198,     0.98298,     0.98398,\n",
       "           0.98498,     0.98599,     0.98699,     0.98799,     0.98899,     0.98999,     0.99099,     0.99199,     0.99299,     0.99399,     0.99499,       0.996,       0.997,       0.998,       0.999,           1]), array([[    0.95172,     0.95172,     0.94483, ...,           0,           0,           0],\n",
       "       [    0.94702,     0.94702,      0.9404, ...,           0,           0,           0],\n",
       "       [       0.98,        0.98,        0.98, ...,           0,           0,           0],\n",
       "       ...,\n",
       "       [          1,           1,           1, ...,           0,           0,           0],\n",
       "       [          1,           1,           1, ...,           0,           0,           0],\n",
       "       [          1,           1,           1, ...,           0,           0,           0]]), 'Confidence', 'Recall']]\n",
       "fitness: 0.5735023828926831\n",
       "keys: ['metrics/precision(B)', 'metrics/recall(B)', 'metrics/mAP50(B)', 'metrics/mAP50-95(B)']\n",
       "maps: array([    0.55239,     0.55239,      0.5996,     0.52172,     0.55239,       0.418,     0.55239,       0.368,     0.55239,     0.55239,     0.55239,     0.20497,     0.55239,     0.56789,     0.55239,     0.55239,     0.44402,     0.57444,     0.70193,     0.24192,     0.59458,     0.55239,      0.6733,     0.57238,\n",
       "           0.31781,      0.8254,     0.55239,     0.12178,     0.64023,     0.27093,     0.55239,     0.53688,     0.67522,     0.82408,     0.76955,     0.55239,     0.34825,     0.65264,     0.25042,     0.53356,     0.64826,     0.55239,     0.75406,     0.39119,     0.66179,     0.27026,     0.41523,     0.15748,\n",
       "           0.14547,     0.65001,     0.24141,     0.55239,     0.50101,     0.55239,     0.52181,     0.49489,      0.9623,     0.59344,     0.34775,     0.62986,     0.73637,      0.6965,     0.44876,     0.69215,     0.64686,     0.55239,     0.42967,    0.077182,     0.30323,     0.55239,      0.6767,      0.6965,\n",
       "           0.65202,     0.30264,     0.67288,      0.8955,     0.74138,      0.4285,     0.55239,     0.72397,     0.55239,     0.98958,     0.10115,     0.53274,      0.7642,     0.62515,     0.19156,     0.58289,      0.6973,     0.37994,     0.33931,     0.70652,     0.55239,     0.71051,     0.63404,     0.74624,\n",
       "           0.59805,     0.55239,     0.55239,     0.60127,     0.38267,     0.54271,     0.50197,       0.995,     0.55239,      0.2985,           0,     0.55239,     0.55239,     0.55239,     0.55239,     0.34856,     0.55239,     0.69793,     0.47674,     0.20213,     0.55239,     0.55239,     0.42017,     0.28795,\n",
       "           0.55239,     0.80345,     0.55239,     0.55239,     0.80842,       0.995,     0.40893,     0.55239,     0.55239,     0.55239,     0.53772,     0.55239,     0.55239,     0.45364,     0.55239,     0.51738,     0.55239,     0.28679,     0.55239,     0.18991,     0.80839,     0.56409,     0.50991,     0.55239,\n",
       "           0.53081,     0.45098,     0.79826,     0.44896,     0.82285,     0.51316,     0.70428,     0.55239,     0.55239,     0.55527,     0.73451,     0.47757,     0.55239,           0,     0.55239,     0.77893,     0.40333,     0.40901,     0.62403,     0.98673,     0.98422,     0.95166,       0.995,     0.97995,\n",
       "             0.995])\n",
       "names: {0: '-', 1: '10_pineapple', 2: '10_tangerine', 3: 'Apple', 4: 'Bagel', 5: 'Banana', 6: 'Bitter melon', 7: 'Cucumber', 8: 'Garlic', 9: 'Green Chili', 10: 'Lady finger', 11: 'Mushroom', 12: 'Onion', 13: 'Orange', 14: 'Potato', 15: 'Sponge Gourd', 16: 'Tomato', 17: 'ampalaya', 18: 'apple', 19: 'asparagus', 20: 'avocado', 21: 'bacon', 22: 'banana', 23: 'beef', 24: 'bell pepper', 25: 'bell_pepper', 26: 'bento', 27: 'bitter gourd', 28: 'blueberries', 29: 'bok choy', 30: 'bottle', 31: 'bread', 32: 'broccoli', 33: 'butter', 34: 'cabbage', 35: 'can', 36: 'canned_tuna', 37: 'carrot', 38: 'cashew', 39: 'cauliflower', 40: 'cheese', 41: 'cherry', 42: 'chicken', 43: 'chicken breast', 44: 'chicken thigh', 45: 'chicken wing', 46: 'chicken_breast', 47: 'chilli', 48: 'chocolate', 49: 'corn', 50: 'crab', 51: 'cream-cheese', 52: 'cucumber', 53: 'dates', 54: 'egg', 55: 'egg_', 56: 'eggplant', 57: 'eggs', 58: 'fish', 59: 'fish_cake', 60: 'flour', 61: 'french_fries', 62: 'garlic', 63: 'ginger', 64: 'goat_cheese', 65: 'grapefruit', 66: 'grapes', 67: 'grated_cheese', 68: 'green chilli', 69: 'green-chillies', 70: 'green_beans', 71: 'green_onion', 72: 'ground_beef', 73: 'guacamole', 74: 'ham', 75: 'hash_brown', 76: 'heavy_cream', 77: 'humus', 78: 'juice', 79: 'ketchup', 80: 'kimchi', 81: 'kiwi', 82: 'leek', 83: 'lemon', 84: 'lettuce', 85: 'lime', 86: 'lobster tails', 87: 'mango', 88: 'marmelade', 89: 'mayonaise', 90: 'mayonnaise', 91: 'milk', 92: 'mint', 93: 'mozzarella cheese', 94: 'mushrooms', 95: 'mustard', 96: 'nacho_chips', 97: 'nuts', 98: 'olives', 99: 'onion', 100: 'orange', 101: 'oysters', 102: 'pak_choi', 103: 'parmasan_cheese', 104: 'parsley', 105: 'pasta', 106: 'pawpaw', 107: 'peach', 108: 'peanuts', 109: 'pear', 110: 'peas', 111: 'pepper', 112: 'pickles', 113: 'pimento', 114: 'pineapple', 115: 'plantains', 116: 'plasticsaveholder', 117: 'pomegrante', 118: 'pork', 119: 'pork belly', 120: 'pot', 121: 'potato', 122: 'potatoes', 123: 'pudding', 124: 'pumpkin', 125: 'radish', 126: 'red chili', 127: 'red_cabbage', 128: 'red_grapes', 129: 'red_onion', 130: 'rice', 131: 'rice_ball', 132: 'rice_cake', 133: 'salad', 134: 'salami', 135: 'salmon', 136: 'sandwich', 137: 'sausage', 138: 'sayote', 139: 'sea scallops', 140: 'seaweed', 141: 'seseme', 142: 'shrimp', 143: 'smoothie', 144: 'spinach', 145: 'spring_onion', 146: 'strawberries', 147: 'strawberry', 148: 'sugar', 149: 'sweet potato', 150: 'sweet_potato', 151: 'tangerine', 152: 'tempeh', 153: 'tofu', 154: 'tomato', 155: 'tomato_sauce', 156: 'tortillas', 157: 'tuna', 158: 'turkey', 159: 'watermelon', 160: 'white rice', 161: 'yogurt', 162: 'zucchini', 163: 'fruit_jam', 164: 'korean_pancake', 165: 'mushroom', 166: 'persimmon', 167: 'powder', 168: 'sauce'}\n",
       "plot: True\n",
       "results_dict: {'metrics/precision(B)': 0.758663653963314, 'metrics/recall(B)': 0.7027823705534978, 'metrics/mAP50(B)': 0.7634959124639658, 'metrics/mAP50-95(B)': 0.5523919907180961, 'fitness': 0.5735023828926831}\n",
       "save_dir: WindowsPath('runs/detect/train12')\n",
       "speed: {'preprocess': 0.16926073295286645, 'inference': 1.1782780324877296, 'loss': 0.00047345533438608155, 'postprocess': 0.992691206875704}\n",
       "task: 'detect'"
      ]
     },
     "execution_count": 12,
     "metadata": {},
     "output_type": "execute_result"
    }
   ],
   "source": [
    "# 모델학습\n",
    "model.train(data='data/data.yaml', epochs=100, patience=30, batch=16, imgsz=416)\n",
    "# model.train(data='data/data.yaml', epochs=50, patience=30, batch=32, imgsz=640)"
   ]
  },
  {
   "cell_type": "code",
   "execution_count": null,
   "id": "3b5c11ad",
   "metadata": {},
   "outputs": [],
   "source": [
    "# metrics/precision(B) : 정밀도, True로 예측한 것중 실제 True 비율\n",
    "# metrics/recall(B): 재현율, 실제 True로 예측한 것중 모델이 True로 예측한 비율\n",
    "# metrics/mAP50(B): 평균 정밀도, IoU(Intersection over Union) 임계값이 0.5일 때의 평균 정밀도, 1에가까울 수록 예측 정확\n",
    "# metrics/mAP50-95(B): IoU 임계값이 0.5에서 0.95까지 변할 때의 평균 정밀도. 값이 1에 가까울수록 모델의 예측이 정확\n",
    "# fitness:모델의 적합도, 모델 성능 종합 평가, 값이 낮을수록 모델 성능이 좋음"
   ]
  },
  {
   "cell_type": "code",
   "execution_count": null,
   "id": "ad99c242",
   "metadata": {},
   "outputs": [],
   "source": [
    "# yolov8n"
   ]
  },
  {
   "cell_type": "code",
   "execution_count": null,
   "id": "6477d665",
   "metadata": {},
   "outputs": [],
   "source": [
    "# 50 epochs 640 imgsz\n",
    "# results_dict: {'metrics/precision(B)': 0.7182384244777222, 'metrics/recall(B)': 0.5222583515296225, 'metrics/mAP50(B)': 0.6267088760834074, 'metrics/mAP50-95(B)': 0.45287142450968243, 'fitness': 0.47025516966705494}\n",
    "# save_dir: WindowsPath('runs/detect/train7')\n",
    "# speed: {'preprocess': 0.0859834341856323, 'inference': 0.6792310845485534, 'loss': 0.0, 'postprocess': 1.1686012818176412}\n",
    "# task: 'detect'"
   ]
  },
  {
   "cell_type": "code",
   "execution_count": null,
   "id": "66836b02",
   "metadata": {},
   "outputs": [],
   "source": [
    "# 100 epochs 416 imgsz\n",
    "# results_dict: {'metrics/precision(B)': 0.7922635463205212, 'metrics/recall(B)': 0.6960001249992331, 'metrics/mAP50(B)': 0.7876266065196706, 'metrics/mAP50-95(B)': 0.5814650691060333, 'fitness': 0.6020812228473971}\n",
    "# save_dir: WindowsPath('runs/detect/train8')\n",
    "# speed: {'preprocess': 0.044669834434563384, 'inference': 0.40659307024439456, 'loss': 0.0002393203987861074, 'postprocess': 1.2334935208584399}\n",
    "# task: 'detect'"
   ]
  },
  {
   "cell_type": "code",
   "execution_count": null,
   "id": "236ef4ef",
   "metadata": {},
   "outputs": [],
   "source": [
    "# epochs=100, patience=30, batch=16, imgsz=416\n",
    "# results_dict: {'metrics/precision(B)': 0.758663653963314, 'metrics/recall(B)': 0.7027823705534978, 'metrics/mAP50(B)': 0.7634959124639658, 'metrics/mAP50-95(B)': 0.5523919907180961, 'fitness': 0.5735023828926831}\n",
    "# save_dir: WindowsPath('runs/detect/train12')\n",
    "# speed: {'preprocess': 0.16926073295286645, 'inference': 1.1782780324877296, 'loss': 0.00047345533438608155, 'postprocess': 0.992691206875704}\n",
    "# task: 'detect'"
   ]
  },
  {
   "cell_type": "code",
   "execution_count": null,
   "id": "5e2a3f8b",
   "metadata": {},
   "outputs": [],
   "source": []
  },
  {
   "cell_type": "code",
   "execution_count": null,
   "id": "d09ad4a7",
   "metadata": {},
   "outputs": [],
   "source": [
    "# yolov8s"
   ]
  },
  {
   "cell_type": "code",
   "execution_count": null,
   "id": "1b45fb72",
   "metadata": {},
   "outputs": [],
   "source": [
    "# epochs=100, patience=30, batch=16, imgsz=416\n",
    "# results_dict: {'metrics/precision(B)': 0.7959656567757492, 'metrics/recall(B)': 0.7572605853895863, 'metrics/mAP50(B)': 0.8097350645075893, 'metrics/mAP50-95(B)': 0.6170176612813159, 'fitness': 0.6362894016039432}\n",
    "# save_dir: WindowsPath('runs/detect/train11')\n",
    "# speed: {'preprocess': 0.04305399901478003, 'inference': 0.7935944460244325, 'loss': 0.0004745826089917627, 'postprocess': 1.1472788826511824}\n",
    "# task: 'detect'"
   ]
  },
  {
   "cell_type": "code",
   "execution_count": null,
   "id": "a475a6e0",
   "metadata": {},
   "outputs": [],
   "source": []
  },
  {
   "cell_type": "code",
   "execution_count": 9,
   "id": "eef8bfb9",
   "metadata": {},
   "outputs": [],
   "source": [
    "# epoch : 전체 데이터셋이 모두 사용된 횟수\n",
    "# GPU_mem : gpu 메모리 사용량\n",
    "# box_loss : 예측된 바운딩 박스와 실제 바운딩 박스 간의 차이를 측정하는 손실 함수 값, 낮을 수록 정확하게 예측\n",
    "# cls_loss : 예측된 클래스와 실제 클래스 간의 차이를 측정하는 손실 함수 값, 낮을수록 정확하게 예측\n",
    "# dfl_loss : (Distribution Focal Loss) 클래스 불균형 문제 해결을 위해 사용되는 손실 함수, 낮을수록 불균형 문제 잘 처리\n",
    "# Instances : 현재 에폭에서 처리된 인스턴스(이미지)의 수\n",
    "# Size : 입력 이미지의 크기"
   ]
  },
  {
   "cell_type": "code",
   "execution_count": 52,
   "id": "8ea7094c",
   "metadata": {},
   "outputs": [
    {
     "data": {
      "text/plain": [
       "{0: '-',\n",
       " 1: '10_pineapple',\n",
       " 2: '10_tangerine',\n",
       " 3: 'Apple',\n",
       " 4: 'Bagel',\n",
       " 5: 'Banana',\n",
       " 6: 'Bitter melon',\n",
       " 7: 'Cucumber',\n",
       " 8: 'Garlic',\n",
       " 9: 'Green Chili',\n",
       " 10: 'Lady finger',\n",
       " 11: 'Mushroom',\n",
       " 12: 'Onion',\n",
       " 13: 'Orange',\n",
       " 14: 'Potato',\n",
       " 15: 'Sponge Gourd',\n",
       " 16: 'Tomato',\n",
       " 17: 'ampalaya',\n",
       " 18: 'apple',\n",
       " 19: 'asparagus',\n",
       " 20: 'avocado',\n",
       " 21: 'bacon',\n",
       " 22: 'banana',\n",
       " 23: 'beef',\n",
       " 24: 'bell pepper',\n",
       " 25: 'bell_pepper',\n",
       " 26: 'bento',\n",
       " 27: 'bitter gourd',\n",
       " 28: 'blueberries',\n",
       " 29: 'bok choy',\n",
       " 30: 'bottle',\n",
       " 31: 'bread',\n",
       " 32: 'broccoli',\n",
       " 33: 'butter',\n",
       " 34: 'cabbage',\n",
       " 35: 'can',\n",
       " 36: 'canned_tuna',\n",
       " 37: 'carrot',\n",
       " 38: 'cashew',\n",
       " 39: 'cauliflower',\n",
       " 40: 'cheese',\n",
       " 41: 'cherry',\n",
       " 42: 'chicken',\n",
       " 43: 'chicken breast',\n",
       " 44: 'chicken thigh',\n",
       " 45: 'chicken wing',\n",
       " 46: 'chicken_breast',\n",
       " 47: 'chilli',\n",
       " 48: 'chocolate',\n",
       " 49: 'corn',\n",
       " 50: 'crab',\n",
       " 51: 'cream-cheese',\n",
       " 52: 'cucumber',\n",
       " 53: 'dates',\n",
       " 54: 'egg',\n",
       " 55: 'egg_',\n",
       " 56: 'eggplant',\n",
       " 57: 'eggs',\n",
       " 58: 'fish',\n",
       " 59: 'fish_cake',\n",
       " 60: 'flour',\n",
       " 61: 'french_fries',\n",
       " 62: 'garlic',\n",
       " 63: 'ginger',\n",
       " 64: 'goat_cheese',\n",
       " 65: 'grapefruit',\n",
       " 66: 'grapes',\n",
       " 67: 'grated_cheese',\n",
       " 68: 'green chilli',\n",
       " 69: 'green-chillies',\n",
       " 70: 'green_beans',\n",
       " 71: 'green_onion',\n",
       " 72: 'ground_beef',\n",
       " 73: 'guacamole',\n",
       " 74: 'ham',\n",
       " 75: 'hash_brown',\n",
       " 76: 'heavy_cream',\n",
       " 77: 'humus',\n",
       " 78: 'juice',\n",
       " 79: 'ketchup',\n",
       " 80: 'kimchi',\n",
       " 81: 'kiwi',\n",
       " 82: 'leek',\n",
       " 83: 'lemon',\n",
       " 84: 'lettuce',\n",
       " 85: 'lime',\n",
       " 86: 'lobster tails',\n",
       " 87: 'mango',\n",
       " 88: 'marmelade',\n",
       " 89: 'mayonaise',\n",
       " 90: 'mayonnaise',\n",
       " 91: 'milk',\n",
       " 92: 'mint',\n",
       " 93: 'mozzarella cheese',\n",
       " 94: 'mushrooms',\n",
       " 95: 'mustard',\n",
       " 96: 'nacho_chips',\n",
       " 97: 'nuts',\n",
       " 98: 'olives',\n",
       " 99: 'onion',\n",
       " 100: 'orange',\n",
       " 101: 'oysters',\n",
       " 102: 'pak_choi',\n",
       " 103: 'parmasan_cheese',\n",
       " 104: 'parsley',\n",
       " 105: 'pasta',\n",
       " 106: 'pawpaw',\n",
       " 107: 'peach',\n",
       " 108: 'peanuts',\n",
       " 109: 'pear',\n",
       " 110: 'peas',\n",
       " 111: 'pepper',\n",
       " 112: 'pickles',\n",
       " 113: 'pimento',\n",
       " 114: 'pineapple',\n",
       " 115: 'plantains',\n",
       " 116: 'plasticsaveholder',\n",
       " 117: 'pomegrante',\n",
       " 118: 'pork',\n",
       " 119: 'pork belly',\n",
       " 120: 'pot',\n",
       " 121: 'potato',\n",
       " 122: 'potatoes',\n",
       " 123: 'pudding',\n",
       " 124: 'pumpkin',\n",
       " 125: 'radish',\n",
       " 126: 'red chili',\n",
       " 127: 'red_cabbage',\n",
       " 128: 'red_grapes',\n",
       " 129: 'red_onion',\n",
       " 130: 'rice',\n",
       " 131: 'rice_ball',\n",
       " 132: 'rice_cake',\n",
       " 133: 'salad',\n",
       " 134: 'salami',\n",
       " 135: 'salmon',\n",
       " 136: 'sandwich',\n",
       " 137: 'sausage',\n",
       " 138: 'sayote',\n",
       " 139: 'sea scallops',\n",
       " 140: 'seaweed',\n",
       " 141: 'seseme',\n",
       " 142: 'shrimp',\n",
       " 143: 'smoothie',\n",
       " 144: 'spinach',\n",
       " 145: 'spring_onion',\n",
       " 146: 'strawberries',\n",
       " 147: 'strawberry',\n",
       " 148: 'sugar',\n",
       " 149: 'sweet potato',\n",
       " 150: 'sweet_potato',\n",
       " 151: 'tangerine',\n",
       " 152: 'tempeh',\n",
       " 153: 'tofu',\n",
       " 154: 'tomato',\n",
       " 155: 'tomato_sauce',\n",
       " 156: 'tortillas',\n",
       " 157: 'tuna',\n",
       " 158: 'turkey',\n",
       " 159: 'watermelon',\n",
       " 160: 'white rice',\n",
       " 161: 'yogurt',\n",
       " 162: 'zucchini',\n",
       " 163: 'fruit_jam',\n",
       " 164: 'korean_pancake',\n",
       " 165: 'mushroom',\n",
       " 166: 'persimmon',\n",
       " 167: 'powder',\n",
       " 168: 'sauce'}"
      ]
     },
     "execution_count": 52,
     "metadata": {},
     "output_type": "execute_result"
    }
   ],
   "source": [
    "model.names"
   ]
  },
  {
   "cell_type": "code",
   "execution_count": 53,
   "id": "5d8e4d2a",
   "metadata": {},
   "outputs": [
    {
     "name": "stdout",
     "output_type": "stream",
     "text": [
      "\n",
      "\n",
      "WARNING  inference results will accumulate in RAM unless `stream=True` is passed, causing potential out-of-memory\n",
      "errors for large sources or long-running streams and videos. See https://docs.ultralytics.com/modes/predict/ for help.\n",
      "\n",
      "Example:\n",
      "    results = model(source=..., stream=True)  # generator of Results objects\n",
      "    for r in results:\n",
      "        boxes = r.boxes  # Boxes object for bbox outputs\n",
      "        masks = r.masks  # Masks object for segment masks outputs\n",
      "        probs = r.probs  # Class probabilities for classification outputs\n",
      "\n",
      "image 1/1846 C:\\Users\\ryun1\\ds\\final_project\\final_datafile\\data\\test\\images\\-105_jpg.rf.f5be27ccdb4f6b5f3519985eda31f74c.jpg: 416x416 1 rice_cake, 11.9ms\n",
      "image 2/1846 C:\\Users\\ryun1\\ds\\final_project\\final_datafile\\data\\test\\images\\-10_jpg.rf.fac66464966131b3a1e190dfde555820.jpg: 416x416 2 rice_cakes, 20.4ms\n",
      "image 3/1846 C:\\Users\\ryun1\\ds\\final_project\\final_datafile\\data\\test\\images\\-112_jpg.rf.06103ae1bfa2df475a47f36e38b85a23.jpg: 416x416 1 kimchi, 25.1ms\n",
      "image 4/1846 C:\\Users\\ryun1\\ds\\final_project\\final_datafile\\data\\test\\images\\-116_jpg.rf.1cd554fdfd22b182f63ddee384008fd0.jpg: 416x416 1 spinach, 22.4ms\n",
      "image 5/1846 C:\\Users\\ryun1\\ds\\final_project\\final_datafile\\data\\test\\images\\-11_jpg.rf.d22b31a7428117cc93745d2c0b1a1bd6.jpg: 416x416 1 spinach, 22.3ms\n",
      "image 6/1846 C:\\Users\\ryun1\\ds\\final_project\\final_datafile\\data\\test\\images\\-127_jpg.rf.8f329f3e075aeeccceec9701c3a3ce0d.jpg: 416x416 (no detections), 15.2ms\n",
      "image 7/1846 C:\\Users\\ryun1\\ds\\final_project\\final_datafile\\data\\test\\images\\-12_jpg.rf.68b80b69c0b174d247b201305e2cf72d.jpg: 416x416 1 milk, 20.8ms\n",
      "image 8/1846 C:\\Users\\ryun1\\ds\\final_project\\final_datafile\\data\\test\\images\\-12_jpg.rf.ee3e02c8d718b9f9332cc61235c01780.jpg: 416x416 1 spinach, 16.7ms\n",
      "image 9/1846 C:\\Users\\ryun1\\ds\\final_project\\final_datafile\\data\\test\\images\\-131_jpg.rf.e7ed4dd94656b93880d71e440779a8a4.jpg: 416x416 1 Bagel, 19.7ms\n",
      "image 10/1846 C:\\Users\\ryun1\\ds\\final_project\\final_datafile\\data\\test\\images\\-133_jpg.rf.f468ce514476bb78ab6e262e7c596518.jpg: 416x416 3 beefs, 14.8ms\n",
      "image 11/1846 C:\\Users\\ryun1\\ds\\final_project\\final_datafile\\data\\test\\images\\-134_jpg.rf.18d26f3916590b64359ae87f00cb6af9.jpg: 416x416 1 fish_cake, 17.7ms\n",
      "image 12/1846 C:\\Users\\ryun1\\ds\\final_project\\final_datafile\\data\\test\\images\\-138_jpg.rf.1cf50f21afe301cebad29f07b77e82d2.jpg: 416x416 1 kimchi, 10.0ms\n",
      "image 13/1846 C:\\Users\\ryun1\\ds\\final_project\\final_datafile\\data\\test\\images\\-13_jpg.rf.e4c93c20e3b0a20caf5ffc093aae6624.jpg: 416x416 1 kimchi, 10.3ms\n",
      "image 14/1846 C:\\Users\\ryun1\\ds\\final_project\\final_datafile\\data\\test\\images\\-141_jpg.rf.d4d17aaa82fc10cbd7c82fb53d729194.jpg: 416x416 2 kimchis, 11.9ms\n",
      "image 15/1846 C:\\Users\\ryun1\\ds\\final_project\\final_datafile\\data\\test\\images\\-144_jpg.rf.e8046bbd7d9906f602f5edbfe7b8dd90.jpg: 416x416 1 kimchi, 11.3ms\n",
      "image 16/1846 C:\\Users\\ryun1\\ds\\final_project\\final_datafile\\data\\test\\images\\-146_jpg.rf.d129309380d961deab8ab6768369a280.jpg: 416x416 1 fish_cake, 11.7ms\n",
      "image 17/1846 C:\\Users\\ryun1\\ds\\final_project\\final_datafile\\data\\test\\images\\-14_jpg.rf.adb58dd4cdeef8b73113a1267aa8547f.jpg: 416x416 1 kimchi, 12.0ms\n",
      "image 18/1846 C:\\Users\\ryun1\\ds\\final_project\\final_datafile\\data\\test\\images\\-151_jpg.rf.51dec6b6f8a8415128a8ed7aebdc6cae.jpg: 416x416 2 beefs, 11.3ms\n",
      "image 19/1846 C:\\Users\\ryun1\\ds\\final_project\\final_datafile\\data\\test\\images\\-151_jpg.rf.b2141bce29fa1a042e5ef67caf27202a.jpg: 416x416 1 kimchi, 11.1ms\n",
      "image 20/1846 C:\\Users\\ryun1\\ds\\final_project\\final_datafile\\data\\test\\images\\-155_jpg.rf.20bc7d4e4c7c689fe339dba9c73c776d.jpg: 416x416 1 fish_cake, 10.1ms\n",
      "image 21/1846 C:\\Users\\ryun1\\ds\\final_project\\final_datafile\\data\\test\\images\\-165_jpg.rf.38308f1e6b3ae360fadc8d1ec026040b.jpg: 416x416 1 kimchi, 10.8ms\n",
      "image 22/1846 C:\\Users\\ryun1\\ds\\final_project\\final_datafile\\data\\test\\images\\-16_jpg.rf.3217a1d38fade62869432daf7efc4ad4.jpg: 416x416 1 spinach, 9.9ms\n",
      "image 23/1846 C:\\Users\\ryun1\\ds\\final_project\\final_datafile\\data\\test\\images\\-184_jpg.rf.428dda012799ce3ca725b80b8e692413.jpg: 416x416 1 rice_cake, 12.5ms\n",
      "image 24/1846 C:\\Users\\ryun1\\ds\\final_project\\final_datafile\\data\\test\\images\\-184_jpg.rf.813bda9d348974f79c37cf90f7cea53d.jpg: 416x416 1 spinach, 12.5ms\n",
      "image 25/1846 C:\\Users\\ryun1\\ds\\final_project\\final_datafile\\data\\test\\images\\-184_jpg.rf.bd052a684a3bb57c3424abf5f9384b25.jpg: 416x416 1 fish_cake, 11.4ms\n",
      "image 26/1846 C:\\Users\\ryun1\\ds\\final_project\\final_datafile\\data\\test\\images\\-18_jpg.rf.acdbeaa8cb598094da765b8b4de1bf62.jpg: 416x416 1 spinach, 10.6ms\n",
      "image 27/1846 C:\\Users\\ryun1\\ds\\final_project\\final_datafile\\data\\test\\images\\-191_jpg.rf.782e1a42354a1727b04809a7c147e2bc.jpg: 416x416 3 fish_cakes, 12.8ms\n",
      "image 28/1846 C:\\Users\\ryun1\\ds\\final_project\\final_datafile\\data\\test\\images\\-192_jpg.rf.b168b2ff8254c55088717d0f9b72732b.jpg: 416x416 (no detections), 8.9ms\n",
      "image 29/1846 C:\\Users\\ryun1\\ds\\final_project\\final_datafile\\data\\test\\images\\-193_jpg.rf.1fd7b2312365227af05bf7769ee08d24.jpg: 416x416 1 spinach, 12.2ms\n",
      "image 30/1846 C:\\Users\\ryun1\\ds\\final_project\\final_datafile\\data\\test\\images\\-193_jpg.rf.215c838405240c8da8f032b77439f1b1.jpg: 416x416 1 beef, 12.8ms\n",
      "image 31/1846 C:\\Users\\ryun1\\ds\\final_project\\final_datafile\\data\\test\\images\\-19_jpg.rf.6d7bff9d7f8c7c1d87de31f2b0ad011a.jpg: 416x416 2 kimchis, 12.3ms\n",
      "image 32/1846 C:\\Users\\ryun1\\ds\\final_project\\final_datafile\\data\\test\\images\\-1_jpg.rf.1d1fd568652b27168c9d3b45042f72d9.jpg: 416x416 1 spinach, 11.5ms\n",
      "image 33/1846 C:\\Users\\ryun1\\ds\\final_project\\final_datafile\\data\\test\\images\\-2023-01-12-174028_jpg.rf.dd28ac6079bef2be9c97ec1388f568b7.jpg: 416x416 2 porks, 12.8ms\n",
      "image 34/1846 C:\\Users\\ryun1\\ds\\final_project\\final_datafile\\data\\test\\images\\-2023-01-12-174107_jpg.rf.a7ef3eda30c60e30061e05187a360ab8.jpg: 416x416 1 pork, 11.9ms\n",
      "image 35/1846 C:\\Users\\ryun1\\ds\\final_project\\final_datafile\\data\\test\\images\\-2023-01-12-174501_jpg.rf.2c726ec71aa4bec525f275f2c4379ed0.jpg: 416x416 3 porks, 14.5ms\n",
      "image 36/1846 C:\\Users\\ryun1\\ds\\final_project\\final_datafile\\data\\test\\images\\-2023-01-12-175035_jpg.rf.11a060fe27f19b62a39bd857a3ae57a6.jpg: 416x416 1 10_tangerine, 1 onion, 6 porks, 1 sweet potato, 14.6ms\n",
      "image 37/1846 C:\\Users\\ryun1\\ds\\final_project\\final_datafile\\data\\test\\images\\-2023-01-12-175852_jpg.rf.ac1375ea8f1716205c6974ef6eb4c9af.jpg: 416x416 2 avocados, 1 pork, 16.5ms\n",
      "image 38/1846 C:\\Users\\ryun1\\ds\\final_project\\final_datafile\\data\\test\\images\\-2023-01-12-180240_jpg.rf.0d862a584121ae3846792bbee3de5ff9.jpg: 416x416 1 beef, 17.4ms\n",
      "image 39/1846 C:\\Users\\ryun1\\ds\\final_project\\final_datafile\\data\\test\\images\\-208_jpg.rf.cff5c4f3f868d35ded78b5a6b5fbcbcb.jpg: 416x416 1 milk, 17.2ms\n",
      "image 40/1846 C:\\Users\\ryun1\\ds\\final_project\\final_datafile\\data\\test\\images\\-224_jpg.rf.fa4522fa955dbfb49f3c638b171f1105.jpg: 416x416 2 fish_cakes, 17.8ms\n",
      "image 41/1846 C:\\Users\\ryun1\\ds\\final_project\\final_datafile\\data\\test\\images\\-226_jpg.rf.ffd941e366866a52372c4b38c836a758.jpg: 416x416 1 shrimp, 9.7ms\n",
      "image 42/1846 C:\\Users\\ryun1\\ds\\final_project\\final_datafile\\data\\test\\images\\-22_jpg.rf.1c75564349b515482567a4c3e7e89e75.jpg: 416x416 1 fish_cake, 11.2ms\n",
      "image 43/1846 C:\\Users\\ryun1\\ds\\final_project\\final_datafile\\data\\test\\images\\-22_jpg.rf.fbf9eb693e43bb924699e0a3c5d45cc3.jpg: 416x416 2 beefs, 10.3ms\n",
      "image 44/1846 C:\\Users\\ryun1\\ds\\final_project\\final_datafile\\data\\test\\images\\-231_jpg.rf.115310131bdccea93f4a961bf49bb7ad.jpg: 416x416 1 kimchi, 12.6ms\n",
      "image 45/1846 C:\\Users\\ryun1\\ds\\final_project\\final_datafile\\data\\test\\images\\-23_jpg.rf.013fcf90638fc38cdbbaddcce088fc23.jpg: 416x416 4 beefs, 11.3ms\n",
      "image 46/1846 C:\\Users\\ryun1\\ds\\final_project\\final_datafile\\data\\test\\images\\-251_jpg.rf.a49340bc9fc4608d70879643845af8e2.jpg: 416x416 1 bok choy, 5 spinachs, 11.2ms\n",
      "image 47/1846 C:\\Users\\ryun1\\ds\\final_project\\final_datafile\\data\\test\\images\\-257_jpg.rf.682fbd2252b2fde35b7889df14ea6e88.jpg: 416x416 2 kimchis, 11.2ms\n",
      "image 48/1846 C:\\Users\\ryun1\\ds\\final_project\\final_datafile\\data\\test\\images\\-258_jpg.rf.02b77412fa03d329f638439906a773d8.jpg: 416x416 1 spinach, 17.3ms\n",
      "image 49/1846 C:\\Users\\ryun1\\ds\\final_project\\final_datafile\\data\\test\\images\\-25_jpg.rf.8241f15e7fe88bc8322d9c527f22e992.jpg: 416x416 1 spinach, 10.4ms\n"
     ]
    },
    {
     "name": "stdout",
     "output_type": "stream",
     "text": [
      "image 50/1846 C:\\Users\\ryun1\\ds\\final_project\\final_datafile\\data\\test\\images\\-262_jpg.rf.ec74801d49ccde9987507c141968bb2e.jpg: 416x416 1 beef, 10.0ms\n",
      "image 51/1846 C:\\Users\\ryun1\\ds\\final_project\\final_datafile\\data\\test\\images\\-265_jpg.rf.814782b0af92ef97ba97b75710b25dc8.jpg: 416x416 1 kimchi, 9.4ms\n",
      "image 52/1846 C:\\Users\\ryun1\\ds\\final_project\\final_datafile\\data\\test\\images\\-26_jpg.rf.b521ab3e949f95080939dda81a19c93f.jpg: 416x416 4 beefs, 8.6ms\n",
      "image 53/1846 C:\\Users\\ryun1\\ds\\final_project\\final_datafile\\data\\test\\images\\-26_jpg.rf.d26b399afee0a5bc351f74857443a10e.jpg: 416x416 1 kimchi, 8.2ms\n",
      "image 54/1846 C:\\Users\\ryun1\\ds\\final_project\\final_datafile\\data\\test\\images\\-277_jpg.rf.a5166e4fc04e91d54a7fe3c76b37d10c.jpg: 416x416 1 fish_cake, 9.6ms\n",
      "image 55/1846 C:\\Users\\ryun1\\ds\\final_project\\final_datafile\\data\\test\\images\\-27_jpg.rf.86d4b3090553b7ecc20b348ce8c37e48.jpg: 416x416 2 beefs, 7.8ms\n",
      "image 56/1846 C:\\Users\\ryun1\\ds\\final_project\\final_datafile\\data\\test\\images\\-27_jpg.rf.c13ec3a891508059194387ab8e51ae4c.jpg: 416x416 2 milks, 8.1ms\n",
      "image 57/1846 C:\\Users\\ryun1\\ds\\final_project\\final_datafile\\data\\test\\images\\-27_jpg.rf.e1de3db5065bb7d46123aee906e4ca68.jpg: 416x416 3 spinachs, 11.6ms\n",
      "image 58/1846 C:\\Users\\ryun1\\ds\\final_project\\final_datafile\\data\\test\\images\\-283_jpg.rf.f62938c4426843cc7adaca0bdd66bb45.jpg: 416x416 1 beef, 13.1ms\n",
      "image 59/1846 C:\\Users\\ryun1\\ds\\final_project\\final_datafile\\data\\test\\images\\-2_jpg.rf.9b970c27a89b730887eb3ce8149112b8.jpg: 416x416 1 beef, 12.8ms\n",
      "image 60/1846 C:\\Users\\ryun1\\ds\\final_project\\final_datafile\\data\\test\\images\\-2_jpg.rf.9eff0cb403bfb3a09fa0fd8e8b3654cc.jpg: 416x416 2 spinachs, 8.2ms\n",
      "image 61/1846 C:\\Users\\ryun1\\ds\\final_project\\final_datafile\\data\\test\\images\\-2_jpg.rf.e119e213da88d024feb35b3e3b4e7ce9.jpg: 416x416 1 kimchi, 1 rice, 10.4ms\n",
      "image 62/1846 C:\\Users\\ryun1\\ds\\final_project\\final_datafile\\data\\test\\images\\-300_jpg.rf.a794150c3806fe7fb7817725051e04df.jpg: 416x416 2 kimchis, 11.5ms\n",
      "image 63/1846 C:\\Users\\ryun1\\ds\\final_project\\final_datafile\\data\\test\\images\\-303_jpg.rf.783f1fd67dcea27d98cc3f4293108c0d.jpg: 416x416 1 fish_cake, 9.1ms\n",
      "image 64/1846 C:\\Users\\ryun1\\ds\\final_project\\final_datafile\\data\\test\\images\\-308_jpg.rf.29f37bca7119c0a9e911fda2d510ccf6.jpg: 416x416 2 kimchis, 1 lobster tails, 8.2ms\n",
      "image 65/1846 C:\\Users\\ryun1\\ds\\final_project\\final_datafile\\data\\test\\images\\-309_jpg.rf.7b9ae9e35a596327503b6332ba8b1373.jpg: 416x416 5 kimchis, 9.8ms\n",
      "image 66/1846 C:\\Users\\ryun1\\ds\\final_project\\final_datafile\\data\\test\\images\\-30_jpg.rf.2b40745878edcfa70da8a0ab19a0b0ef.jpg: 416x416 1 beef, 8.8ms\n",
      "image 67/1846 C:\\Users\\ryun1\\ds\\final_project\\final_datafile\\data\\test\\images\\-32_jpg.rf.298bbaaa1c8575ceae00f4f1fa26f795.jpg: 416x416 1 fish_cake, 9.1ms\n",
      "image 68/1846 C:\\Users\\ryun1\\ds\\final_project\\final_datafile\\data\\test\\images\\-339_jpg.rf.0d60118e7efad9142de26ca25b44b320.jpg: 416x416 1 beef, 10.6ms\n",
      "image 69/1846 C:\\Users\\ryun1\\ds\\final_project\\final_datafile\\data\\test\\images\\-340_jpg.rf.d42fd3ed6444c75c6432bf50aa78d791.jpg: 416x416 1 fish_cake, 7.3ms\n",
      "image 70/1846 C:\\Users\\ryun1\\ds\\final_project\\final_datafile\\data\\test\\images\\-347_jpg.rf.b3677743b17dc360e0e0606efbc0c72c.jpg: 416x416 1 garlic, 10.1ms\n",
      "image 71/1846 C:\\Users\\ryun1\\ds\\final_project\\final_datafile\\data\\test\\images\\-34_jpg.rf.709f8a266d4713b3a4ecad3a5da574a8.jpg: 416x416 1 beef, 11.3ms\n",
      "image 72/1846 C:\\Users\\ryun1\\ds\\final_project\\final_datafile\\data\\test\\images\\-34_jpg.rf.82976be826171c4307be1e45d29b5fb2.jpg: 416x416 2 spinachs, 7.6ms\n",
      "image 73/1846 C:\\Users\\ryun1\\ds\\final_project\\final_datafile\\data\\test\\images\\-355_jpg.rf.6b908891fd4a181f5d90a0de79710f78.jpg: 416x416 1 kimchi, 8.7ms\n",
      "image 74/1846 C:\\Users\\ryun1\\ds\\final_project\\final_datafile\\data\\test\\images\\-35_jpg.rf.07b59ae3e6dad153e5af44fcc68dd002.jpg: 416x416 1 spinach, 9.6ms\n",
      "image 75/1846 C:\\Users\\ryun1\\ds\\final_project\\final_datafile\\data\\test\\images\\-36_jpg.rf.17138e2c2b4ed08ffa99f51bf391b741.jpg: 416x416 1 rice_cake, 13.5ms\n",
      "image 76/1846 C:\\Users\\ryun1\\ds\\final_project\\final_datafile\\data\\test\\images\\-36_jpg.rf.6525f6cd5ca6e428acf6d64ee622012f.jpg: 416x416 1 spinach, 11.8ms\n",
      "image 77/1846 C:\\Users\\ryun1\\ds\\final_project\\final_datafile\\data\\test\\images\\-36_jpg.rf.a0b95ad7a0ab15555f66ccdd0f960725.jpg: 416x416 1 kimchi, 13.1ms\n",
      "image 78/1846 C:\\Users\\ryun1\\ds\\final_project\\final_datafile\\data\\test\\images\\-380_jpg.rf.910f8ff8034217d6fd22924c69e078f7.jpg: 416x416 1 fish_cake, 14.6ms\n",
      "image 79/1846 C:\\Users\\ryun1\\ds\\final_project\\final_datafile\\data\\test\\images\\-384_jpg.rf.c54b68f16f71fd28b093a6a1af99978c.jpg: 416x416 1 fish_cake, 16.1ms\n",
      "image 80/1846 C:\\Users\\ryun1\\ds\\final_project\\final_datafile\\data\\test\\images\\-399_jpg.rf.3d22b5eefd6185b963b6498be3c13bde.jpg: 416x416 1 spinach, 12.2ms\n",
      "image 81/1846 C:\\Users\\ryun1\\ds\\final_project\\final_datafile\\data\\test\\images\\-39_jpg.rf.1bfc70a4be9f5ad333e4c19c52854191.jpg: 416x416 3 rice_cakes, 7.6ms\n",
      "image 82/1846 C:\\Users\\ryun1\\ds\\final_project\\final_datafile\\data\\test\\images\\-3_jpg.rf.e9f80fe3f0208087e62f21d3023132fc.jpg: 416x416 1 fish_cake, 11.8ms\n",
      "image 83/1846 C:\\Users\\ryun1\\ds\\final_project\\final_datafile\\data\\test\\images\\-40_jpg.rf.e906a5590e6a71c5aff35db337f6e982.jpg: 416x416 (no detections), 11.4ms\n",
      "image 84/1846 C:\\Users\\ryun1\\ds\\final_project\\final_datafile\\data\\test\\images\\-41_jpg.rf.c6b735cd0a3227a84fe77784469c4ebb.jpg: 416x416 2 shrimps, 10.7ms\n",
      "image 85/1846 C:\\Users\\ryun1\\ds\\final_project\\final_datafile\\data\\test\\images\\-42_jpg.rf.de777e872646d73a098715aacd903b1b.jpg: 416x416 3 milks, 11.3ms\n",
      "image 86/1846 C:\\Users\\ryun1\\ds\\final_project\\final_datafile\\data\\test\\images\\-44_jpg.rf.2de0292d80d75ed3405a615ff00aa2f6.jpg: 416x416 1 rice_cake, 1 tofu, 12.6ms\n",
      "image 87/1846 C:\\Users\\ryun1\\ds\\final_project\\final_datafile\\data\\test\\images\\-44_jpg.rf.5be336f1db6eefbb50267c68b87b6a96.jpg: 416x416 2 fish_cakes, 8.3ms\n",
      "image 88/1846 C:\\Users\\ryun1\\ds\\final_project\\final_datafile\\data\\test\\images\\-45_jpg.rf.7e71bb7d832f225ed745a887fef0ffce.jpg: 416x416 1 fish_cake, 12.2ms\n",
      "image 89/1846 C:\\Users\\ryun1\\ds\\final_project\\final_datafile\\data\\test\\images\\-48_jpg.rf.40ff0f2594ec2d0dfa00cf33b352d1b5.jpg: 416x416 1 kimchi, 9.1ms\n",
      "image 90/1846 C:\\Users\\ryun1\\ds\\final_project\\final_datafile\\data\\test\\images\\-4_jpg.rf.45100c0af9a0f314dd4ff98a4c35c929.jpg: 416x416 1 beef, 11.5ms\n",
      "image 91/1846 C:\\Users\\ryun1\\ds\\final_project\\final_datafile\\data\\test\\images\\-57_jpg.rf.53b6ce54642d2d369c673b3a829d4942.jpg: 416x416 1 fish_cake, 12.6ms\n",
      "image 92/1846 C:\\Users\\ryun1\\ds\\final_project\\final_datafile\\data\\test\\images\\-57_jpg.rf.7cfe7865abb4defab7ddcb08282d36ea.jpg: 416x416 1 spinach, 10.3ms\n",
      "image 93/1846 C:\\Users\\ryun1\\ds\\final_project\\final_datafile\\data\\test\\images\\-66_jpg.rf.2de26dbd4b4f3c95feacf50ac7e8f537.jpg: 416x416 1 kimchi, 12.3ms\n",
      "image 94/1846 C:\\Users\\ryun1\\ds\\final_project\\final_datafile\\data\\test\\images\\-68_jpg.rf.92a4bf786a0989a5f7ec96f203784aa1.jpg: 416x416 1 beef, 11.2ms\n",
      "image 95/1846 C:\\Users\\ryun1\\ds\\final_project\\final_datafile\\data\\test\\images\\-6_jpg.rf.bdc8923a92a2f93d01e9cb5cb5398ec7.jpg: 416x416 1 lobster tails, 1 rice_cake, 9.9ms\n",
      "image 96/1846 C:\\Users\\ryun1\\ds\\final_project\\final_datafile\\data\\test\\images\\-72_jpg.rf.0ce28f04d62e919b4bde3efef487bc65.jpg: 416x416 1 beef, 11.4ms\n",
      "image 97/1846 C:\\Users\\ryun1\\ds\\final_project\\final_datafile\\data\\test\\images\\-72_jpg.rf.59fe72049338e294e373313f05d7c735.jpg: 416x416 1 fish_cake, 9.0ms\n",
      "image 98/1846 C:\\Users\\ryun1\\ds\\final_project\\final_datafile\\data\\test\\images\\-74_jpg.rf.2330853ba6975599ddb1f00667b43de2.jpg: 416x416 (no detections), 9.1ms\n",
      "image 99/1846 C:\\Users\\ryun1\\ds\\final_project\\final_datafile\\data\\test\\images\\-74_jpg.rf.8e3c055247c38287c1575744ab11a26a.jpg: 416x416 1 rice_cake, 11.5ms\n",
      "image 100/1846 C:\\Users\\ryun1\\ds\\final_project\\final_datafile\\data\\test\\images\\-75_jpg.rf.c2fe1ccd13982055961e402447292901.jpg: 416x416 1 fish_cake, 8.6ms\n",
      "image 101/1846 C:\\Users\\ryun1\\ds\\final_project\\final_datafile\\data\\test\\images\\-76_jpg.rf.12b812ce72163ecd3f1725989e1c5468.jpg: 416x416 1 beef, 11.2ms\n",
      "image 102/1846 C:\\Users\\ryun1\\ds\\final_project\\final_datafile\\data\\test\\images\\-76_jpg.rf.a2593d563f2f9f7c995605c1a5ac15a1.jpg: 416x416 1 fish_cake, 10.9ms\n",
      "image 103/1846 C:\\Users\\ryun1\\ds\\final_project\\final_datafile\\data\\test\\images\\-78_jpg.rf.8d81c1f3160199caca0fa07c99aad05e.jpg: 416x416 2 kimchis, 10.8ms\n"
     ]
    },
    {
     "name": "stdout",
     "output_type": "stream",
     "text": [
      "image 104/1846 C:\\Users\\ryun1\\ds\\final_project\\final_datafile\\data\\test\\images\\-7_jpg.rf.77b524fcbb5c56b1db1892c260f7c308.jpg: 416x416 1 beef, 10.4ms\n",
      "image 105/1846 C:\\Users\\ryun1\\ds\\final_project\\final_datafile\\data\\test\\images\\-81_jpg.rf.156d2cda753f84a20f1937f19a2f4303.jpg: 416x416 1 garlic, 1 rice_cake, 10.5ms\n",
      "image 106/1846 C:\\Users\\ryun1\\ds\\final_project\\final_datafile\\data\\test\\images\\-81_jpg.rf.27ab9835b81c33444d6230bb97deb062.jpg: 416x416 1 beef, 9.7ms\n",
      "image 107/1846 C:\\Users\\ryun1\\ds\\final_project\\final_datafile\\data\\test\\images\\-81_jpg.rf.efcd082662d5f900aab6e3596bab107f.jpg: 416x416 2 fish_cakes, 8.4ms\n",
      "image 108/1846 C:\\Users\\ryun1\\ds\\final_project\\final_datafile\\data\\test\\images\\-82_jpg.rf.7bcd0104537a58d9667a0bd6b701f851.jpg: 416x416 1 fish_cake, 11.1ms\n",
      "image 109/1846 C:\\Users\\ryun1\\ds\\final_project\\final_datafile\\data\\test\\images\\-83_jpg.rf.23a931c7fd97d2cdca89434cdab08bba.jpg: 416x416 1 fish_cake, 10.1ms\n",
      "image 110/1846 C:\\Users\\ryun1\\ds\\final_project\\final_datafile\\data\\test\\images\\-83_jpg.rf.398801e713a3484792877a0c636742f2.jpg: 416x416 (no detections), 14.0ms\n",
      "image 111/1846 C:\\Users\\ryun1\\ds\\final_project\\final_datafile\\data\\test\\images\\-86_jpg.rf.2989cc060338cc977819ba47062323a8.jpg: 416x416 1 kimchi, 8.1ms\n",
      "image 112/1846 C:\\Users\\ryun1\\ds\\final_project\\final_datafile\\data\\test\\images\\-87_jpg.rf.657f2d58f2cf16e7581579493c393555.jpg: 416x416 2 beefs, 10.2ms\n",
      "image 113/1846 C:\\Users\\ryun1\\ds\\final_project\\final_datafile\\data\\test\\images\\-90_jpg.rf.120a37e6ebf0aa436844e3dba9b86628.jpg: 416x416 1 fish_cake, 7.8ms\n",
      "image 114/1846 C:\\Users\\ryun1\\ds\\final_project\\final_datafile\\data\\test\\images\\-92_jpg.rf.a5bb791c202e95fc6cd6849f9e432ddb.jpg: 416x416 1 fish_cake, 11.9ms\n",
      "image 115/1846 C:\\Users\\ryun1\\ds\\final_project\\final_datafile\\data\\test\\images\\0001_jpg.rf.9fbe01a9c0214edbb8eca2fe0bbca214.jpg: 416x416 8 carrots, 8.3ms\n",
      "image 116/1846 C:\\Users\\ryun1\\ds\\final_project\\final_datafile\\data\\test\\images\\0004_jpg.rf.0ec9b3d116802515020f570dedc009f5.jpg: 416x416 8 carrots, 10.3ms\n",
      "image 117/1846 C:\\Users\\ryun1\\ds\\final_project\\final_datafile\\data\\test\\images\\0005_jpg.rf.46931e1f66fc563ae211baec91335e05.jpg: 416x416 3 carrots, 11.3ms\n",
      "image 118/1846 C:\\Users\\ryun1\\ds\\final_project\\final_datafile\\data\\test\\images\\00246269000003_jpg.rf.370c12d45154e05a4a72f2ed975b4269.jpg: 416x416 1 pork, 8.8ms\n",
      "image 119/1846 C:\\Users\\ryun1\\ds\\final_project\\final_datafile\\data\\test\\images\\0072_jpg.rf.ae2122977131dd2509bd5df37a70ee97.jpg: 416x416 2 carrots, 13.1ms\n",
      "image 120/1846 C:\\Users\\ryun1\\ds\\final_project\\final_datafile\\data\\test\\images\\0096_jpg.rf.4a79dfc1886927937c4da1bb020cea68.jpg: 416x416 1 carrot, 10.1ms\n",
      "image 121/1846 C:\\Users\\ryun1\\ds\\final_project\\final_datafile\\data\\test\\images\\021_PNG_jpg.rf.1e0424bda324227bfb9a346e97a31a6a.jpg: 416x416 2 cheeses, 6 ketchups, 1 nacho_chips, 1 onion, 1 pimento, 11.3ms\n",
      "image 122/1846 C:\\Users\\ryun1\\ds\\final_project\\final_datafile\\data\\test\\images\\021_PNG_jpg.rf.ff0ee4d6a780b58be5143b118f69ffda.jpg: 416x416 1 butter, 2 cheeses, 3 ketchups, 1 nacho_chips, 1 onion, 1 pimento, 9.2ms\n",
      "image 123/1846 C:\\Users\\ryun1\\ds\\final_project\\final_datafile\\data\\test\\images\\022_PNG.rf.d2c609150c5e4da3fe2fb50a126cb93c.jpg: 416x416 1 bread, 5 cheeses, 2 mozzarella cheeses, 10.6ms\n",
      "image 124/1846 C:\\Users\\ryun1\\ds\\final_project\\final_datafile\\data\\test\\images\\027517900_1589942784-Raw_Fresh_Meat_With_Rosemary_jpg.rf.d94d3fef7d361b5871fa9db8d28e43cc.jpg: 416x416 2 beefs, 10.0ms\n",
      "image 125/1846 C:\\Users\\ryun1\\ds\\final_project\\final_datafile\\data\\test\\images\\036_PNG_jpg.rf.88948929b055a4b7199f2ac9c56bc572.jpg: 416x416 3 breads, 1 butter, 1 cheese, 1 green_onion, 1 mozzarella cheese, 1 sausage, 9.0ms\n",
      "image 126/1846 C:\\Users\\ryun1\\ds\\final_project\\final_datafile\\data\\test\\images\\044_PNG_jpg.rf.0c529f08d5fc6e8f702e00d863714a93.jpg: 416x416 1 cheese, 1 fish_cake, 1 green_onion, 2 mozzarella cheeses, 1 parmasan_cheese, 8.2ms\n",
      "image 127/1846 C:\\Users\\ryun1\\ds\\final_project\\final_datafile\\data\\test\\images\\044_PNG_jpg.rf.4728fd09935313099c4c3b21085ce77b.jpg: 416x416 1 cheese, 1 fish_cake, 1 green_onion, 2 mozzarella cheeses, 1 parmasan_cheese, 9.2ms\n",
      "image 128/1846 C:\\Users\\ryun1\\ds\\final_project\\final_datafile\\data\\test\\images\\044_PNG_jpg.rf.dd3cd4a0605069d9219a28cf56edca66.jpg: 416x416 1 cheese, 1 fish_cake, 1 green_onion, 1 mozzarella cheese, 1 parmasan_cheese, 1 salad, 10.5ms\n",
      "image 129/1846 C:\\Users\\ryun1\\ds\\final_project\\final_datafile\\data\\test\\images\\046_PNG_jpg.rf.0896ab01f557f79c5f848b4e6d3d3fb5.jpg: 416x416 1 cheese, 1 egg, 1 fish_cake, 12.3ms\n",
      "image 130/1846 C:\\Users\\ryun1\\ds\\final_project\\final_datafile\\data\\test\\images\\059_PNG.rf.5cca377a93c34d14e1532bc985899a6d.jpg: 416x416 1 cheese, 1 corn, 1 ham, 1 mozzarella cheese, 1 onion, 1 rice, 11.3ms\n",
      "image 131/1846 C:\\Users\\ryun1\\ds\\final_project\\final_datafile\\data\\test\\images\\077_PNG_jpg.rf.b51dc90f0195ca4fd358a4cfd61f06fd.jpg: 416x416 1 bread, 2 butters, 1 cheese, 1 milk, 1 parmasan_cheese, 1 pasta, 9.2ms\n",
      "image 132/1846 C:\\Users\\ryun1\\ds\\final_project\\final_datafile\\data\\test\\images\\080_PNG_jpg.rf.695be1f98e4c06e374112baf50706601.jpg: 416x416 3 breads, 1 butter, 1 cheese, 1 mozzarella cheese, 1 mustard, 1 onion, 1 pepper, 8.8ms\n",
      "image 133/1846 C:\\Users\\ryun1\\ds\\final_project\\final_datafile\\data\\test\\images\\087_jpg.rf.420b37b6280662b136cb554b4c71e4e5.jpg: 416x416 3 cucumbers, 3 green chillis, 7.1ms\n",
      "image 134/1846 C:\\Users\\ryun1\\ds\\final_project\\final_datafile\\data\\test\\images\\092_jpg.rf.8ebf5785d54a7528d3f5fcb29da0ab51.jpg: 416x416 10 green chillis, 15.7ms\n",
      "image 135/1846 C:\\Users\\ryun1\\ds\\final_project\\final_datafile\\data\\test\\images\\103_jpg.rf.064bb786b109242756d2d5c941045d5b.jpg: 416x416 1 beef, 11.1ms\n",
      "image 136/1846 C:\\Users\\ryun1\\ds\\final_project\\final_datafile\\data\\test\\images\\109_jpg.rf.9daafaa994b7ff74dab5439ccee83fbf.jpg: 416x416 3 beefs, 11.9ms\n",
      "image 137/1846 C:\\Users\\ryun1\\ds\\final_project\\final_datafile\\data\\test\\images\\10_PNG.rf.f38d7ab493d7cc5ffe0dbe6ecf3d477f.jpg: 416x416 1 red chili, 11.2ms\n",
      "image 138/1846 C:\\Users\\ryun1\\ds\\final_project\\final_datafile\\data\\test\\images\\10_jpg.rf.679a72ba2178ae86801ecfeaea8e4751.jpg: 416x416 1 chilli, 1 red chili, 7.9ms\n",
      "image 139/1846 C:\\Users\\ryun1\\ds\\final_project\\final_datafile\\data\\test\\images\\11300692-cut-of-beef-steak-with-lemon-slice-isolated_jpg.rf.7622c70714e467d1ba31b5484b92e145.jpg: 416x416 2 beefs, 12.8ms\n",
      "image 140/1846 C:\\Users\\ryun1\\ds\\final_project\\final_datafile\\data\\test\\images\\116_jpg.rf.55f2f2dbdc7716d75bab8838c9f58df1.jpg: 416x416 4 beefs, 7.7ms\n",
      "image 141/1846 C:\\Users\\ryun1\\ds\\final_project\\final_datafile\\data\\test\\images\\122_jpg.rf.43ca890854cd8d832d1dea9c95a42026.jpg: 416x416 2 green chillis, 12.0ms\n",
      "image 142/1846 C:\\Users\\ryun1\\ds\\final_project\\final_datafile\\data\\test\\images\\124_jpg.rf.d1053252d75950421338bc0157fdd543.jpg: 416x416 22 green chillis, 9.2ms\n",
      "image 143/1846 C:\\Users\\ryun1\\ds\\final_project\\final_datafile\\data\\test\\images\\12_jpg.rf.1f79da74e15b06886d39cfa21b88f4a2.jpg: 416x416 1 red chili, 9.2ms\n",
      "image 144/1846 C:\\Users\\ryun1\\ds\\final_project\\final_datafile\\data\\test\\images\\137_jpg.rf.3e7f6c393e0af0035b2ec7f457b43b8a.jpg: 416x416 10 green chillis, 13.8ms\n",
      "image 145/1846 C:\\Users\\ryun1\\ds\\final_project\\final_datafile\\data\\test\\images\\13_jpg.rf.4ca6347c3bdb1c869e52f8991cedea44.jpg: 416x416 9 porks, 12.1ms\n",
      "image 146/1846 C:\\Users\\ryun1\\ds\\final_project\\final_datafile\\data\\test\\images\\14926002-red-raw-meat-on-the-white-surface_jpg.rf.aa2ab64f4daaf903fd889ac89d2f6762.jpg: 416x416 1 beef, 1 pork, 12.1ms\n",
      "image 147/1846 C:\\Users\\ryun1\\ds\\final_project\\final_datafile\\data\\test\\images\\14_PNG.rf.0185cb5758d8d2b192fc1fc910e099f0.jpg: 416x416 3 red chilis, 11.2ms\n",
      "image 148/1846 C:\\Users\\ryun1\\ds\\final_project\\final_datafile\\data\\test\\images\\14_jpg.rf.3b1a5a8b21958f1f13dd6579aa1ccfe2.jpg: 416x416 3 chickens, 1 chicken thigh, 15.6ms\n",
      "image 149/1846 C:\\Users\\ryun1\\ds\\final_project\\final_datafile\\data\\test\\images\\14_jpg.rf.b361a86cc184ffb56afd253eb46cd8c9.jpg: 416x416 1 chilli, 2 red chilis, 13.9ms\n",
      "image 150/1846 C:\\Users\\ryun1\\ds\\final_project\\final_datafile\\data\\test\\images\\162_png.rf.03a03078667d29ebd56e0ee52583ad85.jpg: 416x416 15 green chillis, 9.7ms\n",
      "image 151/1846 C:\\Users\\ryun1\\ds\\final_project\\final_datafile\\data\\test\\images\\1685517855923_jpg.rf.125a7861b95cc3a26e03a3a1e56502f6.jpg: 416x416 5 asparaguss, 3 bananas, 2 humuss, 1 mayonaise, 4 yogurts, 10.4ms\n"
     ]
    },
    {
     "name": "stdout",
     "output_type": "stream",
     "text": [
      "image 152/1846 C:\\Users\\ryun1\\ds\\final_project\\final_datafile\\data\\test\\images\\1685517855923_jpg.rf.25217b6ffbf238b89a0c9b867bc8b663.jpg: 416x416 1 asparagus, 3 bananas, 1 humus, 1 mayonaise, 1 spinach, 2 yogurts, 11.9ms\n",
      "image 153/1846 C:\\Users\\ryun1\\ds\\final_project\\final_datafile\\data\\test\\images\\1685517855964_jpg.rf.3defd94341d9ae5864b2645ea72b320f.jpg: 416x416 3 asparaguss, 3 humuss, 2 milks, 5 yogurts, 10.8ms\n",
      "image 154/1846 C:\\Users\\ryun1\\ds\\final_project\\final_datafile\\data\\test\\images\\1685517909433_jpg.rf.2a4e3717ecc71e9cd7f3d0ca1e4f85e7.jpg: 416x416 2 asparaguss, 1 grated_cheese, 1 humus, 1 pineapple, 1 salad, 10.9ms\n",
      "image 155/1846 C:\\Users\\ryun1\\ds\\final_project\\final_datafile\\data\\test\\images\\1685517940803_jpg.rf.dbf35a621836968f4b50fc41992eeb35.jpg: 416x416 2 asparaguss, 1 carrot, 1 lemon, 8.6ms\n",
      "image 156/1846 C:\\Users\\ryun1\\ds\\final_project\\final_datafile\\data\\test\\images\\1685517940893_jpg.rf.340b5306fb10d8d5b4484a0333d765a2.jpg: 416x416 1 grated_cheese, 2 humuss, 1 mayonaise, 11.4ms\n",
      "image 157/1846 C:\\Users\\ryun1\\ds\\final_project\\final_datafile\\data\\test\\images\\1685517940893_jpg.rf.eabb9c74cbb3eefe27ae2120a47950f2.jpg: 416x416 1 egg, 1 humus, 1 yogurt, 10.9ms\n",
      "image 158/1846 C:\\Users\\ryun1\\ds\\final_project\\final_datafile\\data\\test\\images\\1685517940900_jpg.rf.e51b8d44fa76a58e4faad3b863e684fc.jpg: 416x416 1 bread, 1 cheese, 2 milks, 1 yogurt, 9.2ms\n",
      "image 159/1846 C:\\Users\\ryun1\\ds\\final_project\\final_datafile\\data\\test\\images\\1685517940925_jpg.rf.c147a71505b2d447b77de648d0c960b5.jpg: 416x416 1 cheese, 1 humus, 1 pineapple, 11.1ms\n",
      "image 160/1846 C:\\Users\\ryun1\\ds\\final_project\\final_datafile\\data\\test\\images\\1685518156922_jpg.rf.d808641b615e5eef338ebd825c3f1dd8.jpg: 416x416 4 apples, 2 bananas, 1 bread, 4 broccolis, 5 grated_cheeses, 2 humuss, 1 lemon, 2 mayonaises, 1 milk, 7 pears, 1 pineapple, 1 tomato_sauce, 1 yogurt, 8.2ms\n",
      "image 161/1846 C:\\Users\\ryun1\\ds\\final_project\\final_datafile\\data\\test\\images\\1685527860570_jpg.rf.4a3b60fac6843d9a78da4d31283e9a9e.jpg: 416x416 1 bread, 1 green_beans, 2 humuss, 1 milk, 1 pineapple, 1 salad, 13.2ms\n",
      "image 162/1846 C:\\Users\\ryun1\\ds\\final_project\\final_datafile\\data\\test\\images\\1685527860570_jpg.rf.58fcb052317b68fa8e593593e9d6fae5.jpg: 416x416 1 asparagus, 2 breads, 1 green_beans, 2 humuss, 1 lemon, 1 milk, 1 pineapple, 1 salad, 1 tomato_sauce, 11.4ms\n",
      "image 163/1846 C:\\Users\\ryun1\\ds\\final_project\\final_datafile\\data\\test\\images\\1685527860570_jpg.rf.d0b2fdd66b1d2b3f951811de9f0069f1.jpg: 416x416 1 asparagus, 1 bread, 1 green_beans, 2 humuss, 1 lemon, 1 milk, 1 pineapple, 1 salad, 1 tomato_sauce, 1 yogurt, 12.4ms\n",
      "image 164/1846 C:\\Users\\ryun1\\ds\\final_project\\final_datafile\\data\\test\\images\\1685961942916_jpg.rf.f75faea9c440d5068abcc18125d2a7c6.jpg: 416x416 3 asparaguss, 1 humus, 1 lemon, 1 mayonaise, 1 oysters, 1 pineapple, 1 yogurt, 9.6ms\n",
      "image 165/1846 C:\\Users\\ryun1\\ds\\final_project\\final_datafile\\data\\test\\images\\1685961942922_jpg.rf.ece73a38015222d1b7a915dffb5b90d2.jpg: 416x416 2 asparaguss, 1 cheese, 1 lemon, 1 pineapple, 9.5ms\n",
      "image 166/1846 C:\\Users\\ryun1\\ds\\final_project\\final_datafile\\data\\test\\images\\17620583-piece-of-fat-pork-meat-in-full-focus-isolated-on-white-surface_jpg.rf.32911a88d3c918727ca4f47e6bb3ec01.jpg: 416x416 1 pork, 10.8ms\n",
      "image 167/1846 C:\\Users\\ryun1\\ds\\final_project\\final_datafile\\data\\test\\images\\17620587-piece-of-fat-pork-meat-in-full-focus-isolated-on-white-surface_jpg.rf.51bf187e83c4ed4367ce5db5b256a5e9.jpg: 416x416 1 pork, 9.2ms\n",
      "image 168/1846 C:\\Users\\ryun1\\ds\\final_project\\final_datafile\\data\\test\\images\\17_jpg.rf.a499582a9b7428ef4c4038eab82931d3.jpg: 416x416 9 red chilis, 10.8ms\n",
      "image 169/1846 C:\\Users\\ryun1\\ds\\final_project\\final_datafile\\data\\test\\images\\20220413_190508_jpg.rf.e99fe054548d9136ccb5ee7688315804.jpg: 416x416 1 tomato, 12.6ms\n",
      "image 170/1846 C:\\Users\\ryun1\\ds\\final_project\\final_datafile\\data\\test\\images\\20220413_190704_jpg.rf.20887cc00ff0c14bb360b229a3fd213a.jpg: 416x416 1 tomato, 9.2ms\n",
      "image 171/1846 C:\\Users\\ryun1\\ds\\final_project\\final_datafile\\data\\test\\images\\20220413_190737_jpg.rf.ee0290cebbb6429a6dfd1ea6183c5a17.jpg: 416x416 1 tomato, 11.7ms\n",
      "image 172/1846 C:\\Users\\ryun1\\ds\\final_project\\final_datafile\\data\\test\\images\\20220413_190758_jpg.rf.8e90a29d68baa66c7c6ca44e5923e1db.jpg: 416x416 1 tomato, 10.5ms\n",
      "image 173/1846 C:\\Users\\ryun1\\ds\\final_project\\final_datafile\\data\\test\\images\\20220413_190836_jpg.rf.a4f4d6045289ffbd4bd2092296c44e8d.jpg: 416x416 1 tomato, 11.5ms\n",
      "image 174/1846 C:\\Users\\ryun1\\ds\\final_project\\final_datafile\\data\\test\\images\\20220413_191552_jpg.rf.f7a5bf662a7e72e5d639f08f0c5fa3fa.jpg: 416x416 1 carrot, 9.7ms\n",
      "image 175/1846 C:\\Users\\ryun1\\ds\\final_project\\final_datafile\\data\\test\\images\\20220413_191556_jpg.rf.a57162336f64dd9c82f2148989720783.jpg: 416x416 1 carrot, 10.6ms\n",
      "image 176/1846 C:\\Users\\ryun1\\ds\\final_project\\final_datafile\\data\\test\\images\\20220413_191557_jpg.rf.1283cb91670cc21809163808672fc786.jpg: 416x416 1 carrot, 12.7ms\n",
      "image 177/1846 C:\\Users\\ryun1\\ds\\final_project\\final_datafile\\data\\test\\images\\20220413_191559_jpg.rf.ed28e6604e469c623cc52d8db7080473.jpg: 416x416 1 carrot, 9.2ms\n",
      "image 178/1846 C:\\Users\\ryun1\\ds\\final_project\\final_datafile\\data\\test\\images\\20220413_191644_jpg.rf.889a42263f78e40f8332104b838e1abe.jpg: 416x416 2 carrots, 10.9ms\n",
      "image 179/1846 C:\\Users\\ryun1\\ds\\final_project\\final_datafile\\data\\test\\images\\20220413_191657_jpg.rf.b269fccd4c2ba5d29ab21d3a05c7ee2b.jpg: 416x416 1 carrot, 9.2ms\n",
      "image 180/1846 C:\\Users\\ryun1\\ds\\final_project\\final_datafile\\data\\test\\images\\20220413_191742_jpg.rf.7e9322fe9148530e413f0d1fa5f24390.jpg: 416x416 1 carrot, 9.2ms\n",
      "image 181/1846 C:\\Users\\ryun1\\ds\\final_project\\final_datafile\\data\\test\\images\\20220413_192026_jpg.rf.17695bbe61d2da1ca00da7a135ec2d5a.jpg: 416x416 1 carrot, 8.8ms\n",
      "image 182/1846 C:\\Users\\ryun1\\ds\\final_project\\final_datafile\\data\\test\\images\\20220413_192123_jpg.rf.afeaf2effce7f448a5b23749aa21b310.jpg: 416x416 1 carrot, 8.3ms\n",
      "image 183/1846 C:\\Users\\ryun1\\ds\\final_project\\final_datafile\\data\\test\\images\\20220413_192149_jpg.rf.122d36be857bc947cd94fb1a98d8da58.jpg: 416x416 1 carrot, 10.3ms\n",
      "image 184/1846 C:\\Users\\ryun1\\ds\\final_project\\final_datafile\\data\\test\\images\\20220413_192156_jpg.rf.675762435b93db85b97cc45104c6096c.jpg: 416x416 1 carrot, 8.4ms\n",
      "image 185/1846 C:\\Users\\ryun1\\ds\\final_project\\final_datafile\\data\\test\\images\\20221104_081504_jpg.rf.a21c64f8757197a2bd8fd31a82b44c4f.jpg: 416x416 1 chicken, 9.8ms\n",
      "image 186/1846 C:\\Users\\ryun1\\ds\\final_project\\final_datafile\\data\\test\\images\\20221104_082538_jpg.rf.4080d49180d8b69b7c6f6f0546556485.jpg: 416x416 1 chicken, 10.2ms\n",
      "image 187/1846 C:\\Users\\ryun1\\ds\\final_project\\final_datafile\\data\\test\\images\\20230531_192942_jpg.rf.08ed6fa0a44ac8da8a93586ce59e4334.jpg: 416x416 2 avocados, 1 pak_choi, 11.0ms\n",
      "image 188/1846 C:\\Users\\ryun1\\ds\\final_project\\final_datafile\\data\\test\\images\\20230531_192942_jpg.rf.e5ec67905e72d125b1a2569e0707c229.jpg: 416x416 2 avocados, 2 pak_chois, 10.5ms\n",
      "image 189/1846 C:\\Users\\ryun1\\ds\\final_project\\final_datafile\\data\\test\\images\\20230531_193220_jpg.rf.44c136a2bb468b996a315a41b86158fe.jpg: 416x416 3 avocados, 4 yogurts, 11.9ms\n",
      "image 190/1846 C:\\Users\\ryun1\\ds\\final_project\\final_datafile\\data\\test\\images\\20230531_193220_jpg.rf.871f990274911e3d2c4ad97d24d7926a.jpg: 416x416 1 avocado, 1 lemon, 1 milk, 1 sausage, 10.1ms\n",
      "image 191/1846 C:\\Users\\ryun1\\ds\\final_project\\final_datafile\\data\\test\\images\\20230531_193220_jpg.rf.defbdeda254969f5ef8e4547857dea0e.jpg: 416x416 2 avocados, 1 carrot, 1 cucumber, 1 sausage, 4 yogurts, 9.8ms\n",
      "image 192/1846 C:\\Users\\ryun1\\ds\\final_project\\final_datafile\\data\\test\\images\\20230531_194224_jpg.rf.2a35e2f15c40645851800d5e4039f7a9.jpg: 416x416 1 avocado, 2 cheeses, 1 milk, 9.9ms\n",
      "image 193/1846 C:\\Users\\ryun1\\ds\\final_project\\final_datafile\\data\\test\\images\\20230531_194321_jpg.rf.fcf849f51868c96433757c4c01cd51ee.jpg: 416x416 1 avocado, 2 cucumbers, 1 grated_cheese, 1 pak_choi, 3 tomatos, 1 yogurt, 12.2ms\n",
      "image 194/1846 C:\\Users\\ryun1\\ds\\final_project\\final_datafile\\data\\test\\images\\20230531_195059_jpg.rf.bc1374162b210b6b7897c398a6518843.jpg: 416x416 1 avocado, 3 cheeses, 1 humus, 1 mayonaise, 1 yogurt, 8.5ms\n",
      "image 195/1846 C:\\Users\\ryun1\\ds\\final_project\\final_datafile\\data\\test\\images\\20230531_200549_jpg.rf.1afb9c10650a3f86d0b3852afff9f7bb.jpg: 416x416 3 avocados, 1 grated_cheese, 12.0ms\n"
     ]
    },
    {
     "name": "stdout",
     "output_type": "stream",
     "text": [
      "image 196/1846 C:\\Users\\ryun1\\ds\\final_project\\final_datafile\\data\\test\\images\\20230531_200549_jpg.rf.877538da2e76a68408e15e64938943ae.jpg: 416x416 4 avocados, 1 carrot, 2 grated_cheeses, 8.2ms\n",
      "image 197/1846 C:\\Users\\ryun1\\ds\\final_project\\final_datafile\\data\\test\\images\\20230531_200549_jpg.rf.f8c9b4adfb455e523b25b6a619be52db.jpg: 416x416 4 avocados, 1 grated_cheese, 10.8ms\n",
      "image 198/1846 C:\\Users\\ryun1\\ds\\final_project\\final_datafile\\data\\test\\images\\222_jpg.rf.2daf802d66f5a74a4d98b98c46f3566e.jpg: 416x416 1 rice, 9.9ms\n",
      "image 199/1846 C:\\Users\\ryun1\\ds\\final_project\\final_datafile\\data\\test\\images\\234_jpg.rf.59b441894d881d38fea2b1aea0e7435e.jpg: 416x416 1 rice, 9.6ms\n",
      "image 200/1846 C:\\Users\\ryun1\\ds\\final_project\\final_datafile\\data\\test\\images\\23_jpg.rf.3dd3cfd21f34a12bd3719c28557af0da.jpg: 416x416 1 pork, 10.0ms\n",
      "image 201/1846 C:\\Users\\ryun1\\ds\\final_project\\final_datafile\\data\\test\\images\\25299910-raw-meat_jpg.rf.465eb540c7e9c9e75f7639ba622d22c1.jpg: 416x416 6 porks, 1 pork belly, 12.0ms\n",
      "image 202/1846 C:\\Users\\ryun1\\ds\\final_project\\final_datafile\\data\\test\\images\\263_png.rf.8f7b422b3d4a5231705035117086f921.jpg: 416x416 2 garlics, 3 onions, 10.9ms\n",
      "image 203/1846 C:\\Users\\ryun1\\ds\\final_project\\final_datafile\\data\\test\\images\\280_jpg.rf.40863defc1347c4dee9477b616eef93d.jpg: 416x416 4 garlics, 1 onion, 7.8ms\n",
      "image 204/1846 C:\\Users\\ryun1\\ds\\final_project\\final_datafile\\data\\test\\images\\282_jpg.rf.e6c4415a64f32385f88d9d60c5f76e1b.jpg: 416x416 4 carrots, 8.2ms\n",
      "image 205/1846 C:\\Users\\ryun1\\ds\\final_project\\final_datafile\\data\\test\\images\\284_jpg.rf.94c23d2c39446ae852d79f47189daa0b.jpg: 416x416 1 carrot, 11.5ms\n",
      "image 206/1846 C:\\Users\\ryun1\\ds\\final_project\\final_datafile\\data\\test\\images\\32_jpg.rf.455810eb8f42451e0862cfbf8b02055a.jpg: 416x416 1 chicken, 4 porks, 9.4ms\n",
      "image 207/1846 C:\\Users\\ryun1\\ds\\final_project\\final_datafile\\data\\test\\images\\32_jpg.rf.8d15330062c77828f846ebc58be02802.jpg: 416x416 3 porks, 7.7ms\n",
      "image 208/1846 C:\\Users\\ryun1\\ds\\final_project\\final_datafile\\data\\test\\images\\34_jpg.rf.462a7ec8098677fbfd35e71faa842a09.jpg: 416x416 1 pork, 1 pork belly, 8.2ms\n",
      "image 209/1846 C:\\Users\\ryun1\\ds\\final_project\\final_datafile\\data\\test\\images\\360_F_104690300_ZnY16nrvlKq4g2ZxBt068YeHVvpwcX12_jpg.rf.1a293f3b4de89eb4d17458574e50cc3c.jpg: 416x416 1 egg, 11.5ms\n",
      "image 210/1846 C:\\Users\\ryun1\\ds\\final_project\\final_datafile\\data\\test\\images\\3_jpg.rf.892f29330dbc58386de5a1d0c6be7ddd.jpg: 416x416 3 chickens, 12.8ms\n",
      "image 211/1846 C:\\Users\\ryun1\\ds\\final_project\\final_datafile\\data\\test\\images\\406a7c0ca50292aa4cbaa9372a713c99_jpg.rf.48bdadf7eb5a84b6847fc42d1520bb77.jpg: 416x416 2 beefs, 10.3ms\n",
      "image 212/1846 C:\\Users\\ryun1\\ds\\final_project\\final_datafile\\data\\test\\images\\40_jpg.rf.54b952307ef872a30fe240649e6684c0.jpg: 416x416 1 pork, 8.5ms\n",
      "image 213/1846 C:\\Users\\ryun1\\ds\\final_project\\final_datafile\\data\\test\\images\\44_jpg.rf.20774a637b7b38e529fd0c5c0e9ea3a4.jpg: 416x416 2 chickens, 10.4ms\n",
      "image 214/1846 C:\\Users\\ryun1\\ds\\final_project\\final_datafile\\data\\test\\images\\45-meat-png-image_jpg.rf.5269d1da9340d7685c585dd20971a921.jpg: 416x416 4 porks, 10.4ms\n",
      "image 215/1846 C:\\Users\\ryun1\\ds\\final_project\\final_datafile\\data\\test\\images\\45_jpg.rf.cc5698ae369c05069916f79b1171875e.jpg: 416x416 1 rice, 10.5ms\n",
      "image 216/1846 C:\\Users\\ryun1\\ds\\final_project\\final_datafile\\data\\test\\images\\49_jpg.rf.0a565374a1111c74b5328ef588e058e5.jpg: 416x416 2 porks, 1 pork belly, 10.4ms\n",
      "image 217/1846 C:\\Users\\ryun1\\ds\\final_project\\final_datafile\\data\\test\\images\\4_PNG.rf.2df78b8a41bbfbc78e5282a20278ba25.jpg: 416x416 1 red chili, 11.0ms\n",
      "image 218/1846 C:\\Users\\ryun1\\ds\\final_project\\final_datafile\\data\\test\\images\\82-2-_jpg.rf.f264fb811c0e870f62115071a48cbb52.jpg: 416x416 1 rice, 12.0ms\n",
      "image 219/1846 C:\\Users\\ryun1\\ds\\final_project\\final_datafile\\data\\test\\images\\88_jpg.rf.6b0a1086d1e922ca11fad1ffcf307cea.jpg: 416x416 1 white rice, 11.7ms\n",
      "image 220/1846 C:\\Users\\ryun1\\ds\\final_project\\final_datafile\\data\\test\\images\\8_jpg.rf.dfe618f81060764b27c3de8432d1009e.jpg: 416x416 1 chicken, 11.1ms\n",
      "image 221/1846 C:\\Users\\ryun1\\ds\\final_project\\final_datafile\\data\\test\\images\\9_jpg.rf.bb3d627b113d7e2963101e500c936d48.jpg: 416x416 1 rice, 12.2ms\n",
      "image 222/1846 C:\\Users\\ryun1\\ds\\final_project\\final_datafile\\data\\test\\images\\DSC_5680_JPG_jpg.rf.455f8f01a27e35d3ea1f2ae23129d5e5.jpg: 416x416 1 apple, 1 beef, 1 carrot, 1 cheese, 1 chicken, 1 corn, 1 flour, 1 mushrooms, 1 shrimp, 1 spinach, 2 sugars, 1 tomato, 11.7ms\n",
      "image 223/1846 C:\\Users\\ryun1\\ds\\final_project\\final_datafile\\data\\test\\images\\DSC_5680_JPG_jpg.rf.b0dceffe331c17eb45299bd9472670bc.jpg: 416x416 1 apple, 1 beef, 1 carrot, 1 cheese, 1 chicken, 1 corn, 1 flour, 1 mushrooms, 1 shrimp, 1 spinach, 2 sugars, 1 tomato, 8.6ms\n",
      "image 224/1846 C:\\Users\\ryun1\\ds\\final_project\\final_datafile\\data\\test\\images\\DSC_5681_JPG_jpg.rf.1aafe8d57bf4402e866bef63e168e341.jpg: 416x416 1 apple, 1 beef, 1 carrot, 1 cheese, 1 chicken, 1 corn, 1 flour, 1 mushrooms, 1 shrimp, 1 spinach, 2 sugars, 1 tomato, 8.5ms\n",
      "image 225/1846 C:\\Users\\ryun1\\ds\\final_project\\final_datafile\\data\\test\\images\\DSC_5681_JPG_jpg.rf.a4b29d5231c9ebfec6ac06000e3fb676.jpg: 416x416 1 apple, 1 beef, 1 carrot, 1 cheese, 1 chicken, 1 corn, 1 flour, 1 mushrooms, 1 shrimp, 1 spinach, 2 sugars, 1 tomato, 16.0ms\n",
      "image 226/1846 C:\\Users\\ryun1\\ds\\final_project\\final_datafile\\data\\test\\images\\DSC_5682_JPG_jpg.rf.8fff7aa0fc2617973ec93c587e34e50e.jpg: 416x416 1 apple, 1 beef, 1 butter, 1 cheese, 1 chicken, 1 corn, 1 flour, 1 mushrooms, 1 shrimp, 1 spinach, 2 sugars, 1 sweet_potato, 2 tomatos, 8.8ms\n",
      "image 227/1846 C:\\Users\\ryun1\\ds\\final_project\\final_datafile\\data\\test\\images\\DSC_5682_JPG_jpg.rf.c4c6db39de60a60cf5a660e300f54823.jpg: 416x416 1 apple, 1 beef, 1 butter, 1 cheese, 1 chicken, 1 corn, 1 flour, 1 mushrooms, 1 shrimp, 1 spinach, 2 sugars, 1 sweet_potato, 2 tomatos, 11.4ms\n",
      "image 228/1846 C:\\Users\\ryun1\\ds\\final_project\\final_datafile\\data\\test\\images\\DSC_5690_JPG_jpg.rf.469f4d7a5ad2060ef109a0579322cd04.jpg: 416x416 1 banana, 1 beef, 1 butter, 1 carrot, 1 corn, 1 flour, 1 milk, 1 mushrooms, 1 onion, 1 potato, 1 shrimp, 2 sugars, 1 sweet_potato, 1 tomato, 9.8ms\n",
      "image 229/1846 C:\\Users\\ryun1\\ds\\final_project\\final_datafile\\data\\test\\images\\DSC_5690_JPG_jpg.rf.4896aa028f4bd1cfa7355b9c4cb3122c.jpg: 416x416 1 banana, 1 beef, 1 butter, 1 carrot, 1 corn, 1 flour, 1 milk, 1 mushrooms, 1 onion, 1 potato, 1 shrimp, 2 sugars, 1 sweet_potato, 1 tomato, 13.4ms\n",
      "image 230/1846 C:\\Users\\ryun1\\ds\\final_project\\final_datafile\\data\\test\\images\\DSC_5691_JPG_jpg.rf.d4e9a50b0efd9b6457fd1de521399f0a.jpg: 416x416 1 banana, 1 beef, 1 butter, 1 carrot, 1 corn, 1 flour, 1 goat_cheese, 1 milk, 1 mushrooms, 2 potatos, 2 sugars, 1 sweet_potato, 1 tomato, 10.4ms\n",
      "image 231/1846 C:\\Users\\ryun1\\ds\\final_project\\final_datafile\\data\\test\\images\\DSC_5691_JPG_jpg.rf.fb7300a0fc94715fb5cbf731c8db689f.jpg: 416x416 1 banana, 1 beef, 1 butter, 1 carrot, 1 corn, 1 flour, 1 goat_cheese, 1 milk, 1 mushrooms, 2 potatos, 2 sugars, 1 sweet_potato, 1 tomato, 8.8ms\n",
      "image 232/1846 C:\\Users\\ryun1\\ds\\final_project\\final_datafile\\data\\test\\images\\DSC_5708_JPG_jpg.rf.6438dbe61070b729adf4ac58802e9770.jpg: 416x416 1 beef, 1 butter, 1 cheese, 2 flours, 1 heavy_cream, 1 milk, 1 potato, 1 shrimp, 1 strawberries, 1 sugar, 1 tomato, 10.4ms\n",
      "image 233/1846 C:\\Users\\ryun1\\ds\\final_project\\final_datafile\\data\\test\\images\\DSC_5708_JPG_jpg.rf.e253b3f321ccdb0865b98f2f55aba63e.jpg: 416x416 1 beef, 1 butter, 1 cheese, 2 flours, 1 heavy_cream, 1 milk, 1 potato, 1 shrimp, 1 strawberries, 1 sugar, 1 tomato, 10.5ms\n",
      "image 234/1846 C:\\Users\\ryun1\\ds\\final_project\\final_datafile\\data\\test\\images\\DSC_5710_JPG_jpg.rf.31c0431f986a6f395f861e024d243034.jpg: 416x416 1 apple, 1 beef, 1 butter, 1 carrot, 1 chicken, 2 flours, 1 heavy_cream, 1 lime, 1 milk, 1 potato, 1 shrimp, 1 strawberries, 1 sugar, 1 tomato, 12.5ms\n",
      "image 235/1846 C:\\Users\\ryun1\\ds\\final_project\\final_datafile\\data\\test\\images\\DSC_5710_JPG_jpg.rf.aecb73be10f928f14feb59b158f3b6bf.jpg: 416x416 1 apple, 1 beef, 1 butter, 1 carrot, 1 chicken, 2 flours, 1 heavy_cream, 1 lime, 1 milk, 1 potato, 1 shrimp, 1 strawberries, 1 sugar, 1 tomato, 14.5ms\n",
      "image 236/1846 C:\\Users\\ryun1\\ds\\final_project\\final_datafile\\data\\test\\images\\DSC_5711_JPG_jpg.rf.93b43550bfa0c0136939f6df7cf6aba8.jpg: 416x416 1 apple, 1 beef, 1 butter, 1 carrot, 2 flours, 1 heavy_cream, 1 lime, 1 milk, 1 potato, 2 shrimps, 1 strawberries, 1 sugar, 1 tomato, 10.6ms\n"
     ]
    },
    {
     "name": "stdout",
     "output_type": "stream",
     "text": [
      "image 237/1846 C:\\Users\\ryun1\\ds\\final_project\\final_datafile\\data\\test\\images\\DSC_5711_JPG_jpg.rf.f8f54647e9d4af2cb90958cd8b2af63f.jpg: 416x416 2 apples, 1 beef, 1 butter, 1 carrot, 2 flours, 1 heavy_cream, 1 lime, 1 milk, 1 potato, 2 shrimps, 1 strawberries, 1 sugar, 1 tomato, 14.9ms\n",
      "image 238/1846 C:\\Users\\ryun1\\ds\\final_project\\final_datafile\\data\\test\\images\\DSC_5712_JPG_jpg.rf.0bd808ec00a46b8684cc9d4dd42f9cee.jpg: 416x416 1 apple, 1 beef, 2 butters, 1 carrot, 2 flours, 1 heavy_cream, 1 lime, 1 milk, 1 potato, 1 shrimp, 1 strawberries, 1 sugar, 1 tomato, 12.8ms\n",
      "image 239/1846 C:\\Users\\ryun1\\ds\\final_project\\final_datafile\\data\\test\\images\\DSC_5712_JPG_jpg.rf.60da6c9ac8e3cdc140810181a7aee3cc.jpg: 416x416 1 apple, 1 beef, 2 butters, 1 carrot, 2 flours, 1 heavy_cream, 1 lime, 1 milk, 1 potato, 1 shrimp, 1 strawberries, 1 sugar, 1 tomato, 14.6ms\n",
      "image 240/1846 C:\\Users\\ryun1\\ds\\final_project\\final_datafile\\data\\test\\images\\DSC_5712_JPG_jpg.rf.9b51bb4da460f05a67064bb8319a3ef2.jpg: 416x416 1 apple, 1 beef, 1 butter, 1 carrot, 2 flours, 1 heavy_cream, 1 lime, 1 milk, 1 potato, 1 shrimp, 1 strawberries, 1 sugar, 1 tomato, 13.7ms\n",
      "image 241/1846 C:\\Users\\ryun1\\ds\\final_project\\final_datafile\\data\\test\\images\\DSC_5712_JPG_jpg.rf.a597ca7175f117209350da7e431de689.jpg: 416x416 1 apple, 1 beef, 1 butter, 1 carrot, 2 flours, 1 heavy_cream, 1 lime, 1 milk, 1 potato, 1 shrimp, 1 strawberries, 1 sugar, 1 tomato, 9.1ms\n",
      "image 242/1846 C:\\Users\\ryun1\\ds\\final_project\\final_datafile\\data\\test\\images\\DSC_5716_JPG_jpg.rf.75fcb20308e6dae26b739815a6d4abd0.jpg: 416x416 1 blueberries, 2 cheeses, 1 chicken, 1 corn, 2 flours, 1 heavy_cream, 1 milk, 1 mushrooms, 1 strawberries, 1 sugar, 2 sweet_potatos, 9.0ms\n",
      "image 243/1846 C:\\Users\\ryun1\\ds\\final_project\\final_datafile\\data\\test\\images\\DSC_5717_JPG_jpg.rf.2fad251cc4a91e7ca98d053e122b2ad0.jpg: 416x416 2 blueberriess, 1 butter, 1 cheese, 1 chicken, 1 corn, 1 flour, 1 heavy_cream, 1 milk, 1 mushrooms, 1 potato, 1 strawberries, 1 sugar, 2 sweet_potatos, 13.7ms\n",
      "image 244/1846 C:\\Users\\ryun1\\ds\\final_project\\final_datafile\\data\\test\\images\\DSC_5717_JPG_jpg.rf.93083a736663f41594d90197650faafe.jpg: 416x416 1 blueberries, 1 butter, 1 cheese, 1 chicken, 1 corn, 1 flour, 1 heavy_cream, 1 milk, 1 mushrooms, 1 strawberries, 1 sugar, 2 sweet_potatos, 15.0ms\n",
      "image 245/1846 C:\\Users\\ryun1\\ds\\final_project\\final_datafile\\data\\test\\images\\DSC_5719_JPG_jpg.rf.ec3a5960a049e54f48cec38497472b40.jpg: 416x416 1 cheese, 1 chicken, 1 corn, 1 flour, 1 green_beans, 1 heavy_cream, 1 milk, 1 potato, 1 shrimp, 1 sugar, 2 sweet_potatos, 10.2ms\n",
      "image 246/1846 C:\\Users\\ryun1\\ds\\final_project\\final_datafile\\data\\test\\images\\DSC_5720_JPG_jpg.rf.848416f849d1a18900c406554d8d1eff.jpg: 416x416 1 cheese, 1 chicken, 1 corn, 1 green_beans, 1 heavy_cream, 1 milk, 1 potato, 1 shrimp, 1 strawberries, 1 sugar, 2 sweet_potatos, 14.5ms\n",
      "image 247/1846 C:\\Users\\ryun1\\ds\\final_project\\final_datafile\\data\\test\\images\\DSC_5724_JPG_jpg.rf.b229018d5c06347481a6d6c0d2d2349b.jpg: 416x416 1 apple, 1 butter, 1 carrot, 1 cheese, 1 chicken, 1 flour, 1 ham, 1 milk, 1 potato, 2 sugars, 2 sweet_potatos, 1 tomato, 13.8ms\n",
      "image 248/1846 C:\\Users\\ryun1\\ds\\final_project\\final_datafile\\data\\test\\images\\DSC_5725_JPG_jpg.rf.0f071ad114e51a731f4bfc5ad568407b.jpg: 416x416 1 apple, 1 banana, 1 butter, 1 carrot, 1 cheese, 1 chicken, 1 flour, 1 green_beans, 1 ham, 1 heavy_cream, 1 milk, 1 potato, 1 sugar, 3 sweet_potatos, 9.0ms\n",
      "image 249/1846 C:\\Users\\ryun1\\ds\\final_project\\final_datafile\\data\\test\\images\\DSC_5725_JPG_jpg.rf.1a655cac1c6feaf4c3127e8e6c720b45.jpg: 416x416 1 apple, 1 banana, 1 butter, 1 carrot, 1 chicken, 1 flour, 1 green_beans, 1 ham, 1 milk, 1 potato, 1 sugar, 2 sweet_potatos, 9.4ms\n",
      "image 250/1846 C:\\Users\\ryun1\\ds\\final_project\\final_datafile\\data\\test\\images\\DSC_5725_JPG_jpg.rf.2838a0153b708619c773ebc5fd5441be.jpg: 416x416 1 apple, 1 butter, 1 carrot, 1 cheese, 1 chicken, 1 green_beans, 1 ham, 1 milk, 1 potato, 2 sugars, 2 sweet_potatos, 8.9ms\n",
      "image 251/1846 C:\\Users\\ryun1\\ds\\final_project\\final_datafile\\data\\test\\images\\DSC_5727_JPG_jpg.rf.a75fa69bb7d5a0cbda8a4b6977ae5063.jpg: 416x416 1 apple, 1 banana, 1 carrot, 1 cheese, 1 chicken, 1 flour, 2 milks, 1 potato, 1 strawberries, 1 sugar, 1 sweet_potato, 1 tomato, 9.6ms\n",
      "image 252/1846 C:\\Users\\ryun1\\ds\\final_project\\final_datafile\\data\\test\\images\\DSC_5728_JPG_jpg.rf.9b625d4a0ad9056cedc4d2294009973a.jpg: 416x416 1 apple, 1 banana, 1 carrot, 1 cheese, 1 chicken, 2 flours, 1 goat_cheese, 1 heavy_cream, 1 milk, 1 potato, 1 strawberries, 1 sugar, 1 sweet_potato, 2 tomatos, 9.1ms\n",
      "image 253/1846 C:\\Users\\ryun1\\ds\\final_project\\final_datafile\\data\\test\\images\\DSC_5728_JPG_jpg.rf.cc4e9f16c98cefa9874fd2c76b1cf34c.jpg: 416x416 1 apple, 1 banana, 1 carrot, 1 cheese, 1 chicken, 2 flours, 1 milk, 1 potato, 1 strawberries, 1 sugar, 2 tomatos, 8.8ms\n",
      "image 254/1846 C:\\Users\\ryun1\\ds\\final_project\\final_datafile\\data\\test\\images\\DSC_5737_JPG_jpg.rf.404ae84f33085dddbaae71e75fd397c5.jpg: 416x416 1 beef, 1 blueberries, 1 cheese, 1 green_beans, 1 heavy_cream, 1 lime, 1 mushrooms, 1 onion, 1 potato, 1 spinach, 1 strawberries, 1 sweet_potato, 1 tomato, 9.4ms\n",
      "image 255/1846 C:\\Users\\ryun1\\ds\\final_project\\final_datafile\\data\\test\\images\\DSC_5737_JPG_jpg.rf.f23f82baeb0cb7e20d1ddce281498763.jpg: 416x416 1 beef, 1 blueberries, 1 cheese, 1 green_beans, 1 heavy_cream, 1 lime, 1 mushrooms, 1 onion, 1 potato, 1 spinach, 1 strawberries, 1 sweet_potato, 1 tomato, 9.1ms\n",
      "image 256/1846 C:\\Users\\ryun1\\ds\\final_project\\final_datafile\\data\\test\\images\\DSC_5741_JPG_jpg.rf.2ea2f9c27d0cbd55b045ca21ab4e63f8.jpg: 416x416 1 banana, 1 beef, 2 flours, 1 goat_cheese, 2 green_beanss, 1 ground_beef, 1 mushrooms, 1 onion, 1 spinach, 1 strawberries, 1 sugar, 1 tomato, 12.8ms\n",
      "image 257/1846 C:\\Users\\ryun1\\ds\\final_project\\final_datafile\\data\\test\\images\\DSC_5741_JPG_jpg.rf.51d14a38f664b147a5fe745ae5c61a4e.jpg: 416x416 1 banana, 1 beef, 2 flours, 1 goat_cheese, 1 green_beans, 1 ground_beef, 1 mushrooms, 1 onion, 1 spinach, 1 strawberries, 1 sugar, 1 tomato, 12.1ms\n",
      "image 258/1846 C:\\Users\\ryun1\\ds\\final_project\\final_datafile\\data\\test\\images\\DSC_5749_JPG_jpg.rf.0aa7993edf43b56a3bda58736ef2c95a.jpg: 416x416 1 beef, 1 blueberries, 1 flour, 1 goat_cheese, 1 green_beans, 1 ham, 1 lime, 1 mushrooms, 1 onion, 1 spinach, 1 strawberries, 1 sugar, 14.5ms\n",
      "image 259/1846 C:\\Users\\ryun1\\ds\\final_project\\final_datafile\\data\\test\\images\\DSC_5749_JPG_jpg.rf.48f705b92b7c4281c5a31da733a0a88c.jpg: 416x416 1 beef, 1 blueberries, 1 flour, 1 goat_cheese, 1 green_beans, 1 ham, 1 lime, 1 mushrooms, 1 onion, 1 spinach, 1 strawberries, 1 sugar, 13.9ms\n",
      "image 260/1846 C:\\Users\\ryun1\\ds\\final_project\\final_datafile\\data\\test\\images\\DSC_5749_JPG_jpg.rf.e950421ca54d574949165ecb1af2b1fb.jpg: 416x416 1 beef, 1 blueberries, 1 flour, 1 goat_cheese, 1 green_beans, 1 ham, 1 lime, 1 mushrooms, 1 onion, 1 spinach, 1 strawberries, 1 sugar, 12.2ms\n",
      "image 261/1846 C:\\Users\\ryun1\\ds\\final_project\\final_datafile\\data\\test\\images\\DSC_5749_JPG_jpg.rf.eb3b41baecbdbe1e1225f25d7f9b2d85.jpg: 416x416 1 beef, 1 blueberries, 1 flour, 1 goat_cheese, 1 green_beans, 1 ham, 1 lime, 1 mushrooms, 1 onion, 1 spinach, 1 strawberries, 1 sugar, 12.4ms\n",
      "image 262/1846 C:\\Users\\ryun1\\ds\\final_project\\final_datafile\\data\\test\\images\\DSC_5765_JPG_jpg.rf.0d9b428959e51a78e8f3ef8199abfbde.jpg: 416x416 1 banana, 1 beef, 1 blueberries, 1 carrot, 2 flours, 1 green_beans, 1 ground_beef, 1 lime, 1 milk, 1 shrimp, 1 spinach, 1 tomato, 9.9ms\n",
      "image 263/1846 C:\\Users\\ryun1\\ds\\final_project\\final_datafile\\data\\test\\images\\DSC_5765_JPG_jpg.rf.350bf18d133a99d8156f3f639366a78a.jpg: 416x416 1 banana, 1 beef, 1 blueberries, 1 carrot, 2 flours, 1 green_beans, 1 ground_beef, 1 lime, 1 milk, 1 shrimp, 1 spinach, 1 tomato, 14.7ms\n",
      "image 264/1846 C:\\Users\\ryun1\\ds\\final_project\\final_datafile\\data\\test\\images\\DSC_5766_JPG_jpg.rf.1a82de00af73f028f4ddc3f98503f656.jpg: 416x416 1 beef, 1 carrot, 2 flours, 1 green_beans, 1 ground_beef, 1 ham, 1 lime, 1 milk, 1 mushrooms, 1 shrimp, 1 spinach, 1 strawberries, 1 tomato, 12.8ms\n",
      "image 265/1846 C:\\Users\\ryun1\\ds\\final_project\\final_datafile\\data\\test\\images\\DSC_5766_JPG_jpg.rf.2c254199e562d27e336b46218ebb250f.jpg: 416x416 1 beef, 1 carrot, 2 flours, 1 green_beans, 1 ground_beef, 1 ham, 1 lime, 1 milk, 1 mushrooms, 1 shrimp, 1 spinach, 1 strawberries, 1 tomato, 11.9ms\n"
     ]
    },
    {
     "name": "stdout",
     "output_type": "stream",
     "text": [
      "image 266/1846 C:\\Users\\ryun1\\ds\\final_project\\final_datafile\\data\\test\\images\\DSC_5767_JPG_jpg.rf.9b5be0738b7b19ca1db3185c62eb8f4d.jpg: 416x416 1 banana, 1 beef, 1 carrot, 2 flours, 1 green_beans, 1 ground_beef, 1 lime, 1 milk, 1 spinach, 1 strawberries, 1 tomato, 12.2ms\n",
      "image 267/1846 C:\\Users\\ryun1\\ds\\final_project\\final_datafile\\data\\test\\images\\DSC_5767_JPG_jpg.rf.c695d8c2db43f4f22aa38c166a691b40.jpg: 416x416 1 banana, 1 beef, 1 carrot, 2 flours, 1 green_beans, 1 ground_beef, 1 lime, 1 milk, 1 spinach, 1 strawberries, 1 tomato, 9.8ms\n",
      "image 268/1846 C:\\Users\\ryun1\\ds\\final_project\\final_datafile\\data\\test\\images\\DSC_5771_JPG_jpg.rf.5aeca91c34db86c8b4b213ad5dadc3fa.jpg: 416x416 1 banana, 1 beef, 2 flours, 1 green_beans, 1 lime, 1 milk, 1 potato, 1 spinach, 1 strawberries, 1 sugar, 1 tomato, 13.8ms\n",
      "image 269/1846 C:\\Users\\ryun1\\ds\\final_project\\final_datafile\\data\\test\\images\\DSC_5771_JPG_jpg.rf.9d48ff560225e8cecc1a040c42925d55.jpg: 416x416 1 banana, 1 beef, 2 flours, 1 green_beans, 1 lime, 1 milk, 1 potato, 1 spinach, 1 strawberries, 1 sugar, 1 tomato, 12.0ms\n",
      "image 270/1846 C:\\Users\\ryun1\\ds\\final_project\\final_datafile\\data\\test\\images\\DSC_5771_JPG_jpg.rf.acbf4f50053cf10e3a206adc26bd835e.jpg: 416x416 1 banana, 1 beef, 2 flours, 1 green_beans, 1 lime, 1 milk, 1 potato, 1 spinach, 1 strawberries, 1 sugar, 1 tomato, 10.4ms\n",
      "image 271/1846 C:\\Users\\ryun1\\ds\\final_project\\final_datafile\\data\\test\\images\\DSC_5771_JPG_jpg.rf.f9487459347cc76d846df0ddb60fa099.jpg: 416x416 1 banana, 1 beef, 2 flours, 1 green_beans, 1 lime, 1 milk, 1 potato, 1 spinach, 1 strawberries, 1 sugar, 1 tomato, 9.3ms\n",
      "image 272/1846 C:\\Users\\ryun1\\ds\\final_project\\final_datafile\\data\\test\\images\\DSC_5773_JPG_jpg.rf.a24bed28a47ced5bcf86a63edca29d2c.jpg: 416x416 1 beef, 1 carrot, 1 corn, 1 flour, 1 lime, 1 milk, 1 potato, 1 spinach, 1 strawberries, 1 sugar, 1 tomato, 10.2ms\n",
      "image 273/1846 C:\\Users\\ryun1\\ds\\final_project\\final_datafile\\data\\test\\images\\DSC_5773_JPG_jpg.rf.a8b462b51404658ba011f44c6a33a05b.jpg: 416x416 1 beef, 1 carrot, 1 corn, 1 flour, 1 lime, 1 milk, 1 potato, 1 spinach, 1 strawberries, 1 sugar, 1 tomato, 9.2ms\n",
      "image 274/1846 C:\\Users\\ryun1\\ds\\final_project\\final_datafile\\data\\test\\images\\DSC_5773_JPG_jpg.rf.ab8045b3c1c9c2ed08ecf834024a649c.jpg: 416x416 1 beef, 1 carrot, 1 corn, 1 flour, 1 lime, 1 milk, 1 potato, 1 spinach, 1 strawberries, 1 sugar, 1 tomato, 10.7ms\n",
      "image 275/1846 C:\\Users\\ryun1\\ds\\final_project\\final_datafile\\data\\test\\images\\DSC_5773_JPG_jpg.rf.b5082c4c7cefdb61eae2029eb55508af.jpg: 416x416 1 beef, 1 carrot, 1 corn, 1 flour, 1 lime, 1 milk, 1 potato, 1 spinach, 1 strawberries, 1 sugar, 1 tomato, 9.5ms\n",
      "image 276/1846 C:\\Users\\ryun1\\ds\\final_project\\final_datafile\\data\\test\\images\\DSC_5777_JPG_jpg.rf.522af0d6d6ece137fe78beb26c82b087.jpg: 416x416 1 beef, 1 carrot, 1 chicken, 1 corn, 1 green_beans, 2 milks, 1 potato, 1 shrimp, 1 strawberries, 9.6ms\n",
      "image 277/1846 C:\\Users\\ryun1\\ds\\final_project\\final_datafile\\data\\test\\images\\DSC_5777_JPG_jpg.rf.cf56a376adc1a5ad3a38304be53fe805.jpg: 416x416 1 carrot, 1 chicken, 1 corn, 1 green_beans, 1 ground_beef, 2 milks, 1 potato, 1 shrimp, 1 strawberries, 8.6ms\n",
      "image 278/1846 C:\\Users\\ryun1\\ds\\final_project\\final_datafile\\data\\test\\images\\DSC_5779_JPG_jpg.rf.5a57cc411b4738b45375c416511b9d86.jpg: 416x416 1 beef, 1 chicken, 1 corn, 2 onions, 1 potato, 1 shrimp, 1 sweet_potato, 9.3ms\n",
      "image 279/1846 C:\\Users\\ryun1\\ds\\final_project\\final_datafile\\data\\test\\images\\DSC_5789_JPG_jpg.rf.6fb345a1ebabf2946fd85f840a725276.jpg: 416x416 1 banana, 1 butter, 2 carrots, 1 chicken, 1 corn, 1 flour, 1 goat_cheese, 1 green_beans, 2 heavy_creams, 2 milks, 1 onion, 1 spinach, 1 strawberries, 1 sugar, 1 sweet_potato, 1 tomato, 11.1ms\n",
      "image 280/1846 C:\\Users\\ryun1\\ds\\final_project\\final_datafile\\data\\test\\images\\DSC_5789_JPG_jpg.rf.74f647476acec4c792218c9f5fc810d4.jpg: 416x416 1 banana, 1 butter, 2 carrots, 2 chickens, 1 corn, 1 flour, 1 goat_cheese, 1 green_beans, 1 heavy_cream, 2 milks, 2 onions, 1 spinach, 1 strawberries, 1 sugar, 1 sweet_potato, 1 tomato, 9.4ms\n",
      "image 281/1846 C:\\Users\\ryun1\\ds\\final_project\\final_datafile\\data\\test\\images\\DSC_5791_JPG_jpg.rf.7a53f906ea4a38c5fdfa2a569e59eb41.jpg: 416x416 1 banana, 1 blueberries, 1 butter, 2 carrots, 1 chicken, 1 corn, 1 flour, 1 goat_cheese, 1 green_beans, 1 heavy_cream, 2 milks, 1 onion, 1 potato, 1 spinach, 1 strawberries, 2 sugars, 3 sweet_potatos, 1 tomato, 8.3ms\n",
      "image 282/1846 C:\\Users\\ryun1\\ds\\final_project\\final_datafile\\data\\test\\images\\DSC_5791_JPG_jpg.rf.9de9819ce0c4349567ab97c6c9290b6f.jpg: 416x416 1 banana, 1 blueberries, 1 butter, 3 carrots, 1 chicken, 1 corn, 1 flour, 1 goat_cheese, 1 green_beans, 1 heavy_cream, 3 milks, 1 onion, 1 potato, 1 spinach, 1 strawberries, 3 sugars, 1 sweet_potato, 1 tomato, 9.1ms\n",
      "image 283/1846 C:\\Users\\ryun1\\ds\\final_project\\final_datafile\\data\\test\\images\\DSC_5794_JPG_jpg.rf.7c4b632ea4a8ab68c47b35d8400f5fec.jpg: 416x416 1 apple, 1 banana, 1 beef, 1 blueberries, 1 butter, 1 carrot, 1 chicken, 1 corn, 2 flours, 1 goat_cheese, 1 green_beans, 1 ground_beef, 1 heavy_cream, 1 lime, 2 milks, 1 onion, 1 potato, 1 spinach, 1 strawberries, 2 sugars, 1 sweet_potato, 2 tomatos, 8.7ms\n",
      "image 284/1846 C:\\Users\\ryun1\\ds\\final_project\\final_datafile\\data\\test\\images\\DSC_5794_JPG_jpg.rf.7f0c6eb1b5a8273a79f0c3ffed3bf871.jpg: 416x416 1 apple, 1 banana, 1 beef, 1 blueberries, 1 butter, 1 carrot, 1 chicken, 1 corn, 1 flour, 1 goat_cheese, 1 green_beans, 1 ground_beef, 1 heavy_cream, 1 lime, 2 milks, 1 onion, 1 potato, 1 spinach, 1 strawberries, 2 sugars, 1 sweet_potato, 2 tomatos, 12.7ms\n",
      "image 285/1846 C:\\Users\\ryun1\\ds\\final_project\\final_datafile\\data\\test\\images\\DSC_5795_JPG_jpg.rf.593cf1c17d9493e1537f23f3e96e3a90.jpg: 416x416 1 apple, 1 banana, 1 beef, 1 blueberries, 1 butter, 2 carrots, 1 chicken, 1 corn, 1 flour, 1 goat_cheese, 1 green_beans, 1 ground_beef, 1 ham, 1 heavy_cream, 2 milks, 1 onion, 1 potato, 1 spinach, 1 strawberries, 2 sugars, 1 sweet_potato, 1 tomato, 14.3ms\n",
      "image 286/1846 C:\\Users\\ryun1\\ds\\final_project\\final_datafile\\data\\test\\images\\DSC_5795_JPG_jpg.rf.c8c911e910fff19d02d26f0dfc0a005a.jpg: 416x416 1 apple, 1 banana, 1 beef, 1 blueberries, 1 butter, 2 carrots, 1 chicken, 1 corn, 1 flour, 1 goat_cheese, 1 green_beans, 1 ground_beef, 1 ham, 1 heavy_cream, 2 milks, 1 onion, 1 potato, 1 spinach, 1 strawberries, 2 sugars, 1 sweet_potato, 1 tomato, 13.9ms\n",
      "image 287/1846 C:\\Users\\ryun1\\ds\\final_project\\final_datafile\\data\\test\\images\\DSC_5796_JPG_jpg.rf.bc2639b7ebcc080a95dda673a6e58d5c.jpg: 416x416 1 apple, 1 banana, 1 beef, 1 blueberries, 1 butter, 2 carrots, 1 chicken, 1 corn, 1 flour, 1 goat_cheese, 1 green_beans, 1 heavy_cream, 1 lime, 2 milks, 1 mushrooms, 1 onion, 1 potato, 1 spinach, 1 strawberries, 2 sugars, 1 sweet_potato, 1 tomato, 11.7ms\n",
      "image 288/1846 C:\\Users\\ryun1\\ds\\final_project\\final_datafile\\data\\test\\images\\DSC_5797_JPG_jpg.rf.4b0bf469f5e94c4a301889feacf5954e.jpg: 416x416 1 apple, 1 banana, 1 blueberries, 1 butter, 2 carrots, 1 chicken, 1 corn, 1 flour, 1 goat_cheese, 1 green_beans, 1 ground_beef, 1 heavy_cream, 1 lime, 2 milks, 1 mushrooms, 1 onion, 1 potato, 1 spinach, 1 strawberries, 2 sugars, 1 sweet_potato, 1 tomato, 13.1ms\n",
      "image 289/1846 C:\\Users\\ryun1\\ds\\final_project\\final_datafile\\data\\test\\images\\DSC_5798_JPG_jpg.rf.8c205abcfd81e7cd19c07802f8630e8f.jpg: 416x416 1 apple, 1 banana, 1 butter, 2 carrots, 1 cheese, 1 chicken, 1 corn, 1 flour, 1 goat_cheese, 1 green_beans, 1 ground_beef, 1 heavy_cream, 1 lime, 2 milks, 1 mushrooms, 1 potato, 1 spinach, 1 strawberries, 2 sugars, 1 sweet_potato, 1 tomato, 11.1ms\n",
      "image 290/1846 C:\\Users\\ryun1\\ds\\final_project\\final_datafile\\data\\test\\images\\DSC_5802_JPG_jpg.rf.af1268f8d721a3417b8652c43d13113a.jpg: 416x416 1 apple, 1 beef, 1 blueberries, 1 butter, 2 carrots, 1 cheese, 1 corn, 2 flours, 1 goat_cheese, 1 green_beans, 1 ham, 1 heavy_cream, 1 lime, 1 milk, 1 mushrooms, 1 onion, 1 potato, 1 shrimp, 1 spinach, 1 strawberries, 2 sugars, 1 sweet_potato, 1 tomato, 11.5ms\n",
      "image 291/1846 C:\\Users\\ryun1\\ds\\final_project\\final_datafile\\data\\test\\images\\DSC_5802_JPG_jpg.rf.b7028bcbca1069f8452ec7e57b18d36b.jpg: 416x416 1 apple, 1 beef, 1 blueberries, 1 butter, 2 carrots, 1 cheese, 1 corn, 2 flours, 1 goat_cheese, 1 green_beans, 1 ham, 1 heavy_cream, 1 lime, 1 milk, 1 mushrooms, 1 onion, 1 potato, 1 shrimp, 1 spinach, 1 strawberries, 2 sugars, 1 sweet_potato, 1 tomato, 11.5ms\n"
     ]
    },
    {
     "name": "stdout",
     "output_type": "stream",
     "text": [
      "image 292/1846 C:\\Users\\ryun1\\ds\\final_project\\final_datafile\\data\\test\\images\\DSC_5805_JPG_jpg.rf.b35abbcd5befbb9bb10b94c24fae7ba1.jpg: 416x416 1 apple, 1 banana, 1 blueberries, 1 butter, 1 carrot, 1 cheese, 1 chicken, 1 flour, 1 goat_cheese, 1 ham, 2 milks, 1 mushrooms, 1 onion, 1 potato, 1 spinach, 1 strawberries, 1 sugar, 1 tomato, 16.2ms\n",
      "image 293/1846 C:\\Users\\ryun1\\ds\\final_project\\final_datafile\\data\\test\\images\\DSC_5806_JPG_jpg.rf.a042be56e76f036dec4278fc785bfcef.jpg: 416x416 1 apple, 1 banana, 2 blueberriess, 1 butter, 1 carrot, 1 cheese, 1 chicken, 1 goat_cheese, 2 milks, 1 mushrooms, 1 onion, 1 potato, 1 spinach, 1 strawberries, 1 sugar, 1 tomato, 11.3ms\n",
      "image 294/1846 C:\\Users\\ryun1\\ds\\final_project\\final_datafile\\data\\test\\images\\DSC_5808_JPG_jpg.rf.7cacdde5cd30d92528898afb98944a63.jpg: 416x416 1 apple, 1 banana, 2 blueberriess, 1 butter, 1 carrot, 1 chicken, 1 green_beans, 2 milks, 1 mushrooms, 1 onion, 1 shrimp, 1 spinach, 1 sugar, 1 tomato, 14.3ms\n",
      "image 295/1846 C:\\Users\\ryun1\\ds\\final_project\\final_datafile\\data\\test\\images\\DSC_5810_JPG_jpg.rf.88f4765708deca54272a5c7c8b278808.jpg: 416x416 1 apple, 2 bananas, 1 beef, 1 butter, 1 carrot, 1 cheese, 1 green_beans, 1 ham, 1 heavy_cream, 2 milks, 1 mushrooms, 1 onion, 1 shrimp, 9.1ms\n",
      "image 296/1846 C:\\Users\\ryun1\\ds\\final_project\\final_datafile\\data\\test\\images\\DSC_5810_JPG_jpg.rf.8c32d5d9da9bf49373eb309774ff540f.jpg: 416x416 1 apple, 2 bananas, 1 beef, 1 blueberries, 1 butter, 1 carrot, 1 cheese, 1 flour, 1 green_beans, 1 heavy_cream, 2 milks, 1 mushrooms, 1 shrimp, 10.2ms\n",
      "image 297/1846 C:\\Users\\ryun1\\ds\\final_project\\final_datafile\\data\\test\\images\\DSC_5811_JPG_jpg.rf.1cb3f285286a382ebfcac31b29315171.jpg: 416x416 2 apples, 1 blueberries, 1 carrot, 1 cheese, 1 chicken, 1 green_beans, 2 milks, 1 mushrooms, 1 onion, 1 shrimp, 1 spinach, 10.2ms\n",
      "image 298/1846 C:\\Users\\ryun1\\ds\\final_project\\final_datafile\\data\\test\\images\\DSC_5815_JPG_jpg.rf.7c100cf24c912306402fb8b6ce9a17b2.jpg: 416x416 1 apple, 1 banana, 1 beef, 2 blueberriess, 1 chicken, 1 ground_beef, 1 lime, 1 mushrooms, 1 onion, 1 shrimp, 1 spinach, 1 strawberries, 1 sweet_potato, 12.5ms\n",
      "image 299/1846 C:\\Users\\ryun1\\ds\\final_project\\final_datafile\\data\\test\\images\\DSC_5816_JPG_jpg.rf.1ebd77a68782e77d6446ead482996e3c.jpg: 416x416 2 apples, 1 blueberries, 1 butter, 1 cheese, 1 chicken, 1 corn, 1 flour, 1 goat_cheese, 1 lime, 1 mushrooms, 1 onion, 1 shrimp, 1 spinach, 1 strawberries, 8.6ms\n",
      "image 300/1846 C:\\Users\\ryun1\\ds\\final_project\\final_datafile\\data\\test\\images\\DSC_5816_JPG_jpg.rf.a4918606aabaef107359bf403c81184c.jpg: 416x416 2 apples, 1 blueberries, 1 butter, 1 carrot, 1 cheese, 1 chicken, 1 corn, 1 goat_cheese, 1 mushrooms, 1 onion, 1 shrimp, 1 spinach, 1 strawberries, 9.2ms\n",
      "image 301/1846 C:\\Users\\ryun1\\ds\\final_project\\final_datafile\\data\\test\\images\\DSC_5817_JPG_jpg.rf.7e280d32e007de51317bce89a9a86406.jpg: 416x416 2 apples, 1 blueberries, 1 butter, 1 carrot, 1 cheese, 1 chicken, 1 corn, 1 goat_cheese, 2 limes, 1 onion, 1 shrimp, 2 strawberriess, 1 sweet_potato, 1 tomato, 9.7ms\n",
      "image 302/1846 C:\\Users\\ryun1\\ds\\final_project\\final_datafile\\data\\test\\images\\DSC_5817_JPG_jpg.rf.b721513a73111762b8c21e435170c658.jpg: 416x416 2 apples, 1 blueberries, 1 butter, 1 cheese, 1 chicken, 1 corn, 1 goat_cheese, 1 onion, 1 shrimp, 2 strawberriess, 9.8ms\n",
      "image 303/1846 C:\\Users\\ryun1\\ds\\final_project\\final_datafile\\data\\test\\images\\DSC_5818_JPG_jpg.rf.01c8b83023a561caef826ff59003aeb5.jpg: 416x416 2 apples, 1 blueberries, 1 butter, 1 cheese, 1 chicken, 1 corn, 1 goat_cheese, 1 lime, 1 onion, 1 potato, 1 shrimp, 2 strawberriess, 1 tomato, 10.2ms\n",
      "image 304/1846 C:\\Users\\ryun1\\ds\\final_project\\final_datafile\\data\\test\\images\\DSC_5822_JPG_jpg.rf.d641e2f45e4033b99b5d37cae3b07ce5.jpg: 416x416 1 blueberries, 1 butter, 1 carrot, 1 cheese, 1 chicken, 1 corn, 1 goat_cheese, 1 lime, 1 onion, 1 shrimp, 1 sugar, 14.3ms\n",
      "image 305/1846 C:\\Users\\ryun1\\ds\\final_project\\final_datafile\\data\\test\\images\\DSC_5823_JPG_jpg.rf.1a69f9cff676d2ae79c896891837d8cd.jpg: 416x416 1 banana, 1 butter, 1 carrot, 1 cheese, 1 chicken, 1 corn, 1 goat_cheese, 1 lime, 1 onion, 1 shrimp, 1 strawberries, 1 sugar, 11.9ms\n",
      "image 306/1846 C:\\Users\\ryun1\\ds\\final_project\\final_datafile\\data\\test\\images\\DSC_5823_JPG_jpg.rf.639c7a6220b49da77ee094526cb05a85.jpg: 416x416 1 banana, 1 butter, 1 carrot, 1 cheese, 1 chicken, 1 lime, 1 onion, 1 shrimp, 1 strawberries, 1 sugar, 9.1ms\n",
      "image 307/1846 C:\\Users\\ryun1\\ds\\final_project\\final_datafile\\data\\test\\images\\DSC_5824_JPG_jpg.rf.055f3a69ba20729f2bab6bea0d4a9145.jpg: 416x416 1 banana, 1 blueberries, 1 butter, 1 carrot, 1 chicken, 1 corn, 1 heavy_cream, 1 lime, 1 onion, 1 shrimp, 2 strawberriess, 1 sugar, 14.7ms\n",
      "image 308/1846 C:\\Users\\ryun1\\ds\\final_project\\final_datafile\\data\\test\\images\\DSC_5825_JPG_jpg.rf.896b4d287fd68808fa4ee556f487ee75.jpg: 416x416 1 blueberries, 1 butter, 1 carrot, 1 cheese, 1 chicken, 1 corn, 1 heavy_cream, 1 lime, 1 onion, 1 potato, 1 shrimp, 1 strawberries, 1 sugar, 1 sweet_potato, 13.8ms\n",
      "image 309/1846 C:\\Users\\ryun1\\ds\\final_project\\final_datafile\\data\\test\\images\\DSC_5828_JPG_jpg.rf.d1345367b2302799772b68ee53c2945b.jpg: 416x416 1 blueberries, 1 carrot, 1 cheese, 1 chicken, 1 green_beans, 1 ham, 1 onion, 1 potato, 1 strawberries, 1 sugar, 1 sweet_potato, 1 tomato, 13.3ms\n",
      "image 310/1846 C:\\Users\\ryun1\\ds\\final_project\\final_datafile\\data\\test\\images\\DSC_5828_JPG_jpg.rf.da7b8c156f9473f731a90e7e4af562f0.jpg: 416x416 1 blueberries, 1 carrot, 1 cheese, 1 chicken, 1 green_beans, 1 ham, 1 onion, 1 potato, 1 strawberries, 1 sugar, 1 sweet_potato, 1 tomato, 16.5ms\n",
      "image 311/1846 C:\\Users\\ryun1\\ds\\final_project\\final_datafile\\data\\test\\images\\DSC_5829_JPG_jpg.rf.2500d08af1c9c43b2827a5ce697cb09d.jpg: 416x416 1 blueberries, 1 carrot, 1 cheese, 1 chicken, 1 green_beans, 1 ham, 1 lime, 1 mushrooms, 1 strawberries, 1 sugar, 1 tomato, 14.9ms\n",
      "image 312/1846 C:\\Users\\ryun1\\ds\\final_project\\final_datafile\\data\\test\\images\\DSC_5829_JPG_jpg.rf.ab4f0c1a06f948bf527236825fdadfb3.jpg: 416x416 1 blueberries, 1 carrot, 1 cheese, 1 chicken, 1 green_beans, 1 ham, 1 lime, 1 mushrooms, 1 strawberries, 1 sugar, 1 tomato, 10.8ms\n",
      "image 313/1846 C:\\Users\\ryun1\\ds\\final_project\\final_datafile\\data\\test\\images\\DSC_5829_JPG_jpg.rf.d7be248e5d68a472c9e1e06246c5540b.jpg: 416x416 1 blueberries, 1 carrot, 1 cheese, 1 chicken, 1 green_beans, 1 ham, 1 lime, 1 mushrooms, 1 strawberries, 1 sugar, 1 tomato, 13.3ms\n",
      "image 314/1846 C:\\Users\\ryun1\\ds\\final_project\\final_datafile\\data\\test\\images\\DSC_5829_JPG_jpg.rf.e64b50b88e45ea2b95112f5140dfab6d.jpg: 416x416 1 blueberries, 1 carrot, 1 cheese, 1 chicken, 1 green_beans, 1 ham, 1 lime, 1 mushrooms, 1 strawberries, 1 sugar, 1 tomato, 7.1ms\n",
      "image 315/1846 C:\\Users\\ryun1\\ds\\final_project\\final_datafile\\data\\test\\images\\DSC_5831_JPG_jpg.rf.79aa38f06bdf9ee644c3a48fdca651a7.jpg: 416x416 1 apple, 1 blueberries, 1 butter, 1 cheese, 1 chicken, 1 green_beans, 1 ground_beef, 2 hams, 1 mushrooms, 1 strawberries, 1 sugar, 1 tomato, 13.9ms\n",
      "image 316/1846 C:\\Users\\ryun1\\ds\\final_project\\final_datafile\\data\\test\\images\\DSC_5831_JPG_jpg.rf.cca12dd6cc0e3ce85df1eebf321d3dbc.jpg: 416x416 1 apple, 1 blueberries, 1 butter, 1 cheese, 1 chicken, 1 green_beans, 1 ground_beef, 2 hams, 1 mushrooms, 1 strawberries, 1 sugar, 1 tomato, 11.3ms\n",
      "image 317/1846 C:\\Users\\ryun1\\ds\\final_project\\final_datafile\\data\\test\\images\\DSC_5833_JPG_jpg.rf.c9f957fd318f4b733c7681bb28f63e38.jpg: 416x416 1 apple, 1 blueberries, 1 cheese, 1 chicken, 1 green_beans, 1 ham, 1 lime, 2 milks, 1 strawberries, 1 sugar, 1 tomato, 15.6ms\n",
      "image 318/1846 C:\\Users\\ryun1\\ds\\final_project\\final_datafile\\data\\test\\images\\DSC_5834_JPG_jpg.rf.170ab10245061c5d614fd4cb11343fb4.jpg: 416x416 2 blueberriess, 1 cheese, 1 chicken, 1 green_beans, 1 ham, 1 lime, 2 milks, 1 mushrooms, 1 spinach, 1 strawberries, 14.4ms\n",
      "image 319/1846 C:\\Users\\ryun1\\ds\\final_project\\final_datafile\\data\\test\\images\\DSC_5834_JPG_jpg.rf.8bc0b92792c2d744005ce1592dbc590b.jpg: 416x416 2 blueberriess, 1 cheese, 1 chicken, 1 green_beans, 1 ham, 1 lime, 2 milks, 1 mushrooms, 1 spinach, 1 strawberries, 10.2ms\n",
      "image 320/1846 C:\\Users\\ryun1\\ds\\final_project\\final_datafile\\data\\test\\images\\DSC_5835_JPG_jpg.rf.b140b024c9eec56a801ecdb78320a90e.jpg: 416x416 1 blueberries, 1 chicken, 1 green_beans, 1 ground_beef, 1 lime, 2 milks, 1 mushrooms, 1 spinach, 1 strawberries, 1 sugar, 13.5ms\n"
     ]
    },
    {
     "name": "stdout",
     "output_type": "stream",
     "text": [
      "image 321/1846 C:\\Users\\ryun1\\ds\\final_project\\final_datafile\\data\\test\\images\\DSC_5835_JPG_jpg.rf.d224a1b9861282f561b7870bdd54a5c2.jpg: 416x416 1 chicken, 1 ground_beef, 1 lime, 2 milks, 1 mushrooms, 1 spinach, 1 strawberries, 1 sugar, 9.2ms\n",
      "image 322/1846 C:\\Users\\ryun1\\ds\\final_project\\final_datafile\\data\\test\\images\\DSC_5839_JPG_jpg.rf.007197e188cd3dc2d7ee7e8c709d473f.jpg: 416x416 1 beef, 1 blueberries, 1 cheese, 1 chicken, 1 green_beans, 1 ground_beef, 1 ham, 1 heavy_cream, 1 lime, 1 mushrooms, 1 spinach, 1 strawberries, 14.5ms\n",
      "image 323/1846 C:\\Users\\ryun1\\ds\\final_project\\final_datafile\\data\\test\\images\\DSC_5839_JPG_jpg.rf.397e7352e9a514b673b7d7cb876fcaae.jpg: 416x416 1 beef, 1 blueberries, 1 chicken, 1 goat_cheese, 1 green_beans, 1 ground_beef, 1 ham, 1 heavy_cream, 1 lime, 1 mushrooms, 1 spinach, 1 strawberries, 11.5ms\n",
      "image 324/1846 C:\\Users\\ryun1\\ds\\final_project\\final_datafile\\data\\test\\images\\DSC_5839_JPG_jpg.rf.3c01d1e2284c7372a22e8c3106e99182.jpg: 416x416 1 beef, 1 blueberries, 1 cheese, 1 chicken, 1 green_beans, 1 ground_beef, 1 ham, 1 heavy_cream, 1 lime, 1 mushrooms, 1 spinach, 1 strawberries, 9.6ms\n",
      "image 325/1846 C:\\Users\\ryun1\\ds\\final_project\\final_datafile\\data\\test\\images\\DSC_5839_JPG_jpg.rf.f33cdb2b66ca6dc406a5265c0b430a10.jpg: 416x416 1 beef, 1 blueberries, 1 chicken, 1 green_beans, 1 ground_beef, 1 ham, 1 heavy_cream, 1 lime, 1 mushrooms, 1 spinach, 1 strawberries, 10.1ms\n",
      "image 326/1846 C:\\Users\\ryun1\\ds\\final_project\\final_datafile\\data\\test\\images\\DSC_5840_JPG_jpg.rf.2118b8e189970b56f4f278822a47b205.jpg: 416x416 1 beef, 1 blueberries, 1 chicken, 1 ground_beef, 1 ham, 1 heavy_cream, 1 lime, 1 mushrooms, 1 strawberries, 14.4ms\n",
      "image 327/1846 C:\\Users\\ryun1\\ds\\final_project\\final_datafile\\data\\test\\images\\DSC_5840_JPG_jpg.rf.63a0513ec7e79e1655e7bb8fec23ed85.jpg: 416x416 1 beef, 1 blueberries, 1 chicken, 1 ground_beef, 1 ham, 1 heavy_cream, 1 lime, 1 mushrooms, 1 strawberries, 10.1ms\n",
      "image 328/1846 C:\\Users\\ryun1\\ds\\final_project\\final_datafile\\data\\test\\images\\DSC_5841_JPG_jpg.rf.00ef5e76d560a3689d5d597a733998e4.jpg: 416x416 1 banana, 1 beef, 1 blueberries, 1 chicken, 2 green_beanss, 1 ground_beef, 1 ham, 1 heavy_cream, 1 lime, 1 potato, 1 spinach, 1 strawberries, 1 sugar, 8.8ms\n",
      "image 329/1846 C:\\Users\\ryun1\\ds\\final_project\\final_datafile\\data\\test\\images\\DSC_5841_JPG_jpg.rf.13e99865159049e5b6d96149043dd08e.jpg: 416x416 1 banana, 1 beef, 1 blueberries, 1 chicken, 1 green_beans, 1 ground_beef, 1 ham, 1 heavy_cream, 2 limes, 1 spinach, 1 strawberries, 1 sugar, 11.4ms\n",
      "image 330/1846 C:\\Users\\ryun1\\ds\\final_project\\final_datafile\\data\\test\\images\\DSC_5841_JPG_jpg.rf.424722b1690ffee2df5042a5f6a2f99c.jpg: 416x416 1 banana, 1 beef, 1 blueberries, 1 chicken, 2 green_beanss, 1 ground_beef, 1 ham, 1 heavy_cream, 1 lime, 1 spinach, 1 strawberries, 1 sugar, 12.8ms\n",
      "image 331/1846 C:\\Users\\ryun1\\ds\\final_project\\final_datafile\\data\\test\\images\\DSC_5841_JPG_jpg.rf.889bee1c0d6b602f9739d82c9db279fb.jpg: 416x416 1 banana, 1 beef, 1 blueberries, 1 chicken, 1 green_beans, 1 ground_beef, 1 ham, 1 heavy_cream, 2 limes, 1 spinach, 1 strawberries, 1 sugar, 14.5ms\n",
      "image 332/1846 C:\\Users\\ryun1\\ds\\final_project\\final_datafile\\data\\test\\images\\DSC_5842_JPG_jpg.rf.aa8f5d357064ffccc07904bf25e8c7e6.jpg: 416x416 1 apple, 1 banana, 1 beef, 1 chicken, 1 green_beans, 1 ground_beef, 1 ham, 1 heavy_cream, 2 limes, 1 spinach, 1 strawberries, 1 sugar, 13.3ms\n",
      "image 333/1846 C:\\Users\\ryun1\\ds\\final_project\\final_datafile\\data\\test\\images\\DSC_5842_JPG_jpg.rf.b0ef59817c1a5afd43d16a609299c5c5.jpg: 416x416 1 apple, 1 banana, 1 beef, 1 chicken, 1 green_beans, 1 ground_beef, 1 ham, 1 heavy_cream, 2 limes, 1 spinach, 1 strawberries, 1 sugar, 11.2ms\n",
      "image 334/1846 C:\\Users\\ryun1\\ds\\final_project\\final_datafile\\data\\test\\images\\DSC_5843_JPG_jpg.rf.a3809bbd037cd7feb7a116f6e9e74541.jpg: 416x416 1 apple, 1 beef, 1 blueberries, 1 chicken, 1 ground_beef, 1 ham, 1 heavy_cream, 1 lime, 1 shrimp, 1 spinach, 1 strawberries, 1 sugar, 14.0ms\n",
      "image 335/1846 C:\\Users\\ryun1\\ds\\final_project\\final_datafile\\data\\test\\images\\DSC_5843_JPG_jpg.rf.bf76c23761166871d5ec08fce9d0b529.jpg: 416x416 1 apple, 1 beef, 1 blueberries, 1 chicken, 1 ground_beef, 1 ham, 1 heavy_cream, 1 lime, 1 shrimp, 1 spinach, 1 strawberries, 1 sugar, 11.8ms\n",
      "image 336/1846 C:\\Users\\ryun1\\ds\\final_project\\final_datafile\\data\\test\\images\\DSC_5846_JPG_jpg.rf.0ef3531abfdbe920ee6304da76742c6b.jpg: 416x416 1 apple, 1 banana, 1 butter, 1 cheese, 1 chicken, 1 goat_cheese, 1 heavy_cream, 1 lime, 1 shrimp, 1 spinach, 1 strawberries, 1 tomato, 13.8ms\n",
      "image 337/1846 C:\\Users\\ryun1\\ds\\final_project\\final_datafile\\data\\test\\images\\DSC_5848_JPG_jpg.rf.c182a9a504e29f2b1d22967bd574a53f.jpg: 416x416 1 apple, 1 banana, 1 butter, 1 cheese, 1 chicken, 1 heavy_cream, 1 lime, 1 onion, 1 potato, 1 shrimp, 1 spinach, 1 strawberries, 1 tomato, 10.1ms\n",
      "image 338/1846 C:\\Users\\ryun1\\ds\\final_project\\final_datafile\\data\\test\\images\\DSC_5850_JPG_jpg.rf.0d46c207d257d1b8acdabdd46ef85d49.jpg: 416x416 1 banana, 1 butter, 1 carrot, 1 cheese, 1 chicken, 1 corn, 1 goat_cheese, 1 ground_beef, 1 ham, 1 heavy_cream, 1 lime, 2 onions, 1 potato, 1 shrimp, 1 spinach, 1 sugar, 1 tomato, 13.5ms\n",
      "image 339/1846 C:\\Users\\ryun1\\ds\\final_project\\final_datafile\\data\\test\\images\\DSC_5852_JPG_jpg.rf.51919e7c7eaf10ae5e04e0bf9d6abe57.jpg: 416x416 1 banana, 1 carrot, 1 cheese, 1 chicken, 1 corn, 1 goat_cheese, 1 green_beans, 1 ham, 1 heavy_cream, 1 lime, 1 onion, 1 potato, 1 shrimp, 1 spinach, 1 strawberries, 1 sugar, 1 tomato, 9.3ms\n",
      "image 340/1846 C:\\Users\\ryun1\\ds\\final_project\\final_datafile\\data\\test\\images\\DSC_5852_JPG_jpg.rf.ea8d45221dcc92b9221505b8163d5d71.jpg: 416x416 1 banana, 1 carrot, 1 cheese, 1 chicken, 1 corn, 2 goat_cheeses, 1 green_beans, 1 ham, 1 heavy_cream, 1 lime, 1 onion, 1 potato, 1 shrimp, 1 spinach, 1 strawberries, 1 sugar, 1 sweet_potato, 1 tomato, 14.8ms\n",
      "image 341/1846 C:\\Users\\ryun1\\ds\\final_project\\final_datafile\\data\\test\\images\\DSC_5854_JPG_jpg.rf.e28fcc31196455a1b19700251dc94785.jpg: 416x416 1 banana, 1 butter, 1 cheese, 1 chicken, 1 corn, 1 goat_cheese, 1 green_beans, 1 ham, 1 heavy_cream, 1 lime, 1 onion, 1 potato, 1 shrimp, 1 strawberries, 1 sugar, 1 sweet_potato, 1 tomato, 14.6ms\n",
      "image 342/1846 C:\\Users\\ryun1\\ds\\final_project\\final_datafile\\data\\test\\images\\DSC_5854_JPG_jpg.rf.eb2113666c03f3bc7a6ca5e41c5f8c6d.jpg: 416x416 1 banana, 1 butter, 1 cheese, 1 chicken, 1 corn, 1 goat_cheese, 1 green_beans, 1 ham, 1 heavy_cream, 1 lime, 1 onion, 1 potato, 1 shrimp, 1 strawberries, 1 sugar, 1 tomato, 10.0ms\n",
      "image 343/1846 C:\\Users\\ryun1\\ds\\final_project\\final_datafile\\data\\test\\images\\DSC_5856_JPG_jpg.rf.57f23636d72dd75095f1f928a39d31d1.jpg: 416x416 1 banana, 1 beef, 1 butter, 1 carrot, 1 cheese, 1 chicken, 1 corn, 1 goat_cheese, 1 green_beans, 1 heavy_cream, 1 lime, 1 onion, 1 potato, 1 strawberries, 1 tomato, 12.6ms\n",
      "image 344/1846 C:\\Users\\ryun1\\ds\\final_project\\final_datafile\\data\\test\\images\\DSC_5856_JPG_jpg.rf.ab05cf1ee4553470ab17f05cb317d4be.jpg: 416x416 1 banana, 1 beef, 1 butter, 1 carrot, 1 cheese, 1 chicken, 1 corn, 1 goat_cheese, 1 green_beans, 1 heavy_cream, 1 lime, 1 onion, 1 potato, 1 strawberries, 1 tomato, 12.5ms\n",
      "image 345/1846 C:\\Users\\ryun1\\ds\\final_project\\final_datafile\\data\\test\\images\\DSC_5858_JPG_jpg.rf.1a74a0ada3fefbac730e69b4e484031f.jpg: 416x416 1 banana, 1 beef, 1 butter, 1 carrot, 1 cheese, 1 chicken, 1 corn, 1 goat_cheese, 1 green_beans, 1 ham, 1 heavy_cream, 1 lime, 1 spinach, 1 strawberries, 1 sweet_potato, 1 tomato, 15.1ms\n",
      "image 346/1846 C:\\Users\\ryun1\\ds\\final_project\\final_datafile\\data\\test\\images\\DSC_5858_JPG_jpg.rf.442a29cd8fe4b1e50c56ce03d578c97a.jpg: 416x416 1 banana, 1 beef, 1 butter, 1 carrot, 1 cheese, 1 chicken, 1 corn, 1 goat_cheese, 1 green_beans, 1 ham, 1 heavy_cream, 1 lime, 1 spinach, 1 strawberries, 1 sweet_potato, 1 tomato, 8.9ms\n",
      "image 347/1846 C:\\Users\\ryun1\\ds\\final_project\\final_datafile\\data\\test\\images\\DSC_5861_JPG_jpg.rf.0720ea2637866ff69da8457a1fe96b72.jpg: 416x416 1 blueberries, 1 butter, 1 carrot, 1 cheese, 1 chicken, 1 goat_cheese, 1 green_beans, 1 ham, 1 heavy_cream, 1 lime, 1 mushrooms, 1 spinach, 1 strawberries, 1 sweet_potato, 1 tomato, 14.9ms\n",
      "image 348/1846 C:\\Users\\ryun1\\ds\\final_project\\final_datafile\\data\\test\\images\\DSC_5861_JPG_jpg.rf.82f39eb3932d7c2fb1338d5c0649d402.jpg: 416x416 1 blueberries, 1 butter, 1 carrot, 1 cheese, 1 chicken, 1 goat_cheese, 1 green_beans, 1 ham, 1 heavy_cream, 1 lime, 1 mushrooms, 1 spinach, 1 strawberries, 1 sweet_potato, 1 tomato, 13.2ms\n"
     ]
    },
    {
     "name": "stdout",
     "output_type": "stream",
     "text": [
      "image 349/1846 C:\\Users\\ryun1\\ds\\final_project\\final_datafile\\data\\test\\images\\DSC_5864_JPG_jpg.rf.2d75780b45a4f7119ea8137f0bd3bdae.jpg: 416x416 2 blueberriess, 1 butter, 1 carrot, 2 cheeses, 1 chicken, 1 goat_cheese, 1 ground_beef, 1 ham, 1 heavy_cream, 1 lime, 1 strawberries, 1 sweet_potato, 1 tomato, 12.6ms\n",
      "image 350/1846 C:\\Users\\ryun1\\ds\\final_project\\final_datafile\\data\\test\\images\\DSC_5864_JPG_jpg.rf.371d44999958a2bca85fd6b8d4e5cac0.jpg: 416x416 2 blueberriess, 1 butter, 1 carrot, 1 cheese, 1 chicken, 1 goat_cheese, 1 ground_beef, 1 ham, 1 heavy_cream, 1 lime, 1 strawberries, 1 sweet_potato, 1 tomato, 9.5ms\n",
      "image 351/1846 C:\\Users\\ryun1\\ds\\final_project\\final_datafile\\data\\test\\images\\DSC_5865_JPG_jpg.rf.ab32123fc06597a58dfa5fe98dc49f8c.jpg: 416x416 1 banana, 1 butter, 1 carrot, 1 cheese, 1 chicken, 1 corn, 1 goat_cheese, 1 ham, 1 heavy_cream, 1 lime, 1 potato, 1 strawberries, 1 sweet_potato, 1 tomato, 9.6ms\n",
      "image 352/1846 C:\\Users\\ryun1\\ds\\final_project\\final_datafile\\data\\test\\images\\DSC_5865_JPG_jpg.rf.e0afeda7ada98638c4e125b89d0dd7c6.jpg: 416x416 1 banana, 1 butter, 1 carrot, 1 cheese, 1 chicken, 1 corn, 1 goat_cheese, 1 ham, 1 heavy_cream, 1 lime, 1 potato, 1 strawberries, 1 sweet_potato, 1 tomato, 12.2ms\n",
      "image 353/1846 C:\\Users\\ryun1\\ds\\final_project\\final_datafile\\data\\test\\images\\DSC_5867_JPG_jpg.rf.05d8f35bf4ba742fd5a4a461f46a5ca4.jpg: 416x416 1 banana, 1 blueberries, 1 carrot, 1 cheese, 1 chicken, 1 corn, 1 flour, 1 goat_cheese, 1 ham, 1 lime, 1 spinach, 1 tomato, 11.4ms\n",
      "image 354/1846 C:\\Users\\ryun1\\ds\\final_project\\final_datafile\\data\\test\\images\\DSC_5867_JPG_jpg.rf.8439aba4e3e76b83afeac2f32b1f4951.jpg: 416x416 1 banana, 1 blueberries, 1 carrot, 1 cheese, 1 chicken, 1 corn, 1 flour, 1 goat_cheese, 1 ham, 1 lime, 1 spinach, 1 tomato, 12.4ms\n",
      "image 355/1846 C:\\Users\\ryun1\\ds\\final_project\\final_datafile\\data\\test\\images\\DSC_5868_JPG_jpg.rf.3f7bcb6468a16520d9c5453e350fe940.jpg: 416x416 1 banana, 1 blueberries, 1 carrot, 1 cheese, 1 chicken, 1 corn, 1 flour, 1 goat_cheese, 1 ham, 1 lime, 1 spinach, 1 tomato, 13.3ms\n",
      "image 356/1846 C:\\Users\\ryun1\\ds\\final_project\\final_datafile\\data\\test\\images\\DSC_5868_JPG_jpg.rf.8067a4c30dc4cb115f8bbad143d91b82.jpg: 416x416 1 banana, 1 blueberries, 1 carrot, 1 cheese, 1 chicken, 1 corn, 1 flour, 1 goat_cheese, 1 ham, 1 lime, 1 spinach, 1 tomato, 13.6ms\n",
      "image 357/1846 C:\\Users\\ryun1\\ds\\final_project\\final_datafile\\data\\test\\images\\DSC_5869_JPG_jpg.rf.4ac0482d48810db049a4eaf7e6b2c35a.jpg: 416x416 1 banana, 1 blueberries, 1 carrot, 1 cheese, 1 chicken, 1 corn, 1 flour, 1 ham, 1 heavy_cream, 1 spinach, 1 tomato, 15.8ms\n",
      "image 358/1846 C:\\Users\\ryun1\\ds\\final_project\\final_datafile\\data\\test\\images\\DSC_5869_JPG_jpg.rf.4c58b8c0c52bb9e32dedab5be35bbf53.jpg: 416x416 1 banana, 1 blueberries, 1 carrot, 1 cheese, 1 chicken, 1 corn, 1 flour, 1 ham, 1 heavy_cream, 1 spinach, 1 tomato, 14.7ms\n",
      "image 359/1846 C:\\Users\\ryun1\\ds\\final_project\\final_datafile\\data\\test\\images\\DSC_5869_JPG_jpg.rf.87bde4ac74e3902ada252896d08c4757.jpg: 416x416 1 banana, 1 blueberries, 1 carrot, 1 cheese, 1 chicken, 1 corn, 1 flour, 1 ham, 1 heavy_cream, 1 spinach, 1 tomato, 15.3ms\n",
      "image 360/1846 C:\\Users\\ryun1\\ds\\final_project\\final_datafile\\data\\test\\images\\DSC_5869_JPG_jpg.rf.c5de57b25609bbb4b5420be8be57355d.jpg: 416x416 1 banana, 1 blueberries, 1 carrot, 1 cheese, 1 chicken, 1 corn, 1 flour, 1 ham, 1 heavy_cream, 1 spinach, 1 tomato, 14.4ms\n",
      "image 361/1846 C:\\Users\\ryun1\\ds\\final_project\\final_datafile\\data\\test\\images\\DSC_5871_JPG_jpg.rf.8b01396297ec60007f416a4d34b74d11.jpg: 416x416 1 banana, 1 blueberries, 1 butter, 1 carrot, 1 cheese, 1 chicken, 1 corn, 1 flour, 1 goat_cheese, 1 ham, 1 potato, 1 tomato, 15.0ms\n",
      "image 362/1846 C:\\Users\\ryun1\\ds\\final_project\\final_datafile\\data\\test\\images\\DSC_5871_JPG_jpg.rf.9efc2ad016158ec399c2532ab722c6a8.jpg: 416x416 1 banana, 1 blueberries, 1 butter, 1 carrot, 1 cheese, 1 chicken, 1 corn, 1 goat_cheese, 1 ham, 1 heavy_cream, 1 potato, 1 tomato, 12.8ms\n",
      "image 363/1846 C:\\Users\\ryun1\\ds\\final_project\\final_datafile\\data\\test\\images\\DSC_5871_JPG_jpg.rf.cdc131150c4a860f9f65ed30c5c39fc2.jpg: 416x416 1 banana, 1 blueberries, 1 butter, 1 carrot, 1 cheese, 1 chicken, 1 corn, 1 flour, 1 goat_cheese, 1 ham, 1 potato, 1 tomato, 12.9ms\n",
      "image 364/1846 C:\\Users\\ryun1\\ds\\final_project\\final_datafile\\data\\test\\images\\DSC_5871_JPG_jpg.rf.eaca1ad51e09b4a1c22cd83664c7717a.jpg: 416x416 1 banana, 1 blueberries, 1 butter, 1 carrot, 1 cheese, 1 chicken, 1 corn, 1 goat_cheese, 1 ham, 1 heavy_cream, 1 potato, 1 tomato, 10.9ms\n",
      "image 365/1846 C:\\Users\\ryun1\\ds\\final_project\\final_datafile\\data\\test\\images\\DSC_5874_JPG_jpg.rf.53890dbbc9c328c17622e6ac7103394c.jpg: 416x416 1 banana, 1 blueberries, 1 butter, 1 carrot, 1 cheese, 1 chicken, 1 corn, 1 flour, 1 goat_cheese, 1 ham, 1 heavy_cream, 1 potato, 1 sweet_potato, 1 tomato, 10.4ms\n",
      "image 366/1846 C:\\Users\\ryun1\\ds\\final_project\\final_datafile\\data\\test\\images\\DSC_5874_JPG_jpg.rf.654e5125a0c9d22a1881a72f07469ea7.jpg: 416x416 1 banana, 1 blueberries, 1 butter, 1 carrot, 1 cheese, 1 chicken, 1 corn, 1 flour, 1 goat_cheese, 1 ham, 1 heavy_cream, 1 potato, 1 sweet_potato, 1 tomato, 14.6ms\n",
      "image 367/1846 C:\\Users\\ryun1\\ds\\final_project\\final_datafile\\data\\test\\images\\DSC_5875_JPG_jpg.rf.835de116353449200f17edf4d653ec81.jpg: 416x416 1 banana, 1 beef, 1 blueberries, 1 butter, 1 carrot, 1 cheese, 1 chicken, 1 corn, 1 flour, 1 ham, 1 heavy_cream, 1 strawberries, 1 sweet_potato, 1 tomato, 9.5ms\n",
      "image 368/1846 C:\\Users\\ryun1\\ds\\final_project\\final_datafile\\data\\test\\images\\DSC_5875_JPG_jpg.rf.95982216337c4db71f7d81aa030d9cba.jpg: 416x416 1 banana, 1 beef, 1 blueberries, 1 butter, 1 carrot, 1 cheese, 1 chicken, 1 corn, 1 flour, 1 ham, 1 heavy_cream, 1 strawberries, 1 sweet_potato, 1 tomato, 13.1ms\n",
      "image 369/1846 C:\\Users\\ryun1\\ds\\final_project\\final_datafile\\data\\test\\images\\DSC_5877_JPG_jpg.rf.2dcdda474e341e12cc268bc533f4c733.jpg: 416x416 1 banana, 1 beef, 1 butter, 1 carrot, 1 cheese, 1 chicken, 2 corns, 1 flour, 1 ham, 1 lime, 1 strawberries, 1 tomato, 10.3ms\n",
      "image 370/1846 C:\\Users\\ryun1\\ds\\final_project\\final_datafile\\data\\test\\images\\DSC_5877_JPG_jpg.rf.36861cc05ac84a89ee0b7fdae163af6a.jpg: 416x416 1 banana, 1 beef, 1 butter, 1 carrot, 1 cheese, 1 chicken, 1 corn, 1 flour, 1 ham, 1 lime, 1 strawberries, 1 tomato, 11.4ms\n",
      "image 371/1846 C:\\Users\\ryun1\\ds\\final_project\\final_datafile\\data\\test\\images\\DSC_5877_JPG_jpg.rf.4ee90c9187eda0d1d51b5623e4f57c38.jpg: 416x416 1 banana, 1 beef, 1 butter, 1 carrot, 1 cheese, 1 chicken, 1 corn, 1 flour, 1 ham, 1 lime, 1 strawberries, 1 tomato, 12.1ms\n",
      "image 372/1846 C:\\Users\\ryun1\\ds\\final_project\\final_datafile\\data\\test\\images\\DSC_5877_JPG_jpg.rf.dc43b026e5936b9cbe3efe9e3d71b597.jpg: 416x416 1 banana, 1 beef, 1 butter, 1 carrot, 1 cheese, 1 chicken, 1 corn, 1 flour, 1 ham, 1 lime, 1 strawberries, 1 tomato, 15.3ms\n",
      "image 373/1846 C:\\Users\\ryun1\\ds\\final_project\\final_datafile\\data\\test\\images\\DSC_5878_JPG_jpg.rf.1191d48d8e930330240a6a7a83ece057.jpg: 416x416 1 banana, 1 beef, 1 butter, 1 carrot, 1 cheese, 1 chicken, 1 corn, 1 flour, 1 ham, 2 limes, 2 shrimps, 1 strawberries, 1 tomato, 10.4ms\n",
      "image 374/1846 C:\\Users\\ryun1\\ds\\final_project\\final_datafile\\data\\test\\images\\DSC_5878_JPG_jpg.rf.ff150ba2e54852cf89705a7d6ee1ae67.jpg: 416x416 1 banana, 1 beef, 1 butter, 1 carrot, 1 cheese, 1 chicken, 1 corn, 1 flour, 1 ham, 2 limes, 2 shrimps, 1 strawberries, 1 tomato, 11.7ms\n",
      "image 375/1846 C:\\Users\\ryun1\\ds\\final_project\\final_datafile\\data\\test\\images\\DSC_5881_JPG_jpg.rf.901b81c9f2734635a3aa1faf5ec269b8.jpg: 416x416 1 banana, 1 blueberries, 1 butter, 1 carrot, 1 cheese, 1 chicken, 1 corn, 1 ham, 1 mushrooms, 2 shrimps, 1 strawberries, 1 tomato, 10.8ms\n",
      "image 376/1846 C:\\Users\\ryun1\\ds\\final_project\\final_datafile\\data\\test\\images\\DSC_5881_JPG_jpg.rf.ae453d2125672c53502f2991825328f8.jpg: 416x416 1 banana, 1 butter, 1 carrot, 1 cheese, 1 chicken, 1 corn, 1 ham, 1 mushrooms, 1 shrimp, 1 strawberries, 1 tomato, 13.1ms\n",
      "image 377/1846 C:\\Users\\ryun1\\ds\\final_project\\final_datafile\\data\\test\\images\\DSC_5883_JPG_jpg.rf.5ad56a24b2ade364793184e5a0f33ef1.jpg: 416x416 1 banana, 1 carrot, 1 cheese, 1 chicken, 2 flours, 1 goat_cheese, 1 ham, 1 heavy_cream, 1 lime, 1 mushrooms, 1 potato, 1 shrimp, 1 strawberries, 1 tomato, 10.3ms\n"
     ]
    },
    {
     "name": "stdout",
     "output_type": "stream",
     "text": [
      "image 378/1846 C:\\Users\\ryun1\\ds\\final_project\\final_datafile\\data\\test\\images\\DSC_5883_JPG_jpg.rf.e0d245a3a30a2064b694e587abc32119.jpg: 416x416 1 banana, 1 carrot, 1 cheese, 1 chicken, 2 flours, 1 goat_cheese, 1 ham, 1 heavy_cream, 1 lime, 1 mushrooms, 1 potato, 1 shrimp, 1 strawberries, 1 tomato, 12.4ms\n",
      "image 379/1846 C:\\Users\\ryun1\\ds\\final_project\\final_datafile\\data\\test\\images\\DSC_5891_JPG_jpg.rf.8d2ac9b2aa66ecf2098c4e8bfbc1888f.jpg: 416x416 1 blueberries, 1 butter, 1 cheese, 1 chicken, 1 green_beans, 1 ground_beef, 1 mushrooms, 1 onion, 1 strawberries, 1 sweet_potato, 13.1ms\n",
      "image 380/1846 C:\\Users\\ryun1\\ds\\final_project\\final_datafile\\data\\test\\images\\DSC_5891_JPG_jpg.rf.b6cbe1b339d66262b604ddc6fedd5588.jpg: 416x416 1 blueberries, 1 butter, 1 cheese, 1 chicken, 2 ground_beefs, 1 heavy_cream, 1 mushrooms, 1 onion, 1 spinach, 1 strawberries, 1 sweet_potato, 9.2ms\n",
      "image 381/1846 C:\\Users\\ryun1\\ds\\final_project\\final_datafile\\data\\test\\images\\DSC_5896_JPG_jpg.rf.06eab01a6ee9c547dee44911caef1c26.jpg: 416x416 1 beef, 1 butter, 1 cheese, 1 chicken, 3 green_beanss, 1 ground_beef, 1 mushrooms, 1 onion, 1 shrimp, 2 strawberriess, 12.2ms\n",
      "image 382/1846 C:\\Users\\ryun1\\ds\\final_project\\final_datafile\\data\\test\\images\\DSC_5896_JPG_jpg.rf.24a47984e5d74a8c134b9c63f1e291c4.jpg: 416x416 1 beef, 1 cheese, 1 chicken, 2 corns, 3 green_beanss, 1 ground_beef, 1 lime, 1 mushrooms, 1 onion, 1 shrimp, 2 strawberriess, 10.7ms\n",
      "image 383/1846 C:\\Users\\ryun1\\ds\\final_project\\final_datafile\\data\\test\\images\\DSC_5896_JPG_jpg.rf.915bb3d8d9a8cb7ec89f196db4c1ac62.jpg: 416x416 1 apple, 1 beef, 1 butter, 1 cheese, 1 chicken, 2 green_beanss, 1 ground_beef, 1 lime, 1 mushrooms, 1 onion, 2 shrimps, 2 strawberriess, 1 tomato, 12.4ms\n",
      "image 384/1846 C:\\Users\\ryun1\\ds\\final_project\\final_datafile\\data\\test\\images\\DSC_5897_JPG_jpg.rf.1d8701d97a53b914ab44dcb3a696901f.jpg: 416x416 1 butter, 1 cheese, 1 chicken, 1 corn, 2 green_beanss, 2 ground_beefs, 1 lime, 1 mushrooms, 1 onion, 1 shrimp, 2 strawberriess, 9.3ms\n",
      "image 385/1846 C:\\Users\\ryun1\\ds\\final_project\\final_datafile\\data\\test\\images\\DSC_5898_JPG_jpg.rf.b4447971cdd432140407bbbb1d48e7b9.jpg: 416x416 1 apple, 1 beef, 1 blueberries, 1 butter, 1 cheese, 1 chicken, 1 ground_beef, 2 onions, 1 shrimp, 2 strawberriess, 12.3ms\n",
      "image 386/1846 C:\\Users\\ryun1\\ds\\final_project\\final_datafile\\data\\test\\images\\DSC_5899_JPG_jpg.rf.83c3b701a597c73ea2650b20bf291793.jpg: 416x416 1 blueberries, 1 butter, 1 cheese, 1 chicken, 1 flour, 1 green_beans, 1 lime, 1 onion, 1 shrimp, 3 strawberriess, 1 tomato, 12.3ms\n",
      "image 387/1846 C:\\Users\\ryun1\\ds\\final_project\\final_datafile\\data\\test\\images\\DSC_5900_JPG_jpg.rf.946ebc677d4ce9d96f2b4ac053c7a162.jpg: 416x416 1 banana, 1 cheese, 1 chicken, 1 green_beans, 1 onion, 1 shrimp, 2 strawberriess, 1 tomato, 12.0ms\n",
      "image 388/1846 C:\\Users\\ryun1\\ds\\final_project\\final_datafile\\data\\test\\images\\DSC_5902_JPG_jpg.rf.419285223973bf1085818e098e0f4dc9.jpg: 416x416 1 banana, 1 beef, 1 carrot, 1 cheese, 1 chicken, 1 green_beans, 1 onion, 1 shrimp, 1 strawberries, 1 tomato, 12.9ms\n",
      "image 389/1846 C:\\Users\\ryun1\\ds\\final_project\\final_datafile\\data\\test\\images\\DSC_5902_JPG_jpg.rf.be24956f40695c76630fd467e3e4b29d.jpg: 416x416 1 banana, 1 beef, 1 carrot, 1 cheese, 1 chicken, 1 green_beans, 1 ground_beef, 1 onion, 1 shrimp, 2 strawberriess, 11.5ms\n",
      "image 390/1846 C:\\Users\\ryun1\\ds\\final_project\\final_datafile\\data\\test\\images\\DSC_5903_JPG_jpg.rf.261e1bac8d4ade05ad347b185aad8e87.jpg: 416x416 1 banana, 1 beef, 1 carrot, 1 cheese, 1 chicken, 1 corn, 1 goat_cheese, 1 green_beans, 1 onion, 1 shrimp, 2 strawberriess, 14.4ms\n",
      "image 391/1846 C:\\Users\\ryun1\\ds\\final_project\\final_datafile\\data\\test\\images\\DSC_5903_JPG_jpg.rf.3b8c9936d518fa89ee8e07c16c4cf99b.jpg: 416x416 1 banana, 1 beef, 1 carrot, 1 cheese, 1 chicken, 1 corn, 1 goat_cheese, 1 green_beans, 1 onion, 1 shrimp, 2 strawberriess, 11.9ms\n",
      "image 392/1846 C:\\Users\\ryun1\\ds\\final_project\\final_datafile\\data\\test\\images\\DSC_5904_JPG_jpg.rf.04e894d07cda8772b5dfc32e0e858867.jpg: 416x416 1 banana, 1 beef, 1 carrot, 1 cheese, 1 corn, 1 goat_cheese, 1 onion, 1 shrimp, 1 strawberries, 8.8ms\n",
      "image 393/1846 C:\\Users\\ryun1\\ds\\final_project\\final_datafile\\data\\test\\images\\DSC_5904_JPG_jpg.rf.902b110daaf82441b2abda5f2efb27eb.jpg: 416x416 1 banana, 1 beef, 1 carrot, 1 cheese, 1 corn, 1 goat_cheese, 1 onion, 1 shrimp, 2 strawberriess, 10.2ms\n",
      "image 394/1846 C:\\Users\\ryun1\\ds\\final_project\\final_datafile\\data\\test\\images\\DSC_5906_JPG_jpg.rf.ffdd057bbfbfe4730e74677d0a9e024b.jpg: 416x416 1 banana, 1 beef, 2 cheeses, 1 corn, 1 goat_cheese, 1 onion, 1 shrimp, 2 strawberriess, 9.7ms\n",
      "image 395/1846 C:\\Users\\ryun1\\ds\\final_project\\final_datafile\\data\\test\\images\\DSC_5907_JPG_jpg.rf.3dd7ee0bd8f48473e92fcf3bb27a03b2.jpg: 416x416 1 banana, 1 beef, 1 cheese, 1 corn, 1 onion, 1 potato, 1 shrimp, 1 strawberries, 1 sugar, 9.3ms\n",
      "image 396/1846 C:\\Users\\ryun1\\ds\\final_project\\final_datafile\\data\\test\\images\\DSC_5907_JPG_jpg.rf.ca0c44c3ed005a6aff46b96133946912.jpg: 416x416 1 banana, 1 beef, 1 cheese, 1 corn, 1 goat_cheese, 1 onion, 1 potato, 1 shrimp, 2 strawberriess, 8.3ms\n",
      "image 397/1846 C:\\Users\\ryun1\\ds\\final_project\\final_datafile\\data\\test\\images\\DSC_5929_JPG_jpg.rf.2944a4252267f259b8d03aec4fbdec79.jpg: 416x416 1 banana, 1 blueberries, 1 butter, 1 chicken, 1 green_beans, 1 ground_beef, 1 heavy_cream, 1 mushrooms, 1 onion, 1 shrimp, 1 spinach, 1 strawberries, 1 tomato, 9.4ms\n",
      "image 398/1846 C:\\Users\\ryun1\\ds\\final_project\\final_datafile\\data\\test\\images\\DSC_5929_JPG_jpg.rf.98ca0a495178eea930562e9ecf711594.jpg: 416x416 1 banana, 1 blueberries, 1 butter, 1 chicken, 1 green_beans, 1 ground_beef, 1 heavy_cream, 1 mushrooms, 1 onion, 1 shrimp, 1 spinach, 1 strawberries, 1 tomato, 10.1ms\n",
      "image 399/1846 C:\\Users\\ryun1\\ds\\final_project\\final_datafile\\data\\test\\images\\DSC_5930_JPG_jpg.rf.403ed26b1df70e88f639eaffc51a5b7b.jpg: 416x416 1 banana, 1 blueberries, 1 butter, 1 chicken, 1 green_beans, 1 ground_beef, 1 ham, 1 heavy_cream, 1 mushrooms, 1 onion, 1 shrimp, 1 spinach, 1 strawberries, 1 tomato, 13.9ms\n",
      "image 400/1846 C:\\Users\\ryun1\\ds\\final_project\\final_datafile\\data\\test\\images\\DSC_5930_JPG_jpg.rf.f215879c5da97b6913264a316b146a32.jpg: 416x416 1 banana, 1 blueberries, 1 butter, 1 chicken, 1 green_beans, 1 ground_beef, 1 ham, 1 heavy_cream, 1 mushrooms, 1 onion, 1 shrimp, 1 spinach, 1 strawberries, 2 tomatos, 11.2ms\n",
      "image 401/1846 C:\\Users\\ryun1\\ds\\final_project\\final_datafile\\data\\test\\images\\DSC_5977_JPG_jpg.rf.6d11653a1aae3d0d44be8cc5641e4fb2.jpg: 416x416 1 beef, 1 butter, 1 cheese, 1 chicken, 1 green_beans, 2 ground_beefs, 1 heavy_cream, 1 potato, 1 spinach, 12.8ms\n",
      "image 402/1846 C:\\Users\\ryun1\\ds\\final_project\\final_datafile\\data\\test\\images\\DSC_5977_JPG_jpg.rf.f98b79415be17633a343daa9d666e2b9.jpg: 416x416 1 beef, 1 butter, 1 cheese, 2 chickens, 1 green_beans, 2 ground_beefs, 1 heavy_cream, 1 onion, 1 spinach, 9.2ms\n",
      "image 403/1846 C:\\Users\\ryun1\\ds\\final_project\\final_datafile\\data\\test\\images\\DSC_5978_JPG_jpg.rf.f7ce0447a7c1b852dc1fcef66e4180f2.jpg: 416x416 1 beef, 1 cheese, 1 chicken, 1 green_beans, 2 ground_beefs, 2 heavy_creams, 2 onions, 1 shrimp, 1 spinach, 9.3ms\n",
      "image 404/1846 C:\\Users\\ryun1\\ds\\final_project\\final_datafile\\data\\test\\images\\DSC_5979_JPG_jpg.rf.0b79474ed1787187ce0f2397a0619dd0.jpg: 416x416 2 beefs, 1 cheese, 1 chicken, 1 chicken_breast, 1 corn, 1 ground_beef, 1 heavy_cream, 1 onion, 1 shrimp, 1 spinach, 2 strawberriess, 11.5ms\n",
      "image 405/1846 C:\\Users\\ryun1\\ds\\final_project\\final_datafile\\data\\test\\images\\DSC_5979_JPG_jpg.rf.b814222e98f6d6161b8bb35a4313cd80.jpg: 416x416 1 beef, 2 cheeses, 1 chicken, 1 corn, 2 ground_beefs, 1 heavy_cream, 1 onion, 1 shrimp, 1 spinach, 1 strawberries, 9.2ms\n",
      "image 406/1846 C:\\Users\\ryun1\\ds\\final_project\\final_datafile\\data\\test\\images\\DSC_5979_JPG_jpg.rf.e2815777ed83c818d02275ad042ddb61.jpg: 416x416 1 beef, 1 carrot, 1 cheese, 1 chicken, 1 chicken_breast, 1 corn, 1 eggs, 1 ground_beef, 1 heavy_cream, 1 milk, 1 onion, 1 potato, 1 shrimp, 1 spinach, 1 strawberries, 11.8ms\n",
      "image 407/1846 C:\\Users\\ryun1\\ds\\final_project\\final_datafile\\data\\test\\images\\DSC_5980_JPG_jpg.rf.980652bd9bca37ac6f581f758bca183e.jpg: 416x416 4 beefs, 2 cheeses, 1 chicken, 1 ground_beef, 1 heavy_cream, 1 onion, 1 shrimp, 3 strawberriess, 12.2ms\n"
     ]
    },
    {
     "name": "stdout",
     "output_type": "stream",
     "text": [
      "image 408/1846 C:\\Users\\ryun1\\ds\\final_project\\final_datafile\\data\\test\\images\\DSC_5981_JPG_jpg.rf.4e6ec3dd638254a2b9708b388e6194b1.jpg: 416x416 3 beefs, 1 cheese, 1 chicken, 1 green_beans, 1 ground_beef, 1 heavy_cream, 2 potatos, 1 shrimp, 1 strawberries, 10.3ms\n",
      "image 409/1846 C:\\Users\\ryun1\\ds\\final_project\\final_datafile\\data\\test\\images\\DSC_5982_JPG_jpg.rf.3a9a8d8b995b49d14a9c7a5499ea3dbd.jpg: 416x416 1 apple, 3 beefs, 1 cheese, 1 chicken, 1 corn, 1 goat_cheese, 1 green_beans, 1 ground_beef, 1 heavy_cream, 1 potato, 1 strawberries, 9.2ms\n",
      "image 410/1846 C:\\Users\\ryun1\\ds\\final_project\\final_datafile\\data\\test\\images\\DSC_5984_JPG_jpg.rf.5f8ed73048752cfa6ad3cf593400af67.jpg: 416x416 2 beefs, 2 carrots, 1 cheese, 1 chicken, 1 green_beans, 3 potatos, 1 strawberries, 10.5ms\n",
      "image 411/1846 C:\\Users\\ryun1\\ds\\final_project\\final_datafile\\data\\test\\images\\DSC_5984_JPG_jpg.rf.cbbc109fd51d8c2be75a3c74c2f609c4.jpg: 416x416 1 apple, 1 banana, 2 beefs, 2 cheeses, 1 chicken, 1 green_beans, 1 ground_beef, 2 potatos, 1 strawberries, 10.7ms\n",
      "image 412/1846 C:\\Users\\ryun1\\ds\\final_project\\final_datafile\\data\\test\\images\\DSC_5987_JPG_jpg.rf.157690719c042594629609e38c8eaece.jpg: 416x416 1 banana, 1 beef, 1 chicken, 1 chicken_breast, 1 green_beans, 1 ham, 2 potatos, 2 shrimps, 1 strawberries, 12.4ms\n",
      "image 413/1846 C:\\Users\\ryun1\\ds\\final_project\\final_datafile\\data\\test\\images\\DSC_5987_JPG_jpg.rf.2c5b4c67956fe6f8c2dc7c1810b78d0b.jpg: 416x416 1 banana, 2 beefs, 1 cheese, 1 chicken_breast, 1 eggs, 1 green_beans, 1 ham, 1 potato, 1 shrimp, 1 strawberries, 13.7ms\n",
      "image 414/1846 C:\\Users\\ryun1\\ds\\final_project\\final_datafile\\data\\test\\images\\DSC_5990_JPG_jpg.rf.2451cd371ee12f7312dd64a6ab09f984.jpg: 416x416 2 beefs, 1 blueberries, 1 chicken, 2 chicken_breasts, 3 potatos, 1 shrimp, 1 strawberries, 1 sweet_potato, 9.9ms\n",
      "image 415/1846 C:\\Users\\ryun1\\ds\\final_project\\final_datafile\\data\\test\\images\\DSC_5990_JPG_jpg.rf.b5888a01ed50f6a940852da7e0ac1735.jpg: 416x416 2 blueberriess, 1 carrot, 1 chicken, 4 chicken_breasts, 2 mushroomss, 2 potatos, 2 shrimps, 1 strawberries, 9.3ms\n",
      "image 416/1846 C:\\Users\\ryun1\\ds\\final_project\\final_datafile\\data\\test\\images\\DSC_5991_JPG_jpg.rf.06bd19da58f0f56d3b86dbee97c8d294.jpg: 416x416 1 banana, 1 beef, 1 blueberries, 1 chicken, 1 mushrooms, 2 potatos, 2 shrimps, 1 strawberries, 9.9ms\n",
      "image 417/1846 C:\\Users\\ryun1\\ds\\final_project\\final_datafile\\data\\test\\images\\DSC_5992_JPG_jpg.rf.618c9c4b710ed51ef8e2f8f64af14386.jpg: 416x416 1 banana, 2 beefs, 2 blueberriess, 2 chickens, 1 eggs, 2 potatos, 2 shrimps, 1 strawberries, 11.4ms\n",
      "image 418/1846 C:\\Users\\ryun1\\ds\\final_project\\final_datafile\\data\\test\\images\\DSC_6007_JPG_jpg.rf.a50e70d50987e4924f440cef81d90d44.jpg: 416x416 1 beef, 1 blueberries, 1 cheese, 1 corn, 1 flour, 1 green_beans, 1 heavy_cream, 1 mushrooms, 1 potato, 1 shrimp, 1 spinach, 1 sweet_potato, 9.8ms\n",
      "image 419/1846 C:\\Users\\ryun1\\ds\\final_project\\final_datafile\\data\\test\\images\\DSC_6007_JPG_jpg.rf.e71dc44b7be043ec68ab63b1a86dbbea.jpg: 416x416 1 banana, 1 beef, 1 cheese, 1 corn, 1 flour, 1 green_beans, 1 heavy_cream, 1 mushrooms, 2 potatos, 1 shrimp, 1 spinach, 1 sweet_potato, 11.5ms\n",
      "image 420/1846 C:\\Users\\ryun1\\ds\\final_project\\final_datafile\\data\\test\\images\\DSC_6008_JPG_jpg.rf.6dd66c3724e9c7d2c77b6c8f6192bbeb.jpg: 416x416 1 banana, 1 beef, 1 blueberries, 1 corn, 1 flour, 1 green_beans, 1 mushrooms, 2 potatos, 1 shrimp, 1 spinach, 1 sweet_potato, 1 tomato, 13.3ms\n",
      "image 421/1846 C:\\Users\\ryun1\\ds\\final_project\\final_datafile\\data\\test\\images\\DSC_6009_JPG_jpg.rf.98f3cf2d20180b4f6a5554820439970b.jpg: 416x416 1 banana, 2 beefs, 2 green_beanss, 1 heavy_cream, 1 mushrooms, 2 potatos, 1 shrimp, 1 spinach, 1 sweet_potato, 8.3ms\n",
      "image 422/1846 C:\\Users\\ryun1\\ds\\final_project\\final_datafile\\data\\test\\images\\DSC_6010_JPG_jpg.rf.2fe15c04e0dd75f8b776dcaf1f36d031.jpg: 416x416 1 banana, 1 beef, 1 chicken_breast, 1 corn, 1 heavy_cream, 1 mushrooms, 1 onion, 2 potatos, 1 shrimp, 1 spinach, 2 tomatos, 12.8ms\n",
      "image 423/1846 C:\\Users\\ryun1\\ds\\final_project\\final_datafile\\data\\test\\images\\DSC_6011_JPG_jpg.rf.05dd730e64c5a578795665914d4a36a1.jpg: 416x416 1 banana, 1 beef, 1 cheese, 1 chicken_breast, 1 corn, 1 heavy_cream, 2 milks, 1 mushrooms, 1 onion, 3 potatos, 1 spinach, 1 sweet_potato, 1 tomato, 12.9ms\n",
      "image 424/1846 C:\\Users\\ryun1\\ds\\final_project\\final_datafile\\data\\test\\images\\DSC_6012_JPG_jpg.rf.d15c7f6dab1ae2e3f541ae1ac4d9a43a.jpg: 416x416 1 apple, 1 banana, 2 beefs, 1 cheese, 1 corn, 1 heavy_cream, 3 milks, 1 mushrooms, 2 potatos, 1 shrimp, 2 sweet_potatos, 1 tomato, 12.9ms\n",
      "image 425/1846 C:\\Users\\ryun1\\ds\\final_project\\final_datafile\\data\\test\\images\\DSC_6012_JPG_jpg.rf.dba8a3ec09284f275c69768fd9b83ac9.jpg: 416x416 1 banana, 1 beef, 1 cheese, 1 heavy_cream, 1 milk, 1 mushrooms, 1 onion, 2 potatos, 1 shrimp, 1 spinach, 1 tomato, 13.3ms\n",
      "image 426/1846 C:\\Users\\ryun1\\ds\\final_project\\final_datafile\\data\\test\\images\\DSC_6013_JPG_jpg.rf.7206c4a531cb58277c39d3d8bc4dee52.jpg: 416x416 1 banana, 1 beef, 1 cheese, 1 eggs, 1 heavy_cream, 3 milks, 1 mushrooms, 1 potato, 1 sweet_potato, 1 tomato, 10.3ms\n",
      "image 427/1846 C:\\Users\\ryun1\\ds\\final_project\\final_datafile\\data\\test\\images\\DSC_6017_JPG_jpg.rf.5ed34ae378a6dd5a56eeb1f9f4624fe4.jpg: 416x416 1 banana, 1 beef, 1 cheese, 1 corn, 1 heavy_cream, 1 mushrooms, 1 potato, 1 spinach, 1 tomato, 15.0ms\n",
      "image 428/1846 C:\\Users\\ryun1\\ds\\final_project\\final_datafile\\data\\test\\images\\DSC_6031_JPG_jpg.rf.5bafdf83f662a7d3269847120ee1d577.jpg: 416x416 1 butter, 1 carrot, 2 cheeses, 1 chicken, 1 chicken_breast, 1 milk, 2 potatos, 2 shrimps, 1 sugar, 1 tomato, 14.5ms\n",
      "image 429/1846 C:\\Users\\ryun1\\ds\\final_project\\final_datafile\\data\\test\\images\\DSC_6032_JPG_jpg.rf.234aba53370246d093212f7c1f49c025.jpg: 416x416 1 beef, 1 butter, 1 carrot, 1 cheese, 1 chicken, 1 milk, 1 mushrooms, 1 potato, 1 shrimp, 1 sugar, 1 tomato, 9.0ms\n",
      "image 430/1846 C:\\Users\\ryun1\\ds\\final_project\\final_datafile\\data\\test\\images\\DSC_6035_JPG_jpg.rf.5c6ec719d034b01f0c7033c4b29a415e.jpg: 416x416 1 beef, 1 butter, 2 cheeses, 1 eggs, 1 lime, 1 milk, 2 potatos, 1 sugar, 1 tomato, 14.3ms\n",
      "image 431/1846 C:\\Users\\ryun1\\ds\\final_project\\final_datafile\\data\\test\\images\\DSC_6036_JPG_jpg.rf.3a59b23a6f0308ec811b5aeab9fe9412.jpg: 416x416 2 beefs, 1 blueberries, 1 butter, 2 carrots, 1 cheese, 1 chicken, 1 eggs, 1 lime, 1 sugar, 1 tomato, 11.5ms\n",
      "image 432/1846 C:\\Users\\ryun1\\ds\\final_project\\final_datafile\\data\\test\\images\\DSC_6036_JPG_jpg.rf.9cc96f08eaba07f0a495455f53b7fed6.jpg: 416x416 1 beef, 1 blueberries, 1 butter, 2 carrots, 1 cheese, 1 lime, 2 potatos, 1 shrimp, 1 sugar, 1 tomato, 14.3ms\n",
      "image 433/1846 C:\\Users\\ryun1\\ds\\final_project\\final_datafile\\data\\test\\images\\DSC_6038_JPG_jpg.rf.9216e5b2311780b9a7c4a83a2b99c8e7.jpg: 416x416 1 beef, 1 blueberries, 1 butter, 1 cheese, 1 ground_beef, 1 ham, 1 lime, 1 mushrooms, 2 potatos, 1 shrimp, 1 spinach, 1 tomato, 13.6ms\n",
      "image 434/1846 C:\\Users\\ryun1\\ds\\final_project\\final_datafile\\data\\test\\images\\DSC_6040_JPG_jpg.rf.34cc1434443804fb7c819dfb77ec4beb.jpg: 416x416 1 beef, 2 blueberriess, 2 cheeses, 2 limes, 1 milk, 1 potato, 1 shrimp, 1 tomato, 12.0ms\n",
      "image 435/1846 C:\\Users\\ryun1\\ds\\final_project\\final_datafile\\data\\test\\images\\DSC_6040_JPG_jpg.rf.e440b4f49f14e982a1d83edc4517fa69.jpg: 416x416 1 beef, 1 blueberries, 2 cheeses, 1 lime, 1 milk, 2 mushroomss, 2 potatos, 1 shrimp, 1 sugar, 1 tomato, 15.2ms\n",
      "image 436/1846 C:\\Users\\ryun1\\ds\\final_project\\final_datafile\\data\\test\\images\\DSC_6041_JPG_jpg.rf.a9ed9e9abd075173aadb9e52869f5435.jpg: 416x416 1 beef, 1 blueberries, 1 carrot, 1 cheese, 1 chicken, 1 ground_beef, 1 heavy_cream, 1 lime, 1 milk, 2 potatos, 2 sugars, 1 tomato, 11.4ms\n",
      "image 437/1846 C:\\Users\\ryun1\\ds\\final_project\\final_datafile\\data\\test\\images\\DSC_6049_JPG_jpg.rf.4d3565ab39314af053c73ad3a9c4f962.jpg: 416x416 1 apple, 1 butter, 1 carrot, 3 cheeses, 1 chicken, 1 corn, 1 ground_beef, 1 lime, 1 milk, 1 spinach, 1 strawberries, 1 sugar, 1 sweet_potato, 9.0ms\n",
      "image 438/1846 C:\\Users\\ryun1\\ds\\final_project\\final_datafile\\data\\test\\images\\DSC_6084_JPG_jpg.rf.47bd77d9b80adf340131aa9f9afaee20.jpg: 416x416 1 beef, 1 blueberries, 1 butter, 1 chicken, 1 chicken_breast, 1 corn, 1 eggs, 1 flour, 1 milk, 2 potatos, 13.0ms\n"
     ]
    },
    {
     "name": "stdout",
     "output_type": "stream",
     "text": [
      "image 439/1846 C:\\Users\\ryun1\\ds\\final_project\\final_datafile\\data\\test\\images\\DSC_6084_JPG_jpg.rf.b05419c858ad57406d74ce1e967ce211.jpg: 416x416 1 beef, 1 blueberries, 1 butter, 1 chicken, 1 chicken_breast, 1 corn, 1 eggs, 1 flour, 1 milk, 2 potatos, 14.0ms\n",
      "image 440/1846 C:\\Users\\ryun1\\ds\\final_project\\final_datafile\\data\\test\\images\\DSC_6090_JPG_jpg.rf.d1fdf36b3f6b977bbad59983a4ad6112.jpg: 416x416 1 beef, 1 blueberries, 1 cheese, 1 chicken, 1 corn, 1 eggs, 1 flour, 1 potato, 1 strawberries, 13.7ms\n",
      "image 441/1846 C:\\Users\\ryun1\\ds\\final_project\\final_datafile\\data\\test\\images\\DSC_6090_JPG_jpg.rf.fe8d71177665e470246700bfc6fea8af.jpg: 416x416 1 beef, 1 blueberries, 1 cheese, 1 chicken, 1 corn, 1 eggs, 1 flour, 1 potato, 1 strawberries, 9.6ms\n",
      "image 442/1846 C:\\Users\\ryun1\\ds\\final_project\\final_datafile\\data\\test\\images\\DSC_6099_JPG_jpg.rf.72a80c4f198ca5bde87398c7c52cb57c.jpg: 416x416 1 apple, 1 beef, 1 blueberries, 1 carrot, 2 cheeses, 1 chicken, 1 chicken_breast, 1 corn, 1 eggs, 1 flour, 1 ground_beef, 1 milk, 1 sugar, 8.2ms\n",
      "image 443/1846 C:\\Users\\ryun1\\ds\\final_project\\final_datafile\\data\\test\\images\\DSC_6099_JPG_jpg.rf.df7c0f3621e62f21bca64b845810ec47.jpg: 416x416 1 apple, 1 beef, 1 blueberries, 1 carrot, 2 cheeses, 1 chicken, 1 chicken_breast, 1 corn, 1 eggs, 1 flour, 1 ground_beef, 1 milk, 1 sugar, 9.4ms\n",
      "image 444/1846 C:\\Users\\ryun1\\ds\\final_project\\final_datafile\\data\\test\\images\\DSC_6101_JPG_jpg.rf.d33c80a39474993263546bc15a631b8b.jpg: 416x416 2 apples, 1 beef, 1 carrot, 2 cheeses, 1 chicken, 1 chicken_breast, 1 corn, 1 eggs, 2 flours, 1 ground_beef, 1 milk, 1 sugar, 11.9ms\n",
      "image 445/1846 C:\\Users\\ryun1\\ds\\final_project\\final_datafile\\data\\test\\images\\DSC_6103_JPG_jpg.rf.0d41d76324aeac389ff4922b1eb5baa6.jpg: 416x416 3 apples, 1 beef, 1 bread, 1 chicken, 1 chicken_breast, 1 corn, 1 eggs, 1 flour, 1 ground_beef, 1 milk, 1 sugar, 11.4ms\n",
      "image 446/1846 C:\\Users\\ryun1\\ds\\final_project\\final_datafile\\data\\test\\images\\DSC_6108_JPG_jpg.rf.ad60b2e5ff1e95c2a07b9813baedfc05.jpg: 416x416 5 apples, 2 beefs, 1 bread, 1 butter, 1 carrot, 1 cheese, 1 chicken, 2 eggss, 1 lime, 1 milk, 1 shrimp, 1 sugar, 13.5ms\n",
      "image 447/1846 C:\\Users\\ryun1\\ds\\final_project\\final_datafile\\data\\test\\images\\DSC_6108_JPG_jpg.rf.f657ee2dbc511b9f2e1eef27943170bc.jpg: 416x416 5 apples, 2 beefs, 1 bread, 1 butter, 1 carrot, 1 cheese, 1 chicken, 2 eggss, 1 lime, 1 milk, 1 shrimp, 1 sugar, 11.0ms\n",
      "image 448/1846 C:\\Users\\ryun1\\ds\\final_project\\final_datafile\\data\\test\\images\\DSC_6113_JPG_jpg.rf.c5791d279cb7f1f6b735d4d53fc64c82.jpg: 416x416 1 apple, 1 bread, 1 cheese, 1 chicken, 1 eggs, 1 flour, 1 green_beans, 1 ground_beef, 1 milk, 1 onion, 1 shrimp, 1 sweet_potato, 8.7ms\n",
      "image 449/1846 C:\\Users\\ryun1\\ds\\final_project\\final_datafile\\data\\test\\images\\DSC_6115_JPG_jpg.rf.b87ac0da968d5a60a99c6ae374b3ca97.jpg: 416x416 1 carrot, 1 cheese, 1 chicken, 1 flour, 1 green_beans, 1 ground_beef, 1 lime, 1 milk, 1 onion, 1 shrimp, 1 strawberries, 1 sweet_potato, 1 tomato, 10.3ms\n",
      "image 450/1846 C:\\Users\\ryun1\\ds\\final_project\\final_datafile\\data\\test\\images\\DSC_6122_JPG_jpg.rf.f10e5c177cc8c301cbd938c14b81284d.jpg: 416x416 1 beef, 1 cheese, 1 chicken, 1 eggs, 1 flour, 2 green_beanss, 1 ground_beef, 2 milks, 1 mushrooms, 3 potatos, 1 tomato, 12.8ms\n",
      "image 451/1846 C:\\Users\\ryun1\\ds\\final_project\\final_datafile\\data\\test\\images\\DSC_6125_JPG_jpg.rf.ef98bb95f70e6854098fcd32ecf8a82d.jpg: 416x416 1 beef, 1 butter, 1 chicken, 1 flour, 1 green_beans, 2 limes, 1 mushrooms, 1 potato, 1 sugar, 1 tomato, 10.3ms\n",
      "image 452/1846 C:\\Users\\ryun1\\ds\\final_project\\final_datafile\\data\\test\\images\\DSC_6126_JPG_jpg.rf.dc56c6784b359726b38f913d99729ada.jpg: 416x416 1 butter, 1 carrot, 1 chicken, 1 eggs, 2 flours, 1 green_beans, 1 milk, 1 mushrooms, 2 potatos, 1 shrimp, 1 strawberries, 2 sugars, 1 tomato, 11.8ms\n",
      "image 453/1846 C:\\Users\\ryun1\\ds\\final_project\\final_datafile\\data\\test\\images\\DSC_6141_JPG_jpg.rf.457043c75747b8403f036fb8b477fd02.jpg: 416x416 1 beef, 1 blueberries, 1 butter, 1 chicken, 1 chicken_breast, 1 flour, 1 green_beans, 1 mushrooms, 1 onion, 1 potato, 1 strawberries, 14.1ms\n",
      "image 454/1846 C:\\Users\\ryun1\\ds\\final_project\\final_datafile\\data\\test\\images\\DSC_6142_JPG_jpg.rf.7d1a1c4adfefb6322ca02015bf70a973.jpg: 416x416 1 beef, 2 blueberriess, 1 butter, 1 onion, 1 potato, 2 shrimps, 1 strawberries, 1 tomato, 9.0ms\n",
      "image 455/1846 C:\\Users\\ryun1\\ds\\final_project\\final_datafile\\data\\test\\images\\DSC_6143_JPG_jpg.rf.05473acb3d1ccb8a17031a64d423b7f1.jpg: 416x416 1 beef, 1 blueberries, 1 butter, 1 carrot, 1 chicken, 1 ground_beef, 1 mushrooms, 1 onion, 2 shrimps, 1 tomato, 7.8ms\n",
      "image 456/1846 C:\\Users\\ryun1\\ds\\final_project\\final_datafile\\data\\test\\images\\DSC_6144_JPG_jpg.rf.6a0d32bae294a5b3c5ef3b82b2af1544.jpg: 416x416 1 beef, 1 butter, 1 carrot, 1 chicken, 1 mushrooms, 1 onion, 3 potatos, 1 shrimp, 1 tomato, 9.4ms\n",
      "image 457/1846 C:\\Users\\ryun1\\ds\\final_project\\final_datafile\\data\\test\\images\\Data-2-1-_jpg.rf.bf1e0cd25fdd609599beb920b9e42ec3.jpg: 416x416 1 garlic, 11.0ms\n",
      "image 458/1846 C:\\Users\\ryun1\\ds\\final_project\\final_datafile\\data\\test\\images\\Data-2-10-_jpg.rf.dee6c884433ad7c49a0b3daadb375693.jpg: 416x416 1 ampalaya, 1 green chilli, 1 tomato, 13.0ms\n",
      "image 459/1846 C:\\Users\\ryun1\\ds\\final_project\\final_datafile\\data\\test\\images\\Data-2-18-_jpg.rf.105ce53d474af0f6ba81bb34d045ca2c.jpg: 416x416 1 Apple, 1 Orange, 1 Tomato, 2 mangos, 2 potatos, 3 tomatos, 9.2ms\n",
      "image 460/1846 C:\\Users\\ryun1\\ds\\final_project\\final_datafile\\data\\test\\images\\Data-2-18-_jpg.rf.544163dc193545f307528831cfd71fea.jpg: 416x416 1 Apple, 2 Oranges, 1 mango, 2 potatos, 9.6ms\n",
      "image 461/1846 C:\\Users\\ryun1\\ds\\final_project\\final_datafile\\data\\test\\images\\Data-2-18-_jpg.rf.829ce0bf6f5ac5156c30b38ea768b160.jpg: 416x416 1 mango, 2 potatos, 1 sweet_potato, 3 tomatos, 11.9ms\n",
      "image 462/1846 C:\\Users\\ryun1\\ds\\final_project\\final_datafile\\data\\test\\images\\Data-2-19-_jpg.rf.75ae1194b9066f6aed9c36b7325a8033.jpg: 416x416 2 10_tangerines, 1 chilli, 1 mango, 1 potato, 4 tomatos, 12.1ms\n",
      "image 463/1846 C:\\Users\\ryun1\\ds\\final_project\\final_datafile\\data\\test\\images\\Data-2-20-_jpg.rf.50a436095051d4bbd0ef78eea3a651bb.jpg: 416x416 1 tomato, 10.9ms\n",
      "image 464/1846 C:\\Users\\ryun1\\ds\\final_project\\final_datafile\\data\\test\\images\\Data-2-20-_jpg.rf.916ba4f4fbb3a835ac2adae028453483.jpg: 416x416 1 tomato, 13.8ms\n",
      "image 465/1846 C:\\Users\\ryun1\\ds\\final_project\\final_datafile\\data\\test\\images\\Data-2-20-_jpg.rf.d5aac17e571f71d5fcdea2b3f53a5751.jpg: 416x416 1 potato, 2 tomatos, 10.9ms\n",
      "image 466/1846 C:\\Users\\ryun1\\ds\\final_project\\final_datafile\\data\\test\\images\\Data-2-21-_jpg.rf.3fb3bd35f4f81dfd237fd01bae934237.jpg: 416x416 1 10_tangerine, 2 Oranges, 2 Tomatos, 1 mango, 1 tomato, 10.4ms\n",
      "image 467/1846 C:\\Users\\ryun1\\ds\\final_project\\final_datafile\\data\\test\\images\\Data-2-21-_jpg.rf.4bba3cc69edf1be8b766f5de58ac3be6.jpg: 416x416 1 mango, 2 potatos, 11.0ms\n",
      "image 468/1846 C:\\Users\\ryun1\\ds\\final_project\\final_datafile\\data\\test\\images\\Data-2-21-_jpg.rf.952afe8b536c6c2da948f91938051ecc.jpg: 416x416 1 chilli, 2 mangos, 3 potatos, 1 tomato, 8.0ms\n",
      "image 469/1846 C:\\Users\\ryun1\\ds\\final_project\\final_datafile\\data\\test\\images\\Data-2-22-_jpg.rf.5ce71f7189778af95b226ebe0c34dddf.jpg: 416x416 1 10_tangerine, 2 Oranges, 1 Tomato, 2 mangos, 2 potatos, 4 tomatos, 10.3ms\n",
      "image 470/1846 C:\\Users\\ryun1\\ds\\final_project\\final_datafile\\data\\test\\images\\Data-2-22-_jpg.rf.b50324bed50c1d1b11fbb63254a8901d.jpg: 416x416 4 10_tangerines, 1 Tomato, 2 mangos, 2 potatos, 4 tomatos, 10.3ms\n",
      "image 471/1846 C:\\Users\\ryun1\\ds\\final_project\\final_datafile\\data\\test\\images\\Data-2-22-_jpg.rf.e0d34f3f57eedfff3b9422a56b0586c1.jpg: 416x416 1 10_tangerine, 2 mangos, 2 potatos, 1 tomato, 10.3ms\n",
      "image 472/1846 C:\\Users\\ryun1\\ds\\final_project\\final_datafile\\data\\test\\images\\Data-2-23-_jpg.rf.2b149d16c10896ae990eecfb23a86629.jpg: 416x416 3 10_tangerines, 1 Orange, 1 Tomato, 2 mangos, 1 tomato, 10.9ms\n",
      "image 473/1846 C:\\Users\\ryun1\\ds\\final_project\\final_datafile\\data\\test\\images\\Data-2-23-_jpg.rf.3d19106b37157fe16dd34272dbc1c8cf.jpg: 416x416 3 10_tangerines, 1 Orange, 1 Tomato, 1 mango, 2 tomatos, 9.3ms\n",
      "image 474/1846 C:\\Users\\ryun1\\ds\\final_project\\final_datafile\\data\\test\\images\\Data-2-23-_jpg.rf.e5396643145b8dc8c36357fca4c65191.jpg: 416x416 1 10_tangerine, 2 mangos, 3 potatos, 1 tomato, 11.8ms\n"
     ]
    },
    {
     "name": "stdout",
     "output_type": "stream",
     "text": [
      "image 475/1846 C:\\Users\\ryun1\\ds\\final_project\\final_datafile\\data\\test\\images\\Data-2-28-_jpg.rf.61ddc4886ead63a75217f312f397bd47.jpg: 416x416 1 ampalaya, 1 green chilli, 1 potato, 11.5ms\n",
      "image 476/1846 C:\\Users\\ryun1\\ds\\final_project\\final_datafile\\data\\test\\images\\Data-2-29-_jpg.rf.41286cc1bbe827857a4c6b7b8ba05cfc.jpg: 416x416 1 potato, 1 tomato, 11.9ms\n",
      "image 477/1846 C:\\Users\\ryun1\\ds\\final_project\\final_datafile\\data\\test\\images\\Data-2-30-_jpg.rf.0dd65ae339475cd2429888f846f96c5d.jpg: 416x416 1 ampalaya, 1 potato, 1 tomato, 8.6ms\n",
      "image 478/1846 C:\\Users\\ryun1\\ds\\final_project\\final_datafile\\data\\test\\images\\Data-2-30-_jpg.rf.1dadfb615bde94b3dede60f07f341cf8.jpg: 416x416 1 ampalaya, 1 potato, 11.3ms\n",
      "image 479/1846 C:\\Users\\ryun1\\ds\\final_project\\final_datafile\\data\\test\\images\\Data-2-30-_jpg.rf.ee7e08b53739ea1dfa7b7062bae9eb10.jpg: 416x416 1 ampalaya, 1 potato, 13.6ms\n",
      "image 480/1846 C:\\Users\\ryun1\\ds\\final_project\\final_datafile\\data\\test\\images\\Data-2-4-_jpg.rf.08d5ddd10630ba6af2b31d8619df32b4.jpg: 416x416 1 potato, 11.4ms\n",
      "image 481/1846 C:\\Users\\ryun1\\ds\\final_project\\final_datafile\\data\\test\\images\\Data-2-4-_jpg.rf.23aad89345884db2018e5d8979d440db.jpg: 416x416 1 potato, 10.5ms\n",
      "image 482/1846 C:\\Users\\ryun1\\ds\\final_project\\final_datafile\\data\\test\\images\\Data-2-4-_jpg.rf.307d89f11da8a73d22e2af89c355b2db.jpg: 416x416 1 potato, 11.0ms\n",
      "image 483/1846 C:\\Users\\ryun1\\ds\\final_project\\final_datafile\\data\\test\\images\\Data-2-40-_jpg.rf.27b63a96c1605715533a4bbcae511e04.jpg: 416x416 1 cashew, 2 mangos, 2 potatos, 1 shrimp, 2 tomatos, 7.7ms\n",
      "image 484/1846 C:\\Users\\ryun1\\ds\\final_project\\final_datafile\\data\\test\\images\\Data-2-40-_jpg.rf.9cb07f5b52a5f198c0a11b31889e1a63.jpg: 416x416 3 mangos, 1 shrimp, 2 tomatos, 8.9ms\n",
      "image 485/1846 C:\\Users\\ryun1\\ds\\final_project\\final_datafile\\data\\test\\images\\Data-2-40-_jpg.rf.cabde1e286048314e0ea3201b6791fcf.jpg: 416x416 1 cashew, 2 mangos, 2 potatos, 1 shrimp, 2 tomatos, 9.3ms\n",
      "image 486/1846 C:\\Users\\ryun1\\ds\\final_project\\final_datafile\\data\\test\\images\\Data-2-41-_jpg.rf.6686f277ca3b53dc77c558d3a24f82db.jpg: 416x416 2 mangos, 1 potato, 2 tomatos, 10.0ms\n",
      "image 487/1846 C:\\Users\\ryun1\\ds\\final_project\\final_datafile\\data\\test\\images\\Data-2-41-_jpg.rf.74dc2802ecf16efee0ca29c092cfc112.jpg: 416x416 2 mangos, 1 potato, 3 tomatos, 9.8ms\n",
      "image 488/1846 C:\\Users\\ryun1\\ds\\final_project\\final_datafile\\data\\test\\images\\Data-2-41-_jpg.rf.927223cbcc770672f8c74700e034c4bf.jpg: 416x416 1 cashew, 2 mangos, 3 tomatos, 10.5ms\n",
      "image 489/1846 C:\\Users\\ryun1\\ds\\final_project\\final_datafile\\data\\test\\images\\Data-2-43-_jpg.rf.343ed67c8027f46b6cb4c03167a747e4.jpg: 416x416 3 10_tangerines, 2 mangos, 2 potatos, 4 tomatos, 11.4ms\n",
      "image 490/1846 C:\\Users\\ryun1\\ds\\final_project\\final_datafile\\data\\test\\images\\Data-2-43-_jpg.rf.6c3751653e557a421bca5e93240e7092.jpg: 416x416 5 10_tangerines, 2 mangos, 1 potato, 7 tomatos, 11.4ms\n",
      "image 491/1846 C:\\Users\\ryun1\\ds\\final_project\\final_datafile\\data\\test\\images\\Data-2-43-_jpg.rf.b0cb8b300d294aaa8b3ca62d7ea7773e.jpg: 416x416 3 10_tangerines, 2 mangos, 1 potato, 7 tomatos, 10.5ms\n",
      "image 492/1846 C:\\Users\\ryun1\\ds\\final_project\\final_datafile\\data\\test\\images\\Data-2-5-_jpg.rf.8bac90f6258ceec148e420267652dc95.jpg: 416x416 1 green chilli, 8.3ms\n",
      "image 493/1846 C:\\Users\\ryun1\\ds\\final_project\\final_datafile\\data\\test\\images\\Data-2-5-_jpg.rf.a9554d61f18f1e4c163814886a0852a4.jpg: 416x416 1 green chilli, 9.3ms\n",
      "image 494/1846 C:\\Users\\ryun1\\ds\\final_project\\final_datafile\\data\\test\\images\\Data-2-5-_jpg.rf.d547647d4c4282319a71d43f6aa7c26f.jpg: 416x416 1 green chilli, 8.4ms\n",
      "image 495/1846 C:\\Users\\ryun1\\ds\\final_project\\final_datafile\\data\\test\\images\\Data-2-6-_jpg.rf.5230b6402e58f1924d4e599e5942a523.jpg: 416x416 1 garlic, 1 onion, 9.0ms\n",
      "image 496/1846 C:\\Users\\ryun1\\ds\\final_project\\final_datafile\\data\\test\\images\\Determining-If-The-Pork-Has-Gone-Bad-1_jpg.rf.9d4b25f04ee64edcf72a75293c80b971.jpg: 416x416 1 pork, 11.2ms\n",
      "image 497/1846 C:\\Users\\ryun1\\ds\\final_project\\final_datafile\\data\\test\\images\\GettyImages-155127339-79902ab_jpg.rf.5fe948d6778c8fa1247b1b806340aa5b.jpg: 416x416 3 eggs, 1 egg_, 9.7ms\n",
      "image 498/1846 C:\\Users\\ryun1\\ds\\final_project\\final_datafile\\data\\test\\images\\IMG-20211216-WA0017_jpg.rf.68e5e56b935a6a6d29ceaa032fefe454.jpg: 416x416 (no detections), 9.1ms\n",
      "image 499/1846 C:\\Users\\ryun1\\ds\\final_project\\final_datafile\\data\\test\\images\\IMG-20211216-WA0037_jpg.rf.d13e03d7df9972cc836c5caf7f6a3250.jpg: 416x416 2 red chilis, 10.2ms\n",
      "image 500/1846 C:\\Users\\ryun1\\ds\\final_project\\final_datafile\\data\\test\\images\\IMG-20211216-WA0038_jpg.rf.ce92c35af3e3f4e9473b1a3921bf350b.jpg: 416x416 1 red chili, 10.3ms\n",
      "image 501/1846 C:\\Users\\ryun1\\ds\\final_project\\final_datafile\\data\\test\\images\\IMG-20211216-WA0042_jpg.rf.e55e5533b552abb13185d72b9e7b4d54.jpg: 416x416 1 red chili, 11.9ms\n",
      "image 502/1846 C:\\Users\\ryun1\\ds\\final_project\\final_datafile\\data\\test\\images\\IMG-20211216-WA0050_jpg.rf.5c0a577914c9abc3180215c765eb24b6.jpg: 416x416 1 red chili, 10.3ms\n",
      "image 503/1846 C:\\Users\\ryun1\\ds\\final_project\\final_datafile\\data\\test\\images\\IMG-7475_jpg.rf.4db9bdc40eea6a527d98ff3687680090.jpg: 416x416 1 avocado, 2 milks, 1 salad, 8.8ms\n",
      "image 504/1846 C:\\Users\\ryun1\\ds\\final_project\\final_datafile\\data\\test\\images\\IMG-7476_jpg.rf.46c9ca077a4158781f5609e007cfaf56.jpg: 416x416 2 avocados, 1 butter, 2 milks, 2 tomatos, 10.6ms\n",
      "image 505/1846 C:\\Users\\ryun1\\ds\\final_project\\final_datafile\\data\\test\\images\\IMG_0413_jpg.rf.eaf5107875c7c5d95a27c4a4386fe271.jpg: 416x416 1 beef, 12.2ms\n",
      "image 506/1846 C:\\Users\\ryun1\\ds\\final_project\\final_datafile\\data\\test\\images\\IMG_20220110_093130_jpg.rf.cd937b6d20c68e7a47c3b59bf13b1081.jpg: 416x416 1 pork, 9.7ms\n",
      "image 507/1846 C:\\Users\\ryun1\\ds\\final_project\\final_datafile\\data\\test\\images\\IMG_20220110_093332_jpg.rf.f8848a228cde7cf9a1efdf85f6b922aa.jpg: 416x416 1 pork, 9.8ms\n",
      "image 508/1846 C:\\Users\\ryun1\\ds\\final_project\\final_datafile\\data\\test\\images\\IMG_20220110_093420_jpg.rf.a31d1991ba6c10fa02bf1fa5d16682c1.jpg: 416x416 1 pork, 10.7ms\n",
      "image 509/1846 C:\\Users\\ryun1\\ds\\final_project\\final_datafile\\data\\test\\images\\IMG_20221027_123044_jpg.rf.097463357d76febc8bc97703489d9557.jpg: 416x416 2 potatos, 2 tomatos, 8.8ms\n",
      "image 510/1846 C:\\Users\\ryun1\\ds\\final_project\\final_datafile\\data\\test\\images\\IMG_20221027_123044_jpg.rf.dd28c5fab81a0da0ac1bd8ce039dd02d.jpg: 416x416 2 potatos, 2 tomatos, 9.8ms\n",
      "image 511/1846 C:\\Users\\ryun1\\ds\\final_project\\final_datafile\\data\\test\\images\\IMG_20221027_123048_jpg.rf.3b36084d6dedb61022bd0ab27a5269df.jpg: 416x416 3 potatos, 1 tomato, 11.6ms\n",
      "image 512/1846 C:\\Users\\ryun1\\ds\\final_project\\final_datafile\\data\\test\\images\\IMG_20221027_123048_jpg.rf.4d7d35088f454caa924616d80d9fe108.jpg: 416x416 3 potatos, 2 tomatos, 10.3ms\n",
      "image 513/1846 C:\\Users\\ryun1\\ds\\final_project\\final_datafile\\data\\test\\images\\IMG_20221027_123048_jpg.rf.87bc8355c8736f08cd9bf6b04c073758.jpg: 416x416 3 potatos, 2 tomatos, 8.3ms\n",
      "image 514/1846 C:\\Users\\ryun1\\ds\\final_project\\final_datafile\\data\\test\\images\\IMG_20221027_123123_jpg.rf.b882e8da332715e7f90a5ad8268557f9.jpg: 416x416 3 potatos, 2 tomatos, 11.0ms\n",
      "image 515/1846 C:\\Users\\ryun1\\ds\\final_project\\final_datafile\\data\\test\\images\\IMG_20221027_123136_jpg.rf.2df884a7321250d06d1e3a477b85c7ef.jpg: 416x416 1 garlic, 3 potatos, 2 tomatos, 9.0ms\n",
      "image 516/1846 C:\\Users\\ryun1\\ds\\final_project\\final_datafile\\data\\test\\images\\IMG_20221027_123136_jpg.rf.4957dba7b7ba162ce08b9e2405fd182d.jpg: 416x416 2 potatos, 9.6ms\n",
      "image 517/1846 C:\\Users\\ryun1\\ds\\final_project\\final_datafile\\data\\test\\images\\IMG_20221027_123136_jpg.rf.4e2a9983ee72ac73a1e91ab5399f4edd.jpg: 416x416 3 potatos, 1 tomato, 8.1ms\n",
      "image 518/1846 C:\\Users\\ryun1\\ds\\final_project\\final_datafile\\data\\test\\images\\IMG_20221027_123141_jpg.rf.12668f163678d2fdf923b6e76c0fe3ae.jpg: 416x416 3 potatos, 8.6ms\n",
      "image 519/1846 C:\\Users\\ryun1\\ds\\final_project\\final_datafile\\data\\test\\images\\IMG_20221027_123146_jpg.rf.018defba30feb6f951978641989c1c40.jpg: 416x416 1 potato, 1 tomato, 10.2ms\n",
      "image 520/1846 C:\\Users\\ryun1\\ds\\final_project\\final_datafile\\data\\test\\images\\IMG_20221027_123146_jpg.rf.2a00e0364030888d1211679769c2fa50.jpg: 416x416 3 potatos, 10.7ms\n",
      "image 521/1846 C:\\Users\\ryun1\\ds\\final_project\\final_datafile\\data\\test\\images\\IMG_20221027_123146_jpg.rf.addc7e5c36008cf7c1bf35ae5e35f6a0.jpg: 416x416 3 potatos, 2 tomatos, 9.9ms\n"
     ]
    },
    {
     "name": "stdout",
     "output_type": "stream",
     "text": [
      "image 522/1846 C:\\Users\\ryun1\\ds\\final_project\\final_datafile\\data\\test\\images\\IMG_20221027_123203_jpg.rf.2bd1e3e61c52d02babde95fc741215c1.jpg: 416x416 3 potatos, 1 tomato, 9.9ms\n",
      "image 523/1846 C:\\Users\\ryun1\\ds\\final_project\\final_datafile\\data\\test\\images\\IMG_20221027_123203_jpg.rf.3384edd193fee5f5b74455536ec45de9.jpg: 416x416 3 potatos, 9.7ms\n",
      "image 524/1846 C:\\Users\\ryun1\\ds\\final_project\\final_datafile\\data\\test\\images\\IMG_20221027_123203_jpg.rf.eb9acd48b639d2d971afa85d2cfc22b8.jpg: 416x416 3 potatos, 2 tomatos, 10.8ms\n",
      "image 525/1846 C:\\Users\\ryun1\\ds\\final_project\\final_datafile\\data\\test\\images\\IMG_20221027_123212_jpg.rf.0b20d85496b3d8d251076e270638c800.jpg: 416x416 1 potato, 1 tomato, 9.4ms\n",
      "image 526/1846 C:\\Users\\ryun1\\ds\\final_project\\final_datafile\\data\\test\\images\\IMG_20221027_123212_jpg.rf.11ff90c47397973edba31ca22daad788.jpg: 416x416 1 potato, 2 tomatos, 11.3ms\n",
      "image 527/1846 C:\\Users\\ryun1\\ds\\final_project\\final_datafile\\data\\test\\images\\IMG_20221027_123212_jpg.rf.fafb2092a375fc14b1ce81ff1cae99fb.jpg: 416x416 1 avocado, 1 potato, 8.3ms\n",
      "image 528/1846 C:\\Users\\ryun1\\ds\\final_project\\final_datafile\\data\\test\\images\\IMG_20221027_123224_jpg.rf.78486caa4e5934040c8da47e43b043b5.jpg: 416x416 3 potatos, 2 tomatos, 10.2ms\n",
      "image 529/1846 C:\\Users\\ryun1\\ds\\final_project\\final_datafile\\data\\test\\images\\IMG_20221027_123224_jpg.rf.a0805b47e5a901c9c36786bc625ee9d9.jpg: 416x416 2 potatos, 1 tomato, 9.7ms\n",
      "image 530/1846 C:\\Users\\ryun1\\ds\\final_project\\final_datafile\\data\\test\\images\\IMG_20221027_123224_jpg.rf.d7470d032fddde1ab11ffa4e2af2a7b4.jpg: 416x416 2 potatos, 10.3ms\n",
      "image 531/1846 C:\\Users\\ryun1\\ds\\final_project\\final_datafile\\data\\test\\images\\IMG_20221027_123228_jpg.rf.0784062ef6a80b89a530856cec70a730.jpg: 416x416 1 potato, 2 tomatos, 10.6ms\n",
      "image 532/1846 C:\\Users\\ryun1\\ds\\final_project\\final_datafile\\data\\test\\images\\IMG_20221027_123228_jpg.rf.748eccd80cd6464075167fcf12513b6b.jpg: 416x416 1 potato, 1 tomato, 13.8ms\n",
      "image 533/1846 C:\\Users\\ryun1\\ds\\final_project\\final_datafile\\data\\test\\images\\IMG_20221027_123228_jpg.rf.ae22de5ce838a3f2e6c64d981a81c056.jpg: 416x416 1 potato, 1 tomato, 10.5ms\n",
      "image 534/1846 C:\\Users\\ryun1\\ds\\final_project\\final_datafile\\data\\test\\images\\IMG_20221027_123234_jpg.rf.e026fcf5cbc08807a111fbf2079aedde.jpg: 416x416 2 potatos, 10.7ms\n",
      "image 535/1846 C:\\Users\\ryun1\\ds\\final_project\\final_datafile\\data\\test\\images\\IMG_20221027_123238_jpg.rf.387f7b2648642326e2c47265de4c9f9c.jpg: 416x416 2 potatos, 10.2ms\n",
      "image 536/1846 C:\\Users\\ryun1\\ds\\final_project\\final_datafile\\data\\test\\images\\IMG_20221027_123243_jpg.rf.59c5d23e7b6134ab3a33777d95161b75.jpg: 416x416 2 potatos, 11.1ms\n",
      "image 537/1846 C:\\Users\\ryun1\\ds\\final_project\\final_datafile\\data\\test\\images\\IMG_20221027_123243_jpg.rf.7f77f8dbf11b1751206db79d2a14ba42.jpg: 416x416 1 cashew, 2 potatos, 10.6ms\n",
      "image 538/1846 C:\\Users\\ryun1\\ds\\final_project\\final_datafile\\data\\test\\images\\IMG_20221027_123243_jpg.rf.f76ce5cffa5124d7bc514f2ceb9a4c73.jpg: 416x416 2 potatos, 11.2ms\n",
      "image 539/1846 C:\\Users\\ryun1\\ds\\final_project\\final_datafile\\data\\test\\images\\IMG_20221027_123254_jpg.rf.12767646f768190f0ea582cecbdde2b3.jpg: 416x416 2 potatos, 2 tomatos, 10.5ms\n",
      "image 540/1846 C:\\Users\\ryun1\\ds\\final_project\\final_datafile\\data\\test\\images\\IMG_20221027_123254_jpg.rf.3ce27c39536e1278c31dc3037f42cd47.jpg: 416x416 2 potatos, 2 tomatos, 9.4ms\n",
      "image 541/1846 C:\\Users\\ryun1\\ds\\final_project\\final_datafile\\data\\test\\images\\IMG_20221027_123254_jpg.rf.e73e451de829b4d22072f46d411e0873.jpg: 416x416 2 potatos, 1 tomato, 9.4ms\n",
      "image 542/1846 C:\\Users\\ryun1\\ds\\final_project\\final_datafile\\data\\test\\images\\IMG_20221027_123259_jpg.rf.2c72f98112d7cc6aa2a9453330dbb1b6.jpg: 416x416 1 cashew, 1 potato, 10.4ms\n",
      "image 543/1846 C:\\Users\\ryun1\\ds\\final_project\\final_datafile\\data\\test\\images\\IMG_20221027_123259_jpg.rf.41bd755e70d03893e2775f226f86981a.jpg: 416x416 1 cashew, 1 potato, 8.6ms\n",
      "image 544/1846 C:\\Users\\ryun1\\ds\\final_project\\final_datafile\\data\\test\\images\\IMG_20221027_123259_jpg.rf.866f2bc1f910c2bbafaef6fa4b1d54e3.jpg: 416x416 2 potatos, 1 tomato, 11.2ms\n",
      "image 545/1846 C:\\Users\\ryun1\\ds\\final_project\\final_datafile\\data\\test\\images\\IMG_20221027_123311_jpg.rf.2c9dddb170aa1e6363a4f6a2c33a4007.jpg: 416x416 2 potatos, 1 tomato, 9.4ms\n",
      "image 546/1846 C:\\Users\\ryun1\\ds\\final_project\\final_datafile\\data\\test\\images\\IMG_20221027_123317_jpg.rf.cb7080eeb5a95bd6a295dfca41287023.jpg: 416x416 2 potatos, 11.8ms\n",
      "image 547/1846 C:\\Users\\ryun1\\ds\\final_project\\final_datafile\\data\\test\\images\\IMG_2354_jpg.rf.8d0d76c9de51c31da6d9f4d625a65e1a.jpg: 416x416 1 egg, 11.7ms\n",
      "image 548/1846 C:\\Users\\ryun1\\ds\\final_project\\final_datafile\\data\\test\\images\\IMG_2357_jpg.rf.cfcae04c68ee5562d2392a38c56bd685.jpg: 416x416 1 egg, 1 tomato, 11.3ms\n",
      "image 549/1846 C:\\Users\\ryun1\\ds\\final_project\\final_datafile\\data\\test\\images\\IMG_2378_jpg.rf.eec384224dadd4795846743a07e22dbb.jpg: 416x416 1 egg, 11.6ms\n",
      "image 550/1846 C:\\Users\\ryun1\\ds\\final_project\\final_datafile\\data\\test\\images\\IMG_5029_jpg.rf.e018f1127de9fb45a5d52069239c7c78.jpg: 416x416 1 chicken, 8.9ms\n",
      "image 551/1846 C:\\Users\\ryun1\\ds\\final_project\\final_datafile\\data\\test\\images\\IMG_5038_jpg.rf.a89e563dfaed5ec09db5ea482ddc4427.jpg: 416x416 1 chicken, 12.2ms\n",
      "image 552/1846 C:\\Users\\ryun1\\ds\\final_project\\final_datafile\\data\\test\\images\\IMG_5068_jpg.rf.53983f06a8f8de161a606a79dde0e0d1.jpg: 416x416 1 chicken, 14.6ms\n",
      "image 553/1846 C:\\Users\\ryun1\\ds\\final_project\\final_datafile\\data\\test\\images\\IMG_5234_JPG.rf.dc51a8dbe0aa605c9f2239b49b4da13c.jpg: 416x416 1 chicken, 12.0ms\n",
      "image 554/1846 C:\\Users\\ryun1\\ds\\final_project\\final_datafile\\data\\test\\images\\IMG_6365_JPG_jpg.rf.35632dc8da6bd5647d43f34a2206860d.jpg: 416x416 1 apple, 1 avocado, 2 bell_peppers, 1 guacamole, 1 heavy_cream, 1 salad, 4 yogurts, 11.0ms\n",
      "image 555/1846 C:\\Users\\ryun1\\ds\\final_project\\final_datafile\\data\\test\\images\\IMG_6367_JPG_jpg.rf.8b14e67aaaf909c124ffa8886f954b9f.jpg: 416x416 1 avocado, 1 garlic, 1 salad, 2 yogurts, 10.0ms\n",
      "image 556/1846 C:\\Users\\ryun1\\ds\\final_project\\final_datafile\\data\\test\\images\\Image_14_jpg.rf.67dd311ee3dd1ba83c7dbf1c96bb3b2a.jpg: 416x416 5 tomatos, 8.0ms\n",
      "image 557/1846 C:\\Users\\ryun1\\ds\\final_project\\final_datafile\\data\\test\\images\\Image_17_jpeg.rf.4b8f10f72b56a074d47f15c38b4ad51a.jpg: 416x416 9 carrots, 9.0ms\n",
      "image 558/1846 C:\\Users\\ryun1\\ds\\final_project\\final_datafile\\data\\test\\images\\Image_29_jpg.rf.673c202ab11cf9bd4ba52146a5e4f17d.jpg: 416x416 1 tomato, 9.1ms\n",
      "image 559/1846 C:\\Users\\ryun1\\ds\\final_project\\final_datafile\\data\\test\\images\\Image_31_jpg.rf.52bff9fa2989b2378b3650000e5b2a02.jpg: 416x416 4 carrots, 10.2ms\n",
      "image 560/1846 C:\\Users\\ryun1\\ds\\final_project\\final_datafile\\data\\test\\images\\Image_3_jpg.rf.8df5a0fe350ade76425f111fc475c9dd.jpg: 416x416 3 tofus, 10.1ms\n",
      "image 561/1846 C:\\Users\\ryun1\\ds\\final_project\\final_datafile\\data\\test\\images\\Image_51_jpg.rf.6db99a045b30933c54ee905b41eaa866.jpg: 416x416 5 carrots, 9.3ms\n",
      "image 562/1846 C:\\Users\\ryun1\\ds\\final_project\\final_datafile\\data\\test\\images\\Image_66_jpg.rf.4ee5e95c58af25fe8e7fc681533e579d.jpg: 416x416 3 carrots, 10.8ms\n",
      "image 563/1846 C:\\Users\\ryun1\\ds\\final_project\\final_datafile\\data\\test\\images\\Image_80_png.rf.89feb8248cf03ccb86ce4ab8498650da.jpg: 416x416 3 carrots, 11.3ms\n",
      "image 564/1846 C:\\Users\\ryun1\\ds\\final_project\\final_datafile\\data\\test\\images\\Image_81_jpg.rf.48fce40d1c55ae40503798b30d6155bb.jpg: 416x416 6 carrots, 8.0ms\n",
      "image 565/1846 C:\\Users\\ryun1\\ds\\final_project\\final_datafile\\data\\test\\images\\Image_85_jpg.rf.e6cf856b7414842e099c1e03880c8543.jpg: 416x416 4 carrots, 10.4ms\n",
      "image 566/1846 C:\\Users\\ryun1\\ds\\final_project\\final_datafile\\data\\test\\images\\LINE_ALBUM_-_211223_100_jpg.rf.6555165e664dfde291df73fa65d18c48.jpg: 416x416 1 egg, 9.4ms\n",
      "image 567/1846 C:\\Users\\ryun1\\ds\\final_project\\final_datafile\\data\\test\\images\\LINE_ALBUM_-_211223_102_jpg.rf.5705c60008d2f0332a5ff5cac593ddc0.jpg: 416x416 1 egg, 8.7ms\n",
      "image 568/1846 C:\\Users\\ryun1\\ds\\final_project\\final_datafile\\data\\test\\images\\LINE_ALBUM_-_211223_102_jpg.rf.ff5acd443ce82416289eb6d3f91ca5ac.jpg: 416x416 1 egg, 1 mushroom, 9.4ms\n",
      "image 569/1846 C:\\Users\\ryun1\\ds\\final_project\\final_datafile\\data\\test\\images\\LINE_ALBUM_-_211223_106_jpg.rf.d01c2a2714b9148874a0f5b91d68bdc2.jpg: 416x416 1 egg, 8.7ms\n"
     ]
    },
    {
     "name": "stdout",
     "output_type": "stream",
     "text": [
      "image 570/1846 C:\\Users\\ryun1\\ds\\final_project\\final_datafile\\data\\test\\images\\LINE_ALBUM_-_211223_108_jpg.rf.fe966e5012dcf18cc55fa41ec68b9688.jpg: 416x416 1 egg, 8.1ms\n",
      "image 571/1846 C:\\Users\\ryun1\\ds\\final_project\\final_datafile\\data\\test\\images\\LINE_ALBUM_-_211223_113_jpg.rf.6b84a1286ca781c7ae75635c15f62fb1.jpg: 416x416 1 egg, 11.8ms\n",
      "image 572/1846 C:\\Users\\ryun1\\ds\\final_project\\final_datafile\\data\\test\\images\\LINE_ALBUM_-_211223_119_jpg.rf.e71d1ef9530281c9a8650574edd410e7.jpg: 416x416 1 egg, 9.2ms\n",
      "image 573/1846 C:\\Users\\ryun1\\ds\\final_project\\final_datafile\\data\\test\\images\\LINE_ALBUM_-_211223_143_jpg.rf.9c5fed35e4298a678409bf0f4c112ace.jpg: 416x416 1 egg, 10.6ms\n",
      "image 574/1846 C:\\Users\\ryun1\\ds\\final_project\\final_datafile\\data\\test\\images\\LINE_ALBUM_-_211223_145_jpg.rf.1bec34ce33c65a6fc7ba775be722d92d.jpg: 416x416 2 eggs, 9.8ms\n",
      "image 575/1846 C:\\Users\\ryun1\\ds\\final_project\\final_datafile\\data\\test\\images\\LINE_ALBUM_-_211223_73_jpg.rf.a7adaeca4e08078e6ca069638dc67c6d.jpg: 416x416 4 eggs, 8.1ms\n",
      "image 576/1846 C:\\Users\\ryun1\\ds\\final_project\\final_datafile\\data\\test\\images\\LINE_ALBUM_-_211223_83_jpg.rf.2cc4e2741b90b14aa697fd025d760484.jpg: 416x416 1 egg, 11.4ms\n",
      "image 577/1846 C:\\Users\\ryun1\\ds\\final_project\\final_datafile\\data\\test\\images\\LINE_ALBUM_-_211223_86_jpg.rf.fd803ebb03bd04408f8ab01d805d70dd.jpg: 416x416 1 egg, 9.9ms\n",
      "image 578/1846 C:\\Users\\ryun1\\ds\\final_project\\final_datafile\\data\\test\\images\\LINE_ALBUM_-_211223_87_jpg.rf.d88230bc4a791986a42d5a5c05d7a741.jpg: 416x416 1 egg, 8.9ms\n",
      "image 579/1846 C:\\Users\\ryun1\\ds\\final_project\\final_datafile\\data\\test\\images\\LINE_ALBUM_-_211223_88_jpg.rf.44fa87592e40796f39229b4ccb9e6e9e.jpg: 416x416 1 egg, 12.0ms\n",
      "image 580/1846 C:\\Users\\ryun1\\ds\\final_project\\final_datafile\\data\\test\\images\\LINE_ALBUM_-_211223_98_jpg.rf.0ed384973b999f51760525d82e35a695.jpg: 416x416 1 egg, 9.7ms\n",
      "image 581/1846 C:\\Users\\ryun1\\ds\\final_project\\final_datafile\\data\\test\\images\\LINE_ALBUM_-_211223_98_jpg.rf.7e111280897c9c954fa3819343a83ecc.jpg: 416x416 1 egg, 12.5ms\n",
      "image 582/1846 C:\\Users\\ryun1\\ds\\final_project\\final_datafile\\data\\test\\images\\PF-Shopify-HotPepper_jpg.rf.cf995b2bad719fc9fd83d36ae085cd71.jpg: 416x416 1 chilli, 10.7ms\n",
      "image 583/1846 C:\\Users\\ryun1\\ds\\final_project\\final_datafile\\data\\test\\images\\Raising-Backyard-Chickens-For-Eggs-2_png.rf.a616f3e0659a19510abc6fc64531d91a.jpg: 416x416 6 eggs, 12.2ms\n",
      "image 584/1846 C:\\Users\\ryun1\\ds\\final_project\\final_datafile\\data\\test\\images\\Riped-tomato_107_jpeg.rf.b33e79b40a3dba5143320bfc8ae6ab3c.jpg: 416x416 4 tomatos, 10.1ms\n",
      "image 585/1846 C:\\Users\\ryun1\\ds\\final_project\\final_datafile\\data\\test\\images\\Riped-tomato_57_jpeg.rf.0f7e94cdd6004199f8832cbb3945f5c4.jpg: 416x416 1 sweet potato, 3 tomatos, 11.0ms\n",
      "image 586/1846 C:\\Users\\ryun1\\ds\\final_project\\final_datafile\\data\\test\\images\\Sapi-15-_JPG.rf.e27659273bb5a7fb6fd966b5f6398d6c.jpg: 416x416 1 beef, 10.2ms\n",
      "image 587/1846 C:\\Users\\ryun1\\ds\\final_project\\final_datafile\\data\\test\\images\\Screenshot_332_jpg.rf.7c804c0f4907e4d69392d29125770c5e.jpg: 416x416 1 pork, 10.9ms\n",
      "image 588/1846 C:\\Users\\ryun1\\ds\\final_project\\final_datafile\\data\\test\\images\\Tomato_Green-152-_jpg.rf.877e85369bba6f4537c57a9b7a755db0.jpg: 416x416 1 lemon, 9.2ms\n",
      "image 589/1846 C:\\Users\\ryun1\\ds\\final_project\\final_datafile\\data\\test\\images\\WhatsApp-Image-2022-10-26-at-1-20-32-PM_jpeg_jpg.rf.008d09ddc94194d0938781f143412298.jpg: 416x416 (no detections), 9.7ms\n",
      "image 590/1846 C:\\Users\\ryun1\\ds\\final_project\\final_datafile\\data\\test\\images\\WhatsApp-Image-2022-10-26-at-1-20-32-PM_jpeg_jpg.rf.1bc3d33ec9a6a0cb9be31a790ffdb18e.jpg: 416x416 1 green chilli, 1 tomato, 10.9ms\n",
      "image 591/1846 C:\\Users\\ryun1\\ds\\final_project\\final_datafile\\data\\test\\images\\WhatsApp-Image-2022-10-26-at-1-20-32-PM_jpeg_jpg.rf.dcab12e44f2861f8510115846b09b849.jpg: 416x416 1 tomato, 9.1ms\n",
      "image 592/1846 C:\\Users\\ryun1\\ds\\final_project\\final_datafile\\data\\test\\images\\WhatsApp-Image-2022-10-26-at-1-20-33-PM-1-_jpeg_jpg.rf.2462fe1926ca469ce036a6c228f66f79.jpg: 416x416 2 green chillis, 1 tomato, 11.3ms\n",
      "image 593/1846 C:\\Users\\ryun1\\ds\\final_project\\final_datafile\\data\\test\\images\\WhatsApp-Image-2022-10-26-at-1-20-33-PM-1-_jpeg_jpg.rf.854ab8485728ad2888f42e583a399891.jpg: 416x416 (no detections), 11.6ms\n",
      "image 594/1846 C:\\Users\\ryun1\\ds\\final_project\\final_datafile\\data\\test\\images\\WhatsApp-Image-2022-10-26-at-1-20-33-PM-1-_jpeg_jpg.rf.ff495202a47a4c0c9e31467003679ef4.jpg: 416x416 (no detections), 8.7ms\n",
      "image 595/1846 C:\\Users\\ryun1\\ds\\final_project\\final_datafile\\data\\test\\images\\WhatsApp-Image-2022-10-26-at-1-20-33-PM_jpeg_jpg.rf.916d3f1c73aef4c97ddc667e879af52e.jpg: 416x416 (no detections), 10.4ms\n",
      "image 596/1846 C:\\Users\\ryun1\\ds\\final_project\\final_datafile\\data\\test\\images\\WhatsApp-Image-2022-10-26-at-1-20-33-PM_jpeg_jpg.rf.abb2cc8f38148b28c0b6a464924dcbc3.jpg: 416x416 1 tomato, 10.6ms\n",
      "image 597/1846 C:\\Users\\ryun1\\ds\\final_project\\final_datafile\\data\\test\\images\\WhatsApp-Image-2022-10-26-at-1-20-33-PM_jpeg_jpg.rf.e1c2fb29a31baa1cdf0b38d069f7a97e.jpg: 416x416 1 egg, 1 tomato, 11.1ms\n",
      "image 598/1846 C:\\Users\\ryun1\\ds\\final_project\\final_datafile\\data\\test\\images\\WhatsApp-Image-2022-10-26-at-1-20-34-PM-1-_jpeg_jpg.rf.6ae59110ac40ffdbc4b9bb89b19e88e0.jpg: 416x416 1 sweet potato, 8.2ms\n",
      "image 599/1846 C:\\Users\\ryun1\\ds\\final_project\\final_datafile\\data\\test\\images\\WhatsApp-Image-2022-10-26-at-1-20-34-PM_jpeg_jpg.rf.18c03901292272900a6802b648534b69.jpg: 416x416 1 cucumber, 1 tomato, 9.1ms\n",
      "image 600/1846 C:\\Users\\ryun1\\ds\\final_project\\final_datafile\\data\\test\\images\\WhatsApp-Image-2022-10-26-at-1-20-35-PM-1-_jpeg_jpg.rf.4f4bf865c3ff5e9db03f88d98945e11a.jpg: 416x416 1 garlic, 10.8ms\n",
      "image 601/1846 C:\\Users\\ryun1\\ds\\final_project\\final_datafile\\data\\test\\images\\WhatsApp-Image-2022-10-26-at-1-20-35-PM-1-_jpeg_jpg.rf.7111f2260d1ab46f2ab31906912e5937.jpg: 416x416 1 tomato, 10.0ms\n",
      "image 602/1846 C:\\Users\\ryun1\\ds\\final_project\\final_datafile\\data\\test\\images\\WhatsApp-Image-2022-10-26-at-1-20-35-PM-1-_jpeg_jpg.rf.e7ec2ee646b77f16fba8a5d9f2b7dc24.jpg: 416x416 1 spring_onion, 8.4ms\n",
      "image 603/1846 C:\\Users\\ryun1\\ds\\final_project\\final_datafile\\data\\test\\images\\WhatsApp-Image-2022-10-26-at-1-20-35-PM_jpeg_jpg.rf.246990aa4de130f1542b625184e91738.jpg: 416x416 1 green chilli, 1 tomato, 12.7ms\n",
      "image 604/1846 C:\\Users\\ryun1\\ds\\final_project\\final_datafile\\data\\test\\images\\WhatsApp-Image-2022-10-26-at-1-20-35-PM_jpeg_jpg.rf.a163034541dd46730fe8eb95c03d0538.jpg: 416x416 1 cucumber, 1 tomato, 10.7ms\n",
      "image 605/1846 C:\\Users\\ryun1\\ds\\final_project\\final_datafile\\data\\test\\images\\WhatsApp-Image-2022-10-26-at-1-20-35-PM_jpeg_jpg.rf.c750fd34b55fac33fb90c97b06be74fb.jpg: 416x416 1 green chilli, 1 tomato, 9.7ms\n",
      "image 606/1846 C:\\Users\\ryun1\\ds\\final_project\\final_datafile\\data\\test\\images\\WhatsApp-Image-2022-10-26-at-1-20-36-PM_jpeg_jpg.rf.6d5fd134425d8de9ee53376df1592290.jpg: 416x416 1 cucumber, 1 green chilli, 1 tomato, 1 zucchini, 11.7ms\n",
      "image 607/1846 C:\\Users\\ryun1\\ds\\final_project\\final_datafile\\data\\test\\images\\WhatsApp-Image-2022-10-26-at-1-20-36-PM_jpeg_jpg.rf.aa09b8308bfa8b030021f8de103b3b4e.jpg: 416x416 1 cucumber, 1 tomato, 11.2ms\n",
      "image 608/1846 C:\\Users\\ryun1\\ds\\final_project\\final_datafile\\data\\test\\images\\WhatsApp-Image-2022-10-26-at-1-20-36-PM_jpeg_jpg.rf.cbe439a8a49f349ebf2831ec7389b055.jpg: 416x416 1 cucumber, 1 tomato, 1 watermelon, 10.8ms\n",
      "image 609/1846 C:\\Users\\ryun1\\ds\\final_project\\final_datafile\\data\\test\\images\\WhatsApp-Image-2022-10-26-at-1-20-40-PM_jpeg_jpg.rf.ce268b1e90d33f408c0cc7c45c9309c9.jpg: 416x416 1 cucumber, 8.9ms\n",
      "image 610/1846 C:\\Users\\ryun1\\ds\\final_project\\final_datafile\\data\\test\\images\\WhatsApp-Image-2022-10-26-at-1-20-42-PM_jpeg_jpg.rf.539ec05ec262fb89026177d5293cb9e4.jpg: 416x416 1 green chilli, 1 tomato, 14.2ms\n",
      "image 611/1846 C:\\Users\\ryun1\\ds\\final_project\\final_datafile\\data\\test\\images\\WhatsApp-Image-2022-10-26-at-1-20-42-PM_jpeg_jpg.rf.e0ccae34d4cf2dd3daaaf8da1d6d3ccd.jpg: 416x416 (no detections), 11.3ms\n",
      "image 612/1846 C:\\Users\\ryun1\\ds\\final_project\\final_datafile\\data\\test\\images\\WhatsApp-Image-2022-10-26-at-1-20-42-PM_jpeg_jpg.rf.e712da60441882d0db398efbbaa7ae91.jpg: 416x416 (no detections), 12.3ms\n",
      "image 613/1846 C:\\Users\\ryun1\\ds\\final_project\\final_datafile\\data\\test\\images\\WhatsApp-Image-2022-10-26-at-1-20-43-PM_jpeg_jpg.rf.e1d4d623eea5e6b586ff8a946ff0299e.jpg: 416x416 2 cucumbers, 1 spring_onion, 8.9ms\n"
     ]
    },
    {
     "name": "stdout",
     "output_type": "stream",
     "text": [
      "image 614/1846 C:\\Users\\ryun1\\ds\\final_project\\final_datafile\\data\\test\\images\\WhatsApp-Image-2022-10-26-at-1-20-55-PM_jpeg_jpg.rf.7f50ecbe3fe63c714b44b26ce79e14c1.jpg: 416x416 1 tomato, 9.3ms\n",
      "image 615/1846 C:\\Users\\ryun1\\ds\\final_project\\final_datafile\\data\\test\\images\\WhatsApp-Image-2022-10-26-at-1-20-55-PM_jpeg_jpg.rf.b9c44ec72ab3cf6c78b402058e811520.jpg: 416x416 (no detections), 10.5ms\n",
      "image 616/1846 C:\\Users\\ryun1\\ds\\final_project\\final_datafile\\data\\test\\images\\WhatsApp-Image-2022-10-26-at-1-20-55-PM_jpeg_jpg.rf.bfda83ca0b9d8dbd459029d7e926a985.jpg: 416x416 (no detections), 12.1ms\n",
      "image 617/1846 C:\\Users\\ryun1\\ds\\final_project\\final_datafile\\data\\test\\images\\WhatsApp-Image-2022-10-26-at-1-21-00-PM_jpeg_jpg.rf.30fbe45e0fec490b003b9660964e655a.jpg: 416x416 1 ampalaya, 1 tomato, 9.3ms\n",
      "image 618/1846 C:\\Users\\ryun1\\ds\\final_project\\final_datafile\\data\\test\\images\\WhatsApp-Image-2022-10-26-at-1-21-00-PM_jpeg_jpg.rf.cb7f22a15287e26bf3f7d8667935e2da.jpg: 416x416 (no detections), 8.3ms\n",
      "image 619/1846 C:\\Users\\ryun1\\ds\\final_project\\final_datafile\\data\\test\\images\\WhatsApp-Image-2022-10-26-at-1-21-00-PM_jpeg_jpg.rf.d029f88daf3d7fa66597b3bff247b879.jpg: 416x416 (no detections), 8.6ms\n",
      "image 620/1846 C:\\Users\\ryun1\\ds\\final_project\\final_datafile\\data\\test\\images\\WhatsApp-Image-2022-10-26-at-1-21-02-PM_jpeg_jpg.rf.689f4268429a9efaddf6bbd94d7b9030.jpg: 416x416 1 tomato, 11.8ms\n",
      "image 621/1846 C:\\Users\\ryun1\\ds\\final_project\\final_datafile\\data\\test\\images\\WhatsApp-Image-2022-10-26-at-1-21-02-PM_jpeg_jpg.rf.a0ed78f327978162790d3884fb9c63e0.jpg: 416x416 1 cucumber, 1 tomato, 1 zucchini, 8.1ms\n",
      "image 622/1846 C:\\Users\\ryun1\\ds\\final_project\\final_datafile\\data\\test\\images\\WhatsApp-Image-2022-10-26-at-1-21-02-PM_jpeg_jpg.rf.c8ffe33ddebb97e0fe05529891764e28.jpg: 416x416 (no detections), 9.3ms\n",
      "image 623/1846 C:\\Users\\ryun1\\ds\\final_project\\final_datafile\\data\\test\\images\\WhatsApp-Image-2022-10-26-at-1-21-03-PM_jpeg_jpg.rf.2cc46a81904ac803cf41eba8edff6ad6.jpg: 416x416 1 tomato, 8.7ms\n",
      "image 624/1846 C:\\Users\\ryun1\\ds\\final_project\\final_datafile\\data\\test\\images\\WhatsApp-Image-2022-10-26-at-1-21-03-PM_jpeg_jpg.rf.a377fddaed5be313d36c44dec8d85958.jpg: 416x416 1 cucumber, 1 tomato, 9.0ms\n",
      "image 625/1846 C:\\Users\\ryun1\\ds\\final_project\\final_datafile\\data\\test\\images\\WhatsApp-Image-2022-10-26-at-1-21-03-PM_jpeg_jpg.rf.cc7ac187668ec0378c34c8fd3df4e81a.jpg: 416x416 1 cucumber, 1 tomato, 9.4ms\n",
      "image 626/1846 C:\\Users\\ryun1\\ds\\final_project\\final_datafile\\data\\test\\images\\WhatsApp-Image-2022-10-26-at-1-21-04-PM-1-_jpeg_jpg.rf.9010a3f71a0e14daa134487f03ab2093.jpg: 416x416 1 sweet potato, 9.1ms\n",
      "image 627/1846 C:\\Users\\ryun1\\ds\\final_project\\final_datafile\\data\\test\\images\\WhatsApp-Image-2022-10-26-at-1-21-05-PM-1-_jpeg_jpg.rf.ac46af83b76854c63fa1c75039d72ca3.jpg: 416x416 (no detections), 9.2ms\n",
      "image 628/1846 C:\\Users\\ryun1\\ds\\final_project\\final_datafile\\data\\test\\images\\WhatsApp-Image-2022-10-26-at-1-21-05-PM-1-_jpeg_jpg.rf.c178239c1e81aa65231573c019ae02af.jpg: 416x416 (no detections), 8.5ms\n",
      "image 629/1846 C:\\Users\\ryun1\\ds\\final_project\\final_datafile\\data\\test\\images\\WhatsApp-Image-2022-10-26-at-1-21-05-PM-1-_jpeg_jpg.rf.ef2fe7ba474b1c9ca9a1bf5f871585fa.jpg: 416x416 1 egg, 1 tomato, 9.0ms\n",
      "image 630/1846 C:\\Users\\ryun1\\ds\\final_project\\final_datafile\\data\\test\\images\\WhatsApp-Image-2022-10-26-at-1-21-05-PM_jpeg_jpg.rf.6884b59d3693024a476d855e4835601d.jpg: 416x416 1 green chilli, 9.7ms\n",
      "image 631/1846 C:\\Users\\ryun1\\ds\\final_project\\final_datafile\\data\\test\\images\\WhatsApp-Image-2022-10-26-at-1-21-05-PM_jpeg_jpg.rf.82dd23ab48e1cd9f8ffe7dacb291db51.jpg: 416x416 1 cucumber, 1 tomato, 10.9ms\n",
      "image 632/1846 C:\\Users\\ryun1\\ds\\final_project\\final_datafile\\data\\test\\images\\WhatsApp-Image-2022-10-26-at-1-21-05-PM_jpeg_jpg.rf.89260768e15a681807fd662c9db7a282.jpg: 416x416 1 cucumber, 1 egg, 1 tomato, 10.4ms\n",
      "image 633/1846 C:\\Users\\ryun1\\ds\\final_project\\final_datafile\\data\\test\\images\\WhatsApp-Image-2022-10-26-at-1-21-06-PM_jpeg_jpg.rf.03417d3511e0a8696fa5604d15587690.jpg: 416x416 (no detections), 11.6ms\n",
      "image 634/1846 C:\\Users\\ryun1\\ds\\final_project\\final_datafile\\data\\test\\images\\WhatsApp-Image-2022-10-26-at-1-21-06-PM_jpeg_jpg.rf.116e551a2c17b522c9bd3a949171dc20.jpg: 416x416 1 bitter gourd, 1 tomato, 11.5ms\n",
      "image 635/1846 C:\\Users\\ryun1\\ds\\final_project\\final_datafile\\data\\test\\images\\WhatsApp-Image-2022-10-26-at-1-21-06-PM_jpeg_jpg.rf.fd60619a2b540f8b163c01ba84d674dc.jpg: 416x416 1 tomato, 10.0ms\n",
      "image 636/1846 C:\\Users\\ryun1\\ds\\final_project\\final_datafile\\data\\test\\images\\WhatsApp-Image-2022-10-26-at-1-21-07-PM-1-_jpeg_jpg.rf.7c480654daa601774a70733d35eebc16.jpg: 416x416 1 tomato, 10.1ms\n",
      "image 637/1846 C:\\Users\\ryun1\\ds\\final_project\\final_datafile\\data\\test\\images\\WhatsApp-Image-2022-10-26-at-1-21-07-PM-1-_jpeg_jpg.rf.914310aa971b573436af03c4d1408d34.jpg: 416x416 (no detections), 10.1ms\n",
      "image 638/1846 C:\\Users\\ryun1\\ds\\final_project\\final_datafile\\data\\test\\images\\WhatsApp-Image-2022-10-26-at-1-21-07-PM-1-_jpeg_jpg.rf.def8892d96937dbfcd2ed0100c67ac7b.jpg: 416x416 1 Mushroom, 9.0ms\n",
      "image 639/1846 C:\\Users\\ryun1\\ds\\final_project\\final_datafile\\data\\test\\images\\WhatsApp-Image-2022-10-26-at-1-21-07-PM_jpeg_jpg.rf.2d8655e02dea3fa54cd5f489c294be94.jpg: 416x416 1 cucumber, 1 green chilli, 10.7ms\n",
      "image 640/1846 C:\\Users\\ryun1\\ds\\final_project\\final_datafile\\data\\test\\images\\WhatsApp-Image-2022-10-26-at-1-21-07-PM_jpeg_jpg.rf.3a101f8a51f733a5155750222f3603ab.jpg: 416x416 1 cucumber, 9.2ms\n",
      "image 641/1846 C:\\Users\\ryun1\\ds\\final_project\\final_datafile\\data\\test\\images\\WhatsApp-Image-2022-10-26-at-1-21-07-PM_jpeg_jpg.rf.dda6a94604f56ccbdf7f807289447971.jpg: 416x416 1 garlic, 12.3ms\n",
      "image 642/1846 C:\\Users\\ryun1\\ds\\final_project\\final_datafile\\data\\test\\images\\WhatsApp-Image-2022-10-26-at-1-21-08-PM-1-_jpeg_jpg.rf.ebf62e0abffc0dea0424e35c681986a5.jpg: 416x416 (no detections), 10.2ms\n",
      "image 643/1846 C:\\Users\\ryun1\\ds\\final_project\\final_datafile\\data\\test\\images\\WhatsApp-Image-2022-10-26-at-1-21-08-PM-2-_jpeg_jpg.rf.8776a93cb687631dd47e9bdffc3e2c6f.jpg: 416x416 1 cucumber, 10.1ms\n",
      "image 644/1846 C:\\Users\\ryun1\\ds\\final_project\\final_datafile\\data\\test\\images\\WhatsApp-Image-2022-10-26-at-1-21-08-PM-2-_jpeg_jpg.rf.a3a56a8789c37e7f57817c20e44b67ee.jpg: 416x416 1 tomato, 10.4ms\n",
      "image 645/1846 C:\\Users\\ryun1\\ds\\final_project\\final_datafile\\data\\test\\images\\WhatsApp-Image-2022-10-26-at-1-21-08-PM-2-_jpeg_jpg.rf.cc80e33070e1c327f9a54e5139e528d4.jpg: 416x416 1 green chilli, 1 spinach, 10.4ms\n",
      "image 646/1846 C:\\Users\\ryun1\\ds\\final_project\\final_datafile\\data\\test\\images\\WhatsApp-Image-2022-10-26-at-1-21-08-PM_jpeg_jpg.rf.6973e91e186210e342a3de9bc4412315.jpg: 416x416 1 bitter gourd, 9.2ms\n",
      "image 647/1846 C:\\Users\\ryun1\\ds\\final_project\\final_datafile\\data\\test\\images\\WhatsApp-Image-2022-10-26-at-1-21-08-PM_jpeg_jpg.rf.a221fd4b432ea723391a352cc659a5f5.jpg: 416x416 (no detections), 9.9ms\n",
      "image 648/1846 C:\\Users\\ryun1\\ds\\final_project\\final_datafile\\data\\test\\images\\WhatsApp-Image-2022-10-26-at-1-21-08-PM_jpeg_jpg.rf.f1438fbefa305d36b7c205a4762ed946.jpg: 416x416 1 green chilli, 11.1ms\n",
      "image 649/1846 C:\\Users\\ryun1\\ds\\final_project\\final_datafile\\data\\test\\images\\WhatsApp-Image-2022-10-26-at-1-21-09-PM-1-_jpeg_jpg.rf.ecbe58731100b59c7b2e2e05ed67f0ce.jpg: 416x416 (no detections), 9.3ms\n",
      "image 650/1846 C:\\Users\\ryun1\\ds\\final_project\\final_datafile\\data\\test\\images\\WhatsApp-Image-2022-10-26-at-1-21-09-PM_jpeg_jpg.rf.0c100b42b9c3f57d3f91a0606252c1cf.jpg: 416x416 1 cucumber, 10.1ms\n",
      "image 651/1846 C:\\Users\\ryun1\\ds\\final_project\\final_datafile\\data\\test\\images\\WhatsApp-Image-2022-10-26-at-1-21-09-PM_jpeg_jpg.rf.74d8a22cbab81b92f721f644041c0ca5.jpg: 416x416 1 green chilli, 10.4ms\n",
      "image 652/1846 C:\\Users\\ryun1\\ds\\final_project\\final_datafile\\data\\test\\images\\WhatsApp-Image-2022-10-26-at-1-21-09-PM_jpeg_jpg.rf.bedbd4783d1dcb15ecf5f99910dd09e3.jpg: 416x416 2 cucumbers, 9.3ms\n",
      "image 653/1846 C:\\Users\\ryun1\\ds\\final_project\\final_datafile\\data\\test\\images\\WhatsApp-Image-2022-10-26-at-1-21-10-PM_jpeg_jpg.rf.f33197b19dc06241347b93f0465fd3a7.jpg: 416x416 1 cucumber, 1 tomato, 9.0ms\n",
      "image 654/1846 C:\\Users\\ryun1\\ds\\final_project\\final_datafile\\data\\test\\images\\WhatsApp-Image-2022-10-26-at-1-21-13-PM_jpeg_jpg.rf.3728f563e6b2a1dee04335c9ea2a13ff.jpg: 416x416 2 cucumbers, 11.0ms\n"
     ]
    },
    {
     "name": "stdout",
     "output_type": "stream",
     "text": [
      "image 655/1846 C:\\Users\\ryun1\\ds\\final_project\\final_datafile\\data\\test\\images\\WhatsApp-Image-2022-10-26-at-1-21-24-PM_jpeg_jpg.rf.65ec93ec9fb39a5a8758409ed92b0b60.jpg: 416x416 1 cucumber, 9.9ms\n",
      "image 656/1846 C:\\Users\\ryun1\\ds\\final_project\\final_datafile\\data\\test\\images\\WhatsApp-Image-2022-10-26-at-1-21-24-PM_jpeg_jpg.rf.998e9d4aa5df11df86aecafe73afbc9b.jpg: 416x416 1 tomato, 10.6ms\n",
      "image 657/1846 C:\\Users\\ryun1\\ds\\final_project\\final_datafile\\data\\test\\images\\WhatsApp-Image-2022-10-26-at-1-21-24-PM_jpeg_jpg.rf.a799dbf9446373753ecbe6f913252498.jpg: 416x416 (no detections), 11.1ms\n",
      "image 658/1846 C:\\Users\\ryun1\\ds\\final_project\\final_datafile\\data\\test\\images\\WhatsApp-Image-2022-10-26-at-1-21-26-PM_jpeg_jpg.rf.1781791c9268fe9a29fddd551797a8fe.jpg: 416x416 1 tomato, 8.8ms\n",
      "image 659/1846 C:\\Users\\ryun1\\ds\\final_project\\final_datafile\\data\\test\\images\\WhatsApp-Image-2022-10-26-at-1-21-27-PM_jpeg_jpg.rf.9702c9c26e9dd4f46b26d60cc0f2262d.jpg: 416x416 1 tomato, 9.3ms\n",
      "image 660/1846 C:\\Users\\ryun1\\ds\\final_project\\final_datafile\\data\\test\\images\\WhatsApp-Image-2022-10-26-at-1-21-28-PM-1-_jpeg_jpg.rf.cc7317db71445d50a9bbdba68f235c26.jpg: 416x416 1 cucumber, 1 tomato, 9.4ms\n",
      "image 661/1846 C:\\Users\\ryun1\\ds\\final_project\\final_datafile\\data\\test\\images\\WhatsApp-Image-2022-10-26-at-1-21-29-PM-1-_jpeg_jpg.rf.6e5baca2838c3487dd8b7a5f0367c403.jpg: 416x416 1 asparagus, 1 tomato, 10.2ms\n",
      "image 662/1846 C:\\Users\\ryun1\\ds\\final_project\\final_datafile\\data\\test\\images\\WhatsApp-Image-2022-10-26-at-1-21-29-PM-1-_jpeg_jpg.rf.a7e85c0e845f333d7f2f92d136631b92.jpg: 416x416 1 bitter gourd, 1 tomato, 9.3ms\n",
      "image 663/1846 C:\\Users\\ryun1\\ds\\final_project\\final_datafile\\data\\test\\images\\WhatsApp-Image-2022-10-26-at-1-21-29-PM-1-_jpeg_jpg.rf.f599398d40003948dad188aaa25f2301.jpg: 416x416 1 tomato, 9.9ms\n",
      "image 664/1846 C:\\Users\\ryun1\\ds\\final_project\\final_datafile\\data\\test\\images\\WhatsApp-Image-2022-10-26-at-1-21-31-PM-1-_jpeg_jpg.rf.08b98904f10e0744606ff23e491d5dd6.jpg: 416x416 1 spinach, 9.8ms\n",
      "image 665/1846 C:\\Users\\ryun1\\ds\\final_project\\final_datafile\\data\\test\\images\\WhatsApp-Image-2022-10-26-at-1-21-31-PM-1-_jpeg_jpg.rf.780e2feb67cd8eb8a0e76a1d5ff86812.jpg: 416x416 1 spinach, 9.3ms\n",
      "image 666/1846 C:\\Users\\ryun1\\ds\\final_project\\final_datafile\\data\\test\\images\\WhatsApp-Image-2022-10-26-at-1-21-31-PM-1-_jpeg_jpg.rf.b5660b5ea1c60f6fe58d96aba376754f.jpg: 416x416 1 spinach, 9.2ms\n",
      "image 667/1846 C:\\Users\\ryun1\\ds\\final_project\\final_datafile\\data\\test\\images\\WhatsApp-Image-2023-06-02-at-18-24-21-2-_jpeg_jpg.rf.6c6aa09266ee5b26d645bc16aeedd363.jpg: 416x416 1 avocado, 3 bananas, 12.4ms\n",
      "image 668/1846 C:\\Users\\ryun1\\ds\\final_project\\final_datafile\\data\\test\\images\\WhatsApp-Image-2023-06-02-at-18-24-21-3-_jpeg_jpg.rf.b0d402bbae1639bb4fefc65a4d4e07f9.jpg: 416x416 1 avocado, 3 bananas, 13.1ms\n",
      "image 669/1846 C:\\Users\\ryun1\\ds\\final_project\\final_datafile\\data\\test\\images\\WhatsApp-Image-2023-06-02-at-18-24-21-3-_jpeg_jpg.rf.e16fea3b729b032aae3a4d2faeabe346.jpg: 416x416 1 avocado, 2 bananas, 10.9ms\n",
      "image 670/1846 C:\\Users\\ryun1\\ds\\final_project\\final_datafile\\data\\test\\images\\WhatsApp-Image-2023-06-02-at-18-24-22-2-_jpeg_jpg.rf.606183df4f7c2f1aedad8b515bb0b7e5.jpg: 416x416 1 avocado, 2 butters, 1 milk, 11.0ms\n",
      "image 671/1846 C:\\Users\\ryun1\\ds\\final_project\\final_datafile\\data\\test\\images\\WhatsApp-Image-2023-06-02-at-18-24-22-2-_jpeg_jpg.rf.e03d6626c25352f1be9a540ba486f776.jpg: 416x416 1 avocado, 1 banana, 1 butter, 10.3ms\n",
      "image 672/1846 C:\\Users\\ryun1\\ds\\final_project\\final_datafile\\data\\test\\images\\WhatsApp-Image-2023-06-02-at-18-24-22_jpeg_jpg.rf.44966fa81767bc1371aa6cc889374404.jpg: 416x416 1 avocado, 4 bananas, 10.6ms\n",
      "image 673/1846 C:\\Users\\ryun1\\ds\\final_project\\final_datafile\\data\\test\\images\\apple_11_jpg.rf.2158a4a5397d9360f42f16dacccf39bd.jpg: 416x416 1 apple, 13.9ms\n",
      "image 674/1846 C:\\Users\\ryun1\\ds\\final_project\\final_datafile\\data\\test\\images\\apple_13_jpg.rf.b304b9fe2e78a2469b26d14843b1a021.jpg: 416x416 1 apple, 14.8ms\n",
      "image 675/1846 C:\\Users\\ryun1\\ds\\final_project\\final_datafile\\data\\test\\images\\apple_16_jpg.rf.c38cec5ddb85127ec8e93eb2a6191edf.jpg: 416x416 1 apple, 11.6ms\n",
      "image 676/1846 C:\\Users\\ryun1\\ds\\final_project\\final_datafile\\data\\test\\images\\apple_17_jpg.rf.cb1e22fd89c173f688f65113e21b64e6.jpg: 416x416 1 apple, 1 potato, 9.7ms\n",
      "image 677/1846 C:\\Users\\ryun1\\ds\\final_project\\final_datafile\\data\\test\\images\\apple_18_jpg.rf.1dbf71069a9c2d1ca1b793f0c5b2a854.jpg: 416x416 1 apple, 13.3ms\n",
      "image 678/1846 C:\\Users\\ryun1\\ds\\final_project\\final_datafile\\data\\test\\images\\apple_18_jpg.rf.d1d07b0c70c9a9faa0c168bbdf1d8f63.jpg: 416x416 1 apple, 10.2ms\n",
      "image 679/1846 C:\\Users\\ryun1\\ds\\final_project\\final_datafile\\data\\test\\images\\apple_1_jpg.rf.e5eeb1a54b5ab2bb64597f62ea0b25b8.jpg: 416x416 1 apple, 9.2ms\n",
      "image 680/1846 C:\\Users\\ryun1\\ds\\final_project\\final_datafile\\data\\test\\images\\apple_1_jpg.rf.f125405284c1bc499129ddf91c23d5bf.jpg: 416x416 1 apple, 8.2ms\n",
      "image 681/1846 C:\\Users\\ryun1\\ds\\final_project\\final_datafile\\data\\test\\images\\apple_20_jpg.rf.455fc5e56bb95d3af36b699d05df20f1.jpg: 416x416 1 apple, 9.6ms\n",
      "image 682/1846 C:\\Users\\ryun1\\ds\\final_project\\final_datafile\\data\\test\\images\\apple_20_jpg.rf.f6a34faf4e39f6ef6c7335c2c23fc371.jpg: 416x416 1 apple, 8.9ms\n",
      "image 683/1846 C:\\Users\\ryun1\\ds\\final_project\\final_datafile\\data\\test\\images\\apple_21_jpg.rf.69a3c8621f81e391a69d1e39d1492b27.jpg: 416x416 1 apple, 11.9ms\n",
      "image 684/1846 C:\\Users\\ryun1\\ds\\final_project\\final_datafile\\data\\test\\images\\apple_22_jpg.rf.45da9de438cb0c1d154872c5f6e47318.jpg: 416x416 1 apple, 10.3ms\n",
      "image 685/1846 C:\\Users\\ryun1\\ds\\final_project\\final_datafile\\data\\test\\images\\apple_22_jpg.rf.4fbec9d885610fe7e6d1c556caea361f.jpg: 416x416 1 apple, 12.5ms\n",
      "image 686/1846 C:\\Users\\ryun1\\ds\\final_project\\final_datafile\\data\\test\\images\\apple_26_jpg.rf.c339b86403cc2ab9a68e86f1d452619f.jpg: 416x416 1 apple, 9.6ms\n",
      "image 687/1846 C:\\Users\\ryun1\\ds\\final_project\\final_datafile\\data\\test\\images\\apple_27_jpg.rf.744f94a394e721c9e191428bc7bee2c6.jpg: 416x416 1 apple, 8.3ms\n",
      "image 688/1846 C:\\Users\\ryun1\\ds\\final_project\\final_datafile\\data\\test\\images\\apple_28_jpg.rf.b14e0ee060cbbcdbec3dd420520278ee.jpg: 416x416 1 apple, 8.2ms\n",
      "image 689/1846 C:\\Users\\ryun1\\ds\\final_project\\final_datafile\\data\\test\\images\\apple_29_jpg.rf.3ac9d349ae32e89b97bcb82c3c47d88f.jpg: 416x416 1 apple, 7.8ms\n",
      "image 690/1846 C:\\Users\\ryun1\\ds\\final_project\\final_datafile\\data\\test\\images\\apple_2_jpg.rf.5672e82a70258c5f5eaa89cc7a070a72.jpg: 416x416 1 apple, 8.1ms\n",
      "image 691/1846 C:\\Users\\ryun1\\ds\\final_project\\final_datafile\\data\\test\\images\\apple_30_jpg.rf.8c3bfbb6092e7e17ffbd60a71c433032.jpg: 416x416 1 apple, 8.9ms\n",
      "image 692/1846 C:\\Users\\ryun1\\ds\\final_project\\final_datafile\\data\\test\\images\\apple_3_jpg.rf.9179292c8fe6f2f9ecf22128a46a7a00.jpg: 416x416 1 apple, 10.6ms\n",
      "image 693/1846 C:\\Users\\ryun1\\ds\\final_project\\final_datafile\\data\\test\\images\\apple_4_jpg.rf.181f74b197b1ac4d488a20134b8ec91e.jpg: 416x416 1 apple, 8.1ms\n",
      "image 694/1846 C:\\Users\\ryun1\\ds\\final_project\\final_datafile\\data\\test\\images\\apple_4_jpg.rf.205518e13a2b455f754c6fa7a5940560.jpg: 416x416 1 apple, 8.7ms\n",
      "image 695/1846 C:\\Users\\ryun1\\ds\\final_project\\final_datafile\\data\\test\\images\\apple_4_jpg.rf.c64b519fc16c3b4c666ce0422d305fcf.jpg: 416x416 1 apple, 8.7ms\n",
      "image 696/1846 C:\\Users\\ryun1\\ds\\final_project\\final_datafile\\data\\test\\images\\apple_5_jpg.rf.bbe4ea6a8e4382f65647432e25725139.jpg: 416x416 1 apple, 8.2ms\n",
      "image 697/1846 C:\\Users\\ryun1\\ds\\final_project\\final_datafile\\data\\test\\images\\apple_6_jpg.rf.bb55bf5d2c57a9730bd4d294d9be7b11.jpg: 416x416 1 apple, 8.1ms\n",
      "image 698/1846 C:\\Users\\ryun1\\ds\\final_project\\final_datafile\\data\\test\\images\\apple_8_jpg.rf.1c17946b3555a2a860510b1ad3bf7777.jpg: 416x416 1 apple, 7.1ms\n",
      "image 699/1846 C:\\Users\\ryun1\\ds\\final_project\\final_datafile\\data\\test\\images\\apple_8_jpg.rf.c27fb58fe6da76304ae8a8be72226791.jpg: 416x416 1 apple, 9.0ms\n",
      "image 700/1846 C:\\Users\\ryun1\\ds\\final_project\\final_datafile\\data\\test\\images\\ash-hayes-x9wAjor9i0E-unsplash_jpg.rf.5a24504a5e1deadc2336b896ab4ee860.jpg: 416x416 4 eggs, 9.7ms\n",
      "image 701/1846 C:\\Users\\ryun1\\ds\\final_project\\final_datafile\\data\\test\\images\\asparagus_21_jpg.rf.065023f7927d725b434ae400cba91d0c.jpg: 416x416 3 asparaguss, 7.7ms\n"
     ]
    },
    {
     "name": "stdout",
     "output_type": "stream",
     "text": [
      "image 702/1846 C:\\Users\\ryun1\\ds\\final_project\\final_datafile\\data\\test\\images\\asparagus_3_jpg.rf.bcbabe6dbcb5029274faca0aa95d693a.jpg: 416x416 16 asparaguss, 9.2ms\n",
      "image 703/1846 C:\\Users\\ryun1\\ds\\final_project\\final_datafile\\data\\test\\images\\asparagus_93_jpg.rf.91aa55b56aea8314d55918ba5e3577d8.jpg: 416x416 (no detections), 8.2ms\n",
      "image 704/1846 C:\\Users\\ryun1\\ds\\final_project\\final_datafile\\data\\test\\images\\avocado_10_jpg.rf.12f4a81c6ddc690b22aaa02ca1a86093.jpg: 416x416 1 avocado, 8.2ms\n",
      "image 705/1846 C:\\Users\\ryun1\\ds\\final_project\\final_datafile\\data\\test\\images\\avocado_10_jpg.rf.f57b351b118ebf5591342f13f483186b.jpg: 416x416 1 avocado, 7.2ms\n",
      "image 706/1846 C:\\Users\\ryun1\\ds\\final_project\\final_datafile\\data\\test\\images\\avocado_11_jpg.rf.38361ae8df485d350ea701f0799e4144.jpg: 416x416 1 avocado, 8.1ms\n",
      "image 707/1846 C:\\Users\\ryun1\\ds\\final_project\\final_datafile\\data\\test\\images\\avocado_11_jpg.rf.73f05d4a8fe6308d779c209aa2c330ce.jpg: 416x416 1 avocado, 8.3ms\n",
      "image 708/1846 C:\\Users\\ryun1\\ds\\final_project\\final_datafile\\data\\test\\images\\avocado_12_jpg.rf.780fd6bc46ecdeb5915e9e1f27a26c22.jpg: 416x416 1 avocado, 8.7ms\n",
      "image 709/1846 C:\\Users\\ryun1\\ds\\final_project\\final_datafile\\data\\test\\images\\avocado_14_jpg.rf.892268fb83ccc53503b4b6590d46fe3c.jpg: 416x416 1 avocado, 8.9ms\n",
      "image 710/1846 C:\\Users\\ryun1\\ds\\final_project\\final_datafile\\data\\test\\images\\avocado_17_jpg.rf.36c46e203cadae12dc8b2c0a3e0c3aaf.jpg: 416x416 1 avocado, 7.6ms\n",
      "image 711/1846 C:\\Users\\ryun1\\ds\\final_project\\final_datafile\\data\\test\\images\\avocado_17_jpg.rf.f387205101eac7b01b4314aa64efb672.jpg: 416x416 1 avocado, 7.5ms\n",
      "image 712/1846 C:\\Users\\ryun1\\ds\\final_project\\final_datafile\\data\\test\\images\\avocado_18_jpg.rf.8b1928cd2da43480c90ca1480c88d948.jpg: 416x416 1 avocado, 9.5ms\n",
      "image 713/1846 C:\\Users\\ryun1\\ds\\final_project\\final_datafile\\data\\test\\images\\avocado_1_jpg.rf.125960110495b27ed2c32edcdfbaee0d.jpg: 416x416 1 avocado, 8.6ms\n",
      "image 714/1846 C:\\Users\\ryun1\\ds\\final_project\\final_datafile\\data\\test\\images\\avocado_20_jpg.rf.d8beb2cae464fa37936a8df76e5ce896.jpg: 416x416 1 avocado, 8.2ms\n",
      "image 715/1846 C:\\Users\\ryun1\\ds\\final_project\\final_datafile\\data\\test\\images\\avocado_21_jpg.rf.a42b7adb0e37b8f5b9cdb8e0323e7fdf.jpg: 416x416 1 avocado, 8.3ms\n",
      "image 716/1846 C:\\Users\\ryun1\\ds\\final_project\\final_datafile\\data\\test\\images\\avocado_22_jpg.rf.25ded520aa184a2a2ef713ca81803814.jpg: 416x416 1 avocado, 7.7ms\n",
      "image 717/1846 C:\\Users\\ryun1\\ds\\final_project\\final_datafile\\data\\test\\images\\avocado_23_jpg.rf.43a07d51428219bab732b04f14622019.jpg: 416x416 1 avocado, 9.2ms\n",
      "image 718/1846 C:\\Users\\ryun1\\ds\\final_project\\final_datafile\\data\\test\\images\\avocado_23_jpg.rf.d15ab4303735e7ec1427c7f1adaf65a3.jpg: 416x416 1 avocado, 10.8ms\n",
      "image 719/1846 C:\\Users\\ryun1\\ds\\final_project\\final_datafile\\data\\test\\images\\avocado_24_jpg.rf.30bbba5dfdb9c1282d11d7167b45abf4.jpg: 416x416 1 avocado, 7.4ms\n",
      "image 720/1846 C:\\Users\\ryun1\\ds\\final_project\\final_datafile\\data\\test\\images\\avocado_26_jpg.rf.52f148c1a7695c8449a569e7dd891905.jpg: 416x416 1 avocado, 9.1ms\n",
      "image 721/1846 C:\\Users\\ryun1\\ds\\final_project\\final_datafile\\data\\test\\images\\avocado_27_jpg.rf.a83c208ba966f6e68947b205f62c0eae.jpg: 416x416 1 avocado, 8.4ms\n",
      "image 722/1846 C:\\Users\\ryun1\\ds\\final_project\\final_datafile\\data\\test\\images\\avocado_2_jpg.rf.45fe987965b73ca707b825f4583bc65a.jpg: 416x416 1 avocado, 9.7ms\n",
      "image 723/1846 C:\\Users\\ryun1\\ds\\final_project\\final_datafile\\data\\test\\images\\avocado_30_jpg.rf.d2adc29b081843deab3a1fe6c8956085.jpg: 416x416 1 avocado, 8.6ms\n",
      "image 724/1846 C:\\Users\\ryun1\\ds\\final_project\\final_datafile\\data\\test\\images\\avocado_3_jpg.rf.3384792b93901b11948b789f3e9ce68d.jpg: 416x416 1 avocado, 7.7ms\n",
      "image 725/1846 C:\\Users\\ryun1\\ds\\final_project\\final_datafile\\data\\test\\images\\avocado_3_jpg.rf.95b6031761de8fba09a0c914d1d03b95.jpg: 416x416 1 avocado, 8.1ms\n",
      "image 726/1846 C:\\Users\\ryun1\\ds\\final_project\\final_datafile\\data\\test\\images\\avocado_45_jpg.rf.fb661f6083556d0afa3c09359bed4aac.jpg: 416x416 3 avocados, 8.4ms\n",
      "image 727/1846 C:\\Users\\ryun1\\ds\\final_project\\final_datafile\\data\\test\\images\\avocado_52_jpg.rf.272be9966e2a5704cf0887829a177126.jpg: 416x416 10 avocados, 8.3ms\n",
      "image 728/1846 C:\\Users\\ryun1\\ds\\final_project\\final_datafile\\data\\test\\images\\avocado_55_jpg.rf.9ce1d680ad1952eee78257bc2d7877cc.jpg: 416x416 2 avocados, 1 bitter gourd, 7.9ms\n",
      "image 729/1846 C:\\Users\\ryun1\\ds\\final_project\\final_datafile\\data\\test\\images\\avocado_5_jpg.rf.1809ea3d75cb7699605f543809ee72d8.jpg: 416x416 1 avocado, 8.6ms\n",
      "image 730/1846 C:\\Users\\ryun1\\ds\\final_project\\final_datafile\\data\\test\\images\\avocado_5_jpg.rf.c01a751499866e307573fbf8819c3783.jpg: 416x416 1 avocado, 7.3ms\n",
      "image 731/1846 C:\\Users\\ryun1\\ds\\final_project\\final_datafile\\data\\test\\images\\avocado_6_jpg.rf.bb5ff77a2c6d5d9d4516e980dac0e2ef.jpg: 416x416 1 avocado, 8.4ms\n",
      "image 732/1846 C:\\Users\\ryun1\\ds\\final_project\\final_datafile\\data\\test\\images\\avocado_74_jpg.rf.eb4cf7542b2e3fad60ad0f984fad2543.jpg: 416x416 5 avocados, 7.8ms\n",
      "image 733/1846 C:\\Users\\ryun1\\ds\\final_project\\final_datafile\\data\\test\\images\\avocado_85_jpg.rf.7917e95bf30e8faad846a06790488da0.jpg: 416x416 1 avocado, 8.0ms\n",
      "image 734/1846 C:\\Users\\ryun1\\ds\\final_project\\final_datafile\\data\\test\\images\\avocado_8_jpg.rf.2cc8c60e6c83126a3a8d84de4f9c6968.jpg: 416x416 1 avocado, 9.0ms\n",
      "image 735/1846 C:\\Users\\ryun1\\ds\\final_project\\final_datafile\\data\\test\\images\\avocado_8_jpg.rf.ab61219a9bde915247a81f337d18d0d5.jpg: 416x416 1 avocado, 9.6ms\n",
      "image 736/1846 C:\\Users\\ryun1\\ds\\final_project\\final_datafile\\data\\test\\images\\avocado_9_jpg.rf.f5a52f4c1089b2628d7120a36fec0dc9.jpg: 416x416 1 avocado, 8.9ms\n",
      "image 737/1846 C:\\Users\\ryun1\\ds\\final_project\\final_datafile\\data\\test\\images\\b7e11cb8a0a202c4b68cca282b6c2566_jpg.rf.afa3797938f30e3a188e6dd978f03024.jpg: 416x416 1 beef, 11.5ms\n",
      "image 738/1846 C:\\Users\\ryun1\\ds\\final_project\\final_datafile\\data\\test\\images\\banana0_jpeg.rf.9e9eda6d5f2df7f9e593c8f454b54ae4.jpg: 416x416 1 banana, 8.1ms\n",
      "image 739/1846 C:\\Users\\ryun1\\ds\\final_project\\final_datafile\\data\\test\\images\\banana108_jpeg.rf.898c31bd26e782461db3119d78152c5a.jpg: 416x416 22 bananas, 8.7ms\n",
      "image 740/1846 C:\\Users\\ryun1\\ds\\final_project\\final_datafile\\data\\test\\images\\banana144_jpeg.rf.da09eaf749988b8bc8d8dcdebc401a96.jpg: 416x416 11 bananas, 8.1ms\n",
      "image 741/1846 C:\\Users\\ryun1\\ds\\final_project\\final_datafile\\data\\test\\images\\banana180_jpeg.rf.701de3e0a45e3d040540c863a6cc5f46.jpg: 416x416 16 bananas, 7.9ms\n",
      "image 742/1846 C:\\Users\\ryun1\\ds\\final_project\\final_datafile\\data\\test\\images\\banana186_jpeg.rf.a408e950792dbc8b426fe39882be0825.jpg: 416x416 17 bananas, 8.6ms\n",
      "image 743/1846 C:\\Users\\ryun1\\ds\\final_project\\final_datafile\\data\\test\\images\\banana193_jpeg.rf.cdc86b49d5f258d64a15877517e1db19.jpg: 416x416 10 bananas, 8.2ms\n",
      "image 744/1846 C:\\Users\\ryun1\\ds\\final_project\\final_datafile\\data\\test\\images\\banana23_jpeg.rf.f8d296e78817355f952f88e90e109945.jpg: 416x416 1 banana, 8.2ms\n",
      "image 745/1846 C:\\Users\\ryun1\\ds\\final_project\\final_datafile\\data\\test\\images\\banana244_jpeg.rf.1666f8354153cb7575d6fd6c82659ea1.jpg: 416x416 1 banana, 2 tofus, 9.0ms\n",
      "image 746/1846 C:\\Users\\ryun1\\ds\\final_project\\final_datafile\\data\\test\\images\\banana248_jpeg.rf.e8643dd0a9f3e61687cc72b71337a430.jpg: 416x416 1 banana, 9.2ms\n",
      "image 747/1846 C:\\Users\\ryun1\\ds\\final_project\\final_datafile\\data\\test\\images\\banana29_png.rf.6a4c66aec17cbefaf68c14838958e75d.jpg: 416x416 1 banana, 9.3ms\n",
      "image 748/1846 C:\\Users\\ryun1\\ds\\final_project\\final_datafile\\data\\test\\images\\banana5_jpeg.rf.b00c585ec674ac1a2b266791d208e901.jpg: 416x416 1 banana, 7.5ms\n",
      "image 749/1846 C:\\Users\\ryun1\\ds\\final_project\\final_datafile\\data\\test\\images\\banana6_jpeg.rf.ad120b6acee152b210de3793a313d665.jpg: 416x416 1 banana, 8.2ms\n",
      "image 750/1846 C:\\Users\\ryun1\\ds\\final_project\\final_datafile\\data\\test\\images\\banana86_jpeg.rf.3ba79fcd3cea5be79485259957e37303.jpg: 416x416 2 bananas, 8.5ms\n",
      "image 751/1846 C:\\Users\\ryun1\\ds\\final_project\\final_datafile\\data\\test\\images\\banana_11_jpg.rf.56236638c1df7e39b2a5bd0ed1b19877.jpg: 416x416 1 cucumber, 9.6ms\n",
      "image 752/1846 C:\\Users\\ryun1\\ds\\final_project\\final_datafile\\data\\test\\images\\banana_11_jpg.rf.95a040dfc88bd9939585da4accdc7cd2.jpg: 416x416 1 cucumber, 10.7ms\n"
     ]
    },
    {
     "name": "stdout",
     "output_type": "stream",
     "text": [
      "image 753/1846 C:\\Users\\ryun1\\ds\\final_project\\final_datafile\\data\\test\\images\\banana_15_jpg.rf.40b3ef5fc03bd79716b370a3702da386.jpg: 416x416 1 banana, 7.9ms\n",
      "image 754/1846 C:\\Users\\ryun1\\ds\\final_project\\final_datafile\\data\\test\\images\\banana_16_jpg.rf.be575f235a6e04bea89afe36e25e5b70.jpg: 416x416 1 banana, 8.2ms\n",
      "image 755/1846 C:\\Users\\ryun1\\ds\\final_project\\final_datafile\\data\\test\\images\\banana_16_jpg.rf.f6be2971276ee49f703ec509e1ba5e87.jpg: 416x416 1 banana, 9.6ms\n",
      "image 756/1846 C:\\Users\\ryun1\\ds\\final_project\\final_datafile\\data\\test\\images\\banana_17_jpg.rf.8aeb1b5d12ff1baa54afcc5ac85e3496.jpg: 416x416 1 banana, 8.3ms\n",
      "image 757/1846 C:\\Users\\ryun1\\ds\\final_project\\final_datafile\\data\\test\\images\\banana_18_jpg.rf.95e599da147cf7b06202f05b694ef4ee.jpg: 416x416 1 banana, 8.0ms\n",
      "image 758/1846 C:\\Users\\ryun1\\ds\\final_project\\final_datafile\\data\\test\\images\\banana_19_jpg.rf.77d91d199f1c3d28ea0d6341fe040c00.jpg: 416x416 1 banana, 8.7ms\n",
      "image 759/1846 C:\\Users\\ryun1\\ds\\final_project\\final_datafile\\data\\test\\images\\banana_19_jpg.rf.cbe934897d3e7fdb744e866ee322d724.jpg: 416x416 1 banana, 10.2ms\n",
      "image 760/1846 C:\\Users\\ryun1\\ds\\final_project\\final_datafile\\data\\test\\images\\banana_1_jpg.rf.1a7847b85f5eb8617626a17f5114eab9.jpg: 416x416 1 banana, 8.3ms\n",
      "image 761/1846 C:\\Users\\ryun1\\ds\\final_project\\final_datafile\\data\\test\\images\\banana_1_jpg.rf.54bc5779342d85bbe138f2deb95c2963.jpg: 416x416 1 banana, 8.2ms\n",
      "image 762/1846 C:\\Users\\ryun1\\ds\\final_project\\final_datafile\\data\\test\\images\\banana_20_jpg.rf.09e3980efca6b945fdf1d4fcb654f9a1.jpg: 416x416 1 banana, 8.4ms\n",
      "image 763/1846 C:\\Users\\ryun1\\ds\\final_project\\final_datafile\\data\\test\\images\\banana_25_jpg.rf.d6b7f9eedc6c27c7871a24ff58158bad.jpg: 416x416 1 banana, 8.5ms\n",
      "image 764/1846 C:\\Users\\ryun1\\ds\\final_project\\final_datafile\\data\\test\\images\\banana_26_jpg.rf.37f16609192d835f7343b5cbf14f01ef.jpg: 416x416 1 banana, 1 cashew, 7.6ms\n",
      "image 765/1846 C:\\Users\\ryun1\\ds\\final_project\\final_datafile\\data\\test\\images\\banana_26_jpg.rf.5910259debba77b50cd02fc03c804b1b.jpg: 416x416 1 banana, 9.2ms\n",
      "image 766/1846 C:\\Users\\ryun1\\ds\\final_project\\final_datafile\\data\\test\\images\\banana_27_jpg.rf.affe8db3c96321a85c95c21ae9d123fb.jpg: 416x416 2 bananas, 8.1ms\n",
      "image 767/1846 C:\\Users\\ryun1\\ds\\final_project\\final_datafile\\data\\test\\images\\banana_28_jpg.rf.cb6a747dc46414d2ca4da4a1708d3c2a.jpg: 416x416 1 banana, 8.3ms\n",
      "image 768/1846 C:\\Users\\ryun1\\ds\\final_project\\final_datafile\\data\\test\\images\\banana_30_jpg.rf.b92660887d29bf8edc2e0af5af556082.jpg: 416x416 1 banana, 10.9ms\n",
      "image 769/1846 C:\\Users\\ryun1\\ds\\final_project\\final_datafile\\data\\test\\images\\banana_30_jpg.rf.f81cf8db0cbfdeb4423eecde67c2c069.jpg: 416x416 1 banana, 9.2ms\n",
      "image 770/1846 C:\\Users\\ryun1\\ds\\final_project\\final_datafile\\data\\test\\images\\banana_3_jpg.rf.5ccf32b6681db0e1a13e0bf58f43d1c1.jpg: 416x416 1 banana, 9.0ms\n",
      "image 771/1846 C:\\Users\\ryun1\\ds\\final_project\\final_datafile\\data\\test\\images\\banana_4_jpg.rf.a5af78f97b7f6c58aab08484e4cc328a.jpg: 416x416 1 banana, 11.9ms\n",
      "image 772/1846 C:\\Users\\ryun1\\ds\\final_project\\final_datafile\\data\\test\\images\\banana_4_jpg.rf.b8ccf99a28cc379813f57b8fc4da6068.jpg: 416x416 1 banana, 7.4ms\n",
      "image 773/1846 C:\\Users\\ryun1\\ds\\final_project\\final_datafile\\data\\test\\images\\banana_6_jpg.rf.5595ce9b527034b28792e9d072c9b563.jpg: 416x416 1 banana, 7.9ms\n",
      "image 774/1846 C:\\Users\\ryun1\\ds\\final_project\\final_datafile\\data\\test\\images\\banana_6_jpg.rf.9b85b1843362e2e29a18c29722982064.jpg: 416x416 1 banana, 8.8ms\n",
      "image 775/1846 C:\\Users\\ryun1\\ds\\final_project\\final_datafile\\data\\test\\images\\banana_7_jpg.rf.08be87485e4b0174a8a2e67c09907978.jpg: 416x416 1 banana, 13.8ms\n",
      "image 776/1846 C:\\Users\\ryun1\\ds\\final_project\\final_datafile\\data\\test\\images\\banana_7_jpg.rf.ea5b1be52b15a779d10acb555584efeb.jpg: 416x416 1 banana, 10.1ms\n",
      "image 777/1846 C:\\Users\\ryun1\\ds\\final_project\\final_datafile\\data\\test\\images\\banana_9_jpg.rf.3e9153ae0be5b2bab9a9d3da1dc0f260.jpg: 416x416 1 banana, 7.4ms\n",
      "image 778/1846 C:\\Users\\ryun1\\ds\\final_project\\final_datafile\\data\\test\\images\\banana_9_jpg.rf.c2b5734eaefcb385eaf6d8e3b768d8d1.jpg: 416x416 1 banana, 7.5ms\n",
      "image 779/1846 C:\\Users\\ryun1\\ds\\final_project\\final_datafile\\data\\test\\images\\banana_dole_23_jpg.rf.5a9c31ebb96f7bc16611aa76103bed3d.jpg: 416x416 6 bananas, 9.3ms\n",
      "image 780/1846 C:\\Users\\ryun1\\ds\\final_project\\final_datafile\\data\\test\\images\\banana_dole_25_jpg.rf.c622506a5f6498d588ada77515bd969b.jpg: 416x416 3 bananas, 7.7ms\n",
      "image 781/1846 C:\\Users\\ryun1\\ds\\final_project\\final_datafile\\data\\test\\images\\banana_dole_36_jpg.rf.845b1157f662a2c84727328c6b582ace.jpg: 416x416 3 bananas, 9.8ms\n",
      "image 782/1846 C:\\Users\\ryun1\\ds\\final_project\\final_datafile\\data\\test\\images\\banana_dole_39_jpg.rf.5734dfd2d4c0a5b60ff9d50367fc322d.jpg: 416x416 7 bananas, 8.2ms\n",
      "image 783/1846 C:\\Users\\ryun1\\ds\\final_project\\final_datafile\\data\\test\\images\\banana_dole_45_jpg.rf.72eec37190043955842672495e6923f4.jpg: 416x416 13 bananas, 11.4ms\n",
      "image 784/1846 C:\\Users\\ryun1\\ds\\final_project\\final_datafile\\data\\test\\images\\banana_dole_58_jpg.rf.bfe78d76ebfcf79d55fb6e3931492012.jpg: 416x416 6 bananas, 8.1ms\n",
      "image 785/1846 C:\\Users\\ryun1\\ds\\final_project\\final_datafile\\data\\test\\images\\banana_dole_61_jpg.rf.2514e59fae8f03a6bb3951ede7955dfc.jpg: 416x416 11 bananas, 7.2ms\n",
      "image 786/1846 C:\\Users\\ryun1\\ds\\final_project\\final_datafile\\data\\test\\images\\banana_dole_9_jpg.rf.58bdd37206ac856b745a665492d9415f.jpg: 416x416 14 bananas, 7.7ms\n",
      "image 787/1846 C:\\Users\\ryun1\\ds\\final_project\\final_datafile\\data\\test\\images\\bell_pepper_11_jpg.rf.853df95608308363e928a9746a9d153b.jpg: 416x416 1 bell_pepper, 7.5ms\n",
      "image 788/1846 C:\\Users\\ryun1\\ds\\final_project\\final_datafile\\data\\test\\images\\bell_pepper_12_jpg.rf.ace06fba7a350dc41fce63688a1cc181.jpg: 416x416 1 bell_pepper, 8.1ms\n",
      "image 789/1846 C:\\Users\\ryun1\\ds\\final_project\\final_datafile\\data\\test\\images\\bell_pepper_13_jpg.rf.34d8d89109bfa4096944066d9f61e03f.jpg: 416x416 1 bell_pepper, 9.0ms\n",
      "image 790/1846 C:\\Users\\ryun1\\ds\\final_project\\final_datafile\\data\\test\\images\\bell_pepper_13_jpg.rf.47fad40777e420e4905c9340ae967c09.jpg: 416x416 1 bell_pepper, 8.6ms\n",
      "image 791/1846 C:\\Users\\ryun1\\ds\\final_project\\final_datafile\\data\\test\\images\\bell_pepper_18_jpg.rf.28d54542e9058a0a74fa8f616422571a.jpg: 416x416 1 cucumber, 1 eggplant, 9.2ms\n",
      "image 792/1846 C:\\Users\\ryun1\\ds\\final_project\\final_datafile\\data\\test\\images\\bell_pepper_18_jpg.rf.616a472babd48078d96c9eb84a5ccf12.jpg: 416x416 1 cucumber, 1 zucchini, 9.3ms\n",
      "image 793/1846 C:\\Users\\ryun1\\ds\\final_project\\final_datafile\\data\\test\\images\\bell_pepper_19_jpg.rf.17a183cb7512716c96addf3f30215983.jpg: 416x416 1 bell_pepper, 10.2ms\n",
      "image 794/1846 C:\\Users\\ryun1\\ds\\final_project\\final_datafile\\data\\test\\images\\bell_pepper_1_jpg.rf.63c45bc2dddbdf041a4119a02714c0f7.jpg: 416x416 1 bell_pepper, 9.2ms\n",
      "image 795/1846 C:\\Users\\ryun1\\ds\\final_project\\final_datafile\\data\\test\\images\\bell_pepper_20_jpg.rf.246458f1ef61a833898221dc0b6f0145.jpg: 416x416 1 bell_pepper, 8.5ms\n",
      "image 796/1846 C:\\Users\\ryun1\\ds\\final_project\\final_datafile\\data\\test\\images\\bell_pepper_21_jpg.rf.90fd835b3a0f77471f7fe7d61b5e1d9a.jpg: 416x416 1 bell_pepper, 8.6ms\n",
      "image 797/1846 C:\\Users\\ryun1\\ds\\final_project\\final_datafile\\data\\test\\images\\bell_pepper_24_jpg.rf.753f2ce04ec249570bc5bf49f27271b7.jpg: 416x416 1 bell_pepper, 10.5ms\n",
      "image 798/1846 C:\\Users\\ryun1\\ds\\final_project\\final_datafile\\data\\test\\images\\bell_pepper_24_jpg.rf.abe3b90a7e423d4c595ebaf349f77000.jpg: 416x416 1 bell_pepper, 9.7ms\n",
      "image 799/1846 C:\\Users\\ryun1\\ds\\final_project\\final_datafile\\data\\test\\images\\bell_pepper_25_jpg.rf.9a4a16723c1d6ba550cf706243058534.jpg: 416x416 1 bell_pepper, 9.3ms\n",
      "image 800/1846 C:\\Users\\ryun1\\ds\\final_project\\final_datafile\\data\\test\\images\\bell_pepper_25_jpg.rf.a0b933a5b85d41a7e8fff3062ece1fc4.jpg: 416x416 1 bell_pepper, 9.7ms\n",
      "image 801/1846 C:\\Users\\ryun1\\ds\\final_project\\final_datafile\\data\\test\\images\\bell_pepper_26_jpg.rf.0998f2ca9d9d495e44be50f9c7466fa2.jpg: 416x416 1 bell_pepper, 8.2ms\n",
      "image 802/1846 C:\\Users\\ryun1\\ds\\final_project\\final_datafile\\data\\test\\images\\bell_pepper_26_jpg.rf.c1ee44e7b4efc1b17350bfa3ec5d974a.jpg: 416x416 1 bell_pepper, 7.8ms\n",
      "image 803/1846 C:\\Users\\ryun1\\ds\\final_project\\final_datafile\\data\\test\\images\\bell_pepper_28_jpg.rf.1851efb30dc17c9101f4d75a0b0888fd.jpg: 416x416 1 bell_pepper, 8.3ms\n"
     ]
    },
    {
     "name": "stdout",
     "output_type": "stream",
     "text": [
      "image 804/1846 C:\\Users\\ryun1\\ds\\final_project\\final_datafile\\data\\test\\images\\bell_pepper_28_jpg.rf.c1b2960cc0d2db5ef9c825e7039d99d2.jpg: 416x416 1 bell_pepper, 8.2ms\n",
      "image 805/1846 C:\\Users\\ryun1\\ds\\final_project\\final_datafile\\data\\test\\images\\bell_pepper_29_jpg.rf.89a94b242a4a55d2b8735099b7229f73.jpg: 416x416 1 bell_pepper, 8.2ms\n",
      "image 806/1846 C:\\Users\\ryun1\\ds\\final_project\\final_datafile\\data\\test\\images\\bell_pepper_2_jpg.rf.90a4b247e768bfe59fcb9ac06eeb051c.jpg: 416x416 1 bell_pepper, 8.4ms\n",
      "image 807/1846 C:\\Users\\ryun1\\ds\\final_project\\final_datafile\\data\\test\\images\\bell_pepper_2_jpg.rf.b0a9c133df9613fd2ce39727e910844c.jpg: 416x416 1 bell_pepper, 9.1ms\n",
      "image 808/1846 C:\\Users\\ryun1\\ds\\final_project\\final_datafile\\data\\test\\images\\bell_pepper_30_jpg.rf.65564752f768c7af4538f57c1c16ecc0.jpg: 416x416 1 bell_pepper, 7.9ms\n",
      "image 809/1846 C:\\Users\\ryun1\\ds\\final_project\\final_datafile\\data\\test\\images\\bell_pepper_3_jpg.rf.2c77c09de6b46f70b6715ce39e0ae2e9.jpg: 416x416 1 bell_pepper, 9.2ms\n",
      "image 810/1846 C:\\Users\\ryun1\\ds\\final_project\\final_datafile\\data\\test\\images\\bell_pepper_3_jpg.rf.8bfbb77539b706915b638dc58bfe154f.jpg: 416x416 1 bell_pepper, 9.2ms\n",
      "image 811/1846 C:\\Users\\ryun1\\ds\\final_project\\final_datafile\\data\\test\\images\\bell_pepper_6_jpg.rf.fe4dd5635971ed5c45988621b120c45c.jpg: 416x416 1 bell_pepper, 7.8ms\n",
      "image 812/1846 C:\\Users\\ryun1\\ds\\final_project\\final_datafile\\data\\test\\images\\bell_pepper_7_jpg.rf.dcccc4d9fbc510f07c3d0fba816e8e7a.jpg: 416x416 1 bell_pepper, 1 eggplant, 7.6ms\n",
      "image 813/1846 C:\\Users\\ryun1\\ds\\final_project\\final_datafile\\data\\test\\images\\bell_pepper_8_jpg.rf.66fd947021cab57e48af72de001fd5f5.jpg: 416x416 1 bell_pepper, 10.5ms\n",
      "image 814/1846 C:\\Users\\ryun1\\ds\\final_project\\final_datafile\\data\\test\\images\\bell_pepper_9_jpg.rf.991ce3f4cc21d07fd31b0c1e7c2de3db.jpg: 416x416 1 bell_pepper, 8.4ms\n",
      "image 815/1846 C:\\Users\\ryun1\\ds\\final_project\\final_datafile\\data\\test\\images\\bell_peppers_17_jpg.rf.717de5514ae3beffc469d0b10b809367.jpg: 416x416 4 bell peppers, 8.4ms\n",
      "image 816/1846 C:\\Users\\ryun1\\ds\\final_project\\final_datafile\\data\\test\\images\\bell_peppers_26_jpg.rf.97de42dfa637a2910abda10c9c2bc610.jpg: 416x416 1 bell pepper, 1 tomato, 7.7ms\n",
      "image 817/1846 C:\\Users\\ryun1\\ds\\final_project\\final_datafile\\data\\test\\images\\bell_peppers_28_jpg.rf.b898b447fc02bfa669c0ee1c821595d0.jpg: 416x416 2 bell peppers, 1 chilli, 8.6ms\n",
      "image 818/1846 C:\\Users\\ryun1\\ds\\final_project\\final_datafile\\data\\test\\images\\bell_peppers_39_jpg.rf.6f612a48a5633917a6615c5c3e30cf72.jpg: 416x416 5 bell peppers, 7.7ms\n",
      "image 819/1846 C:\\Users\\ryun1\\ds\\final_project\\final_datafile\\data\\test\\images\\bell_peppers_3_jpg.rf.04b2e7ab239e186839b82c41b87a8c51.jpg: 416x416 18 bell peppers, 9.7ms\n",
      "image 820/1846 C:\\Users\\ryun1\\ds\\final_project\\final_datafile\\data\\test\\images\\bell_peppers_51_jpeg.rf.78134e246b9b30b065edcdc32aeeccc1.jpg: 416x416 5 bell peppers, 8.4ms\n",
      "image 821/1846 C:\\Users\\ryun1\\ds\\final_project\\final_datafile\\data\\test\\images\\bell_peppers_52_jpg.rf.e04dd7c85177b691007eff9480c177ed.jpg: 416x416 2 bell peppers, 8.9ms\n",
      "image 822/1846 C:\\Users\\ryun1\\ds\\final_project\\final_datafile\\data\\test\\images\\bell_peppers_58_png.rf.4a0cc3b6d35e33fe0aa88b488041024b.jpg: 416x416 1 bell pepper, 8.8ms\n",
      "image 823/1846 C:\\Users\\ryun1\\ds\\final_project\\final_datafile\\data\\test\\images\\bell_peppers_5_jpg.rf.845e5356fcb7e4634078792a3abed878.jpg: 416x416 3 bell peppers, 8.3ms\n",
      "image 824/1846 C:\\Users\\ryun1\\ds\\final_project\\final_datafile\\data\\test\\images\\bell_peppers_67_JPG.rf.ea046a437cefa6fd6f3b9f8226c2a73a.jpg: 416x416 2 cashews, 3 onions, 9.8ms\n",
      "image 825/1846 C:\\Users\\ryun1\\ds\\final_project\\final_datafile\\data\\test\\images\\bell_peppers_73_jpg.rf.1b712f36de8d6f20e8198651f6164cac.jpg: 416x416 3 bell peppers, 8.3ms\n",
      "image 826/1846 C:\\Users\\ryun1\\ds\\final_project\\final_datafile\\data\\test\\images\\bell_peppers_80_jpg.rf.2116c93f2d12c844182cb0b0323bb3ee.jpg: 416x416 3 10_tangerines, 3 bell peppers, 1 tomato, 9.9ms\n",
      "image 827/1846 C:\\Users\\ryun1\\ds\\final_project\\final_datafile\\data\\test\\images\\bell_peppers_83_jpg.rf.bccd91efd35da21b9a26336e8fde314d.jpg: 416x416 8 bell peppers, 8.8ms\n",
      "image 828/1846 C:\\Users\\ryun1\\ds\\final_project\\final_datafile\\data\\test\\images\\bell_peppers_8_jpg.rf.29e371a61fd9c41965250baf45941069.jpg: 416x416 3 bell peppers, 8.6ms\n",
      "image 829/1846 C:\\Users\\ryun1\\ds\\final_project\\final_datafile\\data\\test\\images\\bell_peppers_91_jpg.rf.14cb759af0c8455f5e27838332c26949.jpg: 416x416 1 bell pepper, 8.9ms\n",
      "image 830/1846 C:\\Users\\ryun1\\ds\\final_project\\final_datafile\\data\\test\\images\\bell_peppers_92_JPG.rf.8713f718d0f735763542bf14584c8fd1.jpg: 416x416 1 bell pepper, 8.1ms\n",
      "image 831/1846 C:\\Users\\ryun1\\ds\\final_project\\final_datafile\\data\\test\\images\\bell_peppers_99_jpg.rf.473c16b1fc539052353230d47816403b.jpg: 416x416 1 bell pepper, 1 tomato, 9.2ms\n",
      "image 832/1846 C:\\Users\\ryun1\\ds\\final_project\\final_datafile\\data\\test\\images\\bitter_gourd_15_jpg.rf.a1e92cf5b7b4b1e6291fd094d29af060.jpg: 416x416 (no detections), 8.1ms\n",
      "image 833/1846 C:\\Users\\ryun1\\ds\\final_project\\final_datafile\\data\\test\\images\\bitter_gourd_19_jpg.rf.bcb624ce4d2dba9836505e792cecee19.jpg: 416x416 1 bitter gourd, 7.9ms\n",
      "image 834/1846 C:\\Users\\ryun1\\ds\\final_project\\final_datafile\\data\\test\\images\\bitter_gourd_22_jpg.rf.64304de6a9e0ab6224bcc7bd226f2e5b.jpg: 416x416 5 bitter gourds, 11.8ms\n",
      "image 835/1846 C:\\Users\\ryun1\\ds\\final_project\\final_datafile\\data\\test\\images\\bitter_gourd_38_jpg.rf.539dd10dcb1ee188fcafc0096c9225b6.jpg: 416x416 (no detections), 8.2ms\n",
      "image 836/1846 C:\\Users\\ryun1\\ds\\final_project\\final_datafile\\data\\test\\images\\bitter_gourd_52_jpg.rf.ba0105a712dbf73a89b139c8fd7495bb.jpg: 416x416 3 bitter gourds, 9.4ms\n",
      "image 837/1846 C:\\Users\\ryun1\\ds\\final_project\\final_datafile\\data\\test\\images\\bitter_gourd_61_jpg.rf.7f0651940b25e65db5d787b33c76b8a9.jpg: 416x416 1 bitter gourd, 8.9ms\n",
      "image 838/1846 C:\\Users\\ryun1\\ds\\final_project\\final_datafile\\data\\test\\images\\bitter_gourd_64_jpg.rf.168352180e3831d3943ea6c8ca1fd553.jpg: 416x416 2 bitter gourds, 9.8ms\n",
      "image 839/1846 C:\\Users\\ryun1\\ds\\final_project\\final_datafile\\data\\test\\images\\bitter_gourd_79_jpg.rf.582db03e188802953401d6ebc0494420.jpg: 416x416 4 bitter gourds, 2 broccolis, 8.3ms\n",
      "image 840/1846 C:\\Users\\ryun1\\ds\\final_project\\final_datafile\\data\\test\\images\\bitter_gourd_94_jpg.rf.3b6e0b855217b6649879b50b3e4fe704.jpg: 416x416 1 bitter gourd, 8.3ms\n",
      "image 841/1846 C:\\Users\\ryun1\\ds\\final_project\\final_datafile\\data\\test\\images\\bok_choy_15_jpg.rf.c998a324feb1f8903c61ff79e3a1ea3f.jpg: 416x416 (no detections), 9.1ms\n",
      "image 842/1846 C:\\Users\\ryun1\\ds\\final_project\\final_datafile\\data\\test\\images\\bok_choy_2_jpg.rf.7a801dd9898317e537715c9608a050d3.jpg: 416x416 (no detections), 8.5ms\n",
      "image 843/1846 C:\\Users\\ryun1\\ds\\final_project\\final_datafile\\data\\test\\images\\bok_choy_33_jpg.rf.067c34aa56a76cd0c7274905860c0f2b.jpg: 416x416 5 bok choys, 9.0ms\n",
      "image 844/1846 C:\\Users\\ryun1\\ds\\final_project\\final_datafile\\data\\test\\images\\bok_choy_34_jpg.rf.8cf355e533ffd72958250498a325ea23.jpg: 416x416 4 bok choys, 7.5ms\n",
      "image 845/1846 C:\\Users\\ryun1\\ds\\final_project\\final_datafile\\data\\test\\images\\bok_choy_3_jpg.rf.ba3eda52f1f954118f69c645052bb8ec.jpg: 416x416 1 bok choy, 9.5ms\n",
      "image 846/1846 C:\\Users\\ryun1\\ds\\final_project\\final_datafile\\data\\test\\images\\bok_choy_45_jpg.rf.1c94c6c61f84b83b22759408a4abbd96.jpg: 416x416 9 bok choys, 8.0ms\n",
      "image 847/1846 C:\\Users\\ryun1\\ds\\final_project\\final_datafile\\data\\test\\images\\bok_choy_50_jpg.rf.2841bfcc1ecd186eb97ede57c8c524cf.jpg: 416x416 11 bok choys, 8.6ms\n",
      "image 848/1846 C:\\Users\\ryun1\\ds\\final_project\\final_datafile\\data\\test\\images\\bok_choy_62_jpg.rf.7ef8cc1625c2ef21c783f1563ce3e095.jpg: 416x416 2 bok choys, 9.0ms\n",
      "image 849/1846 C:\\Users\\ryun1\\ds\\final_project\\final_datafile\\data\\test\\images\\bok_choy_63_jpg.rf.9600b0c9e029060deb4aca551f2b990e.jpg: 416x416 1 bok choy, 8.2ms\n",
      "image 850/1846 C:\\Users\\ryun1\\ds\\final_project\\final_datafile\\data\\test\\images\\bok_choy_69_jpg.rf.8658ecb09ef09b32e30a6c58c679c59c.jpg: 416x416 2 bok choys, 8.5ms\n",
      "image 851/1846 C:\\Users\\ryun1\\ds\\final_project\\final_datafile\\data\\test\\images\\bok_choy_7_jpg.rf.5577c39300340cd0115978352a81cc02.jpg: 416x416 3 bok choys, 8.1ms\n",
      "image 852/1846 C:\\Users\\ryun1\\ds\\final_project\\final_datafile\\data\\test\\images\\bread_11_jpg.rf.6b70da7e30581f140de51276a076a7f9.jpg: 416x416 1 bread, 7.6ms\n"
     ]
    },
    {
     "name": "stdout",
     "output_type": "stream",
     "text": [
      "image 853/1846 C:\\Users\\ryun1\\ds\\final_project\\final_datafile\\data\\test\\images\\bread_12_jpg.rf.0264684b46cd3fb5283215848d32ae2d.jpg: 416x416 1 bread, 10.0ms\n",
      "image 854/1846 C:\\Users\\ryun1\\ds\\final_project\\final_datafile\\data\\test\\images\\bread_14_jpg.rf.5f0149adedbdcf2d86ec64e2721a190f.jpg: 416x416 1 carrot, 1 cucumber, 7.5ms\n",
      "image 855/1846 C:\\Users\\ryun1\\ds\\final_project\\final_datafile\\data\\test\\images\\bread_14_jpg.rf.a9332473d082dcc3d0599f3e0c3bea34.jpg: 416x416 1 bread, 8.7ms\n",
      "image 856/1846 C:\\Users\\ryun1\\ds\\final_project\\final_datafile\\data\\test\\images\\bread_15_jpg.rf.0a1f29494fa323175d274592004cc9e1.jpg: 416x416 1 bread, 7.7ms\n",
      "image 857/1846 C:\\Users\\ryun1\\ds\\final_project\\final_datafile\\data\\test\\images\\bread_15_jpg.rf.80f4e5c804d3b9e2330469aea253a2b8.jpg: 416x416 1 bread, 7.2ms\n",
      "image 858/1846 C:\\Users\\ryun1\\ds\\final_project\\final_datafile\\data\\test\\images\\bread_17_jpg.rf.80ca3b189987ad31cba04b715ccaf7cd.jpg: 416x416 1 bread, 7.6ms\n",
      "image 859/1846 C:\\Users\\ryun1\\ds\\final_project\\final_datafile\\data\\test\\images\\bread_19_jpg.rf.e36bc51e64b401a57dfe528d47b44174.jpg: 416x416 1 bread, 7.3ms\n",
      "image 860/1846 C:\\Users\\ryun1\\ds\\final_project\\final_datafile\\data\\test\\images\\bread_1_jpg.rf.656d25242eac883611cc2b34bede5e9f.jpg: 416x416 1 bread, 7.1ms\n",
      "image 861/1846 C:\\Users\\ryun1\\ds\\final_project\\final_datafile\\data\\test\\images\\bread_20_jpg.rf.a79d4f5b35e5597d51e6b4e09435d59b.jpg: 416x416 1 bread, 7.6ms\n",
      "image 862/1846 C:\\Users\\ryun1\\ds\\final_project\\final_datafile\\data\\test\\images\\bread_21_jpg.rf.39720607669b592184f316e0ff8181b9.jpg: 416x416 1 bread, 8.6ms\n",
      "image 863/1846 C:\\Users\\ryun1\\ds\\final_project\\final_datafile\\data\\test\\images\\bread_21_jpg.rf.4e358f6baeeaaf32aab8e7de4934139b.jpg: 416x416 1 bread, 9.9ms\n",
      "image 864/1846 C:\\Users\\ryun1\\ds\\final_project\\final_datafile\\data\\test\\images\\bread_21_jpg.rf.dc35a08e7b56cbadefe226768d51fa01.jpg: 416x416 1 bread, 1 kiwi, 8.3ms\n",
      "image 865/1846 C:\\Users\\ryun1\\ds\\final_project\\final_datafile\\data\\test\\images\\bread_22_jpg.rf.13f2957fda4d128f6672b51026bc83b4.jpg: 416x416 1 bread, 7.7ms\n",
      "image 866/1846 C:\\Users\\ryun1\\ds\\final_project\\final_datafile\\data\\test\\images\\bread_24_jpg.rf.7c569f29bd22c87f16b705154c295920.jpg: 416x416 1 bread, 8.1ms\n",
      "image 867/1846 C:\\Users\\ryun1\\ds\\final_project\\final_datafile\\data\\test\\images\\bread_24_jpg.rf.8d9a3606c3642dc46ed2606c21e125c6.jpg: 416x416 1 bread, 7.7ms\n",
      "image 868/1846 C:\\Users\\ryun1\\ds\\final_project\\final_datafile\\data\\test\\images\\bread_25_jpg.rf.b6c51496e59cd5fef17eb1a3e6f414f9.jpg: 416x416 1 bread, 8.1ms\n",
      "image 869/1846 C:\\Users\\ryun1\\ds\\final_project\\final_datafile\\data\\test\\images\\bread_28_jpg.rf.385217a73e7f904a7abf7879928068ef.jpg: 416x416 1 bread, 8.4ms\n",
      "image 870/1846 C:\\Users\\ryun1\\ds\\final_project\\final_datafile\\data\\test\\images\\bread_28_jpg.rf.a1f816a1ddecaff26cdbc02ff6c326c1.jpg: 416x416 1 bread, 9.1ms\n",
      "image 871/1846 C:\\Users\\ryun1\\ds\\final_project\\final_datafile\\data\\test\\images\\bread_2_jpg.rf.8ad4ca5252ea0a8d95d8bd724682248b.jpg: 416x416 1 potato, 9.4ms\n",
      "image 872/1846 C:\\Users\\ryun1\\ds\\final_project\\final_datafile\\data\\test\\images\\bread_2_jpg.rf.caff86384e7947b9c2fedb6848cadf96.jpg: 416x416 1 potato, 7.7ms\n",
      "image 873/1846 C:\\Users\\ryun1\\ds\\final_project\\final_datafile\\data\\test\\images\\bread_30_jpg.rf.ceb939e71182c54058584d9a41a0089d.jpg: 416x416 1 bread, 10.7ms\n",
      "image 874/1846 C:\\Users\\ryun1\\ds\\final_project\\final_datafile\\data\\test\\images\\bread_3_jpg.rf.215a6638f1ef1f74bdfdd0f8f3bbc773.jpg: 416x416 1 bread, 8.2ms\n",
      "image 875/1846 C:\\Users\\ryun1\\ds\\final_project\\final_datafile\\data\\test\\images\\bread_5_jpg.rf.39b24493fe8241bdff81dd3fbb4cb594.jpg: 416x416 1 bread, 7.2ms\n",
      "image 876/1846 C:\\Users\\ryun1\\ds\\final_project\\final_datafile\\data\\test\\images\\bread_5_jpg.rf.96b1f3ff84159c11536808b1b8352aa4.jpg: 416x416 1 bread, 8.2ms\n",
      "image 877/1846 C:\\Users\\ryun1\\ds\\final_project\\final_datafile\\data\\test\\images\\bread_6_jpg.rf.02e3603f89b86228ce506cb404832b4a.jpg: 416x416 1 bread, 1 powder, 7.0ms\n",
      "image 878/1846 C:\\Users\\ryun1\\ds\\final_project\\final_datafile\\data\\test\\images\\bread_7_jpg.rf.06b9a3372d744abf41b3a580bcde86e8.jpg: 416x416 1 bread, 10.0ms\n",
      "image 879/1846 C:\\Users\\ryun1\\ds\\final_project\\final_datafile\\data\\test\\images\\bread_9_jpg.rf.49d1659fa365c4c0783d8dadcf4f1ef4.jpg: 416x416 1 bread, 7.8ms\n",
      "image 880/1846 C:\\Users\\ryun1\\ds\\final_project\\final_datafile\\data\\test\\images\\brisket_jpg.rf.b6722fa407dbc3c6b6438da0468ed3d5.jpg: 416x416 1 beef, 8.2ms\n",
      "image 881/1846 C:\\Users\\ryun1\\ds\\final_project\\final_datafile\\data\\test\\images\\broccoli_10_jpg.rf.ccad00913dffb45bac4d177d9485708a.jpg: 416x416 1 broccoli, 8.6ms\n",
      "image 882/1846 C:\\Users\\ryun1\\ds\\final_project\\final_datafile\\data\\test\\images\\broccoli_11_jpg.rf.4777b941b4e0b77f5c5cced4d8060ada.jpg: 416x416 1 broccoli, 7.3ms\n",
      "image 883/1846 C:\\Users\\ryun1\\ds\\final_project\\final_datafile\\data\\test\\images\\broccoli_12_jpg.rf.e080ec7e723e453a69e9de01ded6db70.jpg: 416x416 1 broccoli, 8.2ms\n",
      "image 884/1846 C:\\Users\\ryun1\\ds\\final_project\\final_datafile\\data\\test\\images\\broccoli_13_jpg.rf.8fc229cf790157fc676cd2a19cdee89c.jpg: 416x416 1 broccoli, 8.2ms\n",
      "image 885/1846 C:\\Users\\ryun1\\ds\\final_project\\final_datafile\\data\\test\\images\\broccoli_14_jpg.rf.a6cfddd5019dc839fff0d7364add72d9.jpg: 416x416 1 broccoli, 8.1ms\n",
      "image 886/1846 C:\\Users\\ryun1\\ds\\final_project\\final_datafile\\data\\test\\images\\broccoli_15_jpg.rf.a2d903fbe7c30957b872ea4d5cf34252.jpg: 416x416 1 broccoli, 10.1ms\n",
      "image 887/1846 C:\\Users\\ryun1\\ds\\final_project\\final_datafile\\data\\test\\images\\broccoli_17_jpg.rf.dd05446ec4d0bb938195e2225fe66c17.jpg: 416x416 1 broccoli, 10.2ms\n",
      "image 888/1846 C:\\Users\\ryun1\\ds\\final_project\\final_datafile\\data\\test\\images\\broccoli_18_jpg.rf.5d5d321aa239c912da0842bd50ed4cf1.jpg: 416x416 1 broccoli, 8.7ms\n",
      "image 889/1846 C:\\Users\\ryun1\\ds\\final_project\\final_datafile\\data\\test\\images\\broccoli_19_jpg.rf.2c15b91b434da1691baea7997a27d491.jpg: 416x416 1 broccoli, 8.8ms\n",
      "image 890/1846 C:\\Users\\ryun1\\ds\\final_project\\final_datafile\\data\\test\\images\\broccoli_19_jpg.rf.826aaa42f298cc3c3f71a81f3710bc9f.jpg: 416x416 1 broccoli, 7.2ms\n",
      "image 891/1846 C:\\Users\\ryun1\\ds\\final_project\\final_datafile\\data\\test\\images\\broccoli_1_jpg.rf.4445c6bc5a5ce735402fb3da30db4e53.jpg: 416x416 1 broccoli, 8.9ms\n",
      "image 892/1846 C:\\Users\\ryun1\\ds\\final_project\\final_datafile\\data\\test\\images\\broccoli_1_jpg.rf.f8515e28ea17a7c52c08465077fc2208.jpg: 416x416 1 broccoli, 10.2ms\n",
      "image 893/1846 C:\\Users\\ryun1\\ds\\final_project\\final_datafile\\data\\test\\images\\broccoli_20_jpg.rf.7cf4eb23d3cc99aca094ade26a29b5c5.jpg: 416x416 1 broccoli, 8.7ms\n",
      "image 894/1846 C:\\Users\\ryun1\\ds\\final_project\\final_datafile\\data\\test\\images\\broccoli_20_jpg.rf.8383b6d0e5e1f53daebaa9fcf7b2be5b.jpg: 416x416 1 broccoli, 7.7ms\n",
      "image 895/1846 C:\\Users\\ryun1\\ds\\final_project\\final_datafile\\data\\test\\images\\broccoli_21_jpg.rf.7a4802ced454d87d9158cc6e8ac0f22f.jpg: 416x416 1 broccoli, 9.4ms\n",
      "image 896/1846 C:\\Users\\ryun1\\ds\\final_project\\final_datafile\\data\\test\\images\\broccoli_24_jpg.rf.b40c00c92ee2f99b94db19f4a55ff420.jpg: 416x416 1 broccoli, 8.1ms\n",
      "image 897/1846 C:\\Users\\ryun1\\ds\\final_project\\final_datafile\\data\\test\\images\\broccoli_25_jpg.rf.ab1f94fae309b841c32d512b37207091.jpg: 416x416 1 broccoli, 8.3ms\n",
      "image 898/1846 C:\\Users\\ryun1\\ds\\final_project\\final_datafile\\data\\test\\images\\broccoli_27_jpg.rf.8b4a4ec6d4670acdfc551a1a071e0c42.jpg: 416x416 1 broccoli, 9.7ms\n",
      "image 899/1846 C:\\Users\\ryun1\\ds\\final_project\\final_datafile\\data\\test\\images\\broccoli_29_jpg.rf.50f8c665196df8beaad5ab1acf9e9f49.jpg: 416x416 1 broccoli, 9.6ms\n",
      "image 900/1846 C:\\Users\\ryun1\\ds\\final_project\\final_datafile\\data\\test\\images\\broccoli_29_jpg.rf.7fa6a9670a6846fc4c9746fa25e3bb4f.jpg: 416x416 8 broccolis, 8.0ms\n",
      "image 901/1846 C:\\Users\\ryun1\\ds\\final_project\\final_datafile\\data\\test\\images\\broccoli_29_jpg.rf.a4d894b1e7531b05aac6f20640fc93f0.jpg: 416x416 1 broccoli, 7.2ms\n",
      "image 902/1846 C:\\Users\\ryun1\\ds\\final_project\\final_datafile\\data\\test\\images\\broccoli_2_jpg.rf.991d8d56be132f100a07fa2b8460c371.jpg: 416x416 1 broccoli, 8.3ms\n",
      "image 903/1846 C:\\Users\\ryun1\\ds\\final_project\\final_datafile\\data\\test\\images\\broccoli_30_jpg.rf.008e15e4218f29dc1f80985862884be5.jpg: 416x416 1 broccoli, 10.6ms\n",
      "image 904/1846 C:\\Users\\ryun1\\ds\\final_project\\final_datafile\\data\\test\\images\\broccoli_3_jpg.rf.3ba9a4aa88fe8e758f2a08f0056407b2.jpg: 416x416 1 broccoli, 9.1ms\n"
     ]
    },
    {
     "name": "stdout",
     "output_type": "stream",
     "text": [
      "image 905/1846 C:\\Users\\ryun1\\ds\\final_project\\final_datafile\\data\\test\\images\\broccoli_3_jpg.rf.c99ded9d12d9314a75a04c25449036e4.jpg: 416x416 1 broccoli, 9.0ms\n",
      "image 906/1846 C:\\Users\\ryun1\\ds\\final_project\\final_datafile\\data\\test\\images\\broccoli_43_jpg.rf.16a1ff64108f76432852515b297f6d28.jpg: 416x416 1 broccoli, 9.3ms\n",
      "image 907/1846 C:\\Users\\ryun1\\ds\\final_project\\final_datafile\\data\\test\\images\\broccoli_49_jpg.rf.adb01cd9b4ac04bba489bd0124c07edc.jpg: 416x416 8 broccolis, 1 chicken, 8.3ms\n",
      "image 908/1846 C:\\Users\\ryun1\\ds\\final_project\\final_datafile\\data\\test\\images\\broccoli_51_jpg.rf.aa74f415a8ce3759d74aff08613607c9.jpg: 416x416 1 broccoli, 8.5ms\n",
      "image 909/1846 C:\\Users\\ryun1\\ds\\final_project\\final_datafile\\data\\test\\images\\broccoli_54_jpg.rf.420f3cc021249f7c32ffc6170cfbbc6c.jpg: 416x416 2 broccolis, 8.4ms\n",
      "image 910/1846 C:\\Users\\ryun1\\ds\\final_project\\final_datafile\\data\\test\\images\\broccoli_57_jpg.rf.35aa25a5b97019a1e242a174d260f290.jpg: 416x416 1 bitter gourd, 4 broccolis, 8.1ms\n",
      "image 911/1846 C:\\Users\\ryun1\\ds\\final_project\\final_datafile\\data\\test\\images\\broccoli_5_jpg.rf.54ba273bbfd7a64c8a336640ef8978fa.jpg: 416x416 1 broccoli, 10.4ms\n",
      "image 912/1846 C:\\Users\\ryun1\\ds\\final_project\\final_datafile\\data\\test\\images\\broccoli_64_jpg.rf.7e2683ec0f1b9e395d496a5721f92642.jpg: 416x416 1 broccoli, 8.2ms\n",
      "image 913/1846 C:\\Users\\ryun1\\ds\\final_project\\final_datafile\\data\\test\\images\\broccoli_7_jpg.rf.19b80893755f32704fe093fa957d28e8.jpg: 416x416 1 broccoli, 9.8ms\n",
      "image 914/1846 C:\\Users\\ryun1\\ds\\final_project\\final_datafile\\data\\test\\images\\broccoli_83_jpg.rf.62fe0dea685617d26b13e1e21d593a22.jpg: 416x416 8 broccolis, 8.2ms\n",
      "image 915/1846 C:\\Users\\ryun1\\ds\\final_project\\final_datafile\\data\\test\\images\\broccoli_84_jpg.rf.546eb5a7bf6d6ee103892d64c73ec604.jpg: 416x416 16 broccolis, 9.2ms\n",
      "image 916/1846 C:\\Users\\ryun1\\ds\\final_project\\final_datafile\\data\\test\\images\\broccoli_8_jpg.rf.1fa760dbdc4a66931bc9c8b1a3986149.jpg: 416x416 1 broccoli, 8.5ms\n",
      "image 917/1846 C:\\Users\\ryun1\\ds\\final_project\\final_datafile\\data\\test\\images\\butter_10_jpg.rf.218268f4986fe0610150a4ce9162851d.jpg: 416x416 1 butter, 9.2ms\n",
      "image 918/1846 C:\\Users\\ryun1\\ds\\final_project\\final_datafile\\data\\test\\images\\butter_13_jpg.rf.9002c2ab2f87ca0b90f1f8948f1ccda6.jpg: 416x416 1 butter, 8.6ms\n",
      "image 919/1846 C:\\Users\\ryun1\\ds\\final_project\\final_datafile\\data\\test\\images\\butter_13_jpg.rf.a91d099172cd54b84775501949937287.jpg: 416x416 1 butter, 6.8ms\n",
      "image 920/1846 C:\\Users\\ryun1\\ds\\final_project\\final_datafile\\data\\test\\images\\butter_14_jpg.rf.37ac71d3d8d1656ed615f1c60a2f4b7c.jpg: 416x416 1 butter, 10.1ms\n",
      "image 921/1846 C:\\Users\\ryun1\\ds\\final_project\\final_datafile\\data\\test\\images\\butter_14_jpg.rf.f4d7c6b50594ef41c25757bec6831d39.jpg: 416x416 1 butter, 9.4ms\n",
      "image 922/1846 C:\\Users\\ryun1\\ds\\final_project\\final_datafile\\data\\test\\images\\butter_16_jpg.rf.602bb3559ddc24739038591261fe02ad.jpg: 416x416 1 butter, 7.8ms\n",
      "image 923/1846 C:\\Users\\ryun1\\ds\\final_project\\final_datafile\\data\\test\\images\\butter_16_jpg.rf.c779147657d1a4b6b2e171d82d4acea9.jpg: 416x416 1 butter, 9.1ms\n",
      "image 924/1846 C:\\Users\\ryun1\\ds\\final_project\\final_datafile\\data\\test\\images\\butter_19_jpg.rf.304becbbd976395e6be079ac96b9c6b0.jpg: 416x416 1 butter, 9.1ms\n",
      "image 925/1846 C:\\Users\\ryun1\\ds\\final_project\\final_datafile\\data\\test\\images\\butter_19_jpg.rf.e1ad83faa639aeeb8be7aa81adb38f68.jpg: 416x416 1 butter, 9.6ms\n",
      "image 926/1846 C:\\Users\\ryun1\\ds\\final_project\\final_datafile\\data\\test\\images\\butter_20_jpg.rf.8a5f382d4ed30019c8b3ae2a626b8673.jpg: 416x416 1 butter, 10.2ms\n",
      "image 927/1846 C:\\Users\\ryun1\\ds\\final_project\\final_datafile\\data\\test\\images\\butter_20_jpg.rf.d9e37585f8ad6bafd5520b8e083a4bb5.jpg: 416x416 1 butter, 8.7ms\n",
      "image 928/1846 C:\\Users\\ryun1\\ds\\final_project\\final_datafile\\data\\test\\images\\butter_22_jpg.rf.39fe33eee29b82e4e28ea89512156841.jpg: 416x416 1 butter, 8.8ms\n",
      "image 929/1846 C:\\Users\\ryun1\\ds\\final_project\\final_datafile\\data\\test\\images\\butter_23_jpg.rf.5e997af160434d74818660b190042acf.jpg: 416x416 1 butter, 8.8ms\n",
      "image 930/1846 C:\\Users\\ryun1\\ds\\final_project\\final_datafile\\data\\test\\images\\butter_23_jpg.rf.7326390ba4573ba7a1247e8f7f45a374.jpg: 416x416 1 butter, 9.1ms\n",
      "image 931/1846 C:\\Users\\ryun1\\ds\\final_project\\final_datafile\\data\\test\\images\\butter_24_jpg.rf.19f8cc5911629d2bb0aa4a0117a69a1e.jpg: 416x416 1 butter, 9.4ms\n",
      "image 932/1846 C:\\Users\\ryun1\\ds\\final_project\\final_datafile\\data\\test\\images\\butter_24_jpg.rf.d03c491a584b1f5f47458c6cd8834a40.jpg: 416x416 1 butter, 8.8ms\n",
      "image 933/1846 C:\\Users\\ryun1\\ds\\final_project\\final_datafile\\data\\test\\images\\butter_27_jpg.rf.0a616b1f48ee47067a265d1057d8721f.jpg: 416x416 1 butter, 10.0ms\n",
      "image 934/1846 C:\\Users\\ryun1\\ds\\final_project\\final_datafile\\data\\test\\images\\butter_28_jpg.rf.96e7ae47dd73b1a7cab83a406cf942e5.jpg: 416x416 1 butter, 8.6ms\n",
      "image 935/1846 C:\\Users\\ryun1\\ds\\final_project\\final_datafile\\data\\test\\images\\butter_28_jpg.rf.efb30d4a373d079b9a5b5b68baca82dc.jpg: 416x416 1 butter, 9.7ms\n",
      "image 936/1846 C:\\Users\\ryun1\\ds\\final_project\\final_datafile\\data\\test\\images\\butter_29_jpg.rf.d517d4077f8bba21c7e69b0b68f03224.jpg: 416x416 1 butter, 8.7ms\n",
      "image 937/1846 C:\\Users\\ryun1\\ds\\final_project\\final_datafile\\data\\test\\images\\butter_2_jpg.rf.d1e5fde0c38bf553b7d33761ecc0f951.jpg: 416x416 1 butter, 8.0ms\n",
      "image 938/1846 C:\\Users\\ryun1\\ds\\final_project\\final_datafile\\data\\test\\images\\butter_30_jpg.rf.615f480c21578f652485a3bfebf4660b.jpg: 416x416 1 butter, 8.9ms\n",
      "image 939/1846 C:\\Users\\ryun1\\ds\\final_project\\final_datafile\\data\\test\\images\\butter_30_jpg.rf.f977b9a9f92db9dbc834911a08de39a8.jpg: 416x416 1 sauce, 8.5ms\n",
      "image 940/1846 C:\\Users\\ryun1\\ds\\final_project\\final_datafile\\data\\test\\images\\butter_4_jpg.rf.a42703252da58b19af5fb01fc677d36a.jpg: 416x416 1 butter, 8.6ms\n",
      "image 941/1846 C:\\Users\\ryun1\\ds\\final_project\\final_datafile\\data\\test\\images\\butter_4_jpg.rf.f686298175df53e8ddb69c6736341b27.jpg: 416x416 1 butter, 9.3ms\n",
      "image 942/1846 C:\\Users\\ryun1\\ds\\final_project\\final_datafile\\data\\test\\images\\butter_5_jpg.rf.faff16f990d5bcd4b3e2007988b13c34.jpg: 416x416 1 butter, 10.0ms\n",
      "image 943/1846 C:\\Users\\ryun1\\ds\\final_project\\final_datafile\\data\\test\\images\\butter_6_jpg.rf.b1b98ea208090d09edec2c343f0341c2.jpg: 416x416 1 butter, 8.8ms\n",
      "image 944/1846 C:\\Users\\ryun1\\ds\\final_project\\final_datafile\\data\\test\\images\\butter_8_jpg.rf.b3f9aa9319d6a17037f629e4e54e2225.jpg: 416x416 1 butter, 7.5ms\n",
      "image 945/1846 C:\\Users\\ryun1\\ds\\final_project\\final_datafile\\data\\test\\images\\cabbage_10_jpg.rf.563abf506f2a6e4979a847f8597ac4a5.jpg: 416x416 1 cabbage, 8.8ms\n",
      "image 946/1846 C:\\Users\\ryun1\\ds\\final_project\\final_datafile\\data\\test\\images\\cabbage_10_jpg.rf.af46955832e0dbbf0a98578e11a835c8.jpg: 416x416 1 cabbage, 10.5ms\n",
      "image 947/1846 C:\\Users\\ryun1\\ds\\final_project\\final_datafile\\data\\test\\images\\cabbage_11_jpg.rf.84e4a17eb10923a7c8e8c276b62f8d6c.jpg: 416x416 1 cabbage, 9.7ms\n",
      "image 948/1846 C:\\Users\\ryun1\\ds\\final_project\\final_datafile\\data\\test\\images\\cabbage_11_jpg.rf.acf4dcdd4e23c452c4c62c56bc1d086a.jpg: 416x416 1 cabbage, 9.4ms\n",
      "image 949/1846 C:\\Users\\ryun1\\ds\\final_project\\final_datafile\\data\\test\\images\\cabbage_12_jpg.rf.096e257d59ab8596c8d9e4929eee3b37.jpg: 416x416 1 cabbage, 8.0ms\n",
      "image 950/1846 C:\\Users\\ryun1\\ds\\final_project\\final_datafile\\data\\test\\images\\cabbage_13_jpg.rf.0d6923ee87c210555722a9974741bb8f.jpg: 416x416 1 cabbage, 9.5ms\n",
      "image 951/1846 C:\\Users\\ryun1\\ds\\final_project\\final_datafile\\data\\test\\images\\cabbage_14_jpg.rf.578d938f6c68868610fa6a6fd80defcd.jpg: 416x416 1 cabbage, 8.9ms\n",
      "image 952/1846 C:\\Users\\ryun1\\ds\\final_project\\final_datafile\\data\\test\\images\\cabbage_14_jpg.rf.972dabd160b400432f93ad39a46fa684.jpg: 416x416 1 cabbage, 9.5ms\n",
      "image 953/1846 C:\\Users\\ryun1\\ds\\final_project\\final_datafile\\data\\test\\images\\cabbage_15_jpg.rf.feca1c86c5578e384f1f9e0d0619f635.jpg: 416x416 1 cabbage, 8.2ms\n",
      "image 954/1846 C:\\Users\\ryun1\\ds\\final_project\\final_datafile\\data\\test\\images\\cabbage_1_jpg.rf.029665d0893236749f57eb90c26ee6e2.jpg: 416x416 1 cabbage, 10.9ms\n",
      "image 955/1846 C:\\Users\\ryun1\\ds\\final_project\\final_datafile\\data\\test\\images\\cabbage_20_jpg.rf.7a7844cd390e2c5f38ac30d7928c2248.jpg: 416x416 1 cabbage, 8.1ms\n",
      "image 956/1846 C:\\Users\\ryun1\\ds\\final_project\\final_datafile\\data\\test\\images\\cabbage_21_jpg.rf.3d70156c14142311f9410e5b06e19d61.jpg: 416x416 1 cabbage, 8.2ms\n"
     ]
    },
    {
     "name": "stdout",
     "output_type": "stream",
     "text": [
      "image 957/1846 C:\\Users\\ryun1\\ds\\final_project\\final_datafile\\data\\test\\images\\cabbage_21_jpg.rf.c1d51fcc99129d6328bada9b8bd2b492.jpg: 416x416 1 cabbage, 8.9ms\n",
      "image 958/1846 C:\\Users\\ryun1\\ds\\final_project\\final_datafile\\data\\test\\images\\cabbage_22_jpg.rf.64c27f1354b4ca895b3e88f0e1768249.jpg: 416x416 1 cabbage, 8.2ms\n",
      "image 959/1846 C:\\Users\\ryun1\\ds\\final_project\\final_datafile\\data\\test\\images\\cabbage_23_jpg.rf.5089b447e6ac158684bfa616351b8d4e.jpg: 416x416 1 cabbage, 10.4ms\n",
      "image 960/1846 C:\\Users\\ryun1\\ds\\final_project\\final_datafile\\data\\test\\images\\cabbage_23_jpg.rf.b169782e8f25563b7e5e06b8e67f34f0.jpg: 416x416 1 cabbage, 9.1ms\n",
      "image 961/1846 C:\\Users\\ryun1\\ds\\final_project\\final_datafile\\data\\test\\images\\cabbage_24_jpg.rf.2bf473ec5851f50aa1b0c5b7f9c3f9a7.jpg: 416x416 1 cabbage, 9.3ms\n",
      "image 962/1846 C:\\Users\\ryun1\\ds\\final_project\\final_datafile\\data\\test\\images\\cabbage_25_jpg.rf.33071bbf90818f61b86080064e3a2a81.jpg: 416x416 1 cabbage, 1 lettuce, 9.9ms\n",
      "image 963/1846 C:\\Users\\ryun1\\ds\\final_project\\final_datafile\\data\\test\\images\\cabbage_25_jpg.rf.7bc8cf98d0d6d7c569dfb6a3184a1fbb.jpg: 416x416 1 cabbage, 7.8ms\n",
      "image 964/1846 C:\\Users\\ryun1\\ds\\final_project\\final_datafile\\data\\test\\images\\cabbage_26_jpg.rf.fcfe4b69329226a4752e59efb6f66923.jpg: 416x416 1 cabbage, 8.6ms\n",
      "image 965/1846 C:\\Users\\ryun1\\ds\\final_project\\final_datafile\\data\\test\\images\\cabbage_27_jpg.rf.41464380e2341b66899586839ef11678.jpg: 416x416 1 cabbage, 8.3ms\n",
      "image 966/1846 C:\\Users\\ryun1\\ds\\final_project\\final_datafile\\data\\test\\images\\cabbage_27_jpg.rf.a9e9261ec82724552450677a869bfa6c.jpg: 416x416 1 cabbage, 8.5ms\n",
      "image 967/1846 C:\\Users\\ryun1\\ds\\final_project\\final_datafile\\data\\test\\images\\cabbage_29_jpg.rf.a66fb7590d13d3ecb01d6501cb20702c.jpg: 416x416 1 cabbage, 8.8ms\n",
      "image 968/1846 C:\\Users\\ryun1\\ds\\final_project\\final_datafile\\data\\test\\images\\cabbage_2_jpg.rf.197d532262caac887d44ed1fc367f558.jpg: 416x416 1 cabbage, 8.1ms\n",
      "image 969/1846 C:\\Users\\ryun1\\ds\\final_project\\final_datafile\\data\\test\\images\\cabbage_32_jpg.rf.af68371e164453768c60aea33d828562.jpg: 416x416 1 cabbage, 8.2ms\n",
      "image 970/1846 C:\\Users\\ryun1\\ds\\final_project\\final_datafile\\data\\test\\images\\cabbage_3_jpg.rf.df52fa1bbbc4f8910e5d2282b8c860a3.jpg: 416x416 1 cabbage, 9.2ms\n",
      "image 971/1846 C:\\Users\\ryun1\\ds\\final_project\\final_datafile\\data\\test\\images\\cabbage_4_jpg.rf.6315c741f5ab5f946cb2686162469e72.jpg: 416x416 1 cabbage, 9.1ms\n",
      "image 972/1846 C:\\Users\\ryun1\\ds\\final_project\\final_datafile\\data\\test\\images\\cabbage_5_jpg.rf.1a6e7fb9a8c6d627b236342fa4772af1.jpg: 416x416 1 cabbage, 8.7ms\n",
      "image 973/1846 C:\\Users\\ryun1\\ds\\final_project\\final_datafile\\data\\test\\images\\cabbage_5_jpg.rf.272d9f2a9e39ceb248f78adab05fdaad.jpg: 416x416 1 cabbage, 7.7ms\n",
      "image 974/1846 C:\\Users\\ryun1\\ds\\final_project\\final_datafile\\data\\test\\images\\cabbage_61_jpg.rf.94f1bdb7bfb35dfc9e8afc42fe4edf70.jpg: 416x416 1 cabbage, 8.8ms\n",
      "image 975/1846 C:\\Users\\ryun1\\ds\\final_project\\final_datafile\\data\\test\\images\\cabbage_63_jpg.rf.742ab4c1da50abc3b46fc9fd9e3a190b.jpg: 416x416 1 cabbage, 8.7ms\n",
      "image 976/1846 C:\\Users\\ryun1\\ds\\final_project\\final_datafile\\data\\test\\images\\cabbage_67_jpg.rf.3ba3b12da644d8ac80fb9d2c8d61f8ae.jpg: 416x416 1 cabbage, 8.9ms\n",
      "image 977/1846 C:\\Users\\ryun1\\ds\\final_project\\final_datafile\\data\\test\\images\\cabbage_6_jpg.rf.163978cc0cf96566bfc8bba02ce26add.jpg: 416x416 1 cabbage, 8.7ms\n",
      "image 978/1846 C:\\Users\\ryun1\\ds\\final_project\\final_datafile\\data\\test\\images\\cabbage_7_jpg.rf.28d0866c3f9c42c2c3bf6951507fab5f.jpg: 416x416 1 cabbage, 8.1ms\n",
      "image 979/1846 C:\\Users\\ryun1\\ds\\final_project\\final_datafile\\data\\test\\images\\cabbage_7_jpg.rf.450a05c38c51c1c28f28cf24e720b4dd.jpg: 416x416 1 cabbage, 8.2ms\n",
      "image 980/1846 C:\\Users\\ryun1\\ds\\final_project\\final_datafile\\data\\test\\images\\cachuaxau-149-_jpg.rf.4653397db6026f85a3e2d2bbbbc37eab.jpg: 416x416 1 tomato, 9.0ms\n",
      "image 981/1846 C:\\Users\\ryun1\\ds\\final_project\\final_datafile\\data\\test\\images\\carrot_13_jpg.rf.759019c755622cc9a3d24e024e34d130.jpg: 416x416 1 carrot, 8.4ms\n",
      "image 982/1846 C:\\Users\\ryun1\\ds\\final_project\\final_datafile\\data\\test\\images\\carrot_13_jpg.rf.e55577000384b16e5a87e09449e7d161.jpg: 416x416 1 carrot, 9.0ms\n",
      "image 983/1846 C:\\Users\\ryun1\\ds\\final_project\\final_datafile\\data\\test\\images\\carrot_15_jpg.rf.bbff60f13460e6b7553c59fb46677ad3.jpg: 416x416 1 carrot, 8.9ms\n",
      "image 984/1846 C:\\Users\\ryun1\\ds\\final_project\\final_datafile\\data\\test\\images\\carrot_16_jpg.rf.3c2bc4e6cf50b5d24f67c78395b76fd4.jpg: 416x416 1 carrot, 9.2ms\n",
      "image 985/1846 C:\\Users\\ryun1\\ds\\final_project\\final_datafile\\data\\test\\images\\carrot_18_jpg.rf.cf76643e5f486fae05e7183af0628057.jpg: 416x416 1 carrot, 8.9ms\n",
      "image 986/1846 C:\\Users\\ryun1\\ds\\final_project\\final_datafile\\data\\test\\images\\carrot_19_jpg.rf.e3ae8b8f9e694e7625649d915cc108c2.jpg: 416x416 1 carrot, 8.7ms\n",
      "image 987/1846 C:\\Users\\ryun1\\ds\\final_project\\final_datafile\\data\\test\\images\\carrot_1_jpg.rf.771f647e85265925c3edd85e642ed04d.jpg: 416x416 1 carrot, 9.0ms\n",
      "image 988/1846 C:\\Users\\ryun1\\ds\\final_project\\final_datafile\\data\\test\\images\\carrot_1_jpg.rf.ecd2e0692c38f398c659e548727d08bc.jpg: 416x416 1 carrot, 7.8ms\n",
      "image 989/1846 C:\\Users\\ryun1\\ds\\final_project\\final_datafile\\data\\test\\images\\carrot_21_jpg.rf.57007e70a4aa45d1878ee984e0c58f6a.jpg: 416x416 1 carrot, 10.3ms\n",
      "image 990/1846 C:\\Users\\ryun1\\ds\\final_project\\final_datafile\\data\\test\\images\\carrot_22_jpg.rf.99c3338afc166bb22c5b9664f1d3e799.jpg: 416x416 1 carrot, 9.2ms\n",
      "image 991/1846 C:\\Users\\ryun1\\ds\\final_project\\final_datafile\\data\\test\\images\\carrot_22_jpg.rf.e0c630bd4ec322807ed2da6a94a623bb.jpg: 416x416 1 carrot, 7.6ms\n",
      "image 992/1846 C:\\Users\\ryun1\\ds\\final_project\\final_datafile\\data\\test\\images\\carrot_23_jpg.rf.21e771a76514f2ac4d46678070256f13.jpg: 416x416 1 carrot, 8.8ms\n",
      "image 993/1846 C:\\Users\\ryun1\\ds\\final_project\\final_datafile\\data\\test\\images\\carrot_25_jpg.rf.d635af89387ad305fb4daaeb817d879a.jpg: 416x416 1 carrot, 8.2ms\n",
      "image 994/1846 C:\\Users\\ryun1\\ds\\final_project\\final_datafile\\data\\test\\images\\carrot_26_jpg.rf.d787e5eaf62e5d7b8df5cb4767271ff6.jpg: 416x416 1 carrot, 7.9ms\n",
      "image 995/1846 C:\\Users\\ryun1\\ds\\final_project\\final_datafile\\data\\test\\images\\carrot_29_jpg.rf.3f7b4328921e75180a06fa8cc4702b15.jpg: 416x416 1 carrot, 10.5ms\n",
      "image 996/1846 C:\\Users\\ryun1\\ds\\final_project\\final_datafile\\data\\test\\images\\carrot_29_jpg.rf.f04f689938a3fcdfb2098fce728400b9.jpg: 416x416 1 carrot, 10.9ms\n",
      "image 997/1846 C:\\Users\\ryun1\\ds\\final_project\\final_datafile\\data\\test\\images\\carrot_2_jpg.rf.0346ef7da0e314b9f3afb55596eb133b.jpg: 416x416 1 carrot, 8.0ms\n",
      "image 998/1846 C:\\Users\\ryun1\\ds\\final_project\\final_datafile\\data\\test\\images\\carrot_2_jpg.rf.e7f281c841de6705bad3afab883e9660.jpg: 416x416 1 carrot, 8.7ms\n",
      "image 999/1846 C:\\Users\\ryun1\\ds\\final_project\\final_datafile\\data\\test\\images\\carrot_30_jpg.rf.c6effb776ee95dcead5c7dc0c27eeee0.jpg: 416x416 1 carrot, 7.4ms\n",
      "image 1000/1846 C:\\Users\\ryun1\\ds\\final_project\\final_datafile\\data\\test\\images\\carrot_30_jpg.rf.dd60f401e4ff4e8931c462990f73e468.jpg: 416x416 1 carrot, 8.8ms\n",
      "image 1001/1846 C:\\Users\\ryun1\\ds\\final_project\\final_datafile\\data\\test\\images\\carrot_4_jpg.rf.54e685b63c169260d775fa71a21bf94e.jpg: 416x416 1 carrot, 8.7ms\n",
      "image 1002/1846 C:\\Users\\ryun1\\ds\\final_project\\final_datafile\\data\\test\\images\\carrot_4_jpg.rf.c1ee1fa87ae41ff7088a52c87237bb0c.jpg: 416x416 1 carrot, 9.6ms\n",
      "image 1003/1846 C:\\Users\\ryun1\\ds\\final_project\\final_datafile\\data\\test\\images\\carrot_5_jpg.rf.05f94a56f072e5b13d0fab5a3cd94b2d.jpg: 416x416 1 carrot, 8.5ms\n",
      "image 1004/1846 C:\\Users\\ryun1\\ds\\final_project\\final_datafile\\data\\test\\images\\carrot_5_jpg.rf.18632f65e9a09523df3cc7e898e973a5.jpg: 416x416 1 carrot, 8.3ms\n",
      "image 1005/1846 C:\\Users\\ryun1\\ds\\final_project\\final_datafile\\data\\test\\images\\carrot_6_jpg.rf.2d9a266e3a5f2c5ccd663d84fd8cb73d.jpg: 416x416 1 carrot, 8.8ms\n",
      "image 1006/1846 C:\\Users\\ryun1\\ds\\final_project\\final_datafile\\data\\test\\images\\carrot_6_jpg.rf.6f3653af1dd47863f82b9f2b4feeb74b.jpg: 416x416 1 carrot, 9.0ms\n",
      "image 1007/1846 C:\\Users\\ryun1\\ds\\final_project\\final_datafile\\data\\test\\images\\carrot_7_jpg.rf.9419c83a4542b385f1dba7d1f350b7c6.jpg: 416x416 1 carrot, 10.6ms\n",
      "image 1008/1846 C:\\Users\\ryun1\\ds\\final_project\\final_datafile\\data\\test\\images\\carrot_9_jpg.rf.6cb5bfbf62fe97ab147e9b95cefa732c.jpg: 416x416 1 carrot, 7.7ms\n"
     ]
    },
    {
     "name": "stdout",
     "output_type": "stream",
     "text": [
      "image 1009/1846 C:\\Users\\ryun1\\ds\\final_project\\final_datafile\\data\\test\\images\\cashew_nut_16_jpg.rf.7d95c8bb65bd22a37ad0d238838abc00.jpg: 416x416 9 cashews, 9.5ms\n",
      "image 1010/1846 C:\\Users\\ryun1\\ds\\final_project\\final_datafile\\data\\test\\images\\cashew_nut_22_jpg.rf.20e871f3d210a9fd4f3f29a1f2c2ab5a.jpg: 416x416 2 cashews, 10.4ms\n",
      "image 1011/1846 C:\\Users\\ryun1\\ds\\final_project\\final_datafile\\data\\test\\images\\cashew_nut_37_jpg.rf.3ca40fc07f920e09ea875c262b20c075.jpg: 416x416 4 cashews, 8.1ms\n",
      "image 1012/1846 C:\\Users\\ryun1\\ds\\final_project\\final_datafile\\data\\test\\images\\cashew_nut_52_jpg.rf.fef7d9543165819e07c5dbd72bad27f0.jpg: 416x416 2 cashews, 2 onions, 7.8ms\n",
      "image 1013/1846 C:\\Users\\ryun1\\ds\\final_project\\final_datafile\\data\\test\\images\\cashew_nut_53_jpg.rf.cabe6a7cfe278e566c685642e14d0c22.jpg: 416x416 1 cashew, 1 spinach, 7.9ms\n",
      "image 1014/1846 C:\\Users\\ryun1\\ds\\final_project\\final_datafile\\data\\test\\images\\cashew_nut_64_jpg.rf.aefccfb3b95267ece93a5b06a0f06b6a.jpg: 416x416 3 cashews, 8.6ms\n",
      "image 1015/1846 C:\\Users\\ryun1\\ds\\final_project\\final_datafile\\data\\test\\images\\cashew_nut_72_jpg.rf.2ba8a86e3d141060893858810e86eda3.jpg: 416x416 3 cashews, 1 rice_cake, 9.2ms\n",
      "image 1016/1846 C:\\Users\\ryun1\\ds\\final_project\\final_datafile\\data\\test\\images\\cashew_nut_95_jpg.rf.0907d880c4ab4c8afaf9cd6bdda114cf.jpg: 416x416 (no detections), 8.7ms\n",
      "image 1017/1846 C:\\Users\\ryun1\\ds\\final_project\\final_datafile\\data\\test\\images\\cashew_nut_9_jpg.rf.14504880fbf1d885040a85a7e5280497.jpg: 416x416 24 cashews, 9.2ms\n",
      "image 1018/1846 C:\\Users\\ryun1\\ds\\final_project\\final_datafile\\data\\test\\images\\cauliflower_100_jpg.rf.4c8280a1ea68dafd89924845ed525045.jpg: 416x416 1 cauliflower, 9.2ms\n",
      "image 1019/1846 C:\\Users\\ryun1\\ds\\final_project\\final_datafile\\data\\test\\images\\cauliflower_47_jpg.rf.48c8171af6c53b8ed9bca3983ab3416a.jpg: 416x416 2 Bagels, 8.5ms\n",
      "image 1020/1846 C:\\Users\\ryun1\\ds\\final_project\\final_datafile\\data\\test\\images\\cauliflower_65_jpg.rf.5bc5708881dd217d19102be8849d8d98.jpg: 416x416 1 cauliflower, 9.8ms\n",
      "image 1021/1846 C:\\Users\\ryun1\\ds\\final_project\\final_datafile\\data\\test\\images\\cauliflower_85_jpg.rf.d930881cce61bae068a5c63b8c6b280d.jpg: 416x416 1 cauliflower, 7.7ms\n",
      "image 1022/1846 C:\\Users\\ryun1\\ds\\final_project\\final_datafile\\data\\test\\images\\cauliflower_8_jpg.rf.bb05bab433be5b0384569692a3c7ed57.jpg: 416x416 1 rice, 10.0ms\n",
      "image 1023/1846 C:\\Users\\ryun1\\ds\\final_project\\final_datafile\\data\\test\\images\\cauliflower_91_jpg.rf.0f3c3d7ab43fbe7fbff6d5733a4f51fd.jpg: 416x416 1 cabbage, 1 cauliflower, 7.7ms\n",
      "image 1024/1846 C:\\Users\\ryun1\\ds\\final_project\\final_datafile\\data\\test\\images\\chicken-13_jpg.rf.05ccde8405b2dc4e99f23283a58ff7ea.jpg: 416x416 7 chicken wings, 8.4ms\n",
      "image 1025/1846 C:\\Users\\ryun1\\ds\\final_project\\final_datafile\\data\\test\\images\\chicken-1_jpeg.rf.96a630c760c742d0d34e52f4e211c2b6.jpg: 416x416 4 chickens, 11.0ms\n",
      "image 1026/1846 C:\\Users\\ryun1\\ds\\final_project\\final_datafile\\data\\test\\images\\chicken_breast_29_jpg.rf.59ff49d1182f37710b6a1b7d9e3ed75b.jpg: 416x416 1 chicken, 4 chicken breasts, 7.8ms\n",
      "image 1027/1846 C:\\Users\\ryun1\\ds\\final_project\\final_datafile\\data\\test\\images\\chicken_breast_58_jpg.rf.eb7193869152b69237efafd3497a1222.jpg: 416x416 1 chicken, 1 chicken breast, 10.4ms\n",
      "image 1028/1846 C:\\Users\\ryun1\\ds\\final_project\\final_datafile\\data\\test\\images\\chicken_breast_90_jpg.rf.0574928415e9341b23abffc19437f83e.jpg: 416x416 1 chicken, 8.7ms\n",
      "image 1029/1846 C:\\Users\\ryun1\\ds\\final_project\\final_datafile\\data\\test\\images\\chicken_breast_91_jpg.rf.c5ef176c3e11611edc303e7eade551c6.jpg: 416x416 2 chicken breasts, 8.9ms\n",
      "image 1030/1846 C:\\Users\\ryun1\\ds\\final_project\\final_datafile\\data\\test\\images\\chicken_breast_94_jpg.rf.7f28f360b358b30472f7c436a0b8a04a.jpg: 416x416 1 chicken breast, 1 chicken thigh, 9.8ms\n",
      "image 1031/1846 C:\\Users\\ryun1\\ds\\final_project\\final_datafile\\data\\test\\images\\chicken_thighs_50_jpg.rf.32aafe8032880087c0128878588d57ba.jpg: 416x416 3 chicken thighs, 9.2ms\n",
      "image 1032/1846 C:\\Users\\ryun1\\ds\\final_project\\final_datafile\\data\\test\\images\\chicken_thighs_70_jpg.rf.cc1a4e113ae0bc5e05207a66ad8caf90.jpg: 416x416 1 chicken thigh, 1 chicken wing, 8.5ms\n",
      "image 1033/1846 C:\\Users\\ryun1\\ds\\final_project\\final_datafile\\data\\test\\images\\chicken_thighs_72_jpg.rf.706186831f17ad23e7bdd63deb664dc0.jpg: 416x416 2 chicken thighs, 9.0ms\n",
      "image 1034/1846 C:\\Users\\ryun1\\ds\\final_project\\final_datafile\\data\\test\\images\\chicken_thighs_86_jpg.rf.9c7b7159517fc3493845cfcc8ab4e535.jpg: 416x416 4 chicken thighs, 9.1ms\n",
      "image 1035/1846 C:\\Users\\ryun1\\ds\\final_project\\final_datafile\\data\\test\\images\\chicken_thighs_89_jpg.rf.ed86af961f8669ef34203edc3b01784c.jpg: 416x416 2 chicken wings, 8.9ms\n",
      "image 1036/1846 C:\\Users\\ryun1\\ds\\final_project\\final_datafile\\data\\test\\images\\chicken_thighs_8_jpg.rf.3d7e4923181285b7dfcf6058ecd5014c.jpg: 416x416 5 chickens, 6 chicken thighs, 8.5ms\n",
      "image 1037/1846 C:\\Users\\ryun1\\ds\\final_project\\final_datafile\\data\\test\\images\\chicken_thighs_92_jpg.rf.ea3328e7208ced21cf003240046ce81f.jpg: 416x416 8 chickens, 2 chicken thighs, 8.8ms\n",
      "image 1038/1846 C:\\Users\\ryun1\\ds\\final_project\\final_datafile\\data\\test\\images\\chicken_thighs_9_jpg.rf.6aec282755252b71ac6f926b894cfd71.jpg: 416x416 2 chicken thighs, 8.8ms\n",
      "image 1039/1846 C:\\Users\\ryun1\\ds\\final_project\\final_datafile\\data\\test\\images\\chicken_wings_17_jpg.rf.333554a05df903b385741d5bfd1a5736.jpg: 416x416 1 chicken wing, 2 gingers, 8.8ms\n",
      "image 1040/1846 C:\\Users\\ryun1\\ds\\final_project\\final_datafile\\data\\test\\images\\chicken_wings_34_jpg.rf.4c6048f1a71d5777b1a516f688118fd2.jpg: 416x416 1 chicken wing, 8.4ms\n",
      "image 1041/1846 C:\\Users\\ryun1\\ds\\final_project\\final_datafile\\data\\test\\images\\chicken_wings_3_jpg.rf.39c7714950753f43e6e099e696213296.jpg: 416x416 3 chickens, 7.6ms\n",
      "image 1042/1846 C:\\Users\\ryun1\\ds\\final_project\\final_datafile\\data\\test\\images\\chicken_wings_54_jpg.rf.710e49b61f11a54a5bf4d617e4a2fe8a.jpg: 416x416 3 chicken wings, 12.4ms\n",
      "image 1043/1846 C:\\Users\\ryun1\\ds\\final_project\\final_datafile\\data\\test\\images\\chicken_wings_5_jpg.rf.f551d9d533daf6797a8d3ec0d4091436.jpg: 416x416 4 chicken wings, 8.4ms\n",
      "image 1044/1846 C:\\Users\\ryun1\\ds\\final_project\\final_datafile\\data\\test\\images\\chicken_wings_85_jpg.rf.8dbf605c0b417784fa892a2a7efc1beb.jpg: 416x416 4 chicken wings, 7.3ms\n",
      "image 1045/1846 C:\\Users\\ryun1\\ds\\final_project\\final_datafile\\data\\test\\images\\chilli_23_jpg.rf.02082cafff263fc8d2ad27c362402863.jpg: 416x416 3 chillis, 3 red chilis, 9.2ms\n",
      "image 1046/1846 C:\\Users\\ryun1\\ds\\final_project\\final_datafile\\data\\test\\images\\chilli_38_png.rf.56aca22a18426296aa34bb3085f2dec0.jpg: 416x416 13 chillis, 2 red chilis, 10.3ms\n",
      "image 1047/1846 C:\\Users\\ryun1\\ds\\final_project\\final_datafile\\data\\test\\images\\chilli_4_jpg.rf.4b3e63559a57f97216bfc46ddd47cbac.jpg: 416x416 1 chilli, 2 green chillis, 11.5ms\n",
      "image 1048/1846 C:\\Users\\ryun1\\ds\\final_project\\final_datafile\\data\\test\\images\\chilli_53_jpg.rf.c0ebe1edeaea119a6dd7d8ccbfbb6029.jpg: 416x416 4 bell peppers, 1 chilli, 7.8ms\n",
      "image 1049/1846 C:\\Users\\ryun1\\ds\\final_project\\final_datafile\\data\\test\\images\\chilli_62_JPG.rf.948eb1e0632109319ee76912ef49ec83.jpg: 416x416 3 chillis, 7.7ms\n",
      "image 1050/1846 C:\\Users\\ryun1\\ds\\final_project\\final_datafile\\data\\test\\images\\chilli_77_jpg.rf.1145b7d372107523bf68ff9bebe86bc2.jpg: 416x416 5 chillis, 1 red chili, 1 tomato, 8.2ms\n",
      "image 1051/1846 C:\\Users\\ryun1\\ds\\final_project\\final_datafile\\data\\test\\images\\chilli_8_jpg.rf.a1bc7492ad6936d3eb7c6332e012f84e.jpg: 416x416 2 bell peppers, 8.0ms\n",
      "image 1052/1846 C:\\Users\\ryun1\\ds\\final_project\\final_datafile\\data\\test\\images\\corn_12_jpg.rf.8e34186d6abe027479df15a4de7f6cc6.jpg: 416x416 3 corns, 7.4ms\n",
      "image 1053/1846 C:\\Users\\ryun1\\ds\\final_project\\final_datafile\\data\\test\\images\\corn_14_jpg.rf.2b7771bdb082a544c231eb3bb5f9219f.jpg: 416x416 1 corn, 1 lemon, 13.8ms\n",
      "image 1054/1846 C:\\Users\\ryun1\\ds\\final_project\\final_datafile\\data\\test\\images\\corn_38_jpg.rf.533d3b8ca8f32c22b54dbbbf9a6122ea.jpg: 416x416 5 corns, 8.2ms\n",
      "image 1055/1846 C:\\Users\\ryun1\\ds\\final_project\\final_datafile\\data\\test\\images\\corn_91_jpg.rf.784a68f33a4f199b0748a7e680132cca.jpg: 416x416 1 corn, 1 onion, 1 pumpkin, 7.7ms\n",
      "image 1056/1846 C:\\Users\\ryun1\\ds\\final_project\\final_datafile\\data\\test\\images\\corn_9_jpg.rf.91decfafe78053984ec2cdd0f1337a67.jpg: 416x416 6 corns, 8.7ms\n"
     ]
    },
    {
     "name": "stdout",
     "output_type": "stream",
     "text": [
      "image 1057/1846 C:\\Users\\ryun1\\ds\\final_project\\final_datafile\\data\\test\\images\\crab_12_jpg.rf.7ed551f26e179df8f7bbc4d8f64f26e1.jpg: 416x416 1 crab, 7.6ms\n",
      "image 1058/1846 C:\\Users\\ryun1\\ds\\final_project\\final_datafile\\data\\test\\images\\crab_24_jpg.rf.ecbc3d5a3381615f88626636bf637f35.jpg: 416x416 1 crab, 1 lemon, 8.3ms\n",
      "image 1059/1846 C:\\Users\\ryun1\\ds\\final_project\\final_datafile\\data\\test\\images\\crab_2_jpg.rf.24a2af99393535301206fd485aad3a71.jpg: 416x416 4 crabs, 8.3ms\n",
      "image 1060/1846 C:\\Users\\ryun1\\ds\\final_project\\final_datafile\\data\\test\\images\\crab_46_jpg.rf.d2b0d352f0b44f26dd1132a45e21a682.jpg: 416x416 1 lemon, 8.7ms\n",
      "image 1061/1846 C:\\Users\\ryun1\\ds\\final_project\\final_datafile\\data\\test\\images\\crab_56_jpg.rf.6ff4860658ae4301a3e3705906875ad3.jpg: 416x416 3 crabs, 9.3ms\n",
      "image 1062/1846 C:\\Users\\ryun1\\ds\\final_project\\final_datafile\\data\\test\\images\\crab_60_jpg.rf.861dfdb53472157f42fd735d1f48ae48.jpg: 416x416 (no detections), 9.1ms\n",
      "image 1063/1846 C:\\Users\\ryun1\\ds\\final_project\\final_datafile\\data\\test\\images\\crab_63_jpg.rf.16c9aa9d7b964a42bc33828a85d9999a.jpg: 416x416 5 crabs, 8.3ms\n",
      "image 1064/1846 C:\\Users\\ryun1\\ds\\final_project\\final_datafile\\data\\test\\images\\cucumber_10_jpg.rf.709886bed1660f418d87eb9cc1b23939.jpg: 416x416 1 cucumber, 8.2ms\n",
      "image 1065/1846 C:\\Users\\ryun1\\ds\\final_project\\final_datafile\\data\\test\\images\\cucumber_11_jpg.rf.8feaeec1ef5940adc79703d0ca76736e.jpg: 416x416 1 cucumber, 8.6ms\n",
      "image 1066/1846 C:\\Users\\ryun1\\ds\\final_project\\final_datafile\\data\\test\\images\\cucumber_12_jpg.rf.0334ede0ccd1be658474a0e55890174e.jpg: 416x416 1 cucumber, 7.9ms\n",
      "image 1067/1846 C:\\Users\\ryun1\\ds\\final_project\\final_datafile\\data\\test\\images\\cucumber_12_jpg.rf.2bd8973b20e4c4efe0ffa7444dd8b5bd.jpg: 416x416 1 cucumber, 11.6ms\n",
      "image 1068/1846 C:\\Users\\ryun1\\ds\\final_project\\final_datafile\\data\\test\\images\\cucumber_15_jpg.rf.1881e953af7ae86a958430cc36275493.jpg: 416x416 1 cucumber, 8.8ms\n",
      "image 1069/1846 C:\\Users\\ryun1\\ds\\final_project\\final_datafile\\data\\test\\images\\cucumber_17_jpg.rf.0d20736ee94018b105e4a5233b96ca27.jpg: 416x416 1 cucumber, 7.7ms\n",
      "image 1070/1846 C:\\Users\\ryun1\\ds\\final_project\\final_datafile\\data\\test\\images\\cucumber_17_jpg.rf.54f8df04a9ba09742e831dd282fadbf5.jpg: 416x416 1 cucumber, 8.7ms\n",
      "image 1071/1846 C:\\Users\\ryun1\\ds\\final_project\\final_datafile\\data\\test\\images\\cucumber_19_jpg.rf.0e00cd9dd2b0e75f383a7c054ff6e8d2.jpg: 416x416 1 cucumber, 7.7ms\n",
      "image 1072/1846 C:\\Users\\ryun1\\ds\\final_project\\final_datafile\\data\\test\\images\\cucumber_19_jpg.rf.28a57dde7e7bc6d41e2f5cc9ba2abf81.jpg: 416x416 1 cucumber, 8.6ms\n",
      "image 1073/1846 C:\\Users\\ryun1\\ds\\final_project\\final_datafile\\data\\test\\images\\cucumber_1_jpg.rf.aa8df7412dd7d73c90978a3e483c3b30.jpg: 416x416 1 cucumber, 8.7ms\n",
      "image 1074/1846 C:\\Users\\ryun1\\ds\\final_project\\final_datafile\\data\\test\\images\\cucumber_20_jpg.rf.7131ac4663c4d203f01490cd8f0368a6.jpg: 416x416 1 cucumber, 7.6ms\n",
      "image 1075/1846 C:\\Users\\ryun1\\ds\\final_project\\final_datafile\\data\\test\\images\\cucumber_21_jpg.rf.250351f1637e45a59faabee446dc22a6.jpg: 416x416 1 cucumber, 8.1ms\n",
      "image 1076/1846 C:\\Users\\ryun1\\ds\\final_project\\final_datafile\\data\\test\\images\\cucumber_24_jpg.rf.f6cef4fef38a7a2c52f36c817eccc025.jpg: 416x416 1 cucumber, 7.3ms\n",
      "image 1077/1846 C:\\Users\\ryun1\\ds\\final_project\\final_datafile\\data\\test\\images\\cucumber_25_jpg.rf.bfc7c7fc3e9500c8427bf3f6f31024f6.jpg: 416x416 1 cucumber, 8.6ms\n",
      "image 1078/1846 C:\\Users\\ryun1\\ds\\final_project\\final_datafile\\data\\test\\images\\cucumber_25_jpg.rf.fa25d724016c9f4075ac27d9c72c010c.jpg: 416x416 1 cucumber, 8.2ms\n",
      "image 1079/1846 C:\\Users\\ryun1\\ds\\final_project\\final_datafile\\data\\test\\images\\cucumber_27_jpg.rf.f228b82cd142ed1b50d46ac78da67d31.jpg: 416x416 1 cucumber, 8.5ms\n",
      "image 1080/1846 C:\\Users\\ryun1\\ds\\final_project\\final_datafile\\data\\test\\images\\cucumber_28_jpg.rf.01359bceb10ac0ddf99fe2f10e9ea315.jpg: 416x416 1 cucumber, 8.2ms\n",
      "image 1081/1846 C:\\Users\\ryun1\\ds\\final_project\\final_datafile\\data\\test\\images\\cucumber_28_jpg.rf.868e9f8dcb3c84130c9035e957d6f2df.jpg: 416x416 1 cucumber, 9.0ms\n",
      "image 1082/1846 C:\\Users\\ryun1\\ds\\final_project\\final_datafile\\data\\test\\images\\cucumber_2_jpg.rf.345967dd313e5da6b8c35e7ecd066107.jpg: 416x416 1 cucumber, 7.8ms\n",
      "image 1083/1846 C:\\Users\\ryun1\\ds\\final_project\\final_datafile\\data\\test\\images\\cucumber_2_jpg.rf.66902bb2f6c975e9edaf63f53a581ac5.jpg: 416x416 1 cucumber, 7.8ms\n",
      "image 1084/1846 C:\\Users\\ryun1\\ds\\final_project\\final_datafile\\data\\test\\images\\cucumber_2_jpg.rf.862a745509a41e5acbdf71189e0466c0.jpg: 416x416 1 cucumber, 9.0ms\n",
      "image 1085/1846 C:\\Users\\ryun1\\ds\\final_project\\final_datafile\\data\\test\\images\\cucumber_38_jpg.rf.c9f045c30d8d00234da291a944d7d185.jpg: 416x416 4 cucumbers, 7.6ms\n",
      "image 1086/1846 C:\\Users\\ryun1\\ds\\final_project\\final_datafile\\data\\test\\images\\cucumber_3_jpg.rf.881da9feee86f9588acaa0ec566c4930.jpg: 416x416 1 cucumber, 9.5ms\n",
      "image 1087/1846 C:\\Users\\ryun1\\ds\\final_project\\final_datafile\\data\\test\\images\\cucumber_47_jpg.rf.2154649fbb4c154d0160e3f71395c200.jpg: 416x416 5 cucumbers, 8.4ms\n",
      "image 1088/1846 C:\\Users\\ryun1\\ds\\final_project\\final_datafile\\data\\test\\images\\cucumber_5_jpg.rf.fc07fbb0fccb49daf0900445b743db42.jpg: 416x416 1 cucumber, 8.9ms\n",
      "image 1089/1846 C:\\Users\\ryun1\\ds\\final_project\\final_datafile\\data\\test\\images\\cucumber_6_jpg.rf.1405219cd9e4c92e8896cc47b618f5eb.jpg: 416x416 1 cucumber, 8.4ms\n",
      "image 1090/1846 C:\\Users\\ryun1\\ds\\final_project\\final_datafile\\data\\test\\images\\cucumber_72_jpg.rf.a0f820f7ebd29ae498bf6e6298e9725d.jpg: 416x416 6 cucumbers, 7.4ms\n",
      "image 1091/1846 C:\\Users\\ryun1\\ds\\final_project\\final_datafile\\data\\test\\images\\cucumber_78_jpg.rf.60f9fc5588cd4f25c8c25115654bdaa8.jpg: 416x416 3 cucumbers, 1 zucchini, 8.8ms\n",
      "image 1092/1846 C:\\Users\\ryun1\\ds\\final_project\\final_datafile\\data\\test\\images\\cucumber_7_jpg.rf.87d93c54204b70b219978069b118a979.jpg: 416x416 1 cucumber, 9.0ms\n",
      "image 1093/1846 C:\\Users\\ryun1\\ds\\final_project\\final_datafile\\data\\test\\images\\cucumber_8_jpg.rf.3c05586d4f885fcba65b146b6d6aad73.jpg: 416x416 1 cucumber, 8.4ms\n",
      "image 1094/1846 C:\\Users\\ryun1\\ds\\final_project\\final_datafile\\data\\test\\images\\cucumber_8_jpg.rf.a10884763ab037f951f29570275e7d90.jpg: 416x416 1 cucumber, 9.9ms\n",
      "image 1095/1846 C:\\Users\\ryun1\\ds\\final_project\\final_datafile\\data\\test\\images\\cucumber_9_jpg.rf.9140d895ec4f7eda9b4a92baddc16573.jpg: 416x416 1 cucumber, 9.4ms\n",
      "image 1096/1846 C:\\Users\\ryun1\\ds\\final_project\\final_datafile\\data\\test\\images\\daging-sapi-_160610081741-307_jpg.rf.de6c6a5f7b7a4b29f3f4d68fcd3e770e.jpg: 416x416 18 beefs, 2 porks, 8.2ms\n",
      "image 1097/1846 C:\\Users\\ryun1\\ds\\final_project\\final_datafile\\data\\test\\images\\daging-sapi-_jpg.rf.10366c4775dcdd0ac7f172efdee3e28b.jpg: 416x416 2 beefs, 8.8ms\n",
      "image 1098/1846 C:\\Users\\ryun1\\ds\\final_project\\final_datafile\\data\\test\\images\\daniele-levis-pelusi-kEnBCaLjstY-unsplash_jpg.rf.b639b88c77c3404e8332896d636f3e8c.jpg: 416x416 1 egg, 1 egg_, 8.0ms\n",
      "image 1099/1846 C:\\Users\\ryun1\\ds\\final_project\\final_datafile\\data\\test\\images\\diagonal-cut-carrots-2_jpg.rf.b38d60de56b77f80b95a84bd5f760b69.jpg: 416x416 7 carrots, 2 tofus, 8.7ms\n",
      "image 1100/1846 C:\\Users\\ryun1\\ds\\final_project\\final_datafile\\data\\test\\images\\download-2-_jpg.rf.8b6a14eafb687bf6349a923a50c57e7a.jpg: 416x416 4 tomatos, 8.9ms\n",
      "image 1101/1846 C:\\Users\\ryun1\\ds\\final_project\\final_datafile\\data\\test\\images\\download_jpg.rf.58a343536eac1710fba897c057025645.jpg: 416x416 1 beef, 8.0ms\n",
      "image 1102/1846 C:\\Users\\ryun1\\ds\\final_project\\final_datafile\\data\\test\\images\\download_jpg.rf.f1fca0aaf703839988c0bf10d3b1c73c.jpg: 416x416 6 chickens, 8.3ms\n",
      "image 1103/1846 C:\\Users\\ryun1\\ds\\final_project\\final_datafile\\data\\test\\images\\egg_23_jpg.rf.cfb26b4bfa7e7fddfdac1416c722d48a.jpg: 416x416 4 egg_s, 8.3ms\n",
      "image 1104/1846 C:\\Users\\ryun1\\ds\\final_project\\final_datafile\\data\\test\\images\\egg_25_jpg.rf.b54da395c8d063c792acd1d684c27e5e.jpg: 416x416 2 egg_s, 8.7ms\n",
      "image 1105/1846 C:\\Users\\ryun1\\ds\\final_project\\final_datafile\\data\\test\\images\\egg_34_jpg.rf.70b70a08c5f8a891dc791591a1daaf88.jpg: 416x416 1 egg_, 7.9ms\n",
      "image 1106/1846 C:\\Users\\ryun1\\ds\\final_project\\final_datafile\\data\\test\\images\\egg_51_jpg.rf.ab8196156b0df5ea9f80aeba9580f02a.jpg: 416x416 2 10_tangerines, 2 egg_s, 1 orange, 7.7ms\n",
      "image 1107/1846 C:\\Users\\ryun1\\ds\\final_project\\final_datafile\\data\\test\\images\\egg_57_jpg.rf.2800cb9cf73fd33ef404a9baaa600cd3.jpg: 416x416 2 lemons, 8.8ms\n"
     ]
    },
    {
     "name": "stdout",
     "output_type": "stream",
     "text": [
      "image 1108/1846 C:\\Users\\ryun1\\ds\\final_project\\final_datafile\\data\\test\\images\\egg_60_jpg.rf.294d4fc095c514b324f28daec997f62a.jpg: 416x416 7 egg_s, 7.7ms\n",
      "image 1109/1846 C:\\Users\\ryun1\\ds\\final_project\\final_datafile\\data\\test\\images\\egg_65_jpg.rf.42ca07779a4defc46c29025011180ca0.jpg: 416x416 7 egg_s, 10.8ms\n",
      "image 1110/1846 C:\\Users\\ryun1\\ds\\final_project\\final_datafile\\data\\test\\images\\egg_70_jpg.rf.68838a6e570d1426ed8eef1307274cd6.jpg: 416x416 1 egg, 2 egg_s, 7.7ms\n",
      "image 1111/1846 C:\\Users\\ryun1\\ds\\final_project\\final_datafile\\data\\test\\images\\egg_76_jpg.rf.a05f8281ee1a76f4528aadce4338478d.jpg: 416x416 4 egg_s, 7.3ms\n",
      "image 1112/1846 C:\\Users\\ryun1\\ds\\final_project\\final_datafile\\data\\test\\images\\egg_82_jpg.rf.c2e488dcff4f35a710fe1515da35edd7.jpg: 416x416 2 egg_s, 8.6ms\n",
      "image 1113/1846 C:\\Users\\ryun1\\ds\\final_project\\final_datafile\\data\\test\\images\\eggplant_10_jpg.rf.bc724f2f8d89c34f2d356c4e479e729e.jpg: 416x416 1 eggplant, 8.5ms\n",
      "image 1114/1846 C:\\Users\\ryun1\\ds\\final_project\\final_datafile\\data\\test\\images\\eggplant_10_jpg.rf.dd80f15d973abdd2150ce4fb4f455365.jpg: 416x416 1 eggplant, 8.1ms\n",
      "image 1115/1846 C:\\Users\\ryun1\\ds\\final_project\\final_datafile\\data\\test\\images\\eggplant_11_jpg.rf.8fca1ae3116f0c50be02546ab36e1c05.jpg: 416x416 1 eggplant, 8.6ms\n",
      "image 1116/1846 C:\\Users\\ryun1\\ds\\final_project\\final_datafile\\data\\test\\images\\eggplant_12_jpg.rf.d4dc83696de24eec55154b454d4bef02.jpg: 416x416 1 eggplant, 7.8ms\n",
      "image 1117/1846 C:\\Users\\ryun1\\ds\\final_project\\final_datafile\\data\\test\\images\\eggplant_13_jpg.rf.08f9975db9cf0ed64a9a93a574cbeaf0.jpg: 416x416 1 eggplant, 7.7ms\n",
      "image 1118/1846 C:\\Users\\ryun1\\ds\\final_project\\final_datafile\\data\\test\\images\\eggplant_13_jpg.rf.8e36eb9da0a59ae07e87e5164804d953.jpg: 416x416 (no detections), 10.6ms\n",
      "image 1119/1846 C:\\Users\\ryun1\\ds\\final_project\\final_datafile\\data\\test\\images\\eggplant_14_jpg.rf.e5fc94cd65cae1d8a0d07636adb1deb3.jpg: 416x416 1 eggplant, 7.5ms\n",
      "image 1120/1846 C:\\Users\\ryun1\\ds\\final_project\\final_datafile\\data\\test\\images\\eggplant_15_jpg.rf.b0cb91619eca91d34fa762dd707a9928.jpg: 416x416 1 eggplant, 7.1ms\n",
      "image 1121/1846 C:\\Users\\ryun1\\ds\\final_project\\final_datafile\\data\\test\\images\\eggplant_16_jpg.rf.8dc3f5fb6bde3dfd6004e804c2ea61a6.jpg: 416x416 1 eggplant, 11.5ms\n",
      "image 1122/1846 C:\\Users\\ryun1\\ds\\final_project\\final_datafile\\data\\test\\images\\eggplant_17_jpg.rf.53c57d47f4ec257ebfd4407afb3dd366.jpg: 416x416 1 eggplant, 7.6ms\n",
      "image 1123/1846 C:\\Users\\ryun1\\ds\\final_project\\final_datafile\\data\\test\\images\\eggplant_1_jpg.rf.67b47acd7098dd4f04224fafecd6d417.jpg: 416x416 1 eggplant, 8.0ms\n",
      "image 1124/1846 C:\\Users\\ryun1\\ds\\final_project\\final_datafile\\data\\test\\images\\eggplant_20_jpg.rf.139b486a38ae4f61cfb7fc358573d02d.jpg: 416x416 1 eggplant, 10.3ms\n",
      "image 1125/1846 C:\\Users\\ryun1\\ds\\final_project\\final_datafile\\data\\test\\images\\eggplant_20_jpg.rf.513aac589dc0fe4eab87f75a51c111ad.jpg: 416x416 1 eggplant, 7.5ms\n",
      "image 1126/1846 C:\\Users\\ryun1\\ds\\final_project\\final_datafile\\data\\test\\images\\eggplant_21_jpg.rf.21d8589e063875d7543b7cbe882d7318.jpg: 416x416 1 eggplant, 10.5ms\n",
      "image 1127/1846 C:\\Users\\ryun1\\ds\\final_project\\final_datafile\\data\\test\\images\\eggplant_21_jpg.rf.fcab86b39c1300ab951911c3c92a4051.jpg: 416x416 1 eggplant, 9.3ms\n",
      "image 1128/1846 C:\\Users\\ryun1\\ds\\final_project\\final_datafile\\data\\test\\images\\eggplant_24_jpg.rf.6fb693caab9352af6ab1718700d59176.jpg: 416x416 1 eggplant, 8.5ms\n",
      "image 1129/1846 C:\\Users\\ryun1\\ds\\final_project\\final_datafile\\data\\test\\images\\eggplant_25_jpg.rf.987dd4f9221759fb84f669150c955952.jpg: 416x416 1 eggplant, 8.7ms\n",
      "image 1130/1846 C:\\Users\\ryun1\\ds\\final_project\\final_datafile\\data\\test\\images\\eggplant_26_jpg.rf.31a1d7b79428db34008b1ca0a0998894.jpg: 416x416 1 eggplant, 8.8ms\n",
      "image 1131/1846 C:\\Users\\ryun1\\ds\\final_project\\final_datafile\\data\\test\\images\\eggplant_26_jpg.rf.af071a2f92466f2885cc7b2305883028.jpg: 416x416 1 eggplant, 8.4ms\n",
      "image 1132/1846 C:\\Users\\ryun1\\ds\\final_project\\final_datafile\\data\\test\\images\\eggplant_28_jpg.rf.f0979bf9011378f1716520dbd39239d1.jpg: 416x416 1 eggplant, 8.8ms\n",
      "image 1133/1846 C:\\Users\\ryun1\\ds\\final_project\\final_datafile\\data\\test\\images\\eggplant_2_jpg.rf.9420961243738f871a91e0e17f0c9b6b.jpg: 416x416 1 eggplant, 8.6ms\n",
      "image 1134/1846 C:\\Users\\ryun1\\ds\\final_project\\final_datafile\\data\\test\\images\\eggplant_3_jpg.rf.fd10fef831cc43b3668fa086d11d4b13.jpg: 416x416 1 eggplant, 8.4ms\n",
      "image 1135/1846 C:\\Users\\ryun1\\ds\\final_project\\final_datafile\\data\\test\\images\\eggplant_4_jpg.rf.71f9dcf6f0bdbf2094ef466b279ae59f.jpg: 416x416 1 eggplant, 1 sauce, 8.4ms\n",
      "image 1136/1846 C:\\Users\\ryun1\\ds\\final_project\\final_datafile\\data\\test\\images\\eggplant_4_jpg.rf.7c74ceca59eff1657bc4b1d950150e03.jpg: 416x416 1 eggplant, 10.3ms\n",
      "image 1137/1846 C:\\Users\\ryun1\\ds\\final_project\\final_datafile\\data\\test\\images\\eggplant_7_jpg.rf.157319560cda5b9497e4da1aad43c78c.jpg: 416x416 1 eggplant, 9.5ms\n",
      "image 1138/1846 C:\\Users\\ryun1\\ds\\final_project\\final_datafile\\data\\test\\images\\eggplant_8_jpg.rf.218f0b3cf5a3f2cb5800a6ff4bd408fe.jpg: 416x416 1 eggplant, 8.7ms\n",
      "image 1139/1846 C:\\Users\\ryun1\\ds\\final_project\\final_datafile\\data\\test\\images\\eggplant_9_jpg.rf.682077b1c75d72dfccaa416b226d1527.jpg: 416x416 1 eggplant, 8.1ms\n",
      "image 1140/1846 C:\\Users\\ryun1\\ds\\final_project\\final_datafile\\data\\test\\images\\eggplant_9_jpg.rf.b7d92276f5fd7e0c911c3ab8391fd5b5.jpg: 416x416 1 eggplant, 8.4ms\n",
      "image 1141/1846 C:\\Users\\ryun1\\ds\\final_project\\final_datafile\\data\\test\\images\\fresh-pork-meat-market_41338-1978_jpg.rf.eb7de34132b76c752742fc9efdbe826e.jpg: 416x416 17 porks, 8.8ms\n",
      "image 1142/1846 C:\\Users\\ryun1\\ds\\final_project\\final_datafile\\data\\test\\images\\fruit_jam_10_jpg.rf.432d723d9b91945b80ad96eb1112548d.jpg: 416x416 1 fruit_jam, 8.2ms\n",
      "image 1143/1846 C:\\Users\\ryun1\\ds\\final_project\\final_datafile\\data\\test\\images\\fruit_jam_10_jpg.rf.e45fcbe64724ec5c4c930525e6d4a07d.jpg: 416x416 1 fruit_jam, 7.2ms\n",
      "image 1144/1846 C:\\Users\\ryun1\\ds\\final_project\\final_datafile\\data\\test\\images\\fruit_jam_12_jpg.rf.8bb4f9905009b71045f77b491b9d5ecc.jpg: 416x416 1 fruit_jam, 8.2ms\n",
      "image 1145/1846 C:\\Users\\ryun1\\ds\\final_project\\final_datafile\\data\\test\\images\\fruit_jam_12_jpg.rf.da5b00893303cef8b243352d749e687a.jpg: 416x416 1 fruit_jam, 8.6ms\n",
      "image 1146/1846 C:\\Users\\ryun1\\ds\\final_project\\final_datafile\\data\\test\\images\\fruit_jam_13_jpg.rf.341845a6ce0803de87a8d0f992fd2ef6.jpg: 416x416 1 fruit_jam, 7.1ms\n",
      "image 1147/1846 C:\\Users\\ryun1\\ds\\final_project\\final_datafile\\data\\test\\images\\fruit_jam_14_jpg.rf.355b9e89b2a304ff065d6737d0b655ad.jpg: 416x416 1 fruit_jam, 7.5ms\n",
      "image 1148/1846 C:\\Users\\ryun1\\ds\\final_project\\final_datafile\\data\\test\\images\\fruit_jam_14_jpg.rf.ae4a1fe0ec05f6e29226665344f82100.jpg: 416x416 1 fruit_jam, 9.2ms\n",
      "image 1149/1846 C:\\Users\\ryun1\\ds\\final_project\\final_datafile\\data\\test\\images\\fruit_jam_15_jpg.rf.c4363bfd5eefb1558d5716f70ec0c5c1.jpg: 416x416 1 fruit_jam, 8.0ms\n",
      "image 1150/1846 C:\\Users\\ryun1\\ds\\final_project\\final_datafile\\data\\test\\images\\fruit_jam_16_jpg.rf.96b0e76dc457a1be59a0068063f44611.jpg: 416x416 1 fruit_jam, 8.1ms\n",
      "image 1151/1846 C:\\Users\\ryun1\\ds\\final_project\\final_datafile\\data\\test\\images\\fruit_jam_20_jpg.rf.8b5afd4f1108e4edfbb66764d085b9f8.jpg: 416x416 1 fruit_jam, 8.1ms\n",
      "image 1152/1846 C:\\Users\\ryun1\\ds\\final_project\\final_datafile\\data\\test\\images\\fruit_jam_20_jpg.rf.9dac480b92a8d952a8a11b4ef2837613.jpg: 416x416 1 fruit_jam, 8.0ms\n",
      "image 1153/1846 C:\\Users\\ryun1\\ds\\final_project\\final_datafile\\data\\test\\images\\fruit_jam_21_jpg.rf.08b997b6d45feea188b07c086086d2c0.jpg: 416x416 1 fruit_jam, 10.4ms\n",
      "image 1154/1846 C:\\Users\\ryun1\\ds\\final_project\\final_datafile\\data\\test\\images\\fruit_jam_21_jpg.rf.b796d878bc262d0c0798d30447671e30.jpg: 416x416 1 fruit_jam, 8.2ms\n",
      "image 1155/1846 C:\\Users\\ryun1\\ds\\final_project\\final_datafile\\data\\test\\images\\fruit_jam_21_jpg.rf.d55891d93676bcf6dce18989ffddc73c.jpg: 416x416 1 fruit_jam, 8.1ms\n",
      "image 1156/1846 C:\\Users\\ryun1\\ds\\final_project\\final_datafile\\data\\test\\images\\fruit_jam_23_jpg.rf.c55eda5145c0ab230a0c79778dda86f0.jpg: 416x416 1 fruit_jam, 10.8ms\n",
      "image 1157/1846 C:\\Users\\ryun1\\ds\\final_project\\final_datafile\\data\\test\\images\\fruit_jam_24_jpg.rf.151fe41cc70c3f617a4a85240ba9736d.jpg: 416x416 1 fruit_jam, 9.1ms\n",
      "image 1158/1846 C:\\Users\\ryun1\\ds\\final_project\\final_datafile\\data\\test\\images\\fruit_jam_25_jpg.rf.f48ce09cecb358aa2fe5e50495afca57.jpg: 416x416 1 fruit_jam, 8.2ms\n"
     ]
    },
    {
     "name": "stdout",
     "output_type": "stream",
     "text": [
      "image 1159/1846 C:\\Users\\ryun1\\ds\\final_project\\final_datafile\\data\\test\\images\\fruit_jam_29_jpg.rf.a45d6af7ecd143b25f78984081feac54.jpg: 416x416 1 fruit_jam, 8.0ms\n",
      "image 1160/1846 C:\\Users\\ryun1\\ds\\final_project\\final_datafile\\data\\test\\images\\fruit_jam_29_jpg.rf.bdb022de4199410c77e8252a9c53fbce.jpg: 416x416 1 fruit_jam, 8.2ms\n",
      "image 1161/1846 C:\\Users\\ryun1\\ds\\final_project\\final_datafile\\data\\test\\images\\fruit_jam_2_jpg.rf.b25565ce5ab214c17cda553107ad8bed.jpg: 416x416 1 fruit_jam, 7.1ms\n",
      "image 1162/1846 C:\\Users\\ryun1\\ds\\final_project\\final_datafile\\data\\test\\images\\fruit_jam_3_jpg.rf.6a6b7cf7579ecde3cf8fd7b86594eeee.jpg: 416x416 1 fruit_jam, 7.2ms\n",
      "image 1163/1846 C:\\Users\\ryun1\\ds\\final_project\\final_datafile\\data\\test\\images\\fruit_jam_3_jpg.rf.ab89e5e4b645e277e943842370a72098.jpg: 416x416 1 fruit_jam, 8.7ms\n",
      "image 1164/1846 C:\\Users\\ryun1\\ds\\final_project\\final_datafile\\data\\test\\images\\fruit_jam_4_jpg.rf.ac7f6b50946f195d6c831aa3db3f60eb.jpg: 416x416 1 fruit_jam, 9.8ms\n",
      "image 1165/1846 C:\\Users\\ryun1\\ds\\final_project\\final_datafile\\data\\test\\images\\fruit_jam_4_jpg.rf.cbc6b75c6a7320a6107293a0bb765a92.jpg: 416x416 1 fruit_jam, 7.7ms\n",
      "image 1166/1846 C:\\Users\\ryun1\\ds\\final_project\\final_datafile\\data\\test\\images\\fruit_jam_6_jpg.rf.32ac317fd91799853fe737e95c72fbe2.jpg: 416x416 1 fruit_jam, 9.0ms\n",
      "image 1167/1846 C:\\Users\\ryun1\\ds\\final_project\\final_datafile\\data\\test\\images\\fruit_jam_7_jpg.rf.2a03af975a4d1538be4529fe498657d1.jpg: 416x416 1 fruit_jam, 7.8ms\n",
      "image 1168/1846 C:\\Users\\ryun1\\ds\\final_project\\final_datafile\\data\\test\\images\\fruit_jam_7_jpg.rf.638e26efd1eff3be08ea0c2d96cde87a.jpg: 416x416 1 fruit_jam, 9.0ms\n",
      "image 1169/1846 C:\\Users\\ryun1\\ds\\final_project\\final_datafile\\data\\test\\images\\fruit_jam_9_jpg.rf.928eaf995adf5fd9c6d3884dbfa0fd9e.jpg: 416x416 1 fruit_jam, 8.7ms\n",
      "image 1170/1846 C:\\Users\\ryun1\\ds\\final_project\\final_datafile\\data\\test\\images\\garlic_11_jpg.rf.bd5fddc9d3b27c82bbbc67b6ed9c780a.jpg: 416x416 5 garlics, 8.9ms\n",
      "image 1171/1846 C:\\Users\\ryun1\\ds\\final_project\\final_datafile\\data\\test\\images\\garlic_13_jpeg.rf.b00a4a813059e62e751a5b13697ec7aa.jpg: 416x416 5 garlics, 8.3ms\n",
      "image 1172/1846 C:\\Users\\ryun1\\ds\\final_project\\final_datafile\\data\\test\\images\\garlic_22_jpg.rf.1b35c45c10bc191b0296e4ecd962423a.jpg: 416x416 5 garlics, 9.1ms\n",
      "image 1173/1846 C:\\Users\\ryun1\\ds\\final_project\\final_datafile\\data\\test\\images\\garlic_25_jpg.rf.809805a0a9ced2e0a3eac0c9c0f50c96.jpg: 416x416 2 garlics, 8.1ms\n",
      "image 1174/1846 C:\\Users\\ryun1\\ds\\final_project\\final_datafile\\data\\test\\images\\garlic_28_jpg.rf.fb5697573799cc4d19d33b399e223dc1.jpg: 416x416 (no detections), 10.4ms\n",
      "image 1175/1846 C:\\Users\\ryun1\\ds\\final_project\\final_datafile\\data\\test\\images\\garlic_41_jpg.rf.6e84891127e62027cdc9ffe4a50d63d7.jpg: 416x416 2 garlics, 8.4ms\n",
      "image 1176/1846 C:\\Users\\ryun1\\ds\\final_project\\final_datafile\\data\\test\\images\\garlic_53_jpg.rf.c634d8708173c20cbfaf428254820dab.jpg: 416x416 6 garlics, 10.1ms\n",
      "image 1177/1846 C:\\Users\\ryun1\\ds\\final_project\\final_datafile\\data\\test\\images\\garlic_58_jpg.rf.3ec0b2c38309670d9f3ecabf1871a029.jpg: 416x416 8 garlics, 8.2ms\n",
      "image 1178/1846 C:\\Users\\ryun1\\ds\\final_project\\final_datafile\\data\\test\\images\\garlic_64_jpg.rf.4d68e635ac5ebbd47ef1dda3110fda47.jpg: 416x416 1 garlic, 7.7ms\n",
      "image 1179/1846 C:\\Users\\ryun1\\ds\\final_project\\final_datafile\\data\\test\\images\\garlic_66_jpg.rf.e8760629d20ff06376fa2cd7fe6ef414.jpg: 416x416 4 garlics, 7.7ms\n",
      "image 1180/1846 C:\\Users\\ryun1\\ds\\final_project\\final_datafile\\data\\test\\images\\ginger_22_jpg.rf.d0f8dff3cfffb94f469c7601e35f0a70.jpg: 416x416 1 ginger, 9.3ms\n",
      "image 1181/1846 C:\\Users\\ryun1\\ds\\final_project\\final_datafile\\data\\test\\images\\ginger_29_jpg.rf.d744baefce591d3f27996c62f8fee3e6.jpg: 416x416 1 ginger, 9.1ms\n",
      "image 1182/1846 C:\\Users\\ryun1\\ds\\final_project\\final_datafile\\data\\test\\images\\ginger_31_jpg.rf.19a05b3fd86dad889ab783d943079474.jpg: 416x416 2 gingers, 8.1ms\n",
      "image 1183/1846 C:\\Users\\ryun1\\ds\\final_project\\final_datafile\\data\\test\\images\\ginger_57_png.rf.d4783e06386060546fecc6bf9022fb50.jpg: 416x416 4 gingers, 9.2ms\n",
      "image 1184/1846 C:\\Users\\ryun1\\ds\\final_project\\final_datafile\\data\\test\\images\\ginger_65_jpg.rf.a3aa68d142d541f609ab237ec94282e1.jpg: 416x416 2 gingers, 9.4ms\n",
      "image 1185/1846 C:\\Users\\ryun1\\ds\\final_project\\final_datafile\\data\\test\\images\\good-161-_jpg.rf.e40b83a5c512802d7716df59eea59964.jpg: 416x416 1 tomato, 8.6ms\n",
      "image 1186/1846 C:\\Users\\ryun1\\ds\\final_project\\final_datafile\\data\\test\\images\\grapes_1_jpg.rf.f330708e4697a31dccaad9bdf2287bd9.jpg: 416x416 2 grapess, 8.4ms\n",
      "image 1187/1846 C:\\Users\\ryun1\\ds\\final_project\\final_datafile\\data\\test\\images\\grapes_22_jpg.rf.d499ca81efc8f63688d721ca04ed6f00.jpg: 416x416 8 grapess, 8.5ms\n",
      "image 1188/1846 C:\\Users\\ryun1\\ds\\final_project\\final_datafile\\data\\test\\images\\grapes_31_jpg.rf.ec94c049acb3230892f7318b65ffbb57.jpg: 416x416 2 grapess, 8.7ms\n",
      "image 1189/1846 C:\\Users\\ryun1\\ds\\final_project\\final_datafile\\data\\test\\images\\grapes_38_jpg.rf.3f121ca134bbde1e5a3c935ace933000.jpg: 416x416 2 grapess, 9.0ms\n",
      "image 1190/1846 C:\\Users\\ryun1\\ds\\final_project\\final_datafile\\data\\test\\images\\grapes_39_jpg.rf.4b0774b7efbeb876a7a14643d7cc9d1b.jpg: 416x416 1 grapes, 8.3ms\n",
      "image 1191/1846 C:\\Users\\ryun1\\ds\\final_project\\final_datafile\\data\\test\\images\\grapes_51_jpg.rf.da3b3cc22417cb2546ec4b513d326df8.jpg: 416x416 5 grapess, 8.8ms\n",
      "image 1192/1846 C:\\Users\\ryun1\\ds\\final_project\\final_datafile\\data\\test\\images\\grapes_57_jpeg.rf.a013d712f913392cc22c1fbc82573c99.jpg: 416x416 3 grapess, 9.2ms\n",
      "image 1193/1846 C:\\Users\\ryun1\\ds\\final_project\\final_datafile\\data\\test\\images\\grapes_59_png.rf.16bd207c7c80b397539629dacdfd3e6c.jpg: 416x416 1 grapes, 7.7ms\n",
      "image 1194/1846 C:\\Users\\ryun1\\ds\\final_project\\final_datafile\\data\\test\\images\\grapes_68_jpg.rf.89c7362512eb4478c8a05d618b36607c.jpg: 416x416 1 grapes, 10.2ms\n",
      "image 1195/1846 C:\\Users\\ryun1\\ds\\final_project\\final_datafile\\data\\test\\images\\grapes_72_jpg.rf.80ebe5c7c3370551191bb2be76fc3326.jpg: 416x416 1 grapes, 8.3ms\n",
      "image 1196/1846 C:\\Users\\ryun1\\ds\\final_project\\final_datafile\\data\\test\\images\\grapes_87_jpg.rf.2b24329f66e6086dfdc8e8a2c92c2d18.jpg: 416x416 1 grapes, 7.6ms\n",
      "image 1197/1846 C:\\Users\\ryun1\\ds\\final_project\\final_datafile\\data\\test\\images\\grapes_92_jpg.rf.08ec0ad331da8e92f1f9595b29efb530.jpg: 416x416 1 grapes, 8.8ms\n",
      "image 1198/1846 C:\\Users\\ryun1\\ds\\final_project\\final_datafile\\data\\test\\images\\grapes_94_jpg.rf.77498ac47d0c75fc66b2a636e9ade2b3.jpg: 416x416 1 grapes, 8.2ms\n",
      "image 1199/1846 C:\\Users\\ryun1\\ds\\final_project\\final_datafile\\data\\test\\images\\grapes_9_jpg.rf.9f03fea485747cb4c0b27b3ff619c69f.jpg: 416x416 6 grapess, 8.1ms\n",
      "image 1200/1846 C:\\Users\\ryun1\\ds\\final_project\\final_datafile\\data\\test\\images\\haley-hamilton-HxNunc_vnlg-unsplash_jpg.rf.3f5db545b64f3386cb1a0b7872a1e6dd.jpg: 416x416 6 eggs, 2 egg_s, 9.2ms\n",
      "image 1201/1846 C:\\Users\\ryun1\\ds\\final_project\\final_datafile\\data\\test\\images\\ilustrasi-daging-sapi_169_jpeg.rf.abd20ef632435b54a05f3bf32dabf44f.jpg: 416x416 6 beefs, 10.7ms\n",
      "image 1202/1846 C:\\Users\\ryun1\\ds\\final_project\\final_datafile\\data\\test\\images\\images-14-1-_jpg.rf.8f1f6a8d8e83f679fe1dcde5ba3573eb.jpg: 416x416 5 green chillis, 8.2ms\n",
      "image 1203/1846 C:\\Users\\ryun1\\ds\\final_project\\final_datafile\\data\\test\\images\\images-14-_jpg.rf.552d5bdaf11967872c907767fef41b0f.jpg: 416x416 3 porks, 8.1ms\n",
      "image 1204/1846 C:\\Users\\ryun1\\ds\\final_project\\final_datafile\\data\\test\\images\\images-15-_jpg.rf.d15eb85bd6d640454dc9ec7eb5d0a164.jpg: 416x416 4 green chillis, 8.7ms\n",
      "image 1205/1846 C:\\Users\\ryun1\\ds\\final_project\\final_datafile\\data\\test\\images\\images-15-_jpg.rf.e79782b6aad34e5c7d1b7cb4171a6c56.jpg: 416x416 1 beef, 8.7ms\n",
      "image 1206/1846 C:\\Users\\ryun1\\ds\\final_project\\final_datafile\\data\\test\\images\\images-18-1-_jpg.rf.175597ba2552872c51163c7604167741.jpg: 416x416 11 green chillis, 8.7ms\n",
      "image 1207/1846 C:\\Users\\ryun1\\ds\\final_project\\final_datafile\\data\\test\\images\\images-2-_jpg.rf.6dae2fe826efd6b744178a36c24908ba.jpg: 416x416 1 beef, 8.5ms\n",
      "image 1208/1846 C:\\Users\\ryun1\\ds\\final_project\\final_datafile\\data\\test\\images\\images-2-_jpg.rf.a849366b50b2daf200d1220bc2102c9c.jpg: 416x416 8 chicken breasts, 9.9ms\n",
      "image 1209/1846 C:\\Users\\ryun1\\ds\\final_project\\final_datafile\\data\\test\\images\\images-21-_jpg.rf.d42a503b3b5623dc19d4a49fddd765f8.jpg: 416x416 2 chickens, 8.7ms\n"
     ]
    },
    {
     "name": "stdout",
     "output_type": "stream",
     "text": [
      "image 1210/1846 C:\\Users\\ryun1\\ds\\final_project\\final_datafile\\data\\test\\images\\images-23-_jpg.rf.649ddd17a4e529eae92da12546d9e68f.jpg: 416x416 3 chickens, 7.3ms\n",
      "image 1211/1846 C:\\Users\\ryun1\\ds\\final_project\\final_datafile\\data\\test\\images\\images-26-_jpg.rf.75c00986d39eea734b518ca4b263ca66.jpg: 416x416 1 beef, 7.8ms\n",
      "image 1212/1846 C:\\Users\\ryun1\\ds\\final_project\\final_datafile\\data\\test\\images\\images-27-_jpg.rf.62a87214a63eadc0d86c7c867914aa57.jpg: 416x416 2 beefs, 2 porks, 7.8ms\n",
      "image 1213/1846 C:\\Users\\ryun1\\ds\\final_project\\final_datafile\\data\\test\\images\\images-28-_jpg.rf.02d74195c665136dac6841c24d386192.jpg: 416x416 5 green chillis, 7.7ms\n",
      "image 1214/1846 C:\\Users\\ryun1\\ds\\final_project\\final_datafile\\data\\test\\images\\images-32-_jpg.rf.23eb7065966a591aaf0712e6a44c28a2.jpg: 416x416 1 pork, 1 pork belly, 9.1ms\n",
      "image 1215/1846 C:\\Users\\ryun1\\ds\\final_project\\final_datafile\\data\\test\\images\\images-5-_jpg.rf.3a1318b4242a249458d0e659a733f616.jpg: 416x416 3 green chillis, 7.7ms\n",
      "image 1216/1846 C:\\Users\\ryun1\\ds\\final_project\\final_datafile\\data\\test\\images\\images-57-_jpg.rf.b268def45c94771121b26f5e9df31b78.jpg: 416x416 1 bell pepper, 1 tomato, 8.7ms\n",
      "image 1217/1846 C:\\Users\\ryun1\\ds\\final_project\\final_datafile\\data\\test\\images\\images-6-_jpg.rf.38b3a39484de175a861e6b7f8e75acfe.jpg: 416x416 3 beefs, 8.1ms\n",
      "image 1218/1846 C:\\Users\\ryun1\\ds\\final_project\\final_datafile\\data\\test\\images\\images_jpg.rf.17af46b025e593a737da486bcf6f35cd.jpg: 416x416 2 carrots, 7.6ms\n",
      "image 1219/1846 C:\\Users\\ryun1\\ds\\final_project\\final_datafile\\data\\test\\images\\img291_jpg.rf.2e92890c9fb01981cba6a19ae7057ec3.jpg: 416x416 1 tomato, 8.2ms\n",
      "image 1220/1846 C:\\Users\\ryun1\\ds\\final_project\\final_datafile\\data\\test\\images\\incik-113-_jpg.rf.e71adf9023fff7941e886fc2ce630482.jpg: 416x416 1 beef, 8.3ms\n",
      "image 1221/1846 C:\\Users\\ryun1\\ds\\final_project\\final_datafile\\data\\test\\images\\incik-117-_jpg.rf.2686f8f579863ff1b0e31fd68bd48558.jpg: 416x416 2 beefs, 7.7ms\n",
      "image 1222/1846 C:\\Users\\ryun1\\ds\\final_project\\final_datafile\\data\\test\\images\\incik-125-_jpg.rf.91202263bac8cf6f32a946b810adca63.jpg: 416x416 2 beefs, 8.2ms\n",
      "image 1223/1846 C:\\Users\\ryun1\\ds\\final_project\\final_datafile\\data\\test\\images\\incik-139-_jpg.rf.c9eca4a031e00c76877ae126f1bafe12.jpg: 416x416 1 beef, 7.7ms\n",
      "image 1224/1846 C:\\Users\\ryun1\\ds\\final_project\\final_datafile\\data\\test\\images\\incik-142-_jpg.rf.ba5936bec45a2ad190f5cba53d482f4e.jpg: 416x416 2 beefs, 8.4ms\n",
      "image 1225/1846 C:\\Users\\ryun1\\ds\\final_project\\final_datafile\\data\\test\\images\\incik-145-_jpg.rf.d9944c212cab56bd3b4e65dda0d0db45.jpg: 416x416 3 beefs, 7.3ms\n",
      "image 1226/1846 C:\\Users\\ryun1\\ds\\final_project\\final_datafile\\data\\test\\images\\incik-148-_jpg.rf.e3917dc6bdf4c296d99bc74ed2a2791a.jpg: 416x416 1 beef, 8.8ms\n",
      "image 1227/1846 C:\\Users\\ryun1\\ds\\final_project\\final_datafile\\data\\test\\images\\incik-161-_jpg.rf.95154979330a8d06bd2ba41884a31d97.jpg: 416x416 1 beef, 8.5ms\n",
      "image 1228/1846 C:\\Users\\ryun1\\ds\\final_project\\final_datafile\\data\\test\\images\\incik-169-_jpg.rf.a1a3021eb426d81769cb6018e2bc07cc.jpg: 416x416 1 beef, 8.8ms\n",
      "image 1229/1846 C:\\Users\\ryun1\\ds\\final_project\\final_datafile\\data\\test\\images\\incik-173-_jpg.rf.0373b2cd75c14f48f8844334775c6580.jpg: 416x416 1 beef, 8.7ms\n",
      "image 1230/1846 C:\\Users\\ryun1\\ds\\final_project\\final_datafile\\data\\test\\images\\incik-182-_jpg.rf.22ec45939a5fb899d5821d23d8a4389b.jpg: 416x416 1 beef, 8.6ms\n",
      "image 1231/1846 C:\\Users\\ryun1\\ds\\final_project\\final_datafile\\data\\test\\images\\incik-21-_jpg.rf.72d3a9507e18639a7bfae0744d751825.jpg: 416x416 2 beefs, 9.0ms\n",
      "image 1232/1846 C:\\Users\\ryun1\\ds\\final_project\\final_datafile\\data\\test\\images\\incik-23-_jpg.rf.308ad1bc6498480c288337dafb45f791.jpg: 416x416 2 beefs, 7.3ms\n",
      "image 1233/1846 C:\\Users\\ryun1\\ds\\final_project\\final_datafile\\data\\test\\images\\incik-39-_jpg.rf.b62589ed84d6e8b1f1a7f2f85e73e2bf.jpg: 416x416 4 beefs, 9.3ms\n",
      "image 1234/1846 C:\\Users\\ryun1\\ds\\final_project\\final_datafile\\data\\test\\images\\incik-40-_jpg.rf.cd3df1b82d100a2b726be94dae634997.jpg: 416x416 1 beef, 9.2ms\n",
      "image 1235/1846 C:\\Users\\ryun1\\ds\\final_project\\final_datafile\\data\\test\\images\\incik-80-_jpg.rf.1902439f3cb569b8ec6e9e5b908a26e3.jpg: 416x416 2 beefs, 9.4ms\n",
      "image 1236/1846 C:\\Users\\ryun1\\ds\\final_project\\final_datafile\\data\\test\\images\\incik-91-_jpg.rf.aa93cd1113658b9743363768bd327a5d.jpg: 416x416 1 beef, 8.8ms\n",
      "image 1237/1846 C:\\Users\\ryun1\\ds\\final_project\\final_datafile\\data\\test\\images\\istockphoto-1275039389-612x612_jpg.rf.1b7c459a46f65f7652b5434bed6b08c2.jpg: 416x416 3 avocados, 1 tomato, 8.4ms\n",
      "image 1238/1846 C:\\Users\\ryun1\\ds\\final_project\\final_datafile\\data\\test\\images\\istockphoto-137861064-612x612_jpg.rf.b481024b7f721a74d73dbbc3614c44d6.jpg: 416x416 1 egg, 8.9ms\n",
      "image 1239/1846 C:\\Users\\ryun1\\ds\\final_project\\final_datafile\\data\\test\\images\\istockphoto-175260546-612x612_jpg.rf.bde8c4c513377ef57378796793b36965.jpg: 416x416 1 pork, 7.7ms\n",
      "image 1240/1846 C:\\Users\\ryun1\\ds\\final_project\\final_datafile\\data\\test\\images\\istockphoto-507372419-170667a_jpg.rf.bcfd7abe3a803c50da9cd8d239e8d480.jpg: 416x416 9 red chilis, 8.8ms\n",
      "image 1241/1846 C:\\Users\\ryun1\\ds\\final_project\\final_datafile\\data\\test\\images\\istockphoto-924202150-170667a-1-_jpg.rf.0351d9fb4f0e26ee1e270eb08a7e4b6a.jpg: 416x416 2 eggs, 8.2ms\n",
      "image 1242/1846 C:\\Users\\ryun1\\ds\\final_project\\final_datafile\\data\\test\\images\\jahe-emprit-047_jpg.rf.d1fa39347fdb2c2e88427ea346b301e6.jpg: 416x416 4 gingers, 7.8ms\n",
      "image 1243/1846 C:\\Users\\ryun1\\ds\\final_project\\final_datafile\\data\\test\\images\\jahe-emprit-066_jpg.rf.26b5068d883f9a64d71ea8b7c75aa68a.jpg: 416x416 1 ginger, 8.1ms\n",
      "image 1244/1846 C:\\Users\\ryun1\\ds\\final_project\\final_datafile\\data\\test\\images\\jahe-emprit-076_jpg.rf.c2b886f80420964392fce6c998a527e0.jpg: 416x416 1 ginger, 7.2ms\n",
      "image 1245/1846 C:\\Users\\ryun1\\ds\\final_project\\final_datafile\\data\\test\\images\\jahe-emprit-091_jpg.rf.96d35802d3b28e9f90461abfdd749837.jpg: 416x416 1 ginger, 9.1ms\n",
      "image 1246/1846 C:\\Users\\ryun1\\ds\\final_project\\final_datafile\\data\\test\\images\\jahe-emprit-092_jpg.rf.17a72a4247ec5ed063ad766b72522f7a.jpg: 416x416 1 ginger, 8.9ms\n",
      "image 1247/1846 C:\\Users\\ryun1\\ds\\final_project\\final_datafile\\data\\test\\images\\jahe-emprit-105_jpg.rf.fa698bf49a83eba1f71de294125f67bc.jpg: 416x416 1 ginger, 7.4ms\n",
      "image 1248/1846 C:\\Users\\ryun1\\ds\\final_project\\final_datafile\\data\\test\\images\\jahe-emprit-112_jpg.rf.ecb1a75d38fc2adfeac1537849215009.jpg: 416x416 1 ginger, 9.9ms\n",
      "image 1249/1846 C:\\Users\\ryun1\\ds\\final_project\\final_datafile\\data\\test\\images\\jahe-merah-050_jpg.rf.b3c357653792e0bc256abe209c35a7fe.jpg: 416x416 8 gingers, 9.3ms\n",
      "image 1250/1846 C:\\Users\\ryun1\\ds\\final_project\\final_datafile\\data\\test\\images\\jahe-merah-067_jpg.rf.0d920e3d61ac047804015dbfc829b0dc.jpg: 416x416 2 gingers, 10.7ms\n",
      "image 1251/1846 C:\\Users\\ryun1\\ds\\final_project\\final_datafile\\data\\test\\images\\jahe-merah-105_jpg.rf.eac3a89874d95a3fd74cde9155ab85a5.jpg: 416x416 1 ginger, 8.3ms\n",
      "image 1252/1846 C:\\Users\\ryun1\\ds\\final_project\\final_datafile\\data\\test\\images\\jahe-putih-020_jpg.rf.ee3985072a5dab78e06f98b50ff85393.jpg: 416x416 1 ginger, 9.5ms\n",
      "image 1253/1846 C:\\Users\\ryun1\\ds\\final_project\\final_datafile\\data\\test\\images\\jahe-putih-076_jpg.rf.b6b284ecf0b0a6fce342d61e34943702.jpg: 416x416 1 ginger, 10.3ms\n",
      "image 1254/1846 C:\\Users\\ryun1\\ds\\final_project\\final_datafile\\data\\test\\images\\jiangxulei1990-eIzzzwtkBjU-unsplash_jpg.rf.70463b9a4d5fd4e03db13d9438e5e4aa.jpg: 416x416 4 eggs, 3 egg_s, 9.3ms\n",
      "image 1255/1846 C:\\Users\\ryun1\\ds\\final_project\\final_datafile\\data\\test\\images\\katie-bernotsky-PHxUUcl327k-unsplash_jpg.rf.6f65d0c15bff8defc7502c09d540e273.jpg: 416x416 9 eggs, 8.9ms\n",
      "image 1256/1846 C:\\Users\\ryun1\\ds\\final_project\\final_datafile\\data\\test\\images\\kiwi_10_jpg.rf.68b1f77133c64f14f883c19a9eff54c0.jpg: 416x416 1 kiwi, 10.2ms\n",
      "image 1257/1846 C:\\Users\\ryun1\\ds\\final_project\\final_datafile\\data\\test\\images\\kiwi_11_jpg.rf.ba84b896404651102fc671b785ec1243.jpg: 416x416 1 kiwi, 8.5ms\n",
      "image 1258/1846 C:\\Users\\ryun1\\ds\\final_project\\final_datafile\\data\\test\\images\\kiwi_12_jpg.rf.089bddb5f5b7325173e28f4a1295ad0a.jpg: 416x416 1 kiwi, 10.4ms\n",
      "image 1259/1846 C:\\Users\\ryun1\\ds\\final_project\\final_datafile\\data\\test\\images\\kiwi_12_jpg.rf.095008394a83347577687f293639f8fe.jpg: 416x416 1 kiwi, 10.5ms\n"
     ]
    },
    {
     "name": "stdout",
     "output_type": "stream",
     "text": [
      "image 1260/1846 C:\\Users\\ryun1\\ds\\final_project\\final_datafile\\data\\test\\images\\kiwi_12_jpg.rf.aa48f67f2c0c95e4810c72f804b6f6c9.jpg: 416x416 1 kiwi, 10.1ms\n",
      "image 1261/1846 C:\\Users\\ryun1\\ds\\final_project\\final_datafile\\data\\test\\images\\kiwi_15_jpg.rf.79a301ca938598a7ca0dc80df994e62b.jpg: 416x416 1 kiwi, 7.6ms\n",
      "image 1262/1846 C:\\Users\\ryun1\\ds\\final_project\\final_datafile\\data\\test\\images\\kiwi_16_jpg.rf.daad8c0c19f142f436bc323c87df4ddd.jpg: 416x416 1 kiwi, 7.8ms\n",
      "image 1263/1846 C:\\Users\\ryun1\\ds\\final_project\\final_datafile\\data\\test\\images\\kiwi_17_jpg.rf.3657962512cda5ba8ff37ac33ee10f85.jpg: 416x416 1 kiwi, 10.1ms\n",
      "image 1264/1846 C:\\Users\\ryun1\\ds\\final_project\\final_datafile\\data\\test\\images\\kiwi_19_jpg.rf.2aa43ce8af8635b6784042d638f14ddf.jpg: 416x416 1 kiwi, 9.6ms\n",
      "image 1265/1846 C:\\Users\\ryun1\\ds\\final_project\\final_datafile\\data\\test\\images\\kiwi_1_jpg.rf.00053fe411fdfc6b1a407eb10e179526.jpg: 416x416 1 kiwi, 10.2ms\n",
      "image 1266/1846 C:\\Users\\ryun1\\ds\\final_project\\final_datafile\\data\\test\\images\\kiwi_21_jpg.rf.514346f81407fd089940aaf2193b1a11.jpg: 416x416 1 kiwi, 7.5ms\n",
      "image 1267/1846 C:\\Users\\ryun1\\ds\\final_project\\final_datafile\\data\\test\\images\\kiwi_23_jpg.rf.9a3df7a21d79170a468439c6f86cca4f.jpg: 416x416 1 kiwi, 9.0ms\n",
      "image 1268/1846 C:\\Users\\ryun1\\ds\\final_project\\final_datafile\\data\\test\\images\\kiwi_24_jpg.rf.4c58794280bec7eeeccb6eeae66cef80.jpg: 416x416 1 kiwi, 8.6ms\n",
      "image 1269/1846 C:\\Users\\ryun1\\ds\\final_project\\final_datafile\\data\\test\\images\\kiwi_24_jpg.rf.4d0e78b4018d432f981e86aa06aaa4f6.jpg: 416x416 1 kiwi, 8.2ms\n",
      "image 1270/1846 C:\\Users\\ryun1\\ds\\final_project\\final_datafile\\data\\test\\images\\kiwi_24_jpg.rf.68d7039258c41a5293b7b8da6bae08b7.jpg: 416x416 1 kiwi, 9.7ms\n",
      "image 1271/1846 C:\\Users\\ryun1\\ds\\final_project\\final_datafile\\data\\test\\images\\kiwi_25_jpg.rf.3a3c9a2eea176e2c964853db914dbcbe.jpg: 416x416 1 kiwi, 8.5ms\n",
      "image 1272/1846 C:\\Users\\ryun1\\ds\\final_project\\final_datafile\\data\\test\\images\\kiwi_28_jpg.rf.061bc82121a8c012319393c612048b58.jpg: 416x416 1 kiwi, 11.0ms\n",
      "image 1273/1846 C:\\Users\\ryun1\\ds\\final_project\\final_datafile\\data\\test\\images\\kiwi_28_jpg.rf.83b49e6497d86ecc381456cf56792468.jpg: 416x416 1 kiwi, 8.7ms\n",
      "image 1274/1846 C:\\Users\\ryun1\\ds\\final_project\\final_datafile\\data\\test\\images\\kiwi_2_jpg.rf.05d57c84d62e7872a32b6165d98de307.jpg: 416x416 1 kiwi, 8.2ms\n",
      "image 1275/1846 C:\\Users\\ryun1\\ds\\final_project\\final_datafile\\data\\test\\images\\kiwi_2_jpg.rf.d3c2a6d30e49dc56ae8b40d342ab45e0.jpg: 416x416 1 kiwi, 8.1ms\n",
      "image 1276/1846 C:\\Users\\ryun1\\ds\\final_project\\final_datafile\\data\\test\\images\\kiwi_3_jpg.rf.2ea54059b985db63d9e47c4deea27c1b.jpg: 416x416 1 kiwi, 7.7ms\n",
      "image 1277/1846 C:\\Users\\ryun1\\ds\\final_project\\final_datafile\\data\\test\\images\\kiwi_4_jpg.rf.0162290b56d2a7c7bb3d8316a481c2f4.jpg: 416x416 1 kiwi, 8.1ms\n",
      "image 1278/1846 C:\\Users\\ryun1\\ds\\final_project\\final_datafile\\data\\test\\images\\kiwi_4_jpg.rf.ef945f2dce2320e4937aa1d29fc3b933.jpg: 416x416 1 kiwi, 8.8ms\n",
      "image 1279/1846 C:\\Users\\ryun1\\ds\\final_project\\final_datafile\\data\\test\\images\\kiwi_5_jpg.rf.e54325068b6fe24827fea8a51557d048.jpg: 416x416 1 kiwi, 8.1ms\n",
      "image 1280/1846 C:\\Users\\ryun1\\ds\\final_project\\final_datafile\\data\\test\\images\\kiwi_7_jpg.rf.c2388a69c68df868fd7cb247cb740f1f.jpg: 416x416 1 kiwi, 9.0ms\n",
      "image 1281/1846 C:\\Users\\ryun1\\ds\\final_project\\final_datafile\\data\\test\\images\\kiwi_8_jpg.rf.3b4a2488099b7b6ea67db1032838f3a2.jpg: 416x416 1 kiwi, 8.3ms\n",
      "image 1282/1846 C:\\Users\\ryun1\\ds\\final_project\\final_datafile\\data\\test\\images\\kiwi_9_jpg.rf.37f01fd25109fdabcee131bf1fea3ca0.jpg: 416x416 1 kiwi, 8.5ms\n",
      "image 1283/1846 C:\\Users\\ryun1\\ds\\final_project\\final_datafile\\data\\test\\images\\kiwi_9_jpg.rf.c232586f972cdd16d3d6da9a33e71210.jpg: 416x416 1 kiwi, 9.3ms\n",
      "image 1284/1846 C:\\Users\\ryun1\\ds\\final_project\\final_datafile\\data\\test\\images\\korean_pancake_10_jpg.rf.3d06987abdb78d15700dd6e6e1c8f1d6.jpg: 416x416 1 korean_pancake, 7.8ms\n",
      "image 1285/1846 C:\\Users\\ryun1\\ds\\final_project\\final_datafile\\data\\test\\images\\korean_pancake_10_jpg.rf.77fdae5cc3dfd306540db0215404664a.jpg: 416x416 1 korean_pancake, 9.2ms\n",
      "image 1286/1846 C:\\Users\\ryun1\\ds\\final_project\\final_datafile\\data\\test\\images\\korean_pancake_14_jpg.rf.52492c710596e906b46b6cb346b16ea6.jpg: 416x416 1 korean_pancake, 14.7ms\n",
      "image 1287/1846 C:\\Users\\ryun1\\ds\\final_project\\final_datafile\\data\\test\\images\\korean_pancake_15_jpg.rf.28cc89ff38c7d2615d6e286a9f4d9d4e.jpg: 416x416 1 korean_pancake, 8.4ms\n",
      "image 1288/1846 C:\\Users\\ryun1\\ds\\final_project\\final_datafile\\data\\test\\images\\korean_pancake_15_jpg.rf.298d6348c96fa0eb4a2e6b6e1ce54d36.jpg: 416x416 1 korean_pancake, 8.6ms\n",
      "image 1289/1846 C:\\Users\\ryun1\\ds\\final_project\\final_datafile\\data\\test\\images\\korean_pancake_16_jpg.rf.5dcf9ca2e182c5440e900c2a756ef19f.jpg: 416x416 1 korean_pancake, 8.9ms\n",
      "image 1290/1846 C:\\Users\\ryun1\\ds\\final_project\\final_datafile\\data\\test\\images\\korean_pancake_17_jpg.rf.434a633b7eb74e3c0ca73e5c2dffa30a.jpg: 416x416 1 korean_pancake, 10.6ms\n",
      "image 1291/1846 C:\\Users\\ryun1\\ds\\final_project\\final_datafile\\data\\test\\images\\korean_pancake_17_jpg.rf.88885708f5f80dbd6aeba00a0c11cdf2.jpg: 416x416 1 korean_pancake, 9.2ms\n",
      "image 1292/1846 C:\\Users\\ryun1\\ds\\final_project\\final_datafile\\data\\test\\images\\korean_pancake_18_jpg.rf.b60bc9ff01cfd390dbece5ddc1eda45a.jpg: 416x416 1 korean_pancake, 11.3ms\n",
      "image 1293/1846 C:\\Users\\ryun1\\ds\\final_project\\final_datafile\\data\\test\\images\\korean_pancake_19_jpg.rf.5255a3db26b08bd36dd3beaf2aeeb242.jpg: 416x416 1 korean_pancake, 10.2ms\n",
      "image 1294/1846 C:\\Users\\ryun1\\ds\\final_project\\final_datafile\\data\\test\\images\\korean_pancake_19_jpg.rf.f4c3bad0f48bf5888a76c481c311edeb.jpg: 416x416 1 korean_pancake, 8.0ms\n",
      "image 1295/1846 C:\\Users\\ryun1\\ds\\final_project\\final_datafile\\data\\test\\images\\korean_pancake_20_jpg.rf.22e916c6dac66719630389cb01267b0c.jpg: 416x416 1 korean_pancake, 8.6ms\n",
      "image 1296/1846 C:\\Users\\ryun1\\ds\\final_project\\final_datafile\\data\\test\\images\\korean_pancake_21_jpg.rf.16f99de4725d18e4ab91df60037c1956.jpg: 416x416 1 korean_pancake, 9.0ms\n",
      "image 1297/1846 C:\\Users\\ryun1\\ds\\final_project\\final_datafile\\data\\test\\images\\korean_pancake_23_jpg.rf.5f86806ff8831a178192b28fbbad6879.jpg: 416x416 1 korean_pancake, 8.7ms\n",
      "image 1298/1846 C:\\Users\\ryun1\\ds\\final_project\\final_datafile\\data\\test\\images\\korean_pancake_26_jpg.rf.754092fbddd39f5bab9ebc180d2aaa50.jpg: 416x416 1 korean_pancake, 12.8ms\n",
      "image 1299/1846 C:\\Users\\ryun1\\ds\\final_project\\final_datafile\\data\\test\\images\\korean_pancake_26_jpg.rf.e978548be006a450b60badf940155a47.jpg: 416x416 1 korean_pancake, 11.8ms\n",
      "image 1300/1846 C:\\Users\\ryun1\\ds\\final_project\\final_datafile\\data\\test\\images\\korean_pancake_28_jpg.rf.f3935f288802bd89d786cfd27d9c69fb.jpg: 416x416 1 korean_pancake, 10.2ms\n",
      "image 1301/1846 C:\\Users\\ryun1\\ds\\final_project\\final_datafile\\data\\test\\images\\korean_pancake_29_jpg.rf.844ba4623b3939508afe8e57138156fe.jpg: 416x416 1 powder, 7.5ms\n",
      "image 1302/1846 C:\\Users\\ryun1\\ds\\final_project\\final_datafile\\data\\test\\images\\korean_pancake_29_jpg.rf.9fd7663beae171ca7518ba57ea5d392b.jpg: 416x416 1 powder, 8.2ms\n",
      "image 1303/1846 C:\\Users\\ryun1\\ds\\final_project\\final_datafile\\data\\test\\images\\korean_pancake_29_jpg.rf.a9d212c26853a5ad8e954c236e276daf.jpg: 416x416 1 powder, 8.1ms\n",
      "image 1304/1846 C:\\Users\\ryun1\\ds\\final_project\\final_datafile\\data\\test\\images\\korean_pancake_2_jpg.rf.678c86cb314ee111972152102133dd22.jpg: 416x416 1 korean_pancake, 10.7ms\n",
      "image 1305/1846 C:\\Users\\ryun1\\ds\\final_project\\final_datafile\\data\\test\\images\\korean_pancake_4_jpg.rf.a5d98101cb8b5e99328042192feaaf3f.jpg: 416x416 1 korean_pancake, 8.1ms\n",
      "image 1306/1846 C:\\Users\\ryun1\\ds\\final_project\\final_datafile\\data\\test\\images\\korean_pancake_5_jpg.rf.4182f532a15ab0ef5c12a78aa0f1ccf7.jpg: 416x416 1 korean_pancake, 7.9ms\n",
      "image 1307/1846 C:\\Users\\ryun1\\ds\\final_project\\final_datafile\\data\\test\\images\\korean_pancake_5_jpg.rf.b44c731166f4d26d1029db1cceb6fe94.jpg: 416x416 1 korean_pancake, 8.8ms\n",
      "image 1308/1846 C:\\Users\\ryun1\\ds\\final_project\\final_datafile\\data\\test\\images\\korean_pancake_5_jpg.rf.becb0c0d204938966fe0e85fb5b4d669.jpg: 416x416 1 korean_pancake, 7.7ms\n",
      "image 1309/1846 C:\\Users\\ryun1\\ds\\final_project\\final_datafile\\data\\test\\images\\korean_pancake_6_jpg.rf.46fbbd0853ab26cf9ef143a949f3ceb1.jpg: 416x416 1 korean_pancake, 8.1ms\n"
     ]
    },
    {
     "name": "stdout",
     "output_type": "stream",
     "text": [
      "image 1310/1846 C:\\Users\\ryun1\\ds\\final_project\\final_datafile\\data\\test\\images\\korean_pancake_7_jpg.rf.6d2a4721b030aee549dd0e3518d80766.jpg: 416x416 1 korean_pancake, 7.4ms\n",
      "image 1311/1846 C:\\Users\\ryun1\\ds\\final_project\\final_datafile\\data\\test\\images\\korean_pancake_7_jpg.rf.7538d4751b6d1123324c0ae7d3d95537.jpg: 416x416 1 korean_pancake, 8.1ms\n",
      "image 1312/1846 C:\\Users\\ryun1\\ds\\final_project\\final_datafile\\data\\test\\images\\leilani-angel-GsA431IyQFw-unsplash_jpg.rf.ac25cf2ba066c73eb1e2f4bc9e1462ec.jpg: 416x416 2 egg_s, 8.8ms\n",
      "image 1313/1846 C:\\Users\\ryun1\\ds\\final_project\\final_datafile\\data\\test\\images\\lemons_12_jpg.rf.6461285fd304be4597e83425388b2e20.jpg: 416x416 7 lemons, 8.9ms\n",
      "image 1314/1846 C:\\Users\\ryun1\\ds\\final_project\\final_datafile\\data\\test\\images\\lemons_35_png.rf.b8c32c4beceedd0c90c889a7f84cbee2.jpg: 416x416 3 lemons, 8.4ms\n",
      "image 1315/1846 C:\\Users\\ryun1\\ds\\final_project\\final_datafile\\data\\test\\images\\lemons_3_jpeg.rf.d7ae8912a394f9d0f14cc5d3ce87f7e4.jpg: 416x416 1 egg_, 2 lemons, 8.9ms\n",
      "image 1316/1846 C:\\Users\\ryun1\\ds\\final_project\\final_datafile\\data\\test\\images\\lemons_44_jpg.rf.a9112c0ae051703f513579e736e46cb9.jpg: 416x416 1 lemon, 14.3ms\n",
      "image 1317/1846 C:\\Users\\ryun1\\ds\\final_project\\final_datafile\\data\\test\\images\\lemons_4_jpg.rf.afefab73dc21389a66925e0139249c83.jpg: 416x416 9 lemons, 8.9ms\n",
      "image 1318/1846 C:\\Users\\ryun1\\ds\\final_project\\final_datafile\\data\\test\\images\\lemons_63_png.rf.40cd83c27efcd20b475ca3f029f4b408.jpg: 416x416 3 lemons, 8.2ms\n",
      "image 1319/1846 C:\\Users\\ryun1\\ds\\final_project\\final_datafile\\data\\test\\images\\lemons_75_jpg.rf.5bce6a1c30ff56dfbfa65fe137c0545b.jpg: 416x416 2 lemons, 8.7ms\n",
      "image 1320/1846 C:\\Users\\ryun1\\ds\\final_project\\final_datafile\\data\\test\\images\\lemons_80_jpg.rf.65ccc599b20649b22a8c008df0ea2675.jpg: 416x416 2 lemons, 7.3ms\n",
      "image 1321/1846 C:\\Users\\ryun1\\ds\\final_project\\final_datafile\\data\\test\\images\\lemons_89_jpg.rf.d42eacca7e26e7a4fdca5a72a118def8.jpg: 416x416 1 lemon, 8.4ms\n",
      "image 1322/1846 C:\\Users\\ryun1\\ds\\final_project\\final_datafile\\data\\test\\images\\lemons_97_jpg.rf.d2e43fec7f6a87794ad1d556ce19c0fa.jpg: 416x416 1 avocado, 2 mangos, 3 oranges, 8.3ms\n",
      "image 1323/1846 C:\\Users\\ryun1\\ds\\final_project\\final_datafile\\data\\test\\images\\lettuce_10_jpg.rf.a9f709cc83df68c675065dd239793551.jpg: 416x416 1 lettuce, 8.7ms\n",
      "image 1324/1846 C:\\Users\\ryun1\\ds\\final_project\\final_datafile\\data\\test\\images\\lettuce_11_jpg.rf.42a3b27159473b96f94d2074de72f56d.jpg: 416x416 1 lettuce, 8.6ms\n",
      "image 1325/1846 C:\\Users\\ryun1\\ds\\final_project\\final_datafile\\data\\test\\images\\lettuce_12_jpg.rf.917d3cab5b6b3db0389dc987016ad294.jpg: 416x416 1 lettuce, 8.5ms\n",
      "image 1326/1846 C:\\Users\\ryun1\\ds\\final_project\\final_datafile\\data\\test\\images\\lettuce_13_jpg.rf.50992bce445fa6a20b7268dd3ffc8119.jpg: 416x416 1 lettuce, 8.2ms\n",
      "image 1327/1846 C:\\Users\\ryun1\\ds\\final_project\\final_datafile\\data\\test\\images\\lettuce_13_jpg.rf.de1f9f2aa99be7f8773cbc936106cad4.jpg: 416x416 1 lettuce, 10.2ms\n",
      "image 1328/1846 C:\\Users\\ryun1\\ds\\final_project\\final_datafile\\data\\test\\images\\lettuce_14_jpg.rf.14019c0fee0321bc6e41b6776b59cfb8.jpg: 416x416 1 cabbage, 9.3ms\n",
      "image 1329/1846 C:\\Users\\ryun1\\ds\\final_project\\final_datafile\\data\\test\\images\\lettuce_14_jpg.rf.9a2777ba018ab34c746447b10d78f050.jpg: 416x416 1 lettuce, 7.9ms\n",
      "image 1330/1846 C:\\Users\\ryun1\\ds\\final_project\\final_datafile\\data\\test\\images\\lettuce_15_jpg.rf.f745c7bd8ad2a601e1297b8aac8e4b7d.jpg: 416x416 1 lettuce, 7.9ms\n",
      "image 1331/1846 C:\\Users\\ryun1\\ds\\final_project\\final_datafile\\data\\test\\images\\lettuce_16_jpg.rf.e08b26f8560c28e618aebb88d39e2525.jpg: 416x416 1 lettuce, 7.9ms\n",
      "image 1332/1846 C:\\Users\\ryun1\\ds\\final_project\\final_datafile\\data\\test\\images\\lettuce_17_jpg.rf.77e4f795dc58fa85b0e84b312f4dc1ee.jpg: 416x416 1 lettuce, 7.7ms\n",
      "image 1333/1846 C:\\Users\\ryun1\\ds\\final_project\\final_datafile\\data\\test\\images\\lettuce_19_jpg.rf.13993214e5e82e43b42c4d33ae33c96d.jpg: 416x416 1 lettuce, 8.6ms\n",
      "image 1334/1846 C:\\Users\\ryun1\\ds\\final_project\\final_datafile\\data\\test\\images\\lettuce_20_jpg.rf.79922eb459e50fc8783c0beb640e3db2.jpg: 416x416 1 lettuce, 7.3ms\n",
      "image 1335/1846 C:\\Users\\ryun1\\ds\\final_project\\final_datafile\\data\\test\\images\\lettuce_20_jpg.rf.d3a72ae7cf3787158c501acb1430bcd8.jpg: 416x416 1 lettuce, 10.2ms\n",
      "image 1336/1846 C:\\Users\\ryun1\\ds\\final_project\\final_datafile\\data\\test\\images\\lettuce_21_jpg.rf.0b52398396a7b717f837c8aecb0e9cd9.jpg: 416x416 1 lettuce, 7.1ms\n",
      "image 1337/1846 C:\\Users\\ryun1\\ds\\final_project\\final_datafile\\data\\test\\images\\lettuce_22_jpg.rf.c54e871f8d66338efcba01a442c2782f.jpg: 416x416 1 lettuce, 7.5ms\n",
      "image 1338/1846 C:\\Users\\ryun1\\ds\\final_project\\final_datafile\\data\\test\\images\\lettuce_23_jpg.rf.151727545bfe55918d5ab038e7ab743b.jpg: 416x416 1 cabbage, 8.2ms\n",
      "image 1339/1846 C:\\Users\\ryun1\\ds\\final_project\\final_datafile\\data\\test\\images\\lettuce_23_jpg.rf.516ec8710e9d4904ecc21928c25c6317.jpg: 416x416 1 lettuce, 8.3ms\n",
      "image 1340/1846 C:\\Users\\ryun1\\ds\\final_project\\final_datafile\\data\\test\\images\\lettuce_24_jpg.rf.e76ccca1891b4b0a54c3d1151ce72e1b.jpg: 416x416 1 lettuce, 8.4ms\n",
      "image 1341/1846 C:\\Users\\ryun1\\ds\\final_project\\final_datafile\\data\\test\\images\\lettuce_26_jpg.rf.b15bb2e4c8294dcf5d1ea663bd83f9e5.jpg: 416x416 1 lettuce, 8.7ms\n",
      "image 1342/1846 C:\\Users\\ryun1\\ds\\final_project\\final_datafile\\data\\test\\images\\lettuce_26_jpg.rf.d452fb13642599a25e7d31f413580cfc.jpg: 416x416 1 lettuce, 8.1ms\n",
      "image 1343/1846 C:\\Users\\ryun1\\ds\\final_project\\final_datafile\\data\\test\\images\\lettuce_28_jpg.rf.955d529c6b323bb07fe45beb409cb275.jpg: 416x416 1 lettuce, 9.1ms\n",
      "image 1344/1846 C:\\Users\\ryun1\\ds\\final_project\\final_datafile\\data\\test\\images\\lettuce_29_jpg.rf.001105de62b2745fa399a56745cbfa01.jpg: 416x416 1 lettuce, 9.1ms\n",
      "image 1345/1846 C:\\Users\\ryun1\\ds\\final_project\\final_datafile\\data\\test\\images\\lettuce_2_jpg.rf.8040582dc2bc63b7e55cda49518ddf1b.jpg: 416x416 1 lettuce, 8.1ms\n",
      "image 1346/1846 C:\\Users\\ryun1\\ds\\final_project\\final_datafile\\data\\test\\images\\lettuce_30_jpg.rf.0a8bccf0724bc6796735c81d4918ae92.jpg: 416x416 1 lettuce, 9.6ms\n",
      "image 1347/1846 C:\\Users\\ryun1\\ds\\final_project\\final_datafile\\data\\test\\images\\lettuce_42_jpg.rf.9b07aac3911969db5e1ecffc0f603bac.jpg: 416x416 2 lettuces, 8.6ms\n",
      "image 1348/1846 C:\\Users\\ryun1\\ds\\final_project\\final_datafile\\data\\test\\images\\lettuce_43_jpg.rf.c75edb6cbb002c574f044d2ee51deb19.jpg: 416x416 3 lettuces, 8.6ms\n",
      "image 1349/1846 C:\\Users\\ryun1\\ds\\final_project\\final_datafile\\data\\test\\images\\lettuce_44_jpg.rf.0fd644e73bec4966582f1f468e988a7d.jpg: 416x416 (no detections), 8.7ms\n",
      "image 1350/1846 C:\\Users\\ryun1\\ds\\final_project\\final_datafile\\data\\test\\images\\lettuce_4_jpg.rf.1b2e6e8ac008f53d708890c1fb1b8f75.jpg: 416x416 1 lettuce, 8.0ms\n",
      "image 1351/1846 C:\\Users\\ryun1\\ds\\final_project\\final_datafile\\data\\test\\images\\lettuce_5_jpg.rf.08230a60002afbb284a17588ab98fdc4.jpg: 416x416 1 powder, 8.7ms\n",
      "image 1352/1846 C:\\Users\\ryun1\\ds\\final_project\\final_datafile\\data\\test\\images\\lettuce_5_jpg.rf.21d6ec63ca27d44dd0506e669ca79691.jpg: 416x416 1 lettuce, 1 powder, 8.2ms\n",
      "image 1353/1846 C:\\Users\\ryun1\\ds\\final_project\\final_datafile\\data\\test\\images\\lettuce_5_jpg.rf.a1a6305e9d0cd8acbae87d22cd13d594.jpg: 416x416 1 powder, 8.7ms\n",
      "image 1354/1846 C:\\Users\\ryun1\\ds\\final_project\\final_datafile\\data\\test\\images\\lettuce_62_jpg.rf.4297dbf61095b95a1ea63576428ebd18.jpg: 416x416 1 lettuce, 8.1ms\n",
      "image 1355/1846 C:\\Users\\ryun1\\ds\\final_project\\final_datafile\\data\\test\\images\\lettuce_6_jpg.rf.c0ce43296af2ba2795aca7e26429f229.jpg: 416x416 1 lettuce, 8.1ms\n",
      "image 1356/1846 C:\\Users\\ryun1\\ds\\final_project\\final_datafile\\data\\test\\images\\lettuce_79_jpg.rf.f9406faeb1131e83250949f0fa42edb9.jpg: 416x416 1 lettuce, 7.4ms\n",
      "image 1357/1846 C:\\Users\\ryun1\\ds\\final_project\\final_datafile\\data\\test\\images\\lettuce_7_jpg.rf.89097dcfb9133023b466354dec12dd9d.jpg: 416x416 1 lettuce, 8.2ms\n",
      "image 1358/1846 C:\\Users\\ryun1\\ds\\final_project\\final_datafile\\data\\test\\images\\lettuce_82_jpg.rf.6860874278dd93462b96270c4099dbd2.jpg: 416x416 1 lettuce, 9.3ms\n",
      "image 1359/1846 C:\\Users\\ryun1\\ds\\final_project\\final_datafile\\data\\test\\images\\lettuce_85_jpg.rf.93b85b60c1383d7653435473d53956d2.jpg: 416x416 (no detections), 8.2ms\n",
      "image 1360/1846 C:\\Users\\ryun1\\ds\\final_project\\final_datafile\\data\\test\\images\\lettuce_8_jpg.rf.bcecc1983eda5356ec925d011234cdf0.jpg: 416x416 1 lettuce, 9.4ms\n"
     ]
    },
    {
     "name": "stdout",
     "output_type": "stream",
     "text": [
      "image 1361/1846 C:\\Users\\ryun1\\ds\\final_project\\final_datafile\\data\\test\\images\\lobster_tails_16_jpg.rf.40eb0e29691772890b731d54b810b936.jpg: 416x416 2 lobster tailss, 9.4ms\n",
      "image 1362/1846 C:\\Users\\ryun1\\ds\\final_project\\final_datafile\\data\\test\\images\\lobster_tails_19_jpg.rf.2dffdc0993de614d74a4e9f7aad79b3c.jpg: 416x416 (no detections), 8.0ms\n",
      "image 1363/1846 C:\\Users\\ryun1\\ds\\final_project\\final_datafile\\data\\test\\images\\lobster_tails_32_jpg.rf.76423869178a10637652581b48328d87.jpg: 416x416 3 lobster tailss, 9.3ms\n",
      "image 1364/1846 C:\\Users\\ryun1\\ds\\final_project\\final_datafile\\data\\test\\images\\lobster_tails_34_jpg.rf.e65a29539f7d5879abb5b0c34c53a0ab.jpg: 416x416 1 pumpkin, 8.6ms\n",
      "image 1365/1846 C:\\Users\\ryun1\\ds\\final_project\\final_datafile\\data\\test\\images\\lobster_tails_68_jpg.rf.bc5882d66ca7ffec9045275ddf8c5eb4.jpg: 416x416 1 lemon, 9.0ms\n",
      "image 1366/1846 C:\\Users\\ryun1\\ds\\final_project\\final_datafile\\data\\test\\images\\lobster_tails_74_jpg.rf.ab852cbec63320767c1dca1edb60a16e.jpg: 416x416 2 lemons, 1 lobster tails, 8.0ms\n",
      "image 1367/1846 C:\\Users\\ryun1\\ds\\final_project\\final_datafile\\data\\test\\images\\lobster_tails_95_jpg.rf.0d4d490dd1d21e27f16fa93dba594483.jpg: 416x416 3 lemons, 8.2ms\n",
      "image 1368/1846 C:\\Users\\ryun1\\ds\\final_project\\final_datafile\\data\\test\\images\\mango_100_jpg.rf.0c74b3e1b7fbb397ea1294352f2a997f.jpg: 416x416 1 mango, 8.6ms\n",
      "image 1369/1846 C:\\Users\\ryun1\\ds\\final_project\\final_datafile\\data\\test\\images\\mango_10_jpg.rf.a66ee5576cc37aaf3a64fd31227b9f88.jpg: 416x416 3 cucumbers, 1 mango, 7.4ms\n",
      "image 1370/1846 C:\\Users\\ryun1\\ds\\final_project\\final_datafile\\data\\test\\images\\mango_11_jpg.rf.49fac74d7edb09b27859ff0aadde950a.jpg: 416x416 1 lemon, 6 mangos, 12.0ms\n",
      "image 1371/1846 C:\\Users\\ryun1\\ds\\final_project\\final_datafile\\data\\test\\images\\mango_15_jpg.rf.8f3e257b673f92d37484052fef00563e.jpg: 416x416 3 mangos, 11.5ms\n",
      "image 1372/1846 C:\\Users\\ryun1\\ds\\final_project\\final_datafile\\data\\test\\images\\mango_1_jpg.rf.9eded6c96b4a0f29efd06ac19c4dd62c.jpg: 416x416 2 mangos, 8.6ms\n",
      "image 1373/1846 C:\\Users\\ryun1\\ds\\final_project\\final_datafile\\data\\test\\images\\mango_22_jpg.rf.df868159ca86506592c3ffb6b0288b83.jpg: 416x416 2 10_tangerines, 11.7ms\n",
      "image 1374/1846 C:\\Users\\ryun1\\ds\\final_project\\final_datafile\\data\\test\\images\\mango_24_png.rf.b20dac28247c1f3eba06864aa52af5ab.jpg: 416x416 1 lemon, 9.9ms\n",
      "image 1375/1846 C:\\Users\\ryun1\\ds\\final_project\\final_datafile\\data\\test\\images\\mango_27_jpg.rf.b187846217af783b4ec28d1425802466.jpg: 416x416 1 mango, 9.8ms\n",
      "image 1376/1846 C:\\Users\\ryun1\\ds\\final_project\\final_datafile\\data\\test\\images\\mango_39_jpg.rf.7cc3c562c6522b6d32728042df0467db.jpg: 416x416 1 mango, 12.2ms\n",
      "image 1377/1846 C:\\Users\\ryun1\\ds\\final_project\\final_datafile\\data\\test\\images\\mango_49_jpg.rf.ac7fc7c73f6ce9ffad35d5f0e9059cf9.jpg: 416x416 9 mangos, 1 orange, 10.4ms\n",
      "image 1378/1846 C:\\Users\\ryun1\\ds\\final_project\\final_datafile\\data\\test\\images\\mango_5_jpg.rf.1a6441d98e0c486fc68b1a2d543c7839.jpg: 416x416 1 bell pepper, 2 mangos, 11.1ms\n",
      "image 1379/1846 C:\\Users\\ryun1\\ds\\final_project\\final_datafile\\data\\test\\images\\mango_99_jpg.rf.52aa479840588779538b10e841d6ba18.jpg: 416x416 (no detections), 9.6ms\n",
      "image 1380/1846 C:\\Users\\ryun1\\ds\\final_project\\final_datafile\\data\\test\\images\\mceclip3_jpg.rf.4bf83f4aea3534c924a4a507c0ecffdc.jpg: 416x416 1 egg, 9.6ms\n",
      "image 1381/1846 C:\\Users\\ryun1\\ds\\final_project\\final_datafile\\data\\test\\images\\mushroom_10_jpg.rf.0cfe97c552e703f0365986a9282e6ae1.jpg: 416x416 1 mushroom, 12.3ms\n",
      "image 1382/1846 C:\\Users\\ryun1\\ds\\final_project\\final_datafile\\data\\test\\images\\mushroom_10_jpg.rf.30af859d4ee0cd66ad38a3cefd07daf8.jpg: 416x416 1 mushroom, 9.7ms\n",
      "image 1383/1846 C:\\Users\\ryun1\\ds\\final_project\\final_datafile\\data\\test\\images\\mushroom_11_jpg.rf.a0c8d31b7fe9391b15421a588c57a9b9.jpg: 416x416 1 mushroom, 8.7ms\n",
      "image 1384/1846 C:\\Users\\ryun1\\ds\\final_project\\final_datafile\\data\\test\\images\\mushroom_11_jpg.rf.fcbe6d713b4a4561b5f5ed564548e6b5.jpg: 416x416 1 mushroom, 10.6ms\n",
      "image 1385/1846 C:\\Users\\ryun1\\ds\\final_project\\final_datafile\\data\\test\\images\\mushroom_12_jpg.rf.57ce96988f21c5a09a3b7e2efef1c083.jpg: 416x416 1 bread, 1 mushroom, 11.4ms\n",
      "image 1386/1846 C:\\Users\\ryun1\\ds\\final_project\\final_datafile\\data\\test\\images\\mushroom_14_jpg.rf.f3441ca3ee5719598b9415f746c6c02d.jpg: 416x416 1 mushroom, 10.6ms\n",
      "image 1387/1846 C:\\Users\\ryun1\\ds\\final_project\\final_datafile\\data\\test\\images\\mushroom_19_jpg.rf.dfbe45cb726b11ed46feb3ee7ec22458.jpg: 416x416 1 mushroom, 11.3ms\n",
      "image 1388/1846 C:\\Users\\ryun1\\ds\\final_project\\final_datafile\\data\\test\\images\\mushroom_1_jpg.rf.4d74bf6f2cf6ee016aed5ec339e07b2d.jpg: 416x416 1 mushroom, 8.2ms\n",
      "image 1389/1846 C:\\Users\\ryun1\\ds\\final_project\\final_datafile\\data\\test\\images\\mushroom_1_jpg.rf.5da09667cdf646a0dbfc3cee2e00477c.jpg: 416x416 1 mushroom, 7.4ms\n",
      "image 1390/1846 C:\\Users\\ryun1\\ds\\final_project\\final_datafile\\data\\test\\images\\mushroom_20_jpg.rf.7ad4591c965105acaaf3c6e84491c42f.jpg: 416x416 1 mushroom, 8.5ms\n",
      "image 1391/1846 C:\\Users\\ryun1\\ds\\final_project\\final_datafile\\data\\test\\images\\mushroom_21_jpg.rf.d68e7341b29ec4408968430a196d7b28.jpg: 416x416 1 mushroom, 7.8ms\n",
      "image 1392/1846 C:\\Users\\ryun1\\ds\\final_project\\final_datafile\\data\\test\\images\\mushroom_22_jpg.rf.48829ce6b75f9fa7102c76afbfd8ee9f.jpg: 416x416 1 mushroom, 8.6ms\n",
      "image 1393/1846 C:\\Users\\ryun1\\ds\\final_project\\final_datafile\\data\\test\\images\\mushroom_23_jpg.rf.a7213049dee56244ada4dd7235173ede.jpg: 416x416 1 mushroom, 9.2ms\n",
      "image 1394/1846 C:\\Users\\ryun1\\ds\\final_project\\final_datafile\\data\\test\\images\\mushroom_24_jpg.rf.51fa914ec5acc1e9f7cad3c9a9b4c822.jpg: 416x416 1 mushroom, 8.7ms\n",
      "image 1395/1846 C:\\Users\\ryun1\\ds\\final_project\\final_datafile\\data\\test\\images\\mushroom_24_jpg.rf.95311d18208ea7c9b2fc3290c3585b9b.jpg: 416x416 1 mushroom, 8.3ms\n",
      "image 1396/1846 C:\\Users\\ryun1\\ds\\final_project\\final_datafile\\data\\test\\images\\mushroom_25_jpg.rf.439a7c7048c6d65f7b71baa40077b851.jpg: 416x416 1 mushroom, 9.3ms\n",
      "image 1397/1846 C:\\Users\\ryun1\\ds\\final_project\\final_datafile\\data\\test\\images\\mushroom_27_jpg.rf.1fba8878581c75f47e892e3d89bd28c2.jpg: 416x416 1 mushroom, 10.4ms\n",
      "image 1398/1846 C:\\Users\\ryun1\\ds\\final_project\\final_datafile\\data\\test\\images\\mushroom_28_jpg.rf.64d19dbee9b29871a970156df8acec71.jpg: 416x416 1 mushroom, 10.0ms\n",
      "image 1399/1846 C:\\Users\\ryun1\\ds\\final_project\\final_datafile\\data\\test\\images\\mushroom_28_jpg.rf.6f2d0dcd6d1467b16ff5717aacc210e3.jpg: 416x416 1 mushroom, 8.5ms\n",
      "image 1400/1846 C:\\Users\\ryun1\\ds\\final_project\\final_datafile\\data\\test\\images\\mushroom_29_jpg.rf.a2a6566b52dfc086aea0a1d463aef699.jpg: 416x416 1 mushroom, 9.7ms\n",
      "image 1401/1846 C:\\Users\\ryun1\\ds\\final_project\\final_datafile\\data\\test\\images\\mushroom_29_jpg.rf.e2c823e7b39eb5d0dd74630f2921eeb6.jpg: 416x416 1 mushroom, 8.1ms\n",
      "image 1402/1846 C:\\Users\\ryun1\\ds\\final_project\\final_datafile\\data\\test\\images\\mushroom_2_jpg.rf.af8860ce3d445e41f2b112182bfaab5c.jpg: 416x416 1 mushroom, 7.1ms\n",
      "image 1403/1846 C:\\Users\\ryun1\\ds\\final_project\\final_datafile\\data\\test\\images\\mushroom_30_jpg.rf.e553b034df989b9dc1ba64197c09d609.jpg: 416x416 1 mushroom, 8.4ms\n",
      "image 1404/1846 C:\\Users\\ryun1\\ds\\final_project\\final_datafile\\data\\test\\images\\mushroom_3_jpg.rf.597111b2056f7c8a12a1afe93ffaf038.jpg: 416x416 1 mushroom, 9.9ms\n",
      "image 1405/1846 C:\\Users\\ryun1\\ds\\final_project\\final_datafile\\data\\test\\images\\mushroom_4_jpg.rf.b37fef4c84c1828cb0a797a4226bf7a2.jpg: 416x416 1 mushroom, 8.1ms\n",
      "image 1406/1846 C:\\Users\\ryun1\\ds\\final_project\\final_datafile\\data\\test\\images\\mushroom_5_jpg.rf.b2bf0655f5b6cb778887fd1cb71699e0.jpg: 416x416 1 mushroom, 8.0ms\n",
      "image 1407/1846 C:\\Users\\ryun1\\ds\\final_project\\final_datafile\\data\\test\\images\\mushroom_6_jpg.rf.8326a9e9f0a5de7cf9b536a09189b096.jpg: 416x416 1 mushroom, 7.9ms\n",
      "image 1408/1846 C:\\Users\\ryun1\\ds\\final_project\\final_datafile\\data\\test\\images\\mushroom_9_jpg.rf.3aa23d2922a5ae5de833483af779eb29.jpg: 416x416 1 mushroom, 9.8ms\n",
      "image 1409/1846 C:\\Users\\ryun1\\ds\\final_project\\final_datafile\\data\\test\\images\\onion-10-_png_jpg.rf.f23cb4abb9045a2209586ff83621f202.jpg: 416x416 1 onion, 8.4ms\n",
      "image 1410/1846 C:\\Users\\ryun1\\ds\\final_project\\final_datafile\\data\\test\\images\\onion-4-_jpg.rf.39387eeab348ad267702fa9263d92177.jpg: 416x416 5 onions, 7.7ms\n"
     ]
    },
    {
     "name": "stdout",
     "output_type": "stream",
     "text": [
      "image 1411/1846 C:\\Users\\ryun1\\ds\\final_project\\final_datafile\\data\\test\\images\\onion-50-_jpg.rf.7e45cfa043f36fbfa29dc8759c35073e.jpg: 416x416 5 onions, 9.4ms\n",
      "image 1412/1846 C:\\Users\\ryun1\\ds\\final_project\\final_datafile\\data\\test\\images\\onion_11_jpg.rf.65bc28c9e6bdf14db44debfc67c34ccc.jpg: 416x416 1 onion, 8.7ms\n",
      "image 1413/1846 C:\\Users\\ryun1\\ds\\final_project\\final_datafile\\data\\test\\images\\onion_12_jpg.rf.525e456637fc8fc7b87751b416517980.jpg: 416x416 1 onion, 7.6ms\n",
      "image 1414/1846 C:\\Users\\ryun1\\ds\\final_project\\final_datafile\\data\\test\\images\\onion_13_jpg.rf.238b1fb3860102c82f8ff07f33e931eb.jpg: 416x416 1 onion, 9.3ms\n",
      "image 1415/1846 C:\\Users\\ryun1\\ds\\final_project\\final_datafile\\data\\test\\images\\onion_13_jpg.rf.a68068806e85e95795bf16b586a680c6.jpg: 416x416 1 onion, 9.5ms\n",
      "image 1416/1846 C:\\Users\\ryun1\\ds\\final_project\\final_datafile\\data\\test\\images\\onion_14_jpg.rf.5e474bca9743915eb7c01b85627f4711.jpg: 416x416 1 onion, 8.6ms\n",
      "image 1417/1846 C:\\Users\\ryun1\\ds\\final_project\\final_datafile\\data\\test\\images\\onion_14_jpg.rf.86c2f82ccc368332617fd7f6fdc6987c.jpg: 416x416 1 onion, 9.1ms\n",
      "image 1418/1846 C:\\Users\\ryun1\\ds\\final_project\\final_datafile\\data\\test\\images\\onion_14_jpg.rf.eb2cad9e87205334c8b2b3cff0bf90ed.jpg: 416x416 1 onion, 9.0ms\n",
      "image 1419/1846 C:\\Users\\ryun1\\ds\\final_project\\final_datafile\\data\\test\\images\\onion_17_jpg.rf.cec3d1e7fc32b6a6c372846045770590.jpg: 416x416 2 garlics, 13 onions, 8.3ms\n",
      "image 1420/1846 C:\\Users\\ryun1\\ds\\final_project\\final_datafile\\data\\test\\images\\onion_18_jpg.rf.159b49eb8ec39ad7abfbad574880e823.jpg: 416x416 1 onion, 9.0ms\n",
      "image 1421/1846 C:\\Users\\ryun1\\ds\\final_project\\final_datafile\\data\\test\\images\\onion_18_jpg.rf.d05ad5d9396f08c2e15835adfa9d40f8.jpg: 416x416 1 onion, 8.4ms\n",
      "image 1422/1846 C:\\Users\\ryun1\\ds\\final_project\\final_datafile\\data\\test\\images\\onion_1_jpg.rf.44c4b67e61cd3987aa771bf92a8fdfd6.jpg: 416x416 1 onion, 8.8ms\n",
      "image 1423/1846 C:\\Users\\ryun1\\ds\\final_project\\final_datafile\\data\\test\\images\\onion_1_jpg.rf.e26217fe247e3a74918969ba66e86f4d.jpg: 416x416 1 onion, 8.8ms\n",
      "image 1424/1846 C:\\Users\\ryun1\\ds\\final_project\\final_datafile\\data\\test\\images\\onion_20_jpg.rf.7250afb68a71635d760ca616581912db.jpg: 416x416 2 onions, 2 pumpkins, 8.5ms\n",
      "image 1425/1846 C:\\Users\\ryun1\\ds\\final_project\\final_datafile\\data\\test\\images\\onion_20_jpg.rf.7cc5bf225175230332e0d2f9ab1e57c8.jpg: 416x416 1 onion, 7.2ms\n",
      "image 1426/1846 C:\\Users\\ryun1\\ds\\final_project\\final_datafile\\data\\test\\images\\onion_20_jpg.rf.ad5482cf68f4dee292d008713d4d72dc.jpg: 416x416 1 onion, 7.8ms\n",
      "image 1427/1846 C:\\Users\\ryun1\\ds\\final_project\\final_datafile\\data\\test\\images\\onion_25_jpg.rf.113ba7271b4e5b7099db986133a32052.jpg: 416x416 1 onion, 8.2ms\n",
      "image 1428/1846 C:\\Users\\ryun1\\ds\\final_project\\final_datafile\\data\\test\\images\\onion_26_jpg.rf.04eb5c619b55515cfb538ad343d5c5ee.jpg: 416x416 1 onion, 9.3ms\n",
      "image 1429/1846 C:\\Users\\ryun1\\ds\\final_project\\final_datafile\\data\\test\\images\\onion_27_jpg.rf.0e5fcfd782df0e6a2a6a39412ffd33ec.jpg: 416x416 1 onion, 8.1ms\n",
      "image 1430/1846 C:\\Users\\ryun1\\ds\\final_project\\final_datafile\\data\\test\\images\\onion_28_jpg.rf.ec737256067857c8ba65d8f4c5460759.jpg: 416x416 1 onion, 8.2ms\n",
      "image 1431/1846 C:\\Users\\ryun1\\ds\\final_project\\final_datafile\\data\\test\\images\\onion_29_jpg.rf.058b23c6ccfbc8b3f03c70520785a42f.jpg: 416x416 3 onions, 8.5ms\n",
      "image 1432/1846 C:\\Users\\ryun1\\ds\\final_project\\final_datafile\\data\\test\\images\\onion_29_jpg.rf.f671dd85167474925e65668a62d54855.jpg: 416x416 1 cabbage, 8.2ms\n",
      "image 1433/1846 C:\\Users\\ryun1\\ds\\final_project\\final_datafile\\data\\test\\images\\onion_2_jpg.rf.5c671944289f6ed04e107421e12d707e.jpg: 416x416 1 onion, 8.6ms\n",
      "image 1434/1846 C:\\Users\\ryun1\\ds\\final_project\\final_datafile\\data\\test\\images\\onion_30_jpg.rf.a0e2326903f4642dfc2dd00833ac064c.jpg: 416x416 1 onion, 8.7ms\n",
      "image 1435/1846 C:\\Users\\ryun1\\ds\\final_project\\final_datafile\\data\\test\\images\\onion_3_jpg.rf.6cc65a861274b3995bf4a29126451c8c.jpg: 416x416 1 onion, 9.0ms\n",
      "image 1436/1846 C:\\Users\\ryun1\\ds\\final_project\\final_datafile\\data\\test\\images\\onion_3_jpg.rf.90a6b4688ee0848a363ed244a7d3d221.jpg: 416x416 1 onion, 9.0ms\n",
      "image 1437/1846 C:\\Users\\ryun1\\ds\\final_project\\final_datafile\\data\\test\\images\\onion_4_jpg.rf.2a85d29e186bfbf5848d5a5183695bde.jpg: 416x416 1 onion, 8.9ms\n",
      "image 1438/1846 C:\\Users\\ryun1\\ds\\final_project\\final_datafile\\data\\test\\images\\onion_53_jpg.rf.637ab0f283faf58119543e459fbd1156.jpg: 416x416 2 onions, 9.5ms\n",
      "image 1439/1846 C:\\Users\\ryun1\\ds\\final_project\\final_datafile\\data\\test\\images\\onion_57_jpg.rf.3d196c3fb137f93d689221adbb9e528a.jpg: 416x416 2 onions, 10.5ms\n",
      "image 1440/1846 C:\\Users\\ryun1\\ds\\final_project\\final_datafile\\data\\test\\images\\onion_5_jpg.rf.104daeac617482792fa2d14ecccb9a9c.jpg: 416x416 1 onion, 9.0ms\n",
      "image 1441/1846 C:\\Users\\ryun1\\ds\\final_project\\final_datafile\\data\\test\\images\\onion_63_png.rf.342f79c5a8361fb7335ab14e90954e13.jpg: 416x416 1 onion, 7.7ms\n",
      "image 1442/1846 C:\\Users\\ryun1\\ds\\final_project\\final_datafile\\data\\test\\images\\onion_6_jpg.rf.08ebf4f4b3198a1e4a0841a4670f4450.jpg: 416x416 1 onion, 8.7ms\n",
      "image 1443/1846 C:\\Users\\ryun1\\ds\\final_project\\final_datafile\\data\\test\\images\\onion_6_png.rf.74cfceb0aa91d8787cdac85da03e3914.jpg: 416x416 2 onions, 8.3ms\n",
      "image 1444/1846 C:\\Users\\ryun1\\ds\\final_project\\final_datafile\\data\\test\\images\\onion_75_jpg.rf.3f3a31f72806f04df0bf10a603ff2105.jpg: 416x416 5 onions, 7.8ms\n",
      "image 1445/1846 C:\\Users\\ryun1\\ds\\final_project\\final_datafile\\data\\test\\images\\onion_77_jpg.rf.b8c43a2ebb7f8666c93c6a5366939ad3.jpg: 416x416 1 egg_, 5 onions, 8.9ms\n",
      "image 1446/1846 C:\\Users\\ryun1\\ds\\final_project\\final_datafile\\data\\test\\images\\onion_7_jpg.rf.7297202e0e8ec244c1021a96610aae57.jpg: 416x416 1 onion, 10.9ms\n",
      "image 1447/1846 C:\\Users\\ryun1\\ds\\final_project\\final_datafile\\data\\test\\images\\onion_90_jpg.rf.3d938da37512896e683505c1c55b67f0.jpg: 416x416 3 onions, 7.3ms\n",
      "image 1448/1846 C:\\Users\\ryun1\\ds\\final_project\\final_datafile\\data\\test\\images\\onion_9_jpg.rf.9d821366972ece175acd1c2561509d4a.jpg: 416x416 1 onion, 8.6ms\n",
      "image 1449/1846 C:\\Users\\ryun1\\ds\\final_project\\final_datafile\\data\\test\\images\\onion_9_jpg.rf.a6d04d2168e495b3b8163ee4ca3ff858.jpg: 416x416 1 onion, 8.7ms\n",
      "image 1450/1846 C:\\Users\\ryun1\\ds\\final_project\\final_datafile\\data\\test\\images\\orange_18_jpg.rf.28b9367864134dcad9d1b137214240e2.jpg: 416x416 1 orange, 8.7ms\n",
      "image 1451/1846 C:\\Users\\ryun1\\ds\\final_project\\final_datafile\\data\\test\\images\\orange_20_jpg.rf.89d20c3faae8fd5c46cdc1fd0dac554b.jpg: 416x416 25 oranges, 8.4ms\n",
      "image 1452/1846 C:\\Users\\ryun1\\ds\\final_project\\final_datafile\\data\\test\\images\\orange_24_jpg.rf.8c4b8d9b763ce5b5f5cc12d5c88054fc.jpg: 416x416 1 Mushroom, 11 oranges, 7.8ms\n",
      "image 1453/1846 C:\\Users\\ryun1\\ds\\final_project\\final_datafile\\data\\test\\images\\orange_30_jpg.rf.0396878d0a8c52fcd2000e97ad0bc5f3.jpg: 416x416 2 oranges, 8.8ms\n",
      "image 1454/1846 C:\\Users\\ryun1\\ds\\final_project\\final_datafile\\data\\test\\images\\orange_38_jpg.rf.c4c3499212e2420a4131569f9c777617.jpg: 416x416 4 mangos, 2 oranges, 1 potato, 8.5ms\n",
      "image 1455/1846 C:\\Users\\ryun1\\ds\\final_project\\final_datafile\\data\\test\\images\\orange_47_jpg.rf.4e82a184d589c7508b711847b5d7080e.jpg: 416x416 19 oranges, 8.2ms\n",
      "image 1456/1846 C:\\Users\\ryun1\\ds\\final_project\\final_datafile\\data\\test\\images\\orange_49_jpg.rf.9386af561802fb00ee97573c9837777c.jpg: 416x416 1 avocado, 2 oranges, 7.7ms\n",
      "image 1457/1846 C:\\Users\\ryun1\\ds\\final_project\\final_datafile\\data\\test\\images\\orange_68_jpg.rf.e4001f505f24a1a1cfb2e06414feb185.jpg: 416x416 1 lemon, 1 orange, 7.3ms\n",
      "image 1458/1846 C:\\Users\\ryun1\\ds\\final_project\\final_datafile\\data\\test\\images\\orange_84_jpg.rf.d016693d45604cf17060dcbe1a0e6d7e.jpg: 416x416 1 orange, 8.3ms\n",
      "image 1459/1846 C:\\Users\\ryun1\\ds\\final_project\\final_datafile\\data\\test\\images\\orange_92_jpg.rf.4fff62261a40881500600d6b93eb6f29.jpg: 416x416 48 oranges, 8.4ms\n",
      "image 1460/1846 C:\\Users\\ryun1\\ds\\final_project\\final_datafile\\data\\test\\images\\orange_96_jpg.rf.7b00f2f907e2ff2e937ae481e3bf5f46.jpg: 416x416 23 10_tangerines, 1 egg_, 10 oranges, 8.4ms\n",
      "image 1461/1846 C:\\Users\\ryun1\\ds\\final_project\\final_datafile\\data\\test\\images\\orange_9_jpg.rf.d07561a3a2e509bcdcdd541ef302a94d.jpg: 416x416 13 oranges, 10.7ms\n",
      "image 1462/1846 C:\\Users\\ryun1\\ds\\final_project\\final_datafile\\data\\test\\images\\organic_carrot_jpg.rf.c5a26994e377271769bcd36d5c8f136f.jpg: 416x416 5 carrots, 8.5ms\n"
     ]
    },
    {
     "name": "stdout",
     "output_type": "stream",
     "text": [
      "image 1463/1846 C:\\Users\\ryun1\\ds\\final_project\\final_datafile\\data\\test\\images\\oysters_33_jpg.rf.51d63165d9b58b3e404b8ee40c5c60a8.jpg: 416x416 1 Mushroom, 1 garlic, 8.1ms\n",
      "image 1464/1846 C:\\Users\\ryun1\\ds\\final_project\\final_datafile\\data\\test\\images\\oysters_66_jpg.rf.cb68f1a6cf2c6734a4ede86354edcb80.jpg: 416x416 5 oysterss, 9.5ms\n",
      "image 1465/1846 C:\\Users\\ryun1\\ds\\final_project\\final_datafile\\data\\test\\images\\oysters_89_jpg.rf.8ba872cda75f69620031a6590fd28e89.jpg: 416x416 7 oysterss, 1 sea scallops, 8.8ms\n",
      "image 1466/1846 C:\\Users\\ryun1\\ds\\final_project\\final_datafile\\data\\test\\images\\pawpaw_20_jpg.rf.92c2d4c24c6fde6524b423411dda5adf.jpg: 416x416 7 mangos, 9.5ms\n",
      "image 1467/1846 C:\\Users\\ryun1\\ds\\final_project\\final_datafile\\data\\test\\images\\persimmon_10_jpg.rf.7f39311b7d2b2f474280f1a48eb37f90.jpg: 416x416 1 persimmon, 7.3ms\n",
      "image 1468/1846 C:\\Users\\ryun1\\ds\\final_project\\final_datafile\\data\\test\\images\\persimmon_10_jpg.rf.f6d9786f013a6caf01dc1993cd7ead3b.jpg: 416x416 1 persimmon, 8.2ms\n",
      "image 1469/1846 C:\\Users\\ryun1\\ds\\final_project\\final_datafile\\data\\test\\images\\persimmon_12_jpg.rf.c9bf1756d47757c8942488b7bf578a81.jpg: 416x416 1 persimmon, 8.4ms\n",
      "image 1470/1846 C:\\Users\\ryun1\\ds\\final_project\\final_datafile\\data\\test\\images\\persimmon_16_jpg.rf.d9659da499c6f1552ec389b74b2ae570.jpg: 416x416 1 persimmon, 8.3ms\n",
      "image 1471/1846 C:\\Users\\ryun1\\ds\\final_project\\final_datafile\\data\\test\\images\\persimmon_17_jpg.rf.5f7cef113efc27b01a115064fc4fe235.jpg: 416x416 1 persimmon, 8.8ms\n",
      "image 1472/1846 C:\\Users\\ryun1\\ds\\final_project\\final_datafile\\data\\test\\images\\persimmon_18_jpg.rf.cd0e1856349e86288ad47af58f0d1bd3.jpg: 416x416 1 persimmon, 10.3ms\n",
      "image 1473/1846 C:\\Users\\ryun1\\ds\\final_project\\final_datafile\\data\\test\\images\\persimmon_19_jpg.rf.e1a9d8902a0a4dd8ead421a93e5b8b1b.jpg: 416x416 1 persimmon, 9.2ms\n",
      "image 1474/1846 C:\\Users\\ryun1\\ds\\final_project\\final_datafile\\data\\test\\images\\persimmon_1_jpg.rf.bdb6f13970924bfe5fb17b6d992d9fc5.jpg: 416x416 1 persimmon, 8.4ms\n",
      "image 1475/1846 C:\\Users\\ryun1\\ds\\final_project\\final_datafile\\data\\test\\images\\persimmon_20_jpg.rf.fd5fd7d588215412b2f1ad6a690844ec.jpg: 416x416 1 persimmon, 9.3ms\n",
      "image 1476/1846 C:\\Users\\ryun1\\ds\\final_project\\final_datafile\\data\\test\\images\\persimmon_21_jpg.rf.cfe9435ca15178165a3a59a1f162bbc4.jpg: 416x416 1 persimmon, 8.6ms\n",
      "image 1477/1846 C:\\Users\\ryun1\\ds\\final_project\\final_datafile\\data\\test\\images\\persimmon_24_jpg.rf.185807c4a545bacccb928f4c54ba3a70.jpg: 416x416 1 persimmon, 9.3ms\n",
      "image 1478/1846 C:\\Users\\ryun1\\ds\\final_project\\final_datafile\\data\\test\\images\\persimmon_25_jpg.rf.5187c0013a8ee8cbdf0437aa6544a7ab.jpg: 416x416 1 persimmon, 9.6ms\n",
      "image 1479/1846 C:\\Users\\ryun1\\ds\\final_project\\final_datafile\\data\\test\\images\\persimmon_26_jpg.rf.6b6b4d2dee0d117a1676d3875ccaaae2.jpg: 416x416 1 persimmon, 8.7ms\n",
      "image 1480/1846 C:\\Users\\ryun1\\ds\\final_project\\final_datafile\\data\\test\\images\\persimmon_27_jpg.rf.b3155213abd58429ece46557038f0c37.jpg: 416x416 1 persimmon, 9.1ms\n",
      "image 1481/1846 C:\\Users\\ryun1\\ds\\final_project\\final_datafile\\data\\test\\images\\persimmon_28_jpg.rf.a9efab81dd3447ae7884e0c15ab5ac94.jpg: 416x416 1 persimmon, 8.6ms\n",
      "image 1482/1846 C:\\Users\\ryun1\\ds\\final_project\\final_datafile\\data\\test\\images\\persimmon_29_jpg.rf.3ded92fef27f6908c1ce31fe9d6bc325.jpg: 416x416 1 persimmon, 8.3ms\n",
      "image 1483/1846 C:\\Users\\ryun1\\ds\\final_project\\final_datafile\\data\\test\\images\\persimmon_2_jpg.rf.3c4b008c6298db08f68f6ab252d5ee4c.jpg: 416x416 1 persimmon, 11.4ms\n",
      "image 1484/1846 C:\\Users\\ryun1\\ds\\final_project\\final_datafile\\data\\test\\images\\persimmon_30_jpg.rf.096ba32c4b2e5249d7de8af5650ac0bc.jpg: 416x416 1 persimmon, 7.9ms\n",
      "image 1485/1846 C:\\Users\\ryun1\\ds\\final_project\\final_datafile\\data\\test\\images\\persimmon_30_jpg.rf.1e072f9e15a65146075eccac041045e6.jpg: 416x416 1 persimmon, 7.8ms\n",
      "image 1486/1846 C:\\Users\\ryun1\\ds\\final_project\\final_datafile\\data\\test\\images\\persimmon_3_jpg.rf.361f0db63c775a77bd29859a8094a23e.jpg: 416x416 1 persimmon, 8.6ms\n",
      "image 1487/1846 C:\\Users\\ryun1\\ds\\final_project\\final_datafile\\data\\test\\images\\persimmon_4_jpg.rf.03998cdba777464980b45d2dbfbb856c.jpg: 416x416 1 tomato, 1 persimmon, 9.1ms\n",
      "image 1488/1846 C:\\Users\\ryun1\\ds\\final_project\\final_datafile\\data\\test\\images\\persimmon_4_jpg.rf.ca3182c16e9ea7f1e979056508e64eca.jpg: 416x416 1 tomato, 8.3ms\n",
      "image 1489/1846 C:\\Users\\ryun1\\ds\\final_project\\final_datafile\\data\\test\\images\\persimmon_4_jpg.rf.d00f7fa469ceb00d666d472aaa9ac9ef.jpg: 416x416 1 tomato, 1 persimmon, 8.3ms\n",
      "image 1490/1846 C:\\Users\\ryun1\\ds\\final_project\\final_datafile\\data\\test\\images\\persimmon_6_jpg.rf.66b648c2baa5f984d08a2d0f3826b828.jpg: 416x416 1 persimmon, 7.2ms\n",
      "image 1491/1846 C:\\Users\\ryun1\\ds\\final_project\\final_datafile\\data\\test\\images\\persimmon_6_jpg.rf.b61448b758c60efd0a76b7595a5999f2.jpg: 416x416 1 persimmon, 8.1ms\n",
      "image 1492/1846 C:\\Users\\ryun1\\ds\\final_project\\final_datafile\\data\\test\\images\\persimmon_7_jpg.rf.92edc26f4f99e1762dbb5d552a7467e4.jpg: 416x416 1 persimmon, 7.6ms\n",
      "image 1493/1846 C:\\Users\\ryun1\\ds\\final_project\\final_datafile\\data\\test\\images\\persimmon_8_jpg.rf.f4d34e95d71394c11f47330585dbfaa0.jpg: 416x416 1 persimmon, 9.2ms\n",
      "image 1494/1846 C:\\Users\\ryun1\\ds\\final_project\\final_datafile\\data\\test\\images\\persimmon_9_jpg.rf.330bd772ddfe1077703cb839fd72f715.jpg: 416x416 1 persimmon, 10.1ms\n",
      "image 1495/1846 C:\\Users\\ryun1\\ds\\final_project\\final_datafile\\data\\test\\images\\photo-1611059263765-f57653f3bba3_jpg.rf.917eaec247649d6cc833831cd6a409ff.jpg: 416x416 4 porks, 8.6ms\n",
      "image 1496/1846 C:\\Users\\ryun1\\ds\\final_project\\final_datafile\\data\\test\\images\\photo_10_2023-03-18_23-58-41_jpg.rf.986a1ee674fa7779bfb65a8999cb4915.jpg: 416x416 4 Apples, 3 Bananas, 3 Cucumbers, 4 Oranges, 4 Tomatos, 7.3ms\n",
      "image 1497/1846 C:\\Users\\ryun1\\ds\\final_project\\final_datafile\\data\\test\\images\\photo_13_2023-03-11_21-51-48_jpg.rf.7d95d1c2473c434ff3d743b9659ae6b3.jpg: 416x416 4 Apples, 2 Cucumbers, 4 Oranges, 3 Tomatos, 9.3ms\n",
      "image 1498/1846 C:\\Users\\ryun1\\ds\\final_project\\final_datafile\\data\\test\\images\\photo_13_2023-03-18_23-58-41_jpg.rf.6314b48e315031a40986b7c6ecbf90be.jpg: 416x416 3 Apples, 6 Bananas, 6 Cucumbers, 3 Oranges, 2 Tomatos, 8.2ms\n",
      "image 1499/1846 C:\\Users\\ryun1\\ds\\final_project\\final_datafile\\data\\test\\images\\photo_17_2023-03-18_23-58-41_jpg.rf.003cd4ca3adbd4cf4b07697e4d06fb33.jpg: 416x416 4 Apples, 2 Bananas, 7 Cucumbers, 1 Orange, 4 Tomatos, 8.2ms\n",
      "image 1500/1846 C:\\Users\\ryun1\\ds\\final_project\\final_datafile\\data\\test\\images\\photo_18_2023-03-18_23-58-14_jpg.rf.278c9029d5bc00a1143d6f50e0df606d.jpg: 416x416 4 Apples, 7 Bananas, 4 Cucumbers, 4 Oranges, 1 Tomato, 9.3ms\n",
      "image 1501/1846 C:\\Users\\ryun1\\ds\\final_project\\final_datafile\\data\\test\\images\\photo_19_2023-03-11_21-51-48_jpg.rf.02283a90add19ca17187abb8d6fa02ca.jpg: 416x416 3 Apples, 4 Cucumbers, 4 Oranges, 3 Tomatos, 8.3ms\n",
      "image 1502/1846 C:\\Users\\ryun1\\ds\\final_project\\final_datafile\\data\\test\\images\\photo_21_2023-03-11_21-51-48_jpg.rf.446b0148e37e99422f41b519c77f4398.jpg: 416x416 4 Apples, 3 Cucumbers, 5 Oranges, 3 Tomatos, 7.1ms\n",
      "image 1503/1846 C:\\Users\\ryun1\\ds\\final_project\\final_datafile\\data\\test\\images\\photo_24_2023-03-18_23-58-14_jpg.rf.58dcb609c1e4759019ce2914b3e4610b.jpg: 416x416 4 Apples, 2 Bananas, 3 Cucumbers, 4 Oranges, 4 Tomatos, 7.8ms\n",
      "image 1504/1846 C:\\Users\\ryun1\\ds\\final_project\\final_datafile\\data\\test\\images\\photo_24_2023-03-18_23-58-35_jpg.rf.2e36675d4701fae29873811b8a216bd6.jpg: 416x416 3 Apples, 3 Bananas, 3 Cucumbers, 4 Oranges, 2 Tomatos, 8.4ms\n",
      "image 1505/1846 C:\\Users\\ryun1\\ds\\final_project\\final_datafile\\data\\test\\images\\photo_25_2023-03-11_21-51-48_jpg.rf.249a12345856272ac5d4292299380d65.jpg: 416x416 4 Apples, 4 Cucumbers, 1 Orange, 3 Tomatos, 7.6ms\n",
      "image 1506/1846 C:\\Users\\ryun1\\ds\\final_project\\final_datafile\\data\\test\\images\\photo_2_2023-03-18_23-58-35_jpg.rf.ed42a0e4cf0ec6b17790c2a37a25736e.jpg: 416x416 5 Apples, 3 Bananas, 4 Cucumbers, 5 Oranges, 2 Tomatos, 8.3ms\n",
      "image 1507/1846 C:\\Users\\ryun1\\ds\\final_project\\final_datafile\\data\\test\\images\\photo_2_2023-03-18_23-58-41_jpg.rf.60ea6cb14477b9f90309e0d8282c1bbc.jpg: 416x416 4 Apples, 4 Bananas, 3 Cucumbers, 4 Oranges, 4 Tomatos, 7.8ms\n",
      "image 1508/1846 C:\\Users\\ryun1\\ds\\final_project\\final_datafile\\data\\test\\images\\photo_30_2023-03-18_23-58-35_jpg.rf.d9063b5c132d58331096dd73cad06b87.jpg: 416x416 4 Apples, 3 Bananas, 2 Cucumbers, 4 Oranges, 3 Tomatos, 8.4ms\n"
     ]
    },
    {
     "name": "stdout",
     "output_type": "stream",
     "text": [
      "image 1509/1846 C:\\Users\\ryun1\\ds\\final_project\\final_datafile\\data\\test\\images\\photo_6_2023-03-11_21-51-48_jpg.rf.9fec2b4bd426caf1ca646e1b1620d023.jpg: 416x416 2 Apples, 1 Cucumber, 2 Oranges, 2 Tomatos, 8.6ms\n",
      "image 1510/1846 C:\\Users\\ryun1\\ds\\final_project\\final_datafile\\data\\test\\images\\photo_7_2023-03-11_21-51-48_jpg.rf.7a6bb1f5184a1743931d7e71243b6f11.jpg: 416x416 1 Apple, 1 Banana, 4 Cucumbers, 3 Oranges, 3 Tomatos, 9.2ms\n",
      "image 1511/1846 C:\\Users\\ryun1\\ds\\final_project\\final_datafile\\data\\test\\images\\photo_8_2023-03-18_23-58-14_jpg.rf.c55b4d1ec96f3b50f896261bdb475154.jpg: 416x416 4 Apples, 3 Bananas, 6 Cucumbers, 4 Oranges, 8 Tomatos, 8.6ms\n",
      "image 1512/1846 C:\\Users\\ryun1\\ds\\final_project\\final_datafile\\data\\test\\images\\photo_8_2023-03-18_23-58-35_jpg.rf.6530a11c6f52e68ff4f7cbc6a9d3db37.jpg: 416x416 4 Apples, 3 Bananas, 4 Cucumbers, 4 Oranges, 7 Tomatos, 7.8ms\n",
      "image 1513/1846 C:\\Users\\ryun1\\ds\\final_project\\final_datafile\\data\\test\\images\\photo_8_2023-03-18_23-58-41_jpg.rf.3e13d97c289057a5ed0b0e6750b424dc.jpg: 416x416 4 Apples, 2 Bananas, 4 Cucumbers, 5 Oranges, 4 Tomatos, 7.6ms\n",
      "image 1514/1846 C:\\Users\\ryun1\\ds\\final_project\\final_datafile\\data\\test\\images\\pineapple_13_jpg.rf.c0d9432553445850622a56c8cbde69d6.jpg: 416x416 1 banana, 1 pineapple, 8.9ms\n",
      "image 1515/1846 C:\\Users\\ryun1\\ds\\final_project\\final_datafile\\data\\test\\images\\pineapple_24_png.rf.94353058c9194911171215e661ef9d19.jpg: 416x416 2 pineapples, 8.7ms\n",
      "image 1516/1846 C:\\Users\\ryun1\\ds\\final_project\\final_datafile\\data\\test\\images\\pineapple_25_jpg.rf.ff143fbf93aa907b2fed1ff11977f4b6.jpg: 416x416 2 pineapples, 7.8ms\n",
      "image 1517/1846 C:\\Users\\ryun1\\ds\\final_project\\final_datafile\\data\\test\\images\\pineapple_29_jpg.rf.8d3e1e80a65c366f69c6adcbef32574e.jpg: 416x416 5 pineapples, 9.0ms\n",
      "image 1518/1846 C:\\Users\\ryun1\\ds\\final_project\\final_datafile\\data\\test\\images\\pineapple_2_jpg.rf.ee1c2b2ed686009413fe71dbe30ddf45.jpg: 416x416 2 pineapples, 7.4ms\n",
      "image 1519/1846 C:\\Users\\ryun1\\ds\\final_project\\final_datafile\\data\\test\\images\\pineapple_42_png.rf.94ea4ae1ba41577337d6d5aed2e6d42a.jpg: 416x416 1 pineapple, 2 spinachs, 7.3ms\n",
      "image 1520/1846 C:\\Users\\ryun1\\ds\\final_project\\final_datafile\\data\\test\\images\\pineapple_8_jpg.rf.0fe7b1d51a044cd859c8e09783152f1d.jpg: 416x416 1 pineapple, 10.1ms\n",
      "image 1521/1846 C:\\Users\\ryun1\\ds\\final_project\\final_datafile\\data\\test\\images\\pineapple_90_jpg.rf.033429f2137496be9a684188dfe37663.jpg: 416x416 1 pineapple, 7.8ms\n",
      "image 1522/1846 C:\\Users\\ryun1\\ds\\final_project\\final_datafile\\data\\test\\images\\pineapple_gold_280_jpg.rf.79ad4f828f1a64ce5c4d950f77c03b9f.jpg: 416x416 1 10_pineapple, 1 banana, 4 pineapples, 7.2ms\n",
      "image 1523/1846 C:\\Users\\ryun1\\ds\\final_project\\final_datafile\\data\\test\\images\\plantains25_jpeg.rf.d8be9088e61537ffdb1aa5277bab9147.jpg: 416x416 1 banana, 9.6ms\n",
      "image 1524/1846 C:\\Users\\ryun1\\ds\\final_project\\final_datafile\\data\\test\\images\\plantains72_jpeg.rf.6d9ad97f6288b136c80fdf7b123a8058.jpg: 416x416 2 ampalayas, 1 carrot, 8.2ms\n",
      "image 1525/1846 C:\\Users\\ryun1\\ds\\final_project\\final_datafile\\data\\test\\images\\pngimg-com-chili_pepper_PNG15_png.rf.565f96bc0a23cd3e56231197e4dfbfd2.jpg: 416x416 4 red chilis, 10.1ms\n",
      "image 1526/1846 C:\\Users\\ryun1\\ds\\final_project\\final_datafile\\data\\test\\images\\pork_belly_10_jpg.rf.93d22d7d8be57ace9c7fcc12c47b0d7b.jpg: 416x416 4 pork bellys, 7.3ms\n",
      "image 1527/1846 C:\\Users\\ryun1\\ds\\final_project\\final_datafile\\data\\test\\images\\pork_belly_21_jpg.rf.9e68cc9be62b8bb3a31c72aca6e0b30b.jpg: 416x416 3 pork bellys, 8.2ms\n",
      "image 1528/1846 C:\\Users\\ryun1\\ds\\final_project\\final_datafile\\data\\test\\images\\pork_belly_22_jpg.rf.304b29b56240fd3529c48c7d553302a4.jpg: 416x416 1 salmon, 8.0ms\n",
      "image 1529/1846 C:\\Users\\ryun1\\ds\\final_project\\final_datafile\\data\\test\\images\\pork_belly_24_jpg.rf.1153fa4c196b5dd4e218f48d486204bd.jpg: 416x416 1 pork, 7.6ms\n",
      "image 1530/1846 C:\\Users\\ryun1\\ds\\final_project\\final_datafile\\data\\test\\images\\pork_belly_36_jpg.rf.36857511444aa86d2f123a8ce51bf085.jpg: 416x416 1 beef, 8.5ms\n",
      "image 1531/1846 C:\\Users\\ryun1\\ds\\final_project\\final_datafile\\data\\test\\images\\pork_belly_46_jpg.rf.b9de24446a1cedcf72df87b1cae85e70.jpg: 416x416 1 pork, 1 pork belly, 7.9ms\n",
      "image 1532/1846 C:\\Users\\ryun1\\ds\\final_project\\final_datafile\\data\\test\\images\\pork_belly_57_jpg.rf.b0e7b4e4539374f6abdab025ad24a587.jpg: 416x416 (no detections), 8.7ms\n",
      "image 1533/1846 C:\\Users\\ryun1\\ds\\final_project\\final_datafile\\data\\test\\images\\pork_belly_64_jpg.rf.88641d9afb8d0191c7015fb37eb8ef81.jpg: 416x416 1 beef, 1 spinach, 8.2ms\n",
      "image 1534/1846 C:\\Users\\ryun1\\ds\\final_project\\final_datafile\\data\\test\\images\\pork_belly_6_jpg.rf.8c9459e7127c205787f26fcc8de94b5d.jpg: 416x416 2 porks, 7.0ms\n",
      "image 1535/1846 C:\\Users\\ryun1\\ds\\final_project\\final_datafile\\data\\test\\images\\pork_belly_78_jpg.rf.9fda3e17e7fac8a219b08ebd8fd00030.jpg: 416x416 1 pork, 3 red chilis, 7.3ms\n",
      "image 1536/1846 C:\\Users\\ryun1\\ds\\final_project\\final_datafile\\data\\test\\images\\pork_belly_81_jpg.rf.ca8478bbd7bbd1d5cea3884c6ca7caec.jpg: 416x416 1 pork belly, 9.6ms\n",
      "image 1537/1846 C:\\Users\\ryun1\\ds\\final_project\\final_datafile\\data\\test\\images\\pork_belly_85_jpg.rf.8032b867be7d6b27dae5efa9332d5526.jpg: 416x416 1 pork, 8.7ms\n",
      "image 1538/1846 C:\\Users\\ryun1\\ds\\final_project\\final_datafile\\data\\test\\images\\pork_belly_89_jpg.rf.b036455b53221b5cf84ada4ab3e45743.jpg: 416x416 1 beef, 9.9ms\n",
      "image 1539/1846 C:\\Users\\ryun1\\ds\\final_project\\final_datafile\\data\\test\\images\\pork_belly_91_jpg.rf.0185f02606fb7b522569fe9f3c0c5c34.jpg: 416x416 1 pork belly, 8.3ms\n",
      "image 1540/1846 C:\\Users\\ryun1\\ds\\final_project\\final_datafile\\data\\test\\images\\pork_belly_95_jpg.rf.0266204617b9acae64617aac4636b6fd.jpg: 416x416 4 pork bellys, 9.8ms\n",
      "image 1541/1846 C:\\Users\\ryun1\\ds\\final_project\\final_datafile\\data\\test\\images\\potato_11_jpg.rf.87e187f618863ae5cd08ba1946f4cf02.jpg: 416x416 1 potato, 10.0ms\n",
      "image 1542/1846 C:\\Users\\ryun1\\ds\\final_project\\final_datafile\\data\\test\\images\\potato_12_jpg.rf.a7a487a6efb2c907eae7adf87364acf2.jpg: 416x416 1 potato, 8.2ms\n",
      "image 1543/1846 C:\\Users\\ryun1\\ds\\final_project\\final_datafile\\data\\test\\images\\potato_14_jpg.rf.b72c80483f046d5a46eee917b18ec65d.jpg: 416x416 1 potato, 7.7ms\n",
      "image 1544/1846 C:\\Users\\ryun1\\ds\\final_project\\final_datafile\\data\\test\\images\\potato_14_jpg.rf.d7fcabb93d6c52b27423b334ad43b320.jpg: 416x416 1 potato, 8.2ms\n",
      "image 1545/1846 C:\\Users\\ryun1\\ds\\final_project\\final_datafile\\data\\test\\images\\potato_15_jpg.rf.fc6c9f0001b36a6a226bd6c72f1e3e13.jpg: 416x416 1 potato, 8.1ms\n",
      "image 1546/1846 C:\\Users\\ryun1\\ds\\final_project\\final_datafile\\data\\test\\images\\potato_16_jpg.rf.253440f64e7f1d10e6db3d3982348f76.jpg: 416x416 13 potatos, 8.1ms\n",
      "image 1547/1846 C:\\Users\\ryun1\\ds\\final_project\\final_datafile\\data\\test\\images\\potato_16_jpg.rf.440db668a09b439bf985f21852344707.jpg: 416x416 1 potato, 10.2ms\n",
      "image 1548/1846 C:\\Users\\ryun1\\ds\\final_project\\final_datafile\\data\\test\\images\\potato_17_jpg.rf.a72f522271028847029bfea9a5dcec11.jpg: 416x416 1 potato, 9.3ms\n",
      "image 1549/1846 C:\\Users\\ryun1\\ds\\final_project\\final_datafile\\data\\test\\images\\potato_19_jpg.rf.bd489dd492591b389316bbdbb672daa7.jpg: 416x416 1 potato, 10.3ms\n",
      "image 1550/1846 C:\\Users\\ryun1\\ds\\final_project\\final_datafile\\data\\test\\images\\potato_1_jpg.rf.22b7bba5808f3655151ee45715730ae7.jpg: 416x416 1 potato, 10.7ms\n",
      "image 1551/1846 C:\\Users\\ryun1\\ds\\final_project\\final_datafile\\data\\test\\images\\potato_1_jpg.rf.8d2822ea77c78a3db2a606f42133aa43.jpg: 416x416 3 potatos, 8.8ms\n",
      "image 1552/1846 C:\\Users\\ryun1\\ds\\final_project\\final_datafile\\data\\test\\images\\potato_20_jpg.rf.f755ab3565d209ea3b4659f8a20761ff.jpg: 416x416 1 potato, 9.9ms\n",
      "image 1553/1846 C:\\Users\\ryun1\\ds\\final_project\\final_datafile\\data\\test\\images\\potato_21_jpg.rf.e18392c96ed2e204ba06832ae059beee.jpg: 416x416 1 potato, 9.0ms\n",
      "image 1554/1846 C:\\Users\\ryun1\\ds\\final_project\\final_datafile\\data\\test\\images\\potato_23_jpg.rf.5029f664b8f9bbc4b52b482487418d0e.jpg: 416x416 1 potato, 10.1ms\n",
      "image 1555/1846 C:\\Users\\ryun1\\ds\\final_project\\final_datafile\\data\\test\\images\\potato_25_jpg.rf.a4718a142b5f668cd62c95233ae2d463.jpg: 416x416 3 potatos, 8.1ms\n",
      "image 1556/1846 C:\\Users\\ryun1\\ds\\final_project\\final_datafile\\data\\test\\images\\potato_25_jpg.rf.a9f1f643b61eb0b6a8e51be936cf0247.jpg: 416x416 1 potato, 9.3ms\n"
     ]
    },
    {
     "name": "stdout",
     "output_type": "stream",
     "text": [
      "image 1557/1846 C:\\Users\\ryun1\\ds\\final_project\\final_datafile\\data\\test\\images\\potato_26_jpg.rf.f16f8e83dad6713ce373487125e3c230.jpg: 416x416 1 potato, 8.4ms\n",
      "image 1558/1846 C:\\Users\\ryun1\\ds\\final_project\\final_datafile\\data\\test\\images\\potato_27_jpg.rf.b3b81f9a1a126d1281f1e413a3838d18.jpg: 416x416 1 potato, 8.4ms\n",
      "image 1559/1846 C:\\Users\\ryun1\\ds\\final_project\\final_datafile\\data\\test\\images\\potato_28_jpg.rf.2aa76e280d4270180247c3e0c641d4bc.jpg: 416x416 1 potato, 11.0ms\n",
      "image 1560/1846 C:\\Users\\ryun1\\ds\\final_project\\final_datafile\\data\\test\\images\\potato_28_jpg.rf.c960c1c9ddd82551932054c3d7a038e9.jpg: 416x416 1 potato, 10.2ms\n",
      "image 1561/1846 C:\\Users\\ryun1\\ds\\final_project\\final_datafile\\data\\test\\images\\potato_29_jpg.rf.4ba1a859ef640550daddda3b8e8ffe33.jpg: 416x416 1 potato, 9.1ms\n",
      "image 1562/1846 C:\\Users\\ryun1\\ds\\final_project\\final_datafile\\data\\test\\images\\potato_2_jpg.rf.09308814f717ced8acda190378c39657.jpg: 416x416 1 kiwi, 1 potato, 9.3ms\n",
      "image 1563/1846 C:\\Users\\ryun1\\ds\\final_project\\final_datafile\\data\\test\\images\\potato_30_jpg.rf.6d518aeae2173c7f11e45cc660069176.jpg: 416x416 1 potato, 8.4ms\n",
      "image 1564/1846 C:\\Users\\ryun1\\ds\\final_project\\final_datafile\\data\\test\\images\\potato_35_png.rf.d5d02703fecc2c3d0c9fb296eab84a23.jpg: 416x416 1 potato, 8.0ms\n",
      "image 1565/1846 C:\\Users\\ryun1\\ds\\final_project\\final_datafile\\data\\test\\images\\potato_48_jpg.rf.3e771f908d931544b1c07c9374f412c1.jpg: 416x416 1 potato, 8.2ms\n",
      "image 1566/1846 C:\\Users\\ryun1\\ds\\final_project\\final_datafile\\data\\test\\images\\potato_4_jpg.rf.074ff53cf2969f5265be78ebf3400e21.jpg: 416x416 1 potato, 9.3ms\n",
      "image 1567/1846 C:\\Users\\ryun1\\ds\\final_project\\final_datafile\\data\\test\\images\\potato_4_jpg.rf.1c1da2fe0f26dc75abfb1435f251e3bf.jpg: 416x416 2 potatos, 9.9ms\n",
      "image 1568/1846 C:\\Users\\ryun1\\ds\\final_project\\final_datafile\\data\\test\\images\\potato_4_jpg.rf.76636f32bda47881df2647381198af28.jpg: 416x416 1 potato, 9.2ms\n",
      "image 1569/1846 C:\\Users\\ryun1\\ds\\final_project\\final_datafile\\data\\test\\images\\potato_58_jpg.rf.f9776f7844a4c670e3fc05f0955be5bc.jpg: 416x416 5 potatos, 7.9ms\n",
      "image 1570/1846 C:\\Users\\ryun1\\ds\\final_project\\final_datafile\\data\\test\\images\\potato_59_jpg.rf.d768f068bfb378377257d94f7b167e6b.jpg: 416x416 7 potatos, 7.7ms\n",
      "image 1571/1846 C:\\Users\\ryun1\\ds\\final_project\\final_datafile\\data\\test\\images\\potato_5_jpg.rf.ddec7c4c7b5098fe0981ec79bbe6c711.jpg: 416x416 1 potato, 8.6ms\n",
      "image 1572/1846 C:\\Users\\ryun1\\ds\\final_project\\final_datafile\\data\\test\\images\\potato_6_jpg.rf.3ffeeee2eea96589c446e211dcb1bd7c.jpg: 416x416 1 potato, 9.3ms\n",
      "image 1573/1846 C:\\Users\\ryun1\\ds\\final_project\\final_datafile\\data\\test\\images\\potato_72_jpg.rf.fe7ccdd6352f68e4766851496dc00389.jpg: 416x416 4 potatos, 8.4ms\n",
      "image 1574/1846 C:\\Users\\ryun1\\ds\\final_project\\final_datafile\\data\\test\\images\\potato_74_jpg.rf.5bd69025c78038cad1cae3a1f44d5254.jpg: 416x416 3 potatos, 8.3ms\n",
      "image 1575/1846 C:\\Users\\ryun1\\ds\\final_project\\final_datafile\\data\\test\\images\\potato_75_jpg.rf.d661cfa6326e2546c681ea9b16596cbc.jpg: 416x416 4 potatos, 8.2ms\n",
      "image 1576/1846 C:\\Users\\ryun1\\ds\\final_project\\final_datafile\\data\\test\\images\\potato_7_jpg.rf.27b1d832676bade25267f2db2131248a.jpg: 416x416 1 potato, 10.3ms\n",
      "image 1577/1846 C:\\Users\\ryun1\\ds\\final_project\\final_datafile\\data\\test\\images\\potato_8_jpg.rf.b301490bab5ac42bf5abdcd8b212a7d1.jpg: 416x416 1 potato, 8.8ms\n",
      "image 1578/1846 C:\\Users\\ryun1\\ds\\final_project\\final_datafile\\data\\test\\images\\potato_8_jpg.rf.d760fad9578f6d8dd3171fa242e80906.jpg: 416x416 1 potato, 9.7ms\n",
      "image 1579/1846 C:\\Users\\ryun1\\ds\\final_project\\final_datafile\\data\\test\\images\\potato_90_jpg.rf.0760d51a6f929637108a86ede7523f42.jpg: 416x416 2 potatos, 9.1ms\n",
      "image 1580/1846 C:\\Users\\ryun1\\ds\\final_project\\final_datafile\\data\\test\\images\\potato_91_jpg.rf.32f2ff55f0bce4d1e6895c2856bdbe6d.jpg: 416x416 2 potatos, 8.1ms\n",
      "image 1581/1846 C:\\Users\\ryun1\\ds\\final_project\\final_datafile\\data\\test\\images\\potato_94_jpg.rf.89d829e0e0da3a7763369cf577c920b3.jpg: 416x416 2 potatos, 10.3ms\n",
      "image 1582/1846 C:\\Users\\ryun1\\ds\\final_project\\final_datafile\\data\\test\\images\\potato_96_jpg.rf.2f7d72b62aa9740927b6ee51e2af16e9.jpg: 416x416 1 potato, 8.6ms\n",
      "image 1583/1846 C:\\Users\\ryun1\\ds\\final_project\\final_datafile\\data\\test\\images\\potato_9_jpg.rf.679ca1e959687145541663fffacc80d4.jpg: 416x416 1 potato, 8.8ms\n",
      "image 1584/1846 C:\\Users\\ryun1\\ds\\final_project\\final_datafile\\data\\test\\images\\powder_10_jpg.rf.e36ed4c87d5fb8fb5e9c6a47c460ffb9.jpg: 416x416 1 powder, 9.1ms\n",
      "image 1585/1846 C:\\Users\\ryun1\\ds\\final_project\\final_datafile\\data\\test\\images\\powder_11_jpg.rf.1e0cdef9052eb1bd9654ba60e4798649.jpg: 416x416 1 powder, 8.7ms\n",
      "image 1586/1846 C:\\Users\\ryun1\\ds\\final_project\\final_datafile\\data\\test\\images\\powder_11_jpg.rf.75c71ee4369a1027f6c3a95028f2bd60.jpg: 416x416 1 powder, 8.4ms\n",
      "image 1587/1846 C:\\Users\\ryun1\\ds\\final_project\\final_datafile\\data\\test\\images\\powder_12_jpg.rf.a9b0194c2085eb23a4c1dc23f36d801f.jpg: 416x416 1 powder, 8.8ms\n",
      "image 1588/1846 C:\\Users\\ryun1\\ds\\final_project\\final_datafile\\data\\test\\images\\powder_13_jpg.rf.4448b4a0d6eb68229ee40a4ea796578c.jpg: 416x416 1 powder, 8.1ms\n",
      "image 1589/1846 C:\\Users\\ryun1\\ds\\final_project\\final_datafile\\data\\test\\images\\powder_14_jpg.rf.5da712acd87e6417e61ae931701383a4.jpg: 416x416 1 powder, 8.1ms\n",
      "image 1590/1846 C:\\Users\\ryun1\\ds\\final_project\\final_datafile\\data\\test\\images\\powder_14_jpg.rf.c62fab0caf37d4615929bbb8b6f3582a.jpg: 416x416 1 powder, 10.7ms\n",
      "image 1591/1846 C:\\Users\\ryun1\\ds\\final_project\\final_datafile\\data\\test\\images\\powder_17_jpg.rf.a57b1d528645b151893d70585f46a941.jpg: 416x416 1 powder, 7.5ms\n",
      "image 1592/1846 C:\\Users\\ryun1\\ds\\final_project\\final_datafile\\data\\test\\images\\powder_17_jpg.rf.b0df6fd16046a3dbed604352acd88234.jpg: 416x416 1 powder, 8.3ms\n",
      "image 1593/1846 C:\\Users\\ryun1\\ds\\final_project\\final_datafile\\data\\test\\images\\powder_18_jpg.rf.27a0a1c14219324fbea901e603ae9da0.jpg: 416x416 1 powder, 11.0ms\n",
      "image 1594/1846 C:\\Users\\ryun1\\ds\\final_project\\final_datafile\\data\\test\\images\\powder_19_jpg.rf.206b00ea69fab23e04f6a198ac789435.jpg: 416x416 1 powder, 9.4ms\n",
      "image 1595/1846 C:\\Users\\ryun1\\ds\\final_project\\final_datafile\\data\\test\\images\\powder_1_jpg.rf.dfcc00115c35f75a1580416d2827d351.jpg: 416x416 1 powder, 9.1ms\n",
      "image 1596/1846 C:\\Users\\ryun1\\ds\\final_project\\final_datafile\\data\\test\\images\\powder_22_jpg.rf.b73a9954a8601c902d6988e4f03017b1.jpg: 416x416 1 powder, 8.7ms\n",
      "image 1597/1846 C:\\Users\\ryun1\\ds\\final_project\\final_datafile\\data\\test\\images\\powder_23_jpg.rf.5a5c6c45237369a34136eaad44bc661b.jpg: 416x416 1 kiwi, 1 powder, 8.7ms\n",
      "image 1598/1846 C:\\Users\\ryun1\\ds\\final_project\\final_datafile\\data\\test\\images\\powder_23_jpg.rf.8bb27b8d66a56baabe76daaff8ad0f3b.jpg: 416x416 1 powder, 8.1ms\n",
      "image 1599/1846 C:\\Users\\ryun1\\ds\\final_project\\final_datafile\\data\\test\\images\\powder_24_jpg.rf.33d8e502491d201642941d09f124d26c.jpg: 416x416 1 powder, 8.3ms\n",
      "image 1600/1846 C:\\Users\\ryun1\\ds\\final_project\\final_datafile\\data\\test\\images\\powder_25_jpg.rf.ccffbc901e65b055ad3946f7aa4096ee.jpg: 416x416 1 powder, 10.0ms\n",
      "image 1601/1846 C:\\Users\\ryun1\\ds\\final_project\\final_datafile\\data\\test\\images\\powder_26_jpg.rf.3efd2ca8afe549e02a0ba5f33ae06788.jpg: 416x416 1 powder, 9.3ms\n",
      "image 1602/1846 C:\\Users\\ryun1\\ds\\final_project\\final_datafile\\data\\test\\images\\powder_26_jpg.rf.5476d7abbcbd39135a02045e06efcb51.jpg: 416x416 1 powder, 9.1ms\n",
      "image 1603/1846 C:\\Users\\ryun1\\ds\\final_project\\final_datafile\\data\\test\\images\\powder_27_jpg.rf.cee9e20592fe5f9da7077abc709ba8ea.jpg: 416x416 1 powder, 8.1ms\n",
      "image 1604/1846 C:\\Users\\ryun1\\ds\\final_project\\final_datafile\\data\\test\\images\\powder_2_jpg.rf.357cb7226bff5a81071785b76b7f6bb3.jpg: 416x416 1 powder, 8.6ms\n",
      "image 1605/1846 C:\\Users\\ryun1\\ds\\final_project\\final_datafile\\data\\test\\images\\powder_30_jpg.rf.6a28d9d5b30f6dfce569a2bd569f275e.jpg: 416x416 1 powder, 7.7ms\n",
      "image 1606/1846 C:\\Users\\ryun1\\ds\\final_project\\final_datafile\\data\\test\\images\\powder_4_jpg.rf.02b1be49b92a59c769c760104ead3e0f.jpg: 416x416 1 powder, 10.3ms\n",
      "image 1607/1846 C:\\Users\\ryun1\\ds\\final_project\\final_datafile\\data\\test\\images\\powder_6_jpg.rf.89839a6c912ee6e0a9a5b097ae83b1f5.jpg: 416x416 1 powder, 8.7ms\n",
      "image 1608/1846 C:\\Users\\ryun1\\ds\\final_project\\final_datafile\\data\\test\\images\\powder_7_jpg.rf.2b4d23a8d0a3da4eabcc365cf1dbc569.jpg: 416x416 1 powder, 10.3ms\n"
     ]
    },
    {
     "name": "stdout",
     "output_type": "stream",
     "text": [
      "image 1609/1846 C:\\Users\\ryun1\\ds\\final_project\\final_datafile\\data\\test\\images\\powder_7_jpg.rf.d3f9b4ad2511b1937de41f047abb5456.jpg: 416x416 1 powder, 8.2ms\n",
      "image 1610/1846 C:\\Users\\ryun1\\ds\\final_project\\final_datafile\\data\\test\\images\\powder_8_jpg.rf.b57d4f6a738bdca10ae46c1fdce90f4e.jpg: 416x416 1 powder, 9.7ms\n",
      "image 1611/1846 C:\\Users\\ryun1\\ds\\final_project\\final_datafile\\data\\test\\images\\powder_8_jpg.rf.cef3c2530189f59c9b9ee05615f78a4e.jpg: 416x416 1 powder, 8.5ms\n",
      "image 1612/1846 C:\\Users\\ryun1\\ds\\final_project\\final_datafile\\data\\test\\images\\pumpkin_33_jpg.rf.90722abf5e8c31ce9ae397021ba9ddd6.jpg: 416x416 2 pumpkins, 8.7ms\n",
      "image 1613/1846 C:\\Users\\ryun1\\ds\\final_project\\final_datafile\\data\\test\\images\\pumpkin_46_jpg.rf.56fe95bcc1f0223a572fc00bf343ad9f.jpg: 416x416 1 pumpkin, 8.8ms\n",
      "image 1614/1846 C:\\Users\\ryun1\\ds\\final_project\\final_datafile\\data\\test\\images\\pumpkin_49_jpg.rf.2e0872f656cda2a7deed6f2726a2b647.jpg: 416x416 4 pumpkins, 9.4ms\n",
      "image 1615/1846 C:\\Users\\ryun1\\ds\\final_project\\final_datafile\\data\\test\\images\\pumpkin_4_jpg.rf.a328091e4ce2fdb0d847d92831c12857.jpg: 416x416 3 pumpkins, 7.8ms\n",
      "image 1616/1846 C:\\Users\\ryun1\\ds\\final_project\\final_datafile\\data\\test\\images\\pumpkin_64_jpg.rf.473b30ae4997992c70264bc307693e6f.jpg: 416x416 5 pumpkins, 8.5ms\n",
      "image 1617/1846 C:\\Users\\ryun1\\ds\\final_project\\final_datafile\\data\\test\\images\\pumpkin_6_jpg.rf.86bb3ffef3d7cd7b28a04da724bf3507.jpg: 416x416 3 pumpkins, 8.2ms\n",
      "image 1618/1846 C:\\Users\\ryun1\\ds\\final_project\\final_datafile\\data\\test\\images\\pumpkin_79_jpg.rf.fee13ae39e4fbf9436a134d785e33bad.jpg: 416x416 1 pumpkin, 8.2ms\n",
      "image 1619/1846 C:\\Users\\ryun1\\ds\\final_project\\final_datafile\\data\\test\\images\\pumpkin_91_jpg.rf.ba418842e4114f354ff8084edbb75da7.jpg: 416x416 2 pumpkins, 9.9ms\n",
      "image 1620/1846 C:\\Users\\ryun1\\ds\\final_project\\final_datafile\\data\\test\\images\\radish_10_jpg.rf.f3f797325b12951abf8913947708c8f2.jpg: 416x416 1 radish, 9.7ms\n",
      "image 1621/1846 C:\\Users\\ryun1\\ds\\final_project\\final_datafile\\data\\test\\images\\radish_11_jpg.rf.c689be6edd224f2401050929d6e40f04.jpg: 416x416 1 radish, 7.8ms\n",
      "image 1622/1846 C:\\Users\\ryun1\\ds\\final_project\\final_datafile\\data\\test\\images\\radish_13_jpg.rf.ee6e91af0dbc220a599509fc301c721d.jpg: 416x416 1 radish, 9.3ms\n",
      "image 1623/1846 C:\\Users\\ryun1\\ds\\final_project\\final_datafile\\data\\test\\images\\radish_14_jpg.rf.5cfb8591a714544e6fa4cb6b37de57ae.jpg: 416x416 1 radish, 8.6ms\n",
      "image 1624/1846 C:\\Users\\ryun1\\ds\\final_project\\final_datafile\\data\\test\\images\\radish_15_jpg.rf.f95855daff8c7294c647123ad17b5652.jpg: 416x416 1 radish, 8.5ms\n",
      "image 1625/1846 C:\\Users\\ryun1\\ds\\final_project\\final_datafile\\data\\test\\images\\radish_16_jpg.rf.ca369e4df85c54e7bcd3705b3e935ee2.jpg: 416x416 1 radish, 8.6ms\n",
      "image 1626/1846 C:\\Users\\ryun1\\ds\\final_project\\final_datafile\\data\\test\\images\\radish_18_jpg.rf.574f2f22a9654443fec4f3c2933a8e88.jpg: 416x416 1 radish, 7.9ms\n",
      "image 1627/1846 C:\\Users\\ryun1\\ds\\final_project\\final_datafile\\data\\test\\images\\radish_19_jpg.rf.432585d312edb670cce707c4480b2abf.jpg: 416x416 1 radish, 9.5ms\n",
      "image 1628/1846 C:\\Users\\ryun1\\ds\\final_project\\final_datafile\\data\\test\\images\\radish_19_jpg.rf.8f0db07f5ef5cb0f3ebbc37ac36eeda7.jpg: 416x416 1 radish, 9.4ms\n",
      "image 1629/1846 C:\\Users\\ryun1\\ds\\final_project\\final_datafile\\data\\test\\images\\radish_1_jpg.rf.91e166509ef048d08c4da07a1993e6ba.jpg: 416x416 1 radish, 8.7ms\n",
      "image 1630/1846 C:\\Users\\ryun1\\ds\\final_project\\final_datafile\\data\\test\\images\\radish_21_jpg.rf.bee6adf46bfbde8c94cf628720172ba9.jpg: 416x416 1 radish, 7.6ms\n",
      "image 1631/1846 C:\\Users\\ryun1\\ds\\final_project\\final_datafile\\data\\test\\images\\radish_21_jpg.rf.ee96b7bf416cc5312431a13f7d52b164.jpg: 416x416 1 radish, 8.9ms\n",
      "image 1632/1846 C:\\Users\\ryun1\\ds\\final_project\\final_datafile\\data\\test\\images\\radish_22_jpg.rf.422111c1b64b84a08eb5a6572a24a506.jpg: 416x416 1 radish, 8.4ms\n",
      "image 1633/1846 C:\\Users\\ryun1\\ds\\final_project\\final_datafile\\data\\test\\images\\radish_22_jpg.rf.de4ea34230b6883639a4f08d088ad9f1.jpg: 416x416 1 radish, 9.5ms\n",
      "image 1634/1846 C:\\Users\\ryun1\\ds\\final_project\\final_datafile\\data\\test\\images\\radish_23_jpg.rf.cbe7d6fe0662925625026667427e3f46.jpg: 416x416 1 radish, 9.2ms\n",
      "image 1635/1846 C:\\Users\\ryun1\\ds\\final_project\\final_datafile\\data\\test\\images\\radish_24_jpg.rf.2038f6f01bd89cac676e71899a098d67.jpg: 416x416 1 radish, 9.2ms\n",
      "image 1636/1846 C:\\Users\\ryun1\\ds\\final_project\\final_datafile\\data\\test\\images\\radish_25_jpg.rf.dc76d552d05955d9b50c2862b35ae101.jpg: 416x416 1 radish, 9.3ms\n",
      "image 1637/1846 C:\\Users\\ryun1\\ds\\final_project\\final_datafile\\data\\test\\images\\radish_27_jpg.rf.3e1d6e10d07fbe8186a885bbe1e96a60.jpg: 416x416 1 radish, 8.4ms\n",
      "image 1638/1846 C:\\Users\\ryun1\\ds\\final_project\\final_datafile\\data\\test\\images\\radish_29_jpg.rf.a72d83f525592ab306e3a2a79bc02757.jpg: 416x416 1 cucumber, 1 radish, 8.6ms\n",
      "image 1639/1846 C:\\Users\\ryun1\\ds\\final_project\\final_datafile\\data\\test\\images\\radish_29_jpg.rf.f28f7aa7faf9d3e7d9ece397261ac3a0.jpg: 416x416 1 radish, 8.8ms\n",
      "image 1640/1846 C:\\Users\\ryun1\\ds\\final_project\\final_datafile\\data\\test\\images\\radish_30_jpg.rf.11d174044caebc215ef5ab49822db7cf.jpg: 416x416 1 cucumber, 1 radish, 8.6ms\n",
      "image 1641/1846 C:\\Users\\ryun1\\ds\\final_project\\final_datafile\\data\\test\\images\\radish_30_jpg.rf.ba3cdde60ea45137e64ec76b0ec28708.jpg: 416x416 1 radish, 10.1ms\n",
      "image 1642/1846 C:\\Users\\ryun1\\ds\\final_project\\final_datafile\\data\\test\\images\\radish_4_jpg.rf.c207c88b860cb3208c31df32c334a82c.jpg: 416x416 1 radish, 8.7ms\n",
      "image 1643/1846 C:\\Users\\ryun1\\ds\\final_project\\final_datafile\\data\\test\\images\\radish_6_jpg.rf.88cf911d12a67f0eaed6e69aea2002e7.jpg: 416x416 1 radish, 8.8ms\n",
      "image 1644/1846 C:\\Users\\ryun1\\ds\\final_project\\final_datafile\\data\\test\\images\\radish_7_jpg.rf.d923e76a7c207740dbda32581f8ffc63.jpg: 416x416 1 radish, 8.5ms\n",
      "image 1645/1846 C:\\Users\\ryun1\\ds\\final_project\\final_datafile\\data\\test\\images\\radish_7_jpg.rf.e9d0003bbcde974c8556a84207e736e2.jpg: 416x416 1 radish, 8.2ms\n",
      "image 1646/1846 C:\\Users\\ryun1\\ds\\final_project\\final_datafile\\data\\test\\images\\radish_9_jpg.rf.421c94f70147034e33cc3abd55780886.jpg: 416x416 1 radish, 9.5ms\n",
      "image 1647/1846 C:\\Users\\ryun1\\ds\\final_project\\final_datafile\\data\\test\\images\\radish_9_jpg.rf.83ff3bc0d7fd5c02dfd6f071a19ac6c4.jpg: 416x416 1 radish, 10.2ms\n",
      "image 1648/1846 C:\\Users\\ryun1\\ds\\final_project\\final_datafile\\data\\test\\images\\radishes_88_jpg.rf.e4513b3ea021ebef00bf030708ee950e.jpg: 416x416 4 tomatos, 8.5ms\n",
      "image 1649/1846 C:\\Users\\ryun1\\ds\\final_project\\final_datafile\\data\\test\\images\\salmon_12_jpg.rf.8f2275befdd008fbc9dd8f687904fe17.jpg: 416x416 1 pork belly, 1 salmon, 8.5ms\n",
      "image 1650/1846 C:\\Users\\ryun1\\ds\\final_project\\final_datafile\\data\\test\\images\\salmon_34_jpg.rf.75992508058bd7ceff0df516ee1602a6.jpg: 416x416 3 salmons, 7.9ms\n",
      "image 1651/1846 C:\\Users\\ryun1\\ds\\final_project\\final_datafile\\data\\test\\images\\salmon_61_jpg.rf.c0c697250048d0d0aa960626ef0b0de7.jpg: 416x416 1 salmon, 9.5ms\n",
      "image 1652/1846 C:\\Users\\ryun1\\ds\\final_project\\final_datafile\\data\\test\\images\\salmon_78_jpg.rf.551a65f025e63f95e3c2e735494668e3.jpg: 416x416 2 salmons, 7.5ms\n",
      "image 1653/1846 C:\\Users\\ryun1\\ds\\final_project\\final_datafile\\data\\test\\images\\salmon_81_jpg.rf.03cabdc6eb3414edf239e7281a9174ff.jpg: 416x416 1 salmon, 8.6ms\n",
      "image 1654/1846 C:\\Users\\ryun1\\ds\\final_project\\final_datafile\\data\\test\\images\\salmon_82_jpg.rf.b3a9a6b55a64dd7b13917d46eec31d76.jpg: 416x416 5 salmons, 7.7ms\n",
      "image 1655/1846 C:\\Users\\ryun1\\ds\\final_project\\final_datafile\\data\\test\\images\\salmon_93_jpg.rf.d3262eb4000a322ef0a8994a44ef3e16.jpg: 416x416 1 salmon, 8.4ms\n",
      "image 1656/1846 C:\\Users\\ryun1\\ds\\final_project\\final_datafile\\data\\test\\images\\salmon_95_jpg.rf.1eb54f3b25f348cbfd765e14e9b5a107.jpg: 416x416 3 salmons, 8.3ms\n",
      "image 1657/1846 C:\\Users\\ryun1\\ds\\final_project\\final_datafile\\data\\test\\images\\sauce_10_jpg.rf.4cdf911d824f9fd2060ad9ea6b37c75e.jpg: 416x416 1 sauce, 7.1ms\n",
      "image 1658/1846 C:\\Users\\ryun1\\ds\\final_project\\final_datafile\\data\\test\\images\\sauce_10_jpg.rf.698702b0026ac6aac1651799caf75eb1.jpg: 416x416 1 sauce, 8.7ms\n",
      "image 1659/1846 C:\\Users\\ryun1\\ds\\final_project\\final_datafile\\data\\test\\images\\sauce_11_jpg.rf.b007a03f74b40c648396953fde18d915.jpg: 416x416 1 fruit_jam, 1 sauce, 8.2ms\n",
      "image 1660/1846 C:\\Users\\ryun1\\ds\\final_project\\final_datafile\\data\\test\\images\\sauce_12_jpg.rf.48eb6689ecc6c4594ff89aa71b5f6bdb.jpg: 416x416 1 sauce, 7.7ms\n"
     ]
    },
    {
     "name": "stdout",
     "output_type": "stream",
     "text": [
      "image 1661/1846 C:\\Users\\ryun1\\ds\\final_project\\final_datafile\\data\\test\\images\\sauce_13_jpg.rf.8e3674d99213eca8da62bba19ab8b88c.jpg: 416x416 1 sauce, 8.3ms\n",
      "image 1662/1846 C:\\Users\\ryun1\\ds\\final_project\\final_datafile\\data\\test\\images\\sauce_13_jpg.rf.b2728aa6da7c0b809e41d5e628766e80.jpg: 416x416 1 sauce, 10.3ms\n",
      "image 1663/1846 C:\\Users\\ryun1\\ds\\final_project\\final_datafile\\data\\test\\images\\sauce_15_jpg.rf.7c3ac2261261c28aadccab9c28d148a4.jpg: 416x416 1 sauce, 8.1ms\n",
      "image 1664/1846 C:\\Users\\ryun1\\ds\\final_project\\final_datafile\\data\\test\\images\\sauce_15_jpg.rf.9a80dc2b82265c2bca2cd4738829af8d.jpg: 416x416 1 sauce, 8.4ms\n",
      "image 1665/1846 C:\\Users\\ryun1\\ds\\final_project\\final_datafile\\data\\test\\images\\sauce_16_jpg.rf.64f7f8a13b97d90b0f2db43affccd140.jpg: 416x416 1 sauce, 7.2ms\n",
      "image 1666/1846 C:\\Users\\ryun1\\ds\\final_project\\final_datafile\\data\\test\\images\\sauce_17_jpg.rf.4cf86b4bc291d862ca3c95d65ca368da.jpg: 416x416 1 sauce, 9.9ms\n",
      "image 1667/1846 C:\\Users\\ryun1\\ds\\final_project\\final_datafile\\data\\test\\images\\sauce_18_jpg.rf.1de95d977455ed224414e39aa6c05af3.jpg: 416x416 1 sauce, 9.9ms\n",
      "image 1668/1846 C:\\Users\\ryun1\\ds\\final_project\\final_datafile\\data\\test\\images\\sauce_18_jpg.rf.414a6710927af0f1e81a72591936b79c.jpg: 416x416 1 sauce, 7.8ms\n",
      "image 1669/1846 C:\\Users\\ryun1\\ds\\final_project\\final_datafile\\data\\test\\images\\sauce_1_jpg.rf.39f1db4b3767781f2fc890266ca24e4c.jpg: 416x416 1 sauce, 8.8ms\n",
      "image 1670/1846 C:\\Users\\ryun1\\ds\\final_project\\final_datafile\\data\\test\\images\\sauce_20_jpg.rf.b5fb370b23b11f41bc924b687d494188.jpg: 416x416 1 sauce, 11.0ms\n",
      "image 1671/1846 C:\\Users\\ryun1\\ds\\final_project\\final_datafile\\data\\test\\images\\sauce_21_jpg.rf.c3e9c87335040c232cd598c11d95ea54.jpg: 416x416 1 sauce, 8.6ms\n",
      "image 1672/1846 C:\\Users\\ryun1\\ds\\final_project\\final_datafile\\data\\test\\images\\sauce_23_jpg.rf.6c52d64d4cc6a8923bf8061894923fd8.jpg: 416x416 1 sauce, 8.6ms\n",
      "image 1673/1846 C:\\Users\\ryun1\\ds\\final_project\\final_datafile\\data\\test\\images\\sauce_23_jpg.rf.c26454b1f5d24592733e6e3c2811848c.jpg: 416x416 1 sauce, 9.0ms\n",
      "image 1674/1846 C:\\Users\\ryun1\\ds\\final_project\\final_datafile\\data\\test\\images\\sauce_26_jpg.rf.e5116ceb38e2969d25c37d485115fd6a.jpg: 416x416 1 sauce, 8.7ms\n",
      "image 1675/1846 C:\\Users\\ryun1\\ds\\final_project\\final_datafile\\data\\test\\images\\sauce_28_jpg.rf.65f028757108771a3f9745f7cfca2253.jpg: 416x416 1 sauce, 8.6ms\n",
      "image 1676/1846 C:\\Users\\ryun1\\ds\\final_project\\final_datafile\\data\\test\\images\\sauce_2_jpg.rf.5db038457c89c837236e42bbd896a264.jpg: 416x416 1 sauce, 8.7ms\n",
      "image 1677/1846 C:\\Users\\ryun1\\ds\\final_project\\final_datafile\\data\\test\\images\\sauce_30_jpg.rf.80f2ecba5de7b020349dfe2a0b6a4e6f.jpg: 416x416 1 fruit_jam, 1 sauce, 7.6ms\n",
      "image 1678/1846 C:\\Users\\ryun1\\ds\\final_project\\final_datafile\\data\\test\\images\\sauce_30_jpg.rf.b8722c4ec05a7bc6ba4f9cf851440ebd.jpg: 416x416 1 sauce, 8.2ms\n",
      "image 1679/1846 C:\\Users\\ryun1\\ds\\final_project\\final_datafile\\data\\test\\images\\sauce_4_jpg.rf.1e53f10759b0dc6757024dee730d6d20.jpg: 416x416 1 fruit_jam, 1 sauce, 8.2ms\n",
      "image 1680/1846 C:\\Users\\ryun1\\ds\\final_project\\final_datafile\\data\\test\\images\\sauce_5_jpg.rf.4d7fb46c03ed3289ef8e5cb5e3c8dd3b.jpg: 416x416 1 sauce, 9.8ms\n",
      "image 1681/1846 C:\\Users\\ryun1\\ds\\final_project\\final_datafile\\data\\test\\images\\sauce_6_jpg.rf.a14277ea7c2b9c5bdd442a2b2c42968f.jpg: 416x416 1 sauce, 8.3ms\n",
      "image 1682/1846 C:\\Users\\ryun1\\ds\\final_project\\final_datafile\\data\\test\\images\\sauce_7_jpg.rf.6cba846d14ea36323500766fff79c987.jpg: 416x416 1 sauce, 7.3ms\n",
      "image 1683/1846 C:\\Users\\ryun1\\ds\\final_project\\final_datafile\\data\\test\\images\\sauce_7_jpg.rf.74c127f4a220b2dcc65a103b461ded38.jpg: 416x416 1 sauce, 8.8ms\n",
      "image 1684/1846 C:\\Users\\ryun1\\ds\\final_project\\final_datafile\\data\\test\\images\\sauce_8_jpg.rf.43653da80eccc045b072d8a0f3259e5f.jpg: 416x416 1 sauce, 9.2ms\n",
      "image 1685/1846 C:\\Users\\ryun1\\ds\\final_project\\final_datafile\\data\\test\\images\\sea_scallops_12_jpg.rf.74b8ee4a5e2e319198d18fbee8b1ddfc.jpg: 416x416 4 Bagels, 8.8ms\n",
      "image 1686/1846 C:\\Users\\ryun1\\ds\\final_project\\final_datafile\\data\\test\\images\\sea_scallops_23_jpg.rf.32791d62e057730003ea4954ad2a4371.jpg: 416x416 1 rice_cake, 8.7ms\n",
      "image 1687/1846 C:\\Users\\ryun1\\ds\\final_project\\final_datafile\\data\\test\\images\\sea_scallops_81_jpg.rf.64419b3e599c418015dafcfce7d071b7.jpg: 416x416 11 sea scallopss, 8.1ms\n",
      "image 1688/1846 C:\\Users\\ryun1\\ds\\final_project\\final_datafile\\data\\test\\images\\sea_scallops_92_jpg.rf.0af0e436ff36526bdc89819370b807d6.jpg: 416x416 2 sea scallopss, 7.7ms\n",
      "image 1689/1846 C:\\Users\\ryun1\\ds\\final_project\\final_datafile\\data\\test\\images\\sea_scallops_99_jpg.rf.2022f2a4d5ec28a924752e857389b648.jpg: 416x416 2 sea scallopss, 8.7ms\n",
      "image 1690/1846 C:\\Users\\ryun1\\ds\\final_project\\final_datafile\\data\\test\\images\\shrimp_14_jpg.rf.f4886e6511e6e9045706175d5d0b9381.jpg: 416x416 3 shrimps, 9.1ms\n",
      "image 1691/1846 C:\\Users\\ryun1\\ds\\final_project\\final_datafile\\data\\test\\images\\shrimp_47_jpg.rf.11516db4101adcdb497e71d241549849.jpg: 416x416 5 shrimps, 7.7ms\n",
      "image 1692/1846 C:\\Users\\ryun1\\ds\\final_project\\final_datafile\\data\\test\\images\\shrimp_54_jpg.rf.8d19a69e40ca608e1175e3aac4e93871.jpg: 416x416 1 fish_cake, 8.7ms\n",
      "image 1693/1846 C:\\Users\\ryun1\\ds\\final_project\\final_datafile\\data\\test\\images\\shrimp_64_jpg.rf.b0c3c278d096e89551a25e5a1449ddd9.jpg: 416x416 10 shrimps, 8.7ms\n",
      "image 1694/1846 C:\\Users\\ryun1\\ds\\final_project\\final_datafile\\data\\test\\images\\shrimp_99_jpg.rf.401522fada027a4f0a2365eb88084c3a.jpg: 416x416 3 shrimps, 1 spinach, 8.4ms\n",
      "image 1695/1846 C:\\Users\\ryun1\\ds\\final_project\\final_datafile\\data\\test\\images\\siling-labuyo-small-chili-pepper-260nw-2303864001_jpg.rf.9bb3fd0092617de23260f11c3283a1eb.jpg: 416x416 3 red chilis, 7.6ms\n",
      "image 1696/1846 C:\\Users\\ryun1\\ds\\final_project\\final_datafile\\data\\test\\images\\spinach_33_jpeg.rf.e20197bc0d1f3528d6bd908b337470e2.jpg: 416x416 1 lettuce, 8.3ms\n",
      "image 1697/1846 C:\\Users\\ryun1\\ds\\final_project\\final_datafile\\data\\test\\images\\spinach_47_jpg.rf.65271adf9771e0460915db8b1f629821.jpg: 416x416 13 spinachs, 8.0ms\n",
      "image 1698/1846 C:\\Users\\ryun1\\ds\\final_project\\final_datafile\\data\\test\\images\\spinach_55_jpg.rf.e421fa6247a606b0f730495cd3822741.jpg: 416x416 1 spinach, 8.3ms\n",
      "image 1699/1846 C:\\Users\\ryun1\\ds\\final_project\\final_datafile\\data\\test\\images\\spinach_58_JPG.rf.ba5162ad6da071c50ed9286c038f6801.jpg: 416x416 19 spinachs, 8.6ms\n",
      "image 1700/1846 C:\\Users\\ryun1\\ds\\final_project\\final_datafile\\data\\test\\images\\spinach_64_jpg.rf.cb6ce86bdd2f7174063cb3896a7d7482.jpg: 416x416 5 spinachs, 9.3ms\n",
      "image 1701/1846 C:\\Users\\ryun1\\ds\\final_project\\final_datafile\\data\\test\\images\\spinach_66_jpg.rf.59b4a340fe56fcefb706f3a0915b6aec.jpg: 416x416 2 spinachs, 8.4ms\n",
      "image 1702/1846 C:\\Users\\ryun1\\ds\\final_project\\final_datafile\\data\\test\\images\\spinach_70_jpg.rf.1006328cf5bae337648c0c314d856286.jpg: 416x416 15 spinachs, 5.2ms\n",
      "image 1703/1846 C:\\Users\\ryun1\\ds\\final_project\\final_datafile\\data\\test\\images\\strawberry_1_jpg.rf.655ca779d30d2065e8647f26e835f108.jpg: 416x416 11 strawberrys, 8.3ms\n",
      "image 1704/1846 C:\\Users\\ryun1\\ds\\final_project\\final_datafile\\data\\test\\images\\strawberry_20_jpg.rf.b045d17b1766e6c117bd98ab8cc5e519.jpg: 416x416 15 strawberrys, 7.9ms\n",
      "image 1705/1846 C:\\Users\\ryun1\\ds\\final_project\\final_datafile\\data\\test\\images\\strawberry_24_jpg.rf.51cd4da1d43b70b681049ed050ecf28d.jpg: 416x416 1 strawberry, 8.3ms\n",
      "image 1706/1846 C:\\Users\\ryun1\\ds\\final_project\\final_datafile\\data\\test\\images\\strawberry_29_jpg.rf.c50f20be402ebb4e02aa27385bc4ff41.jpg: 416x416 30 strawberrys, 8.2ms\n",
      "image 1707/1846 C:\\Users\\ryun1\\ds\\final_project\\final_datafile\\data\\test\\images\\strawberry_30_jpg.rf.1de674004a01b4a2cd72506536c2642b.jpg: 416x416 12 strawberrys, 7.7ms\n",
      "image 1708/1846 C:\\Users\\ryun1\\ds\\final_project\\final_datafile\\data\\test\\images\\strawberry_35_jpg.rf.8fde5be3b105ebb1cae93b9113f61bba.jpg: 416x416 8 strawberrys, 7.8ms\n",
      "image 1709/1846 C:\\Users\\ryun1\\ds\\final_project\\final_datafile\\data\\test\\images\\strawberry_53_jpg.rf.42899abba11d44b61098d9eba081d353.jpg: 416x416 6 strawberrys, 8.2ms\n",
      "image 1710/1846 C:\\Users\\ryun1\\ds\\final_project\\final_datafile\\data\\test\\images\\strawberry_69_jpg.rf.390d1fcfcb3986df80240229931ce3b3.jpg: 416x416 1 strawberry, 7.9ms\n",
      "image 1711/1846 C:\\Users\\ryun1\\ds\\final_project\\final_datafile\\data\\test\\images\\sweet_potato_16_jpg.rf.f19ba2e5e03c36ab9876745a85178667.jpg: 416x416 1 sweet potato, 7.7ms\n"
     ]
    },
    {
     "name": "stdout",
     "output_type": "stream",
     "text": [
      "image 1712/1846 C:\\Users\\ryun1\\ds\\final_project\\final_datafile\\data\\test\\images\\sweet_potato_27_jpg.rf.7cb919d42b575645cb3c0d7b679c0145.jpg: 416x416 2 sweet potatos, 7.7ms\n",
      "image 1713/1846 C:\\Users\\ryun1\\ds\\final_project\\final_datafile\\data\\test\\images\\sweet_potato_45_jpg.rf.d693d70c98e14d695175e7a04f03a2cd.jpg: 416x416 6 sweet potatos, 9.2ms\n",
      "image 1714/1846 C:\\Users\\ryun1\\ds\\final_project\\final_datafile\\data\\test\\images\\sweet_potato_4_jpg.rf.f82b504b475a2cde22aff496a0fb012f.jpg: 416x416 1 carrot, 6 sweet potatos, 8.4ms\n",
      "image 1715/1846 C:\\Users\\ryun1\\ds\\final_project\\final_datafile\\data\\test\\images\\sweet_potato_52_jpg.rf.00e6bd20921a0bae039be11c73c8e8fa.jpg: 416x416 2 sweet potatos, 8.3ms\n",
      "image 1716/1846 C:\\Users\\ryun1\\ds\\final_project\\final_datafile\\data\\test\\images\\sweet_potato_60_jpg.rf.1f2f2cc50c526f46118c377e5bdfeb33.jpg: 416x416 1 ginger, 9.3ms\n",
      "image 1717/1846 C:\\Users\\ryun1\\ds\\final_project\\final_datafile\\data\\test\\images\\sweet_potato_61_jpg.rf.eaedd0a454708f0cf8bb848023aa2cb2.jpg: 416x416 3 sweet potatos, 9.7ms\n",
      "image 1718/1846 C:\\Users\\ryun1\\ds\\final_project\\final_datafile\\data\\test\\images\\sweet_potato_6_jpg.rf.a479a0a03f5974a603cc206b03801ec5.jpg: 416x416 4 sweet potatos, 8.9ms\n",
      "image 1719/1846 C:\\Users\\ryun1\\ds\\final_project\\final_datafile\\data\\test\\images\\sweet_potato_77_jpg.rf.549a35bcc9c8a028999db8f47d5226b5.jpg: 416x416 1 sweet potato, 7.9ms\n",
      "image 1720/1846 C:\\Users\\ryun1\\ds\\final_project\\final_datafile\\data\\test\\images\\sweet_potato_78_jpg.rf.b4119b9a21265f886008fc87fe0dbd6e.jpg: 416x416 7 sweet potatos, 7.8ms\n",
      "image 1721/1846 C:\\Users\\ryun1\\ds\\final_project\\final_datafile\\data\\test\\images\\sweet_potato_86_jpg.rf.ba4d042a550e232e2d8514cab9990d7b.jpg: 416x416 14 sweet potatos, 8.1ms\n",
      "image 1722/1846 C:\\Users\\ryun1\\ds\\final_project\\final_datafile\\data\\test\\images\\sweet_potato_92_jpg.rf.5aafac7204c775519be314fe13b710eb.jpg: 416x416 4 sweet potatos, 7.6ms\n",
      "image 1723/1846 C:\\Users\\ryun1\\ds\\final_project\\final_datafile\\data\\test\\images\\sweet_potato_97_jpg.rf.cf648308b8a4d1f1b326019960b24f14.jpg: 416x416 3 sweet potatos, 12.5ms\n",
      "image 1724/1846 C:\\Users\\ryun1\\ds\\final_project\\final_datafile\\data\\test\\images\\tangerines106_jpeg.rf.8e89914ca66b6be1cd7d51f3b91dad2b.jpg: 416x416 24 10_tangerines, 1 chilli, 10.9ms\n",
      "image 1725/1846 C:\\Users\\ryun1\\ds\\final_project\\final_datafile\\data\\test\\images\\tangerines110_jpeg.rf.4f49637cfd8e0c9952b268b726aae03f.jpg: 416x416 1 10_tangerine, 1 chicken wing, 8.3ms\n",
      "image 1726/1846 C:\\Users\\ryun1\\ds\\final_project\\final_datafile\\data\\test\\images\\tangerines129_jpeg.rf.1e8989e5d2ca8d331c50c2124c585183.jpg: 416x416 11 10_tangerines, 9.7ms\n",
      "image 1727/1846 C:\\Users\\ryun1\\ds\\final_project\\final_datafile\\data\\test\\images\\tangerines144_jpeg.rf.d6020b1a9767fa0735a7f0588dddb970.jpg: 416x416 6 10_tangerines, 8.3ms\n",
      "image 1728/1846 C:\\Users\\ryun1\\ds\\final_project\\final_datafile\\data\\test\\images\\tangerines147_jpeg.rf.cb4a15a1af4eaac5792d6310142f4759.jpg: 416x416 5 10_tangerines, 9.3ms\n",
      "image 1729/1846 C:\\Users\\ryun1\\ds\\final_project\\final_datafile\\data\\test\\images\\tangerines15_jpeg.rf.2af8595eb9b1bbdfef23dc01134b8392.jpg: 416x416 6 10_tangerines, 8.5ms\n",
      "image 1730/1846 C:\\Users\\ryun1\\ds\\final_project\\final_datafile\\data\\test\\images\\tangerines21_jpeg.rf.03b0a63fbbb757ffd457a2f146b03675.jpg: 416x416 5 10_tangerines, 8.6ms\n",
      "image 1731/1846 C:\\Users\\ryun1\\ds\\final_project\\final_datafile\\data\\test\\images\\tangerines48_jpeg.rf.338a918503bd448e95ba866161c7e4a9.jpg: 416x416 4 10_tangerines, 9.3ms\n",
      "image 1732/1846 C:\\Users\\ryun1\\ds\\final_project\\final_datafile\\data\\test\\images\\tangerines49_jpeg.rf.ae1cc8ed9a51390b9af9a208d82794e2.jpg: 416x416 5 10_tangerines, 7.2ms\n",
      "image 1733/1846 C:\\Users\\ryun1\\ds\\final_project\\final_datafile\\data\\test\\images\\tangerines51_jpeg.rf.17d5f54f9952ff8a1bbc645b4625f089.jpg: 416x416 20 10_tangerines, 7.8ms\n",
      "image 1734/1846 C:\\Users\\ryun1\\ds\\final_project\\final_datafile\\data\\test\\images\\tangerines76_jpeg.rf.ae026cdd1b550a83a5a85ada5c31478b.jpg: 416x416 1 10_tangerine, 9.3ms\n",
      "image 1735/1846 C:\\Users\\ryun1\\ds\\final_project\\final_datafile\\data\\test\\images\\tangerines78_jpeg.rf.1e7a7b0c90bcf5eda7c0cb3999a5e984.jpg: 416x416 5 10_tangerines, 5 egg_s, 8.1ms\n",
      "image 1736/1846 C:\\Users\\ryun1\\ds\\final_project\\final_datafile\\data\\test\\images\\tangerines79_jpeg.rf.08277b7ed9c67c520f02c61f1c9bd275.jpg: 416x416 18 10_tangerines, 9.9ms\n",
      "image 1737/1846 C:\\Users\\ryun1\\ds\\final_project\\final_datafile\\data\\test\\images\\tangerines7_jpeg.rf.0e1dfd5574d619e069ed57fc306c5f42.jpg: 416x416 9 10_tangerines, 8.7ms\n",
      "image 1738/1846 C:\\Users\\ryun1\\ds\\final_project\\final_datafile\\data\\test\\images\\tangerines80_png.rf.f6c4d328d70f6311a87fd1475470921d.jpg: 416x416 4 10_tangerines, 7.2ms\n",
      "image 1739/1846 C:\\Users\\ryun1\\ds\\final_project\\final_datafile\\data\\test\\images\\tangerines95_jpeg.rf.493766cdea265b15ee9c217d479e6b4a.jpg: 416x416 11 10_tangerines, 8.7ms\n",
      "image 1740/1846 C:\\Users\\ryun1\\ds\\final_project\\final_datafile\\data\\test\\images\\tempeh_65_jpg.rf.23633e3c0c698490374b5ca810c9f1a6.jpg: 416x416 2 10_tangerines, 9.7ms\n",
      "image 1741/1846 C:\\Users\\ryun1\\ds\\final_project\\final_datafile\\data\\test\\images\\tofu_33_jpg.rf.7e385fe6b074d9a4594495c307aed778.jpg: 416x416 11 tofus, 8.2ms\n",
      "image 1742/1846 C:\\Users\\ryun1\\ds\\final_project\\final_datafile\\data\\test\\images\\tofu_47_jpg.rf.e6e2232f9e2f8ba6ff4da76052b84852.jpg: 416x416 5 tofus, 7.9ms\n",
      "image 1743/1846 C:\\Users\\ryun1\\ds\\final_project\\final_datafile\\data\\test\\images\\tofu_48_jpg.rf.42a25f23bcc1eb601fe4208c8e47a57e.jpg: 416x416 9 tofus, 9.8ms\n",
      "image 1744/1846 C:\\Users\\ryun1\\ds\\final_project\\final_datafile\\data\\test\\images\\tofu_55_jpg.rf.1d90689eca18b692ec785a4f103e7d92.jpg: 416x416 7 tofus, 8.9ms\n",
      "image 1745/1846 C:\\Users\\ryun1\\ds\\final_project\\final_datafile\\data\\test\\images\\tofu_71_jpg.rf.61259bd64acf815c8732058c1bb56195.jpg: 416x416 13 tofus, 9.2ms\n",
      "image 1746/1846 C:\\Users\\ryun1\\ds\\final_project\\final_datafile\\data\\test\\images\\tofu_9_jpg.rf.736a8e01c458a614e28d3816d3384f1f.jpg: 416x416 12 tofus, 7.8ms\n",
      "image 1747/1846 C:\\Users\\ryun1\\ds\\final_project\\final_datafile\\data\\test\\images\\tomato24_png.rf.1260fd79e60752cefb29b3ea9eae0653.jpg: 416x416 4 tomatos, 9.1ms\n",
      "image 1748/1846 C:\\Users\\ryun1\\ds\\final_project\\final_datafile\\data\\test\\images\\tomato42_png.rf.707105dd0401e9f243d6575724740084.jpg: 416x416 3 tomatos, 8.4ms\n",
      "image 1749/1846 C:\\Users\\ryun1\\ds\\final_project\\final_datafile\\data\\test\\images\\tomato_11_jpg.rf.9bdeed4cebdbc1cfa04f4e5c53db6755.jpg: 416x416 1 tomato, 9.1ms\n",
      "image 1750/1846 C:\\Users\\ryun1\\ds\\final_project\\final_datafile\\data\\test\\images\\tomato_11_jpg.rf.f8dbd701ecbea39ace574e30ba4bf373.jpg: 416x416 1 tomato, 7.6ms\n",
      "image 1751/1846 C:\\Users\\ryun1\\ds\\final_project\\final_datafile\\data\\test\\images\\tomato_12_jpg.rf.4b6b796890ecbcf9c9511e6b78249da8.jpg: 416x416 1 tomato, 9.1ms\n",
      "image 1752/1846 C:\\Users\\ryun1\\ds\\final_project\\final_datafile\\data\\test\\images\\tomato_13_jpg.rf.0361a7a17ab5cfa1a94c3d1a45b92ca8.jpg: 416x416 1 tomato, 8.8ms\n",
      "image 1753/1846 C:\\Users\\ryun1\\ds\\final_project\\final_datafile\\data\\test\\images\\tomato_13_jpg.rf.2c995662f79ec9b92c27688b29bda0e7.jpg: 416x416 1 tomato, 8.3ms\n",
      "image 1754/1846 C:\\Users\\ryun1\\ds\\final_project\\final_datafile\\data\\test\\images\\tomato_13_jpg.rf.d259088c3fdaf21d464f57cbd817e08e.jpg: 416x416 1 tomato, 7.7ms\n",
      "image 1755/1846 C:\\Users\\ryun1\\ds\\final_project\\final_datafile\\data\\test\\images\\tomato_15_jpg.rf.a68a1534c50647c7c072c4744f9347af.jpg: 416x416 1 tomato, 7.5ms\n",
      "image 1756/1846 C:\\Users\\ryun1\\ds\\final_project\\final_datafile\\data\\test\\images\\tomato_17_jpg.rf.71f60de24376edc4ec42b96eb8498911.jpg: 416x416 1 tomato, 9.3ms\n",
      "image 1757/1846 C:\\Users\\ryun1\\ds\\final_project\\final_datafile\\data\\test\\images\\tomato_17_jpg.rf.7a9b8c490a462475bb37b661b5413554.jpg: 416x416 1 tomato, 10.9ms\n",
      "image 1758/1846 C:\\Users\\ryun1\\ds\\final_project\\final_datafile\\data\\test\\images\\tomato_18_jpg.rf.6e2e5d46f2b82b7d94e8a20fe79aa5ae.jpg: 416x416 1 tomato, 7.6ms\n",
      "image 1759/1846 C:\\Users\\ryun1\\ds\\final_project\\final_datafile\\data\\test\\images\\tomato_18_jpg.rf.eab971c08f4382eae5db21fc52aea215.jpg: 416x416 1 tomato, 8.1ms\n",
      "image 1760/1846 C:\\Users\\ryun1\\ds\\final_project\\final_datafile\\data\\test\\images\\tomato_19_jpg.rf.1e92beb0a6ae383d9ca28cb7cea90887.jpg: 416x416 1 tomato, 8.1ms\n",
      "image 1761/1846 C:\\Users\\ryun1\\ds\\final_project\\final_datafile\\data\\test\\images\\tomato_19_jpg.rf.714d9e9875bb4aff4a2da280bac9c3c4.jpg: 416x416 1 tomato, 8.1ms\n"
     ]
    },
    {
     "name": "stdout",
     "output_type": "stream",
     "text": [
      "image 1762/1846 C:\\Users\\ryun1\\ds\\final_project\\final_datafile\\data\\test\\images\\tomato_20_jpg.rf.815ee04ba23fe6fd2d7bfffb3e37c5a9.jpg: 416x416 2 tomatos, 9.2ms\n",
      "image 1763/1846 C:\\Users\\ryun1\\ds\\final_project\\final_datafile\\data\\test\\images\\tomato_20_jpg.rf.81a30453f15f461a2f44186780bf2ee9.jpg: 416x416 1 tomato, 7.8ms\n",
      "image 1764/1846 C:\\Users\\ryun1\\ds\\final_project\\final_datafile\\data\\test\\images\\tomato_21_jpg.rf.6c15488b211ce9034056990f276978bc.jpg: 416x416 1 tomato, 8.1ms\n",
      "image 1765/1846 C:\\Users\\ryun1\\ds\\final_project\\final_datafile\\data\\test\\images\\tomato_23_jpg.rf.607c353627dec311e7a0b49e685fb960.jpg: 416x416 3 tomatos, 10.2ms\n",
      "image 1766/1846 C:\\Users\\ryun1\\ds\\final_project\\final_datafile\\data\\test\\images\\tomato_24_jpg.rf.afeb51164a28630367d46528cd130d9c.jpg: 416x416 1 tomato, 8.2ms\n",
      "image 1767/1846 C:\\Users\\ryun1\\ds\\final_project\\final_datafile\\data\\test\\images\\tomato_27_jpg.rf.af498608c7761ed265a060d9ff8d8ef2.jpg: 416x416 1 tomato, 7.2ms\n",
      "image 1768/1846 C:\\Users\\ryun1\\ds\\final_project\\final_datafile\\data\\test\\images\\tomato_29_jpg.rf.52da099afad10162727e6586b12e78e2.jpg: 416x416 1 tomato, 8.3ms\n",
      "image 1769/1846 C:\\Users\\ryun1\\ds\\final_project\\final_datafile\\data\\test\\images\\tomato_29_jpg.rf.e36c876e11a76f2eaea25f7af9ca4df2.jpg: 416x416 1 tomato, 9.4ms\n",
      "image 1770/1846 C:\\Users\\ryun1\\ds\\final_project\\final_datafile\\data\\test\\images\\tomato_2_jpg.rf.96cc6f2aa7a2a49d434d512f8e9650bd.jpg: 416x416 1 tomato, 8.1ms\n",
      "image 1771/1846 C:\\Users\\ryun1\\ds\\final_project\\final_datafile\\data\\test\\images\\tomato_31_jpg.rf.8da3ac9b9eb28513ea22a794e3ec0aa7.jpg: 416x416 6 tomatos, 8.2ms\n",
      "image 1772/1846 C:\\Users\\ryun1\\ds\\final_project\\final_datafile\\data\\test\\images\\tomato_33_jpg.rf.7a0c9776501caa58dcd0be405f9abf59.jpg: 416x416 3 tomatos, 9.1ms\n",
      "image 1773/1846 C:\\Users\\ryun1\\ds\\final_project\\final_datafile\\data\\test\\images\\tomato_3_jpg.rf.f777ec0a5e7ab97c93cef9af1087f5f9.jpg: 416x416 1 tomato, 8.2ms\n",
      "image 1774/1846 C:\\Users\\ryun1\\ds\\final_project\\final_datafile\\data\\test\\images\\tomato_4_jpg.rf.219ed51f6010e56d2d905835f3caceee.jpg: 416x416 1 tomato, 7.5ms\n",
      "image 1775/1846 C:\\Users\\ryun1\\ds\\final_project\\final_datafile\\data\\test\\images\\tomato_4_jpg.rf.a47cec21ffde0bf9f13de933215fbdbe.jpg: 416x416 1 carrot, 8.2ms\n",
      "image 1776/1846 C:\\Users\\ryun1\\ds\\final_project\\final_datafile\\data\\test\\images\\tomato_4_jpg.rf.ed845c4550653be8891a6bc7f735ef34.jpg: 416x416 1 carrot, 1 tomato, 8.2ms\n",
      "image 1777/1846 C:\\Users\\ryun1\\ds\\final_project\\final_datafile\\data\\test\\images\\tomato_61_jpg.rf.cef306bae8e622e4bfce5925c7ef06ff.jpg: 416x416 1 mango, 2 tomatos, 8.0ms\n",
      "image 1778/1846 C:\\Users\\ryun1\\ds\\final_project\\final_datafile\\data\\test\\images\\tomato_6_jpg.rf.9b0917444b08d885b0a93d9833512618.jpg: 416x416 2 10_tangerines, 1 avocado, 1 tomato, 8.3ms\n",
      "image 1779/1846 C:\\Users\\ryun1\\ds\\final_project\\final_datafile\\data\\test\\images\\tomato_7_jpg.rf.8d9394c47052ae1e17a7a03be2f5ff02.jpg: 416x416 1 tomato, 9.3ms\n",
      "image 1780/1846 C:\\Users\\ryun1\\ds\\final_project\\final_datafile\\data\\test\\images\\tomato_88_jpg.rf.956938259cdc6f09e12f205b9e92361b.jpg: 416x416 1 avocado, 2 mangos, 1 tomato, 10.7ms\n",
      "image 1781/1846 C:\\Users\\ryun1\\ds\\final_project\\final_datafile\\data\\test\\images\\tomato_8_jpg.rf.434dbd4b2516b01780d4d7b804d65419.jpg: 416x416 1 tomato, 8.7ms\n",
      "image 1782/1846 C:\\Users\\ryun1\\ds\\final_project\\final_datafile\\data\\test\\images\\tomato_8_jpg.rf.f1b4ec2d3d08ba3133f96e2c1073a5b4.jpg: 416x416 1 tomato, 9.6ms\n",
      "image 1783/1846 C:\\Users\\ryun1\\ds\\final_project\\final_datafile\\data\\test\\images\\tomato_91_jpg.rf.e4a763bdac4c11743b38413c3e8f3716.jpg: 416x416 8 10_tangerines, 45 tomatos, 8.3ms\n",
      "image 1784/1846 C:\\Users\\ryun1\\ds\\final_project\\final_datafile\\data\\test\\images\\tomato_95_jpg.rf.d2083c7911ddb8d7da79581e421fb451.jpg: 416x416 1 tomato, 7.3ms\n",
      "image 1785/1846 C:\\Users\\ryun1\\ds\\final_project\\final_datafile\\data\\test\\images\\tomato_9_jpg.rf.5605f7987a5f73f356d4ccb839c1012a.jpg: 416x416 1 tomato, 10.3ms\n",
      "image 1786/1846 C:\\Users\\ryun1\\ds\\final_project\\final_datafile\\data\\test\\images\\tomato_9_jpg.rf.d22fba74809c0976b53eec03229c378f.jpg: 416x416 1 tomato, 9.7ms\n",
      "image 1787/1846 C:\\Users\\ryun1\\ds\\final_project\\final_datafile\\data\\test\\images\\tuna_40_jpg.rf.564a809238ac91d350518aea6f990a8a.jpg: 416x416 1 lemon, 7.4ms\n",
      "image 1788/1846 C:\\Users\\ryun1\\ds\\final_project\\final_datafile\\data\\test\\images\\very-good-24-_jpg.rf.f38d750ccacf6d2c8586f3e655e91c61.jpg: 416x416 1 tomato, 7.9ms\n",
      "image 1789/1846 C:\\Users\\ryun1\\ds\\final_project\\final_datafile\\data\\test\\images\\watermelon116_jpeg.rf.ed7f35f9522a64d3f3a6229a50d4a70b.jpg: 416x416 17 watermelons, 9.2ms\n",
      "image 1790/1846 C:\\Users\\ryun1\\ds\\final_project\\final_datafile\\data\\test\\images\\watermelon126_jpeg.rf.bc85aecf264af4c546a3dfb55075340f.jpg: 416x416 10 watermelons, 8.4ms\n",
      "image 1791/1846 C:\\Users\\ryun1\\ds\\final_project\\final_datafile\\data\\test\\images\\watermelon133_jpeg.rf.f731ee2540e9df6a9012e1eb0766fb14.jpg: 416x416 2 watermelons, 8.3ms\n",
      "image 1792/1846 C:\\Users\\ryun1\\ds\\final_project\\final_datafile\\data\\test\\images\\watermelon143_jpeg.rf.fc72a4f8f7c321dbb5e5ef8eaca343cd.jpg: 416x416 11 watermelons, 7.7ms\n",
      "image 1793/1846 C:\\Users\\ryun1\\ds\\final_project\\final_datafile\\data\\test\\images\\watermelon145_jpeg.rf.ceac69c4f8ba5c312b9c82d62459933b.jpg: 416x416 10 watermelons, 8.8ms\n",
      "image 1794/1846 C:\\Users\\ryun1\\ds\\final_project\\final_datafile\\data\\test\\images\\watermelon14_jpeg.rf.339a70e6782140253ab400a3a671a6d9.jpg: 416x416 1 chicken, 9.2ms\n",
      "image 1795/1846 C:\\Users\\ryun1\\ds\\final_project\\final_datafile\\data\\test\\images\\watermelon15_jpeg.rf.c50216a8fe5a7b1a0d4b71c193b0efaf.jpg: 416x416 2 watermelons, 10.3ms\n",
      "image 1796/1846 C:\\Users\\ryun1\\ds\\final_project\\final_datafile\\data\\test\\images\\watermelon204_jpeg.rf.6643dca57134fb584ee7a2fb264246ca.jpg: 416x416 3 watermelons, 8.6ms\n",
      "image 1797/1846 C:\\Users\\ryun1\\ds\\final_project\\final_datafile\\data\\test\\images\\watermelon206_jpeg.rf.a21b2c66f2cbc532f24512cfed998326.jpg: 416x416 9 watermelons, 8.4ms\n",
      "image 1798/1846 C:\\Users\\ryun1\\ds\\final_project\\final_datafile\\data\\test\\images\\watermelon225_jpeg.rf.61e1dc28b5a17eb600799dbbdcc2d693.jpg: 416x416 4 watermelons, 8.7ms\n",
      "image 1799/1846 C:\\Users\\ryun1\\ds\\final_project\\final_datafile\\data\\test\\images\\watermelon246_jpeg.rf.b4ee9b9a972311f205778ecbfea0467f.jpg: 416x416 11 watermelons, 8.2ms\n",
      "image 1800/1846 C:\\Users\\ryun1\\ds\\final_project\\final_datafile\\data\\test\\images\\watermelon248_jpeg.rf.0237c97d84ef18a84b688673c6c4ef0b.jpg: 416x416 5 watermelons, 10.8ms\n",
      "image 1801/1846 C:\\Users\\ryun1\\ds\\final_project\\final_datafile\\data\\test\\images\\watermelon30_jpeg.rf.f3b85279bf911d28054c4b7ba64376a5.jpg: 416x416 5 watermelons, 9.4ms\n",
      "image 1802/1846 C:\\Users\\ryun1\\ds\\final_project\\final_datafile\\data\\test\\images\\watermelon35_jpeg.rf.2e3c13fd79e95a0ffbd256a587cfff8d.jpg: 416x416 2 watermelons, 10.0ms\n",
      "image 1803/1846 C:\\Users\\ryun1\\ds\\final_project\\final_datafile\\data\\test\\images\\watermelon53_jpeg.rf.df9cbbf1da2ce21ec31d51cde5799ae1.jpg: 416x416 2 watermelons, 8.6ms\n",
      "image 1804/1846 C:\\Users\\ryun1\\ds\\final_project\\final_datafile\\data\\test\\images\\watermelon56_jpeg.rf.49b43fadf57d75aae454f0ccd4283912.jpg: 416x416 1 cucumber, 1 lemon, 11 watermelons, 13.8ms\n",
      "image 1805/1846 C:\\Users\\ryun1\\ds\\final_project\\final_datafile\\data\\test\\images\\watermelon74_jpeg.rf.acda8ff5b41018633fb75f938da8b336.jpg: 416x416 3 watermelons, 11.4ms\n",
      "image 1806/1846 C:\\Users\\ryun1\\ds\\final_project\\final_datafile\\data\\test\\images\\watermelon92_jpeg.rf.3f6b9a475c2f0ff9b8df6e5536f99071.jpg: 416x416 6 beefs, 2 watermelons, 10.4ms\n",
      "image 1807/1846 C:\\Users\\ryun1\\ds\\final_project\\final_datafile\\data\\test\\images\\watermelon_10_jpg.rf.1228e37971d8b033b6491f88ee8ef957.jpg: 416x416 1 watermelon, 14.3ms\n",
      "image 1808/1846 C:\\Users\\ryun1\\ds\\final_project\\final_datafile\\data\\test\\images\\watermelon_11_jpg.rf.1c4856af3253ae657a00e34cf13fd177.jpg: 416x416 1 watermelon, 9.5ms\n",
      "image 1809/1846 C:\\Users\\ryun1\\ds\\final_project\\final_datafile\\data\\test\\images\\watermelon_11_jpg.rf.d13c804b08686936d6cbca71bc1c608a.jpg: 416x416 1 watermelon, 12.5ms\n",
      "image 1810/1846 C:\\Users\\ryun1\\ds\\final_project\\final_datafile\\data\\test\\images\\watermelon_13_jpg.rf.ae6f783e6f81eb0a61ad9ad1a12c0042.jpg: 416x416 1 watermelon, 12.4ms\n",
      "image 1811/1846 C:\\Users\\ryun1\\ds\\final_project\\final_datafile\\data\\test\\images\\watermelon_13_jpg.rf.ce34100e5d14f6a172c5c58ca23ed838.jpg: 416x416 1 watermelon, 14.3ms\n"
     ]
    },
    {
     "name": "stdout",
     "output_type": "stream",
     "text": [
      "image 1812/1846 C:\\Users\\ryun1\\ds\\final_project\\final_datafile\\data\\test\\images\\watermelon_14_jpg.rf.5a7a4c19cd9e89ebc91b418c5b5e7275.jpg: 416x416 1 watermelon, 12.0ms\n",
      "image 1813/1846 C:\\Users\\ryun1\\ds\\final_project\\final_datafile\\data\\test\\images\\watermelon_14_jpg.rf.f2b09421f66e0d5895fa77432af16967.jpg: 416x416 1 sauce, 9.0ms\n",
      "image 1814/1846 C:\\Users\\ryun1\\ds\\final_project\\final_datafile\\data\\test\\images\\watermelon_15_jpg.rf.00529594e4782d938c0ad2d6ee9d63ce.jpg: 416x416 1 sauce, 10.3ms\n",
      "image 1815/1846 C:\\Users\\ryun1\\ds\\final_project\\final_datafile\\data\\test\\images\\watermelon_15_jpg.rf.50dc44b3a8032a8c0b6ab15720a3bd73.jpg: 416x416 1 korean_pancake, 12.0ms\n",
      "image 1816/1846 C:\\Users\\ryun1\\ds\\final_project\\final_datafile\\data\\test\\images\\watermelon_15_jpg.rf.72cbc6e50da66f65b96d0d58e940ec0e.jpg: 416x416 1 korean_pancake, 16.3ms\n",
      "image 1817/1846 C:\\Users\\ryun1\\ds\\final_project\\final_datafile\\data\\test\\images\\watermelon_17_jpg.rf.b0e7560d5888406ebb8f4e5a2a12e982.jpg: 416x416 1 watermelon, 12.5ms\n",
      "image 1818/1846 C:\\Users\\ryun1\\ds\\final_project\\final_datafile\\data\\test\\images\\watermelon_18_jpg.rf.357c4d38e0c9ed104fb7414292de94e3.jpg: 416x416 1 watermelon, 10.5ms\n",
      "image 1819/1846 C:\\Users\\ryun1\\ds\\final_project\\final_datafile\\data\\test\\images\\watermelon_18_jpg.rf.d4c92e24898744cb7d0624a867c12c8f.jpg: 416x416 1 watermelon, 10.3ms\n",
      "image 1820/1846 C:\\Users\\ryun1\\ds\\final_project\\final_datafile\\data\\test\\images\\watermelon_19_jpg.rf.17f2cdebe137b99c0788db773b49bf70.jpg: 416x416 1 watermelon, 7.9ms\n",
      "image 1821/1846 C:\\Users\\ryun1\\ds\\final_project\\final_datafile\\data\\test\\images\\watermelon_19_jpg.rf.81689799744c90ad66db704b60ccbf7f.jpg: 416x416 1 watermelon, 11.8ms\n",
      "image 1822/1846 C:\\Users\\ryun1\\ds\\final_project\\final_datafile\\data\\test\\images\\watermelon_22_jpg.rf.e716fab37a691b2b4587c56ec7fe49bb.jpg: 416x416 1 watermelon, 9.2ms\n",
      "image 1823/1846 C:\\Users\\ryun1\\ds\\final_project\\final_datafile\\data\\test\\images\\watermelon_23_jpg.rf.409eb74e3a2da9b043231c2b8aa15bb7.jpg: 416x416 1 watermelon, 14.2ms\n",
      "image 1824/1846 C:\\Users\\ryun1\\ds\\final_project\\final_datafile\\data\\test\\images\\watermelon_23_jpg.rf.72aa2efd316f50aefbaed61a91494f4e.jpg: 416x416 1 watermelon, 10.3ms\n",
      "image 1825/1846 C:\\Users\\ryun1\\ds\\final_project\\final_datafile\\data\\test\\images\\watermelon_27_jpg.rf.02f96fe85471e2f76431f6d86988e4bb.jpg: 416x416 1 watermelon, 8.4ms\n",
      "image 1826/1846 C:\\Users\\ryun1\\ds\\final_project\\final_datafile\\data\\test\\images\\watermelon_28_jpg.rf.174eb026aeb8dcb5bf44d7d3ab404bf4.jpg: 416x416 1 watermelon, 9.2ms\n",
      "image 1827/1846 C:\\Users\\ryun1\\ds\\final_project\\final_datafile\\data\\test\\images\\watermelon_2_jpg.rf.8b571a6b85006991013df71d47b11d2c.jpg: 416x416 1 watermelon, 10.7ms\n",
      "image 1828/1846 C:\\Users\\ryun1\\ds\\final_project\\final_datafile\\data\\test\\images\\watermelon_2_jpg.rf.9e577df73abcd1bb6eabe8e33e7c10ab.jpg: 416x416 1 watermelon, 8.7ms\n",
      "image 1829/1846 C:\\Users\\ryun1\\ds\\final_project\\final_datafile\\data\\test\\images\\watermelon_3_jpg.rf.0584438920d1385fd7f9fe7f0ffeed8c.jpg: 416x416 1 watermelon, 7.6ms\n",
      "image 1830/1846 C:\\Users\\ryun1\\ds\\final_project\\final_datafile\\data\\test\\images\\watermelon_3_jpg.rf.b0371b2b6506264c6468db0ccd3add40.jpg: 416x416 1 watermelon, 12.1ms\n",
      "image 1831/1846 C:\\Users\\ryun1\\ds\\final_project\\final_datafile\\data\\test\\images\\watermelon_4_jpg.rf.7ccd9b4af2e525ee088da473e251f472.jpg: 416x416 1 watermelon, 7.8ms\n",
      "image 1832/1846 C:\\Users\\ryun1\\ds\\final_project\\final_datafile\\data\\test\\images\\watermelon_5_jpg.rf.178cc9117f1b033c26fd571dd8e8d4d8.jpg: 416x416 1 watermelon, 8.1ms\n",
      "image 1833/1846 C:\\Users\\ryun1\\ds\\final_project\\final_datafile\\data\\test\\images\\watermelon_6_jpg.rf.7f3f68803200655d5ea021e8bffdd4bd.jpg: 416x416 1 watermelon, 8.4ms\n",
      "image 1834/1846 C:\\Users\\ryun1\\ds\\final_project\\final_datafile\\data\\test\\images\\watermelon_8_jpg.rf.5957e4ea25df6036a455844d4567e148.jpg: 416x416 1 watermelon, 8.2ms\n",
      "image 1835/1846 C:\\Users\\ryun1\\ds\\final_project\\final_datafile\\data\\test\\images\\white_rice_16_jpg.rf.d53aae7cb872532c1cd737a41ea65fc7.jpg: 416x416 1 white rice, 8.3ms\n",
      "image 1836/1846 C:\\Users\\ryun1\\ds\\final_project\\final_datafile\\data\\test\\images\\white_rice_17_jpg.rf.2a8af1d865f87bec1f24d177139e3355.jpg: 416x416 1 white rice, 9.1ms\n",
      "image 1837/1846 C:\\Users\\ryun1\\ds\\final_project\\final_datafile\\data\\test\\images\\white_rice_24_jpg.rf.2c1c4b5bbe52001b317340f3eacf3feb.jpg: 416x416 1 white rice, 9.0ms\n",
      "image 1838/1846 C:\\Users\\ryun1\\ds\\final_project\\final_datafile\\data\\test\\images\\white_rice_28_jpg.rf.84688ad1b5ea546b4de5b7aec9f61852.jpg: 416x416 1 white rice, 8.1ms\n",
      "image 1839/1846 C:\\Users\\ryun1\\ds\\final_project\\final_datafile\\data\\test\\images\\white_rice_2_jpg.rf.9830fa9aeab478850422b3121e43e9f2.jpg: 416x416 1 white rice, 8.4ms\n",
      "image 1840/1846 C:\\Users\\ryun1\\ds\\final_project\\final_datafile\\data\\test\\images\\white_rice_35_jpg.rf.62e3557bb6f7fc24acb1a33573df2919.jpg: 416x416 1 Bagel, 3 white rices, 9.7ms\n",
      "image 1841/1846 C:\\Users\\ryun1\\ds\\final_project\\final_datafile\\data\\test\\images\\white_rice_40_jpg.rf.8c5131bbe50360ea4fad551837fcf270.jpg: 416x416 1 white rice, 8.3ms\n",
      "image 1842/1846 C:\\Users\\ryun1\\ds\\final_project\\final_datafile\\data\\test\\images\\white_rice_41_jpg.rf.ab5d1e635266a11125288c51382f860d.jpg: 416x416 1 white rice, 8.2ms\n",
      "image 1843/1846 C:\\Users\\ryun1\\ds\\final_project\\final_datafile\\data\\test\\images\\white_rice_61_jpg.rf.c7b0dd852f86cae0107cd53491d92970.jpg: 416x416 1 rice, 1 white rice, 8.3ms\n",
      "image 1844/1846 C:\\Users\\ryun1\\ds\\final_project\\final_datafile\\data\\test\\images\\white_rice_79_jpg.rf.eb40fd49c8f37277cdd41f898b3f7007.jpg: 416x416 1 rice, 3 white rices, 10.2ms\n",
      "image 1845/1846 C:\\Users\\ryun1\\ds\\final_project\\final_datafile\\data\\test\\images\\white_rice_93_jpg.rf.6566ba724034972459549e0588b52359.jpg: 416x416 1 white rice, 9.1ms\n",
      "image 1846/1846 C:\\Users\\ryun1\\ds\\final_project\\final_datafile\\data\\test\\images\\z2185583010921ae8985836ec90e1b490c088fd476ebfc_jpg.rf.3d5303e65dd5e62063739f8c134104ea.jpg: 416x416 8 red chilis, 10.2ms\n",
      "Speed: 1.8ms preprocess, 9.6ms inference, 1.6ms postprocess per image at shape (1, 3, 416, 416)\n",
      "Results saved to \u001b[1mruns\\detect\\train52\u001b[0m\n"
     ]
    }
   ],
   "source": [
    "result = model.predict(source='data/test/images', save=True)"
   ]
  },
  {
   "cell_type": "code",
   "execution_count": null,
   "id": "e83f93dc",
   "metadata": {},
   "outputs": [],
   "source": []
  },
  {
   "cell_type": "code",
   "execution_count": null,
   "id": "93367b1c",
   "metadata": {},
   "outputs": [],
   "source": [
    "# 성능 테스트"
   ]
  },
  {
   "cell_type": "code",
   "execution_count": 13,
   "id": "87c7d9cc",
   "metadata": {},
   "outputs": [
    {
     "name": "stdout",
     "output_type": "stream",
     "text": [
      "Ultralytics YOLOv8.2.51  Python-3.9.7 torch-2.3.1 CUDA:0 (NVIDIA GeForce RTX 4080 SUPER, 16375MiB)\n",
      "Model summary (fused): 168 layers, 3361631 parameters, 0 gradients, 9.7 GFLOPs\n"
     ]
    },
    {
     "name": "stderr",
     "output_type": "stream",
     "text": [
      "\u001b[34m\u001b[1mval: \u001b[0mScanning C:\\Users\\ryun1\\ds\\final_project\\final_datafile\\data\\valid\\labels.cache... 2115 images, 2 backgrounds, 0 c\u001b[0m"
     ]
    },
    {
     "name": "stdout",
     "output_type": "stream",
     "text": [
      "WARNING  Box and segment counts should be equal, but got len(segments) = 491, len(boxes) = 9223. To resolve this only boxes will be used and all segments will be removed. To avoid this please supply either a detect or segment dataset, not a detect-segment mixed dataset.\n"
     ]
    },
    {
     "name": "stderr",
     "output_type": "stream",
     "text": [
      "\n",
      "                 Class     Images  Instances      Box(P          R      mAP50  mAP50-95): 100%|██████████| 67/67 [00:16\n"
     ]
    },
    {
     "name": "stdout",
     "output_type": "stream",
     "text": [
      "                   all       2115       9223      0.717      0.523      0.627      0.453\n",
      "          10_tangerine         28        145      0.605      0.786      0.741      0.584\n",
      "                 Apple         40        151      0.819      0.768      0.862      0.517\n",
      "                Banana         31        100      0.826      0.618      0.755      0.391\n",
      "              Cucumber         40        105      0.548      0.729      0.721      0.294\n",
      "              Mushroom        100        292      0.619      0.257       0.35      0.192\n",
      "                Orange         40        152      0.916      0.857      0.937      0.557\n",
      "                Tomato         40        127      0.873      0.724      0.819      0.426\n",
      "              ampalaya          3          4       0.83       0.75      0.746       0.63\n",
      "                 apple         89         98      0.728      0.791      0.837      0.637\n",
      "             asparagus         41         76      0.549      0.197      0.245      0.121\n",
      "               avocado         89        146      0.654      0.644      0.691      0.501\n",
      "                banana        213        333      0.822      0.844      0.875      0.636\n",
      "                  beef        209        271      0.743      0.738      0.815      0.537\n",
      "           bell pepper         13         59      0.663      0.797      0.784      0.399\n",
      "           bell_pepper         28         28      0.883      0.464      0.633       0.62\n",
      "          bitter gourd         10         33      0.475      0.303      0.315      0.114\n",
      "           blueberries        123        123      0.981      0.852      0.971      0.605\n",
      "              bok choy         17         49      0.731      0.388      0.648      0.257\n",
      "                 bread         58         58      0.663      0.414      0.486      0.434\n",
      "              broccoli         33         53      0.981      0.698      0.895      0.651\n",
      "                butter        182        182      0.901      0.951      0.977      0.793\n",
      "               cabbage         29         38      0.881      0.842      0.914      0.764\n",
      "           canned_tuna          1          1          0          0          0          0\n",
      "                carrot        231        307      0.788      0.761      0.835      0.598\n",
      "                cashew         14         94      0.519      0.585      0.556      0.217\n",
      "           cauliflower         14         17          1      0.817      0.843      0.483\n",
      "                cheese        211        221      0.844      0.742       0.81      0.589\n",
      "               chicken        230        257      0.873      0.853      0.943      0.731\n",
      "        chicken breast         20         38      0.672      0.579      0.716      0.372\n",
      "         chicken thigh         18         31      0.656      0.615      0.719      0.568\n",
      "          chicken wing         13         34      0.532      0.435      0.425      0.269\n",
      "        chicken_breast         16         16          1          0      0.442      0.274\n",
      "                chilli         13         55      0.456      0.218      0.218      0.133\n",
      "             chocolate         18         18          0          0          0          0\n",
      "                  corn        169        230      0.849      0.829       0.91      0.615\n",
      "                  crab         11         18      0.463      0.222      0.339      0.179\n",
      "              cucumber         39         96      0.533      0.452      0.547      0.414\n",
      "                   egg         69        131       0.79      0.664      0.772      0.534\n",
      "                  egg_         13         61      0.593      0.623      0.571       0.44\n",
      "              eggplant         19         19          1      0.761       0.88       0.88\n",
      "                  eggs         39         39          1          0      0.646      0.413\n",
      "                  fish          9         16        0.6      0.375      0.573      0.263\n",
      "             fish_cake          4          4      0.125       0.25      0.197      0.168\n",
      "                 flour        143        178      0.976      0.905      0.974       0.65\n",
      "          french_fries          1          1          1          0      0.995      0.995\n",
      "                garlic         24         70      0.648      0.578      0.583      0.359\n",
      "                ginger         40         57      0.815       0.86      0.896      0.713\n",
      "           goat_cheese         99         99      0.988      0.815      0.943      0.602\n",
      "                grapes         11         20       0.61        0.7      0.688      0.378\n",
      "         grated_cheese         10         14          1          0     0.0417     0.0264\n",
      "          green chilli         18         69      0.443      0.507       0.47      0.308\n",
      "           green_beans        102        102       0.93      0.863      0.922      0.597\n",
      "           green_onion          2          2          1          0      0.695      0.556\n",
      "           ground_beef         69         69       0.93      0.774      0.927      0.557\n",
      "             guacamole          4          4          1          0     0.0738     0.0469\n",
      "                   ham        116        116      0.941      0.931      0.967      0.616\n",
      "            hash_brown          1          1      0.918          1      0.995      0.895\n",
      "           heavy_cream        131        131          1      0.921      0.972      0.654\n",
      "                 humus         20         28      0.393       0.25      0.341      0.192\n",
      "               ketchup          4          4          1          0      0.406      0.353\n",
      "                  kiwi         19         19      0.823      0.947      0.974      0.974\n",
      "                  leek          2          2          1          0          0          0\n",
      "                 lemon         42         83       0.74      0.446      0.543      0.425\n",
      "               lettuce         29         32      0.875      0.719      0.794       0.73\n",
      "                  lime        158        167      0.902       0.85      0.899      0.596\n",
      "         lobster tails         11         28      0.615      0.143      0.332      0.167\n",
      "                 mango         16         49      0.553      0.429      0.462      0.386\n",
      "             marmelade          3          3          0          0      0.136     0.0951\n",
      "             mayonaise         14         14          1          0      0.204       0.15\n",
      "            mayonnaise          2          2          1          0          0          0\n",
      "                  milk        147        200      0.902      0.732      0.854      0.645\n",
      "     mozzarella cheese          6          6      0.413      0.667      0.696      0.545\n",
      "             mushrooms         94         94      0.953      0.861      0.958      0.618\n",
      "               mustard          2          2          1          0      0.373      0.273\n",
      "           nacho_chips          2          2          1          0      0.995      0.798\n",
      "                 onion        125        195      0.777      0.682      0.748       0.54\n",
      "                orange         10         36      0.407      0.477      0.408      0.261\n",
      "               oysters         12         87       0.66      0.894       0.78      0.501\n",
      "              pak_choi          7          7      0.191      0.143      0.352      0.191\n",
      "       parmasan_cheese          1          1          1          0      0.995      0.697\n",
      "                 pasta          1          1          1          0      0.249      0.249\n",
      "                pawpaw          1          2          0          0          0          0\n",
      "                pepper          2          2          1          0     0.0552     0.0276\n",
      "               pimento          2          2          1          0      0.141      0.104\n",
      "             pineapple         30         40        0.8        0.5      0.667      0.415\n",
      "             plantains          3          4          1          0     0.0837     0.0563\n",
      "                  pork         59        164      0.612      0.499      0.627      0.412\n",
      "            pork belly         13         29      0.484       0.13      0.219      0.128\n",
      "                potato        270        459      0.849       0.88      0.946      0.743\n",
      "               pumpkin         11         19      0.827      0.755      0.792      0.681\n",
      "                radish         19         19      0.638      0.895      0.938      0.938\n",
      "             red chili         14         40      0.454       0.75      0.659      0.446\n"
     ]
    },
    {
     "name": "stdout",
     "output_type": "stream",
     "text": [
      "                  rice         13         13      0.732      0.769      0.793      0.499\n",
      "                 salad         21         23      0.699      0.261      0.352      0.196\n",
      "                salmon         17         27      0.825      0.525      0.759      0.468\n",
      "               sausage         26         33      0.697      0.152      0.283       0.18\n",
      "          sea scallops          6         43      0.435      0.186      0.272      0.171\n",
      "               seaweed          3          3          0          0          0          0\n",
      "                seseme          3          3          0          0          0          0\n",
      "                shrimp        157        203      0.911      0.608      0.781      0.447\n",
      "               spinach        139        275      0.705      0.712      0.759      0.498\n",
      "          spring_onion         18         31      0.705      0.613      0.655      0.391\n",
      "          strawberries        191        191      0.979      0.969      0.994      0.782\n",
      "            strawberry         12         59      0.445      0.719      0.679      0.386\n",
      "                 sugar        150        193       0.96      0.933      0.962      0.771\n",
      "          sweet potato         19         77      0.675      0.636        0.7      0.407\n",
      "          sweet_potato        122        139      0.854      0.813      0.921      0.631\n",
      "                  tofu         15         58      0.716      0.724      0.772      0.553\n",
      "                tomato        273        349      0.834      0.822      0.912      0.689\n",
      "          tomato_sauce          9          9          0          0     0.0425     0.0246\n",
      "                  tuna          2          2          0          0          0          0\n",
      "            watermelon         53        176       0.88      0.837      0.929      0.762\n",
      "            white rice          8         10      0.661      0.586      0.618      0.444\n",
      "                yogurt         34         67      0.748      0.443      0.544       0.29\n",
      "              zucchini         14         24      0.698      0.792      0.801      0.575\n",
      "             fruit_jam         19         19       0.74      0.947      0.944      0.944\n",
      "        korean_pancake         19         19      0.895        0.9      0.985      0.985\n",
      "              mushroom         19         19      0.608      0.737      0.763      0.755\n",
      "             persimmon         19         19      0.728      0.947      0.969      0.969\n",
      "                powder         19         19      0.932          1      0.982      0.968\n",
      "                 sauce         19         19      0.689      0.947      0.923      0.923\n",
      "Speed: 0.1ms preprocess, 1.3ms inference, 0.0ms loss, 1.1ms postprocess per image\n",
      "Results saved to \u001b[1mruns\\detect\\train72\u001b[0m\n"
     ]
    },
    {
     "data": {
      "text/plain": [
       "ultralytics.utils.metrics.DetMetrics object with attributes:\n",
       "\n",
       "ap_class_index: array([  2,   3,   5,   7,  11,  13,  16,  17,  18,  19,  20,  22,  23,  24,  25,  27,  28,  29,  31,  32,  33,  34,  36,  37,  38,  39,  40,  42,  43,  44,  45,  46,  47,  48,  49,  50,  52,  54,  55,  56,  57,  58,  59,  60,  61,  62,  63,  64,  66,  67,  68,  70,  71,  72,  73,  74,  75,  76,  77,  79,  81,  82,\n",
       "        83,  84,  85,  86,  87,  88,  89,  90,  91,  93,  94,  95,  96,  99, 100, 101, 102, 103, 105, 106, 111, 113, 114, 115, 118, 119, 121, 124, 125, 126, 130, 133, 135, 137, 139, 140, 141, 142, 144, 145, 146, 147, 148, 149, 150, 153, 154, 155, 157, 159, 160, 161, 162, 163, 164, 165, 166, 167, 168])\n",
       "box: ultralytics.utils.metrics.Metric object\n",
       "confusion_matrix: <ultralytics.utils.metrics.ConfusionMatrix object at 0x0000016A73C3DFD0>\n",
       "curves: ['Precision-Recall(B)', 'F1-Confidence(B)', 'Precision-Confidence(B)', 'Recall-Confidence(B)']\n",
       "curves_results: [[array([          0,    0.001001,    0.002002,    0.003003,    0.004004,    0.005005,    0.006006,    0.007007,    0.008008,    0.009009,     0.01001,    0.011011,    0.012012,    0.013013,    0.014014,    0.015015,    0.016016,    0.017017,    0.018018,    0.019019,     0.02002,    0.021021,    0.022022,    0.023023,\n",
       "          0.024024,    0.025025,    0.026026,    0.027027,    0.028028,    0.029029,     0.03003,    0.031031,    0.032032,    0.033033,    0.034034,    0.035035,    0.036036,    0.037037,    0.038038,    0.039039,     0.04004,    0.041041,    0.042042,    0.043043,    0.044044,    0.045045,    0.046046,    0.047047,\n",
       "          0.048048,    0.049049,     0.05005,    0.051051,    0.052052,    0.053053,    0.054054,    0.055055,    0.056056,    0.057057,    0.058058,    0.059059,     0.06006,    0.061061,    0.062062,    0.063063,    0.064064,    0.065065,    0.066066,    0.067067,    0.068068,    0.069069,     0.07007,    0.071071,\n",
       "          0.072072,    0.073073,    0.074074,    0.075075,    0.076076,    0.077077,    0.078078,    0.079079,     0.08008,    0.081081,    0.082082,    0.083083,    0.084084,    0.085085,    0.086086,    0.087087,    0.088088,    0.089089,     0.09009,    0.091091,    0.092092,    0.093093,    0.094094,    0.095095,\n",
       "          0.096096,    0.097097,    0.098098,    0.099099,      0.1001,      0.1011,      0.1021,      0.1031,      0.1041,     0.10511,     0.10611,     0.10711,     0.10811,     0.10911,     0.11011,     0.11111,     0.11211,     0.11311,     0.11411,     0.11512,     0.11612,     0.11712,     0.11812,     0.11912,\n",
       "           0.12012,     0.12112,     0.12212,     0.12312,     0.12412,     0.12513,     0.12613,     0.12713,     0.12813,     0.12913,     0.13013,     0.13113,     0.13213,     0.13313,     0.13413,     0.13514,     0.13614,     0.13714,     0.13814,     0.13914,     0.14014,     0.14114,     0.14214,     0.14314,\n",
       "           0.14414,     0.14515,     0.14615,     0.14715,     0.14815,     0.14915,     0.15015,     0.15115,     0.15215,     0.15315,     0.15415,     0.15516,     0.15616,     0.15716,     0.15816,     0.15916,     0.16016,     0.16116,     0.16216,     0.16316,     0.16416,     0.16517,     0.16617,     0.16717,\n",
       "           0.16817,     0.16917,     0.17017,     0.17117,     0.17217,     0.17317,     0.17417,     0.17518,     0.17618,     0.17718,     0.17818,     0.17918,     0.18018,     0.18118,     0.18218,     0.18318,     0.18418,     0.18519,     0.18619,     0.18719,     0.18819,     0.18919,     0.19019,     0.19119,\n",
       "           0.19219,     0.19319,     0.19419,      0.1952,      0.1962,      0.1972,      0.1982,      0.1992,      0.2002,      0.2012,      0.2022,      0.2032,      0.2042,     0.20521,     0.20621,     0.20721,     0.20821,     0.20921,     0.21021,     0.21121,     0.21221,     0.21321,     0.21421,     0.21522,\n",
       "           0.21622,     0.21722,     0.21822,     0.21922,     0.22022,     0.22122,     0.22222,     0.22322,     0.22422,     0.22523,     0.22623,     0.22723,     0.22823,     0.22923,     0.23023,     0.23123,     0.23223,     0.23323,     0.23423,     0.23524,     0.23624,     0.23724,     0.23824,     0.23924,\n",
       "           0.24024,     0.24124,     0.24224,     0.24324,     0.24424,     0.24525,     0.24625,     0.24725,     0.24825,     0.24925,     0.25025,     0.25125,     0.25225,     0.25325,     0.25425,     0.25526,     0.25626,     0.25726,     0.25826,     0.25926,     0.26026,     0.26126,     0.26226,     0.26326,\n",
       "           0.26426,     0.26527,     0.26627,     0.26727,     0.26827,     0.26927,     0.27027,     0.27127,     0.27227,     0.27327,     0.27427,     0.27528,     0.27628,     0.27728,     0.27828,     0.27928,     0.28028,     0.28128,     0.28228,     0.28328,     0.28428,     0.28529,     0.28629,     0.28729,\n",
       "           0.28829,     0.28929,     0.29029,     0.29129,     0.29229,     0.29329,     0.29429,      0.2953,      0.2963,      0.2973,      0.2983,      0.2993,      0.3003,      0.3013,      0.3023,      0.3033,      0.3043,     0.30531,     0.30631,     0.30731,     0.30831,     0.30931,     0.31031,     0.31131,\n",
       "           0.31231,     0.31331,     0.31431,     0.31532,     0.31632,     0.31732,     0.31832,     0.31932,     0.32032,     0.32132,     0.32232,     0.32332,     0.32432,     0.32533,     0.32633,     0.32733,     0.32833,     0.32933,     0.33033,     0.33133,     0.33233,     0.33333,     0.33433,     0.33534,\n",
       "           0.33634,     0.33734,     0.33834,     0.33934,     0.34034,     0.34134,     0.34234,     0.34334,     0.34434,     0.34535,     0.34635,     0.34735,     0.34835,     0.34935,     0.35035,     0.35135,     0.35235,     0.35335,     0.35435,     0.35536,     0.35636,     0.35736,     0.35836,     0.35936,\n",
       "           0.36036,     0.36136,     0.36236,     0.36336,     0.36436,     0.36537,     0.36637,     0.36737,     0.36837,     0.36937,     0.37037,     0.37137,     0.37237,     0.37337,     0.37437,     0.37538,     0.37638,     0.37738,     0.37838,     0.37938,     0.38038,     0.38138,     0.38238,     0.38338,\n",
       "           0.38438,     0.38539,     0.38639,     0.38739,     0.38839,     0.38939,     0.39039,     0.39139,     0.39239,     0.39339,     0.39439,      0.3954,      0.3964,      0.3974,      0.3984,      0.3994,      0.4004,      0.4014,      0.4024,      0.4034,      0.4044,     0.40541,     0.40641,     0.40741,\n",
       "           0.40841,     0.40941,     0.41041,     0.41141,     0.41241,     0.41341,     0.41441,     0.41542,     0.41642,     0.41742,     0.41842,     0.41942,     0.42042,     0.42142,     0.42242,     0.42342,     0.42442,     0.42543,     0.42643,     0.42743,     0.42843,     0.42943,     0.43043,     0.43143,\n",
       "           0.43243,     0.43343,     0.43443,     0.43544,     0.43644,     0.43744,     0.43844,     0.43944,     0.44044,     0.44144,     0.44244,     0.44344,     0.44444,     0.44545,     0.44645,     0.44745,     0.44845,     0.44945,     0.45045,     0.45145,     0.45245,     0.45345,     0.45445,     0.45546,\n",
       "           0.45646,     0.45746,     0.45846,     0.45946,     0.46046,     0.46146,     0.46246,     0.46346,     0.46446,     0.46547,     0.46647,     0.46747,     0.46847,     0.46947,     0.47047,     0.47147,     0.47247,     0.47347,     0.47447,     0.47548,     0.47648,     0.47748,     0.47848,     0.47948,\n",
       "           0.48048,     0.48148,     0.48248,     0.48348,     0.48448,     0.48549,     0.48649,     0.48749,     0.48849,     0.48949,     0.49049,     0.49149,     0.49249,     0.49349,     0.49449,      0.4955,      0.4965,      0.4975,      0.4985,      0.4995,      0.5005,      0.5015,      0.5025,      0.5035,\n",
       "            0.5045,     0.50551,     0.50651,     0.50751,     0.50851,     0.50951,     0.51051,     0.51151,     0.51251,     0.51351,     0.51451,     0.51552,     0.51652,     0.51752,     0.51852,     0.51952,     0.52052,     0.52152,     0.52252,     0.52352,     0.52452,     0.52553,     0.52653,     0.52753,\n",
       "           0.52853,     0.52953,     0.53053,     0.53153,     0.53253,     0.53353,     0.53453,     0.53554,     0.53654,     0.53754,     0.53854,     0.53954,     0.54054,     0.54154,     0.54254,     0.54354,     0.54454,     0.54555,     0.54655,     0.54755,     0.54855,     0.54955,     0.55055,     0.55155,\n",
       "           0.55255,     0.55355,     0.55455,     0.55556,     0.55656,     0.55756,     0.55856,     0.55956,     0.56056,     0.56156,     0.56256,     0.56356,     0.56456,     0.56557,     0.56657,     0.56757,     0.56857,     0.56957,     0.57057,     0.57157,     0.57257,     0.57357,     0.57457,     0.57558,\n",
       "           0.57658,     0.57758,     0.57858,     0.57958,     0.58058,     0.58158,     0.58258,     0.58358,     0.58458,     0.58559,     0.58659,     0.58759,     0.58859,     0.58959,     0.59059,     0.59159,     0.59259,     0.59359,     0.59459,      0.5956,      0.5966,      0.5976,      0.5986,      0.5996,\n",
       "            0.6006,      0.6016,      0.6026,      0.6036,      0.6046,     0.60561,     0.60661,     0.60761,     0.60861,     0.60961,     0.61061,     0.61161,     0.61261,     0.61361,     0.61461,     0.61562,     0.61662,     0.61762,     0.61862,     0.61962,     0.62062,     0.62162,     0.62262,     0.62362,\n",
       "           0.62462,     0.62563,     0.62663,     0.62763,     0.62863,     0.62963,     0.63063,     0.63163,     0.63263,     0.63363,     0.63463,     0.63564,     0.63664,     0.63764,     0.63864,     0.63964,     0.64064,     0.64164,     0.64264,     0.64364,     0.64464,     0.64565,     0.64665,     0.64765,\n",
       "           0.64865,     0.64965,     0.65065,     0.65165,     0.65265,     0.65365,     0.65465,     0.65566,     0.65666,     0.65766,     0.65866,     0.65966,     0.66066,     0.66166,     0.66266,     0.66366,     0.66466,     0.66567,     0.66667,     0.66767,     0.66867,     0.66967,     0.67067,     0.67167,\n",
       "           0.67267,     0.67367,     0.67467,     0.67568,     0.67668,     0.67768,     0.67868,     0.67968,     0.68068,     0.68168,     0.68268,     0.68368,     0.68468,     0.68569,     0.68669,     0.68769,     0.68869,     0.68969,     0.69069,     0.69169,     0.69269,     0.69369,     0.69469,      0.6957,\n",
       "            0.6967,      0.6977,      0.6987,      0.6997,      0.7007,      0.7017,      0.7027,      0.7037,      0.7047,     0.70571,     0.70671,     0.70771,     0.70871,     0.70971,     0.71071,     0.71171,     0.71271,     0.71371,     0.71471,     0.71572,     0.71672,     0.71772,     0.71872,     0.71972,\n",
       "           0.72072,     0.72172,     0.72272,     0.72372,     0.72472,     0.72573,     0.72673,     0.72773,     0.72873,     0.72973,     0.73073,     0.73173,     0.73273,     0.73373,     0.73473,     0.73574,     0.73674,     0.73774,     0.73874,     0.73974,     0.74074,     0.74174,     0.74274,     0.74374,\n",
       "           0.74474,     0.74575,     0.74675,     0.74775,     0.74875,     0.74975,     0.75075,     0.75175,     0.75275,     0.75375,     0.75475,     0.75576,     0.75676,     0.75776,     0.75876,     0.75976,     0.76076,     0.76176,     0.76276,     0.76376,     0.76476,     0.76577,     0.76677,     0.76777,\n",
       "           0.76877,     0.76977,     0.77077,     0.77177,     0.77277,     0.77377,     0.77477,     0.77578,     0.77678,     0.77778,     0.77878,     0.77978,     0.78078,     0.78178,     0.78278,     0.78378,     0.78478,     0.78579,     0.78679,     0.78779,     0.78879,     0.78979,     0.79079,     0.79179,\n",
       "           0.79279,     0.79379,     0.79479,      0.7958,      0.7968,      0.7978,      0.7988,      0.7998,      0.8008,      0.8018,      0.8028,      0.8038,      0.8048,     0.80581,     0.80681,     0.80781,     0.80881,     0.80981,     0.81081,     0.81181,     0.81281,     0.81381,     0.81481,     0.81582,\n",
       "           0.81682,     0.81782,     0.81882,     0.81982,     0.82082,     0.82182,     0.82282,     0.82382,     0.82482,     0.82583,     0.82683,     0.82783,     0.82883,     0.82983,     0.83083,     0.83183,     0.83283,     0.83383,     0.83483,     0.83584,     0.83684,     0.83784,     0.83884,     0.83984,\n",
       "           0.84084,     0.84184,     0.84284,     0.84384,     0.84484,     0.84585,     0.84685,     0.84785,     0.84885,     0.84985,     0.85085,     0.85185,     0.85285,     0.85385,     0.85485,     0.85586,     0.85686,     0.85786,     0.85886,     0.85986,     0.86086,     0.86186,     0.86286,     0.86386,\n",
       "           0.86486,     0.86587,     0.86687,     0.86787,     0.86887,     0.86987,     0.87087,     0.87187,     0.87287,     0.87387,     0.87487,     0.87588,     0.87688,     0.87788,     0.87888,     0.87988,     0.88088,     0.88188,     0.88288,     0.88388,     0.88488,     0.88589,     0.88689,     0.88789,\n",
       "           0.88889,     0.88989,     0.89089,     0.89189,     0.89289,     0.89389,     0.89489,      0.8959,      0.8969,      0.8979,      0.8989,      0.8999,      0.9009,      0.9019,      0.9029,      0.9039,      0.9049,     0.90591,     0.90691,     0.90791,     0.90891,     0.90991,     0.91091,     0.91191,\n",
       "           0.91291,     0.91391,     0.91491,     0.91592,     0.91692,     0.91792,     0.91892,     0.91992,     0.92092,     0.92192,     0.92292,     0.92392,     0.92492,     0.92593,     0.92693,     0.92793,     0.92893,     0.92993,     0.93093,     0.93193,     0.93293,     0.93393,     0.93493,     0.93594,\n",
       "           0.93694,     0.93794,     0.93894,     0.93994,     0.94094,     0.94194,     0.94294,     0.94394,     0.94494,     0.94595,     0.94695,     0.94795,     0.94895,     0.94995,     0.95095,     0.95195,     0.95295,     0.95395,     0.95495,     0.95596,     0.95696,     0.95796,     0.95896,     0.95996,\n",
       "           0.96096,     0.96196,     0.96296,     0.96396,     0.96496,     0.96597,     0.96697,     0.96797,     0.96897,     0.96997,     0.97097,     0.97197,     0.97297,     0.97397,     0.97497,     0.97598,     0.97698,     0.97798,     0.97898,     0.97998,     0.98098,     0.98198,     0.98298,     0.98398,\n",
       "           0.98498,     0.98599,     0.98699,     0.98799,     0.98899,     0.98999,     0.99099,     0.99199,     0.99299,     0.99399,     0.99499,       0.996,       0.997,       0.998,       0.999,           1]), array([[          1,           1,           1, ...,   0.0015131,  0.00075655,           0],\n",
       "       [          1,           1,           1, ...,   0.0020826,   0.0010413,           0],\n",
       "       [          1,           1,           1, ...,    0.010415,   0.0052075,           0],\n",
       "       ...,\n",
       "       [          1,           1,           1, ...,     0.67857,     0.67857,           0],\n",
       "       [          1,           1,           1, ...,        0.95,        0.95,           0],\n",
       "       [          1,           1,           1, ...,     0.57576,     0.57576,           0]]), 'Recall', 'Precision'], [array([          0,    0.001001,    0.002002,    0.003003,    0.004004,    0.005005,    0.006006,    0.007007,    0.008008,    0.009009,     0.01001,    0.011011,    0.012012,    0.013013,    0.014014,    0.015015,    0.016016,    0.017017,    0.018018,    0.019019,     0.02002,    0.021021,    0.022022,    0.023023,\n",
       "          0.024024,    0.025025,    0.026026,    0.027027,    0.028028,    0.029029,     0.03003,    0.031031,    0.032032,    0.033033,    0.034034,    0.035035,    0.036036,    0.037037,    0.038038,    0.039039,     0.04004,    0.041041,    0.042042,    0.043043,    0.044044,    0.045045,    0.046046,    0.047047,\n",
       "          0.048048,    0.049049,     0.05005,    0.051051,    0.052052,    0.053053,    0.054054,    0.055055,    0.056056,    0.057057,    0.058058,    0.059059,     0.06006,    0.061061,    0.062062,    0.063063,    0.064064,    0.065065,    0.066066,    0.067067,    0.068068,    0.069069,     0.07007,    0.071071,\n",
       "          0.072072,    0.073073,    0.074074,    0.075075,    0.076076,    0.077077,    0.078078,    0.079079,     0.08008,    0.081081,    0.082082,    0.083083,    0.084084,    0.085085,    0.086086,    0.087087,    0.088088,    0.089089,     0.09009,    0.091091,    0.092092,    0.093093,    0.094094,    0.095095,\n",
       "          0.096096,    0.097097,    0.098098,    0.099099,      0.1001,      0.1011,      0.1021,      0.1031,      0.1041,     0.10511,     0.10611,     0.10711,     0.10811,     0.10911,     0.11011,     0.11111,     0.11211,     0.11311,     0.11411,     0.11512,     0.11612,     0.11712,     0.11812,     0.11912,\n",
       "           0.12012,     0.12112,     0.12212,     0.12312,     0.12412,     0.12513,     0.12613,     0.12713,     0.12813,     0.12913,     0.13013,     0.13113,     0.13213,     0.13313,     0.13413,     0.13514,     0.13614,     0.13714,     0.13814,     0.13914,     0.14014,     0.14114,     0.14214,     0.14314,\n",
       "           0.14414,     0.14515,     0.14615,     0.14715,     0.14815,     0.14915,     0.15015,     0.15115,     0.15215,     0.15315,     0.15415,     0.15516,     0.15616,     0.15716,     0.15816,     0.15916,     0.16016,     0.16116,     0.16216,     0.16316,     0.16416,     0.16517,     0.16617,     0.16717,\n",
       "           0.16817,     0.16917,     0.17017,     0.17117,     0.17217,     0.17317,     0.17417,     0.17518,     0.17618,     0.17718,     0.17818,     0.17918,     0.18018,     0.18118,     0.18218,     0.18318,     0.18418,     0.18519,     0.18619,     0.18719,     0.18819,     0.18919,     0.19019,     0.19119,\n",
       "           0.19219,     0.19319,     0.19419,      0.1952,      0.1962,      0.1972,      0.1982,      0.1992,      0.2002,      0.2012,      0.2022,      0.2032,      0.2042,     0.20521,     0.20621,     0.20721,     0.20821,     0.20921,     0.21021,     0.21121,     0.21221,     0.21321,     0.21421,     0.21522,\n",
       "           0.21622,     0.21722,     0.21822,     0.21922,     0.22022,     0.22122,     0.22222,     0.22322,     0.22422,     0.22523,     0.22623,     0.22723,     0.22823,     0.22923,     0.23023,     0.23123,     0.23223,     0.23323,     0.23423,     0.23524,     0.23624,     0.23724,     0.23824,     0.23924,\n",
       "           0.24024,     0.24124,     0.24224,     0.24324,     0.24424,     0.24525,     0.24625,     0.24725,     0.24825,     0.24925,     0.25025,     0.25125,     0.25225,     0.25325,     0.25425,     0.25526,     0.25626,     0.25726,     0.25826,     0.25926,     0.26026,     0.26126,     0.26226,     0.26326,\n",
       "           0.26426,     0.26527,     0.26627,     0.26727,     0.26827,     0.26927,     0.27027,     0.27127,     0.27227,     0.27327,     0.27427,     0.27528,     0.27628,     0.27728,     0.27828,     0.27928,     0.28028,     0.28128,     0.28228,     0.28328,     0.28428,     0.28529,     0.28629,     0.28729,\n",
       "           0.28829,     0.28929,     0.29029,     0.29129,     0.29229,     0.29329,     0.29429,      0.2953,      0.2963,      0.2973,      0.2983,      0.2993,      0.3003,      0.3013,      0.3023,      0.3033,      0.3043,     0.30531,     0.30631,     0.30731,     0.30831,     0.30931,     0.31031,     0.31131,\n",
       "           0.31231,     0.31331,     0.31431,     0.31532,     0.31632,     0.31732,     0.31832,     0.31932,     0.32032,     0.32132,     0.32232,     0.32332,     0.32432,     0.32533,     0.32633,     0.32733,     0.32833,     0.32933,     0.33033,     0.33133,     0.33233,     0.33333,     0.33433,     0.33534,\n",
       "           0.33634,     0.33734,     0.33834,     0.33934,     0.34034,     0.34134,     0.34234,     0.34334,     0.34434,     0.34535,     0.34635,     0.34735,     0.34835,     0.34935,     0.35035,     0.35135,     0.35235,     0.35335,     0.35435,     0.35536,     0.35636,     0.35736,     0.35836,     0.35936,\n",
       "           0.36036,     0.36136,     0.36236,     0.36336,     0.36436,     0.36537,     0.36637,     0.36737,     0.36837,     0.36937,     0.37037,     0.37137,     0.37237,     0.37337,     0.37437,     0.37538,     0.37638,     0.37738,     0.37838,     0.37938,     0.38038,     0.38138,     0.38238,     0.38338,\n",
       "           0.38438,     0.38539,     0.38639,     0.38739,     0.38839,     0.38939,     0.39039,     0.39139,     0.39239,     0.39339,     0.39439,      0.3954,      0.3964,      0.3974,      0.3984,      0.3994,      0.4004,      0.4014,      0.4024,      0.4034,      0.4044,     0.40541,     0.40641,     0.40741,\n",
       "           0.40841,     0.40941,     0.41041,     0.41141,     0.41241,     0.41341,     0.41441,     0.41542,     0.41642,     0.41742,     0.41842,     0.41942,     0.42042,     0.42142,     0.42242,     0.42342,     0.42442,     0.42543,     0.42643,     0.42743,     0.42843,     0.42943,     0.43043,     0.43143,\n",
       "           0.43243,     0.43343,     0.43443,     0.43544,     0.43644,     0.43744,     0.43844,     0.43944,     0.44044,     0.44144,     0.44244,     0.44344,     0.44444,     0.44545,     0.44645,     0.44745,     0.44845,     0.44945,     0.45045,     0.45145,     0.45245,     0.45345,     0.45445,     0.45546,\n",
       "           0.45646,     0.45746,     0.45846,     0.45946,     0.46046,     0.46146,     0.46246,     0.46346,     0.46446,     0.46547,     0.46647,     0.46747,     0.46847,     0.46947,     0.47047,     0.47147,     0.47247,     0.47347,     0.47447,     0.47548,     0.47648,     0.47748,     0.47848,     0.47948,\n",
       "           0.48048,     0.48148,     0.48248,     0.48348,     0.48448,     0.48549,     0.48649,     0.48749,     0.48849,     0.48949,     0.49049,     0.49149,     0.49249,     0.49349,     0.49449,      0.4955,      0.4965,      0.4975,      0.4985,      0.4995,      0.5005,      0.5015,      0.5025,      0.5035,\n",
       "            0.5045,     0.50551,     0.50651,     0.50751,     0.50851,     0.50951,     0.51051,     0.51151,     0.51251,     0.51351,     0.51451,     0.51552,     0.51652,     0.51752,     0.51852,     0.51952,     0.52052,     0.52152,     0.52252,     0.52352,     0.52452,     0.52553,     0.52653,     0.52753,\n",
       "           0.52853,     0.52953,     0.53053,     0.53153,     0.53253,     0.53353,     0.53453,     0.53554,     0.53654,     0.53754,     0.53854,     0.53954,     0.54054,     0.54154,     0.54254,     0.54354,     0.54454,     0.54555,     0.54655,     0.54755,     0.54855,     0.54955,     0.55055,     0.55155,\n",
       "           0.55255,     0.55355,     0.55455,     0.55556,     0.55656,     0.55756,     0.55856,     0.55956,     0.56056,     0.56156,     0.56256,     0.56356,     0.56456,     0.56557,     0.56657,     0.56757,     0.56857,     0.56957,     0.57057,     0.57157,     0.57257,     0.57357,     0.57457,     0.57558,\n",
       "           0.57658,     0.57758,     0.57858,     0.57958,     0.58058,     0.58158,     0.58258,     0.58358,     0.58458,     0.58559,     0.58659,     0.58759,     0.58859,     0.58959,     0.59059,     0.59159,     0.59259,     0.59359,     0.59459,      0.5956,      0.5966,      0.5976,      0.5986,      0.5996,\n",
       "            0.6006,      0.6016,      0.6026,      0.6036,      0.6046,     0.60561,     0.60661,     0.60761,     0.60861,     0.60961,     0.61061,     0.61161,     0.61261,     0.61361,     0.61461,     0.61562,     0.61662,     0.61762,     0.61862,     0.61962,     0.62062,     0.62162,     0.62262,     0.62362,\n",
       "           0.62462,     0.62563,     0.62663,     0.62763,     0.62863,     0.62963,     0.63063,     0.63163,     0.63263,     0.63363,     0.63463,     0.63564,     0.63664,     0.63764,     0.63864,     0.63964,     0.64064,     0.64164,     0.64264,     0.64364,     0.64464,     0.64565,     0.64665,     0.64765,\n",
       "           0.64865,     0.64965,     0.65065,     0.65165,     0.65265,     0.65365,     0.65465,     0.65566,     0.65666,     0.65766,     0.65866,     0.65966,     0.66066,     0.66166,     0.66266,     0.66366,     0.66466,     0.66567,     0.66667,     0.66767,     0.66867,     0.66967,     0.67067,     0.67167,\n",
       "           0.67267,     0.67367,     0.67467,     0.67568,     0.67668,     0.67768,     0.67868,     0.67968,     0.68068,     0.68168,     0.68268,     0.68368,     0.68468,     0.68569,     0.68669,     0.68769,     0.68869,     0.68969,     0.69069,     0.69169,     0.69269,     0.69369,     0.69469,      0.6957,\n",
       "            0.6967,      0.6977,      0.6987,      0.6997,      0.7007,      0.7017,      0.7027,      0.7037,      0.7047,     0.70571,     0.70671,     0.70771,     0.70871,     0.70971,     0.71071,     0.71171,     0.71271,     0.71371,     0.71471,     0.71572,     0.71672,     0.71772,     0.71872,     0.71972,\n",
       "           0.72072,     0.72172,     0.72272,     0.72372,     0.72472,     0.72573,     0.72673,     0.72773,     0.72873,     0.72973,     0.73073,     0.73173,     0.73273,     0.73373,     0.73473,     0.73574,     0.73674,     0.73774,     0.73874,     0.73974,     0.74074,     0.74174,     0.74274,     0.74374,\n",
       "           0.74474,     0.74575,     0.74675,     0.74775,     0.74875,     0.74975,     0.75075,     0.75175,     0.75275,     0.75375,     0.75475,     0.75576,     0.75676,     0.75776,     0.75876,     0.75976,     0.76076,     0.76176,     0.76276,     0.76376,     0.76476,     0.76577,     0.76677,     0.76777,\n",
       "           0.76877,     0.76977,     0.77077,     0.77177,     0.77277,     0.77377,     0.77477,     0.77578,     0.77678,     0.77778,     0.77878,     0.77978,     0.78078,     0.78178,     0.78278,     0.78378,     0.78478,     0.78579,     0.78679,     0.78779,     0.78879,     0.78979,     0.79079,     0.79179,\n",
       "           0.79279,     0.79379,     0.79479,      0.7958,      0.7968,      0.7978,      0.7988,      0.7998,      0.8008,      0.8018,      0.8028,      0.8038,      0.8048,     0.80581,     0.80681,     0.80781,     0.80881,     0.80981,     0.81081,     0.81181,     0.81281,     0.81381,     0.81481,     0.81582,\n",
       "           0.81682,     0.81782,     0.81882,     0.81982,     0.82082,     0.82182,     0.82282,     0.82382,     0.82482,     0.82583,     0.82683,     0.82783,     0.82883,     0.82983,     0.83083,     0.83183,     0.83283,     0.83383,     0.83483,     0.83584,     0.83684,     0.83784,     0.83884,     0.83984,\n",
       "           0.84084,     0.84184,     0.84284,     0.84384,     0.84484,     0.84585,     0.84685,     0.84785,     0.84885,     0.84985,     0.85085,     0.85185,     0.85285,     0.85385,     0.85485,     0.85586,     0.85686,     0.85786,     0.85886,     0.85986,     0.86086,     0.86186,     0.86286,     0.86386,\n",
       "           0.86486,     0.86587,     0.86687,     0.86787,     0.86887,     0.86987,     0.87087,     0.87187,     0.87287,     0.87387,     0.87487,     0.87588,     0.87688,     0.87788,     0.87888,     0.87988,     0.88088,     0.88188,     0.88288,     0.88388,     0.88488,     0.88589,     0.88689,     0.88789,\n",
       "           0.88889,     0.88989,     0.89089,     0.89189,     0.89289,     0.89389,     0.89489,      0.8959,      0.8969,      0.8979,      0.8989,      0.8999,      0.9009,      0.9019,      0.9029,      0.9039,      0.9049,     0.90591,     0.90691,     0.90791,     0.90891,     0.90991,     0.91091,     0.91191,\n",
       "           0.91291,     0.91391,     0.91491,     0.91592,     0.91692,     0.91792,     0.91892,     0.91992,     0.92092,     0.92192,     0.92292,     0.92392,     0.92492,     0.92593,     0.92693,     0.92793,     0.92893,     0.92993,     0.93093,     0.93193,     0.93293,     0.93393,     0.93493,     0.93594,\n",
       "           0.93694,     0.93794,     0.93894,     0.93994,     0.94094,     0.94194,     0.94294,     0.94394,     0.94494,     0.94595,     0.94695,     0.94795,     0.94895,     0.94995,     0.95095,     0.95195,     0.95295,     0.95395,     0.95495,     0.95596,     0.95696,     0.95796,     0.95896,     0.95996,\n",
       "           0.96096,     0.96196,     0.96296,     0.96396,     0.96496,     0.96597,     0.96697,     0.96797,     0.96897,     0.96997,     0.97097,     0.97197,     0.97297,     0.97397,     0.97497,     0.97598,     0.97698,     0.97798,     0.97898,     0.97998,     0.98098,     0.98198,     0.98298,     0.98398,\n",
       "           0.98498,     0.98599,     0.98699,     0.98799,     0.98899,     0.98999,     0.99099,     0.99199,     0.99299,     0.99399,     0.99499,       0.996,       0.997,       0.998,       0.999,           1]), array([[    0.09872,    0.098869,     0.15349, ...,           0,           0,           0],\n",
       "       [   0.079257,    0.079257,    0.092619, ...,           0,           0,           0],\n",
       "       [   0.098852,    0.098855,     0.11802, ...,           0,           0,           0],\n",
       "       ...,\n",
       "       [    0.10133,     0.10133,      0.1736, ...,           0,           0,           0],\n",
       "       [   0.097938,    0.097938,     0.16653, ...,           0,           0,           0],\n",
       "       [   0.064081,    0.064212,     0.10952, ...,           0,           0,           0]]), 'Confidence', 'F1'], [array([          0,    0.001001,    0.002002,    0.003003,    0.004004,    0.005005,    0.006006,    0.007007,    0.008008,    0.009009,     0.01001,    0.011011,    0.012012,    0.013013,    0.014014,    0.015015,    0.016016,    0.017017,    0.018018,    0.019019,     0.02002,    0.021021,    0.022022,    0.023023,\n",
       "          0.024024,    0.025025,    0.026026,    0.027027,    0.028028,    0.029029,     0.03003,    0.031031,    0.032032,    0.033033,    0.034034,    0.035035,    0.036036,    0.037037,    0.038038,    0.039039,     0.04004,    0.041041,    0.042042,    0.043043,    0.044044,    0.045045,    0.046046,    0.047047,\n",
       "          0.048048,    0.049049,     0.05005,    0.051051,    0.052052,    0.053053,    0.054054,    0.055055,    0.056056,    0.057057,    0.058058,    0.059059,     0.06006,    0.061061,    0.062062,    0.063063,    0.064064,    0.065065,    0.066066,    0.067067,    0.068068,    0.069069,     0.07007,    0.071071,\n",
       "          0.072072,    0.073073,    0.074074,    0.075075,    0.076076,    0.077077,    0.078078,    0.079079,     0.08008,    0.081081,    0.082082,    0.083083,    0.084084,    0.085085,    0.086086,    0.087087,    0.088088,    0.089089,     0.09009,    0.091091,    0.092092,    0.093093,    0.094094,    0.095095,\n",
       "          0.096096,    0.097097,    0.098098,    0.099099,      0.1001,      0.1011,      0.1021,      0.1031,      0.1041,     0.10511,     0.10611,     0.10711,     0.10811,     0.10911,     0.11011,     0.11111,     0.11211,     0.11311,     0.11411,     0.11512,     0.11612,     0.11712,     0.11812,     0.11912,\n",
       "           0.12012,     0.12112,     0.12212,     0.12312,     0.12412,     0.12513,     0.12613,     0.12713,     0.12813,     0.12913,     0.13013,     0.13113,     0.13213,     0.13313,     0.13413,     0.13514,     0.13614,     0.13714,     0.13814,     0.13914,     0.14014,     0.14114,     0.14214,     0.14314,\n",
       "           0.14414,     0.14515,     0.14615,     0.14715,     0.14815,     0.14915,     0.15015,     0.15115,     0.15215,     0.15315,     0.15415,     0.15516,     0.15616,     0.15716,     0.15816,     0.15916,     0.16016,     0.16116,     0.16216,     0.16316,     0.16416,     0.16517,     0.16617,     0.16717,\n",
       "           0.16817,     0.16917,     0.17017,     0.17117,     0.17217,     0.17317,     0.17417,     0.17518,     0.17618,     0.17718,     0.17818,     0.17918,     0.18018,     0.18118,     0.18218,     0.18318,     0.18418,     0.18519,     0.18619,     0.18719,     0.18819,     0.18919,     0.19019,     0.19119,\n",
       "           0.19219,     0.19319,     0.19419,      0.1952,      0.1962,      0.1972,      0.1982,      0.1992,      0.2002,      0.2012,      0.2022,      0.2032,      0.2042,     0.20521,     0.20621,     0.20721,     0.20821,     0.20921,     0.21021,     0.21121,     0.21221,     0.21321,     0.21421,     0.21522,\n",
       "           0.21622,     0.21722,     0.21822,     0.21922,     0.22022,     0.22122,     0.22222,     0.22322,     0.22422,     0.22523,     0.22623,     0.22723,     0.22823,     0.22923,     0.23023,     0.23123,     0.23223,     0.23323,     0.23423,     0.23524,     0.23624,     0.23724,     0.23824,     0.23924,\n",
       "           0.24024,     0.24124,     0.24224,     0.24324,     0.24424,     0.24525,     0.24625,     0.24725,     0.24825,     0.24925,     0.25025,     0.25125,     0.25225,     0.25325,     0.25425,     0.25526,     0.25626,     0.25726,     0.25826,     0.25926,     0.26026,     0.26126,     0.26226,     0.26326,\n",
       "           0.26426,     0.26527,     0.26627,     0.26727,     0.26827,     0.26927,     0.27027,     0.27127,     0.27227,     0.27327,     0.27427,     0.27528,     0.27628,     0.27728,     0.27828,     0.27928,     0.28028,     0.28128,     0.28228,     0.28328,     0.28428,     0.28529,     0.28629,     0.28729,\n",
       "           0.28829,     0.28929,     0.29029,     0.29129,     0.29229,     0.29329,     0.29429,      0.2953,      0.2963,      0.2973,      0.2983,      0.2993,      0.3003,      0.3013,      0.3023,      0.3033,      0.3043,     0.30531,     0.30631,     0.30731,     0.30831,     0.30931,     0.31031,     0.31131,\n",
       "           0.31231,     0.31331,     0.31431,     0.31532,     0.31632,     0.31732,     0.31832,     0.31932,     0.32032,     0.32132,     0.32232,     0.32332,     0.32432,     0.32533,     0.32633,     0.32733,     0.32833,     0.32933,     0.33033,     0.33133,     0.33233,     0.33333,     0.33433,     0.33534,\n",
       "           0.33634,     0.33734,     0.33834,     0.33934,     0.34034,     0.34134,     0.34234,     0.34334,     0.34434,     0.34535,     0.34635,     0.34735,     0.34835,     0.34935,     0.35035,     0.35135,     0.35235,     0.35335,     0.35435,     0.35536,     0.35636,     0.35736,     0.35836,     0.35936,\n",
       "           0.36036,     0.36136,     0.36236,     0.36336,     0.36436,     0.36537,     0.36637,     0.36737,     0.36837,     0.36937,     0.37037,     0.37137,     0.37237,     0.37337,     0.37437,     0.37538,     0.37638,     0.37738,     0.37838,     0.37938,     0.38038,     0.38138,     0.38238,     0.38338,\n",
       "           0.38438,     0.38539,     0.38639,     0.38739,     0.38839,     0.38939,     0.39039,     0.39139,     0.39239,     0.39339,     0.39439,      0.3954,      0.3964,      0.3974,      0.3984,      0.3994,      0.4004,      0.4014,      0.4024,      0.4034,      0.4044,     0.40541,     0.40641,     0.40741,\n",
       "           0.40841,     0.40941,     0.41041,     0.41141,     0.41241,     0.41341,     0.41441,     0.41542,     0.41642,     0.41742,     0.41842,     0.41942,     0.42042,     0.42142,     0.42242,     0.42342,     0.42442,     0.42543,     0.42643,     0.42743,     0.42843,     0.42943,     0.43043,     0.43143,\n",
       "           0.43243,     0.43343,     0.43443,     0.43544,     0.43644,     0.43744,     0.43844,     0.43944,     0.44044,     0.44144,     0.44244,     0.44344,     0.44444,     0.44545,     0.44645,     0.44745,     0.44845,     0.44945,     0.45045,     0.45145,     0.45245,     0.45345,     0.45445,     0.45546,\n",
       "           0.45646,     0.45746,     0.45846,     0.45946,     0.46046,     0.46146,     0.46246,     0.46346,     0.46446,     0.46547,     0.46647,     0.46747,     0.46847,     0.46947,     0.47047,     0.47147,     0.47247,     0.47347,     0.47447,     0.47548,     0.47648,     0.47748,     0.47848,     0.47948,\n",
       "           0.48048,     0.48148,     0.48248,     0.48348,     0.48448,     0.48549,     0.48649,     0.48749,     0.48849,     0.48949,     0.49049,     0.49149,     0.49249,     0.49349,     0.49449,      0.4955,      0.4965,      0.4975,      0.4985,      0.4995,      0.5005,      0.5015,      0.5025,      0.5035,\n",
       "            0.5045,     0.50551,     0.50651,     0.50751,     0.50851,     0.50951,     0.51051,     0.51151,     0.51251,     0.51351,     0.51451,     0.51552,     0.51652,     0.51752,     0.51852,     0.51952,     0.52052,     0.52152,     0.52252,     0.52352,     0.52452,     0.52553,     0.52653,     0.52753,\n",
       "           0.52853,     0.52953,     0.53053,     0.53153,     0.53253,     0.53353,     0.53453,     0.53554,     0.53654,     0.53754,     0.53854,     0.53954,     0.54054,     0.54154,     0.54254,     0.54354,     0.54454,     0.54555,     0.54655,     0.54755,     0.54855,     0.54955,     0.55055,     0.55155,\n",
       "           0.55255,     0.55355,     0.55455,     0.55556,     0.55656,     0.55756,     0.55856,     0.55956,     0.56056,     0.56156,     0.56256,     0.56356,     0.56456,     0.56557,     0.56657,     0.56757,     0.56857,     0.56957,     0.57057,     0.57157,     0.57257,     0.57357,     0.57457,     0.57558,\n",
       "           0.57658,     0.57758,     0.57858,     0.57958,     0.58058,     0.58158,     0.58258,     0.58358,     0.58458,     0.58559,     0.58659,     0.58759,     0.58859,     0.58959,     0.59059,     0.59159,     0.59259,     0.59359,     0.59459,      0.5956,      0.5966,      0.5976,      0.5986,      0.5996,\n",
       "            0.6006,      0.6016,      0.6026,      0.6036,      0.6046,     0.60561,     0.60661,     0.60761,     0.60861,     0.60961,     0.61061,     0.61161,     0.61261,     0.61361,     0.61461,     0.61562,     0.61662,     0.61762,     0.61862,     0.61962,     0.62062,     0.62162,     0.62262,     0.62362,\n",
       "           0.62462,     0.62563,     0.62663,     0.62763,     0.62863,     0.62963,     0.63063,     0.63163,     0.63263,     0.63363,     0.63463,     0.63564,     0.63664,     0.63764,     0.63864,     0.63964,     0.64064,     0.64164,     0.64264,     0.64364,     0.64464,     0.64565,     0.64665,     0.64765,\n",
       "           0.64865,     0.64965,     0.65065,     0.65165,     0.65265,     0.65365,     0.65465,     0.65566,     0.65666,     0.65766,     0.65866,     0.65966,     0.66066,     0.66166,     0.66266,     0.66366,     0.66466,     0.66567,     0.66667,     0.66767,     0.66867,     0.66967,     0.67067,     0.67167,\n",
       "           0.67267,     0.67367,     0.67467,     0.67568,     0.67668,     0.67768,     0.67868,     0.67968,     0.68068,     0.68168,     0.68268,     0.68368,     0.68468,     0.68569,     0.68669,     0.68769,     0.68869,     0.68969,     0.69069,     0.69169,     0.69269,     0.69369,     0.69469,      0.6957,\n",
       "            0.6967,      0.6977,      0.6987,      0.6997,      0.7007,      0.7017,      0.7027,      0.7037,      0.7047,     0.70571,     0.70671,     0.70771,     0.70871,     0.70971,     0.71071,     0.71171,     0.71271,     0.71371,     0.71471,     0.71572,     0.71672,     0.71772,     0.71872,     0.71972,\n",
       "           0.72072,     0.72172,     0.72272,     0.72372,     0.72472,     0.72573,     0.72673,     0.72773,     0.72873,     0.72973,     0.73073,     0.73173,     0.73273,     0.73373,     0.73473,     0.73574,     0.73674,     0.73774,     0.73874,     0.73974,     0.74074,     0.74174,     0.74274,     0.74374,\n",
       "           0.74474,     0.74575,     0.74675,     0.74775,     0.74875,     0.74975,     0.75075,     0.75175,     0.75275,     0.75375,     0.75475,     0.75576,     0.75676,     0.75776,     0.75876,     0.75976,     0.76076,     0.76176,     0.76276,     0.76376,     0.76476,     0.76577,     0.76677,     0.76777,\n",
       "           0.76877,     0.76977,     0.77077,     0.77177,     0.77277,     0.77377,     0.77477,     0.77578,     0.77678,     0.77778,     0.77878,     0.77978,     0.78078,     0.78178,     0.78278,     0.78378,     0.78478,     0.78579,     0.78679,     0.78779,     0.78879,     0.78979,     0.79079,     0.79179,\n",
       "           0.79279,     0.79379,     0.79479,      0.7958,      0.7968,      0.7978,      0.7988,      0.7998,      0.8008,      0.8018,      0.8028,      0.8038,      0.8048,     0.80581,     0.80681,     0.80781,     0.80881,     0.80981,     0.81081,     0.81181,     0.81281,     0.81381,     0.81481,     0.81582,\n",
       "           0.81682,     0.81782,     0.81882,     0.81982,     0.82082,     0.82182,     0.82282,     0.82382,     0.82482,     0.82583,     0.82683,     0.82783,     0.82883,     0.82983,     0.83083,     0.83183,     0.83283,     0.83383,     0.83483,     0.83584,     0.83684,     0.83784,     0.83884,     0.83984,\n",
       "           0.84084,     0.84184,     0.84284,     0.84384,     0.84484,     0.84585,     0.84685,     0.84785,     0.84885,     0.84985,     0.85085,     0.85185,     0.85285,     0.85385,     0.85485,     0.85586,     0.85686,     0.85786,     0.85886,     0.85986,     0.86086,     0.86186,     0.86286,     0.86386,\n",
       "           0.86486,     0.86587,     0.86687,     0.86787,     0.86887,     0.86987,     0.87087,     0.87187,     0.87287,     0.87387,     0.87487,     0.87588,     0.87688,     0.87788,     0.87888,     0.87988,     0.88088,     0.88188,     0.88288,     0.88388,     0.88488,     0.88589,     0.88689,     0.88789,\n",
       "           0.88889,     0.88989,     0.89089,     0.89189,     0.89289,     0.89389,     0.89489,      0.8959,      0.8969,      0.8979,      0.8989,      0.8999,      0.9009,      0.9019,      0.9029,      0.9039,      0.9049,     0.90591,     0.90691,     0.90791,     0.90891,     0.90991,     0.91091,     0.91191,\n",
       "           0.91291,     0.91391,     0.91491,     0.91592,     0.91692,     0.91792,     0.91892,     0.91992,     0.92092,     0.92192,     0.92292,     0.92392,     0.92492,     0.92593,     0.92693,     0.92793,     0.92893,     0.92993,     0.93093,     0.93193,     0.93293,     0.93393,     0.93493,     0.93594,\n",
       "           0.93694,     0.93794,     0.93894,     0.93994,     0.94094,     0.94194,     0.94294,     0.94394,     0.94494,     0.94595,     0.94695,     0.94795,     0.94895,     0.94995,     0.95095,     0.95195,     0.95295,     0.95395,     0.95495,     0.95596,     0.95696,     0.95796,     0.95896,     0.95996,\n",
       "           0.96096,     0.96196,     0.96296,     0.96396,     0.96496,     0.96597,     0.96697,     0.96797,     0.96897,     0.96997,     0.97097,     0.97197,     0.97297,     0.97397,     0.97497,     0.97598,     0.97698,     0.97798,     0.97898,     0.97998,     0.98098,     0.98198,     0.98298,     0.98398,\n",
       "           0.98498,     0.98599,     0.98699,     0.98799,     0.98899,     0.98999,     0.99099,     0.99199,     0.99299,     0.99399,     0.99499,       0.996,       0.997,       0.998,       0.999,           1]), array([[   0.052124,    0.052206,    0.083637, ...,           1,           1,           1],\n",
       "       [   0.041334,    0.041334,    0.048656, ...,           1,           1,           1],\n",
       "       [   0.052023,    0.052025,    0.062793, ...,           1,           1,           1],\n",
       "       ...,\n",
       "       [   0.053371,    0.053371,    0.095049, ...,           1,           1,           1],\n",
       "       [   0.051491,    0.051491,    0.090828, ...,           1,           1,           1],\n",
       "       [   0.033101,    0.033171,     0.05793, ...,           1,           1,           1]]), 'Confidence', 'Precision'], [array([          0,    0.001001,    0.002002,    0.003003,    0.004004,    0.005005,    0.006006,    0.007007,    0.008008,    0.009009,     0.01001,    0.011011,    0.012012,    0.013013,    0.014014,    0.015015,    0.016016,    0.017017,    0.018018,    0.019019,     0.02002,    0.021021,    0.022022,    0.023023,\n",
       "          0.024024,    0.025025,    0.026026,    0.027027,    0.028028,    0.029029,     0.03003,    0.031031,    0.032032,    0.033033,    0.034034,    0.035035,    0.036036,    0.037037,    0.038038,    0.039039,     0.04004,    0.041041,    0.042042,    0.043043,    0.044044,    0.045045,    0.046046,    0.047047,\n",
       "          0.048048,    0.049049,     0.05005,    0.051051,    0.052052,    0.053053,    0.054054,    0.055055,    0.056056,    0.057057,    0.058058,    0.059059,     0.06006,    0.061061,    0.062062,    0.063063,    0.064064,    0.065065,    0.066066,    0.067067,    0.068068,    0.069069,     0.07007,    0.071071,\n",
       "          0.072072,    0.073073,    0.074074,    0.075075,    0.076076,    0.077077,    0.078078,    0.079079,     0.08008,    0.081081,    0.082082,    0.083083,    0.084084,    0.085085,    0.086086,    0.087087,    0.088088,    0.089089,     0.09009,    0.091091,    0.092092,    0.093093,    0.094094,    0.095095,\n",
       "          0.096096,    0.097097,    0.098098,    0.099099,      0.1001,      0.1011,      0.1021,      0.1031,      0.1041,     0.10511,     0.10611,     0.10711,     0.10811,     0.10911,     0.11011,     0.11111,     0.11211,     0.11311,     0.11411,     0.11512,     0.11612,     0.11712,     0.11812,     0.11912,\n",
       "           0.12012,     0.12112,     0.12212,     0.12312,     0.12412,     0.12513,     0.12613,     0.12713,     0.12813,     0.12913,     0.13013,     0.13113,     0.13213,     0.13313,     0.13413,     0.13514,     0.13614,     0.13714,     0.13814,     0.13914,     0.14014,     0.14114,     0.14214,     0.14314,\n",
       "           0.14414,     0.14515,     0.14615,     0.14715,     0.14815,     0.14915,     0.15015,     0.15115,     0.15215,     0.15315,     0.15415,     0.15516,     0.15616,     0.15716,     0.15816,     0.15916,     0.16016,     0.16116,     0.16216,     0.16316,     0.16416,     0.16517,     0.16617,     0.16717,\n",
       "           0.16817,     0.16917,     0.17017,     0.17117,     0.17217,     0.17317,     0.17417,     0.17518,     0.17618,     0.17718,     0.17818,     0.17918,     0.18018,     0.18118,     0.18218,     0.18318,     0.18418,     0.18519,     0.18619,     0.18719,     0.18819,     0.18919,     0.19019,     0.19119,\n",
       "           0.19219,     0.19319,     0.19419,      0.1952,      0.1962,      0.1972,      0.1982,      0.1992,      0.2002,      0.2012,      0.2022,      0.2032,      0.2042,     0.20521,     0.20621,     0.20721,     0.20821,     0.20921,     0.21021,     0.21121,     0.21221,     0.21321,     0.21421,     0.21522,\n",
       "           0.21622,     0.21722,     0.21822,     0.21922,     0.22022,     0.22122,     0.22222,     0.22322,     0.22422,     0.22523,     0.22623,     0.22723,     0.22823,     0.22923,     0.23023,     0.23123,     0.23223,     0.23323,     0.23423,     0.23524,     0.23624,     0.23724,     0.23824,     0.23924,\n",
       "           0.24024,     0.24124,     0.24224,     0.24324,     0.24424,     0.24525,     0.24625,     0.24725,     0.24825,     0.24925,     0.25025,     0.25125,     0.25225,     0.25325,     0.25425,     0.25526,     0.25626,     0.25726,     0.25826,     0.25926,     0.26026,     0.26126,     0.26226,     0.26326,\n",
       "           0.26426,     0.26527,     0.26627,     0.26727,     0.26827,     0.26927,     0.27027,     0.27127,     0.27227,     0.27327,     0.27427,     0.27528,     0.27628,     0.27728,     0.27828,     0.27928,     0.28028,     0.28128,     0.28228,     0.28328,     0.28428,     0.28529,     0.28629,     0.28729,\n",
       "           0.28829,     0.28929,     0.29029,     0.29129,     0.29229,     0.29329,     0.29429,      0.2953,      0.2963,      0.2973,      0.2983,      0.2993,      0.3003,      0.3013,      0.3023,      0.3033,      0.3043,     0.30531,     0.30631,     0.30731,     0.30831,     0.30931,     0.31031,     0.31131,\n",
       "           0.31231,     0.31331,     0.31431,     0.31532,     0.31632,     0.31732,     0.31832,     0.31932,     0.32032,     0.32132,     0.32232,     0.32332,     0.32432,     0.32533,     0.32633,     0.32733,     0.32833,     0.32933,     0.33033,     0.33133,     0.33233,     0.33333,     0.33433,     0.33534,\n",
       "           0.33634,     0.33734,     0.33834,     0.33934,     0.34034,     0.34134,     0.34234,     0.34334,     0.34434,     0.34535,     0.34635,     0.34735,     0.34835,     0.34935,     0.35035,     0.35135,     0.35235,     0.35335,     0.35435,     0.35536,     0.35636,     0.35736,     0.35836,     0.35936,\n",
       "           0.36036,     0.36136,     0.36236,     0.36336,     0.36436,     0.36537,     0.36637,     0.36737,     0.36837,     0.36937,     0.37037,     0.37137,     0.37237,     0.37337,     0.37437,     0.37538,     0.37638,     0.37738,     0.37838,     0.37938,     0.38038,     0.38138,     0.38238,     0.38338,\n",
       "           0.38438,     0.38539,     0.38639,     0.38739,     0.38839,     0.38939,     0.39039,     0.39139,     0.39239,     0.39339,     0.39439,      0.3954,      0.3964,      0.3974,      0.3984,      0.3994,      0.4004,      0.4014,      0.4024,      0.4034,      0.4044,     0.40541,     0.40641,     0.40741,\n",
       "           0.40841,     0.40941,     0.41041,     0.41141,     0.41241,     0.41341,     0.41441,     0.41542,     0.41642,     0.41742,     0.41842,     0.41942,     0.42042,     0.42142,     0.42242,     0.42342,     0.42442,     0.42543,     0.42643,     0.42743,     0.42843,     0.42943,     0.43043,     0.43143,\n",
       "           0.43243,     0.43343,     0.43443,     0.43544,     0.43644,     0.43744,     0.43844,     0.43944,     0.44044,     0.44144,     0.44244,     0.44344,     0.44444,     0.44545,     0.44645,     0.44745,     0.44845,     0.44945,     0.45045,     0.45145,     0.45245,     0.45345,     0.45445,     0.45546,\n",
       "           0.45646,     0.45746,     0.45846,     0.45946,     0.46046,     0.46146,     0.46246,     0.46346,     0.46446,     0.46547,     0.46647,     0.46747,     0.46847,     0.46947,     0.47047,     0.47147,     0.47247,     0.47347,     0.47447,     0.47548,     0.47648,     0.47748,     0.47848,     0.47948,\n",
       "           0.48048,     0.48148,     0.48248,     0.48348,     0.48448,     0.48549,     0.48649,     0.48749,     0.48849,     0.48949,     0.49049,     0.49149,     0.49249,     0.49349,     0.49449,      0.4955,      0.4965,      0.4975,      0.4985,      0.4995,      0.5005,      0.5015,      0.5025,      0.5035,\n",
       "            0.5045,     0.50551,     0.50651,     0.50751,     0.50851,     0.50951,     0.51051,     0.51151,     0.51251,     0.51351,     0.51451,     0.51552,     0.51652,     0.51752,     0.51852,     0.51952,     0.52052,     0.52152,     0.52252,     0.52352,     0.52452,     0.52553,     0.52653,     0.52753,\n",
       "           0.52853,     0.52953,     0.53053,     0.53153,     0.53253,     0.53353,     0.53453,     0.53554,     0.53654,     0.53754,     0.53854,     0.53954,     0.54054,     0.54154,     0.54254,     0.54354,     0.54454,     0.54555,     0.54655,     0.54755,     0.54855,     0.54955,     0.55055,     0.55155,\n",
       "           0.55255,     0.55355,     0.55455,     0.55556,     0.55656,     0.55756,     0.55856,     0.55956,     0.56056,     0.56156,     0.56256,     0.56356,     0.56456,     0.56557,     0.56657,     0.56757,     0.56857,     0.56957,     0.57057,     0.57157,     0.57257,     0.57357,     0.57457,     0.57558,\n",
       "           0.57658,     0.57758,     0.57858,     0.57958,     0.58058,     0.58158,     0.58258,     0.58358,     0.58458,     0.58559,     0.58659,     0.58759,     0.58859,     0.58959,     0.59059,     0.59159,     0.59259,     0.59359,     0.59459,      0.5956,      0.5966,      0.5976,      0.5986,      0.5996,\n",
       "            0.6006,      0.6016,      0.6026,      0.6036,      0.6046,     0.60561,     0.60661,     0.60761,     0.60861,     0.60961,     0.61061,     0.61161,     0.61261,     0.61361,     0.61461,     0.61562,     0.61662,     0.61762,     0.61862,     0.61962,     0.62062,     0.62162,     0.62262,     0.62362,\n",
       "           0.62462,     0.62563,     0.62663,     0.62763,     0.62863,     0.62963,     0.63063,     0.63163,     0.63263,     0.63363,     0.63463,     0.63564,     0.63664,     0.63764,     0.63864,     0.63964,     0.64064,     0.64164,     0.64264,     0.64364,     0.64464,     0.64565,     0.64665,     0.64765,\n",
       "           0.64865,     0.64965,     0.65065,     0.65165,     0.65265,     0.65365,     0.65465,     0.65566,     0.65666,     0.65766,     0.65866,     0.65966,     0.66066,     0.66166,     0.66266,     0.66366,     0.66466,     0.66567,     0.66667,     0.66767,     0.66867,     0.66967,     0.67067,     0.67167,\n",
       "           0.67267,     0.67367,     0.67467,     0.67568,     0.67668,     0.67768,     0.67868,     0.67968,     0.68068,     0.68168,     0.68268,     0.68368,     0.68468,     0.68569,     0.68669,     0.68769,     0.68869,     0.68969,     0.69069,     0.69169,     0.69269,     0.69369,     0.69469,      0.6957,\n",
       "            0.6967,      0.6977,      0.6987,      0.6997,      0.7007,      0.7017,      0.7027,      0.7037,      0.7047,     0.70571,     0.70671,     0.70771,     0.70871,     0.70971,     0.71071,     0.71171,     0.71271,     0.71371,     0.71471,     0.71572,     0.71672,     0.71772,     0.71872,     0.71972,\n",
       "           0.72072,     0.72172,     0.72272,     0.72372,     0.72472,     0.72573,     0.72673,     0.72773,     0.72873,     0.72973,     0.73073,     0.73173,     0.73273,     0.73373,     0.73473,     0.73574,     0.73674,     0.73774,     0.73874,     0.73974,     0.74074,     0.74174,     0.74274,     0.74374,\n",
       "           0.74474,     0.74575,     0.74675,     0.74775,     0.74875,     0.74975,     0.75075,     0.75175,     0.75275,     0.75375,     0.75475,     0.75576,     0.75676,     0.75776,     0.75876,     0.75976,     0.76076,     0.76176,     0.76276,     0.76376,     0.76476,     0.76577,     0.76677,     0.76777,\n",
       "           0.76877,     0.76977,     0.77077,     0.77177,     0.77277,     0.77377,     0.77477,     0.77578,     0.77678,     0.77778,     0.77878,     0.77978,     0.78078,     0.78178,     0.78278,     0.78378,     0.78478,     0.78579,     0.78679,     0.78779,     0.78879,     0.78979,     0.79079,     0.79179,\n",
       "           0.79279,     0.79379,     0.79479,      0.7958,      0.7968,      0.7978,      0.7988,      0.7998,      0.8008,      0.8018,      0.8028,      0.8038,      0.8048,     0.80581,     0.80681,     0.80781,     0.80881,     0.80981,     0.81081,     0.81181,     0.81281,     0.81381,     0.81481,     0.81582,\n",
       "           0.81682,     0.81782,     0.81882,     0.81982,     0.82082,     0.82182,     0.82282,     0.82382,     0.82482,     0.82583,     0.82683,     0.82783,     0.82883,     0.82983,     0.83083,     0.83183,     0.83283,     0.83383,     0.83483,     0.83584,     0.83684,     0.83784,     0.83884,     0.83984,\n",
       "           0.84084,     0.84184,     0.84284,     0.84384,     0.84484,     0.84585,     0.84685,     0.84785,     0.84885,     0.84985,     0.85085,     0.85185,     0.85285,     0.85385,     0.85485,     0.85586,     0.85686,     0.85786,     0.85886,     0.85986,     0.86086,     0.86186,     0.86286,     0.86386,\n",
       "           0.86486,     0.86587,     0.86687,     0.86787,     0.86887,     0.86987,     0.87087,     0.87187,     0.87287,     0.87387,     0.87487,     0.87588,     0.87688,     0.87788,     0.87888,     0.87988,     0.88088,     0.88188,     0.88288,     0.88388,     0.88488,     0.88589,     0.88689,     0.88789,\n",
       "           0.88889,     0.88989,     0.89089,     0.89189,     0.89289,     0.89389,     0.89489,      0.8959,      0.8969,      0.8979,      0.8989,      0.8999,      0.9009,      0.9019,      0.9029,      0.9039,      0.9049,     0.90591,     0.90691,     0.90791,     0.90891,     0.90991,     0.91091,     0.91191,\n",
       "           0.91291,     0.91391,     0.91491,     0.91592,     0.91692,     0.91792,     0.91892,     0.91992,     0.92092,     0.92192,     0.92292,     0.92392,     0.92492,     0.92593,     0.92693,     0.92793,     0.92893,     0.92993,     0.93093,     0.93193,     0.93293,     0.93393,     0.93493,     0.93594,\n",
       "           0.93694,     0.93794,     0.93894,     0.93994,     0.94094,     0.94194,     0.94294,     0.94394,     0.94494,     0.94595,     0.94695,     0.94795,     0.94895,     0.94995,     0.95095,     0.95195,     0.95295,     0.95395,     0.95495,     0.95596,     0.95696,     0.95796,     0.95896,     0.95996,\n",
       "           0.96096,     0.96196,     0.96296,     0.96396,     0.96496,     0.96597,     0.96697,     0.96797,     0.96897,     0.96997,     0.97097,     0.97197,     0.97297,     0.97397,     0.97497,     0.97598,     0.97698,     0.97798,     0.97898,     0.97998,     0.98098,     0.98198,     0.98298,     0.98398,\n",
       "           0.98498,     0.98599,     0.98699,     0.98799,     0.98899,     0.98999,     0.99099,     0.99199,     0.99299,     0.99399,     0.99499,       0.996,       0.997,       0.998,       0.999,           1]), array([[    0.93103,     0.93103,     0.93103, ...,           0,           0,           0],\n",
       "       [    0.96026,     0.96026,     0.96026, ...,           0,           0,           0],\n",
       "       [       0.99,        0.99,        0.98, ...,           0,           0,           0],\n",
       "       ...,\n",
       "       [          1,           1,           1, ...,           0,           0,           0],\n",
       "       [          1,           1,           1, ...,           0,           0,           0],\n",
       "       [          1,           1,           1, ...,           0,           0,           0]]), 'Confidence', 'Recall']]\n",
       "fitness: 0.4702260504468576\n",
       "keys: ['metrics/precision(B)', 'metrics/recall(B)', 'metrics/mAP50(B)', 'metrics/mAP50-95(B)']\n",
       "maps: array([    0.45285,     0.45285,     0.58424,     0.51669,     0.45285,     0.39093,     0.45285,     0.29387,     0.45285,     0.45285,     0.45285,     0.19175,     0.45285,     0.55685,     0.45285,     0.45285,     0.42558,     0.63039,     0.63684,     0.12056,     0.50053,     0.45285,     0.63554,     0.53677,\n",
       "           0.39891,     0.62026,     0.45285,     0.11448,     0.60478,      0.2565,     0.45285,     0.43398,      0.6515,     0.79296,     0.76376,     0.45285,           0,     0.59763,     0.21695,     0.48341,     0.58934,     0.45285,     0.73083,     0.37234,     0.56754,     0.26868,     0.27402,     0.13345,\n",
       "                 0,     0.61464,     0.17872,     0.45285,     0.41442,     0.45285,     0.53405,     0.43996,     0.87968,     0.41337,     0.26289,     0.16798,     0.64997,       0.995,     0.35924,     0.71297,     0.60168,     0.45285,     0.37766,    0.026384,     0.30772,     0.45285,     0.59672,       0.556,\n",
       "           0.55701,    0.046886,     0.61579,      0.8955,     0.65415,     0.19164,     0.45285,     0.35299,     0.45285,     0.97379,           0,     0.42484,     0.72953,     0.59639,     0.16724,     0.38565,    0.095053,     0.15024,           0,     0.64531,     0.45285,     0.54533,     0.61794,     0.27342,\n",
       "           0.79818,     0.45285,     0.45285,     0.53984,     0.26071,     0.50113,     0.19147,      0.6965,     0.45285,     0.24875,           0,     0.45285,     0.45285,     0.45285,     0.45285,    0.027583,     0.45285,     0.10357,     0.41452,    0.056336,     0.45285,     0.45285,     0.41161,     0.12839,\n",
       "           0.45285,     0.74251,     0.45285,     0.45285,     0.68113,     0.93756,     0.44571,     0.45285,     0.45285,     0.45285,     0.49931,     0.45285,     0.45285,     0.19582,     0.45285,     0.46834,     0.45285,     0.17997,     0.45285,     0.17093,           0,           0,     0.44683,     0.45285,\n",
       "           0.49819,     0.39053,     0.78244,     0.38607,      0.7706,     0.40711,     0.63053,     0.45285,     0.45285,     0.55272,     0.68919,    0.024564,     0.45285,           0,     0.45285,     0.76209,     0.44441,     0.28964,     0.57538,     0.94436,     0.98548,     0.75478,     0.96893,     0.96841,\n",
       "           0.92292])\n",
       "names: {0: '-', 1: '10_pineapple', 2: '10_tangerine', 3: 'Apple', 4: 'Bagel', 5: 'Banana', 6: 'Bitter melon', 7: 'Cucumber', 8: 'Garlic', 9: 'Green Chili', 10: 'Lady finger', 11: 'Mushroom', 12: 'Onion', 13: 'Orange', 14: 'Potato', 15: 'Sponge Gourd', 16: 'Tomato', 17: 'ampalaya', 18: 'apple', 19: 'asparagus', 20: 'avocado', 21: 'bacon', 22: 'banana', 23: 'beef', 24: 'bell pepper', 25: 'bell_pepper', 26: 'bento', 27: 'bitter gourd', 28: 'blueberries', 29: 'bok choy', 30: 'bottle', 31: 'bread', 32: 'broccoli', 33: 'butter', 34: 'cabbage', 35: 'can', 36: 'canned_tuna', 37: 'carrot', 38: 'cashew', 39: 'cauliflower', 40: 'cheese', 41: 'cherry', 42: 'chicken', 43: 'chicken breast', 44: 'chicken thigh', 45: 'chicken wing', 46: 'chicken_breast', 47: 'chilli', 48: 'chocolate', 49: 'corn', 50: 'crab', 51: 'cream-cheese', 52: 'cucumber', 53: 'dates', 54: 'egg', 55: 'egg_', 56: 'eggplant', 57: 'eggs', 58: 'fish', 59: 'fish_cake', 60: 'flour', 61: 'french_fries', 62: 'garlic', 63: 'ginger', 64: 'goat_cheese', 65: 'grapefruit', 66: 'grapes', 67: 'grated_cheese', 68: 'green chilli', 69: 'green-chillies', 70: 'green_beans', 71: 'green_onion', 72: 'ground_beef', 73: 'guacamole', 74: 'ham', 75: 'hash_brown', 76: 'heavy_cream', 77: 'humus', 78: 'juice', 79: 'ketchup', 80: 'kimchi', 81: 'kiwi', 82: 'leek', 83: 'lemon', 84: 'lettuce', 85: 'lime', 86: 'lobster tails', 87: 'mango', 88: 'marmelade', 89: 'mayonaise', 90: 'mayonnaise', 91: 'milk', 92: 'mint', 93: 'mozzarella cheese', 94: 'mushrooms', 95: 'mustard', 96: 'nacho_chips', 97: 'nuts', 98: 'olives', 99: 'onion', 100: 'orange', 101: 'oysters', 102: 'pak_choi', 103: 'parmasan_cheese', 104: 'parsley', 105: 'pasta', 106: 'pawpaw', 107: 'peach', 108: 'peanuts', 109: 'pear', 110: 'peas', 111: 'pepper', 112: 'pickles', 113: 'pimento', 114: 'pineapple', 115: 'plantains', 116: 'plasticsaveholder', 117: 'pomegrante', 118: 'pork', 119: 'pork belly', 120: 'pot', 121: 'potato', 122: 'potatoes', 123: 'pudding', 124: 'pumpkin', 125: 'radish', 126: 'red chili', 127: 'red_cabbage', 128: 'red_grapes', 129: 'red_onion', 130: 'rice', 131: 'rice_ball', 132: 'rice_cake', 133: 'salad', 134: 'salami', 135: 'salmon', 136: 'sandwich', 137: 'sausage', 138: 'sayote', 139: 'sea scallops', 140: 'seaweed', 141: 'seseme', 142: 'shrimp', 143: 'smoothie', 144: 'spinach', 145: 'spring_onion', 146: 'strawberries', 147: 'strawberry', 148: 'sugar', 149: 'sweet potato', 150: 'sweet_potato', 151: 'tangerine', 152: 'tempeh', 153: 'tofu', 154: 'tomato', 155: 'tomato_sauce', 156: 'tortillas', 157: 'tuna', 158: 'turkey', 159: 'watermelon', 160: 'white rice', 161: 'yogurt', 162: 'zucchini', 163: 'fruit_jam', 164: 'korean_pancake', 165: 'mushroom', 166: 'persimmon', 167: 'powder', 168: 'sauce'}\n",
       "plot: True\n",
       "results_dict: {'metrics/precision(B)': 0.7173805429472161, 'metrics/recall(B)': 0.5229472451701765, 'metrics/mAP50(B)': 0.626626455903526, 'metrics/mAP50-95(B)': 0.45284822761833887, 'fitness': 0.4702260504468576}\n",
       "save_dir: WindowsPath('runs/detect/train72')\n",
       "speed: {'preprocess': 0.13891055510681008, 'inference': 1.3005913853927142, 'loss': 0.00047897897995391914, 'postprocess': 1.1071341539387445}\n",
       "task: 'detect'"
      ]
     },
     "execution_count": 13,
     "metadata": {},
     "output_type": "execute_result"
    }
   ],
   "source": [
    "model.val()"
   ]
  },
  {
   "cell_type": "code",
   "execution_count": null,
   "id": "b3dccfdd",
   "metadata": {},
   "outputs": [],
   "source": []
  },
  {
   "cell_type": "code",
   "execution_count": null,
   "id": "74e46e8a",
   "metadata": {},
   "outputs": [],
   "source": []
  },
  {
   "cell_type": "code",
   "execution_count": 54,
   "id": "a2fe83bc",
   "metadata": {
    "scrolled": true
   },
   "outputs": [
    {
     "data": {
      "image/jpeg": "[encoded data removed]",
      "text/plain": [
       "<IPython.core.display.Image object>"
      ]
     },
     "metadata": {},
     "output_type": "display_data"
    }
   ],
   "source": [
    "from PIL import Image\n",
    "from IPython.display import Image\n",
    "image1 = Image(filename='runs/detect/train52/0001_jpg.rf.9fbe01a9c0214edbb8eca2fe0bbca214.jpg')\n",
    "display(image1)"
   ]
  },
  {
   "cell_type": "code",
   "execution_count": 55,
   "id": "4eef5fa3",
   "metadata": {
    "scrolled": true
   },
   "outputs": [
    {
     "data": {
      "image/jpeg": "[encoded data removed]",
      "text/plain": [
       "<IPython.core.display.Image object>"
      ]
     },
     "metadata": {},
     "output_type": "display_data"
    }
   ],
   "source": [
    "image2 = Image(filename='runs/detect/train52/-12_jpg.rf.68b80b69c0b174d247b201305e2cf72d.jpg')\n",
    "display(image2)"
   ]
  },
  {
   "cell_type": "code",
   "execution_count": 75,
   "id": "55c6051e",
   "metadata": {},
   "outputs": [
    {
     "name": "stdout",
     "output_type": "stream",
     "text": [
      "YOLO(\n",
      "  (model): DetectionModel(\n",
      "    (model): Sequential(\n",
      "      (0): Conv(\n",
      "        (conv): Conv2d(3, 16, kernel_size=(3, 3), stride=(2, 2), padding=(1, 1))\n",
      "        (act): SiLU(inplace=True)\n",
      "      )\n",
      "      (1): Conv(\n",
      "        (conv): Conv2d(16, 32, kernel_size=(3, 3), stride=(2, 2), padding=(1, 1))\n",
      "        (act): SiLU(inplace=True)\n",
      "      )\n",
      "      (2): C2f(\n",
      "        (cv1): Conv(\n",
      "          (conv): Conv2d(32, 32, kernel_size=(1, 1), stride=(1, 1))\n",
      "          (act): SiLU(inplace=True)\n",
      "        )\n",
      "        (cv2): Conv(\n",
      "          (conv): Conv2d(48, 32, kernel_size=(1, 1), stride=(1, 1))\n",
      "          (act): SiLU(inplace=True)\n",
      "        )\n",
      "        (m): ModuleList(\n",
      "          (0): Bottleneck(\n",
      "            (cv1): Conv(\n",
      "              (conv): Conv2d(16, 16, kernel_size=(3, 3), stride=(1, 1), padding=(1, 1))\n",
      "              (act): SiLU(inplace=True)\n",
      "            )\n",
      "            (cv2): Conv(\n",
      "              (conv): Conv2d(16, 16, kernel_size=(3, 3), stride=(1, 1), padding=(1, 1))\n",
      "              (act): SiLU(inplace=True)\n",
      "            )\n",
      "          )\n",
      "        )\n",
      "      )\n",
      "      (3): Conv(\n",
      "        (conv): Conv2d(32, 64, kernel_size=(3, 3), stride=(2, 2), padding=(1, 1))\n",
      "        (act): SiLU(inplace=True)\n",
      "      )\n",
      "      (4): C2f(\n",
      "        (cv1): Conv(\n",
      "          (conv): Conv2d(64, 64, kernel_size=(1, 1), stride=(1, 1))\n",
      "          (act): SiLU(inplace=True)\n",
      "        )\n",
      "        (cv2): Conv(\n",
      "          (conv): Conv2d(128, 64, kernel_size=(1, 1), stride=(1, 1))\n",
      "          (act): SiLU(inplace=True)\n",
      "        )\n",
      "        (m): ModuleList(\n",
      "          (0-1): 2 x Bottleneck(\n",
      "            (cv1): Conv(\n",
      "              (conv): Conv2d(32, 32, kernel_size=(3, 3), stride=(1, 1), padding=(1, 1))\n",
      "              (act): SiLU(inplace=True)\n",
      "            )\n",
      "            (cv2): Conv(\n",
      "              (conv): Conv2d(32, 32, kernel_size=(3, 3), stride=(1, 1), padding=(1, 1))\n",
      "              (act): SiLU(inplace=True)\n",
      "            )\n",
      "          )\n",
      "        )\n",
      "      )\n",
      "      (5): Conv(\n",
      "        (conv): Conv2d(64, 128, kernel_size=(3, 3), stride=(2, 2), padding=(1, 1))\n",
      "        (act): SiLU(inplace=True)\n",
      "      )\n",
      "      (6): C2f(\n",
      "        (cv1): Conv(\n",
      "          (conv): Conv2d(128, 128, kernel_size=(1, 1), stride=(1, 1))\n",
      "          (act): SiLU(inplace=True)\n",
      "        )\n",
      "        (cv2): Conv(\n",
      "          (conv): Conv2d(256, 128, kernel_size=(1, 1), stride=(1, 1))\n",
      "          (act): SiLU(inplace=True)\n",
      "        )\n",
      "        (m): ModuleList(\n",
      "          (0-1): 2 x Bottleneck(\n",
      "            (cv1): Conv(\n",
      "              (conv): Conv2d(64, 64, kernel_size=(3, 3), stride=(1, 1), padding=(1, 1))\n",
      "              (act): SiLU(inplace=True)\n",
      "            )\n",
      "            (cv2): Conv(\n",
      "              (conv): Conv2d(64, 64, kernel_size=(3, 3), stride=(1, 1), padding=(1, 1))\n",
      "              (act): SiLU(inplace=True)\n",
      "            )\n",
      "          )\n",
      "        )\n",
      "      )\n",
      "      (7): Conv(\n",
      "        (conv): Conv2d(128, 256, kernel_size=(3, 3), stride=(2, 2), padding=(1, 1))\n",
      "        (act): SiLU(inplace=True)\n",
      "      )\n",
      "      (8): C2f(\n",
      "        (cv1): Conv(\n",
      "          (conv): Conv2d(256, 256, kernel_size=(1, 1), stride=(1, 1))\n",
      "          (act): SiLU(inplace=True)\n",
      "        )\n",
      "        (cv2): Conv(\n",
      "          (conv): Conv2d(384, 256, kernel_size=(1, 1), stride=(1, 1))\n",
      "          (act): SiLU(inplace=True)\n",
      "        )\n",
      "        (m): ModuleList(\n",
      "          (0): Bottleneck(\n",
      "            (cv1): Conv(\n",
      "              (conv): Conv2d(128, 128, kernel_size=(3, 3), stride=(1, 1), padding=(1, 1))\n",
      "              (act): SiLU(inplace=True)\n",
      "            )\n",
      "            (cv2): Conv(\n",
      "              (conv): Conv2d(128, 128, kernel_size=(3, 3), stride=(1, 1), padding=(1, 1))\n",
      "              (act): SiLU(inplace=True)\n",
      "            )\n",
      "          )\n",
      "        )\n",
      "      )\n",
      "      (9): SPPF(\n",
      "        (cv1): Conv(\n",
      "          (conv): Conv2d(256, 128, kernel_size=(1, 1), stride=(1, 1))\n",
      "          (act): SiLU(inplace=True)\n",
      "        )\n",
      "        (cv2): Conv(\n",
      "          (conv): Conv2d(512, 256, kernel_size=(1, 1), stride=(1, 1))\n",
      "          (act): SiLU(inplace=True)\n",
      "        )\n",
      "        (m): MaxPool2d(kernel_size=5, stride=1, padding=2, dilation=1, ceil_mode=False)\n",
      "      )\n",
      "      (10): Upsample(scale_factor=2.0, mode='nearest')\n",
      "      (11): Concat()\n",
      "      (12): C2f(\n",
      "        (cv1): Conv(\n",
      "          (conv): Conv2d(384, 128, kernel_size=(1, 1), stride=(1, 1))\n",
      "          (act): SiLU(inplace=True)\n",
      "        )\n",
      "        (cv2): Conv(\n",
      "          (conv): Conv2d(192, 128, kernel_size=(1, 1), stride=(1, 1))\n",
      "          (act): SiLU(inplace=True)\n",
      "        )\n",
      "        (m): ModuleList(\n",
      "          (0): Bottleneck(\n",
      "            (cv1): Conv(\n",
      "              (conv): Conv2d(64, 64, kernel_size=(3, 3), stride=(1, 1), padding=(1, 1))\n",
      "              (act): SiLU(inplace=True)\n",
      "            )\n",
      "            (cv2): Conv(\n",
      "              (conv): Conv2d(64, 64, kernel_size=(3, 3), stride=(1, 1), padding=(1, 1))\n",
      "              (act): SiLU(inplace=True)\n",
      "            )\n",
      "          )\n",
      "        )\n",
      "      )\n",
      "      (13): Upsample(scale_factor=2.0, mode='nearest')\n",
      "      (14): Concat()\n",
      "      (15): C2f(\n",
      "        (cv1): Conv(\n",
      "          (conv): Conv2d(192, 64, kernel_size=(1, 1), stride=(1, 1))\n",
      "          (act): SiLU(inplace=True)\n",
      "        )\n",
      "        (cv2): Conv(\n",
      "          (conv): Conv2d(96, 64, kernel_size=(1, 1), stride=(1, 1))\n",
      "          (act): SiLU(inplace=True)\n",
      "        )\n",
      "        (m): ModuleList(\n",
      "          (0): Bottleneck(\n",
      "            (cv1): Conv(\n",
      "              (conv): Conv2d(32, 32, kernel_size=(3, 3), stride=(1, 1), padding=(1, 1))\n",
      "              (act): SiLU(inplace=True)\n",
      "            )\n",
      "            (cv2): Conv(\n",
      "              (conv): Conv2d(32, 32, kernel_size=(3, 3), stride=(1, 1), padding=(1, 1))\n",
      "              (act): SiLU(inplace=True)\n",
      "            )\n",
      "          )\n",
      "        )\n",
      "      )\n",
      "      (16): Conv(\n",
      "        (conv): Conv2d(64, 64, kernel_size=(3, 3), stride=(2, 2), padding=(1, 1))\n",
      "        (act): SiLU(inplace=True)\n",
      "      )\n",
      "      (17): Concat()\n",
      "      (18): C2f(\n",
      "        (cv1): Conv(\n",
      "          (conv): Conv2d(192, 128, kernel_size=(1, 1), stride=(1, 1))\n",
      "          (act): SiLU(inplace=True)\n",
      "        )\n",
      "        (cv2): Conv(\n",
      "          (conv): Conv2d(192, 128, kernel_size=(1, 1), stride=(1, 1))\n",
      "          (act): SiLU(inplace=True)\n",
      "        )\n",
      "        (m): ModuleList(\n",
      "          (0): Bottleneck(\n",
      "            (cv1): Conv(\n",
      "              (conv): Conv2d(64, 64, kernel_size=(3, 3), stride=(1, 1), padding=(1, 1))\n",
      "              (act): SiLU(inplace=True)\n",
      "            )\n",
      "            (cv2): Conv(\n",
      "              (conv): Conv2d(64, 64, kernel_size=(3, 3), stride=(1, 1), padding=(1, 1))\n",
      "              (act): SiLU(inplace=True)\n",
      "            )\n",
      "          )\n",
      "        )\n",
      "      )\n",
      "      (19): Conv(\n",
      "        (conv): Conv2d(128, 128, kernel_size=(3, 3), stride=(2, 2), padding=(1, 1))\n",
      "        (act): SiLU(inplace=True)\n",
      "      )\n",
      "      (20): Concat()\n",
      "      (21): C2f(\n",
      "        (cv1): Conv(\n",
      "          (conv): Conv2d(384, 256, kernel_size=(1, 1), stride=(1, 1))\n",
      "          (act): SiLU(inplace=True)\n",
      "        )\n",
      "        (cv2): Conv(\n",
      "          (conv): Conv2d(384, 256, kernel_size=(1, 1), stride=(1, 1))\n",
      "          (act): SiLU(inplace=True)\n",
      "        )\n",
      "        (m): ModuleList(\n",
      "          (0): Bottleneck(\n",
      "            (cv1): Conv(\n",
      "              (conv): Conv2d(128, 128, kernel_size=(3, 3), stride=(1, 1), padding=(1, 1))\n",
      "              (act): SiLU(inplace=True)\n",
      "            )\n",
      "            (cv2): Conv(\n",
      "              (conv): Conv2d(128, 128, kernel_size=(3, 3), stride=(1, 1), padding=(1, 1))\n",
      "              (act): SiLU(inplace=True)\n",
      "            )\n",
      "          )\n",
      "        )\n",
      "      )\n",
      "      (22): Detect(\n",
      "        (cv2): ModuleList(\n",
      "          (0): Sequential(\n",
      "            (0): Conv(\n",
      "              (conv): Conv2d(64, 64, kernel_size=(3, 3), stride=(1, 1), padding=(1, 1))\n",
      "              (act): SiLU(inplace=True)\n",
      "            )\n",
      "            (1): Conv(\n",
      "              (conv): Conv2d(64, 64, kernel_size=(3, 3), stride=(1, 1), padding=(1, 1))\n",
      "              (act): SiLU(inplace=True)\n",
      "            )\n",
      "            (2): Conv2d(64, 64, kernel_size=(1, 1), stride=(1, 1))\n",
      "          )\n",
      "          (1): Sequential(\n",
      "            (0): Conv(\n",
      "              (conv): Conv2d(128, 64, kernel_size=(3, 3), stride=(1, 1), padding=(1, 1))\n",
      "              (act): SiLU(inplace=True)\n",
      "            )\n",
      "            (1): Conv(\n",
      "              (conv): Conv2d(64, 64, kernel_size=(3, 3), stride=(1, 1), padding=(1, 1))\n",
      "              (act): SiLU(inplace=True)\n",
      "            )\n",
      "            (2): Conv2d(64, 64, kernel_size=(1, 1), stride=(1, 1))\n",
      "          )\n",
      "          (2): Sequential(\n",
      "            (0): Conv(\n",
      "              (conv): Conv2d(256, 64, kernel_size=(3, 3), stride=(1, 1), padding=(1, 1))\n",
      "              (act): SiLU(inplace=True)\n",
      "            )\n",
      "            (1): Conv(\n",
      "              (conv): Conv2d(64, 64, kernel_size=(3, 3), stride=(1, 1), padding=(1, 1))\n",
      "              (act): SiLU(inplace=True)\n",
      "            )\n",
      "            (2): Conv2d(64, 64, kernel_size=(1, 1), stride=(1, 1))\n",
      "          )\n",
      "        )\n",
      "        (cv3): ModuleList(\n",
      "          (0): Sequential(\n",
      "            (0): Conv(\n",
      "              (conv): Conv2d(64, 100, kernel_size=(3, 3), stride=(1, 1), padding=(1, 1))\n",
      "              (act): SiLU(inplace=True)\n",
      "            )\n",
      "            (1): Conv(\n",
      "              (conv): Conv2d(100, 100, kernel_size=(3, 3), stride=(1, 1), padding=(1, 1))\n",
      "              (act): SiLU(inplace=True)\n",
      "            )\n",
      "            (2): Conv2d(100, 169, kernel_size=(1, 1), stride=(1, 1))\n",
      "          )\n",
      "          (1): Sequential(\n",
      "            (0): Conv(\n",
      "              (conv): Conv2d(128, 100, kernel_size=(3, 3), stride=(1, 1), padding=(1, 1))\n",
      "              (act): SiLU(inplace=True)\n",
      "            )\n",
      "            (1): Conv(\n",
      "              (conv): Conv2d(100, 100, kernel_size=(3, 3), stride=(1, 1), padding=(1, 1))\n",
      "              (act): SiLU(inplace=True)\n",
      "            )\n",
      "            (2): Conv2d(100, 169, kernel_size=(1, 1), stride=(1, 1))\n",
      "          )\n",
      "          (2): Sequential(\n",
      "            (0): Conv(\n",
      "              (conv): Conv2d(256, 100, kernel_size=(3, 3), stride=(1, 1), padding=(1, 1))\n",
      "              (act): SiLU(inplace=True)\n",
      "            )\n",
      "            (1): Conv(\n",
      "              (conv): Conv2d(100, 100, kernel_size=(3, 3), stride=(1, 1), padding=(1, 1))\n",
      "              (act): SiLU(inplace=True)\n",
      "            )\n",
      "            (2): Conv2d(100, 169, kernel_size=(1, 1), stride=(1, 1))\n",
      "          )\n",
      "        )\n",
      "        (dfl): DFL(\n",
      "          (conv): Conv2d(16, 1, kernel_size=(1, 1), stride=(1, 1), bias=False)\n",
      "        )\n",
      "      )\n",
      "    )\n",
      "  )\n",
      ")\n"
     ]
    }
   ],
   "source": [
    "print(model)"
   ]
  },
  {
   "cell_type": "code",
   "execution_count": null,
   "id": "c29dbfa5",
   "metadata": {},
   "outputs": [],
   "source": []
  },
  {
   "cell_type": "code",
   "execution_count": 82,
   "id": "1c49edb6",
   "metadata": {},
   "outputs": [],
   "source": [
    "# 모델 저장\n",
    "import torch\n",
    "torch.save(model.state_dict(), 'test_model_directory/test_model.pt')"
   ]
  },
  {
   "cell_type": "code",
   "execution_count": null,
   "id": "0a04ff76",
   "metadata": {},
   "outputs": [],
   "source": [
    "# 모델 불러오기\n",
    "# 아직 미완성"
   ]
  }
 ],
 "metadata": {
  "kernelspec": {
   "display_name": "yolo_test",
   "language": "python",
   "name": "yolo_test"
  },
  "language_info": {
   "codemirror_mode": {
    "name": "ipython",
    "version": 3
   },
   "file_extension": ".py",
   "mimetype": "text/x-python",
   "name": "python",
   "nbconvert_exporter": "python",
   "pygments_lexer": "ipython3",
   "version": "3.9.7"
  }
 },
 "nbformat": 4,
 "nbformat_minor": 5
}
