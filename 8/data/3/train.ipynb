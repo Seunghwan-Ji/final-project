{
 "cells": [
  {
   "cell_type": "code",
   "execution_count": 2,
   "metadata": {},
   "outputs": [
    {
     "name": "stdout",
     "output_type": "stream",
     "text": [
      "New https://pypi.org/project/ultralytics/8.2.60 available  Update with 'pip install -U ultralytics'\n",
      "Ultralytics YOLOv8.2.58  Python-3.11.8 torch-2.3.0+cu118 CUDA:0 (NVIDIA GeForce RTX 3060 Laptop GPU, 6144MiB)\n",
      "\u001b[34m\u001b[1mengine\\trainer: \u001b[0mtask=detect, mode=train, model=yolov9s.pt, data=C:\\Users\\hxxzi\\Desktop\\GitHub\\final-project\\8\\data\\3\\data.yaml, epochs=100, time=None, patience=30, batch=8, imgsz=640, save=True, save_period=-1, cache=False, device=None, workers=8, project=None, name=train2, exist_ok=False, pretrained=True, optimizer=auto, verbose=True, seed=0, deterministic=True, single_cls=False, rect=False, cos_lr=False, close_mosaic=10, resume=False, amp=True, fraction=1.0, profile=False, freeze=None, multi_scale=False, overlap_mask=True, mask_ratio=4, dropout=0.0, val=True, split=val, save_json=False, save_hybrid=False, conf=None, iou=0.7, max_det=300, half=False, dnn=False, plots=True, source=None, vid_stride=1, stream_buffer=False, visualize=False, augment=False, agnostic_nms=False, classes=None, retina_masks=False, embed=None, show=False, save_frames=False, save_txt=False, save_conf=False, save_crop=False, show_labels=True, show_conf=True, show_boxes=True, line_width=None, format=torchscript, keras=False, optimize=False, int8=False, dynamic=False, simplify=False, opset=None, workspace=4, nms=False, lr0=0.01, lrf=0.01, momentum=0.937, weight_decay=0.0005, warmup_epochs=3.0, warmup_momentum=0.8, warmup_bias_lr=0.1, box=7.5, cls=0.5, dfl=1.5, pose=12.0, kobj=1.0, label_smoothing=0.0, nbs=64, hsv_h=0.015, hsv_s=0.7, hsv_v=0.4, degrees=0.0, translate=0.1, scale=0.5, shear=0.0, perspective=0.0, flipud=0.0, fliplr=0.5, bgr=0.0, mosaic=1.0, mixup=0.0, copy_paste=0.0, auto_augment=randaugment, erasing=0.4, crop_fraction=1.0, cfg=None, tracker=botsort.yaml, save_dir=runs\\detect\\train2\n",
      "Overriding model.yaml nc=80 with nc=61\n",
      "\n",
      "                   from  n    params  module                                       arguments                     \n",
      "  0                  -1  1       928  ultralytics.nn.modules.conv.Conv             [3, 32, 3, 2]                 \n",
      "  1                  -1  1     18560  ultralytics.nn.modules.conv.Conv             [32, 64, 3, 2]                \n",
      "  2                  -1  1     31104  ultralytics.nn.modules.block.ELAN1           [64, 64, 64, 32]              \n",
      "  3                  -1  1     73984  ultralytics.nn.modules.block.AConv           [64, 128]                     \n",
      "  4                  -1  1    258432  ultralytics.nn.modules.block.RepNCSPELAN4    [128, 128, 128, 64, 3]        \n",
      "  5                  -1  1    221568  ultralytics.nn.modules.block.AConv           [128, 192]                    \n",
      "  6                  -1  1    579648  ultralytics.nn.modules.block.RepNCSPELAN4    [192, 192, 192, 96, 3]        \n",
      "  7                  -1  1    442880  ultralytics.nn.modules.block.AConv           [192, 256]                    \n",
      "  8                  -1  1   1028864  ultralytics.nn.modules.block.RepNCSPELAN4    [256, 256, 256, 128, 3]       \n",
      "  9                  -1  1    164608  ultralytics.nn.modules.block.SPPELAN         [256, 256, 128]               \n",
      " 10                  -1  1         0  torch.nn.modules.upsampling.Upsample         [None, 2, 'nearest']          \n",
      " 11             [-1, 6]  1         0  ultralytics.nn.modules.conv.Concat           [1]                           \n",
      " 12                  -1  1    628800  ultralytics.nn.modules.block.RepNCSPELAN4    [448, 192, 192, 96, 3]        \n",
      " 13                  -1  1         0  torch.nn.modules.upsampling.Upsample         [None, 2, 'nearest']          \n",
      " 14             [-1, 4]  1         0  ultralytics.nn.modules.conv.Concat           [1]                           \n",
      " 15                  -1  1    283008  ultralytics.nn.modules.block.RepNCSPELAN4    [320, 128, 128, 64, 3]        \n",
      " 16                  -1  1    110784  ultralytics.nn.modules.block.AConv           [128, 96]                     \n",
      " 17            [-1, 12]  1         0  ultralytics.nn.modules.conv.Concat           [1]                           \n",
      " 18                  -1  1    598080  ultralytics.nn.modules.block.RepNCSPELAN4    [288, 192, 192, 96, 3]        \n",
      " 19                  -1  1    221440  ultralytics.nn.modules.block.AConv           [192, 128]                    \n",
      " 20             [-1, 9]  1         0  ultralytics.nn.modules.conv.Concat           [1]                           \n",
      " 21                  -1  1   1061632  ultralytics.nn.modules.block.RepNCSPELAN4    [384, 256, 256, 128, 3]       \n",
      " 22        [15, 18, 21]  1   1586695  ultralytics.nn.modules.head.Detect           [61, [128, 192, 256]]         \n",
      "YOLOv9s summary: 917 layers, 7,311,015 parameters, 7,310,999 gradients, 27.5 GFLOPs\n",
      "\n",
      "Transferred 1333/1339 items from pretrained weights\n",
      "Freezing layer 'model.22.dfl.conv.weight'\n",
      "\u001b[34m\u001b[1mAMP: \u001b[0mrunning Automatic Mixed Precision (AMP) checks with YOLOv8n...\n",
      "Downloading https://github.com/ultralytics/assets/releases/download/v8.2.0/yolov8n.pt to 'yolov8n.pt'...\n"
     ]
    },
    {
     "name": "stderr",
     "output_type": "stream",
     "text": [
      "100%|██████████| 6.25M/6.25M [00:00<00:00, 6.58MB/s]\n",
      "c:\\Users\\hxxzi\\AppData\\Local\\Programs\\Python\\Python311\\Lib\\site-packages\\torch\\nn\\modules\\conv.py:456: UserWarning: Plan failed with a cudnnException: CUDNN_BACKEND_EXECUTION_PLAN_DESCRIPTOR: cudnnFinalize Descriptor Failed cudnn_status: CUDNN_STATUS_NOT_SUPPORTED (Triggered internally at ..\\aten\\src\\ATen\\native\\cudnn\\Conv_v8.cpp:919.)\n",
      "  return F.conv2d(input, weight, bias, self.stride,\n"
     ]
    },
    {
     "name": "stdout",
     "output_type": "stream",
     "text": [
      "\u001b[34m\u001b[1mAMP: \u001b[0mchecks passed \n"
     ]
    },
    {
     "name": "stderr",
     "output_type": "stream",
     "text": [
      "\u001b[34m\u001b[1mtrain: \u001b[0mScanning C:\\Users\\hxxzi\\Desktop\\GitHub\\final-project\\8\\data\\3\\train\\labels... 3363 images, 82 backgrounds, 0 corrupt: 100%|██████████| 3363/3363 [00:04<00:00, 766.20it/s]"
     ]
    },
    {
     "name": "stdout",
     "output_type": "stream",
     "text": [
      "\u001b[34m\u001b[1mtrain: \u001b[0mWARNING  C:\\Users\\hxxzi\\Desktop\\GitHub\\final-project\\8\\data\\3\\train\\images\\Image_29_jpg.rf.14e1551c2d94362c173040482fcd8449.jpg: 1 duplicate labels removed\n",
      "\u001b[34m\u001b[1mtrain: \u001b[0mWARNING  C:\\Users\\hxxzi\\Desktop\\GitHub\\final-project\\8\\data\\3\\train\\images\\Image_36_jpg.rf.3d758c93f0448beb907105f7e36e99cb.jpg: 1 duplicate labels removed\n",
      "\u001b[34m\u001b[1mtrain: \u001b[0mWARNING  C:\\Users\\hxxzi\\Desktop\\GitHub\\final-project\\8\\data\\3\\train\\images\\Image_36_jpg.rf.4ddc834672c554ee51b8734de195d7c9.jpg: 1 duplicate labels removed\n",
      "\u001b[34m\u001b[1mtrain: \u001b[0mWARNING  C:\\Users\\hxxzi\\Desktop\\GitHub\\final-project\\8\\data\\3\\train\\images\\Image_45_jpg.rf.ddaccb8c53530247f13fbd2fc73fc297.jpg: 1 duplicate labels removed\n",
      "\u001b[34m\u001b[1mtrain: \u001b[0mWARNING  C:\\Users\\hxxzi\\Desktop\\GitHub\\final-project\\8\\data\\3\\train\\images\\Image_45_jpg.rf.eec17c123303639c4cc3ae8866092183.jpg: 1 duplicate labels removed\n",
      "\u001b[34m\u001b[1mtrain: \u001b[0mWARNING  C:\\Users\\hxxzi\\Desktop\\GitHub\\final-project\\8\\data\\3\\train\\images\\white-shelled-egg-500x500_jpg.rf.181099392b3baa225608fef416f00ea3.jpg: 1 duplicate labels removed\n"
     ]
    },
    {
     "name": "stderr",
     "output_type": "stream",
     "text": [
      "\n"
     ]
    },
    {
     "name": "stdout",
     "output_type": "stream",
     "text": [
      "\u001b[34m\u001b[1mtrain: \u001b[0mNew cache created: C:\\Users\\hxxzi\\Desktop\\GitHub\\final-project\\8\\data\\3\\train\\labels.cache\n",
      "WARNING  Box and segment counts should be equal, but got len(segments) = 4617, len(boxes) = 13108. To resolve this only boxes will be used and all segments will be removed. To avoid this please supply either a detect or segment dataset, not a detect-segment mixed dataset.\n"
     ]
    },
    {
     "name": "stderr",
     "output_type": "stream",
     "text": [
      "\u001b[34m\u001b[1mval: \u001b[0mScanning C:\\Users\\hxxzi\\Desktop\\GitHub\\final-project\\8\\data\\3\\valid\\labels... 636 images, 12 backgrounds, 0 corrupt: 100%|██████████| 636/636 [00:01<00:00, 455.67it/s]"
     ]
    },
    {
     "name": "stdout",
     "output_type": "stream",
     "text": [
      "\u001b[34m\u001b[1mval: \u001b[0mWARNING  C:\\Users\\hxxzi\\Desktop\\GitHub\\final-project\\8\\data\\3\\valid\\images\\Image_31_jpg.rf.d8d7668d94e756e7759903f2754a919e.jpg: 1 duplicate labels removed\n",
      "\u001b[34m\u001b[1mval: \u001b[0mWARNING  C:\\Users\\hxxzi\\Desktop\\GitHub\\final-project\\8\\data\\3\\valid\\images\\cinnamon-1-_jpg.rf.ff80dd0a1eb44d56f8888ab0125a6380.jpg: 1 duplicate labels removed\n",
      "\u001b[34m\u001b[1mval: \u001b[0mWARNING  C:\\Users\\hxxzi\\Desktop\\GitHub\\final-project\\8\\data\\3\\valid\\images\\tmp_yp12oV_47ce79a0a011adf5_GettyImages-1536235481_jpg.rf.a3651abd9949f079d33e96960ddf8e22.jpg: 1 duplicate labels removed\n",
      "\u001b[34m\u001b[1mval: \u001b[0mWARNING  C:\\Users\\hxxzi\\Desktop\\GitHub\\final-project\\8\\data\\3\\valid\\images\\what-is-cinnamon-4x3-c5c5736114e74d75a56fe2039e2c1437_jpg.rf.1a2ad38ba954482547fd0c79dd7d4873.jpg: 1 duplicate labels removed\n"
     ]
    },
    {
     "name": "stderr",
     "output_type": "stream",
     "text": [
      "\n"
     ]
    },
    {
     "name": "stdout",
     "output_type": "stream",
     "text": [
      "\u001b[34m\u001b[1mval: \u001b[0mNew cache created: C:\\Users\\hxxzi\\Desktop\\GitHub\\final-project\\8\\data\\3\\valid\\labels.cache\n",
      "WARNING  Box and segment counts should be equal, but got len(segments) = 810, len(boxes) = 2336. To resolve this only boxes will be used and all segments will be removed. To avoid this please supply either a detect or segment dataset, not a detect-segment mixed dataset.\n",
      "Plotting labels to runs\\detect\\train2\\labels.jpg... \n",
      "\u001b[34m\u001b[1moptimizer:\u001b[0m 'optimizer=auto' found, ignoring 'lr0=0.01' and 'momentum=0.937' and determining best 'optimizer', 'lr0' and 'momentum' automatically... \n",
      "\u001b[34m\u001b[1moptimizer:\u001b[0m AdamW(lr=0.000154, momentum=0.9) with parameter groups 221 weight(decay=0.0), 228 weight(decay=0.0005), 227 bias(decay=0.0)\n",
      "Image sizes 640 train, 640 val\n",
      "Using 8 dataloader workers\n",
      "Logging results to \u001b[1mruns\\detect\\train2\u001b[0m\n",
      "Starting training for 100 epochs...\n",
      "\n",
      "      Epoch    GPU_mem   box_loss   cls_loss   dfl_loss  Instances       Size\n"
     ]
    },
    {
     "name": "stderr",
     "output_type": "stream",
     "text": [
      "      1/100      3.03G      1.373       4.14       1.76         14        640: 100%|██████████| 421/421 [02:12<00:00,  3.17it/s]\n",
      "                 Class     Images  Instances      Box(P          R      mAP50  mAP50-95): 100%|██████████| 40/40 [00:08<00:00,  4.62it/s]"
     ]
    },
    {
     "name": "stdout",
     "output_type": "stream",
     "text": [
      "                   all        636       2336      0.319       0.22      0.167      0.109\n"
     ]
    },
    {
     "name": "stderr",
     "output_type": "stream",
     "text": [
      "\n"
     ]
    },
    {
     "name": "stdout",
     "output_type": "stream",
     "text": [
      "\n",
      "      Epoch    GPU_mem   box_loss   cls_loss   dfl_loss  Instances       Size\n"
     ]
    },
    {
     "name": "stderr",
     "output_type": "stream",
     "text": [
      "      2/100         3G      1.265      2.832      1.613         34        640: 100%|██████████| 421/421 [01:46<00:00,  3.96it/s]\n",
      "                 Class     Images  Instances      Box(P          R      mAP50  mAP50-95): 100%|██████████| 40/40 [00:07<00:00,  5.39it/s]\n"
     ]
    },
    {
     "name": "stdout",
     "output_type": "stream",
     "text": [
      "                   all        636       2336      0.436       0.35      0.307      0.205\n",
      "\n",
      "      Epoch    GPU_mem   box_loss   cls_loss   dfl_loss  Instances       Size\n"
     ]
    },
    {
     "name": "stderr",
     "output_type": "stream",
     "text": [
      "      3/100      3.02G      1.238      2.449       1.58         20        640: 100%|██████████| 421/421 [01:39<00:00,  4.22it/s]\n",
      "                 Class     Images  Instances      Box(P          R      mAP50  mAP50-95): 100%|██████████| 40/40 [00:07<00:00,  5.61it/s]\n"
     ]
    },
    {
     "name": "stdout",
     "output_type": "stream",
     "text": [
      "                   all        636       2336      0.493      0.392       0.37      0.246\n",
      "\n",
      "      Epoch    GPU_mem   box_loss   cls_loss   dfl_loss  Instances       Size\n"
     ]
    },
    {
     "name": "stderr",
     "output_type": "stream",
     "text": [
      "      4/100      3.04G      1.222      2.211      1.562         14        640: 100%|██████████| 421/421 [01:39<00:00,  4.21it/s]\n",
      "                 Class     Images  Instances      Box(P          R      mAP50  mAP50-95): 100%|██████████| 40/40 [00:07<00:00,  5.49it/s]\n"
     ]
    },
    {
     "name": "stdout",
     "output_type": "stream",
     "text": [
      "                   all        636       2336      0.528      0.432      0.406      0.271\n",
      "\n",
      "      Epoch    GPU_mem   box_loss   cls_loss   dfl_loss  Instances       Size\n"
     ]
    },
    {
     "name": "stderr",
     "output_type": "stream",
     "text": [
      "      5/100      3.04G      1.173      2.043      1.538         20        640: 100%|██████████| 421/421 [01:41<00:00,  4.16it/s]\n",
      "                 Class     Images  Instances      Box(P          R      mAP50  mAP50-95): 100%|██████████| 40/40 [00:07<00:00,  5.32it/s]\n"
     ]
    },
    {
     "name": "stdout",
     "output_type": "stream",
     "text": [
      "                   all        636       2336      0.506      0.449      0.428      0.286\n",
      "\n",
      "      Epoch    GPU_mem   box_loss   cls_loss   dfl_loss  Instances       Size\n"
     ]
    },
    {
     "name": "stderr",
     "output_type": "stream",
     "text": [
      "      6/100      3.17G      1.168      1.905      1.528         10        640: 100%|██████████| 421/421 [01:41<00:00,  4.13it/s]\n",
      "                 Class     Images  Instances      Box(P          R      mAP50  mAP50-95): 100%|██████████| 40/40 [00:07<00:00,  5.38it/s]\n"
     ]
    },
    {
     "name": "stdout",
     "output_type": "stream",
     "text": [
      "                   all        636       2336      0.461      0.466      0.432      0.295\n",
      "\n",
      "      Epoch    GPU_mem   box_loss   cls_loss   dfl_loss  Instances       Size\n"
     ]
    },
    {
     "name": "stderr",
     "output_type": "stream",
     "text": [
      "      7/100      3.03G      1.133      1.816      1.508         28        640: 100%|██████████| 421/421 [01:40<00:00,  4.19it/s]\n",
      "                 Class     Images  Instances      Box(P          R      mAP50  mAP50-95): 100%|██████████| 40/40 [00:07<00:00,  5.39it/s]\n"
     ]
    },
    {
     "name": "stdout",
     "output_type": "stream",
     "text": [
      "                   all        636       2336      0.545      0.459      0.475      0.317\n",
      "\n",
      "      Epoch    GPU_mem   box_loss   cls_loss   dfl_loss  Instances       Size\n"
     ]
    },
    {
     "name": "stderr",
     "output_type": "stream",
     "text": [
      "      8/100      3.19G      1.125      1.701      1.498         18        640: 100%|██████████| 421/421 [01:40<00:00,  4.19it/s]\n",
      "                 Class     Images  Instances      Box(P          R      mAP50  mAP50-95): 100%|██████████| 40/40 [00:07<00:00,  5.44it/s]"
     ]
    },
    {
     "name": "stdout",
     "output_type": "stream",
     "text": [
      "                   all        636       2336      0.546      0.476       0.49      0.332\n"
     ]
    },
    {
     "name": "stderr",
     "output_type": "stream",
     "text": [
      "\n"
     ]
    },
    {
     "name": "stdout",
     "output_type": "stream",
     "text": [
      "\n",
      "      Epoch    GPU_mem   box_loss   cls_loss   dfl_loss  Instances       Size\n"
     ]
    },
    {
     "name": "stderr",
     "output_type": "stream",
     "text": [
      "      9/100      3.03G      1.118      1.642      1.497         29        640: 100%|██████████| 421/421 [01:40<00:00,  4.18it/s]\n",
      "                 Class     Images  Instances      Box(P          R      mAP50  mAP50-95): 100%|██████████| 40/40 [00:07<00:00,  5.49it/s]\n"
     ]
    },
    {
     "name": "stdout",
     "output_type": "stream",
     "text": [
      "                   all        636       2336      0.491      0.513      0.476      0.322\n",
      "\n",
      "      Epoch    GPU_mem   box_loss   cls_loss   dfl_loss  Instances       Size\n"
     ]
    },
    {
     "name": "stderr",
     "output_type": "stream",
     "text": [
      "     10/100      3.03G      1.097      1.587      1.474         13        640: 100%|██████████| 421/421 [01:40<00:00,  4.18it/s]\n",
      "                 Class     Images  Instances      Box(P          R      mAP50  mAP50-95): 100%|██████████| 40/40 [00:07<00:00,  5.56it/s]\n"
     ]
    },
    {
     "name": "stdout",
     "output_type": "stream",
     "text": [
      "                   all        636       2336      0.561      0.509      0.517      0.354\n",
      "\n",
      "      Epoch    GPU_mem   box_loss   cls_loss   dfl_loss  Instances       Size\n"
     ]
    },
    {
     "name": "stderr",
     "output_type": "stream",
     "text": [
      "     11/100      3.04G      1.077      1.519      1.462         16        640: 100%|██████████| 421/421 [01:40<00:00,  4.18it/s]\n",
      "                 Class     Images  Instances      Box(P          R      mAP50  mAP50-95): 100%|██████████| 40/40 [00:07<00:00,  5.50it/s]\n"
     ]
    },
    {
     "name": "stdout",
     "output_type": "stream",
     "text": [
      "                   all        636       2336      0.581      0.509      0.535      0.365\n",
      "\n",
      "      Epoch    GPU_mem   box_loss   cls_loss   dfl_loss  Instances       Size\n"
     ]
    },
    {
     "name": "stderr",
     "output_type": "stream",
     "text": [
      "     12/100      3.02G      1.086      1.487      1.473         25        640: 100%|██████████| 421/421 [01:40<00:00,  4.18it/s]\n",
      "                 Class     Images  Instances      Box(P          R      mAP50  mAP50-95): 100%|██████████| 40/40 [00:07<00:00,  5.40it/s]"
     ]
    },
    {
     "name": "stdout",
     "output_type": "stream",
     "text": [
      "                   all        636       2336      0.568      0.539      0.553      0.375\n"
     ]
    },
    {
     "name": "stderr",
     "output_type": "stream",
     "text": [
      "\n"
     ]
    },
    {
     "name": "stdout",
     "output_type": "stream",
     "text": [
      "\n",
      "      Epoch    GPU_mem   box_loss   cls_loss   dfl_loss  Instances       Size\n"
     ]
    },
    {
     "name": "stderr",
     "output_type": "stream",
     "text": [
      "     13/100      3.04G      1.081      1.448      1.469         11        640: 100%|██████████| 421/421 [01:40<00:00,  4.20it/s]\n",
      "                 Class     Images  Instances      Box(P          R      mAP50  mAP50-95): 100%|██████████| 40/40 [00:07<00:00,  5.54it/s]"
     ]
    },
    {
     "name": "stdout",
     "output_type": "stream",
     "text": [
      "                   all        636       2336      0.552      0.515      0.526      0.361\n"
     ]
    },
    {
     "name": "stderr",
     "output_type": "stream",
     "text": [
      "\n"
     ]
    },
    {
     "name": "stdout",
     "output_type": "stream",
     "text": [
      "\n",
      "      Epoch    GPU_mem   box_loss   cls_loss   dfl_loss  Instances       Size\n"
     ]
    },
    {
     "name": "stderr",
     "output_type": "stream",
     "text": [
      "     14/100      2.99G      1.063      1.418      1.465         15        640: 100%|██████████| 421/421 [01:40<00:00,  4.18it/s]\n",
      "                 Class     Images  Instances      Box(P          R      mAP50  mAP50-95): 100%|██████████| 40/40 [00:07<00:00,  5.52it/s]\n"
     ]
    },
    {
     "name": "stdout",
     "output_type": "stream",
     "text": [
      "                   all        636       2336      0.579      0.511       0.53      0.364\n",
      "\n",
      "      Epoch    GPU_mem   box_loss   cls_loss   dfl_loss  Instances       Size\n"
     ]
    },
    {
     "name": "stderr",
     "output_type": "stream",
     "text": [
      "     15/100      3.03G      1.054      1.362      1.453         10        640: 100%|██████████| 421/421 [01:40<00:00,  4.18it/s]\n",
      "                 Class     Images  Instances      Box(P          R      mAP50  mAP50-95): 100%|██████████| 40/40 [00:07<00:00,  5.42it/s]\n"
     ]
    },
    {
     "name": "stdout",
     "output_type": "stream",
     "text": [
      "                   all        636       2336      0.528      0.558      0.543      0.376\n",
      "\n",
      "      Epoch    GPU_mem   box_loss   cls_loss   dfl_loss  Instances       Size\n"
     ]
    },
    {
     "name": "stderr",
     "output_type": "stream",
     "text": [
      "     16/100      3.02G      1.025      1.347      1.433         18        640: 100%|██████████| 421/421 [01:40<00:00,  4.17it/s]\n",
      "                 Class     Images  Instances      Box(P          R      mAP50  mAP50-95): 100%|██████████| 40/40 [00:07<00:00,  5.52it/s]\n"
     ]
    },
    {
     "name": "stdout",
     "output_type": "stream",
     "text": [
      "                   all        636       2336      0.528      0.551      0.527      0.364\n",
      "\n",
      "      Epoch    GPU_mem   box_loss   cls_loss   dfl_loss  Instances       Size\n"
     ]
    },
    {
     "name": "stderr",
     "output_type": "stream",
     "text": [
      "     17/100      3.01G      1.025        1.3       1.43         30        640: 100%|██████████| 421/421 [01:40<00:00,  4.19it/s]\n",
      "                 Class     Images  Instances      Box(P          R      mAP50  mAP50-95): 100%|██████████| 40/40 [00:07<00:00,  5.52it/s]\n"
     ]
    },
    {
     "name": "stdout",
     "output_type": "stream",
     "text": [
      "                   all        636       2336      0.563      0.542      0.539      0.368\n",
      "\n",
      "      Epoch    GPU_mem   box_loss   cls_loss   dfl_loss  Instances       Size\n"
     ]
    },
    {
     "name": "stderr",
     "output_type": "stream",
     "text": [
      "     18/100      3.03G       1.04      1.298      1.444          8        640: 100%|██████████| 421/421 [01:41<00:00,  4.17it/s]\n",
      "                 Class     Images  Instances      Box(P          R      mAP50  mAP50-95): 100%|██████████| 40/40 [00:07<00:00,  5.53it/s]"
     ]
    },
    {
     "name": "stdout",
     "output_type": "stream",
     "text": [
      "                   all        636       2336      0.586      0.547      0.556      0.383\n"
     ]
    },
    {
     "name": "stderr",
     "output_type": "stream",
     "text": [
      "\n"
     ]
    },
    {
     "name": "stdout",
     "output_type": "stream",
     "text": [
      "\n",
      "      Epoch    GPU_mem   box_loss   cls_loss   dfl_loss  Instances       Size\n"
     ]
    },
    {
     "name": "stderr",
     "output_type": "stream",
     "text": [
      "     19/100         3G      1.012      1.251      1.423         11        640: 100%|██████████| 421/421 [01:40<00:00,  4.21it/s]\n",
      "                 Class     Images  Instances      Box(P          R      mAP50  mAP50-95): 100%|██████████| 40/40 [00:07<00:00,  5.54it/s]"
     ]
    },
    {
     "name": "stdout",
     "output_type": "stream",
     "text": [
      "                   all        636       2336      0.574      0.548       0.55      0.382\n"
     ]
    },
    {
     "name": "stderr",
     "output_type": "stream",
     "text": [
      "\n"
     ]
    },
    {
     "name": "stdout",
     "output_type": "stream",
     "text": [
      "\n",
      "      Epoch    GPU_mem   box_loss   cls_loss   dfl_loss  Instances       Size\n"
     ]
    },
    {
     "name": "stderr",
     "output_type": "stream",
     "text": [
      "     20/100      3.03G      1.017      1.234      1.427         26        640: 100%|██████████| 421/421 [01:40<00:00,  4.17it/s]\n",
      "                 Class     Images  Instances      Box(P          R      mAP50  mAP50-95): 100%|██████████| 40/40 [00:07<00:00,  5.65it/s]\n"
     ]
    },
    {
     "name": "stdout",
     "output_type": "stream",
     "text": [
      "                   all        636       2336      0.594      0.545       0.56      0.389\n",
      "\n",
      "      Epoch    GPU_mem   box_loss   cls_loss   dfl_loss  Instances       Size\n"
     ]
    },
    {
     "name": "stderr",
     "output_type": "stream",
     "text": [
      "     21/100         3G      1.009      1.211      1.421         22        640: 100%|██████████| 421/421 [01:41<00:00,  4.17it/s]\n",
      "                 Class     Images  Instances      Box(P          R      mAP50  mAP50-95): 100%|██████████| 40/40 [00:07<00:00,  5.35it/s]"
     ]
    },
    {
     "name": "stdout",
     "output_type": "stream",
     "text": [
      "                   all        636       2336      0.591       0.52      0.538      0.374\n"
     ]
    },
    {
     "name": "stderr",
     "output_type": "stream",
     "text": [
      "\n"
     ]
    },
    {
     "name": "stdout",
     "output_type": "stream",
     "text": [
      "\n",
      "      Epoch    GPU_mem   box_loss   cls_loss   dfl_loss  Instances       Size\n"
     ]
    },
    {
     "name": "stderr",
     "output_type": "stream",
     "text": [
      "     22/100      2.98G     0.9915      1.193      1.402         28        640: 100%|██████████| 421/421 [01:40<00:00,  4.19it/s]\n",
      "                 Class     Images  Instances      Box(P          R      mAP50  mAP50-95): 100%|██████████| 40/40 [00:07<00:00,  5.44it/s]"
     ]
    },
    {
     "name": "stdout",
     "output_type": "stream",
     "text": [
      "                   all        636       2336      0.604      0.513      0.554      0.384\n"
     ]
    },
    {
     "name": "stderr",
     "output_type": "stream",
     "text": [
      "\n"
     ]
    },
    {
     "name": "stdout",
     "output_type": "stream",
     "text": [
      "\n",
      "      Epoch    GPU_mem   box_loss   cls_loss   dfl_loss  Instances       Size\n"
     ]
    },
    {
     "name": "stderr",
     "output_type": "stream",
     "text": [
      "     23/100      3.03G      0.987      1.152      1.395         26        640: 100%|██████████| 421/421 [01:40<00:00,  4.20it/s]\n",
      "                 Class     Images  Instances      Box(P          R      mAP50  mAP50-95): 100%|██████████| 40/40 [00:07<00:00,  5.46it/s]"
     ]
    },
    {
     "name": "stdout",
     "output_type": "stream",
     "text": [
      "                   all        636       2336      0.591      0.541      0.552      0.383\n"
     ]
    },
    {
     "name": "stderr",
     "output_type": "stream",
     "text": [
      "\n"
     ]
    },
    {
     "name": "stdout",
     "output_type": "stream",
     "text": [
      "\n",
      "      Epoch    GPU_mem   box_loss   cls_loss   dfl_loss  Instances       Size\n"
     ]
    },
    {
     "name": "stderr",
     "output_type": "stream",
     "text": [
      "     24/100      3.19G     0.9862      1.145      1.402         22        640: 100%|██████████| 421/421 [01:40<00:00,  4.17it/s]\n",
      "                 Class     Images  Instances      Box(P          R      mAP50  mAP50-95): 100%|██████████| 40/40 [00:07<00:00,  5.52it/s]"
     ]
    },
    {
     "name": "stdout",
     "output_type": "stream",
     "text": [
      "                   all        636       2336      0.596      0.566      0.578      0.396\n"
     ]
    },
    {
     "name": "stderr",
     "output_type": "stream",
     "text": [
      "\n"
     ]
    },
    {
     "name": "stdout",
     "output_type": "stream",
     "text": [
      "\n",
      "      Epoch    GPU_mem   box_loss   cls_loss   dfl_loss  Instances       Size\n"
     ]
    },
    {
     "name": "stderr",
     "output_type": "stream",
     "text": [
      "     25/100      3.02G     0.9792      1.127      1.394         22        640: 100%|██████████| 421/421 [01:40<00:00,  4.21it/s]\n",
      "                 Class     Images  Instances      Box(P          R      mAP50  mAP50-95): 100%|██████████| 40/40 [00:07<00:00,  5.29it/s]"
     ]
    },
    {
     "name": "stdout",
     "output_type": "stream",
     "text": [
      "                   all        636       2336      0.614      0.567      0.583      0.399\n"
     ]
    },
    {
     "name": "stderr",
     "output_type": "stream",
     "text": [
      "\n"
     ]
    },
    {
     "name": "stdout",
     "output_type": "stream",
     "text": [
      "\n",
      "      Epoch    GPU_mem   box_loss   cls_loss   dfl_loss  Instances       Size\n"
     ]
    },
    {
     "name": "stderr",
     "output_type": "stream",
     "text": [
      "     26/100      3.02G     0.9586      1.068      1.372         19        640: 100%|██████████| 421/421 [01:40<00:00,  4.21it/s]\n",
      "                 Class     Images  Instances      Box(P          R      mAP50  mAP50-95): 100%|██████████| 40/40 [00:07<00:00,  5.43it/s]"
     ]
    },
    {
     "name": "stdout",
     "output_type": "stream",
     "text": [
      "                   all        636       2336      0.615      0.542      0.555      0.386\n"
     ]
    },
    {
     "name": "stderr",
     "output_type": "stream",
     "text": [
      "\n"
     ]
    },
    {
     "name": "stdout",
     "output_type": "stream",
     "text": [
      "\n",
      "      Epoch    GPU_mem   box_loss   cls_loss   dfl_loss  Instances       Size\n"
     ]
    },
    {
     "name": "stderr",
     "output_type": "stream",
     "text": [
      "     27/100      3.01G     0.9693      1.077      1.377         15        640: 100%|██████████| 421/421 [01:40<00:00,  4.19it/s]\n",
      "                 Class     Images  Instances      Box(P          R      mAP50  mAP50-95): 100%|██████████| 40/40 [00:07<00:00,  5.55it/s]"
     ]
    },
    {
     "name": "stdout",
     "output_type": "stream",
     "text": [
      "                   all        636       2336      0.605      0.539      0.564      0.392\n"
     ]
    },
    {
     "name": "stderr",
     "output_type": "stream",
     "text": [
      "\n"
     ]
    },
    {
     "name": "stdout",
     "output_type": "stream",
     "text": [
      "\n",
      "      Epoch    GPU_mem   box_loss   cls_loss   dfl_loss  Instances       Size\n"
     ]
    },
    {
     "name": "stderr",
     "output_type": "stream",
     "text": [
      "     28/100         3G      0.974      1.098      1.393         12        640: 100%|██████████| 421/421 [01:40<00:00,  4.19it/s]\n",
      "                 Class     Images  Instances      Box(P          R      mAP50  mAP50-95): 100%|██████████| 40/40 [00:07<00:00,  5.52it/s]"
     ]
    },
    {
     "name": "stdout",
     "output_type": "stream",
     "text": [
      "                   all        636       2336      0.633      0.527      0.567      0.395\n"
     ]
    },
    {
     "name": "stderr",
     "output_type": "stream",
     "text": [
      "\n"
     ]
    },
    {
     "name": "stdout",
     "output_type": "stream",
     "text": [
      "\n",
      "      Epoch    GPU_mem   box_loss   cls_loss   dfl_loss  Instances       Size\n"
     ]
    },
    {
     "name": "stderr",
     "output_type": "stream",
     "text": [
      "     29/100      3.06G     0.9752      1.081      1.392         13        640: 100%|██████████| 421/421 [01:40<00:00,  4.18it/s]\n",
      "                 Class     Images  Instances      Box(P          R      mAP50  mAP50-95): 100%|██████████| 40/40 [00:07<00:00,  5.35it/s]\n"
     ]
    },
    {
     "name": "stdout",
     "output_type": "stream",
     "text": [
      "                   all        636       2336      0.635       0.53      0.589      0.404\n",
      "\n",
      "      Epoch    GPU_mem   box_loss   cls_loss   dfl_loss  Instances       Size\n"
     ]
    },
    {
     "name": "stderr",
     "output_type": "stream",
     "text": [
      "     30/100         3G     0.9381      1.028      1.368         17        640: 100%|██████████| 421/421 [01:40<00:00,  4.19it/s]\n",
      "                 Class     Images  Instances      Box(P          R      mAP50  mAP50-95): 100%|██████████| 40/40 [00:07<00:00,  5.09it/s]"
     ]
    },
    {
     "name": "stdout",
     "output_type": "stream",
     "text": [
      "                   all        636       2336      0.612       0.55      0.579      0.402\n"
     ]
    },
    {
     "name": "stderr",
     "output_type": "stream",
     "text": [
      "\n"
     ]
    },
    {
     "name": "stdout",
     "output_type": "stream",
     "text": [
      "\n",
      "      Epoch    GPU_mem   box_loss   cls_loss   dfl_loss  Instances       Size\n"
     ]
    },
    {
     "name": "stderr",
     "output_type": "stream",
     "text": [
      "     31/100      3.03G       0.94      1.024      1.367         14        640: 100%|██████████| 421/421 [01:40<00:00,  4.20it/s]\n",
      "                 Class     Images  Instances      Box(P          R      mAP50  mAP50-95): 100%|██████████| 40/40 [00:07<00:00,  5.48it/s]\n"
     ]
    },
    {
     "name": "stdout",
     "output_type": "stream",
     "text": [
      "                   all        636       2336       0.62      0.544      0.584      0.402\n",
      "\n",
      "      Epoch    GPU_mem   box_loss   cls_loss   dfl_loss  Instances       Size\n"
     ]
    },
    {
     "name": "stderr",
     "output_type": "stream",
     "text": [
      "     32/100      3.03G     0.9322      1.007      1.372         10        640: 100%|██████████| 421/421 [01:40<00:00,  4.17it/s]\n",
      "                 Class     Images  Instances      Box(P          R      mAP50  mAP50-95): 100%|██████████| 40/40 [00:07<00:00,  5.58it/s]"
     ]
    },
    {
     "name": "stdout",
     "output_type": "stream",
     "text": [
      "                   all        636       2336      0.607      0.568       0.58      0.404\n"
     ]
    },
    {
     "name": "stderr",
     "output_type": "stream",
     "text": [
      "\n"
     ]
    },
    {
     "name": "stdout",
     "output_type": "stream",
     "text": [
      "\n",
      "      Epoch    GPU_mem   box_loss   cls_loss   dfl_loss  Instances       Size\n"
     ]
    },
    {
     "name": "stderr",
     "output_type": "stream",
     "text": [
      "     33/100      3.01G     0.9454     0.9937      1.363         10        640: 100%|██████████| 421/421 [01:40<00:00,  4.18it/s]\n",
      "                 Class     Images  Instances      Box(P          R      mAP50  mAP50-95): 100%|██████████| 40/40 [00:07<00:00,  5.44it/s]"
     ]
    },
    {
     "name": "stdout",
     "output_type": "stream",
     "text": [
      "                   all        636       2336      0.621      0.585      0.592       0.41\n"
     ]
    },
    {
     "name": "stderr",
     "output_type": "stream",
     "text": [
      "\n"
     ]
    },
    {
     "name": "stdout",
     "output_type": "stream",
     "text": [
      "\n",
      "      Epoch    GPU_mem   box_loss   cls_loss   dfl_loss  Instances       Size\n"
     ]
    },
    {
     "name": "stderr",
     "output_type": "stream",
     "text": [
      "     34/100      3.02G     0.9386     0.9923      1.364         14        640: 100%|██████████| 421/421 [01:41<00:00,  4.16it/s]\n",
      "                 Class     Images  Instances      Box(P          R      mAP50  mAP50-95): 100%|██████████| 40/40 [00:07<00:00,  5.41it/s]"
     ]
    },
    {
     "name": "stdout",
     "output_type": "stream",
     "text": [
      "                   all        636       2336      0.605      0.551      0.582      0.404\n"
     ]
    },
    {
     "name": "stderr",
     "output_type": "stream",
     "text": [
      "\n"
     ]
    },
    {
     "name": "stdout",
     "output_type": "stream",
     "text": [
      "\n",
      "      Epoch    GPU_mem   box_loss   cls_loss   dfl_loss  Instances       Size\n"
     ]
    },
    {
     "name": "stderr",
     "output_type": "stream",
     "text": [
      "     35/100      3.01G     0.9135     0.9657      1.349         12        640: 100%|██████████| 421/421 [01:40<00:00,  4.19it/s]\n",
      "                 Class     Images  Instances      Box(P          R      mAP50  mAP50-95): 100%|██████████| 40/40 [00:06<00:00,  5.94it/s]"
     ]
    },
    {
     "name": "stdout",
     "output_type": "stream",
     "text": [
      "                   all        636       2336      0.619      0.588      0.596       0.41\n"
     ]
    },
    {
     "name": "stderr",
     "output_type": "stream",
     "text": [
      "\n"
     ]
    },
    {
     "name": "stdout",
     "output_type": "stream",
     "text": [
      "\n",
      "      Epoch    GPU_mem   box_loss   cls_loss   dfl_loss  Instances       Size\n"
     ]
    },
    {
     "name": "stderr",
     "output_type": "stream",
     "text": [
      "     36/100         3G     0.9259     0.9609      1.363         21        640: 100%|██████████| 421/421 [01:40<00:00,  4.18it/s]\n",
      "                 Class     Images  Instances      Box(P          R      mAP50  mAP50-95): 100%|██████████| 40/40 [00:07<00:00,  5.37it/s]"
     ]
    },
    {
     "name": "stdout",
     "output_type": "stream",
     "text": [
      "                   all        636       2336      0.606      0.562      0.584      0.403\n"
     ]
    },
    {
     "name": "stderr",
     "output_type": "stream",
     "text": [
      "\n"
     ]
    },
    {
     "name": "stdout",
     "output_type": "stream",
     "text": [
      "\n",
      "      Epoch    GPU_mem   box_loss   cls_loss   dfl_loss  Instances       Size\n"
     ]
    },
    {
     "name": "stderr",
     "output_type": "stream",
     "text": [
      "     37/100      3.01G     0.9078     0.9493      1.341         12        640: 100%|██████████| 421/421 [01:41<00:00,  4.16it/s]\n",
      "                 Class     Images  Instances      Box(P          R      mAP50  mAP50-95): 100%|██████████| 40/40 [00:07<00:00,  5.42it/s]"
     ]
    },
    {
     "name": "stdout",
     "output_type": "stream",
     "text": [
      "                   all        636       2336      0.629      0.552      0.582      0.406\n"
     ]
    },
    {
     "name": "stderr",
     "output_type": "stream",
     "text": [
      "\n"
     ]
    },
    {
     "name": "stdout",
     "output_type": "stream",
     "text": [
      "\n",
      "      Epoch    GPU_mem   box_loss   cls_loss   dfl_loss  Instances       Size\n"
     ]
    },
    {
     "name": "stderr",
     "output_type": "stream",
     "text": [
      "     38/100         3G     0.9012     0.9727      1.354          5        640: 100%|██████████| 421/421 [01:40<00:00,  4.18it/s]\n",
      "                 Class     Images  Instances      Box(P          R      mAP50  mAP50-95): 100%|██████████| 40/40 [00:07<00:00,  5.48it/s]"
     ]
    },
    {
     "name": "stdout",
     "output_type": "stream",
     "text": [
      "                   all        636       2336      0.634      0.562      0.595      0.408\n"
     ]
    },
    {
     "name": "stderr",
     "output_type": "stream",
     "text": [
      "\n"
     ]
    },
    {
     "name": "stdout",
     "output_type": "stream",
     "text": [
      "\n",
      "      Epoch    GPU_mem   box_loss   cls_loss   dfl_loss  Instances       Size\n"
     ]
    },
    {
     "name": "stderr",
     "output_type": "stream",
     "text": [
      "     39/100         3G     0.8966     0.9289      1.346         17        640: 100%|██████████| 421/421 [01:40<00:00,  4.21it/s]\n",
      "                 Class     Images  Instances      Box(P          R      mAP50  mAP50-95): 100%|██████████| 40/40 [00:07<00:00,  5.38it/s]"
     ]
    },
    {
     "name": "stdout",
     "output_type": "stream",
     "text": [
      "                   all        636       2336      0.605      0.566      0.584      0.408\n"
     ]
    },
    {
     "name": "stderr",
     "output_type": "stream",
     "text": [
      "\n"
     ]
    },
    {
     "name": "stdout",
     "output_type": "stream",
     "text": [
      "\n",
      "      Epoch    GPU_mem   box_loss   cls_loss   dfl_loss  Instances       Size\n"
     ]
    },
    {
     "name": "stderr",
     "output_type": "stream",
     "text": [
      "     40/100         3G     0.8901     0.9201      1.337         27        640: 100%|██████████| 421/421 [01:40<00:00,  4.18it/s]\n",
      "                 Class     Images  Instances      Box(P          R      mAP50  mAP50-95): 100%|██████████| 40/40 [00:07<00:00,  5.49it/s]"
     ]
    },
    {
     "name": "stdout",
     "output_type": "stream",
     "text": [
      "                   all        636       2336      0.662      0.552      0.593      0.409\n"
     ]
    },
    {
     "name": "stderr",
     "output_type": "stream",
     "text": [
      "\n"
     ]
    },
    {
     "name": "stdout",
     "output_type": "stream",
     "text": [
      "\n",
      "      Epoch    GPU_mem   box_loss   cls_loss   dfl_loss  Instances       Size\n"
     ]
    },
    {
     "name": "stderr",
     "output_type": "stream",
     "text": [
      "     41/100         3G      0.882     0.8998      1.332         31        640: 100%|██████████| 421/421 [01:40<00:00,  4.19it/s]\n",
      "                 Class     Images  Instances      Box(P          R      mAP50  mAP50-95): 100%|██████████| 40/40 [00:07<00:00,  5.49it/s]\n"
     ]
    },
    {
     "name": "stdout",
     "output_type": "stream",
     "text": [
      "                   all        636       2336      0.608       0.56      0.593      0.407\n",
      "\n",
      "      Epoch    GPU_mem   box_loss   cls_loss   dfl_loss  Instances       Size\n"
     ]
    },
    {
     "name": "stderr",
     "output_type": "stream",
     "text": [
      "     42/100      2.99G     0.8984     0.9175      1.348         51        640: 100%|██████████| 421/421 [01:40<00:00,  4.18it/s]\n",
      "                 Class     Images  Instances      Box(P          R      mAP50  mAP50-95): 100%|██████████| 40/40 [00:07<00:00,  5.55it/s]"
     ]
    },
    {
     "name": "stdout",
     "output_type": "stream",
     "text": [
      "                   all        636       2336      0.642      0.573      0.596      0.415\n"
     ]
    },
    {
     "name": "stderr",
     "output_type": "stream",
     "text": [
      "\n"
     ]
    },
    {
     "name": "stdout",
     "output_type": "stream",
     "text": [
      "\n",
      "      Epoch    GPU_mem   box_loss   cls_loss   dfl_loss  Instances       Size\n"
     ]
    },
    {
     "name": "stderr",
     "output_type": "stream",
     "text": [
      "     43/100         3G     0.8839     0.8931      1.332         33        640: 100%|██████████| 421/421 [01:39<00:00,  4.23it/s]\n",
      "                 Class     Images  Instances      Box(P          R      mAP50  mAP50-95): 100%|██████████| 40/40 [00:07<00:00,  5.56it/s]"
     ]
    },
    {
     "name": "stdout",
     "output_type": "stream",
     "text": [
      "                   all        636       2336      0.609      0.566      0.582      0.405\n"
     ]
    },
    {
     "name": "stderr",
     "output_type": "stream",
     "text": [
      "\n"
     ]
    },
    {
     "name": "stdout",
     "output_type": "stream",
     "text": [
      "\n",
      "      Epoch    GPU_mem   box_loss   cls_loss   dfl_loss  Instances       Size\n"
     ]
    },
    {
     "name": "stderr",
     "output_type": "stream",
     "text": [
      "     44/100      3.03G     0.8916     0.8993      1.324         24        640: 100%|██████████| 421/421 [01:40<00:00,  4.19it/s]\n",
      "                 Class     Images  Instances      Box(P          R      mAP50  mAP50-95): 100%|██████████| 40/40 [00:07<00:00,  5.47it/s]"
     ]
    },
    {
     "name": "stdout",
     "output_type": "stream",
     "text": [
      "                   all        636       2336       0.67       0.55      0.594      0.411\n"
     ]
    },
    {
     "name": "stderr",
     "output_type": "stream",
     "text": [
      "\n"
     ]
    },
    {
     "name": "stdout",
     "output_type": "stream",
     "text": [
      "\n",
      "      Epoch    GPU_mem   box_loss   cls_loss   dfl_loss  Instances       Size\n"
     ]
    },
    {
     "name": "stderr",
     "output_type": "stream",
     "text": [
      "     45/100      3.03G     0.8622     0.8673      1.313         13        640: 100%|██████████| 421/421 [01:40<00:00,  4.19it/s]\n",
      "                 Class     Images  Instances      Box(P          R      mAP50  mAP50-95): 100%|██████████| 40/40 [00:07<00:00,  5.61it/s]"
     ]
    },
    {
     "name": "stdout",
     "output_type": "stream",
     "text": [
      "                   all        636       2336      0.627      0.583      0.601      0.421\n"
     ]
    },
    {
     "name": "stderr",
     "output_type": "stream",
     "text": [
      "\n"
     ]
    },
    {
     "name": "stdout",
     "output_type": "stream",
     "text": [
      "\n",
      "      Epoch    GPU_mem   box_loss   cls_loss   dfl_loss  Instances       Size\n"
     ]
    },
    {
     "name": "stderr",
     "output_type": "stream",
     "text": [
      "     46/100      2.98G     0.8868     0.8741      1.318         22        640: 100%|██████████| 421/421 [01:40<00:00,  4.19it/s]\n",
      "                 Class     Images  Instances      Box(P          R      mAP50  mAP50-95): 100%|██████████| 40/40 [00:07<00:00,  5.49it/s]"
     ]
    },
    {
     "name": "stdout",
     "output_type": "stream",
     "text": [
      "                   all        636       2336       0.67      0.557      0.603      0.416\n"
     ]
    },
    {
     "name": "stderr",
     "output_type": "stream",
     "text": [
      "\n"
     ]
    },
    {
     "name": "stdout",
     "output_type": "stream",
     "text": [
      "\n",
      "      Epoch    GPU_mem   box_loss   cls_loss   dfl_loss  Instances       Size\n"
     ]
    },
    {
     "name": "stderr",
     "output_type": "stream",
     "text": [
      "     47/100      3.01G     0.8729      0.868      1.327         14        640: 100%|██████████| 421/421 [01:40<00:00,  4.19it/s]\n",
      "                 Class     Images  Instances      Box(P          R      mAP50  mAP50-95): 100%|██████████| 40/40 [00:07<00:00,  5.50it/s]"
     ]
    },
    {
     "name": "stdout",
     "output_type": "stream",
     "text": [
      "                   all        636       2336      0.611      0.559      0.592      0.406\n"
     ]
    },
    {
     "name": "stderr",
     "output_type": "stream",
     "text": [
      "\n"
     ]
    },
    {
     "name": "stdout",
     "output_type": "stream",
     "text": [
      "\n",
      "      Epoch    GPU_mem   box_loss   cls_loss   dfl_loss  Instances       Size\n"
     ]
    },
    {
     "name": "stderr",
     "output_type": "stream",
     "text": [
      "     48/100      3.02G     0.8641     0.8641      1.312         25        640: 100%|██████████| 421/421 [01:40<00:00,  4.17it/s]\n",
      "                 Class     Images  Instances      Box(P          R      mAP50  mAP50-95): 100%|██████████| 40/40 [00:07<00:00,  5.57it/s]"
     ]
    },
    {
     "name": "stdout",
     "output_type": "stream",
     "text": [
      "                   all        636       2336       0.63      0.584      0.595      0.406\n"
     ]
    },
    {
     "name": "stderr",
     "output_type": "stream",
     "text": [
      "\n"
     ]
    },
    {
     "name": "stdout",
     "output_type": "stream",
     "text": [
      "\n",
      "      Epoch    GPU_mem   box_loss   cls_loss   dfl_loss  Instances       Size\n"
     ]
    },
    {
     "name": "stderr",
     "output_type": "stream",
     "text": [
      "     49/100         3G     0.8594     0.8409      1.306         50        640: 100%|██████████| 421/421 [01:41<00:00,  4.16it/s]\n",
      "                 Class     Images  Instances      Box(P          R      mAP50  mAP50-95): 100%|██████████| 40/40 [00:07<00:00,  5.46it/s]"
     ]
    },
    {
     "name": "stdout",
     "output_type": "stream",
     "text": [
      "                   all        636       2336      0.599      0.595      0.584      0.403\n"
     ]
    },
    {
     "name": "stderr",
     "output_type": "stream",
     "text": [
      "\n"
     ]
    },
    {
     "name": "stdout",
     "output_type": "stream",
     "text": [
      "\n",
      "      Epoch    GPU_mem   box_loss   cls_loss   dfl_loss  Instances       Size\n"
     ]
    },
    {
     "name": "stderr",
     "output_type": "stream",
     "text": [
      "     50/100         3G      0.854     0.8342      1.307         20        640: 100%|██████████| 421/421 [01:40<00:00,  4.19it/s]\n",
      "                 Class     Images  Instances      Box(P          R      mAP50  mAP50-95): 100%|██████████| 40/40 [00:07<00:00,  5.49it/s]"
     ]
    },
    {
     "name": "stdout",
     "output_type": "stream",
     "text": [
      "                   all        636       2336      0.641      0.563      0.596      0.411\n"
     ]
    },
    {
     "name": "stderr",
     "output_type": "stream",
     "text": [
      "\n"
     ]
    },
    {
     "name": "stdout",
     "output_type": "stream",
     "text": [
      "\n",
      "      Epoch    GPU_mem   box_loss   cls_loss   dfl_loss  Instances       Size\n"
     ]
    },
    {
     "name": "stderr",
     "output_type": "stream",
     "text": [
      "     51/100      3.01G     0.8381     0.8228      1.293         16        640: 100%|██████████| 421/421 [01:40<00:00,  4.17it/s]\n",
      "                 Class     Images  Instances      Box(P          R      mAP50  mAP50-95): 100%|██████████| 40/40 [00:07<00:00,  5.45it/s]"
     ]
    },
    {
     "name": "stdout",
     "output_type": "stream",
     "text": [
      "                   all        636       2336      0.616      0.588      0.591      0.407\n"
     ]
    },
    {
     "name": "stderr",
     "output_type": "stream",
     "text": [
      "\n"
     ]
    },
    {
     "name": "stdout",
     "output_type": "stream",
     "text": [
      "\n",
      "      Epoch    GPU_mem   box_loss   cls_loss   dfl_loss  Instances       Size\n"
     ]
    },
    {
     "name": "stderr",
     "output_type": "stream",
     "text": [
      "     52/100      3.03G     0.8527     0.8222      1.297         24        640: 100%|██████████| 421/421 [01:40<00:00,  4.18it/s]\n",
      "                 Class     Images  Instances      Box(P          R      mAP50  mAP50-95): 100%|██████████| 40/40 [00:07<00:00,  5.56it/s]"
     ]
    },
    {
     "name": "stdout",
     "output_type": "stream",
     "text": [
      "                   all        636       2336      0.657      0.559      0.605      0.418\n"
     ]
    },
    {
     "name": "stderr",
     "output_type": "stream",
     "text": [
      "\n"
     ]
    },
    {
     "name": "stdout",
     "output_type": "stream",
     "text": [
      "\n",
      "      Epoch    GPU_mem   box_loss   cls_loss   dfl_loss  Instances       Size\n"
     ]
    },
    {
     "name": "stderr",
     "output_type": "stream",
     "text": [
      "     53/100      3.03G     0.8439     0.8095      1.286         28        640: 100%|██████████| 421/421 [01:41<00:00,  4.16it/s]\n",
      "                 Class     Images  Instances      Box(P          R      mAP50  mAP50-95): 100%|██████████| 40/40 [00:07<00:00,  5.47it/s]"
     ]
    },
    {
     "name": "stdout",
     "output_type": "stream",
     "text": [
      "                   all        636       2336      0.658      0.583      0.609      0.418\n"
     ]
    },
    {
     "name": "stderr",
     "output_type": "stream",
     "text": [
      "\n"
     ]
    },
    {
     "name": "stdout",
     "output_type": "stream",
     "text": [
      "\n",
      "      Epoch    GPU_mem   box_loss   cls_loss   dfl_loss  Instances       Size\n"
     ]
    },
    {
     "name": "stderr",
     "output_type": "stream",
     "text": [
      "     54/100      3.01G      0.838      0.808      1.291         32        640: 100%|██████████| 421/421 [01:40<00:00,  4.18it/s]\n",
      "                 Class     Images  Instances      Box(P          R      mAP50  mAP50-95): 100%|██████████| 40/40 [00:07<00:00,  5.51it/s]"
     ]
    },
    {
     "name": "stdout",
     "output_type": "stream",
     "text": [
      "                   all        636       2336      0.713      0.545      0.612      0.427\n"
     ]
    },
    {
     "name": "stderr",
     "output_type": "stream",
     "text": [
      "\n"
     ]
    },
    {
     "name": "stdout",
     "output_type": "stream",
     "text": [
      "\n",
      "      Epoch    GPU_mem   box_loss   cls_loss   dfl_loss  Instances       Size\n"
     ]
    },
    {
     "name": "stderr",
     "output_type": "stream",
     "text": [
      "     55/100      3.08G     0.8285     0.7893      1.282         16        640: 100%|██████████| 421/421 [01:40<00:00,  4.17it/s]\n",
      "                 Class     Images  Instances      Box(P          R      mAP50  mAP50-95): 100%|██████████| 40/40 [00:07<00:00,  5.46it/s]"
     ]
    },
    {
     "name": "stdout",
     "output_type": "stream",
     "text": [
      "                   all        636       2336      0.657      0.562      0.603      0.418\n"
     ]
    },
    {
     "name": "stderr",
     "output_type": "stream",
     "text": [
      "\n"
     ]
    },
    {
     "name": "stdout",
     "output_type": "stream",
     "text": [
      "\n",
      "      Epoch    GPU_mem   box_loss   cls_loss   dfl_loss  Instances       Size\n"
     ]
    },
    {
     "name": "stderr",
     "output_type": "stream",
     "text": [
      "     56/100      3.03G     0.8269     0.7908      1.288         24        640: 100%|██████████| 421/421 [01:41<00:00,  4.15it/s]\n",
      "                 Class     Images  Instances      Box(P          R      mAP50  mAP50-95): 100%|██████████| 40/40 [00:07<00:00,  5.49it/s]\n"
     ]
    },
    {
     "name": "stdout",
     "output_type": "stream",
     "text": [
      "                   all        636       2336      0.659      0.577      0.612      0.425\n",
      "\n",
      "      Epoch    GPU_mem   box_loss   cls_loss   dfl_loss  Instances       Size\n"
     ]
    },
    {
     "name": "stderr",
     "output_type": "stream",
     "text": [
      "     57/100      3.02G     0.8247     0.7889      1.287         47        640: 100%|██████████| 421/421 [01:42<00:00,  4.11it/s]\n",
      "                 Class     Images  Instances      Box(P          R      mAP50  mAP50-95): 100%|██████████| 40/40 [00:07<00:00,  5.47it/s]\n"
     ]
    },
    {
     "name": "stdout",
     "output_type": "stream",
     "text": [
      "                   all        636       2336      0.628      0.618       0.61      0.425\n",
      "\n",
      "      Epoch    GPU_mem   box_loss   cls_loss   dfl_loss  Instances       Size\n"
     ]
    },
    {
     "name": "stderr",
     "output_type": "stream",
     "text": [
      "     58/100      3.02G     0.8218     0.7795       1.28         32        640: 100%|██████████| 421/421 [01:40<00:00,  4.18it/s]\n",
      "                 Class     Images  Instances      Box(P          R      mAP50  mAP50-95): 100%|██████████| 40/40 [00:07<00:00,  5.51it/s]\n"
     ]
    },
    {
     "name": "stdout",
     "output_type": "stream",
     "text": [
      "                   all        636       2336      0.666      0.568      0.605      0.413\n",
      "\n",
      "      Epoch    GPU_mem   box_loss   cls_loss   dfl_loss  Instances       Size\n"
     ]
    },
    {
     "name": "stderr",
     "output_type": "stream",
     "text": [
      "     59/100         3G     0.8188     0.7808      1.281         20        640: 100%|██████████| 421/421 [01:40<00:00,  4.17it/s]\n",
      "                 Class     Images  Instances      Box(P          R      mAP50  mAP50-95): 100%|██████████| 40/40 [00:07<00:00,  5.36it/s]"
     ]
    },
    {
     "name": "stdout",
     "output_type": "stream",
     "text": [
      "                   all        636       2336      0.607      0.603      0.607      0.415\n"
     ]
    },
    {
     "name": "stderr",
     "output_type": "stream",
     "text": [
      "\n"
     ]
    },
    {
     "name": "stdout",
     "output_type": "stream",
     "text": [
      "\n",
      "      Epoch    GPU_mem   box_loss   cls_loss   dfl_loss  Instances       Size\n"
     ]
    },
    {
     "name": "stderr",
     "output_type": "stream",
     "text": [
      "     60/100      3.02G     0.8187     0.7652      1.278         28        640: 100%|██████████| 421/421 [01:40<00:00,  4.17it/s]\n",
      "                 Class     Images  Instances      Box(P          R      mAP50  mAP50-95): 100%|██████████| 40/40 [00:07<00:00,  5.45it/s]"
     ]
    },
    {
     "name": "stdout",
     "output_type": "stream",
     "text": [
      "                   all        636       2336       0.58      0.612      0.592      0.406\n"
     ]
    },
    {
     "name": "stderr",
     "output_type": "stream",
     "text": [
      "\n"
     ]
    },
    {
     "name": "stdout",
     "output_type": "stream",
     "text": [
      "\n",
      "      Epoch    GPU_mem   box_loss   cls_loss   dfl_loss  Instances       Size\n"
     ]
    },
    {
     "name": "stderr",
     "output_type": "stream",
     "text": [
      "     61/100      3.03G     0.8202     0.7652      1.278         33        640: 100%|██████████| 421/421 [01:40<00:00,  4.19it/s]\n",
      "                 Class     Images  Instances      Box(P          R      mAP50  mAP50-95): 100%|██████████| 40/40 [00:07<00:00,  5.57it/s]"
     ]
    },
    {
     "name": "stdout",
     "output_type": "stream",
     "text": [
      "                   all        636       2336      0.654      0.561      0.603      0.421\n"
     ]
    },
    {
     "name": "stderr",
     "output_type": "stream",
     "text": [
      "\n"
     ]
    },
    {
     "name": "stdout",
     "output_type": "stream",
     "text": [
      "\n",
      "      Epoch    GPU_mem   box_loss   cls_loss   dfl_loss  Instances       Size\n"
     ]
    },
    {
     "name": "stderr",
     "output_type": "stream",
     "text": [
      "     62/100      3.01G     0.8135     0.7673      1.277         18        640: 100%|██████████| 421/421 [01:41<00:00,  4.16it/s]\n",
      "                 Class     Images  Instances      Box(P          R      mAP50  mAP50-95): 100%|██████████| 40/40 [00:07<00:00,  5.27it/s]"
     ]
    },
    {
     "name": "stdout",
     "output_type": "stream",
     "text": [
      "                   all        636       2336      0.646       0.57      0.595      0.415\n"
     ]
    },
    {
     "name": "stderr",
     "output_type": "stream",
     "text": [
      "\n"
     ]
    },
    {
     "name": "stdout",
     "output_type": "stream",
     "text": [
      "\n",
      "      Epoch    GPU_mem   box_loss   cls_loss   dfl_loss  Instances       Size\n"
     ]
    },
    {
     "name": "stderr",
     "output_type": "stream",
     "text": [
      "     63/100      3.04G     0.7941     0.7564      1.255         13        640: 100%|██████████| 421/421 [01:40<00:00,  4.17it/s]\n",
      "                 Class     Images  Instances      Box(P          R      mAP50  mAP50-95): 100%|██████████| 40/40 [00:07<00:00,  5.29it/s]"
     ]
    },
    {
     "name": "stdout",
     "output_type": "stream",
     "text": [
      "                   all        636       2336      0.607      0.602      0.603      0.419\n"
     ]
    },
    {
     "name": "stderr",
     "output_type": "stream",
     "text": [
      "\n"
     ]
    },
    {
     "name": "stdout",
     "output_type": "stream",
     "text": [
      "\n",
      "      Epoch    GPU_mem   box_loss   cls_loss   dfl_loss  Instances       Size\n"
     ]
    },
    {
     "name": "stderr",
     "output_type": "stream",
     "text": [
      "     64/100      3.03G     0.7995     0.7433       1.26         25        640: 100%|██████████| 421/421 [01:41<00:00,  4.14it/s]\n",
      "                 Class     Images  Instances      Box(P          R      mAP50  mAP50-95): 100%|██████████| 40/40 [00:07<00:00,  5.31it/s]"
     ]
    },
    {
     "name": "stdout",
     "output_type": "stream",
     "text": [
      "                   all        636       2336      0.623      0.599      0.607      0.427\n"
     ]
    },
    {
     "name": "stderr",
     "output_type": "stream",
     "text": [
      "\n"
     ]
    },
    {
     "name": "stdout",
     "output_type": "stream",
     "text": [
      "\n",
      "      Epoch    GPU_mem   box_loss   cls_loss   dfl_loss  Instances       Size\n"
     ]
    },
    {
     "name": "stderr",
     "output_type": "stream",
     "text": [
      "     65/100      3.03G     0.7965     0.7372      1.261         13        640: 100%|██████████| 421/421 [01:41<00:00,  4.16it/s]\n",
      "                 Class     Images  Instances      Box(P          R      mAP50  mAP50-95): 100%|██████████| 40/40 [00:07<00:00,  5.48it/s]"
     ]
    },
    {
     "name": "stdout",
     "output_type": "stream",
     "text": [
      "                   all        636       2336      0.651      0.573       0.61      0.418\n"
     ]
    },
    {
     "name": "stderr",
     "output_type": "stream",
     "text": [
      "\n"
     ]
    },
    {
     "name": "stdout",
     "output_type": "stream",
     "text": [
      "\n",
      "      Epoch    GPU_mem   box_loss   cls_loss   dfl_loss  Instances       Size\n"
     ]
    },
    {
     "name": "stderr",
     "output_type": "stream",
     "text": [
      "     66/100         3G     0.7867     0.7277      1.251         11        640: 100%|██████████| 421/421 [01:40<00:00,  4.17it/s]\n",
      "                 Class     Images  Instances      Box(P          R      mAP50  mAP50-95): 100%|██████████| 40/40 [00:07<00:00,  5.32it/s]"
     ]
    },
    {
     "name": "stdout",
     "output_type": "stream",
     "text": [
      "                   all        636       2336      0.629      0.573      0.599      0.414\n"
     ]
    },
    {
     "name": "stderr",
     "output_type": "stream",
     "text": [
      "\n"
     ]
    },
    {
     "name": "stdout",
     "output_type": "stream",
     "text": [
      "\n",
      "      Epoch    GPU_mem   box_loss   cls_loss   dfl_loss  Instances       Size\n"
     ]
    },
    {
     "name": "stderr",
     "output_type": "stream",
     "text": [
      "     67/100      3.04G     0.7937     0.7294      1.254         16        640: 100%|██████████| 421/421 [01:40<00:00,  4.17it/s]\n",
      "                 Class     Images  Instances      Box(P          R      mAP50  mAP50-95): 100%|██████████| 40/40 [00:07<00:00,  5.42it/s]"
     ]
    },
    {
     "name": "stdout",
     "output_type": "stream",
     "text": [
      "                   all        636       2336      0.638      0.566      0.606      0.419\n"
     ]
    },
    {
     "name": "stderr",
     "output_type": "stream",
     "text": [
      "\n"
     ]
    },
    {
     "name": "stdout",
     "output_type": "stream",
     "text": [
      "\n",
      "      Epoch    GPU_mem   box_loss   cls_loss   dfl_loss  Instances       Size\n"
     ]
    },
    {
     "name": "stderr",
     "output_type": "stream",
     "text": [
      "     68/100      3.03G     0.7854     0.7141      1.252         17        640: 100%|██████████| 421/421 [01:41<00:00,  4.16it/s]\n",
      "                 Class     Images  Instances      Box(P          R      mAP50  mAP50-95): 100%|██████████| 40/40 [00:07<00:00,  5.51it/s]"
     ]
    },
    {
     "name": "stdout",
     "output_type": "stream",
     "text": [
      "                   all        636       2336      0.649      0.584      0.614      0.422\n"
     ]
    },
    {
     "name": "stderr",
     "output_type": "stream",
     "text": [
      "\n"
     ]
    },
    {
     "name": "stdout",
     "output_type": "stream",
     "text": [
      "\n",
      "      Epoch    GPU_mem   box_loss   cls_loss   dfl_loss  Instances       Size\n"
     ]
    },
    {
     "name": "stderr",
     "output_type": "stream",
     "text": [
      "     69/100      2.99G     0.7754     0.7094      1.237         27        640: 100%|██████████| 421/421 [01:40<00:00,  4.19it/s]\n",
      "                 Class     Images  Instances      Box(P          R      mAP50  mAP50-95): 100%|██████████| 40/40 [00:07<00:00,  5.41it/s]"
     ]
    },
    {
     "name": "stdout",
     "output_type": "stream",
     "text": [
      "                   all        636       2336      0.687      0.552      0.609      0.422\n"
     ]
    },
    {
     "name": "stderr",
     "output_type": "stream",
     "text": [
      "\n"
     ]
    },
    {
     "name": "stdout",
     "output_type": "stream",
     "text": [
      "\n",
      "      Epoch    GPU_mem   box_loss   cls_loss   dfl_loss  Instances       Size\n"
     ]
    },
    {
     "name": "stderr",
     "output_type": "stream",
     "text": [
      "     70/100         3G     0.7751     0.7074       1.25          8        640: 100%|██████████| 421/421 [01:40<00:00,  4.17it/s]\n",
      "                 Class     Images  Instances      Box(P          R      mAP50  mAP50-95): 100%|██████████| 40/40 [00:07<00:00,  5.47it/s]"
     ]
    },
    {
     "name": "stdout",
     "output_type": "stream",
     "text": [
      "                   all        636       2336       0.65      0.567      0.608      0.424\n"
     ]
    },
    {
     "name": "stderr",
     "output_type": "stream",
     "text": [
      "\n"
     ]
    },
    {
     "name": "stdout",
     "output_type": "stream",
     "text": [
      "\n",
      "      Epoch    GPU_mem   box_loss   cls_loss   dfl_loss  Instances       Size\n"
     ]
    },
    {
     "name": "stderr",
     "output_type": "stream",
     "text": [
      "     71/100      3.02G     0.7733     0.7089      1.249         14        640: 100%|██████████| 421/421 [01:40<00:00,  4.20it/s]\n",
      "                 Class     Images  Instances      Box(P          R      mAP50  mAP50-95): 100%|██████████| 40/40 [00:07<00:00,  5.45it/s]"
     ]
    },
    {
     "name": "stdout",
     "output_type": "stream",
     "text": [
      "                   all        636       2336      0.686      0.535      0.603      0.417\n"
     ]
    },
    {
     "name": "stderr",
     "output_type": "stream",
     "text": [
      "\n"
     ]
    },
    {
     "name": "stdout",
     "output_type": "stream",
     "text": [
      "\n",
      "      Epoch    GPU_mem   box_loss   cls_loss   dfl_loss  Instances       Size\n"
     ]
    },
    {
     "name": "stderr",
     "output_type": "stream",
     "text": [
      "     72/100      3.03G     0.7681     0.6959      1.242         25        640: 100%|██████████| 421/421 [01:40<00:00,  4.19it/s]\n",
      "                 Class     Images  Instances      Box(P          R      mAP50  mAP50-95): 100%|██████████| 40/40 [00:07<00:00,  5.51it/s]"
     ]
    },
    {
     "name": "stdout",
     "output_type": "stream",
     "text": [
      "                   all        636       2336      0.632      0.587      0.611      0.418\n"
     ]
    },
    {
     "name": "stderr",
     "output_type": "stream",
     "text": [
      "\n"
     ]
    },
    {
     "name": "stdout",
     "output_type": "stream",
     "text": [
      "\n",
      "      Epoch    GPU_mem   box_loss   cls_loss   dfl_loss  Instances       Size\n"
     ]
    },
    {
     "name": "stderr",
     "output_type": "stream",
     "text": [
      "     73/100      3.06G     0.7701      0.695      1.245         15        640: 100%|██████████| 421/421 [01:40<00:00,  4.17it/s]\n",
      "                 Class     Images  Instances      Box(P          R      mAP50  mAP50-95): 100%|██████████| 40/40 [00:07<00:00,  5.41it/s]"
     ]
    },
    {
     "name": "stdout",
     "output_type": "stream",
     "text": [
      "                   all        636       2336      0.632      0.587       0.62      0.428\n"
     ]
    },
    {
     "name": "stderr",
     "output_type": "stream",
     "text": [
      "\n"
     ]
    },
    {
     "name": "stdout",
     "output_type": "stream",
     "text": [
      "\n",
      "      Epoch    GPU_mem   box_loss   cls_loss   dfl_loss  Instances       Size\n"
     ]
    },
    {
     "name": "stderr",
     "output_type": "stream",
     "text": [
      "     74/100         3G     0.7558     0.6881      1.235         23        640: 100%|██████████| 421/421 [01:40<00:00,  4.20it/s]\n",
      "                 Class     Images  Instances      Box(P          R      mAP50  mAP50-95): 100%|██████████| 40/40 [00:07<00:00,  5.43it/s]"
     ]
    },
    {
     "name": "stdout",
     "output_type": "stream",
     "text": [
      "                   all        636       2336      0.678      0.568      0.614      0.428\n"
     ]
    },
    {
     "name": "stderr",
     "output_type": "stream",
     "text": [
      "\n"
     ]
    },
    {
     "name": "stdout",
     "output_type": "stream",
     "text": [
      "\n",
      "      Epoch    GPU_mem   box_loss   cls_loss   dfl_loss  Instances       Size\n"
     ]
    },
    {
     "name": "stderr",
     "output_type": "stream",
     "text": [
      "     75/100      3.01G     0.7674      0.699      1.249         41        640: 100%|██████████| 421/421 [01:41<00:00,  4.16it/s]\n",
      "                 Class     Images  Instances      Box(P          R      mAP50  mAP50-95): 100%|██████████| 40/40 [00:07<00:00,  5.35it/s]"
     ]
    },
    {
     "name": "stdout",
     "output_type": "stream",
     "text": [
      "                   all        636       2336      0.613      0.604      0.612      0.428\n"
     ]
    },
    {
     "name": "stderr",
     "output_type": "stream",
     "text": [
      "\n"
     ]
    },
    {
     "name": "stdout",
     "output_type": "stream",
     "text": [
      "\n",
      "      Epoch    GPU_mem   box_loss   cls_loss   dfl_loss  Instances       Size\n"
     ]
    },
    {
     "name": "stderr",
     "output_type": "stream",
     "text": [
      "     76/100      3.02G     0.7608     0.6844      1.249         16        640: 100%|██████████| 421/421 [01:39<00:00,  4.24it/s]\n",
      "                 Class     Images  Instances      Box(P          R      mAP50  mAP50-95): 100%|██████████| 40/40 [00:07<00:00,  5.63it/s]"
     ]
    },
    {
     "name": "stdout",
     "output_type": "stream",
     "text": [
      "                   all        636       2336      0.636      0.582      0.609      0.423\n"
     ]
    },
    {
     "name": "stderr",
     "output_type": "stream",
     "text": [
      "\n"
     ]
    },
    {
     "name": "stdout",
     "output_type": "stream",
     "text": [
      "\n",
      "      Epoch    GPU_mem   box_loss   cls_loss   dfl_loss  Instances       Size\n"
     ]
    },
    {
     "name": "stderr",
     "output_type": "stream",
     "text": [
      "     77/100      3.02G      0.761     0.6736      1.239         12        640: 100%|██████████| 421/421 [01:41<00:00,  4.16it/s]\n",
      "                 Class     Images  Instances      Box(P          R      mAP50  mAP50-95): 100%|██████████| 40/40 [00:07<00:00,  5.50it/s]"
     ]
    },
    {
     "name": "stdout",
     "output_type": "stream",
     "text": [
      "                   all        636       2336      0.667      0.556      0.613      0.424\n"
     ]
    },
    {
     "name": "stderr",
     "output_type": "stream",
     "text": [
      "\n"
     ]
    },
    {
     "name": "stdout",
     "output_type": "stream",
     "text": [
      "\n",
      "      Epoch    GPU_mem   box_loss   cls_loss   dfl_loss  Instances       Size\n"
     ]
    },
    {
     "name": "stderr",
     "output_type": "stream",
     "text": [
      "     78/100      2.98G     0.7449     0.6661      1.235         27        640: 100%|██████████| 421/421 [01:41<00:00,  4.13it/s]\n",
      "                 Class     Images  Instances      Box(P          R      mAP50  mAP50-95): 100%|██████████| 40/40 [00:07<00:00,  5.48it/s]"
     ]
    },
    {
     "name": "stdout",
     "output_type": "stream",
     "text": [
      "                   all        636       2336      0.664      0.564      0.614      0.426\n"
     ]
    },
    {
     "name": "stderr",
     "output_type": "stream",
     "text": [
      "\n"
     ]
    },
    {
     "name": "stdout",
     "output_type": "stream",
     "text": [
      "\n",
      "      Epoch    GPU_mem   box_loss   cls_loss   dfl_loss  Instances       Size\n"
     ]
    },
    {
     "name": "stderr",
     "output_type": "stream",
     "text": [
      "     79/100      3.06G      0.751     0.6714      1.241         22        640: 100%|██████████| 421/421 [01:41<00:00,  4.14it/s]\n",
      "                 Class     Images  Instances      Box(P          R      mAP50  mAP50-95): 100%|██████████| 40/40 [00:07<00:00,  5.54it/s]"
     ]
    },
    {
     "name": "stdout",
     "output_type": "stream",
     "text": [
      "                   all        636       2336      0.662       0.59      0.623       0.43\n"
     ]
    },
    {
     "name": "stderr",
     "output_type": "stream",
     "text": [
      "\n"
     ]
    },
    {
     "name": "stdout",
     "output_type": "stream",
     "text": [
      "\n",
      "      Epoch    GPU_mem   box_loss   cls_loss   dfl_loss  Instances       Size\n"
     ]
    },
    {
     "name": "stderr",
     "output_type": "stream",
     "text": [
      "     80/100         3G     0.7483     0.6659      1.235         19        640: 100%|██████████| 421/421 [01:41<00:00,  4.16it/s]\n",
      "                 Class     Images  Instances      Box(P          R      mAP50  mAP50-95): 100%|██████████| 40/40 [00:07<00:00,  5.32it/s]"
     ]
    },
    {
     "name": "stdout",
     "output_type": "stream",
     "text": [
      "                   all        636       2336      0.636      0.579      0.609      0.421\n"
     ]
    },
    {
     "name": "stderr",
     "output_type": "stream",
     "text": [
      "\n"
     ]
    },
    {
     "name": "stdout",
     "output_type": "stream",
     "text": [
      "\n",
      "      Epoch    GPU_mem   box_loss   cls_loss   dfl_loss  Instances       Size\n"
     ]
    },
    {
     "name": "stderr",
     "output_type": "stream",
     "text": [
      "     81/100      3.01G      0.756     0.6745      1.241         20        640: 100%|██████████| 421/421 [01:41<00:00,  4.15it/s]\n",
      "                 Class     Images  Instances      Box(P          R      mAP50  mAP50-95): 100%|██████████| 40/40 [00:07<00:00,  5.39it/s]\n"
     ]
    },
    {
     "name": "stdout",
     "output_type": "stream",
     "text": [
      "                   all        636       2336      0.629      0.593      0.614      0.425\n",
      "\n",
      "      Epoch    GPU_mem   box_loss   cls_loss   dfl_loss  Instances       Size\n"
     ]
    },
    {
     "name": "stderr",
     "output_type": "stream",
     "text": [
      "     82/100         3G     0.7428     0.6548      1.227         27        640: 100%|██████████| 421/421 [01:41<00:00,  4.14it/s]\n",
      "                 Class     Images  Instances      Box(P          R      mAP50  mAP50-95): 100%|██████████| 40/40 [00:07<00:00,  5.52it/s]"
     ]
    },
    {
     "name": "stdout",
     "output_type": "stream",
     "text": [
      "                   all        636       2336      0.628      0.595      0.615      0.427\n"
     ]
    },
    {
     "name": "stderr",
     "output_type": "stream",
     "text": [
      "\n"
     ]
    },
    {
     "name": "stdout",
     "output_type": "stream",
     "text": [
      "\n",
      "      Epoch    GPU_mem   box_loss   cls_loss   dfl_loss  Instances       Size\n"
     ]
    },
    {
     "name": "stderr",
     "output_type": "stream",
     "text": [
      "     83/100      3.03G      0.738     0.6506      1.226         30        640: 100%|██████████| 421/421 [01:40<00:00,  4.18it/s]\n",
      "                 Class     Images  Instances      Box(P          R      mAP50  mAP50-95): 100%|██████████| 40/40 [00:07<00:00,  5.46it/s]"
     ]
    },
    {
     "name": "stdout",
     "output_type": "stream",
     "text": [
      "                   all        636       2336       0.65      0.576      0.612      0.426\n"
     ]
    },
    {
     "name": "stderr",
     "output_type": "stream",
     "text": [
      "\n"
     ]
    },
    {
     "name": "stdout",
     "output_type": "stream",
     "text": [
      "\n",
      "      Epoch    GPU_mem   box_loss   cls_loss   dfl_loss  Instances       Size\n"
     ]
    },
    {
     "name": "stderr",
     "output_type": "stream",
     "text": [
      "     84/100         3G      0.732     0.6484       1.22         31        640: 100%|██████████| 421/421 [01:40<00:00,  4.20it/s]\n",
      "                 Class     Images  Instances      Box(P          R      mAP50  mAP50-95): 100%|██████████| 40/40 [00:07<00:00,  5.56it/s]"
     ]
    },
    {
     "name": "stdout",
     "output_type": "stream",
     "text": [
      "                   all        636       2336      0.687      0.568      0.617      0.432\n"
     ]
    },
    {
     "name": "stderr",
     "output_type": "stream",
     "text": [
      "\n"
     ]
    },
    {
     "name": "stdout",
     "output_type": "stream",
     "text": [
      "\n",
      "      Epoch    GPU_mem   box_loss   cls_loss   dfl_loss  Instances       Size\n"
     ]
    },
    {
     "name": "stderr",
     "output_type": "stream",
     "text": [
      "     85/100      3.03G     0.7283     0.6387      1.216         11        640: 100%|██████████| 421/421 [01:40<00:00,  4.17it/s]\n",
      "                 Class     Images  Instances      Box(P          R      mAP50  mAP50-95): 100%|██████████| 40/40 [00:07<00:00,  5.48it/s]"
     ]
    },
    {
     "name": "stdout",
     "output_type": "stream",
     "text": [
      "                   all        636       2336      0.645      0.587      0.614      0.428\n"
     ]
    },
    {
     "name": "stderr",
     "output_type": "stream",
     "text": [
      "\n"
     ]
    },
    {
     "name": "stdout",
     "output_type": "stream",
     "text": [
      "\n",
      "      Epoch    GPU_mem   box_loss   cls_loss   dfl_loss  Instances       Size\n"
     ]
    },
    {
     "name": "stderr",
     "output_type": "stream",
     "text": [
      "     86/100      3.02G     0.7306     0.6348      1.211         29        640: 100%|██████████| 421/421 [01:41<00:00,  4.17it/s]\n",
      "                 Class     Images  Instances      Box(P          R      mAP50  mAP50-95): 100%|██████████| 40/40 [00:07<00:00,  5.42it/s]"
     ]
    },
    {
     "name": "stdout",
     "output_type": "stream",
     "text": [
      "                   all        636       2336      0.641      0.592      0.616      0.431\n"
     ]
    },
    {
     "name": "stderr",
     "output_type": "stream",
     "text": [
      "\n"
     ]
    },
    {
     "name": "stdout",
     "output_type": "stream",
     "text": [
      "\n",
      "      Epoch    GPU_mem   box_loss   cls_loss   dfl_loss  Instances       Size\n"
     ]
    },
    {
     "name": "stderr",
     "output_type": "stream",
     "text": [
      "     87/100         3G     0.7288     0.6326      1.211          8        640: 100%|██████████| 421/421 [01:40<00:00,  4.21it/s]\n",
      "                 Class     Images  Instances      Box(P          R      mAP50  mAP50-95): 100%|██████████| 40/40 [00:07<00:00,  5.33it/s]"
     ]
    },
    {
     "name": "stdout",
     "output_type": "stream",
     "text": [
      "                   all        636       2336      0.682      0.561      0.613      0.429\n"
     ]
    },
    {
     "name": "stderr",
     "output_type": "stream",
     "text": [
      "\n"
     ]
    },
    {
     "name": "stdout",
     "output_type": "stream",
     "text": [
      "\n",
      "      Epoch    GPU_mem   box_loss   cls_loss   dfl_loss  Instances       Size\n"
     ]
    },
    {
     "name": "stderr",
     "output_type": "stream",
     "text": [
      "     88/100      3.02G     0.7308      0.641      1.214         21        640: 100%|██████████| 421/421 [01:40<00:00,  4.18it/s]\n",
      "                 Class     Images  Instances      Box(P          R      mAP50  mAP50-95): 100%|██████████| 40/40 [00:07<00:00,  5.30it/s]\n"
     ]
    },
    {
     "name": "stdout",
     "output_type": "stream",
     "text": [
      "                   all        636       2336      0.654      0.573       0.62       0.43\n",
      "\n",
      "      Epoch    GPU_mem   box_loss   cls_loss   dfl_loss  Instances       Size\n"
     ]
    },
    {
     "name": "stderr",
     "output_type": "stream",
     "text": [
      "     89/100      3.08G     0.7337      0.639       1.21         13        640: 100%|██████████| 421/421 [01:40<00:00,  4.17it/s]\n",
      "                 Class     Images  Instances      Box(P          R      mAP50  mAP50-95): 100%|██████████| 40/40 [00:07<00:00,  5.41it/s]"
     ]
    },
    {
     "name": "stdout",
     "output_type": "stream",
     "text": [
      "                   all        636       2336      0.649      0.587      0.621      0.432\n"
     ]
    },
    {
     "name": "stderr",
     "output_type": "stream",
     "text": [
      "\n"
     ]
    },
    {
     "name": "stdout",
     "output_type": "stream",
     "text": [
      "\n",
      "      Epoch    GPU_mem   box_loss   cls_loss   dfl_loss  Instances       Size\n"
     ]
    },
    {
     "name": "stderr",
     "output_type": "stream",
     "text": [
      "     90/100      3.02G     0.7172     0.6342      1.203         24        640: 100%|██████████| 421/421 [01:41<00:00,  4.17it/s]\n",
      "                 Class     Images  Instances      Box(P          R      mAP50  mAP50-95): 100%|██████████| 40/40 [00:07<00:00,  5.40it/s]"
     ]
    },
    {
     "name": "stdout",
     "output_type": "stream",
     "text": [
      "                   all        636       2336      0.643      0.595      0.623      0.431\n"
     ]
    },
    {
     "name": "stderr",
     "output_type": "stream",
     "text": [
      "\n"
     ]
    },
    {
     "name": "stdout",
     "output_type": "stream",
     "text": [
      "Closing dataloader mosaic\n",
      "\n",
      "      Epoch    GPU_mem   box_loss   cls_loss   dfl_loss  Instances       Size\n"
     ]
    },
    {
     "name": "stderr",
     "output_type": "stream",
     "text": [
      "     91/100         3G      0.627     0.5006       1.17         16        640: 100%|██████████| 421/421 [01:40<00:00,  4.18it/s]\n",
      "                 Class     Images  Instances      Box(P          R      mAP50  mAP50-95): 100%|██████████| 40/40 [00:07<00:00,  5.42it/s]"
     ]
    },
    {
     "name": "stdout",
     "output_type": "stream",
     "text": [
      "                   all        636       2336      0.669      0.568      0.611      0.427\n"
     ]
    },
    {
     "name": "stderr",
     "output_type": "stream",
     "text": [
      "\n"
     ]
    },
    {
     "name": "stdout",
     "output_type": "stream",
     "text": [
      "\n",
      "      Epoch    GPU_mem   box_loss   cls_loss   dfl_loss  Instances       Size\n"
     ]
    },
    {
     "name": "stderr",
     "output_type": "stream",
     "text": [
      "     92/100      3.02G     0.6132     0.4805      1.164         11        640: 100%|██████████| 421/421 [01:40<00:00,  4.20it/s]\n",
      "                 Class     Images  Instances      Box(P          R      mAP50  mAP50-95): 100%|██████████| 40/40 [00:07<00:00,  5.41it/s]"
     ]
    },
    {
     "name": "stdout",
     "output_type": "stream",
     "text": [
      "                   all        636       2336       0.68      0.554      0.606      0.423\n"
     ]
    },
    {
     "name": "stderr",
     "output_type": "stream",
     "text": [
      "\n"
     ]
    },
    {
     "name": "stdout",
     "output_type": "stream",
     "text": [
      "\n",
      "      Epoch    GPU_mem   box_loss   cls_loss   dfl_loss  Instances       Size\n"
     ]
    },
    {
     "name": "stderr",
     "output_type": "stream",
     "text": [
      "     93/100      3.01G     0.6145      0.469      1.165         13        640: 100%|██████████| 421/421 [01:40<00:00,  4.18it/s]\n",
      "                 Class     Images  Instances      Box(P          R      mAP50  mAP50-95): 100%|██████████| 40/40 [00:07<00:00,  5.50it/s]\n"
     ]
    },
    {
     "name": "stdout",
     "output_type": "stream",
     "text": [
      "                   all        636       2336      0.651      0.562      0.604      0.422\n",
      "\n",
      "      Epoch    GPU_mem   box_loss   cls_loss   dfl_loss  Instances       Size\n"
     ]
    },
    {
     "name": "stderr",
     "output_type": "stream",
     "text": [
      "     94/100      2.98G     0.6167     0.4735      1.164         19        640: 100%|██████████| 421/421 [01:39<00:00,  4.22it/s]\n",
      "                 Class     Images  Instances      Box(P          R      mAP50  mAP50-95): 100%|██████████| 40/40 [00:07<00:00,  5.52it/s]"
     ]
    },
    {
     "name": "stdout",
     "output_type": "stream",
     "text": [
      "                   all        636       2336      0.695      0.555      0.612      0.426\n"
     ]
    },
    {
     "name": "stderr",
     "output_type": "stream",
     "text": [
      "\n"
     ]
    },
    {
     "name": "stdout",
     "output_type": "stream",
     "text": [
      "\n",
      "      Epoch    GPU_mem   box_loss   cls_loss   dfl_loss  Instances       Size\n"
     ]
    },
    {
     "name": "stderr",
     "output_type": "stream",
     "text": [
      "     95/100      3.01G     0.6154     0.4688      1.159          7        640: 100%|██████████| 421/421 [01:39<00:00,  4.22it/s]\n",
      "                 Class     Images  Instances      Box(P          R      mAP50  mAP50-95): 100%|██████████| 40/40 [00:07<00:00,  5.57it/s]"
     ]
    },
    {
     "name": "stdout",
     "output_type": "stream",
     "text": [
      "                   all        636       2336      0.661      0.569       0.61      0.426\n"
     ]
    },
    {
     "name": "stderr",
     "output_type": "stream",
     "text": [
      "\n"
     ]
    },
    {
     "name": "stdout",
     "output_type": "stream",
     "text": [
      "\n",
      "      Epoch    GPU_mem   box_loss   cls_loss   dfl_loss  Instances       Size\n"
     ]
    },
    {
     "name": "stderr",
     "output_type": "stream",
     "text": [
      "     96/100      3.03G      0.604     0.4507      1.157          4        640: 100%|██████████| 421/421 [01:39<00:00,  4.22it/s]\n",
      "                 Class     Images  Instances      Box(P          R      mAP50  mAP50-95): 100%|██████████| 40/40 [00:07<00:00,  5.60it/s]"
     ]
    },
    {
     "name": "stdout",
     "output_type": "stream",
     "text": [
      "                   all        636       2336      0.654      0.583      0.612      0.426\n"
     ]
    },
    {
     "name": "stderr",
     "output_type": "stream",
     "text": [
      "\n"
     ]
    },
    {
     "name": "stdout",
     "output_type": "stream",
     "text": [
      "\n",
      "      Epoch    GPU_mem   box_loss   cls_loss   dfl_loss  Instances       Size\n"
     ]
    },
    {
     "name": "stderr",
     "output_type": "stream",
     "text": [
      "     97/100      3.01G     0.5926     0.4479      1.142         13        640: 100%|██████████| 421/421 [01:39<00:00,  4.23it/s]\n",
      "                 Class     Images  Instances      Box(P          R      mAP50  mAP50-95): 100%|██████████| 40/40 [00:07<00:00,  5.49it/s]"
     ]
    },
    {
     "name": "stdout",
     "output_type": "stream",
     "text": [
      "                   all        636       2336      0.645      0.587       0.61      0.426\n"
     ]
    },
    {
     "name": "stderr",
     "output_type": "stream",
     "text": [
      "\n"
     ]
    },
    {
     "name": "stdout",
     "output_type": "stream",
     "text": [
      "\n",
      "      Epoch    GPU_mem   box_loss   cls_loss   dfl_loss  Instances       Size\n"
     ]
    },
    {
     "name": "stderr",
     "output_type": "stream",
     "text": [
      "     98/100         3G     0.5958     0.4448      1.148          6        640: 100%|██████████| 421/421 [01:40<00:00,  4.19it/s]\n",
      "                 Class     Images  Instances      Box(P          R      mAP50  mAP50-95): 100%|██████████| 40/40 [00:07<00:00,  5.50it/s]"
     ]
    },
    {
     "name": "stdout",
     "output_type": "stream",
     "text": [
      "                   all        636       2336      0.666      0.562      0.609      0.428\n"
     ]
    },
    {
     "name": "stderr",
     "output_type": "stream",
     "text": [
      "\n"
     ]
    },
    {
     "name": "stdout",
     "output_type": "stream",
     "text": [
      "\n",
      "      Epoch    GPU_mem   box_loss   cls_loss   dfl_loss  Instances       Size\n"
     ]
    },
    {
     "name": "stderr",
     "output_type": "stream",
     "text": [
      "     99/100      3.01G     0.5988     0.4398      1.146         14        640: 100%|██████████| 421/421 [01:40<00:00,  4.19it/s]\n",
      "                 Class     Images  Instances      Box(P          R      mAP50  mAP50-95): 100%|██████████| 40/40 [00:07<00:00,  5.59it/s]"
     ]
    },
    {
     "name": "stdout",
     "output_type": "stream",
     "text": [
      "                   all        636       2336      0.686       0.56      0.609      0.427\n"
     ]
    },
    {
     "name": "stderr",
     "output_type": "stream",
     "text": [
      "\n"
     ]
    },
    {
     "name": "stdout",
     "output_type": "stream",
     "text": [
      "\n",
      "      Epoch    GPU_mem   box_loss   cls_loss   dfl_loss  Instances       Size\n"
     ]
    },
    {
     "name": "stderr",
     "output_type": "stream",
     "text": [
      "    100/100         3G     0.5904     0.4335      1.141         20        640: 100%|██████████| 421/421 [01:39<00:00,  4.23it/s]\n",
      "                 Class     Images  Instances      Box(P          R      mAP50  mAP50-95): 100%|██████████| 40/40 [00:07<00:00,  5.27it/s]"
     ]
    },
    {
     "name": "stdout",
     "output_type": "stream",
     "text": [
      "                   all        636       2336      0.709      0.543       0.61      0.428\n"
     ]
    },
    {
     "name": "stderr",
     "output_type": "stream",
     "text": [
      "\n"
     ]
    },
    {
     "name": "stdout",
     "output_type": "stream",
     "text": [
      "\n",
      "100 epochs completed in 3.059 hours.\n",
      "Optimizer stripped from runs\\detect\\train2\\weights\\last.pt, 15.3MB\n",
      "Optimizer stripped from runs\\detect\\train2\\weights\\best.pt, 15.3MB\n",
      "\n",
      "Validating runs\\detect\\train2\\weights\\best.pt...\n",
      "Ultralytics YOLOv8.2.58  Python-3.11.8 torch-2.3.0+cu118 CUDA:0 (NVIDIA GeForce RTX 3060 Laptop GPU, 6144MiB)\n",
      "YOLOv9s summary (fused): 486 layers, 7,190,695 parameters, 0 gradients, 26.9 GFLOPs\n"
     ]
    },
    {
     "name": "stderr",
     "output_type": "stream",
     "text": [
      "                 Class     Images  Instances      Box(P          R      mAP50  mAP50-95): 100%|██████████| 40/40 [00:07<00:00,  5.57it/s]\n"
     ]
    },
    {
     "name": "stdout",
     "output_type": "stream",
     "text": [
      "                   all        636       2336      0.645      0.591      0.621      0.432\n",
      "                 Apple         13         75      0.532      0.107      0.224      0.152\n",
      "                Banana         13         46      0.566      0.369      0.478      0.318\n",
      "              Beetroot         14         57      0.589      0.667      0.618      0.297\n",
      "           Bell pepper         24        108      0.741       0.62      0.626      0.423\n",
      "          Black pepper         15         23      0.482      0.565      0.558      0.454\n",
      "                 Bread         10         20      0.673        0.8      0.847      0.636\n",
      "                   Bun         10         41       0.88      0.878       0.94      0.792\n",
      "                Butter          2          3      0.432      0.333      0.344      0.207\n",
      "               Cabbage         11         27      0.619      0.778      0.652      0.405\n",
      "              Cardamom         13         41      0.757       0.39      0.501      0.382\n",
      "                Carrot         13         70      0.565      0.571      0.589       0.28\n",
      "               Catfish         13         24      0.799      0.542      0.606      0.466\n",
      "           Cauliflower         13         17      0.837      0.941      0.979       0.72\n",
      "                Cheese          7         28       0.52      0.465       0.52      0.318\n",
      "               Chicken         11         22      0.553      0.591       0.62       0.45\n",
      "         Chilli Pepper         36        189      0.763      0.566      0.675      0.403\n",
      "              Cinnamon         12        105      0.741      0.655      0.725      0.602\n",
      "             Coriander          5          7      0.388      0.111      0.225      0.111\n",
      "                  Corn         11         40      0.666        0.5      0.605      0.334\n",
      "              Crawfish         12         21      0.737      0.535      0.635      0.491\n",
      "              Cucumber         14         72      0.713      0.792      0.833      0.519\n",
      "                   Egg          8         51      0.725      0.431      0.474      0.416\n",
      "              Eggplant         15         49      0.862      0.918      0.939      0.534\n",
      "                Garlic         18        100      0.757       0.74       0.76      0.384\n",
      "                Ginger         12         18      0.765      0.778      0.837      0.643\n",
      "                Grapes         14         41      0.595      0.466      0.574      0.331\n",
      "              Jalepeno         17         96      0.661      0.811      0.736      0.439\n",
      "               Lettuce         14         22       0.64      0.889      0.827      0.536\n",
      "               Lobster         12         41      0.592      0.537      0.513       0.34\n",
      "              Mackerel         11         35      0.792      0.545      0.693      0.585\n",
      "                 Mango         13         61      0.685      0.639      0.651      0.422\n",
      "                 Onion         15         39      0.797      0.769      0.855      0.572\n",
      "                Orange         11         28      0.722      0.558      0.742      0.544\n",
      "               Paprika          6         13      0.689      0.385      0.469      0.313\n",
      "                  Peas         16        103      0.259      0.377      0.205     0.0858\n",
      "             Pineapple         16         41      0.771      0.756      0.779       0.63\n",
      "           Pomegranate         14         38      0.683      0.681      0.733      0.636\n",
      "                  Pork         11         26      0.555        0.5      0.569      0.402\n",
      "                Potato         13         63      0.444      0.698      0.574      0.524\n",
      "                Radish          4         13      0.467      0.692      0.573      0.351\n",
      "            Soya Beans         13         21      0.753      0.725      0.785      0.532\n",
      "          Spring onion          3          4          1          0      0.263     0.0263\n",
      "                 Thyme          3          3      0.503      0.667      0.736       0.44\n",
      "                Tomato         17        108       0.66      0.704      0.632       0.57\n",
      "            Watermelon         15         63      0.853      0.825      0.921      0.818\n",
      "                 clove         14         17      0.744      0.882      0.852      0.722\n",
      "                  duck         13         15      0.693        0.6      0.658      0.487\n",
      "                 lemon         17         47      0.668      0.596      0.638      0.455\n",
      "                  paer         15         37      0.822      0.838      0.824      0.397\n",
      "               raddish          1          1          0          0          0          0\n",
      "               spinach         17         77      0.484      0.403      0.329      0.251\n",
      "          sweet potato         10         29      0.362      0.552      0.365      0.319\n",
      "Speed: 0.2ms preprocess, 5.2ms inference, 0.0ms loss, 1.3ms postprocess per image\n",
      "Results saved to \u001b[1mruns\\detect\\train2\u001b[0m\n",
      "\n",
      "image 1/316 c:\\Users\\hxxzi\\Desktop\\GitHub\\final-project\\8\\data\\3\\test\\images\\1000_F_218030921_YpdJ0eInLefviJy3jYrNd2IiJwFq4BwS_jpg.rf.ec705d9fd37cab6b00c6123787eb47fb.jpg: 640x640 1 Cinnamon, 1 Lobster, 62.3ms\n",
      "image 2/316 c:\\Users\\hxxzi\\Desktop\\GitHub\\final-project\\8\\data\\3\\test\\images\\1000_F_533541994_fghnGqtJgr8Xv07s8Zc8xGR7Qbf2CQmU_jpg.rf.04761b642a2d1b42a9f6a44e493dc026.jpg: 640x640 6 Black peppers, 2 Catfishs, 1 Coriander, 3 Rosemarys, 2 lemons, 56.2ms\n",
      "image 3/316 c:\\Users\\hxxzi\\Desktop\\GitHub\\final-project\\8\\data\\3\\test\\images\\100322799-lobsters-for-sale-on-ice-at-market_jpg.rf.947f8e544058933829b01a655788649e.jpg: 640x640 5 Lobsters, 51.9ms\n",
      "image 4/316 c:\\Users\\hxxzi\\Desktop\\GitHub\\final-project\\8\\data\\3\\test\\images\\1200px-Sesame_seed_hamburger_buns_jpg.rf.ff2fdc888e1ac47d468276022a44d555.jpg: 640x640 7 Buns, 53.2ms\n",
      "image 5/316 c:\\Users\\hxxzi\\Desktop\\GitHub\\final-project\\8\\data\\3\\test\\images\\20230630_124424-scaled_jpg.rf.a8d14182cc3120f9b0e0924b6827f963.jpg: 640x640 16 Cinnamons, 42.4ms\n",
      "image 6/316 c:\\Users\\hxxzi\\Desktop\\GitHub\\final-project\\8\\data\\3\\test\\images\\254478-homemade-mozzarella-cheese-DDMFS-4x3-ed982c4254fe4d86bc38df6381729673_jpg.rf.db785f6cf7cbc0340687658baacbf28d.jpg: 640x640 1 Cheese, 45.9ms\n",
      "image 7/316 c:\\Users\\hxxzi\\Desktop\\GitHub\\final-project\\8\\data\\3\\test\\images\\360_F_388186777_wcZn2jg3JI5UmWjD8jD3vtPQAvXQ0pmm_jpg.rf.a1811d2105fa04d9d7e56cc999194c8a.jpg: 640x640 2 Mackerels, 43.0ms\n",
      "image 8/316 c:\\Users\\hxxzi\\Desktop\\GitHub\\final-project\\8\\data\\3\\test\\images\\40087523_2-fresho-sweet-bun-safe-preservative-free_jpg.rf.cfbd868963b8b5920e8ec9cee8339d75.jpg: 640x640 3 Buns, 1 sweet potato, 38.3ms\n",
      "image 9/316 c:\\Users\\hxxzi\\Desktop\\GitHub\\final-project\\8\\data\\3\\test\\images\\41Gta1uLxsL-_AC_UF1000-1000_QL80__jpg.rf.8e30bd29a3565dd188efc84316119c24.jpg: 640x640 10 Cinnamons, 38.3ms\n",
      "image 10/316 c:\\Users\\hxxzi\\Desktop\\GitHub\\final-project\\8\\data\\3\\test\\images\\4270_jpg.rf.6dc358b7ac88f1b38f6421078b2f8e0e.jpg: 640x640 3 Lobsters, 38.1ms\n",
      "image 11/316 c:\\Users\\hxxzi\\Desktop\\GitHub\\final-project\\8\\data\\3\\test\\images\\6-1_jpg.rf.1a0a0a17806042a8a5ebe775608ef047.jpg: 640x640 2 Black peppers, 59.3ms\n",
      "image 12/316 c:\\Users\\hxxzi\\Desktop\\GitHub\\final-project\\8\\data\\3\\test\\images\\61I00g400ML_jpg.rf.864d7fbf8c3c25313796ed7265e2e577.jpg: 640x640 1 Lobster, 54.1ms\n",
      "image 13/316 c:\\Users\\hxxzi\\Desktop\\GitHub\\final-project\\8\\data\\3\\test\\images\\63745ccdb1413658dc2447c2-catfish-fillet-blue_jpg.rf.e64d3ea08e996b53f0dd6a44277e2a8a.jpg: 640x640 1 Rosemary, 1 lemon, 58.5ms\n",
      "image 14/316 c:\\Users\\hxxzi\\Desktop\\GitHub\\final-project\\8\\data\\3\\test\\images\\6mm-coorg-green-cardamom_jpg.rf.3826cd05c827db81b923673e834f6551.jpg: 640x640 1 Cardamom, 36.1ms\n",
      "image 15/316 c:\\Users\\hxxzi\\Desktop\\GitHub\\final-project\\8\\data\\3\\test\\images\\71HIfMxoG-L_jpg.rf.cc4c274b5709b4e808d42bd5fb56c06c.jpg: 640x640 1 Cardamom, 42.4ms\n",
      "image 16/316 c:\\Users\\hxxzi\\Desktop\\GitHub\\final-project\\8\\data\\3\\test\\images\\8-Unmissable-Health-Benefits-of-Cloves-or-Laung-and-How-to-Use-It_jpg.rf.ee9505908f3338167f4461e89ab6afb1.jpg: 640x640 2 cloves, 27.7ms\n",
      "image 17/316 c:\\Users\\hxxzi\\Desktop\\GitHub\\final-project\\8\\data\\3\\test\\images\\8mm-premium-green-cardamom-500x500_jpg.rf.b4002eaf68295f7bf75b0205f09922ee.jpg: 640x640 1 Cardamom, 36.5ms\n",
      "image 18/316 c:\\Users\\hxxzi\\Desktop\\GitHub\\final-project\\8\\data\\3\\test\\images\\AmazonImages3_3_png.rf.0521a8be67828ac1c6fc3531e062876b.jpg: 640x640 1 clove, 58.0ms\n",
      "image 19/316 c:\\Users\\hxxzi\\Desktop\\GitHub\\final-project\\8\\data\\3\\test\\images\\Black-Pepper-1_jpg.rf.e5434cb36e9bb58d9bb7d3a0683d5355.jpg: 640x640 6 Black peppers, 45.9ms\n",
      "image 20/316 c:\\Users\\hxxzi\\Desktop\\GitHub\\final-project\\8\\data\\3\\test\\images\\CrawfishPot_jpg.rf.947f3999d77057723fac7c2101e8353f.jpg: 640x640 1 Crawfish, 48.0ms\n",
      "image 21/316 c:\\Users\\hxxzi\\Desktop\\GitHub\\final-project\\8\\data\\3\\test\\images\\DrAxeCinnamonBenefitsThumbnail_jpg.rf.81c5f03d3c93d137928d4bf4ff5a3998.jpg: 640x640 3 Cinnamons, 39.0ms\n",
      "image 22/316 c:\\Users\\hxxzi\\Desktop\\GitHub\\final-project\\8\\data\\3\\test\\images\\Duck-breast-raw_jpg.rf.9e23f6436696a5d952f2bba4ef63da12.jpg: 640x640 2 ducks, 25.2ms\n",
      "image 23/316 c:\\Users\\hxxzi\\Desktop\\GitHub\\final-project\\8\\data\\3\\test\\images\\Facebook_SaigonCinnamon_jpg.rf.9681f7971f61c18287989f9e4a84082a.jpg: 640x640 3 Cinnamons, 24.9ms\n",
      "image 24/316 c:\\Users\\hxxzi\\Desktop\\GitHub\\final-project\\8\\data\\3\\test\\images\\GettyImages-1068570034-177f4f5555934e519b0471912105fdb6_jpg.rf.676f887c0a12626e4436b4b19732eb2e.jpg: 640x640 1 clove, 27.5ms\n",
      "image 25/316 c:\\Users\\hxxzi\\Desktop\\GitHub\\final-project\\8\\data\\3\\test\\images\\GettyImages-1144769011-28ed184dd64e4f56813b91f6c6ca5eef_jpg.rf.23c8c75741a63614f7fb7542ce6adb31.jpg: 640x640 4 cloves, 29.0ms\n",
      "image 26/316 c:\\Users\\hxxzi\\Desktop\\GitHub\\final-project\\8\\data\\3\\test\\images\\Green-Cardamom_5e400f93-4372-4a2d-aec1-64c6cc75b105_jpg.rf.eb25ab2479f36455556acaa47d396550.jpg: 640x640 1 Black pepper, 2 Cardamoms, 1 Cinnamon, 16.7ms\n",
      "image 27/316 c:\\Users\\hxxzi\\Desktop\\GitHub\\final-project\\8\\data\\3\\test\\images\\Harvest-Select-Fillet-Chef_jpg.rf.5c95d0da817c90edc7e8198aa47ee52a.jpg: 640x640 2 Catfishs, 24.2ms\n",
      "image 28/316 c:\\Users\\hxxzi\\Desktop\\GitHub\\final-project\\8\\data\\3\\test\\images\\Homemade-White-Bread-large-6-480x360_jpg.rf.98aafbb33dc4dcd3393c3ac560db7364.jpg: 640x640 1 Bread, 29.0ms\n",
      "image 29/316 c:\\Users\\hxxzi\\Desktop\\GitHub\\final-project\\8\\data\\3\\test\\images\\Image_100_jpeg.rf.676cf5e33fc856ecb456258e9a5f309b.jpg: 640x640 1 Lettuce, 35.7ms\n",
      "image 30/316 c:\\Users\\hxxzi\\Desktop\\GitHub\\final-project\\8\\data\\3\\test\\images\\Image_100_jpg.rf.25b476a31c8d68907ee6320c31dd2130.jpg: 640x640 8 Jalepenos, 29.1ms\n",
      "image 31/316 c:\\Users\\hxxzi\\Desktop\\GitHub\\final-project\\8\\data\\3\\test\\images\\Image_100_jpg.rf.3f2fac078fdb4e55719828c9ff0be8e9.jpg: 640x640 1 Ginger, 24.8ms\n",
      "image 32/316 c:\\Users\\hxxzi\\Desktop\\GitHub\\final-project\\8\\data\\3\\test\\images\\Image_10_jpg.rf.29d25ab99b588d9b1d5a6189654066d2.jpg: 640x640 2 Eggplants, 29.1ms\n",
      "image 33/316 c:\\Users\\hxxzi\\Desktop\\GitHub\\final-project\\8\\data\\3\\test\\images\\Image_10_jpg.rf.5fdad7c33f55a00f905cbd9343e18b6e.jpg: 640x640 2 Pineapples, 25.0ms\n",
      "image 34/316 c:\\Users\\hxxzi\\Desktop\\GitHub\\final-project\\8\\data\\3\\test\\images\\Image_11_jpg.rf.b0819a8eb5bb3622904da2c0dee80f1b.jpg: 640x640 1 Cabbage, 25.0ms\n",
      "image 35/316 c:\\Users\\hxxzi\\Desktop\\GitHub\\final-project\\8\\data\\3\\test\\images\\Image_11_jpg.rf.b27d876673a238f2b0233c1b7a2608e2.jpg: 640x640 11 Chilli Peppers, 1 Jalepeno, 23.7ms\n",
      "image 36/316 c:\\Users\\hxxzi\\Desktop\\GitHub\\final-project\\8\\data\\3\\test\\images\\Image_11_jpg.rf.be08abcc359263432d405defce98c3e5.jpg: 640x640 7 Garlics, 27.4ms\n",
      "image 37/316 c:\\Users\\hxxzi\\Desktop\\GitHub\\final-project\\8\\data\\3\\test\\images\\Image_12_jpg.rf.7e1c488a4466fffc7a7693182b18f6eb.jpg: 640x640 4 Corns, 25.0ms\n",
      "image 38/316 c:\\Users\\hxxzi\\Desktop\\GitHub\\final-project\\8\\data\\3\\test\\images\\Image_12_jpg.rf.d0577a8d318ac960bda0d6644268c003.jpg: 640x640 1 Mango, 13 Oranges, 1 lemon, 27.5ms\n",
      "image 39/316 c:\\Users\\hxxzi\\Desktop\\GitHub\\final-project\\8\\data\\3\\test\\images\\Image_12_jpg.rf.e01972f0986091e684a2446c2b9ed1f3.jpg: 640x640 5 Garlics, 26.1ms\n",
      "image 40/316 c:\\Users\\hxxzi\\Desktop\\GitHub\\final-project\\8\\data\\3\\test\\images\\Image_13_jpg.rf.06ae0ade4a8b280ecded9c865a41b7aa.jpg: 640x640 10 Chilli Peppers, 29.2ms\n",
      "image 41/316 c:\\Users\\hxxzi\\Desktop\\GitHub\\final-project\\8\\data\\3\\test\\images\\Image_13_jpg.rf.104a546431056b06ee531ef9fa82bf19.jpg: 640x640 2 lemons, 26.7ms\n",
      "image 42/316 c:\\Users\\hxxzi\\Desktop\\GitHub\\final-project\\8\\data\\3\\test\\images\\Image_13_jpg.rf.26931b5f14f52c81b6f8dab62f54bd71.jpg: 640x640 16 Potatos, 26.3ms\n",
      "image 43/316 c:\\Users\\hxxzi\\Desktop\\GitHub\\final-project\\8\\data\\3\\test\\images\\Image_13_jpg.rf.5238596744539d87f3160954221b2a67.jpg: 640x640 1 Cauliflower, 26.1ms\n",
      "image 44/316 c:\\Users\\hxxzi\\Desktop\\GitHub\\final-project\\8\\data\\3\\test\\images\\Image_14_jpg.rf.4345d9f4cb378ae9c4c209ad9913a359.jpg: 640x640 6 Cucumbers, 32.5ms\n",
      "image 45/316 c:\\Users\\hxxzi\\Desktop\\GitHub\\final-project\\8\\data\\3\\test\\images\\Image_14_jpg.rf.554f54f8a87b3fc55d484ff02fe7d59d.jpg: 640x640 2 paers, 27.9ms\n",
      "image 46/316 c:\\Users\\hxxzi\\Desktop\\GitHub\\final-project\\8\\data\\3\\test\\images\\Image_14_jpg.rf.791f1f48137337ac65ef7c2f70b8e778.jpg: 640x640 16 Chilli Peppers, 18.2ms\n",
      "image 47/316 c:\\Users\\hxxzi\\Desktop\\GitHub\\final-project\\8\\data\\3\\test\\images\\Image_14_jpg.rf.8618fdcdad56e1d173608fc7503e38f6.jpg: 640x640 4 Corns, 29.7ms\n",
      "image 48/316 c:\\Users\\hxxzi\\Desktop\\GitHub\\final-project\\8\\data\\3\\test\\images\\Image_14_jpg.rf.e2a2fe8431b139870b041c8513d28292.jpg: 640x640 10 Peass, 28.9ms\n",
      "image 49/316 c:\\Users\\hxxzi\\Desktop\\GitHub\\final-project\\8\\data\\3\\test\\images\\Image_15_jpg.rf.64fc9f5a538b26a27e41e7a5029d7d69.jpg: 640x640 16 Chilli Peppers, 30.9ms\n",
      "image 50/316 c:\\Users\\hxxzi\\Desktop\\GitHub\\final-project\\8\\data\\3\\test\\images\\Image_15_jpg.rf.e802675b1457380ad410cef0ca582e5c.jpg: 640x640 5 Bell peppers, 29.1ms\n",
      "image 51/316 c:\\Users\\hxxzi\\Desktop\\GitHub\\final-project\\8\\data\\3\\test\\images\\Image_16_jpg.rf.06eddfcc300cd17232cae49b6affa812.jpg: 640x640 3 Cucumbers, 25.0ms\n",
      "image 52/316 c:\\Users\\hxxzi\\Desktop\\GitHub\\final-project\\8\\data\\3\\test\\images\\Image_16_jpg.rf.2b25161ec6f3db9c27fe361bb599979c.jpg: 640x640 6 Oranges, 23.2ms\n",
      "image 53/316 c:\\Users\\hxxzi\\Desktop\\GitHub\\final-project\\8\\data\\3\\test\\images\\Image_16_jpg.rf.66320ebb4f54aecf1dbf7576ee625c26.jpg: 640x640 5 Onions, 29.1ms\n",
      "image 54/316 c:\\Users\\hxxzi\\Desktop\\GitHub\\final-project\\8\\data\\3\\test\\images\\Image_16_jpg.rf.c465bb1e78ed7b40a63731f2c0da891f.jpg: 640x640 1 Paprika, 29.1ms\n",
      "image 55/316 c:\\Users\\hxxzi\\Desktop\\GitHub\\final-project\\8\\data\\3\\test\\images\\Image_16_jpg.rf.e719e7a0fd19ceaf127dd36407013303.jpg: 640x640 3 Soya Beanss, 23.3ms\n",
      "image 56/316 c:\\Users\\hxxzi\\Desktop\\GitHub\\final-project\\8\\data\\3\\test\\images\\Image_17_jpg.rf.28232a296156dc1188213ad1053ad3de.jpg: 640x640 3 Pomegranates, 24.3ms\n",
      "image 57/316 c:\\Users\\hxxzi\\Desktop\\GitHub\\final-project\\8\\data\\3\\test\\images\\Image_17_jpg.rf.9d0e07e08588c4aa7ef9d245a0c9ea0e.jpg: 640x640 2 Chilli Peppers, 29.9ms\n",
      "image 58/316 c:\\Users\\hxxzi\\Desktop\\GitHub\\final-project\\8\\data\\3\\test\\images\\Image_17_jpg.rf.bd9b74575f2c937fdca13bab79e3ab18.jpg: 640x640 3 paers, 25.4ms\n",
      "image 59/316 c:\\Users\\hxxzi\\Desktop\\GitHub\\final-project\\8\\data\\3\\test\\images\\Image_18_jpg.rf.58c1b61ca2d7564c97f4eb7facf712c8.jpg: 640x640 11 Chilli Peppers, 45.7ms\n",
      "image 60/316 c:\\Users\\hxxzi\\Desktop\\GitHub\\final-project\\8\\data\\3\\test\\images\\Image_18_jpg.rf.91d251095472f8351e559befffebbcbe.jpg: 640x640 1 Cauliflower, 49.6ms\n",
      "image 61/316 c:\\Users\\hxxzi\\Desktop\\GitHub\\final-project\\8\\data\\3\\test\\images\\Image_18_jpg.rf.c3b9ea826f7d6133752ecec59e2c8ccc.jpg: 640x640 3 spinachs, 25.4ms\n",
      "image 62/316 c:\\Users\\hxxzi\\Desktop\\GitHub\\final-project\\8\\data\\3\\test\\images\\Image_19_jpg.rf.c93e6e3d68a72af129f2e8fff98fc16f.jpg: 640x640 2 Gingers, 20.9ms\n",
      "image 63/316 c:\\Users\\hxxzi\\Desktop\\GitHub\\final-project\\8\\data\\3\\test\\images\\Image_1_jpg.rf.2f49cfa6e1e97fd0088f1f506f9f9b0e.jpg: 640x640 4 Bell peppers, 26.6ms\n",
      "image 64/316 c:\\Users\\hxxzi\\Desktop\\GitHub\\final-project\\8\\data\\3\\test\\images\\Image_1_jpg.rf.a6050e32842de3f523e3362dc26026eb.jpg: 640x640 2 Chilli Peppers, 26.1ms\n",
      "image 65/316 c:\\Users\\hxxzi\\Desktop\\GitHub\\final-project\\8\\data\\3\\test\\images\\Image_1_jpg.rf.b35df8c1e0d2a30f3c008175b1f34149.jpg: 640x640 2 spinachs, 39.0ms\n",
      "image 66/316 c:\\Users\\hxxzi\\Desktop\\GitHub\\final-project\\8\\data\\3\\test\\images\\Image_20_jpg.rf.402c3147777a4eb369211fce07da8d3a.jpg: 640x640 2 Watermelons, 35.2ms\n",
      "image 67/316 c:\\Users\\hxxzi\\Desktop\\GitHub\\final-project\\8\\data\\3\\test\\images\\Image_21_jpg.rf.80246a79c76b906a90ded02a1422fd82.jpg: 640x640 2 Cucumbers, 29.3ms\n",
      "image 68/316 c:\\Users\\hxxzi\\Desktop\\GitHub\\final-project\\8\\data\\3\\test\\images\\Image_22_jpg.rf.11d5cdc4efe872066e69396d4dafc7a3.jpg: 640x640 1 Cabbage, 33.4ms\n",
      "image 69/316 c:\\Users\\hxxzi\\Desktop\\GitHub\\final-project\\8\\data\\3\\test\\images\\Image_22_jpg.rf.7e39afd6a1ad4b5e928ec60734ba1b03.jpg: 640x640 (no detections), 29.4ms\n",
      "image 70/316 c:\\Users\\hxxzi\\Desktop\\GitHub\\final-project\\8\\data\\3\\test\\images\\Image_22_jpg.rf.e79cc909e70837be4e78f997c502390e.jpg: 640x640 2 Oranges, 24.8ms\n",
      "image 71/316 c:\\Users\\hxxzi\\Desktop\\GitHub\\final-project\\8\\data\\3\\test\\images\\Image_22_jpg.rf.f92c1640e27b7e36f8eae5b207ff69c8.jpg: 640x640 4 Chilli Peppers, 29.9ms\n",
      "image 72/316 c:\\Users\\hxxzi\\Desktop\\GitHub\\final-project\\8\\data\\3\\test\\images\\Image_23_jpg.rf.8281fdf258543dce5f0ef4d194517fe1.jpg: 640x640 (no detections), 36.9ms\n",
      "image 73/316 c:\\Users\\hxxzi\\Desktop\\GitHub\\final-project\\8\\data\\3\\test\\images\\Image_24_jpg.rf.c47e293f18053e4e2615bdd70250598e.jpg: 640x640 4 Tomatos, 37.3ms\n",
      "image 74/316 c:\\Users\\hxxzi\\Desktop\\GitHub\\final-project\\8\\data\\3\\test\\images\\Image_24_png.rf.342811d65c6040e831ea09899b7e84a0.jpg: 640x640 1 Pineapple, 45.9ms\n",
      "image 75/316 c:\\Users\\hxxzi\\Desktop\\GitHub\\final-project\\8\\data\\3\\test\\images\\Image_25_jpeg.rf.a5191f17daf93f54fba9542230631650.jpg: 640x640 5 Grapess, 45.5ms\n",
      "image 76/316 c:\\Users\\hxxzi\\Desktop\\GitHub\\final-project\\8\\data\\3\\test\\images\\Image_25_jpg.rf.2674ce54e5c42c5e9771557876ab3123.jpg: 640x640 3 sweet potatos, 29.1ms\n",
      "image 77/316 c:\\Users\\hxxzi\\Desktop\\GitHub\\final-project\\8\\data\\3\\test\\images\\Image_25_jpg.rf.4c1e5669024808681a00f56d8233d34b.jpg: 640x640 1 Orange, 22.9ms\n",
      "image 78/316 c:\\Users\\hxxzi\\Desktop\\GitHub\\final-project\\8\\data\\3\\test\\images\\Image_25_jpg.rf.adbd60d66f3d6eec944b1d9530b483f5.jpg: 640x640 1 Banana, 1 Radish, 39.1ms\n",
      "image 79/316 c:\\Users\\hxxzi\\Desktop\\GitHub\\final-project\\8\\data\\3\\test\\images\\Image_25_jpg.rf.d2a7fd8cb24925f0be70469d91b75c6f.jpg: 640x640 1 Tomato, 30.4ms\n",
      "image 80/316 c:\\Users\\hxxzi\\Desktop\\GitHub\\final-project\\8\\data\\3\\test\\images\\Image_26_jpg.rf.99026105d424eacce81397d69921c879.jpg: 640x640 3 Cauliflowers, 33.1ms\n",
      "image 81/316 c:\\Users\\hxxzi\\Desktop\\GitHub\\final-project\\8\\data\\3\\test\\images\\Image_26_png.rf.98bba69fcc04b88ca0ca67f70a467db5.jpg: 640x640 1 Eggplant, 25.2ms\n",
      "image 82/316 c:\\Users\\hxxzi\\Desktop\\GitHub\\final-project\\8\\data\\3\\test\\images\\Image_27_jpg.rf.5b9114adfab8a89a481020f56bcd18b8.jpg: 640x640 1 spinach, 24.7ms\n",
      "image 83/316 c:\\Users\\hxxzi\\Desktop\\GitHub\\final-project\\8\\data\\3\\test\\images\\Image_27_jpg.rf.a5994d955255032248ddb0f3824cea0f.jpg: 640x640 2 Onions, 29.5ms\n",
      "image 84/316 c:\\Users\\hxxzi\\Desktop\\GitHub\\final-project\\8\\data\\3\\test\\images\\Image_27_jpg.rf.d961aecd266721ec3770ea805f1a9a5c.jpg: 640x640 20 Garlics, 41.5ms\n",
      "image 85/316 c:\\Users\\hxxzi\\Desktop\\GitHub\\final-project\\8\\data\\3\\test\\images\\Image_28_jpg.rf.0f7774a5ded92dbca356b393e2231a68.jpg: 640x640 1 Corn, 24.7ms\n",
      "image 86/316 c:\\Users\\hxxzi\\Desktop\\GitHub\\final-project\\8\\data\\3\\test\\images\\Image_28_jpg.rf.a3d9fd82081d54a51470c6d5dcfa4fb1.jpg: 640x640 1 Chilli Pepper, 2 Jalepenos, 24.9ms\n",
      "image 87/316 c:\\Users\\hxxzi\\Desktop\\GitHub\\final-project\\8\\data\\3\\test\\images\\Image_28_jpg.rf.b72430f319e789b14da11870d2716283.jpg: 640x640 3 Beetroots, 36.3ms\n",
      "image 88/316 c:\\Users\\hxxzi\\Desktop\\GitHub\\final-project\\8\\data\\3\\test\\images\\Image_29_jpeg.rf.d26aeb70425f054b89b01a15686422cd.jpg: 640x640 3 lemons, 24.8ms\n",
      "image 89/316 c:\\Users\\hxxzi\\Desktop\\GitHub\\final-project\\8\\data\\3\\test\\images\\Image_29_jpg.rf.dd6b7f2f4ef179bd794e4600cdff1673.jpg: 640x640 1 Cauliflower, 25.5ms\n",
      "image 90/316 c:\\Users\\hxxzi\\Desktop\\GitHub\\final-project\\8\\data\\3\\test\\images\\Image_29_png.rf.44d1490789d9829bde55f4de9c287308.jpg: 640x640 2 Gingers, 25.3ms\n",
      "image 91/316 c:\\Users\\hxxzi\\Desktop\\GitHub\\final-project\\8\\data\\3\\test\\images\\Image_2_jpg.rf.3907837f0321678f87e19957c05a1fea.jpg: 640x640 1 Apple, 25.8ms\n",
      "image 92/316 c:\\Users\\hxxzi\\Desktop\\GitHub\\final-project\\8\\data\\3\\test\\images\\Image_2_jpg.rf.6031c43d31bfc1f53da9f0c7974845f9.jpg: 640x640 2 Radishs, 29.9ms\n",
      "image 93/316 c:\\Users\\hxxzi\\Desktop\\GitHub\\final-project\\8\\data\\3\\test\\images\\Image_2_jpg.rf.97b2198d459b4f36d0f1c8e9ced8499d.jpg: 640x640 3 Corns, 24.7ms\n",
      "image 94/316 c:\\Users\\hxxzi\\Desktop\\GitHub\\final-project\\8\\data\\3\\test\\images\\Image_2_jpg.rf.cddad6df1e9ca167e603ee6f358d3db7.jpg: 640x640 3 spinachs, 30.0ms\n",
      "image 95/316 c:\\Users\\hxxzi\\Desktop\\GitHub\\final-project\\8\\data\\3\\test\\images\\Image_30_JPG.rf.0805fcb29f9a54f31ebf5e106f54315c.jpg: 640x640 1 Tomato, 41.7ms\n",
      "image 96/316 c:\\Users\\hxxzi\\Desktop\\GitHub\\final-project\\8\\data\\3\\test\\images\\Image_30_jpg.rf.de530b2786988fde02dd1d33afcbb5f6.jpg: 640x640 1 Apple, 1 Mango, 2 paers, 29.9ms\n",
      "image 97/316 c:\\Users\\hxxzi\\Desktop\\GitHub\\final-project\\8\\data\\3\\test\\images\\Image_31_jpg.rf.4dc43ad52394ffdf41df466a27ef8581.jpg: 640x640 1 Paprika, 27.2ms\n",
      "image 98/316 c:\\Users\\hxxzi\\Desktop\\GitHub\\final-project\\8\\data\\3\\test\\images\\Image_31_jpg.rf.4ec3db2d1b97cbb147a04ddb1014c4ef.jpg: 640x640 2 Chilli Peppers, 29.2ms\n",
      "image 99/316 c:\\Users\\hxxzi\\Desktop\\GitHub\\final-project\\8\\data\\3\\test\\images\\Image_31_jpg.rf.57b36db26ac2ce0cff0b8b3d4db50c50.jpg: 640x640 2 Chilli Peppers, 37.3ms\n",
      "image 100/316 c:\\Users\\hxxzi\\Desktop\\GitHub\\final-project\\8\\data\\3\\test\\images\\Image_31_jpg.rf.ec3973de7d17a328f91f61389821e29a.jpg: 640x640 3 Cucumbers, 25.2ms\n",
      "image 101/316 c:\\Users\\hxxzi\\Desktop\\GitHub\\final-project\\8\\data\\3\\test\\images\\Image_32_jpg.rf.9427ea12a0a3a76d76fd8655e225ca91.jpg: 640x640 2 Grapess, 1 Peas, 33.1ms\n",
      "image 102/316 c:\\Users\\hxxzi\\Desktop\\GitHub\\final-project\\8\\data\\3\\test\\images\\Image_32_jpg.rf.c0e66a426827fa021c0d435488c61329.jpg: 640x640 3 Jalepenos, 29.2ms\n",
      "image 103/316 c:\\Users\\hxxzi\\Desktop\\GitHub\\final-project\\8\\data\\3\\test\\images\\Image_32_jpg.rf.cd5aa0b09ced9565a71524b581fdb06f.jpg: 640x640 1 Cabbage, 29.1ms\n",
      "image 104/316 c:\\Users\\hxxzi\\Desktop\\GitHub\\final-project\\8\\data\\3\\test\\images\\Image_32_png.rf.7cc4034137842f71a9c4a1828c483330.jpg: 640x640 4 Soya Beanss, 24.9ms\n",
      "image 105/316 c:\\Users\\hxxzi\\Desktop\\GitHub\\final-project\\8\\data\\3\\test\\images\\Image_33_jpg.rf.38cdfd5b27db06ef755a07cc1524b9f7.jpg: 640x640 10 Grapess, 25.3ms\n",
      "image 106/316 c:\\Users\\hxxzi\\Desktop\\GitHub\\final-project\\8\\data\\3\\test\\images\\Image_33_jpg.rf.fc4ade14987122c99c8fd11724718e8f.jpg: 640x640 6 Lettuces, 24.7ms\n",
      "image 107/316 c:\\Users\\hxxzi\\Desktop\\GitHub\\final-project\\8\\data\\3\\test\\images\\Image_33_png.rf.968d2aca2a1f85a3937c3fac96966627.jpg: 640x640 1 paer, 26.1ms\n",
      "image 108/316 c:\\Users\\hxxzi\\Desktop\\GitHub\\final-project\\8\\data\\3\\test\\images\\Image_34_jpg.rf.30fbee94c2d0f57d0c4f2a7ccfd97ee6.jpg: 640x640 5 Peass, 31.2ms\n",
      "image 109/316 c:\\Users\\hxxzi\\Desktop\\GitHub\\final-project\\8\\data\\3\\test\\images\\Image_35_jpg.rf.27517c543f3030eca45b27e252d89841.jpg: 640x640 4 Cucumbers, 29.2ms\n",
      "image 110/316 c:\\Users\\hxxzi\\Desktop\\GitHub\\final-project\\8\\data\\3\\test\\images\\Image_35_jpg.rf.b5894a349ac38b1315f0659b95022cff.jpg: 640x640 6 Bell peppers, 26.9ms\n",
      "image 111/316 c:\\Users\\hxxzi\\Desktop\\GitHub\\final-project\\8\\data\\3\\test\\images\\Image_35_jpg.rf.bfa7f90fe872a47cf841c517962be9a2.jpg: 640x640 9 Gingers, 28.7ms\n",
      "image 112/316 c:\\Users\\hxxzi\\Desktop\\GitHub\\final-project\\8\\data\\3\\test\\images\\Image_35_png.rf.6ecf8b4a58bffb8065cf4b33112aaa79.jpg: 640x640 5 Garlics, 28.6ms\n",
      "image 113/316 c:\\Users\\hxxzi\\Desktop\\GitHub\\final-project\\8\\data\\3\\test\\images\\Image_36_jpg.rf.3c1db04a3f41ea25949d248e1f8bca42.jpg: 640x640 16 Peass, 29.0ms\n",
      "image 114/316 c:\\Users\\hxxzi\\Desktop\\GitHub\\final-project\\8\\data\\3\\test\\images\\Image_36_jpg.rf.4807588b9fbe4554e762a9d270d6b70b.jpg: 640x640 4 Beetroots, 29.1ms\n",
      "image 115/316 c:\\Users\\hxxzi\\Desktop\\GitHub\\final-project\\8\\data\\3\\test\\images\\Image_36_jpg.rf.e6b243b50468261b808b7609bbade630.jpg: 640x640 2 Breads, 25.6ms\n",
      "image 116/316 c:\\Users\\hxxzi\\Desktop\\GitHub\\final-project\\8\\data\\3\\test\\images\\Image_37_jpg.rf.6a13e2812e32457ee5c71981220c62b6.jpg: 640x640 7 Garlics, 25.0ms\n",
      "image 117/316 c:\\Users\\hxxzi\\Desktop\\GitHub\\final-project\\8\\data\\3\\test\\images\\Image_37_jpg.rf.b844ff479c674bd4f1bc7158956f830c.jpg: 640x640 4 Cabbages, 38.4ms\n",
      "image 118/316 c:\\Users\\hxxzi\\Desktop\\GitHub\\final-project\\8\\data\\3\\test\\images\\Image_37_jpg.rf.c34644679b53179427fe04acef99e643.jpg: 640x640 10 Eggplants, 20.7ms\n",
      "image 119/316 c:\\Users\\hxxzi\\Desktop\\GitHub\\final-project\\8\\data\\3\\test\\images\\Image_37_png.rf.9106e00892f5a353559d342eea794b11.jpg: 640x640 1 Beetroot, 6 Onions, 33.4ms\n",
      "image 120/316 c:\\Users\\hxxzi\\Desktop\\GitHub\\final-project\\8\\data\\3\\test\\images\\Image_38_jpg.rf.165dc1dcf986b2714c49d6015d01deb3.jpg: 640x640 1 Bread, 2 Gingers, 33.3ms\n",
      "image 121/316 c:\\Users\\hxxzi\\Desktop\\GitHub\\final-project\\8\\data\\3\\test\\images\\Image_38_jpg.rf.79fe220390ed9d45974658db86b76881.jpg: 640x640 1 Soya Beans, 31.1ms\n",
      "image 122/316 c:\\Users\\hxxzi\\Desktop\\GitHub\\final-project\\8\\data\\3\\test\\images\\Image_38_jpg.rf.88d62d8a02f05d778058bb8dc37ed5e7.jpg: 640x640 3 Watermelons, 23.7ms\n",
      "image 123/316 c:\\Users\\hxxzi\\Desktop\\GitHub\\final-project\\8\\data\\3\\test\\images\\Image_38_jpg.rf.b11b7e63fc91f573534dc48f32cc9ce5.jpg: 640x640 2 Corns, 24.8ms\n",
      "image 124/316 c:\\Users\\hxxzi\\Desktop\\GitHub\\final-project\\8\\data\\3\\test\\images\\Image_38_png.rf.a69b6e398458681821030336067432cb.jpg: 640x640 3 Cucumbers, 32.3ms\n",
      "image 125/316 c:\\Users\\hxxzi\\Desktop\\GitHub\\final-project\\8\\data\\3\\test\\images\\Image_39_jpg.rf.6927c336daba8ac6ec784a2bb9f21763.jpg: 640x640 1 Watermelon, 31.0ms\n",
      "image 126/316 c:\\Users\\hxxzi\\Desktop\\GitHub\\final-project\\8\\data\\3\\test\\images\\Image_3_jpg.rf.650cfccd976d05e509030b1204e225cf.jpg: 640x640 26 Onions, 46.1ms\n",
      "image 127/316 c:\\Users\\hxxzi\\Desktop\\GitHub\\final-project\\8\\data\\3\\test\\images\\Image_3_jpg.rf.6b9973aab4a247464fca5b98f88ffc6c.jpg: 640x640 7 Beetroots, 45.4ms\n",
      "image 128/316 c:\\Users\\hxxzi\\Desktop\\GitHub\\final-project\\8\\data\\3\\test\\images\\Image_40_jpg.rf.5b4210f1590e7b61518dbd0888409bbe.jpg: 640x640 1 Banana, 29.1ms\n",
      "image 129/316 c:\\Users\\hxxzi\\Desktop\\GitHub\\final-project\\8\\data\\3\\test\\images\\Image_40_jpg.rf.7564e9bee44418451b8ae6765ad84e5f.jpg: 640x640 1 Jalepeno, 1 Peas, 24.9ms\n",
      "image 130/316 c:\\Users\\hxxzi\\Desktop\\GitHub\\final-project\\8\\data\\3\\test\\images\\Image_40_jpg.rf.8a2c25129ddac26ff81f3931e034ccd4.jpg: 640x640 3 Chilli Peppers, 3 Jalepenos, 25.2ms\n",
      "image 131/316 c:\\Users\\hxxzi\\Desktop\\GitHub\\final-project\\8\\data\\3\\test\\images\\Image_41_jpg.rf.4a9ef1819c0b13664a6420b6fb84b734.jpg: 640x640 2 Pomegranates, 34.1ms\n",
      "image 132/316 c:\\Users\\hxxzi\\Desktop\\GitHub\\final-project\\8\\data\\3\\test\\images\\Image_41_jpg.rf.640f24bd88fe811b6c5be7dcfd1ca88b.jpg: 640x640 2 Garlics, 25.3ms\n",
      "image 133/316 c:\\Users\\hxxzi\\Desktop\\GitHub\\final-project\\8\\data\\3\\test\\images\\Image_41_jpg.rf.a46b14aaceb8e2a9bde64694750dedb4.jpg: 640x640 3 Chilli Peppers, 25.1ms\n",
      "image 134/316 c:\\Users\\hxxzi\\Desktop\\GitHub\\final-project\\8\\data\\3\\test\\images\\Image_41_jpg.rf.ddc1c96ff88eaa9d94339448ed5a25ff.jpg: 640x640 1 Banana, 24.9ms\n",
      "image 135/316 c:\\Users\\hxxzi\\Desktop\\GitHub\\final-project\\8\\data\\3\\test\\images\\Image_41_jpg.rf.e495e9bc903e3111b8b23efe09ec9cf0.jpg: 640x640 1 Garlic, 25.6ms\n",
      "image 136/316 c:\\Users\\hxxzi\\Desktop\\GitHub\\final-project\\8\\data\\3\\test\\images\\Image_42_jpg.rf.22f5d3b01830b4982c0288049bfec464.jpg: 640x640 3 Peass, 25.2ms\n",
      "image 137/316 c:\\Users\\hxxzi\\Desktop\\GitHub\\final-project\\8\\data\\3\\test\\images\\Image_43_jpg.rf.1d718acf4b1c5151e79afd2cab0f1d52.jpg: 640x640 6 Apples, 1 Pomegranate, 28.8ms\n",
      "image 138/316 c:\\Users\\hxxzi\\Desktop\\GitHub\\final-project\\8\\data\\3\\test\\images\\Image_43_jpg.rf.4fd42c552c08239631d3c7fd2b44bb5f.jpg: 640x640 1 paer, 54.7ms\n",
      "image 139/316 c:\\Users\\hxxzi\\Desktop\\GitHub\\final-project\\8\\data\\3\\test\\images\\Image_43_jpg.rf.e45e9829f6df74aef0895ce4af44caed.jpg: 640x640 23 Potatos, 25.1ms\n",
      "image 140/316 c:\\Users\\hxxzi\\Desktop\\GitHub\\final-project\\8\\data\\3\\test\\images\\Image_44_jpg.rf.304d5854ad30835cd8fccdc22b342c29.jpg: 640x640 1 Mackerel, 1 Pork, 4 Watermelons, 25.0ms\n",
      "image 141/316 c:\\Users\\hxxzi\\Desktop\\GitHub\\final-project\\8\\data\\3\\test\\images\\Image_45_jpg.rf.755a20da16be48e748767503d680dc37.jpg: 640x640 11 Chilli Peppers, 30.2ms\n",
      "image 142/316 c:\\Users\\hxxzi\\Desktop\\GitHub\\final-project\\8\\data\\3\\test\\images\\Image_45_jpg.rf.7f13d03a23b2deea06852fd53f2847cd.jpg: 640x640 35 Bananas, 30.9ms\n",
      "image 143/316 c:\\Users\\hxxzi\\Desktop\\GitHub\\final-project\\8\\data\\3\\test\\images\\Image_45_jpg.rf.b96d951719390c59e88d7d71d9d5d743.jpg: 640x640 1 Pomegranate, 36.5ms\n",
      "image 144/316 c:\\Users\\hxxzi\\Desktop\\GitHub\\final-project\\8\\data\\3\\test\\images\\Image_45_jpg.rf.d66b4a616e5256ecad7b76e482ab1889.jpg: 640x640 1 Lettuce, 29.1ms\n",
      "image 145/316 c:\\Users\\hxxzi\\Desktop\\GitHub\\final-project\\8\\data\\3\\test\\images\\Image_46_jpg.rf.20ed65ad9c523827f73a7bc033be50db.jpg: 640x640 1 Lettuce, 45.7ms\n",
      "image 146/316 c:\\Users\\hxxzi\\Desktop\\GitHub\\final-project\\8\\data\\3\\test\\images\\Image_46_jpg.rf.5b36fabdc696718d6de2927e05f4d7f8.jpg: 640x640 2 Pineapples, 29.3ms\n",
      "image 147/316 c:\\Users\\hxxzi\\Desktop\\GitHub\\final-project\\8\\data\\3\\test\\images\\Image_47_jpg.rf.14db42c32bb6cd893cda7c419dc38f12.jpg: 640x640 1 Carrot, 26.7ms\n",
      "image 148/316 c:\\Users\\hxxzi\\Desktop\\GitHub\\final-project\\8\\data\\3\\test\\images\\Image_48_jpg.rf.1a394ededdb508e42cf72c6f24a57b5f.jpg: 640x640 3 Garlics, 26.9ms\n",
      "image 149/316 c:\\Users\\hxxzi\\Desktop\\GitHub\\final-project\\8\\data\\3\\test\\images\\Image_48_jpg.rf.bac97fcec3e4a85d5516c9092413ea8f.jpg: 640x640 41 Potatos, 29.1ms\n",
      "image 150/316 c:\\Users\\hxxzi\\Desktop\\GitHub\\final-project\\8\\data\\3\\test\\images\\Image_48_png.rf.afa31924d384bf317c02904cc07c9bec.jpg: 640x640 3 Cauliflowers, 25.3ms\n",
      "image 151/316 c:\\Users\\hxxzi\\Desktop\\GitHub\\final-project\\8\\data\\3\\test\\images\\Image_49_jpg.rf.111eef58098d2d6390de27cea162c994.jpg: 640x640 13 Carrots, 26.3ms\n",
      "image 152/316 c:\\Users\\hxxzi\\Desktop\\GitHub\\final-project\\8\\data\\3\\test\\images\\Image_4_jpg.rf.95afd86ba9047ac19bbdb9cf7c0d0141.jpg: 640x640 7 spinachs, 28.3ms\n",
      "image 153/316 c:\\Users\\hxxzi\\Desktop\\GitHub\\final-project\\8\\data\\3\\test\\images\\Image_4_jpg.rf.eba6a7615ea3cfa3c1558523bd56f764.jpg: 640x640 4 Tomatos, 26.1ms\n",
      "image 154/316 c:\\Users\\hxxzi\\Desktop\\GitHub\\final-project\\8\\data\\3\\test\\images\\Image_50_jpg.rf.13061b7e5b329b908677d56c3a528071.jpg: 640x640 11 Apples, 25.2ms\n",
      "image 155/316 c:\\Users\\hxxzi\\Desktop\\GitHub\\final-project\\8\\data\\3\\test\\images\\Image_50_jpg.rf.58edb47ce523f195e21e251a8f3e0fed.jpg: 640x640 4 Lettuces, 29.2ms\n",
      "image 156/316 c:\\Users\\hxxzi\\Desktop\\GitHub\\final-project\\8\\data\\3\\test\\images\\Image_50_jpg.rf.870944e04ebd26f5e6769b77a9b3a182.jpg: 640x640 8 lemons, 29.0ms\n",
      "image 157/316 c:\\Users\\hxxzi\\Desktop\\GitHub\\final-project\\8\\data\\3\\test\\images\\Image_50_jpg.rf.b97ddbf0baf578354c1a9e4047f01a79.jpg: 640x640 3 Bell peppers, 3 Chilli Peppers, 37.9ms\n",
      "image 158/316 c:\\Users\\hxxzi\\Desktop\\GitHub\\final-project\\8\\data\\3\\test\\images\\Image_51_JPG.rf.497203fdd1d6ddb45f3cd5d88e78cdf3.jpg: 640x640 1 Pineapple, 24.2ms\n",
      "image 159/316 c:\\Users\\hxxzi\\Desktop\\GitHub\\final-project\\8\\data\\3\\test\\images\\Image_51_jpg.rf.1a2aba1824ef1a61f21f658af84d6aec.jpg: 640x640 15 Potatos, 25.0ms\n",
      "image 160/316 c:\\Users\\hxxzi\\Desktop\\GitHub\\final-project\\8\\data\\3\\test\\images\\Image_51_jpg.rf.1ad4bddea94008657a0e308161050fe2.jpg: 640x640 1 Soya Beans, 25.5ms\n",
      "image 161/316 c:\\Users\\hxxzi\\Desktop\\GitHub\\final-project\\8\\data\\3\\test\\images\\Image_51_jpg.rf.2312341c851150e70fd6cc9e9f117eb6.jpg: 640x640 3 paers, 28.9ms\n",
      "image 162/316 c:\\Users\\hxxzi\\Desktop\\GitHub\\final-project\\8\\data\\3\\test\\images\\Image_51_jpg.rf.38f70dfb9f03ae46cbcfe17f5dd66673.jpg: 640x640 1 Grapes, 29.0ms\n",
      "image 163/316 c:\\Users\\hxxzi\\Desktop\\GitHub\\final-project\\8\\data\\3\\test\\images\\Image_51_jpg.rf.c483fdd7b55c0f579ec5526eaac89f6c.jpg: 640x640 7 lemons, 29.5ms\n",
      "image 164/316 c:\\Users\\hxxzi\\Desktop\\GitHub\\final-project\\8\\data\\3\\test\\images\\Image_51_jpg.rf.cdddafa1b2805e5f82d606c2e0d1391f.jpg: 640x640 1 Watermelon, 25.7ms\n",
      "image 165/316 c:\\Users\\hxxzi\\Desktop\\GitHub\\final-project\\8\\data\\3\\test\\images\\Image_51_jpg.rf.dcb55f9b2fe9b7f9d4a2583475d0c042.jpg: 640x640 1 Bell pepper, 25.5ms\n",
      "image 166/316 c:\\Users\\hxxzi\\Desktop\\GitHub\\final-project\\8\\data\\3\\test\\images\\Image_52_jpeg.rf.1b52fb80f39da53a2410d769663f68b9.jpg: 640x640 1 spinach, 25.2ms\n",
      "image 167/316 c:\\Users\\hxxzi\\Desktop\\GitHub\\final-project\\8\\data\\3\\test\\images\\Image_52_jpg.rf.4abb3f274a119d03ff25d09cbea9fb58.jpg: 640x640 5 Jalepenos, 27.0ms\n",
      "image 168/316 c:\\Users\\hxxzi\\Desktop\\GitHub\\final-project\\8\\data\\3\\test\\images\\Image_52_jpg.rf.599d24118f2703c07199ac1c8c2c4cf4.jpg: 640x640 1 Cheese, 2 Mangos, 27.6ms\n",
      "image 169/316 c:\\Users\\hxxzi\\Desktop\\GitHub\\final-project\\8\\data\\3\\test\\images\\Image_52_jpg.rf.c8e30c7adbb3c4804fd0d784534afbd5.jpg: 640x640 2 Beetroots, 24.9ms\n",
      "image 170/316 c:\\Users\\hxxzi\\Desktop\\GitHub\\final-project\\8\\data\\3\\test\\images\\Image_53_jpg.rf.51689bd7cc3776d31b03fc578e11456d.jpg: 640x640 2 Beetroots, 25.8ms\n",
      "image 171/316 c:\\Users\\hxxzi\\Desktop\\GitHub\\final-project\\8\\data\\3\\test\\images\\Image_53_jpg.rf.d3c7e6eab34405f7fe3206b26a910a2c.jpg: 640x640 1 Cucumber, 3 Mangos, 1 Potato, 25.3ms\n",
      "image 172/316 c:\\Users\\hxxzi\\Desktop\\GitHub\\final-project\\8\\data\\3\\test\\images\\Image_54_jpg.rf.9603d849a809d715a85ad5c00f801a2c.jpg: 640x640 1 Potato, 29.0ms\n",
      "image 173/316 c:\\Users\\hxxzi\\Desktop\\GitHub\\final-project\\8\\data\\3\\test\\images\\Image_54_jpg.rf.9e78779a6955f0cb238976ac0eee8944.jpg: 640x640 3 spinachs, 25.2ms\n",
      "image 174/316 c:\\Users\\hxxzi\\Desktop\\GitHub\\final-project\\8\\data\\3\\test\\images\\Image_55_jpg.rf.e22dd99daec6f0a505d46fdc90c9e802.jpg: 640x640 1 Apple, 27.6ms\n",
      "image 175/316 c:\\Users\\hxxzi\\Desktop\\GitHub\\final-project\\8\\data\\3\\test\\images\\Image_55_jpg.rf.f259e10e08272ce0c26cc718e45166ae.jpg: 640x640 1 Pineapple, 20.7ms\n",
      "image 176/316 c:\\Users\\hxxzi\\Desktop\\GitHub\\final-project\\8\\data\\3\\test\\images\\Image_56_jpg.rf.f2c102acca7bc6b0800b472d0a74c21d.jpg: 640x640 3 Potatos, 34.1ms\n",
      "image 177/316 c:\\Users\\hxxzi\\Desktop\\GitHub\\final-project\\8\\data\\3\\test\\images\\Image_57_jpg.rf.ba719c762a6a3c52844d0e444e907240.jpg: 640x640 1 Cauliflower, 21.5ms\n",
      "image 178/316 c:\\Users\\hxxzi\\Desktop\\GitHub\\final-project\\8\\data\\3\\test\\images\\Image_57_jpg.rf.f36ab6079ddd02f0939fecb593eea9e4.jpg: 640x640 3 Chilli Peppers, 3 Jalepenos, 36.0ms\n",
      "image 179/316 c:\\Users\\hxxzi\\Desktop\\GitHub\\final-project\\8\\data\\3\\test\\images\\Image_58_jpg.rf.5d24489d4e3e96febe50e954adfdbd66.jpg: 640x640 1 Pomegranate, 24.9ms\n",
      "image 180/316 c:\\Users\\hxxzi\\Desktop\\GitHub\\final-project\\8\\data\\3\\test\\images\\Image_58_png.rf.8a56b7b367aaa5d78a391dff2a49b424.jpg: 640x640 1 Banana, 24.9ms\n",
      "image 181/316 c:\\Users\\hxxzi\\Desktop\\GitHub\\final-project\\8\\data\\3\\test\\images\\Image_59_jpg.rf.6e552bfbf5effd763b29fd0e87363f7d.jpg: 640x640 5 Carrots, 26.8ms\n",
      "image 182/316 c:\\Users\\hxxzi\\Desktop\\GitHub\\final-project\\8\\data\\3\\test\\images\\Image_59_jpg.rf.e0cf747849e92b8ef5844a42ff0b408a.jpg: 640x640 5 Tomatos, 25.4ms\n",
      "image 183/316 c:\\Users\\hxxzi\\Desktop\\GitHub\\final-project\\8\\data\\3\\test\\images\\Image_59_jpg.rf.f4e63646dfa52b46b0abb907d95a186b.jpg: 640x640 4 Eggplants, 1 Jalepeno, 28.1ms\n",
      "image 184/316 c:\\Users\\hxxzi\\Desktop\\GitHub\\final-project\\8\\data\\3\\test\\images\\Image_5_jpg.rf.2c348c9ab2ab2addf74a9035cef1b0a1.jpg: 640x640 1 Pineapple, 25.9ms\n",
      "image 185/316 c:\\Users\\hxxzi\\Desktop\\GitHub\\final-project\\8\\data\\3\\test\\images\\Image_5_jpg.rf.87eb9ccf4698681d58fd51221dc21bf8.jpg: 640x640 23 Radishs, 26.2ms\n",
      "image 186/316 c:\\Users\\hxxzi\\Desktop\\GitHub\\final-project\\8\\data\\3\\test\\images\\Image_60_jpg.rf.a0a377ab0ef7b2e7c086610732c88206.jpg: 640x640 22 Apples, 41.6ms\n",
      "image 187/316 c:\\Users\\hxxzi\\Desktop\\GitHub\\final-project\\8\\data\\3\\test\\images\\Image_61_jpg.rf.829fc200ca90f12248ca7a9bf3624c7b.jpg: 640x640 3 Eggplants, 24.9ms\n",
      "image 188/316 c:\\Users\\hxxzi\\Desktop\\GitHub\\final-project\\8\\data\\3\\test\\images\\Image_61_jpg.rf.f78233679109bba84ee426235555abc4.jpg: 640x640 1 Lettuce, 29.1ms\n",
      "image 189/316 c:\\Users\\hxxzi\\Desktop\\GitHub\\final-project\\8\\data\\3\\test\\images\\Image_62_jpg.rf.46316ecd92b7e0bc6481f2a479064108.jpg: 640x640 1 Garlic, 28 Onions, 28.1ms\n",
      "image 190/316 c:\\Users\\hxxzi\\Desktop\\GitHub\\final-project\\8\\data\\3\\test\\images\\Image_62_jpg.rf.b56234c4b52c8cebc73c6665b48a288c.jpg: 640x640 1 Beetroot, 25.9ms\n",
      "image 191/316 c:\\Users\\hxxzi\\Desktop\\GitHub\\final-project\\8\\data\\3\\test\\images\\Image_63_jpg.rf.5b0cc2f3fb8f861ba26f327136daf2ed.jpg: 640x640 1 Cucumber, 1 Mango, 28.1ms\n",
      "image 192/316 c:\\Users\\hxxzi\\Desktop\\GitHub\\final-project\\8\\data\\3\\test\\images\\Image_64_jpg.rf.414e5d6c0f5a2b1da22e1eb93a12c52d.jpg: 640x640 1 Beetroot, 1 Pomegranate, 25.2ms\n",
      "image 193/316 c:\\Users\\hxxzi\\Desktop\\GitHub\\final-project\\8\\data\\3\\test\\images\\Image_64_jpg.rf.9963ecc882b1eae15e1a00dbb8aab1e8.jpg: 640x640 1 Ginger, 1 Jalepeno, 1 Onion, 3 sweet potatos, 25.0ms\n",
      "image 194/316 c:\\Users\\hxxzi\\Desktop\\GitHub\\final-project\\8\\data\\3\\test\\images\\Image_64_jpg.rf.f069a17c8184fa0b4ceeb06cee163813.jpg: 640x640 11 Eggplants, 29.1ms\n",
      "image 195/316 c:\\Users\\hxxzi\\Desktop\\GitHub\\final-project\\8\\data\\3\\test\\images\\Image_64_png.rf.6d4de3b26937a0dd95a344a6a9cdf888.jpg: 640x640 1 Banana, 1 lemon, 29.0ms\n",
      "image 196/316 c:\\Users\\hxxzi\\Desktop\\GitHub\\final-project\\8\\data\\3\\test\\images\\Image_65_jpg.rf.ba56194ff12ce001abe2d948e18aad06.jpg: 640x640 3 Paprikas, 28.3ms\n",
      "image 197/316 c:\\Users\\hxxzi\\Desktop\\GitHub\\final-project\\8\\data\\3\\test\\images\\Image_66_JPG.rf.9810ff45365b62fbededa2ab7247b169.jpg: 640x640 19 Peass, 41.6ms\n",
      "image 198/316 c:\\Users\\hxxzi\\Desktop\\GitHub\\final-project\\8\\data\\3\\test\\images\\Image_66_jpg.rf.1cad45d5cf92c2d1042427bd4ef9c85a.jpg: 640x640 4 Beetroots, 29.1ms\n",
      "image 199/316 c:\\Users\\hxxzi\\Desktop\\GitHub\\final-project\\8\\data\\3\\test\\images\\Image_66_jpg.rf.33bc5ae2916fe89e9795e5b3cea72f7b.jpg: 640x640 2 paers, 33.3ms\n",
      "image 200/316 c:\\Users\\hxxzi\\Desktop\\GitHub\\final-project\\8\\data\\3\\test\\images\\Image_66_jpg.rf.729ae080cb86ed7c76cb2cdf18d924ec.jpg: 640x640 6 Mangos, 25.8ms\n",
      "image 201/316 c:\\Users\\hxxzi\\Desktop\\GitHub\\final-project\\8\\data\\3\\test\\images\\Image_66_jpg.rf.c8ba0544bdabfc646176893b8b63f2c5.jpg: 640x640 2 Onions, 25.3ms\n",
      "image 202/316 c:\\Users\\hxxzi\\Desktop\\GitHub\\final-project\\8\\data\\3\\test\\images\\Image_67_jpg.rf.234d7d1756685e5d41b466f44a48d7d7.jpg: 640x640 4 Tomatos, 29.1ms\n",
      "image 203/316 c:\\Users\\hxxzi\\Desktop\\GitHub\\final-project\\8\\data\\3\\test\\images\\Image_67_jpg.rf.5687f7736bede42dc3cdfa90f1ac0235.jpg: 640x640 1 Pineapple, 29.1ms\n",
      "image 204/316 c:\\Users\\hxxzi\\Desktop\\GitHub\\final-project\\8\\data\\3\\test\\images\\Image_67_jpg.rf.d28cedcb72d00bfbb2e9bddbeff88469.jpg: 640x640 (no detections), 25.5ms\n",
      "image 205/316 c:\\Users\\hxxzi\\Desktop\\GitHub\\final-project\\8\\data\\3\\test\\images\\Image_67_png.rf.76a1ada40d690cc434a0f1e2c743b887.jpg: 640x640 2 Pomegranates, 25.5ms\n",
      "image 206/316 c:\\Users\\hxxzi\\Desktop\\GitHub\\final-project\\8\\data\\3\\test\\images\\Image_69_jpg.rf.53c55d9664492578f60dbf7c8cbc9e8c.jpg: 640x640 3 Pomegranates, 2 Tomatos, 34.8ms\n",
      "image 207/316 c:\\Users\\hxxzi\\Desktop\\GitHub\\final-project\\8\\data\\3\\test\\images\\Image_69_jpg.rf.8944e0ee465e57702fe18452bdde77f3.jpg: 640x640 2 Watermelons, 25.2ms\n",
      "image 208/316 c:\\Users\\hxxzi\\Desktop\\GitHub\\final-project\\8\\data\\3\\test\\images\\Image_69_jpg.rf.e1a40d2b4a1303e35761b73f190eec34.jpg: 640x640 1 Soya Beans, 28.1ms\n",
      "image 209/316 c:\\Users\\hxxzi\\Desktop\\GitHub\\final-project\\8\\data\\3\\test\\images\\Image_6_jpg.rf.3bd6fdc7de4ecffdab978a4c1a70f926.jpg: 640x640 5 Bell peppers, 26.0ms\n",
      "image 210/316 c:\\Users\\hxxzi\\Desktop\\GitHub\\final-project\\8\\data\\3\\test\\images\\Image_70_jpg.rf.0fb9bc395de9fe78c650a2898f024535.jpg: 640x640 4 Carrots, 29.2ms\n",
      "image 211/316 c:\\Users\\hxxzi\\Desktop\\GitHub\\final-project\\8\\data\\3\\test\\images\\Image_70_jpg.rf.b92f80c34c769a5991be713ac574d40f.jpg: 640x640 28 Chilli Peppers, 30.1ms\n",
      "image 212/316 c:\\Users\\hxxzi\\Desktop\\GitHub\\final-project\\8\\data\\3\\test\\images\\Image_71_JPG.rf.f5a01aea2c554d2aa2619674822e9afe.jpg: 640x640 1 Peas, 2 spinachs, 28.9ms\n",
      "image 213/316 c:\\Users\\hxxzi\\Desktop\\GitHub\\final-project\\8\\data\\3\\test\\images\\Image_71_jpg.rf.9d3fad7353a012f4fb3c73ed4a0d05e1.jpg: 640x640 4 Bell peppers, 2 Jalepenos, 26.0ms\n",
      "image 214/316 c:\\Users\\hxxzi\\Desktop\\GitHub\\final-project\\8\\data\\3\\test\\images\\Image_72_jpg.rf.b0323e675c90e9c04ac00d5283ebe673.jpg: 640x640 12 Pomegranates, 26.0ms\n",
      "image 215/316 c:\\Users\\hxxzi\\Desktop\\GitHub\\final-project\\8\\data\\3\\test\\images\\Image_72_png.rf.bb80fdbfbafe51aeab782f42a284c307.jpg: 640x640 1 Bell pepper, 29.9ms\n",
      "image 216/316 c:\\Users\\hxxzi\\Desktop\\GitHub\\final-project\\8\\data\\3\\test\\images\\Image_74_jpg.rf.6ccab7806250601c08073e370048bbcb.jpg: 640x640 11 Pineapples, 30.1ms\n",
      "image 217/316 c:\\Users\\hxxzi\\Desktop\\GitHub\\final-project\\8\\data\\3\\test\\images\\Image_75_jpg.rf.92842b080e361e70b364eeed1b9b4902.jpg: 640x640 1 Radish, 1 paer, 25.3ms\n",
      "image 218/316 c:\\Users\\hxxzi\\Desktop\\GitHub\\final-project\\8\\data\\3\\test\\images\\Image_76_jpg.rf.3b41db4ff6042ae39bfc5cf56a655008.jpg: 640x640 1 Tomato, 42.7ms\n",
      "image 219/316 c:\\Users\\hxxzi\\Desktop\\GitHub\\final-project\\8\\data\\3\\test\\images\\Image_76_png.rf.fb53137dbf6927890d46c6909e892b8d.jpg: 640x640 3 Jalepenos, 29.1ms\n",
      "image 220/316 c:\\Users\\hxxzi\\Desktop\\GitHub\\final-project\\8\\data\\3\\test\\images\\Image_77_jpg.rf.1f5e7fccb7551ee784f30870e198d8e0.jpg: 640x640 8 Bell peppers, 29.3ms\n",
      "image 221/316 c:\\Users\\hxxzi\\Desktop\\GitHub\\final-project\\8\\data\\3\\test\\images\\Image_77_jpg.rf.5c399782cf1e0b8fdb11abf24c53da9c.jpg: 640x640 2 Cabbages, 34.3ms\n",
      "image 222/316 c:\\Users\\hxxzi\\Desktop\\GitHub\\final-project\\8\\data\\3\\test\\images\\Image_77_jpg.rf.ae802528f56a05153fcde4a170e64b5b.jpg: 640x640 (no detections), 31.8ms\n",
      "image 223/316 c:\\Users\\hxxzi\\Desktop\\GitHub\\final-project\\8\\data\\3\\test\\images\\Image_77_jpg.rf.b56cbfe93c520e8e7e032df572989aae.jpg: 640x640 19 Carrots, 27.2ms\n",
      "image 224/316 c:\\Users\\hxxzi\\Desktop\\GitHub\\final-project\\8\\data\\3\\test\\images\\Image_78_jpg.rf.07263f4e92492cf2a4507b02c1dbcc65.jpg: 640x640 1 Eggplant, 2 Jalepenos, 29.9ms\n",
      "image 225/316 c:\\Users\\hxxzi\\Desktop\\GitHub\\final-project\\8\\data\\3\\test\\images\\Image_78_jpg.rf.261961e6621801c66b362506cfb4bbdd.jpg: 640x640 8 Garlics, 27.3ms\n",
      "image 226/316 c:\\Users\\hxxzi\\Desktop\\GitHub\\final-project\\8\\data\\3\\test\\images\\Image_78_jpg.rf.5ca6ad8555c1d85d3094a8041b320ba3.jpg: 640x640 2 Corns, 28.8ms\n",
      "image 227/316 c:\\Users\\hxxzi\\Desktop\\GitHub\\final-project\\8\\data\\3\\test\\images\\Image_79_jpg.rf.ac4e1a88353283739cd62af648d06a16.jpg: 640x640 5 Pomegranates, 1 Tomato, 24.9ms\n",
      "image 228/316 c:\\Users\\hxxzi\\Desktop\\GitHub\\final-project\\8\\data\\3\\test\\images\\Image_79_png.rf.91a35974ce07d303ca88981fdb132313.jpg: 640x640 2 Mangos, 26.9ms\n",
      "image 229/316 c:\\Users\\hxxzi\\Desktop\\GitHub\\final-project\\8\\data\\3\\test\\images\\Image_7_jpg.rf.6adef5789d38fbf7328cdf42390b1ba7.jpg: 640x640 5 Cabbages, 28.9ms\n",
      "image 230/316 c:\\Users\\hxxzi\\Desktop\\GitHub\\final-project\\8\\data\\3\\test\\images\\Image_7_jpg.rf.eb75d9b58a7899b785c6eb9326085838.jpg: 640x640 11 Potatos, 27.4ms\n",
      "image 231/316 c:\\Users\\hxxzi\\Desktop\\GitHub\\final-project\\8\\data\\3\\test\\images\\Image_7_png.rf.01c3fb1f977b346543afbd7fa556520b.jpg: 640x640 1 Grapes, 24.9ms\n",
      "image 232/316 c:\\Users\\hxxzi\\Desktop\\GitHub\\final-project\\8\\data\\3\\test\\images\\Image_80_jpg.rf.bbd53efe2e88146dc3764472951b5fc4.jpg: 640x640 6 Jalepenos, 25.1ms\n",
      "image 233/316 c:\\Users\\hxxzi\\Desktop\\GitHub\\final-project\\8\\data\\3\\test\\images\\Image_80_png.rf.fe5930682edf8c378c67c738e40f6826.jpg: 640x640 2 spinachs, 27.3ms\n",
      "image 234/316 c:\\Users\\hxxzi\\Desktop\\GitHub\\final-project\\8\\data\\3\\test\\images\\Image_81_jpg.rf.abe65d147bc2d9da5f582754d7c98970.jpg: 640x640 2 paers, 31.9ms\n",
      "image 235/316 c:\\Users\\hxxzi\\Desktop\\GitHub\\final-project\\8\\data\\3\\test\\images\\Image_82_jpg.rf.db27edfb649ad6f5bff1b19a87fdcc33.jpg: 640x640 1 Apple, 28.8ms\n",
      "image 236/316 c:\\Users\\hxxzi\\Desktop\\GitHub\\final-project\\8\\data\\3\\test\\images\\Image_83_JPG.rf.588aa5e53842273d22d2d89e903b3dd9.jpg: 640x640 1 Grapes, 23.5ms\n",
      "image 237/316 c:\\Users\\hxxzi\\Desktop\\GitHub\\final-project\\8\\data\\3\\test\\images\\Image_83_png.rf.410d8634524f932ad253ceb43485b88d.jpg: 640x640 1 Banana, 34.5ms\n",
      "image 238/316 c:\\Users\\hxxzi\\Desktop\\GitHub\\final-project\\8\\data\\3\\test\\images\\Image_84_jpg.rf.0112392eed042909cf36a2fac8250fe5.jpg: 640x640 1 lemon, 26.6ms\n",
      "image 239/316 c:\\Users\\hxxzi\\Desktop\\GitHub\\final-project\\8\\data\\3\\test\\images\\Image_84_jpg.rf.401779ef1f62a3e463ffb51107a0ea71.jpg: 640x640 2 Lettuces, 32.9ms\n",
      "image 240/316 c:\\Users\\hxxzi\\Desktop\\GitHub\\final-project\\8\\data\\3\\test\\images\\Image_84_jpg.rf.7347a0763f5ee8f440580b3d377f4995.jpg: 640x640 6 Grapess, 33.2ms\n",
      "image 241/316 c:\\Users\\hxxzi\\Desktop\\GitHub\\final-project\\8\\data\\3\\test\\images\\Image_86_png.rf.1f3b991603c9020590f23c175cca9bdd.jpg: 640x640 3 paers, 28.3ms\n",
      "image 242/316 c:\\Users\\hxxzi\\Desktop\\GitHub\\final-project\\8\\data\\3\\test\\images\\Image_87_jpg.rf.c1f509bae1171f16e1e9a00c0460dc1f.jpg: 640x640 4 Cabbages, 25.1ms\n",
      "image 243/316 c:\\Users\\hxxzi\\Desktop\\GitHub\\final-project\\8\\data\\3\\test\\images\\Image_88_jpg.rf.0d339c524d26fb729199efe14ebc6bb9.jpg: 640x640 1 Watermelon, 25.3ms\n",
      "image 244/316 c:\\Users\\hxxzi\\Desktop\\GitHub\\final-project\\8\\data\\3\\test\\images\\Image_88_jpg.rf.3d04eb814585328ff7c665ad036e483b.jpg: 640x640 2 Peass, 27.1ms\n",
      "image 245/316 c:\\Users\\hxxzi\\Desktop\\GitHub\\final-project\\8\\data\\3\\test\\images\\Image_88_png.rf.e81ae4a12f2e2e18b24c784b85763e3e.jpg: 640x640 2 Bananas, 28.7ms\n",
      "image 246/316 c:\\Users\\hxxzi\\Desktop\\GitHub\\final-project\\8\\data\\3\\test\\images\\Image_89_jpg.rf.169086be278fde2553436b8dcd6fc042.jpg: 640x640 1 Egg, 1 Soya Beans, 33.1ms\n",
      "image 247/316 c:\\Users\\hxxzi\\Desktop\\GitHub\\final-project\\8\\data\\3\\test\\images\\Image_8_jpg.rf.4e1d636ce975d210db34448e42d6fb8e.jpg: 640x640 7 Watermelons, 25.0ms\n",
      "image 248/316 c:\\Users\\hxxzi\\Desktop\\GitHub\\final-project\\8\\data\\3\\test\\images\\Image_8_png.rf.2b124bd58bdca60ece7a9571cb985798.jpg: 640x640 2 lemons, 34.0ms\n",
      "image 249/316 c:\\Users\\hxxzi\\Desktop\\GitHub\\final-project\\8\\data\\3\\test\\images\\Image_90_jpg.rf.3c3af50233ba25c0ff4942ac26039fc2.jpg: 640x640 2 Cheeses, 1 sweet potato, 26.1ms\n",
      "image 250/316 c:\\Users\\hxxzi\\Desktop\\GitHub\\final-project\\8\\data\\3\\test\\images\\Image_90_jpg.rf.be135bfe8aa25662f96216a0c980b8be.jpg: 640x640 8 Jalepenos, 29.7ms\n",
      "image 251/316 c:\\Users\\hxxzi\\Desktop\\GitHub\\final-project\\8\\data\\3\\test\\images\\Image_90_jpg.rf.f1568fa01da57d09e1e98d4d8b5fa6c5.jpg: 640x640 1 Bell pepper, 29.5ms\n",
      "image 252/316 c:\\Users\\hxxzi\\Desktop\\GitHub\\final-project\\8\\data\\3\\test\\images\\Image_91_jpg.rf.b60ef3ede8214a3c3a6e3fafadc9d24d.jpg: 640x640 7 Chilli Peppers, 23.3ms\n",
      "image 253/316 c:\\Users\\hxxzi\\Desktop\\GitHub\\final-project\\8\\data\\3\\test\\images\\Image_91_jpg.rf.d202750769b6a90d4e8d2ba76e0da518.jpg: 640x640 8 Tomatos, 41.0ms\n",
      "image 254/316 c:\\Users\\hxxzi\\Desktop\\GitHub\\final-project\\8\\data\\3\\test\\images\\Image_93_jpg.rf.12d8e857e5902909b8acf223fb79ac3d.jpg: 640x640 4 Eggplants, 29.2ms\n",
      "image 255/316 c:\\Users\\hxxzi\\Desktop\\GitHub\\final-project\\8\\data\\3\\test\\images\\Image_93_jpg.rf.f3c54304fe6f3114ac72e062f9662f20.jpg: 640x640 15 Carrots, 23.6ms\n",
      "image 256/316 c:\\Users\\hxxzi\\Desktop\\GitHub\\final-project\\8\\data\\3\\test\\images\\Image_94_jpg.rf.fd821d7d37cf1310ec5400f539e44e52.jpg: 640x640 15 Bell peppers, 29.0ms\n",
      "image 257/316 c:\\Users\\hxxzi\\Desktop\\GitHub\\final-project\\8\\data\\3\\test\\images\\Image_97_jpg.rf.b1002bfe1c1cdc5dfa87ebf023f02f9e.jpg: 640x640 13 Tomatos, 25.4ms\n",
      "image 258/316 c:\\Users\\hxxzi\\Desktop\\GitHub\\final-project\\8\\data\\3\\test\\images\\Image_9_jpg.rf.0dcda93d8738b539248e30127d5d49b9.jpg: 640x640 1 Banana, 3 paers, 25.0ms\n",
      "image 259/316 c:\\Users\\hxxzi\\Desktop\\GitHub\\final-project\\8\\data\\3\\test\\images\\Image_9_jpg.rf.22cfa3ba5fea9d34906737f7f1bb2701.jpg: 640x640 3 sweet potatos, 26.4ms\n",
      "image 260/316 c:\\Users\\hxxzi\\Desktop\\GitHub\\final-project\\8\\data\\3\\test\\images\\LobsterZoomed_jpg.rf.9685de7e228e96bbf5bc13e9eeddcb21.jpg: 640x640 1 Lobster, 35.3ms\n",
      "image 261/316 c:\\Users\\hxxzi\\Desktop\\GitHub\\final-project\\8\\data\\3\\test\\images\\Sandwich-White_jpg.rf.255d87aa8ee9581d6a9da4b97580d0f0.jpg: 640x640 2 Breads, 33.0ms\n",
      "image 262/316 c:\\Users\\hxxzi\\Desktop\\GitHub\\final-project\\8\\data\\3\\test\\images\\Simply-Recipes-Brioche-Hamburger-Buns-LEAD-2-788f5bf61bb943249653731db9683faa_jpg.rf.d9d84862853090543aff3679832ab090.jpg: 640x640 6 Buns, 38.7ms\n",
      "image 263/316 c:\\Users\\hxxzi\\Desktop\\GitHub\\final-project\\8\\data\\3\\test\\images\\Untitled-design-1-min-1-_jpg.rf.41c97f6e987b7bff59cf9dd7087b36ef.jpg: 640x640 3 Cardamoms, 29.2ms\n",
      "image 264/316 c:\\Users\\hxxzi\\Desktop\\GitHub\\final-project\\8\\data\\3\\test\\images\\american-cheese-33-600_jpg.rf.d79b6c315f6e67b826a0abdad55978e7.jpg: 640x640 1 Bread, 1 Cheese, 27.3ms\n",
      "image 265/316 c:\\Users\\hxxzi\\Desktop\\GitHub\\final-project\\8\\data\\3\\test\\images\\black-pepper-1-2-_jpg.rf.72c8315939db05a55443b0ff17e29a27.jpg: 640x640 2 Black peppers, 1 Onion, 29.3ms\n",
      "image 266/316 c:\\Users\\hxxzi\\Desktop\\GitHub\\final-project\\8\\data\\3\\test\\images\\bread-recipe-1-500x500_jpg.rf.43e8d96e1d7f2fa34a1e9ea503087dbb.jpg: 640x640 4 Breads, 28.4ms\n",
      "image 267/316 c:\\Users\\hxxzi\\Desktop\\GitHub\\final-project\\8\\data\\3\\test\\images\\buttery-brioche-buns-thumb_jpg.rf.c452beabd8765adcea839b1658de1aab.jpg: 640x640 1 Bread, 4 Buns, 24.9ms\n",
      "image 268/316 c:\\Users\\hxxzi\\Desktop\\GitHub\\final-project\\8\\data\\3\\test\\images\\cardamomad_jpg.rf.0b9dbd336c92cb0241b97b33d79bf28d.jpg: 640x640 1 Cardamom, 28.7ms\n",
      "image 269/316 c:\\Users\\hxxzi\\Desktop\\GitHub\\final-project\\8\\data\\3\\test\\images\\catfish-fillet_jpg.rf.48d325604db490cb49894de421f2cf04.jpg: 640x640 3 Catfishs, 1 Mackerel, 28.8ms\n",
      "image 270/316 c:\\Users\\hxxzi\\Desktop\\GitHub\\final-project\\8\\data\\3\\test\\images\\cheese-for-weight-loss_jpg.rf.bba6bec934c9b59491116efedeed53fb.jpg: 640x640 12 Cheeses, 1 Chilli Pepper, 26.8ms\n",
      "image 271/316 c:\\Users\\hxxzi\\Desktop\\GitHub\\final-project\\8\\data\\3\\test\\images\\chicken20_jpg.rf.8b5932f561fa442cd004302148bfbeb1.jpg: 640x640 2 Chickens, 24.6ms\n",
      "image 272/316 c:\\Users\\hxxzi\\Desktop\\GitHub\\final-project\\8\\data\\3\\test\\images\\chicken24_jpg.rf.62fe41f71f8f1fde4c4fd2e570ae14dd.jpg: 640x640 1 Chicken, 1 Coriander, 22.3ms\n",
      "image 273/316 c:\\Users\\hxxzi\\Desktop\\GitHub\\final-project\\8\\data\\3\\test\\images\\chicken30_jpg.rf.751a444e2eb49cc8c1958baf79e9c2d9.jpg: 640x640 3 Chickens, 1 Rosemary, 33.6ms\n",
      "image 274/316 c:\\Users\\hxxzi\\Desktop\\GitHub\\final-project\\8\\data\\3\\test\\images\\chicken44_jpg.rf.359f227e60ec0c707d14b2d1dec1b593.jpg: 640x640 1 Chicken, 25.3ms\n",
      "image 275/316 c:\\Users\\hxxzi\\Desktop\\GitHub\\final-project\\8\\data\\3\\test\\images\\chicken54_jpg.rf.281080cafb5bb91d43198b96bfcbfb03.jpg: 640x640 1 Chicken, 29.6ms\n",
      "image 276/316 c:\\Users\\hxxzi\\Desktop\\GitHub\\final-project\\8\\data\\3\\test\\images\\chicken9_jpg.rf.79674ae7af4f82bacf41a20ac8e08e01.jpg: 640x640 1 Chicken, 25.1ms\n",
      "image 277/316 c:\\Users\\hxxzi\\Desktop\\GitHub\\final-project\\8\\data\\3\\test\\images\\cinnamon-gba3c15de2_640_jpg.rf.e5cc89481bc866520d9a0e01d64ddf2b.jpg: 640x640 1 clove, 24.8ms\n",
      "image 278/316 c:\\Users\\hxxzi\\Desktop\\GitHub\\final-project\\8\\data\\3\\test\\images\\cinnamon2_jpg.rf.f3c492c31f3e4d6cc3452547cd3ed4e2.jpg: 640x640 12 Cinnamons, 29.3ms\n",
      "image 279/316 c:\\Users\\hxxzi\\Desktop\\GitHub\\final-project\\8\\data\\3\\test\\images\\close-up-of-crab-on-rock_jpg.rf.c6a581d46c886685ea1cecb9fb10c45c.jpg: 640x640 1 Crawfish, 1 Lobster, 32.6ms\n",
      "image 280/316 c:\\Users\\hxxzi\\Desktop\\GitHub\\final-project\\8\\data\\3\\test\\images\\clove_63497cf9-6692-4334-95ee-b920cf64a96f_jpg.rf.371b9de9dd726d4f0395f8e78a036bd2.jpg: 640x640 1 clove, 28.8ms\n",
      "image 281/316 c:\\Users\\hxxzi\\Desktop\\GitHub\\final-project\\8\\data\\3\\test\\images\\com_is_image_ABS__jpg.rf.41a7c5feee970eb9a7edbfdd42985128.jpg: 640x640 2 Catfishs, 25.2ms\n",
      "image 282/316 c:\\Users\\hxxzi\\Desktop\\GitHub\\final-project\\8\\data\\3\\test\\images\\coorg-green-cardamom-2020869041-m3koi2hy_jpg.rf.72d4dc7a1db958783a204f50f0df214e.jpg: 640x640 1 Cardamom, 23.1ms\n",
      "image 283/316 c:\\Users\\hxxzi\\Desktop\\GitHub\\final-project\\8\\data\\3\\test\\images\\crawfish-5_jpg.rf.09ab56dea3686cd8f2d1180e62005104.jpg: 640x640 1 Crawfish, 29.0ms\n",
      "image 284/316 c:\\Users\\hxxzi\\Desktop\\GitHub\\final-project\\8\\data\\3\\test\\images\\crawfish_1_jpg.rf.e183e5daeb78e20414edf482f592c5fa.jpg: 640x640 1 Crawfish, 25.0ms\n",
      "image 285/316 c:\\Users\\hxxzi\\Desktop\\GitHub\\final-project\\8\\data\\3\\test\\images\\empire-foods-goose-meat-11-03-2021-024-222968627-q601x_jpg.rf.b03da51d39683038c9c8c707b7b71c61.jpg: 640x640 2 Pomegranates, 1 duck, 30.1ms\n",
      "image 286/316 c:\\Users\\hxxzi\\Desktop\\GitHub\\final-project\\8\\data\\3\\test\\images\\fas001-20180827095538_webp.rf.42e531f4e36fc44cb0dc65cf23bab90f.jpg: 640x640 4 Mackerels, 33.0ms\n",
      "image 287/316 c:\\Users\\hxxzi\\Desktop\\GitHub\\final-project\\8\\data\\3\\test\\images\\fermented-fish-mackerel-jpg_jpg.rf.29dfaec0003b24909e928029abdda444.jpg: 640x640 1 Egg, 6 Mackerels, 26.1ms\n",
      "image 288/316 c:\\Users\\hxxzi\\Desktop\\GitHub\\final-project\\8\\data\\3\\test\\images\\fermented-mackerel-fish-sliced-on-a-plate-shot-above-head_jpg.rf.789315d8a43b243175331f39ce258c21.jpg: 640x640 6 Mackerels, 25.2ms\n",
      "image 289/316 c:\\Users\\hxxzi\\Desktop\\GitHub\\final-project\\8\\data\\3\\test\\images\\finletted-mackerel-_kanni-ayala_-fillet_jpg.rf.8f1d81450621ec4103442869c2fe5c55.jpg: 640x640 2 Chilli Peppers, 3 Porks, 27.1ms\n",
      "image 290/316 c:\\Users\\hxxzi\\Desktop\\GitHub\\final-project\\8\\data\\3\\test\\images\\fotolia_1459192_XS_jpg.rf.9ef706bd87ae691c7e594196a91689a8.jpg: 640x640 1 Lobster, 29.3ms\n",
      "image 291/316 c:\\Users\\hxxzi\\Desktop\\GitHub\\final-project\\8\\data\\3\\test\\images\\hamburger-buns-02-500x500_jpg.rf.9224700b71fbbf44221873bceb98977c.jpg: 640x640 8 Buns, 25.2ms\n",
      "image 292/316 c:\\Users\\hxxzi\\Desktop\\GitHub\\final-project\\8\\data\\3\\test\\images\\healthiest-cheese-1296x728-swiss_jpg.rf.801b25b171e24022339d235066f31687.jpg: 640x640 5 Cheeses, 1 Cinnamon, 26.9ms\n",
      "image 293/316 c:\\Users\\hxxzi\\Desktop\\GitHub\\final-project\\8\\data\\3\\test\\images\\il_fullxfull-3662294263_56ux_jpg.rf.62fb97e78efe2ae17e1fc5a20bde77f0.jpg: 640x640 1 Black pepper, 26.2ms\n",
      "image 294/316 c:\\Users\\hxxzi\\Desktop\\GitHub\\final-project\\8\\data\\3\\test\\images\\info_image_upload_f_jpg-q_auto_eco-c_fill-g_auto-w_1500-ar_1_1__jpg.rf.3d8200959fcbb5365baefb990f41548b.jpg: 640x640 2 Breads, 25.8ms\n",
      "image 295/316 c:\\Users\\hxxzi\\Desktop\\GitHub\\final-project\\8\\data\\3\\test\\images\\japanese-milk-bread-loaf-1_jpg.rf.34ddbe186babad14cf1de6a2f5080964.jpg: 640x640 2 Breads, 1 Cheese, 33.0ms\n",
      "image 296/316 c:\\Users\\hxxzi\\Desktop\\GitHub\\final-project\\8\\data\\3\\test\\images\\king-big-spiny-lobster-on-ice-night-martket-street-food-bangkok-thailand-photo_jpg.rf.cd25e3a0eaa75ea268dfdf6d8c128dae.jpg: 640x640 6 Lobsters, 28.8ms\n",
      "image 297/316 c:\\Users\\hxxzi\\Desktop\\GitHub\\final-project\\8\\data\\3\\test\\images\\l-intro-1672942389_jpg.rf.ce18febbae5b8ee03f0712ffc8487557.jpg: 640x640 1 clove, 29.0ms\n",
      "image 298/316 c:\\Users\\hxxzi\\Desktop\\GitHub\\final-project\\8\\data\\3\\test\\images\\l-intro-1689603523_jpg.rf.4320378f03951c8b8d2cb71f6456c0c2.jpg: 640x640 9 Cinnamons, 30.3ms\n",
      "image 299/316 c:\\Users\\hxxzi\\Desktop\\GitHub\\final-project\\8\\data\\3\\test\\images\\lobsters-also-known-as-shevanda-crayfish-per-kg-384328409-facdl_jpg.rf.3ba35352ce892f06401ce00be3572d86.jpg: 640x640 2 Lobsters, 28.3ms\n",
      "image 300/316 c:\\Users\\hxxzi\\Desktop\\GitHub\\final-project\\8\\data\\3\\test\\images\\omega-3-eggs-500x500_jpg.rf.4872de1a3ca5b10f7335cf9f3d12cd40.jpg: 640x640 7 Eggs, 33.4ms\n",
      "image 301/316 c:\\Users\\hxxzi\\Desktop\\GitHub\\final-project\\8\\data\\3\\test\\images\\pepper-5501218_1280_jpg.rf.77a324edabb550bc04c8b734eac04e87.jpg: 640x640 2 Black peppers, 29.4ms\n",
      "image 302/316 c:\\Users\\hxxzi\\Desktop\\GitHub\\final-project\\8\\data\\3\\test\\images\\photo-1593462430565-94f606c65e71_jpg.rf.afdf5b1037fcdbea18a8cf1ce5b46b96.jpg: 640x640 8 Eggs, 1 Grapes, 33.3ms\n",
      "image 303/316 c:\\Users\\hxxzi\\Desktop\\GitHub\\final-project\\8\\data\\3\\test\\images\\pork10_jpg.rf.c7f2dd496afdc6256f10373496686453.jpg: 640x640 1 Chicken, 2 Porks, 27.8ms\n",
      "image 304/316 c:\\Users\\hxxzi\\Desktop\\GitHub\\final-project\\8\\data\\3\\test\\images\\pork17_jpg.rf.ad178af0dea9b03ae3e29b4b53f31ca0.jpg: 640x640 1 Pork, 1 Rosemary, 29.5ms\n",
      "image 305/316 c:\\Users\\hxxzi\\Desktop\\GitHub\\final-project\\8\\data\\3\\test\\images\\pork24_jpg.rf.463ce4c5c74282cfff4f69d15141846b.jpg: 640x640 1 Pork, 28.1ms\n",
      "image 306/316 c:\\Users\\hxxzi\\Desktop\\GitHub\\final-project\\8\\data\\3\\test\\images\\pork30_jpg.rf.2ad2083fee2a45cdace8ccd4bf5f5df3.jpg: 640x640 3 Porks, 27.4ms\n",
      "image 307/316 c:\\Users\\hxxzi\\Desktop\\GitHub\\final-project\\8\\data\\3\\test\\images\\pork36_jpg.rf.891dd54a2fe2bff42ac05b36b04d9622.jpg: 640x640 1 Black pepper, 4 Chickens, 1 Pork, 29.7ms\n",
      "image 308/316 c:\\Users\\hxxzi\\Desktop\\GitHub\\final-project\\8\\data\\3\\test\\images\\pork51_jpg.rf.1f19c58da50d55c15c6f3916f9524907.jpg: 640x640 3 Porks, 26.4ms\n",
      "image 309/316 c:\\Users\\hxxzi\\Desktop\\GitHub\\final-project\\8\\data\\3\\test\\images\\poultry-broiler-eggs-500x500_png.rf.228d00dfd36507e613b957f6bad68be4.jpg: 640x640 15 Eggs, 25.6ms\n",
      "image 310/316 c:\\Users\\hxxzi\\Desktop\\GitHub\\final-project\\8\\data\\3\\test\\images\\product-jpeg-500x500_png.rf.3528abde955d5c47ac011e981036a55b.jpg: 640x640 12 Eggs, 30.0ms\n",
      "image 311/316 c:\\Users\\hxxzi\\Desktop\\GitHub\\final-project\\8\\data\\3\\test\\images\\raw-duck-breast-1_jpg.rf.e79f1eb679d6f550c563133f5a98a82f.jpg: 640x640 1 duck, 25.1ms\n",
      "image 312/316 c:\\Users\\hxxzi\\Desktop\\GitHub\\final-project\\8\\data\\3\\test\\images\\raw-duck-breast_jpg.rf.0cc808adb6069865a7059542c11b3945.jpg: 640x640 1 duck, 22.9ms\n",
      "image 313/316 c:\\Users\\hxxzi\\Desktop\\GitHub\\final-project\\8\\data\\3\\test\\images\\raw-duck-on-wooden-board-260nw-744392044_jpg.rf.9b0c02e5a0049cacac772b1e13db15d6.jpg: 640x640 1 Cinnamon, 1 duck, 30.1ms\n",
      "image 314/316 c:\\Users\\hxxzi\\Desktop\\GitHub\\final-project\\8\\data\\3\\test\\images\\raw-uncooked-duck-breast-fillet-steaks-butcher-table_89816-28322_jpg.rf.46403b69eecf5a20bf3d7466d008275d.jpg: 640x640 2 ducks, 24.6ms\n",
      "image 315/316 c:\\Users\\hxxzi\\Desktop\\GitHub\\final-project\\8\\data\\3\\test\\images\\two-mackerel-fish-fillets-isolated-on-white-C3J022_jpg.rf.0c3b5f0c887f123d0f3ff31d0efbca0c.jpg: 640x640 2 Mackerels, 28.2ms\n",
      "image 316/316 c:\\Users\\hxxzi\\Desktop\\GitHub\\final-project\\8\\data\\3\\test\\images\\whole-black-pepper-2_jpg.rf.7e61da2f05d37c2f840e0d52844c42e7.jpg: 640x640 2 Black peppers, 24.5ms\n",
      "Speed: 2.2ms preprocess, 29.9ms inference, 1.9ms postprocess per image at shape (1, 3, 640, 640)\n",
      "Results saved to \u001b[1mruns\\detect\\train22\u001b[0m\n"
     ]
    }
   ],
   "source": [
    "from ultralytics import YOLO\n",
    "import torch\n",
    "\n",
    "model = YOLO('yolov9s.pt')\n",
    "\n",
    "model.train(data = r'C:\\Users\\hxxzi\\Desktop\\GitHub\\final-project\\8\\data\\3\\data.yaml', \n",
    "            epochs=100, \n",
    "            patience=30, \n",
    "            batch=8, \n",
    "            imgsz=640)\n",
    "\n",
    "torch.cuda.empty_cache()\n",
    "\n",
    "results = model.predict(source=\"test\\images\", save=True)"
   ]
  },
  {
   "cell_type": "code",
   "execution_count": null,
   "metadata": {},
   "outputs": [],
   "source": []
  }
 ],
 "metadata": {
  "kernelspec": {
   "display_name": "Python 3",
   "language": "python",
   "name": "python3"
  },
  "language_info": {
   "codemirror_mode": {
    "name": "ipython",
    "version": 3
   },
   "file_extension": ".py",
   "mimetype": "text/x-python",
   "name": "python",
   "nbconvert_exporter": "python",
   "pygments_lexer": "ipython3",
   "version": "3.11.8"
  }
 },
 "nbformat": 4,
 "nbformat_minor": 2
}
