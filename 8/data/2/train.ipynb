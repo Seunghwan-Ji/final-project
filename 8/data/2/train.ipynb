{
 "cells": [
  {
   "cell_type": "code",
   "execution_count": 1,
   "metadata": {},
   "outputs": [
    {
     "name": "stdout",
     "output_type": "stream",
     "text": [
      "New https://pypi.org/project/ultralytics/8.2.60 available  Update with 'pip install -U ultralytics'\n",
      "Ultralytics YOLOv8.2.58  Python-3.11.8 torch-2.3.0+cu118 CUDA:0 (NVIDIA GeForce RTX 3060 Laptop GPU, 6144MiB)\n",
      "\u001b[34m\u001b[1mengine\\trainer: \u001b[0mtask=detect, mode=train, model=yolov9s.pt, data=C:\\Users\\hxxzi\\Desktop\\GitHub\\final-project\\8\\data\\2\\data.yaml, epochs=100, time=None, patience=30, batch=8, imgsz=640, save=True, save_period=-1, cache=False, device=None, workers=8, project=None, name=train6, exist_ok=False, pretrained=True, optimizer=auto, verbose=True, seed=0, deterministic=True, single_cls=False, rect=False, cos_lr=False, close_mosaic=10, resume=False, amp=True, fraction=1.0, profile=False, freeze=None, multi_scale=False, overlap_mask=True, mask_ratio=4, dropout=0.0, val=True, split=val, save_json=False, save_hybrid=False, conf=None, iou=0.7, max_det=300, half=False, dnn=False, plots=True, source=None, vid_stride=1, stream_buffer=False, visualize=False, augment=False, agnostic_nms=False, classes=None, retina_masks=False, embed=None, show=False, save_frames=False, save_txt=False, save_conf=False, save_crop=False, show_labels=True, show_conf=True, show_boxes=True, line_width=None, format=torchscript, keras=False, optimize=False, int8=False, dynamic=False, simplify=False, opset=None, workspace=4, nms=False, lr0=0.01, lrf=0.01, momentum=0.937, weight_decay=0.0005, warmup_epochs=3.0, warmup_momentum=0.8, warmup_bias_lr=0.1, box=7.5, cls=0.5, dfl=1.5, pose=12.0, kobj=1.0, label_smoothing=0.0, nbs=64, hsv_h=0.015, hsv_s=0.7, hsv_v=0.4, degrees=0.0, translate=0.1, scale=0.5, shear=0.0, perspective=0.0, flipud=0.0, fliplr=0.5, bgr=0.0, mosaic=1.0, mixup=0.0, copy_paste=0.0, auto_augment=randaugment, erasing=0.4, crop_fraction=1.0, cfg=None, tracker=botsort.yaml, save_dir=runs\\detect\\train6\n",
      "Overriding model.yaml nc=80 with nc=14\n",
      "\n",
      "                   from  n    params  module                                       arguments                     \n",
      "  0                  -1  1       928  ultralytics.nn.modules.conv.Conv             [3, 32, 3, 2]                 \n",
      "  1                  -1  1     18560  ultralytics.nn.modules.conv.Conv             [32, 64, 3, 2]                \n",
      "  2                  -1  1     31104  ultralytics.nn.modules.block.ELAN1           [64, 64, 64, 32]              \n",
      "  3                  -1  1     73984  ultralytics.nn.modules.block.AConv           [64, 128]                     \n",
      "  4                  -1  1    258432  ultralytics.nn.modules.block.RepNCSPELAN4    [128, 128, 128, 64, 3]        \n",
      "  5                  -1  1    221568  ultralytics.nn.modules.block.AConv           [128, 192]                    \n",
      "  6                  -1  1    579648  ultralytics.nn.modules.block.RepNCSPELAN4    [192, 192, 192, 96, 3]        \n",
      "  7                  -1  1    442880  ultralytics.nn.modules.block.AConv           [192, 256]                    \n",
      "  8                  -1  1   1028864  ultralytics.nn.modules.block.RepNCSPELAN4    [256, 256, 256, 128, 3]       \n",
      "  9                  -1  1    164608  ultralytics.nn.modules.block.SPPELAN         [256, 256, 128]               \n",
      " 10                  -1  1         0  torch.nn.modules.upsampling.Upsample         [None, 2, 'nearest']          \n",
      " 11             [-1, 6]  1         0  ultralytics.nn.modules.conv.Concat           [1]                           \n",
      " 12                  -1  1    628800  ultralytics.nn.modules.block.RepNCSPELAN4    [448, 192, 192, 96, 3]        \n",
      " 13                  -1  1         0  torch.nn.modules.upsampling.Upsample         [None, 2, 'nearest']          \n",
      " 14             [-1, 4]  1         0  ultralytics.nn.modules.conv.Concat           [1]                           \n",
      " 15                  -1  1    283008  ultralytics.nn.modules.block.RepNCSPELAN4    [320, 128, 128, 64, 3]        \n",
      " 16                  -1  1    110784  ultralytics.nn.modules.block.AConv           [128, 96]                     \n",
      " 17            [-1, 12]  1         0  ultralytics.nn.modules.conv.Concat           [1]                           \n",
      " 18                  -1  1    598080  ultralytics.nn.modules.block.RepNCSPELAN4    [288, 192, 192, 96, 3]        \n",
      " 19                  -1  1    221440  ultralytics.nn.modules.block.AConv           [192, 128]                    \n",
      " 20             [-1, 9]  1         0  ultralytics.nn.modules.conv.Concat           [1]                           \n",
      " 21                  -1  1   1061632  ultralytics.nn.modules.block.RepNCSPELAN4    [384, 256, 256, 128, 3]       \n",
      " 22        [15, 18, 21]  1   1568506  ultralytics.nn.modules.head.Detect           [14, [128, 192, 256]]         \n",
      "YOLOv9s summary: 917 layers, 7,292,826 parameters, 7,292,810 gradients, 27.4 GFLOPs\n",
      "\n",
      "Transferred 1333/1339 items from pretrained weights\n",
      "Freezing layer 'model.22.dfl.conv.weight'\n",
      "\u001b[34m\u001b[1mAMP: \u001b[0mrunning Automatic Mixed Precision (AMP) checks with YOLOv8n...\n"
     ]
    },
    {
     "name": "stderr",
     "output_type": "stream",
     "text": [
      "c:\\Users\\hxxzi\\AppData\\Local\\Programs\\Python\\Python311\\Lib\\site-packages\\torch\\nn\\modules\\conv.py:456: UserWarning: Plan failed with a cudnnException: CUDNN_BACKEND_EXECUTION_PLAN_DESCRIPTOR: cudnnFinalize Descriptor Failed cudnn_status: CUDNN_STATUS_NOT_SUPPORTED (Triggered internally at ..\\aten\\src\\ATen\\native\\cudnn\\Conv_v8.cpp:919.)\n",
      "  return F.conv2d(input, weight, bias, self.stride,\n"
     ]
    },
    {
     "name": "stdout",
     "output_type": "stream",
     "text": [
      "\u001b[34m\u001b[1mAMP: \u001b[0mchecks passed \n"
     ]
    },
    {
     "name": "stderr",
     "output_type": "stream",
     "text": [
      "\u001b[34m\u001b[1mtrain: \u001b[0mScanning C:\\Users\\hxxzi\\Desktop\\GitHub\\final-project\\8\\data\\2\\train\\labels.cache... 1364 images, 0 backgrounds, 0 corrupt: 100%|██████████| 1364/1364 [00:00<?, ?it/s]\n",
      "\u001b[34m\u001b[1mval: \u001b[0mScanning C:\\Users\\hxxzi\\Desktop\\GitHub\\final-project\\8\\data\\2\\valid\\labels.cache... 100 images, 0 backgrounds, 0 corrupt: 100%|██████████| 100/100 [00:00<?, ?it/s]"
     ]
    },
    {
     "name": "stdout",
     "output_type": "stream",
     "text": [
      "WARNING  Box and segment counts should be equal, but got len(segments) = 2, len(boxes) = 263. To resolve this only boxes will be used and all segments will be removed. To avoid this please supply either a detect or segment dataset, not a detect-segment mixed dataset.\n"
     ]
    },
    {
     "name": "stderr",
     "output_type": "stream",
     "text": [
      "\n"
     ]
    },
    {
     "name": "stdout",
     "output_type": "stream",
     "text": [
      "Plotting labels to runs\\detect\\train6\\labels.jpg... \n",
      "\u001b[34m\u001b[1moptimizer:\u001b[0m 'optimizer=auto' found, ignoring 'lr0=0.01' and 'momentum=0.937' and determining best 'optimizer', 'lr0' and 'momentum' automatically... \n",
      "\u001b[34m\u001b[1moptimizer:\u001b[0m AdamW(lr=0.000556, momentum=0.9) with parameter groups 221 weight(decay=0.0), 228 weight(decay=0.0005), 227 bias(decay=0.0)\n",
      "Image sizes 640 train, 640 val\n",
      "Using 8 dataloader workers\n",
      "Logging results to \u001b[1mruns\\detect\\train6\u001b[0m\n",
      "Starting training for 100 epochs...\n",
      "\n",
      "      Epoch    GPU_mem   box_loss   cls_loss   dfl_loss  Instances       Size\n"
     ]
    },
    {
     "name": "stderr",
     "output_type": "stream",
     "text": [
      "      1/100      2.91G      1.416       3.01      1.894         27        640: 100%|██████████| 171/171 [00:54<00:00,  3.11it/s]\n",
      "                 Class     Images  Instances      Box(P          R      mAP50  mAP50-95): 100%|██████████| 7/7 [00:01<00:00,  4.33it/s]"
     ]
    },
    {
     "name": "stdout",
     "output_type": "stream",
     "text": [
      "                   all        100        263      0.458      0.401      0.352      0.181\n"
     ]
    },
    {
     "name": "stderr",
     "output_type": "stream",
     "text": [
      "\n"
     ]
    },
    {
     "name": "stdout",
     "output_type": "stream",
     "text": [
      "\n",
      "      Epoch    GPU_mem   box_loss   cls_loss   dfl_loss  Instances       Size\n"
     ]
    },
    {
     "name": "stderr",
     "output_type": "stream",
     "text": [
      "      2/100      2.91G      1.303      1.992      1.721         26        640: 100%|██████████| 171/171 [00:43<00:00,  3.91it/s]\n",
      "                 Class     Images  Instances      Box(P          R      mAP50  mAP50-95): 100%|██████████| 7/7 [00:01<00:00,  5.60it/s]"
     ]
    },
    {
     "name": "stdout",
     "output_type": "stream",
     "text": [
      "                   all        100        263      0.646      0.411      0.504      0.254\n"
     ]
    },
    {
     "name": "stderr",
     "output_type": "stream",
     "text": [
      "\n"
     ]
    },
    {
     "name": "stdout",
     "output_type": "stream",
     "text": [
      "\n",
      "      Epoch    GPU_mem   box_loss   cls_loss   dfl_loss  Instances       Size\n"
     ]
    },
    {
     "name": "stderr",
     "output_type": "stream",
     "text": [
      "      3/100      2.92G      1.298      1.885      1.732         16        640: 100%|██████████| 171/171 [00:40<00:00,  4.18it/s]\n",
      "                 Class     Images  Instances      Box(P          R      mAP50  mAP50-95): 100%|██████████| 7/7 [00:01<00:00,  5.94it/s]"
     ]
    },
    {
     "name": "stdout",
     "output_type": "stream",
     "text": [
      "                   all        100        263      0.481      0.469      0.512      0.272\n"
     ]
    },
    {
     "name": "stderr",
     "output_type": "stream",
     "text": [
      "\n"
     ]
    },
    {
     "name": "stdout",
     "output_type": "stream",
     "text": [
      "\n",
      "      Epoch    GPU_mem   box_loss   cls_loss   dfl_loss  Instances       Size\n"
     ]
    },
    {
     "name": "stderr",
     "output_type": "stream",
     "text": [
      "      4/100      2.92G      1.316      1.744      1.754         23        640: 100%|██████████| 171/171 [00:40<00:00,  4.26it/s]\n",
      "                 Class     Images  Instances      Box(P          R      mAP50  mAP50-95): 100%|██████████| 7/7 [00:01<00:00,  5.79it/s]"
     ]
    },
    {
     "name": "stdout",
     "output_type": "stream",
     "text": [
      "                   all        100        263      0.529      0.499      0.523      0.256\n"
     ]
    },
    {
     "name": "stderr",
     "output_type": "stream",
     "text": [
      "\n"
     ]
    },
    {
     "name": "stdout",
     "output_type": "stream",
     "text": [
      "\n",
      "      Epoch    GPU_mem   box_loss   cls_loss   dfl_loss  Instances       Size\n"
     ]
    },
    {
     "name": "stderr",
     "output_type": "stream",
     "text": [
      "      5/100      2.92G      1.272      1.678      1.708         20        640: 100%|██████████| 171/171 [00:40<00:00,  4.24it/s]\n",
      "                 Class     Images  Instances      Box(P          R      mAP50  mAP50-95): 100%|██████████| 7/7 [00:01<00:00,  6.08it/s]"
     ]
    },
    {
     "name": "stdout",
     "output_type": "stream",
     "text": [
      "                   all        100        263      0.605      0.524      0.554      0.264\n"
     ]
    },
    {
     "name": "stderr",
     "output_type": "stream",
     "text": [
      "\n"
     ]
    },
    {
     "name": "stdout",
     "output_type": "stream",
     "text": [
      "\n",
      "      Epoch    GPU_mem   box_loss   cls_loss   dfl_loss  Instances       Size\n"
     ]
    },
    {
     "name": "stderr",
     "output_type": "stream",
     "text": [
      "      6/100      2.92G      1.257      1.569      1.707         25        640: 100%|██████████| 171/171 [00:40<00:00,  4.22it/s]\n",
      "                 Class     Images  Instances      Box(P          R      mAP50  mAP50-95): 100%|██████████| 7/7 [00:01<00:00,  5.93it/s]"
     ]
    },
    {
     "name": "stdout",
     "output_type": "stream",
     "text": [
      "                   all        100        263      0.507      0.598      0.586      0.252\n"
     ]
    },
    {
     "name": "stderr",
     "output_type": "stream",
     "text": [
      "\n"
     ]
    },
    {
     "name": "stdout",
     "output_type": "stream",
     "text": [
      "\n",
      "      Epoch    GPU_mem   box_loss   cls_loss   dfl_loss  Instances       Size\n"
     ]
    },
    {
     "name": "stderr",
     "output_type": "stream",
     "text": [
      "      7/100      2.91G      1.229      1.478      1.659         29        640: 100%|██████████| 171/171 [00:40<00:00,  4.23it/s]\n",
      "                 Class     Images  Instances      Box(P          R      mAP50  mAP50-95): 100%|██████████| 7/7 [00:01<00:00,  5.72it/s]"
     ]
    },
    {
     "name": "stdout",
     "output_type": "stream",
     "text": [
      "                   all        100        263      0.457      0.634       0.56      0.298\n"
     ]
    },
    {
     "name": "stderr",
     "output_type": "stream",
     "text": [
      "\n"
     ]
    },
    {
     "name": "stdout",
     "output_type": "stream",
     "text": [
      "\n",
      "      Epoch    GPU_mem   box_loss   cls_loss   dfl_loss  Instances       Size\n"
     ]
    },
    {
     "name": "stderr",
     "output_type": "stream",
     "text": [
      "      8/100      2.92G      1.203      1.437      1.658         16        640: 100%|██████████| 171/171 [00:40<00:00,  4.26it/s]\n",
      "                 Class     Images  Instances      Box(P          R      mAP50  mAP50-95): 100%|██████████| 7/7 [00:01<00:00,  5.63it/s]"
     ]
    },
    {
     "name": "stdout",
     "output_type": "stream",
     "text": [
      "                   all        100        263      0.633      0.636      0.682      0.333\n"
     ]
    },
    {
     "name": "stderr",
     "output_type": "stream",
     "text": [
      "\n"
     ]
    },
    {
     "name": "stdout",
     "output_type": "stream",
     "text": [
      "\n",
      "      Epoch    GPU_mem   box_loss   cls_loss   dfl_loss  Instances       Size\n"
     ]
    },
    {
     "name": "stderr",
     "output_type": "stream",
     "text": [
      "      9/100      2.89G       1.18      1.369      1.641         15        640: 100%|██████████| 171/171 [00:40<00:00,  4.18it/s]\n",
      "                 Class     Images  Instances      Box(P          R      mAP50  mAP50-95): 100%|██████████| 7/7 [00:01<00:00,  6.03it/s]"
     ]
    },
    {
     "name": "stdout",
     "output_type": "stream",
     "text": [
      "                   all        100        263      0.649       0.62      0.669      0.397\n"
     ]
    },
    {
     "name": "stderr",
     "output_type": "stream",
     "text": [
      "\n"
     ]
    },
    {
     "name": "stdout",
     "output_type": "stream",
     "text": [
      "\n",
      "      Epoch    GPU_mem   box_loss   cls_loss   dfl_loss  Instances       Size\n"
     ]
    },
    {
     "name": "stderr",
     "output_type": "stream",
     "text": [
      "     10/100      2.92G      1.172      1.316      1.621         22        640: 100%|██████████| 171/171 [00:40<00:00,  4.18it/s]\n",
      "                 Class     Images  Instances      Box(P          R      mAP50  mAP50-95): 100%|██████████| 7/7 [00:01<00:00,  5.99it/s]"
     ]
    },
    {
     "name": "stdout",
     "output_type": "stream",
     "text": [
      "                   all        100        263      0.673      0.563      0.636      0.332\n"
     ]
    },
    {
     "name": "stderr",
     "output_type": "stream",
     "text": [
      "\n"
     ]
    },
    {
     "name": "stdout",
     "output_type": "stream",
     "text": [
      "\n",
      "      Epoch    GPU_mem   box_loss   cls_loss   dfl_loss  Instances       Size\n"
     ]
    },
    {
     "name": "stderr",
     "output_type": "stream",
     "text": [
      "     11/100      2.92G      1.136      1.256      1.605         18        640: 100%|██████████| 171/171 [00:40<00:00,  4.24it/s]\n",
      "                 Class     Images  Instances      Box(P          R      mAP50  mAP50-95): 100%|██████████| 7/7 [00:01<00:00,  5.53it/s]"
     ]
    },
    {
     "name": "stdout",
     "output_type": "stream",
     "text": [
      "                   all        100        263      0.593      0.704      0.683      0.361\n"
     ]
    },
    {
     "name": "stderr",
     "output_type": "stream",
     "text": [
      "\n"
     ]
    },
    {
     "name": "stdout",
     "output_type": "stream",
     "text": [
      "\n",
      "      Epoch    GPU_mem   box_loss   cls_loss   dfl_loss  Instances       Size\n"
     ]
    },
    {
     "name": "stderr",
     "output_type": "stream",
     "text": [
      "     12/100      2.92G      1.156       1.27      1.631         24        640: 100%|██████████| 171/171 [00:40<00:00,  4.18it/s]\n",
      "                 Class     Images  Instances      Box(P          R      mAP50  mAP50-95): 100%|██████████| 7/7 [00:01<00:00,  5.68it/s]"
     ]
    },
    {
     "name": "stdout",
     "output_type": "stream",
     "text": [
      "                   all        100        263      0.689      0.646      0.702      0.339\n"
     ]
    },
    {
     "name": "stderr",
     "output_type": "stream",
     "text": [
      "\n"
     ]
    },
    {
     "name": "stdout",
     "output_type": "stream",
     "text": [
      "\n",
      "      Epoch    GPU_mem   box_loss   cls_loss   dfl_loss  Instances       Size\n"
     ]
    },
    {
     "name": "stderr",
     "output_type": "stream",
     "text": [
      "     13/100      2.92G      1.103      1.178       1.58         12        640: 100%|██████████| 171/171 [00:40<00:00,  4.21it/s]\n",
      "                 Class     Images  Instances      Box(P          R      mAP50  mAP50-95): 100%|██████████| 7/7 [00:01<00:00,  5.65it/s]"
     ]
    },
    {
     "name": "stdout",
     "output_type": "stream",
     "text": [
      "                   all        100        263      0.698      0.659      0.724      0.475\n"
     ]
    },
    {
     "name": "stderr",
     "output_type": "stream",
     "text": [
      "\n"
     ]
    },
    {
     "name": "stdout",
     "output_type": "stream",
     "text": [
      "\n",
      "      Epoch    GPU_mem   box_loss   cls_loss   dfl_loss  Instances       Size\n"
     ]
    },
    {
     "name": "stderr",
     "output_type": "stream",
     "text": [
      "     14/100      2.93G      1.099      1.155      1.573         17        640: 100%|██████████| 171/171 [00:40<00:00,  4.20it/s]\n",
      "                 Class     Images  Instances      Box(P          R      mAP50  mAP50-95): 100%|██████████| 7/7 [00:01<00:00,  6.06it/s]"
     ]
    },
    {
     "name": "stdout",
     "output_type": "stream",
     "text": [
      "                   all        100        263      0.721      0.642      0.735      0.492\n"
     ]
    },
    {
     "name": "stderr",
     "output_type": "stream",
     "text": [
      "\n"
     ]
    },
    {
     "name": "stdout",
     "output_type": "stream",
     "text": [
      "\n",
      "      Epoch    GPU_mem   box_loss   cls_loss   dfl_loss  Instances       Size\n"
     ]
    },
    {
     "name": "stderr",
     "output_type": "stream",
     "text": [
      "     15/100      2.91G       1.07      1.122      1.558         25        640: 100%|██████████| 171/171 [00:40<00:00,  4.21it/s]\n",
      "                 Class     Images  Instances      Box(P          R      mAP50  mAP50-95): 100%|██████████| 7/7 [00:01<00:00,  5.90it/s]"
     ]
    },
    {
     "name": "stdout",
     "output_type": "stream",
     "text": [
      "                   all        100        263      0.695      0.699       0.74      0.454\n"
     ]
    },
    {
     "name": "stderr",
     "output_type": "stream",
     "text": [
      "\n"
     ]
    },
    {
     "name": "stdout",
     "output_type": "stream",
     "text": [
      "\n",
      "      Epoch    GPU_mem   box_loss   cls_loss   dfl_loss  Instances       Size\n"
     ]
    },
    {
     "name": "stderr",
     "output_type": "stream",
     "text": [
      "     16/100      2.92G       1.06      1.091      1.542         34        640: 100%|██████████| 171/171 [00:40<00:00,  4.21it/s]\n",
      "                 Class     Images  Instances      Box(P          R      mAP50  mAP50-95): 100%|██████████| 7/7 [00:01<00:00,  5.98it/s]"
     ]
    },
    {
     "name": "stdout",
     "output_type": "stream",
     "text": [
      "                   all        100        263      0.662      0.697       0.73      0.433\n"
     ]
    },
    {
     "name": "stderr",
     "output_type": "stream",
     "text": [
      "\n"
     ]
    },
    {
     "name": "stdout",
     "output_type": "stream",
     "text": [
      "\n",
      "      Epoch    GPU_mem   box_loss   cls_loss   dfl_loss  Instances       Size\n"
     ]
    },
    {
     "name": "stderr",
     "output_type": "stream",
     "text": [
      "     17/100      2.89G      1.033      1.046      1.533         24        640: 100%|██████████| 171/171 [00:40<00:00,  4.23it/s]\n",
      "                 Class     Images  Instances      Box(P          R      mAP50  mAP50-95): 100%|██████████| 7/7 [00:01<00:00,  5.32it/s]"
     ]
    },
    {
     "name": "stdout",
     "output_type": "stream",
     "text": [
      "                   all        100        263      0.649      0.687      0.715      0.448\n"
     ]
    },
    {
     "name": "stderr",
     "output_type": "stream",
     "text": [
      "\n"
     ]
    },
    {
     "name": "stdout",
     "output_type": "stream",
     "text": [
      "\n",
      "      Epoch    GPU_mem   box_loss   cls_loss   dfl_loss  Instances       Size\n"
     ]
    },
    {
     "name": "stderr",
     "output_type": "stream",
     "text": [
      "     18/100      2.92G      1.048       1.07      1.524         47        640: 100%|██████████| 171/171 [00:40<00:00,  4.24it/s]\n",
      "                 Class     Images  Instances      Box(P          R      mAP50  mAP50-95): 100%|██████████| 7/7 [00:01<00:00,  5.77it/s]"
     ]
    },
    {
     "name": "stdout",
     "output_type": "stream",
     "text": [
      "                   all        100        263      0.738      0.677      0.761      0.469\n"
     ]
    },
    {
     "name": "stderr",
     "output_type": "stream",
     "text": [
      "\n"
     ]
    },
    {
     "name": "stdout",
     "output_type": "stream",
     "text": [
      "\n",
      "      Epoch    GPU_mem   box_loss   cls_loss   dfl_loss  Instances       Size\n"
     ]
    },
    {
     "name": "stderr",
     "output_type": "stream",
     "text": [
      "     19/100      2.92G      1.039      1.034      1.521         18        640: 100%|██████████| 171/171 [00:40<00:00,  4.20it/s]\n",
      "                 Class     Images  Instances      Box(P          R      mAP50  mAP50-95): 100%|██████████| 7/7 [00:01<00:00,  5.60it/s]"
     ]
    },
    {
     "name": "stdout",
     "output_type": "stream",
     "text": [
      "                   all        100        263      0.755      0.696      0.776      0.511\n"
     ]
    },
    {
     "name": "stderr",
     "output_type": "stream",
     "text": [
      "\n"
     ]
    },
    {
     "name": "stdout",
     "output_type": "stream",
     "text": [
      "\n",
      "      Epoch    GPU_mem   box_loss   cls_loss   dfl_loss  Instances       Size\n"
     ]
    },
    {
     "name": "stderr",
     "output_type": "stream",
     "text": [
      "     20/100      2.93G       1.02      0.995      1.516         20        640: 100%|██████████| 171/171 [00:40<00:00,  4.20it/s]\n",
      "                 Class     Images  Instances      Box(P          R      mAP50  mAP50-95): 100%|██████████| 7/7 [00:01<00:00,  5.66it/s]"
     ]
    },
    {
     "name": "stdout",
     "output_type": "stream",
     "text": [
      "                   all        100        263      0.697      0.703      0.745      0.493\n"
     ]
    },
    {
     "name": "stderr",
     "output_type": "stream",
     "text": [
      "\n"
     ]
    },
    {
     "name": "stdout",
     "output_type": "stream",
     "text": [
      "\n",
      "      Epoch    GPU_mem   box_loss   cls_loss   dfl_loss  Instances       Size\n"
     ]
    },
    {
     "name": "stderr",
     "output_type": "stream",
     "text": [
      "     21/100      2.92G      1.013       1.03      1.504         21        640: 100%|██████████| 171/171 [00:40<00:00,  4.20it/s]\n",
      "                 Class     Images  Instances      Box(P          R      mAP50  mAP50-95): 100%|██████████| 7/7 [00:01<00:00,  5.83it/s]"
     ]
    },
    {
     "name": "stdout",
     "output_type": "stream",
     "text": [
      "                   all        100        263      0.681      0.709      0.744      0.514\n"
     ]
    },
    {
     "name": "stderr",
     "output_type": "stream",
     "text": [
      "\n"
     ]
    },
    {
     "name": "stdout",
     "output_type": "stream",
     "text": [
      "\n",
      "      Epoch    GPU_mem   box_loss   cls_loss   dfl_loss  Instances       Size\n"
     ]
    },
    {
     "name": "stderr",
     "output_type": "stream",
     "text": [
      "     22/100      2.92G     0.9806     0.9851      1.481         24        640: 100%|██████████| 171/171 [00:40<00:00,  4.19it/s]\n",
      "                 Class     Images  Instances      Box(P          R      mAP50  mAP50-95): 100%|██████████| 7/7 [00:01<00:00,  5.92it/s]"
     ]
    },
    {
     "name": "stdout",
     "output_type": "stream",
     "text": [
      "                   all        100        263        0.7      0.685       0.75      0.468\n"
     ]
    },
    {
     "name": "stderr",
     "output_type": "stream",
     "text": [
      "\n"
     ]
    },
    {
     "name": "stdout",
     "output_type": "stream",
     "text": [
      "\n",
      "      Epoch    GPU_mem   box_loss   cls_loss   dfl_loss  Instances       Size\n"
     ]
    },
    {
     "name": "stderr",
     "output_type": "stream",
     "text": [
      "     23/100      2.92G     0.9979     0.9738      1.481         23        640: 100%|██████████| 171/171 [00:40<00:00,  4.20it/s]\n",
      "                 Class     Images  Instances      Box(P          R      mAP50  mAP50-95): 100%|██████████| 7/7 [00:01<00:00,  6.08it/s]"
     ]
    },
    {
     "name": "stdout",
     "output_type": "stream",
     "text": [
      "                   all        100        263      0.724      0.697      0.759      0.533\n"
     ]
    },
    {
     "name": "stderr",
     "output_type": "stream",
     "text": [
      "\n"
     ]
    },
    {
     "name": "stdout",
     "output_type": "stream",
     "text": [
      "\n",
      "      Epoch    GPU_mem   box_loss   cls_loss   dfl_loss  Instances       Size\n"
     ]
    },
    {
     "name": "stderr",
     "output_type": "stream",
     "text": [
      "     24/100      2.91G     0.9748     0.9408      1.468         38        640: 100%|██████████| 171/171 [00:40<00:00,  4.24it/s]\n",
      "                 Class     Images  Instances      Box(P          R      mAP50  mAP50-95): 100%|██████████| 7/7 [00:01<00:00,  6.09it/s]"
     ]
    },
    {
     "name": "stdout",
     "output_type": "stream",
     "text": [
      "                   all        100        263      0.747      0.719      0.788      0.531\n"
     ]
    },
    {
     "name": "stderr",
     "output_type": "stream",
     "text": [
      "\n"
     ]
    },
    {
     "name": "stdout",
     "output_type": "stream",
     "text": [
      "\n",
      "      Epoch    GPU_mem   box_loss   cls_loss   dfl_loss  Instances       Size\n"
     ]
    },
    {
     "name": "stderr",
     "output_type": "stream",
     "text": [
      "     25/100      2.89G     0.9709      0.937      1.455         16        640: 100%|██████████| 171/171 [00:41<00:00,  4.13it/s]\n",
      "                 Class     Images  Instances      Box(P          R      mAP50  mAP50-95): 100%|██████████| 7/7 [00:01<00:00,  5.92it/s]"
     ]
    },
    {
     "name": "stdout",
     "output_type": "stream",
     "text": [
      "                   all        100        263      0.698       0.73      0.777      0.545\n"
     ]
    },
    {
     "name": "stderr",
     "output_type": "stream",
     "text": [
      "\n"
     ]
    },
    {
     "name": "stdout",
     "output_type": "stream",
     "text": [
      "\n",
      "      Epoch    GPU_mem   box_loss   cls_loss   dfl_loss  Instances       Size\n"
     ]
    },
    {
     "name": "stderr",
     "output_type": "stream",
     "text": [
      "     26/100      2.92G     0.9603     0.9221      1.458         17        640: 100%|██████████| 171/171 [00:40<00:00,  4.22it/s]\n",
      "                 Class     Images  Instances      Box(P          R      mAP50  mAP50-95): 100%|██████████| 7/7 [00:01<00:00,  5.83it/s]"
     ]
    },
    {
     "name": "stdout",
     "output_type": "stream",
     "text": [
      "                   all        100        263      0.723       0.73       0.77      0.538\n"
     ]
    },
    {
     "name": "stderr",
     "output_type": "stream",
     "text": [
      "\n"
     ]
    },
    {
     "name": "stdout",
     "output_type": "stream",
     "text": [
      "\n",
      "      Epoch    GPU_mem   box_loss   cls_loss   dfl_loss  Instances       Size\n"
     ]
    },
    {
     "name": "stderr",
     "output_type": "stream",
     "text": [
      "     27/100      2.92G     0.9367     0.8884      1.443         23        640: 100%|██████████| 171/171 [00:41<00:00,  4.16it/s]\n",
      "                 Class     Images  Instances      Box(P          R      mAP50  mAP50-95): 100%|██████████| 7/7 [00:01<00:00,  6.05it/s]"
     ]
    },
    {
     "name": "stdout",
     "output_type": "stream",
     "text": [
      "                   all        100        263       0.76       0.68      0.732      0.536\n"
     ]
    },
    {
     "name": "stderr",
     "output_type": "stream",
     "text": [
      "\n"
     ]
    },
    {
     "name": "stdout",
     "output_type": "stream",
     "text": [
      "\n",
      "      Epoch    GPU_mem   box_loss   cls_loss   dfl_loss  Instances       Size\n"
     ]
    },
    {
     "name": "stderr",
     "output_type": "stream",
     "text": [
      "     28/100      2.92G      0.938     0.8833      1.443         19        640: 100%|██████████| 171/171 [00:40<00:00,  4.18it/s]\n",
      "                 Class     Images  Instances      Box(P          R      mAP50  mAP50-95): 100%|██████████| 7/7 [00:01<00:00,  5.51it/s]"
     ]
    },
    {
     "name": "stdout",
     "output_type": "stream",
     "text": [
      "                   all        100        263      0.673      0.724      0.775      0.562\n"
     ]
    },
    {
     "name": "stderr",
     "output_type": "stream",
     "text": [
      "\n"
     ]
    },
    {
     "name": "stdout",
     "output_type": "stream",
     "text": [
      "\n",
      "      Epoch    GPU_mem   box_loss   cls_loss   dfl_loss  Instances       Size\n"
     ]
    },
    {
     "name": "stderr",
     "output_type": "stream",
     "text": [
      "     29/100      2.92G     0.9235     0.8466      1.418         22        640: 100%|██████████| 171/171 [00:40<00:00,  4.21it/s]\n",
      "                 Class     Images  Instances      Box(P          R      mAP50  mAP50-95): 100%|██████████| 7/7 [00:01<00:00,  6.10it/s]"
     ]
    },
    {
     "name": "stdout",
     "output_type": "stream",
     "text": [
      "                   all        100        263      0.716      0.697      0.735      0.479\n"
     ]
    },
    {
     "name": "stderr",
     "output_type": "stream",
     "text": [
      "\n"
     ]
    },
    {
     "name": "stdout",
     "output_type": "stream",
     "text": [
      "\n",
      "      Epoch    GPU_mem   box_loss   cls_loss   dfl_loss  Instances       Size\n"
     ]
    },
    {
     "name": "stderr",
     "output_type": "stream",
     "text": [
      "     30/100      2.92G     0.9062      0.843      1.413         20        640: 100%|██████████| 171/171 [00:40<00:00,  4.18it/s]\n",
      "                 Class     Images  Instances      Box(P          R      mAP50  mAP50-95): 100%|██████████| 7/7 [00:01<00:00,  5.96it/s]"
     ]
    },
    {
     "name": "stdout",
     "output_type": "stream",
     "text": [
      "                   all        100        263      0.734      0.749      0.777      0.516\n"
     ]
    },
    {
     "name": "stderr",
     "output_type": "stream",
     "text": [
      "\n"
     ]
    },
    {
     "name": "stdout",
     "output_type": "stream",
     "text": [
      "\n",
      "      Epoch    GPU_mem   box_loss   cls_loss   dfl_loss  Instances       Size\n"
     ]
    },
    {
     "name": "stderr",
     "output_type": "stream",
     "text": [
      "     31/100      2.92G     0.9108     0.8623      1.416         15        640: 100%|██████████| 171/171 [00:41<00:00,  4.17it/s]\n",
      "                 Class     Images  Instances      Box(P          R      mAP50  mAP50-95): 100%|██████████| 7/7 [00:01<00:00,  5.99it/s]"
     ]
    },
    {
     "name": "stdout",
     "output_type": "stream",
     "text": [
      "                   all        100        263      0.783      0.755      0.804      0.616\n"
     ]
    },
    {
     "name": "stderr",
     "output_type": "stream",
     "text": [
      "\n"
     ]
    },
    {
     "name": "stdout",
     "output_type": "stream",
     "text": [
      "\n",
      "      Epoch    GPU_mem   box_loss   cls_loss   dfl_loss  Instances       Size\n"
     ]
    },
    {
     "name": "stderr",
     "output_type": "stream",
     "text": [
      "     32/100      2.92G     0.8979     0.8133      1.417         20        640: 100%|██████████| 171/171 [00:40<00:00,  4.19it/s]\n",
      "                 Class     Images  Instances      Box(P          R      mAP50  mAP50-95): 100%|██████████| 7/7 [00:01<00:00,  5.94it/s]"
     ]
    },
    {
     "name": "stdout",
     "output_type": "stream",
     "text": [
      "                   all        100        263      0.774      0.758      0.792      0.581\n"
     ]
    },
    {
     "name": "stderr",
     "output_type": "stream",
     "text": [
      "\n"
     ]
    },
    {
     "name": "stdout",
     "output_type": "stream",
     "text": [
      "\n",
      "      Epoch    GPU_mem   box_loss   cls_loss   dfl_loss  Instances       Size\n"
     ]
    },
    {
     "name": "stderr",
     "output_type": "stream",
     "text": [
      "     33/100      2.89G     0.8895     0.8329      1.399          9        640: 100%|██████████| 171/171 [00:40<00:00,  4.22it/s]\n",
      "                 Class     Images  Instances      Box(P          R      mAP50  mAP50-95): 100%|██████████| 7/7 [00:01<00:00,  5.89it/s]"
     ]
    },
    {
     "name": "stdout",
     "output_type": "stream",
     "text": [
      "                   all        100        263      0.726      0.758      0.795      0.555\n"
     ]
    },
    {
     "name": "stderr",
     "output_type": "stream",
     "text": [
      "\n"
     ]
    },
    {
     "name": "stdout",
     "output_type": "stream",
     "text": [
      "\n",
      "      Epoch    GPU_mem   box_loss   cls_loss   dfl_loss  Instances       Size\n"
     ]
    },
    {
     "name": "stderr",
     "output_type": "stream",
     "text": [
      "     34/100      2.92G     0.8988     0.8236      1.393         25        640: 100%|██████████| 171/171 [00:40<00:00,  4.21it/s]\n",
      "                 Class     Images  Instances      Box(P          R      mAP50  mAP50-95): 100%|██████████| 7/7 [00:01<00:00,  6.00it/s]"
     ]
    },
    {
     "name": "stdout",
     "output_type": "stream",
     "text": [
      "                   all        100        263      0.749      0.744      0.796      0.543\n"
     ]
    },
    {
     "name": "stderr",
     "output_type": "stream",
     "text": [
      "\n"
     ]
    },
    {
     "name": "stdout",
     "output_type": "stream",
     "text": [
      "\n",
      "      Epoch    GPU_mem   box_loss   cls_loss   dfl_loss  Instances       Size\n"
     ]
    },
    {
     "name": "stderr",
     "output_type": "stream",
     "text": [
      "     35/100      2.92G     0.8958     0.8107      1.389         26        640: 100%|██████████| 171/171 [00:40<00:00,  4.18it/s]\n",
      "                 Class     Images  Instances      Box(P          R      mAP50  mAP50-95): 100%|██████████| 7/7 [00:01<00:00,  5.79it/s]"
     ]
    },
    {
     "name": "stdout",
     "output_type": "stream",
     "text": [
      "                   all        100        263      0.739      0.729      0.781      0.554\n"
     ]
    },
    {
     "name": "stderr",
     "output_type": "stream",
     "text": [
      "\n"
     ]
    },
    {
     "name": "stdout",
     "output_type": "stream",
     "text": [
      "\n",
      "      Epoch    GPU_mem   box_loss   cls_loss   dfl_loss  Instances       Size\n"
     ]
    },
    {
     "name": "stderr",
     "output_type": "stream",
     "text": [
      "     36/100      2.92G     0.8806     0.7641      1.376         14        640: 100%|██████████| 171/171 [00:40<00:00,  4.20it/s]\n",
      "                 Class     Images  Instances      Box(P          R      mAP50  mAP50-95): 100%|██████████| 7/7 [00:01<00:00,  5.98it/s]"
     ]
    },
    {
     "name": "stdout",
     "output_type": "stream",
     "text": [
      "                   all        100        263      0.751      0.733      0.774      0.564\n"
     ]
    },
    {
     "name": "stderr",
     "output_type": "stream",
     "text": [
      "\n"
     ]
    },
    {
     "name": "stdout",
     "output_type": "stream",
     "text": [
      "\n",
      "      Epoch    GPU_mem   box_loss   cls_loss   dfl_loss  Instances       Size\n"
     ]
    },
    {
     "name": "stderr",
     "output_type": "stream",
     "text": [
      "     37/100      2.92G     0.8802     0.7811      1.389         28        640: 100%|██████████| 171/171 [00:41<00:00,  4.15it/s]\n",
      "                 Class     Images  Instances      Box(P          R      mAP50  mAP50-95): 100%|██████████| 7/7 [00:01<00:00,  5.73it/s]"
     ]
    },
    {
     "name": "stdout",
     "output_type": "stream",
     "text": [
      "                   all        100        263       0.75      0.694      0.744      0.567\n"
     ]
    },
    {
     "name": "stderr",
     "output_type": "stream",
     "text": [
      "\n"
     ]
    },
    {
     "name": "stdout",
     "output_type": "stream",
     "text": [
      "\n",
      "      Epoch    GPU_mem   box_loss   cls_loss   dfl_loss  Instances       Size\n"
     ]
    },
    {
     "name": "stderr",
     "output_type": "stream",
     "text": [
      "     38/100      2.92G     0.8511     0.7525      1.362         46        640: 100%|██████████| 171/171 [00:41<00:00,  4.16it/s]\n",
      "                 Class     Images  Instances      Box(P          R      mAP50  mAP50-95): 100%|██████████| 7/7 [00:01<00:00,  5.67it/s]"
     ]
    },
    {
     "name": "stdout",
     "output_type": "stream",
     "text": [
      "                   all        100        263      0.684      0.776      0.802      0.601\n"
     ]
    },
    {
     "name": "stderr",
     "output_type": "stream",
     "text": [
      "\n"
     ]
    },
    {
     "name": "stdout",
     "output_type": "stream",
     "text": [
      "\n",
      "      Epoch    GPU_mem   box_loss   cls_loss   dfl_loss  Instances       Size\n"
     ]
    },
    {
     "name": "stderr",
     "output_type": "stream",
     "text": [
      "     39/100      2.91G     0.8621     0.7594      1.384         41        640: 100%|██████████| 171/171 [00:40<00:00,  4.18it/s]\n",
      "                 Class     Images  Instances      Box(P          R      mAP50  mAP50-95): 100%|██████████| 7/7 [00:01<00:00,  6.14it/s]"
     ]
    },
    {
     "name": "stdout",
     "output_type": "stream",
     "text": [
      "                   all        100        263      0.748      0.732      0.786      0.569\n"
     ]
    },
    {
     "name": "stderr",
     "output_type": "stream",
     "text": [
      "\n"
     ]
    },
    {
     "name": "stdout",
     "output_type": "stream",
     "text": [
      "\n",
      "      Epoch    GPU_mem   box_loss   cls_loss   dfl_loss  Instances       Size\n"
     ]
    },
    {
     "name": "stderr",
     "output_type": "stream",
     "text": [
      "     40/100      2.92G     0.8675     0.7561      1.375         27        640: 100%|██████████| 171/171 [00:40<00:00,  4.20it/s]\n",
      "                 Class     Images  Instances      Box(P          R      mAP50  mAP50-95): 100%|██████████| 7/7 [00:01<00:00,  6.15it/s]"
     ]
    },
    {
     "name": "stdout",
     "output_type": "stream",
     "text": [
      "                   all        100        263      0.734      0.773      0.803      0.587\n"
     ]
    },
    {
     "name": "stderr",
     "output_type": "stream",
     "text": [
      "\n"
     ]
    },
    {
     "name": "stdout",
     "output_type": "stream",
     "text": [
      "\n",
      "      Epoch    GPU_mem   box_loss   cls_loss   dfl_loss  Instances       Size\n"
     ]
    },
    {
     "name": "stderr",
     "output_type": "stream",
     "text": [
      "     41/100      2.89G      0.832     0.7149      1.359         23        640: 100%|██████████| 171/171 [00:41<00:00,  4.12it/s]\n",
      "                 Class     Images  Instances      Box(P          R      mAP50  mAP50-95): 100%|██████████| 7/7 [00:01<00:00,  6.00it/s]"
     ]
    },
    {
     "name": "stdout",
     "output_type": "stream",
     "text": [
      "                   all        100        263      0.764      0.701      0.773      0.593\n"
     ]
    },
    {
     "name": "stderr",
     "output_type": "stream",
     "text": [
      "\n"
     ]
    },
    {
     "name": "stdout",
     "output_type": "stream",
     "text": [
      "\n",
      "      Epoch    GPU_mem   box_loss   cls_loss   dfl_loss  Instances       Size\n"
     ]
    },
    {
     "name": "stderr",
     "output_type": "stream",
     "text": [
      "     42/100      2.92G     0.8413     0.7321      1.363         24        640: 100%|██████████| 171/171 [00:41<00:00,  4.17it/s]\n",
      "                 Class     Images  Instances      Box(P          R      mAP50  mAP50-95): 100%|██████████| 7/7 [00:01<00:00,  5.85it/s]"
     ]
    },
    {
     "name": "stdout",
     "output_type": "stream",
     "text": [
      "                   all        100        263      0.736       0.78      0.801      0.609\n"
     ]
    },
    {
     "name": "stderr",
     "output_type": "stream",
     "text": [
      "\n"
     ]
    },
    {
     "name": "stdout",
     "output_type": "stream",
     "text": [
      "\n",
      "      Epoch    GPU_mem   box_loss   cls_loss   dfl_loss  Instances       Size\n"
     ]
    },
    {
     "name": "stderr",
     "output_type": "stream",
     "text": [
      "     43/100      2.92G     0.8392     0.7236      1.356         30        640: 100%|██████████| 171/171 [00:40<00:00,  4.20it/s]\n",
      "                 Class     Images  Instances      Box(P          R      mAP50  mAP50-95): 100%|██████████| 7/7 [00:01<00:00,  5.96it/s]"
     ]
    },
    {
     "name": "stdout",
     "output_type": "stream",
     "text": [
      "                   all        100        263      0.792      0.723      0.796      0.591\n"
     ]
    },
    {
     "name": "stderr",
     "output_type": "stream",
     "text": [
      "\n"
     ]
    },
    {
     "name": "stdout",
     "output_type": "stream",
     "text": [
      "\n",
      "      Epoch    GPU_mem   box_loss   cls_loss   dfl_loss  Instances       Size\n"
     ]
    },
    {
     "name": "stderr",
     "output_type": "stream",
     "text": [
      "     44/100      2.92G     0.8304      0.713      1.359         37        640: 100%|██████████| 171/171 [00:40<00:00,  4.21it/s]\n",
      "                 Class     Images  Instances      Box(P          R      mAP50  mAP50-95): 100%|██████████| 7/7 [00:01<00:00,  6.29it/s]"
     ]
    },
    {
     "name": "stdout",
     "output_type": "stream",
     "text": [
      "                   all        100        263      0.787      0.708      0.782      0.583\n"
     ]
    },
    {
     "name": "stderr",
     "output_type": "stream",
     "text": [
      "\n"
     ]
    },
    {
     "name": "stdout",
     "output_type": "stream",
     "text": [
      "\n",
      "      Epoch    GPU_mem   box_loss   cls_loss   dfl_loss  Instances       Size\n"
     ]
    },
    {
     "name": "stderr",
     "output_type": "stream",
     "text": [
      "     45/100      2.92G     0.8276      0.705      1.335         17        640: 100%|██████████| 171/171 [00:40<00:00,  4.19it/s]\n",
      "                 Class     Images  Instances      Box(P          R      mAP50  mAP50-95): 100%|██████████| 7/7 [00:01<00:00,  6.19it/s]"
     ]
    },
    {
     "name": "stdout",
     "output_type": "stream",
     "text": [
      "                   all        100        263      0.788      0.724      0.812      0.629\n"
     ]
    },
    {
     "name": "stderr",
     "output_type": "stream",
     "text": [
      "\n"
     ]
    },
    {
     "name": "stdout",
     "output_type": "stream",
     "text": [
      "\n",
      "      Epoch    GPU_mem   box_loss   cls_loss   dfl_loss  Instances       Size\n"
     ]
    },
    {
     "name": "stderr",
     "output_type": "stream",
     "text": [
      "     46/100      2.93G     0.8217     0.7008      1.333         14        640: 100%|██████████| 171/171 [00:40<00:00,  4.26it/s]\n",
      "                 Class     Images  Instances      Box(P          R      mAP50  mAP50-95): 100%|██████████| 7/7 [00:01<00:00,  5.77it/s]"
     ]
    },
    {
     "name": "stdout",
     "output_type": "stream",
     "text": [
      "                   all        100        263      0.746      0.711      0.785      0.574\n"
     ]
    },
    {
     "name": "stderr",
     "output_type": "stream",
     "text": [
      "\n"
     ]
    },
    {
     "name": "stdout",
     "output_type": "stream",
     "text": [
      "\n",
      "      Epoch    GPU_mem   box_loss   cls_loss   dfl_loss  Instances       Size\n"
     ]
    },
    {
     "name": "stderr",
     "output_type": "stream",
     "text": [
      "     47/100      2.91G     0.8284     0.7382      1.343         35        640: 100%|██████████| 171/171 [00:40<00:00,  4.25it/s]\n",
      "                 Class     Images  Instances      Box(P          R      mAP50  mAP50-95): 100%|██████████| 7/7 [00:01<00:00,  5.85it/s]"
     ]
    },
    {
     "name": "stdout",
     "output_type": "stream",
     "text": [
      "                   all        100        263      0.792      0.713      0.796      0.602\n"
     ]
    },
    {
     "name": "stderr",
     "output_type": "stream",
     "text": [
      "\n"
     ]
    },
    {
     "name": "stdout",
     "output_type": "stream",
     "text": [
      "\n",
      "      Epoch    GPU_mem   box_loss   cls_loss   dfl_loss  Instances       Size\n"
     ]
    },
    {
     "name": "stderr",
     "output_type": "stream",
     "text": [
      "     48/100      2.92G     0.8167     0.6864      1.332         34        640: 100%|██████████| 171/171 [00:40<00:00,  4.22it/s]\n",
      "                 Class     Images  Instances      Box(P          R      mAP50  mAP50-95): 100%|██████████| 7/7 [00:01<00:00,  5.86it/s]"
     ]
    },
    {
     "name": "stdout",
     "output_type": "stream",
     "text": [
      "                   all        100        263      0.726      0.787      0.819      0.615\n"
     ]
    },
    {
     "name": "stderr",
     "output_type": "stream",
     "text": [
      "\n"
     ]
    },
    {
     "name": "stdout",
     "output_type": "stream",
     "text": [
      "\n",
      "      Epoch    GPU_mem   box_loss   cls_loss   dfl_loss  Instances       Size\n"
     ]
    },
    {
     "name": "stderr",
     "output_type": "stream",
     "text": [
      "     49/100      2.89G     0.8028     0.6595      1.317         19        640: 100%|██████████| 171/171 [00:40<00:00,  4.20it/s]\n",
      "                 Class     Images  Instances      Box(P          R      mAP50  mAP50-95): 100%|██████████| 7/7 [00:01<00:00,  6.04it/s]"
     ]
    },
    {
     "name": "stdout",
     "output_type": "stream",
     "text": [
      "                   all        100        263       0.76      0.783      0.808      0.599\n"
     ]
    },
    {
     "name": "stderr",
     "output_type": "stream",
     "text": [
      "\n"
     ]
    },
    {
     "name": "stdout",
     "output_type": "stream",
     "text": [
      "\n",
      "      Epoch    GPU_mem   box_loss   cls_loss   dfl_loss  Instances       Size\n"
     ]
    },
    {
     "name": "stderr",
     "output_type": "stream",
     "text": [
      "     50/100      2.92G     0.8015     0.6809      1.316         12        640: 100%|██████████| 171/171 [00:40<00:00,  4.25it/s]\n",
      "                 Class     Images  Instances      Box(P          R      mAP50  mAP50-95): 100%|██████████| 7/7 [00:01<00:00,  6.28it/s]"
     ]
    },
    {
     "name": "stdout",
     "output_type": "stream",
     "text": [
      "                   all        100        263      0.744       0.77      0.818      0.608\n"
     ]
    },
    {
     "name": "stderr",
     "output_type": "stream",
     "text": [
      "\n"
     ]
    },
    {
     "name": "stdout",
     "output_type": "stream",
     "text": [
      "\n",
      "      Epoch    GPU_mem   box_loss   cls_loss   dfl_loss  Instances       Size\n"
     ]
    },
    {
     "name": "stderr",
     "output_type": "stream",
     "text": [
      "     51/100      2.92G     0.7779     0.6641       1.31         22        640: 100%|██████████| 171/171 [00:41<00:00,  4.13it/s]\n",
      "                 Class     Images  Instances      Box(P          R      mAP50  mAP50-95): 100%|██████████| 7/7 [00:01<00:00,  5.66it/s]"
     ]
    },
    {
     "name": "stdout",
     "output_type": "stream",
     "text": [
      "                   all        100        263      0.724      0.719      0.767      0.573\n"
     ]
    },
    {
     "name": "stderr",
     "output_type": "stream",
     "text": [
      "\n"
     ]
    },
    {
     "name": "stdout",
     "output_type": "stream",
     "text": [
      "\n",
      "      Epoch    GPU_mem   box_loss   cls_loss   dfl_loss  Instances       Size\n"
     ]
    },
    {
     "name": "stderr",
     "output_type": "stream",
     "text": [
      "     52/100      2.92G     0.7872     0.6504      1.317         33        640: 100%|██████████| 171/171 [00:40<00:00,  4.24it/s]\n",
      "                 Class     Images  Instances      Box(P          R      mAP50  mAP50-95): 100%|██████████| 7/7 [00:01<00:00,  6.05it/s]"
     ]
    },
    {
     "name": "stdout",
     "output_type": "stream",
     "text": [
      "                   all        100        263      0.737      0.768      0.807      0.603\n"
     ]
    },
    {
     "name": "stderr",
     "output_type": "stream",
     "text": [
      "\n"
     ]
    },
    {
     "name": "stdout",
     "output_type": "stream",
     "text": [
      "\n",
      "      Epoch    GPU_mem   box_loss   cls_loss   dfl_loss  Instances       Size\n"
     ]
    },
    {
     "name": "stderr",
     "output_type": "stream",
     "text": [
      "     53/100      2.92G     0.7757      0.647      1.316         21        640: 100%|██████████| 171/171 [00:40<00:00,  4.27it/s]\n",
      "                 Class     Images  Instances      Box(P          R      mAP50  mAP50-95): 100%|██████████| 7/7 [00:01<00:00,  6.37it/s]"
     ]
    },
    {
     "name": "stdout",
     "output_type": "stream",
     "text": [
      "                   all        100        263      0.774      0.749      0.791       0.59\n"
     ]
    },
    {
     "name": "stderr",
     "output_type": "stream",
     "text": [
      "\n"
     ]
    },
    {
     "name": "stdout",
     "output_type": "stream",
     "text": [
      "\n",
      "      Epoch    GPU_mem   box_loss   cls_loss   dfl_loss  Instances       Size\n"
     ]
    },
    {
     "name": "stderr",
     "output_type": "stream",
     "text": [
      "     54/100      2.92G     0.7808     0.6404      1.307         34        640: 100%|██████████| 171/171 [00:40<00:00,  4.22it/s]\n",
      "                 Class     Images  Instances      Box(P          R      mAP50  mAP50-95): 100%|██████████| 7/7 [00:01<00:00,  6.16it/s]"
     ]
    },
    {
     "name": "stdout",
     "output_type": "stream",
     "text": [
      "                   all        100        263      0.743      0.756      0.825      0.598\n"
     ]
    },
    {
     "name": "stderr",
     "output_type": "stream",
     "text": [
      "\n"
     ]
    },
    {
     "name": "stdout",
     "output_type": "stream",
     "text": [
      "\n",
      "      Epoch    GPU_mem   box_loss   cls_loss   dfl_loss  Instances       Size\n"
     ]
    },
    {
     "name": "stderr",
     "output_type": "stream",
     "text": [
      "     55/100      2.91G     0.7687      0.639      1.302         24        640: 100%|██████████| 171/171 [00:40<00:00,  4.23it/s]\n",
      "                 Class     Images  Instances      Box(P          R      mAP50  mAP50-95): 100%|██████████| 7/7 [00:01<00:00,  6.01it/s]"
     ]
    },
    {
     "name": "stdout",
     "output_type": "stream",
     "text": [
      "                   all        100        263      0.771      0.721      0.803      0.588\n"
     ]
    },
    {
     "name": "stderr",
     "output_type": "stream",
     "text": [
      "\n"
     ]
    },
    {
     "name": "stdout",
     "output_type": "stream",
     "text": [
      "\n",
      "      Epoch    GPU_mem   box_loss   cls_loss   dfl_loss  Instances       Size\n"
     ]
    },
    {
     "name": "stderr",
     "output_type": "stream",
     "text": [
      "     56/100      2.92G     0.7618     0.6095      1.293         28        640: 100%|██████████| 171/171 [00:39<00:00,  4.29it/s]\n",
      "                 Class     Images  Instances      Box(P          R      mAP50  mAP50-95): 100%|██████████| 7/7 [00:01<00:00,  5.85it/s]"
     ]
    },
    {
     "name": "stdout",
     "output_type": "stream",
     "text": [
      "                   all        100        263      0.795       0.72      0.801      0.597\n"
     ]
    },
    {
     "name": "stderr",
     "output_type": "stream",
     "text": [
      "\n"
     ]
    },
    {
     "name": "stdout",
     "output_type": "stream",
     "text": [
      "\n",
      "      Epoch    GPU_mem   box_loss   cls_loss   dfl_loss  Instances       Size\n"
     ]
    },
    {
     "name": "stderr",
     "output_type": "stream",
     "text": [
      "     57/100      2.89G     0.7596     0.6289      1.306         28        640: 100%|██████████| 171/171 [00:39<00:00,  4.29it/s]\n",
      "                 Class     Images  Instances      Box(P          R      mAP50  mAP50-95): 100%|██████████| 7/7 [00:01<00:00,  6.30it/s]"
     ]
    },
    {
     "name": "stdout",
     "output_type": "stream",
     "text": [
      "                   all        100        263      0.751      0.751      0.804      0.605\n"
     ]
    },
    {
     "name": "stderr",
     "output_type": "stream",
     "text": [
      "\n"
     ]
    },
    {
     "name": "stdout",
     "output_type": "stream",
     "text": [
      "\n",
      "      Epoch    GPU_mem   box_loss   cls_loss   dfl_loss  Instances       Size\n"
     ]
    },
    {
     "name": "stderr",
     "output_type": "stream",
     "text": [
      "     58/100      2.92G     0.7514     0.6216      1.296         20        640: 100%|██████████| 171/171 [00:40<00:00,  4.27it/s]\n",
      "                 Class     Images  Instances      Box(P          R      mAP50  mAP50-95): 100%|██████████| 7/7 [00:01<00:00,  6.15it/s]"
     ]
    },
    {
     "name": "stdout",
     "output_type": "stream",
     "text": [
      "                   all        100        263       0.77      0.748       0.79      0.594\n"
     ]
    },
    {
     "name": "stderr",
     "output_type": "stream",
     "text": [
      "\n"
     ]
    },
    {
     "name": "stdout",
     "output_type": "stream",
     "text": [
      "\n",
      "      Epoch    GPU_mem   box_loss   cls_loss   dfl_loss  Instances       Size\n"
     ]
    },
    {
     "name": "stderr",
     "output_type": "stream",
     "text": [
      "     59/100      2.92G     0.7608     0.6207      1.294         45        640: 100%|██████████| 171/171 [00:40<00:00,  4.26it/s]\n",
      "                 Class     Images  Instances      Box(P          R      mAP50  mAP50-95): 100%|██████████| 7/7 [00:01<00:00,  6.27it/s]"
     ]
    },
    {
     "name": "stdout",
     "output_type": "stream",
     "text": [
      "                   all        100        263      0.781      0.726      0.788      0.603\n"
     ]
    },
    {
     "name": "stderr",
     "output_type": "stream",
     "text": [
      "\n"
     ]
    },
    {
     "name": "stdout",
     "output_type": "stream",
     "text": [
      "\n",
      "      Epoch    GPU_mem   box_loss   cls_loss   dfl_loss  Instances       Size\n"
     ]
    },
    {
     "name": "stderr",
     "output_type": "stream",
     "text": [
      "     60/100      2.92G     0.7376      0.596       1.27         28        640: 100%|██████████| 171/171 [00:40<00:00,  4.22it/s]\n",
      "                 Class     Images  Instances      Box(P          R      mAP50  mAP50-95): 100%|██████████| 7/7 [00:01<00:00,  6.31it/s]"
     ]
    },
    {
     "name": "stdout",
     "output_type": "stream",
     "text": [
      "                   all        100        263       0.77      0.747      0.815      0.621\n"
     ]
    },
    {
     "name": "stderr",
     "output_type": "stream",
     "text": [
      "\n"
     ]
    },
    {
     "name": "stdout",
     "output_type": "stream",
     "text": [
      "\n",
      "      Epoch    GPU_mem   box_loss   cls_loss   dfl_loss  Instances       Size\n"
     ]
    },
    {
     "name": "stderr",
     "output_type": "stream",
     "text": [
      "     61/100      2.92G     0.7407     0.5961       1.28         26        640: 100%|██████████| 171/171 [00:39<00:00,  4.28it/s]\n",
      "                 Class     Images  Instances      Box(P          R      mAP50  mAP50-95): 100%|██████████| 7/7 [00:01<00:00,  6.13it/s]"
     ]
    },
    {
     "name": "stdout",
     "output_type": "stream",
     "text": [
      "                   all        100        263      0.778       0.76      0.813      0.622\n"
     ]
    },
    {
     "name": "stderr",
     "output_type": "stream",
     "text": [
      "\n"
     ]
    },
    {
     "name": "stdout",
     "output_type": "stream",
     "text": [
      "\n",
      "      Epoch    GPU_mem   box_loss   cls_loss   dfl_loss  Instances       Size\n"
     ]
    },
    {
     "name": "stderr",
     "output_type": "stream",
     "text": [
      "     62/100      2.92G     0.7408     0.6044      1.288         17        640: 100%|██████████| 171/171 [00:40<00:00,  4.24it/s]\n",
      "                 Class     Images  Instances      Box(P          R      mAP50  mAP50-95): 100%|██████████| 7/7 [00:01<00:00,  6.39it/s]"
     ]
    },
    {
     "name": "stdout",
     "output_type": "stream",
     "text": [
      "                   all        100        263      0.721       0.78      0.791      0.587\n"
     ]
    },
    {
     "name": "stderr",
     "output_type": "stream",
     "text": [
      "\n"
     ]
    },
    {
     "name": "stdout",
     "output_type": "stream",
     "text": [
      "\n",
      "      Epoch    GPU_mem   box_loss   cls_loss   dfl_loss  Instances       Size\n"
     ]
    },
    {
     "name": "stderr",
     "output_type": "stream",
     "text": [
      "     63/100      2.91G     0.7477     0.6017      1.293         21        640: 100%|██████████| 171/171 [00:40<00:00,  4.26it/s]\n",
      "                 Class     Images  Instances      Box(P          R      mAP50  mAP50-95): 100%|██████████| 7/7 [00:01<00:00,  6.32it/s]"
     ]
    },
    {
     "name": "stdout",
     "output_type": "stream",
     "text": [
      "                   all        100        263      0.802      0.725      0.834      0.638\n"
     ]
    },
    {
     "name": "stderr",
     "output_type": "stream",
     "text": [
      "\n"
     ]
    },
    {
     "name": "stdout",
     "output_type": "stream",
     "text": [
      "\n",
      "      Epoch    GPU_mem   box_loss   cls_loss   dfl_loss  Instances       Size\n"
     ]
    },
    {
     "name": "stderr",
     "output_type": "stream",
     "text": [
      "     64/100      2.92G     0.7179     0.5779      1.249         35        640: 100%|██████████| 171/171 [00:39<00:00,  4.29it/s]\n",
      "                 Class     Images  Instances      Box(P          R      mAP50  mAP50-95): 100%|██████████| 7/7 [00:01<00:00,  6.29it/s]"
     ]
    },
    {
     "name": "stdout",
     "output_type": "stream",
     "text": [
      "                   all        100        263      0.802      0.758      0.826      0.637\n"
     ]
    },
    {
     "name": "stderr",
     "output_type": "stream",
     "text": [
      "\n"
     ]
    },
    {
     "name": "stdout",
     "output_type": "stream",
     "text": [
      "\n",
      "      Epoch    GPU_mem   box_loss   cls_loss   dfl_loss  Instances       Size\n"
     ]
    },
    {
     "name": "stderr",
     "output_type": "stream",
     "text": [
      "     65/100      2.89G     0.7155     0.5737      1.264         16        640: 100%|██████████| 171/171 [00:40<00:00,  4.24it/s]\n",
      "                 Class     Images  Instances      Box(P          R      mAP50  mAP50-95): 100%|██████████| 7/7 [00:01<00:00,  6.20it/s]"
     ]
    },
    {
     "name": "stdout",
     "output_type": "stream",
     "text": [
      "                   all        100        263      0.737      0.744      0.803      0.628\n"
     ]
    },
    {
     "name": "stderr",
     "output_type": "stream",
     "text": [
      "\n"
     ]
    },
    {
     "name": "stdout",
     "output_type": "stream",
     "text": [
      "\n",
      "      Epoch    GPU_mem   box_loss   cls_loss   dfl_loss  Instances       Size\n"
     ]
    },
    {
     "name": "stderr",
     "output_type": "stream",
     "text": [
      "     66/100      2.92G     0.7135     0.5705      1.277         12        640: 100%|██████████| 171/171 [00:40<00:00,  4.25it/s]\n",
      "                 Class     Images  Instances      Box(P          R      mAP50  mAP50-95): 100%|██████████| 7/7 [00:01<00:00,  6.15it/s]"
     ]
    },
    {
     "name": "stdout",
     "output_type": "stream",
     "text": [
      "                   all        100        263      0.809      0.727      0.825      0.646\n"
     ]
    },
    {
     "name": "stderr",
     "output_type": "stream",
     "text": [
      "\n"
     ]
    },
    {
     "name": "stdout",
     "output_type": "stream",
     "text": [
      "\n",
      "      Epoch    GPU_mem   box_loss   cls_loss   dfl_loss  Instances       Size\n"
     ]
    },
    {
     "name": "stderr",
     "output_type": "stream",
     "text": [
      "     67/100      2.92G     0.7271     0.5819      1.275         22        640: 100%|██████████| 171/171 [00:39<00:00,  4.28it/s]\n",
      "                 Class     Images  Instances      Box(P          R      mAP50  mAP50-95): 100%|██████████| 7/7 [00:01<00:00,  5.92it/s]"
     ]
    },
    {
     "name": "stdout",
     "output_type": "stream",
     "text": [
      "                   all        100        263      0.763       0.78      0.792      0.598\n"
     ]
    },
    {
     "name": "stderr",
     "output_type": "stream",
     "text": [
      "\n"
     ]
    },
    {
     "name": "stdout",
     "output_type": "stream",
     "text": [
      "\n",
      "      Epoch    GPU_mem   box_loss   cls_loss   dfl_loss  Instances       Size\n"
     ]
    },
    {
     "name": "stderr",
     "output_type": "stream",
     "text": [
      "     68/100      2.93G     0.7142     0.5748      1.273         21        640: 100%|██████████| 171/171 [00:40<00:00,  4.23it/s]\n",
      "                 Class     Images  Instances      Box(P          R      mAP50  mAP50-95): 100%|██████████| 7/7 [00:01<00:00,  6.05it/s]"
     ]
    },
    {
     "name": "stdout",
     "output_type": "stream",
     "text": [
      "                   all        100        263      0.797      0.752      0.821      0.624\n"
     ]
    },
    {
     "name": "stderr",
     "output_type": "stream",
     "text": [
      "\n"
     ]
    },
    {
     "name": "stdout",
     "output_type": "stream",
     "text": [
      "\n",
      "      Epoch    GPU_mem   box_loss   cls_loss   dfl_loss  Instances       Size\n"
     ]
    },
    {
     "name": "stderr",
     "output_type": "stream",
     "text": [
      "     69/100      2.92G     0.7226      0.567      1.273         31        640: 100%|██████████| 171/171 [00:39<00:00,  4.28it/s]\n",
      "                 Class     Images  Instances      Box(P          R      mAP50  mAP50-95): 100%|██████████| 7/7 [00:01<00:00,  6.05it/s]"
     ]
    },
    {
     "name": "stdout",
     "output_type": "stream",
     "text": [
      "                   all        100        263      0.775      0.756      0.821      0.621\n"
     ]
    },
    {
     "name": "stderr",
     "output_type": "stream",
     "text": [
      "\n"
     ]
    },
    {
     "name": "stdout",
     "output_type": "stream",
     "text": [
      "\n",
      "      Epoch    GPU_mem   box_loss   cls_loss   dfl_loss  Instances       Size\n"
     ]
    },
    {
     "name": "stderr",
     "output_type": "stream",
     "text": [
      "     70/100      2.92G     0.7001     0.5451      1.256         11        640: 100%|██████████| 171/171 [00:40<00:00,  4.25it/s]\n",
      "                 Class     Images  Instances      Box(P          R      mAP50  mAP50-95): 100%|██████████| 7/7 [00:01<00:00,  6.22it/s]"
     ]
    },
    {
     "name": "stdout",
     "output_type": "stream",
     "text": [
      "                   all        100        263      0.755      0.783      0.819      0.627\n"
     ]
    },
    {
     "name": "stderr",
     "output_type": "stream",
     "text": [
      "\n"
     ]
    },
    {
     "name": "stdout",
     "output_type": "stream",
     "text": [
      "\n",
      "      Epoch    GPU_mem   box_loss   cls_loss   dfl_loss  Instances       Size\n"
     ]
    },
    {
     "name": "stderr",
     "output_type": "stream",
     "text": [
      "     71/100      2.92G     0.6936     0.5468      1.255         30        640: 100%|██████████| 171/171 [00:40<00:00,  4.26it/s]\n",
      "                 Class     Images  Instances      Box(P          R      mAP50  mAP50-95): 100%|██████████| 7/7 [00:01<00:00,  6.22it/s]"
     ]
    },
    {
     "name": "stdout",
     "output_type": "stream",
     "text": [
      "                   all        100        263      0.759      0.792      0.831      0.638\n"
     ]
    },
    {
     "name": "stderr",
     "output_type": "stream",
     "text": [
      "\n"
     ]
    },
    {
     "name": "stdout",
     "output_type": "stream",
     "text": [
      "\n",
      "      Epoch    GPU_mem   box_loss   cls_loss   dfl_loss  Instances       Size\n"
     ]
    },
    {
     "name": "stderr",
     "output_type": "stream",
     "text": [
      "     72/100      2.92G     0.6796     0.5384      1.242         17        640: 100%|██████████| 171/171 [00:40<00:00,  4.24it/s]\n",
      "                 Class     Images  Instances      Box(P          R      mAP50  mAP50-95): 100%|██████████| 7/7 [00:01<00:00,  6.34it/s]"
     ]
    },
    {
     "name": "stdout",
     "output_type": "stream",
     "text": [
      "                   all        100        263      0.762      0.777      0.817      0.652\n"
     ]
    },
    {
     "name": "stderr",
     "output_type": "stream",
     "text": [
      "\n"
     ]
    },
    {
     "name": "stdout",
     "output_type": "stream",
     "text": [
      "\n",
      "      Epoch    GPU_mem   box_loss   cls_loss   dfl_loss  Instances       Size\n"
     ]
    },
    {
     "name": "stderr",
     "output_type": "stream",
     "text": [
      "     73/100      2.89G     0.6874     0.5321      1.235         34        640: 100%|██████████| 171/171 [00:40<00:00,  4.27it/s]\n",
      "                 Class     Images  Instances      Box(P          R      mAP50  mAP50-95): 100%|██████████| 7/7 [00:01<00:00,  5.98it/s]"
     ]
    },
    {
     "name": "stdout",
     "output_type": "stream",
     "text": [
      "                   all        100        263      0.788      0.756      0.812      0.627\n"
     ]
    },
    {
     "name": "stderr",
     "output_type": "stream",
     "text": [
      "\n"
     ]
    },
    {
     "name": "stdout",
     "output_type": "stream",
     "text": [
      "\n",
      "      Epoch    GPU_mem   box_loss   cls_loss   dfl_loss  Instances       Size\n"
     ]
    },
    {
     "name": "stderr",
     "output_type": "stream",
     "text": [
      "     74/100      2.91G     0.6769     0.5315      1.232         23        640: 100%|██████████| 171/171 [00:39<00:00,  4.31it/s]\n",
      "                 Class     Images  Instances      Box(P          R      mAP50  mAP50-95): 100%|██████████| 7/7 [00:01<00:00,  5.88it/s]"
     ]
    },
    {
     "name": "stdout",
     "output_type": "stream",
     "text": [
      "                   all        100        263      0.782       0.78      0.838      0.646\n"
     ]
    },
    {
     "name": "stderr",
     "output_type": "stream",
     "text": [
      "\n"
     ]
    },
    {
     "name": "stdout",
     "output_type": "stream",
     "text": [
      "\n",
      "      Epoch    GPU_mem   box_loss   cls_loss   dfl_loss  Instances       Size\n"
     ]
    },
    {
     "name": "stderr",
     "output_type": "stream",
     "text": [
      "     75/100      2.91G     0.6928     0.5431      1.245         37        640: 100%|██████████| 171/171 [00:40<00:00,  4.23it/s]\n",
      "                 Class     Images  Instances      Box(P          R      mAP50  mAP50-95): 100%|██████████| 7/7 [00:01<00:00,  5.85it/s]"
     ]
    },
    {
     "name": "stdout",
     "output_type": "stream",
     "text": [
      "                   all        100        263       0.79      0.798       0.83      0.626\n"
     ]
    },
    {
     "name": "stderr",
     "output_type": "stream",
     "text": [
      "\n"
     ]
    },
    {
     "name": "stdout",
     "output_type": "stream",
     "text": [
      "\n",
      "      Epoch    GPU_mem   box_loss   cls_loss   dfl_loss  Instances       Size\n"
     ]
    },
    {
     "name": "stderr",
     "output_type": "stream",
     "text": [
      "     76/100      2.92G     0.6693     0.5153      1.222         19        640: 100%|██████████| 171/171 [00:40<00:00,  4.25it/s]\n",
      "                 Class     Images  Instances      Box(P          R      mAP50  mAP50-95): 100%|██████████| 7/7 [00:01<00:00,  5.96it/s]"
     ]
    },
    {
     "name": "stdout",
     "output_type": "stream",
     "text": [
      "                   all        100        263      0.783      0.734      0.814      0.636\n"
     ]
    },
    {
     "name": "stderr",
     "output_type": "stream",
     "text": [
      "\n"
     ]
    },
    {
     "name": "stdout",
     "output_type": "stream",
     "text": [
      "\n",
      "      Epoch    GPU_mem   box_loss   cls_loss   dfl_loss  Instances       Size\n"
     ]
    },
    {
     "name": "stderr",
     "output_type": "stream",
     "text": [
      "     77/100      2.92G     0.6591     0.5121      1.218         31        640: 100%|██████████| 171/171 [00:40<00:00,  4.27it/s]\n",
      "                 Class     Images  Instances      Box(P          R      mAP50  mAP50-95): 100%|██████████| 7/7 [00:01<00:00,  6.02it/s]"
     ]
    },
    {
     "name": "stdout",
     "output_type": "stream",
     "text": [
      "                   all        100        263      0.757      0.788      0.819      0.631\n"
     ]
    },
    {
     "name": "stderr",
     "output_type": "stream",
     "text": [
      "\n"
     ]
    },
    {
     "name": "stdout",
     "output_type": "stream",
     "text": [
      "\n",
      "      Epoch    GPU_mem   box_loss   cls_loss   dfl_loss  Instances       Size\n"
     ]
    },
    {
     "name": "stderr",
     "output_type": "stream",
     "text": [
      "     78/100      2.92G     0.6598     0.5086      1.227         23        640: 100%|██████████| 171/171 [00:40<00:00,  4.24it/s]\n",
      "                 Class     Images  Instances      Box(P          R      mAP50  mAP50-95): 100%|██████████| 7/7 [00:01<00:00,  6.12it/s]"
     ]
    },
    {
     "name": "stdout",
     "output_type": "stream",
     "text": [
      "                   all        100        263      0.716      0.807      0.819      0.624\n"
     ]
    },
    {
     "name": "stderr",
     "output_type": "stream",
     "text": [
      "\n"
     ]
    },
    {
     "name": "stdout",
     "output_type": "stream",
     "text": [
      "\n",
      "      Epoch    GPU_mem   box_loss   cls_loss   dfl_loss  Instances       Size\n"
     ]
    },
    {
     "name": "stderr",
     "output_type": "stream",
     "text": [
      "     79/100      2.91G     0.6553     0.4985       1.22         23        640: 100%|██████████| 171/171 [00:40<00:00,  4.26it/s]\n",
      "                 Class     Images  Instances      Box(P          R      mAP50  mAP50-95): 100%|██████████| 7/7 [00:01<00:00,  5.95it/s]"
     ]
    },
    {
     "name": "stdout",
     "output_type": "stream",
     "text": [
      "                   all        100        263      0.729       0.75      0.814      0.619\n"
     ]
    },
    {
     "name": "stderr",
     "output_type": "stream",
     "text": [
      "\n"
     ]
    },
    {
     "name": "stdout",
     "output_type": "stream",
     "text": [
      "\n",
      "      Epoch    GPU_mem   box_loss   cls_loss   dfl_loss  Instances       Size\n"
     ]
    },
    {
     "name": "stderr",
     "output_type": "stream",
     "text": [
      "     80/100      2.92G     0.6581     0.5099      1.217         23        640: 100%|██████████| 171/171 [00:39<00:00,  4.28it/s]\n",
      "                 Class     Images  Instances      Box(P          R      mAP50  mAP50-95): 100%|██████████| 7/7 [00:01<00:00,  6.33it/s]"
     ]
    },
    {
     "name": "stdout",
     "output_type": "stream",
     "text": [
      "                   all        100        263      0.779      0.721      0.821      0.626\n"
     ]
    },
    {
     "name": "stderr",
     "output_type": "stream",
     "text": [
      "\n"
     ]
    },
    {
     "name": "stdout",
     "output_type": "stream",
     "text": [
      "\n",
      "      Epoch    GPU_mem   box_loss   cls_loss   dfl_loss  Instances       Size\n"
     ]
    },
    {
     "name": "stderr",
     "output_type": "stream",
     "text": [
      "     81/100       2.9G     0.6546     0.4982      1.209         15        640: 100%|██████████| 171/171 [00:40<00:00,  4.25it/s]\n",
      "                 Class     Images  Instances      Box(P          R      mAP50  mAP50-95): 100%|██████████| 7/7 [00:01<00:00,  5.86it/s]"
     ]
    },
    {
     "name": "stdout",
     "output_type": "stream",
     "text": [
      "                   all        100        263       0.72      0.777      0.808      0.616\n"
     ]
    },
    {
     "name": "stderr",
     "output_type": "stream",
     "text": [
      "\n"
     ]
    },
    {
     "name": "stdout",
     "output_type": "stream",
     "text": [
      "\n",
      "      Epoch    GPU_mem   box_loss   cls_loss   dfl_loss  Instances       Size\n"
     ]
    },
    {
     "name": "stderr",
     "output_type": "stream",
     "text": [
      "     82/100      2.92G     0.6378     0.4859        1.2         27        640: 100%|██████████| 171/171 [00:39<00:00,  4.28it/s]\n",
      "                 Class     Images  Instances      Box(P          R      mAP50  mAP50-95): 100%|██████████| 7/7 [00:01<00:00,  5.96it/s]"
     ]
    },
    {
     "name": "stdout",
     "output_type": "stream",
     "text": [
      "                   all        100        263       0.77      0.763       0.82      0.625\n"
     ]
    },
    {
     "name": "stderr",
     "output_type": "stream",
     "text": [
      "\n"
     ]
    },
    {
     "name": "stdout",
     "output_type": "stream",
     "text": [
      "\n",
      "      Epoch    GPU_mem   box_loss   cls_loss   dfl_loss  Instances       Size\n"
     ]
    },
    {
     "name": "stderr",
     "output_type": "stream",
     "text": [
      "     83/100      2.92G     0.6476     0.4788      1.194         18        640: 100%|██████████| 171/171 [00:40<00:00,  4.27it/s]\n",
      "                 Class     Images  Instances      Box(P          R      mAP50  mAP50-95): 100%|██████████| 7/7 [00:01<00:00,  5.85it/s]"
     ]
    },
    {
     "name": "stdout",
     "output_type": "stream",
     "text": [
      "                   all        100        263       0.76      0.787      0.837      0.645\n"
     ]
    },
    {
     "name": "stderr",
     "output_type": "stream",
     "text": [
      "\n"
     ]
    },
    {
     "name": "stdout",
     "output_type": "stream",
     "text": [
      "\n",
      "      Epoch    GPU_mem   box_loss   cls_loss   dfl_loss  Instances       Size\n"
     ]
    },
    {
     "name": "stderr",
     "output_type": "stream",
     "text": [
      "     84/100      2.92G     0.6401     0.4805      1.196         16        640: 100%|██████████| 171/171 [00:39<00:00,  4.28it/s]\n",
      "                 Class     Images  Instances      Box(P          R      mAP50  mAP50-95): 100%|██████████| 7/7 [00:01<00:00,  6.36it/s]"
     ]
    },
    {
     "name": "stdout",
     "output_type": "stream",
     "text": [
      "                   all        100        263      0.738      0.815      0.848      0.655\n"
     ]
    },
    {
     "name": "stderr",
     "output_type": "stream",
     "text": [
      "\n"
     ]
    },
    {
     "name": "stdout",
     "output_type": "stream",
     "text": [
      "\n",
      "      Epoch    GPU_mem   box_loss   cls_loss   dfl_loss  Instances       Size\n"
     ]
    },
    {
     "name": "stderr",
     "output_type": "stream",
     "text": [
      "     85/100      2.92G      0.632     0.4734      1.191         21        640: 100%|██████████| 171/171 [00:39<00:00,  4.29it/s]\n",
      "                 Class     Images  Instances      Box(P          R      mAP50  mAP50-95): 100%|██████████| 7/7 [00:01<00:00,  6.13it/s]"
     ]
    },
    {
     "name": "stdout",
     "output_type": "stream",
     "text": [
      "                   all        100        263      0.771      0.761       0.82      0.639\n"
     ]
    },
    {
     "name": "stderr",
     "output_type": "stream",
     "text": [
      "\n"
     ]
    },
    {
     "name": "stdout",
     "output_type": "stream",
     "text": [
      "\n",
      "      Epoch    GPU_mem   box_loss   cls_loss   dfl_loss  Instances       Size\n"
     ]
    },
    {
     "name": "stderr",
     "output_type": "stream",
     "text": [
      "     86/100      2.92G     0.6337     0.4821      1.192         25        640: 100%|██████████| 171/171 [00:40<00:00,  4.27it/s]\n",
      "                 Class     Images  Instances      Box(P          R      mAP50  mAP50-95): 100%|██████████| 7/7 [00:01<00:00,  5.90it/s]"
     ]
    },
    {
     "name": "stdout",
     "output_type": "stream",
     "text": [
      "                   all        100        263      0.777      0.761      0.828      0.638\n"
     ]
    },
    {
     "name": "stderr",
     "output_type": "stream",
     "text": [
      "\n"
     ]
    },
    {
     "name": "stdout",
     "output_type": "stream",
     "text": [
      "\n",
      "      Epoch    GPU_mem   box_loss   cls_loss   dfl_loss  Instances       Size\n"
     ]
    },
    {
     "name": "stderr",
     "output_type": "stream",
     "text": [
      "     87/100      2.92G     0.6195     0.4587      1.181         33        640: 100%|██████████| 171/171 [00:39<00:00,  4.29it/s]\n",
      "                 Class     Images  Instances      Box(P          R      mAP50  mAP50-95): 100%|██████████| 7/7 [00:01<00:00,  5.94it/s]"
     ]
    },
    {
     "name": "stdout",
     "output_type": "stream",
     "text": [
      "                   all        100        263        0.8      0.748      0.825      0.639\n"
     ]
    },
    {
     "name": "stderr",
     "output_type": "stream",
     "text": [
      "\n"
     ]
    },
    {
     "name": "stdout",
     "output_type": "stream",
     "text": [
      "\n",
      "      Epoch    GPU_mem   box_loss   cls_loss   dfl_loss  Instances       Size\n"
     ]
    },
    {
     "name": "stderr",
     "output_type": "stream",
     "text": [
      "     88/100      2.92G     0.6305     0.4711      1.192         31        640: 100%|██████████| 171/171 [00:40<00:00,  4.25it/s]\n",
      "                 Class     Images  Instances      Box(P          R      mAP50  mAP50-95): 100%|██████████| 7/7 [00:01<00:00,  6.14it/s]"
     ]
    },
    {
     "name": "stdout",
     "output_type": "stream",
     "text": [
      "                   all        100        263      0.756      0.767      0.823      0.642\n"
     ]
    },
    {
     "name": "stderr",
     "output_type": "stream",
     "text": [
      "\n"
     ]
    },
    {
     "name": "stdout",
     "output_type": "stream",
     "text": [
      "\n",
      "      Epoch    GPU_mem   box_loss   cls_loss   dfl_loss  Instances       Size\n"
     ]
    },
    {
     "name": "stderr",
     "output_type": "stream",
     "text": [
      "     89/100       2.9G     0.6192     0.4648      1.183         20        640: 100%|██████████| 171/171 [00:40<00:00,  4.27it/s]\n",
      "                 Class     Images  Instances      Box(P          R      mAP50  mAP50-95): 100%|██████████| 7/7 [00:01<00:00,  5.85it/s]"
     ]
    },
    {
     "name": "stdout",
     "output_type": "stream",
     "text": [
      "                   all        100        263      0.788      0.747      0.823      0.646\n"
     ]
    },
    {
     "name": "stderr",
     "output_type": "stream",
     "text": [
      "\n"
     ]
    },
    {
     "name": "stdout",
     "output_type": "stream",
     "text": [
      "\n",
      "      Epoch    GPU_mem   box_loss   cls_loss   dfl_loss  Instances       Size\n"
     ]
    },
    {
     "name": "stderr",
     "output_type": "stream",
     "text": [
      "     90/100      2.92G     0.6132      0.452      1.172         22        640: 100%|██████████| 171/171 [00:40<00:00,  4.23it/s]\n",
      "                 Class     Images  Instances      Box(P          R      mAP50  mAP50-95): 100%|██████████| 7/7 [00:01<00:00,  6.26it/s]"
     ]
    },
    {
     "name": "stdout",
     "output_type": "stream",
     "text": [
      "                   all        100        263      0.757      0.784      0.834      0.639\n"
     ]
    },
    {
     "name": "stderr",
     "output_type": "stream",
     "text": [
      "\n"
     ]
    },
    {
     "name": "stdout",
     "output_type": "stream",
     "text": [
      "Closing dataloader mosaic\n",
      "\n",
      "      Epoch    GPU_mem   box_loss   cls_loss   dfl_loss  Instances       Size\n"
     ]
    },
    {
     "name": "stderr",
     "output_type": "stream",
     "text": [
      "     91/100      2.92G     0.5661      0.345      1.172         18        640: 100%|██████████| 171/171 [00:40<00:00,  4.26it/s]\n",
      "                 Class     Images  Instances      Box(P          R      mAP50  mAP50-95): 100%|██████████| 7/7 [00:01<00:00,  5.92it/s]"
     ]
    },
    {
     "name": "stdout",
     "output_type": "stream",
     "text": [
      "                   all        100        263       0.82      0.758      0.822      0.635\n"
     ]
    },
    {
     "name": "stderr",
     "output_type": "stream",
     "text": [
      "\n"
     ]
    },
    {
     "name": "stdout",
     "output_type": "stream",
     "text": [
      "\n",
      "      Epoch    GPU_mem   box_loss   cls_loss   dfl_loss  Instances       Size\n"
     ]
    },
    {
     "name": "stderr",
     "output_type": "stream",
     "text": [
      "     92/100      2.92G     0.5532     0.3247      1.157          8        640: 100%|██████████| 171/171 [00:39<00:00,  4.33it/s]\n",
      "                 Class     Images  Instances      Box(P          R      mAP50  mAP50-95): 100%|██████████| 7/7 [00:01<00:00,  6.16it/s]"
     ]
    },
    {
     "name": "stdout",
     "output_type": "stream",
     "text": [
      "                   all        100        263      0.764      0.779       0.82      0.637\n"
     ]
    },
    {
     "name": "stderr",
     "output_type": "stream",
     "text": [
      "\n"
     ]
    },
    {
     "name": "stdout",
     "output_type": "stream",
     "text": [
      "\n",
      "      Epoch    GPU_mem   box_loss   cls_loss   dfl_loss  Instances       Size\n"
     ]
    },
    {
     "name": "stderr",
     "output_type": "stream",
     "text": [
      "     93/100      2.92G     0.5384     0.3087      1.138          5        640: 100%|██████████| 171/171 [00:40<00:00,  4.27it/s]\n",
      "                 Class     Images  Instances      Box(P          R      mAP50  mAP50-95): 100%|██████████| 7/7 [00:01<00:00,  5.96it/s]"
     ]
    },
    {
     "name": "stdout",
     "output_type": "stream",
     "text": [
      "                   all        100        263       0.78      0.757       0.83      0.633\n"
     ]
    },
    {
     "name": "stderr",
     "output_type": "stream",
     "text": [
      "\n"
     ]
    },
    {
     "name": "stdout",
     "output_type": "stream",
     "text": [
      "\n",
      "      Epoch    GPU_mem   box_loss   cls_loss   dfl_loss  Instances       Size\n"
     ]
    },
    {
     "name": "stderr",
     "output_type": "stream",
     "text": [
      "     94/100      2.93G     0.5401     0.3018      1.141         13        640: 100%|██████████| 171/171 [00:40<00:00,  4.27it/s]\n",
      "                 Class     Images  Instances      Box(P          R      mAP50  mAP50-95): 100%|██████████| 7/7 [00:01<00:00,  6.36it/s]"
     ]
    },
    {
     "name": "stdout",
     "output_type": "stream",
     "text": [
      "                   all        100        263      0.786      0.741      0.828      0.642\n"
     ]
    },
    {
     "name": "stderr",
     "output_type": "stream",
     "text": [
      "\n"
     ]
    },
    {
     "name": "stdout",
     "output_type": "stream",
     "text": [
      "\n",
      "      Epoch    GPU_mem   box_loss   cls_loss   dfl_loss  Instances       Size\n"
     ]
    },
    {
     "name": "stderr",
     "output_type": "stream",
     "text": [
      "     95/100      2.92G     0.5125     0.2934      1.102         10        640: 100%|██████████| 171/171 [00:40<00:00,  4.27it/s]\n",
      "                 Class     Images  Instances      Box(P          R      mAP50  mAP50-95): 100%|██████████| 7/7 [00:01<00:00,  5.70it/s]"
     ]
    },
    {
     "name": "stdout",
     "output_type": "stream",
     "text": [
      "                   all        100        263      0.754      0.752      0.823      0.647\n"
     ]
    },
    {
     "name": "stderr",
     "output_type": "stream",
     "text": [
      "\n"
     ]
    },
    {
     "name": "stdout",
     "output_type": "stream",
     "text": [
      "\n",
      "      Epoch    GPU_mem   box_loss   cls_loss   dfl_loss  Instances       Size\n"
     ]
    },
    {
     "name": "stderr",
     "output_type": "stream",
     "text": [
      "     96/100      2.92G      0.506      0.291      1.099         16        640: 100%|██████████| 171/171 [00:39<00:00,  4.29it/s]\n",
      "                 Class     Images  Instances      Box(P          R      mAP50  mAP50-95): 100%|██████████| 7/7 [00:01<00:00,  6.00it/s]"
     ]
    },
    {
     "name": "stdout",
     "output_type": "stream",
     "text": [
      "                   all        100        263      0.751      0.772      0.835      0.649\n"
     ]
    },
    {
     "name": "stderr",
     "output_type": "stream",
     "text": [
      "\n"
     ]
    },
    {
     "name": "stdout",
     "output_type": "stream",
     "text": [
      "\n",
      "      Epoch    GPU_mem   box_loss   cls_loss   dfl_loss  Instances       Size\n"
     ]
    },
    {
     "name": "stderr",
     "output_type": "stream",
     "text": [
      "     97/100      2.89G     0.5004     0.2886      1.089          9        640: 100%|██████████| 171/171 [00:39<00:00,  4.28it/s]\n",
      "                 Class     Images  Instances      Box(P          R      mAP50  mAP50-95): 100%|██████████| 7/7 [00:01<00:00,  5.96it/s]"
     ]
    },
    {
     "name": "stdout",
     "output_type": "stream",
     "text": [
      "                   all        100        263      0.781      0.751      0.818      0.646\n"
     ]
    },
    {
     "name": "stderr",
     "output_type": "stream",
     "text": [
      "\n"
     ]
    },
    {
     "name": "stdout",
     "output_type": "stream",
     "text": [
      "\n",
      "      Epoch    GPU_mem   box_loss   cls_loss   dfl_loss  Instances       Size\n"
     ]
    },
    {
     "name": "stderr",
     "output_type": "stream",
     "text": [
      "     98/100      2.92G      0.494     0.2785      1.084          7        640: 100%|██████████| 171/171 [00:39<00:00,  4.30it/s]\n",
      "                 Class     Images  Instances      Box(P          R      mAP50  mAP50-95): 100%|██████████| 7/7 [00:01<00:00,  5.53it/s]"
     ]
    },
    {
     "name": "stdout",
     "output_type": "stream",
     "text": [
      "                   all        100        263      0.782      0.741      0.817      0.655\n"
     ]
    },
    {
     "name": "stderr",
     "output_type": "stream",
     "text": [
      "\n"
     ]
    },
    {
     "name": "stdout",
     "output_type": "stream",
     "text": [
      "\n",
      "      Epoch    GPU_mem   box_loss   cls_loss   dfl_loss  Instances       Size\n"
     ]
    },
    {
     "name": "stderr",
     "output_type": "stream",
     "text": [
      "     99/100      2.92G     0.4962     0.2873      1.085         20        640: 100%|██████████| 171/171 [00:40<00:00,  4.25it/s]\n",
      "                 Class     Images  Instances      Box(P          R      mAP50  mAP50-95): 100%|██████████| 7/7 [00:01<00:00,  5.98it/s]"
     ]
    },
    {
     "name": "stdout",
     "output_type": "stream",
     "text": [
      "                   all        100        263      0.774      0.747      0.825      0.651\n"
     ]
    },
    {
     "name": "stderr",
     "output_type": "stream",
     "text": [
      "\n"
     ]
    },
    {
     "name": "stdout",
     "output_type": "stream",
     "text": [
      "\n",
      "      Epoch    GPU_mem   box_loss   cls_loss   dfl_loss  Instances       Size\n"
     ]
    },
    {
     "name": "stderr",
     "output_type": "stream",
     "text": [
      "    100/100      2.92G     0.4979     0.2763      1.088          8        640: 100%|██████████| 171/171 [00:40<00:00,  4.25it/s]\n",
      "                 Class     Images  Instances      Box(P          R      mAP50  mAP50-95): 100%|██████████| 7/7 [00:01<00:00,  5.80it/s]"
     ]
    },
    {
     "name": "stdout",
     "output_type": "stream",
     "text": [
      "                   all        100        263      0.776      0.742      0.825      0.657\n"
     ]
    },
    {
     "name": "stderr",
     "output_type": "stream",
     "text": [
      "\n"
     ]
    },
    {
     "name": "stdout",
     "output_type": "stream",
     "text": [
      "\n",
      "100 epochs completed in 1.204 hours.\n",
      "Optimizer stripped from runs\\detect\\train6\\weights\\last.pt, 15.3MB\n",
      "Optimizer stripped from runs\\detect\\train6\\weights\\best.pt, 15.2MB\n",
      "\n",
      "Validating runs\\detect\\train6\\weights\\best.pt...\n",
      "Ultralytics YOLOv8.2.58  Python-3.11.8 torch-2.3.0+cu118 CUDA:0 (NVIDIA GeForce RTX 3060 Laptop GPU, 6144MiB)\n",
      "YOLOv9s summary (fused): 486 layers, 7,172,506 parameters, 0 gradients, 26.8 GFLOPs\n"
     ]
    },
    {
     "name": "stderr",
     "output_type": "stream",
     "text": [
      "                 Class     Images  Instances      Box(P          R      mAP50  mAP50-95): 100%|██████████| 7/7 [00:01<00:00,  4.83it/s]\n"
     ]
    },
    {
     "name": "stdout",
     "output_type": "stream",
     "text": [
      "                   all        100        263      0.739      0.815      0.848      0.655\n",
      "                 bread          4          7      0.536      0.992      0.814      0.734\n",
      "               cabbage          9          9      0.533      0.889      0.815      0.568\n",
      "                carrot          8         26       0.93      0.846       0.93      0.637\n",
      "                cheese          9         20      0.762       0.64      0.849        0.6\n",
      "               chicken         10         35       0.83      0.571      0.649      0.458\n",
      "              cucumber          7         24      0.758       0.75       0.81      0.633\n",
      "                   egg          7         21       0.81      0.667      0.862      0.737\n",
      "                  meat          7         17      0.739      0.765      0.734        0.5\n",
      "                  milk          5          7      0.716          1      0.995      0.777\n",
      "                 onion          6         22      0.649      0.864      0.796      0.556\n",
      "                potato          6         33      0.554      0.909      0.861      0.758\n",
      "                  rice          6         10      0.775        0.6      0.813      0.655\n",
      "                  spam          7          9      0.937          1      0.995      0.746\n",
      "                tomato          9         23      0.818      0.913      0.944      0.806\n",
      "Speed: 0.2ms preprocess, 6.2ms inference, 0.0ms loss, 1.6ms postprocess per image\n",
      "Results saved to \u001b[1mruns\\detect\\train6\u001b[0m\n",
      "\n",
      "image 1/101 c:\\Users\\hxxzi\\Desktop\\GitHub\\final-project\\8\\data\\2\\test\\images\\-2-_jpeg.rf.2bec9dd9e9fbb9116d7331471107a100.jpg: 640x640 1 cheese, 72.0ms\n",
      "image 2/101 c:\\Users\\hxxzi\\Desktop\\GitHub\\final-project\\8\\data\\2\\test\\images\\-2-_jpeg.rf.31e8e3171a6539b6bd24522f2a844d53.jpg: 640x640 1 bread, 4 spams, 47.8ms\n",
      "image 3/101 c:\\Users\\hxxzi\\Desktop\\GitHub\\final-project\\8\\data\\2\\test\\images\\-2-_jpeg.rf.ad27951133062bbf27e8cde72617f56c.jpg: 640x640 2 eggs, 51.1ms\n",
      "image 4/101 c:\\Users\\hxxzi\\Desktop\\GitHub\\final-project\\8\\data\\2\\test\\images\\-3-_jpeg.rf.7c95132595c0d60e304eeb6a5af284c3.jpg: 640x640 1 spam, 45.8ms\n",
      "image 5/101 c:\\Users\\hxxzi\\Desktop\\GitHub\\final-project\\8\\data\\2\\test\\images\\-3-_jpeg.rf.bd016323f5568d44ecde4d0d46c7fbf0.jpg: 640x640 4 eggs, 28.1ms\n",
      "image 6/101 c:\\Users\\hxxzi\\Desktop\\GitHub\\final-project\\8\\data\\2\\test\\images\\-4-_jpeg.rf.23ed7a79f2a5516397474bbffc643333.jpg: 640x640 6 eggs, 26.9ms\n",
      "image 7/101 c:\\Users\\hxxzi\\Desktop\\GitHub\\final-project\\8\\data\\2\\test\\images\\-5-_jpeg.rf.cb75d3bdfa660805b2322202b34632fb.jpg: 640x640 1 egg, 10 potatos, 26.4ms\n",
      "image 8/101 c:\\Users\\hxxzi\\Desktop\\GitHub\\final-project\\8\\data\\2\\test\\images\\-_-08_jpeg.rf.ce41ef9ce628d1c69512de761384bdda.jpg: 640x640 2 potatos, 2 rices, 24.1ms\n",
      "image 9/101 c:\\Users\\hxxzi\\Desktop\\GitHub\\final-project\\8\\data\\2\\test\\images\\-_jpeg.rf.48123a3f425bc20cc28aee1773751b34.jpg: 640x640 5 meats, 24.2ms\n",
      "image 10/101 c:\\Users\\hxxzi\\Desktop\\GitHub\\final-project\\8\\data\\2\\test\\images\\-_jpeg.rf.71398f3c1b4d9391810c226f50b310f1.jpg: 640x640 1 meat, 24.0ms\n",
      "image 11/101 c:\\Users\\hxxzi\\Desktop\\GitHub\\final-project\\8\\data\\2\\test\\images\\0000006609258_i1_1100_jpeg.rf.d30b6389dff01bce0a478d4be0ccdb77.jpg: 640x640 1 spam, 26.0ms\n",
      "image 12/101 c:\\Users\\hxxzi\\Desktop\\GitHub\\final-project\\8\\data\\2\\test\\images\\0228_white_rice_TND_jpeg.rf.267c81931575b32e88388ee31cd1a177.jpg: 640x640 1 rice, 26.1ms\n",
      "image 13/101 c:\\Users\\hxxzi\\Desktop\\GitHub\\final-project\\8\\data\\2\\test\\images\\06013295_1_960_jpeg.rf.ba3ef5cc778c4ec9af79ee34462778e8.jpg: 640x640 1 spam, 22.5ms\n",
      "image 14/101 c:\\Users\\hxxzi\\Desktop\\GitHub\\final-project\\8\\data\\2\\test\\images\\0e6f33bf591698825018b83608f9fbf71_png.rf.b1a2335a79f1dc948284dc96a80caaa7.jpg: 640x640 1 bread, 25.6ms\n",
      "image 15/101 c:\\Users\\hxxzi\\Desktop\\GitHub\\final-project\\8\\data\\2\\test\\images\\1000084401956_i1_1100_jpeg.rf.69e06825ad2ad18171240322fc199ba0.jpg: 640x640 1 chicken, 24.8ms\n",
      "image 16/101 c:\\Users\\hxxzi\\Desktop\\GitHub\\final-project\\8\\data\\2\\test\\images\\1000_F_446542059_0Ad04MgoiXuqAYKSWGQUUuZzBMio8Ual_jpeg.rf.1e0374f56e830bd2d5e0e6094f1b18d6.jpg: 640x640 4 eggs, 25.3ms\n",
      "image 17/101 c:\\Users\\hxxzi\\Desktop\\GitHub\\final-project\\8\\data\\2\\test\\images\\106356_200066_jpeg.rf.bad5fe06e6ae2607027bdff295500262.jpg: 640x640 2 meats, 25.3ms\n",
      "image 18/101 c:\\Users\\hxxzi\\Desktop\\GitHub\\final-project\\8\\data\\2\\test\\images\\113636800-2_jpg.rf.b26b030ad74e9992b034c4d864e2d7d3.jpg: 640x640 5 eggs, 1 rice, 24.8ms\n",
      "image 19/101 c:\\Users\\hxxzi\\Desktop\\GitHub\\final-project\\8\\data\\2\\test\\images\\148b5904-cd23-4884-8625-a5b6a0e308fa_jpeg.rf.e131072e8ae11c3aeb9231ca56540c1c.jpg: 640x640 2 cheeses, 26.8ms\n",
      "image 20/101 c:\\Users\\hxxzi\\Desktop\\GitHub\\final-project\\8\\data\\2\\test\\images\\1631233154393_0_jpeg.rf.ba5724bda088b1996250a7dcaaec2ca5.jpg: 640x640 3 eggs, 22.8ms\n",
      "image 21/101 c:\\Users\\hxxzi\\Desktop\\GitHub\\final-project\\8\\data\\2\\test\\images\\1647415297128z0_jpeg.rf.9dbfdedb4cf853bfebb1ceb283f38abd.jpg: 640x640 1 rice, 25.0ms\n",
      "image 22/101 c:\\Users\\hxxzi\\Desktop\\GitHub\\final-project\\8\\data\\2\\test\\images\\171015_rice_8_jpeg.rf.3063062e32047ea82ef8d1c965b7b30e.jpg: 640x640 1 bread, 1 rice, 25.2ms\n",
      "image 23/101 c:\\Users\\hxxzi\\Desktop\\GitHub\\final-project\\8\\data\\2\\test\\images\\1930-hard-boiled-egg-diabetic_AS_163304407_031920_3864451747_jpeg.rf.bb5df984996b4ec51d9fbd2e9abe5156.jpg: 640x640 2 eggs, 24.0ms\n",
      "image 24/101 c:\\Users\\hxxzi\\Desktop\\GitHub\\final-project\\8\\data\\2\\test\\images\\20200826140101_1104394444_2_jpeg.rf.621d9d9bc7b77a1d142b074d7c6b8216.jpg: 640x640 2 cheeses, 24.2ms\n",
      "image 25/101 c:\\Users\\hxxzi\\Desktop\\GitHub\\final-project\\8\\data\\2\\test\\images\\20220527_3932352719853_jpeg.rf.50370968922be72558eedb3c1452e91a.jpg: 640x640 1 cheese, 1 egg, 29.0ms\n",
      "image 26/101 c:\\Users\\hxxzi\\Desktop\\GitHub\\final-project\\8\\data\\2\\test\\images\\2022082701080807_jpeg.rf.56df5d933959573aa0bfb7196dcf4822.jpg: 640x640 1 rice, 24.8ms\n",
      "image 27/101 c:\\Users\\hxxzi\\Desktop\\GitHub\\final-project\\8\\data\\2\\test\\images\\20221005165757_1804076_1200_801_jpeg.rf.6cc0418097d3d2f966cfc2153d2ae84f.jpg: 640x640 2 spams, 28.7ms\n",
      "image 28/101 c:\\Users\\hxxzi\\Desktop\\GitHub\\final-project\\8\\data\\2\\test\\images\\2022123014523369435_1672379554_jpeg.rf.5e1a57e138cdb9b287a91d89236e6f9b.jpg: 640x640 1 rice, 2 spams, 24.9ms\n",
      "image 29/101 c:\\Users\\hxxzi\\Desktop\\GitHub\\final-project\\8\\data\\2\\test\\images\\20230205502074_jpeg.rf.e91b86e8605c9649d40225faa25d7deb.jpg: 640x640 5 meats, 25.0ms\n",
      "image 30/101 c:\\Users\\hxxzi\\Desktop\\GitHub\\final-project\\8\\data\\2\\test\\images\\205528693_-cnt-_1668560978_w-res-_jpeg.rf.7d0af7b3ec41d872ab4280631e3a99ca.jpg: 640x640 7 spams, 25.1ms\n",
      "image 31/101 c:\\Users\\hxxzi\\Desktop\\GitHub\\final-project\\8\\data\\2\\test\\images\\25345F42552C806E1B_jpeg.rf.53ef31a676e8cd4cbd6d7ceba421d610.jpg: 640x640 2 onions, 24.7ms\n",
      "image 32/101 c:\\Users\\hxxzi\\Desktop\\GitHub\\final-project\\8\\data\\2\\test\\images\\256AD2395558797E1E_jpeg.rf.7627196f06f0fcf1b06378bc237e9b4e.jpg: 640x640 1 bread, 24.5ms\n",
      "image 33/101 c:\\Users\\hxxzi\\Desktop\\GitHub\\final-project\\8\\data\\2\\test\\images\\2dbce5cd-ed5d-48be-8ef5-6eb1c7b42078_jpeg.rf.16a0a2ef341b6d1b6946d6e84cae8e1d.jpg: 640x640 1 rice, 23.4ms\n",
      "image 34/101 c:\\Users\\hxxzi\\Desktop\\GitHub\\final-project\\8\\data\\2\\test\\images\\3-delicious-rice-recipes_jpeg.rf.67b01b07a1e5ca86fa016db7f56bea37.jpg: 640x640 1 rice, 29.8ms\n",
      "image 35/101 c:\\Users\\hxxzi\\Desktop\\GitHub\\final-project\\8\\data\\2\\test\\images\\36bdd674-f4b3-497b-8b5a-3518598bed20_lg_sq_jpeg.rf.6adcee00abe7f10ccda5d991393c6974.jpg: 640x640 4 eggs, 1 onion, 1 potato, 28.4ms\n",
      "image 36/101 c:\\Users\\hxxzi\\Desktop\\GitHub\\final-project\\8\\data\\2\\test\\images\\400x400-1-_jpeg.rf.76c46bf80371f5f8b0d50101e960c2ad.jpg: 640x640 3 meats, 34.3ms\n",
      "image 37/101 c:\\Users\\hxxzi\\Desktop\\GitHub\\final-project\\8\\data\\2\\test\\images\\400x400_jpeg.rf.5ef8a5339798cd8beebfc48772196f0d.jpg: 640x640 4 spams, 27.3ms\n",
      "image 38/101 c:\\Users\\hxxzi\\Desktop\\GitHub\\final-project\\8\\data\\2\\test\\images\\4c20b419107945fc98f9ac6f873ea0c820170627122158_jpeg.rf.68cd2898b0c97eea1cb1427b2b730151.jpg: 640x640 2 chickens, 34.5ms\n",
      "image 39/101 c:\\Users\\hxxzi\\Desktop\\GitHub\\final-project\\8\\data\\2\\test\\images\\550_jpeg.rf.3d901ab069a0d87b6dec96d74b6d4d4e.jpg: 640x640 3 meats, 29.8ms\n",
      "image 40/101 c:\\Users\\hxxzi\\Desktop\\GitHub\\final-project\\8\\data\\2\\test\\images\\601757ca0ae4d2738de6_jpeg.rf.020ad40d65dfc57b9cbf8fb09d3943b2.jpg: 640x640 2 spams, 25.6ms\n",
      "image 41/101 c:\\Users\\hxxzi\\Desktop\\GitHub\\final-project\\8\\data\\2\\test\\images\\6914f41a612520659dc701a423bfc8c01_jpeg.rf.305664ebee35c5cc5fdf731960d689c7.jpg: 640x640 2 meats, 33.4ms\n",
      "image 42/101 c:\\Users\\hxxzi\\Desktop\\GitHub\\final-project\\8\\data\\2\\test\\images\\72_2021080812372911_jpeg.rf.ed9a553322ccb56d262866003459e3d5.jpg: 640x640 12 spams, 29.0ms\n",
      "image 43/101 c:\\Users\\hxxzi\\Desktop\\GitHub\\final-project\\8\\data\\2\\test\\images\\820b460a-ab70-4fdf-afe8-ee6ec5f0ea28_lg_sq_jpeg.rf.9aba3b2e056a8db9d8ef885b743916c6.jpg: 640x640 4 meats, 29.1ms\n",
      "image 44/101 c:\\Users\\hxxzi\\Desktop\\GitHub\\final-project\\8\\data\\2\\test\\images\\9343bda5df24cf2c59727ebed134d6ec_jpeg.rf.f6273e6d0b8f2b1f81131e6db8285a71.jpg: 640x640 1 spam, 28.7ms\n",
      "image 45/101 c:\\Users\\hxxzi\\Desktop\\GitHub\\final-project\\8\\data\\2\\test\\images\\93a2083fcb78ea5e1b53369115d7e6121_f_jpeg.rf.f25a1133e463b91b20407eeca8efe379.jpg: 640x640 1 egg, 2 rices, 25.0ms\n",
      "image 46/101 c:\\Users\\hxxzi\\Desktop\\GitHub\\final-project\\8\\data\\2\\test\\images\\99-24812305-1_jpg.rf.acc03456af314adaf7355923f3f4cc58.jpg: 640x640 3 eggs, 26.0ms\n",
      "image 47/101 c:\\Users\\hxxzi\\Desktop\\GitHub\\final-project\\8\\data\\2\\test\\images\\9943C14A5E1335490B_jpeg.rf.ae532b285b6789486481f12f79e081f6.jpg: 640x640 4 meats, 27.0ms\n",
      "image 48/101 c:\\Users\\hxxzi\\Desktop\\GitHub\\final-project\\8\\data\\2\\test\\images\\99DCAA3C5E1333C62A_jpeg.rf.469c4944e718ede0e1dd2b6ee09c6761.jpg: 640x640 2 meats, 28.8ms\n",
      "image 49/101 c:\\Users\\hxxzi\\Desktop\\GitHub\\final-project\\8\\data\\2\\test\\images\\CI0009_1-min_jpeg.rf.e312e323f1026e1d6c86879529ef79e2.jpg: 640x640 3 spams, 24.9ms\n",
      "image 50/101 c:\\Users\\hxxzi\\Desktop\\GitHub\\final-project\\8\\data\\2\\test\\images\\DSC_6085_jpeg.rf.92b6846e7a8193c15a397a30c24d2153.jpg: 640x640 3 eggs, 1 potato, 2 tomatos, 25.6ms\n",
      "image 51/101 c:\\Users\\hxxzi\\Desktop\\GitHub\\final-project\\8\\data\\2\\test\\images\\Egg_baking-ingredients-e1584136402126-400x400_jpeg.rf.84e7390323edb3b8ac8d43dc1fac2b84.jpg: 640x640 2 onions, 2 potatos, 28.9ms\n",
      "image 52/101 c:\\Users\\hxxzi\\Desktop\\GitHub\\final-project\\8\\data\\2\\test\\images\\IMG_8222_jpeg.rf.78fffcb37cc31f6ae7d8df535656d032.jpg: 640x640 2 cheeses, 50.2ms\n",
      "image 53/101 c:\\Users\\hxxzi\\Desktop\\GitHub\\final-project\\8\\data\\2\\test\\images\\IO9FghimTO77jqdi-HILd6vOliF4_jpeg.rf.651e7508815ea7b746fdda5b11f62bec.jpg: 640x640 1 rice, 41.6ms\n",
      "image 54/101 c:\\Users\\hxxzi\\Desktop\\GitHub\\final-project\\8\\data\\2\\test\\images\\Image_21_jpg.rf.58d2e7ab4303ad9fcd2d519596c4e82f.jpg: 640x640 2 onions, 25.6ms\n",
      "image 55/101 c:\\Users\\hxxzi\\Desktop\\GitHub\\final-project\\8\\data\\2\\test\\images\\Image_22_jpg.rf.3be7db07734f8867be817b3e3d7039fc.jpg: 640x640 23 onions, 26.5ms\n",
      "image 56/101 c:\\Users\\hxxzi\\Desktop\\GitHub\\final-project\\8\\data\\2\\test\\images\\Image_24_jpg.rf.6c229b0a842fdd82e17250ccf3fd655a.jpg: 640x640 10 onions, 24.3ms\n",
      "image 57/101 c:\\Users\\hxxzi\\Desktop\\GitHub\\final-project\\8\\data\\2\\test\\images\\Image_30_jpg.rf.3e0ed34be24d1463b06365488ff96274.jpg: 640x640 3 onions, 24.2ms\n",
      "image 58/101 c:\\Users\\hxxzi\\Desktop\\GitHub\\final-project\\8\\data\\2\\test\\images\\Image_36_jpg.rf.3ebea02ed7f815b3b0edfb67665bd789.jpg: 640x640 4 onions, 30.4ms\n",
      "image 59/101 c:\\Users\\hxxzi\\Desktop\\GitHub\\final-project\\8\\data\\2\\test\\images\\Image_50_jpg.rf.38d1aba2dfdda68f058083935424fa11.jpg: 640x640 1 onion, 25.8ms\n",
      "image 60/101 c:\\Users\\hxxzi\\Desktop\\GitHub\\final-project\\8\\data\\2\\test\\images\\Image_53_jpg.rf.1bb71cd6671097788b793429b6f79d68.jpg: 640x640 1 onion, 25.9ms\n",
      "image 61/101 c:\\Users\\hxxzi\\Desktop\\GitHub\\final-project\\8\\data\\2\\test\\images\\Image_69_jpg.rf.e3bb21a15afdef4cafc34eff95c67ce9.jpg: 640x640 1 onion, 25.3ms\n",
      "image 62/101 c:\\Users\\hxxzi\\Desktop\\GitHub\\final-project\\8\\data\\2\\test\\images\\Image_78_png.rf.5fbf216adcfeaebdaca5cce96f3feb51.jpg: 640x640 1 onion, 25.0ms\n",
      "image 63/101 c:\\Users\\hxxzi\\Desktop\\GitHub\\final-project\\8\\data\\2\\test\\images\\Image_85_jpg.rf.f41992d37ad5001818f72df09711b33b.jpg: 640x640 3 onions, 25.1ms\n",
      "image 64/101 c:\\Users\\hxxzi\\Desktop\\GitHub\\final-project\\8\\data\\2\\test\\images\\Instant-pot-rice-pot-in-pot-L1-Paint-the-Kitchen-Red-scaled_jpeg.rf.d01629ce22375a77d865486633d34ee8.jpg: 640x640 2 rices, 1 tomato, 31.4ms\n",
      "image 65/101 c:\\Users\\hxxzi\\Desktop\\GitHub\\final-project\\8\\data\\2\\test\\images\\KakaoTalk_20200321_185424201_03_jpeg.rf.80b43ef20121f486b42e393786aead27.jpg: 640x640 2 spams, 28.7ms\n",
      "image 66/101 c:\\Users\\hxxzi\\Desktop\\GitHub\\final-project\\8\\data\\2\\test\\images\\Korean-purple-rice-cooked-in-stone-pot-thumbnail_jpeg.rf.aaaaf78160fdce12837a95dc0a5ca82c.jpg: 640x640 1 rice, 28.9ms\n",
      "image 67/101 c:\\Users\\hxxzi\\Desktop\\GitHub\\final-project\\8\\data\\2\\test\\images\\P7021365_jpeg.rf.9ad4eca3ad41fd4ede5efcd68afcbeee.jpg: 640x640 1 chicken, 2 eggs, 26.1ms\n",
      "image 68/101 c:\\Users\\hxxzi\\Desktop\\GitHub\\final-project\\8\\data\\2\\test\\images\\SE-48345fc4-e858-4aec-8dab-c11a7dcd30f2_jpeg.rf.6e1f5010ecbe715a67b38d7961cf285d.jpg: 640x640 2 rices, 23.9ms\n",
      "image 69/101 c:\\Users\\hxxzi\\Desktop\\GitHub\\final-project\\8\\data\\2\\test\\images\\SE-87c7080b-024b-4fdf-b3c5-41109dc8676e_jpeg.rf.90014e902a65ccb4c3395d5b66fb18b0.jpg: 640x640 1 chicken, 4 onions, 1 tomato, 25.3ms\n",
      "image 70/101 c:\\Users\\hxxzi\\Desktop\\GitHub\\final-project\\8\\data\\2\\test\\images\\SE-9c1e4f91-f2e0-423f-9eb4-6f228429119c_jpeg.rf.18a15b2117415549ccbb441d876b2531.jpg: 640x640 1 rice, 23.2ms\n",
      "image 71/101 c:\\Users\\hxxzi\\Desktop\\GitHub\\final-project\\8\\data\\2\\test\\images\\Shokupan-Failure-1_jpeg.rf.febb46673fe3ed4016ed856e0a554430.jpg: 640x640 1 bread, 1 cheese, 25.9ms\n",
      "image 72/101 c:\\Users\\hxxzi\\Desktop\\GitHub\\final-project\\8\\data\\2\\test\\images\\Sudden_egg_allergy_in_adults_jpeg.rf.1c6b0f56bc9ae5316520ec0bd314d421.jpg: 640x640 5 eggs, 25.8ms\n",
      "image 73/101 c:\\Users\\hxxzi\\Desktop\\GitHub\\final-project\\8\\data\\2\\test\\images\\YJFIJDOYNNF3RBRZFDUCKE4W4E_jpeg.rf.cb8d7f875fa5fafea79d478e6f2d72ee.jpg: 640x640 1 rice, 23.5ms\n",
      "image 74/101 c:\\Users\\hxxzi\\Desktop\\GitHub\\final-project\\8\\data\\2\\test\\images\\cafb52f6411b673fafac2b85dbaa2e011_jpeg.rf.304cd5e448501c21521dc64aa93a9029.jpg: 640x640 4 eggs, 26.2ms\n",
      "image 75/101 c:\\Users\\hxxzi\\Desktop\\GitHub\\final-project\\8\\data\\2\\test\\images\\d466b3e663456d7d74f1fb8ab3e96297_png.rf.f8f893ea447912e6216a2f131ab7b831.jpg: 640x640 3 chickens, 28.2ms\n",
      "image 76/101 c:\\Users\\hxxzi\\Desktop\\GitHub\\final-project\\8\\data\\2\\test\\images\\e3afb878-6da5-4af5-8121-89d375efaf62_lg_sq_jpeg.rf.5a012adb0986003d4c83e5f0b47f58a8.jpg: 640x640 1 milk, 27.4ms\n",
      "image 77/101 c:\\Users\\hxxzi\\Desktop\\GitHub\\final-project\\8\\data\\2\\test\\images\\egg-featured-768x512_jpeg.rf.bbda691f547c358ca1706a6f1d70ebd8.jpg: 640x640 5 eggs, 24.5ms\n",
      "image 78/101 c:\\Users\\hxxzi\\Desktop\\GitHub\\final-project\\8\\data\\2\\test\\images\\eggs_jpeg.rf.2567963060f27f42a4f57188f3e9e323.jpg: 640x640 3 eggs, 1 potato, 1 tomato, 26.6ms\n",
      "image 79/101 c:\\Users\\hxxzi\\Desktop\\GitHub\\final-project\\8\\data\\2\\test\\images\\fedd812123c9a71c3fade96e65994e361_jpeg.rf.144cae7f98f9087f267ddb5c9b3a801f.jpg: 640x640 4 breads, 29.4ms\n",
      "image 80/101 c:\\Users\\hxxzi\\Desktop\\GitHub\\final-project\\8\\data\\2\\test\\images\\gv10000317171_2_jpeg.rf.6f0bde2b3d72d218cd0a6ef0648a4e66.jpg: 640x640 2 cheeses, 5 spams, 26.2ms\n",
      "image 81/101 c:\\Users\\hxxzi\\Desktop\\GitHub\\final-project\\8\\data\\2\\test\\images\\gv20000103608_1_jpeg.rf.61c2dac7d7a6efc92c2e29666e2f7956.jpg: 640x640 1 rice, 27.1ms\n",
      "image 82/101 c:\\Users\\hxxzi\\Desktop\\GitHub\\final-project\\8\\data\\2\\test\\images\\how-to-boil-eggs-12_jpeg.rf.bf63aef8bf24e0f6ef942734c6edf050.jpg: 640x640 2 eggs, 25.4ms\n",
      "image 83/101 c:\\Users\\hxxzi\\Desktop\\GitHub\\final-project\\8\\data\\2\\test\\images\\image01_jpeg.rf.b4558f71af790511d27883562cde21c2.jpg: 640x640 1 bread, 8 meats, 24.0ms\n",
      "image 84/101 c:\\Users\\hxxzi\\Desktop\\GitHub\\final-project\\8\\data\\2\\test\\images\\image_6021424801500365827980_jpeg.rf.7a6e9d4954348c83d76ccec41daf6e9b.jpg: 640x640 1 rice, 24.9ms\n",
      "image 85/101 c:\\Users\\hxxzi\\Desktop\\GitHub\\final-project\\8\\data\\2\\test\\images\\image_9867442521500365176516_jpeg.rf.382a16f50d8ab27f198044af226aebb4.jpg: 640x640 1 rice, 24.7ms\n",
      "image 86/101 c:\\Users\\hxxzi\\Desktop\\GitHub\\final-project\\8\\data\\2\\test\\images\\image_jpeg.rf.444c160028813a4390a5e3259a8f9971.jpg: 640x640 2 eggs, 2 onions, 24.9ms\n",
      "image 87/101 c:\\Users\\hxxzi\\Desktop\\GitHub\\final-project\\8\\data\\2\\test\\images\\images_jpeg.rf.5ac001990f43afcca41e7d07d3f51b73.jpg: 640x640 7 meats, 24.8ms\n",
      "image 88/101 c:\\Users\\hxxzi\\Desktop\\GitHub\\final-project\\8\\data\\2\\test\\images\\img_jpeg.rf.3c5ee62e5d728d5c4f7920653976b37e.jpg: 640x640 4 meats, 23.1ms\n",
      "image 89/101 c:\\Users\\hxxzi\\Desktop\\GitHub\\final-project\\8\\data\\2\\test\\images\\img_jpeg.rf.a3db747b6f7f9909315246a8dc234c0d.jpg: 640x640 1 bread, 25.1ms\n",
      "image 90/101 c:\\Users\\hxxzi\\Desktop\\GitHub\\final-project\\8\\data\\2\\test\\images\\img_png.rf.5a1e0e8c9017d89a01de1c220ec10cbf.jpg: 640x640 2 meats, 25.3ms\n",
      "image 91/101 c:\\Users\\hxxzi\\Desktop\\GitHub\\final-project\\8\\data\\2\\test\\images\\instant-pot-rice-500x375_jpeg.rf.3583ea94d8ee6ccb55b79aebd3c69f9a.jpg: 640x640 1 rice, 47.0ms\n",
      "image 92/101 c:\\Users\\hxxzi\\Desktop\\GitHub\\final-project\\8\\data\\2\\test\\images\\istockphoto-178891822-170667a_jpeg.rf.7f4b7cf4991031194f3c6dc23bd8a5b7.jpg: 640x640 4 meats, 24.9ms\n",
      "image 93/101 c:\\Users\\hxxzi\\Desktop\\GitHub\\final-project\\8\\data\\2\\test\\images\\korean-purple-rice-4-500x500_jpeg.rf.4519a295739536f5e54c24b092167b1b.jpg: 640x640 (no detections), 25.5ms\n",
      "image 94/101 c:\\Users\\hxxzi\\Desktop\\GitHub\\final-project\\8\\data\\2\\test\\images\\news-p-v1-20230120-147dac61380c464d9ba7827977ca7e88_P1_jpg.rf.54992c147633a0a74553af5b6882ccb4.jpg: 640x640 12 spams, 26.1ms\n",
      "image 95/101 c:\\Users\\hxxzi\\Desktop\\GitHub\\final-project\\8\\data\\2\\test\\images\\pork-523102_1920_jpeg.rf.0ded3df4f21795d063f0870d665bce74.jpg: 640x640 1 chicken, 1 meat, 28.3ms\n",
      "image 96/101 c:\\Users\\hxxzi\\Desktop\\GitHub\\final-project\\8\\data\\2\\test\\images\\shutterstock_1020179506_jpeg.rf.6e8bf8f0d5b2168ca4ab12b588ec0ce5.jpg: 640x640 14 eggs, 27.2ms\n",
      "image 97/101 c:\\Users\\hxxzi\\Desktop\\GitHub\\final-project\\8\\data\\2\\test\\images\\temp_1569071381354-1438004020_jpeg.rf.5a00ae4db8703098263118e124e4a2b0.jpg: 640x640 1 spam, 27.4ms\n",
      "image 98/101 c:\\Users\\hxxzi\\Desktop\\GitHub\\final-project\\8\\data\\2\\test\\images\\thumb-4e24_1_450x520_jpeg.rf.be6eb6d97ae36e2d43ba4323cf23e5db.jpg: 640x640 1 spam, 25.0ms\n",
      "image 99/101 c:\\Users\\hxxzi\\Desktop\\GitHub\\final-project\\8\\data\\2\\test\\images\\thumb_289464709a64c-5363-4ded-9177-f1d566138c11_jpeg.rf.77c1ee40276b8f38b8b1c74b2c5f75d7.jpg: 640x640 2 meats, 22.7ms\n",
      "image 100/101 c:\\Users\\hxxzi\\Desktop\\GitHub\\final-project\\8\\data\\2\\test\\images\\trans-1-_jpeg.rf.90d66ee3b830a85d66f1486034ac04da.jpg: 640x640 1 chicken, 24.1ms\n",
      "image 101/101 c:\\Users\\hxxzi\\Desktop\\GitHub\\final-project\\8\\data\\2\\test\\images\\v4-460px-Make-a-Turbo-Sandwich-Step-1-Version-2_jpeg.rf.909089164067660a8956ab42f486cbfb.jpg: 640x640 1 bread, 27.1ms\n",
      "Speed: 2.3ms preprocess, 27.9ms inference, 1.9ms postprocess per image at shape (1, 3, 640, 640)\n",
      "Results saved to \u001b[1mruns\\detect\\train62\u001b[0m\n"
     ]
    }
   ],
   "source": [
    "from ultralytics import YOLO\n",
    "import torch\n",
    "\n",
    "model = YOLO('yolov9s.pt')\n",
    "\n",
    "model.train(data = r'C:\\Users\\hxxzi\\Desktop\\GitHub\\final-project\\8\\data\\2\\data.yaml', \n",
    "            epochs=100, \n",
    "            patience=30, \n",
    "            batch=8, \n",
    "            imgsz=640)\n",
    "\n",
    "torch.cuda.empty_cache()\n",
    "\n",
    "results = model.predict(source=\"test\\images\", save=True)"
   ]
  },
  {
   "cell_type": "code",
   "execution_count": null,
   "metadata": {},
   "outputs": [],
   "source": []
  }
 ],
 "metadata": {
  "kernelspec": {
   "display_name": "Python 3",
   "language": "python",
   "name": "python3"
  },
  "language_info": {
   "codemirror_mode": {
    "name": "ipython",
    "version": 3
   },
   "file_extension": ".py",
   "mimetype": "text/x-python",
   "name": "python",
   "nbconvert_exporter": "python",
   "pygments_lexer": "ipython3",
   "version": "3.11.8"
  }
 },
 "nbformat": 4,
 "nbformat_minor": 2
}
