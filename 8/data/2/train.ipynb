{
 "cells": [
  {
   "cell_type": "code",
   "execution_count": 2,
   "metadata": {},
   "outputs": [
    {
     "name": "stdout",
     "output_type": "stream",
     "text": [
      "New https://pypi.org/project/ultralytics/8.2.60 available  Update with 'pip install -U ultralytics'\n",
      "Ultralytics YOLOv8.2.58  Python-3.11.8 torch-2.3.0+cu118 CUDA:0 (NVIDIA GeForce RTX 3060 Laptop GPU, 6144MiB)\n",
      "\u001b[34m\u001b[1mengine\\trainer: \u001b[0mtask=detect, mode=train, model=yolov9s.pt, data=C:\\Users\\hxxzi\\Desktop\\GitHub\\final-project\\8\\data\\2\\data.yaml, epochs=100, time=None, patience=30, batch=8, imgsz=224, save=True, save_period=-1, cache=False, device=None, workers=8, project=None, name=train2, exist_ok=False, pretrained=True, optimizer=auto, verbose=True, seed=0, deterministic=True, single_cls=False, rect=False, cos_lr=False, close_mosaic=10, resume=False, amp=True, fraction=1.0, profile=False, freeze=None, multi_scale=False, overlap_mask=True, mask_ratio=4, dropout=0.0, val=True, split=val, save_json=False, save_hybrid=False, conf=None, iou=0.7, max_det=300, half=False, dnn=False, plots=True, source=None, vid_stride=1, stream_buffer=False, visualize=False, augment=False, agnostic_nms=False, classes=None, retina_masks=False, embed=None, show=False, save_frames=False, save_txt=False, save_conf=False, save_crop=False, show_labels=True, show_conf=True, show_boxes=True, line_width=None, format=torchscript, keras=False, optimize=False, int8=False, dynamic=False, simplify=False, opset=None, workspace=4, nms=False, lr0=0.01, lrf=0.01, momentum=0.937, weight_decay=0.0005, warmup_epochs=3.0, warmup_momentum=0.8, warmup_bias_lr=0.1, box=7.5, cls=0.5, dfl=1.5, pose=12.0, kobj=1.0, label_smoothing=0.0, nbs=64, hsv_h=0.015, hsv_s=0.7, hsv_v=0.4, degrees=0.0, translate=0.1, scale=0.5, shear=0.0, perspective=0.0, flipud=0.0, fliplr=0.5, bgr=0.0, mosaic=1.0, mixup=0.0, copy_paste=0.0, auto_augment=randaugment, erasing=0.4, crop_fraction=1.0, cfg=None, tracker=botsort.yaml, save_dir=runs\\detect\\train2\n",
      "Overriding model.yaml nc=80 with nc=14\n",
      "\n",
      "                   from  n    params  module                                       arguments                     \n",
      "  0                  -1  1       928  ultralytics.nn.modules.conv.Conv             [3, 32, 3, 2]                 \n",
      "  1                  -1  1     18560  ultralytics.nn.modules.conv.Conv             [32, 64, 3, 2]                \n",
      "  2                  -1  1     31104  ultralytics.nn.modules.block.ELAN1           [64, 64, 64, 32]              \n",
      "  3                  -1  1     73984  ultralytics.nn.modules.block.AConv           [64, 128]                     \n",
      "  4                  -1  1    258432  ultralytics.nn.modules.block.RepNCSPELAN4    [128, 128, 128, 64, 3]        \n",
      "  5                  -1  1    221568  ultralytics.nn.modules.block.AConv           [128, 192]                    \n",
      "  6                  -1  1    579648  ultralytics.nn.modules.block.RepNCSPELAN4    [192, 192, 192, 96, 3]        \n",
      "  7                  -1  1    442880  ultralytics.nn.modules.block.AConv           [192, 256]                    \n",
      "  8                  -1  1   1028864  ultralytics.nn.modules.block.RepNCSPELAN4    [256, 256, 256, 128, 3]       \n",
      "  9                  -1  1    164608  ultralytics.nn.modules.block.SPPELAN         [256, 256, 128]               \n",
      " 10                  -1  1         0  torch.nn.modules.upsampling.Upsample         [None, 2, 'nearest']          \n",
      " 11             [-1, 6]  1         0  ultralytics.nn.modules.conv.Concat           [1]                           \n",
      " 12                  -1  1    628800  ultralytics.nn.modules.block.RepNCSPELAN4    [448, 192, 192, 96, 3]        \n",
      " 13                  -1  1         0  torch.nn.modules.upsampling.Upsample         [None, 2, 'nearest']          \n",
      " 14             [-1, 4]  1         0  ultralytics.nn.modules.conv.Concat           [1]                           \n",
      " 15                  -1  1    283008  ultralytics.nn.modules.block.RepNCSPELAN4    [320, 128, 128, 64, 3]        \n",
      " 16                  -1  1    110784  ultralytics.nn.modules.block.AConv           [128, 96]                     \n",
      " 17            [-1, 12]  1         0  ultralytics.nn.modules.conv.Concat           [1]                           \n",
      " 18                  -1  1    598080  ultralytics.nn.modules.block.RepNCSPELAN4    [288, 192, 192, 96, 3]        \n",
      " 19                  -1  1    221440  ultralytics.nn.modules.block.AConv           [192, 128]                    \n",
      " 20             [-1, 9]  1         0  ultralytics.nn.modules.conv.Concat           [1]                           \n",
      " 21                  -1  1   1061632  ultralytics.nn.modules.block.RepNCSPELAN4    [384, 256, 256, 128, 3]       \n",
      " 22        [15, 18, 21]  1   1568506  ultralytics.nn.modules.head.Detect           [14, [128, 192, 256]]         \n",
      "YOLOv9s summary: 917 layers, 7,292,826 parameters, 7,292,810 gradients, 27.4 GFLOPs\n",
      "\n",
      "Transferred 1333/1339 items from pretrained weights\n",
      "Freezing layer 'model.22.dfl.conv.weight'\n",
      "\u001b[34m\u001b[1mAMP: \u001b[0mrunning Automatic Mixed Precision (AMP) checks with YOLOv8n...\n",
      "Downloading https://github.com/ultralytics/assets/releases/download/v8.2.0/yolov8n.pt to 'yolov8n.pt'...\n"
     ]
    },
    {
     "name": "stderr",
     "output_type": "stream",
     "text": [
      "100%|██████████| 6.25M/6.25M [00:02<00:00, 2.93MB/s]\n",
      "c:\\Users\\hxxzi\\AppData\\Local\\Programs\\Python\\Python311\\Lib\\site-packages\\torch\\nn\\modules\\conv.py:456: UserWarning: Plan failed with a cudnnException: CUDNN_BACKEND_EXECUTION_PLAN_DESCRIPTOR: cudnnFinalize Descriptor Failed cudnn_status: CUDNN_STATUS_NOT_SUPPORTED (Triggered internally at ..\\aten\\src\\ATen\\native\\cudnn\\Conv_v8.cpp:919.)\n",
      "  return F.conv2d(input, weight, bias, self.stride,\n"
     ]
    },
    {
     "name": "stdout",
     "output_type": "stream",
     "text": [
      "\u001b[34m\u001b[1mAMP: \u001b[0mchecks passed \n"
     ]
    },
    {
     "name": "stderr",
     "output_type": "stream",
     "text": [
      "\u001b[34m\u001b[1mtrain: \u001b[0mScanning C:\\Users\\hxxzi\\Desktop\\GitHub\\final-project\\8\\data\\2\\train\\labels... 1364 images, 0 backgrounds, 0 corrupt: 100%|██████████| 1364/1364 [00:01<00:00, 773.35it/s]\n"
     ]
    },
    {
     "name": "stdout",
     "output_type": "stream",
     "text": [
      "\u001b[34m\u001b[1mtrain: \u001b[0mNew cache created: C:\\Users\\hxxzi\\Desktop\\GitHub\\final-project\\8\\data\\2\\train\\labels.cache\n"
     ]
    },
    {
     "name": "stderr",
     "output_type": "stream",
     "text": [
      "\u001b[34m\u001b[1mval: \u001b[0mScanning C:\\Users\\hxxzi\\Desktop\\GitHub\\final-project\\8\\data\\2\\valid\\labels... 100 images, 0 backgrounds, 0 corrupt: 100%|██████████| 100/100 [00:00<00:00, 467.42it/s]"
     ]
    },
    {
     "name": "stdout",
     "output_type": "stream",
     "text": [
      "\u001b[34m\u001b[1mval: \u001b[0mNew cache created: C:\\Users\\hxxzi\\Desktop\\GitHub\\final-project\\8\\data\\2\\valid\\labels.cache\n",
      "WARNING  Box and segment counts should be equal, but got len(segments) = 2, len(boxes) = 263. To resolve this only boxes will be used and all segments will be removed. To avoid this please supply either a detect or segment dataset, not a detect-segment mixed dataset.\n"
     ]
    },
    {
     "name": "stderr",
     "output_type": "stream",
     "text": [
      "\n"
     ]
    },
    {
     "name": "stdout",
     "output_type": "stream",
     "text": [
      "Plotting labels to runs\\detect\\train2\\labels.jpg... \n",
      "\u001b[34m\u001b[1moptimizer:\u001b[0m 'optimizer=auto' found, ignoring 'lr0=0.01' and 'momentum=0.937' and determining best 'optimizer', 'lr0' and 'momentum' automatically... \n",
      "\u001b[34m\u001b[1moptimizer:\u001b[0m AdamW(lr=0.000556, momentum=0.9) with parameter groups 221 weight(decay=0.0), 228 weight(decay=0.0005), 227 bias(decay=0.0)\n",
      "Image sizes 224 train, 224 val\n",
      "Using 8 dataloader workers\n",
      "Logging results to \u001b[1mruns\\detect\\train2\u001b[0m\n",
      "Starting training for 100 epochs...\n",
      "\n",
      "      Epoch    GPU_mem   box_loss   cls_loss   dfl_loss  Instances       Size\n"
     ]
    },
    {
     "name": "stderr",
     "output_type": "stream",
     "text": [
      "  0%|          | 0/171 [00:00<?, ?it/s]c:\\Users\\hxxzi\\AppData\\Local\\Programs\\Python\\Python311\\Lib\\site-packages\\torch\\autograd\\graph.py:744: UserWarning: Plan failed with a cudnnException: CUDNN_BACKEND_EXECUTION_PLAN_DESCRIPTOR: cudnnFinalize Descriptor Failed cudnn_status: CUDNN_STATUS_NOT_SUPPORTED (Triggered internally at ..\\aten\\src\\ATen\\native\\cudnn\\Conv_v8.cpp:919.)\n",
      "  return Variable._execution_engine.run_backward(  # Calls into the C++ engine to run the backward pass\n",
      "      1/100     0.923G      1.512      2.933      1.684         27        224: 100%|██████████| 171/171 [00:49<00:00,  3.42it/s]\n",
      "                 Class     Images  Instances      Box(P          R      mAP50  mAP50-95): 100%|██████████| 7/7 [00:01<00:00,  3.94it/s]"
     ]
    },
    {
     "name": "stdout",
     "output_type": "stream",
     "text": [
      "                   all        100        263      0.496      0.523      0.462      0.273\n"
     ]
    },
    {
     "name": "stderr",
     "output_type": "stream",
     "text": [
      "\n"
     ]
    },
    {
     "name": "stdout",
     "output_type": "stream",
     "text": [
      "\n",
      "      Epoch    GPU_mem   box_loss   cls_loss   dfl_loss  Instances       Size\n"
     ]
    },
    {
     "name": "stderr",
     "output_type": "stream",
     "text": [
      "      2/100     0.891G      1.335       1.69      1.529         26        224: 100%|██████████| 171/171 [00:40<00:00,  4.26it/s]\n",
      "                 Class     Images  Instances      Box(P          R      mAP50  mAP50-95): 100%|██████████| 7/7 [00:00<00:00,  7.51it/s]"
     ]
    },
    {
     "name": "stdout",
     "output_type": "stream",
     "text": [
      "                   all        100        263      0.502      0.556      0.558      0.321\n"
     ]
    },
    {
     "name": "stderr",
     "output_type": "stream",
     "text": [
      "\n"
     ]
    },
    {
     "name": "stdout",
     "output_type": "stream",
     "text": [
      "\n",
      "      Epoch    GPU_mem   box_loss   cls_loss   dfl_loss  Instances       Size\n"
     ]
    },
    {
     "name": "stderr",
     "output_type": "stream",
     "text": [
      "      3/100     0.891G      1.312      1.599      1.529         16        224: 100%|██████████| 171/171 [00:38<00:00,  4.44it/s]\n",
      "                 Class     Images  Instances      Box(P          R      mAP50  mAP50-95): 100%|██████████| 7/7 [00:00<00:00,  7.03it/s]"
     ]
    },
    {
     "name": "stdout",
     "output_type": "stream",
     "text": [
      "                   all        100        263      0.557      0.517      0.495       0.25\n"
     ]
    },
    {
     "name": "stderr",
     "output_type": "stream",
     "text": [
      "\n"
     ]
    },
    {
     "name": "stdout",
     "output_type": "stream",
     "text": [
      "\n",
      "      Epoch    GPU_mem   box_loss   cls_loss   dfl_loss  Instances       Size\n"
     ]
    },
    {
     "name": "stderr",
     "output_type": "stream",
     "text": [
      "      4/100     0.891G      1.331       1.51      1.551         23        224: 100%|██████████| 171/171 [00:39<00:00,  4.35it/s]\n",
      "                 Class     Images  Instances      Box(P          R      mAP50  mAP50-95): 100%|██████████| 7/7 [00:01<00:00,  5.75it/s]"
     ]
    },
    {
     "name": "stdout",
     "output_type": "stream",
     "text": [
      "                   all        100        263      0.644       0.57      0.631      0.346\n"
     ]
    },
    {
     "name": "stderr",
     "output_type": "stream",
     "text": [
      "\n"
     ]
    },
    {
     "name": "stdout",
     "output_type": "stream",
     "text": [
      "\n",
      "      Epoch    GPU_mem   box_loss   cls_loss   dfl_loss  Instances       Size\n"
     ]
    },
    {
     "name": "stderr",
     "output_type": "stream",
     "text": [
      "      5/100     0.891G      1.279      1.462      1.513         20        224: 100%|██████████| 171/171 [00:38<00:00,  4.42it/s]\n",
      "                 Class     Images  Instances      Box(P          R      mAP50  mAP50-95): 100%|██████████| 7/7 [00:01<00:00,  5.83it/s]"
     ]
    },
    {
     "name": "stdout",
     "output_type": "stream",
     "text": [
      "                   all        100        263       0.57      0.611      0.592        0.3\n"
     ]
    },
    {
     "name": "stderr",
     "output_type": "stream",
     "text": [
      "\n"
     ]
    },
    {
     "name": "stdout",
     "output_type": "stream",
     "text": [
      "\n",
      "      Epoch    GPU_mem   box_loss   cls_loss   dfl_loss  Instances       Size\n"
     ]
    },
    {
     "name": "stderr",
     "output_type": "stream",
     "text": [
      "      6/100     0.891G      1.261      1.378      1.491         25        224: 100%|██████████| 171/171 [00:38<00:00,  4.45it/s]\n",
      "                 Class     Images  Instances      Box(P          R      mAP50  mAP50-95): 100%|██████████| 7/7 [00:01<00:00,  6.94it/s]"
     ]
    },
    {
     "name": "stdout",
     "output_type": "stream",
     "text": [
      "                   all        100        263      0.715      0.494      0.636      0.319\n"
     ]
    },
    {
     "name": "stderr",
     "output_type": "stream",
     "text": [
      "\n"
     ]
    },
    {
     "name": "stdout",
     "output_type": "stream",
     "text": [
      "\n",
      "      Epoch    GPU_mem   box_loss   cls_loss   dfl_loss  Instances       Size\n"
     ]
    },
    {
     "name": "stderr",
     "output_type": "stream",
     "text": [
      "      7/100     0.954G      1.244      1.318      1.466         29        224: 100%|██████████| 171/171 [00:38<00:00,  4.40it/s]\n",
      "                 Class     Images  Instances      Box(P          R      mAP50  mAP50-95): 100%|██████████| 7/7 [00:01<00:00,  6.75it/s]"
     ]
    },
    {
     "name": "stdout",
     "output_type": "stream",
     "text": [
      "                   all        100        263      0.636       0.69      0.681      0.361\n"
     ]
    },
    {
     "name": "stderr",
     "output_type": "stream",
     "text": [
      "\n"
     ]
    },
    {
     "name": "stdout",
     "output_type": "stream",
     "text": [
      "\n",
      "      Epoch    GPU_mem   box_loss   cls_loss   dfl_loss  Instances       Size\n"
     ]
    },
    {
     "name": "stderr",
     "output_type": "stream",
     "text": [
      "      8/100     0.891G      1.204       1.27      1.452         16        224: 100%|██████████| 171/171 [00:38<00:00,  4.40it/s]\n",
      "                 Class     Images  Instances      Box(P          R      mAP50  mAP50-95): 100%|██████████| 7/7 [00:00<00:00,  7.09it/s]"
     ]
    },
    {
     "name": "stdout",
     "output_type": "stream",
     "text": [
      "                   all        100        263      0.558      0.649      0.623      0.355\n"
     ]
    },
    {
     "name": "stderr",
     "output_type": "stream",
     "text": [
      "\n"
     ]
    },
    {
     "name": "stdout",
     "output_type": "stream",
     "text": [
      "\n",
      "      Epoch    GPU_mem   box_loss   cls_loss   dfl_loss  Instances       Size\n"
     ]
    },
    {
     "name": "stderr",
     "output_type": "stream",
     "text": [
      "      9/100     0.889G      1.193      1.214      1.452         15        224: 100%|██████████| 171/171 [00:38<00:00,  4.39it/s]\n",
      "                 Class     Images  Instances      Box(P          R      mAP50  mAP50-95): 100%|██████████| 7/7 [00:00<00:00,  7.19it/s]"
     ]
    },
    {
     "name": "stdout",
     "output_type": "stream",
     "text": [
      "                   all        100        263      0.692      0.657      0.728      0.479\n"
     ]
    },
    {
     "name": "stderr",
     "output_type": "stream",
     "text": [
      "\n"
     ]
    },
    {
     "name": "stdout",
     "output_type": "stream",
     "text": [
      "\n",
      "      Epoch    GPU_mem   box_loss   cls_loss   dfl_loss  Instances       Size\n"
     ]
    },
    {
     "name": "stderr",
     "output_type": "stream",
     "text": [
      "     10/100     0.891G      1.191      1.171      1.424         22        224: 100%|██████████| 171/171 [00:38<00:00,  4.42it/s]\n",
      "                 Class     Images  Instances      Box(P          R      mAP50  mAP50-95): 100%|██████████| 7/7 [00:01<00:00,  6.61it/s]"
     ]
    },
    {
     "name": "stdout",
     "output_type": "stream",
     "text": [
      "                   all        100        263      0.697      0.695      0.742      0.453\n"
     ]
    },
    {
     "name": "stderr",
     "output_type": "stream",
     "text": [
      "\n"
     ]
    },
    {
     "name": "stdout",
     "output_type": "stream",
     "text": [
      "\n",
      "      Epoch    GPU_mem   box_loss   cls_loss   dfl_loss  Instances       Size\n"
     ]
    },
    {
     "name": "stderr",
     "output_type": "stream",
     "text": [
      "     11/100     0.889G      1.135      1.139      1.406         18        224: 100%|██████████| 171/171 [00:38<00:00,  4.46it/s]\n",
      "                 Class     Images  Instances      Box(P          R      mAP50  mAP50-95): 100%|██████████| 7/7 [00:01<00:00,  6.79it/s]"
     ]
    },
    {
     "name": "stdout",
     "output_type": "stream",
     "text": [
      "                   all        100        263       0.72      0.668      0.739      0.463\n"
     ]
    },
    {
     "name": "stderr",
     "output_type": "stream",
     "text": [
      "\n"
     ]
    },
    {
     "name": "stdout",
     "output_type": "stream",
     "text": [
      "\n",
      "      Epoch    GPU_mem   box_loss   cls_loss   dfl_loss  Instances       Size\n"
     ]
    },
    {
     "name": "stderr",
     "output_type": "stream",
     "text": [
      "     12/100     0.891G      1.144      1.117      1.425         24        224: 100%|██████████| 171/171 [00:38<00:00,  4.40it/s]\n",
      "                 Class     Images  Instances      Box(P          R      mAP50  mAP50-95): 100%|██████████| 7/7 [00:01<00:00,  5.98it/s]"
     ]
    },
    {
     "name": "stdout",
     "output_type": "stream",
     "text": [
      "                   all        100        263      0.732      0.699      0.715       0.44\n"
     ]
    },
    {
     "name": "stderr",
     "output_type": "stream",
     "text": [
      "\n"
     ]
    },
    {
     "name": "stdout",
     "output_type": "stream",
     "text": [
      "\n",
      "      Epoch    GPU_mem   box_loss   cls_loss   dfl_loss  Instances       Size\n"
     ]
    },
    {
     "name": "stderr",
     "output_type": "stream",
     "text": [
      "     13/100     0.889G      1.108       1.08       1.38         12        224: 100%|██████████| 171/171 [00:38<00:00,  4.47it/s]\n",
      "                 Class     Images  Instances      Box(P          R      mAP50  mAP50-95): 100%|██████████| 7/7 [00:00<00:00,  7.44it/s]"
     ]
    },
    {
     "name": "stdout",
     "output_type": "stream",
     "text": [
      "                   all        100        263      0.741       0.72      0.763      0.502\n"
     ]
    },
    {
     "name": "stderr",
     "output_type": "stream",
     "text": [
      "\n"
     ]
    },
    {
     "name": "stdout",
     "output_type": "stream",
     "text": [
      "\n",
      "      Epoch    GPU_mem   box_loss   cls_loss   dfl_loss  Instances       Size\n"
     ]
    },
    {
     "name": "stderr",
     "output_type": "stream",
     "text": [
      "     14/100     0.891G      1.106      1.034      1.391         16        224: 100%|██████████| 171/171 [00:38<00:00,  4.44it/s]\n",
      "                 Class     Images  Instances      Box(P          R      mAP50  mAP50-95): 100%|██████████| 7/7 [00:01<00:00,  6.56it/s]"
     ]
    },
    {
     "name": "stdout",
     "output_type": "stream",
     "text": [
      "                   all        100        263      0.626      0.665      0.704      0.461\n"
     ]
    },
    {
     "name": "stderr",
     "output_type": "stream",
     "text": [
      "\n"
     ]
    },
    {
     "name": "stdout",
     "output_type": "stream",
     "text": [
      "\n",
      "      Epoch    GPU_mem   box_loss   cls_loss   dfl_loss  Instances       Size\n"
     ]
    },
    {
     "name": "stderr",
     "output_type": "stream",
     "text": [
      "     15/100     0.954G      1.078      1.016      1.369         25        224: 100%|██████████| 171/171 [00:38<00:00,  4.49it/s]\n",
      "                 Class     Images  Instances      Box(P          R      mAP50  mAP50-95): 100%|██████████| 7/7 [00:01<00:00,  6.70it/s]"
     ]
    },
    {
     "name": "stdout",
     "output_type": "stream",
     "text": [
      "                   all        100        263      0.762      0.747      0.792      0.518\n"
     ]
    },
    {
     "name": "stderr",
     "output_type": "stream",
     "text": [
      "\n"
     ]
    },
    {
     "name": "stdout",
     "output_type": "stream",
     "text": [
      "\n",
      "      Epoch    GPU_mem   box_loss   cls_loss   dfl_loss  Instances       Size\n"
     ]
    },
    {
     "name": "stderr",
     "output_type": "stream",
     "text": [
      "     16/100     0.891G      1.082      1.021      1.363         33        224: 100%|██████████| 171/171 [00:38<00:00,  4.44it/s]\n",
      "                 Class     Images  Instances      Box(P          R      mAP50  mAP50-95): 100%|██████████| 7/7 [00:00<00:00,  7.22it/s]"
     ]
    },
    {
     "name": "stdout",
     "output_type": "stream",
     "text": [
      "                   all        100        263      0.697      0.739      0.774      0.529\n"
     ]
    },
    {
     "name": "stderr",
     "output_type": "stream",
     "text": [
      "\n"
     ]
    },
    {
     "name": "stdout",
     "output_type": "stream",
     "text": [
      "\n",
      "      Epoch    GPU_mem   box_loss   cls_loss   dfl_loss  Instances       Size\n"
     ]
    },
    {
     "name": "stderr",
     "output_type": "stream",
     "text": [
      "     17/100     0.891G      1.038     0.9846       1.35         24        224: 100%|██████████| 171/171 [00:38<00:00,  4.40it/s]\n",
      "                 Class     Images  Instances      Box(P          R      mAP50  mAP50-95): 100%|██████████| 7/7 [00:01<00:00,  6.10it/s]"
     ]
    },
    {
     "name": "stdout",
     "output_type": "stream",
     "text": [
      "                   all        100        263      0.727      0.716      0.762      0.533\n"
     ]
    },
    {
     "name": "stderr",
     "output_type": "stream",
     "text": [
      "\n"
     ]
    },
    {
     "name": "stdout",
     "output_type": "stream",
     "text": [
      "\n",
      "      Epoch    GPU_mem   box_loss   cls_loss   dfl_loss  Instances       Size\n"
     ]
    },
    {
     "name": "stderr",
     "output_type": "stream",
     "text": [
      "     18/100     0.891G      1.082     0.9745      1.376         47        224: 100%|██████████| 171/171 [00:38<00:00,  4.39it/s]\n",
      "                 Class     Images  Instances      Box(P          R      mAP50  mAP50-95): 100%|██████████| 7/7 [00:01<00:00,  6.88it/s]"
     ]
    },
    {
     "name": "stdout",
     "output_type": "stream",
     "text": [
      "                   all        100        263       0.79      0.716      0.761      0.508\n"
     ]
    },
    {
     "name": "stderr",
     "output_type": "stream",
     "text": [
      "\n"
     ]
    },
    {
     "name": "stdout",
     "output_type": "stream",
     "text": [
      "\n",
      "      Epoch    GPU_mem   box_loss   cls_loss   dfl_loss  Instances       Size\n"
     ]
    },
    {
     "name": "stderr",
     "output_type": "stream",
     "text": [
      "     19/100     0.891G      1.061     0.9602      1.352         18        224: 100%|██████████| 171/171 [00:38<00:00,  4.43it/s]\n",
      "                 Class     Images  Instances      Box(P          R      mAP50  mAP50-95): 100%|██████████| 7/7 [00:00<00:00,  7.35it/s]"
     ]
    },
    {
     "name": "stdout",
     "output_type": "stream",
     "text": [
      "                   all        100        263      0.725      0.702      0.777      0.528\n"
     ]
    },
    {
     "name": "stderr",
     "output_type": "stream",
     "text": [
      "\n"
     ]
    },
    {
     "name": "stdout",
     "output_type": "stream",
     "text": [
      "\n",
      "      Epoch    GPU_mem   box_loss   cls_loss   dfl_loss  Instances       Size\n"
     ]
    },
    {
     "name": "stderr",
     "output_type": "stream",
     "text": [
      "     20/100     0.891G      1.036     0.9298      1.341         19        224: 100%|██████████| 171/171 [00:38<00:00,  4.49it/s]\n",
      "                 Class     Images  Instances      Box(P          R      mAP50  mAP50-95): 100%|██████████| 7/7 [00:01<00:00,  6.43it/s]"
     ]
    },
    {
     "name": "stdout",
     "output_type": "stream",
     "text": [
      "                   all        100        263       0.77      0.769      0.796      0.528\n"
     ]
    },
    {
     "name": "stderr",
     "output_type": "stream",
     "text": [
      "\n"
     ]
    },
    {
     "name": "stdout",
     "output_type": "stream",
     "text": [
      "\n",
      "      Epoch    GPU_mem   box_loss   cls_loss   dfl_loss  Instances       Size\n"
     ]
    },
    {
     "name": "stderr",
     "output_type": "stream",
     "text": [
      "     21/100     0.889G      1.046     0.9546      1.342         21        224: 100%|██████████| 171/171 [00:38<00:00,  4.43it/s]\n",
      "                 Class     Images  Instances      Box(P          R      mAP50  mAP50-95): 100%|██████████| 7/7 [00:00<00:00,  7.21it/s]"
     ]
    },
    {
     "name": "stdout",
     "output_type": "stream",
     "text": [
      "                   all        100        263      0.692      0.752      0.761      0.522\n"
     ]
    },
    {
     "name": "stderr",
     "output_type": "stream",
     "text": [
      "\n"
     ]
    },
    {
     "name": "stdout",
     "output_type": "stream",
     "text": [
      "\n",
      "      Epoch    GPU_mem   box_loss   cls_loss   dfl_loss  Instances       Size\n"
     ]
    },
    {
     "name": "stderr",
     "output_type": "stream",
     "text": [
      "     22/100     0.891G      1.023     0.9279      1.333         24        224: 100%|██████████| 171/171 [00:38<00:00,  4.46it/s]\n",
      "                 Class     Images  Instances      Box(P          R      mAP50  mAP50-95): 100%|██████████| 7/7 [00:01<00:00,  6.39it/s]"
     ]
    },
    {
     "name": "stdout",
     "output_type": "stream",
     "text": [
      "                   all        100        263      0.755      0.704      0.771      0.544\n"
     ]
    },
    {
     "name": "stderr",
     "output_type": "stream",
     "text": [
      "\n"
     ]
    },
    {
     "name": "stdout",
     "output_type": "stream",
     "text": [
      "\n",
      "      Epoch    GPU_mem   box_loss   cls_loss   dfl_loss  Instances       Size\n"
     ]
    },
    {
     "name": "stderr",
     "output_type": "stream",
     "text": [
      "     23/100     0.954G      1.037     0.9244      1.333         23        224: 100%|██████████| 171/171 [00:38<00:00,  4.46it/s]\n",
      "                 Class     Images  Instances      Box(P          R      mAP50  mAP50-95): 100%|██████████| 7/7 [00:01<00:00,  6.27it/s]"
     ]
    },
    {
     "name": "stdout",
     "output_type": "stream",
     "text": [
      "                   all        100        263      0.722      0.752      0.745      0.523\n"
     ]
    },
    {
     "name": "stderr",
     "output_type": "stream",
     "text": [
      "\n"
     ]
    },
    {
     "name": "stdout",
     "output_type": "stream",
     "text": [
      "\n",
      "      Epoch    GPU_mem   box_loss   cls_loss   dfl_loss  Instances       Size\n"
     ]
    },
    {
     "name": "stderr",
     "output_type": "stream",
     "text": [
      "     24/100     0.891G      1.007     0.8794      1.325         38        224: 100%|██████████| 171/171 [00:38<00:00,  4.41it/s]\n",
      "                 Class     Images  Instances      Box(P          R      mAP50  mAP50-95): 100%|██████████| 7/7 [00:01<00:00,  6.66it/s]"
     ]
    },
    {
     "name": "stdout",
     "output_type": "stream",
     "text": [
      "                   all        100        263      0.709      0.707      0.743       0.51\n"
     ]
    },
    {
     "name": "stderr",
     "output_type": "stream",
     "text": [
      "\n"
     ]
    },
    {
     "name": "stdout",
     "output_type": "stream",
     "text": [
      "\n",
      "      Epoch    GPU_mem   box_loss   cls_loss   dfl_loss  Instances       Size\n"
     ]
    },
    {
     "name": "stderr",
     "output_type": "stream",
     "text": [
      "     25/100     0.891G      1.016     0.9009      1.332         16        224: 100%|██████████| 171/171 [00:39<00:00,  4.36it/s]\n",
      "                 Class     Images  Instances      Box(P          R      mAP50  mAP50-95): 100%|██████████| 7/7 [00:01<00:00,  6.71it/s]"
     ]
    },
    {
     "name": "stdout",
     "output_type": "stream",
     "text": [
      "                   all        100        263      0.742        0.8      0.822      0.566\n"
     ]
    },
    {
     "name": "stderr",
     "output_type": "stream",
     "text": [
      "\n"
     ]
    },
    {
     "name": "stdout",
     "output_type": "stream",
     "text": [
      "\n",
      "      Epoch    GPU_mem   box_loss   cls_loss   dfl_loss  Instances       Size\n"
     ]
    },
    {
     "name": "stderr",
     "output_type": "stream",
     "text": [
      "     26/100     0.891G      1.001     0.8735      1.317         17        224: 100%|██████████| 171/171 [00:38<00:00,  4.44it/s]\n",
      "                 Class     Images  Instances      Box(P          R      mAP50  mAP50-95): 100%|██████████| 7/7 [00:01<00:00,  6.19it/s]"
     ]
    },
    {
     "name": "stdout",
     "output_type": "stream",
     "text": [
      "                   all        100        263      0.784      0.754      0.831      0.548\n"
     ]
    },
    {
     "name": "stderr",
     "output_type": "stream",
     "text": [
      "\n"
     ]
    },
    {
     "name": "stdout",
     "output_type": "stream",
     "text": [
      "\n",
      "      Epoch    GPU_mem   box_loss   cls_loss   dfl_loss  Instances       Size\n"
     ]
    },
    {
     "name": "stderr",
     "output_type": "stream",
     "text": [
      "     27/100     0.891G     0.9844     0.8434      1.307         23        224: 100%|██████████| 171/171 [00:38<00:00,  4.42it/s]\n",
      "                 Class     Images  Instances      Box(P          R      mAP50  mAP50-95): 100%|██████████| 7/7 [00:01<00:00,  6.22it/s]"
     ]
    },
    {
     "name": "stdout",
     "output_type": "stream",
     "text": [
      "                   all        100        263      0.719      0.775      0.803      0.581\n"
     ]
    },
    {
     "name": "stderr",
     "output_type": "stream",
     "text": [
      "\n"
     ]
    },
    {
     "name": "stdout",
     "output_type": "stream",
     "text": [
      "\n",
      "      Epoch    GPU_mem   box_loss   cls_loss   dfl_loss  Instances       Size\n"
     ]
    },
    {
     "name": "stderr",
     "output_type": "stream",
     "text": [
      "     28/100     0.889G     0.9894     0.8363       1.32         19        224: 100%|██████████| 171/171 [00:38<00:00,  4.42it/s]\n",
      "                 Class     Images  Instances      Box(P          R      mAP50  mAP50-95): 100%|██████████| 7/7 [00:00<00:00,  7.20it/s]"
     ]
    },
    {
     "name": "stdout",
     "output_type": "stream",
     "text": [
      "                   all        100        263      0.769      0.734      0.772      0.533\n"
     ]
    },
    {
     "name": "stderr",
     "output_type": "stream",
     "text": [
      "\n"
     ]
    },
    {
     "name": "stdout",
     "output_type": "stream",
     "text": [
      "\n",
      "      Epoch    GPU_mem   box_loss   cls_loss   dfl_loss  Instances       Size\n"
     ]
    },
    {
     "name": "stderr",
     "output_type": "stream",
     "text": [
      "     29/100     0.889G     0.9755     0.8105      1.302         22        224: 100%|██████████| 171/171 [00:38<00:00,  4.48it/s]\n",
      "                 Class     Images  Instances      Box(P          R      mAP50  mAP50-95): 100%|██████████| 7/7 [00:01<00:00,  6.80it/s]"
     ]
    },
    {
     "name": "stdout",
     "output_type": "stream",
     "text": [
      "                   all        100        263      0.691      0.749       0.78      0.546\n"
     ]
    },
    {
     "name": "stderr",
     "output_type": "stream",
     "text": [
      "\n"
     ]
    },
    {
     "name": "stdout",
     "output_type": "stream",
     "text": [
      "\n",
      "      Epoch    GPU_mem   box_loss   cls_loss   dfl_loss  Instances       Size\n"
     ]
    },
    {
     "name": "stderr",
     "output_type": "stream",
     "text": [
      "     30/100     0.891G     0.9726     0.8151      1.296         20        224: 100%|██████████| 171/171 [00:38<00:00,  4.39it/s]\n",
      "                 Class     Images  Instances      Box(P          R      mAP50  mAP50-95): 100%|██████████| 7/7 [00:01<00:00,  6.56it/s]"
     ]
    },
    {
     "name": "stdout",
     "output_type": "stream",
     "text": [
      "                   all        100        263      0.699      0.792      0.771      0.517\n"
     ]
    },
    {
     "name": "stderr",
     "output_type": "stream",
     "text": [
      "\n"
     ]
    },
    {
     "name": "stdout",
     "output_type": "stream",
     "text": [
      "\n",
      "      Epoch    GPU_mem   box_loss   cls_loss   dfl_loss  Instances       Size\n"
     ]
    },
    {
     "name": "stderr",
     "output_type": "stream",
     "text": [
      "     31/100     0.954G     0.9649     0.8093      1.296         16        224: 100%|██████████| 171/171 [00:38<00:00,  4.42it/s]\n",
      "                 Class     Images  Instances      Box(P          R      mAP50  mAP50-95): 100%|██████████| 7/7 [00:01<00:00,  6.43it/s]"
     ]
    },
    {
     "name": "stdout",
     "output_type": "stream",
     "text": [
      "                   all        100        263      0.732      0.674      0.747      0.555\n"
     ]
    },
    {
     "name": "stderr",
     "output_type": "stream",
     "text": [
      "\n"
     ]
    },
    {
     "name": "stdout",
     "output_type": "stream",
     "text": [
      "\n",
      "      Epoch    GPU_mem   box_loss   cls_loss   dfl_loss  Instances       Size\n"
     ]
    },
    {
     "name": "stderr",
     "output_type": "stream",
     "text": [
      "     32/100     0.891G     0.9459      0.786      1.286         20        224: 100%|██████████| 171/171 [00:38<00:00,  4.42it/s]\n",
      "                 Class     Images  Instances      Box(P          R      mAP50  mAP50-95): 100%|██████████| 7/7 [00:01<00:00,  6.81it/s]"
     ]
    },
    {
     "name": "stdout",
     "output_type": "stream",
     "text": [
      "                   all        100        263      0.718      0.758      0.778      0.579\n"
     ]
    },
    {
     "name": "stderr",
     "output_type": "stream",
     "text": [
      "\n"
     ]
    },
    {
     "name": "stdout",
     "output_type": "stream",
     "text": [
      "\n",
      "      Epoch    GPU_mem   box_loss   cls_loss   dfl_loss  Instances       Size\n"
     ]
    },
    {
     "name": "stderr",
     "output_type": "stream",
     "text": [
      "     33/100     0.891G     0.9394     0.7818      1.281          9        224: 100%|██████████| 171/171 [00:38<00:00,  4.46it/s]\n",
      "                 Class     Images  Instances      Box(P          R      mAP50  mAP50-95): 100%|██████████| 7/7 [00:00<00:00,  7.31it/s]"
     ]
    },
    {
     "name": "stdout",
     "output_type": "stream",
     "text": [
      "                   all        100        263      0.711      0.692       0.74       0.53\n"
     ]
    },
    {
     "name": "stderr",
     "output_type": "stream",
     "text": [
      "\n"
     ]
    },
    {
     "name": "stdout",
     "output_type": "stream",
     "text": [
      "\n",
      "      Epoch    GPU_mem   box_loss   cls_loss   dfl_loss  Instances       Size\n"
     ]
    },
    {
     "name": "stderr",
     "output_type": "stream",
     "text": [
      "     34/100     0.889G     0.9384     0.7898      1.273         25        224: 100%|██████████| 171/171 [00:39<00:00,  4.37it/s]\n",
      "                 Class     Images  Instances      Box(P          R      mAP50  mAP50-95): 100%|██████████| 7/7 [00:01<00:00,  6.94it/s]"
     ]
    },
    {
     "name": "stdout",
     "output_type": "stream",
     "text": [
      "                   all        100        263      0.747      0.807      0.812      0.577\n"
     ]
    },
    {
     "name": "stderr",
     "output_type": "stream",
     "text": [
      "\n"
     ]
    },
    {
     "name": "stdout",
     "output_type": "stream",
     "text": [
      "\n",
      "      Epoch    GPU_mem   box_loss   cls_loss   dfl_loss  Instances       Size\n"
     ]
    },
    {
     "name": "stderr",
     "output_type": "stream",
     "text": [
      "     35/100     0.889G     0.9234     0.7682      1.269         26        224: 100%|██████████| 171/171 [00:38<00:00,  4.45it/s]\n",
      "                 Class     Images  Instances      Box(P          R      mAP50  mAP50-95): 100%|██████████| 7/7 [00:01<00:00,  6.13it/s]"
     ]
    },
    {
     "name": "stdout",
     "output_type": "stream",
     "text": [
      "                   all        100        263      0.729      0.755      0.787      0.558\n"
     ]
    },
    {
     "name": "stderr",
     "output_type": "stream",
     "text": [
      "\n"
     ]
    },
    {
     "name": "stdout",
     "output_type": "stream",
     "text": [
      "\n",
      "      Epoch    GPU_mem   box_loss   cls_loss   dfl_loss  Instances       Size\n"
     ]
    },
    {
     "name": "stderr",
     "output_type": "stream",
     "text": [
      "     36/100     0.891G     0.9231     0.7386      1.261         14        224: 100%|██████████| 171/171 [00:38<00:00,  4.45it/s]\n",
      "                 Class     Images  Instances      Box(P          R      mAP50  mAP50-95): 100%|██████████| 7/7 [00:01<00:00,  6.86it/s]"
     ]
    },
    {
     "name": "stdout",
     "output_type": "stream",
     "text": [
      "                   all        100        263      0.741      0.737      0.776      0.555\n"
     ]
    },
    {
     "name": "stderr",
     "output_type": "stream",
     "text": [
      "\n"
     ]
    },
    {
     "name": "stdout",
     "output_type": "stream",
     "text": [
      "\n",
      "      Epoch    GPU_mem   box_loss   cls_loss   dfl_loss  Instances       Size\n"
     ]
    },
    {
     "name": "stderr",
     "output_type": "stream",
     "text": [
      "     37/100     0.889G     0.9313     0.7728      1.283         28        224: 100%|██████████| 171/171 [00:38<00:00,  4.47it/s]\n",
      "                 Class     Images  Instances      Box(P          R      mAP50  mAP50-95): 100%|██████████| 7/7 [00:01<00:00,  6.60it/s]"
     ]
    },
    {
     "name": "stdout",
     "output_type": "stream",
     "text": [
      "                   all        100        263      0.774      0.718      0.788      0.589\n"
     ]
    },
    {
     "name": "stderr",
     "output_type": "stream",
     "text": [
      "\n"
     ]
    },
    {
     "name": "stdout",
     "output_type": "stream",
     "text": [
      "\n",
      "      Epoch    GPU_mem   box_loss   cls_loss   dfl_loss  Instances       Size\n"
     ]
    },
    {
     "name": "stderr",
     "output_type": "stream",
     "text": [
      "     38/100     0.891G     0.9029     0.7377      1.256         46        224: 100%|██████████| 171/171 [00:38<00:00,  4.41it/s]\n",
      "                 Class     Images  Instances      Box(P          R      mAP50  mAP50-95): 100%|██████████| 7/7 [00:00<00:00,  7.92it/s]"
     ]
    },
    {
     "name": "stdout",
     "output_type": "stream",
     "text": [
      "                   all        100        263        0.7      0.746      0.749      0.557\n"
     ]
    },
    {
     "name": "stderr",
     "output_type": "stream",
     "text": [
      "\n"
     ]
    },
    {
     "name": "stdout",
     "output_type": "stream",
     "text": [
      "\n",
      "      Epoch    GPU_mem   box_loss   cls_loss   dfl_loss  Instances       Size\n"
     ]
    },
    {
     "name": "stderr",
     "output_type": "stream",
     "text": [
      "     39/100     0.952G     0.9015     0.7434       1.27         41        224: 100%|██████████| 171/171 [00:38<00:00,  4.44it/s]\n",
      "                 Class     Images  Instances      Box(P          R      mAP50  mAP50-95): 100%|██████████| 7/7 [00:01<00:00,  6.55it/s]"
     ]
    },
    {
     "name": "stdout",
     "output_type": "stream",
     "text": [
      "                   all        100        263       0.74      0.719      0.784      0.548\n"
     ]
    },
    {
     "name": "stderr",
     "output_type": "stream",
     "text": [
      "\n"
     ]
    },
    {
     "name": "stdout",
     "output_type": "stream",
     "text": [
      "\n",
      "      Epoch    GPU_mem   box_loss   cls_loss   dfl_loss  Instances       Size\n"
     ]
    },
    {
     "name": "stderr",
     "output_type": "stream",
     "text": [
      "     40/100     0.891G     0.9223     0.7388      1.262         27        224: 100%|██████████| 171/171 [00:38<00:00,  4.48it/s]\n",
      "                 Class     Images  Instances      Box(P          R      mAP50  mAP50-95): 100%|██████████| 7/7 [00:01<00:00,  6.51it/s]"
     ]
    },
    {
     "name": "stdout",
     "output_type": "stream",
     "text": [
      "                   all        100        263      0.743      0.783      0.807      0.588\n"
     ]
    },
    {
     "name": "stderr",
     "output_type": "stream",
     "text": [
      "\n"
     ]
    },
    {
     "name": "stdout",
     "output_type": "stream",
     "text": [
      "\n",
      "      Epoch    GPU_mem   box_loss   cls_loss   dfl_loss  Instances       Size\n"
     ]
    },
    {
     "name": "stderr",
     "output_type": "stream",
     "text": [
      "     41/100     0.889G     0.8778        0.7      1.246         23        224: 100%|██████████| 171/171 [00:38<00:00,  4.46it/s]\n",
      "                 Class     Images  Instances      Box(P          R      mAP50  mAP50-95): 100%|██████████| 7/7 [00:00<00:00,  7.03it/s]"
     ]
    },
    {
     "name": "stdout",
     "output_type": "stream",
     "text": [
      "                   all        100        263      0.757      0.811      0.827      0.616\n"
     ]
    },
    {
     "name": "stderr",
     "output_type": "stream",
     "text": [
      "\n"
     ]
    },
    {
     "name": "stdout",
     "output_type": "stream",
     "text": [
      "\n",
      "      Epoch    GPU_mem   box_loss   cls_loss   dfl_loss  Instances       Size\n"
     ]
    },
    {
     "name": "stderr",
     "output_type": "stream",
     "text": [
      "     42/100     0.889G     0.8903      0.715      1.262         23        224: 100%|██████████| 171/171 [00:38<00:00,  4.44it/s]\n",
      "                 Class     Images  Instances      Box(P          R      mAP50  mAP50-95): 100%|██████████| 7/7 [00:01<00:00,  6.31it/s]"
     ]
    },
    {
     "name": "stdout",
     "output_type": "stream",
     "text": [
      "                   all        100        263      0.723      0.787      0.784      0.584\n"
     ]
    },
    {
     "name": "stderr",
     "output_type": "stream",
     "text": [
      "\n"
     ]
    },
    {
     "name": "stdout",
     "output_type": "stream",
     "text": [
      "\n",
      "      Epoch    GPU_mem   box_loss   cls_loss   dfl_loss  Instances       Size\n"
     ]
    },
    {
     "name": "stderr",
     "output_type": "stream",
     "text": [
      "     43/100     0.889G     0.8964     0.7021      1.244         30        224: 100%|██████████| 171/171 [00:38<00:00,  4.46it/s]\n",
      "                 Class     Images  Instances      Box(P          R      mAP50  mAP50-95): 100%|██████████| 7/7 [00:01<00:00,  6.55it/s]"
     ]
    },
    {
     "name": "stdout",
     "output_type": "stream",
     "text": [
      "                   all        100        263      0.723      0.791      0.806      0.587\n"
     ]
    },
    {
     "name": "stderr",
     "output_type": "stream",
     "text": [
      "\n"
     ]
    },
    {
     "name": "stdout",
     "output_type": "stream",
     "text": [
      "\n",
      "      Epoch    GPU_mem   box_loss   cls_loss   dfl_loss  Instances       Size\n"
     ]
    },
    {
     "name": "stderr",
     "output_type": "stream",
     "text": [
      "     44/100     0.891G     0.8775     0.7015      1.242         37        224: 100%|██████████| 171/171 [00:38<00:00,  4.44it/s]\n",
      "                 Class     Images  Instances      Box(P          R      mAP50  mAP50-95): 100%|██████████| 7/7 [00:00<00:00,  7.17it/s]"
     ]
    },
    {
     "name": "stdout",
     "output_type": "stream",
     "text": [
      "                   all        100        263      0.728      0.777      0.799      0.596\n"
     ]
    },
    {
     "name": "stderr",
     "output_type": "stream",
     "text": [
      "\n"
     ]
    },
    {
     "name": "stdout",
     "output_type": "stream",
     "text": [
      "\n",
      "      Epoch    GPU_mem   box_loss   cls_loss   dfl_loss  Instances       Size\n"
     ]
    },
    {
     "name": "stderr",
     "output_type": "stream",
     "text": [
      "     45/100     0.889G     0.8811     0.6822       1.25         16        224: 100%|██████████| 171/171 [00:38<00:00,  4.45it/s]\n",
      "                 Class     Images  Instances      Box(P          R      mAP50  mAP50-95): 100%|██████████| 7/7 [00:00<00:00,  7.19it/s]"
     ]
    },
    {
     "name": "stdout",
     "output_type": "stream",
     "text": [
      "                   all        100        263      0.779      0.769       0.78      0.579\n"
     ]
    },
    {
     "name": "stderr",
     "output_type": "stream",
     "text": [
      "\n"
     ]
    },
    {
     "name": "stdout",
     "output_type": "stream",
     "text": [
      "\n",
      "      Epoch    GPU_mem   box_loss   cls_loss   dfl_loss  Instances       Size\n"
     ]
    },
    {
     "name": "stderr",
     "output_type": "stream",
     "text": [
      "     46/100     0.889G     0.8821     0.6869      1.242         14        224: 100%|██████████| 171/171 [00:39<00:00,  4.38it/s]\n",
      "                 Class     Images  Instances      Box(P          R      mAP50  mAP50-95): 100%|██████████| 7/7 [00:00<00:00,  7.72it/s]"
     ]
    },
    {
     "name": "stdout",
     "output_type": "stream",
     "text": [
      "                   all        100        263      0.678      0.808        0.8      0.597\n"
     ]
    },
    {
     "name": "stderr",
     "output_type": "stream",
     "text": [
      "\n"
     ]
    },
    {
     "name": "stdout",
     "output_type": "stream",
     "text": [
      "\n",
      "      Epoch    GPU_mem   box_loss   cls_loss   dfl_loss  Instances       Size\n"
     ]
    },
    {
     "name": "stderr",
     "output_type": "stream",
     "text": [
      "     47/100     0.954G     0.8705      0.708      1.248         34        224: 100%|██████████| 171/171 [00:38<00:00,  4.42it/s]\n",
      "                 Class     Images  Instances      Box(P          R      mAP50  mAP50-95): 100%|██████████| 7/7 [00:01<00:00,  6.67it/s]"
     ]
    },
    {
     "name": "stdout",
     "output_type": "stream",
     "text": [
      "                   all        100        263       0.77      0.719      0.814      0.609\n"
     ]
    },
    {
     "name": "stderr",
     "output_type": "stream",
     "text": [
      "\n"
     ]
    },
    {
     "name": "stdout",
     "output_type": "stream",
     "text": [
      "\n",
      "      Epoch    GPU_mem   box_loss   cls_loss   dfl_loss  Instances       Size\n"
     ]
    },
    {
     "name": "stderr",
     "output_type": "stream",
     "text": [
      "     48/100     0.891G     0.8557      0.671       1.23         34        224: 100%|██████████| 171/171 [00:38<00:00,  4.40it/s]\n",
      "                 Class     Images  Instances      Box(P          R      mAP50  mAP50-95): 100%|██████████| 7/7 [00:01<00:00,  5.97it/s]"
     ]
    },
    {
     "name": "stdout",
     "output_type": "stream",
     "text": [
      "                   all        100        263      0.796      0.763      0.841      0.632\n"
     ]
    },
    {
     "name": "stderr",
     "output_type": "stream",
     "text": [
      "\n"
     ]
    },
    {
     "name": "stdout",
     "output_type": "stream",
     "text": [
      "\n",
      "      Epoch    GPU_mem   box_loss   cls_loss   dfl_loss  Instances       Size\n"
     ]
    },
    {
     "name": "stderr",
     "output_type": "stream",
     "text": [
      "     49/100     0.889G     0.8719     0.6558      1.236         19        224: 100%|██████████| 171/171 [00:38<00:00,  4.44it/s]\n",
      "                 Class     Images  Instances      Box(P          R      mAP50  mAP50-95): 100%|██████████| 7/7 [00:01<00:00,  6.86it/s]"
     ]
    },
    {
     "name": "stdout",
     "output_type": "stream",
     "text": [
      "                   all        100        263      0.743      0.774      0.824      0.625\n"
     ]
    },
    {
     "name": "stderr",
     "output_type": "stream",
     "text": [
      "\n"
     ]
    },
    {
     "name": "stdout",
     "output_type": "stream",
     "text": [
      "\n",
      "      Epoch    GPU_mem   box_loss   cls_loss   dfl_loss  Instances       Size\n"
     ]
    },
    {
     "name": "stderr",
     "output_type": "stream",
     "text": [
      "     50/100     0.889G     0.8575     0.6634      1.228         12        224: 100%|██████████| 171/171 [00:38<00:00,  4.44it/s]\n",
      "                 Class     Images  Instances      Box(P          R      mAP50  mAP50-95): 100%|██████████| 7/7 [00:01<00:00,  6.59it/s]"
     ]
    },
    {
     "name": "stdout",
     "output_type": "stream",
     "text": [
      "                   all        100        263      0.734      0.776      0.802      0.583\n"
     ]
    },
    {
     "name": "stderr",
     "output_type": "stream",
     "text": [
      "\n"
     ]
    },
    {
     "name": "stdout",
     "output_type": "stream",
     "text": [
      "\n",
      "      Epoch    GPU_mem   box_loss   cls_loss   dfl_loss  Instances       Size\n"
     ]
    },
    {
     "name": "stderr",
     "output_type": "stream",
     "text": [
      "     51/100     0.889G      0.857     0.6548      1.228         22        224: 100%|██████████| 171/171 [00:38<00:00,  4.43it/s]\n",
      "                 Class     Images  Instances      Box(P          R      mAP50  mAP50-95): 100%|██████████| 7/7 [00:00<00:00,  7.27it/s]"
     ]
    },
    {
     "name": "stdout",
     "output_type": "stream",
     "text": [
      "                   all        100        263      0.811      0.725      0.806      0.598\n"
     ]
    },
    {
     "name": "stderr",
     "output_type": "stream",
     "text": [
      "\n"
     ]
    },
    {
     "name": "stdout",
     "output_type": "stream",
     "text": [
      "\n",
      "      Epoch    GPU_mem   box_loss   cls_loss   dfl_loss  Instances       Size\n"
     ]
    },
    {
     "name": "stderr",
     "output_type": "stream",
     "text": [
      "     52/100     0.889G     0.8613     0.6545      1.227         33        224: 100%|██████████| 171/171 [00:38<00:00,  4.45it/s]\n",
      "                 Class     Images  Instances      Box(P          R      mAP50  mAP50-95): 100%|██████████| 7/7 [00:01<00:00,  6.27it/s]"
     ]
    },
    {
     "name": "stdout",
     "output_type": "stream",
     "text": [
      "                   all        100        263       0.71      0.774      0.792      0.584\n"
     ]
    },
    {
     "name": "stderr",
     "output_type": "stream",
     "text": [
      "\n"
     ]
    },
    {
     "name": "stdout",
     "output_type": "stream",
     "text": [
      "\n",
      "      Epoch    GPU_mem   box_loss   cls_loss   dfl_loss  Instances       Size\n"
     ]
    },
    {
     "name": "stderr",
     "output_type": "stream",
     "text": [
      "     53/100     0.889G     0.8316     0.6416      1.219         21        224: 100%|██████████| 171/171 [00:37<00:00,  4.50it/s]\n",
      "                 Class     Images  Instances      Box(P          R      mAP50  mAP50-95): 100%|██████████| 7/7 [00:01<00:00,  6.80it/s]"
     ]
    },
    {
     "name": "stdout",
     "output_type": "stream",
     "text": [
      "                   all        100        263      0.776      0.764      0.807      0.611\n"
     ]
    },
    {
     "name": "stderr",
     "output_type": "stream",
     "text": [
      "\n"
     ]
    },
    {
     "name": "stdout",
     "output_type": "stream",
     "text": [
      "\n",
      "      Epoch    GPU_mem   box_loss   cls_loss   dfl_loss  Instances       Size\n"
     ]
    },
    {
     "name": "stderr",
     "output_type": "stream",
     "text": [
      "     54/100     0.889G     0.8437     0.6383      1.208         34        224: 100%|██████████| 171/171 [00:38<00:00,  4.41it/s]\n",
      "                 Class     Images  Instances      Box(P          R      mAP50  mAP50-95): 100%|██████████| 7/7 [00:01<00:00,  6.48it/s]"
     ]
    },
    {
     "name": "stdout",
     "output_type": "stream",
     "text": [
      "                   all        100        263      0.772      0.808      0.845      0.635\n"
     ]
    },
    {
     "name": "stderr",
     "output_type": "stream",
     "text": [
      "\n"
     ]
    },
    {
     "name": "stdout",
     "output_type": "stream",
     "text": [
      "\n",
      "      Epoch    GPU_mem   box_loss   cls_loss   dfl_loss  Instances       Size\n"
     ]
    },
    {
     "name": "stderr",
     "output_type": "stream",
     "text": [
      "     55/100     0.954G     0.8387     0.6404      1.217         24        224: 100%|██████████| 171/171 [00:38<00:00,  4.45it/s]\n",
      "                 Class     Images  Instances      Box(P          R      mAP50  mAP50-95): 100%|██████████| 7/7 [00:00<00:00,  7.18it/s]"
     ]
    },
    {
     "name": "stdout",
     "output_type": "stream",
     "text": [
      "                   all        100        263      0.794      0.756      0.826      0.611\n"
     ]
    },
    {
     "name": "stderr",
     "output_type": "stream",
     "text": [
      "\n"
     ]
    },
    {
     "name": "stdout",
     "output_type": "stream",
     "text": [
      "\n",
      "      Epoch    GPU_mem   box_loss   cls_loss   dfl_loss  Instances       Size\n"
     ]
    },
    {
     "name": "stderr",
     "output_type": "stream",
     "text": [
      "     56/100     0.891G     0.8216     0.6243      1.203         28        224: 100%|██████████| 171/171 [00:38<00:00,  4.42it/s]\n",
      "                 Class     Images  Instances      Box(P          R      mAP50  mAP50-95): 100%|██████████| 7/7 [00:01<00:00,  6.86it/s]"
     ]
    },
    {
     "name": "stdout",
     "output_type": "stream",
     "text": [
      "                   all        100        263      0.796      0.809      0.831      0.625\n"
     ]
    },
    {
     "name": "stderr",
     "output_type": "stream",
     "text": [
      "\n"
     ]
    },
    {
     "name": "stdout",
     "output_type": "stream",
     "text": [
      "\n",
      "      Epoch    GPU_mem   box_loss   cls_loss   dfl_loss  Instances       Size\n"
     ]
    },
    {
     "name": "stderr",
     "output_type": "stream",
     "text": [
      "     57/100     0.889G     0.8193     0.6229      1.211         28        224: 100%|██████████| 171/171 [00:38<00:00,  4.44it/s]\n",
      "                 Class     Images  Instances      Box(P          R      mAP50  mAP50-95): 100%|██████████| 7/7 [00:01<00:00,  5.62it/s]"
     ]
    },
    {
     "name": "stdout",
     "output_type": "stream",
     "text": [
      "                   all        100        263       0.81      0.695      0.798      0.601\n"
     ]
    },
    {
     "name": "stderr",
     "output_type": "stream",
     "text": [
      "\n"
     ]
    },
    {
     "name": "stdout",
     "output_type": "stream",
     "text": [
      "\n",
      "      Epoch    GPU_mem   box_loss   cls_loss   dfl_loss  Instances       Size\n"
     ]
    },
    {
     "name": "stderr",
     "output_type": "stream",
     "text": [
      "     58/100     0.889G     0.8171     0.6258      1.203         20        224: 100%|██████████| 171/171 [00:39<00:00,  4.36it/s]\n",
      "                 Class     Images  Instances      Box(P          R      mAP50  mAP50-95): 100%|██████████| 7/7 [00:01<00:00,  6.21it/s]"
     ]
    },
    {
     "name": "stdout",
     "output_type": "stream",
     "text": [
      "                   all        100        263      0.717      0.807      0.813      0.608\n"
     ]
    },
    {
     "name": "stderr",
     "output_type": "stream",
     "text": [
      "\n"
     ]
    },
    {
     "name": "stdout",
     "output_type": "stream",
     "text": [
      "\n",
      "      Epoch    GPU_mem   box_loss   cls_loss   dfl_loss  Instances       Size\n"
     ]
    },
    {
     "name": "stderr",
     "output_type": "stream",
     "text": [
      "     59/100     0.889G     0.8195      0.621      1.202         45        224: 100%|██████████| 171/171 [00:38<00:00,  4.45it/s]\n",
      "                 Class     Images  Instances      Box(P          R      mAP50  mAP50-95): 100%|██████████| 7/7 [00:01<00:00,  6.70it/s]"
     ]
    },
    {
     "name": "stdout",
     "output_type": "stream",
     "text": [
      "                   all        100        263      0.837      0.755       0.84      0.625\n"
     ]
    },
    {
     "name": "stderr",
     "output_type": "stream",
     "text": [
      "\n"
     ]
    },
    {
     "name": "stdout",
     "output_type": "stream",
     "text": [
      "\n",
      "      Epoch    GPU_mem   box_loss   cls_loss   dfl_loss  Instances       Size\n"
     ]
    },
    {
     "name": "stderr",
     "output_type": "stream",
     "text": [
      "     60/100     0.891G     0.8116     0.5984      1.188         28        224: 100%|██████████| 171/171 [00:37<00:00,  4.51it/s]\n",
      "                 Class     Images  Instances      Box(P          R      mAP50  mAP50-95): 100%|██████████| 7/7 [00:01<00:00,  6.50it/s]"
     ]
    },
    {
     "name": "stdout",
     "output_type": "stream",
     "text": [
      "                   all        100        263      0.794      0.773      0.836      0.611\n"
     ]
    },
    {
     "name": "stderr",
     "output_type": "stream",
     "text": [
      "\n"
     ]
    },
    {
     "name": "stdout",
     "output_type": "stream",
     "text": [
      "\n",
      "      Epoch    GPU_mem   box_loss   cls_loss   dfl_loss  Instances       Size\n"
     ]
    },
    {
     "name": "stderr",
     "output_type": "stream",
     "text": [
      "     61/100     0.891G     0.8191     0.6125      1.195         26        224: 100%|██████████| 171/171 [00:38<00:00,  4.47it/s]\n",
      "                 Class     Images  Instances      Box(P          R      mAP50  mAP50-95): 100%|██████████| 7/7 [00:00<00:00,  8.00it/s]"
     ]
    },
    {
     "name": "stdout",
     "output_type": "stream",
     "text": [
      "                   all        100        263      0.829       0.74      0.825      0.646\n"
     ]
    },
    {
     "name": "stderr",
     "output_type": "stream",
     "text": [
      "\n"
     ]
    },
    {
     "name": "stdout",
     "output_type": "stream",
     "text": [
      "\n",
      "      Epoch    GPU_mem   box_loss   cls_loss   dfl_loss  Instances       Size\n"
     ]
    },
    {
     "name": "stderr",
     "output_type": "stream",
     "text": [
      "     62/100     0.889G     0.8091      0.614      1.187         17        224: 100%|██████████| 171/171 [00:38<00:00,  4.44it/s]\n",
      "                 Class     Images  Instances      Box(P          R      mAP50  mAP50-95): 100%|██████████| 7/7 [00:01<00:00,  5.91it/s]"
     ]
    },
    {
     "name": "stdout",
     "output_type": "stream",
     "text": [
      "                   all        100        263      0.808       0.72      0.822      0.632\n"
     ]
    },
    {
     "name": "stderr",
     "output_type": "stream",
     "text": [
      "\n"
     ]
    },
    {
     "name": "stdout",
     "output_type": "stream",
     "text": [
      "\n",
      "      Epoch    GPU_mem   box_loss   cls_loss   dfl_loss  Instances       Size\n"
     ]
    },
    {
     "name": "stderr",
     "output_type": "stream",
     "text": [
      "     63/100     0.954G     0.8125     0.6083      1.196         21        224: 100%|██████████| 171/171 [00:38<00:00,  4.50it/s]\n",
      "                 Class     Images  Instances      Box(P          R      mAP50  mAP50-95): 100%|██████████| 7/7 [00:01<00:00,  6.74it/s]"
     ]
    },
    {
     "name": "stdout",
     "output_type": "stream",
     "text": [
      "                   all        100        263      0.776      0.778      0.813      0.629\n"
     ]
    },
    {
     "name": "stderr",
     "output_type": "stream",
     "text": [
      "\n"
     ]
    },
    {
     "name": "stdout",
     "output_type": "stream",
     "text": [
      "\n",
      "      Epoch    GPU_mem   box_loss   cls_loss   dfl_loss  Instances       Size\n"
     ]
    },
    {
     "name": "stderr",
     "output_type": "stream",
     "text": [
      "     64/100     0.891G     0.7927     0.5889      1.164         34        224: 100%|██████████| 171/171 [00:38<00:00,  4.49it/s]\n",
      "                 Class     Images  Instances      Box(P          R      mAP50  mAP50-95): 100%|██████████| 7/7 [00:00<00:00,  7.27it/s]"
     ]
    },
    {
     "name": "stdout",
     "output_type": "stream",
     "text": [
      "                   all        100        263      0.782      0.718      0.814      0.629\n"
     ]
    },
    {
     "name": "stderr",
     "output_type": "stream",
     "text": [
      "\n"
     ]
    },
    {
     "name": "stdout",
     "output_type": "stream",
     "text": [
      "\n",
      "      Epoch    GPU_mem   box_loss   cls_loss   dfl_loss  Instances       Size\n"
     ]
    },
    {
     "name": "stderr",
     "output_type": "stream",
     "text": [
      "     65/100     0.891G     0.7844     0.5883       1.17         16        224: 100%|██████████| 171/171 [00:39<00:00,  4.37it/s]\n",
      "                 Class     Images  Instances      Box(P          R      mAP50  mAP50-95): 100%|██████████| 7/7 [00:01<00:00,  6.86it/s]"
     ]
    },
    {
     "name": "stdout",
     "output_type": "stream",
     "text": [
      "                   all        100        263      0.762      0.752       0.82      0.616\n"
     ]
    },
    {
     "name": "stderr",
     "output_type": "stream",
     "text": [
      "\n"
     ]
    },
    {
     "name": "stdout",
     "output_type": "stream",
     "text": [
      "\n",
      "      Epoch    GPU_mem   box_loss   cls_loss   dfl_loss  Instances       Size\n"
     ]
    },
    {
     "name": "stderr",
     "output_type": "stream",
     "text": [
      "     66/100     0.889G     0.7901     0.5965      1.187         12        224: 100%|██████████| 171/171 [00:38<00:00,  4.40it/s]\n",
      "                 Class     Images  Instances      Box(P          R      mAP50  mAP50-95): 100%|██████████| 7/7 [00:00<00:00,  7.27it/s]"
     ]
    },
    {
     "name": "stdout",
     "output_type": "stream",
     "text": [
      "                   all        100        263       0.84      0.732      0.857      0.637\n"
     ]
    },
    {
     "name": "stderr",
     "output_type": "stream",
     "text": [
      "\n"
     ]
    },
    {
     "name": "stdout",
     "output_type": "stream",
     "text": [
      "\n",
      "      Epoch    GPU_mem   box_loss   cls_loss   dfl_loss  Instances       Size\n"
     ]
    },
    {
     "name": "stderr",
     "output_type": "stream",
     "text": [
      "     67/100     0.889G     0.7975     0.5963      1.185         22        224: 100%|██████████| 171/171 [00:38<00:00,  4.43it/s]\n",
      "                 Class     Images  Instances      Box(P          R      mAP50  mAP50-95): 100%|██████████| 7/7 [00:01<00:00,  6.65it/s]"
     ]
    },
    {
     "name": "stdout",
     "output_type": "stream",
     "text": [
      "                   all        100        263      0.761      0.806      0.827      0.615\n"
     ]
    },
    {
     "name": "stderr",
     "output_type": "stream",
     "text": [
      "\n"
     ]
    },
    {
     "name": "stdout",
     "output_type": "stream",
     "text": [
      "\n",
      "      Epoch    GPU_mem   box_loss   cls_loss   dfl_loss  Instances       Size\n"
     ]
    },
    {
     "name": "stderr",
     "output_type": "stream",
     "text": [
      "     68/100     0.891G     0.7752     0.5771      1.177         21        224: 100%|██████████| 171/171 [00:38<00:00,  4.41it/s]\n",
      "                 Class     Images  Instances      Box(P          R      mAP50  mAP50-95): 100%|██████████| 7/7 [00:01<00:00,  6.72it/s]"
     ]
    },
    {
     "name": "stdout",
     "output_type": "stream",
     "text": [
      "                   all        100        263      0.786      0.742      0.811      0.612\n"
     ]
    },
    {
     "name": "stderr",
     "output_type": "stream",
     "text": [
      "\n"
     ]
    },
    {
     "name": "stdout",
     "output_type": "stream",
     "text": [
      "\n",
      "      Epoch    GPU_mem   box_loss   cls_loss   dfl_loss  Instances       Size\n"
     ]
    },
    {
     "name": "stderr",
     "output_type": "stream",
     "text": [
      "     69/100     0.889G     0.7933     0.5709      1.178         31        224: 100%|██████████| 171/171 [00:39<00:00,  4.37it/s]\n",
      "                 Class     Images  Instances      Box(P          R      mAP50  mAP50-95): 100%|██████████| 7/7 [00:00<00:00,  7.31it/s]"
     ]
    },
    {
     "name": "stdout",
     "output_type": "stream",
     "text": [
      "                   all        100        263      0.806      0.753      0.841      0.642\n"
     ]
    },
    {
     "name": "stderr",
     "output_type": "stream",
     "text": [
      "\n"
     ]
    },
    {
     "name": "stdout",
     "output_type": "stream",
     "text": [
      "\n",
      "      Epoch    GPU_mem   box_loss   cls_loss   dfl_loss  Instances       Size\n"
     ]
    },
    {
     "name": "stderr",
     "output_type": "stream",
     "text": [
      "     70/100     0.891G     0.7724     0.5552      1.154         11        224: 100%|██████████| 171/171 [00:38<00:00,  4.41it/s]\n",
      "                 Class     Images  Instances      Box(P          R      mAP50  mAP50-95): 100%|██████████| 7/7 [00:01<00:00,  6.75it/s]"
     ]
    },
    {
     "name": "stdout",
     "output_type": "stream",
     "text": [
      "                   all        100        263      0.847      0.728      0.844      0.654\n"
     ]
    },
    {
     "name": "stderr",
     "output_type": "stream",
     "text": [
      "\n"
     ]
    },
    {
     "name": "stdout",
     "output_type": "stream",
     "text": [
      "\n",
      "      Epoch    GPU_mem   box_loss   cls_loss   dfl_loss  Instances       Size\n"
     ]
    },
    {
     "name": "stderr",
     "output_type": "stream",
     "text": [
      "     71/100     0.954G     0.7673     0.5566      1.159         30        224: 100%|██████████| 171/171 [00:38<00:00,  4.43it/s]\n",
      "                 Class     Images  Instances      Box(P          R      mAP50  mAP50-95): 100%|██████████| 7/7 [00:01<00:00,  6.51it/s]"
     ]
    },
    {
     "name": "stdout",
     "output_type": "stream",
     "text": [
      "                   all        100        263      0.832      0.721      0.834      0.642\n"
     ]
    },
    {
     "name": "stderr",
     "output_type": "stream",
     "text": [
      "\n"
     ]
    },
    {
     "name": "stdout",
     "output_type": "stream",
     "text": [
      "\n",
      "      Epoch    GPU_mem   box_loss   cls_loss   dfl_loss  Instances       Size\n"
     ]
    },
    {
     "name": "stderr",
     "output_type": "stream",
     "text": [
      "     72/100     0.891G     0.7538     0.5552       1.16         17        224: 100%|██████████| 171/171 [00:38<00:00,  4.42it/s]\n",
      "                 Class     Images  Instances      Box(P          R      mAP50  mAP50-95): 100%|██████████| 7/7 [00:00<00:00,  7.29it/s]"
     ]
    },
    {
     "name": "stdout",
     "output_type": "stream",
     "text": [
      "                   all        100        263      0.791      0.768      0.839      0.658\n"
     ]
    },
    {
     "name": "stderr",
     "output_type": "stream",
     "text": [
      "\n"
     ]
    },
    {
     "name": "stdout",
     "output_type": "stream",
     "text": [
      "\n",
      "      Epoch    GPU_mem   box_loss   cls_loss   dfl_loss  Instances       Size\n"
     ]
    },
    {
     "name": "stderr",
     "output_type": "stream",
     "text": [
      "     73/100     0.889G     0.7645     0.5528       1.16         34        224: 100%|██████████| 171/171 [00:38<00:00,  4.42it/s]\n",
      "                 Class     Images  Instances      Box(P          R      mAP50  mAP50-95): 100%|██████████| 7/7 [00:01<00:00,  6.43it/s]"
     ]
    },
    {
     "name": "stdout",
     "output_type": "stream",
     "text": [
      "                   all        100        263      0.789      0.751      0.827      0.627\n"
     ]
    },
    {
     "name": "stderr",
     "output_type": "stream",
     "text": [
      "\n"
     ]
    },
    {
     "name": "stdout",
     "output_type": "stream",
     "text": [
      "\n",
      "      Epoch    GPU_mem   box_loss   cls_loss   dfl_loss  Instances       Size\n"
     ]
    },
    {
     "name": "stderr",
     "output_type": "stream",
     "text": [
      "     74/100     0.891G     0.7444     0.5531      1.159         23        224: 100%|██████████| 171/171 [00:38<00:00,  4.43it/s]\n",
      "                 Class     Images  Instances      Box(P          R      mAP50  mAP50-95): 100%|██████████| 7/7 [00:01<00:00,  6.57it/s]"
     ]
    },
    {
     "name": "stdout",
     "output_type": "stream",
     "text": [
      "                   all        100        263      0.784      0.795      0.836      0.634\n"
     ]
    },
    {
     "name": "stderr",
     "output_type": "stream",
     "text": [
      "\n"
     ]
    },
    {
     "name": "stdout",
     "output_type": "stream",
     "text": [
      "\n",
      "      Epoch    GPU_mem   box_loss   cls_loss   dfl_loss  Instances       Size\n"
     ]
    },
    {
     "name": "stderr",
     "output_type": "stream",
     "text": [
      "     75/100     0.889G     0.7571     0.5658      1.166         37        224: 100%|██████████| 171/171 [00:38<00:00,  4.45it/s]\n",
      "                 Class     Images  Instances      Box(P          R      mAP50  mAP50-95): 100%|██████████| 7/7 [00:01<00:00,  6.60it/s]"
     ]
    },
    {
     "name": "stdout",
     "output_type": "stream",
     "text": [
      "                   all        100        263      0.838      0.723      0.853      0.636\n"
     ]
    },
    {
     "name": "stderr",
     "output_type": "stream",
     "text": [
      "\n"
     ]
    },
    {
     "name": "stdout",
     "output_type": "stream",
     "text": [
      "\n",
      "      Epoch    GPU_mem   box_loss   cls_loss   dfl_loss  Instances       Size\n"
     ]
    },
    {
     "name": "stderr",
     "output_type": "stream",
     "text": [
      "     76/100     0.889G     0.7491     0.5488      1.152         19        224: 100%|██████████| 171/171 [00:39<00:00,  4.36it/s]\n",
      "                 Class     Images  Instances      Box(P          R      mAP50  mAP50-95): 100%|██████████| 7/7 [00:00<00:00,  7.79it/s]"
     ]
    },
    {
     "name": "stdout",
     "output_type": "stream",
     "text": [
      "                   all        100        263      0.787      0.776      0.843      0.619\n"
     ]
    },
    {
     "name": "stderr",
     "output_type": "stream",
     "text": [
      "\n"
     ]
    },
    {
     "name": "stdout",
     "output_type": "stream",
     "text": [
      "\n",
      "      Epoch    GPU_mem   box_loss   cls_loss   dfl_loss  Instances       Size\n"
     ]
    },
    {
     "name": "stderr",
     "output_type": "stream",
     "text": [
      "     77/100     0.891G     0.7413     0.5364      1.157         31        224: 100%|██████████| 171/171 [00:38<00:00,  4.48it/s]\n",
      "                 Class     Images  Instances      Box(P          R      mAP50  mAP50-95): 100%|██████████| 7/7 [00:01<00:00,  6.37it/s]"
     ]
    },
    {
     "name": "stdout",
     "output_type": "stream",
     "text": [
      "                   all        100        263       0.76      0.784      0.839      0.645\n"
     ]
    },
    {
     "name": "stderr",
     "output_type": "stream",
     "text": [
      "\n"
     ]
    },
    {
     "name": "stdout",
     "output_type": "stream",
     "text": [
      "\n",
      "      Epoch    GPU_mem   box_loss   cls_loss   dfl_loss  Instances       Size\n"
     ]
    },
    {
     "name": "stderr",
     "output_type": "stream",
     "text": [
      "     78/100     0.889G     0.7392     0.5367      1.157         23        224: 100%|██████████| 171/171 [00:38<00:00,  4.45it/s]\n",
      "                 Class     Images  Instances      Box(P          R      mAP50  mAP50-95): 100%|██████████| 7/7 [00:00<00:00,  7.46it/s]"
     ]
    },
    {
     "name": "stdout",
     "output_type": "stream",
     "text": [
      "                   all        100        263      0.787      0.788      0.845      0.644\n"
     ]
    },
    {
     "name": "stderr",
     "output_type": "stream",
     "text": [
      "\n"
     ]
    },
    {
     "name": "stdout",
     "output_type": "stream",
     "text": [
      "\n",
      "      Epoch    GPU_mem   box_loss   cls_loss   dfl_loss  Instances       Size\n"
     ]
    },
    {
     "name": "stderr",
     "output_type": "stream",
     "text": [
      "     79/100     0.952G     0.7349     0.5353       1.15         23        224: 100%|██████████| 171/171 [00:38<00:00,  4.50it/s]\n",
      "                 Class     Images  Instances      Box(P          R      mAP50  mAP50-95): 100%|██████████| 7/7 [00:01<00:00,  6.90it/s]"
     ]
    },
    {
     "name": "stdout",
     "output_type": "stream",
     "text": [
      "                   all        100        263      0.776       0.84       0.85      0.651\n"
     ]
    },
    {
     "name": "stderr",
     "output_type": "stream",
     "text": [
      "\n"
     ]
    },
    {
     "name": "stdout",
     "output_type": "stream",
     "text": [
      "\n",
      "      Epoch    GPU_mem   box_loss   cls_loss   dfl_loss  Instances       Size\n"
     ]
    },
    {
     "name": "stderr",
     "output_type": "stream",
     "text": [
      "     80/100     0.891G     0.7488     0.5433      1.149         23        224: 100%|██████████| 171/171 [00:38<00:00,  4.43it/s]\n",
      "                 Class     Images  Instances      Box(P          R      mAP50  mAP50-95): 100%|██████████| 7/7 [00:01<00:00,  6.84it/s]"
     ]
    },
    {
     "name": "stdout",
     "output_type": "stream",
     "text": [
      "                   all        100        263      0.746      0.814      0.857      0.645\n"
     ]
    },
    {
     "name": "stderr",
     "output_type": "stream",
     "text": [
      "\n"
     ]
    },
    {
     "name": "stdout",
     "output_type": "stream",
     "text": [
      "\n",
      "      Epoch    GPU_mem   box_loss   cls_loss   dfl_loss  Instances       Size\n"
     ]
    },
    {
     "name": "stderr",
     "output_type": "stream",
     "text": [
      "     81/100     0.891G     0.7373     0.5233      1.149         15        224: 100%|██████████| 171/171 [00:38<00:00,  4.43it/s]\n",
      "                 Class     Images  Instances      Box(P          R      mAP50  mAP50-95): 100%|██████████| 7/7 [00:00<00:00,  7.24it/s]"
     ]
    },
    {
     "name": "stdout",
     "output_type": "stream",
     "text": [
      "                   all        100        263      0.744      0.793      0.852       0.66\n"
     ]
    },
    {
     "name": "stderr",
     "output_type": "stream",
     "text": [
      "\n"
     ]
    },
    {
     "name": "stdout",
     "output_type": "stream",
     "text": [
      "\n",
      "      Epoch    GPU_mem   box_loss   cls_loss   dfl_loss  Instances       Size\n"
     ]
    },
    {
     "name": "stderr",
     "output_type": "stream",
     "text": [
      "     82/100     0.889G     0.7253      0.518      1.142         27        224: 100%|██████████| 171/171 [00:38<00:00,  4.46it/s]\n",
      "                 Class     Images  Instances      Box(P          R      mAP50  mAP50-95): 100%|██████████| 7/7 [00:01<00:00,  6.47it/s]"
     ]
    },
    {
     "name": "stdout",
     "output_type": "stream",
     "text": [
      "                   all        100        263      0.781       0.79      0.846      0.654\n"
     ]
    },
    {
     "name": "stderr",
     "output_type": "stream",
     "text": [
      "\n"
     ]
    },
    {
     "name": "stdout",
     "output_type": "stream",
     "text": [
      "\n",
      "      Epoch    GPU_mem   box_loss   cls_loss   dfl_loss  Instances       Size\n"
     ]
    },
    {
     "name": "stderr",
     "output_type": "stream",
     "text": [
      "     83/100     0.889G      0.742     0.5201      1.145         18        224: 100%|██████████| 171/171 [00:38<00:00,  4.44it/s]\n",
      "                 Class     Images  Instances      Box(P          R      mAP50  mAP50-95): 100%|██████████| 7/7 [00:01<00:00,  6.41it/s]"
     ]
    },
    {
     "name": "stdout",
     "output_type": "stream",
     "text": [
      "                   all        100        263      0.783      0.791      0.834      0.631\n"
     ]
    },
    {
     "name": "stderr",
     "output_type": "stream",
     "text": [
      "\n"
     ]
    },
    {
     "name": "stdout",
     "output_type": "stream",
     "text": [
      "\n",
      "      Epoch    GPU_mem   box_loss   cls_loss   dfl_loss  Instances       Size\n"
     ]
    },
    {
     "name": "stderr",
     "output_type": "stream",
     "text": [
      "     84/100     0.889G     0.7221     0.5113      1.141         16        224: 100%|██████████| 171/171 [00:39<00:00,  4.37it/s]\n",
      "                 Class     Images  Instances      Box(P          R      mAP50  mAP50-95): 100%|██████████| 7/7 [00:01<00:00,  6.72it/s]"
     ]
    },
    {
     "name": "stdout",
     "output_type": "stream",
     "text": [
      "                   all        100        263      0.818      0.758       0.86      0.659\n"
     ]
    },
    {
     "name": "stderr",
     "output_type": "stream",
     "text": [
      "\n"
     ]
    },
    {
     "name": "stdout",
     "output_type": "stream",
     "text": [
      "\n",
      "      Epoch    GPU_mem   box_loss   cls_loss   dfl_loss  Instances       Size\n"
     ]
    },
    {
     "name": "stderr",
     "output_type": "stream",
     "text": [
      "     85/100     0.891G     0.7209     0.5129      1.141         21        224: 100%|██████████| 171/171 [00:38<00:00,  4.45it/s]\n",
      "                 Class     Images  Instances      Box(P          R      mAP50  mAP50-95): 100%|██████████| 7/7 [00:00<00:00,  7.16it/s]"
     ]
    },
    {
     "name": "stdout",
     "output_type": "stream",
     "text": [
      "                   all        100        263      0.808      0.795       0.86      0.656\n"
     ]
    },
    {
     "name": "stderr",
     "output_type": "stream",
     "text": [
      "\n"
     ]
    },
    {
     "name": "stdout",
     "output_type": "stream",
     "text": [
      "\n",
      "      Epoch    GPU_mem   box_loss   cls_loss   dfl_loss  Instances       Size\n"
     ]
    },
    {
     "name": "stderr",
     "output_type": "stream",
     "text": [
      "     86/100     0.889G     0.7231     0.5127      1.142         25        224: 100%|██████████| 171/171 [00:38<00:00,  4.47it/s]\n",
      "                 Class     Images  Instances      Box(P          R      mAP50  mAP50-95): 100%|██████████| 7/7 [00:01<00:00,  6.35it/s]"
     ]
    },
    {
     "name": "stdout",
     "output_type": "stream",
     "text": [
      "                   all        100        263      0.798      0.786      0.862      0.675\n"
     ]
    },
    {
     "name": "stderr",
     "output_type": "stream",
     "text": [
      "\n"
     ]
    },
    {
     "name": "stdout",
     "output_type": "stream",
     "text": [
      "\n",
      "      Epoch    GPU_mem   box_loss   cls_loss   dfl_loss  Instances       Size\n"
     ]
    },
    {
     "name": "stderr",
     "output_type": "stream",
     "text": [
      "     87/100     0.952G     0.7044     0.5019       1.13         32        224: 100%|██████████| 171/171 [00:38<00:00,  4.47it/s]\n",
      "                 Class     Images  Instances      Box(P          R      mAP50  mAP50-95): 100%|██████████| 7/7 [00:01<00:00,  6.53it/s]"
     ]
    },
    {
     "name": "stdout",
     "output_type": "stream",
     "text": [
      "                   all        100        263      0.858      0.721      0.856      0.658\n"
     ]
    },
    {
     "name": "stderr",
     "output_type": "stream",
     "text": [
      "\n"
     ]
    },
    {
     "name": "stdout",
     "output_type": "stream",
     "text": [
      "\n",
      "      Epoch    GPU_mem   box_loss   cls_loss   dfl_loss  Instances       Size\n"
     ]
    },
    {
     "name": "stderr",
     "output_type": "stream",
     "text": [
      "     88/100     0.891G     0.7168     0.5069      1.137         31        224: 100%|██████████| 171/171 [00:37<00:00,  4.56it/s]\n",
      "                 Class     Images  Instances      Box(P          R      mAP50  mAP50-95): 100%|██████████| 7/7 [00:01<00:00,  6.61it/s]"
     ]
    },
    {
     "name": "stdout",
     "output_type": "stream",
     "text": [
      "                   all        100        263      0.788      0.812      0.869      0.674\n"
     ]
    },
    {
     "name": "stderr",
     "output_type": "stream",
     "text": [
      "\n"
     ]
    },
    {
     "name": "stdout",
     "output_type": "stream",
     "text": [
      "\n",
      "      Epoch    GPU_mem   box_loss   cls_loss   dfl_loss  Instances       Size\n"
     ]
    },
    {
     "name": "stderr",
     "output_type": "stream",
     "text": [
      "     89/100     0.891G     0.7173     0.5011      1.139         20        224: 100%|██████████| 171/171 [00:38<00:00,  4.40it/s]\n",
      "                 Class     Images  Instances      Box(P          R      mAP50  mAP50-95): 100%|██████████| 7/7 [00:00<00:00,  7.03it/s]"
     ]
    },
    {
     "name": "stdout",
     "output_type": "stream",
     "text": [
      "                   all        100        263      0.779      0.811      0.868      0.676\n"
     ]
    },
    {
     "name": "stderr",
     "output_type": "stream",
     "text": [
      "\n"
     ]
    },
    {
     "name": "stdout",
     "output_type": "stream",
     "text": [
      "\n",
      "      Epoch    GPU_mem   box_loss   cls_loss   dfl_loss  Instances       Size\n"
     ]
    },
    {
     "name": "stderr",
     "output_type": "stream",
     "text": [
      "     90/100     0.891G     0.7071     0.4977      1.128         22        224: 100%|██████████| 171/171 [00:38<00:00,  4.39it/s]\n",
      "                 Class     Images  Instances      Box(P          R      mAP50  mAP50-95): 100%|██████████| 7/7 [00:01<00:00,  6.94it/s]"
     ]
    },
    {
     "name": "stdout",
     "output_type": "stream",
     "text": [
      "                   all        100        263      0.804      0.776      0.861      0.675\n"
     ]
    },
    {
     "name": "stderr",
     "output_type": "stream",
     "text": [
      "\n"
     ]
    },
    {
     "name": "stdout",
     "output_type": "stream",
     "text": [
      "Closing dataloader mosaic\n",
      "\n",
      "      Epoch    GPU_mem   box_loss   cls_loss   dfl_loss  Instances       Size\n"
     ]
    },
    {
     "name": "stderr",
     "output_type": "stream",
     "text": [
      "     91/100     0.891G     0.6573     0.3832      1.105         18        224: 100%|██████████| 171/171 [00:39<00:00,  4.37it/s]\n",
      "                 Class     Images  Instances      Box(P          R      mAP50  mAP50-95): 100%|██████████| 7/7 [00:01<00:00,  6.71it/s]"
     ]
    },
    {
     "name": "stdout",
     "output_type": "stream",
     "text": [
      "                   all        100        263      0.736      0.795      0.816      0.633\n"
     ]
    },
    {
     "name": "stderr",
     "output_type": "stream",
     "text": [
      "\n"
     ]
    },
    {
     "name": "stdout",
     "output_type": "stream",
     "text": [
      "\n",
      "      Epoch    GPU_mem   box_loss   cls_loss   dfl_loss  Instances       Size\n"
     ]
    },
    {
     "name": "stderr",
     "output_type": "stream",
     "text": [
      "     92/100     0.889G     0.6322     0.3731      1.088          8        224: 100%|██████████| 171/171 [00:40<00:00,  4.26it/s]\n",
      "                 Class     Images  Instances      Box(P          R      mAP50  mAP50-95): 100%|██████████| 7/7 [00:01<00:00,  6.56it/s]"
     ]
    },
    {
     "name": "stdout",
     "output_type": "stream",
     "text": [
      "                   all        100        263      0.811      0.743      0.841      0.658\n"
     ]
    },
    {
     "name": "stderr",
     "output_type": "stream",
     "text": [
      "\n"
     ]
    },
    {
     "name": "stdout",
     "output_type": "stream",
     "text": [
      "\n",
      "      Epoch    GPU_mem   box_loss   cls_loss   dfl_loss  Instances       Size\n"
     ]
    },
    {
     "name": "stderr",
     "output_type": "stream",
     "text": [
      "     93/100     0.889G     0.6241     0.3624      1.082          5        224: 100%|██████████| 171/171 [00:39<00:00,  4.31it/s]\n",
      "                 Class     Images  Instances      Box(P          R      mAP50  mAP50-95): 100%|██████████| 7/7 [00:01<00:00,  6.90it/s]"
     ]
    },
    {
     "name": "stdout",
     "output_type": "stream",
     "text": [
      "                   all        100        263       0.74      0.802       0.83      0.646\n"
     ]
    },
    {
     "name": "stderr",
     "output_type": "stream",
     "text": [
      "\n"
     ]
    },
    {
     "name": "stdout",
     "output_type": "stream",
     "text": [
      "\n",
      "      Epoch    GPU_mem   box_loss   cls_loss   dfl_loss  Instances       Size\n"
     ]
    },
    {
     "name": "stderr",
     "output_type": "stream",
     "text": [
      "     94/100     0.891G     0.6224     0.3557      1.072         13        224: 100%|██████████| 171/171 [00:38<00:00,  4.39it/s]\n",
      "                 Class     Images  Instances      Box(P          R      mAP50  mAP50-95): 100%|██████████| 7/7 [00:01<00:00,  6.59it/s]"
     ]
    },
    {
     "name": "stdout",
     "output_type": "stream",
     "text": [
      "                   all        100        263      0.776      0.804      0.853      0.656\n"
     ]
    },
    {
     "name": "stderr",
     "output_type": "stream",
     "text": [
      "\n"
     ]
    },
    {
     "name": "stdout",
     "output_type": "stream",
     "text": [
      "\n",
      "      Epoch    GPU_mem   box_loss   cls_loss   dfl_loss  Instances       Size\n"
     ]
    },
    {
     "name": "stderr",
     "output_type": "stream",
     "text": [
      "     95/100     0.952G     0.6085     0.3483      1.057         10        224: 100%|██████████| 171/171 [00:39<00:00,  4.29it/s]\n",
      "                 Class     Images  Instances      Box(P          R      mAP50  mAP50-95): 100%|██████████| 7/7 [00:00<00:00,  7.17it/s]"
     ]
    },
    {
     "name": "stdout",
     "output_type": "stream",
     "text": [
      "                   all        100        263      0.813       0.79      0.852      0.662\n"
     ]
    },
    {
     "name": "stderr",
     "output_type": "stream",
     "text": [
      "\n"
     ]
    },
    {
     "name": "stdout",
     "output_type": "stream",
     "text": [
      "\n",
      "      Epoch    GPU_mem   box_loss   cls_loss   dfl_loss  Instances       Size\n"
     ]
    },
    {
     "name": "stderr",
     "output_type": "stream",
     "text": [
      "     96/100     0.889G     0.6053     0.3435      1.061         16        224: 100%|██████████| 171/171 [00:39<00:00,  4.31it/s]\n",
      "                 Class     Images  Instances      Box(P          R      mAP50  mAP50-95): 100%|██████████| 7/7 [00:01<00:00,  6.86it/s]"
     ]
    },
    {
     "name": "stdout",
     "output_type": "stream",
     "text": [
      "                   all        100        263      0.824      0.768      0.857      0.661\n"
     ]
    },
    {
     "name": "stderr",
     "output_type": "stream",
     "text": [
      "\n"
     ]
    },
    {
     "name": "stdout",
     "output_type": "stream",
     "text": [
      "\n",
      "      Epoch    GPU_mem   box_loss   cls_loss   dfl_loss  Instances       Size\n"
     ]
    },
    {
     "name": "stderr",
     "output_type": "stream",
     "text": [
      "     97/100     0.891G     0.5862     0.3328      1.047          9        224: 100%|██████████| 171/171 [00:39<00:00,  4.33it/s]\n",
      "                 Class     Images  Instances      Box(P          R      mAP50  mAP50-95): 100%|██████████| 7/7 [00:00<00:00,  7.11it/s]"
     ]
    },
    {
     "name": "stdout",
     "output_type": "stream",
     "text": [
      "                   all        100        263      0.823      0.808      0.863      0.668\n"
     ]
    },
    {
     "name": "stderr",
     "output_type": "stream",
     "text": [
      "\n"
     ]
    },
    {
     "name": "stdout",
     "output_type": "stream",
     "text": [
      "\n",
      "      Epoch    GPU_mem   box_loss   cls_loss   dfl_loss  Instances       Size\n"
     ]
    },
    {
     "name": "stderr",
     "output_type": "stream",
     "text": [
      "     98/100     0.889G     0.5889     0.3304      1.053          7        224: 100%|██████████| 171/171 [00:39<00:00,  4.33it/s]\n",
      "                 Class     Images  Instances      Box(P          R      mAP50  mAP50-95): 100%|██████████| 7/7 [00:01<00:00,  5.93it/s]"
     ]
    },
    {
     "name": "stdout",
     "output_type": "stream",
     "text": [
      "                   all        100        263      0.807      0.796      0.847      0.654\n"
     ]
    },
    {
     "name": "stderr",
     "output_type": "stream",
     "text": [
      "\n"
     ]
    },
    {
     "name": "stdout",
     "output_type": "stream",
     "text": [
      "\n",
      "      Epoch    GPU_mem   box_loss   cls_loss   dfl_loss  Instances       Size\n"
     ]
    },
    {
     "name": "stderr",
     "output_type": "stream",
     "text": [
      "     99/100     0.889G     0.5906     0.3419      1.052         20        224: 100%|██████████| 171/171 [00:40<00:00,  4.27it/s]\n",
      "                 Class     Images  Instances      Box(P          R      mAP50  mAP50-95): 100%|██████████| 7/7 [00:01<00:00,  6.04it/s]"
     ]
    },
    {
     "name": "stdout",
     "output_type": "stream",
     "text": [
      "                   all        100        263      0.801      0.801      0.844      0.653\n"
     ]
    },
    {
     "name": "stderr",
     "output_type": "stream",
     "text": [
      "\n"
     ]
    },
    {
     "name": "stdout",
     "output_type": "stream",
     "text": [
      "\n",
      "      Epoch    GPU_mem   box_loss   cls_loss   dfl_loss  Instances       Size\n"
     ]
    },
    {
     "name": "stderr",
     "output_type": "stream",
     "text": [
      "    100/100     0.889G     0.5841     0.3271      1.048          8        224: 100%|██████████| 171/171 [00:39<00:00,  4.30it/s]\n",
      "                 Class     Images  Instances      Box(P          R      mAP50  mAP50-95): 100%|██████████| 7/7 [00:01<00:00,  6.82it/s]"
     ]
    },
    {
     "name": "stdout",
     "output_type": "stream",
     "text": [
      "                   all        100        263      0.804      0.791      0.844      0.651\n"
     ]
    },
    {
     "name": "stderr",
     "output_type": "stream",
     "text": [
      "\n"
     ]
    },
    {
     "name": "stdout",
     "output_type": "stream",
     "text": [
      "\n",
      "100 epochs completed in 1.152 hours.\n",
      "Optimizer stripped from runs\\detect\\train2\\weights\\last.pt, 15.2MB\n",
      "Optimizer stripped from runs\\detect\\train2\\weights\\best.pt, 15.2MB\n",
      "\n",
      "Validating runs\\detect\\train2\\weights\\best.pt...\n",
      "Ultralytics YOLOv8.2.58  Python-3.11.8 torch-2.3.0+cu118 CUDA:0 (NVIDIA GeForce RTX 3060 Laptop GPU, 6144MiB)\n",
      "YOLOv9s summary (fused): 486 layers, 7,172,506 parameters, 0 gradients, 26.8 GFLOPs\n"
     ]
    },
    {
     "name": "stderr",
     "output_type": "stream",
     "text": [
      "                 Class     Images  Instances      Box(P          R      mAP50  mAP50-95): 100%|██████████| 7/7 [00:01<00:00,  6.10it/s]\n"
     ]
    },
    {
     "name": "stdout",
     "output_type": "stream",
     "text": [
      "                   all        100        263       0.77      0.819      0.867      0.675\n",
      "                 bread          4          7      0.385          1      0.918      0.815\n",
      "               cabbage          9          9      0.616      0.889      0.814      0.576\n",
      "                carrot          8         26      0.882      0.885      0.947      0.694\n",
      "                cheese          9         20      0.922      0.592      0.829      0.654\n",
      "               chicken         10         35      0.945      0.487      0.752        0.5\n",
      "              cucumber          7         24      0.778      0.875      0.873      0.711\n",
      "                   egg          7         21      0.887      0.746      0.934      0.764\n",
      "                  meat          7         17      0.687      0.765      0.678      0.459\n",
      "                  milk          5          7      0.739          1      0.995      0.698\n",
      "                 onion          6         22      0.814      0.818      0.937       0.64\n",
      "                potato          6         33      0.646       0.94      0.921      0.801\n",
      "                  rice          6         10      0.869      0.667      0.702      0.638\n",
      "                  spam          7          9      0.679      0.889      0.886      0.721\n",
      "                tomato          9         23      0.932      0.913       0.95      0.784\n",
      "Speed: 0.2ms preprocess, 5.5ms inference, 0.0ms loss, 1.2ms postprocess per image\n",
      "Results saved to \u001b[1mruns\\detect\\train2\u001b[0m\n",
      "\n",
      "image 1/101 c:\\Users\\hxxzi\\Desktop\\GitHub\\final-project\\8\\data\\2\\test\\images\\-2-_jpeg.rf.2bec9dd9e9fbb9116d7331471107a100.jpg: 224x224 1 cheese, 37.5ms\n",
      "image 2/101 c:\\Users\\hxxzi\\Desktop\\GitHub\\final-project\\8\\data\\2\\test\\images\\-2-_jpeg.rf.31e8e3171a6539b6bd24522f2a844d53.jpg: 224x224 1 bread, 4 spams, 37.6ms\n",
      "image 3/101 c:\\Users\\hxxzi\\Desktop\\GitHub\\final-project\\8\\data\\2\\test\\images\\-2-_jpeg.rf.ad27951133062bbf27e8cde72617f56c.jpg: 224x224 3 eggs, 31.6ms\n",
      "image 4/101 c:\\Users\\hxxzi\\Desktop\\GitHub\\final-project\\8\\data\\2\\test\\images\\-3-_jpeg.rf.7c95132595c0d60e304eeb6a5af284c3.jpg: 224x224 1 spam, 31.5ms\n",
      "image 5/101 c:\\Users\\hxxzi\\Desktop\\GitHub\\final-project\\8\\data\\2\\test\\images\\-3-_jpeg.rf.bd016323f5568d44ecde4d0d46c7fbf0.jpg: 224x224 4 eggs, 24.7ms\n",
      "image 6/101 c:\\Users\\hxxzi\\Desktop\\GitHub\\final-project\\8\\data\\2\\test\\images\\-4-_jpeg.rf.23ed7a79f2a5516397474bbffc643333.jpg: 224x224 6 eggs, 26.0ms\n",
      "image 7/101 c:\\Users\\hxxzi\\Desktop\\GitHub\\final-project\\8\\data\\2\\test\\images\\-5-_jpeg.rf.cb75d3bdfa660805b2322202b34632fb.jpg: 224x224 1 egg, 10 potatos, 26.9ms\n",
      "image 8/101 c:\\Users\\hxxzi\\Desktop\\GitHub\\final-project\\8\\data\\2\\test\\images\\-_-08_jpeg.rf.ce41ef9ce628d1c69512de761384bdda.jpg: 224x224 2 eggs, 1 potato, 2 rices, 1 tomato, 28.3ms\n",
      "image 9/101 c:\\Users\\hxxzi\\Desktop\\GitHub\\final-project\\8\\data\\2\\test\\images\\-_jpeg.rf.48123a3f425bc20cc28aee1773751b34.jpg: 224x224 5 meats, 28.8ms\n",
      "image 10/101 c:\\Users\\hxxzi\\Desktop\\GitHub\\final-project\\8\\data\\2\\test\\images\\-_jpeg.rf.71398f3c1b4d9391810c226f50b310f1.jpg: 224x224 2 meats, 23.8ms\n",
      "image 11/101 c:\\Users\\hxxzi\\Desktop\\GitHub\\final-project\\8\\data\\2\\test\\images\\0000006609258_i1_1100_jpeg.rf.d30b6389dff01bce0a478d4be0ccdb77.jpg: 224x224 1 spam, 24.6ms\n",
      "image 12/101 c:\\Users\\hxxzi\\Desktop\\GitHub\\final-project\\8\\data\\2\\test\\images\\0228_white_rice_TND_jpeg.rf.267c81931575b32e88388ee31cd1a177.jpg: 224x224 1 rice, 25.2ms\n",
      "image 13/101 c:\\Users\\hxxzi\\Desktop\\GitHub\\final-project\\8\\data\\2\\test\\images\\06013295_1_960_jpeg.rf.ba3ef5cc778c4ec9af79ee34462778e8.jpg: 224x224 1 spam, 24.1ms\n",
      "image 14/101 c:\\Users\\hxxzi\\Desktop\\GitHub\\final-project\\8\\data\\2\\test\\images\\0e6f33bf591698825018b83608f9fbf71_png.rf.b1a2335a79f1dc948284dc96a80caaa7.jpg: 224x224 1 bread, 28.4ms\n",
      "image 15/101 c:\\Users\\hxxzi\\Desktop\\GitHub\\final-project\\8\\data\\2\\test\\images\\1000084401956_i1_1100_jpeg.rf.69e06825ad2ad18171240322fc199ba0.jpg: 224x224 2 chickens, 25.0ms\n",
      "image 16/101 c:\\Users\\hxxzi\\Desktop\\GitHub\\final-project\\8\\data\\2\\test\\images\\1000_F_446542059_0Ad04MgoiXuqAYKSWGQUUuZzBMio8Ual_jpeg.rf.1e0374f56e830bd2d5e0e6094f1b18d6.jpg: 224x224 1 chicken, 8 eggs, 24.9ms\n",
      "image 17/101 c:\\Users\\hxxzi\\Desktop\\GitHub\\final-project\\8\\data\\2\\test\\images\\106356_200066_jpeg.rf.bad5fe06e6ae2607027bdff295500262.jpg: 224x224 2 meats, 29.6ms\n",
      "image 18/101 c:\\Users\\hxxzi\\Desktop\\GitHub\\final-project\\8\\data\\2\\test\\images\\113636800-2_jpg.rf.b26b030ad74e9992b034c4d864e2d7d3.jpg: 224x224 5 eggs, 26.0ms\n",
      "image 19/101 c:\\Users\\hxxzi\\Desktop\\GitHub\\final-project\\8\\data\\2\\test\\images\\148b5904-cd23-4884-8625-a5b6a0e308fa_jpeg.rf.e131072e8ae11c3aeb9231ca56540c1c.jpg: 224x224 2 cheeses, 1 spam, 25.2ms\n",
      "image 20/101 c:\\Users\\hxxzi\\Desktop\\GitHub\\final-project\\8\\data\\2\\test\\images\\1631233154393_0_jpeg.rf.ba5724bda088b1996250a7dcaaec2ca5.jpg: 224x224 3 eggs, 25.4ms\n",
      "image 21/101 c:\\Users\\hxxzi\\Desktop\\GitHub\\final-project\\8\\data\\2\\test\\images\\1647415297128z0_jpeg.rf.9dbfdedb4cf853bfebb1ceb283f38abd.jpg: 224x224 1 rice, 23.9ms\n",
      "image 22/101 c:\\Users\\hxxzi\\Desktop\\GitHub\\final-project\\8\\data\\2\\test\\images\\171015_rice_8_jpeg.rf.3063062e32047ea82ef8d1c965b7b30e.jpg: 224x224 1 bread, 1 rice, 26.1ms\n",
      "image 23/101 c:\\Users\\hxxzi\\Desktop\\GitHub\\final-project\\8\\data\\2\\test\\images\\1930-hard-boiled-egg-diabetic_AS_163304407_031920_3864451747_jpeg.rf.bb5df984996b4ec51d9fbd2e9abe5156.jpg: 224x224 2 eggs, 28.1ms\n",
      "image 24/101 c:\\Users\\hxxzi\\Desktop\\GitHub\\final-project\\8\\data\\2\\test\\images\\20200826140101_1104394444_2_jpeg.rf.621d9d9bc7b77a1d142b074d7c6b8216.jpg: 224x224 3 cheeses, 29.3ms\n",
      "image 25/101 c:\\Users\\hxxzi\\Desktop\\GitHub\\final-project\\8\\data\\2\\test\\images\\20220527_3932352719853_jpeg.rf.50370968922be72558eedb3c1452e91a.jpg: 224x224 3 cheeses, 24.0ms\n",
      "image 26/101 c:\\Users\\hxxzi\\Desktop\\GitHub\\final-project\\8\\data\\2\\test\\images\\2022082701080807_jpeg.rf.56df5d933959573aa0bfb7196dcf4822.jpg: 224x224 1 bread, 28.0ms\n",
      "image 27/101 c:\\Users\\hxxzi\\Desktop\\GitHub\\final-project\\8\\data\\2\\test\\images\\20221005165757_1804076_1200_801_jpeg.rf.6cc0418097d3d2f966cfc2153d2ae84f.jpg: 224x224 1 meat, 2 spams, 25.7ms\n",
      "image 28/101 c:\\Users\\hxxzi\\Desktop\\GitHub\\final-project\\8\\data\\2\\test\\images\\2022123014523369435_1672379554_jpeg.rf.5e1a57e138cdb9b287a91d89236e6f9b.jpg: 224x224 2 spams, 25.1ms\n",
      "image 29/101 c:\\Users\\hxxzi\\Desktop\\GitHub\\final-project\\8\\data\\2\\test\\images\\20230205502074_jpeg.rf.e91b86e8605c9649d40225faa25d7deb.jpg: 224x224 5 meats, 23.9ms\n",
      "image 30/101 c:\\Users\\hxxzi\\Desktop\\GitHub\\final-project\\8\\data\\2\\test\\images\\205528693_-cnt-_1668560978_w-res-_jpeg.rf.7d0af7b3ec41d872ab4280631e3a99ca.jpg: 224x224 7 spams, 27.2ms\n",
      "image 31/101 c:\\Users\\hxxzi\\Desktop\\GitHub\\final-project\\8\\data\\2\\test\\images\\25345F42552C806E1B_jpeg.rf.53ef31a676e8cd4cbd6d7ceba421d610.jpg: 224x224 3 eggs, 1 tomato, 25.1ms\n",
      "image 32/101 c:\\Users\\hxxzi\\Desktop\\GitHub\\final-project\\8\\data\\2\\test\\images\\256AD2395558797E1E_jpeg.rf.7627196f06f0fcf1b06378bc237e9b4e.jpg: 224x224 1 bread, 23.1ms\n",
      "image 33/101 c:\\Users\\hxxzi\\Desktop\\GitHub\\final-project\\8\\data\\2\\test\\images\\2dbce5cd-ed5d-48be-8ef5-6eb1c7b42078_jpeg.rf.16a0a2ef341b6d1b6946d6e84cae8e1d.jpg: 224x224 1 rice, 31.6ms\n",
      "image 34/101 c:\\Users\\hxxzi\\Desktop\\GitHub\\final-project\\8\\data\\2\\test\\images\\3-delicious-rice-recipes_jpeg.rf.67b01b07a1e5ca86fa016db7f56bea37.jpg: 224x224 1 rice, 33.4ms\n",
      "image 35/101 c:\\Users\\hxxzi\\Desktop\\GitHub\\final-project\\8\\data\\2\\test\\images\\36bdd674-f4b3-497b-8b5a-3518598bed20_lg_sq_jpeg.rf.6adcee00abe7f10ccda5d991393c6974.jpg: 224x224 7 eggs, 29.8ms\n",
      "image 36/101 c:\\Users\\hxxzi\\Desktop\\GitHub\\final-project\\8\\data\\2\\test\\images\\400x400-1-_jpeg.rf.76c46bf80371f5f8b0d50101e960c2ad.jpg: 224x224 5 meats, 1 milk, 25.0ms\n",
      "image 37/101 c:\\Users\\hxxzi\\Desktop\\GitHub\\final-project\\8\\data\\2\\test\\images\\400x400_jpeg.rf.5ef8a5339798cd8beebfc48772196f0d.jpg: 224x224 4 spams, 27.8ms\n",
      "image 38/101 c:\\Users\\hxxzi\\Desktop\\GitHub\\final-project\\8\\data\\2\\test\\images\\4c20b419107945fc98f9ac6f873ea0c820170627122158_jpeg.rf.68cd2898b0c97eea1cb1427b2b730151.jpg: 224x224 3 breads, 25.0ms\n",
      "image 39/101 c:\\Users\\hxxzi\\Desktop\\GitHub\\final-project\\8\\data\\2\\test\\images\\550_jpeg.rf.3d901ab069a0d87b6dec96d74b6d4d4e.jpg: 224x224 5 meats, 33.5ms\n",
      "image 40/101 c:\\Users\\hxxzi\\Desktop\\GitHub\\final-project\\8\\data\\2\\test\\images\\601757ca0ae4d2738de6_jpeg.rf.020ad40d65dfc57b9cbf8fb09d3943b2.jpg: 224x224 2 spams, 23.2ms\n",
      "image 41/101 c:\\Users\\hxxzi\\Desktop\\GitHub\\final-project\\8\\data\\2\\test\\images\\6914f41a612520659dc701a423bfc8c01_jpeg.rf.305664ebee35c5cc5fdf731960d689c7.jpg: 224x224 1 bread, 3 meats, 26.2ms\n",
      "image 42/101 c:\\Users\\hxxzi\\Desktop\\GitHub\\final-project\\8\\data\\2\\test\\images\\72_2021080812372911_jpeg.rf.ed9a553322ccb56d262866003459e3d5.jpg: 224x224 12 spams, 23.9ms\n",
      "image 43/101 c:\\Users\\hxxzi\\Desktop\\GitHub\\final-project\\8\\data\\2\\test\\images\\820b460a-ab70-4fdf-afe8-ee6ec5f0ea28_lg_sq_jpeg.rf.9aba3b2e056a8db9d8ef885b743916c6.jpg: 224x224 4 meats, 24.1ms\n",
      "image 44/101 c:\\Users\\hxxzi\\Desktop\\GitHub\\final-project\\8\\data\\2\\test\\images\\9343bda5df24cf2c59727ebed134d6ec_jpeg.rf.f6273e6d0b8f2b1f81131e6db8285a71.jpg: 224x224 1 spam, 26.0ms\n",
      "image 45/101 c:\\Users\\hxxzi\\Desktop\\GitHub\\final-project\\8\\data\\2\\test\\images\\93a2083fcb78ea5e1b53369115d7e6121_f_jpeg.rf.f25a1133e463b91b20407eeca8efe379.jpg: 224x224 1 rice, 22.8ms\n",
      "image 46/101 c:\\Users\\hxxzi\\Desktop\\GitHub\\final-project\\8\\data\\2\\test\\images\\99-24812305-1_jpg.rf.acc03456af314adaf7355923f3f4cc58.jpg: 224x224 3 eggs, 25.0ms\n",
      "image 47/101 c:\\Users\\hxxzi\\Desktop\\GitHub\\final-project\\8\\data\\2\\test\\images\\9943C14A5E1335490B_jpeg.rf.ae532b285b6789486481f12f79e081f6.jpg: 224x224 3 meats, 24.1ms\n",
      "image 48/101 c:\\Users\\hxxzi\\Desktop\\GitHub\\final-project\\8\\data\\2\\test\\images\\99DCAA3C5E1333C62A_jpeg.rf.469c4944e718ede0e1dd2b6ee09c6761.jpg: 224x224 2 meats, 1 spam, 26.4ms\n",
      "image 49/101 c:\\Users\\hxxzi\\Desktop\\GitHub\\final-project\\8\\data\\2\\test\\images\\CI0009_1-min_jpeg.rf.e312e323f1026e1d6c86879529ef79e2.jpg: 224x224 2 spams, 27.0ms\n",
      "image 50/101 c:\\Users\\hxxzi\\Desktop\\GitHub\\final-project\\8\\data\\2\\test\\images\\DSC_6085_jpeg.rf.92b6846e7a8193c15a397a30c24d2153.jpg: 224x224 4 eggs, 34.3ms\n",
      "image 51/101 c:\\Users\\hxxzi\\Desktop\\GitHub\\final-project\\8\\data\\2\\test\\images\\Egg_baking-ingredients-e1584136402126-400x400_jpeg.rf.84e7390323edb3b8ac8d43dc1fac2b84.jpg: 224x224 3 eggs, 1 potato, 25.1ms\n",
      "image 52/101 c:\\Users\\hxxzi\\Desktop\\GitHub\\final-project\\8\\data\\2\\test\\images\\IMG_8222_jpeg.rf.78fffcb37cc31f6ae7d8df535656d032.jpg: 224x224 3 cheeses, 29.5ms\n",
      "image 53/101 c:\\Users\\hxxzi\\Desktop\\GitHub\\final-project\\8\\data\\2\\test\\images\\IO9FghimTO77jqdi-HILd6vOliF4_jpeg.rf.651e7508815ea7b746fdda5b11f62bec.jpg: 224x224 1 rice, 25.3ms\n",
      "image 54/101 c:\\Users\\hxxzi\\Desktop\\GitHub\\final-project\\8\\data\\2\\test\\images\\Image_21_jpg.rf.58d2e7ab4303ad9fcd2d519596c4e82f.jpg: 224x224 2 onions, 27.2ms\n",
      "image 55/101 c:\\Users\\hxxzi\\Desktop\\GitHub\\final-project\\8\\data\\2\\test\\images\\Image_22_jpg.rf.3be7db07734f8867be817b3e3d7039fc.jpg: 224x224 26 onions, 30.2ms\n",
      "image 56/101 c:\\Users\\hxxzi\\Desktop\\GitHub\\final-project\\8\\data\\2\\test\\images\\Image_24_jpg.rf.6c229b0a842fdd82e17250ccf3fd655a.jpg: 224x224 9 onions, 24.4ms\n",
      "image 57/101 c:\\Users\\hxxzi\\Desktop\\GitHub\\final-project\\8\\data\\2\\test\\images\\Image_30_jpg.rf.3e0ed34be24d1463b06365488ff96274.jpg: 224x224 3 onions, 24.1ms\n",
      "image 58/101 c:\\Users\\hxxzi\\Desktop\\GitHub\\final-project\\8\\data\\2\\test\\images\\Image_36_jpg.rf.3ebea02ed7f815b3b0edfb67665bd789.jpg: 224x224 4 onions, 24.0ms\n",
      "image 59/101 c:\\Users\\hxxzi\\Desktop\\GitHub\\final-project\\8\\data\\2\\test\\images\\Image_50_jpg.rf.38d1aba2dfdda68f058083935424fa11.jpg: 224x224 1 onion, 23.9ms\n",
      "image 60/101 c:\\Users\\hxxzi\\Desktop\\GitHub\\final-project\\8\\data\\2\\test\\images\\Image_53_jpg.rf.1bb71cd6671097788b793429b6f79d68.jpg: 224x224 1 onion, 25.2ms\n",
      "image 61/101 c:\\Users\\hxxzi\\Desktop\\GitHub\\final-project\\8\\data\\2\\test\\images\\Image_69_jpg.rf.e3bb21a15afdef4cafc34eff95c67ce9.jpg: 224x224 1 onion, 24.1ms\n",
      "image 62/101 c:\\Users\\hxxzi\\Desktop\\GitHub\\final-project\\8\\data\\2\\test\\images\\Image_78_png.rf.5fbf216adcfeaebdaca5cce96f3feb51.jpg: 224x224 1 onion, 28.6ms\n",
      "image 63/101 c:\\Users\\hxxzi\\Desktop\\GitHub\\final-project\\8\\data\\2\\test\\images\\Image_85_jpg.rf.f41992d37ad5001818f72df09711b33b.jpg: 224x224 3 onions, 24.9ms\n",
      "image 64/101 c:\\Users\\hxxzi\\Desktop\\GitHub\\final-project\\8\\data\\2\\test\\images\\Instant-pot-rice-pot-in-pot-L1-Paint-the-Kitchen-Red-scaled_jpeg.rf.d01629ce22375a77d865486633d34ee8.jpg: 224x224 1 rice, 1 tomato, 30.3ms\n",
      "image 65/101 c:\\Users\\hxxzi\\Desktop\\GitHub\\final-project\\8\\data\\2\\test\\images\\KakaoTalk_20200321_185424201_03_jpeg.rf.80b43ef20121f486b42e393786aead27.jpg: 224x224 2 carrots, 1 spam, 27.3ms\n",
      "image 66/101 c:\\Users\\hxxzi\\Desktop\\GitHub\\final-project\\8\\data\\2\\test\\images\\Korean-purple-rice-cooked-in-stone-pot-thumbnail_jpeg.rf.aaaaf78160fdce12837a95dc0a5ca82c.jpg: 224x224 2 meats, 24.4ms\n",
      "image 67/101 c:\\Users\\hxxzi\\Desktop\\GitHub\\final-project\\8\\data\\2\\test\\images\\P7021365_jpeg.rf.9ad4eca3ad41fd4ede5efcd68afcbeee.jpg: 224x224 3 eggs, 28.4ms\n",
      "image 68/101 c:\\Users\\hxxzi\\Desktop\\GitHub\\final-project\\8\\data\\2\\test\\images\\SE-48345fc4-e858-4aec-8dab-c11a7dcd30f2_jpeg.rf.6e1f5010ecbe715a67b38d7961cf285d.jpg: 224x224 2 rices, 25.4ms\n",
      "image 69/101 c:\\Users\\hxxzi\\Desktop\\GitHub\\final-project\\8\\data\\2\\test\\images\\SE-87c7080b-024b-4fdf-b3c5-41109dc8676e_jpeg.rf.90014e902a65ccb4c3395d5b66fb18b0.jpg: 224x224 1 onion, 3 tomatos, 36.5ms\n",
      "image 70/101 c:\\Users\\hxxzi\\Desktop\\GitHub\\final-project\\8\\data\\2\\test\\images\\SE-9c1e4f91-f2e0-423f-9eb4-6f228429119c_jpeg.rf.18a15b2117415549ccbb441d876b2531.jpg: 224x224 1 rice, 22.9ms\n",
      "image 71/101 c:\\Users\\hxxzi\\Desktop\\GitHub\\final-project\\8\\data\\2\\test\\images\\Shokupan-Failure-1_jpeg.rf.febb46673fe3ed4016ed856e0a554430.jpg: 224x224 1 bread, 30.1ms\n",
      "image 72/101 c:\\Users\\hxxzi\\Desktop\\GitHub\\final-project\\8\\data\\2\\test\\images\\Sudden_egg_allergy_in_adults_jpeg.rf.1c6b0f56bc9ae5316520ec0bd314d421.jpg: 224x224 5 eggs, 28.2ms\n",
      "image 73/101 c:\\Users\\hxxzi\\Desktop\\GitHub\\final-project\\8\\data\\2\\test\\images\\YJFIJDOYNNF3RBRZFDUCKE4W4E_jpeg.rf.cb8d7f875fa5fafea79d478e6f2d72ee.jpg: 224x224 1 rice, 25.0ms\n",
      "image 74/101 c:\\Users\\hxxzi\\Desktop\\GitHub\\final-project\\8\\data\\2\\test\\images\\cafb52f6411b673fafac2b85dbaa2e011_jpeg.rf.304cd5e448501c21521dc64aa93a9029.jpg: 224x224 4 eggs, 22.6ms\n",
      "image 75/101 c:\\Users\\hxxzi\\Desktop\\GitHub\\final-project\\8\\data\\2\\test\\images\\d466b3e663456d7d74f1fb8ab3e96297_png.rf.f8f893ea447912e6216a2f131ab7b831.jpg: 224x224 3 chickens, 1 meat, 41.7ms\n",
      "image 76/101 c:\\Users\\hxxzi\\Desktop\\GitHub\\final-project\\8\\data\\2\\test\\images\\e3afb878-6da5-4af5-8121-89d375efaf62_lg_sq_jpeg.rf.5a012adb0986003d4c83e5f0b47f58a8.jpg: 224x224 1 milk, 27.0ms\n",
      "image 77/101 c:\\Users\\hxxzi\\Desktop\\GitHub\\final-project\\8\\data\\2\\test\\images\\egg-featured-768x512_jpeg.rf.bbda691f547c358ca1706a6f1d70ebd8.jpg: 224x224 6 eggs, 24.1ms\n",
      "image 78/101 c:\\Users\\hxxzi\\Desktop\\GitHub\\final-project\\8\\data\\2\\test\\images\\eggs_jpeg.rf.2567963060f27f42a4f57188f3e9e323.jpg: 224x224 5 eggs, 24.9ms\n",
      "image 79/101 c:\\Users\\hxxzi\\Desktop\\GitHub\\final-project\\8\\data\\2\\test\\images\\fedd812123c9a71c3fade96e65994e361_jpeg.rf.144cae7f98f9087f267ddb5c9b3a801f.jpg: 224x224 4 breads, 29.2ms\n",
      "image 80/101 c:\\Users\\hxxzi\\Desktop\\GitHub\\final-project\\8\\data\\2\\test\\images\\gv10000317171_2_jpeg.rf.6f0bde2b3d72d218cd0a6ef0648a4e66.jpg: 224x224 4 cheeses, 5 spams, 27.1ms\n",
      "image 81/101 c:\\Users\\hxxzi\\Desktop\\GitHub\\final-project\\8\\data\\2\\test\\images\\gv20000103608_1_jpeg.rf.61c2dac7d7a6efc92c2e29666e2f7956.jpg: 224x224 1 rice, 24.7ms\n",
      "image 82/101 c:\\Users\\hxxzi\\Desktop\\GitHub\\final-project\\8\\data\\2\\test\\images\\how-to-boil-eggs-12_jpeg.rf.bf63aef8bf24e0f6ef942734c6edf050.jpg: 224x224 3 eggs, 25.5ms\n",
      "image 83/101 c:\\Users\\hxxzi\\Desktop\\GitHub\\final-project\\8\\data\\2\\test\\images\\image01_jpeg.rf.b4558f71af790511d27883562cde21c2.jpg: 224x224 5 meats, 25.3ms\n",
      "image 84/101 c:\\Users\\hxxzi\\Desktop\\GitHub\\final-project\\8\\data\\2\\test\\images\\image_6021424801500365827980_jpeg.rf.7a6e9d4954348c83d76ccec41daf6e9b.jpg: 224x224 1 rice, 22.5ms\n",
      "image 85/101 c:\\Users\\hxxzi\\Desktop\\GitHub\\final-project\\8\\data\\2\\test\\images\\image_9867442521500365176516_jpeg.rf.382a16f50d8ab27f198044af226aebb4.jpg: 224x224 1 rice, 26.0ms\n",
      "image 86/101 c:\\Users\\hxxzi\\Desktop\\GitHub\\final-project\\8\\data\\2\\test\\images\\image_jpeg.rf.444c160028813a4390a5e3259a8f9971.jpg: 224x224 6 eggs, 29.6ms\n",
      "image 87/101 c:\\Users\\hxxzi\\Desktop\\GitHub\\final-project\\8\\data\\2\\test\\images\\images_jpeg.rf.5ac001990f43afcca41e7d07d3f51b73.jpg: 224x224 8 meats, 25.2ms\n",
      "image 88/101 c:\\Users\\hxxzi\\Desktop\\GitHub\\final-project\\8\\data\\2\\test\\images\\img_jpeg.rf.3c5ee62e5d728d5c4f7920653976b37e.jpg: 224x224 4 meats, 40.4ms\n",
      "image 89/101 c:\\Users\\hxxzi\\Desktop\\GitHub\\final-project\\8\\data\\2\\test\\images\\img_jpeg.rf.a3db747b6f7f9909315246a8dc234c0d.jpg: 224x224 1 bread, 24.8ms\n",
      "image 90/101 c:\\Users\\hxxzi\\Desktop\\GitHub\\final-project\\8\\data\\2\\test\\images\\img_png.rf.5a1e0e8c9017d89a01de1c220ec10cbf.jpg: 224x224 2 meats, 25.3ms\n",
      "image 91/101 c:\\Users\\hxxzi\\Desktop\\GitHub\\final-project\\8\\data\\2\\test\\images\\instant-pot-rice-500x375_jpeg.rf.3583ea94d8ee6ccb55b79aebd3c69f9a.jpg: 224x224 1 rice, 25.4ms\n",
      "image 92/101 c:\\Users\\hxxzi\\Desktop\\GitHub\\final-project\\8\\data\\2\\test\\images\\istockphoto-178891822-170667a_jpeg.rf.7f4b7cf4991031194f3c6dc23bd8a5b7.jpg: 224x224 4 meats, 24.1ms\n",
      "image 93/101 c:\\Users\\hxxzi\\Desktop\\GitHub\\final-project\\8\\data\\2\\test\\images\\korean-purple-rice-4-500x500_jpeg.rf.4519a295739536f5e54c24b092167b1b.jpg: 224x224 1 meat, 33.7ms\n",
      "image 94/101 c:\\Users\\hxxzi\\Desktop\\GitHub\\final-project\\8\\data\\2\\test\\images\\news-p-v1-20230120-147dac61380c464d9ba7827977ca7e88_P1_jpg.rf.54992c147633a0a74553af5b6882ccb4.jpg: 224x224 12 spams, 24.8ms\n",
      "image 95/101 c:\\Users\\hxxzi\\Desktop\\GitHub\\final-project\\8\\data\\2\\test\\images\\pork-523102_1920_jpeg.rf.0ded3df4f21795d063f0870d665bce74.jpg: 224x224 1 chicken, 1 meat, 24.2ms\n",
      "image 96/101 c:\\Users\\hxxzi\\Desktop\\GitHub\\final-project\\8\\data\\2\\test\\images\\shutterstock_1020179506_jpeg.rf.6e8bf8f0d5b2168ca4ab12b588ec0ce5.jpg: 224x224 15 eggs, 24.3ms\n",
      "image 97/101 c:\\Users\\hxxzi\\Desktop\\GitHub\\final-project\\8\\data\\2\\test\\images\\temp_1569071381354-1438004020_jpeg.rf.5a00ae4db8703098263118e124e4a2b0.jpg: 224x224 1 spam, 24.8ms\n",
      "image 98/101 c:\\Users\\hxxzi\\Desktop\\GitHub\\final-project\\8\\data\\2\\test\\images\\thumb-4e24_1_450x520_jpeg.rf.be6eb6d97ae36e2d43ba4323cf23e5db.jpg: 224x224 1 spam, 25.0ms\n",
      "image 99/101 c:\\Users\\hxxzi\\Desktop\\GitHub\\final-project\\8\\data\\2\\test\\images\\thumb_289464709a64c-5363-4ded-9177-f1d566138c11_jpeg.rf.77c1ee40276b8f38b8b1c74b2c5f75d7.jpg: 224x224 2 meats, 27.1ms\n",
      "image 100/101 c:\\Users\\hxxzi\\Desktop\\GitHub\\final-project\\8\\data\\2\\test\\images\\trans-1-_jpeg.rf.90d66ee3b830a85d66f1486034ac04da.jpg: 224x224 (no detections), 28.4ms\n",
      "image 101/101 c:\\Users\\hxxzi\\Desktop\\GitHub\\final-project\\8\\data\\2\\test\\images\\v4-460px-Make-a-Turbo-Sandwich-Step-1-Version-2_jpeg.rf.909089164067660a8956ab42f486cbfb.jpg: 224x224 1 bread, 24.2ms\n",
      "Speed: 0.8ms preprocess, 26.9ms inference, 1.9ms postprocess per image at shape (1, 3, 224, 224)\n",
      "Results saved to \u001b[1mruns\\detect\\train22\u001b[0m\n"
     ]
    }
   ],
   "source": [
    "from ultralytics import YOLO\n",
    "import torch\n",
    "\n",
    "model = YOLO('yolov9s.pt')\n",
    "\n",
    "model.train(data = r'C:\\Users\\hxxzi\\Desktop\\GitHub\\final-project\\8\\data\\2\\data.yaml', \n",
    "            epochs=100, \n",
    "            patience=30, \n",
    "            batch=8, \n",
    "            imgsz=224)\n",
    "\n",
    "torch.cuda.empty_cache()\n",
    "\n",
    "results = model.predict(source=\"test\\images\", save=True)"
   ]
  },
  {
   "cell_type": "code",
   "execution_count": null,
   "metadata": {},
   "outputs": [],
   "source": []
  }
 ],
 "metadata": {
  "kernelspec": {
   "display_name": "Python 3",
   "language": "python",
   "name": "python3"
  },
  "language_info": {
   "codemirror_mode": {
    "name": "ipython",
    "version": 3
   },
   "file_extension": ".py",
   "mimetype": "text/x-python",
   "name": "python",
   "nbconvert_exporter": "python",
   "pygments_lexer": "ipython3",
   "version": "3.11.8"
  }
 },
 "nbformat": 4,
 "nbformat_minor": 2
}
