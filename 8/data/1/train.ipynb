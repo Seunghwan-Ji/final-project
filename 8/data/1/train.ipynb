{
 "cells": [
  {
   "cell_type": "code",
   "execution_count": 1,
   "metadata": {},
   "outputs": [
    {
     "name": "stdout",
     "output_type": "stream",
     "text": [
      "Downloading https://github.com/ultralytics/assets/releases/download/v8.2.0/yolov9s.pt to 'yolov9s.pt'...\n"
     ]
    },
    {
     "name": "stderr",
     "output_type": "stream",
     "text": [
      "100%|██████████| 14.7M/14.7M [00:01<00:00, 11.1MB/s]\n"
     ]
    },
    {
     "name": "stdout",
     "output_type": "stream",
     "text": [
      "New https://pypi.org/project/ultralytics/8.2.59 available  Update with 'pip install -U ultralytics'\n",
      "Ultralytics YOLOv8.2.58  Python-3.11.8 torch-2.3.0+cu118 CUDA:0 (NVIDIA GeForce RTX 3060 Laptop GPU, 6144MiB)\n",
      "\u001b[34m\u001b[1mengine\\trainer: \u001b[0mtask=detect, mode=train, model=yolov9s.pt, data=C:\\Users\\hxxzi\\Desktop\\GitHub\\final-project\\8\\data\\1\\data.yaml, epochs=100, time=None, patience=30, batch=8, imgsz=640, save=True, save_period=-1, cache=False, device=None, workers=8, project=None, name=train, exist_ok=False, pretrained=True, optimizer=auto, verbose=True, seed=0, deterministic=True, single_cls=False, rect=False, cos_lr=False, close_mosaic=10, resume=False, amp=True, fraction=1.0, profile=False, freeze=None, multi_scale=False, overlap_mask=True, mask_ratio=4, dropout=0.0, val=True, split=val, save_json=False, save_hybrid=False, conf=None, iou=0.7, max_det=300, half=False, dnn=False, plots=True, source=None, vid_stride=1, stream_buffer=False, visualize=False, augment=False, agnostic_nms=False, classes=None, retina_masks=False, embed=None, show=False, save_frames=False, save_txt=False, save_conf=False, save_crop=False, show_labels=True, show_conf=True, show_boxes=True, line_width=None, format=torchscript, keras=False, optimize=False, int8=False, dynamic=False, simplify=False, opset=None, workspace=4, nms=False, lr0=0.01, lrf=0.01, momentum=0.937, weight_decay=0.0005, warmup_epochs=3.0, warmup_momentum=0.8, warmup_bias_lr=0.1, box=7.5, cls=0.5, dfl=1.5, pose=12.0, kobj=1.0, label_smoothing=0.0, nbs=64, hsv_h=0.015, hsv_s=0.7, hsv_v=0.4, degrees=0.0, translate=0.1, scale=0.5, shear=0.0, perspective=0.0, flipud=0.0, fliplr=0.5, bgr=0.0, mosaic=1.0, mixup=0.0, copy_paste=0.0, auto_augment=randaugment, erasing=0.4, crop_fraction=1.0, cfg=None, tracker=botsort.yaml, save_dir=runs\\detect\\train\n",
      "Overriding model.yaml nc=80 with nc=5\n",
      "\n",
      "                   from  n    params  module                                       arguments                     \n",
      "  0                  -1  1       928  ultralytics.nn.modules.conv.Conv             [3, 32, 3, 2]                 \n",
      "  1                  -1  1     18560  ultralytics.nn.modules.conv.Conv             [32, 64, 3, 2]                \n",
      "  2                  -1  1     31104  ultralytics.nn.modules.block.ELAN1           [64, 64, 64, 32]              \n",
      "  3                  -1  1     73984  ultralytics.nn.modules.block.AConv           [64, 128]                     \n",
      "  4                  -1  1    258432  ultralytics.nn.modules.block.RepNCSPELAN4    [128, 128, 128, 64, 3]        \n",
      "  5                  -1  1    221568  ultralytics.nn.modules.block.AConv           [128, 192]                    \n",
      "  6                  -1  1    579648  ultralytics.nn.modules.block.RepNCSPELAN4    [192, 192, 192, 96, 3]        \n",
      "  7                  -1  1    442880  ultralytics.nn.modules.block.AConv           [192, 256]                    \n",
      "  8                  -1  1   1028864  ultralytics.nn.modules.block.RepNCSPELAN4    [256, 256, 256, 128, 3]       \n",
      "  9                  -1  1    164608  ultralytics.nn.modules.block.SPPELAN         [256, 256, 128]               \n",
      " 10                  -1  1         0  torch.nn.modules.upsampling.Upsample         [None, 2, 'nearest']          \n",
      " 11             [-1, 6]  1         0  ultralytics.nn.modules.conv.Concat           [1]                           \n",
      " 12                  -1  1    628800  ultralytics.nn.modules.block.RepNCSPELAN4    [448, 192, 192, 96, 3]        \n",
      " 13                  -1  1         0  torch.nn.modules.upsampling.Upsample         [None, 2, 'nearest']          \n",
      " 14             [-1, 4]  1         0  ultralytics.nn.modules.conv.Concat           [1]                           \n",
      " 15                  -1  1    283008  ultralytics.nn.modules.block.RepNCSPELAN4    [320, 128, 128, 64, 3]        \n",
      " 16                  -1  1    110784  ultralytics.nn.modules.block.AConv           [128, 96]                     \n",
      " 17            [-1, 12]  1         0  ultralytics.nn.modules.conv.Concat           [1]                           \n",
      " 18                  -1  1    598080  ultralytics.nn.modules.block.RepNCSPELAN4    [288, 192, 192, 96, 3]        \n",
      " 19                  -1  1    221440  ultralytics.nn.modules.block.AConv           [192, 128]                    \n",
      " 20             [-1, 9]  1         0  ultralytics.nn.modules.conv.Concat           [1]                           \n",
      " 21                  -1  1   1061632  ultralytics.nn.modules.block.RepNCSPELAN4    [384, 256, 256, 128, 3]       \n",
      " 22        [15, 18, 21]  1   1565023  ultralytics.nn.modules.head.Detect           [5, [128, 192, 256]]          \n",
      "YOLOv9s summary: 917 layers, 7,289,343 parameters, 7,289,327 gradients, 27.4 GFLOPs\n",
      "\n",
      "Transferred 1333/1339 items from pretrained weights\n",
      "Freezing layer 'model.22.dfl.conv.weight'\n",
      "\u001b[34m\u001b[1mAMP: \u001b[0mrunning Automatic Mixed Precision (AMP) checks with YOLOv8n...\n",
      "Downloading https://github.com/ultralytics/assets/releases/download/v8.2.0/yolov8n.pt to 'yolov8n.pt'...\n"
     ]
    },
    {
     "name": "stderr",
     "output_type": "stream",
     "text": [
      "100%|██████████| 6.25M/6.25M [00:01<00:00, 4.89MB/s]\n",
      "c:\\Users\\hxxzi\\AppData\\Local\\Programs\\Python\\Python311\\Lib\\site-packages\\torch\\nn\\modules\\conv.py:456: UserWarning: Plan failed with a cudnnException: CUDNN_BACKEND_EXECUTION_PLAN_DESCRIPTOR: cudnnFinalize Descriptor Failed cudnn_status: CUDNN_STATUS_NOT_SUPPORTED (Triggered internally at ..\\aten\\src\\ATen\\native\\cudnn\\Conv_v8.cpp:919.)\n",
      "  return F.conv2d(input, weight, bias, self.stride,\n"
     ]
    },
    {
     "name": "stdout",
     "output_type": "stream",
     "text": [
      "\u001b[34m\u001b[1mAMP: \u001b[0mchecks passed \n"
     ]
    },
    {
     "name": "stderr",
     "output_type": "stream",
     "text": [
      "\u001b[34m\u001b[1mtrain: \u001b[0mScanning C:\\Users\\hxxzi\\Desktop\\GitHub\\final-project\\8\\data\\1\\train\\labels... 1770 images, 246 backgrounds, 0 corrupt: 100%|██████████| 1770/1770 [00:02<00:00, 804.34it/s]\n"
     ]
    },
    {
     "name": "stdout",
     "output_type": "stream",
     "text": [
      "\u001b[34m\u001b[1mtrain: \u001b[0mNew cache created: C:\\Users\\hxxzi\\Desktop\\GitHub\\final-project\\8\\data\\1\\train\\labels.cache\n"
     ]
    },
    {
     "name": "stderr",
     "output_type": "stream",
     "text": [
      "\u001b[34m\u001b[1mval: \u001b[0mScanning C:\\Users\\hxxzi\\Desktop\\GitHub\\final-project\\8\\data\\1\\valid\\labels... 376 images, 45 backgrounds, 0 corrupt: 100%|██████████| 376/376 [00:00<00:00, 414.04it/s]"
     ]
    },
    {
     "name": "stdout",
     "output_type": "stream",
     "text": [
      "\u001b[34m\u001b[1mval: \u001b[0mNew cache created: C:\\Users\\hxxzi\\Desktop\\GitHub\\final-project\\8\\data\\1\\valid\\labels.cache\n"
     ]
    },
    {
     "name": "stderr",
     "output_type": "stream",
     "text": [
      "\n"
     ]
    },
    {
     "name": "stdout",
     "output_type": "stream",
     "text": [
      "Plotting labels to runs\\detect\\train\\labels.jpg... \n",
      "\u001b[34m\u001b[1moptimizer:\u001b[0m 'optimizer=auto' found, ignoring 'lr0=0.01' and 'momentum=0.937' and determining best 'optimizer', 'lr0' and 'momentum' automatically... \n",
      "\u001b[34m\u001b[1moptimizer:\u001b[0m AdamW(lr=0.001111, momentum=0.9) with parameter groups 221 weight(decay=0.0), 228 weight(decay=0.0005), 227 bias(decay=0.0)\n",
      "Image sizes 640 train, 640 val\n",
      "Using 8 dataloader workers\n",
      "Logging results to \u001b[1mruns\\detect\\train\u001b[0m\n",
      "Starting training for 100 epochs...\n",
      "\n",
      "      Epoch    GPU_mem   box_loss   cls_loss   dfl_loss  Instances       Size\n"
     ]
    },
    {
     "name": "stderr",
     "output_type": "stream",
     "text": [
      "      1/100      2.96G      1.276      2.421       1.64          4        640: 100%|██████████| 222/222 [01:10<00:00,  3.17it/s]\n",
      "                 Class     Images  Instances      Box(P          R      mAP50  mAP50-95): 100%|██████████| 24/24 [00:04<00:00,  4.80it/s]"
     ]
    },
    {
     "name": "stdout",
     "output_type": "stream",
     "text": [
      "                   all        376        663      0.319      0.535      0.328      0.187\n"
     ]
    },
    {
     "name": "stderr",
     "output_type": "stream",
     "text": [
      "\n"
     ]
    },
    {
     "name": "stdout",
     "output_type": "stream",
     "text": [
      "\n",
      "      Epoch    GPU_mem   box_loss   cls_loss   dfl_loss  Instances       Size\n"
     ]
    },
    {
     "name": "stderr",
     "output_type": "stream",
     "text": [
      "      2/100      2.96G      1.397      2.051      1.733          9        640: 100%|██████████| 222/222 [00:58<00:00,  3.81it/s]\n",
      "                 Class     Images  Instances      Box(P          R      mAP50  mAP50-95): 100%|██████████| 24/24 [00:04<00:00,  5.46it/s]\n"
     ]
    },
    {
     "name": "stdout",
     "output_type": "stream",
     "text": [
      "                   all        376        663      0.365      0.411      0.299       0.16\n",
      "\n",
      "      Epoch    GPU_mem   box_loss   cls_loss   dfl_loss  Instances       Size\n"
     ]
    },
    {
     "name": "stderr",
     "output_type": "stream",
     "text": [
      "      3/100      2.93G      1.441      2.025      1.766          2        640: 100%|██████████| 222/222 [00:54<00:00,  4.10it/s]\n",
      "                 Class     Images  Instances      Box(P          R      mAP50  mAP50-95): 100%|██████████| 24/24 [00:04<00:00,  5.95it/s]"
     ]
    },
    {
     "name": "stdout",
     "output_type": "stream",
     "text": [
      "                   all        376        663      0.267      0.496      0.326      0.184\n"
     ]
    },
    {
     "name": "stderr",
     "output_type": "stream",
     "text": [
      "\n"
     ]
    },
    {
     "name": "stdout",
     "output_type": "stream",
     "text": [
      "\n",
      "      Epoch    GPU_mem   box_loss   cls_loss   dfl_loss  Instances       Size\n"
     ]
    },
    {
     "name": "stderr",
     "output_type": "stream",
     "text": [
      "      4/100      2.96G       1.45      1.988      1.762          4        640: 100%|██████████| 222/222 [00:52<00:00,  4.21it/s]\n",
      "                 Class     Images  Instances      Box(P          R      mAP50  mAP50-95): 100%|██████████| 24/24 [00:04<00:00,  5.87it/s]"
     ]
    },
    {
     "name": "stdout",
     "output_type": "stream",
     "text": [
      "                   all        376        663      0.337      0.499       0.38      0.214\n"
     ]
    },
    {
     "name": "stderr",
     "output_type": "stream",
     "text": [
      "\n"
     ]
    },
    {
     "name": "stdout",
     "output_type": "stream",
     "text": [
      "\n",
      "      Epoch    GPU_mem   box_loss   cls_loss   dfl_loss  Instances       Size\n"
     ]
    },
    {
     "name": "stderr",
     "output_type": "stream",
     "text": [
      "      5/100      2.95G       1.43      1.947      1.766          9        640: 100%|██████████| 222/222 [00:53<00:00,  4.19it/s]\n",
      "                 Class     Images  Instances      Box(P          R      mAP50  mAP50-95): 100%|██████████| 24/24 [00:04<00:00,  5.82it/s]"
     ]
    },
    {
     "name": "stdout",
     "output_type": "stream",
     "text": [
      "                   all        376        663       0.38      0.551      0.417      0.236\n"
     ]
    },
    {
     "name": "stderr",
     "output_type": "stream",
     "text": [
      "\n"
     ]
    },
    {
     "name": "stdout",
     "output_type": "stream",
     "text": [
      "\n",
      "      Epoch    GPU_mem   box_loss   cls_loss   dfl_loss  Instances       Size\n"
     ]
    },
    {
     "name": "stderr",
     "output_type": "stream",
     "text": [
      "      6/100      2.96G      1.342      1.832      1.697          2        640: 100%|██████████| 222/222 [00:52<00:00,  4.26it/s]\n",
      "                 Class     Images  Instances      Box(P          R      mAP50  mAP50-95): 100%|██████████| 24/24 [00:04<00:00,  5.80it/s]"
     ]
    },
    {
     "name": "stdout",
     "output_type": "stream",
     "text": [
      "                   all        376        663      0.415      0.556       0.44      0.259\n"
     ]
    },
    {
     "name": "stderr",
     "output_type": "stream",
     "text": [
      "\n"
     ]
    },
    {
     "name": "stdout",
     "output_type": "stream",
     "text": [
      "\n",
      "      Epoch    GPU_mem   box_loss   cls_loss   dfl_loss  Instances       Size\n"
     ]
    },
    {
     "name": "stderr",
     "output_type": "stream",
     "text": [
      "      7/100      2.93G       1.34      1.761      1.693          7        640: 100%|██████████| 222/222 [00:52<00:00,  4.24it/s]\n",
      "                 Class     Images  Instances      Box(P          R      mAP50  mAP50-95): 100%|██████████| 24/24 [00:04<00:00,  5.87it/s]"
     ]
    },
    {
     "name": "stdout",
     "output_type": "stream",
     "text": [
      "                   all        376        663      0.464       0.57      0.483      0.286\n"
     ]
    },
    {
     "name": "stderr",
     "output_type": "stream",
     "text": [
      "\n"
     ]
    },
    {
     "name": "stdout",
     "output_type": "stream",
     "text": [
      "\n",
      "      Epoch    GPU_mem   box_loss   cls_loss   dfl_loss  Instances       Size\n"
     ]
    },
    {
     "name": "stderr",
     "output_type": "stream",
     "text": [
      "      8/100      2.96G      1.317      1.709      1.687          1        640: 100%|██████████| 222/222 [00:52<00:00,  4.26it/s]\n",
      "                 Class     Images  Instances      Box(P          R      mAP50  mAP50-95): 100%|██████████| 24/24 [00:04<00:00,  5.77it/s]"
     ]
    },
    {
     "name": "stdout",
     "output_type": "stream",
     "text": [
      "                   all        376        663       0.46       0.58      0.494      0.289\n"
     ]
    },
    {
     "name": "stderr",
     "output_type": "stream",
     "text": [
      "\n"
     ]
    },
    {
     "name": "stdout",
     "output_type": "stream",
     "text": [
      "\n",
      "      Epoch    GPU_mem   box_loss   cls_loss   dfl_loss  Instances       Size\n"
     ]
    },
    {
     "name": "stderr",
     "output_type": "stream",
     "text": [
      "      9/100      2.95G       1.31      1.681      1.676          7        640: 100%|██████████| 222/222 [00:52<00:00,  4.21it/s]\n",
      "                 Class     Images  Instances      Box(P          R      mAP50  mAP50-95): 100%|██████████| 24/24 [00:04<00:00,  5.91it/s]"
     ]
    },
    {
     "name": "stdout",
     "output_type": "stream",
     "text": [
      "                   all        376        663      0.439      0.597      0.508      0.286\n"
     ]
    },
    {
     "name": "stderr",
     "output_type": "stream",
     "text": [
      "\n"
     ]
    },
    {
     "name": "stdout",
     "output_type": "stream",
     "text": [
      "\n",
      "      Epoch    GPU_mem   box_loss   cls_loss   dfl_loss  Instances       Size\n"
     ]
    },
    {
     "name": "stderr",
     "output_type": "stream",
     "text": [
      "     10/100      2.95G      1.302      1.714      1.663          0        640: 100%|██████████| 222/222 [00:52<00:00,  4.23it/s]\n",
      "                 Class     Images  Instances      Box(P          R      mAP50  mAP50-95): 100%|██████████| 24/24 [00:04<00:00,  5.71it/s]"
     ]
    },
    {
     "name": "stdout",
     "output_type": "stream",
     "text": [
      "                   all        376        663       0.51      0.571      0.526      0.334\n"
     ]
    },
    {
     "name": "stderr",
     "output_type": "stream",
     "text": [
      "\n"
     ]
    },
    {
     "name": "stdout",
     "output_type": "stream",
     "text": [
      "\n",
      "      Epoch    GPU_mem   box_loss   cls_loss   dfl_loss  Instances       Size\n"
     ]
    },
    {
     "name": "stderr",
     "output_type": "stream",
     "text": [
      "     11/100      2.93G        1.3      1.634      1.662          8        640: 100%|██████████| 222/222 [00:52<00:00,  4.24it/s]\n",
      "                 Class     Images  Instances      Box(P          R      mAP50  mAP50-95): 100%|██████████| 24/24 [00:04<00:00,  5.98it/s]"
     ]
    },
    {
     "name": "stdout",
     "output_type": "stream",
     "text": [
      "                   all        376        663      0.464      0.613      0.526      0.329\n"
     ]
    },
    {
     "name": "stderr",
     "output_type": "stream",
     "text": [
      "\n"
     ]
    },
    {
     "name": "stdout",
     "output_type": "stream",
     "text": [
      "\n",
      "      Epoch    GPU_mem   box_loss   cls_loss   dfl_loss  Instances       Size\n"
     ]
    },
    {
     "name": "stderr",
     "output_type": "stream",
     "text": [
      "     12/100      2.96G      1.282      1.599      1.646          5        640: 100%|██████████| 222/222 [00:53<00:00,  4.18it/s]\n",
      "                 Class     Images  Instances      Box(P          R      mAP50  mAP50-95): 100%|██████████| 24/24 [00:04<00:00,  5.72it/s]"
     ]
    },
    {
     "name": "stdout",
     "output_type": "stream",
     "text": [
      "                   all        376        663      0.455      0.609      0.524      0.327\n"
     ]
    },
    {
     "name": "stderr",
     "output_type": "stream",
     "text": [
      "\n"
     ]
    },
    {
     "name": "stdout",
     "output_type": "stream",
     "text": [
      "\n",
      "      Epoch    GPU_mem   box_loss   cls_loss   dfl_loss  Instances       Size\n"
     ]
    },
    {
     "name": "stderr",
     "output_type": "stream",
     "text": [
      "     13/100      2.95G      1.288       1.58      1.644          3        640: 100%|██████████| 222/222 [00:53<00:00,  4.19it/s]\n",
      "                 Class     Images  Instances      Box(P          R      mAP50  mAP50-95): 100%|██████████| 24/24 [00:04<00:00,  5.70it/s]"
     ]
    },
    {
     "name": "stdout",
     "output_type": "stream",
     "text": [
      "                   all        376        663      0.487      0.637      0.538      0.317\n"
     ]
    },
    {
     "name": "stderr",
     "output_type": "stream",
     "text": [
      "\n"
     ]
    },
    {
     "name": "stdout",
     "output_type": "stream",
     "text": [
      "\n",
      "      Epoch    GPU_mem   box_loss   cls_loss   dfl_loss  Instances       Size\n"
     ]
    },
    {
     "name": "stderr",
     "output_type": "stream",
     "text": [
      "     14/100      2.95G       1.27      1.529      1.634          7        640: 100%|██████████| 222/222 [00:52<00:00,  4.21it/s]\n",
      "                 Class     Images  Instances      Box(P          R      mAP50  mAP50-95): 100%|██████████| 24/24 [00:04<00:00,  5.90it/s]"
     ]
    },
    {
     "name": "stdout",
     "output_type": "stream",
     "text": [
      "                   all        376        663      0.492       0.57      0.531      0.324\n"
     ]
    },
    {
     "name": "stderr",
     "output_type": "stream",
     "text": [
      "\n"
     ]
    },
    {
     "name": "stdout",
     "output_type": "stream",
     "text": [
      "\n",
      "      Epoch    GPU_mem   box_loss   cls_loss   dfl_loss  Instances       Size\n"
     ]
    },
    {
     "name": "stderr",
     "output_type": "stream",
     "text": [
      "     15/100      2.93G      1.234      1.541      1.602         12        640: 100%|██████████| 222/222 [00:52<00:00,  4.25it/s]\n",
      "                 Class     Images  Instances      Box(P          R      mAP50  mAP50-95): 100%|██████████| 24/24 [00:04<00:00,  5.82it/s]"
     ]
    },
    {
     "name": "stdout",
     "output_type": "stream",
     "text": [
      "                   all        376        663      0.462      0.636      0.556      0.347\n"
     ]
    },
    {
     "name": "stderr",
     "output_type": "stream",
     "text": [
      "\n"
     ]
    },
    {
     "name": "stdout",
     "output_type": "stream",
     "text": [
      "\n",
      "      Epoch    GPU_mem   box_loss   cls_loss   dfl_loss  Instances       Size\n"
     ]
    },
    {
     "name": "stderr",
     "output_type": "stream",
     "text": [
      "     16/100      2.96G      1.222      1.481      1.607          5        640: 100%|██████████| 222/222 [00:52<00:00,  4.26it/s]\n",
      "                 Class     Images  Instances      Box(P          R      mAP50  mAP50-95): 100%|██████████| 24/24 [00:04<00:00,  6.00it/s]"
     ]
    },
    {
     "name": "stdout",
     "output_type": "stream",
     "text": [
      "                   all        376        663      0.538      0.655      0.587       0.36\n"
     ]
    },
    {
     "name": "stderr",
     "output_type": "stream",
     "text": [
      "\n"
     ]
    },
    {
     "name": "stdout",
     "output_type": "stream",
     "text": [
      "\n",
      "      Epoch    GPU_mem   box_loss   cls_loss   dfl_loss  Instances       Size\n"
     ]
    },
    {
     "name": "stderr",
     "output_type": "stream",
     "text": [
      "     17/100      2.95G      1.246      1.485      1.633          3        640: 100%|██████████| 222/222 [00:52<00:00,  4.25it/s]\n",
      "                 Class     Images  Instances      Box(P          R      mAP50  mAP50-95): 100%|██████████| 24/24 [00:04<00:00,  5.88it/s]"
     ]
    },
    {
     "name": "stdout",
     "output_type": "stream",
     "text": [
      "                   all        376        663      0.492      0.644      0.572      0.351\n"
     ]
    },
    {
     "name": "stderr",
     "output_type": "stream",
     "text": [
      "\n"
     ]
    },
    {
     "name": "stdout",
     "output_type": "stream",
     "text": [
      "\n",
      "      Epoch    GPU_mem   box_loss   cls_loss   dfl_loss  Instances       Size\n"
     ]
    },
    {
     "name": "stderr",
     "output_type": "stream",
     "text": [
      "     18/100      2.95G      1.224      1.498      1.608          2        640: 100%|██████████| 222/222 [00:52<00:00,  4.23it/s]\n",
      "                 Class     Images  Instances      Box(P          R      mAP50  mAP50-95): 100%|██████████| 24/24 [00:04<00:00,  5.98it/s]"
     ]
    },
    {
     "name": "stdout",
     "output_type": "stream",
     "text": [
      "                   all        376        663      0.509      0.686      0.619      0.374\n"
     ]
    },
    {
     "name": "stderr",
     "output_type": "stream",
     "text": [
      "\n"
     ]
    },
    {
     "name": "stdout",
     "output_type": "stream",
     "text": [
      "\n",
      "      Epoch    GPU_mem   box_loss   cls_loss   dfl_loss  Instances       Size\n"
     ]
    },
    {
     "name": "stderr",
     "output_type": "stream",
     "text": [
      "     19/100      2.93G      1.236      1.465      1.595         10        640: 100%|██████████| 222/222 [00:52<00:00,  4.20it/s]\n",
      "                 Class     Images  Instances      Box(P          R      mAP50  mAP50-95): 100%|██████████| 24/24 [00:04<00:00,  5.99it/s]"
     ]
    },
    {
     "name": "stdout",
     "output_type": "stream",
     "text": [
      "                   all        376        663      0.538      0.611      0.585      0.373\n"
     ]
    },
    {
     "name": "stderr",
     "output_type": "stream",
     "text": [
      "\n"
     ]
    },
    {
     "name": "stdout",
     "output_type": "stream",
     "text": [
      "\n",
      "      Epoch    GPU_mem   box_loss   cls_loss   dfl_loss  Instances       Size\n"
     ]
    },
    {
     "name": "stderr",
     "output_type": "stream",
     "text": [
      "     20/100      2.96G      1.198      1.406      1.584          5        640: 100%|██████████| 222/222 [00:55<00:00,  4.00it/s]\n",
      "                 Class     Images  Instances      Box(P          R      mAP50  mAP50-95): 100%|██████████| 24/24 [00:04<00:00,  5.75it/s]"
     ]
    },
    {
     "name": "stdout",
     "output_type": "stream",
     "text": [
      "                   all        376        663      0.498      0.673      0.592      0.371\n"
     ]
    },
    {
     "name": "stderr",
     "output_type": "stream",
     "text": [
      "\n"
     ]
    },
    {
     "name": "stdout",
     "output_type": "stream",
     "text": [
      "\n",
      "      Epoch    GPU_mem   box_loss   cls_loss   dfl_loss  Instances       Size\n"
     ]
    },
    {
     "name": "stderr",
     "output_type": "stream",
     "text": [
      "     21/100      2.95G      1.214      1.397      1.601          3        640: 100%|██████████| 222/222 [00:56<00:00,  3.90it/s]\n",
      "                 Class     Images  Instances      Box(P          R      mAP50  mAP50-95): 100%|██████████| 24/24 [00:04<00:00,  5.53it/s]"
     ]
    },
    {
     "name": "stdout",
     "output_type": "stream",
     "text": [
      "                   all        376        663       0.52      0.637      0.581      0.375\n"
     ]
    },
    {
     "name": "stderr",
     "output_type": "stream",
     "text": [
      "\n"
     ]
    },
    {
     "name": "stdout",
     "output_type": "stream",
     "text": [
      "\n",
      "      Epoch    GPU_mem   box_loss   cls_loss   dfl_loss  Instances       Size\n"
     ]
    },
    {
     "name": "stderr",
     "output_type": "stream",
     "text": [
      "     22/100      2.95G      1.181      1.381      1.572          8        640: 100%|██████████| 222/222 [00:56<00:00,  3.96it/s]\n",
      "                 Class     Images  Instances      Box(P          R      mAP50  mAP50-95): 100%|██████████| 24/24 [00:04<00:00,  5.50it/s]"
     ]
    },
    {
     "name": "stdout",
     "output_type": "stream",
     "text": [
      "                   all        376        663      0.527      0.667      0.607       0.39\n"
     ]
    },
    {
     "name": "stderr",
     "output_type": "stream",
     "text": [
      "\n"
     ]
    },
    {
     "name": "stdout",
     "output_type": "stream",
     "text": [
      "\n",
      "      Epoch    GPU_mem   box_loss   cls_loss   dfl_loss  Instances       Size\n"
     ]
    },
    {
     "name": "stderr",
     "output_type": "stream",
     "text": [
      "     23/100      2.93G      1.159      1.363      1.557         10        640: 100%|██████████| 222/222 [00:55<00:00,  3.97it/s]\n",
      "                 Class     Images  Instances      Box(P          R      mAP50  mAP50-95): 100%|██████████| 24/24 [00:04<00:00,  5.83it/s]"
     ]
    },
    {
     "name": "stdout",
     "output_type": "stream",
     "text": [
      "                   all        376        663      0.582      0.632      0.612      0.393\n"
     ]
    },
    {
     "name": "stderr",
     "output_type": "stream",
     "text": [
      "\n"
     ]
    },
    {
     "name": "stdout",
     "output_type": "stream",
     "text": [
      "\n",
      "      Epoch    GPU_mem   box_loss   cls_loss   dfl_loss  Instances       Size\n"
     ]
    },
    {
     "name": "stderr",
     "output_type": "stream",
     "text": [
      "     24/100      2.96G      1.193      1.382      1.597          9        640: 100%|██████████| 222/222 [00:55<00:00,  3.98it/s]\n",
      "                 Class     Images  Instances      Box(P          R      mAP50  mAP50-95): 100%|██████████| 24/24 [00:04<00:00,  5.80it/s]"
     ]
    },
    {
     "name": "stdout",
     "output_type": "stream",
     "text": [
      "                   all        376        663      0.536      0.624      0.574      0.363\n"
     ]
    },
    {
     "name": "stderr",
     "output_type": "stream",
     "text": [
      "\n"
     ]
    },
    {
     "name": "stdout",
     "output_type": "stream",
     "text": [
      "\n",
      "      Epoch    GPU_mem   box_loss   cls_loss   dfl_loss  Instances       Size\n"
     ]
    },
    {
     "name": "stderr",
     "output_type": "stream",
     "text": [
      "     25/100      2.95G      1.168      1.374      1.563          9        640: 100%|██████████| 222/222 [00:56<00:00,  3.95it/s]\n",
      "                 Class     Images  Instances      Box(P          R      mAP50  mAP50-95): 100%|██████████| 24/24 [00:04<00:00,  5.66it/s]"
     ]
    },
    {
     "name": "stdout",
     "output_type": "stream",
     "text": [
      "                   all        376        663       0.57      0.628      0.612      0.398\n"
     ]
    },
    {
     "name": "stderr",
     "output_type": "stream",
     "text": [
      "\n"
     ]
    },
    {
     "name": "stdout",
     "output_type": "stream",
     "text": [
      "\n",
      "      Epoch    GPU_mem   box_loss   cls_loss   dfl_loss  Instances       Size\n"
     ]
    },
    {
     "name": "stderr",
     "output_type": "stream",
     "text": [
      "     26/100      2.95G       1.17      1.355      1.557          1        640: 100%|██████████| 222/222 [00:56<00:00,  3.91it/s]\n",
      "                 Class     Images  Instances      Box(P          R      mAP50  mAP50-95): 100%|██████████| 24/24 [00:04<00:00,  5.59it/s]"
     ]
    },
    {
     "name": "stdout",
     "output_type": "stream",
     "text": [
      "                   all        376        663      0.577      0.572      0.603      0.382\n"
     ]
    },
    {
     "name": "stderr",
     "output_type": "stream",
     "text": [
      "\n"
     ]
    },
    {
     "name": "stdout",
     "output_type": "stream",
     "text": [
      "\n",
      "      Epoch    GPU_mem   box_loss   cls_loss   dfl_loss  Instances       Size\n"
     ]
    },
    {
     "name": "stderr",
     "output_type": "stream",
     "text": [
      "     27/100      2.93G       1.16      1.311      1.547          3        640: 100%|██████████| 222/222 [00:55<00:00,  3.97it/s]\n",
      "                 Class     Images  Instances      Box(P          R      mAP50  mAP50-95): 100%|██████████| 24/24 [00:04<00:00,  5.48it/s]"
     ]
    },
    {
     "name": "stdout",
     "output_type": "stream",
     "text": [
      "                   all        376        663      0.564       0.62      0.613      0.396\n"
     ]
    },
    {
     "name": "stderr",
     "output_type": "stream",
     "text": [
      "\n"
     ]
    },
    {
     "name": "stdout",
     "output_type": "stream",
     "text": [
      "\n",
      "      Epoch    GPU_mem   box_loss   cls_loss   dfl_loss  Instances       Size\n"
     ]
    },
    {
     "name": "stderr",
     "output_type": "stream",
     "text": [
      "     28/100      2.96G      1.138      1.293      1.539          5        640: 100%|██████████| 222/222 [00:55<00:00,  3.98it/s]\n",
      "                 Class     Images  Instances      Box(P          R      mAP50  mAP50-95): 100%|██████████| 24/24 [00:04<00:00,  5.83it/s]"
     ]
    },
    {
     "name": "stdout",
     "output_type": "stream",
     "text": [
      "                   all        376        663      0.533      0.665      0.618      0.388\n"
     ]
    },
    {
     "name": "stderr",
     "output_type": "stream",
     "text": [
      "\n"
     ]
    },
    {
     "name": "stdout",
     "output_type": "stream",
     "text": [
      "\n",
      "      Epoch    GPU_mem   box_loss   cls_loss   dfl_loss  Instances       Size\n"
     ]
    },
    {
     "name": "stderr",
     "output_type": "stream",
     "text": [
      "     29/100      2.95G      1.139      1.282      1.542          4        640: 100%|██████████| 222/222 [00:54<00:00,  4.10it/s]\n",
      "                 Class     Images  Instances      Box(P          R      mAP50  mAP50-95): 100%|██████████| 24/24 [00:04<00:00,  5.78it/s]"
     ]
    },
    {
     "name": "stdout",
     "output_type": "stream",
     "text": [
      "                   all        376        663      0.546      0.636      0.611      0.385\n"
     ]
    },
    {
     "name": "stderr",
     "output_type": "stream",
     "text": [
      "\n"
     ]
    },
    {
     "name": "stdout",
     "output_type": "stream",
     "text": [
      "\n",
      "      Epoch    GPU_mem   box_loss   cls_loss   dfl_loss  Instances       Size\n"
     ]
    },
    {
     "name": "stderr",
     "output_type": "stream",
     "text": [
      "     30/100      2.96G      1.143      1.278      1.543          9        640: 100%|██████████| 222/222 [00:53<00:00,  4.12it/s]\n",
      "                 Class     Images  Instances      Box(P          R      mAP50  mAP50-95): 100%|██████████| 24/24 [00:04<00:00,  5.79it/s]"
     ]
    },
    {
     "name": "stdout",
     "output_type": "stream",
     "text": [
      "                   all        376        663      0.544       0.63      0.586      0.378\n"
     ]
    },
    {
     "name": "stderr",
     "output_type": "stream",
     "text": [
      "\n"
     ]
    },
    {
     "name": "stdout",
     "output_type": "stream",
     "text": [
      "\n",
      "      Epoch    GPU_mem   box_loss   cls_loss   dfl_loss  Instances       Size\n"
     ]
    },
    {
     "name": "stderr",
     "output_type": "stream",
     "text": [
      "     31/100      2.93G      1.125      1.258      1.526          9        640: 100%|██████████| 222/222 [00:54<00:00,  4.07it/s]\n",
      "                 Class     Images  Instances      Box(P          R      mAP50  mAP50-95): 100%|██████████| 24/24 [00:04<00:00,  5.76it/s]"
     ]
    },
    {
     "name": "stdout",
     "output_type": "stream",
     "text": [
      "                   all        376        663      0.572      0.668      0.622      0.397\n"
     ]
    },
    {
     "name": "stderr",
     "output_type": "stream",
     "text": [
      "\n"
     ]
    },
    {
     "name": "stdout",
     "output_type": "stream",
     "text": [
      "\n",
      "      Epoch    GPU_mem   box_loss   cls_loss   dfl_loss  Instances       Size\n"
     ]
    },
    {
     "name": "stderr",
     "output_type": "stream",
     "text": [
      "     32/100      2.96G      1.127      1.264       1.53          3        640: 100%|██████████| 222/222 [00:54<00:00,  4.11it/s]\n",
      "                 Class     Images  Instances      Box(P          R      mAP50  mAP50-95): 100%|██████████| 24/24 [00:03<00:00,  6.11it/s]"
     ]
    },
    {
     "name": "stdout",
     "output_type": "stream",
     "text": [
      "                   all        376        663      0.569      0.632      0.617      0.401\n"
     ]
    },
    {
     "name": "stderr",
     "output_type": "stream",
     "text": [
      "\n"
     ]
    },
    {
     "name": "stdout",
     "output_type": "stream",
     "text": [
      "\n",
      "      Epoch    GPU_mem   box_loss   cls_loss   dfl_loss  Instances       Size\n"
     ]
    },
    {
     "name": "stderr",
     "output_type": "stream",
     "text": [
      "     33/100      2.95G      1.105      1.247      1.505          1        640: 100%|██████████| 222/222 [00:54<00:00,  4.06it/s]\n",
      "                 Class     Images  Instances      Box(P          R      mAP50  mAP50-95): 100%|██████████| 24/24 [00:04<00:00,  5.90it/s]"
     ]
    },
    {
     "name": "stdout",
     "output_type": "stream",
     "text": [
      "                   all        376        663        0.6      0.623      0.642      0.418\n"
     ]
    },
    {
     "name": "stderr",
     "output_type": "stream",
     "text": [
      "\n"
     ]
    },
    {
     "name": "stdout",
     "output_type": "stream",
     "text": [
      "\n",
      "      Epoch    GPU_mem   box_loss   cls_loss   dfl_loss  Instances       Size\n"
     ]
    },
    {
     "name": "stderr",
     "output_type": "stream",
     "text": [
      "     34/100      2.95G      1.115       1.23      1.513          5        640: 100%|██████████| 222/222 [00:51<00:00,  4.27it/s]\n",
      "                 Class     Images  Instances      Box(P          R      mAP50  mAP50-95): 100%|██████████| 24/24 [00:04<00:00,  5.98it/s]"
     ]
    },
    {
     "name": "stdout",
     "output_type": "stream",
     "text": [
      "                   all        376        663      0.599      0.628      0.633      0.412\n"
     ]
    },
    {
     "name": "stderr",
     "output_type": "stream",
     "text": [
      "\n"
     ]
    },
    {
     "name": "stdout",
     "output_type": "stream",
     "text": [
      "\n",
      "      Epoch    GPU_mem   box_loss   cls_loss   dfl_loss  Instances       Size\n"
     ]
    },
    {
     "name": "stderr",
     "output_type": "stream",
     "text": [
      "     35/100      2.93G      1.107       1.23      1.511         13        640: 100%|██████████| 222/222 [00:52<00:00,  4.24it/s]\n",
      "                 Class     Images  Instances      Box(P          R      mAP50  mAP50-95): 100%|██████████| 24/24 [00:04<00:00,  5.94it/s]"
     ]
    },
    {
     "name": "stdout",
     "output_type": "stream",
     "text": [
      "                   all        376        663      0.621      0.615      0.647      0.421\n"
     ]
    },
    {
     "name": "stderr",
     "output_type": "stream",
     "text": [
      "\n"
     ]
    },
    {
     "name": "stdout",
     "output_type": "stream",
     "text": [
      "\n",
      "      Epoch    GPU_mem   box_loss   cls_loss   dfl_loss  Instances       Size\n"
     ]
    },
    {
     "name": "stderr",
     "output_type": "stream",
     "text": [
      "     36/100      2.96G      1.119      1.208      1.528         10        640: 100%|██████████| 222/222 [00:52<00:00,  4.22it/s]\n",
      "                 Class     Images  Instances      Box(P          R      mAP50  mAP50-95): 100%|██████████| 24/24 [00:04<00:00,  5.64it/s]"
     ]
    },
    {
     "name": "stdout",
     "output_type": "stream",
     "text": [
      "                   all        376        663      0.568       0.66      0.644      0.418\n"
     ]
    },
    {
     "name": "stderr",
     "output_type": "stream",
     "text": [
      "\n"
     ]
    },
    {
     "name": "stdout",
     "output_type": "stream",
     "text": [
      "\n",
      "      Epoch    GPU_mem   box_loss   cls_loss   dfl_loss  Instances       Size\n"
     ]
    },
    {
     "name": "stderr",
     "output_type": "stream",
     "text": [
      "     37/100      2.95G      1.096      1.207      1.519          3        640: 100%|██████████| 222/222 [00:52<00:00,  4.20it/s]\n",
      "                 Class     Images  Instances      Box(P          R      mAP50  mAP50-95): 100%|██████████| 24/24 [00:04<00:00,  5.80it/s]"
     ]
    },
    {
     "name": "stdout",
     "output_type": "stream",
     "text": [
      "                   all        376        663      0.558      0.692      0.635       0.42\n"
     ]
    },
    {
     "name": "stderr",
     "output_type": "stream",
     "text": [
      "\n"
     ]
    },
    {
     "name": "stdout",
     "output_type": "stream",
     "text": [
      "\n",
      "      Epoch    GPU_mem   box_loss   cls_loss   dfl_loss  Instances       Size\n"
     ]
    },
    {
     "name": "stderr",
     "output_type": "stream",
     "text": [
      "     38/100      2.95G      1.108      1.231       1.53          2        640: 100%|██████████| 222/222 [00:52<00:00,  4.23it/s]\n",
      "                 Class     Images  Instances      Box(P          R      mAP50  mAP50-95): 100%|██████████| 24/24 [00:04<00:00,  5.86it/s]"
     ]
    },
    {
     "name": "stdout",
     "output_type": "stream",
     "text": [
      "                   all        376        663      0.604      0.649      0.637      0.418\n"
     ]
    },
    {
     "name": "stderr",
     "output_type": "stream",
     "text": [
      "\n"
     ]
    },
    {
     "name": "stdout",
     "output_type": "stream",
     "text": [
      "\n",
      "      Epoch    GPU_mem   box_loss   cls_loss   dfl_loss  Instances       Size\n"
     ]
    },
    {
     "name": "stderr",
     "output_type": "stream",
     "text": [
      "     39/100      2.93G      1.083      1.164      1.498          2        640: 100%|██████████| 222/222 [00:52<00:00,  4.24it/s]\n",
      "                 Class     Images  Instances      Box(P          R      mAP50  mAP50-95): 100%|██████████| 24/24 [00:04<00:00,  5.91it/s]"
     ]
    },
    {
     "name": "stdout",
     "output_type": "stream",
     "text": [
      "                   all        376        663      0.611      0.699      0.669      0.436\n"
     ]
    },
    {
     "name": "stderr",
     "output_type": "stream",
     "text": [
      "\n"
     ]
    },
    {
     "name": "stdout",
     "output_type": "stream",
     "text": [
      "\n",
      "      Epoch    GPU_mem   box_loss   cls_loss   dfl_loss  Instances       Size\n"
     ]
    },
    {
     "name": "stderr",
     "output_type": "stream",
     "text": [
      "     40/100      2.96G      1.081       1.17      1.496         10        640: 100%|██████████| 222/222 [00:52<00:00,  4.24it/s]\n",
      "                 Class     Images  Instances      Box(P          R      mAP50  mAP50-95): 100%|██████████| 24/24 [00:04<00:00,  5.92it/s]"
     ]
    },
    {
     "name": "stdout",
     "output_type": "stream",
     "text": [
      "                   all        376        663      0.583      0.668      0.661      0.441\n"
     ]
    },
    {
     "name": "stderr",
     "output_type": "stream",
     "text": [
      "\n"
     ]
    },
    {
     "name": "stdout",
     "output_type": "stream",
     "text": [
      "\n",
      "      Epoch    GPU_mem   box_loss   cls_loss   dfl_loss  Instances       Size\n"
     ]
    },
    {
     "name": "stderr",
     "output_type": "stream",
     "text": [
      "     41/100      2.95G      1.095      1.163      1.504          6        640: 100%|██████████| 222/222 [00:52<00:00,  4.21it/s]\n",
      "                 Class     Images  Instances      Box(P          R      mAP50  mAP50-95): 100%|██████████| 24/24 [00:04<00:00,  5.79it/s]"
     ]
    },
    {
     "name": "stdout",
     "output_type": "stream",
     "text": [
      "                   all        376        663      0.582      0.683      0.657      0.416\n"
     ]
    },
    {
     "name": "stderr",
     "output_type": "stream",
     "text": [
      "\n"
     ]
    },
    {
     "name": "stdout",
     "output_type": "stream",
     "text": [
      "\n",
      "      Epoch    GPU_mem   box_loss   cls_loss   dfl_loss  Instances       Size\n"
     ]
    },
    {
     "name": "stderr",
     "output_type": "stream",
     "text": [
      "     42/100      2.95G      1.084      1.157      1.494          3        640: 100%|██████████| 222/222 [00:52<00:00,  4.22it/s]\n",
      "                 Class     Images  Instances      Box(P          R      mAP50  mAP50-95): 100%|██████████| 24/24 [00:04<00:00,  5.85it/s]"
     ]
    },
    {
     "name": "stdout",
     "output_type": "stream",
     "text": [
      "                   all        376        663      0.608      0.645      0.655      0.432\n"
     ]
    },
    {
     "name": "stderr",
     "output_type": "stream",
     "text": [
      "\n"
     ]
    },
    {
     "name": "stdout",
     "output_type": "stream",
     "text": [
      "\n",
      "      Epoch    GPU_mem   box_loss   cls_loss   dfl_loss  Instances       Size\n"
     ]
    },
    {
     "name": "stderr",
     "output_type": "stream",
     "text": [
      "     43/100      2.93G      1.065      1.108      1.486          9        640: 100%|██████████| 222/222 [00:52<00:00,  4.24it/s]\n",
      "                 Class     Images  Instances      Box(P          R      mAP50  mAP50-95): 100%|██████████| 24/24 [00:04<00:00,  5.74it/s]"
     ]
    },
    {
     "name": "stdout",
     "output_type": "stream",
     "text": [
      "                   all        376        663       0.58      0.722      0.669       0.45\n"
     ]
    },
    {
     "name": "stderr",
     "output_type": "stream",
     "text": [
      "\n"
     ]
    },
    {
     "name": "stdout",
     "output_type": "stream",
     "text": [
      "\n",
      "      Epoch    GPU_mem   box_loss   cls_loss   dfl_loss  Instances       Size\n"
     ]
    },
    {
     "name": "stderr",
     "output_type": "stream",
     "text": [
      "     44/100      2.96G      1.068      1.163      1.498          5        640: 100%|██████████| 222/222 [00:51<00:00,  4.27it/s]\n",
      "                 Class     Images  Instances      Box(P          R      mAP50  mAP50-95): 100%|██████████| 24/24 [00:04<00:00,  5.83it/s]"
     ]
    },
    {
     "name": "stdout",
     "output_type": "stream",
     "text": [
      "                   all        376        663      0.615       0.61      0.642      0.415\n"
     ]
    },
    {
     "name": "stderr",
     "output_type": "stream",
     "text": [
      "\n"
     ]
    },
    {
     "name": "stdout",
     "output_type": "stream",
     "text": [
      "\n",
      "      Epoch    GPU_mem   box_loss   cls_loss   dfl_loss  Instances       Size\n"
     ]
    },
    {
     "name": "stderr",
     "output_type": "stream",
     "text": [
      "     45/100      2.95G      1.066      1.118      1.493          3        640: 100%|██████████| 222/222 [00:52<00:00,  4.24it/s]\n",
      "                 Class     Images  Instances      Box(P          R      mAP50  mAP50-95): 100%|██████████| 24/24 [00:04<00:00,  5.98it/s]"
     ]
    },
    {
     "name": "stdout",
     "output_type": "stream",
     "text": [
      "                   all        376        663      0.633        0.7       0.66      0.436\n"
     ]
    },
    {
     "name": "stderr",
     "output_type": "stream",
     "text": [
      "\n"
     ]
    },
    {
     "name": "stdout",
     "output_type": "stream",
     "text": [
      "\n",
      "      Epoch    GPU_mem   box_loss   cls_loss   dfl_loss  Instances       Size\n"
     ]
    },
    {
     "name": "stderr",
     "output_type": "stream",
     "text": [
      "     46/100      2.96G      1.059      1.137      1.472          9        640: 100%|██████████| 222/222 [00:52<00:00,  4.24it/s]\n",
      "                 Class     Images  Instances      Box(P          R      mAP50  mAP50-95): 100%|██████████| 24/24 [00:04<00:00,  5.80it/s]"
     ]
    },
    {
     "name": "stdout",
     "output_type": "stream",
     "text": [
      "                   all        376        663      0.608      0.676      0.649      0.427\n"
     ]
    },
    {
     "name": "stderr",
     "output_type": "stream",
     "text": [
      "\n"
     ]
    },
    {
     "name": "stdout",
     "output_type": "stream",
     "text": [
      "\n",
      "      Epoch    GPU_mem   box_loss   cls_loss   dfl_loss  Instances       Size\n"
     ]
    },
    {
     "name": "stderr",
     "output_type": "stream",
     "text": [
      "     47/100      2.93G      1.062      1.101      1.461          3        640: 100%|██████████| 222/222 [00:53<00:00,  4.17it/s]\n",
      "                 Class     Images  Instances      Box(P          R      mAP50  mAP50-95): 100%|██████████| 24/24 [00:04<00:00,  5.85it/s]"
     ]
    },
    {
     "name": "stdout",
     "output_type": "stream",
     "text": [
      "                   all        376        663      0.578      0.673      0.645      0.429\n"
     ]
    },
    {
     "name": "stderr",
     "output_type": "stream",
     "text": [
      "\n"
     ]
    },
    {
     "name": "stdout",
     "output_type": "stream",
     "text": [
      "\n",
      "      Epoch    GPU_mem   box_loss   cls_loss   dfl_loss  Instances       Size\n"
     ]
    },
    {
     "name": "stderr",
     "output_type": "stream",
     "text": [
      "     48/100      2.96G      1.044      1.075      1.455          8        640: 100%|██████████| 222/222 [00:52<00:00,  4.22it/s]\n",
      "                 Class     Images  Instances      Box(P          R      mAP50  mAP50-95): 100%|██████████| 24/24 [00:04<00:00,  5.92it/s]"
     ]
    },
    {
     "name": "stdout",
     "output_type": "stream",
     "text": [
      "                   all        376        663      0.608      0.668      0.679      0.443\n"
     ]
    },
    {
     "name": "stderr",
     "output_type": "stream",
     "text": [
      "\n"
     ]
    },
    {
     "name": "stdout",
     "output_type": "stream",
     "text": [
      "\n",
      "      Epoch    GPU_mem   box_loss   cls_loss   dfl_loss  Instances       Size\n"
     ]
    },
    {
     "name": "stderr",
     "output_type": "stream",
     "text": [
      "     49/100      2.95G       1.05      1.095       1.46         11        640: 100%|██████████| 222/222 [00:52<00:00,  4.22it/s]\n",
      "                 Class     Images  Instances      Box(P          R      mAP50  mAP50-95): 100%|██████████| 24/24 [00:04<00:00,  5.79it/s]"
     ]
    },
    {
     "name": "stdout",
     "output_type": "stream",
     "text": [
      "                   all        376        663      0.638      0.672      0.683       0.45\n"
     ]
    },
    {
     "name": "stderr",
     "output_type": "stream",
     "text": [
      "\n"
     ]
    },
    {
     "name": "stdout",
     "output_type": "stream",
     "text": [
      "\n",
      "      Epoch    GPU_mem   box_loss   cls_loss   dfl_loss  Instances       Size\n"
     ]
    },
    {
     "name": "stderr",
     "output_type": "stream",
     "text": [
      "     50/100      2.96G      1.032      1.028      1.456          9        640: 100%|██████████| 222/222 [00:52<00:00,  4.23it/s]\n",
      "                 Class     Images  Instances      Box(P          R      mAP50  mAP50-95): 100%|██████████| 24/24 [00:03<00:00,  6.06it/s]"
     ]
    },
    {
     "name": "stdout",
     "output_type": "stream",
     "text": [
      "                   all        376        663      0.622      0.636      0.667      0.439\n"
     ]
    },
    {
     "name": "stderr",
     "output_type": "stream",
     "text": [
      "\n"
     ]
    },
    {
     "name": "stdout",
     "output_type": "stream",
     "text": [
      "\n",
      "      Epoch    GPU_mem   box_loss   cls_loss   dfl_loss  Instances       Size\n"
     ]
    },
    {
     "name": "stderr",
     "output_type": "stream",
     "text": [
      "     51/100      2.93G      1.023       1.06      1.457          5        640: 100%|██████████| 222/222 [00:52<00:00,  4.22it/s]\n",
      "                 Class     Images  Instances      Box(P          R      mAP50  mAP50-95): 100%|██████████| 24/24 [00:04<00:00,  5.91it/s]"
     ]
    },
    {
     "name": "stdout",
     "output_type": "stream",
     "text": [
      "                   all        376        663      0.606      0.715       0.67      0.447\n"
     ]
    },
    {
     "name": "stderr",
     "output_type": "stream",
     "text": [
      "\n"
     ]
    },
    {
     "name": "stdout",
     "output_type": "stream",
     "text": [
      "\n",
      "      Epoch    GPU_mem   box_loss   cls_loss   dfl_loss  Instances       Size\n"
     ]
    },
    {
     "name": "stderr",
     "output_type": "stream",
     "text": [
      "     52/100      2.96G      1.037      1.079      1.461         12        640: 100%|██████████| 222/222 [00:52<00:00,  4.25it/s]\n",
      "                 Class     Images  Instances      Box(P          R      mAP50  mAP50-95): 100%|██████████| 24/24 [00:04<00:00,  5.90it/s]"
     ]
    },
    {
     "name": "stdout",
     "output_type": "stream",
     "text": [
      "                   all        376        663      0.575      0.709       0.65       0.43\n"
     ]
    },
    {
     "name": "stderr",
     "output_type": "stream",
     "text": [
      "\n"
     ]
    },
    {
     "name": "stdout",
     "output_type": "stream",
     "text": [
      "\n",
      "      Epoch    GPU_mem   box_loss   cls_loss   dfl_loss  Instances       Size\n"
     ]
    },
    {
     "name": "stderr",
     "output_type": "stream",
     "text": [
      "     53/100      2.95G      1.012      1.055      1.447          7        640: 100%|██████████| 222/222 [00:53<00:00,  4.16it/s]\n",
      "                 Class     Images  Instances      Box(P          R      mAP50  mAP50-95): 100%|██████████| 24/24 [00:04<00:00,  5.94it/s]"
     ]
    },
    {
     "name": "stdout",
     "output_type": "stream",
     "text": [
      "                   all        376        663       0.61      0.678      0.653      0.437\n"
     ]
    },
    {
     "name": "stderr",
     "output_type": "stream",
     "text": [
      "\n"
     ]
    },
    {
     "name": "stdout",
     "output_type": "stream",
     "text": [
      "\n",
      "      Epoch    GPU_mem   box_loss   cls_loss   dfl_loss  Instances       Size\n"
     ]
    },
    {
     "name": "stderr",
     "output_type": "stream",
     "text": [
      "     54/100      2.96G      1.014      1.032      1.434         12        640: 100%|██████████| 222/222 [00:52<00:00,  4.20it/s]\n",
      "                 Class     Images  Instances      Box(P          R      mAP50  mAP50-95): 100%|██████████| 24/24 [00:04<00:00,  5.80it/s]"
     ]
    },
    {
     "name": "stdout",
     "output_type": "stream",
     "text": [
      "                   all        376        663       0.61      0.665      0.644      0.436\n"
     ]
    },
    {
     "name": "stderr",
     "output_type": "stream",
     "text": [
      "\n"
     ]
    },
    {
     "name": "stdout",
     "output_type": "stream",
     "text": [
      "\n",
      "      Epoch    GPU_mem   box_loss   cls_loss   dfl_loss  Instances       Size\n"
     ]
    },
    {
     "name": "stderr",
     "output_type": "stream",
     "text": [
      "     55/100      2.93G      1.024      1.033      1.457          5        640: 100%|██████████| 222/222 [00:52<00:00,  4.22it/s]\n",
      "                 Class     Images  Instances      Box(P          R      mAP50  mAP50-95): 100%|██████████| 24/24 [00:04<00:00,  5.74it/s]"
     ]
    },
    {
     "name": "stdout",
     "output_type": "stream",
     "text": [
      "                   all        376        663      0.575      0.722      0.663      0.439\n"
     ]
    },
    {
     "name": "stderr",
     "output_type": "stream",
     "text": [
      "\n"
     ]
    },
    {
     "name": "stdout",
     "output_type": "stream",
     "text": [
      "\n",
      "      Epoch    GPU_mem   box_loss   cls_loss   dfl_loss  Instances       Size\n"
     ]
    },
    {
     "name": "stderr",
     "output_type": "stream",
     "text": [
      "     56/100      2.96G     0.9822     0.9835      1.417          4        640: 100%|██████████| 222/222 [00:52<00:00,  4.26it/s]\n",
      "                 Class     Images  Instances      Box(P          R      mAP50  mAP50-95): 100%|██████████| 24/24 [00:04<00:00,  5.87it/s]"
     ]
    },
    {
     "name": "stdout",
     "output_type": "stream",
     "text": [
      "                   all        376        663      0.628      0.671       0.67      0.448\n"
     ]
    },
    {
     "name": "stderr",
     "output_type": "stream",
     "text": [
      "\n"
     ]
    },
    {
     "name": "stdout",
     "output_type": "stream",
     "text": [
      "\n",
      "      Epoch    GPU_mem   box_loss   cls_loss   dfl_loss  Instances       Size\n"
     ]
    },
    {
     "name": "stderr",
     "output_type": "stream",
     "text": [
      "     57/100      2.95G      1.006      1.008       1.42          4        640: 100%|██████████| 222/222 [00:52<00:00,  4.24it/s]\n",
      "                 Class     Images  Instances      Box(P          R      mAP50  mAP50-95): 100%|██████████| 24/24 [00:04<00:00,  5.86it/s]"
     ]
    },
    {
     "name": "stdout",
     "output_type": "stream",
     "text": [
      "                   all        376        663       0.61      0.703      0.663      0.444\n"
     ]
    },
    {
     "name": "stderr",
     "output_type": "stream",
     "text": [
      "\n"
     ]
    },
    {
     "name": "stdout",
     "output_type": "stream",
     "text": [
      "\n",
      "      Epoch    GPU_mem   box_loss   cls_loss   dfl_loss  Instances       Size\n"
     ]
    },
    {
     "name": "stderr",
     "output_type": "stream",
     "text": [
      "     58/100      2.95G      1.004     0.9777      1.421          3        640: 100%|██████████| 222/222 [00:52<00:00,  4.22it/s]\n",
      "                 Class     Images  Instances      Box(P          R      mAP50  mAP50-95): 100%|██████████| 24/24 [00:04<00:00,  5.94it/s]"
     ]
    },
    {
     "name": "stdout",
     "output_type": "stream",
     "text": [
      "                   all        376        663      0.586      0.674      0.664      0.444\n"
     ]
    },
    {
     "name": "stderr",
     "output_type": "stream",
     "text": [
      "\n"
     ]
    },
    {
     "name": "stdout",
     "output_type": "stream",
     "text": [
      "\n",
      "      Epoch    GPU_mem   box_loss   cls_loss   dfl_loss  Instances       Size\n"
     ]
    },
    {
     "name": "stderr",
     "output_type": "stream",
     "text": [
      "     59/100      2.93G     0.9936      1.012      1.421          3        640: 100%|██████████| 222/222 [00:52<00:00,  4.25it/s]\n",
      "                 Class     Images  Instances      Box(P          R      mAP50  mAP50-95): 100%|██████████| 24/24 [00:04<00:00,  5.94it/s]"
     ]
    },
    {
     "name": "stdout",
     "output_type": "stream",
     "text": [
      "                   all        376        663      0.659      0.644      0.673      0.451\n"
     ]
    },
    {
     "name": "stderr",
     "output_type": "stream",
     "text": [
      "\n"
     ]
    },
    {
     "name": "stdout",
     "output_type": "stream",
     "text": [
      "\n",
      "      Epoch    GPU_mem   box_loss   cls_loss   dfl_loss  Instances       Size\n"
     ]
    },
    {
     "name": "stderr",
     "output_type": "stream",
     "text": [
      "     60/100      2.96G     0.9889     0.9967      1.419          5        640: 100%|██████████| 222/222 [00:52<00:00,  4.25it/s]\n",
      "                 Class     Images  Instances      Box(P          R      mAP50  mAP50-95): 100%|██████████| 24/24 [00:03<00:00,  6.03it/s]"
     ]
    },
    {
     "name": "stdout",
     "output_type": "stream",
     "text": [
      "                   all        376        663      0.624      0.695       0.65      0.434\n"
     ]
    },
    {
     "name": "stderr",
     "output_type": "stream",
     "text": [
      "\n"
     ]
    },
    {
     "name": "stdout",
     "output_type": "stream",
     "text": [
      "\n",
      "      Epoch    GPU_mem   box_loss   cls_loss   dfl_loss  Instances       Size\n"
     ]
    },
    {
     "name": "stderr",
     "output_type": "stream",
     "text": [
      "     61/100      2.95G     0.9972     0.9962      1.424          7        640: 100%|██████████| 222/222 [00:51<00:00,  4.27it/s]\n",
      "                 Class     Images  Instances      Box(P          R      mAP50  mAP50-95): 100%|██████████| 24/24 [00:04<00:00,  5.84it/s]"
     ]
    },
    {
     "name": "stdout",
     "output_type": "stream",
     "text": [
      "                   all        376        663      0.582      0.685      0.672      0.447\n"
     ]
    },
    {
     "name": "stderr",
     "output_type": "stream",
     "text": [
      "\n"
     ]
    },
    {
     "name": "stdout",
     "output_type": "stream",
     "text": [
      "\n",
      "      Epoch    GPU_mem   box_loss   cls_loss   dfl_loss  Instances       Size\n"
     ]
    },
    {
     "name": "stderr",
     "output_type": "stream",
     "text": [
      "     62/100      2.95G     0.9792     0.9921      1.391         10        640: 100%|██████████| 222/222 [00:52<00:00,  4.20it/s]\n",
      "                 Class     Images  Instances      Box(P          R      mAP50  mAP50-95): 100%|██████████| 24/24 [00:04<00:00,  5.91it/s]"
     ]
    },
    {
     "name": "stdout",
     "output_type": "stream",
     "text": [
      "                   all        376        663      0.618      0.678      0.681      0.456\n"
     ]
    },
    {
     "name": "stderr",
     "output_type": "stream",
     "text": [
      "\n"
     ]
    },
    {
     "name": "stdout",
     "output_type": "stream",
     "text": [
      "\n",
      "      Epoch    GPU_mem   box_loss   cls_loss   dfl_loss  Instances       Size\n"
     ]
    },
    {
     "name": "stderr",
     "output_type": "stream",
     "text": [
      "     63/100      2.93G     0.9709     0.9734      1.393          4        640: 100%|██████████| 222/222 [00:52<00:00,  4.25it/s]\n",
      "                 Class     Images  Instances      Box(P          R      mAP50  mAP50-95): 100%|██████████| 24/24 [00:04<00:00,  5.95it/s]"
     ]
    },
    {
     "name": "stdout",
     "output_type": "stream",
     "text": [
      "                   all        376        663      0.649        0.7       0.69      0.469\n"
     ]
    },
    {
     "name": "stderr",
     "output_type": "stream",
     "text": [
      "\n"
     ]
    },
    {
     "name": "stdout",
     "output_type": "stream",
     "text": [
      "\n",
      "      Epoch    GPU_mem   box_loss   cls_loss   dfl_loss  Instances       Size\n"
     ]
    },
    {
     "name": "stderr",
     "output_type": "stream",
     "text": [
      "     64/100      2.96G     0.9879     0.9661      1.405          6        640: 100%|██████████| 222/222 [00:52<00:00,  4.26it/s]\n",
      "                 Class     Images  Instances      Box(P          R      mAP50  mAP50-95): 100%|██████████| 24/24 [00:04<00:00,  5.89it/s]"
     ]
    },
    {
     "name": "stdout",
     "output_type": "stream",
     "text": [
      "                   all        376        663      0.625       0.71      0.691      0.466\n"
     ]
    },
    {
     "name": "stderr",
     "output_type": "stream",
     "text": [
      "\n"
     ]
    },
    {
     "name": "stdout",
     "output_type": "stream",
     "text": [
      "\n",
      "      Epoch    GPU_mem   box_loss   cls_loss   dfl_loss  Instances       Size\n"
     ]
    },
    {
     "name": "stderr",
     "output_type": "stream",
     "text": [
      "     65/100      2.95G     0.9689     0.9384        1.4          9        640: 100%|██████████| 222/222 [00:52<00:00,  4.26it/s]\n",
      "                 Class     Images  Instances      Box(P          R      mAP50  mAP50-95): 100%|██████████| 24/24 [00:04<00:00,  5.99it/s]"
     ]
    },
    {
     "name": "stdout",
     "output_type": "stream",
     "text": [
      "                   all        376        663      0.621      0.696      0.658      0.437\n"
     ]
    },
    {
     "name": "stderr",
     "output_type": "stream",
     "text": [
      "\n"
     ]
    },
    {
     "name": "stdout",
     "output_type": "stream",
     "text": [
      "\n",
      "      Epoch    GPU_mem   box_loss   cls_loss   dfl_loss  Instances       Size\n"
     ]
    },
    {
     "name": "stderr",
     "output_type": "stream",
     "text": [
      "     66/100      2.95G     0.9603      0.942      1.395          6        640: 100%|██████████| 222/222 [00:52<00:00,  4.22it/s]\n",
      "                 Class     Images  Instances      Box(P          R      mAP50  mAP50-95): 100%|██████████| 24/24 [00:04<00:00,  5.79it/s]"
     ]
    },
    {
     "name": "stdout",
     "output_type": "stream",
     "text": [
      "                   all        376        663      0.649      0.692      0.685      0.453\n"
     ]
    },
    {
     "name": "stderr",
     "output_type": "stream",
     "text": [
      "\n"
     ]
    },
    {
     "name": "stdout",
     "output_type": "stream",
     "text": [
      "\n",
      "      Epoch    GPU_mem   box_loss   cls_loss   dfl_loss  Instances       Size\n"
     ]
    },
    {
     "name": "stderr",
     "output_type": "stream",
     "text": [
      "     67/100      2.93G     0.9597     0.9257      1.395          4        640: 100%|██████████| 222/222 [00:52<00:00,  4.21it/s]\n",
      "                 Class     Images  Instances      Box(P          R      mAP50  mAP50-95): 100%|██████████| 24/24 [00:04<00:00,  5.89it/s]"
     ]
    },
    {
     "name": "stdout",
     "output_type": "stream",
     "text": [
      "                   all        376        663      0.628      0.716      0.697      0.462\n"
     ]
    },
    {
     "name": "stderr",
     "output_type": "stream",
     "text": [
      "\n"
     ]
    },
    {
     "name": "stdout",
     "output_type": "stream",
     "text": [
      "\n",
      "      Epoch    GPU_mem   box_loss   cls_loss   dfl_loss  Instances       Size\n"
     ]
    },
    {
     "name": "stderr",
     "output_type": "stream",
     "text": [
      "     68/100      2.96G     0.9609     0.9498      1.388         10        640: 100%|██████████| 222/222 [00:52<00:00,  4.20it/s]\n",
      "                 Class     Images  Instances      Box(P          R      mAP50  mAP50-95): 100%|██████████| 24/24 [00:04<00:00,  5.79it/s]"
     ]
    },
    {
     "name": "stdout",
     "output_type": "stream",
     "text": [
      "                   all        376        663      0.622      0.667      0.687       0.45\n"
     ]
    },
    {
     "name": "stderr",
     "output_type": "stream",
     "text": [
      "\n"
     ]
    },
    {
     "name": "stdout",
     "output_type": "stream",
     "text": [
      "\n",
      "      Epoch    GPU_mem   box_loss   cls_loss   dfl_loss  Instances       Size\n"
     ]
    },
    {
     "name": "stderr",
     "output_type": "stream",
     "text": [
      "     69/100      2.95G     0.9495      0.916      1.397         11        640: 100%|██████████| 222/222 [00:52<00:00,  4.19it/s]\n",
      "                 Class     Images  Instances      Box(P          R      mAP50  mAP50-95): 100%|██████████| 24/24 [00:04<00:00,  5.96it/s]"
     ]
    },
    {
     "name": "stdout",
     "output_type": "stream",
     "text": [
      "                   all        376        663      0.647      0.693      0.693      0.463\n"
     ]
    },
    {
     "name": "stderr",
     "output_type": "stream",
     "text": [
      "\n"
     ]
    },
    {
     "name": "stdout",
     "output_type": "stream",
     "text": [
      "\n",
      "      Epoch    GPU_mem   box_loss   cls_loss   dfl_loss  Instances       Size\n"
     ]
    },
    {
     "name": "stderr",
     "output_type": "stream",
     "text": [
      "     70/100      2.95G     0.9354     0.8942      1.378          4        640: 100%|██████████| 222/222 [00:52<00:00,  4.22it/s]\n",
      "                 Class     Images  Instances      Box(P          R      mAP50  mAP50-95): 100%|██████████| 24/24 [00:04<00:00,  5.84it/s]"
     ]
    },
    {
     "name": "stdout",
     "output_type": "stream",
     "text": [
      "                   all        376        663      0.689      0.625      0.703      0.473\n"
     ]
    },
    {
     "name": "stderr",
     "output_type": "stream",
     "text": [
      "\n"
     ]
    },
    {
     "name": "stdout",
     "output_type": "stream",
     "text": [
      "\n",
      "      Epoch    GPU_mem   box_loss   cls_loss   dfl_loss  Instances       Size\n"
     ]
    },
    {
     "name": "stderr",
     "output_type": "stream",
     "text": [
      "     71/100      2.93G     0.9179     0.8995      1.367          6        640: 100%|██████████| 222/222 [00:53<00:00,  4.18it/s]\n",
      "                 Class     Images  Instances      Box(P          R      mAP50  mAP50-95): 100%|██████████| 24/24 [00:03<00:00,  6.04it/s]"
     ]
    },
    {
     "name": "stdout",
     "output_type": "stream",
     "text": [
      "                   all        376        663      0.561      0.739      0.701      0.473\n"
     ]
    },
    {
     "name": "stderr",
     "output_type": "stream",
     "text": [
      "\n"
     ]
    },
    {
     "name": "stdout",
     "output_type": "stream",
     "text": [
      "\n",
      "      Epoch    GPU_mem   box_loss   cls_loss   dfl_loss  Instances       Size\n"
     ]
    },
    {
     "name": "stderr",
     "output_type": "stream",
     "text": [
      "     72/100      2.96G     0.9324     0.8854      1.386          4        640: 100%|██████████| 222/222 [00:52<00:00,  4.24it/s]\n",
      "                 Class     Images  Instances      Box(P          R      mAP50  mAP50-95): 100%|██████████| 24/24 [00:04<00:00,  5.85it/s]"
     ]
    },
    {
     "name": "stdout",
     "output_type": "stream",
     "text": [
      "                   all        376        663      0.704      0.587      0.681      0.465\n"
     ]
    },
    {
     "name": "stderr",
     "output_type": "stream",
     "text": [
      "\n"
     ]
    },
    {
     "name": "stdout",
     "output_type": "stream",
     "text": [
      "\n",
      "      Epoch    GPU_mem   box_loss   cls_loss   dfl_loss  Instances       Size\n"
     ]
    },
    {
     "name": "stderr",
     "output_type": "stream",
     "text": [
      "     73/100      2.95G     0.9364      0.878      1.364         12        640: 100%|██████████| 222/222 [00:52<00:00,  4.20it/s]\n",
      "                 Class     Images  Instances      Box(P          R      mAP50  mAP50-95): 100%|██████████| 24/24 [00:04<00:00,  5.80it/s]"
     ]
    },
    {
     "name": "stdout",
     "output_type": "stream",
     "text": [
      "                   all        376        663       0.63      0.668      0.696      0.471\n"
     ]
    },
    {
     "name": "stderr",
     "output_type": "stream",
     "text": [
      "\n"
     ]
    },
    {
     "name": "stdout",
     "output_type": "stream",
     "text": [
      "\n",
      "      Epoch    GPU_mem   box_loss   cls_loss   dfl_loss  Instances       Size\n"
     ]
    },
    {
     "name": "stderr",
     "output_type": "stream",
     "text": [
      "     74/100      2.95G     0.9376     0.8987      1.366         21        640: 100%|██████████| 222/222 [00:52<00:00,  4.25it/s]\n",
      "                 Class     Images  Instances      Box(P          R      mAP50  mAP50-95): 100%|██████████| 24/24 [00:04<00:00,  5.73it/s]"
     ]
    },
    {
     "name": "stdout",
     "output_type": "stream",
     "text": [
      "                   all        376        663      0.592      0.693      0.689      0.471\n"
     ]
    },
    {
     "name": "stderr",
     "output_type": "stream",
     "text": [
      "\n"
     ]
    },
    {
     "name": "stdout",
     "output_type": "stream",
     "text": [
      "\n",
      "      Epoch    GPU_mem   box_loss   cls_loss   dfl_loss  Instances       Size\n"
     ]
    },
    {
     "name": "stderr",
     "output_type": "stream",
     "text": [
      "     75/100      2.93G     0.9115     0.8761      1.346         14        640: 100%|██████████| 222/222 [00:52<00:00,  4.24it/s]\n",
      "                 Class     Images  Instances      Box(P          R      mAP50  mAP50-95): 100%|██████████| 24/24 [00:04<00:00,  5.90it/s]"
     ]
    },
    {
     "name": "stdout",
     "output_type": "stream",
     "text": [
      "                   all        376        663       0.65      0.654      0.695      0.476\n"
     ]
    },
    {
     "name": "stderr",
     "output_type": "stream",
     "text": [
      "\n"
     ]
    },
    {
     "name": "stdout",
     "output_type": "stream",
     "text": [
      "\n",
      "      Epoch    GPU_mem   box_loss   cls_loss   dfl_loss  Instances       Size\n"
     ]
    },
    {
     "name": "stderr",
     "output_type": "stream",
     "text": [
      "     76/100      2.96G     0.9049     0.8326      1.358         10        640: 100%|██████████| 222/222 [00:52<00:00,  4.20it/s]\n",
      "                 Class     Images  Instances      Box(P          R      mAP50  mAP50-95): 100%|██████████| 24/24 [00:03<00:00,  6.08it/s]"
     ]
    },
    {
     "name": "stdout",
     "output_type": "stream",
     "text": [
      "                   all        376        663      0.623      0.718      0.706      0.474\n"
     ]
    },
    {
     "name": "stderr",
     "output_type": "stream",
     "text": [
      "\n"
     ]
    },
    {
     "name": "stdout",
     "output_type": "stream",
     "text": [
      "\n",
      "      Epoch    GPU_mem   box_loss   cls_loss   dfl_loss  Instances       Size\n"
     ]
    },
    {
     "name": "stderr",
     "output_type": "stream",
     "text": [
      "     77/100      2.95G     0.9159     0.8546      1.369          4        640: 100%|██████████| 222/222 [00:52<00:00,  4.23it/s]\n",
      "                 Class     Images  Instances      Box(P          R      mAP50  mAP50-95): 100%|██████████| 24/24 [00:04<00:00,  5.86it/s]"
     ]
    },
    {
     "name": "stdout",
     "output_type": "stream",
     "text": [
      "                   all        376        663      0.618      0.694      0.679      0.464\n"
     ]
    },
    {
     "name": "stderr",
     "output_type": "stream",
     "text": [
      "\n"
     ]
    },
    {
     "name": "stdout",
     "output_type": "stream",
     "text": [
      "\n",
      "      Epoch    GPU_mem   box_loss   cls_loss   dfl_loss  Instances       Size\n"
     ]
    },
    {
     "name": "stderr",
     "output_type": "stream",
     "text": [
      "     78/100      2.95G     0.9106     0.8448      1.348          5        640: 100%|██████████| 222/222 [00:52<00:00,  4.23it/s]\n",
      "                 Class     Images  Instances      Box(P          R      mAP50  mAP50-95): 100%|██████████| 24/24 [00:03<00:00,  6.09it/s]"
     ]
    },
    {
     "name": "stdout",
     "output_type": "stream",
     "text": [
      "                   all        376        663      0.613      0.694      0.683       0.46\n"
     ]
    },
    {
     "name": "stderr",
     "output_type": "stream",
     "text": [
      "\n"
     ]
    },
    {
     "name": "stdout",
     "output_type": "stream",
     "text": [
      "\n",
      "      Epoch    GPU_mem   box_loss   cls_loss   dfl_loss  Instances       Size\n"
     ]
    },
    {
     "name": "stderr",
     "output_type": "stream",
     "text": [
      "     79/100      2.93G     0.8936     0.8221      1.349          6        640: 100%|██████████| 222/222 [00:53<00:00,  4.18it/s]\n",
      "                 Class     Images  Instances      Box(P          R      mAP50  mAP50-95): 100%|██████████| 24/24 [00:04<00:00,  5.67it/s]"
     ]
    },
    {
     "name": "stdout",
     "output_type": "stream",
     "text": [
      "                   all        376        663      0.621      0.723      0.685      0.467\n"
     ]
    },
    {
     "name": "stderr",
     "output_type": "stream",
     "text": [
      "\n"
     ]
    },
    {
     "name": "stdout",
     "output_type": "stream",
     "text": [
      "\n",
      "      Epoch    GPU_mem   box_loss   cls_loss   dfl_loss  Instances       Size\n"
     ]
    },
    {
     "name": "stderr",
     "output_type": "stream",
     "text": [
      "     80/100      2.96G     0.9194     0.8537       1.37          1        640: 100%|██████████| 222/222 [00:52<00:00,  4.22it/s]\n",
      "                 Class     Images  Instances      Box(P          R      mAP50  mAP50-95): 100%|██████████| 24/24 [00:04<00:00,  5.93it/s]"
     ]
    },
    {
     "name": "stdout",
     "output_type": "stream",
     "text": [
      "                   all        376        663      0.648      0.655      0.693      0.474\n"
     ]
    },
    {
     "name": "stderr",
     "output_type": "stream",
     "text": [
      "\n"
     ]
    },
    {
     "name": "stdout",
     "output_type": "stream",
     "text": [
      "\n",
      "      Epoch    GPU_mem   box_loss   cls_loss   dfl_loss  Instances       Size\n"
     ]
    },
    {
     "name": "stderr",
     "output_type": "stream",
     "text": [
      "     81/100      2.95G     0.8772     0.8373      1.337          2        640: 100%|██████████| 222/222 [00:52<00:00,  4.20it/s]\n",
      "                 Class     Images  Instances      Box(P          R      mAP50  mAP50-95): 100%|██████████| 24/24 [00:04<00:00,  5.82it/s]"
     ]
    },
    {
     "name": "stdout",
     "output_type": "stream",
     "text": [
      "                   all        376        663      0.672      0.612      0.687      0.468\n"
     ]
    },
    {
     "name": "stderr",
     "output_type": "stream",
     "text": [
      "\n"
     ]
    },
    {
     "name": "stdout",
     "output_type": "stream",
     "text": [
      "\n",
      "      Epoch    GPU_mem   box_loss   cls_loss   dfl_loss  Instances       Size\n"
     ]
    },
    {
     "name": "stderr",
     "output_type": "stream",
     "text": [
      "     82/100      2.95G     0.8838     0.8085      1.338          2        640: 100%|██████████| 222/222 [00:52<00:00,  4.22it/s]\n",
      "                 Class     Images  Instances      Box(P          R      mAP50  mAP50-95): 100%|██████████| 24/24 [00:04<00:00,  5.93it/s]"
     ]
    },
    {
     "name": "stdout",
     "output_type": "stream",
     "text": [
      "                   all        376        663      0.728      0.605      0.703      0.479\n"
     ]
    },
    {
     "name": "stderr",
     "output_type": "stream",
     "text": [
      "\n"
     ]
    },
    {
     "name": "stdout",
     "output_type": "stream",
     "text": [
      "\n",
      "      Epoch    GPU_mem   box_loss   cls_loss   dfl_loss  Instances       Size\n"
     ]
    },
    {
     "name": "stderr",
     "output_type": "stream",
     "text": [
      "     83/100      2.93G     0.8785     0.8024      1.344         21        640: 100%|██████████| 222/222 [00:53<00:00,  4.19it/s]\n",
      "                 Class     Images  Instances      Box(P          R      mAP50  mAP50-95): 100%|██████████| 24/24 [00:04<00:00,  5.85it/s]"
     ]
    },
    {
     "name": "stdout",
     "output_type": "stream",
     "text": [
      "                   all        376        663      0.634      0.688      0.697      0.475\n"
     ]
    },
    {
     "name": "stderr",
     "output_type": "stream",
     "text": [
      "\n"
     ]
    },
    {
     "name": "stdout",
     "output_type": "stream",
     "text": [
      "\n",
      "      Epoch    GPU_mem   box_loss   cls_loss   dfl_loss  Instances       Size\n"
     ]
    },
    {
     "name": "stderr",
     "output_type": "stream",
     "text": [
      "     84/100      2.96G     0.8804      0.811      1.337          6        640: 100%|██████████| 222/222 [00:51<00:00,  4.28it/s]\n",
      "                 Class     Images  Instances      Box(P          R      mAP50  mAP50-95): 100%|██████████| 24/24 [00:04<00:00,  5.81it/s]"
     ]
    },
    {
     "name": "stdout",
     "output_type": "stream",
     "text": [
      "                   all        376        663      0.652      0.648      0.684      0.471\n"
     ]
    },
    {
     "name": "stderr",
     "output_type": "stream",
     "text": [
      "\n"
     ]
    },
    {
     "name": "stdout",
     "output_type": "stream",
     "text": [
      "\n",
      "      Epoch    GPU_mem   box_loss   cls_loss   dfl_loss  Instances       Size\n"
     ]
    },
    {
     "name": "stderr",
     "output_type": "stream",
     "text": [
      "     85/100      2.95G     0.8527     0.7795      1.313          3        640: 100%|██████████| 222/222 [00:52<00:00,  4.21it/s]\n",
      "                 Class     Images  Instances      Box(P          R      mAP50  mAP50-95): 100%|██████████| 24/24 [00:04<00:00,  5.96it/s]"
     ]
    },
    {
     "name": "stdout",
     "output_type": "stream",
     "text": [
      "                   all        376        663      0.654      0.664      0.685      0.473\n"
     ]
    },
    {
     "name": "stderr",
     "output_type": "stream",
     "text": [
      "\n"
     ]
    },
    {
     "name": "stdout",
     "output_type": "stream",
     "text": [
      "\n",
      "      Epoch    GPU_mem   box_loss   cls_loss   dfl_loss  Instances       Size\n"
     ]
    },
    {
     "name": "stderr",
     "output_type": "stream",
     "text": [
      "     86/100      2.95G     0.8457     0.7711      1.296          8        640: 100%|██████████| 222/222 [00:52<00:00,  4.22it/s]\n",
      "                 Class     Images  Instances      Box(P          R      mAP50  mAP50-95): 100%|██████████| 24/24 [00:03<00:00,  6.05it/s]"
     ]
    },
    {
     "name": "stdout",
     "output_type": "stream",
     "text": [
      "                   all        376        663      0.622      0.682      0.699      0.482\n"
     ]
    },
    {
     "name": "stderr",
     "output_type": "stream",
     "text": [
      "\n"
     ]
    },
    {
     "name": "stdout",
     "output_type": "stream",
     "text": [
      "\n",
      "      Epoch    GPU_mem   box_loss   cls_loss   dfl_loss  Instances       Size\n"
     ]
    },
    {
     "name": "stderr",
     "output_type": "stream",
     "text": [
      "     87/100      2.93G      0.852     0.7586      1.299          7        640: 100%|██████████| 222/222 [00:51<00:00,  4.28it/s]\n",
      "                 Class     Images  Instances      Box(P          R      mAP50  mAP50-95): 100%|██████████| 24/24 [00:04<00:00,  5.93it/s]"
     ]
    },
    {
     "name": "stdout",
     "output_type": "stream",
     "text": [
      "                   all        376        663      0.692      0.633      0.704      0.482\n"
     ]
    },
    {
     "name": "stderr",
     "output_type": "stream",
     "text": [
      "\n"
     ]
    },
    {
     "name": "stdout",
     "output_type": "stream",
     "text": [
      "\n",
      "      Epoch    GPU_mem   box_loss   cls_loss   dfl_loss  Instances       Size\n"
     ]
    },
    {
     "name": "stderr",
     "output_type": "stream",
     "text": [
      "     88/100      2.96G     0.8491     0.7526        1.3         16        640: 100%|██████████| 222/222 [00:52<00:00,  4.24it/s]\n",
      "                 Class     Images  Instances      Box(P          R      mAP50  mAP50-95): 100%|██████████| 24/24 [00:03<00:00,  6.06it/s]"
     ]
    },
    {
     "name": "stdout",
     "output_type": "stream",
     "text": [
      "                   all        376        663      0.633      0.704      0.699      0.479\n"
     ]
    },
    {
     "name": "stderr",
     "output_type": "stream",
     "text": [
      "\n"
     ]
    },
    {
     "name": "stdout",
     "output_type": "stream",
     "text": [
      "\n",
      "      Epoch    GPU_mem   box_loss   cls_loss   dfl_loss  Instances       Size\n"
     ]
    },
    {
     "name": "stderr",
     "output_type": "stream",
     "text": [
      "     89/100      2.95G     0.8583     0.7738      1.314         20        640: 100%|██████████| 222/222 [00:53<00:00,  4.14it/s]\n",
      "                 Class     Images  Instances      Box(P          R      mAP50  mAP50-95): 100%|██████████| 24/24 [00:04<00:00,  5.86it/s]"
     ]
    },
    {
     "name": "stdout",
     "output_type": "stream",
     "text": [
      "                   all        376        663      0.658      0.667      0.702      0.483\n"
     ]
    },
    {
     "name": "stderr",
     "output_type": "stream",
     "text": [
      "\n"
     ]
    },
    {
     "name": "stdout",
     "output_type": "stream",
     "text": [
      "\n",
      "      Epoch    GPU_mem   box_loss   cls_loss   dfl_loss  Instances       Size\n"
     ]
    },
    {
     "name": "stderr",
     "output_type": "stream",
     "text": [
      "     90/100      2.96G     0.8384     0.7455      1.303         15        640: 100%|██████████| 222/222 [00:52<00:00,  4.23it/s]\n",
      "                 Class     Images  Instances      Box(P          R      mAP50  mAP50-95): 100%|██████████| 24/24 [00:04<00:00,  5.88it/s]"
     ]
    },
    {
     "name": "stdout",
     "output_type": "stream",
     "text": [
      "                   all        376        663      0.664      0.661      0.701       0.48\n"
     ]
    },
    {
     "name": "stderr",
     "output_type": "stream",
     "text": [
      "\n"
     ]
    },
    {
     "name": "stdout",
     "output_type": "stream",
     "text": [
      "Closing dataloader mosaic\n",
      "\n",
      "      Epoch    GPU_mem   box_loss   cls_loss   dfl_loss  Instances       Size\n"
     ]
    },
    {
     "name": "stderr",
     "output_type": "stream",
     "text": [
      "     91/100      2.94G     0.7592     0.6521      1.283         14        640: 100%|██████████| 222/222 [00:52<00:00,  4.21it/s]\n",
      "                 Class     Images  Instances      Box(P          R      mAP50  mAP50-95): 100%|██████████| 24/24 [00:04<00:00,  5.80it/s]"
     ]
    },
    {
     "name": "stdout",
     "output_type": "stream",
     "text": [
      "                   all        376        663      0.639      0.678      0.694      0.474\n"
     ]
    },
    {
     "name": "stderr",
     "output_type": "stream",
     "text": [
      "\n"
     ]
    },
    {
     "name": "stdout",
     "output_type": "stream",
     "text": [
      "\n",
      "      Epoch    GPU_mem   box_loss   cls_loss   dfl_loss  Instances       Size\n"
     ]
    },
    {
     "name": "stderr",
     "output_type": "stream",
     "text": [
      "     92/100      2.96G     0.7539      0.637      1.271          5        640: 100%|██████████| 222/222 [00:52<00:00,  4.26it/s]\n",
      "                 Class     Images  Instances      Box(P          R      mAP50  mAP50-95): 100%|██████████| 24/24 [00:04<00:00,  5.84it/s]"
     ]
    },
    {
     "name": "stdout",
     "output_type": "stream",
     "text": [
      "                   all        376        663      0.607      0.673      0.692      0.475\n"
     ]
    },
    {
     "name": "stderr",
     "output_type": "stream",
     "text": [
      "\n"
     ]
    },
    {
     "name": "stdout",
     "output_type": "stream",
     "text": [
      "\n",
      "      Epoch    GPU_mem   box_loss   cls_loss   dfl_loss  Instances       Size\n"
     ]
    },
    {
     "name": "stderr",
     "output_type": "stream",
     "text": [
      "     93/100      2.95G     0.7412     0.6101      1.248          6        640: 100%|██████████| 222/222 [00:52<00:00,  4.26it/s]\n",
      "                 Class     Images  Instances      Box(P          R      mAP50  mAP50-95): 100%|██████████| 24/24 [00:03<00:00,  6.01it/s]"
     ]
    },
    {
     "name": "stdout",
     "output_type": "stream",
     "text": [
      "                   all        376        663      0.654      0.662      0.696      0.477\n"
     ]
    },
    {
     "name": "stderr",
     "output_type": "stream",
     "text": [
      "\n"
     ]
    },
    {
     "name": "stdout",
     "output_type": "stream",
     "text": [
      "\n",
      "      Epoch    GPU_mem   box_loss   cls_loss   dfl_loss  Instances       Size\n"
     ]
    },
    {
     "name": "stderr",
     "output_type": "stream",
     "text": [
      "     94/100      2.95G     0.7195     0.5929      1.239          1        640: 100%|██████████| 222/222 [00:52<00:00,  4.24it/s]\n",
      "                 Class     Images  Instances      Box(P          R      mAP50  mAP50-95): 100%|██████████| 24/24 [00:03<00:00,  6.02it/s]"
     ]
    },
    {
     "name": "stdout",
     "output_type": "stream",
     "text": [
      "                   all        376        663      0.657      0.634      0.685      0.472\n"
     ]
    },
    {
     "name": "stderr",
     "output_type": "stream",
     "text": [
      "\n"
     ]
    },
    {
     "name": "stdout",
     "output_type": "stream",
     "text": [
      "\n",
      "      Epoch    GPU_mem   box_loss   cls_loss   dfl_loss  Instances       Size\n"
     ]
    },
    {
     "name": "stderr",
     "output_type": "stream",
     "text": [
      "     95/100      2.93G     0.7192     0.5899      1.245          6        640: 100%|██████████| 222/222 [00:52<00:00,  4.22it/s]\n",
      "                 Class     Images  Instances      Box(P          R      mAP50  mAP50-95): 100%|██████████| 24/24 [00:03<00:00,  6.03it/s]"
     ]
    },
    {
     "name": "stdout",
     "output_type": "stream",
     "text": [
      "                   all        376        663      0.665      0.612      0.695      0.477\n"
     ]
    },
    {
     "name": "stderr",
     "output_type": "stream",
     "text": [
      "\n"
     ]
    },
    {
     "name": "stdout",
     "output_type": "stream",
     "text": [
      "\n",
      "      Epoch    GPU_mem   box_loss   cls_loss   dfl_loss  Instances       Size\n"
     ]
    },
    {
     "name": "stderr",
     "output_type": "stream",
     "text": [
      "     96/100      2.96G     0.7075     0.5855      1.236          3        640: 100%|██████████| 222/222 [00:52<00:00,  4.22it/s]\n",
      "                 Class     Images  Instances      Box(P          R      mAP50  mAP50-95): 100%|██████████| 24/24 [00:04<00:00,  5.76it/s]"
     ]
    },
    {
     "name": "stdout",
     "output_type": "stream",
     "text": [
      "                   all        376        663      0.636      0.651      0.701      0.478\n"
     ]
    },
    {
     "name": "stderr",
     "output_type": "stream",
     "text": [
      "\n"
     ]
    },
    {
     "name": "stdout",
     "output_type": "stream",
     "text": [
      "\n",
      "      Epoch    GPU_mem   box_loss   cls_loss   dfl_loss  Instances       Size\n"
     ]
    },
    {
     "name": "stderr",
     "output_type": "stream",
     "text": [
      "     97/100      2.95G     0.7024     0.5659      1.226          3        640: 100%|██████████| 222/222 [00:51<00:00,  4.27it/s]\n",
      "                 Class     Images  Instances      Box(P          R      mAP50  mAP50-95): 100%|██████████| 24/24 [00:04<00:00,  5.99it/s]"
     ]
    },
    {
     "name": "stdout",
     "output_type": "stream",
     "text": [
      "                   all        376        663      0.677      0.622      0.697      0.479\n"
     ]
    },
    {
     "name": "stderr",
     "output_type": "stream",
     "text": [
      "\n"
     ]
    },
    {
     "name": "stdout",
     "output_type": "stream",
     "text": [
      "\n",
      "      Epoch    GPU_mem   box_loss   cls_loss   dfl_loss  Instances       Size\n"
     ]
    },
    {
     "name": "stderr",
     "output_type": "stream",
     "text": [
      "     98/100      2.95G     0.6962       0.56      1.222          4        640: 100%|██████████| 222/222 [00:52<00:00,  4.21it/s]\n",
      "                 Class     Images  Instances      Box(P          R      mAP50  mAP50-95): 100%|██████████| 24/24 [00:04<00:00,  5.99it/s]"
     ]
    },
    {
     "name": "stdout",
     "output_type": "stream",
     "text": [
      "                   all        376        663      0.654      0.638      0.704      0.486\n"
     ]
    },
    {
     "name": "stderr",
     "output_type": "stream",
     "text": [
      "\n"
     ]
    },
    {
     "name": "stdout",
     "output_type": "stream",
     "text": [
      "\n",
      "      Epoch    GPU_mem   box_loss   cls_loss   dfl_loss  Instances       Size\n"
     ]
    },
    {
     "name": "stderr",
     "output_type": "stream",
     "text": [
      "     99/100      2.93G     0.7012     0.5651      1.223          2        640: 100%|██████████| 222/222 [00:52<00:00,  4.27it/s]\n",
      "                 Class     Images  Instances      Box(P          R      mAP50  mAP50-95): 100%|██████████| 24/24 [00:03<00:00,  6.02it/s]"
     ]
    },
    {
     "name": "stdout",
     "output_type": "stream",
     "text": [
      "                   all        376        663      0.636      0.675      0.702      0.484\n"
     ]
    },
    {
     "name": "stderr",
     "output_type": "stream",
     "text": [
      "\n"
     ]
    },
    {
     "name": "stdout",
     "output_type": "stream",
     "text": [
      "\n",
      "      Epoch    GPU_mem   box_loss   cls_loss   dfl_loss  Instances       Size\n"
     ]
    },
    {
     "name": "stderr",
     "output_type": "stream",
     "text": [
      "    100/100      2.96G     0.7012      0.577      1.223          1        640: 100%|██████████| 222/222 [00:53<00:00,  4.13it/s]\n",
      "                 Class     Images  Instances      Box(P          R      mAP50  mAP50-95): 100%|██████████| 24/24 [00:04<00:00,  5.83it/s]"
     ]
    },
    {
     "name": "stdout",
     "output_type": "stream",
     "text": [
      "                   all        376        663       0.66      0.653      0.698      0.484\n"
     ]
    },
    {
     "name": "stderr",
     "output_type": "stream",
     "text": [
      "\n"
     ]
    },
    {
     "name": "stdout",
     "output_type": "stream",
     "text": [
      "\n",
      "100 epochs completed in 1.637 hours.\n",
      "Optimizer stripped from runs\\detect\\train\\weights\\last.pt, 15.2MB\n",
      "Optimizer stripped from runs\\detect\\train\\weights\\best.pt, 15.2MB\n",
      "\n",
      "Validating runs\\detect\\train\\weights\\best.pt...\n",
      "Ultralytics YOLOv8.2.58  Python-3.11.8 torch-2.3.0+cu118 CUDA:0 (NVIDIA GeForce RTX 3060 Laptop GPU, 6144MiB)\n",
      "YOLOv9s summary (fused): 486 layers, 7,169,023 parameters, 0 gradients, 26.7 GFLOPs\n"
     ]
    },
    {
     "name": "stderr",
     "output_type": "stream",
     "text": [
      "                 Class     Images  Instances      Box(P          R      mAP50  mAP50-95): 100%|██████████| 24/24 [00:03<00:00,  6.23it/s]\n"
     ]
    },
    {
     "name": "stdout",
     "output_type": "stream",
     "text": [
      "                   all        376        663      0.656      0.638      0.704      0.486\n",
      "                Carrot         69         85      0.571      0.588       0.63      0.399\n",
      "                Cheese         72        140      0.811       0.86      0.912      0.661\n",
      "                   Egg         37         97      0.598      0.643      0.662      0.544\n",
      "                Potato         84        260      0.712      0.503      0.641      0.366\n",
      "              Zucchini         71         81      0.587      0.597      0.676      0.461\n",
      "Speed: 0.2ms preprocess, 5.3ms inference, 0.0ms loss, 1.1ms postprocess per image\n",
      "Results saved to \u001b[1mruns\\detect\\train\u001b[0m\n",
      "\n",
      "image 1/214 c:\\Users\\hxxzi\\Desktop\\GitHub\\final-project\\8\\data\\1\\test\\images\\003772501_01_jpg.rf.a48e3bb91b87a40d1e93e85808ad0f2f.jpg: 640x640 2 Cheeses, 48.6ms\n",
      "image 2/214 c:\\Users\\hxxzi\\Desktop\\GitHub\\final-project\\8\\data\\1\\test\\images\\00863c5b0017c8f0_jpg.rf.a515604fc1c79262f0bee551ae05f448.jpg: 640x640 1 Zucchini, 50.2ms\n",
      "image 3/214 c:\\Users\\hxxzi\\Desktop\\GitHub\\final-project\\8\\data\\1\\test\\images\\014119e9ab7e4749_jpg.rf.d77b68a5a6259a7dfd9278460da12a43.jpg: 640x640 (no detections), 42.3ms\n",
      "image 4/214 c:\\Users\\hxxzi\\Desktop\\GitHub\\final-project\\8\\data\\1\\test\\images\\0194aa492ab85eb0_jpg.rf.4b4221d1ed90dce32078dc03724f9664.jpg: 640x640 (no detections), 37.3ms\n",
      "image 5/214 c:\\Users\\hxxzi\\Desktop\\GitHub\\final-project\\8\\data\\1\\test\\images\\0208b8b46ece7305_jpg.rf.c90245fb00bd7fc6577eb72a24975832.jpg: 640x640 1 Cheese, 37.4ms\n",
      "image 6/214 c:\\Users\\hxxzi\\Desktop\\GitHub\\final-project\\8\\data\\1\\test\\images\\028c3acccb1ebed6_jpg.rf.0b03070f0ffff0d5fb2f2a93628ab845.jpg: 640x640 (no detections), 33.9ms\n",
      "image 7/214 c:\\Users\\hxxzi\\Desktop\\GitHub\\final-project\\8\\data\\1\\test\\images\\02ba2f70218094ca_jpg.rf.d73993a267e49106f6f56f26d2c137b5.jpg: 640x640 (no detections), 27.9ms\n",
      "image 8/214 c:\\Users\\hxxzi\\Desktop\\GitHub\\final-project\\8\\data\\1\\test\\images\\03a7b6ed76f251cc_jpg.rf.ee5e6ea783da51fc4441f625cd35a88b.jpg: 640x640 1 Cheese, 29.0ms\n",
      "image 9/214 c:\\Users\\hxxzi\\Desktop\\GitHub\\final-project\\8\\data\\1\\test\\images\\041fb77fb1efa403_jpg.rf.ac04a3d6c2014f09bd3b7fc6c4bae39f.jpg: 640x640 1 Egg, 33.8ms\n",
      "image 10/214 c:\\Users\\hxxzi\\Desktop\\GitHub\\final-project\\8\\data\\1\\test\\images\\073fa6902971de1c_jpg.rf.8639b5cf148d8890034e01c0f7261090.jpg: 640x640 2 Eggs, 29.6ms\n",
      "image 11/214 c:\\Users\\hxxzi\\Desktop\\GitHub\\final-project\\8\\data\\1\\test\\images\\090d72f625fcb259_jpg.rf.49765c35961e03c59d5f2a757e770a94.jpg: 640x640 2 Zucchinis, 30.9ms\n",
      "image 12/214 c:\\Users\\hxxzi\\Desktop\\GitHub\\final-project\\8\\data\\1\\test\\images\\0a5c1c4d15932eb3_jpg.rf.96e0c71832bbf09df39f1fa7005a7975.jpg: 640x640 1 Cheese, 26.1ms\n",
      "image 13/214 c:\\Users\\hxxzi\\Desktop\\GitHub\\final-project\\8\\data\\1\\test\\images\\0b785146cf778a09_jpg.rf.3359b1674b90a7631b4caeacf1e99b19.jpg: 640x640 1 Egg, 35.2ms\n",
      "image 14/214 c:\\Users\\hxxzi\\Desktop\\GitHub\\final-project\\8\\data\\1\\test\\images\\0bf2acbe776d9716_jpg.rf.9a6c1ac425f4fbdc128c8c4bf08740b6.jpg: 640x640 2 Carrots, 36.2ms\n",
      "image 15/214 c:\\Users\\hxxzi\\Desktop\\GitHub\\final-project\\8\\data\\1\\test\\images\\0c98a719935da0df_jpg.rf.d240b9549e577e2b46281955f1d5cbaf.jpg: 640x640 1 Cheese, 1 Egg, 28.1ms\n",
      "image 16/214 c:\\Users\\hxxzi\\Desktop\\GitHub\\final-project\\8\\data\\1\\test\\images\\0d270b925be70197_jpg.rf.cba26f226e8ea1918edfb0902b0d2b1f.jpg: 640x640 1 Potato, 35.1ms\n",
      "image 17/214 c:\\Users\\hxxzi\\Desktop\\GitHub\\final-project\\8\\data\\1\\test\\images\\1000_F_19561376_hRkGjH2PabXEYhY0uF9YK3ZyxW3BUVT2_jpg.rf.7f05c842bdad86bd54bd832450add258.jpg: 640x640 5 Potatos, 27.8ms\n",
      "image 18/214 c:\\Users\\hxxzi\\Desktop\\GitHub\\final-project\\8\\data\\1\\test\\images\\1000_F_19561376_hRkGjH2PabXEYhY0uF9YK3ZyxW3BUVT2_jpg.rf.9c57029689262d2fcdc2518ecf3b1166.jpg: 640x640 5 Potatos, 27.4ms\n",
      "image 19/214 c:\\Users\\hxxzi\\Desktop\\GitHub\\final-project\\8\\data\\1\\test\\images\\1000_F_211374308_so6bEEzY47zFKDFYFxLZG9JWnOX3qbmZ_jpg.rf.320c8e5f43b2d138efe1b4ef9f5d866c.jpg: 640x640 1 Zucchini, 30.0ms\n",
      "image 20/214 c:\\Users\\hxxzi\\Desktop\\GitHub\\final-project\\8\\data\\1\\test\\images\\102029_jpg.rf.2aec51383e433e9f83a49df764510d7d.jpg: 640x640 5 Potatos, 34.0ms\n",
      "image 21/214 c:\\Users\\hxxzi\\Desktop\\GitHub\\final-project\\8\\data\\1\\test\\images\\102029_jpg.rf.7de021d2d580dbbbd2e17bc0adc5e1b0.jpg: 640x640 5 Potatos, 41.6ms\n",
      "image 22/214 c:\\Users\\hxxzi\\Desktop\\GitHub\\final-project\\8\\data\\1\\test\\images\\106887d7e2786be7_jpg.rf.16791535d46bba51ee67c645dec8c519.jpg: 640x640 1 Potato, 26.5ms\n",
      "image 23/214 c:\\Users\\hxxzi\\Desktop\\GitHub\\final-project\\8\\data\\1\\test\\images\\11a0f7d2006fc6ad_jpg.rf.07e4846fd5d31a5488dc98f7fc15454f.jpg: 640x640 1 Egg, 24.9ms\n",
      "image 24/214 c:\\Users\\hxxzi\\Desktop\\GitHub\\final-project\\8\\data\\1\\test\\images\\11ffa891eb810f2f_jpg.rf.ddc5e6bfde08e7144b697d289bc75ee8.jpg: 640x640 (no detections), 25.3ms\n",
      "image 25/214 c:\\Users\\hxxzi\\Desktop\\GitHub\\final-project\\8\\data\\1\\test\\images\\124b352fe4262d24_jpg.rf.e43e915c0017a4534aaa6edb76d949a8.jpg: 640x640 2 Eggs, 2 Potatos, 28.3ms\n",
      "image 26/214 c:\\Users\\hxxzi\\Desktop\\GitHub\\final-project\\8\\data\\1\\test\\images\\1323247979237dd4_jpg.rf.f534da3b11e326890ce6c6ae1989938d.jpg: 640x640 1 Zucchini, 24.9ms\n",
      "image 27/214 c:\\Users\\hxxzi\\Desktop\\GitHub\\final-project\\8\\data\\1\\test\\images\\184054_20171017095054_jpg.rf.544f27fe4ece19f63d704d7da2bc8223.jpg: 640x640 3 Potatos, 26.7ms\n",
      "image 28/214 c:\\Users\\hxxzi\\Desktop\\GitHub\\final-project\\8\\data\\1\\test\\images\\184054_20171017095054_jpg.rf.ee6e0d3b59e3f984a4a0aab49c2ce932.jpg: 640x640 3 Potatos, 25.1ms\n",
      "image 29/214 c:\\Users\\hxxzi\\Desktop\\GitHub\\final-project\\8\\data\\1\\test\\images\\188ed19e29e98888_jpg.rf.9b5bfe2e5d80487ee358ff667ed017ed.jpg: 640x640 1 Egg, 29.0ms\n",
      "image 30/214 c:\\Users\\hxxzi\\Desktop\\GitHub\\final-project\\8\\data\\1\\test\\images\\1b14729e68d739ec_jpg.rf.82c8806ea0ff788a08a513414ca878c2.jpg: 640x640 1 Cheese, 6 Eggs, 44.3ms\n",
      "image 31/214 c:\\Users\\hxxzi\\Desktop\\GitHub\\final-project\\8\\data\\1\\test\\images\\202_jpg.rf.bd938422ce3bbb6cf6b66d9dcebe9a28.jpg: 640x640 4 Cheeses, 24.8ms\n",
      "image 32/214 c:\\Users\\hxxzi\\Desktop\\GitHub\\final-project\\8\\data\\1\\test\\images\\212accd013e5e4a9_jpg.rf.03458bae63f8c3f43e3ba96e15aec4f6.jpg: 640x640 6 Eggs, 35.9ms\n",
      "image 33/214 c:\\Users\\hxxzi\\Desktop\\GitHub\\final-project\\8\\data\\1\\test\\images\\26af6ad806c0df35_jpg.rf.f2ab035678c614aac2ca8e1cbded6646.jpg: 640x640 2 Potatos, 24.6ms\n",
      "image 34/214 c:\\Users\\hxxzi\\Desktop\\GitHub\\final-project\\8\\data\\1\\test\\images\\297b3ee28c61e433_jpg.rf.421ccff74db85383772553bd49880ff5.jpg: 640x640 6 Eggs, 25.2ms\n",
      "image 35/214 c:\\Users\\hxxzi\\Desktop\\GitHub\\final-project\\8\\data\\1\\test\\images\\299b4f950b627797_jpg.rf.f525de083c613575d7fe5b8240278497.jpg: 640x640 3 Potatos, 26.0ms\n",
      "image 36/214 c:\\Users\\hxxzi\\Desktop\\GitHub\\final-project\\8\\data\\1\\test\\images\\3480c7a836c7cde5_jpg.rf.96c5cc4f91339ba7e4d566432d857004.jpg: 640x640 1 Potato, 37.6ms\n",
      "image 37/214 c:\\Users\\hxxzi\\Desktop\\GitHub\\final-project\\8\\data\\1\\test\\images\\34ce622e4adcb9bf_jpg.rf.3f1df81bb3014a548b13812a6dd8c58e.jpg: 640x640 5 Eggs, 25.7ms\n",
      "image 38/214 c:\\Users\\hxxzi\\Desktop\\GitHub\\final-project\\8\\data\\1\\test\\images\\3f4c1e_eacd1490a59b473dbd9448fbee6e158emv2_jpg.rf.bc352474b0d14e274e7e7fd0f63ad2a7.jpg: 640x640 2 Cheeses, 24.9ms\n",
      "image 39/214 c:\\Users\\hxxzi\\Desktop\\GitHub\\final-project\\8\\data\\1\\test\\images\\416f44d67f6da010_jpg.rf.d5a466fb05a47f41f66a695a04fdce22.jpg: 640x640 2 Eggs, 24.9ms\n",
      "image 40/214 c:\\Users\\hxxzi\\Desktop\\GitHub\\final-project\\8\\data\\1\\test\\images\\4645e66f076626d2_jpg.rf.3154457c0c4ed3b62628ed77f4f3d569.jpg: 640x640 6 Eggs, 25.0ms\n",
      "image 41/214 c:\\Users\\hxxzi\\Desktop\\GitHub\\final-project\\8\\data\\1\\test\\images\\49354296e9bfccf5_jpg.rf.1dd9793b21984cd8a9033237834fb5fa.jpg: 640x640 5 Eggs, 24.9ms\n",
      "image 42/214 c:\\Users\\hxxzi\\Desktop\\GitHub\\final-project\\8\\data\\1\\test\\images\\49f819c522e62dd7_jpg.rf.feb5dba416123e85d5db0281dbafa2d3.jpg: 640x640 1 Potato, 24.4ms\n",
      "image 43/214 c:\\Users\\hxxzi\\Desktop\\GitHub\\final-project\\8\\data\\1\\test\\images\\4be7bdcc8525a401_jpg.rf.892571baffe8c34241c51786db55820d.jpg: 640x640 4 Eggs, 37.5ms\n",
      "image 44/214 c:\\Users\\hxxzi\\Desktop\\GitHub\\final-project\\8\\data\\1\\test\\images\\4c49d84094e1de69_jpg.rf.a25e830ad956a7209a125af478ef812b.jpg: 640x640 1 Cheese, 24.9ms\n",
      "image 45/214 c:\\Users\\hxxzi\\Desktop\\GitHub\\final-project\\8\\data\\1\\test\\images\\4ed433e9acf9201e_jpg.rf.fc0010637a2663bbd4e2b93fcec1af79.jpg: 640x640 7 Cheeses, 24.9ms\n",
      "image 46/214 c:\\Users\\hxxzi\\Desktop\\GitHub\\final-project\\8\\data\\1\\test\\images\\504b20e3d3b0b9d1_jpg.rf.9bda3f7bfdc82587e9222b3f802d8364.jpg: 640x640 1 Egg, 29.2ms\n",
      "image 47/214 c:\\Users\\hxxzi\\Desktop\\GitHub\\final-project\\8\\data\\1\\test\\images\\51ARqJXxMNL-_AC_UF10001000_QL80__jpg.rf.4908687bd437cc702241117a5336cf74.jpg: 640x640 3 Potatos, 28.9ms\n",
      "image 48/214 c:\\Users\\hxxzi\\Desktop\\GitHub\\final-project\\8\\data\\1\\test\\images\\51ARqJXxMNL-_AC_UF10001000_QL80__jpg.rf.673a4107fae9cf5cd74b5413f020de16.jpg: 640x640 3 Potatos, 24.9ms\n",
      "image 49/214 c:\\Users\\hxxzi\\Desktop\\GitHub\\final-project\\8\\data\\1\\test\\images\\5554c14a42453e18_jpg.rf.c2a85857cd125ffcda4478c7e021dab8.jpg: 640x640 1 Egg, 28.6ms\n",
      "image 50/214 c:\\Users\\hxxzi\\Desktop\\GitHub\\final-project\\8\\data\\1\\test\\images\\58017038fe30eaea_jpg.rf.b861f0a76c66df5a93f9b416a1eade75.jpg: 640x640 (no detections), 27.0ms\n",
      "image 51/214 c:\\Users\\hxxzi\\Desktop\\GitHub\\final-project\\8\\data\\1\\test\\images\\59ab83048c69d3a4_jpg.rf.80a88e4dfe04c224806d8dc0ae3fa4ba.jpg: 640x640 (no detections), 27.6ms\n",
      "image 52/214 c:\\Users\\hxxzi\\Desktop\\GitHub\\final-project\\8\\data\\1\\test\\images\\5de18fac9279d10b_jpg.rf.ad08ac5432fada031754155c242dca70.jpg: 640x640 2 Potatos, 25.0ms\n",
      "image 53/214 c:\\Users\\hxxzi\\Desktop\\GitHub\\final-project\\8\\data\\1\\test\\images\\5f1c144d21a6c0a9_jpg.rf.e2b1b292c797562590c66e61f36b5b52.jpg: 640x640 5 Potatos, 29.1ms\n",
      "image 54/214 c:\\Users\\hxxzi\\Desktop\\GitHub\\final-project\\8\\data\\1\\test\\images\\60f0ed223545998f_jpg.rf.57794aa5db037ea80dd3e3447444566c.jpg: 640x640 2 Eggs, 21.2ms\n",
      "image 55/214 c:\\Users\\hxxzi\\Desktop\\GitHub\\final-project\\8\\data\\1\\test\\images\\65c306f2c86dde17_jpg.rf.0a5834fb890735020d53e3abf8261428.jpg: 640x640 1 Egg, 25.2ms\n",
      "image 56/214 c:\\Users\\hxxzi\\Desktop\\GitHub\\final-project\\8\\data\\1\\test\\images\\6820afb1ccaf7975_jpg.rf.e3ed260c4e61f07bfd7995038ff4463a.jpg: 640x640 1 Cheese, 24.9ms\n",
      "image 57/214 c:\\Users\\hxxzi\\Desktop\\GitHub\\final-project\\8\\data\\1\\test\\images\\694fca3ada6eb449_jpg.rf.9b2c516c33b4b6e4e267452d30e9ac7b.jpg: 640x640 (no detections), 25.6ms\n",
      "image 58/214 c:\\Users\\hxxzi\\Desktop\\GitHub\\final-project\\8\\data\\1\\test\\images\\69a5cde17fd52ced_jpg.rf.6dfb54c2544fe13f00f150335d53b6ed.jpg: 640x640 2 Cheeses, 25.0ms\n",
      "image 59/214 c:\\Users\\hxxzi\\Desktop\\GitHub\\final-project\\8\\data\\1\\test\\images\\6d252464d2e1523b_jpg.rf.4668ea0f00491fdb0e9d071ce94d8d95.jpg: 640x640 10 Eggs, 24.9ms\n",
      "image 60/214 c:\\Users\\hxxzi\\Desktop\\GitHub\\final-project\\8\\data\\1\\test\\images\\6fc6dd9e33342b3a_jpg.rf.e6601706e5185a2d7ac4a7aa26580a6a.jpg: 640x640 3 Eggs, 29.2ms\n",
      "image 61/214 c:\\Users\\hxxzi\\Desktop\\GitHub\\final-project\\8\\data\\1\\test\\images\\7b77589bbbb676b4_jpg.rf.253063ed813f160836fa7e67f2ba6563.jpg: 640x640 1 Potato, 24.9ms\n",
      "image 62/214 c:\\Users\\hxxzi\\Desktop\\GitHub\\final-project\\8\\data\\1\\test\\images\\82ccad112c4ae19b_jpg.rf.c46a3d6f9b7fa48f7f1608c126ba23ee.jpg: 640x640 2 Carrots, 25.7ms\n",
      "image 63/214 c:\\Users\\hxxzi\\Desktop\\GitHub\\final-project\\8\\data\\1\\test\\images\\8bcad610110d9820_jpg.rf.04ae52a262f6dd89e06b3b93a7c6eaaf.jpg: 640x640 1 Carrot, 20.7ms\n",
      "image 64/214 c:\\Users\\hxxzi\\Desktop\\GitHub\\final-project\\8\\data\\1\\test\\images\\8e239c91ff700aee_jpg.rf.e48a29dbf9a06a34c357dc0f0c9c94e2.jpg: 640x640 3 Carrots, 22.2ms\n",
      "image 65/214 c:\\Users\\hxxzi\\Desktop\\GitHub\\final-project\\8\\data\\1\\test\\images\\8f6e866bd31d41e0_jpg.rf.818266f18e6dda9556fd174353ad2d0d.jpg: 640x640 (no detections), 43.8ms\n",
      "image 66/214 c:\\Users\\hxxzi\\Desktop\\GitHub\\final-project\\8\\data\\1\\test\\images\\948849ea8b1cb5fb_jpg.rf.ff5411beaea113f5ae0101c29b7e3c12.jpg: 640x640 (no detections), 29.2ms\n",
      "image 67/214 c:\\Users\\hxxzi\\Desktop\\GitHub\\final-project\\8\\data\\1\\test\\images\\9f9c815f471c5105_jpg.rf.161f4076825cb9d48b31e38419c8cf4e.jpg: 640x640 2 Eggs, 24.9ms\n",
      "image 68/214 c:\\Users\\hxxzi\\Desktop\\GitHub\\final-project\\8\\data\\1\\test\\images\\Caprino-biologico-del-Pollino-2_jpg.rf.64a15c2ff922a5f400399dc64d1c302a.jpg: 640x640 2 Cheeses, 24.8ms\n",
      "image 69/214 c:\\Users\\hxxzi\\Desktop\\GitHub\\final-project\\8\\data\\1\\test\\images\\Crivelli_7_2020_Foto-2_6522386_jpg.rf.2667d556be64ccbcc949671c5bd1f261.jpg: 640x640 2 Carrots, 29.0ms\n",
      "image 70/214 c:\\Users\\hxxzi\\Desktop\\GitHub\\final-project\\8\\data\\1\\test\\images\\OIP-A3vNAdTQCrsI5s-lEde-2AHaE6_jpg.rf.3b1e63ce7b4b3919dc1e66ca74a4a252.jpg: 640x640 1 Zucchini, 25.2ms\n",
      "image 71/214 c:\\Users\\hxxzi\\Desktop\\GitHub\\final-project\\8\\data\\1\\test\\images\\OIP-TlN_7YptcqRhHMhfBl1mrgHaEI_jpg.rf.5a6021837f66f0eb17b2084854426824.jpg: 640x640 2 Zucchinis, 24.9ms\n",
      "image 72/214 c:\\Users\\hxxzi\\Desktop\\GitHub\\final-project\\8\\data\\1\\test\\images\\OIP-lZat4Uv661h2WZJqRaw23gHaFj2_jpg.rf.5874b375de9879924c91f7543257dd63.jpg: 640x640 1 Zucchini, 20.9ms\n",
      "image 73/214 c:\\Users\\hxxzi\\Desktop\\GitHub\\final-project\\8\\data\\1\\test\\images\\OIP-rPj905_WXazOj0UH7xJu6AHaDt_jpg.rf.576830d54cdc68b1a05b058fce7ea560.jpg: 640x640 2 Zucchinis, 43.1ms\n",
      "image 74/214 c:\\Users\\hxxzi\\Desktop\\GitHub\\final-project\\8\\data\\1\\test\\images\\PECORINOFRESCO2_jpg.rf.591417266c53d3f59e41076a07639b6d.jpg: 640x640 3 Cheeses, 25.0ms\n",
      "image 75/214 c:\\Users\\hxxzi\\Desktop\\GitHub\\final-project\\8\\data\\1\\test\\images\\Patata-Gialla-ellisio-DSC8566-197478_jpg.rf.1297e66708b12d4725808e9e49b132e5.jpg: 640x640 3 Potatos, 35.5ms\n",
      "image 76/214 c:\\Users\\hxxzi\\Desktop\\GitHub\\final-project\\8\\data\\1\\test\\images\\Patata-Gialla-ellisio-DSC8566-197478_jpg.rf.d26e9a7d9bb31a944fd656f2df5631ec.jpg: 640x640 3 Potatos, 28.9ms\n",
      "image 77/214 c:\\Users\\hxxzi\\Desktop\\GitHub\\final-project\\8\\data\\1\\test\\images\\Picsart_23-03-31_10-48-02-893-scaled_jpg.rf.32a95070f4e35e089ff6540d13d8e76d.jpg: 640x640 2 Cheeses, 24.8ms\n",
      "image 78/214 c:\\Users\\hxxzi\\Desktop\\GitHub\\final-project\\8\\data\\1\\test\\images\\Raw-Carrot-Salad-Ingredients2_jpg.rf.19fba2a6beae7da0376e33e44b268493.jpg: 640x640 1 Carrot, 24.9ms\n",
      "image 79/214 c:\\Users\\hxxzi\\Desktop\\GitHub\\final-project\\8\\data\\1\\test\\images\\Zucchini-vines_jpg.rf.2a0d30b360abce913d6325e5c0688ff7.jpg: 640x640 1 Zucchini, 25.2ms\n",
      "image 80/214 c:\\Users\\hxxzi\\Desktop\\GitHub\\final-project\\8\\data\\1\\test\\images\\a938fd901c08d071_jpg.rf.dcc7b7d873ff30ef968ca21758f60376.jpg: 640x640 7 Eggs, 25.2ms\n",
      "image 81/214 c:\\Users\\hxxzi\\Desktop\\GitHub\\final-project\\8\\data\\1\\test\\images\\a9f9f2c18a245326_jpg.rf.060f5fa13839519024a158e0fe321015.jpg: 640x640 2 Eggs, 25.3ms\n",
      "image 82/214 c:\\Users\\hxxzi\\Desktop\\GitHub\\final-project\\8\\data\\1\\test\\images\\ad7383677a7eef54_jpg.rf.713a2081d127173de00952c22874b022.jpg: 640x640 1 Cheese, 1 Zucchini, 25.1ms\n",
      "image 83/214 c:\\Users\\hxxzi\\Desktop\\GitHub\\final-project\\8\\data\\1\\test\\images\\adcde3e67b740652_jpg.rf.9f06e3c73ef853368c537280a216ecb6.jpg: 640x640 1 Cheese, 1 Egg, 24.9ms\n",
      "image 84/214 c:\\Users\\hxxzi\\Desktop\\GitHub\\final-project\\8\\data\\1\\test\\images\\b0155d32bdaa9563_jpg.rf.5f507fc68c9f6405ba7d4ad0c22821e5.jpg: 640x640 (no detections), 29.0ms\n",
      "image 85/214 c:\\Users\\hxxzi\\Desktop\\GitHub\\final-project\\8\\data\\1\\test\\images\\b9d7fcabd053a8f5_jpg.rf.2e98c496bc7461222a1af468918d0405.jpg: 640x640 1 Potato, 25.5ms\n",
      "image 86/214 c:\\Users\\hxxzi\\Desktop\\GitHub\\final-project\\8\\data\\1\\test\\images\\bg_zucchine_jpg.rf.97d0f6207c2caf9d06270b53737e8a3d.jpg: 640x640 1 Zucchini, 29.3ms\n",
      "image 87/214 c:\\Users\\hxxzi\\Desktop\\GitHub\\final-project\\8\\data\\1\\test\\images\\black-plate-potatoes-with-word-potatoes-it_862543-195_jpg.rf.a729e7938bd7ac81ba9f6d5a49252fba.jpg: 640x640 11 Potatos, 24.9ms\n",
      "image 88/214 c:\\Users\\hxxzi\\Desktop\\GitHub\\final-project\\8\\data\\1\\test\\images\\bonta_geniune_formaggio_capra_ingardia_1_jpg.rf.4623c7ad07471bd701baae92b7bbb7a3.jpg: 640x640 2 Cheeses, 24.2ms\n",
      "image 89/214 c:\\Users\\hxxzi\\Desktop\\GitHub\\final-project\\8\\data\\1\\test\\images\\bowl-potatoes-with-word-top_440015-29_jpg.rf.5ec37ce1e0a289404d0330341fc84ba5.jpg: 640x640 5 Potatos, 29.2ms\n",
      "image 90/214 c:\\Users\\hxxzi\\Desktop\\GitHub\\final-project\\8\\data\\1\\test\\images\\c2a7e898053ec9f3_jpg.rf.e00ae592c306ddc89cb24cca4240867f.jpg: 640x640 2 Eggs, 29.2ms\n",
      "image 91/214 c:\\Users\\hxxzi\\Desktop\\GitHub\\final-project\\8\\data\\1\\test\\images\\c7876b8fb3f38647_jpg.rf.3ab0a50dc668be9efdc33c06b85ac01d.jpg: 640x640 2 Carrots, 29.2ms\n",
      "image 92/214 c:\\Users\\hxxzi\\Desktop\\GitHub\\final-project\\8\\data\\1\\test\\images\\carote-ciuffo_jpeg.rf.9b819cd0d5f7514083071c57336c4bec.jpg: 640x640 1 Carrot, 24.9ms\n",
      "image 93/214 c:\\Users\\hxxzi\\Desktop\\GitHub\\final-project\\8\\data\\1\\test\\images\\carote-pulite_ingrosso-frutta-e-verdura_jpg.rf.f1ef2fe5e2da988387adb38854ed405b.jpg: 640x640 1 Carrot, 24.9ms\n",
      "image 94/214 c:\\Users\\hxxzi\\Desktop\\GitHub\\final-project\\8\\data\\1\\test\\images\\cover-articolo_jpg.rf.49d63a4d591f86b912308dbf7ca3480f.jpg: 640x640 1 Potato, 33.0ms\n",
      "image 95/214 c:\\Users\\hxxzi\\Desktop\\GitHub\\final-project\\8\\data\\1\\test\\images\\cover-articolo_jpg.rf.915e988f3d49fc7b410864fdbc86531b.jpg: 640x640 1 Potato, 29.0ms\n",
      "image 96/214 c:\\Users\\hxxzi\\Desktop\\GitHub\\final-project\\8\\data\\1\\test\\images\\csm_Tito-Speck-shop-online-formaggi-Formaggio-Pecorino-semistagionato_1fa5fca2a4_jpg.rf.ae764c783f82304270ddc57ce4d80919.jpg: 640x640 1 Cheese, 25.0ms\n",
      "image 97/214 c:\\Users\\hxxzi\\Desktop\\GitHub\\final-project\\8\\data\\1\\test\\images\\d148ac4417ff0a0a_jpg.rf.111dd6dc2ecd8cbec5e4cb988b310e8d.jpg: 640x640 (no detections), 27.5ms\n",
      "image 98/214 c:\\Users\\hxxzi\\Desktop\\GitHub\\final-project\\8\\data\\1\\test\\images\\d26659e78738825a_jpg.rf.124fb7deb480ca0bc1d25016a0287f00.jpg: 640x640 3 Eggs, 29.0ms\n",
      "image 99/214 c:\\Users\\hxxzi\\Desktop\\GitHub\\final-project\\8\\data\\1\\test\\images\\dfffc8e4f9a0f749_jpg.rf.fbaf3f4e9fc8a9e3b7199732ff37c7b7.jpg: 640x640 2 Cheeses, 29.2ms\n",
      "image 100/214 c:\\Users\\hxxzi\\Desktop\\GitHub\\final-project\\8\\data\\1\\test\\images\\e751d325736e3450_jpg.rf.85133c95e787ce50b65bad8cc404678a.jpg: 640x640 2 Potatos, 29.1ms\n",
      "image 101/214 c:\\Users\\hxxzi\\Desktop\\GitHub\\final-project\\8\\data\\1\\test\\images\\f1af4890a0a1a9f7_jpg.rf.585a846df1eaa12dbec65e2610998670.jpg: 640x640 1 Cheese, 24.4ms\n",
      "image 102/214 c:\\Users\\hxxzi\\Desktop\\GitHub\\final-project\\8\\data\\1\\test\\images\\f1f182d76b05a2bb_jpg.rf.d8f7276f3a0877aac70b4caa7affe8a0.jpg: 640x640 (no detections), 29.3ms\n",
      "image 103/214 c:\\Users\\hxxzi\\Desktop\\GitHub\\final-project\\8\\data\\1\\test\\images\\focused_180121516-stock-photo-closeup-shot-four-fresh-zucchini_jpg.rf.b878d2fc479cd5871976ccf8719c44e2.jpg: 640x640 2 Zucchinis, 25.2ms\n",
      "image 104/214 c:\\Users\\hxxzi\\Desktop\\GitHub\\final-project\\8\\data\\1\\test\\images\\formaggio-caprino-tagliato_jpg.rf.bd9a8f8737a29f437a1d79b67735686d.jpg: 640x640 2 Cheeses, 25.1ms\n",
      "image 105/214 c:\\Users\\hxxzi\\Desktop\\GitHub\\final-project\\8\\data\\1\\test\\images\\formaggio-di-capra-2-_jpg.rf.56eabd3ebff0d830df25f069cdc6d249.jpg: 640x640 2 Cheeses, 25.1ms\n",
      "image 106/214 c:\\Users\\hxxzi\\Desktop\\GitHub\\final-project\\8\\data\\1\\test\\images\\formaggio-formadi-frant-pezzetta-12-sottovuoto-kg-1_webp.rf.ddbe2413dfca4ed2ef9c72d2566ff8db.jpg: 640x640 1 Cheese, 24.1ms\n",
      "image 107/214 c:\\Users\\hxxzi\\Desktop\\GitHub\\final-project\\8\\data\\1\\test\\images\\formaggio-pecorino-fresco-calabrese-565964_3333x_jpg.rf.982fa7cb65ad7c2b54364c05476b6cf8.jpg: 640x640 1 Cheese, 1 Potato, 24.9ms\n",
      "image 108/214 c:\\Users\\hxxzi\\Desktop\\GitHub\\final-project\\8\\data\\1\\test\\images\\formaggiostagionatodibovinobiologicagrassfed_900x_png.rf.28fc31aac47b16a90ce3752bc966e0ab.jpg: 640x640 1 Cheese, 24.9ms\n",
      "image 109/214 c:\\Users\\hxxzi\\Desktop\\GitHub\\final-project\\8\\data\\1\\test\\images\\funny-raw-potato-white-background_154156-26048_jpg.rf.708e3fc5b90524229af74b499ca55916.jpg: 640x640 2 Potatos, 29.2ms\n",
      "image 110/214 c:\\Users\\hxxzi\\Desktop\\GitHub\\final-project\\8\\data\\1\\test\\images\\gio-su-un-bianca-sfondo-un-triangolare-pezzo-di-formaggio-con-buchi-foto-JPG_jpg.rf.9aab81036960f685d3c2e4d370812a7b.jpg: 640x640 1 Cheese, 24.9ms\n",
      "image 111/214 c:\\Users\\hxxzi\\Desktop\\GitHub\\final-project\\8\\data\\1\\test\\images\\gold-potatoes-without-reflection-white_1030432-2827_jpg.rf.8753cc189166cc68baa5f7b6bf3cb7b4.jpg: 640x640 3 Potatos, 25.0ms\n",
      "image 112/214 c:\\Users\\hxxzi\\Desktop\\GitHub\\final-project\\8\\data\\1\\test\\images\\gold-potatoes-without-reflection-white_1030432-2828_jpg.rf.fa4831dbecedf59801e047256823f758.jpg: 640x640 10 Potatos, 25.4ms\n",
      "image 113/214 c:\\Users\\hxxzi\\Desktop\\GitHub\\final-project\\8\\data\\1\\test\\images\\golden-potatoes-white-background-no-reflection_980928-1031_jpg.rf.a4ba68100d4e025f025b0ad637d92276.jpg: 640x640 3 Potatos, 25.2ms\n",
      "image 114/214 c:\\Users\\hxxzi\\Desktop\\GitHub\\final-project\\8\\data\\1\\test\\images\\green-fresh-zucchini-white-background-turkish-zucchini_693630-5049_jpg.rf.2c7edfa79c65d4d1e5e3b408e7a325a0.jpg: 640x640 1 Zucchini, 24.9ms\n",
      "image 115/214 c:\\Users\\hxxzi\\Desktop\\GitHub\\final-project\\8\\data\\1\\test\\images\\half-seasoned-sheep-cheese-with-black-pepper-_jpg.rf.9f1dfbab005ead724930b9d26f9b5f28.jpg: 640x640 2 Cheeses, 24.9ms\n",
      "image 116/214 c:\\Users\\hxxzi\\Desktop\\GitHub\\final-project\\8\\data\\1\\test\\images\\il_570xN-5020293242_mr0i_jpg.rf.16522cb3eaa3c6e8441caa44fb6b8edd.jpg: 640x640 1 Zucchini, 37.7ms\n",
      "image 117/214 c:\\Users\\hxxzi\\Desktop\\GitHub\\final-project\\8\\data\\1\\test\\images\\image18_jpeg.rf.f8aa9ea9c403cfe1e73f3bbe05495111.jpg: 640x640 1 Zucchini, 24.9ms\n",
      "image 118/214 c:\\Users\\hxxzi\\Desktop\\GitHub\\final-project\\8\\data\\1\\test\\images\\image19_jpeg.rf.2482bec0b60b484f79d5f30a8c661013.jpg: 640x640 1 Zucchini, 32.9ms\n",
      "image 119/214 c:\\Users\\hxxzi\\Desktop\\GitHub\\final-project\\8\\data\\1\\test\\images\\image21_jpeg.rf.2f70488275d60c14a8c533e8c985de03.jpg: 640x640 1 Cheese, 24.9ms\n",
      "image 120/214 c:\\Users\\hxxzi\\Desktop\\GitHub\\final-project\\8\\data\\1\\test\\images\\image21_jpeg.rf.8698aa1c23d730a40578ecf7a65b1b06.jpg: 640x640 1 Carrot, 33.4ms\n",
      "image 121/214 c:\\Users\\hxxzi\\Desktop\\GitHub\\final-project\\8\\data\\1\\test\\images\\image22_jpeg.rf.e435a77d0cf6ca5eadb6c35d84d35db8.jpg: 640x640 2 Zucchinis, 27.0ms\n",
      "image 122/214 c:\\Users\\hxxzi\\Desktop\\GitHub\\final-project\\8\\data\\1\\test\\images\\image25_jpeg.rf.415fd28ef15ba79729a179debb9f3a81.jpg: 640x640 1 Potato, 29.0ms\n",
      "image 123/214 c:\\Users\\hxxzi\\Desktop\\GitHub\\final-project\\8\\data\\1\\test\\images\\image25_jpeg.rf.fde3f5a598525613966d343facad23ad.jpg: 640x640 1 Potato, 29.2ms\n",
      "image 124/214 c:\\Users\\hxxzi\\Desktop\\GitHub\\final-project\\8\\data\\1\\test\\images\\image30_jpeg.rf.7c3df6f0f3c20a797bd7b89cf33cab61.jpg: 640x640 2 Cheeses, 1 Potato, 25.1ms\n",
      "image 125/214 c:\\Users\\hxxzi\\Desktop\\GitHub\\final-project\\8\\data\\1\\test\\images\\image6_jpeg.rf.92a8c2799c63b818a2a1d5107bc49846.jpg: 640x640 2 Potatos, 25.0ms\n",
      "image 126/214 c:\\Users\\hxxzi\\Desktop\\GitHub\\final-project\\8\\data\\1\\test\\images\\image6_jpeg.rf.97a22b65c223ea935f2e1df20cfca5a6.jpg: 640x640 2 Potatos, 29.2ms\n",
      "image 127/214 c:\\Users\\hxxzi\\Desktop\\GitHub\\final-project\\8\\data\\1\\test\\images\\images117_jpg.rf.2737a4602cb5c88bc4ea1f6d9e33046e.jpg: 640x640 4 Potatos, 25.0ms\n",
      "image 128/214 c:\\Users\\hxxzi\\Desktop\\GitHub\\final-project\\8\\data\\1\\test\\images\\images117_jpg.rf.9551cbc255a955321d7845856c029c12.jpg: 640x640 4 Potatos, 25.1ms\n",
      "image 129/214 c:\\Users\\hxxzi\\Desktop\\GitHub\\final-project\\8\\data\\1\\test\\images\\images125_jpg.rf.09b3e19740b7370e6f6bec1d2b1a936b.jpg: 640x640 1 Carrot, 2 Potatos, 24.0ms\n",
      "image 130/214 c:\\Users\\hxxzi\\Desktop\\GitHub\\final-project\\8\\data\\1\\test\\images\\images125_jpg.rf.4c07045e8f7d846715451e5fea1e57a4.jpg: 640x640 1 Carrot, 2 Potatos, 45.8ms\n",
      "image 131/214 c:\\Users\\hxxzi\\Desktop\\GitHub\\final-project\\8\\data\\1\\test\\images\\images154_jpg.rf.e55d81bf54c94406251053aaf78bc857.jpg: 640x640 1 Carrot, 24.8ms\n",
      "image 132/214 c:\\Users\\hxxzi\\Desktop\\GitHub\\final-project\\8\\data\\1\\test\\images\\images155_jpg.rf.6166abf4e190956c3d046e8b43363df9.jpg: 640x640 (no detections), 24.8ms\n",
      "image 133/214 c:\\Users\\hxxzi\\Desktop\\GitHub\\final-project\\8\\data\\1\\test\\images\\images159_jpg.rf.7e194b699569ab89f4fe7866c95b2945.jpg: 640x640 3 Potatos, 25.1ms\n",
      "image 134/214 c:\\Users\\hxxzi\\Desktop\\GitHub\\final-project\\8\\data\\1\\test\\images\\images165_jpg.rf.fda3aa02ff4edd6b13344e1d904c0e35.jpg: 640x640 5 Potatos, 25.2ms\n",
      "image 135/214 c:\\Users\\hxxzi\\Desktop\\GitHub\\final-project\\8\\data\\1\\test\\images\\images166_jpg.rf.15ca69c95168d6a7338dd0fc3de7b25e.jpg: 640x640 2 Potatos, 29.0ms\n",
      "image 136/214 c:\\Users\\hxxzi\\Desktop\\GitHub\\final-project\\8\\data\\1\\test\\images\\images180_jpg.rf.334d1ea9f5453b89767d0a059329afad.jpg: 640x640 1 Carrot, 17.7ms\n",
      "image 137/214 c:\\Users\\hxxzi\\Desktop\\GitHub\\final-project\\8\\data\\1\\test\\images\\images192_jpg.rf.e93e4d817c3e2d6ad46e36bba8c8bcf3.jpg: 640x640 3 Potatos, 45.7ms\n",
      "image 138/214 c:\\Users\\hxxzi\\Desktop\\GitHub\\final-project\\8\\data\\1\\test\\images\\images193_jpg.rf.508ff6dc5eb220680f56b627719a6c34.jpg: 640x640 1 Zucchini, 26.0ms\n",
      "image 139/214 c:\\Users\\hxxzi\\Desktop\\GitHub\\final-project\\8\\data\\1\\test\\images\\images195_jpg.rf.71990d2d0cc0070a0243e8165f9bb498.jpg: 640x640 2 Zucchinis, 27.4ms\n",
      "image 140/214 c:\\Users\\hxxzi\\Desktop\\GitHub\\final-project\\8\\data\\1\\test\\images\\images203_jpg.rf.c18692466e0edf989797f4bb8febb3e1.jpg: 640x640 2 Carrots, 29.0ms\n",
      "image 141/214 c:\\Users\\hxxzi\\Desktop\\GitHub\\final-project\\8\\data\\1\\test\\images\\images215_jpg.rf.d5d112d0728ca66e2661991bb3910118.jpg: 640x640 (no detections), 29.1ms\n",
      "image 142/214 c:\\Users\\hxxzi\\Desktop\\GitHub\\final-project\\8\\data\\1\\test\\images\\images215_jpg.rf.e50905a2182c9f97129b7a323fed5616.jpg: 640x640 1 Carrot, 25.0ms\n",
      "image 143/214 c:\\Users\\hxxzi\\Desktop\\GitHub\\final-project\\8\\data\\1\\test\\images\\images222_jpg.rf.e24bd7f77aa1fb37d0c34ec0f8143ec5.jpg: 640x640 (no detections), 29.0ms\n",
      "image 144/214 c:\\Users\\hxxzi\\Desktop\\GitHub\\final-project\\8\\data\\1\\test\\images\\images235_jpg.rf.7cc16d64dc38a1fcd6eb5c77260e69a6.jpg: 640x640 (no detections), 24.8ms\n",
      "image 145/214 c:\\Users\\hxxzi\\Desktop\\GitHub\\final-project\\8\\data\\1\\test\\images\\images236_jpg.rf.512f838e30e424dee1ed83d269cba0f5.jpg: 640x640 1 Cheese, 1 Potato, 23.4ms\n",
      "image 146/214 c:\\Users\\hxxzi\\Desktop\\GitHub\\final-project\\8\\data\\1\\test\\images\\images24_jpg.rf.9148d00ab9350149605918fe4bac4c5a.jpg: 640x640 3 Potatos, 24.7ms\n",
      "image 147/214 c:\\Users\\hxxzi\\Desktop\\GitHub\\final-project\\8\\data\\1\\test\\images\\images250_jpg.rf.9892b89dabe585b2505ccb8405b236ad.jpg: 640x640 2 Carrots, 29.1ms\n",
      "image 148/214 c:\\Users\\hxxzi\\Desktop\\GitHub\\final-project\\8\\data\\1\\test\\images\\images25_jpg.rf.8a2e9cb1b02251004985a38ccac26ece.jpg: 640x640 4 Cheeses, 28.9ms\n",
      "image 149/214 c:\\Users\\hxxzi\\Desktop\\GitHub\\final-project\\8\\data\\1\\test\\images\\images270_jpg.rf.9b7c64a76da5dff76258fd58f2ca3a18.jpg: 640x640 1 Carrot, 28.8ms\n",
      "image 150/214 c:\\Users\\hxxzi\\Desktop\\GitHub\\final-project\\8\\data\\1\\test\\images\\images277_jpg.rf.cd6084e0fb7854269ff2fa84f9112338.jpg: 640x640 1 Carrot, 28.8ms\n",
      "image 151/214 c:\\Users\\hxxzi\\Desktop\\GitHub\\final-project\\8\\data\\1\\test\\images\\images284_jpg.rf.9c21cf18b865499a69279cf74da0b66b.jpg: 640x640 1 Zucchini, 29.4ms\n",
      "image 152/214 c:\\Users\\hxxzi\\Desktop\\GitHub\\final-project\\8\\data\\1\\test\\images\\images28_jpg.rf.311a235e1cebc9967d6f23b65fdc6336.jpg: 640x640 2 Cheeses, 28.9ms\n",
      "image 153/214 c:\\Users\\hxxzi\\Desktop\\GitHub\\final-project\\8\\data\\1\\test\\images\\images2_jpg.rf.c028733ef49c468a307821a560f39f48.jpg: 640x640 (no detections), 26.1ms\n",
      "image 154/214 c:\\Users\\hxxzi\\Desktop\\GitHub\\final-project\\8\\data\\1\\test\\images\\images309_jpg.rf.d1997d27dbf64b6d6371d79e5a465d4a.jpg: 640x640 3 Carrots, 23.2ms\n",
      "image 155/214 c:\\Users\\hxxzi\\Desktop\\GitHub\\final-project\\8\\data\\1\\test\\images\\images31_jpg.rf.8ec1ee455784b8c533c094e6931c2959.jpg: 640x640 1 Potato, 25.0ms\n",
      "image 156/214 c:\\Users\\hxxzi\\Desktop\\GitHub\\final-project\\8\\data\\1\\test\\images\\images322_jpg.rf.0a40fbabff611cb403d8f7f9804dd6e8.jpg: 640x640 (no detections), 25.0ms\n",
      "image 157/214 c:\\Users\\hxxzi\\Desktop\\GitHub\\final-project\\8\\data\\1\\test\\images\\images329_jpg.rf.69db181e7c819d76a2dc7260d4041153.jpg: 640x640 3 Zucchinis, 26.2ms\n",
      "image 158/214 c:\\Users\\hxxzi\\Desktop\\GitHub\\final-project\\8\\data\\1\\test\\images\\images33_jpg.rf.e773b1230da9f5f6e707ce1ede993cad.jpg: 640x640 3 Cheeses, 25.6ms\n",
      "image 159/214 c:\\Users\\hxxzi\\Desktop\\GitHub\\final-project\\8\\data\\1\\test\\images\\images34_jpg.rf.53afa6dc8c53f071febf3985ad8f203d.jpg: 640x640 3 Potatos, 37.7ms\n",
      "image 160/214 c:\\Users\\hxxzi\\Desktop\\GitHub\\final-project\\8\\data\\1\\test\\images\\images3_jpg.rf.72958b422a8a3668334cfb7570757b4b.jpg: 640x640 1 Zucchini, 25.0ms\n",
      "image 161/214 c:\\Users\\hxxzi\\Desktop\\GitHub\\final-project\\8\\data\\1\\test\\images\\images412_jpg.rf.9fec01cb5b8971a58b3b75347a4c6aad.jpg: 640x640 4 Zucchinis, 25.0ms\n",
      "image 162/214 c:\\Users\\hxxzi\\Desktop\\GitHub\\final-project\\8\\data\\1\\test\\images\\images438_jpg.rf.940ce378ce7519a2df034580b03ae510.jpg: 640x640 1 Zucchini, 28.9ms\n",
      "image 163/214 c:\\Users\\hxxzi\\Desktop\\GitHub\\final-project\\8\\data\\1\\test\\images\\images456_jpg.rf.d2388fc64ac6e32153b1fb46d88214c5.jpg: 640x640 (no detections), 28.9ms\n",
      "image 164/214 c:\\Users\\hxxzi\\Desktop\\GitHub\\final-project\\8\\data\\1\\test\\images\\images467_jpg.rf.59ecc3c8a24cfe728cc53b4531d9a799.jpg: 640x640 3 Zucchinis, 26.0ms\n",
      "image 165/214 c:\\Users\\hxxzi\\Desktop\\GitHub\\final-project\\8\\data\\1\\test\\images\\images485_jpg.rf.1e2dc74efa58082bcd11e8f5c80cfaa3.jpg: 640x640 1 Zucchini, 27.0ms\n",
      "image 166/214 c:\\Users\\hxxzi\\Desktop\\GitHub\\final-project\\8\\data\\1\\test\\images\\images53_jpg.rf.30490bba7b799f403f366177d7d88664.jpg: 640x640 3 Potatos, 25.9ms\n",
      "image 167/214 c:\\Users\\hxxzi\\Desktop\\GitHub\\final-project\\8\\data\\1\\test\\images\\images547_jpg.rf.1d961dfc550479890aa53de6cde685cd.jpg: 640x640 1 Cheese, 1 Zucchini, 24.9ms\n",
      "image 168/214 c:\\Users\\hxxzi\\Desktop\\GitHub\\final-project\\8\\data\\1\\test\\images\\images54_jpg.rf.6704b66c17dfb5c045853d4969a7f041.jpg: 640x640 1 Cheese, 1 Potato, 29.2ms\n",
      "image 169/214 c:\\Users\\hxxzi\\Desktop\\GitHub\\final-project\\8\\data\\1\\test\\images\\images55_jpg.rf.50795f510a46d1c03f1f0cf54ddf2746.jpg: 640x640 6 Potatos, 29.5ms\n",
      "image 170/214 c:\\Users\\hxxzi\\Desktop\\GitHub\\final-project\\8\\data\\1\\test\\images\\images577_jpg.rf.5ce63aa600bb811db7f244d30a5c26b9.jpg: 640x640 1 Zucchini, 33.6ms\n",
      "image 171/214 c:\\Users\\hxxzi\\Desktop\\GitHub\\final-project\\8\\data\\1\\test\\images\\images579_jpg.rf.118e3f9ec24cd1d4ab928d5098ea6932.jpg: 640x640 (no detections), 25.0ms\n",
      "image 172/214 c:\\Users\\hxxzi\\Desktop\\GitHub\\final-project\\8\\data\\1\\test\\images\\images5_jpg.rf.a0c84a52c078ea304f201de431aff8da.jpg: 640x640 4 Potatos, 24.9ms\n",
      "image 173/214 c:\\Users\\hxxzi\\Desktop\\GitHub\\final-project\\8\\data\\1\\test\\images\\images62_jpg.rf.6314958f50c37da02eb7ec002c099f26.jpg: 640x640 6 Potatos, 29.1ms\n",
      "image 174/214 c:\\Users\\hxxzi\\Desktop\\GitHub\\final-project\\8\\data\\1\\test\\images\\images62_jpg.rf.c8bec14a94f160f340191e46bc7509d2.jpg: 640x640 1 Cheese, 29.2ms\n",
      "image 175/214 c:\\Users\\hxxzi\\Desktop\\GitHub\\final-project\\8\\data\\1\\test\\images\\images662_jpg.rf.a452b8b81b6e1f65fe8c90ec1ff3d23d.jpg: 640x640 2 Carrots, 32.9ms\n",
      "image 176/214 c:\\Users\\hxxzi\\Desktop\\GitHub\\final-project\\8\\data\\1\\test\\images\\images72_jpg.rf.720f6fb16867441173bee9ce3d53fa5b.jpg: 640x640 3 Potatos, 23.8ms\n",
      "image 177/214 c:\\Users\\hxxzi\\Desktop\\GitHub\\final-project\\8\\data\\1\\test\\images\\images75_jpg.rf.764b75f0ebee1bae5c08ddb69bbcdb69.jpg: 640x640 5 Potatos, 37.4ms\n",
      "image 178/214 c:\\Users\\hxxzi\\Desktop\\GitHub\\final-project\\8\\data\\1\\test\\images\\images7_jpg.rf.8c939ca0e67f75c64161d514b127f8d6.jpg: 640x640 2 Cheeses, 26.3ms\n",
      "image 179/214 c:\\Users\\hxxzi\\Desktop\\GitHub\\final-project\\8\\data\\1\\test\\images\\images84_jpg.rf.5ebc08f7cd5656c97250c9d0c822f8d0.jpg: 640x640 2 Potatos, 25.9ms\n",
      "image 180/214 c:\\Users\\hxxzi\\Desktop\\GitHub\\final-project\\8\\data\\1\\test\\images\\matrioska-allo-zafferano_jpg.rf.00ed33ab61eea95e2113dd5bb19501e5.jpg: 640x640 2 Cheeses, 25.1ms\n",
      "image 181/214 c:\\Users\\hxxzi\\Desktop\\GitHub\\final-project\\8\\data\\1\\test\\images\\new-137-_jpg.rf.fcbfea09655331b76acba8ef4c9c6ddf.jpg: 640x640 4 Cheeses, 25.1ms\n",
      "image 182/214 c:\\Users\\hxxzi\\Desktop\\GitHub\\final-project\\8\\data\\1\\test\\images\\new-168-_jpg.rf.8b5d9e5e3362f7c3c5f093fc304cb8fc.jpg: 640x640 2 Cheeses, 25.6ms\n",
      "image 183/214 c:\\Users\\hxxzi\\Desktop\\GitHub\\final-project\\8\\data\\1\\test\\images\\new-179-_jpg.rf.2a7ec73c0d308453a0a663d41f06869c.jpg: 640x640 1 Cheese, 26.0ms\n",
      "image 184/214 c:\\Users\\hxxzi\\Desktop\\GitHub\\final-project\\8\\data\\1\\test\\images\\new-18-_jpg.rf.9f087411b9fa0a3ca495f121758fd67b.jpg: 640x640 2 Cheeses, 37.4ms\n",
      "image 185/214 c:\\Users\\hxxzi\\Desktop\\GitHub\\final-project\\8\\data\\1\\test\\images\\patata-gialla-dei-colli-viterbesi-rete-25kg-perle-della-tuscia_jpg.rf.6943f008a3369dc5ef3a6a7709f472de.jpg: 640x640 1 Potato, 25.3ms\n",
      "image 186/214 c:\\Users\\hxxzi\\Desktop\\GitHub\\final-project\\8\\data\\1\\test\\images\\patata-spunta_oit_13508_jpg.rf.6bcc34d4a554abf2eea97c6c4447f4ed.jpg: 640x640 3 Potatos, 37.5ms\n",
      "image 187/214 c:\\Users\\hxxzi\\Desktop\\GitHub\\final-project\\8\\data\\1\\test\\images\\patata2-JPG_jpg.rf.88bc6cec4af7f50e2d871bd9341250ce.jpg: 640x640 3 Potatos, 24.9ms\n",
      "image 188/214 c:\\Users\\hxxzi\\Desktop\\GitHub\\final-project\\8\\data\\1\\test\\images\\patate2_jpg.rf.3997d83475f2ba79cccda6dbd2255e7b.jpg: 640x640 4 Potatos, 24.9ms\n",
      "image 189/214 c:\\Users\\hxxzi\\Desktop\\GitHub\\final-project\\8\\data\\1\\test\\images\\pecorino-fresco-toscana-italia-food-half_jpg.rf.aed7f3c1a898cfe0c7d98c58052d088c.jpg: 640x640 3 Cheeses, 25.2ms\n",
      "image 190/214 c:\\Users\\hxxzi\\Desktop\\GitHub\\final-project\\8\\data\\1\\test\\images\\pezzo-artigianale-di-formaggio-bel-paese-semimorbido-isolato-su-fondo-bianco-da-vicino-2rdrjex_jpg.rf.9833a9a0137801e2fac4b90e09dd0542.jpg: 640x640 1 Cheese, 37.5ms\n",
      "image 191/214 c:\\Users\\hxxzi\\Desktop\\GitHub\\final-project\\8\\data\\1\\test\\images\\piece-cheese-with-holes-it_786255-3422_jpg.rf.f163e5ca549b260967694f0dcb3e51ab.jpg: 640x640 1 Cheese, 24.9ms\n",
      "image 192/214 c:\\Users\\hxxzi\\Desktop\\GitHub\\final-project\\8\\data\\1\\test\\images\\potato-is-starchy-tuber-plant-solanum-tuberosum-is-root-vegetable-solanum-tuberosum_717054-975_jpg.rf.9cd86e12928cd1c9cd06d60f593d5e8f.jpg: 640x640 5 Potatos, 37.4ms\n",
      "image 193/214 c:\\Users\\hxxzi\\Desktop\\GitHub\\final-project\\8\\data\\1\\test\\images\\potato-isolated-white-background-watercolor-hand-drawn-illustration_766233-1875_jpg.rf.6ef382eaaed0e3fb979365189b6dbdb5.jpg: 640x640 1 Potato, 28.7ms\n",
      "image 194/214 c:\\Users\\hxxzi\\Desktop\\GitHub\\final-project\\8\\data\\1\\test\\images\\potato-white-background-with-word-potato-it_900958-6386_jpg.rf.e8f124d3fec73e163fb6b1b8d1684a2b.jpg: 640x640 1 Potato, 33.2ms\n",
      "image 195/214 c:\\Users\\hxxzi\\Desktop\\GitHub\\final-project\\8\\data\\1\\test\\images\\potato_961280-851_jpg.rf.40ce29598f63e5c438c399447aed36c4.jpg: 640x640 1 Potato, 26.2ms\n",
      "image 196/214 c:\\Users\\hxxzi\\Desktop\\GitHub\\final-project\\8\\data\\1\\test\\images\\raw-potato-white-background_154156-1688_jpg.rf.24c3cb31e2c0e313abf883b7c58f1276.jpg: 640x640 1 Potato, 20.5ms\n",
      "image 197/214 c:\\Users\\hxxzi\\Desktop\\GitHub\\final-project\\8\\data\\1\\test\\images\\raw-potato-wooden-background_1150-8035_jpg.rf.71169827e02048926db4019b8bbab4db.jpg: 640x640 3 Potatos, 23.0ms\n",
      "image 198/214 c:\\Users\\hxxzi\\Desktop\\GitHub\\final-project\\8\\data\\1\\test\\images\\raw-sliced-potato_1472-11379_jpg.rf.fbe03041ca51125fe94151fc88f996f7.jpg: 640x640 3 Cheeses, 25.0ms\n",
      "image 199/214 c:\\Users\\hxxzi\\Desktop\\GitHub\\final-project\\8\\data\\1\\test\\images\\raw-unpeeled-potato-white-background_908985-85006_jpg.rf.1e7dbe6aba768cdb562cdfe0cdee388c.jpg: 640x640 1 Potato, 24.8ms\n",
      "image 200/214 c:\\Users\\hxxzi\\Desktop\\GitHub\\final-project\\8\\data\\1\\test\\images\\raw-whole-carrots_jpg.rf.400822c7abd4ed1fc9b0c0481f71adbe.jpg: 640x640 3 Carrots, 29.2ms\n",
      "image 201/214 c:\\Users\\hxxzi\\Desktop\\GitHub\\final-project\\8\\data\\1\\test\\images\\t-market-store-healthy-meal-food-diet-snack-table-copy-space-food_987686-276_jpg.rf.15029fcc52413ec48f123272c9b35a59.jpg: 640x640 4 Potatos, 28.8ms\n",
      "image 202/214 c:\\Users\\hxxzi\\Desktop\\GitHub\\final-project\\8\\data\\1\\test\\images\\t-wooden-background-degradable-package-zero-waste-sustainability_349071-3775_jpg.rf.fe8c047cb214ce3528f1ea395a012a52.jpg: 640x640 (no detections), 25.0ms\n",
      "image 203/214 c:\\Users\\hxxzi\\Desktop\\GitHub\\final-project\\8\\data\\1\\test\\images\\th148_jpg.rf.badd74079ab8cef626cf2dce13994735.jpg: 640x640 3 Zucchinis, 24.9ms\n",
      "image 204/214 c:\\Users\\hxxzi\\Desktop\\GitHub\\final-project\\8\\data\\1\\test\\images\\th220_jpg.rf.bcc1b629b6dc49c41a36d85a74df0154.jpg: 640x640 1 Zucchini, 24.9ms\n",
      "image 205/214 c:\\Users\\hxxzi\\Desktop\\GitHub\\final-project\\8\\data\\1\\test\\images\\top-view-potatoes-basket-blue-surface_141793-10147_jpg.rf.a237a597630b18b84962ebbc1ab8f0d6.jpg: 640x640 5 Potatos, 28.9ms\n",
      "image 206/214 c:\\Users\\hxxzi\\Desktop\\GitHub\\final-project\\8\\data\\1\\test\\images\\varie-patate_jpg.rf.2b6080109c3ab5235dca9e62000b4962.jpg: 640x640 6 Potatos, 22.4ms\n",
      "image 207/214 c:\\Users\\hxxzi\\Desktop\\GitHub\\final-project\\8\\data\\1\\test\\images\\varie-patate_jpg.rf.bd2453ff5e6ffdc991517d59a0b2a15b.jpg: 640x640 6 Potatos, 25.4ms\n",
      "image 208/214 c:\\Users\\hxxzi\\Desktop\\GitHub\\final-project\\8\\data\\1\\test\\images\\yellow-potato-with-green-leaf-it_1340-23425_jpg.rf.0fac36f6b28c3e5dbb8720e829eb043b.jpg: 640x640 1 Potato, 27.0ms\n",
      "image 209/214 c:\\Users\\hxxzi\\Desktop\\GitHub\\final-project\\8\\data\\1\\test\\images\\zucchina_before_jpg.rf.e677506055dcb200155b39caab8c7d18.jpg: 640x640 1 Zucchini, 24.8ms\n",
      "image 210/214 c:\\Users\\hxxzi\\Desktop\\GitHub\\final-project\\8\\data\\1\\test\\images\\zucchine-mediogrosse_jpg.rf.0a0244c80c9f29bf7c62d053c7ae3d94.jpg: 640x640 2 Zucchinis, 27.0ms\n",
      "image 211/214 c:\\Users\\hxxzi\\Desktop\\GitHub\\final-project\\8\\data\\1\\test\\images\\zucchine_1567755342_jpg.rf.1d5ac55ebd9b553d2f964fb2be580ccc.jpg: 640x640 1 Cheese, 1 Zucchini, 24.9ms\n",
      "image 212/214 c:\\Users\\hxxzi\\Desktop\\GitHub\\final-project\\8\\data\\1\\test\\images\\zucchine_verdi_jpg.rf.5da7f911c57d241b4e952701832f0bd6.jpg: 640x640 3 Zucchinis, 24.9ms\n",
      "image 213/214 c:\\Users\\hxxzi\\Desktop\\GitHub\\final-project\\8\\data\\1\\test\\images\\zucchinis_jpg.rf.369327113001fa4470cf8a29c7aafaeb.jpg: 640x640 1 Zucchini, 27.4ms\n",
      "image 214/214 c:\\Users\\hxxzi\\Desktop\\GitHub\\final-project\\8\\data\\1\\test\\images\\zucchino_sit_11394_jpg.rf.3e6de1a8c8c9549e461a7c4f32ae0484.jpg: 640x640 1 Zucchini, 28.8ms\n",
      "Speed: 1.7ms preprocess, 28.1ms inference, 1.7ms postprocess per image at shape (1, 3, 640, 640)\n",
      "Results saved to \u001b[1mruns\\detect\\train2\u001b[0m\n"
     ]
    }
   ],
   "source": [
    "from ultralytics import YOLO\n",
    "import torch\n",
    "\n",
    "model = YOLO('yolov9s.pt')\n",
    "\n",
    "model.train(data = r'C:\\Users\\hxxzi\\Desktop\\GitHub\\final-project\\8\\data\\1\\data.yaml', \n",
    "            epochs=100, \n",
    "            patience=30, \n",
    "            batch=8, \n",
    "            imgsz=640)\n",
    "\n",
    "torch.cuda.empty_cache()\n",
    "\n",
    "results = model.predict(source=\"test\\images\", save=True)"
   ]
  },
  {
   "cell_type": "code",
   "execution_count": null,
   "metadata": {},
   "outputs": [],
   "source": []
  }
 ],
 "metadata": {
  "kernelspec": {
   "display_name": "Python 3",
   "language": "python",
   "name": "python3"
  },
  "language_info": {
   "codemirror_mode": {
    "name": "ipython",
    "version": 3
   },
   "file_extension": ".py",
   "mimetype": "text/x-python",
   "name": "python",
   "nbconvert_exporter": "python",
   "pygments_lexer": "ipython3",
   "version": "3.11.8"
  }
 },
 "nbformat": 4,
 "nbformat_minor": 2
}
