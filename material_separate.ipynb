{
 "cells": [
  {
   "cell_type": "code",
   "execution_count": 1,
   "id": "e66a19be",
   "metadata": {},
   "outputs": [],
   "source": [
    "import numpy as np\n",
    "import pandas as pd"
   ]
  },
  {
   "cell_type": "code",
   "execution_count": 2,
   "id": "96ded450",
   "metadata": {},
   "outputs": [
    {
     "data": {
      "text/html": [
       "<div>\n",
       "<style scoped>\n",
       "    .dataframe tbody tr th:only-of-type {\n",
       "        vertical-align: middle;\n",
       "    }\n",
       "\n",
       "    .dataframe tbody tr th {\n",
       "        vertical-align: top;\n",
       "    }\n",
       "\n",
       "    .dataframe thead th {\n",
       "        text-align: right;\n",
       "    }\n",
       "</style>\n",
       "<table border=\"1\" class=\"dataframe\">\n",
       "  <thead>\n",
       "    <tr style=\"text-align: right;\">\n",
       "      <th></th>\n",
       "      <th>RCP_SNO</th>\n",
       "      <th>RCP_TTL</th>\n",
       "      <th>CKG_NM</th>\n",
       "      <th>RGTR_ID</th>\n",
       "      <th>RGTR_NM</th>\n",
       "      <th>INQ_CNT</th>\n",
       "      <th>RCMM_CNT</th>\n",
       "      <th>SRAP_CNT</th>\n",
       "      <th>CKG_MTH_ACTO_NM</th>\n",
       "      <th>CKG_STA_ACTO_NM</th>\n",
       "      <th>CKG_MTRL_ACTO_NM</th>\n",
       "      <th>CKG_KND_ACTO_NM</th>\n",
       "      <th>CKG_IPDC</th>\n",
       "      <th>CKG_MTRL_CN</th>\n",
       "      <th>CKG_INBUN_NM</th>\n",
       "      <th>CKG_DODF_NM</th>\n",
       "      <th>CKG_TIME_NM</th>\n",
       "      <th>FIRST_REG_DT</th>\n",
       "    </tr>\n",
       "  </thead>\n",
       "  <tbody>\n",
       "    <tr>\n",
       "      <th>0</th>\n",
       "      <td>128671</td>\n",
       "      <td>어묵김말이</td>\n",
       "      <td>어묵김말이</td>\n",
       "      <td>skfo0701</td>\n",
       "      <td>꽃날</td>\n",
       "      <td>10072</td>\n",
       "      <td>6</td>\n",
       "      <td>66</td>\n",
       "      <td>튀김</td>\n",
       "      <td>간식</td>\n",
       "      <td>가공식품류</td>\n",
       "      <td>디저트</td>\n",
       "      <td>맛있는 김말이에 쫄깃함을 더한 어묵 김말이예요-</td>\n",
       "      <td>[재료] 어묵 2개| 김밥용김 3장| 당면 1움큼| 양파 1/2개| 당근 1/2개|...</td>\n",
       "      <td>2인분</td>\n",
       "      <td>초급</td>\n",
       "      <td>60분이내</td>\n",
       "      <td>2.007040e+13</td>\n",
       "    </tr>\n",
       "    <tr>\n",
       "      <th>1</th>\n",
       "      <td>128892</td>\n",
       "      <td>두부에 꼬리가 달렸어요!!</td>\n",
       "      <td>두부새우전</td>\n",
       "      <td>skfo0701</td>\n",
       "      <td>꽃날</td>\n",
       "      <td>5817</td>\n",
       "      <td>3</td>\n",
       "      <td>27</td>\n",
       "      <td>부침</td>\n",
       "      <td>일상</td>\n",
       "      <td>해물류</td>\n",
       "      <td>밑반찬</td>\n",
       "      <td>꼬리가 너-무- 매력적인 두부새우전. 두부와 야채를 한번에!! 영양까지 만점인 두부...</td>\n",
       "      <td>[재료] 두부 1/2모| 당근 1/2개| 고추 2개| 브로콜리 1/4개| 새우 4마...</td>\n",
       "      <td>3인분</td>\n",
       "      <td>초급</td>\n",
       "      <td>30분이내</td>\n",
       "      <td>2.007040e+13</td>\n",
       "    </tr>\n",
       "    <tr>\n",
       "      <th>2</th>\n",
       "      <td>128932</td>\n",
       "      <td>입안에서 톡톡톡</td>\n",
       "      <td>알밥</td>\n",
       "      <td>skfo0701</td>\n",
       "      <td>꽃날</td>\n",
       "      <td>6975</td>\n",
       "      <td>8</td>\n",
       "      <td>36</td>\n",
       "      <td>굽기</td>\n",
       "      <td>일상</td>\n",
       "      <td>해물류</td>\n",
       "      <td>밥/죽/떡</td>\n",
       "      <td>간단하게 만들어 보는 알이 톡톡톡 알밥♥ 다 먹고 누룽지까지 싹싹 긁어먹는게 최고죠...</td>\n",
       "      <td>[재료] 밥 1+1/2공기| 당근 1/4개| 치자단무지 1/2개| 신김치 1쪽| 무...</td>\n",
       "      <td>2인분</td>\n",
       "      <td>초급</td>\n",
       "      <td>30분이내</td>\n",
       "      <td>2.007040e+13</td>\n",
       "    </tr>\n",
       "    <tr>\n",
       "      <th>3</th>\n",
       "      <td>131871</td>\n",
       "      <td>★현미호두죽</td>\n",
       "      <td>현미호두죽</td>\n",
       "      <td>cds1117</td>\n",
       "      <td>햇님&amp;별님</td>\n",
       "      <td>3339</td>\n",
       "      <td>0</td>\n",
       "      <td>11</td>\n",
       "      <td>끓이기</td>\n",
       "      <td>일상</td>\n",
       "      <td>쌀</td>\n",
       "      <td>밥/죽/떡</td>\n",
       "      <td>현미호두죽</td>\n",
       "      <td>[재료] 현미 4컵| 찹쌀 2컵| 호두 50g| 물 1/2컵| 소금 약간</td>\n",
       "      <td>2인분</td>\n",
       "      <td>초급</td>\n",
       "      <td>30분이내</td>\n",
       "      <td>2.007041e+13</td>\n",
       "    </tr>\n",
       "    <tr>\n",
       "      <th>4</th>\n",
       "      <td>139247</td>\n",
       "      <td>부들부들 보들보들 북어갈비♥</td>\n",
       "      <td>북어갈비</td>\n",
       "      <td>skfo0701</td>\n",
       "      <td>꽃날</td>\n",
       "      <td>7173</td>\n",
       "      <td>3</td>\n",
       "      <td>97</td>\n",
       "      <td>굽기</td>\n",
       "      <td>술안주</td>\n",
       "      <td>건어물류</td>\n",
       "      <td>메인반찬</td>\n",
       "      <td>오늘은 집에서 굴러다니고 쉽게 구할 수 있는 북어로 일품요리를 만들어 보았어요! 도...</td>\n",
       "      <td>[재료] 북어포 1마리| 찹쌀가루 1C [양념] 간장 2T| 설탕 1T| 물 1T|...</td>\n",
       "      <td>2인분</td>\n",
       "      <td>초급</td>\n",
       "      <td>60분이내</td>\n",
       "      <td>2.007050e+13</td>\n",
       "    </tr>\n",
       "  </tbody>\n",
       "</table>\n",
       "</div>"
      ],
      "text/plain": [
       "   RCP_SNO          RCP_TTL CKG_NM   RGTR_ID RGTR_NM  INQ_CNT RCMM_CNT  \\\n",
       "0   128671            어묵김말이  어묵김말이  skfo0701      꽃날    10072        6   \n",
       "1   128892  두부에 꼬리가 달렸어요!!   두부새우전  skfo0701      꽃날     5817        3   \n",
       "2   128932        입안에서 톡톡톡      알밥  skfo0701      꽃날     6975        8   \n",
       "3   131871           ★현미호두죽  현미호두죽   cds1117   햇님&별님     3339        0   \n",
       "4   139247  부들부들 보들보들 북어갈비♥   북어갈비  skfo0701      꽃날     7173        3   \n",
       "\n",
       "  SRAP_CNT CKG_MTH_ACTO_NM CKG_STA_ACTO_NM CKG_MTRL_ACTO_NM CKG_KND_ACTO_NM  \\\n",
       "0       66              튀김              간식            가공식품류             디저트   \n",
       "1       27              부침              일상              해물류             밑반찬   \n",
       "2       36              굽기              일상              해물류           밥/죽/떡   \n",
       "3       11             끓이기              일상                쌀           밥/죽/떡   \n",
       "4       97              굽기             술안주             건어물류            메인반찬   \n",
       "\n",
       "                                            CKG_IPDC  \\\n",
       "0                         맛있는 김말이에 쫄깃함을 더한 어묵 김말이예요-   \n",
       "1  꼬리가 너-무- 매력적인 두부새우전. 두부와 야채를 한번에!! 영양까지 만점인 두부...   \n",
       "2  간단하게 만들어 보는 알이 톡톡톡 알밥♥ 다 먹고 누룽지까지 싹싹 긁어먹는게 최고죠...   \n",
       "3                                              현미호두죽   \n",
       "4  오늘은 집에서 굴러다니고 쉽게 구할 수 있는 북어로 일품요리를 만들어 보았어요! 도...   \n",
       "\n",
       "                                         CKG_MTRL_CN CKG_INBUN_NM CKG_DODF_NM  \\\n",
       "0  [재료] 어묵 2개| 김밥용김 3장| 당면 1움큼| 양파 1/2개| 당근 1/2개|...          2인분          초급   \n",
       "1  [재료] 두부 1/2모| 당근 1/2개| 고추 2개| 브로콜리 1/4개| 새우 4마...          3인분          초급   \n",
       "2  [재료] 밥 1+1/2공기| 당근 1/4개| 치자단무지 1/2개| 신김치 1쪽| 무...          2인분          초급   \n",
       "3           [재료] 현미 4컵| 찹쌀 2컵| 호두 50g| 물 1/2컵| 소금 약간          2인분          초급   \n",
       "4  [재료] 북어포 1마리| 찹쌀가루 1C [양념] 간장 2T| 설탕 1T| 물 1T|...          2인분          초급   \n",
       "\n",
       "  CKG_TIME_NM  FIRST_REG_DT  \n",
       "0       60분이내  2.007040e+13  \n",
       "1       30분이내  2.007040e+13  \n",
       "2       30분이내  2.007040e+13  \n",
       "3       30분이내  2.007041e+13  \n",
       "4       60분이내  2.007050e+13  "
      ]
     },
     "execution_count": 2,
     "metadata": {},
     "output_type": "execute_result"
    }
   ],
   "source": [
    "recipe = pd.read_csv('kr_recipe.csv', dtype={6: str})\n",
    "recipe.head()"
   ]
  },
  {
   "cell_type": "code",
   "execution_count": 3,
   "id": "c7b8df75",
   "metadata": {},
   "outputs": [
    {
     "name": "stdout",
     "output_type": "stream",
     "text": [
      "<class 'pandas.core.frame.DataFrame'>\n",
      "RangeIndex: 184991 entries, 0 to 184990\n",
      "Data columns (total 18 columns):\n",
      " #   Column            Non-Null Count   Dtype  \n",
      "---  ------            --------------   -----  \n",
      " 0   RCP_SNO           184991 non-null  int64  \n",
      " 1   RCP_TTL           184991 non-null  object \n",
      " 2   CKG_NM            184916 non-null  object \n",
      " 3   RGTR_ID           184991 non-null  object \n",
      " 4   RGTR_NM           184975 non-null  object \n",
      " 5   INQ_CNT           184991 non-null  int64  \n",
      " 6   RCMM_CNT          184991 non-null  object \n",
      " 7   SRAP_CNT          184991 non-null  object \n",
      " 8   CKG_MTH_ACTO_NM   184988 non-null  object \n",
      " 9   CKG_STA_ACTO_NM   183953 non-null  object \n",
      " 10  CKG_MTRL_ACTO_NM  184989 non-null  object \n",
      " 11  CKG_KND_ACTO_NM   184990 non-null  object \n",
      " 12  CKG_IPDC          184078 non-null  object \n",
      " 13  CKG_MTRL_CN       183994 non-null  object \n",
      " 14  CKG_INBUN_NM      180193 non-null  object \n",
      " 15  CKG_DODF_NM       184706 non-null  object \n",
      " 16  CKG_TIME_NM       168574 non-null  object \n",
      " 17  FIRST_REG_DT      184732 non-null  float64\n",
      "dtypes: float64(1), int64(2), object(15)\n",
      "memory usage: 25.4+ MB\n"
     ]
    }
   ],
   "source": [
    "recipe.info()"
   ]
  },
  {
   "cell_type": "code",
   "execution_count": 4,
   "id": "ee890fc2",
   "metadata": {},
   "outputs": [
    {
     "data": {
      "text/plain": [
       "0         [재료] 어묵 2개| 김밥용김 3장| 당면 1움큼| 양파 1/2개| 당근 1/2개|...\n",
       "1         [재료] 두부 1/2모| 당근 1/2개| 고추 2개| 브로콜리 1/4개| 새우 4마...\n",
       "2         [재료] 밥 1+1/2공기| 당근 1/4개| 치자단무지 1/2개| 신김치 1쪽| 무...\n",
       "3                  [재료] 현미 4컵| 찹쌀 2컵| 호두 50g| 물 1/2컵| 소금 약간\n",
       "4         [재료] 북어포 1마리| 찹쌀가루 1C [양념] 간장 2T| 설탕 1T| 물 1T|...\n",
       "                                ...                        \n",
       "184986    [재료] 올리브오일| 스파게티면 80g| 명란젓 1덩이| 생크림 100g| 마늘 1...\n",
       "184987    [재료] 올리브오일| 스파게티면 280~300g| 관찰레 120g| 홀토마토 1캔|...\n",
       "184988    [재료] 오징어젓200g| 무말랭이15g| 청양고추2개| 홍고추1개| 오이고추1개|...\n",
       "184989    [재료] 달걀 6개| 우유 200ml| 물 100ml| 맛살 3개| 당근 1/3개|...\n",
       "184990    [재료] 계란 4개| 물 동량 250cc| 참치액 1T| 쪽파 조금| 알새우 1/2...\n",
       "Name: CKG_MTRL_CN, Length: 184991, dtype: object"
      ]
     },
     "execution_count": 4,
     "metadata": {},
     "output_type": "execute_result"
    }
   ],
   "source": [
    "recipe_material = recipe['CKG_MTRL_CN']\n",
    "recipe_material"
   ]
  },
  {
   "cell_type": "code",
   "execution_count": 5,
   "id": "1aa4faa2",
   "metadata": {},
   "outputs": [],
   "source": [
    "import re"
   ]
  },
  {
   "cell_type": "code",
   "execution_count": 6,
   "id": "d3da850d",
   "metadata": {},
   "outputs": [
    {
     "data": {
      "text/plain": [
       "['',\n",
       " ' 어묵 2개| 김밥용김 3장| 당면 1움큼| 양파 1/2개| 당근 1/2개| 깻잎 6장| 튀김가루 1컵 | 올리브유 적당량| 간장 1T| 참기름 1T']"
      ]
     },
     "execution_count": 6,
     "metadata": {},
     "output_type": "execute_result"
    }
   ],
   "source": [
    "# 정규식 패턴\n",
    "pattern1 = r'\\[\\w+\\]'\n",
    "\n",
    "# 정규식으로 '[한글]' 형식의 부분을 찾아 분리\n",
    "parts = re.split(pattern1, recipe_material[0])\n",
    "parts"
   ]
  },
  {
   "cell_type": "code",
   "execution_count": 7,
   "id": "f1b1a217",
   "metadata": {},
   "outputs": [
    {
     "data": {
      "text/plain": [
       "['',\n",
       " '어묵 2개| 김밥용김 3장| 당면 1움큼| 양파 1/2개| 당근 1/2개| 깻잎 6장| 튀김가루 1컵 | 올리브유 적당량| 간장 1T| 참기름 1T']"
      ]
     },
     "execution_count": 7,
     "metadata": {},
     "output_type": "execute_result"
    }
   ],
   "source": [
    "# 결과 출력\n",
    "test_result =[part.strip() for part in parts]\n",
    "test_result"
   ]
  },
  {
   "cell_type": "code",
   "execution_count": 8,
   "id": "2a9a8f60",
   "metadata": {},
   "outputs": [
    {
     "data": {
      "text/plain": [
       "['',\n",
       " '어묵 2개',\n",
       " '김밥용김 3장',\n",
       " '당면 1움큼',\n",
       " '양파 1/2개',\n",
       " '당근 1/2개',\n",
       " '깻잎 6장',\n",
       " '튀김가루 1컵 ',\n",
       " '올리브유 적당량',\n",
       " '간장 1T',\n",
       " '참기름 1T']"
      ]
     },
     "execution_count": 8,
     "metadata": {},
     "output_type": "execute_result"
    }
   ],
   "source": [
    "test_result2 = []\n",
    "for i in test_result:\n",
    "    test_result2.extend(i.split('| '))\n",
    "test_result2"
   ]
  },
  {
   "cell_type": "code",
   "execution_count": 9,
   "id": "a693335e",
   "metadata": {},
   "outputs": [
    {
     "data": {
      "text/plain": [
       "['어묵', '김밥용김', '당면', '양파', '당근', '깻잎', '튀김가루', '올리브유', '간장', '참기름']"
      ]
     },
     "execution_count": 9,
     "metadata": {},
     "output_type": "execute_result"
    }
   ],
   "source": [
    "# 정규식 패턴: 숫자나 띄어쓰기 전까지의 문자열 추출\n",
    "pattern3 = r'^[^\\d\\s]+'\n",
    "\n",
    "result = []\n",
    "for item in test_result2:\n",
    "    match = re.match(pattern3, item)\n",
    "    if match:\n",
    "        result.append(match.group())\n",
    "\n",
    "result"
   ]
  },
  {
   "cell_type": "code",
   "execution_count": null,
   "id": "1d4529c7",
   "metadata": {},
   "outputs": [],
   "source": []
  },
  {
   "cell_type": "code",
   "execution_count": 27,
   "id": "af7e344a",
   "metadata": {},
   "outputs": [],
   "source": [
    "import re\n",
    "\n",
    "# 재료이름만 남기는 함수(예외 존재)\n",
    "def remain_food_name(food):\n",
    "    # food가 str 타입이 아니면 빈문자열 반환\n",
    "    if not isinstance(food, str):\n",
    "        return \"\"\n",
    "    \n",
    "    # 정규식 패턴\n",
    "    pattern = r'\\[\\w+\\]'\n",
    "\n",
    "    # 정규식으로 '[한글]' 형식의 부분을 찾아 분리\n",
    "    parts = re.split(pattern, food)\n",
    "    \n",
    "    # [한글] 형식 제외한 부분 저장\n",
    "    parts = [part.strip() for part in parts]\n",
    "    \n",
    "    # '| ' 부분을 제거해서 재료들을 각각 result에 저장\n",
    "    result = []\n",
    "    for i in parts:\n",
    "        result.extend(i.split('| '))\n",
    "        \n",
    "    # 정규식 패턴: 숫자나 띄어쓰기, '(' 전까지의 문자열 추출\n",
    "    pattern = r'^[^\\d\\(\\)]+'\n",
    "    \n",
    "    # 숫자나 띄어쓰기를 만나기 전 문자열 추출(일부 걸러지지 않거나 잘못 걸러지는 재료들 있음)\n",
    "#     final_result = []\n",
    "#     for item in result:\n",
    "#         match = re.match(pattern, item)\n",
    "#         if match:\n",
    "#             final_result.append(match.group())\n",
    "    final_result = []\n",
    "    for item in result:\n",
    "        matches = re.findall(pattern, item)\n",
    "        final_result.extend(matches)\n",
    "    \n",
    "    return ', '.join(final_result)"
   ]
  },
  {
   "cell_type": "code",
   "execution_count": 28,
   "id": "9205a3b4",
   "metadata": {
    "scrolled": false
   },
   "outputs": [
    {
     "name": "stdout",
     "output_type": "stream",
     "text": [
      "0         어묵 , 김밥용김 , 당면 , 양파 , 당근 , 깻잎 , 튀김가루 , 올리브유 적당...\n",
      "1                      두부 , 당근 , 고추 , 브로콜리 , 새우 , 녹말가루, 계란 \n",
      "2         밥 , 당근 , 치자단무지 , 신김치 , 무순 약간, 날치알 , 김가루 약간, 후리...\n",
      "3                                  현미 , 찹쌀 , 호두 , 물 , 소금 약간\n",
      "4         북어포 , 찹쌀가루 , 간장 , 설탕 , 물 , 다진파 , 다진마늘 , 참기름 , ...\n",
      "                                ...                        \n",
      "184986    올리브오일, 스파게티면 , 명란젓 , 생크림 , 마늘 , 양파 , 소금 약간, 후추 약간\n",
      "184987    올리브오일, 스파게티면 , 관찰레 , 홀토마토 , 화이트와인 , 파르미지아노 치즈 ...\n",
      "184988    오징어젓, 무말랭이, 청양고추, 홍고추, 오이고추, 쪽파 , 양파 , 다진마늘 , ...\n",
      "184989          달걀 , 우유 , 물 , 맛살 , 당근 , 대파 , 소금 , 참치액 , 맛술 \n",
      "184990         계란 , 물 동량 , 참치액 , 쪽파 조금, 알새우 , 참기름, 고춧가루, 통깨\n",
      "Name: material, Length: 184991, dtype: object\n"
     ]
    }
   ],
   "source": [
    "recipe['material'] = recipe['CKG_MTRL_CN'].apply(remain_food_name)\n",
    "\n",
    "print(recipe['material'])"
   ]
  },
  {
   "cell_type": "code",
   "execution_count": 29,
   "id": "602f7493",
   "metadata": {},
   "outputs": [
    {
     "data": {
      "text/html": [
       "<div>\n",
       "<style scoped>\n",
       "    .dataframe tbody tr th:only-of-type {\n",
       "        vertical-align: middle;\n",
       "    }\n",
       "\n",
       "    .dataframe tbody tr th {\n",
       "        vertical-align: top;\n",
       "    }\n",
       "\n",
       "    .dataframe thead th {\n",
       "        text-align: right;\n",
       "    }\n",
       "</style>\n",
       "<table border=\"1\" class=\"dataframe\">\n",
       "  <thead>\n",
       "    <tr style=\"text-align: right;\">\n",
       "      <th></th>\n",
       "      <th>RCP_SNO</th>\n",
       "      <th>RCP_TTL</th>\n",
       "      <th>CKG_NM</th>\n",
       "      <th>RGTR_ID</th>\n",
       "      <th>RGTR_NM</th>\n",
       "      <th>INQ_CNT</th>\n",
       "      <th>RCMM_CNT</th>\n",
       "      <th>SRAP_CNT</th>\n",
       "      <th>CKG_MTH_ACTO_NM</th>\n",
       "      <th>CKG_STA_ACTO_NM</th>\n",
       "      <th>CKG_MTRL_ACTO_NM</th>\n",
       "      <th>CKG_KND_ACTO_NM</th>\n",
       "      <th>CKG_IPDC</th>\n",
       "      <th>CKG_MTRL_CN</th>\n",
       "      <th>CKG_INBUN_NM</th>\n",
       "      <th>CKG_DODF_NM</th>\n",
       "      <th>CKG_TIME_NM</th>\n",
       "      <th>FIRST_REG_DT</th>\n",
       "      <th>material</th>\n",
       "    </tr>\n",
       "  </thead>\n",
       "  <tbody>\n",
       "    <tr>\n",
       "      <th>184986</th>\n",
       "      <td>7014703</td>\n",
       "      <td>맛 보장 명란젓 크림스파게티</td>\n",
       "      <td>명란젓크림스파게티</td>\n",
       "      <td>45205520</td>\n",
       "      <td>피오르디쿠치나</td>\n",
       "      <td>59</td>\n",
       "      <td>0</td>\n",
       "      <td>0</td>\n",
       "      <td>기타</td>\n",
       "      <td>손님접대</td>\n",
       "      <td>해물류</td>\n",
       "      <td>양식</td>\n",
       "      <td>이탈리아 사람들은 크림 파스타를 안 먹지만 제가 먹고 싶어서 만들어본 명란젓 크림 ...</td>\n",
       "      <td>[재료] 올리브오일| 스파게티면 80g| 명란젓 1덩이| 생크림 100g| 마늘 1...</td>\n",
       "      <td>1인분</td>\n",
       "      <td>아무나</td>\n",
       "      <td>NaN</td>\n",
       "      <td>2.023113e+13</td>\n",
       "      <td>올리브오일, 스파게티면 , 명란젓 , 생크림 , 마늘 , 양파 , 소금 약간, 후추 약간</td>\n",
       "    </tr>\n",
       "    <tr>\n",
       "      <th>184987</th>\n",
       "      <td>7014704</td>\n",
       "      <td>특별하고 맛있는 아마트리치아나 스파게티</td>\n",
       "      <td>아마트리치아나스파게티</td>\n",
       "      <td>45205520</td>\n",
       "      <td>피오르디쿠치나</td>\n",
       "      <td>46</td>\n",
       "      <td>0</td>\n",
       "      <td>0</td>\n",
       "      <td>기타</td>\n",
       "      <td>손님접대</td>\n",
       "      <td>돼지고기</td>\n",
       "      <td>양식</td>\n",
       "      <td>이 파스타가 먹고 싶었는데 관찰레를 구하기가 쉽지 않아 베이컨이나 판체타로 해보았는...</td>\n",
       "      <td>[재료] 올리브오일| 스파게티면 280~300g| 관찰레 120g| 홀토마토 1캔|...</td>\n",
       "      <td>4인분</td>\n",
       "      <td>아무나</td>\n",
       "      <td>30분이내</td>\n",
       "      <td>2.023113e+13</td>\n",
       "      <td>올리브오일, 스파게티면 , 관찰레 , 홀토마토 , 화이트와인 , 파르미지아노 치즈 ...</td>\n",
       "    </tr>\n",
       "    <tr>\n",
       "      <th>184988</th>\n",
       "      <td>7014705</td>\n",
       "      <td>오징어젓무침 만드는법~밥도둑 짜지않은 젓갈무침 만들기 ~</td>\n",
       "      <td>오징어젓무침</td>\n",
       "      <td>mimi030630</td>\n",
       "      <td>노란장미</td>\n",
       "      <td>110</td>\n",
       "      <td>0</td>\n",
       "      <td>8</td>\n",
       "      <td>무침</td>\n",
       "      <td>일상</td>\n",
       "      <td>가공식품류</td>\n",
       "      <td>김치/젓갈/장류</td>\n",
       "      <td>밥도둑 젓갈무침 맛나게 먹구선 짜게 먹게돼 물 많이 먹게되는 젓갈무침 좋아하지만 절...</td>\n",
       "      <td>[재료] 오징어젓200g| 무말랭이15g| 청양고추2개| 홍고추1개| 오이고추1개|...</td>\n",
       "      <td>2인분</td>\n",
       "      <td>아무나</td>\n",
       "      <td>NaN</td>\n",
       "      <td>2.023113e+13</td>\n",
       "      <td>오징어젓, 무말랭이, 청양고추, 홍고추, 오이고추, 쪽파 , 양파 , 다진마늘 , ...</td>\n",
       "    </tr>\n",
       "    <tr>\n",
       "      <th>184989</th>\n",
       "      <td>7014706</td>\n",
       "      <td>급식 계란찜 중탕 만들기</td>\n",
       "      <td>계란찜</td>\n",
       "      <td>ryuyi1220</td>\n",
       "      <td>해피레시피류이</td>\n",
       "      <td>170</td>\n",
       "      <td>0</td>\n",
       "      <td>6</td>\n",
       "      <td>찜</td>\n",
       "      <td>일상</td>\n",
       "      <td>달걀/유제품</td>\n",
       "      <td>밑반찬</td>\n",
       "      <td>안녕하세요  네이버 푸드인플루언서 류이입니다~^^ 중1 장남이를 176cm 진격의 ...</td>\n",
       "      <td>[재료] 달걀 6개| 우유 200ml| 물 100ml| 맛살 3개| 당근 1/3개|...</td>\n",
       "      <td>3인분</td>\n",
       "      <td>아무나</td>\n",
       "      <td>30분이내</td>\n",
       "      <td>2.023113e+13</td>\n",
       "      <td>달걀 , 우유 , 물 , 맛살 , 당근 , 대파 , 소금 , 참치액 , 맛술</td>\n",
       "    </tr>\n",
       "    <tr>\n",
       "      <th>184990</th>\n",
       "      <td>7014707</td>\n",
       "      <td>전자레인지 계란찜 만드는법</td>\n",
       "      <td>계란찜</td>\n",
       "      <td>mimi030630</td>\n",
       "      <td>노란장미</td>\n",
       "      <td>763</td>\n",
       "      <td>0</td>\n",
       "      <td>11</td>\n",
       "      <td>찜</td>\n",
       "      <td>일상</td>\n",
       "      <td>달걀/유제품</td>\n",
       "      <td>밑반찬</td>\n",
       "      <td>전자레인지 계란찜 만드는법</td>\n",
       "      <td>[재료] 계란 4개| 물 동량 250cc| 참치액 1T| 쪽파 조금| 알새우 1/2...</td>\n",
       "      <td>NaN</td>\n",
       "      <td>아무나</td>\n",
       "      <td>NaN</td>\n",
       "      <td>2.023113e+13</td>\n",
       "      <td>계란 , 물 동량 , 참치액 , 쪽파 조금, 알새우 , 참기름, 고춧가루, 통깨</td>\n",
       "    </tr>\n",
       "  </tbody>\n",
       "</table>\n",
       "</div>"
      ],
      "text/plain": [
       "        RCP_SNO                          RCP_TTL       CKG_NM     RGTR_ID  \\\n",
       "184986  7014703                  맛 보장 명란젓 크림스파게티    명란젓크림스파게티    45205520   \n",
       "184987  7014704            특별하고 맛있는 아마트리치아나 스파게티  아마트리치아나스파게티    45205520   \n",
       "184988  7014705  오징어젓무침 만드는법~밥도둑 짜지않은 젓갈무침 만들기 ~       오징어젓무침  mimi030630   \n",
       "184989  7014706                    급식 계란찜 중탕 만들기          계란찜   ryuyi1220   \n",
       "184990  7014707                   전자레인지 계란찜 만드는법          계란찜  mimi030630   \n",
       "\n",
       "        RGTR_NM  INQ_CNT RCMM_CNT SRAP_CNT CKG_MTH_ACTO_NM CKG_STA_ACTO_NM  \\\n",
       "184986  피오르디쿠치나       59        0        0              기타            손님접대   \n",
       "184987  피오르디쿠치나       46        0        0              기타            손님접대   \n",
       "184988     노란장미      110        0        8              무침              일상   \n",
       "184989  해피레시피류이      170        0        6               찜              일상   \n",
       "184990     노란장미      763        0       11               찜              일상   \n",
       "\n",
       "       CKG_MTRL_ACTO_NM CKG_KND_ACTO_NM  \\\n",
       "184986              해물류              양식   \n",
       "184987             돼지고기              양식   \n",
       "184988            가공식품류        김치/젓갈/장류   \n",
       "184989           달걀/유제품             밑반찬   \n",
       "184990           달걀/유제품             밑반찬   \n",
       "\n",
       "                                                 CKG_IPDC  \\\n",
       "184986  이탈리아 사람들은 크림 파스타를 안 먹지만 제가 먹고 싶어서 만들어본 명란젓 크림 ...   \n",
       "184987  이 파스타가 먹고 싶었는데 관찰레를 구하기가 쉽지 않아 베이컨이나 판체타로 해보았는...   \n",
       "184988  밥도둑 젓갈무침 맛나게 먹구선 짜게 먹게돼 물 많이 먹게되는 젓갈무침 좋아하지만 절...   \n",
       "184989  안녕하세요  네이버 푸드인플루언서 류이입니다~^^ 중1 장남이를 176cm 진격의 ...   \n",
       "184990                                     전자레인지 계란찜 만드는법   \n",
       "\n",
       "                                              CKG_MTRL_CN CKG_INBUN_NM  \\\n",
       "184986  [재료] 올리브오일| 스파게티면 80g| 명란젓 1덩이| 생크림 100g| 마늘 1...          1인분   \n",
       "184987  [재료] 올리브오일| 스파게티면 280~300g| 관찰레 120g| 홀토마토 1캔|...          4인분   \n",
       "184988  [재료] 오징어젓200g| 무말랭이15g| 청양고추2개| 홍고추1개| 오이고추1개|...          2인분   \n",
       "184989  [재료] 달걀 6개| 우유 200ml| 물 100ml| 맛살 3개| 당근 1/3개|...          3인분   \n",
       "184990  [재료] 계란 4개| 물 동량 250cc| 참치액 1T| 쪽파 조금| 알새우 1/2...          NaN   \n",
       "\n",
       "       CKG_DODF_NM CKG_TIME_NM  FIRST_REG_DT  \\\n",
       "184986         아무나         NaN  2.023113e+13   \n",
       "184987         아무나       30분이내  2.023113e+13   \n",
       "184988         아무나         NaN  2.023113e+13   \n",
       "184989         아무나       30분이내  2.023113e+13   \n",
       "184990         아무나         NaN  2.023113e+13   \n",
       "\n",
       "                                                 material  \n",
       "184986  올리브오일, 스파게티면 , 명란젓 , 생크림 , 마늘 , 양파 , 소금 약간, 후추 약간  \n",
       "184987  올리브오일, 스파게티면 , 관찰레 , 홀토마토 , 화이트와인 , 파르미지아노 치즈 ...  \n",
       "184988  오징어젓, 무말랭이, 청양고추, 홍고추, 오이고추, 쪽파 , 양파 , 다진마늘 , ...  \n",
       "184989        달걀 , 우유 , 물 , 맛살 , 당근 , 대파 , 소금 , 참치액 , 맛술   \n",
       "184990       계란 , 물 동량 , 참치액 , 쪽파 조금, 알새우 , 참기름, 고춧가루, 통깨  "
      ]
     },
     "execution_count": 29,
     "metadata": {},
     "output_type": "execute_result"
    }
   ],
   "source": [
    "recipe.tail()"
   ]
  },
  {
   "cell_type": "code",
   "execution_count": 30,
   "id": "bdd7d200",
   "metadata": {
    "scrolled": true
   },
   "outputs": [
    {
     "data": {
      "text/plain": [
       "True"
      ]
     },
     "execution_count": 30,
     "metadata": {},
     "output_type": "execute_result"
    }
   ],
   "source": [
    "# 특정 서브 문자열이 포함되어 있는지까지 확인 해서 True로 나옴\n",
    "'파' in recipe['material'][0]"
   ]
  },
  {
   "cell_type": "code",
   "execution_count": 47,
   "id": "2deb5a12",
   "metadata": {},
   "outputs": [],
   "source": [
    "# 정확히 일치하는 이름이 있는지 확인\n",
    "def check_name(recipe_material, food_name):\n",
    "    # food_name 도 공백 제거해서 동일한 환경으로 만들기\n",
    "    food_name = food_name.strip()\n",
    "    # 재료 문자열을 쉼표로 분리\n",
    "    foods = [food.strip() for food in recipe_material.split(',')]\n",
    "    \n",
    "    # 공백이 있는 재료를 분리하여 foods 리스트에 추가\n",
    "    result_foods = []\n",
    "    for food in foods:\n",
    "        if ' ' in food:\n",
    "            # 중간에 공백이 있으면 원래 변수 그대로 + 분리해서 추가\n",
    "            result_foods.extend(food.split(' '))\n",
    "            result_foods.append(food)\n",
    "        else:\n",
    "            result_foods.append(food)\n",
    "            \n",
    "    # print(result_foods)\n",
    "    \n",
    "    # 정확히 일치하는 재료가 있는지 확인\n",
    "    return any(food == food_name for food in result_foods)"
   ]
  },
  {
   "cell_type": "code",
   "execution_count": 48,
   "id": "1f64a291",
   "metadata": {},
   "outputs": [
    {
     "name": "stdout",
     "output_type": "stream",
     "text": [
      "False\n",
      "True\n"
     ]
    }
   ],
   "source": [
    "print(check_name(recipe['material'][0], '파'))\n",
    "print(check_name(recipe['material'][0], '양파'))"
   ]
  },
  {
   "cell_type": "code",
   "execution_count": 49,
   "id": "1cc5efc4",
   "metadata": {},
   "outputs": [
    {
     "name": "stdout",
     "output_type": "stream",
     "text": [
      "True\n",
      "True\n",
      "False\n"
     ]
    }
   ],
   "source": [
    "print(check_name('파마산 치즈, 양파', '파마산 치즈'))  # True\n",
    "print(check_name('파마산 치즈, 양파', ' 파마산 치즈 '))  # True\n",
    "print(check_name('파마산 치즈, 양파', '파마산치즈'))  # False"
   ]
  },
  {
   "cell_type": "code",
   "execution_count": null,
   "id": "40321f8c",
   "metadata": {},
   "outputs": [],
   "source": []
  },
  {
   "cell_type": "code",
   "execution_count": null,
   "id": "1efca93a",
   "metadata": {},
   "outputs": [],
   "source": []
  },
  {
   "cell_type": "code",
   "execution_count": 86,
   "id": "4198663a",
   "metadata": {},
   "outputs": [],
   "source": [
    "# import re\n",
    "\n",
    "# def extract_important_ingredients(text):\n",
    "#     # '재료' 태그와 기타 정보를 제거\n",
    "#     text = re.sub(r'\\[재료\\]|\\|', '', text)\n",
    "    \n",
    "#     # 숫자와 단위, 괄호를 제거하여 중요한 단어 추출\n",
    "#     text = re.sub(r'\\d+\\s*[a-zA-Z가-힣]+', '', text)\n",
    "#     text = re.sub(r'[가-힣]+', '', text).strip()\n",
    "    \n",
    "#     # 공백을 기준으로 단어 추출\n",
    "#     ingredients = [word.strip() for word in text.split() if word]\n",
    "    \n",
    "#     return ingredients\n",
    "\n",
    "# # 예제 사용법\n",
    "# example_text = '[재료] 파채 180g| 고춧가루 2스푼| 진간장 2스푼| 식초 2스푼| 참치액 1스푼| 설탕 1스푼| 참기름 1스푼| 통깨 조금'\n",
    "# extract_important_ingredients(example_text)"
   ]
  },
  {
   "cell_type": "code",
   "execution_count": 65,
   "id": "cf1be375",
   "metadata": {},
   "outputs": [],
   "source": [
    "# 재료이름만 남기는 함수\n",
    "def remain_food_name(food):\n",
    "    # food가 str 타입이 아니면 빈문자열 반환\n",
    "    if not isinstance(food, str):\n",
    "        return \"\"\n",
    "    \n",
    "    # 정규식 패턴\n",
    "    pattern = r'\\[\\w+\\]'\n",
    "\n",
    "    # 정규식으로 '[한글]' 형식의 부분을 찾아 분리\n",
    "    parts = re.split(pattern, food)\n",
    "    \n",
    "    # [한글] 형식 제외한 부분 저장\n",
    "    parts = [part.strip() for part in parts]\n",
    "    \n",
    "    # '| ' 부분을 제거해서 재료들을 각각 result에 저장\n",
    "    result = []\n",
    "    for i in parts:\n",
    "        result.extend(i.split('| '))\n",
    "        \n",
    "    return ' '.join(result[1:])"
   ]
  },
  {
   "cell_type": "code",
   "execution_count": 66,
   "id": "b93b3ac1",
   "metadata": {},
   "outputs": [
    {
     "name": "stdout",
     "output_type": "stream",
     "text": [
      "0         어묵 2개 김밥용김 3장 당면 1움큼 양파 1/2개 당근 1/2개 깻잎 6장 튀김가...\n",
      "1         두부 1/2모 당근 1/2개 고추 2개 브로콜리 1/4개 새우 4마리 녹말가루 계란 1개\n",
      "2         밥 1+1/2공기 당근 1/4개 치자단무지 1/2개 신김치 1쪽 무순 약간 날치알 ...\n",
      "3                           현미 4컵 찹쌀 2컵 호두 50g 물 1/2컵 소금 약간\n",
      "4         북어포 1마리 찹쌀가루 1C 간장 2T 설탕 1T 물 1T 다진파 1T 다진마늘 1...\n",
      "                                ...                        \n",
      "184986    올리브오일 스파게티면 80g 명란젓 1덩이 생크림 100g 마늘 1~2톨 양파 1/...\n",
      "184987    올리브오일 스파게티면 280~300g 관찰레 120g 홀토마토 1캔 화이트와인 50...\n",
      "184988    오징어젓200g 무말랭이15g 청양고추2개 홍고추1개 오이고추1개 쪽파 2줄 양파 ...\n",
      "184989    달걀 6개 우유 200ml 물 100ml 맛살 3개 당근 1/3개 대파 1/3대 소...\n",
      "184990    계란 4개 물 동량 250cc 참치액 1T 쪽파 조금 알새우 1/2컵 참기름 고춧가...\n",
      "Name: material2, Length: 184991, dtype: object\n"
     ]
    }
   ],
   "source": [
    "recipe['material2'] = recipe['CKG_MTRL_CN'].apply(remain_food_name)\n",
    "\n",
    "print(recipe['material2'])"
   ]
  },
  {
   "cell_type": "code",
   "execution_count": null,
   "id": "155acc61",
   "metadata": {},
   "outputs": [],
   "source": []
  },
  {
   "cell_type": "code",
   "execution_count": null,
   "id": "ccf9dbab",
   "metadata": {},
   "outputs": [],
   "source": []
  },
  {
   "cell_type": "code",
   "execution_count": 67,
   "id": "ea73643b",
   "metadata": {
    "scrolled": true
   },
   "outputs": [
    {
     "name": "stdout",
     "output_type": "stream",
     "text": [
      "0         [어묵, 개, 김밥, 용김, 장, 당면, 움큼, 양파, 개, 당근, 개, 깻잎, 장...\n",
      "1         [두부, 모, 당근, 개, 고추, 개, 브로콜리, 개, 새우, 마리, 녹말가루, 계...\n",
      "2         [밥, 공기, 당근, 개, 치자, 단무지, 개, 김치, 쪽, 무순, 약간, 날치, ...\n",
      "3                          [현미, 컵, 찹쌀, 컵, 호두, 물, 컵, 소금, 약간]\n",
      "4         [북어, 포, 마리, 찹쌀, 가루, 간장, 설탕, 물, 파, 마늘, 참기름, 깨소금...\n",
      "                                ...                        \n",
      "184986    [올리브오일, 스파게티, 명란젓, 덩이, 생크림, 마늘, 톨, 양파, 개, 소금, ...\n",
      "184987    [올리브오일, 스파게티, 관찰, 레, 홀, 토마토, 캔, 화이트와인, 파르, 미지,...\n",
      "184988    [오징어, 젓, 무, 말랭이, 청양고추, 개, 홍, 고추, 개, 오이, 고추, 개,...\n",
      "184989      [달걀, 개, 우유, 물, 맛살, 개, 당근, 개, 대파, 소금, 참치, 액, 맛술]\n",
      "184990    [계란, 개, 물, 동량, 참치, 액, 쪽파, 조금, 알, 새우, 컵, 참기름, 고...\n",
      "Name: nouns, Length: 184991, dtype: object\n"
     ]
    }
   ],
   "source": [
    "from konlpy.tag import Okt\n",
    "\n",
    "okt = Okt()\n",
    "\n",
    "# pos_tags 품사 명사 인것만 추출\n",
    "\n",
    "def noun_find(text):\n",
    "    # 텍스트의 품사를 태깅\n",
    "    tags = okt.pos(text)\n",
    "    # 명사만 추출\n",
    "    nouns = [word for word, pos in tags if pos == 'Noun']\n",
    "    return nouns\n",
    "    \n",
    "recipe['nouns'] = recipe['material2'].apply(noun_find)\n",
    "\n",
    "print(recipe['nouns'])"
   ]
  },
  {
   "cell_type": "code",
   "execution_count": 68,
   "id": "d8ed0d8b",
   "metadata": {
    "scrolled": false
   },
   "outputs": [
    {
     "data": {
      "text/html": [
       "<div>\n",
       "<style scoped>\n",
       "    .dataframe tbody tr th:only-of-type {\n",
       "        vertical-align: middle;\n",
       "    }\n",
       "\n",
       "    .dataframe tbody tr th {\n",
       "        vertical-align: top;\n",
       "    }\n",
       "\n",
       "    .dataframe thead th {\n",
       "        text-align: right;\n",
       "    }\n",
       "</style>\n",
       "<table border=\"1\" class=\"dataframe\">\n",
       "  <thead>\n",
       "    <tr style=\"text-align: right;\">\n",
       "      <th></th>\n",
       "      <th>RCP_SNO</th>\n",
       "      <th>RCP_TTL</th>\n",
       "      <th>CKG_NM</th>\n",
       "      <th>RGTR_ID</th>\n",
       "      <th>RGTR_NM</th>\n",
       "      <th>INQ_CNT</th>\n",
       "      <th>RCMM_CNT</th>\n",
       "      <th>SRAP_CNT</th>\n",
       "      <th>CKG_MTH_ACTO_NM</th>\n",
       "      <th>CKG_STA_ACTO_NM</th>\n",
       "      <th>...</th>\n",
       "      <th>CKG_KND_ACTO_NM</th>\n",
       "      <th>CKG_IPDC</th>\n",
       "      <th>CKG_MTRL_CN</th>\n",
       "      <th>CKG_INBUN_NM</th>\n",
       "      <th>CKG_DODF_NM</th>\n",
       "      <th>CKG_TIME_NM</th>\n",
       "      <th>FIRST_REG_DT</th>\n",
       "      <th>material</th>\n",
       "      <th>material2</th>\n",
       "      <th>nouns</th>\n",
       "    </tr>\n",
       "  </thead>\n",
       "  <tbody>\n",
       "    <tr>\n",
       "      <th>184986</th>\n",
       "      <td>7014703</td>\n",
       "      <td>맛 보장 명란젓 크림스파게티</td>\n",
       "      <td>명란젓크림스파게티</td>\n",
       "      <td>45205520</td>\n",
       "      <td>피오르디쿠치나</td>\n",
       "      <td>59</td>\n",
       "      <td>0</td>\n",
       "      <td>0</td>\n",
       "      <td>기타</td>\n",
       "      <td>손님접대</td>\n",
       "      <td>...</td>\n",
       "      <td>양식</td>\n",
       "      <td>이탈리아 사람들은 크림 파스타를 안 먹지만 제가 먹고 싶어서 만들어본 명란젓 크림 ...</td>\n",
       "      <td>[재료] 올리브오일| 스파게티면 80g| 명란젓 1덩이| 생크림 100g| 마늘 1...</td>\n",
       "      <td>1인분</td>\n",
       "      <td>아무나</td>\n",
       "      <td>NaN</td>\n",
       "      <td>2.023113e+13</td>\n",
       "      <td>올리브오일, 스파게티면 , 명란젓 , 생크림 , 마늘 , 양파 , 소금 약간, 후추 약간</td>\n",
       "      <td>올리브오일 스파게티면 80g 명란젓 1덩이 생크림 100g 마늘 1~2톨 양파 1/...</td>\n",
       "      <td>[올리브오일, 스파게티, 명란젓, 덩이, 생크림, 마늘, 톨, 양파, 개, 소금, ...</td>\n",
       "    </tr>\n",
       "    <tr>\n",
       "      <th>184987</th>\n",
       "      <td>7014704</td>\n",
       "      <td>특별하고 맛있는 아마트리치아나 스파게티</td>\n",
       "      <td>아마트리치아나스파게티</td>\n",
       "      <td>45205520</td>\n",
       "      <td>피오르디쿠치나</td>\n",
       "      <td>46</td>\n",
       "      <td>0</td>\n",
       "      <td>0</td>\n",
       "      <td>기타</td>\n",
       "      <td>손님접대</td>\n",
       "      <td>...</td>\n",
       "      <td>양식</td>\n",
       "      <td>이 파스타가 먹고 싶었는데 관찰레를 구하기가 쉽지 않아 베이컨이나 판체타로 해보았는...</td>\n",
       "      <td>[재료] 올리브오일| 스파게티면 280~300g| 관찰레 120g| 홀토마토 1캔|...</td>\n",
       "      <td>4인분</td>\n",
       "      <td>아무나</td>\n",
       "      <td>30분이내</td>\n",
       "      <td>2.023113e+13</td>\n",
       "      <td>올리브오일, 스파게티면 , 관찰레 , 홀토마토 , 화이트와인 , 파르미지아노 치즈 ...</td>\n",
       "      <td>올리브오일 스파게티면 280~300g 관찰레 120g 홀토마토 1캔 화이트와인 50...</td>\n",
       "      <td>[올리브오일, 스파게티, 관찰, 레, 홀, 토마토, 캔, 화이트와인, 파르, 미지,...</td>\n",
       "    </tr>\n",
       "    <tr>\n",
       "      <th>184988</th>\n",
       "      <td>7014705</td>\n",
       "      <td>오징어젓무침 만드는법~밥도둑 짜지않은 젓갈무침 만들기 ~</td>\n",
       "      <td>오징어젓무침</td>\n",
       "      <td>mimi030630</td>\n",
       "      <td>노란장미</td>\n",
       "      <td>110</td>\n",
       "      <td>0</td>\n",
       "      <td>8</td>\n",
       "      <td>무침</td>\n",
       "      <td>일상</td>\n",
       "      <td>...</td>\n",
       "      <td>김치/젓갈/장류</td>\n",
       "      <td>밥도둑 젓갈무침 맛나게 먹구선 짜게 먹게돼 물 많이 먹게되는 젓갈무침 좋아하지만 절...</td>\n",
       "      <td>[재료] 오징어젓200g| 무말랭이15g| 청양고추2개| 홍고추1개| 오이고추1개|...</td>\n",
       "      <td>2인분</td>\n",
       "      <td>아무나</td>\n",
       "      <td>NaN</td>\n",
       "      <td>2.023113e+13</td>\n",
       "      <td>오징어젓, 무말랭이, 청양고추, 홍고추, 오이고추, 쪽파 , 양파 , 다진마늘 , ...</td>\n",
       "      <td>오징어젓200g 무말랭이15g 청양고추2개 홍고추1개 오이고추1개 쪽파 2줄 양파 ...</td>\n",
       "      <td>[오징어, 젓, 무, 말랭이, 청양고추, 개, 홍, 고추, 개, 오이, 고추, 개,...</td>\n",
       "    </tr>\n",
       "    <tr>\n",
       "      <th>184989</th>\n",
       "      <td>7014706</td>\n",
       "      <td>급식 계란찜 중탕 만들기</td>\n",
       "      <td>계란찜</td>\n",
       "      <td>ryuyi1220</td>\n",
       "      <td>해피레시피류이</td>\n",
       "      <td>170</td>\n",
       "      <td>0</td>\n",
       "      <td>6</td>\n",
       "      <td>찜</td>\n",
       "      <td>일상</td>\n",
       "      <td>...</td>\n",
       "      <td>밑반찬</td>\n",
       "      <td>안녕하세요  네이버 푸드인플루언서 류이입니다~^^ 중1 장남이를 176cm 진격의 ...</td>\n",
       "      <td>[재료] 달걀 6개| 우유 200ml| 물 100ml| 맛살 3개| 당근 1/3개|...</td>\n",
       "      <td>3인분</td>\n",
       "      <td>아무나</td>\n",
       "      <td>30분이내</td>\n",
       "      <td>2.023113e+13</td>\n",
       "      <td>달걀 , 우유 , 물 , 맛살 , 당근 , 대파 , 소금 , 참치액 , 맛술</td>\n",
       "      <td>달걀 6개 우유 200ml 물 100ml 맛살 3개 당근 1/3개 대파 1/3대 소...</td>\n",
       "      <td>[달걀, 개, 우유, 물, 맛살, 개, 당근, 개, 대파, 소금, 참치, 액, 맛술]</td>\n",
       "    </tr>\n",
       "    <tr>\n",
       "      <th>184990</th>\n",
       "      <td>7014707</td>\n",
       "      <td>전자레인지 계란찜 만드는법</td>\n",
       "      <td>계란찜</td>\n",
       "      <td>mimi030630</td>\n",
       "      <td>노란장미</td>\n",
       "      <td>763</td>\n",
       "      <td>0</td>\n",
       "      <td>11</td>\n",
       "      <td>찜</td>\n",
       "      <td>일상</td>\n",
       "      <td>...</td>\n",
       "      <td>밑반찬</td>\n",
       "      <td>전자레인지 계란찜 만드는법</td>\n",
       "      <td>[재료] 계란 4개| 물 동량 250cc| 참치액 1T| 쪽파 조금| 알새우 1/2...</td>\n",
       "      <td>NaN</td>\n",
       "      <td>아무나</td>\n",
       "      <td>NaN</td>\n",
       "      <td>2.023113e+13</td>\n",
       "      <td>계란 , 물 동량 , 참치액 , 쪽파 조금, 알새우 , 참기름, 고춧가루, 통깨</td>\n",
       "      <td>계란 4개 물 동량 250cc 참치액 1T 쪽파 조금 알새우 1/2컵 참기름 고춧가...</td>\n",
       "      <td>[계란, 개, 물, 동량, 참치, 액, 쪽파, 조금, 알, 새우, 컵, 참기름, 고...</td>\n",
       "    </tr>\n",
       "  </tbody>\n",
       "</table>\n",
       "<p>5 rows × 21 columns</p>\n",
       "</div>"
      ],
      "text/plain": [
       "        RCP_SNO                          RCP_TTL       CKG_NM     RGTR_ID  \\\n",
       "184986  7014703                  맛 보장 명란젓 크림스파게티    명란젓크림스파게티    45205520   \n",
       "184987  7014704            특별하고 맛있는 아마트리치아나 스파게티  아마트리치아나스파게티    45205520   \n",
       "184988  7014705  오징어젓무침 만드는법~밥도둑 짜지않은 젓갈무침 만들기 ~       오징어젓무침  mimi030630   \n",
       "184989  7014706                    급식 계란찜 중탕 만들기          계란찜   ryuyi1220   \n",
       "184990  7014707                   전자레인지 계란찜 만드는법          계란찜  mimi030630   \n",
       "\n",
       "        RGTR_NM  INQ_CNT RCMM_CNT SRAP_CNT CKG_MTH_ACTO_NM CKG_STA_ACTO_NM  \\\n",
       "184986  피오르디쿠치나       59        0        0              기타            손님접대   \n",
       "184987  피오르디쿠치나       46        0        0              기타            손님접대   \n",
       "184988     노란장미      110        0        8              무침              일상   \n",
       "184989  해피레시피류이      170        0        6               찜              일상   \n",
       "184990     노란장미      763        0       11               찜              일상   \n",
       "\n",
       "        ... CKG_KND_ACTO_NM  \\\n",
       "184986  ...              양식   \n",
       "184987  ...              양식   \n",
       "184988  ...        김치/젓갈/장류   \n",
       "184989  ...             밑반찬   \n",
       "184990  ...             밑반찬   \n",
       "\n",
       "                                                 CKG_IPDC  \\\n",
       "184986  이탈리아 사람들은 크림 파스타를 안 먹지만 제가 먹고 싶어서 만들어본 명란젓 크림 ...   \n",
       "184987  이 파스타가 먹고 싶었는데 관찰레를 구하기가 쉽지 않아 베이컨이나 판체타로 해보았는...   \n",
       "184988  밥도둑 젓갈무침 맛나게 먹구선 짜게 먹게돼 물 많이 먹게되는 젓갈무침 좋아하지만 절...   \n",
       "184989  안녕하세요  네이버 푸드인플루언서 류이입니다~^^ 중1 장남이를 176cm 진격의 ...   \n",
       "184990                                     전자레인지 계란찜 만드는법   \n",
       "\n",
       "                                              CKG_MTRL_CN CKG_INBUN_NM  \\\n",
       "184986  [재료] 올리브오일| 스파게티면 80g| 명란젓 1덩이| 생크림 100g| 마늘 1...          1인분   \n",
       "184987  [재료] 올리브오일| 스파게티면 280~300g| 관찰레 120g| 홀토마토 1캔|...          4인분   \n",
       "184988  [재료] 오징어젓200g| 무말랭이15g| 청양고추2개| 홍고추1개| 오이고추1개|...          2인분   \n",
       "184989  [재료] 달걀 6개| 우유 200ml| 물 100ml| 맛살 3개| 당근 1/3개|...          3인분   \n",
       "184990  [재료] 계란 4개| 물 동량 250cc| 참치액 1T| 쪽파 조금| 알새우 1/2...          NaN   \n",
       "\n",
       "       CKG_DODF_NM CKG_TIME_NM  FIRST_REG_DT  \\\n",
       "184986         아무나         NaN  2.023113e+13   \n",
       "184987         아무나       30분이내  2.023113e+13   \n",
       "184988         아무나         NaN  2.023113e+13   \n",
       "184989         아무나       30분이내  2.023113e+13   \n",
       "184990         아무나         NaN  2.023113e+13   \n",
       "\n",
       "                                                 material  \\\n",
       "184986  올리브오일, 스파게티면 , 명란젓 , 생크림 , 마늘 , 양파 , 소금 약간, 후추 약간   \n",
       "184987  올리브오일, 스파게티면 , 관찰레 , 홀토마토 , 화이트와인 , 파르미지아노 치즈 ...   \n",
       "184988  오징어젓, 무말랭이, 청양고추, 홍고추, 오이고추, 쪽파 , 양파 , 다진마늘 , ...   \n",
       "184989        달걀 , 우유 , 물 , 맛살 , 당근 , 대파 , 소금 , 참치액 , 맛술    \n",
       "184990       계란 , 물 동량 , 참치액 , 쪽파 조금, 알새우 , 참기름, 고춧가루, 통깨   \n",
       "\n",
       "                                                material2  \\\n",
       "184986  올리브오일 스파게티면 80g 명란젓 1덩이 생크림 100g 마늘 1~2톨 양파 1/...   \n",
       "184987  올리브오일 스파게티면 280~300g 관찰레 120g 홀토마토 1캔 화이트와인 50...   \n",
       "184988  오징어젓200g 무말랭이15g 청양고추2개 홍고추1개 오이고추1개 쪽파 2줄 양파 ...   \n",
       "184989  달걀 6개 우유 200ml 물 100ml 맛살 3개 당근 1/3개 대파 1/3대 소...   \n",
       "184990  계란 4개 물 동량 250cc 참치액 1T 쪽파 조금 알새우 1/2컵 참기름 고춧가...   \n",
       "\n",
       "                                                    nouns  \n",
       "184986  [올리브오일, 스파게티, 명란젓, 덩이, 생크림, 마늘, 톨, 양파, 개, 소금, ...  \n",
       "184987  [올리브오일, 스파게티, 관찰, 레, 홀, 토마토, 캔, 화이트와인, 파르, 미지,...  \n",
       "184988  [오징어, 젓, 무, 말랭이, 청양고추, 개, 홍, 고추, 개, 오이, 고추, 개,...  \n",
       "184989    [달걀, 개, 우유, 물, 맛살, 개, 당근, 개, 대파, 소금, 참치, 액, 맛술]  \n",
       "184990  [계란, 개, 물, 동량, 참치, 액, 쪽파, 조금, 알, 새우, 컵, 참기름, 고...  \n",
       "\n",
       "[5 rows x 21 columns]"
      ]
     },
     "execution_count": 68,
     "metadata": {},
     "output_type": "execute_result"
    }
   ],
   "source": [
    "recipe.tail()"
   ]
  },
  {
   "cell_type": "code",
   "execution_count": null,
   "id": "eb6eb3c8",
   "metadata": {},
   "outputs": [],
   "source": []
  },
  {
   "cell_type": "code",
   "execution_count": 69,
   "id": "3011339e",
   "metadata": {},
   "outputs": [
    {
     "name": "stdout",
     "output_type": "stream",
     "text": [
      "['-', '파인애플', '귤', '사과', '베이글', '바나나', '여주', '오이', '마늘', '청고추', '오크라', '버섯', '양파', '오렌지', '감자', '수세미오이', '토마토', '여주', '사과', '아스파라거스', '아보카도', '베이컨', '바나나', '소고기', '피망', '피망', '도시락', '여주', '블루베리', '청경채', '병', '빵', '브로콜리', '버터', '양배추', '캔', '통조림 참치', '당근', '캐슈넛', '콜리플라워', '치즈', '체리', '닭고기', '닭 가슴살', '닭 넓적다리', '닭 날개', '닭 가슴살', '고추', '초콜릿', '옥수수', '게', '크림치즈', '오이', '대추야자', '계란', '계란', '가지', '계란', '생선', '어묵', '밀가루', '감자튀김', '마늘', '생강', '염소 치즈', '자몽', '포도', '갈린 치즈', '청고추', '초록 고추', '그린빈', '파', '간 소고기', '과카몰리', '햄', '해쉬 브라운', '생크림', '후무스', '주스', '케첩', '김치', '키위', '대파', '레몬', '상추', '라임', '랍스터 꼬리', '망고', '마멀레이드', '마요네즈', '마요네즈', '우유', '민트', '모짜렐라 치즈', '버섯', '머스터드', '나초 칩', '견과류', '올리브', '양파', '오렌지', '굴', '청경채', '파르메산 치즈', '파슬리', '파스타', '파파야', '복숭아', '땅콩', '배', '완두콩', '고추', '피클', '피멘토', '파인애플', '플랜테인', '플라스틱 보관함', '석류', '돼지고기', '돼지 삼겹살', '냄비', '감자', '감자', '푸딩', '호박', '무', '홍고추', '적양배추', '적포도', '적양파', '쌀', '주먹밥', '떡', '샐러드', '살라미', '연어', '샌드위치', '소시지', '차요테', '가리비', '해초', '참깨', '새우', '스무디', '시금치', '대파', '딸기', '딸기', '설탕', '고구마', '고구마', '귤', '템페', '두부', '토마토', '토마토 소스', '토르티야', '참치', '칠면조', '수박', '백미', '요거트', '주키니']\n"
     ]
    }
   ],
   "source": [
    "import json\n",
    "\n",
    "# 라벨이 번역된 json 파일 로드\n",
    "with open('translation_names.json', 'r', encoding='utf-8') as file:\n",
    "    mapping_dict = json.load(file)\n",
    "\n",
    "# yaml 파일에서 names 복사 후 여기에 붙여넣기\n",
    "names = ['-', '10_pineapple', '10_tangerine', 'Apple', 'Bagel', 'Banana', 'Bitter melon', 'Cucumber', 'Garlic', 'Green Chili', 'Lady finger', 'Mushroom', 'Onion', 'Orange', 'Potato', 'Sponge Gourd', 'Tomato', 'ampalaya', 'apple', 'asparagus', 'avocado', 'bacon', 'banana', 'beef', 'bell pepper', 'bell_pepper', 'bento', 'bitter gourd', 'blueberries', 'bok choy', 'bottle', 'bread', 'broccoli', 'butter', 'cabbage', 'can', 'canned_tuna', 'carrot', 'cashew', 'cauliflower', 'cheese', 'cherry', 'chicken', 'chicken breast', 'chicken thigh', 'chicken wing', 'chicken_breast', 'chilli', 'chocolate', 'corn', 'crab', 'cream-cheese', 'cucumber', 'dates', 'egg', 'egg_', 'eggplant', 'eggs', 'fish', 'fish_cake', 'flour', 'french_fries', 'garlic', 'ginger', 'goat_cheese', 'grapefruit', 'grapes', 'grated_cheese', 'green chilli', 'green-chillies', 'green_beans', 'green_onion', 'ground_beef', 'guacamole', 'ham', 'hash_brown', 'heavy_cream', 'humus', 'juice', 'ketchup', 'kimchi', 'kiwi', 'leek', 'lemon', 'lettuce', 'lime', 'lobster tails', 'mango', 'marmelade', 'mayonaise', 'mayonnaise', 'milk', 'mint', 'mozzarella cheese', 'mushrooms', 'mustard', 'nacho_chips', 'nuts', 'olives', 'onion', 'orange', 'oysters', 'pak_choi', 'parmasan_cheese', 'parsley', 'pasta', 'pawpaw', 'peach', 'peanuts', 'pear', 'peas', 'pepper', 'pickles', 'pimento', 'pineapple', 'plantains', 'plasticsaveholder', 'pomegrante', 'pork', 'pork belly', 'pot', 'potato', 'potatoes', 'pudding', 'pumpkin', 'radish', 'red chili', 'red_cabbage', 'red_grapes', 'red_onion', 'rice', 'rice_ball', 'rice_cake', 'salad', 'salami', 'salmon', 'sandwich', 'sausage', 'sayote', 'sea scallops', 'seaweed', 'seseme', 'shrimp', 'smoothie', 'spinach', 'spring_onion', 'strawberries', 'strawberry', 'sugar', 'sweet potato', 'sweet_potato', 'tangerine', 'tempeh', 'tofu', 'tomato', 'tomato_sauce', 'tortillas', 'tuna', 'turkey', 'watermelon', 'white rice', 'yogurt', 'zucchini']\n",
    "\n",
    "# json 파일을 참조하여 각 단어 맵핑하기\n",
    "translated_names = [mapping_dict.get(name.lower(), name) for name in names]\n",
    "\n",
    "print(translated_names)"
   ]
  },
  {
   "cell_type": "code",
   "execution_count": null,
   "id": "74c34ec9",
   "metadata": {},
   "outputs": [],
   "source": [
    "translated_names "
   ]
  },
  {
   "cell_type": "code",
   "execution_count": 71,
   "id": "7dd96216",
   "metadata": {},
   "outputs": [],
   "source": [
    "# 필터링 함수 정의\n",
    "def filter_food_nouns(nouns, food_list):\n",
    "    return [noun for noun in nouns if noun in food_list]\n",
    "\n",
    "recipe['filtered_nouns'] = recipe['nouns'].apply(lambda x: filter_food_nouns(x, translated_names))"
   ]
  },
  {
   "cell_type": "code",
   "execution_count": 72,
   "id": "aabcb73d",
   "metadata": {},
   "outputs": [
    {
     "name": "stdout",
     "output_type": "stream",
     "text": [
      "Filtered Unique Nouns:\n",
      "{'돼지고기', '떡', '생강', '파인애플', '수박', '밀가루', '버섯', '파스타', '레몬', '아스파라거스', '바나나', '파파야', '소고기', '연어', '닭고기', '고추', '캐슈넛', '스무디', '고구마', '파슬리', '피클', '자몽', '새우', '베이컨', '생선', '파', '브로콜리', '빵', '백미', '참치', '적양배추', '체리', '당근', '계란', '감자', '석류', '망고', '두부', '해초', '대파', '라임', '캔', '칠면조', '마멀레이드', '땅콩', '도시락', '어묵', '게', '양파', '옥수수', '키위', '가지', '견과류', '시금치', '여주', '초콜릿', '마늘', '양배추', '냄비', '우유', '케첩', '호박', '딸기', '무', '피망', '복숭아', '올리브', '병', '가리비', '템페', '오이', '햄', '머스터드', '포도', '콜리플라워', '토마토', '주먹밥', '귤', '아보카도', '설탕', '요거트', '소시지', '후무스', '완두콩', '샐러드', '주스', '김치', '생크림', '토르티야', '샌드위치', '오크라', '민트', '푸딩', '사과', '쌀', '상추', '마요네즈', '베이글', '살라미', '대추야자', '블루베리', '참깨', '버터', '치즈', '배', '굴', '오렌지', '청경채'}\n"
     ]
    }
   ],
   "source": [
    "# 모든 필터링된 명사 집합화\n",
    "all_filtered_nouns = [noun for sublist in recipe['filtered_nouns'] for noun in sublist]\n",
    "unique_filtered_nouns = set(all_filtered_nouns)\n",
    "\n",
    "# 결과 출력\n",
    "print(\"Filtered Unique Nouns:\")\n",
    "print(unique_filtered_nouns)"
   ]
  },
  {
   "cell_type": "code",
   "execution_count": 74,
   "id": "344ca623",
   "metadata": {
    "scrolled": true
   },
   "outputs": [
    {
     "data": {
      "text/plain": [
       "0                       [어묵, 양파, 당근]\n",
       "1         [두부, 당근, 고추, 브로콜리, 새우, 계란]\n",
       "2                       [당근, 김치, 계란]\n",
       "3                                 []\n",
       "4                        [설탕, 파, 마늘]\n",
       "                     ...            \n",
       "184986                 [생크림, 마늘, 양파]\n",
       "184987                  [토마토, 캔, 치즈]\n",
       "184988       [무, 고추, 오이, 고추, 양파, 마늘]\n",
       "184989              [우유, 당근, 대파, 참치]\n",
       "184990                  [계란, 참치, 새우]\n",
       "Name: filtered_nouns, Length: 184991, dtype: object"
      ]
     },
     "execution_count": 74,
     "metadata": {},
     "output_type": "execute_result"
    }
   ],
   "source": [
    "# okt 이용\n",
    "recipe['filtered_nouns']"
   ]
  },
  {
   "cell_type": "code",
   "execution_count": null,
   "id": "7b507683",
   "metadata": {},
   "outputs": [],
   "source": []
  },
  {
   "cell_type": "code",
   "execution_count": null,
   "id": "76697e25",
   "metadata": {},
   "outputs": [],
   "source": []
  },
  {
   "cell_type": "code",
   "execution_count": null,
   "id": "3040da94",
   "metadata": {},
   "outputs": [],
   "source": []
  },
  {
   "cell_type": "code",
   "execution_count": null,
   "id": "6a4f8982",
   "metadata": {},
   "outputs": [],
   "source": []
  },
  {
   "cell_type": "code",
   "execution_count": null,
   "id": "dd01af1b",
   "metadata": {},
   "outputs": [],
   "source": []
  },
  {
   "cell_type": "code",
   "execution_count": null,
   "id": "4ce54a2d",
   "metadata": {},
   "outputs": [],
   "source": []
  },
  {
   "cell_type": "code",
   "execution_count": null,
   "id": "ee305ab6",
   "metadata": {},
   "outputs": [],
   "source": []
  },
  {
   "cell_type": "code",
   "execution_count": null,
   "id": "882d2301",
   "metadata": {},
   "outputs": [],
   "source": []
  },
  {
   "cell_type": "code",
   "execution_count": null,
   "id": "b6347702",
   "metadata": {},
   "outputs": [],
   "source": []
  },
  {
   "cell_type": "code",
   "execution_count": 23,
   "id": "d7f530a7",
   "metadata": {},
   "outputs": [
    {
     "name": "stdout",
     "output_type": "stream",
     "text": [
      "['[재료]', '어묵 2개| 김밥용김 3장| 당면 1움큼| 양파 1/2개| 당근 1/2개| 깻잎 6장| 튀김가루 1컵 | 올리브유 적당량| 간장 1T| 참기름 1T']\n"
     ]
    }
   ],
   "source": [
    "# 정규식 패턴\n",
    "pattern2 = r'(\\[\\w+\\])|(.*?)(?=\\[\\w+\\]|$)'\n",
    "\n",
    "# 정규식으로 '[한글]' 형식의 부분을 포함하여 데이터를 추출\n",
    "parts = re.findall(pattern2, recipe_material[0])\n",
    "\n",
    "# 결과를 보기 좋게 정리\n",
    "result = []\n",
    "for part in parts:\n",
    "    if part[0]:\n",
    "        result.append(part[0])\n",
    "    if part[1].strip():\n",
    "        result.append(part[1].strip())\n",
    "\n",
    "print(result)"
   ]
  },
  {
   "cell_type": "code",
   "execution_count": null,
   "id": "73e9e9b8",
   "metadata": {},
   "outputs": [],
   "source": []
  }
 ],
 "metadata": {
  "kernelspec": {
   "display_name": "Python 3 (ipykernel)",
   "language": "python",
   "name": "python3"
  },
  "language_info": {
   "codemirror_mode": {
    "name": "ipython",
    "version": 3
   },
   "file_extension": ".py",
   "mimetype": "text/x-python",
   "name": "python",
   "nbconvert_exporter": "python",
   "pygments_lexer": "ipython3",
   "version": "3.9.7"
  }
 },
 "nbformat": 4,
 "nbformat_minor": 5
}
