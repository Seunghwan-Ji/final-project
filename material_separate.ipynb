{
 "cells": [
  {
   "cell_type": "code",
   "execution_count": 1,
   "id": "e66a19be",
   "metadata": {},
   "outputs": [],
   "source": [
    "import numpy as np\n",
    "import pandas as pd"
   ]
  },
  {
   "cell_type": "code",
   "execution_count": 4,
   "id": "96ded450",
   "metadata": {},
   "outputs": [
    {
     "data": {
      "text/html": [
       "<div>\n",
       "<style scoped>\n",
       "    .dataframe tbody tr th:only-of-type {\n",
       "        vertical-align: middle;\n",
       "    }\n",
       "\n",
       "    .dataframe tbody tr th {\n",
       "        vertical-align: top;\n",
       "    }\n",
       "\n",
       "    .dataframe thead th {\n",
       "        text-align: right;\n",
       "    }\n",
       "</style>\n",
       "<table border=\"1\" class=\"dataframe\">\n",
       "  <thead>\n",
       "    <tr style=\"text-align: right;\">\n",
       "      <th></th>\n",
       "      <th>RCP_SNO</th>\n",
       "      <th>RCP_TTL</th>\n",
       "      <th>CKG_NM</th>\n",
       "      <th>RGTR_ID</th>\n",
       "      <th>RGTR_NM</th>\n",
       "      <th>INQ_CNT</th>\n",
       "      <th>RCMM_CNT</th>\n",
       "      <th>SRAP_CNT</th>\n",
       "      <th>CKG_MTH_ACTO_NM</th>\n",
       "      <th>CKG_STA_ACTO_NM</th>\n",
       "      <th>CKG_MTRL_ACTO_NM</th>\n",
       "      <th>CKG_KND_ACTO_NM</th>\n",
       "      <th>CKG_IPDC</th>\n",
       "      <th>CKG_MTRL_CN</th>\n",
       "      <th>CKG_INBUN_NM</th>\n",
       "      <th>CKG_DODF_NM</th>\n",
       "      <th>CKG_TIME_NM</th>\n",
       "      <th>FIRST_REG_DT</th>\n",
       "    </tr>\n",
       "  </thead>\n",
       "  <tbody>\n",
       "    <tr>\n",
       "      <th>0</th>\n",
       "      <td>128671</td>\n",
       "      <td>어묵김말이</td>\n",
       "      <td>어묵김말이</td>\n",
       "      <td>skfo0701</td>\n",
       "      <td>꽃날</td>\n",
       "      <td>10072</td>\n",
       "      <td>6</td>\n",
       "      <td>66</td>\n",
       "      <td>튀김</td>\n",
       "      <td>간식</td>\n",
       "      <td>가공식품류</td>\n",
       "      <td>디저트</td>\n",
       "      <td>맛있는 김말이에 쫄깃함을 더한 어묵 김말이예요-</td>\n",
       "      <td>[재료] 어묵 2개| 김밥용김 3장| 당면 1움큼| 양파 1/2개| 당근 1/2개|...</td>\n",
       "      <td>2인분</td>\n",
       "      <td>초급</td>\n",
       "      <td>60분이내</td>\n",
       "      <td>2.007040e+13</td>\n",
       "    </tr>\n",
       "    <tr>\n",
       "      <th>1</th>\n",
       "      <td>128892</td>\n",
       "      <td>두부에 꼬리가 달렸어요!!</td>\n",
       "      <td>두부새우전</td>\n",
       "      <td>skfo0701</td>\n",
       "      <td>꽃날</td>\n",
       "      <td>5817</td>\n",
       "      <td>3</td>\n",
       "      <td>27</td>\n",
       "      <td>부침</td>\n",
       "      <td>일상</td>\n",
       "      <td>해물류</td>\n",
       "      <td>밑반찬</td>\n",
       "      <td>꼬리가 너-무- 매력적인 두부새우전. 두부와 야채를 한번에!! 영양까지 만점인 두부...</td>\n",
       "      <td>[재료] 두부 1/2모| 당근 1/2개| 고추 2개| 브로콜리 1/4개| 새우 4마...</td>\n",
       "      <td>3인분</td>\n",
       "      <td>초급</td>\n",
       "      <td>30분이내</td>\n",
       "      <td>2.007040e+13</td>\n",
       "    </tr>\n",
       "    <tr>\n",
       "      <th>2</th>\n",
       "      <td>128932</td>\n",
       "      <td>입안에서 톡톡톡</td>\n",
       "      <td>알밥</td>\n",
       "      <td>skfo0701</td>\n",
       "      <td>꽃날</td>\n",
       "      <td>6975</td>\n",
       "      <td>8</td>\n",
       "      <td>36</td>\n",
       "      <td>굽기</td>\n",
       "      <td>일상</td>\n",
       "      <td>해물류</td>\n",
       "      <td>밥/죽/떡</td>\n",
       "      <td>간단하게 만들어 보는 알이 톡톡톡 알밥♥ 다 먹고 누룽지까지 싹싹 긁어먹는게 최고죠...</td>\n",
       "      <td>[재료] 밥 1+1/2공기| 당근 1/4개| 치자단무지 1/2개| 신김치 1쪽| 무...</td>\n",
       "      <td>2인분</td>\n",
       "      <td>초급</td>\n",
       "      <td>30분이내</td>\n",
       "      <td>2.007040e+13</td>\n",
       "    </tr>\n",
       "    <tr>\n",
       "      <th>3</th>\n",
       "      <td>131871</td>\n",
       "      <td>★현미호두죽</td>\n",
       "      <td>현미호두죽</td>\n",
       "      <td>cds1117</td>\n",
       "      <td>햇님&amp;별님</td>\n",
       "      <td>3339</td>\n",
       "      <td>0</td>\n",
       "      <td>11</td>\n",
       "      <td>끓이기</td>\n",
       "      <td>일상</td>\n",
       "      <td>쌀</td>\n",
       "      <td>밥/죽/떡</td>\n",
       "      <td>현미호두죽</td>\n",
       "      <td>[재료] 현미 4컵| 찹쌀 2컵| 호두 50g| 물 1/2컵| 소금 약간</td>\n",
       "      <td>2인분</td>\n",
       "      <td>초급</td>\n",
       "      <td>30분이내</td>\n",
       "      <td>2.007041e+13</td>\n",
       "    </tr>\n",
       "    <tr>\n",
       "      <th>4</th>\n",
       "      <td>139247</td>\n",
       "      <td>부들부들 보들보들 북어갈비♥</td>\n",
       "      <td>북어갈비</td>\n",
       "      <td>skfo0701</td>\n",
       "      <td>꽃날</td>\n",
       "      <td>7173</td>\n",
       "      <td>3</td>\n",
       "      <td>97</td>\n",
       "      <td>굽기</td>\n",
       "      <td>술안주</td>\n",
       "      <td>건어물류</td>\n",
       "      <td>메인반찬</td>\n",
       "      <td>오늘은 집에서 굴러다니고 쉽게 구할 수 있는 북어로 일품요리를 만들어 보았어요! 도...</td>\n",
       "      <td>[재료] 북어포 1마리| 찹쌀가루 1C [양념] 간장 2T| 설탕 1T| 물 1T|...</td>\n",
       "      <td>2인분</td>\n",
       "      <td>초급</td>\n",
       "      <td>60분이내</td>\n",
       "      <td>2.007050e+13</td>\n",
       "    </tr>\n",
       "  </tbody>\n",
       "</table>\n",
       "</div>"
      ],
      "text/plain": [
       "   RCP_SNO          RCP_TTL CKG_NM   RGTR_ID RGTR_NM  INQ_CNT RCMM_CNT  \\\n",
       "0   128671            어묵김말이  어묵김말이  skfo0701      꽃날    10072        6   \n",
       "1   128892  두부에 꼬리가 달렸어요!!   두부새우전  skfo0701      꽃날     5817        3   \n",
       "2   128932        입안에서 톡톡톡      알밥  skfo0701      꽃날     6975        8   \n",
       "3   131871           ★현미호두죽  현미호두죽   cds1117   햇님&별님     3339        0   \n",
       "4   139247  부들부들 보들보들 북어갈비♥   북어갈비  skfo0701      꽃날     7173        3   \n",
       "\n",
       "  SRAP_CNT CKG_MTH_ACTO_NM CKG_STA_ACTO_NM CKG_MTRL_ACTO_NM CKG_KND_ACTO_NM  \\\n",
       "0       66              튀김              간식            가공식품류             디저트   \n",
       "1       27              부침              일상              해물류             밑반찬   \n",
       "2       36              굽기              일상              해물류           밥/죽/떡   \n",
       "3       11             끓이기              일상                쌀           밥/죽/떡   \n",
       "4       97              굽기             술안주             건어물류            메인반찬   \n",
       "\n",
       "                                            CKG_IPDC  \\\n",
       "0                         맛있는 김말이에 쫄깃함을 더한 어묵 김말이예요-   \n",
       "1  꼬리가 너-무- 매력적인 두부새우전. 두부와 야채를 한번에!! 영양까지 만점인 두부...   \n",
       "2  간단하게 만들어 보는 알이 톡톡톡 알밥♥ 다 먹고 누룽지까지 싹싹 긁어먹는게 최고죠...   \n",
       "3                                              현미호두죽   \n",
       "4  오늘은 집에서 굴러다니고 쉽게 구할 수 있는 북어로 일품요리를 만들어 보았어요! 도...   \n",
       "\n",
       "                                         CKG_MTRL_CN CKG_INBUN_NM CKG_DODF_NM  \\\n",
       "0  [재료] 어묵 2개| 김밥용김 3장| 당면 1움큼| 양파 1/2개| 당근 1/2개|...          2인분          초급   \n",
       "1  [재료] 두부 1/2모| 당근 1/2개| 고추 2개| 브로콜리 1/4개| 새우 4마...          3인분          초급   \n",
       "2  [재료] 밥 1+1/2공기| 당근 1/4개| 치자단무지 1/2개| 신김치 1쪽| 무...          2인분          초급   \n",
       "3           [재료] 현미 4컵| 찹쌀 2컵| 호두 50g| 물 1/2컵| 소금 약간          2인분          초급   \n",
       "4  [재료] 북어포 1마리| 찹쌀가루 1C [양념] 간장 2T| 설탕 1T| 물 1T|...          2인분          초급   \n",
       "\n",
       "  CKG_TIME_NM  FIRST_REG_DT  \n",
       "0       60분이내  2.007040e+13  \n",
       "1       30분이내  2.007040e+13  \n",
       "2       30분이내  2.007040e+13  \n",
       "3       30분이내  2.007041e+13  \n",
       "4       60분이내  2.007050e+13  "
      ]
     },
     "execution_count": 4,
     "metadata": {},
     "output_type": "execute_result"
    }
   ],
   "source": [
    "recipe = pd.read_csv('kr_recipe.csv', dtype={6: str})\n",
    "recipe.head()"
   ]
  },
  {
   "cell_type": "code",
   "execution_count": 45,
   "id": "c7b8df75",
   "metadata": {},
   "outputs": [
    {
     "name": "stdout",
     "output_type": "stream",
     "text": [
      "<class 'pandas.core.frame.DataFrame'>\n",
      "RangeIndex: 184991 entries, 0 to 184990\n",
      "Data columns (total 18 columns):\n",
      " #   Column            Non-Null Count   Dtype  \n",
      "---  ------            --------------   -----  \n",
      " 0   RCP_SNO           184991 non-null  int64  \n",
      " 1   RCP_TTL           184991 non-null  object \n",
      " 2   CKG_NM            184916 non-null  object \n",
      " 3   RGTR_ID           184991 non-null  object \n",
      " 4   RGTR_NM           184975 non-null  object \n",
      " 5   INQ_CNT           184991 non-null  int64  \n",
      " 6   RCMM_CNT          184991 non-null  object \n",
      " 7   SRAP_CNT          184991 non-null  object \n",
      " 8   CKG_MTH_ACTO_NM   184988 non-null  object \n",
      " 9   CKG_STA_ACTO_NM   183953 non-null  object \n",
      " 10  CKG_MTRL_ACTO_NM  184989 non-null  object \n",
      " 11  CKG_KND_ACTO_NM   184990 non-null  object \n",
      " 12  CKG_IPDC          184078 non-null  object \n",
      " 13  CKG_MTRL_CN       183994 non-null  object \n",
      " 14  CKG_INBUN_NM      180193 non-null  object \n",
      " 15  CKG_DODF_NM       184706 non-null  object \n",
      " 16  CKG_TIME_NM       168574 non-null  object \n",
      " 17  FIRST_REG_DT      184732 non-null  float64\n",
      "dtypes: float64(1), int64(2), object(15)\n",
      "memory usage: 25.4+ MB\n"
     ]
    }
   ],
   "source": [
    "recipe.info()"
   ]
  },
  {
   "cell_type": "code",
   "execution_count": 48,
   "id": "ee890fc2",
   "metadata": {},
   "outputs": [
    {
     "data": {
      "text/plain": [
       "0         [재료] 어묵 2개| 김밥용김 3장| 당면 1움큼| 양파 1/2개| 당근 1/2개|...\n",
       "1         [재료] 두부 1/2모| 당근 1/2개| 고추 2개| 브로콜리 1/4개| 새우 4마...\n",
       "2         [재료] 밥 1+1/2공기| 당근 1/4개| 치자단무지 1/2개| 신김치 1쪽| 무...\n",
       "3                  [재료] 현미 4컵| 찹쌀 2컵| 호두 50g| 물 1/2컵| 소금 약간\n",
       "4         [재료] 북어포 1마리| 찹쌀가루 1C [양념] 간장 2T| 설탕 1T| 물 1T|...\n",
       "                                ...                        \n",
       "184986    [재료] 올리브오일| 스파게티면 80g| 명란젓 1덩이| 생크림 100g| 마늘 1...\n",
       "184987    [재료] 올리브오일| 스파게티면 280~300g| 관찰레 120g| 홀토마토 1캔|...\n",
       "184988    [재료] 오징어젓200g| 무말랭이15g| 청양고추2개| 홍고추1개| 오이고추1개|...\n",
       "184989    [재료] 달걀 6개| 우유 200ml| 물 100ml| 맛살 3개| 당근 1/3개|...\n",
       "184990    [재료] 계란 4개| 물 동량 250cc| 참치액 1T| 쪽파 조금| 알새우 1/2...\n",
       "Name: CKG_MTRL_CN, Length: 184991, dtype: object"
      ]
     },
     "execution_count": 48,
     "metadata": {},
     "output_type": "execute_result"
    }
   ],
   "source": [
    "recipe_material = recipe['CKG_MTRL_CN']\n",
    "recipe_material"
   ]
  },
  {
   "cell_type": "code",
   "execution_count": 7,
   "id": "1aa4faa2",
   "metadata": {},
   "outputs": [],
   "source": [
    "import re"
   ]
  },
  {
   "cell_type": "code",
   "execution_count": 28,
   "id": "d3da850d",
   "metadata": {},
   "outputs": [
    {
     "data": {
      "text/plain": [
       "['',\n",
       " ' 어묵 2개| 김밥용김 3장| 당면 1움큼| 양파 1/2개| 당근 1/2개| 깻잎 6장| 튀김가루 1컵 | 올리브유 적당량| 간장 1T| 참기름 1T']"
      ]
     },
     "execution_count": 28,
     "metadata": {},
     "output_type": "execute_result"
    }
   ],
   "source": [
    "# 정규식 패턴\n",
    "pattern1 = r'\\[\\w+\\]'\n",
    "\n",
    "# 정규식으로 '[한글]' 형식의 부분을 찾아 분리\n",
    "parts = re.split(pattern1, recipe_material[0])\n",
    "parts"
   ]
  },
  {
   "cell_type": "code",
   "execution_count": 30,
   "id": "f1b1a217",
   "metadata": {},
   "outputs": [
    {
     "data": {
      "text/plain": [
       "['어묵 2개| 김밥용김 3장| 당면 1움큼| 양파 1/2개| 당근 1/2개| 깻잎 6장| 튀김가루 1컵 | 올리브유 적당량| 간장 1T| 참기름 1T']"
      ]
     },
     "execution_count": 30,
     "metadata": {},
     "output_type": "execute_result"
    }
   ],
   "source": [
    "# 결과 출력\n",
    "test_result =[part.strip() for part in parts]\n",
    "test_result"
   ]
  },
  {
   "cell_type": "code",
   "execution_count": 38,
   "id": "2a9a8f60",
   "metadata": {},
   "outputs": [
    {
     "data": {
      "text/plain": [
       "['어묵 2개',\n",
       " '김밥용김 3장',\n",
       " '당면 1움큼',\n",
       " '양파 1/2개',\n",
       " '당근 1/2개',\n",
       " '깻잎 6장',\n",
       " '튀김가루 1컵 ',\n",
       " '올리브유 적당량',\n",
       " '간장 1T',\n",
       " '참기름 1T']"
      ]
     },
     "execution_count": 38,
     "metadata": {},
     "output_type": "execute_result"
    }
   ],
   "source": [
    "test_result2 = []\n",
    "for i in test_result:\n",
    "    test_result2.extend(i.split('| '))\n",
    "test_result2"
   ]
  },
  {
   "cell_type": "code",
   "execution_count": 41,
   "id": "a693335e",
   "metadata": {},
   "outputs": [
    {
     "data": {
      "text/plain": [
       "['어묵', '김밥용김', '당면', '양파', '당근', '깻잎', '튀김가루', '올리브유', '간장', '참기름']"
      ]
     },
     "execution_count": 41,
     "metadata": {},
     "output_type": "execute_result"
    }
   ],
   "source": [
    "# 정규식 패턴: 숫자나 띄어쓰기 전까지의 문자열 추출\n",
    "pattern3 = r'^[^\\d\\s]+'\n",
    "\n",
    "result = []\n",
    "for item in test_result2:\n",
    "    match = re.match(pattern3, item)\n",
    "    if match:\n",
    "        result.append(match.group())\n",
    "\n",
    "result"
   ]
  },
  {
   "cell_type": "code",
   "execution_count": null,
   "id": "1d4529c7",
   "metadata": {},
   "outputs": [],
   "source": []
  },
  {
   "cell_type": "code",
   "execution_count": 87,
   "id": "af7e344a",
   "metadata": {},
   "outputs": [],
   "source": [
    "import re\n",
    "\n",
    "# 재료이름만 남기는 함수(예외 존재)\n",
    "def remain_food_name(food):\n",
    "    # food가 str 타입이 아니면 빈문자열 반환\n",
    "    if not isinstance(food, str):\n",
    "        return \"\"\n",
    "    \n",
    "    # 정규식 패턴\n",
    "    pattern = r'\\[\\w+\\]'\n",
    "\n",
    "    # 정규식으로 '[한글]' 형식의 부분을 찾아 분리\n",
    "    parts = re.split(pattern, food)\n",
    "    \n",
    "    # [한글] 형식 제외한 부분 저장\n",
    "    parts = [part.strip() for part in parts]\n",
    "    \n",
    "    # '| ' 부분을 제거해서 재료들을 각각 result에 저장\n",
    "    result = []\n",
    "    for i in parts:\n",
    "        result.extend(i.split('| '))\n",
    "        \n",
    "    # 정규식 패턴: 숫자나 띄어쓰기, '(' 전까지의 문자열 추출\n",
    "    pattern = r'^[^\\d\\s\\(\\)]+'\n",
    "    \n",
    "    # 숫자나 띄어쓰기를 만나기 전 문자열 추출(일부 걸러지지 않거나 잘못 걸러지는 재료들 있음)\n",
    "#     final_result = []\n",
    "#     for item in result:\n",
    "#         match = re.match(pattern, item)\n",
    "#         if match:\n",
    "#             final_result.append(match.group())\n",
    "    final_result = []\n",
    "    for item in result:\n",
    "        matches = re.findall(pattern, item)\n",
    "        final_result.extend(matches)\n",
    "    \n",
    "    return ', '.join(final_result)"
   ]
  },
  {
   "cell_type": "code",
   "execution_count": 88,
   "id": "9205a3b4",
   "metadata": {
    "scrolled": false
   },
   "outputs": [
    {
     "name": "stdout",
     "output_type": "stream",
     "text": [
      "0             어묵, 김밥용김, 당면, 양파, 당근, 깻잎, 튀김가루, 올리브유, 간장, 참기름\n",
      "1                            두부, 당근, 고추, 브로콜리, 새우, 녹말가루, 계란\n",
      "2         밥, 당근, 치자단무지, 신김치, 무순, 날치알, 김가루, 후리가케, 참기름, 통깨...\n",
      "3                                         현미, 찹쌀, 호두, 물, 소금\n",
      "4           북어포, 찹쌀가루, 간장, 설탕, 물, 다진파, 다진마늘, 참기름, 깨소금, 후춧가루\n",
      "                                ...                        \n",
      "184986               올리브오일, 스파게티면, 명란젓, 생크림, 마늘, 양파, 소금, 후추\n",
      "184987           올리브오일, 스파게티면, 관찰레, 홀토마토, 화이트와인, 파르미지아노, 소금\n",
      "184988    오징어젓, 무말랭이, 청양고추, 홍고추, 오이고추, 쪽파, 양파, 다진마늘, 통깨,...\n",
      "184989                   달걀, 우유, 물, 맛살, 당근, 대파, 소금, 참치액, 맛술\n",
      "184990                   계란, 물, 참치액, 쪽파, 알새우, 참기름, 고춧가루, 통깨\n",
      "Name: material, Length: 184991, dtype: object\n"
     ]
    }
   ],
   "source": [
    "recipe['material'] = recipe['CKG_MTRL_CN'].apply(remain_food_name)\n",
    "\n",
    "print(recipe['material'])"
   ]
  },
  {
   "cell_type": "code",
   "execution_count": 89,
   "id": "602f7493",
   "metadata": {},
   "outputs": [
    {
     "data": {
      "text/html": [
       "<div>\n",
       "<style scoped>\n",
       "    .dataframe tbody tr th:only-of-type {\n",
       "        vertical-align: middle;\n",
       "    }\n",
       "\n",
       "    .dataframe tbody tr th {\n",
       "        vertical-align: top;\n",
       "    }\n",
       "\n",
       "    .dataframe thead th {\n",
       "        text-align: right;\n",
       "    }\n",
       "</style>\n",
       "<table border=\"1\" class=\"dataframe\">\n",
       "  <thead>\n",
       "    <tr style=\"text-align: right;\">\n",
       "      <th></th>\n",
       "      <th>RCP_SNO</th>\n",
       "      <th>RCP_TTL</th>\n",
       "      <th>CKG_NM</th>\n",
       "      <th>RGTR_ID</th>\n",
       "      <th>RGTR_NM</th>\n",
       "      <th>INQ_CNT</th>\n",
       "      <th>RCMM_CNT</th>\n",
       "      <th>SRAP_CNT</th>\n",
       "      <th>CKG_MTH_ACTO_NM</th>\n",
       "      <th>CKG_STA_ACTO_NM</th>\n",
       "      <th>CKG_MTRL_ACTO_NM</th>\n",
       "      <th>CKG_KND_ACTO_NM</th>\n",
       "      <th>CKG_IPDC</th>\n",
       "      <th>CKG_MTRL_CN</th>\n",
       "      <th>CKG_INBUN_NM</th>\n",
       "      <th>CKG_DODF_NM</th>\n",
       "      <th>CKG_TIME_NM</th>\n",
       "      <th>FIRST_REG_DT</th>\n",
       "      <th>material</th>\n",
       "    </tr>\n",
       "  </thead>\n",
       "  <tbody>\n",
       "    <tr>\n",
       "      <th>184986</th>\n",
       "      <td>7014703</td>\n",
       "      <td>맛 보장 명란젓 크림스파게티</td>\n",
       "      <td>명란젓크림스파게티</td>\n",
       "      <td>45205520</td>\n",
       "      <td>피오르디쿠치나</td>\n",
       "      <td>59</td>\n",
       "      <td>0</td>\n",
       "      <td>0</td>\n",
       "      <td>기타</td>\n",
       "      <td>손님접대</td>\n",
       "      <td>해물류</td>\n",
       "      <td>양식</td>\n",
       "      <td>이탈리아 사람들은 크림 파스타를 안 먹지만 제가 먹고 싶어서 만들어본 명란젓 크림 ...</td>\n",
       "      <td>[재료] 올리브오일| 스파게티면 80g| 명란젓 1덩이| 생크림 100g| 마늘 1...</td>\n",
       "      <td>1인분</td>\n",
       "      <td>아무나</td>\n",
       "      <td>NaN</td>\n",
       "      <td>2.023113e+13</td>\n",
       "      <td>올리브오일, 스파게티면, 명란젓, 생크림, 마늘, 양파, 소금, 후추</td>\n",
       "    </tr>\n",
       "    <tr>\n",
       "      <th>184987</th>\n",
       "      <td>7014704</td>\n",
       "      <td>특별하고 맛있는 아마트리치아나 스파게티</td>\n",
       "      <td>아마트리치아나스파게티</td>\n",
       "      <td>45205520</td>\n",
       "      <td>피오르디쿠치나</td>\n",
       "      <td>46</td>\n",
       "      <td>0</td>\n",
       "      <td>0</td>\n",
       "      <td>기타</td>\n",
       "      <td>손님접대</td>\n",
       "      <td>돼지고기</td>\n",
       "      <td>양식</td>\n",
       "      <td>이 파스타가 먹고 싶었는데 관찰레를 구하기가 쉽지 않아 베이컨이나 판체타로 해보았는...</td>\n",
       "      <td>[재료] 올리브오일| 스파게티면 280~300g| 관찰레 120g| 홀토마토 1캔|...</td>\n",
       "      <td>4인분</td>\n",
       "      <td>아무나</td>\n",
       "      <td>30분이내</td>\n",
       "      <td>2.023113e+13</td>\n",
       "      <td>올리브오일, 스파게티면, 관찰레, 홀토마토, 화이트와인, 파르미지아노, 소금</td>\n",
       "    </tr>\n",
       "    <tr>\n",
       "      <th>184988</th>\n",
       "      <td>7014705</td>\n",
       "      <td>오징어젓무침 만드는법~밥도둑 짜지않은 젓갈무침 만들기 ~</td>\n",
       "      <td>오징어젓무침</td>\n",
       "      <td>mimi030630</td>\n",
       "      <td>노란장미</td>\n",
       "      <td>110</td>\n",
       "      <td>0</td>\n",
       "      <td>8</td>\n",
       "      <td>무침</td>\n",
       "      <td>일상</td>\n",
       "      <td>가공식품류</td>\n",
       "      <td>김치/젓갈/장류</td>\n",
       "      <td>밥도둑 젓갈무침 맛나게 먹구선 짜게 먹게돼 물 많이 먹게되는 젓갈무침 좋아하지만 절...</td>\n",
       "      <td>[재료] 오징어젓200g| 무말랭이15g| 청양고추2개| 홍고추1개| 오이고추1개|...</td>\n",
       "      <td>2인분</td>\n",
       "      <td>아무나</td>\n",
       "      <td>NaN</td>\n",
       "      <td>2.023113e+13</td>\n",
       "      <td>오징어젓, 무말랭이, 청양고추, 홍고추, 오이고추, 쪽파, 양파, 다진마늘, 통깨,...</td>\n",
       "    </tr>\n",
       "    <tr>\n",
       "      <th>184989</th>\n",
       "      <td>7014706</td>\n",
       "      <td>급식 계란찜 중탕 만들기</td>\n",
       "      <td>계란찜</td>\n",
       "      <td>ryuyi1220</td>\n",
       "      <td>해피레시피류이</td>\n",
       "      <td>170</td>\n",
       "      <td>0</td>\n",
       "      <td>6</td>\n",
       "      <td>찜</td>\n",
       "      <td>일상</td>\n",
       "      <td>달걀/유제품</td>\n",
       "      <td>밑반찬</td>\n",
       "      <td>안녕하세요  네이버 푸드인플루언서 류이입니다~^^ 중1 장남이를 176cm 진격의 ...</td>\n",
       "      <td>[재료] 달걀 6개| 우유 200ml| 물 100ml| 맛살 3개| 당근 1/3개|...</td>\n",
       "      <td>3인분</td>\n",
       "      <td>아무나</td>\n",
       "      <td>30분이내</td>\n",
       "      <td>2.023113e+13</td>\n",
       "      <td>달걀, 우유, 물, 맛살, 당근, 대파, 소금, 참치액, 맛술</td>\n",
       "    </tr>\n",
       "    <tr>\n",
       "      <th>184990</th>\n",
       "      <td>7014707</td>\n",
       "      <td>전자레인지 계란찜 만드는법</td>\n",
       "      <td>계란찜</td>\n",
       "      <td>mimi030630</td>\n",
       "      <td>노란장미</td>\n",
       "      <td>763</td>\n",
       "      <td>0</td>\n",
       "      <td>11</td>\n",
       "      <td>찜</td>\n",
       "      <td>일상</td>\n",
       "      <td>달걀/유제품</td>\n",
       "      <td>밑반찬</td>\n",
       "      <td>전자레인지 계란찜 만드는법</td>\n",
       "      <td>[재료] 계란 4개| 물 동량 250cc| 참치액 1T| 쪽파 조금| 알새우 1/2...</td>\n",
       "      <td>NaN</td>\n",
       "      <td>아무나</td>\n",
       "      <td>NaN</td>\n",
       "      <td>2.023113e+13</td>\n",
       "      <td>계란, 물, 참치액, 쪽파, 알새우, 참기름, 고춧가루, 통깨</td>\n",
       "    </tr>\n",
       "  </tbody>\n",
       "</table>\n",
       "</div>"
      ],
      "text/plain": [
       "        RCP_SNO                          RCP_TTL       CKG_NM     RGTR_ID  \\\n",
       "184986  7014703                  맛 보장 명란젓 크림스파게티    명란젓크림스파게티    45205520   \n",
       "184987  7014704            특별하고 맛있는 아마트리치아나 스파게티  아마트리치아나스파게티    45205520   \n",
       "184988  7014705  오징어젓무침 만드는법~밥도둑 짜지않은 젓갈무침 만들기 ~       오징어젓무침  mimi030630   \n",
       "184989  7014706                    급식 계란찜 중탕 만들기          계란찜   ryuyi1220   \n",
       "184990  7014707                   전자레인지 계란찜 만드는법          계란찜  mimi030630   \n",
       "\n",
       "        RGTR_NM  INQ_CNT RCMM_CNT SRAP_CNT CKG_MTH_ACTO_NM CKG_STA_ACTO_NM  \\\n",
       "184986  피오르디쿠치나       59        0        0              기타            손님접대   \n",
       "184987  피오르디쿠치나       46        0        0              기타            손님접대   \n",
       "184988     노란장미      110        0        8              무침              일상   \n",
       "184989  해피레시피류이      170        0        6               찜              일상   \n",
       "184990     노란장미      763        0       11               찜              일상   \n",
       "\n",
       "       CKG_MTRL_ACTO_NM CKG_KND_ACTO_NM  \\\n",
       "184986              해물류              양식   \n",
       "184987             돼지고기              양식   \n",
       "184988            가공식품류        김치/젓갈/장류   \n",
       "184989           달걀/유제품             밑반찬   \n",
       "184990           달걀/유제품             밑반찬   \n",
       "\n",
       "                                                 CKG_IPDC  \\\n",
       "184986  이탈리아 사람들은 크림 파스타를 안 먹지만 제가 먹고 싶어서 만들어본 명란젓 크림 ...   \n",
       "184987  이 파스타가 먹고 싶었는데 관찰레를 구하기가 쉽지 않아 베이컨이나 판체타로 해보았는...   \n",
       "184988  밥도둑 젓갈무침 맛나게 먹구선 짜게 먹게돼 물 많이 먹게되는 젓갈무침 좋아하지만 절...   \n",
       "184989  안녕하세요  네이버 푸드인플루언서 류이입니다~^^ 중1 장남이를 176cm 진격의 ...   \n",
       "184990                                     전자레인지 계란찜 만드는법   \n",
       "\n",
       "                                              CKG_MTRL_CN CKG_INBUN_NM  \\\n",
       "184986  [재료] 올리브오일| 스파게티면 80g| 명란젓 1덩이| 생크림 100g| 마늘 1...          1인분   \n",
       "184987  [재료] 올리브오일| 스파게티면 280~300g| 관찰레 120g| 홀토마토 1캔|...          4인분   \n",
       "184988  [재료] 오징어젓200g| 무말랭이15g| 청양고추2개| 홍고추1개| 오이고추1개|...          2인분   \n",
       "184989  [재료] 달걀 6개| 우유 200ml| 물 100ml| 맛살 3개| 당근 1/3개|...          3인분   \n",
       "184990  [재료] 계란 4개| 물 동량 250cc| 참치액 1T| 쪽파 조금| 알새우 1/2...          NaN   \n",
       "\n",
       "       CKG_DODF_NM CKG_TIME_NM  FIRST_REG_DT  \\\n",
       "184986         아무나         NaN  2.023113e+13   \n",
       "184987         아무나       30분이내  2.023113e+13   \n",
       "184988         아무나         NaN  2.023113e+13   \n",
       "184989         아무나       30분이내  2.023113e+13   \n",
       "184990         아무나         NaN  2.023113e+13   \n",
       "\n",
       "                                                 material  \n",
       "184986             올리브오일, 스파게티면, 명란젓, 생크림, 마늘, 양파, 소금, 후추  \n",
       "184987         올리브오일, 스파게티면, 관찰레, 홀토마토, 화이트와인, 파르미지아노, 소금  \n",
       "184988  오징어젓, 무말랭이, 청양고추, 홍고추, 오이고추, 쪽파, 양파, 다진마늘, 통깨,...  \n",
       "184989                 달걀, 우유, 물, 맛살, 당근, 대파, 소금, 참치액, 맛술  \n",
       "184990                 계란, 물, 참치액, 쪽파, 알새우, 참기름, 고춧가루, 통깨  "
      ]
     },
     "execution_count": 89,
     "metadata": {},
     "output_type": "execute_result"
    }
   ],
   "source": [
    "recipe.tail()"
   ]
  },
  {
   "cell_type": "code",
   "execution_count": 71,
   "id": "bdd7d200",
   "metadata": {
    "scrolled": true
   },
   "outputs": [
    {
     "data": {
      "text/plain": [
       "True"
      ]
     },
     "execution_count": 71,
     "metadata": {},
     "output_type": "execute_result"
    }
   ],
   "source": [
    "# 특정 서브 문자열이 포함되어 있는지까지 확인 해서 True로 나옴\n",
    "'파' in recipe['material'][0]"
   ]
  },
  {
   "cell_type": "code",
   "execution_count": 79,
   "id": "2deb5a12",
   "metadata": {},
   "outputs": [],
   "source": [
    "# 정확히 일치하는 이름이 있는지 확인\n",
    "def check_name(recipe_material, food_name):\n",
    "    # 재료 문자열을 쉼표로 분리\n",
    "    foods = [food.strip() for food in recipe_material.split(',')]\n",
    "    \n",
    "    # 정확히 일치하는 재료가 있는지 확인\n",
    "    return any(food == food_name for food in foods)"
   ]
  },
  {
   "cell_type": "code",
   "execution_count": 80,
   "id": "1f64a291",
   "metadata": {},
   "outputs": [
    {
     "name": "stdout",
     "output_type": "stream",
     "text": [
      "False\n",
      "True\n"
     ]
    }
   ],
   "source": [
    "print(check_name(recipe['material'][0], '파'))\n",
    "print(check_name(recipe['material'][0], '양파'))"
   ]
  },
  {
   "cell_type": "code",
   "execution_count": null,
   "id": "1efca93a",
   "metadata": {},
   "outputs": [],
   "source": []
  },
  {
   "cell_type": "code",
   "execution_count": 86,
   "id": "4198663a",
   "metadata": {},
   "outputs": [],
   "source": [
    "# import re\n",
    "\n",
    "# def extract_important_ingredients(text):\n",
    "#     # '재료' 태그와 기타 정보를 제거\n",
    "#     text = re.sub(r'\\[재료\\]|\\|', '', text)\n",
    "    \n",
    "#     # 숫자와 단위, 괄호를 제거하여 중요한 단어 추출\n",
    "#     text = re.sub(r'\\d+\\s*[a-zA-Z가-힣]+', '', text)\n",
    "#     text = re.sub(r'[가-힣]+', '', text).strip()\n",
    "    \n",
    "#     # 공백을 기준으로 단어 추출\n",
    "#     ingredients = [word.strip() for word in text.split() if word]\n",
    "    \n",
    "#     return ingredients\n",
    "\n",
    "# # 예제 사용법\n",
    "# example_text = '[재료] 파채 180g| 고춧가루 2스푼| 진간장 2스푼| 식초 2스푼| 참치액 1스푼| 설탕 1스푼| 참기름 1스푼| 통깨 조금'\n",
    "# extract_important_ingredients(example_text)"
   ]
  },
  {
   "cell_type": "code",
   "execution_count": null,
   "id": "f8ebae35",
   "metadata": {},
   "outputs": [],
   "source": []
  },
  {
   "cell_type": "code",
   "execution_count": null,
   "id": "ee305ab6",
   "metadata": {},
   "outputs": [],
   "source": []
  },
  {
   "cell_type": "code",
   "execution_count": null,
   "id": "882d2301",
   "metadata": {},
   "outputs": [],
   "source": []
  },
  {
   "cell_type": "code",
   "execution_count": null,
   "id": "b6347702",
   "metadata": {},
   "outputs": [],
   "source": []
  },
  {
   "cell_type": "code",
   "execution_count": 23,
   "id": "d7f530a7",
   "metadata": {},
   "outputs": [
    {
     "name": "stdout",
     "output_type": "stream",
     "text": [
      "['[재료]', '어묵 2개| 김밥용김 3장| 당면 1움큼| 양파 1/2개| 당근 1/2개| 깻잎 6장| 튀김가루 1컵 | 올리브유 적당량| 간장 1T| 참기름 1T']\n"
     ]
    }
   ],
   "source": [
    "# 정규식 패턴\n",
    "pattern2 = r'(\\[\\w+\\])|(.*?)(?=\\[\\w+\\]|$)'\n",
    "\n",
    "# 정규식으로 '[한글]' 형식의 부분을 포함하여 데이터를 추출\n",
    "parts = re.findall(pattern2, recipe_material[0])\n",
    "\n",
    "# 결과를 보기 좋게 정리\n",
    "result = []\n",
    "for part in parts:\n",
    "    if part[0]:\n",
    "        result.append(part[0])\n",
    "    if part[1].strip():\n",
    "        result.append(part[1].strip())\n",
    "\n",
    "print(result)"
   ]
  },
  {
   "cell_type": "code",
   "execution_count": null,
   "id": "73e9e9b8",
   "metadata": {},
   "outputs": [],
   "source": []
  }
 ],
 "metadata": {
  "kernelspec": {
   "display_name": "Python 3 (ipykernel)",
   "language": "python",
   "name": "python3"
  },
  "language_info": {
   "codemirror_mode": {
    "name": "ipython",
    "version": 3
   },
   "file_extension": ".py",
   "mimetype": "text/x-python",
   "name": "python",
   "nbconvert_exporter": "python",
   "pygments_lexer": "ipython3",
   "version": "3.9.7"
  }
 },
 "nbformat": 4,
 "nbformat_minor": 5
}
