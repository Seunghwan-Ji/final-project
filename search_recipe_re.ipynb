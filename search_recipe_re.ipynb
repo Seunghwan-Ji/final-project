{
 "cells": [
  {
   "cell_type": "code",
   "execution_count": 1,
   "metadata": {},
   "outputs": [
    {
     "name": "stderr",
     "output_type": "stream",
     "text": [
      "c:\\Users\\Seunghwan\\Desktop\\final_project\\Recipe.py:3: DtypeWarning: Columns (6) have mixed types. Specify dtype option on import or set low_memory=False.\n",
      "  recipe_df = pd.read_csv(\"C:/Users/Seunghwan/Desktop/데이터/kr_recipe.csv\")\n",
      "c:\\Users\\Seunghwan\\Desktop\\final_project\\Recipe.py:24: FutureWarning: A value is trying to be set on a copy of a DataFrame or Series through chained assignment using an inplace method.\n",
      "The behavior will change in pandas 3.0. This inplace method will never work because the intermediate object on which we are setting values always behaves as a copy.\n",
      "\n",
      "For example, when doing 'df[col].method(value, inplace=True)', try using 'df.method({col: value}, inplace=True)' or df[col] = df[col].method(value) instead, to perform the operation inplace on the original object.\n",
      "\n",
      "\n",
      "  recipe_df[col].fillna(0, inplace=True)\n",
      "c:\\Users\\Seunghwan\\Desktop\\final_project\\Recipe.py:24: FutureWarning: A value is trying to be set on a copy of a DataFrame or Series through chained assignment using an inplace method.\n",
      "The behavior will change in pandas 3.0. This inplace method will never work because the intermediate object on which we are setting values always behaves as a copy.\n",
      "\n",
      "For example, when doing 'df[col].method(value, inplace=True)', try using 'df.method({col: value}, inplace=True)' or df[col] = df[col].method(value) instead, to perform the operation inplace on the original object.\n",
      "\n",
      "\n",
      "  recipe_df[col].fillna(0, inplace=True)\n"
     ]
    }
   ],
   "source": [
    "from Recipe import *"
   ]
  },
  {
   "cell_type": "code",
   "execution_count": 2,
   "metadata": {},
   "outputs": [
    {
     "data": {
      "text/html": [
       "<div>\n",
       "<style scoped>\n",
       "    .dataframe tbody tr th:only-of-type {\n",
       "        vertical-align: middle;\n",
       "    }\n",
       "\n",
       "    .dataframe tbody tr th {\n",
       "        vertical-align: top;\n",
       "    }\n",
       "\n",
       "    .dataframe thead th {\n",
       "        text-align: right;\n",
       "    }\n",
       "</style>\n",
       "<table border=\"1\" class=\"dataframe\">\n",
       "  <thead>\n",
       "    <tr style=\"text-align: right;\">\n",
       "      <th></th>\n",
       "      <th>요리명</th>\n",
       "      <th>조회수</th>\n",
       "      <th>추천수</th>\n",
       "      <th>스크랩수</th>\n",
       "      <th>요리타입</th>\n",
       "      <th>음식분위기</th>\n",
       "      <th>재료타입</th>\n",
       "      <th>음식타입</th>\n",
       "      <th>재료리스트</th>\n",
       "      <th>몇인분</th>\n",
       "      <th>요리난이도</th>\n",
       "      <th>요리시간</th>\n",
       "    </tr>\n",
       "  </thead>\n",
       "  <tbody>\n",
       "    <tr>\n",
       "      <th>0</th>\n",
       "      <td>어묵김말이</td>\n",
       "      <td>10072</td>\n",
       "      <td>6</td>\n",
       "      <td>66</td>\n",
       "      <td>튀김</td>\n",
       "      <td>간식</td>\n",
       "      <td>가공식품류</td>\n",
       "      <td>디저트</td>\n",
       "      <td>[재료] 어묵 2개| 김밥용김 3장| 당면 1움큼| 양파 1/2개| 당근 1/2개|...</td>\n",
       "      <td>2인분</td>\n",
       "      <td>초급</td>\n",
       "      <td>60분이내</td>\n",
       "    </tr>\n",
       "    <tr>\n",
       "      <th>1</th>\n",
       "      <td>두부새우전</td>\n",
       "      <td>5817</td>\n",
       "      <td>3</td>\n",
       "      <td>27</td>\n",
       "      <td>부침</td>\n",
       "      <td>일상</td>\n",
       "      <td>해물류</td>\n",
       "      <td>밑반찬</td>\n",
       "      <td>[재료] 두부 1/2모| 당근 1/2개| 고추 2개| 브로콜리 1/4개| 새우 4마...</td>\n",
       "      <td>3인분</td>\n",
       "      <td>초급</td>\n",
       "      <td>30분이내</td>\n",
       "    </tr>\n",
       "    <tr>\n",
       "      <th>2</th>\n",
       "      <td>알밥</td>\n",
       "      <td>6975</td>\n",
       "      <td>8</td>\n",
       "      <td>36</td>\n",
       "      <td>굽기</td>\n",
       "      <td>일상</td>\n",
       "      <td>해물류</td>\n",
       "      <td>밥/죽/떡</td>\n",
       "      <td>[재료] 밥 1+1/2공기| 당근 1/4개| 치자단무지 1/2개| 신김치 1쪽| 무...</td>\n",
       "      <td>2인분</td>\n",
       "      <td>초급</td>\n",
       "      <td>30분이내</td>\n",
       "    </tr>\n",
       "    <tr>\n",
       "      <th>3</th>\n",
       "      <td>현미호두죽</td>\n",
       "      <td>3339</td>\n",
       "      <td>0</td>\n",
       "      <td>11</td>\n",
       "      <td>끓이기</td>\n",
       "      <td>일상</td>\n",
       "      <td>쌀</td>\n",
       "      <td>밥/죽/떡</td>\n",
       "      <td>[재료] 현미 4컵| 찹쌀 2컵| 호두 50g| 물 1/2컵| 소금 약간</td>\n",
       "      <td>2인분</td>\n",
       "      <td>초급</td>\n",
       "      <td>30분이내</td>\n",
       "    </tr>\n",
       "    <tr>\n",
       "      <th>4</th>\n",
       "      <td>북어갈비</td>\n",
       "      <td>7173</td>\n",
       "      <td>3</td>\n",
       "      <td>97</td>\n",
       "      <td>굽기</td>\n",
       "      <td>술안주</td>\n",
       "      <td>건어물류</td>\n",
       "      <td>메인반찬</td>\n",
       "      <td>[재료] 북어포 1마리| 찹쌀가루 1C [양념] 간장 2T| 설탕 1T| 물 1T|...</td>\n",
       "      <td>2인분</td>\n",
       "      <td>초급</td>\n",
       "      <td>60분이내</td>\n",
       "    </tr>\n",
       "  </tbody>\n",
       "</table>\n",
       "</div>"
      ],
      "text/plain": [
       "     요리명    조회수  추천수  스크랩수 요리타입 음식분위기   재료타입   음식타입  \\\n",
       "0  어묵김말이  10072    6    66   튀김    간식  가공식품류    디저트   \n",
       "1  두부새우전   5817    3    27   부침    일상    해물류    밑반찬   \n",
       "2     알밥   6975    8    36   굽기    일상    해물류  밥/죽/떡   \n",
       "3  현미호두죽   3339    0    11  끓이기    일상      쌀  밥/죽/떡   \n",
       "4   북어갈비   7173    3    97   굽기   술안주   건어물류   메인반찬   \n",
       "\n",
       "                                               재료리스트  몇인분 요리난이도   요리시간  \n",
       "0  [재료] 어묵 2개| 김밥용김 3장| 당면 1움큼| 양파 1/2개| 당근 1/2개|...  2인분    초급  60분이내  \n",
       "1  [재료] 두부 1/2모| 당근 1/2개| 고추 2개| 브로콜리 1/4개| 새우 4마...  3인분    초급  30분이내  \n",
       "2  [재료] 밥 1+1/2공기| 당근 1/4개| 치자단무지 1/2개| 신김치 1쪽| 무...  2인분    초급  30분이내  \n",
       "3           [재료] 현미 4컵| 찹쌀 2컵| 호두 50g| 물 1/2컵| 소금 약간  2인분    초급  30분이내  \n",
       "4  [재료] 북어포 1마리| 찹쌀가루 1C [양념] 간장 2T| 설탕 1T| 물 1T|...  2인분    초급  60분이내  "
      ]
     },
     "execution_count": 2,
     "metadata": {},
     "output_type": "execute_result"
    }
   ],
   "source": [
    "recipe_df.head()"
   ]
  },
  {
   "cell_type": "code",
   "execution_count": 3,
   "metadata": {},
   "outputs": [
    {
     "data": {
      "text/plain": [
       "(184991, 12)"
      ]
     },
     "execution_count": 3,
     "metadata": {},
     "output_type": "execute_result"
    }
   ],
   "source": [
    "recipe_df.shape"
   ]
  },
  {
   "cell_type": "code",
   "execution_count": 4,
   "metadata": {},
   "outputs": [
    {
     "name": "stdout",
     "output_type": "stream",
     "text": [
      "<class 'pandas.core.frame.DataFrame'>\n",
      "RangeIndex: 184991 entries, 0 to 184990\n",
      "Data columns (total 12 columns):\n",
      " #   Column  Non-Null Count   Dtype \n",
      "---  ------  --------------   ----- \n",
      " 0   요리명     184916 non-null  object\n",
      " 1   조회수     184991 non-null  int64 \n",
      " 2   추천수     184991 non-null  int64 \n",
      " 3   스크랩수    184991 non-null  int64 \n",
      " 4   요리타입    184988 non-null  object\n",
      " 5   음식분위기   183953 non-null  object\n",
      " 6   재료타입    184989 non-null  object\n",
      " 7   음식타입    184990 non-null  object\n",
      " 8   재료리스트   183994 non-null  object\n",
      " 9   몇인분     180193 non-null  object\n",
      " 10  요리난이도   184706 non-null  object\n",
      " 11  요리시간    168574 non-null  object\n",
      "dtypes: int64(3), object(9)\n",
      "memory usage: 16.9+ MB\n"
     ]
    }
   ],
   "source": [
    "recipe_df.info()"
   ]
  },
  {
   "cell_type": "markdown",
   "metadata": {},
   "source": [
    "정규식 패턴으로 재료이름 추출하기 첫번째 방법"
   ]
  },
  {
   "cell_type": "code",
   "execution_count": 2,
   "metadata": {},
   "outputs": [],
   "source": [
    "import re"
   ]
  },
  {
   "cell_type": "code",
   "execution_count": 30,
   "metadata": {},
   "outputs": [],
   "source": [
    "# 재료이름만 남기는 함수(예외 존재)\n",
    "def remain_food_name(food):\n",
    "    # food가 str 타입이 아니면 빈문자열 반환\n",
    "    if not isinstance(food, str):\n",
    "        return \"\"\n",
    "    \n",
    "    # 정규식 패턴\n",
    "    pattern = r'\\[\\w+\\]'\n",
    "\n",
    "    # 정규식으로 '[한글]' 형식의 부분을 찾아 분리\n",
    "    parts = re.split(pattern, food)\n",
    "    \n",
    "    # [한글] 형식 제외한 부분 저장\n",
    "    parts = [part.strip() for part in parts]\n",
    "    \n",
    "    # '| ' 부분을 제거해서 재료들을 각각 result에 저장\n",
    "    result = []\n",
    "    for i in parts:\n",
    "        result.extend(i.split('| '))\n",
    "        \n",
    "    # 정규식 패턴: 숫자나 띄어쓰기, '(' 전까지의 문자열 추출\n",
    "    pattern = r'^[^\\d\\s\\(\\)]+'\n",
    "    \n",
    "    final_result = []\n",
    "    for item in result:\n",
    "        matches = re.findall(pattern, item)\n",
    "        final_result.extend(matches)\n",
    "    \n",
    "    return ', '.join(final_result)\n",
    "\n",
    "# 정확히 일치하는 이름이 있는지 확인\n",
    "def check_name(recipe_material, food_name):\n",
    "    # 재료 문자열을 쉼표로 분리\n",
    "    foods = [food.strip() for food in recipe_material.split(',')]\n",
    "    \n",
    "    # 정확히 일치하는 재료가 있는지 확인\n",
    "    return any(food == food_name for food in foods)"
   ]
  },
  {
   "cell_type": "code",
   "execution_count": 31,
   "metadata": {},
   "outputs": [
    {
     "name": "stdout",
     "output_type": "stream",
     "text": [
      "0             어묵, 김밥용김, 당면, 양파, 당근, 깻잎, 튀김가루, 올리브유, 간장, 참기름\n",
      "1                            두부, 당근, 고추, 브로콜리, 새우, 녹말가루, 계란\n",
      "2         밥, 당근, 치자단무지, 신김치, 무순, 날치알, 김가루, 후리가케, 참기름, 통깨...\n",
      "3                                         현미, 찹쌀, 호두, 물, 소금\n",
      "4           북어포, 찹쌀가루, 간장, 설탕, 물, 다진파, 다진마늘, 참기름, 깨소금, 후춧가루\n",
      "                                ...                        \n",
      "184986               올리브오일, 스파게티면, 명란젓, 생크림, 마늘, 양파, 소금, 후추\n",
      "184987           올리브오일, 스파게티면, 관찰레, 홀토마토, 화이트와인, 파르미지아노, 소금\n",
      "184988    오징어젓, 무말랭이, 청양고추, 홍고추, 오이고추, 쪽파, 양파, 다진마늘, 통깨,...\n",
      "184989                   달걀, 우유, 물, 맛살, 당근, 대파, 소금, 참치액, 맛술\n",
      "184990                   계란, 물, 참치액, 쪽파, 알새우, 참기름, 고춧가루, 통깨\n",
      "Name: material, Length: 184991, dtype: object\n"
     ]
    }
   ],
   "source": [
    "recipe_df['material'] = recipe_df['재료리스트'].apply(remain_food_name)\n",
    "print(recipe_df['material'])"
   ]
  },
  {
   "cell_type": "code",
   "execution_count": 32,
   "metadata": {},
   "outputs": [
    {
     "name": "stdout",
     "output_type": "stream",
     "text": [
      "False\n",
      "True\n"
     ]
    }
   ],
   "source": [
    "print(check_name(recipe_df['material'][0], '파'))\n",
    "print(check_name(recipe_df['material'][0], '양파'))"
   ]
  },
  {
   "cell_type": "markdown",
   "metadata": {},
   "source": [
    "정규식 패턴으로 추출하기 두번째 방법(재료이름 추출하기전 전처리 방식은 동일)"
   ]
  },
  {
   "cell_type": "code",
   "execution_count": 6,
   "metadata": {},
   "outputs": [
    {
     "data": {
      "text/plain": [
       "'[재료] 북어포 1마리| 찹쌀가루 1C [양념] 간장 2T| 설탕 1T| 물 1T| 다진파 1T| 다진마늘 1T| 참기름 1T| 깨소금 1T| 후춧가루 약간'"
      ]
     },
     "execution_count": 6,
     "metadata": {},
     "output_type": "execute_result"
    }
   ],
   "source": [
    "ingredients = recipe_df['재료리스트']\n",
    "ingredients[4]"
   ]
  },
  {
   "cell_type": "code",
   "execution_count": 7,
   "metadata": {},
   "outputs": [
    {
     "data": {
      "text/plain": [
       "['',\n",
       " ' 북어포 1마리| 찹쌀가루 1C ',\n",
       " ' 간장 2T| 설탕 1T| 물 1T| 다진파 1T| 다진마늘 1T| 참기름 1T| 깨소금 1T| 후춧가루 약간']"
      ]
     },
     "execution_count": 7,
     "metadata": {},
     "output_type": "execute_result"
    }
   ],
   "source": [
    "# 패턴\n",
    "pattern = r'\\[\\w+\\]' # ex) [재료], [양념]\n",
    "\n",
    "# 패턴으로 분리\n",
    "parts = re.split(pattern, ingredients[4])\n",
    "parts"
   ]
  },
  {
   "cell_type": "code",
   "execution_count": 8,
   "metadata": {},
   "outputs": [
    {
     "data": {
      "text/plain": [
       "['북어포 1마리',\n",
       " '찹쌀가루 1C',\n",
       " '간장 2T',\n",
       " '설탕 1T',\n",
       " '물 1T',\n",
       " '다진파 1T',\n",
       " '다진마늘 1T',\n",
       " '참기름 1T',\n",
       " '깨소금 1T',\n",
       " '후춧가루 약간']"
      ]
     },
     "execution_count": 8,
     "metadata": {},
     "output_type": "execute_result"
    }
   ],
   "source": [
    "# 각 파트에서 양쪽 여백 제거, 비어있지 않은 리스트만 추출\n",
    "parts = [list(map(lambda x: x.strip(), part.split(\"|\"))) for part in parts if part]\n",
    "\n",
    "# 2차원 리스트 평탄화\n",
    "flattend_parts = [item for part in parts for item in part]\n",
    "flattend_parts"
   ]
  },
  {
   "cell_type": "code",
   "execution_count": 1,
   "metadata": {},
   "outputs": [
    {
     "data": {
      "text/plain": [
       "['북어포 ',\n",
       " '찹쌀가루 ',\n",
       " '간장 ',\n",
       " '설탕 ',\n",
       " '물 ',\n",
       " '다진파 ',\n",
       " '다진마늘 ',\n",
       " '참기름 ',\n",
       " '깨소금 ',\n",
       " '후춧가루 약간',\n",
       " '손질된 닭']"
      ]
     },
     "execution_count": 1,
     "metadata": {},
     "output_type": "execute_result"
    }
   ],
   "source": [
    "result = ['북어포 1마리',\n",
    "          '찹쌀가루 1C',\n",
    "          '간장 2T',\n",
    "          '설탕 1T',\n",
    "          '물 1T',\n",
    "          '다진파 1T',\n",
    "          '다진마늘 1T',\n",
    "          '참기름 1T',\n",
    "          '깨소금 1T',\n",
    "          '후춧가루 약간',\n",
    "          '손질된 닭']\n",
    "\n",
    "pattern = r'^[^\\d\\(\\)]+'\n",
    "\n",
    "final_result = []\n",
    "for item in result:\n",
    "    matches = re.findall(pattern, item)\n",
    "    final_result.extend(matches)\n",
    "\n",
    "final_result"
   ]
  },
  {
   "cell_type": "code",
   "execution_count": null,
   "metadata": {},
   "outputs": [],
   "source": []
  }
 ],
 "metadata": {
  "kernelspec": {
   "display_name": "Python 3",
   "language": "python",
   "name": "python3"
  },
  "language_info": {
   "codemirror_mode": {
    "name": "ipython",
    "version": 3
   },
   "file_extension": ".py",
   "mimetype": "text/x-python",
   "name": "python",
   "nbconvert_exporter": "python",
   "pygments_lexer": "ipython3",
   "version": "3.12.2"
  }
 },
 "nbformat": 4,
 "nbformat_minor": 2
}
