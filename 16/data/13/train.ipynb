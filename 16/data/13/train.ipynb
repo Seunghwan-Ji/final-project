{
 "cells": [
  {
   "cell_type": "code",
   "execution_count": 2,
   "metadata": {},
   "outputs": [
    {
     "name": "stdout",
     "output_type": "stream",
     "text": [
      "New https://pypi.org/project/ultralytics/8.2.60 available  Update with 'pip install -U ultralytics'\n",
      "Ultralytics YOLOv8.2.54  Python-3.11.8 torch-2.3.0+cu118 CUDA:0 (NVIDIA GeForce RTX 4060 Laptop GPU, 8188MiB)\n",
      "\u001b[34m\u001b[1mengine\\trainer: \u001b[0mtask=detect, mode=train, model=yolov9s.pt, data=C:\\Users\\user\\Desktop\\FINAL\\final-project\\16\\data\\13\\data.yaml, epochs=100, time=None, patience=30, batch=16, imgsz=640, save=True, save_period=-1, cache=False, device=None, workers=8, project=None, name=train, exist_ok=False, pretrained=True, optimizer=auto, verbose=True, seed=0, deterministic=True, single_cls=False, rect=False, cos_lr=False, close_mosaic=10, resume=False, amp=True, fraction=1.0, profile=False, freeze=None, multi_scale=False, overlap_mask=True, mask_ratio=4, dropout=0.0, val=True, split=val, save_json=False, save_hybrid=False, conf=None, iou=0.7, max_det=300, half=False, dnn=False, plots=True, source=None, vid_stride=1, stream_buffer=False, visualize=False, augment=False, agnostic_nms=False, classes=None, retina_masks=False, embed=None, show=False, save_frames=False, save_txt=False, save_conf=False, save_crop=False, show_labels=True, show_conf=True, show_boxes=True, line_width=None, format=torchscript, keras=False, optimize=False, int8=False, dynamic=False, simplify=False, opset=None, workspace=4, nms=False, lr0=0.01, lrf=0.01, momentum=0.937, weight_decay=0.0005, warmup_epochs=3.0, warmup_momentum=0.8, warmup_bias_lr=0.1, box=7.5, cls=0.5, dfl=1.5, pose=12.0, kobj=1.0, label_smoothing=0.0, nbs=64, hsv_h=0.015, hsv_s=0.7, hsv_v=0.4, degrees=0.0, translate=0.1, scale=0.5, shear=0.0, perspective=0.0, flipud=0.0, fliplr=0.5, bgr=0.0, mosaic=1.0, mixup=0.0, copy_paste=0.0, auto_augment=randaugment, erasing=0.4, crop_fraction=1.0, cfg=None, tracker=botsort.yaml, save_dir=runs\\detect\\train\n",
      "Overriding model.yaml nc=80 with nc=163\n",
      "\n",
      "                   from  n    params  module                                       arguments                     \n",
      "  0                  -1  1       928  ultralytics.nn.modules.conv.Conv             [3, 32, 3, 2]                 \n",
      "  1                  -1  1     18560  ultralytics.nn.modules.conv.Conv             [32, 64, 3, 2]                \n",
      "  2                  -1  1     31104  ultralytics.nn.modules.block.ELAN1           [64, 64, 64, 32]              \n",
      "  3                  -1  1     73984  ultralytics.nn.modules.block.AConv           [64, 128]                     \n",
      "  4                  -1  1    258432  ultralytics.nn.modules.block.RepNCSPELAN4    [128, 128, 128, 64, 3]        \n",
      "  5                  -1  1    221568  ultralytics.nn.modules.block.AConv           [128, 192]                    \n",
      "  6                  -1  1    579648  ultralytics.nn.modules.block.RepNCSPELAN4    [192, 192, 192, 96, 3]        \n",
      "  7                  -1  1    442880  ultralytics.nn.modules.block.AConv           [192, 256]                    \n",
      "  8                  -1  1   1028864  ultralytics.nn.modules.block.RepNCSPELAN4    [256, 256, 256, 128, 3]       \n",
      "  9                  -1  1    164608  ultralytics.nn.modules.block.SPPELAN         [256, 256, 128]               \n",
      " 10                  -1  1         0  torch.nn.modules.upsampling.Upsample         [None, 2, 'nearest']          \n",
      " 11             [-1, 6]  1         0  ultralytics.nn.modules.conv.Concat           [1]                           \n",
      " 12                  -1  1    628800  ultralytics.nn.modules.block.RepNCSPELAN4    [448, 192, 192, 96, 3]        \n",
      " 13                  -1  1         0  torch.nn.modules.upsampling.Upsample         [None, 2, 'nearest']          \n",
      " 14             [-1, 4]  1         0  ultralytics.nn.modules.conv.Concat           [1]                           \n",
      " 15                  -1  1    283008  ultralytics.nn.modules.block.RepNCSPELAN4    [320, 128, 128, 64, 3]        \n",
      " 16                  -1  1    110784  ultralytics.nn.modules.block.AConv           [128, 96]                     \n",
      " 17            [-1, 12]  1         0  ultralytics.nn.modules.conv.Concat           [1]                           \n",
      " 18                  -1  1    598080  ultralytics.nn.modules.block.RepNCSPELAN4    [288, 192, 192, 96, 3]        \n",
      " 19                  -1  1    221440  ultralytics.nn.modules.block.AConv           [192, 128]                    \n",
      " 20             [-1, 9]  1         0  ultralytics.nn.modules.conv.Concat           [1]                           \n",
      " 21                  -1  1   1061632  ultralytics.nn.modules.block.RepNCSPELAN4    [384, 256, 256, 128, 3]       \n",
      " 22        [15, 18, 21]  1   1626169  ultralytics.nn.modules.head.Detect           [163, [128, 192, 256]]        \n",
      "YOLOv9s summary: 917 layers, 7350489 parameters, 7350473 gradients, 27.7 GFLOPs\n",
      "\n",
      "Transferred 1333/1339 items from pretrained weights\n",
      "\u001b[34m\u001b[1mTensorBoard: \u001b[0mStart with 'tensorboard --logdir runs\\detect\\train', view at http://localhost:6006/\n",
      "Freezing layer 'model.22.dfl.conv.weight'\n",
      "\u001b[34m\u001b[1mAMP: \u001b[0mrunning Automatic Mixed Precision (AMP) checks with YOLOv8n...\n",
      "Downloading https://github.com/ultralytics/assets/releases/download/v8.2.0/yolov8n.pt to 'yolov8n.pt'...\n"
     ]
    },
    {
     "name": "stderr",
     "output_type": "stream",
     "text": [
      "100%|██████████| 6.25M/6.25M [00:00<00:00, 9.80MB/s]\n",
      "c:\\Users\\user\\AppData\\Local\\Programs\\Python\\Python311\\Lib\\site-packages\\tqdm\\auto.py:21: TqdmWarning: IProgress not found. Please update jupyter and ipywidgets. See https://ipywidgets.readthedocs.io/en/stable/user_install.html\n",
      "  from .autonotebook import tqdm as notebook_tqdm\n",
      "c:\\Users\\user\\AppData\\Local\\Programs\\Python\\Python311\\Lib\\site-packages\\torch\\nn\\modules\\conv.py:456: UserWarning: Plan failed with a cudnnException: CUDNN_BACKEND_EXECUTION_PLAN_DESCRIPTOR: cudnnFinalize Descriptor Failed cudnn_status: CUDNN_STATUS_NOT_SUPPORTED (Triggered internally at ..\\aten\\src\\ATen\\native\\cudnn\\Conv_v8.cpp:919.)\n",
      "  return F.conv2d(input, weight, bias, self.stride,\n"
     ]
    },
    {
     "name": "stdout",
     "output_type": "stream",
     "text": [
      "\u001b[34m\u001b[1mAMP: \u001b[0mchecks passed \n"
     ]
    },
    {
     "name": "stderr",
     "output_type": "stream",
     "text": [
      "\u001b[34m\u001b[1mtrain: \u001b[0mScanning C:\\Users\\user\\Desktop\\FINAL\\final-project\\16\\data\\13\\train\\labels... 7065 images, 0 backgrounds, 0 corrupt: 100%|██████████| 7065/7065 [00:04<00:00, 1610.85it/s]"
     ]
    },
    {
     "name": "stdout",
     "output_type": "stream",
     "text": [
      "\u001b[34m\u001b[1mtrain: \u001b[0mWARNING  C:\\Users\\user\\Desktop\\FINAL\\final-project\\16\\data\\13\\train\\images\\photo-1590848791238-fb3596a2ba56_jpg.rf.0f389fd81faa7300281bc607100b096e.jpg: 1 duplicate labels removed\n"
     ]
    },
    {
     "name": "stderr",
     "output_type": "stream",
     "text": [
      "\n"
     ]
    },
    {
     "name": "stdout",
     "output_type": "stream",
     "text": [
      "\u001b[34m\u001b[1mtrain: \u001b[0mNew cache created: C:\\Users\\user\\Desktop\\FINAL\\final-project\\16\\data\\13\\train\\labels.cache\n",
      "WARNING  Box and segment counts should be equal, but got len(segments) = 2042, len(boxes) = 33374. To resolve this only boxes will be used and all segments will be removed. To avoid this please supply either a detect or segment dataset, not a detect-segment mixed dataset.\n"
     ]
    },
    {
     "name": "stderr",
     "output_type": "stream",
     "text": [
      "\u001b[34m\u001b[1mval: \u001b[0mScanning C:\\Users\\user\\Desktop\\FINAL\\final-project\\16\\data\\13\\valid\\labels... 1660 images, 2 backgrounds, 0 corrupt: 100%|██████████| 1660/1660 [00:01<00:00, 1244.73it/s]\n"
     ]
    },
    {
     "name": "stdout",
     "output_type": "stream",
     "text": [
      "\u001b[34m\u001b[1mval: \u001b[0mNew cache created: C:\\Users\\user\\Desktop\\FINAL\\final-project\\16\\data\\13\\valid\\labels.cache\n",
      "WARNING  Box and segment counts should be equal, but got len(segments) = 491, len(boxes) = 8768. To resolve this only boxes will be used and all segments will be removed. To avoid this please supply either a detect or segment dataset, not a detect-segment mixed dataset.\n",
      "Plotting labels to runs\\detect\\train\\labels.jpg... \n",
      "\u001b[34m\u001b[1moptimizer:\u001b[0m 'optimizer=auto' found, ignoring 'lr0=0.01' and 'momentum=0.937' and determining best 'optimizer', 'lr0' and 'momentum' automatically... \n",
      "\u001b[34m\u001b[1moptimizer:\u001b[0m SGD(lr=0.01, momentum=0.9) with parameter groups 221 weight(decay=0.0), 228 weight(decay=0.0005), 227 bias(decay=0.0)\n",
      "\u001b[34m\u001b[1mTensorBoard: \u001b[0mmodel graph visualization added \n",
      "Image sizes 640 train, 640 val\n",
      "Using 8 dataloader workers\n",
      "Logging results to \u001b[1mruns\\detect\\train\u001b[0m\n",
      "Starting training for 100 epochs...\n",
      "\n",
      "      Epoch    GPU_mem   box_loss   cls_loss   dfl_loss  Instances       Size\n"
     ]
    },
    {
     "name": "stderr",
     "output_type": "stream",
     "text": [
      "      1/100      5.87G      1.421      3.798      1.645         93        640: 100%|██████████| 442/442 [02:15<00:00,  3.26it/s]\n",
      "                 Class     Images  Instances      Box(P          R      mAP50  mAP50-95): 100%|██████████| 52/52 [00:15<00:00,  3.32it/s]\n"
     ]
    },
    {
     "name": "stdout",
     "output_type": "stream",
     "text": [
      "                   all       1660       8768      0.592      0.261      0.256      0.156\n",
      "\n",
      "      Epoch    GPU_mem   box_loss   cls_loss   dfl_loss  Instances       Size\n"
     ]
    },
    {
     "name": "stderr",
     "output_type": "stream",
     "text": [
      "      2/100      5.73G      1.318      2.254       1.51         81        640: 100%|██████████| 442/442 [02:07<00:00,  3.45it/s]\n",
      "                 Class     Images  Instances      Box(P          R      mAP50  mAP50-95): 100%|██████████| 52/52 [00:14<00:00,  3.63it/s]\n"
     ]
    },
    {
     "name": "stdout",
     "output_type": "stream",
     "text": [
      "                   all       1660       8768      0.614      0.275       0.29      0.174\n",
      "\n",
      "      Epoch    GPU_mem   box_loss   cls_loss   dfl_loss  Instances       Size\n"
     ]
    },
    {
     "name": "stderr",
     "output_type": "stream",
     "text": [
      "      3/100      5.49G      1.344      2.126      1.535         51        640: 100%|██████████| 442/442 [02:03<00:00,  3.57it/s]\n",
      "                 Class     Images  Instances      Box(P          R      mAP50  mAP50-95): 100%|██████████| 52/52 [00:14<00:00,  3.65it/s]\n"
     ]
    },
    {
     "name": "stdout",
     "output_type": "stream",
     "text": [
      "                   all       1660       8768      0.571      0.279      0.301      0.182\n",
      "\n",
      "      Epoch    GPU_mem   box_loss   cls_loss   dfl_loss  Instances       Size\n"
     ]
    },
    {
     "name": "stderr",
     "output_type": "stream",
     "text": [
      "      4/100      5.84G      1.382       2.08      1.566         53        640: 100%|██████████| 442/442 [02:03<00:00,  3.59it/s]\n",
      "                 Class     Images  Instances      Box(P          R      mAP50  mAP50-95): 100%|██████████| 52/52 [00:14<00:00,  3.53it/s]\n"
     ]
    },
    {
     "name": "stdout",
     "output_type": "stream",
     "text": [
      "                   all       1660       8768      0.481      0.331      0.333      0.197\n",
      "\n",
      "      Epoch    GPU_mem   box_loss   cls_loss   dfl_loss  Instances       Size\n"
     ]
    },
    {
     "name": "stderr",
     "output_type": "stream",
     "text": [
      "      5/100      5.75G      1.354      1.928      1.544         61        640: 100%|██████████| 442/442 [02:03<00:00,  3.57it/s]\n",
      "                 Class     Images  Instances      Box(P          R      mAP50  mAP50-95): 100%|██████████| 52/52 [00:14<00:00,  3.64it/s]\n"
     ]
    },
    {
     "name": "stdout",
     "output_type": "stream",
     "text": [
      "                   all       1660       8768       0.47      0.359      0.355      0.217\n",
      "\n",
      "      Epoch    GPU_mem   box_loss   cls_loss   dfl_loss  Instances       Size\n"
     ]
    },
    {
     "name": "stderr",
     "output_type": "stream",
     "text": [
      "      6/100      5.74G      1.323      1.819      1.521         63        640: 100%|██████████| 442/442 [02:02<00:00,  3.60it/s]\n",
      "                 Class     Images  Instances      Box(P          R      mAP50  mAP50-95): 100%|██████████| 52/52 [00:14<00:00,  3.69it/s]\n"
     ]
    },
    {
     "name": "stdout",
     "output_type": "stream",
     "text": [
      "                   all       1660       8768      0.555      0.382      0.404      0.252\n",
      "\n",
      "      Epoch    GPU_mem   box_loss   cls_loss   dfl_loss  Instances       Size\n"
     ]
    },
    {
     "name": "stderr",
     "output_type": "stream",
     "text": [
      "      7/100      5.72G      1.305       1.71       1.51        163        640: 100%|██████████| 442/442 [02:02<00:00,  3.62it/s]\n",
      "                 Class     Images  Instances      Box(P          R      mAP50  mAP50-95): 100%|██████████| 52/52 [00:14<00:00,  3.71it/s]\n"
     ]
    },
    {
     "name": "stdout",
     "output_type": "stream",
     "text": [
      "                   all       1660       8768      0.579      0.384      0.406      0.256\n",
      "\n",
      "      Epoch    GPU_mem   box_loss   cls_loss   dfl_loss  Instances       Size\n"
     ]
    },
    {
     "name": "stderr",
     "output_type": "stream",
     "text": [
      "      8/100      5.69G      1.272      1.612      1.483         81        640: 100%|██████████| 442/442 [02:04<00:00,  3.56it/s]\n",
      "                 Class     Images  Instances      Box(P          R      mAP50  mAP50-95): 100%|██████████| 52/52 [00:14<00:00,  3.70it/s]\n"
     ]
    },
    {
     "name": "stdout",
     "output_type": "stream",
     "text": [
      "                   all       1660       8768       0.58      0.413      0.462      0.292\n",
      "\n",
      "      Epoch    GPU_mem   box_loss   cls_loss   dfl_loss  Instances       Size\n"
     ]
    },
    {
     "name": "stderr",
     "output_type": "stream",
     "text": [
      "      9/100      5.66G      1.251      1.577      1.467         82        640: 100%|██████████| 442/442 [02:37<00:00,  2.81it/s]\n",
      "                 Class     Images  Instances      Box(P          R      mAP50  mAP50-95): 100%|██████████| 52/52 [00:27<00:00,  1.90it/s]\n"
     ]
    },
    {
     "name": "stdout",
     "output_type": "stream",
     "text": [
      "                   all       1660       8768      0.588      0.409      0.456      0.293\n",
      "\n",
      "      Epoch    GPU_mem   box_loss   cls_loss   dfl_loss  Instances       Size\n"
     ]
    },
    {
     "name": "stderr",
     "output_type": "stream",
     "text": [
      "     10/100       5.6G       1.25       1.51      1.462         82        640: 100%|██████████| 442/442 [04:11<00:00,  1.76it/s]\n",
      "                 Class     Images  Instances      Box(P          R      mAP50  mAP50-95): 100%|██████████| 52/52 [00:28<00:00,  1.81it/s]\n"
     ]
    },
    {
     "name": "stdout",
     "output_type": "stream",
     "text": [
      "                   all       1660       8768      0.583      0.455      0.472      0.304\n",
      "\n",
      "      Epoch    GPU_mem   box_loss   cls_loss   dfl_loss  Instances       Size\n"
     ]
    },
    {
     "name": "stderr",
     "output_type": "stream",
     "text": [
      "     11/100      5.48G      1.222      1.449       1.44         85        640: 100%|██████████| 442/442 [03:01<00:00,  2.43it/s]\n",
      "                 Class     Images  Instances      Box(P          R      mAP50  mAP50-95): 100%|██████████| 52/52 [00:14<00:00,  3.71it/s]\n"
     ]
    },
    {
     "name": "stdout",
     "output_type": "stream",
     "text": [
      "                   all       1660       8768      0.572      0.494      0.511      0.336\n",
      "\n",
      "      Epoch    GPU_mem   box_loss   cls_loss   dfl_loss  Instances       Size\n"
     ]
    },
    {
     "name": "stderr",
     "output_type": "stream",
     "text": [
      "     12/100      5.48G      1.212      1.411      1.436         69        640: 100%|██████████| 442/442 [02:04<00:00,  3.55it/s]\n",
      "                 Class     Images  Instances      Box(P          R      mAP50  mAP50-95): 100%|██████████| 52/52 [00:14<00:00,  3.65it/s]\n"
     ]
    },
    {
     "name": "stdout",
     "output_type": "stream",
     "text": [
      "                   all       1660       8768      0.544       0.51      0.533      0.355\n",
      "\n",
      "      Epoch    GPU_mem   box_loss   cls_loss   dfl_loss  Instances       Size\n"
     ]
    },
    {
     "name": "stderr",
     "output_type": "stream",
     "text": [
      "     13/100      5.53G      1.205      1.382      1.423         85        640: 100%|██████████| 442/442 [02:04<00:00,  3.55it/s]\n",
      "                 Class     Images  Instances      Box(P          R      mAP50  mAP50-95): 100%|██████████| 52/52 [00:14<00:00,  3.58it/s]\n"
     ]
    },
    {
     "name": "stdout",
     "output_type": "stream",
     "text": [
      "                   all       1660       8768      0.603        0.5      0.549      0.359\n",
      "\n",
      "      Epoch    GPU_mem   box_loss   cls_loss   dfl_loss  Instances       Size\n"
     ]
    },
    {
     "name": "stderr",
     "output_type": "stream",
     "text": [
      "     14/100      5.54G      1.193      1.345      1.423         68        640: 100%|██████████| 442/442 [02:03<00:00,  3.58it/s]\n",
      "                 Class     Images  Instances      Box(P          R      mAP50  mAP50-95): 100%|██████████| 52/52 [00:13<00:00,  3.75it/s]"
     ]
    },
    {
     "name": "stdout",
     "output_type": "stream",
     "text": [
      "                   all       1660       8768      0.603      0.512      0.564      0.375\n"
     ]
    },
    {
     "name": "stderr",
     "output_type": "stream",
     "text": [
      "\n"
     ]
    },
    {
     "name": "stdout",
     "output_type": "stream",
     "text": [
      "\n",
      "      Epoch    GPU_mem   box_loss   cls_loss   dfl_loss  Instances       Size\n"
     ]
    },
    {
     "name": "stderr",
     "output_type": "stream",
     "text": [
      "     15/100       5.6G      1.183      1.307      1.418        132        640: 100%|██████████| 442/442 [02:02<00:00,  3.61it/s]\n",
      "                 Class     Images  Instances      Box(P          R      mAP50  mAP50-95): 100%|██████████| 52/52 [00:14<00:00,  3.69it/s]"
     ]
    },
    {
     "name": "stdout",
     "output_type": "stream",
     "text": [
      "                   all       1660       8768      0.617       0.52      0.567      0.369\n"
     ]
    },
    {
     "name": "stderr",
     "output_type": "stream",
     "text": [
      "\n"
     ]
    },
    {
     "name": "stdout",
     "output_type": "stream",
     "text": [
      "\n",
      "      Epoch    GPU_mem   box_loss   cls_loss   dfl_loss  Instances       Size\n"
     ]
    },
    {
     "name": "stderr",
     "output_type": "stream",
     "text": [
      "     16/100      5.49G      1.169      1.271        1.4         34        640: 100%|██████████| 442/442 [02:06<00:00,  3.49it/s]\n",
      "                 Class     Images  Instances      Box(P          R      mAP50  mAP50-95): 100%|██████████| 52/52 [00:27<00:00,  1.91it/s]\n"
     ]
    },
    {
     "name": "stdout",
     "output_type": "stream",
     "text": [
      "                   all       1660       8768      0.598      0.525      0.565      0.377\n",
      "\n",
      "      Epoch    GPU_mem   box_loss   cls_loss   dfl_loss  Instances       Size\n"
     ]
    },
    {
     "name": "stderr",
     "output_type": "stream",
     "text": [
      "     17/100      5.73G       1.16      1.253      1.397         33        640: 100%|██████████| 442/442 [03:21<00:00,  2.19it/s]\n",
      "                 Class     Images  Instances      Box(P          R      mAP50  mAP50-95): 100%|██████████| 52/52 [00:13<00:00,  3.76it/s]"
     ]
    },
    {
     "name": "stdout",
     "output_type": "stream",
     "text": [
      "                   all       1660       8768      0.685      0.509      0.606      0.406\n"
     ]
    },
    {
     "name": "stderr",
     "output_type": "stream",
     "text": [
      "\n"
     ]
    },
    {
     "name": "stdout",
     "output_type": "stream",
     "text": [
      "\n",
      "      Epoch    GPU_mem   box_loss   cls_loss   dfl_loss  Instances       Size\n"
     ]
    },
    {
     "name": "stderr",
     "output_type": "stream",
     "text": [
      "     18/100      5.54G      1.155      1.238      1.397         51        640: 100%|██████████| 442/442 [02:04<00:00,  3.55it/s]\n",
      "                 Class     Images  Instances      Box(P          R      mAP50  mAP50-95): 100%|██████████| 52/52 [00:13<00:00,  3.74it/s]"
     ]
    },
    {
     "name": "stdout",
     "output_type": "stream",
     "text": [
      "                   all       1660       8768      0.638      0.543      0.601      0.399\n"
     ]
    },
    {
     "name": "stderr",
     "output_type": "stream",
     "text": [
      "\n"
     ]
    },
    {
     "name": "stdout",
     "output_type": "stream",
     "text": [
      "\n",
      "      Epoch    GPU_mem   box_loss   cls_loss   dfl_loss  Instances       Size\n"
     ]
    },
    {
     "name": "stderr",
     "output_type": "stream",
     "text": [
      "     19/100      5.73G      1.142      1.216      1.379         65        640: 100%|██████████| 442/442 [02:02<00:00,  3.62it/s]\n",
      "                 Class     Images  Instances      Box(P          R      mAP50  mAP50-95): 100%|██████████| 52/52 [00:13<00:00,  3.74it/s]"
     ]
    },
    {
     "name": "stdout",
     "output_type": "stream",
     "text": [
      "                   all       1660       8768      0.665      0.552      0.617       0.41\n"
     ]
    },
    {
     "name": "stderr",
     "output_type": "stream",
     "text": [
      "\n"
     ]
    },
    {
     "name": "stdout",
     "output_type": "stream",
     "text": [
      "\n",
      "      Epoch    GPU_mem   box_loss   cls_loss   dfl_loss  Instances       Size\n"
     ]
    },
    {
     "name": "stderr",
     "output_type": "stream",
     "text": [
      "     20/100         6G      1.139      1.197       1.38         30        640: 100%|██████████| 442/442 [02:04<00:00,  3.56it/s]\n",
      "                 Class     Images  Instances      Box(P          R      mAP50  mAP50-95): 100%|██████████| 52/52 [00:14<00:00,  3.64it/s]"
     ]
    },
    {
     "name": "stdout",
     "output_type": "stream",
     "text": [
      "                   all       1660       8768      0.588      0.596      0.619      0.417\n"
     ]
    },
    {
     "name": "stderr",
     "output_type": "stream",
     "text": [
      "\n"
     ]
    },
    {
     "name": "stdout",
     "output_type": "stream",
     "text": [
      "\n",
      "      Epoch    GPU_mem   box_loss   cls_loss   dfl_loss  Instances       Size\n"
     ]
    },
    {
     "name": "stderr",
     "output_type": "stream",
     "text": [
      "     21/100      5.48G      1.131      1.185      1.377         52        640: 100%|██████████| 442/442 [02:02<00:00,  3.62it/s]\n",
      "                 Class     Images  Instances      Box(P          R      mAP50  mAP50-95): 100%|██████████| 52/52 [00:13<00:00,  3.74it/s]"
     ]
    },
    {
     "name": "stdout",
     "output_type": "stream",
     "text": [
      "                   all       1660       8768      0.624       0.58      0.625      0.421\n"
     ]
    },
    {
     "name": "stderr",
     "output_type": "stream",
     "text": [
      "\n"
     ]
    },
    {
     "name": "stdout",
     "output_type": "stream",
     "text": [
      "\n",
      "      Epoch    GPU_mem   box_loss   cls_loss   dfl_loss  Instances       Size\n"
     ]
    },
    {
     "name": "stderr",
     "output_type": "stream",
     "text": [
      "     22/100      5.48G      1.123      1.144      1.365         69        640: 100%|██████████| 442/442 [02:02<00:00,  3.61it/s]\n",
      "                 Class     Images  Instances      Box(P          R      mAP50  mAP50-95): 100%|██████████| 52/52 [00:13<00:00,  3.74it/s]"
     ]
    },
    {
     "name": "stdout",
     "output_type": "stream",
     "text": [
      "                   all       1660       8768      0.603      0.619      0.642      0.438\n"
     ]
    },
    {
     "name": "stderr",
     "output_type": "stream",
     "text": [
      "\n"
     ]
    },
    {
     "name": "stdout",
     "output_type": "stream",
     "text": [
      "\n",
      "      Epoch    GPU_mem   box_loss   cls_loss   dfl_loss  Instances       Size\n"
     ]
    },
    {
     "name": "stderr",
     "output_type": "stream",
     "text": [
      "     23/100      5.73G       1.11      1.119      1.359         41        640: 100%|██████████| 442/442 [03:52<00:00,  1.90it/s]\n",
      "                 Class     Images  Instances      Box(P          R      mAP50  mAP50-95): 100%|██████████| 52/52 [00:25<00:00,  2.03it/s]\n"
     ]
    },
    {
     "name": "stdout",
     "output_type": "stream",
     "text": [
      "                   all       1660       8768      0.603      0.616       0.64      0.433\n",
      "\n",
      "      Epoch    GPU_mem   box_loss   cls_loss   dfl_loss  Instances       Size\n"
     ]
    },
    {
     "name": "stderr",
     "output_type": "stream",
     "text": [
      "     24/100      5.72G      1.108      1.116      1.359         62        640: 100%|██████████| 442/442 [04:02<00:00,  1.82it/s]\n",
      "                 Class     Images  Instances      Box(P          R      mAP50  mAP50-95): 100%|██████████| 52/52 [00:25<00:00,  2.05it/s]\n"
     ]
    },
    {
     "name": "stdout",
     "output_type": "stream",
     "text": [
      "                   all       1660       8768      0.592      0.616       0.62      0.425\n",
      "\n",
      "      Epoch    GPU_mem   box_loss   cls_loss   dfl_loss  Instances       Size\n"
     ]
    },
    {
     "name": "stderr",
     "output_type": "stream",
     "text": [
      "     25/100      5.92G      1.099       1.11      1.356         43        640: 100%|██████████| 442/442 [04:07<00:00,  1.78it/s]\n",
      "                 Class     Images  Instances      Box(P          R      mAP50  mAP50-95): 100%|██████████| 52/52 [00:18<00:00,  2.83it/s]"
     ]
    },
    {
     "name": "stdout",
     "output_type": "stream",
     "text": [
      "                   all       1660       8768      0.695      0.594      0.665      0.452\n"
     ]
    },
    {
     "name": "stderr",
     "output_type": "stream",
     "text": [
      "\n"
     ]
    },
    {
     "name": "stdout",
     "output_type": "stream",
     "text": [
      "\n",
      "      Epoch    GPU_mem   box_loss   cls_loss   dfl_loss  Instances       Size\n"
     ]
    },
    {
     "name": "stderr",
     "output_type": "stream",
     "text": [
      "     26/100      6.12G      1.091      1.088      1.348         52        640: 100%|██████████| 442/442 [02:26<00:00,  3.02it/s]\n",
      "                 Class     Images  Instances      Box(P          R      mAP50  mAP50-95): 100%|██████████| 52/52 [00:14<00:00,  3.62it/s]"
     ]
    },
    {
     "name": "stdout",
     "output_type": "stream",
     "text": [
      "                   all       1660       8768      0.668      0.601      0.659      0.452\n"
     ]
    },
    {
     "name": "stderr",
     "output_type": "stream",
     "text": [
      "\n"
     ]
    },
    {
     "name": "stdout",
     "output_type": "stream",
     "text": [
      "\n",
      "      Epoch    GPU_mem   box_loss   cls_loss   dfl_loss  Instances       Size\n"
     ]
    },
    {
     "name": "stderr",
     "output_type": "stream",
     "text": [
      "     27/100      5.53G      1.089      1.077      1.351         68        640: 100%|██████████| 442/442 [02:03<00:00,  3.57it/s]\n",
      "                 Class     Images  Instances      Box(P          R      mAP50  mAP50-95): 100%|██████████| 52/52 [00:14<00:00,  3.70it/s]"
     ]
    },
    {
     "name": "stdout",
     "output_type": "stream",
     "text": [
      "                   all       1660       8768      0.657      0.603      0.654      0.446\n"
     ]
    },
    {
     "name": "stderr",
     "output_type": "stream",
     "text": [
      "\n"
     ]
    },
    {
     "name": "stdout",
     "output_type": "stream",
     "text": [
      "\n",
      "      Epoch    GPU_mem   box_loss   cls_loss   dfl_loss  Instances       Size\n"
     ]
    },
    {
     "name": "stderr",
     "output_type": "stream",
     "text": [
      "     28/100      5.71G      1.079      1.052      1.335        102        640: 100%|██████████| 442/442 [02:03<00:00,  3.57it/s]\n",
      "                 Class     Images  Instances      Box(P          R      mAP50  mAP50-95): 100%|██████████| 52/52 [00:14<00:00,  3.60it/s]"
     ]
    },
    {
     "name": "stdout",
     "output_type": "stream",
     "text": [
      "                   all       1660       8768      0.662       0.62      0.655      0.454\n"
     ]
    },
    {
     "name": "stderr",
     "output_type": "stream",
     "text": [
      "\n"
     ]
    },
    {
     "name": "stdout",
     "output_type": "stream",
     "text": [
      "\n",
      "      Epoch    GPU_mem   box_loss   cls_loss   dfl_loss  Instances       Size\n"
     ]
    },
    {
     "name": "stderr",
     "output_type": "stream",
     "text": [
      "     29/100      5.53G      1.072      1.038      1.337        111        640: 100%|██████████| 442/442 [03:13<00:00,  2.28it/s]\n",
      "                 Class     Images  Instances      Box(P          R      mAP50  mAP50-95): 100%|██████████| 52/52 [00:24<00:00,  2.11it/s]\n"
     ]
    },
    {
     "name": "stdout",
     "output_type": "stream",
     "text": [
      "                   all       1660       8768      0.704      0.579      0.672      0.464\n",
      "\n",
      "      Epoch    GPU_mem   box_loss   cls_loss   dfl_loss  Instances       Size\n"
     ]
    },
    {
     "name": "stderr",
     "output_type": "stream",
     "text": [
      "     30/100      5.73G      1.063      1.028      1.328         61        640: 100%|██████████| 442/442 [03:54<00:00,  1.89it/s]\n",
      "                 Class     Images  Instances      Box(P          R      mAP50  mAP50-95): 100%|██████████| 52/52 [00:26<00:00,  1.95it/s]\n"
     ]
    },
    {
     "name": "stdout",
     "output_type": "stream",
     "text": [
      "                   all       1660       8768       0.68       0.61      0.656      0.449\n",
      "\n",
      "      Epoch    GPU_mem   box_loss   cls_loss   dfl_loss  Instances       Size\n"
     ]
    },
    {
     "name": "stderr",
     "output_type": "stream",
     "text": [
      "     31/100      5.74G      1.063      1.003      1.324         52        640: 100%|██████████| 442/442 [04:03<00:00,  1.82it/s]\n",
      "                 Class     Images  Instances      Box(P          R      mAP50  mAP50-95): 100%|██████████| 52/52 [00:30<00:00,  1.70it/s]\n"
     ]
    },
    {
     "name": "stdout",
     "output_type": "stream",
     "text": [
      "                   all       1660       8768      0.719      0.613      0.688       0.48\n",
      "\n",
      "      Epoch    GPU_mem   box_loss   cls_loss   dfl_loss  Instances       Size\n"
     ]
    },
    {
     "name": "stderr",
     "output_type": "stream",
     "text": [
      "     32/100      6.02G      1.057      1.006      1.318         40        640: 100%|██████████| 442/442 [04:43<00:00,  1.56it/s]\n",
      "                 Class     Images  Instances      Box(P          R      mAP50  mAP50-95): 100%|██████████| 52/52 [00:30<00:00,  1.72it/s]\n"
     ]
    },
    {
     "name": "stdout",
     "output_type": "stream",
     "text": [
      "                   all       1660       8768      0.701      0.599      0.683      0.477\n",
      "\n",
      "      Epoch    GPU_mem   box_loss   cls_loss   dfl_loss  Instances       Size\n"
     ]
    },
    {
     "name": "stderr",
     "output_type": "stream",
     "text": [
      "     33/100      5.79G      1.062      1.003      1.324        101        640: 100%|██████████| 442/442 [03:32<00:00,  2.08it/s]\n",
      "                 Class     Images  Instances      Box(P          R      mAP50  mAP50-95): 100%|██████████| 52/52 [00:14<00:00,  3.63it/s]"
     ]
    },
    {
     "name": "stdout",
     "output_type": "stream",
     "text": [
      "                   all       1660       8768      0.706      0.614      0.692      0.485\n"
     ]
    },
    {
     "name": "stderr",
     "output_type": "stream",
     "text": [
      "\n"
     ]
    },
    {
     "name": "stdout",
     "output_type": "stream",
     "text": [
      "\n",
      "      Epoch    GPU_mem   box_loss   cls_loss   dfl_loss  Instances       Size\n"
     ]
    },
    {
     "name": "stderr",
     "output_type": "stream",
     "text": [
      "     34/100      5.76G      1.046     0.9834      1.313        117        640: 100%|██████████| 442/442 [02:05<00:00,  3.53it/s]\n",
      "                 Class     Images  Instances      Box(P          R      mAP50  mAP50-95): 100%|██████████| 52/52 [00:14<00:00,  3.67it/s]"
     ]
    },
    {
     "name": "stdout",
     "output_type": "stream",
     "text": [
      "                   all       1660       8768      0.656      0.648      0.663       0.46\n"
     ]
    },
    {
     "name": "stderr",
     "output_type": "stream",
     "text": [
      "\n"
     ]
    },
    {
     "name": "stdout",
     "output_type": "stream",
     "text": [
      "\n",
      "      Epoch    GPU_mem   box_loss   cls_loss   dfl_loss  Instances       Size\n"
     ]
    },
    {
     "name": "stderr",
     "output_type": "stream",
     "text": [
      "     35/100      5.73G      1.048      0.976       1.32         78        640: 100%|██████████| 442/442 [02:04<00:00,  3.54it/s]\n",
      "                 Class     Images  Instances      Box(P          R      mAP50  mAP50-95): 100%|██████████| 52/52 [00:14<00:00,  3.66it/s]"
     ]
    },
    {
     "name": "stdout",
     "output_type": "stream",
     "text": [
      "                   all       1660       8768      0.675      0.629      0.693      0.489\n"
     ]
    },
    {
     "name": "stderr",
     "output_type": "stream",
     "text": [
      "\n"
     ]
    },
    {
     "name": "stdout",
     "output_type": "stream",
     "text": [
      "\n",
      "      Epoch    GPU_mem   box_loss   cls_loss   dfl_loss  Instances       Size\n"
     ]
    },
    {
     "name": "stderr",
     "output_type": "stream",
     "text": [
      "     36/100      5.53G      1.036     0.9598      1.308         43        640: 100%|██████████| 442/442 [02:04<00:00,  3.55it/s]\n",
      "                 Class     Images  Instances      Box(P          R      mAP50  mAP50-95): 100%|██████████| 52/52 [00:14<00:00,  3.56it/s]"
     ]
    },
    {
     "name": "stdout",
     "output_type": "stream",
     "text": [
      "                   all       1660       8768      0.679      0.643      0.699      0.484\n"
     ]
    },
    {
     "name": "stderr",
     "output_type": "stream",
     "text": [
      "\n"
     ]
    },
    {
     "name": "stdout",
     "output_type": "stream",
     "text": [
      "\n",
      "      Epoch    GPU_mem   box_loss   cls_loss   dfl_loss  Instances       Size\n"
     ]
    },
    {
     "name": "stderr",
     "output_type": "stream",
     "text": [
      "     37/100      5.54G      1.033     0.9519      1.313         59        640: 100%|██████████| 442/442 [02:03<00:00,  3.58it/s]\n",
      "                 Class     Images  Instances      Box(P          R      mAP50  mAP50-95): 100%|██████████| 52/52 [00:14<00:00,  3.67it/s]"
     ]
    },
    {
     "name": "stdout",
     "output_type": "stream",
     "text": [
      "                   all       1660       8768      0.667      0.694      0.728      0.513\n"
     ]
    },
    {
     "name": "stderr",
     "output_type": "stream",
     "text": [
      "\n"
     ]
    },
    {
     "name": "stdout",
     "output_type": "stream",
     "text": [
      "\n",
      "      Epoch    GPU_mem   box_loss   cls_loss   dfl_loss  Instances       Size\n"
     ]
    },
    {
     "name": "stderr",
     "output_type": "stream",
     "text": [
      "     38/100      5.84G      1.028     0.9326      1.307        114        640: 100%|██████████| 442/442 [03:22<00:00,  2.18it/s]\n",
      "                 Class     Images  Instances      Box(P          R      mAP50  mAP50-95): 100%|██████████| 52/52 [00:13<00:00,  3.74it/s]"
     ]
    },
    {
     "name": "stdout",
     "output_type": "stream",
     "text": [
      "                   all       1660       8768      0.704      0.647      0.721      0.507\n"
     ]
    },
    {
     "name": "stderr",
     "output_type": "stream",
     "text": [
      "\n"
     ]
    },
    {
     "name": "stdout",
     "output_type": "stream",
     "text": [
      "\n",
      "      Epoch    GPU_mem   box_loss   cls_loss   dfl_loss  Instances       Size\n"
     ]
    },
    {
     "name": "stderr",
     "output_type": "stream",
     "text": [
      "     39/100      5.53G      1.028     0.9326      1.305         67        640: 100%|██████████| 442/442 [03:48<00:00,  1.93it/s]\n",
      "                 Class     Images  Instances      Box(P          R      mAP50  mAP50-95): 100%|██████████| 52/52 [00:26<00:00,  1.97it/s]\n"
     ]
    },
    {
     "name": "stdout",
     "output_type": "stream",
     "text": [
      "                   all       1660       8768       0.74      0.648      0.728      0.515\n",
      "\n",
      "      Epoch    GPU_mem   box_loss   cls_loss   dfl_loss  Instances       Size\n"
     ]
    },
    {
     "name": "stderr",
     "output_type": "stream",
     "text": [
      "     40/100      5.78G      1.029     0.9202      1.296         58        640: 100%|██████████| 442/442 [04:00<00:00,  1.84it/s]\n",
      "                 Class     Images  Instances      Box(P          R      mAP50  mAP50-95): 100%|██████████| 52/52 [00:27<00:00,  1.88it/s]\n"
     ]
    },
    {
     "name": "stdout",
     "output_type": "stream",
     "text": [
      "                   all       1660       8768      0.739       0.66      0.745      0.523\n",
      "\n",
      "      Epoch    GPU_mem   box_loss   cls_loss   dfl_loss  Instances       Size\n"
     ]
    },
    {
     "name": "stderr",
     "output_type": "stream",
     "text": [
      "     41/100      5.48G      1.017     0.9051      1.293         64        640: 100%|██████████| 442/442 [04:20<00:00,  1.70it/s]\n",
      "                 Class     Images  Instances      Box(P          R      mAP50  mAP50-95): 100%|██████████| 52/52 [00:27<00:00,  1.89it/s]\n"
     ]
    },
    {
     "name": "stdout",
     "output_type": "stream",
     "text": [
      "                   all       1660       8768      0.748       0.65      0.735      0.521\n",
      "\n",
      "      Epoch    GPU_mem   box_loss   cls_loss   dfl_loss  Instances       Size\n"
     ]
    },
    {
     "name": "stderr",
     "output_type": "stream",
     "text": [
      "     42/100      5.96G      1.013     0.9035      1.289         91        640: 100%|██████████| 442/442 [04:11<00:00,  1.76it/s]\n",
      "                 Class     Images  Instances      Box(P          R      mAP50  mAP50-95): 100%|██████████| 52/52 [00:27<00:00,  1.86it/s]\n"
     ]
    },
    {
     "name": "stdout",
     "output_type": "stream",
     "text": [
      "                   all       1660       8768      0.688      0.691       0.74      0.527\n",
      "\n",
      "      Epoch    GPU_mem   box_loss   cls_loss   dfl_loss  Instances       Size\n"
     ]
    },
    {
     "name": "stderr",
     "output_type": "stream",
     "text": [
      "     43/100      5.75G      1.009     0.8873      1.285         42        640: 100%|██████████| 442/442 [04:22<00:00,  1.69it/s]\n",
      "                 Class     Images  Instances      Box(P          R      mAP50  mAP50-95): 100%|██████████| 52/52 [00:27<00:00,  1.86it/s]\n"
     ]
    },
    {
     "name": "stdout",
     "output_type": "stream",
     "text": [
      "                   all       1660       8768      0.684      0.681       0.73      0.518\n",
      "\n",
      "      Epoch    GPU_mem   box_loss   cls_loss   dfl_loss  Instances       Size\n"
     ]
    },
    {
     "name": "stderr",
     "output_type": "stream",
     "text": [
      "     44/100      5.77G     0.9992     0.8774      1.281         75        640: 100%|██████████| 442/442 [03:19<00:00,  2.22it/s]\n",
      "                 Class     Images  Instances      Box(P          R      mAP50  mAP50-95): 100%|██████████| 52/52 [00:14<00:00,  3.69it/s]"
     ]
    },
    {
     "name": "stdout",
     "output_type": "stream",
     "text": [
      "                   all       1660       8768      0.736      0.662      0.732      0.522\n"
     ]
    },
    {
     "name": "stderr",
     "output_type": "stream",
     "text": [
      "\n"
     ]
    },
    {
     "name": "stdout",
     "output_type": "stream",
     "text": [
      "\n",
      "      Epoch    GPU_mem   box_loss   cls_loss   dfl_loss  Instances       Size\n"
     ]
    },
    {
     "name": "stderr",
     "output_type": "stream",
     "text": [
      "     45/100      5.73G      1.007     0.8735      1.286         97        640: 100%|██████████| 442/442 [02:02<00:00,  3.60it/s]\n",
      "                 Class     Images  Instances      Box(P          R      mAP50  mAP50-95): 100%|██████████| 52/52 [00:13<00:00,  3.73it/s]"
     ]
    },
    {
     "name": "stdout",
     "output_type": "stream",
     "text": [
      "                   all       1660       8768      0.723       0.66       0.74      0.529\n"
     ]
    },
    {
     "name": "stderr",
     "output_type": "stream",
     "text": [
      "\n"
     ]
    },
    {
     "name": "stdout",
     "output_type": "stream",
     "text": [
      "\n",
      "      Epoch    GPU_mem   box_loss   cls_loss   dfl_loss  Instances       Size\n"
     ]
    },
    {
     "name": "stderr",
     "output_type": "stream",
     "text": [
      "     46/100      5.74G     0.9977     0.8717      1.278         51        640: 100%|██████████| 442/442 [02:03<00:00,  3.57it/s]\n",
      "                 Class     Images  Instances      Box(P          R      mAP50  mAP50-95): 100%|██████████| 52/52 [00:14<00:00,  3.67it/s]"
     ]
    },
    {
     "name": "stdout",
     "output_type": "stream",
     "text": [
      "                   all       1660       8768      0.694        0.7      0.751      0.537\n"
     ]
    },
    {
     "name": "stderr",
     "output_type": "stream",
     "text": [
      "\n"
     ]
    },
    {
     "name": "stdout",
     "output_type": "stream",
     "text": [
      "\n",
      "      Epoch    GPU_mem   box_loss   cls_loss   dfl_loss  Instances       Size\n"
     ]
    },
    {
     "name": "stderr",
     "output_type": "stream",
     "text": [
      "     47/100      5.74G     0.9862     0.8562      1.274         52        640: 100%|██████████| 442/442 [02:03<00:00,  3.57it/s]\n",
      "                 Class     Images  Instances      Box(P          R      mAP50  mAP50-95): 100%|██████████| 52/52 [00:14<00:00,  3.69it/s]"
     ]
    },
    {
     "name": "stdout",
     "output_type": "stream",
     "text": [
      "                   all       1660       8768       0.68      0.716      0.743      0.532\n"
     ]
    },
    {
     "name": "stderr",
     "output_type": "stream",
     "text": [
      "\n"
     ]
    },
    {
     "name": "stdout",
     "output_type": "stream",
     "text": [
      "\n",
      "      Epoch    GPU_mem   box_loss   cls_loss   dfl_loss  Instances       Size\n"
     ]
    },
    {
     "name": "stderr",
     "output_type": "stream",
     "text": [
      "     48/100      5.72G     0.9992     0.8553      1.278         60        640: 100%|██████████| 442/442 [02:04<00:00,  3.55it/s]\n",
      "                 Class     Images  Instances      Box(P          R      mAP50  mAP50-95): 100%|██████████| 52/52 [00:14<00:00,  3.68it/s]"
     ]
    },
    {
     "name": "stdout",
     "output_type": "stream",
     "text": [
      "                   all       1660       8768      0.703      0.692      0.747      0.544\n"
     ]
    },
    {
     "name": "stderr",
     "output_type": "stream",
     "text": [
      "\n"
     ]
    },
    {
     "name": "stdout",
     "output_type": "stream",
     "text": [
      "\n",
      "      Epoch    GPU_mem   box_loss   cls_loss   dfl_loss  Instances       Size\n"
     ]
    },
    {
     "name": "stderr",
     "output_type": "stream",
     "text": [
      "     49/100      5.69G     0.9845     0.8462      1.271         78        640: 100%|██████████| 442/442 [02:04<00:00,  3.56it/s]\n",
      "                 Class     Images  Instances      Box(P          R      mAP50  mAP50-95): 100%|██████████| 52/52 [00:14<00:00,  3.71it/s]"
     ]
    },
    {
     "name": "stdout",
     "output_type": "stream",
     "text": [
      "                   all       1660       8768      0.695      0.709      0.754      0.541\n"
     ]
    },
    {
     "name": "stderr",
     "output_type": "stream",
     "text": [
      "\n"
     ]
    },
    {
     "name": "stdout",
     "output_type": "stream",
     "text": [
      "\n",
      "      Epoch    GPU_mem   box_loss   cls_loss   dfl_loss  Instances       Size\n"
     ]
    },
    {
     "name": "stderr",
     "output_type": "stream",
     "text": [
      "     50/100      5.53G     0.9787     0.8301      1.268         71        640: 100%|██████████| 442/442 [02:03<00:00,  3.58it/s]\n",
      "                 Class     Images  Instances      Box(P          R      mAP50  mAP50-95): 100%|██████████| 52/52 [00:13<00:00,  3.73it/s]"
     ]
    },
    {
     "name": "stdout",
     "output_type": "stream",
     "text": [
      "                   all       1660       8768      0.741      0.675      0.752      0.541\n"
     ]
    },
    {
     "name": "stderr",
     "output_type": "stream",
     "text": [
      "\n"
     ]
    },
    {
     "name": "stdout",
     "output_type": "stream",
     "text": [
      "\n",
      "      Epoch    GPU_mem   box_loss   cls_loss   dfl_loss  Instances       Size\n"
     ]
    },
    {
     "name": "stderr",
     "output_type": "stream",
     "text": [
      "     51/100      5.77G      0.973     0.8189      1.262         88        640: 100%|██████████| 442/442 [02:03<00:00,  3.58it/s]\n",
      "                 Class     Images  Instances      Box(P          R      mAP50  mAP50-95): 100%|██████████| 52/52 [00:13<00:00,  3.76it/s]"
     ]
    },
    {
     "name": "stdout",
     "output_type": "stream",
     "text": [
      "                   all       1660       8768      0.716      0.697      0.753      0.546\n"
     ]
    },
    {
     "name": "stderr",
     "output_type": "stream",
     "text": [
      "\n"
     ]
    },
    {
     "name": "stdout",
     "output_type": "stream",
     "text": [
      "\n",
      "      Epoch    GPU_mem   box_loss   cls_loss   dfl_loss  Instances       Size\n"
     ]
    },
    {
     "name": "stderr",
     "output_type": "stream",
     "text": [
      "     52/100      5.72G     0.9778     0.8238       1.27         72        640: 100%|██████████| 442/442 [02:02<00:00,  3.60it/s]\n",
      "                 Class     Images  Instances      Box(P          R      mAP50  mAP50-95): 100%|██████████| 52/52 [00:13<00:00,  3.73it/s]"
     ]
    },
    {
     "name": "stdout",
     "output_type": "stream",
     "text": [
      "                   all       1660       8768      0.685      0.719      0.748      0.542\n"
     ]
    },
    {
     "name": "stderr",
     "output_type": "stream",
     "text": [
      "\n"
     ]
    },
    {
     "name": "stdout",
     "output_type": "stream",
     "text": [
      "\n",
      "      Epoch    GPU_mem   box_loss   cls_loss   dfl_loss  Instances       Size\n"
     ]
    },
    {
     "name": "stderr",
     "output_type": "stream",
     "text": [
      "     53/100      5.48G     0.9692     0.8182      1.265         59        640: 100%|██████████| 442/442 [02:02<00:00,  3.62it/s]\n",
      "                 Class     Images  Instances      Box(P          R      mAP50  mAP50-95): 100%|██████████| 52/52 [00:13<00:00,  3.76it/s]"
     ]
    },
    {
     "name": "stdout",
     "output_type": "stream",
     "text": [
      "                   all       1660       8768      0.742      0.682       0.76      0.551\n"
     ]
    },
    {
     "name": "stderr",
     "output_type": "stream",
     "text": [
      "\n"
     ]
    },
    {
     "name": "stdout",
     "output_type": "stream",
     "text": [
      "\n",
      "      Epoch    GPU_mem   box_loss   cls_loss   dfl_loss  Instances       Size\n"
     ]
    },
    {
     "name": "stderr",
     "output_type": "stream",
     "text": [
      "     54/100      5.48G      0.972     0.8049      1.258         58        640: 100%|██████████| 442/442 [02:02<00:00,  3.61it/s]\n",
      "                 Class     Images  Instances      Box(P          R      mAP50  mAP50-95): 100%|██████████| 52/52 [00:13<00:00,  3.74it/s]"
     ]
    },
    {
     "name": "stdout",
     "output_type": "stream",
     "text": [
      "                   all       1660       8768      0.737      0.705      0.768       0.56\n"
     ]
    },
    {
     "name": "stderr",
     "output_type": "stream",
     "text": [
      "\n"
     ]
    },
    {
     "name": "stdout",
     "output_type": "stream",
     "text": [
      "\n",
      "      Epoch    GPU_mem   box_loss   cls_loss   dfl_loss  Instances       Size\n"
     ]
    },
    {
     "name": "stderr",
     "output_type": "stream",
     "text": [
      "     55/100      5.79G     0.9598     0.7885      1.249         54        640: 100%|██████████| 442/442 [02:03<00:00,  3.59it/s]\n",
      "                 Class     Images  Instances      Box(P          R      mAP50  mAP50-95): 100%|██████████| 52/52 [00:13<00:00,  3.79it/s]"
     ]
    },
    {
     "name": "stdout",
     "output_type": "stream",
     "text": [
      "                   all       1660       8768      0.783      0.695      0.773      0.562\n"
     ]
    },
    {
     "name": "stderr",
     "output_type": "stream",
     "text": [
      "\n"
     ]
    },
    {
     "name": "stdout",
     "output_type": "stream",
     "text": [
      "\n",
      "      Epoch    GPU_mem   box_loss   cls_loss   dfl_loss  Instances       Size\n"
     ]
    },
    {
     "name": "stderr",
     "output_type": "stream",
     "text": [
      "     56/100      5.66G     0.9502     0.7808      1.246         51        640: 100%|██████████| 442/442 [02:02<00:00,  3.62it/s]\n",
      "                 Class     Images  Instances      Box(P          R      mAP50  mAP50-95): 100%|██████████| 52/52 [00:13<00:00,  3.75it/s]"
     ]
    },
    {
     "name": "stdout",
     "output_type": "stream",
     "text": [
      "                   all       1660       8768      0.755      0.694      0.772       0.56\n"
     ]
    },
    {
     "name": "stderr",
     "output_type": "stream",
     "text": [
      "\n"
     ]
    },
    {
     "name": "stdout",
     "output_type": "stream",
     "text": [
      "\n",
      "      Epoch    GPU_mem   box_loss   cls_loss   dfl_loss  Instances       Size\n"
     ]
    },
    {
     "name": "stderr",
     "output_type": "stream",
     "text": [
      "     57/100      5.72G     0.9518     0.7786      1.247         87        640: 100%|██████████| 442/442 [02:02<00:00,  3.61it/s]\n",
      "                 Class     Images  Instances      Box(P          R      mAP50  mAP50-95): 100%|██████████| 52/52 [00:13<00:00,  3.80it/s]"
     ]
    },
    {
     "name": "stdout",
     "output_type": "stream",
     "text": [
      "                   all       1660       8768      0.734      0.707      0.769      0.558\n"
     ]
    },
    {
     "name": "stderr",
     "output_type": "stream",
     "text": [
      "\n"
     ]
    },
    {
     "name": "stdout",
     "output_type": "stream",
     "text": [
      "\n",
      "      Epoch    GPU_mem   box_loss   cls_loss   dfl_loss  Instances       Size\n"
     ]
    },
    {
     "name": "stderr",
     "output_type": "stream",
     "text": [
      "     58/100      5.53G     0.9535      0.776      1.243         66        640: 100%|██████████| 442/442 [02:02<00:00,  3.59it/s]\n",
      "                 Class     Images  Instances      Box(P          R      mAP50  mAP50-95): 100%|██████████| 52/52 [00:14<00:00,  3.69it/s]"
     ]
    },
    {
     "name": "stdout",
     "output_type": "stream",
     "text": [
      "                   all       1660       8768      0.783      0.685      0.781      0.566\n"
     ]
    },
    {
     "name": "stderr",
     "output_type": "stream",
     "text": [
      "\n"
     ]
    },
    {
     "name": "stdout",
     "output_type": "stream",
     "text": [
      "\n",
      "      Epoch    GPU_mem   box_loss   cls_loss   dfl_loss  Instances       Size\n"
     ]
    },
    {
     "name": "stderr",
     "output_type": "stream",
     "text": [
      "     59/100       6.1G     0.9402      0.769      1.244         57        640: 100%|██████████| 442/442 [02:02<00:00,  3.60it/s]\n",
      "                 Class     Images  Instances      Box(P          R      mAP50  mAP50-95): 100%|██████████| 52/52 [00:13<00:00,  3.76it/s]"
     ]
    },
    {
     "name": "stdout",
     "output_type": "stream",
     "text": [
      "                   all       1660       8768      0.759      0.709      0.777      0.566\n"
     ]
    },
    {
     "name": "stderr",
     "output_type": "stream",
     "text": [
      "\n"
     ]
    },
    {
     "name": "stdout",
     "output_type": "stream",
     "text": [
      "\n",
      "      Epoch    GPU_mem   box_loss   cls_loss   dfl_loss  Instances       Size\n"
     ]
    },
    {
     "name": "stderr",
     "output_type": "stream",
     "text": [
      "     60/100      5.74G     0.9476     0.7687      1.239         48        640: 100%|██████████| 442/442 [02:02<00:00,  3.60it/s]\n",
      "                 Class     Images  Instances      Box(P          R      mAP50  mAP50-95): 100%|██████████| 52/52 [00:13<00:00,  3.77it/s]"
     ]
    },
    {
     "name": "stdout",
     "output_type": "stream",
     "text": [
      "                   all       1660       8768      0.765      0.711      0.779      0.568\n"
     ]
    },
    {
     "name": "stderr",
     "output_type": "stream",
     "text": [
      "\n"
     ]
    },
    {
     "name": "stdout",
     "output_type": "stream",
     "text": [
      "\n",
      "      Epoch    GPU_mem   box_loss   cls_loss   dfl_loss  Instances       Size\n"
     ]
    },
    {
     "name": "stderr",
     "output_type": "stream",
     "text": [
      "     61/100      5.89G     0.9414     0.7613      1.245         45        640: 100%|██████████| 442/442 [02:02<00:00,  3.62it/s]\n",
      "                 Class     Images  Instances      Box(P          R      mAP50  mAP50-95): 100%|██████████| 52/52 [00:13<00:00,  3.78it/s]"
     ]
    },
    {
     "name": "stdout",
     "output_type": "stream",
     "text": [
      "                   all       1660       8768       0.77      0.691      0.776      0.567\n"
     ]
    },
    {
     "name": "stderr",
     "output_type": "stream",
     "text": [
      "\n"
     ]
    },
    {
     "name": "stdout",
     "output_type": "stream",
     "text": [
      "\n",
      "      Epoch    GPU_mem   box_loss   cls_loss   dfl_loss  Instances       Size\n"
     ]
    },
    {
     "name": "stderr",
     "output_type": "stream",
     "text": [
      "     62/100      5.66G     0.9327     0.7515      1.235         58        640: 100%|██████████| 442/442 [02:02<00:00,  3.62it/s]\n",
      "                 Class     Images  Instances      Box(P          R      mAP50  mAP50-95): 100%|██████████| 52/52 [00:13<00:00,  3.79it/s]"
     ]
    },
    {
     "name": "stdout",
     "output_type": "stream",
     "text": [
      "                   all       1660       8768       0.76      0.708       0.78      0.573\n"
     ]
    },
    {
     "name": "stderr",
     "output_type": "stream",
     "text": [
      "\n"
     ]
    },
    {
     "name": "stdout",
     "output_type": "stream",
     "text": [
      "\n",
      "      Epoch    GPU_mem   box_loss   cls_loss   dfl_loss  Instances       Size\n"
     ]
    },
    {
     "name": "stderr",
     "output_type": "stream",
     "text": [
      "     63/100      5.53G     0.9355     0.7445      1.234         68        640: 100%|██████████| 442/442 [02:02<00:00,  3.62it/s]\n",
      "                 Class     Images  Instances      Box(P          R      mAP50  mAP50-95): 100%|██████████| 52/52 [00:13<00:00,  3.75it/s]"
     ]
    },
    {
     "name": "stdout",
     "output_type": "stream",
     "text": [
      "                   all       1660       8768      0.765      0.702      0.777      0.569\n"
     ]
    },
    {
     "name": "stderr",
     "output_type": "stream",
     "text": [
      "\n"
     ]
    },
    {
     "name": "stdout",
     "output_type": "stream",
     "text": [
      "\n",
      "      Epoch    GPU_mem   box_loss   cls_loss   dfl_loss  Instances       Size\n"
     ]
    },
    {
     "name": "stderr",
     "output_type": "stream",
     "text": [
      "     64/100      5.48G     0.9275     0.7416      1.234        151        640: 100%|██████████| 442/442 [02:02<00:00,  3.60it/s]\n",
      "                 Class     Images  Instances      Box(P          R      mAP50  mAP50-95): 100%|██████████| 52/52 [00:13<00:00,  3.76it/s]"
     ]
    },
    {
     "name": "stdout",
     "output_type": "stream",
     "text": [
      "                   all       1660       8768      0.746      0.716      0.777      0.567\n"
     ]
    },
    {
     "name": "stderr",
     "output_type": "stream",
     "text": [
      "\n"
     ]
    },
    {
     "name": "stdout",
     "output_type": "stream",
     "text": [
      "\n",
      "      Epoch    GPU_mem   box_loss   cls_loss   dfl_loss  Instances       Size\n"
     ]
    },
    {
     "name": "stderr",
     "output_type": "stream",
     "text": [
      "     65/100       5.7G     0.9269     0.7386      1.232         62        640: 100%|██████████| 442/442 [02:01<00:00,  3.62it/s]\n",
      "                 Class     Images  Instances      Box(P          R      mAP50  mAP50-95): 100%|██████████| 52/52 [00:13<00:00,  3.76it/s]"
     ]
    },
    {
     "name": "stdout",
     "output_type": "stream",
     "text": [
      "                   all       1660       8768      0.765      0.704      0.779      0.572\n"
     ]
    },
    {
     "name": "stderr",
     "output_type": "stream",
     "text": [
      "\n"
     ]
    },
    {
     "name": "stdout",
     "output_type": "stream",
     "text": [
      "\n",
      "      Epoch    GPU_mem   box_loss   cls_loss   dfl_loss  Instances       Size\n"
     ]
    },
    {
     "name": "stderr",
     "output_type": "stream",
     "text": [
      "     66/100      5.48G     0.9169     0.7285      1.228         65        640: 100%|██████████| 442/442 [02:02<00:00,  3.62it/s]\n",
      "                 Class     Images  Instances      Box(P          R      mAP50  mAP50-95): 100%|██████████| 52/52 [00:13<00:00,  3.78it/s]"
     ]
    },
    {
     "name": "stdout",
     "output_type": "stream",
     "text": [
      "                   all       1660       8768      0.772      0.707      0.779       0.57\n"
     ]
    },
    {
     "name": "stderr",
     "output_type": "stream",
     "text": [
      "\n"
     ]
    },
    {
     "name": "stdout",
     "output_type": "stream",
     "text": [
      "\n",
      "      Epoch    GPU_mem   box_loss   cls_loss   dfl_loss  Instances       Size\n"
     ]
    },
    {
     "name": "stderr",
     "output_type": "stream",
     "text": [
      "     67/100      5.78G     0.9117     0.7134      1.218         41        640: 100%|██████████| 442/442 [02:01<00:00,  3.63it/s]\n",
      "                 Class     Images  Instances      Box(P          R      mAP50  mAP50-95): 100%|██████████| 52/52 [00:13<00:00,  3.77it/s]"
     ]
    },
    {
     "name": "stdout",
     "output_type": "stream",
     "text": [
      "                   all       1660       8768      0.724      0.758      0.786      0.579\n"
     ]
    },
    {
     "name": "stderr",
     "output_type": "stream",
     "text": [
      "\n"
     ]
    },
    {
     "name": "stdout",
     "output_type": "stream",
     "text": [
      "\n",
      "      Epoch    GPU_mem   box_loss   cls_loss   dfl_loss  Instances       Size\n"
     ]
    },
    {
     "name": "stderr",
     "output_type": "stream",
     "text": [
      "     68/100      5.74G     0.9115     0.7258      1.219         51        640: 100%|██████████| 442/442 [02:02<00:00,  3.61it/s]\n",
      "                 Class     Images  Instances      Box(P          R      mAP50  mAP50-95): 100%|██████████| 52/52 [00:13<00:00,  3.78it/s]"
     ]
    },
    {
     "name": "stdout",
     "output_type": "stream",
     "text": [
      "                   all       1660       8768      0.768      0.731       0.79      0.584\n"
     ]
    },
    {
     "name": "stderr",
     "output_type": "stream",
     "text": [
      "\n"
     ]
    },
    {
     "name": "stdout",
     "output_type": "stream",
     "text": [
      "\n",
      "      Epoch    GPU_mem   box_loss   cls_loss   dfl_loss  Instances       Size\n"
     ]
    },
    {
     "name": "stderr",
     "output_type": "stream",
     "text": [
      "     69/100      5.67G     0.9064     0.7081      1.215        102        640: 100%|██████████| 442/442 [02:01<00:00,  3.63it/s]\n",
      "                 Class     Images  Instances      Box(P          R      mAP50  mAP50-95): 100%|██████████| 52/52 [00:13<00:00,  3.81it/s]"
     ]
    },
    {
     "name": "stdout",
     "output_type": "stream",
     "text": [
      "                   all       1660       8768      0.769      0.709      0.785      0.583\n"
     ]
    },
    {
     "name": "stderr",
     "output_type": "stream",
     "text": [
      "\n"
     ]
    },
    {
     "name": "stdout",
     "output_type": "stream",
     "text": [
      "\n",
      "      Epoch    GPU_mem   box_loss   cls_loss   dfl_loss  Instances       Size\n"
     ]
    },
    {
     "name": "stderr",
     "output_type": "stream",
     "text": [
      "     70/100      5.72G     0.9033     0.7065      1.216        138        640: 100%|██████████| 442/442 [02:02<00:00,  3.62it/s]\n",
      "                 Class     Images  Instances      Box(P          R      mAP50  mAP50-95): 100%|██████████| 52/52 [00:13<00:00,  3.78it/s]"
     ]
    },
    {
     "name": "stdout",
     "output_type": "stream",
     "text": [
      "                   all       1660       8768      0.752      0.734      0.788      0.585\n"
     ]
    },
    {
     "name": "stderr",
     "output_type": "stream",
     "text": [
      "\n"
     ]
    },
    {
     "name": "stdout",
     "output_type": "stream",
     "text": [
      "\n",
      "      Epoch    GPU_mem   box_loss   cls_loss   dfl_loss  Instances       Size\n"
     ]
    },
    {
     "name": "stderr",
     "output_type": "stream",
     "text": [
      "     71/100      5.53G     0.8999      0.701      1.217         98        640: 100%|██████████| 442/442 [02:02<00:00,  3.61it/s]\n",
      "                 Class     Images  Instances      Box(P          R      mAP50  mAP50-95): 100%|██████████| 52/52 [00:13<00:00,  3.78it/s]"
     ]
    },
    {
     "name": "stdout",
     "output_type": "stream",
     "text": [
      "                   all       1660       8768      0.773      0.723      0.788      0.584\n"
     ]
    },
    {
     "name": "stderr",
     "output_type": "stream",
     "text": [
      "\n"
     ]
    },
    {
     "name": "stdout",
     "output_type": "stream",
     "text": [
      "\n",
      "      Epoch    GPU_mem   box_loss   cls_loss   dfl_loss  Instances       Size\n"
     ]
    },
    {
     "name": "stderr",
     "output_type": "stream",
     "text": [
      "     72/100      5.48G     0.8993     0.6895      1.215         88        640: 100%|██████████| 442/442 [02:02<00:00,  3.62it/s]\n",
      "                 Class     Images  Instances      Box(P          R      mAP50  mAP50-95): 100%|██████████| 52/52 [00:13<00:00,  3.74it/s]"
     ]
    },
    {
     "name": "stdout",
     "output_type": "stream",
     "text": [
      "                   all       1660       8768      0.735      0.753      0.787      0.585\n"
     ]
    },
    {
     "name": "stderr",
     "output_type": "stream",
     "text": [
      "\n"
     ]
    },
    {
     "name": "stdout",
     "output_type": "stream",
     "text": [
      "\n",
      "      Epoch    GPU_mem   box_loss   cls_loss   dfl_loss  Instances       Size\n"
     ]
    },
    {
     "name": "stderr",
     "output_type": "stream",
     "text": [
      "     73/100      5.84G     0.8871     0.6805       1.21         52        640: 100%|██████████| 442/442 [02:21<00:00,  3.12it/s]\n",
      "                 Class     Images  Instances      Box(P          R      mAP50  mAP50-95): 100%|██████████| 52/52 [00:29<00:00,  1.78it/s]\n"
     ]
    },
    {
     "name": "stdout",
     "output_type": "stream",
     "text": [
      "                   all       1660       8768      0.734      0.751      0.787      0.585\n",
      "\n",
      "      Epoch    GPU_mem   box_loss   cls_loss   dfl_loss  Instances       Size\n"
     ]
    },
    {
     "name": "stderr",
     "output_type": "stream",
     "text": [
      "     74/100      5.75G     0.8828     0.6844      1.208         42        640: 100%|██████████| 442/442 [04:48<00:00,  1.53it/s]\n",
      "                 Class     Images  Instances      Box(P          R      mAP50  mAP50-95): 100%|██████████| 52/52 [00:29<00:00,  1.76it/s]\n"
     ]
    },
    {
     "name": "stdout",
     "output_type": "stream",
     "text": [
      "                   all       1660       8768      0.738      0.746      0.784      0.584\n",
      "\n",
      "      Epoch    GPU_mem   box_loss   cls_loss   dfl_loss  Instances       Size\n"
     ]
    },
    {
     "name": "stderr",
     "output_type": "stream",
     "text": [
      "     75/100      5.48G     0.8812      0.673      1.197         69        640: 100%|██████████| 442/442 [03:32<00:00,  2.08it/s]\n",
      "                 Class     Images  Instances      Box(P          R      mAP50  mAP50-95): 100%|██████████| 52/52 [00:13<00:00,  3.73it/s]"
     ]
    },
    {
     "name": "stdout",
     "output_type": "stream",
     "text": [
      "                   all       1660       8768      0.762      0.732      0.785      0.583\n"
     ]
    },
    {
     "name": "stderr",
     "output_type": "stream",
     "text": [
      "\n"
     ]
    },
    {
     "name": "stdout",
     "output_type": "stream",
     "text": [
      "\n",
      "      Epoch    GPU_mem   box_loss   cls_loss   dfl_loss  Instances       Size\n"
     ]
    },
    {
     "name": "stderr",
     "output_type": "stream",
     "text": [
      "     76/100      5.48G     0.8807     0.6661      1.197         41        640: 100%|██████████| 442/442 [03:54<00:00,  1.89it/s]\n",
      "                 Class     Images  Instances      Box(P          R      mAP50  mAP50-95): 100%|██████████| 52/52 [00:27<00:00,  1.92it/s]\n"
     ]
    },
    {
     "name": "stdout",
     "output_type": "stream",
     "text": [
      "                   all       1660       8768      0.759      0.735      0.792      0.588\n",
      "\n",
      "      Epoch    GPU_mem   box_loss   cls_loss   dfl_loss  Instances       Size\n"
     ]
    },
    {
     "name": "stderr",
     "output_type": "stream",
     "text": [
      "     77/100      5.55G     0.8683     0.6579      1.195        113        640: 100%|██████████| 442/442 [02:59<00:00,  2.47it/s]\n",
      "                 Class     Images  Instances      Box(P          R      mAP50  mAP50-95): 100%|██████████| 52/52 [00:13<00:00,  3.77it/s]"
     ]
    },
    {
     "name": "stdout",
     "output_type": "stream",
     "text": [
      "                   all       1660       8768      0.762      0.738      0.788      0.585\n"
     ]
    },
    {
     "name": "stderr",
     "output_type": "stream",
     "text": [
      "\n"
     ]
    },
    {
     "name": "stdout",
     "output_type": "stream",
     "text": [
      "\n",
      "      Epoch    GPU_mem   box_loss   cls_loss   dfl_loss  Instances       Size\n"
     ]
    },
    {
     "name": "stderr",
     "output_type": "stream",
     "text": [
      "     78/100      5.54G     0.8675     0.6526      1.192         64        640: 100%|██████████| 442/442 [02:02<00:00,  3.60it/s]\n",
      "                 Class     Images  Instances      Box(P          R      mAP50  mAP50-95): 100%|██████████| 52/52 [00:13<00:00,  3.77it/s]"
     ]
    },
    {
     "name": "stdout",
     "output_type": "stream",
     "text": [
      "                   all       1660       8768      0.779      0.722      0.788      0.585\n"
     ]
    },
    {
     "name": "stderr",
     "output_type": "stream",
     "text": [
      "\n"
     ]
    },
    {
     "name": "stdout",
     "output_type": "stream",
     "text": [
      "\n",
      "      Epoch    GPU_mem   box_loss   cls_loss   dfl_loss  Instances       Size\n"
     ]
    },
    {
     "name": "stderr",
     "output_type": "stream",
     "text": [
      "     79/100      5.54G     0.8734     0.6562      1.201        128        640: 100%|██████████| 442/442 [02:02<00:00,  3.62it/s]\n",
      "                 Class     Images  Instances      Box(P          R      mAP50  mAP50-95): 100%|██████████| 52/52 [00:13<00:00,  3.73it/s]"
     ]
    },
    {
     "name": "stdout",
     "output_type": "stream",
     "text": [
      "                   all       1660       8768      0.774      0.731      0.794       0.59\n"
     ]
    },
    {
     "name": "stderr",
     "output_type": "stream",
     "text": [
      "\n"
     ]
    },
    {
     "name": "stdout",
     "output_type": "stream",
     "text": [
      "\n",
      "      Epoch    GPU_mem   box_loss   cls_loss   dfl_loss  Instances       Size\n"
     ]
    },
    {
     "name": "stderr",
     "output_type": "stream",
     "text": [
      "     80/100      5.72G      0.861     0.6418      1.196         78        640: 100%|██████████| 442/442 [02:02<00:00,  3.60it/s]\n",
      "                 Class     Images  Instances      Box(P          R      mAP50  mAP50-95): 100%|██████████| 52/52 [00:13<00:00,  3.76it/s]"
     ]
    },
    {
     "name": "stdout",
     "output_type": "stream",
     "text": [
      "                   all       1660       8768       0.76       0.74      0.794      0.591\n"
     ]
    },
    {
     "name": "stderr",
     "output_type": "stream",
     "text": [
      "\n"
     ]
    },
    {
     "name": "stdout",
     "output_type": "stream",
     "text": [
      "\n",
      "      Epoch    GPU_mem   box_loss   cls_loss   dfl_loss  Instances       Size\n"
     ]
    },
    {
     "name": "stderr",
     "output_type": "stream",
     "text": [
      "     81/100      5.72G     0.8578     0.6407      1.184         73        640: 100%|██████████| 442/442 [02:02<00:00,  3.61it/s]\n",
      "                 Class     Images  Instances      Box(P          R      mAP50  mAP50-95): 100%|██████████| 52/52 [00:13<00:00,  3.78it/s]"
     ]
    },
    {
     "name": "stdout",
     "output_type": "stream",
     "text": [
      "                   all       1660       8768      0.785      0.722      0.789      0.588\n"
     ]
    },
    {
     "name": "stderr",
     "output_type": "stream",
     "text": [
      "\n"
     ]
    },
    {
     "name": "stdout",
     "output_type": "stream",
     "text": [
      "\n",
      "      Epoch    GPU_mem   box_loss   cls_loss   dfl_loss  Instances       Size\n"
     ]
    },
    {
     "name": "stderr",
     "output_type": "stream",
     "text": [
      "     82/100       5.8G     0.8578     0.6353       1.18         71        640: 100%|██████████| 442/442 [02:02<00:00,  3.61it/s]\n",
      "                 Class     Images  Instances      Box(P          R      mAP50  mAP50-95): 100%|██████████| 52/52 [00:13<00:00,  3.76it/s]"
     ]
    },
    {
     "name": "stdout",
     "output_type": "stream",
     "text": [
      "                   all       1660       8768      0.766      0.731      0.792      0.587\n"
     ]
    },
    {
     "name": "stderr",
     "output_type": "stream",
     "text": [
      "\n"
     ]
    },
    {
     "name": "stdout",
     "output_type": "stream",
     "text": [
      "\n",
      "      Epoch    GPU_mem   box_loss   cls_loss   dfl_loss  Instances       Size\n"
     ]
    },
    {
     "name": "stderr",
     "output_type": "stream",
     "text": [
      "     83/100      5.91G     0.8527     0.6291       1.18         66        640: 100%|██████████| 442/442 [02:03<00:00,  3.59it/s]\n",
      "                 Class     Images  Instances      Box(P          R      mAP50  mAP50-95): 100%|██████████| 52/52 [00:13<00:00,  3.77it/s]"
     ]
    },
    {
     "name": "stdout",
     "output_type": "stream",
     "text": [
      "                   all       1660       8768      0.771      0.733      0.787      0.586\n"
     ]
    },
    {
     "name": "stderr",
     "output_type": "stream",
     "text": [
      "\n"
     ]
    },
    {
     "name": "stdout",
     "output_type": "stream",
     "text": [
      "\n",
      "      Epoch    GPU_mem   box_loss   cls_loss   dfl_loss  Instances       Size\n"
     ]
    },
    {
     "name": "stderr",
     "output_type": "stream",
     "text": [
      "     84/100      5.48G     0.8461      0.622       1.18         77        640: 100%|██████████| 442/442 [02:02<00:00,  3.60it/s]\n",
      "                 Class     Images  Instances      Box(P          R      mAP50  mAP50-95): 100%|██████████| 52/52 [00:13<00:00,  3.75it/s]"
     ]
    },
    {
     "name": "stdout",
     "output_type": "stream",
     "text": [
      "                   all       1660       8768      0.787      0.715      0.789      0.587\n"
     ]
    },
    {
     "name": "stderr",
     "output_type": "stream",
     "text": [
      "\n"
     ]
    },
    {
     "name": "stdout",
     "output_type": "stream",
     "text": [
      "\n",
      "      Epoch    GPU_mem   box_loss   cls_loss   dfl_loss  Instances       Size\n"
     ]
    },
    {
     "name": "stderr",
     "output_type": "stream",
     "text": [
      "     85/100      5.87G     0.8481     0.6315      1.182         52        640: 100%|██████████| 442/442 [02:02<00:00,  3.60it/s]\n",
      "                 Class     Images  Instances      Box(P          R      mAP50  mAP50-95): 100%|██████████| 52/52 [00:13<00:00,  3.77it/s]"
     ]
    },
    {
     "name": "stdout",
     "output_type": "stream",
     "text": [
      "                   all       1660       8768      0.773      0.731      0.792       0.59\n"
     ]
    },
    {
     "name": "stderr",
     "output_type": "stream",
     "text": [
      "\n"
     ]
    },
    {
     "name": "stdout",
     "output_type": "stream",
     "text": [
      "\n",
      "      Epoch    GPU_mem   box_loss   cls_loss   dfl_loss  Instances       Size\n"
     ]
    },
    {
     "name": "stderr",
     "output_type": "stream",
     "text": [
      "     86/100      6.03G     0.8445     0.6157      1.173         63        640: 100%|██████████| 442/442 [02:03<00:00,  3.57it/s]\n",
      "                 Class     Images  Instances      Box(P          R      mAP50  mAP50-95): 100%|██████████| 52/52 [00:13<00:00,  3.77it/s]"
     ]
    },
    {
     "name": "stdout",
     "output_type": "stream",
     "text": [
      "                   all       1660       8768      0.786      0.727      0.796      0.591\n"
     ]
    },
    {
     "name": "stderr",
     "output_type": "stream",
     "text": [
      "\n"
     ]
    },
    {
     "name": "stdout",
     "output_type": "stream",
     "text": [
      "\n",
      "      Epoch    GPU_mem   box_loss   cls_loss   dfl_loss  Instances       Size\n"
     ]
    },
    {
     "name": "stderr",
     "output_type": "stream",
     "text": [
      "     87/100      5.65G     0.8428     0.6096       1.18         87        640: 100%|██████████| 442/442 [02:03<00:00,  3.59it/s]\n",
      "                 Class     Images  Instances      Box(P          R      mAP50  mAP50-95): 100%|██████████| 52/52 [00:13<00:00,  3.78it/s]"
     ]
    },
    {
     "name": "stdout",
     "output_type": "stream",
     "text": [
      "                   all       1660       8768      0.792      0.724      0.796      0.592\n"
     ]
    },
    {
     "name": "stderr",
     "output_type": "stream",
     "text": [
      "\n"
     ]
    },
    {
     "name": "stdout",
     "output_type": "stream",
     "text": [
      "\n",
      "      Epoch    GPU_mem   box_loss   cls_loss   dfl_loss  Instances       Size\n"
     ]
    },
    {
     "name": "stderr",
     "output_type": "stream",
     "text": [
      "     88/100      5.48G     0.8301     0.6042      1.168         64        640: 100%|██████████| 442/442 [02:03<00:00,  3.59it/s]\n",
      "                 Class     Images  Instances      Box(P          R      mAP50  mAP50-95): 100%|██████████| 52/52 [00:13<00:00,  3.79it/s]"
     ]
    },
    {
     "name": "stdout",
     "output_type": "stream",
     "text": [
      "                   all       1660       8768      0.786      0.726      0.796      0.591\n"
     ]
    },
    {
     "name": "stderr",
     "output_type": "stream",
     "text": [
      "\n"
     ]
    },
    {
     "name": "stdout",
     "output_type": "stream",
     "text": [
      "\n",
      "      Epoch    GPU_mem   box_loss   cls_loss   dfl_loss  Instances       Size\n"
     ]
    },
    {
     "name": "stderr",
     "output_type": "stream",
     "text": [
      "     89/100      5.66G      0.827     0.5893      1.161         53        640: 100%|██████████| 442/442 [02:02<00:00,  3.62it/s]\n",
      "                 Class     Images  Instances      Box(P          R      mAP50  mAP50-95): 100%|██████████| 52/52 [00:13<00:00,  3.76it/s]"
     ]
    },
    {
     "name": "stdout",
     "output_type": "stream",
     "text": [
      "                   all       1660       8768      0.778      0.726      0.797      0.593\n"
     ]
    },
    {
     "name": "stderr",
     "output_type": "stream",
     "text": [
      "\n"
     ]
    },
    {
     "name": "stdout",
     "output_type": "stream",
     "text": [
      "\n",
      "      Epoch    GPU_mem   box_loss   cls_loss   dfl_loss  Instances       Size\n"
     ]
    },
    {
     "name": "stderr",
     "output_type": "stream",
     "text": [
      "     90/100      5.76G     0.8354     0.6015       1.17         42        640: 100%|██████████| 442/442 [02:02<00:00,  3.61it/s]\n",
      "                 Class     Images  Instances      Box(P          R      mAP50  mAP50-95): 100%|██████████| 52/52 [00:13<00:00,  3.80it/s]"
     ]
    },
    {
     "name": "stdout",
     "output_type": "stream",
     "text": [
      "                   all       1660       8768      0.777      0.729      0.797      0.592\n"
     ]
    },
    {
     "name": "stderr",
     "output_type": "stream",
     "text": [
      "\n"
     ]
    },
    {
     "name": "stdout",
     "output_type": "stream",
     "text": [
      "Closing dataloader mosaic\n",
      "\n",
      "      Epoch    GPU_mem   box_loss   cls_loss   dfl_loss  Instances       Size\n"
     ]
    },
    {
     "name": "stderr",
     "output_type": "stream",
     "text": [
      "     91/100      5.73G     0.7638     0.4867      1.158         29        640: 100%|██████████| 442/442 [02:02<00:00,  3.59it/s]\n",
      "                 Class     Images  Instances      Box(P          R      mAP50  mAP50-95): 100%|██████████| 52/52 [00:13<00:00,  3.77it/s]"
     ]
    },
    {
     "name": "stdout",
     "output_type": "stream",
     "text": [
      "                   all       1660       8768       0.77      0.743      0.796      0.592\n"
     ]
    },
    {
     "name": "stderr",
     "output_type": "stream",
     "text": [
      "\n"
     ]
    },
    {
     "name": "stdout",
     "output_type": "stream",
     "text": [
      "\n",
      "      Epoch    GPU_mem   box_loss   cls_loss   dfl_loss  Instances       Size\n"
     ]
    },
    {
     "name": "stderr",
     "output_type": "stream",
     "text": [
      "     92/100      5.79G     0.7533     0.4699      1.151         55        640: 100%|██████████| 442/442 [02:01<00:00,  3.62it/s]\n",
      "                 Class     Images  Instances      Box(P          R      mAP50  mAP50-95): 100%|██████████| 52/52 [00:13<00:00,  3.78it/s]"
     ]
    },
    {
     "name": "stdout",
     "output_type": "stream",
     "text": [
      "                   all       1660       8768      0.768       0.75      0.796      0.591\n"
     ]
    },
    {
     "name": "stderr",
     "output_type": "stream",
     "text": [
      "\n"
     ]
    },
    {
     "name": "stdout",
     "output_type": "stream",
     "text": [
      "\n",
      "      Epoch    GPU_mem   box_loss   cls_loss   dfl_loss  Instances       Size\n"
     ]
    },
    {
     "name": "stderr",
     "output_type": "stream",
     "text": [
      "     93/100      5.48G      0.749     0.4673      1.146         34        640: 100%|██████████| 442/442 [02:02<00:00,  3.62it/s]\n",
      "                 Class     Images  Instances      Box(P          R      mAP50  mAP50-95): 100%|██████████| 52/52 [00:13<00:00,  3.75it/s]"
     ]
    },
    {
     "name": "stdout",
     "output_type": "stream",
     "text": [
      "                   all       1660       8768      0.751       0.76      0.796       0.59\n"
     ]
    },
    {
     "name": "stderr",
     "output_type": "stream",
     "text": [
      "\n"
     ]
    },
    {
     "name": "stdout",
     "output_type": "stream",
     "text": [
      "\n",
      "      Epoch    GPU_mem   box_loss   cls_loss   dfl_loss  Instances       Size\n"
     ]
    },
    {
     "name": "stderr",
     "output_type": "stream",
     "text": [
      "     94/100      5.73G     0.7418     0.4558      1.138         39        640: 100%|██████████| 442/442 [02:02<00:00,  3.62it/s]\n",
      "                 Class     Images  Instances      Box(P          R      mAP50  mAP50-95): 100%|██████████| 52/52 [00:13<00:00,  3.79it/s]"
     ]
    },
    {
     "name": "stdout",
     "output_type": "stream",
     "text": [
      "                   all       1660       8768      0.754      0.753      0.792      0.591\n"
     ]
    },
    {
     "name": "stderr",
     "output_type": "stream",
     "text": [
      "\n"
     ]
    },
    {
     "name": "stdout",
     "output_type": "stream",
     "text": [
      "\n",
      "      Epoch    GPU_mem   box_loss   cls_loss   dfl_loss  Instances       Size\n"
     ]
    },
    {
     "name": "stderr",
     "output_type": "stream",
     "text": [
      "     95/100      5.65G     0.7395     0.4547      1.138         21        640: 100%|██████████| 442/442 [02:02<00:00,  3.61it/s]\n",
      "                 Class     Images  Instances      Box(P          R      mAP50  mAP50-95): 100%|██████████| 52/52 [00:13<00:00,  3.79it/s]"
     ]
    },
    {
     "name": "stdout",
     "output_type": "stream",
     "text": [
      "                   all       1660       8768      0.787      0.724      0.794       0.59\n"
     ]
    },
    {
     "name": "stderr",
     "output_type": "stream",
     "text": [
      "\n"
     ]
    },
    {
     "name": "stdout",
     "output_type": "stream",
     "text": [
      "\n",
      "      Epoch    GPU_mem   box_loss   cls_loss   dfl_loss  Instances       Size\n"
     ]
    },
    {
     "name": "stderr",
     "output_type": "stream",
     "text": [
      "     96/100      5.48G     0.7328     0.4488      1.135         47        640: 100%|██████████| 442/442 [02:02<00:00,  3.62it/s]\n",
      "                 Class     Images  Instances      Box(P          R      mAP50  mAP50-95): 100%|██████████| 52/52 [00:13<00:00,  3.76it/s]"
     ]
    },
    {
     "name": "stdout",
     "output_type": "stream",
     "text": [
      "                   all       1660       8768       0.78      0.731      0.797      0.592\n"
     ]
    },
    {
     "name": "stderr",
     "output_type": "stream",
     "text": [
      "\n"
     ]
    },
    {
     "name": "stdout",
     "output_type": "stream",
     "text": [
      "\n",
      "      Epoch    GPU_mem   box_loss   cls_loss   dfl_loss  Instances       Size\n"
     ]
    },
    {
     "name": "stderr",
     "output_type": "stream",
     "text": [
      "     97/100      5.48G     0.7225     0.4372      1.124         57        640: 100%|██████████| 442/442 [02:02<00:00,  3.60it/s]\n",
      "                 Class     Images  Instances      Box(P          R      mAP50  mAP50-95): 100%|██████████| 52/52 [00:14<00:00,  3.70it/s]"
     ]
    },
    {
     "name": "stdout",
     "output_type": "stream",
     "text": [
      "                   all       1660       8768      0.783      0.727      0.798      0.593\n"
     ]
    },
    {
     "name": "stderr",
     "output_type": "stream",
     "text": [
      "\n"
     ]
    },
    {
     "name": "stdout",
     "output_type": "stream",
     "text": [
      "\n",
      "      Epoch    GPU_mem   box_loss   cls_loss   dfl_loss  Instances       Size\n"
     ]
    },
    {
     "name": "stderr",
     "output_type": "stream",
     "text": [
      "     98/100      5.66G     0.7221     0.4338      1.126         30        640: 100%|██████████| 442/442 [02:01<00:00,  3.63it/s]\n",
      "                 Class     Images  Instances      Box(P          R      mAP50  mAP50-95): 100%|██████████| 52/52 [00:13<00:00,  3.77it/s]"
     ]
    },
    {
     "name": "stdout",
     "output_type": "stream",
     "text": [
      "                   all       1660       8768      0.776      0.738        0.8      0.595\n"
     ]
    },
    {
     "name": "stderr",
     "output_type": "stream",
     "text": [
      "\n"
     ]
    },
    {
     "name": "stdout",
     "output_type": "stream",
     "text": [
      "\n",
      "      Epoch    GPU_mem   box_loss   cls_loss   dfl_loss  Instances       Size\n"
     ]
    },
    {
     "name": "stderr",
     "output_type": "stream",
     "text": [
      "     99/100      5.65G      0.714     0.4304      1.124         26        640: 100%|██████████| 442/442 [02:01<00:00,  3.64it/s]\n",
      "                 Class     Images  Instances      Box(P          R      mAP50  mAP50-95): 100%|██████████| 52/52 [00:13<00:00,  3.75it/s]"
     ]
    },
    {
     "name": "stdout",
     "output_type": "stream",
     "text": [
      "                   all       1660       8768      0.777       0.74        0.8      0.594\n"
     ]
    },
    {
     "name": "stderr",
     "output_type": "stream",
     "text": [
      "\n"
     ]
    },
    {
     "name": "stdout",
     "output_type": "stream",
     "text": [
      "\n",
      "      Epoch    GPU_mem   box_loss   cls_loss   dfl_loss  Instances       Size\n"
     ]
    },
    {
     "name": "stderr",
     "output_type": "stream",
     "text": [
      "    100/100      5.68G     0.7139     0.4267       1.12         25        640: 100%|██████████| 442/442 [02:01<00:00,  3.64it/s]\n",
      "                 Class     Images  Instances      Box(P          R      mAP50  mAP50-95): 100%|██████████| 52/52 [00:13<00:00,  3.77it/s]"
     ]
    },
    {
     "name": "stdout",
     "output_type": "stream",
     "text": [
      "                   all       1660       8768      0.768      0.747      0.799      0.595\n"
     ]
    },
    {
     "name": "stderr",
     "output_type": "stream",
     "text": [
      "\n"
     ]
    },
    {
     "name": "stdout",
     "output_type": "stream",
     "text": [
      "\n",
      "100 epochs completed in 4.613 hours.\n",
      "Optimizer stripped from runs\\detect\\train\\weights\\last.pt, 15.4MB\n",
      "Optimizer stripped from runs\\detect\\train\\weights\\best.pt, 15.4MB\n",
      "\n",
      "Validating runs\\detect\\train\\weights\\best.pt...\n",
      "Ultralytics YOLOv8.2.54  Python-3.11.8 torch-2.3.0+cu118 CUDA:0 (NVIDIA GeForce RTX 4060 Laptop GPU, 8188MiB)\n",
      "YOLOv9s summary (fused): 486 layers, 7230169 parameters, 0 gradients, 27.1 GFLOPs\n"
     ]
    },
    {
     "name": "stderr",
     "output_type": "stream",
     "text": [
      "                 Class     Images  Instances      Box(P          R      mAP50  mAP50-95): 100%|██████████| 52/52 [00:12<00:00,  4.17it/s]\n"
     ]
    },
    {
     "name": "stdout",
     "output_type": "stream",
     "text": [
      "                   all       1660       8768      0.776      0.738        0.8      0.595\n",
      "          10_tangerine         28        145      0.744       0.69      0.761      0.619\n",
      "                 Apple         40        151          1      0.942      0.984      0.595\n",
      "                Banana         31        100      0.922      0.833      0.908      0.496\n",
      "              Cucumber         40        105      0.956      0.838      0.938      0.459\n",
      "              Mushroom        100        292      0.666      0.332       0.41      0.244\n",
      "                Orange         40        152      0.955      0.981      0.991      0.626\n",
      "                Tomato         40        127      0.982      0.857      0.933      0.506\n",
      "              ampalaya          3          4      0.667       0.75       0.87      0.764\n",
      "                 apple         71         80      0.892      0.912      0.935      0.732\n",
      "             asparagus         41         76      0.734      0.342      0.528      0.317\n",
      "               avocado         70        127      0.846      0.782      0.854      0.614\n",
      "                banana        194        314      0.881      0.863       0.91      0.698\n",
      "                  beef        209        271      0.793      0.821      0.883      0.642\n",
      "           bell pepper         13         59      0.535      0.763      0.666      0.348\n",
      "           bell_pepper          9          9        0.9      0.667      0.823      0.609\n",
      "          bitter gourd         10         33      0.377      0.303      0.389      0.142\n",
      "           blueberries        123        123      0.922      0.959      0.977      0.727\n",
      "              bok choy         17         49      0.924      0.497      0.762      0.341\n",
      "                 bread         39         39      0.858      0.466      0.596      0.495\n",
      "              broccoli         14         34      0.804      0.735      0.805      0.456\n",
      "                butter        163        163      0.979          1      0.995      0.846\n",
      "               cabbage         10         19       0.76          1      0.932      0.608\n",
      "           canned_tuna          1          1      0.728          1      0.995      0.697\n",
      "                carrot        212        288      0.806       0.84      0.851      0.668\n",
      "                cashew         14         94      0.659       0.72      0.721      0.284\n",
      "           cauliflower         14         17      0.889      0.824      0.872      0.548\n",
      "                cheese        211        221      0.922      0.873      0.943      0.743\n",
      "               chicken        230        257      0.887      0.938      0.945      0.791\n",
      "        chicken breast         20         38      0.784      0.789      0.791       0.44\n",
      "         chicken thigh         18         31      0.725       0.68      0.837      0.655\n",
      "          chicken wing         13         34      0.764      0.477      0.672      0.395\n",
      "        chicken_breast         16         16          1      0.529       0.81      0.446\n",
      "                chilli         13         55      0.654      0.291      0.414      0.267\n",
      "             chocolate         18         18          1      0.159      0.401      0.242\n",
      "                  corn        169        230      0.911      0.883      0.949       0.69\n",
      "                  crab         11         18      0.784        0.5      0.521      0.243\n",
      "              cucumber         20         77       0.67      0.597      0.651      0.415\n",
      "                   egg         69        131      0.813      0.687      0.737      0.587\n",
      "                  egg_         13         61      0.554       0.61      0.641      0.556\n",
      "                  eggs         39         39          1      0.633       0.93      0.702\n",
      "                  fish          9         16      0.785      0.625      0.806      0.446\n",
      "             fish_cake          4          4          1      0.484      0.801      0.685\n",
      "                 flour        143        178      0.975      0.972      0.991      0.794\n",
      "          french_fries          1          1      0.625          1      0.995      0.895\n",
      "                garlic         24         70      0.742      0.658      0.755      0.499\n",
      "                ginger         40         57      0.783      0.807       0.85       0.72\n",
      "           goat_cheese         99         99       0.99       0.98      0.988      0.759\n",
      "                grapes         11         20      0.664       0.75      0.724      0.458\n",
      "         grated_cheese         10         14      0.748      0.357      0.416       0.33\n",
      "          green chilli         18         69      0.531      0.565      0.596       0.45\n",
      "           green_beans        102        102      0.912      0.915      0.963      0.762\n",
      "           green_onion          2          2      0.788          1      0.995      0.848\n",
      "           ground_beef         69         69      0.921      0.986      0.991      0.759\n",
      "             guacamole          4          4      0.737          1      0.995      0.759\n",
      "                   ham        116        116      0.981      0.983      0.994      0.751\n",
      "            hash_brown          1          1      0.681          1      0.995      0.995\n",
      "           heavy_cream        131        131      0.969      0.977      0.989      0.787\n",
      "                 humus         20         28       0.74      0.786      0.781      0.587\n",
      "               ketchup          4          4      0.677          1      0.995      0.847\n",
      "                  leek          2          2          1          0      0.501      0.301\n",
      "                 lemon         42         83      0.731      0.623      0.719      0.588\n",
      "               lettuce         10         13      0.699      0.615      0.558      0.368\n",
      "                  lime        158        167      0.927      0.914      0.912      0.715\n",
      "         lobster tails         11         28      0.747      0.317      0.471      0.192\n",
      "                 mango         16         49      0.653      0.693      0.743      0.621\n",
      "             marmelade          3          3      0.801          1      0.995       0.83\n",
      "             mayonaise         14         14      0.809      0.786      0.872      0.712\n",
      "            mayonnaise          2          2      0.569          1      0.995      0.895\n",
      "                  milk        147        200       0.94      0.938      0.977      0.788\n",
      "     mozzarella cheese          6          6      0.617          1      0.995      0.904\n",
      "             mushrooms         94         94      0.987      0.904      0.973      0.729\n",
      "               mustard          2          2      0.797          1      0.995      0.895\n",
      "           nacho_chips          2          2      0.793          1      0.995      0.846\n",
      "                 onion        106        176      0.811      0.733      0.812      0.626\n",
      "                orange         10         36      0.493      0.647      0.553      0.417\n",
      "               oysters         12         87      0.763      0.885      0.849      0.605\n",
      "              pak_choi          7          7       0.76      0.857      0.933       0.78\n",
      "       parmasan_cheese          1          1      0.276          1      0.995      0.895\n",
      "                 pasta          1          1       0.67          1      0.995      0.995\n",
      "                pawpaw          1          2          0          0          0          0\n",
      "                pepper          2          2      0.568          1      0.828      0.464\n",
      "               pimento          2          2      0.812          1      0.995      0.921\n",
      "             pineapple         30         40      0.877      0.715      0.777      0.544\n",
      "             plantains          3          4      0.571      0.356       0.43      0.396\n",
      "                  pork         59        164      0.721      0.599      0.686      0.444\n",
      "            pork belly         13         29      0.564      0.357      0.367      0.216\n",
      "                potato        251        440      0.922      0.934      0.966      0.808\n",
      "               pumpkin         11         19      0.851      0.947      0.948      0.873\n",
      "             red chili         14         40      0.529      0.757      0.673       0.53\n",
      "                  rice         13         13      0.826      0.615      0.777      0.528\n",
      "                 salad         21         23      0.851      0.739      0.781      0.581\n",
      "                salmon         17         27       0.87      0.852      0.936      0.651\n",
      "               sausage         26         33      0.764      0.393      0.556      0.361\n",
      "          sea scallops          6         43      0.286      0.093      0.259       0.17\n",
      "               seaweed          3          3      0.897          1      0.995      0.908\n",
      "                seseme          3          3          1          0       0.83      0.605\n",
      "                shrimp        157        203      0.836      0.777      0.861      0.505\n",
      "               spinach        139        275      0.792      0.746      0.815      0.576\n",
      "          spring_onion         18         31      0.811      0.645      0.806      0.534\n",
      "          strawberries        191        191       0.99          1      0.995      0.828\n",
      "            strawberry         12         59      0.618       0.78      0.805      0.487\n",
      "                 sugar        150        193      0.979      0.969      0.988      0.885\n",
      "          sweet potato         19         77      0.799      0.662      0.789       0.56\n",
      "          sweet_potato        122        139      0.949      0.933      0.981      0.766\n",
      "                  tofu         15         58      0.686      0.759      0.765      0.583\n",
      "                tomato        254        330      0.875       0.93      0.944      0.791\n",
      "          tomato_sauce          9          9      0.993      0.889      0.886      0.646\n",
      "                  tuna          2          2          0          0          0          0\n",
      "            watermelon         34        157      0.901      0.936       0.95       0.78\n",
      "            white rice          8         10      0.502        0.5      0.526      0.367\n",
      "                yogurt         34         67      0.832      0.746      0.838      0.586\n",
      "              zucchini         14         24      0.712      0.875      0.867        0.7\n",
      "Speed: 0.2ms preprocess, 4.3ms inference, 0.0ms loss, 0.7ms postprocess per image\n",
      "Results saved to \u001b[1mruns\\detect\\train\u001b[0m\n",
      "\n",
      "\n",
      "WARNING  inference results will accumulate in RAM unless `stream=True` is passed, causing potential out-of-memory\n",
      "errors for large sources or long-running streams and videos. See https://docs.ultralytics.com/modes/predict/ for help.\n",
      "\n",
      "Example:\n",
      "    results = model(source=..., stream=True)  # generator of Results objects\n",
      "    for r in results:\n",
      "        boxes = r.boxes  # Boxes object for bbox outputs\n",
      "        masks = r.masks  # Masks object for segment masks outputs\n",
      "        probs = r.probs  # Class probabilities for classification outputs\n",
      "\n",
      "image 1/1176 c:\\Users\\user\\Desktop\\FINAL\\final-project\\16\\data\\13\\test\\images\\-105_jpg.rf.f5be27ccdb4f6b5f3519985eda31f74c.jpg: 640x640 1 rice_cake, 51.4ms\n",
      "image 2/1176 c:\\Users\\user\\Desktop\\FINAL\\final-project\\16\\data\\13\\test\\images\\-10_jpg.rf.fac66464966131b3a1e190dfde555820.jpg: 640x640 2 rice_cakes, 38.6ms\n",
      "image 3/1176 c:\\Users\\user\\Desktop\\FINAL\\final-project\\16\\data\\13\\test\\images\\-112_jpg.rf.06103ae1bfa2df475a47f36e38b85a23.jpg: 640x640 2 crabs, 37.9ms\n",
      "image 4/1176 c:\\Users\\user\\Desktop\\FINAL\\final-project\\16\\data\\13\\test\\images\\-116_jpg.rf.1cd554fdfd22b182f63ddee384008fd0.jpg: 640x640 1 spinach, 37.9ms\n",
      "image 5/1176 c:\\Users\\user\\Desktop\\FINAL\\final-project\\16\\data\\13\\test\\images\\-11_jpg.rf.d22b31a7428117cc93745d2c0b1a1bd6.jpg: 640x640 1 spinach, 35.5ms\n",
      "image 6/1176 c:\\Users\\user\\Desktop\\FINAL\\final-project\\16\\data\\13\\test\\images\\-127_jpg.rf.8f329f3e075aeeccceec9701c3a3ce0d.jpg: 640x640 1 kimchi, 26.9ms\n",
      "image 7/1176 c:\\Users\\user\\Desktop\\FINAL\\final-project\\16\\data\\13\\test\\images\\-12_jpg.rf.68b80b69c0b174d247b201305e2cf72d.jpg: 640x640 1 milk, 29.4ms\n",
      "image 8/1176 c:\\Users\\user\\Desktop\\FINAL\\final-project\\16\\data\\13\\test\\images\\-12_jpg.rf.ee3e02c8d718b9f9332cc61235c01780.jpg: 640x640 1 spinach, 18.8ms\n",
      "image 9/1176 c:\\Users\\user\\Desktop\\FINAL\\final-project\\16\\data\\13\\test\\images\\-131_jpg.rf.e7ed4dd94656b93880d71e440779a8a4.jpg: 640x640 1 Bagel, 18.4ms\n",
      "image 10/1176 c:\\Users\\user\\Desktop\\FINAL\\final-project\\16\\data\\13\\test\\images\\-133_jpg.rf.f468ce514476bb78ab6e262e7c596518.jpg: 640x640 3 beefs, 18.1ms\n",
      "image 11/1176 c:\\Users\\user\\Desktop\\FINAL\\final-project\\16\\data\\13\\test\\images\\-134_jpg.rf.18d26f3916590b64359ae87f00cb6af9.jpg: 640x640 1 fish_cake, 15.7ms\n",
      "image 12/1176 c:\\Users\\user\\Desktop\\FINAL\\final-project\\16\\data\\13\\test\\images\\-138_jpg.rf.1cf50f21afe301cebad29f07b77e82d2.jpg: 640x640 1 kimchi, 20.6ms\n",
      "image 13/1176 c:\\Users\\user\\Desktop\\FINAL\\final-project\\16\\data\\13\\test\\images\\-13_jpg.rf.e4c93c20e3b0a20caf5ffc093aae6624.jpg: 640x640 1 kimchi, 25.9ms\n",
      "image 14/1176 c:\\Users\\user\\Desktop\\FINAL\\final-project\\16\\data\\13\\test\\images\\-141_jpg.rf.d4d17aaa82fc10cbd7c82fb53d729194.jpg: 640x640 2 kimchis, 18.3ms\n",
      "image 15/1176 c:\\Users\\user\\Desktop\\FINAL\\final-project\\16\\data\\13\\test\\images\\-144_jpg.rf.e8046bbd7d9906f602f5edbfe7b8dd90.jpg: 640x640 (no detections), 25.5ms\n",
      "image 16/1176 c:\\Users\\user\\Desktop\\FINAL\\final-project\\16\\data\\13\\test\\images\\-146_jpg.rf.d129309380d961deab8ab6768369a280.jpg: 640x640 1 fish_cake, 21.9ms\n",
      "image 17/1176 c:\\Users\\user\\Desktop\\FINAL\\final-project\\16\\data\\13\\test\\images\\-14_jpg.rf.adb58dd4cdeef8b73113a1267aa8547f.jpg: 640x640 1 kimchi, 22.7ms\n",
      "image 18/1176 c:\\Users\\user\\Desktop\\FINAL\\final-project\\16\\data\\13\\test\\images\\-151_jpg.rf.51dec6b6f8a8415128a8ed7aebdc6cae.jpg: 640x640 2 beefs, 18.7ms\n",
      "image 19/1176 c:\\Users\\user\\Desktop\\FINAL\\final-project\\16\\data\\13\\test\\images\\-151_jpg.rf.b2141bce29fa1a042e5ef67caf27202a.jpg: 640x640 1 kimchi, 18.9ms\n",
      "image 20/1176 c:\\Users\\user\\Desktop\\FINAL\\final-project\\16\\data\\13\\test\\images\\-155_jpg.rf.20bc7d4e4c7c689fe339dba9c73c776d.jpg: 640x640 1 fish_cake, 20.1ms\n",
      "image 21/1176 c:\\Users\\user\\Desktop\\FINAL\\final-project\\16\\data\\13\\test\\images\\-165_jpg.rf.38308f1e6b3ae360fadc8d1ec026040b.jpg: 640x640 1 kimchi, 19.0ms\n",
      "image 22/1176 c:\\Users\\user\\Desktop\\FINAL\\final-project\\16\\data\\13\\test\\images\\-16_jpg.rf.3217a1d38fade62869432daf7efc4ad4.jpg: 640x640 1 spinach, 20.4ms\n",
      "image 23/1176 c:\\Users\\user\\Desktop\\FINAL\\final-project\\16\\data\\13\\test\\images\\-184_jpg.rf.428dda012799ce3ca725b80b8e692413.jpg: 640x640 2 rice_cakes, 14.8ms\n",
      "image 24/1176 c:\\Users\\user\\Desktop\\FINAL\\final-project\\16\\data\\13\\test\\images\\-184_jpg.rf.813bda9d348974f79c37cf90f7cea53d.jpg: 640x640 1 spinach, 14.3ms\n",
      "image 25/1176 c:\\Users\\user\\Desktop\\FINAL\\final-project\\16\\data\\13\\test\\images\\-184_jpg.rf.bd052a684a3bb57c3424abf5f9384b25.jpg: 640x640 1 fish_cake, 15.1ms\n",
      "image 26/1176 c:\\Users\\user\\Desktop\\FINAL\\final-project\\16\\data\\13\\test\\images\\-18_jpg.rf.acdbeaa8cb598094da765b8b4de1bf62.jpg: 640x640 1 spinach, 15.7ms\n",
      "image 27/1176 c:\\Users\\user\\Desktop\\FINAL\\final-project\\16\\data\\13\\test\\images\\-191_jpg.rf.782e1a42354a1727b04809a7c147e2bc.jpg: 640x640 1 fish_cake, 14.0ms\n",
      "image 28/1176 c:\\Users\\user\\Desktop\\FINAL\\final-project\\16\\data\\13\\test\\images\\-192_jpg.rf.b168b2ff8254c55088717d0f9b72732b.jpg: 640x640 (no detections), 13.1ms\n",
      "image 29/1176 c:\\Users\\user\\Desktop\\FINAL\\final-project\\16\\data\\13\\test\\images\\-193_jpg.rf.1fd7b2312365227af05bf7769ee08d24.jpg: 640x640 1 spinach, 12.3ms\n",
      "image 30/1176 c:\\Users\\user\\Desktop\\FINAL\\final-project\\16\\data\\13\\test\\images\\-193_jpg.rf.215c838405240c8da8f032b77439f1b1.jpg: 640x640 1 beef, 10.0ms\n",
      "image 31/1176 c:\\Users\\user\\Desktop\\FINAL\\final-project\\16\\data\\13\\test\\images\\-19_jpg.rf.6d7bff9d7f8c7c1d87de31f2b0ad011a.jpg: 640x640 1 kimchi, 16.2ms\n",
      "image 32/1176 c:\\Users\\user\\Desktop\\FINAL\\final-project\\16\\data\\13\\test\\images\\-1_jpg.rf.1d1fd568652b27168c9d3b45042f72d9.jpg: 640x640 1 spinach, 17.2ms\n",
      "image 33/1176 c:\\Users\\user\\Desktop\\FINAL\\final-project\\16\\data\\13\\test\\images\\-2023-01-12-174028_jpg.rf.dd28ac6079bef2be9c97ec1388f568b7.jpg: 640x640 2 porks, 3 pork bellys, 6.9ms\n",
      "image 34/1176 c:\\Users\\user\\Desktop\\FINAL\\final-project\\16\\data\\13\\test\\images\\-2023-01-12-174107_jpg.rf.a7ef3eda30c60e30061e05187a360ab8.jpg: 640x640 1 pork, 6.9ms\n",
      "image 35/1176 c:\\Users\\user\\Desktop\\FINAL\\final-project\\16\\data\\13\\test\\images\\-2023-01-12-174501_jpg.rf.2c726ec71aa4bec525f275f2c4379ed0.jpg: 640x640 1 pork, 13.8ms\n",
      "image 36/1176 c:\\Users\\user\\Desktop\\FINAL\\final-project\\16\\data\\13\\test\\images\\-2023-01-12-175035_jpg.rf.11a060fe27f19b62a39bd857a3ae57a6.jpg: 640x640 1 pumpkin, 1 sweet potato, 14.3ms\n",
      "image 37/1176 c:\\Users\\user\\Desktop\\FINAL\\final-project\\16\\data\\13\\test\\images\\-2023-01-12-175852_jpg.rf.ac1375ea8f1716205c6974ef6eb4c9af.jpg: 640x640 1 pork, 17.2ms\n",
      "image 38/1176 c:\\Users\\user\\Desktop\\FINAL\\final-project\\16\\data\\13\\test\\images\\-2023-01-12-180240_jpg.rf.0d862a584121ae3846792bbee3de5ff9.jpg: 640x640 1 pork, 17.1ms\n",
      "image 39/1176 c:\\Users\\user\\Desktop\\FINAL\\final-project\\16\\data\\13\\test\\images\\-208_jpg.rf.cff5c4f3f868d35ded78b5a6b5fbcbcb.jpg: 640x640 1 milk, 13.2ms\n",
      "image 40/1176 c:\\Users\\user\\Desktop\\FINAL\\final-project\\16\\data\\13\\test\\images\\-224_jpg.rf.fa4522fa955dbfb49f3c638b171f1105.jpg: 640x640 2 fish_cakes, 31.6ms\n",
      "image 41/1176 c:\\Users\\user\\Desktop\\FINAL\\final-project\\16\\data\\13\\test\\images\\-226_jpg.rf.ffd941e366866a52372c4b38c836a758.jpg: 640x640 (no detections), 37.3ms\n",
      "image 42/1176 c:\\Users\\user\\Desktop\\FINAL\\final-project\\16\\data\\13\\test\\images\\-22_jpg.rf.1c75564349b515482567a4c3e7e89e75.jpg: 640x640 1 fish_cake, 20.8ms\n",
      "image 43/1176 c:\\Users\\user\\Desktop\\FINAL\\final-project\\16\\data\\13\\test\\images\\-22_jpg.rf.fbf9eb693e43bb924699e0a3c5d45cc3.jpg: 640x640 2 beefs, 15.9ms\n",
      "image 44/1176 c:\\Users\\user\\Desktop\\FINAL\\final-project\\16\\data\\13\\test\\images\\-231_jpg.rf.115310131bdccea93f4a961bf49bb7ad.jpg: 640x640 1 kimchi, 14.9ms\n",
      "image 45/1176 c:\\Users\\user\\Desktop\\FINAL\\final-project\\16\\data\\13\\test\\images\\-23_jpg.rf.013fcf90638fc38cdbbaddcce088fc23.jpg: 640x640 3 beefs, 13.9ms\n",
      "image 46/1176 c:\\Users\\user\\Desktop\\FINAL\\final-project\\16\\data\\13\\test\\images\\-251_jpg.rf.a49340bc9fc4608d70879643845af8e2.jpg: 640x640 3 spinachs, 24.4ms\n",
      "image 47/1176 c:\\Users\\user\\Desktop\\FINAL\\final-project\\16\\data\\13\\test\\images\\-257_jpg.rf.682fbd2252b2fde35b7889df14ea6e88.jpg: 640x640 1 kimchi, 13.9ms\n",
      "image 48/1176 c:\\Users\\user\\Desktop\\FINAL\\final-project\\16\\data\\13\\test\\images\\-258_jpg.rf.02b77412fa03d329f638439906a773d8.jpg: 640x640 2 spinachs, 12.2ms\n",
      "image 49/1176 c:\\Users\\user\\Desktop\\FINAL\\final-project\\16\\data\\13\\test\\images\\-25_jpg.rf.8241f15e7fe88bc8322d9c527f22e992.jpg: 640x640 1 spinach, 13.5ms\n",
      "image 50/1176 c:\\Users\\user\\Desktop\\FINAL\\final-project\\16\\data\\13\\test\\images\\-262_jpg.rf.ec74801d49ccde9987507c141968bb2e.jpg: 640x640 1 beef, 12.3ms\n",
      "image 51/1176 c:\\Users\\user\\Desktop\\FINAL\\final-project\\16\\data\\13\\test\\images\\-265_jpg.rf.814782b0af92ef97ba97b75710b25dc8.jpg: 640x640 1 kimchi, 7.0ms\n",
      "image 52/1176 c:\\Users\\user\\Desktop\\FINAL\\final-project\\16\\data\\13\\test\\images\\-26_jpg.rf.b521ab3e949f95080939dda81a19c93f.jpg: 640x640 3 beefs, 9.5ms\n",
      "image 53/1176 c:\\Users\\user\\Desktop\\FINAL\\final-project\\16\\data\\13\\test\\images\\-26_jpg.rf.d26b399afee0a5bc351f74857443a10e.jpg: 640x640 1 kimchi, 16.2ms\n",
      "image 54/1176 c:\\Users\\user\\Desktop\\FINAL\\final-project\\16\\data\\13\\test\\images\\-277_jpg.rf.a5166e4fc04e91d54a7fe3c76b37d10c.jpg: 640x640 1 fish_cake, 13.1ms\n",
      "image 55/1176 c:\\Users\\user\\Desktop\\FINAL\\final-project\\16\\data\\13\\test\\images\\-27_jpg.rf.86d4b3090553b7ecc20b348ce8c37e48.jpg: 640x640 2 beefs, 13.7ms\n",
      "image 56/1176 c:\\Users\\user\\Desktop\\FINAL\\final-project\\16\\data\\13\\test\\images\\-27_jpg.rf.c13ec3a891508059194387ab8e51ae4c.jpg: 640x640 2 milks, 6.2ms\n",
      "image 57/1176 c:\\Users\\user\\Desktop\\FINAL\\final-project\\16\\data\\13\\test\\images\\-27_jpg.rf.e1de3db5065bb7d46123aee906e4ca68.jpg: 640x640 3 spinachs, 18.9ms\n",
      "image 58/1176 c:\\Users\\user\\Desktop\\FINAL\\final-project\\16\\data\\13\\test\\images\\-283_jpg.rf.f62938c4426843cc7adaca0bdd66bb45.jpg: 640x640 1 beef, 19.3ms\n",
      "image 59/1176 c:\\Users\\user\\Desktop\\FINAL\\final-project\\16\\data\\13\\test\\images\\-2_jpg.rf.9b970c27a89b730887eb3ce8149112b8.jpg: 640x640 (no detections), 18.6ms\n",
      "image 60/1176 c:\\Users\\user\\Desktop\\FINAL\\final-project\\16\\data\\13\\test\\images\\-2_jpg.rf.9eff0cb403bfb3a09fa0fd8e8b3654cc.jpg: 640x640 1 spinach, 7.0ms\n",
      "image 61/1176 c:\\Users\\user\\Desktop\\FINAL\\final-project\\16\\data\\13\\test\\images\\-2_jpg.rf.e119e213da88d024feb35b3e3b4e7ce9.jpg: 640x640 1 kimchi, 19.6ms\n",
      "image 62/1176 c:\\Users\\user\\Desktop\\FINAL\\final-project\\16\\data\\13\\test\\images\\-300_jpg.rf.a794150c3806fe7fb7817725051e04df.jpg: 640x640 1 kimchi, 12.3ms\n",
      "image 63/1176 c:\\Users\\user\\Desktop\\FINAL\\final-project\\16\\data\\13\\test\\images\\-303_jpg.rf.783f1fd67dcea27d98cc3f4293108c0d.jpg: 640x640 1 fish_cake, 6.9ms\n",
      "image 64/1176 c:\\Users\\user\\Desktop\\FINAL\\final-project\\16\\data\\13\\test\\images\\-308_jpg.rf.29f37bca7119c0a9e911fda2d510ccf6.jpg: 640x640 2 crabs, 1 kimchi, 10.3ms\n",
      "image 65/1176 c:\\Users\\user\\Desktop\\FINAL\\final-project\\16\\data\\13\\test\\images\\-309_jpg.rf.7b9ae9e35a596327503b6332ba8b1373.jpg: 640x640 1 kimchi, 6.8ms\n",
      "image 66/1176 c:\\Users\\user\\Desktop\\FINAL\\final-project\\16\\data\\13\\test\\images\\-30_jpg.rf.2b40745878edcfa70da8a0ab19a0b0ef.jpg: 640x640 1 beef, 16.1ms\n",
      "image 67/1176 c:\\Users\\user\\Desktop\\FINAL\\final-project\\16\\data\\13\\test\\images\\-32_jpg.rf.298bbaaa1c8575ceae00f4f1fa26f795.jpg: 640x640 1 fish_cake, 17.1ms\n",
      "image 68/1176 c:\\Users\\user\\Desktop\\FINAL\\final-project\\16\\data\\13\\test\\images\\-339_jpg.rf.0d60118e7efad9142de26ca25b44b320.jpg: 640x640 1 beef, 6.8ms\n",
      "image 69/1176 c:\\Users\\user\\Desktop\\FINAL\\final-project\\16\\data\\13\\test\\images\\-340_jpg.rf.d42fd3ed6444c75c6432bf50aa78d791.jpg: 640x640 1 fish_cake, 27.6ms\n",
      "image 70/1176 c:\\Users\\user\\Desktop\\FINAL\\final-project\\16\\data\\13\\test\\images\\-347_jpg.rf.b3677743b17dc360e0e0606efbc0c72c.jpg: 640x640 2 garlics, 21.4ms\n",
      "image 71/1176 c:\\Users\\user\\Desktop\\FINAL\\final-project\\16\\data\\13\\test\\images\\-34_jpg.rf.709f8a266d4713b3a4ecad3a5da574a8.jpg: 640x640 1 beef, 13.5ms\n",
      "image 72/1176 c:\\Users\\user\\Desktop\\FINAL\\final-project\\16\\data\\13\\test\\images\\-34_jpg.rf.82976be826171c4307be1e45d29b5fb2.jpg: 640x640 3 spinachs, 12.8ms\n",
      "image 73/1176 c:\\Users\\user\\Desktop\\FINAL\\final-project\\16\\data\\13\\test\\images\\-355_jpg.rf.6b908891fd4a181f5d90a0de79710f78.jpg: 640x640 1 kimchi, 1 lobster tails, 16.7ms\n",
      "image 74/1176 c:\\Users\\user\\Desktop\\FINAL\\final-project\\16\\data\\13\\test\\images\\-35_jpg.rf.07b59ae3e6dad153e5af44fcc68dd002.jpg: 640x640 1 spinach, 15.8ms\n",
      "image 75/1176 c:\\Users\\user\\Desktop\\FINAL\\final-project\\16\\data\\13\\test\\images\\-36_jpg.rf.17138e2c2b4ed08ffa99f51bf391b741.jpg: 640x640 1 rice_cake, 14.4ms\n",
      "image 76/1176 c:\\Users\\user\\Desktop\\FINAL\\final-project\\16\\data\\13\\test\\images\\-36_jpg.rf.6525f6cd5ca6e428acf6d64ee622012f.jpg: 640x640 1 spinach, 17.8ms\n",
      "image 77/1176 c:\\Users\\user\\Desktop\\FINAL\\final-project\\16\\data\\13\\test\\images\\-36_jpg.rf.a0b95ad7a0ab15555f66ccdd0f960725.jpg: 640x640 1 kimchi, 16.1ms\n",
      "image 78/1176 c:\\Users\\user\\Desktop\\FINAL\\final-project\\16\\data\\13\\test\\images\\-380_jpg.rf.910f8ff8034217d6fd22924c69e078f7.jpg: 640x640 1 fish_cake, 15.6ms\n",
      "image 79/1176 c:\\Users\\user\\Desktop\\FINAL\\final-project\\16\\data\\13\\test\\images\\-384_jpg.rf.c54b68f16f71fd28b093a6a1af99978c.jpg: 640x640 1 fish_cake, 14.4ms\n",
      "image 80/1176 c:\\Users\\user\\Desktop\\FINAL\\final-project\\16\\data\\13\\test\\images\\-399_jpg.rf.3d22b5eefd6185b963b6498be3c13bde.jpg: 640x640 1 spinach, 13.2ms\n",
      "image 81/1176 c:\\Users\\user\\Desktop\\FINAL\\final-project\\16\\data\\13\\test\\images\\-39_jpg.rf.1bfc70a4be9f5ad333e4c19c52854191.jpg: 640x640 1 rice_cake, 15.2ms\n",
      "image 82/1176 c:\\Users\\user\\Desktop\\FINAL\\final-project\\16\\data\\13\\test\\images\\-3_jpg.rf.e9f80fe3f0208087e62f21d3023132fc.jpg: 640x640 1 fish_cake, 6.9ms\n",
      "image 83/1176 c:\\Users\\user\\Desktop\\FINAL\\final-project\\16\\data\\13\\test\\images\\-40_jpg.rf.e906a5590e6a71c5aff35db337f6e982.jpg: 640x640 (no detections), 6.9ms\n",
      "image 84/1176 c:\\Users\\user\\Desktop\\FINAL\\final-project\\16\\data\\13\\test\\images\\-41_jpg.rf.c6b735cd0a3227a84fe77784469c4ebb.jpg: 640x640 3 shrimps, 11.3ms\n",
      "image 85/1176 c:\\Users\\user\\Desktop\\FINAL\\final-project\\16\\data\\13\\test\\images\\-42_jpg.rf.de777e872646d73a098715aacd903b1b.jpg: 640x640 2 milks, 9.7ms\n",
      "image 86/1176 c:\\Users\\user\\Desktop\\FINAL\\final-project\\16\\data\\13\\test\\images\\-44_jpg.rf.2de0292d80d75ed3405a615ff00aa2f6.jpg: 640x640 1 rice_cake, 26.4ms\n",
      "image 87/1176 c:\\Users\\user\\Desktop\\FINAL\\final-project\\16\\data\\13\\test\\images\\-44_jpg.rf.5be336f1db6eefbb50267c68b87b6a96.jpg: 640x640 1 fish_cake, 18.1ms\n",
      "image 88/1176 c:\\Users\\user\\Desktop\\FINAL\\final-project\\16\\data\\13\\test\\images\\-45_jpg.rf.7e71bb7d832f225ed745a887fef0ffce.jpg: 640x640 1 fish_cake, 12.1ms\n",
      "image 89/1176 c:\\Users\\user\\Desktop\\FINAL\\final-project\\16\\data\\13\\test\\images\\-48_jpg.rf.40ff0f2594ec2d0dfa00cf33b352d1b5.jpg: 640x640 1 kimchi, 17.0ms\n",
      "image 90/1176 c:\\Users\\user\\Desktop\\FINAL\\final-project\\16\\data\\13\\test\\images\\-4_jpg.rf.45100c0af9a0f314dd4ff98a4c35c929.jpg: 640x640 (no detections), 12.5ms\n",
      "image 91/1176 c:\\Users\\user\\Desktop\\FINAL\\final-project\\16\\data\\13\\test\\images\\-57_jpg.rf.53b6ce54642d2d369c673b3a829d4942.jpg: 640x640 1 fish_cake, 14.5ms\n",
      "image 92/1176 c:\\Users\\user\\Desktop\\FINAL\\final-project\\16\\data\\13\\test\\images\\-57_jpg.rf.7cfe7865abb4defab7ddcb08282d36ea.jpg: 640x640 1 spinach, 14.3ms\n",
      "image 93/1176 c:\\Users\\user\\Desktop\\FINAL\\final-project\\16\\data\\13\\test\\images\\-66_jpg.rf.2de26dbd4b4f3c95feacf50ac7e8f537.jpg: 640x640 1 kimchi, 14.0ms\n",
      "image 94/1176 c:\\Users\\user\\Desktop\\FINAL\\final-project\\16\\data\\13\\test\\images\\-68_jpg.rf.92a4bf786a0989a5f7ec96f203784aa1.jpg: 640x640 1 beef, 11.8ms\n",
      "image 95/1176 c:\\Users\\user\\Desktop\\FINAL\\final-project\\16\\data\\13\\test\\images\\-6_jpg.rf.bdc8923a92a2f93d01e9cb5cb5398ec7.jpg: 640x640 1 rice_cake, 14.6ms\n",
      "image 96/1176 c:\\Users\\user\\Desktop\\FINAL\\final-project\\16\\data\\13\\test\\images\\-72_jpg.rf.0ce28f04d62e919b4bde3efef487bc65.jpg: 640x640 1 beef, 11.5ms\n",
      "image 97/1176 c:\\Users\\user\\Desktop\\FINAL\\final-project\\16\\data\\13\\test\\images\\-72_jpg.rf.59fe72049338e294e373313f05d7c735.jpg: 640x640 1 fish_cake, 16.8ms\n",
      "image 98/1176 c:\\Users\\user\\Desktop\\FINAL\\final-project\\16\\data\\13\\test\\images\\-74_jpg.rf.2330853ba6975599ddb1f00667b43de2.jpg: 640x640 1 sea scallops, 17.1ms\n",
      "image 99/1176 c:\\Users\\user\\Desktop\\FINAL\\final-project\\16\\data\\13\\test\\images\\-74_jpg.rf.8e3c055247c38287c1575744ab11a26a.jpg: 640x640 1 rice_cake, 17.0ms\n",
      "image 100/1176 c:\\Users\\user\\Desktop\\FINAL\\final-project\\16\\data\\13\\test\\images\\-75_jpg.rf.c2fe1ccd13982055961e402447292901.jpg: 640x640 1 fish_cake, 18.4ms\n",
      "image 101/1176 c:\\Users\\user\\Desktop\\FINAL\\final-project\\16\\data\\13\\test\\images\\-76_jpg.rf.12b812ce72163ecd3f1725989e1c5468.jpg: 640x640 1 beef, 15.2ms\n",
      "image 102/1176 c:\\Users\\user\\Desktop\\FINAL\\final-project\\16\\data\\13\\test\\images\\-76_jpg.rf.a2593d563f2f9f7c995605c1a5ac15a1.jpg: 640x640 1 fish_cake, 17.1ms\n",
      "image 103/1176 c:\\Users\\user\\Desktop\\FINAL\\final-project\\16\\data\\13\\test\\images\\-78_jpg.rf.8d81c1f3160199caca0fa07c99aad05e.jpg: 640x640 1 kimchi, 17.4ms\n",
      "image 104/1176 c:\\Users\\user\\Desktop\\FINAL\\final-project\\16\\data\\13\\test\\images\\-7_jpg.rf.77b524fcbb5c56b1db1892c260f7c308.jpg: 640x640 1 beef, 13.5ms\n",
      "image 105/1176 c:\\Users\\user\\Desktop\\FINAL\\final-project\\16\\data\\13\\test\\images\\-81_jpg.rf.156d2cda753f84a20f1937f19a2f4303.jpg: 640x640 2 cashews, 1 rice_cake, 17.9ms\n",
      "image 106/1176 c:\\Users\\user\\Desktop\\FINAL\\final-project\\16\\data\\13\\test\\images\\-81_jpg.rf.27ab9835b81c33444d6230bb97deb062.jpg: 640x640 1 beef, 11.3ms\n",
      "image 107/1176 c:\\Users\\user\\Desktop\\FINAL\\final-project\\16\\data\\13\\test\\images\\-81_jpg.rf.efcd082662d5f900aab6e3596bab107f.jpg: 640x640 2 fish_cakes, 23.4ms\n",
      "image 108/1176 c:\\Users\\user\\Desktop\\FINAL\\final-project\\16\\data\\13\\test\\images\\-82_jpg.rf.7bcd0104537a58d9667a0bd6b701f851.jpg: 640x640 1 fish_cake, 1 rice_cake, 15.0ms\n",
      "image 109/1176 c:\\Users\\user\\Desktop\\FINAL\\final-project\\16\\data\\13\\test\\images\\-83_jpg.rf.23a931c7fd97d2cdca89434cdab08bba.jpg: 640x640 1 fish_cake, 1 potato, 18.4ms\n",
      "image 110/1176 c:\\Users\\user\\Desktop\\FINAL\\final-project\\16\\data\\13\\test\\images\\-83_jpg.rf.398801e713a3484792877a0c636742f2.jpg: 640x640 1 spinach, 18.1ms\n",
      "image 111/1176 c:\\Users\\user\\Desktop\\FINAL\\final-project\\16\\data\\13\\test\\images\\-86_jpg.rf.2989cc060338cc977819ba47062323a8.jpg: 640x640 1 kimchi, 17.7ms\n",
      "image 112/1176 c:\\Users\\user\\Desktop\\FINAL\\final-project\\16\\data\\13\\test\\images\\-87_jpg.rf.657f2d58f2cf16e7581579493c393555.jpg: 640x640 2 beefs, 18.3ms\n",
      "image 113/1176 c:\\Users\\user\\Desktop\\FINAL\\final-project\\16\\data\\13\\test\\images\\-90_jpg.rf.120a37e6ebf0aa436844e3dba9b86628.jpg: 640x640 1 fish_cake, 18.4ms\n",
      "image 114/1176 c:\\Users\\user\\Desktop\\FINAL\\final-project\\16\\data\\13\\test\\images\\-92_jpg.rf.a5bb791c202e95fc6cd6849f9e432ddb.jpg: 640x640 1 fish_cake, 11.8ms\n",
      "image 115/1176 c:\\Users\\user\\Desktop\\FINAL\\final-project\\16\\data\\13\\test\\images\\0001_jpg.rf.9fbe01a9c0214edbb8eca2fe0bbca214.jpg: 640x640 6 carrots, 12.9ms\n",
      "image 116/1176 c:\\Users\\user\\Desktop\\FINAL\\final-project\\16\\data\\13\\test\\images\\0004_jpg.rf.0ec9b3d116802515020f570dedc009f5.jpg: 640x640 7 carrots, 11.3ms\n",
      "image 117/1176 c:\\Users\\user\\Desktop\\FINAL\\final-project\\16\\data\\13\\test\\images\\0005_jpg.rf.46931e1f66fc563ae211baec91335e05.jpg: 640x640 3 carrots, 21.5ms\n",
      "image 118/1176 c:\\Users\\user\\Desktop\\FINAL\\final-project\\16\\data\\13\\test\\images\\00246269000003_jpg.rf.370c12d45154e05a4a72f2ed975b4269.jpg: 640x640 1 pork, 18.9ms\n",
      "image 119/1176 c:\\Users\\user\\Desktop\\FINAL\\final-project\\16\\data\\13\\test\\images\\0072_jpg.rf.ae2122977131dd2509bd5df37a70ee97.jpg: 640x640 3 carrots, 20.9ms\n",
      "image 120/1176 c:\\Users\\user\\Desktop\\FINAL\\final-project\\16\\data\\13\\test\\images\\0096_jpg.rf.4a79dfc1886927937c4da1bb020cea68.jpg: 640x640 1 carrot, 14.8ms\n",
      "image 121/1176 c:\\Users\\user\\Desktop\\FINAL\\final-project\\16\\data\\13\\test\\images\\021_PNG_jpg.rf.1e0424bda324227bfb9a346e97a31a6a.jpg: 640x640 2 cheeses, 1 ketchup, 1 nacho_chips, 1 onion, 1 pimento, 16.5ms\n",
      "image 122/1176 c:\\Users\\user\\Desktop\\FINAL\\final-project\\16\\data\\13\\test\\images\\021_PNG_jpg.rf.ff0ee4d6a780b58be5143b118f69ffda.jpg: 640x640 3 cheeses, 2 ketchups, 1 nacho_chips, 1 onion, 6.3ms\n",
      "image 123/1176 c:\\Users\\user\\Desktop\\FINAL\\final-project\\16\\data\\13\\test\\images\\022_PNG.rf.d2c609150c5e4da3fe2fb50a126cb93c.jpg: 640x640 1 bacon, 1 bread, 2 cheeses, 1 mozzarella cheese, 16.4ms\n",
      "image 124/1176 c:\\Users\\user\\Desktop\\FINAL\\final-project\\16\\data\\13\\test\\images\\027517900_1589942784-Raw_Fresh_Meat_With_Rosemary_jpg.rf.d94d3fef7d361b5871fa9db8d28e43cc.jpg: 640x640 3 beefs, 17.0ms\n",
      "image 125/1176 c:\\Users\\user\\Desktop\\FINAL\\final-project\\16\\data\\13\\test\\images\\036_PNG_jpg.rf.88948929b055a4b7199f2ac9c56bc572.jpg: 640x640 1 bread, 1 cheese, 1 green_onion, 1 mozzarella cheese, 1 sausage, 18.3ms\n",
      "image 126/1176 c:\\Users\\user\\Desktop\\FINAL\\final-project\\16\\data\\13\\test\\images\\044_PNG_jpg.rf.0c529f08d5fc6e8f702e00d863714a93.jpg: 640x640 2 cheeses, 1 mozzarella cheese, 1 parmasan_cheese, 1 seaweed, 17.9ms\n",
      "image 127/1176 c:\\Users\\user\\Desktop\\FINAL\\final-project\\16\\data\\13\\test\\images\\044_PNG_jpg.rf.4728fd09935313099c4c3b21085ce77b.jpg: 640x640 2 cheeses, 1 mozzarella cheese, 1 parmasan_cheese, 1 seaweed, 14.9ms\n",
      "image 128/1176 c:\\Users\\user\\Desktop\\FINAL\\final-project\\16\\data\\13\\test\\images\\044_PNG_jpg.rf.dd3cd4a0605069d9219a28cf56edca66.jpg: 640x640 2 cheeses, 1 milk, 1 mozzarella cheese, 1 seaweed, 20.8ms\n",
      "image 129/1176 c:\\Users\\user\\Desktop\\FINAL\\final-project\\16\\data\\13\\test\\images\\046_PNG_jpg.rf.0896ab01f557f79c5f848b4e6d3d3fb5.jpg: 640x640 1 cheese, 1 egg, 1 fish_cake, 14.9ms\n",
      "image 130/1176 c:\\Users\\user\\Desktop\\FINAL\\final-project\\16\\data\\13\\test\\images\\059_PNG.rf.5cca377a93c34d14e1532bc985899a6d.jpg: 640x640 1 cheese, 1 corn, 1 ham, 2 mozzarella cheeses, 1 onion, 17.2ms\n",
      "image 131/1176 c:\\Users\\user\\Desktop\\FINAL\\final-project\\16\\data\\13\\test\\images\\077_PNG_jpg.rf.b51dc90f0195ca4fd358a4cfd61f06fd.jpg: 640x640 1 bread, 1 butter, 1 cheese, 1 parmasan_cheese, 1 pasta, 15.5ms\n",
      "image 132/1176 c:\\Users\\user\\Desktop\\FINAL\\final-project\\16\\data\\13\\test\\images\\080_PNG_jpg.rf.695be1f98e4c06e374112baf50706601.jpg: 640x640 1 bread, 1 butter, 1 canned_tuna, 1 cheese, 1 mozzarella cheese, 1 onion, 1 pepper, 14.2ms\n",
      "image 133/1176 c:\\Users\\user\\Desktop\\FINAL\\final-project\\16\\data\\13\\test\\images\\087_jpg.rf.420b37b6280662b136cb554b4c71e4e5.jpg: 640x640 5 cucumbers, 18.2ms\n",
      "image 134/1176 c:\\Users\\user\\Desktop\\FINAL\\final-project\\16\\data\\13\\test\\images\\092_jpg.rf.8ebf5785d54a7528d3f5fcb29da0ab51.jpg: 640x640 3 green chillis, 18.2ms\n",
      "image 135/1176 c:\\Users\\user\\Desktop\\FINAL\\final-project\\16\\data\\13\\test\\images\\103_jpg.rf.064bb786b109242756d2d5c941045d5b.jpg: 640x640 1 beef, 16.0ms\n",
      "image 136/1176 c:\\Users\\user\\Desktop\\FINAL\\final-project\\16\\data\\13\\test\\images\\109_jpg.rf.9daafaa994b7ff74dab5439ccee83fbf.jpg: 640x640 4 beefs, 14.8ms\n",
      "image 137/1176 c:\\Users\\user\\Desktop\\FINAL\\final-project\\16\\data\\13\\test\\images\\10_PNG.rf.f38d7ab493d7cc5ffe0dbe6ecf3d477f.jpg: 640x640 1 red chili, 15.6ms\n",
      "image 138/1176 c:\\Users\\user\\Desktop\\FINAL\\final-project\\16\\data\\13\\test\\images\\10_jpg.rf.679a72ba2178ae86801ecfeaea8e4751.jpg: 640x640 1 red chili, 14.3ms\n",
      "image 139/1176 c:\\Users\\user\\Desktop\\FINAL\\final-project\\16\\data\\13\\test\\images\\11300692-cut-of-beef-steak-with-lemon-slice-isolated_jpg.rf.7622c70714e467d1ba31b5484b92e145.jpg: 640x640 2 beefs, 11.5ms\n",
      "image 140/1176 c:\\Users\\user\\Desktop\\FINAL\\final-project\\16\\data\\13\\test\\images\\116_jpg.rf.55f2f2dbdc7716d75bab8838c9f58df1.jpg: 640x640 4 beefs, 6.9ms\n",
      "image 141/1176 c:\\Users\\user\\Desktop\\FINAL\\final-project\\16\\data\\13\\test\\images\\122_jpg.rf.43ca890854cd8d832d1dea9c95a42026.jpg: 640x640 1 chilli, 2 green chillis, 15.4ms\n",
      "image 142/1176 c:\\Users\\user\\Desktop\\FINAL\\final-project\\16\\data\\13\\test\\images\\124_jpg.rf.d1053252d75950421338bc0157fdd543.jpg: 640x640 24 green chillis, 14.1ms\n",
      "image 143/1176 c:\\Users\\user\\Desktop\\FINAL\\final-project\\16\\data\\13\\test\\images\\12_jpg.rf.1f79da74e15b06886d39cfa21b88f4a2.jpg: 640x640 1 red chili, 15.4ms\n",
      "image 144/1176 c:\\Users\\user\\Desktop\\FINAL\\final-project\\16\\data\\13\\test\\images\\137_jpg.rf.3e7f6c393e0af0035b2ec7f457b43b8a.jpg: 640x640 6 green chillis, 17.4ms\n",
      "image 145/1176 c:\\Users\\user\\Desktop\\FINAL\\final-project\\16\\data\\13\\test\\images\\13_jpg.rf.4ca6347c3bdb1c869e52f8991cedea44.jpg: 640x640 6 porks, 18.2ms\n",
      "image 146/1176 c:\\Users\\user\\Desktop\\FINAL\\final-project\\16\\data\\13\\test\\images\\14926002-red-raw-meat-on-the-white-surface_jpg.rf.aa2ab64f4daaf903fd889ac89d2f6762.jpg: 640x640 1 pork, 16.7ms\n",
      "image 147/1176 c:\\Users\\user\\Desktop\\FINAL\\final-project\\16\\data\\13\\test\\images\\14_PNG.rf.0185cb5758d8d2b192fc1fc910e099f0.jpg: 640x640 1 chilli, 2 red chilis, 14.0ms\n",
      "image 148/1176 c:\\Users\\user\\Desktop\\FINAL\\final-project\\16\\data\\13\\test\\images\\14_jpg.rf.3b1a5a8b21958f1f13dd6579aa1ccfe2.jpg: 640x640 6 chickens, 14.7ms\n",
      "image 149/1176 c:\\Users\\user\\Desktop\\FINAL\\final-project\\16\\data\\13\\test\\images\\14_jpg.rf.b361a86cc184ffb56afd253eb46cd8c9.jpg: 640x640 2 chillis, 1 red chili, 13.5ms\n",
      "image 150/1176 c:\\Users\\user\\Desktop\\FINAL\\final-project\\16\\data\\13\\test\\images\\162_png.rf.03a03078667d29ebd56e0ee52583ad85.jpg: 640x640 12 green chillis, 1 red chili, 17.4ms\n",
      "image 151/1176 c:\\Users\\user\\Desktop\\FINAL\\final-project\\16\\data\\13\\test\\images\\1685517855923_jpg.rf.125a7861b95cc3a26e03a3a1e56502f6.jpg: 640x640 3 asparaguss, 5 bananas, 1 broccoli, 2 humuss, 2 mayonaises, 1 tomato_sauce, 2 yogurts, 14.4ms\n",
      "image 152/1176 c:\\Users\\user\\Desktop\\FINAL\\final-project\\16\\data\\13\\test\\images\\1685517855923_jpg.rf.25217b6ffbf238b89a0c9b867bc8b663.jpg: 640x640 1 apple, 1 asparagus, 3 bananas, 1 broccoli, 3 humuss, 1 lemon, 1 pineapple, 2 yogurts, 15.5ms\n",
      "image 153/1176 c:\\Users\\user\\Desktop\\FINAL\\final-project\\16\\data\\13\\test\\images\\1685517855964_jpg.rf.3defd94341d9ae5864b2645ea72b320f.jpg: 640x640 2 asparaguss, 1 cheese, 4 humuss, 1 mayonaise, 1 milk, 3 yogurts, 16.4ms\n",
      "image 154/1176 c:\\Users\\user\\Desktop\\FINAL\\final-project\\16\\data\\13\\test\\images\\1685517909433_jpg.rf.2a4e3717ecc71e9cd7f3d0ca1e4f85e7.jpg: 640x640 2 asparaguss, 1 broccoli, 1 grated_cheese, 1 humus, 13.2ms\n",
      "image 155/1176 c:\\Users\\user\\Desktop\\FINAL\\final-project\\16\\data\\13\\test\\images\\1685517940803_jpg.rf.dbf35a621836968f4b50fc41992eeb35.jpg: 640x640 1 asparagus, 1 carrot, 1 egg, 1 grated_cheese, 1 lemon, 1 tomato, 7.9ms\n",
      "image 156/1176 c:\\Users\\user\\Desktop\\FINAL\\final-project\\16\\data\\13\\test\\images\\1685517940893_jpg.rf.340b5306fb10d8d5b4484a0333d765a2.jpg: 640x640 2 humuss, 1 marmelade, 1 milk, 1 tomato_sauce, 13.7ms\n",
      "image 157/1176 c:\\Users\\user\\Desktop\\FINAL\\final-project\\16\\data\\13\\test\\images\\1685517940893_jpg.rf.eabb9c74cbb3eefe27ae2120a47950f2.jpg: 640x640 1 asparagus, 1 humus, 1 tomato_sauce, 1 yogurt, 14.7ms\n",
      "image 158/1176 c:\\Users\\user\\Desktop\\FINAL\\final-project\\16\\data\\13\\test\\images\\1685517940900_jpg.rf.e51b8d44fa76a58e4faad3b863e684fc.jpg: 640x640 1 asparagus, 1 humus, 2 milks, 1 tomato_sauce, 1 yogurt, 12.5ms\n",
      "image 159/1176 c:\\Users\\user\\Desktop\\FINAL\\final-project\\16\\data\\13\\test\\images\\1685517940925_jpg.rf.c147a71505b2d447b77de648d0c960b5.jpg: 640x640 1 butter, 2 cheeses, 1 humus, 1 milk, 18.0ms\n",
      "image 160/1176 c:\\Users\\user\\Desktop\\FINAL\\final-project\\16\\data\\13\\test\\images\\1685518156922_jpg.rf.d808641b615e5eef338ebd825c3f1dd8.jpg: 640x640 3 apples, 1 asparagus, 8 bananas, 1 bread, 1 broccoli, 2 grated_cheeses, 3 humuss, 1 lemon, 1 mayonaise, 1 milk, 8 pears, 1 pineapple, 1 tomato_sauce, 39.7ms\n",
      "image 161/1176 c:\\Users\\user\\Desktop\\FINAL\\final-project\\16\\data\\13\\test\\images\\1685527860570_jpg.rf.4a3b60fac6843d9a78da4d31283e9a9e.jpg: 640x640 2 breads, 1 green_beans, 1 milk, 2 pak_chois, 1 pineapple, 1 salad, 20.4ms\n",
      "image 162/1176 c:\\Users\\user\\Desktop\\FINAL\\final-project\\16\\data\\13\\test\\images\\1685527860570_jpg.rf.58fcb052317b68fa8e593593e9d6fae5.jpg: 640x640 1 asparagus, 1 bread, 1 green_beans, 1 humus, 1 lemon, 1 milk, 1 pineapple, 1 salad, 18.9ms\n",
      "image 163/1176 c:\\Users\\user\\Desktop\\FINAL\\final-project\\16\\data\\13\\test\\images\\1685527860570_jpg.rf.d0b2fdd66b1d2b3f951811de9f0069f1.jpg: 640x640 1 asparagus, 1 bread, 1 green_beans, 1 humus, 2 lemons, 1 milk, 1 pineapple, 1 salad, 15.9ms\n",
      "image 164/1176 c:\\Users\\user\\Desktop\\FINAL\\final-project\\16\\data\\13\\test\\images\\1685961942916_jpg.rf.f75faea9c440d5068abcc18125d2a7c6.jpg: 640x640 1 asparagus, 1 humus, 1 lemon, 1 mayonaise, 1 pineapple, 20.4ms\n",
      "image 165/1176 c:\\Users\\user\\Desktop\\FINAL\\final-project\\16\\data\\13\\test\\images\\1685961942922_jpg.rf.ece73a38015222d1b7a915dffb5b90d2.jpg: 640x640 1 asparagus, 1 bread, 1 cheese, 1 humus, 2 lemons, 1 milk, 15.5ms\n",
      "image 166/1176 c:\\Users\\user\\Desktop\\FINAL\\final-project\\16\\data\\13\\test\\images\\17620583-piece-of-fat-pork-meat-in-full-focus-isolated-on-white-surface_jpg.rf.32911a88d3c918727ca4f47e6bb3ec01.jpg: 640x640 1 pork, 13.2ms\n",
      "image 167/1176 c:\\Users\\user\\Desktop\\FINAL\\final-project\\16\\data\\13\\test\\images\\17620587-piece-of-fat-pork-meat-in-full-focus-isolated-on-white-surface_jpg.rf.51bf187e83c4ed4367ce5db5b256a5e9.jpg: 640x640 1 pork, 15.7ms\n",
      "image 168/1176 c:\\Users\\user\\Desktop\\FINAL\\final-project\\16\\data\\13\\test\\images\\17_jpg.rf.a499582a9b7428ef4c4038eab82931d3.jpg: 640x640 12 red chilis, 17.5ms\n",
      "image 169/1176 c:\\Users\\user\\Desktop\\FINAL\\final-project\\16\\data\\13\\test\\images\\20220413_190508_jpg.rf.e99fe054548d9136ccb5ee7688315804.jpg: 640x640 1 tomato, 15.9ms\n",
      "image 170/1176 c:\\Users\\user\\Desktop\\FINAL\\final-project\\16\\data\\13\\test\\images\\20220413_190704_jpg.rf.20887cc00ff0c14bb360b229a3fd213a.jpg: 640x640 1 tomato, 17.0ms\n",
      "image 171/1176 c:\\Users\\user\\Desktop\\FINAL\\final-project\\16\\data\\13\\test\\images\\20220413_190737_jpg.rf.ee0290cebbb6429a6dfd1ea6183c5a17.jpg: 640x640 1 tomato, 15.7ms\n",
      "image 172/1176 c:\\Users\\user\\Desktop\\FINAL\\final-project\\16\\data\\13\\test\\images\\20220413_190758_jpg.rf.8e90a29d68baa66c7c6ca44e5923e1db.jpg: 640x640 1 tomato, 16.1ms\n",
      "image 173/1176 c:\\Users\\user\\Desktop\\FINAL\\final-project\\16\\data\\13\\test\\images\\20220413_190836_jpg.rf.a4f4d6045289ffbd4bd2092296c44e8d.jpg: 640x640 1 tomato, 14.9ms\n",
      "image 174/1176 c:\\Users\\user\\Desktop\\FINAL\\final-project\\16\\data\\13\\test\\images\\20220413_191552_jpg.rf.f7a5bf662a7e72e5d639f08f0c5fa3fa.jpg: 640x640 1 carrot, 14.8ms\n",
      "image 175/1176 c:\\Users\\user\\Desktop\\FINAL\\final-project\\16\\data\\13\\test\\images\\20220413_191556_jpg.rf.a57162336f64dd9c82f2148989720783.jpg: 640x640 1 carrot, 13.8ms\n",
      "image 176/1176 c:\\Users\\user\\Desktop\\FINAL\\final-project\\16\\data\\13\\test\\images\\20220413_191557_jpg.rf.1283cb91670cc21809163808672fc786.jpg: 640x640 1 carrot, 13.6ms\n",
      "image 177/1176 c:\\Users\\user\\Desktop\\FINAL\\final-project\\16\\data\\13\\test\\images\\20220413_191559_jpg.rf.ed28e6604e469c623cc52d8db7080473.jpg: 640x640 1 carrot, 11.1ms\n",
      "image 178/1176 c:\\Users\\user\\Desktop\\FINAL\\final-project\\16\\data\\13\\test\\images\\20220413_191644_jpg.rf.889a42263f78e40f8332104b838e1abe.jpg: 640x640 2 carrots, 12.0ms\n",
      "image 179/1176 c:\\Users\\user\\Desktop\\FINAL\\final-project\\16\\data\\13\\test\\images\\20220413_191657_jpg.rf.b269fccd4c2ba5d29ab21d3a05c7ee2b.jpg: 640x640 1 carrot, 17.1ms\n",
      "image 180/1176 c:\\Users\\user\\Desktop\\FINAL\\final-project\\16\\data\\13\\test\\images\\20220413_191742_jpg.rf.7e9322fe9148530e413f0d1fa5f24390.jpg: 640x640 1 carrot, 16.0ms\n",
      "image 181/1176 c:\\Users\\user\\Desktop\\FINAL\\final-project\\16\\data\\13\\test\\images\\20220413_192026_jpg.rf.17695bbe61d2da1ca00da7a135ec2d5a.jpg: 640x640 1 carrot, 5.3ms\n",
      "image 182/1176 c:\\Users\\user\\Desktop\\FINAL\\final-project\\16\\data\\13\\test\\images\\20220413_192123_jpg.rf.afeaf2effce7f448a5b23749aa21b310.jpg: 640x640 1 carrot, 19.2ms\n",
      "image 183/1176 c:\\Users\\user\\Desktop\\FINAL\\final-project\\16\\data\\13\\test\\images\\20220413_192149_jpg.rf.122d36be857bc947cd94fb1a98d8da58.jpg: 640x640 1 carrot, 13.3ms\n",
      "image 184/1176 c:\\Users\\user\\Desktop\\FINAL\\final-project\\16\\data\\13\\test\\images\\20220413_192156_jpg.rf.675762435b93db85b97cc45104c6096c.jpg: 640x640 1 carrot, 1 garlic, 19.0ms\n",
      "image 185/1176 c:\\Users\\user\\Desktop\\FINAL\\final-project\\16\\data\\13\\test\\images\\20221104_081504_jpg.rf.a21c64f8757197a2bd8fd31a82b44c4f.jpg: 640x640 1 chicken, 18.5ms\n",
      "image 186/1176 c:\\Users\\user\\Desktop\\FINAL\\final-project\\16\\data\\13\\test\\images\\20221104_082538_jpg.rf.4080d49180d8b69b7c6f6f0546556485.jpg: 640x640 1 chicken, 17.2ms\n",
      "image 187/1176 c:\\Users\\user\\Desktop\\FINAL\\final-project\\16\\data\\13\\test\\images\\20230531_192942_jpg.rf.08ed6fa0a44ac8da8a93586ce59e4334.jpg: 640x640 2 avocados, 1 cucumber, 1 pak_choi, 1 tomato, 15.9ms\n",
      "image 188/1176 c:\\Users\\user\\Desktop\\FINAL\\final-project\\16\\data\\13\\test\\images\\20230531_192942_jpg.rf.e5ec67905e72d125b1a2569e0707c229.jpg: 640x640 2 avocados, 1 cucumber, 1 pak_choi, 16.5ms\n",
      "image 189/1176 c:\\Users\\user\\Desktop\\FINAL\\final-project\\16\\data\\13\\test\\images\\20230531_193220_jpg.rf.44c136a2bb468b996a315a41b86158fe.jpg: 640x640 6 avocados, 1 grated_cheese, 1 sausage, 4 yogurts, 15.0ms\n",
      "image 190/1176 c:\\Users\\user\\Desktop\\FINAL\\final-project\\16\\data\\13\\test\\images\\20230531_193220_jpg.rf.871f990274911e3d2c4ad97d24d7926a.jpg: 640x640 3 avocados, 1 sausage, 1 yogurt, 14.7ms\n",
      "image 191/1176 c:\\Users\\user\\Desktop\\FINAL\\final-project\\16\\data\\13\\test\\images\\20230531_193220_jpg.rf.defbdeda254969f5ef8e4547857dea0e.jpg: 640x640 6 avocados, 1 sausage, 2 yogurts, 6.8ms\n",
      "image 192/1176 c:\\Users\\user\\Desktop\\FINAL\\final-project\\16\\data\\13\\test\\images\\20230531_194224_jpg.rf.2a35e2f15c40645851800d5e4039f7a9.jpg: 640x640 3 avocados, 1 grated_cheese, 1 milk, 1 tomato, 4 yogurts, 13.2ms\n",
      "image 193/1176 c:\\Users\\user\\Desktop\\FINAL\\final-project\\16\\data\\13\\test\\images\\20230531_194321_jpg.rf.fcf849f51868c96433757c4c01cd51ee.jpg: 640x640 1 avocado, 3 cucumbers, 2 grated_cheeses, 1 pak_choi, 3 tomatos, 3 yogurts, 13.6ms\n",
      "image 194/1176 c:\\Users\\user\\Desktop\\FINAL\\final-project\\16\\data\\13\\test\\images\\20230531_195059_jpg.rf.bc1374162b210b6b7897c398a6518843.jpg: 640x640 1 avocado, 2 cheeses, 1 marmelade, 1 milk, 2 yogurts, 13.8ms\n",
      "image 195/1176 c:\\Users\\user\\Desktop\\FINAL\\final-project\\16\\data\\13\\test\\images\\20230531_200549_jpg.rf.1afb9c10650a3f86d0b3852afff9f7bb.jpg: 640x640 3 avocados, 1 grated_cheese, 1 tomato, 14.7ms\n",
      "image 196/1176 c:\\Users\\user\\Desktop\\FINAL\\final-project\\16\\data\\13\\test\\images\\20230531_200549_jpg.rf.877538da2e76a68408e15e64938943ae.jpg: 640x640 4 avocados, 1 carrot, 1 grated_cheese, 9.0ms\n",
      "image 197/1176 c:\\Users\\user\\Desktop\\FINAL\\final-project\\16\\data\\13\\test\\images\\20230531_200549_jpg.rf.f8c9b4adfb455e523b25b6a619be52db.jpg: 640x640 5 avocados, 1 grated_cheese, 1 tomato, 17.5ms\n",
      "image 198/1176 c:\\Users\\user\\Desktop\\FINAL\\final-project\\16\\data\\13\\test\\images\\222_jpg.rf.2daf802d66f5a74a4d98b98c46f3566e.jpg: 640x640 1 rice, 13.6ms\n",
      "image 199/1176 c:\\Users\\user\\Desktop\\FINAL\\final-project\\16\\data\\13\\test\\images\\234_jpg.rf.59b441894d881d38fea2b1aea0e7435e.jpg: 640x640 1 rice, 19.4ms\n",
      "image 200/1176 c:\\Users\\user\\Desktop\\FINAL\\final-project\\16\\data\\13\\test\\images\\23_jpg.rf.3dd3cfd21f34a12bd3719c28557af0da.jpg: 640x640 2 porks, 20.3ms\n",
      "image 201/1176 c:\\Users\\user\\Desktop\\FINAL\\final-project\\16\\data\\13\\test\\images\\25299910-raw-meat_jpg.rf.465eb540c7e9c9e75f7639ba622d22c1.jpg: 640x640 7 porks, 7.1ms\n",
      "image 202/1176 c:\\Users\\user\\Desktop\\FINAL\\final-project\\16\\data\\13\\test\\images\\263_png.rf.8f7b422b3d4a5231705035117086f921.jpg: 640x640 3 onions, 13.7ms\n",
      "image 203/1176 c:\\Users\\user\\Desktop\\FINAL\\final-project\\16\\data\\13\\test\\images\\280_jpg.rf.40863defc1347c4dee9477b616eef93d.jpg: 640x640 4 garlics, 1 onion, 12.2ms\n",
      "image 204/1176 c:\\Users\\user\\Desktop\\FINAL\\final-project\\16\\data\\13\\test\\images\\282_jpg.rf.e6c4415a64f32385f88d9d60c5f76e1b.jpg: 640x640 3 carrots, 23.6ms\n",
      "image 205/1176 c:\\Users\\user\\Desktop\\FINAL\\final-project\\16\\data\\13\\test\\images\\284_jpg.rf.94c23d2c39446ae852d79f47189daa0b.jpg: 640x640 1 carrot, 16.5ms\n",
      "image 206/1176 c:\\Users\\user\\Desktop\\FINAL\\final-project\\16\\data\\13\\test\\images\\32_jpg.rf.455810eb8f42451e0862cfbf8b02055a.jpg: 640x640 1 chicken, 2 porks, 1 tofu, 20.1ms\n",
      "image 207/1176 c:\\Users\\user\\Desktop\\FINAL\\final-project\\16\\data\\13\\test\\images\\32_jpg.rf.8d15330062c77828f846ebc58be02802.jpg: 640x640 3 porks, 11.5ms\n",
      "image 208/1176 c:\\Users\\user\\Desktop\\FINAL\\final-project\\16\\data\\13\\test\\images\\34_jpg.rf.462a7ec8098677fbfd35e71faa842a09.jpg: 640x640 1 pork, 18.2ms\n",
      "image 209/1176 c:\\Users\\user\\Desktop\\FINAL\\final-project\\16\\data\\13\\test\\images\\360_F_104690300_ZnY16nrvlKq4g2ZxBt068YeHVvpwcX12_jpg.rf.1a293f3b4de89eb4d17458574e50cc3c.jpg: 640x640 1 egg, 15.5ms\n",
      "image 210/1176 c:\\Users\\user\\Desktop\\FINAL\\final-project\\16\\data\\13\\test\\images\\3_jpg.rf.892f29330dbc58386de5a1d0c6be7ddd.jpg: 640x640 4 chickens, 14.2ms\n",
      "image 211/1176 c:\\Users\\user\\Desktop\\FINAL\\final-project\\16\\data\\13\\test\\images\\406a7c0ca50292aa4cbaa9372a713c99_jpg.rf.48bdadf7eb5a84b6847fc42d1520bb77.jpg: 640x640 1 beef, 14.9ms\n",
      "image 212/1176 c:\\Users\\user\\Desktop\\FINAL\\final-project\\16\\data\\13\\test\\images\\40_jpg.rf.54b952307ef872a30fe240649e6684c0.jpg: 640x640 1 pork, 14.6ms\n",
      "image 213/1176 c:\\Users\\user\\Desktop\\FINAL\\final-project\\16\\data\\13\\test\\images\\44_jpg.rf.20774a637b7b38e529fd0c5c0e9ea3a4.jpg: 640x640 1 chicken, 16.4ms\n",
      "image 214/1176 c:\\Users\\user\\Desktop\\FINAL\\final-project\\16\\data\\13\\test\\images\\45-meat-png-image_jpg.rf.5269d1da9340d7685c585dd20971a921.jpg: 640x640 4 porks, 14.9ms\n",
      "image 215/1176 c:\\Users\\user\\Desktop\\FINAL\\final-project\\16\\data\\13\\test\\images\\45_jpg.rf.cc5698ae369c05069916f79b1171875e.jpg: 640x640 1 rice, 18.6ms\n",
      "image 216/1176 c:\\Users\\user\\Desktop\\FINAL\\final-project\\16\\data\\13\\test\\images\\49_jpg.rf.0a565374a1111c74b5328ef588e058e5.jpg: 640x640 (no detections), 12.7ms\n",
      "image 217/1176 c:\\Users\\user\\Desktop\\FINAL\\final-project\\16\\data\\13\\test\\images\\4_PNG.rf.2df78b8a41bbfbc78e5282a20278ba25.jpg: 640x640 2 chillis, 1 red chili, 14.6ms\n",
      "image 218/1176 c:\\Users\\user\\Desktop\\FINAL\\final-project\\16\\data\\13\\test\\images\\82-2-_jpg.rf.f264fb811c0e870f62115071a48cbb52.jpg: 640x640 1 rice, 20.5ms\n",
      "image 219/1176 c:\\Users\\user\\Desktop\\FINAL\\final-project\\16\\data\\13\\test\\images\\88_jpg.rf.6b0a1086d1e922ca11fad1ffcf307cea.jpg: 640x640 1 butter, 1 white rice, 12.5ms\n",
      "image 220/1176 c:\\Users\\user\\Desktop\\FINAL\\final-project\\16\\data\\13\\test\\images\\8_jpg.rf.dfe618f81060764b27c3de8432d1009e.jpg: 640x640 1 chicken, 11.8ms\n",
      "image 221/1176 c:\\Users\\user\\Desktop\\FINAL\\final-project\\16\\data\\13\\test\\images\\9_jpg.rf.bb3d627b113d7e2963101e500c936d48.jpg: 640x640 1 rice, 1 white rice, 15.1ms\n",
      "image 222/1176 c:\\Users\\user\\Desktop\\FINAL\\final-project\\16\\data\\13\\test\\images\\DSC_5680_JPG_jpg.rf.455f8f01a27e35d3ea1f2ae23129d5e5.jpg: 640x640 1 apple, 1 beef, 1 carrot, 1 cheese, 1 chicken, 1 corn, 1 flour, 1 mushrooms, 1 shrimp, 1 spinach, 2 sugars, 1 tomato, 14.7ms\n",
      "image 223/1176 c:\\Users\\user\\Desktop\\FINAL\\final-project\\16\\data\\13\\test\\images\\DSC_5680_JPG_jpg.rf.b0dceffe331c17eb45299bd9472670bc.jpg: 640x640 1 apple, 1 beef, 1 carrot, 1 cheese, 1 chicken, 1 corn, 1 flour, 1 mushrooms, 1 shrimp, 1 spinach, 2 sugars, 1 tomato, 20.9ms\n",
      "image 224/1176 c:\\Users\\user\\Desktop\\FINAL\\final-project\\16\\data\\13\\test\\images\\DSC_5681_JPG_jpg.rf.1aafe8d57bf4402e866bef63e168e341.jpg: 640x640 1 apple, 1 beef, 1 carrot, 1 cheese, 1 chicken, 1 corn, 1 flour, 1 mushrooms, 1 shrimp, 1 spinach, 2 sugars, 1 tomato, 21.0ms\n",
      "image 225/1176 c:\\Users\\user\\Desktop\\FINAL\\final-project\\16\\data\\13\\test\\images\\DSC_5681_JPG_jpg.rf.a4b29d5231c9ebfec6ac06000e3fb676.jpg: 640x640 1 apple, 1 beef, 1 carrot, 1 cheese, 1 chicken, 1 corn, 1 flour, 1 mushrooms, 1 shrimp, 1 spinach, 2 sugars, 1 tomato, 20.6ms\n",
      "image 226/1176 c:\\Users\\user\\Desktop\\FINAL\\final-project\\16\\data\\13\\test\\images\\DSC_5682_JPG_jpg.rf.8fff7aa0fc2617973ec93c587e34e50e.jpg: 640x640 1 apple, 1 beef, 1 butter, 1 carrot, 1 cheese, 1 chicken, 1 corn, 1 flour, 1 mushrooms, 1 shrimp, 1 spinach, 2 sugars, 1 tomato, 19.2ms\n",
      "image 227/1176 c:\\Users\\user\\Desktop\\FINAL\\final-project\\16\\data\\13\\test\\images\\DSC_5682_JPG_jpg.rf.c4c6db39de60a60cf5a660e300f54823.jpg: 640x640 1 apple, 1 beef, 1 butter, 1 carrot, 1 cheese, 1 chicken, 1 corn, 1 flour, 1 mushrooms, 1 shrimp, 1 spinach, 2 sugars, 1 tomato, 12.6ms\n",
      "image 228/1176 c:\\Users\\user\\Desktop\\FINAL\\final-project\\16\\data\\13\\test\\images\\DSC_5690_JPG_jpg.rf.469f4d7a5ad2060ef109a0579322cd04.jpg: 640x640 1 banana, 1 beef, 1 butter, 1 carrot, 1 corn, 1 flour, 1 milk, 1 mushrooms, 1 onion, 1 potato, 1 shrimp, 2 sugars, 1 sweet_potato, 1 tomato, 12.9ms\n",
      "image 229/1176 c:\\Users\\user\\Desktop\\FINAL\\final-project\\16\\data\\13\\test\\images\\DSC_5690_JPG_jpg.rf.4896aa028f4bd1cfa7355b9c4cb3122c.jpg: 640x640 1 banana, 1 beef, 1 butter, 1 carrot, 1 corn, 1 flour, 1 milk, 1 mushrooms, 1 onion, 1 potato, 1 shrimp, 2 sugars, 1 sweet_potato, 1 tomato, 13.7ms\n",
      "image 230/1176 c:\\Users\\user\\Desktop\\FINAL\\final-project\\16\\data\\13\\test\\images\\DSC_5691_JPG_jpg.rf.d4e9a50b0efd9b6457fd1de521399f0a.jpg: 640x640 1 banana, 1 beef, 1 butter, 1 carrot, 1 corn, 1 flour, 1 goat_cheese, 1 milk, 1 mushrooms, 1 onion, 2 potatos, 2 sugars, 1 sweet_potato, 1 tomato, 12.5ms\n",
      "image 231/1176 c:\\Users\\user\\Desktop\\FINAL\\final-project\\16\\data\\13\\test\\images\\DSC_5691_JPG_jpg.rf.fb7300a0fc94715fb5cbf731c8db689f.jpg: 640x640 1 banana, 1 beef, 1 butter, 1 carrot, 1 corn, 1 flour, 1 goat_cheese, 1 milk, 1 mushrooms, 1 onion, 2 potatos, 2 sugars, 1 sweet_potato, 1 tomato, 19.9ms\n",
      "image 232/1176 c:\\Users\\user\\Desktop\\FINAL\\final-project\\16\\data\\13\\test\\images\\DSC_5708_JPG_jpg.rf.6438dbe61070b729adf4ac58802e9770.jpg: 640x640 1 beef, 1 butter, 1 cheese, 2 flours, 1 heavy_cream, 1 milk, 1 potato, 1 shrimp, 1 strawberries, 1 sugar, 1 tomato, 14.9ms\n",
      "image 233/1176 c:\\Users\\user\\Desktop\\FINAL\\final-project\\16\\data\\13\\test\\images\\DSC_5708_JPG_jpg.rf.e253b3f321ccdb0865b98f2f55aba63e.jpg: 640x640 1 beef, 1 butter, 1 cheese, 2 flours, 1 heavy_cream, 1 milk, 1 potato, 1 shrimp, 1 strawberries, 1 sugar, 1 tomato, 17.4ms\n",
      "image 234/1176 c:\\Users\\user\\Desktop\\FINAL\\final-project\\16\\data\\13\\test\\images\\DSC_5710_JPG_jpg.rf.31c0431f986a6f395f861e024d243034.jpg: 640x640 1 apple, 1 beef, 1 butter, 1 carrot, 2 flours, 1 heavy_cream, 1 lime, 1 milk, 1 potato, 1 shrimp, 1 strawberries, 1 sugar, 1 tomato, 7.4ms\n",
      "image 235/1176 c:\\Users\\user\\Desktop\\FINAL\\final-project\\16\\data\\13\\test\\images\\DSC_5710_JPG_jpg.rf.aecb73be10f928f14feb59b158f3b6bf.jpg: 640x640 1 apple, 1 beef, 1 butter, 1 carrot, 2 flours, 1 heavy_cream, 1 lime, 1 milk, 1 potato, 1 shrimp, 1 strawberries, 1 sugar, 1 tomato, 17.8ms\n",
      "image 236/1176 c:\\Users\\user\\Desktop\\FINAL\\final-project\\16\\data\\13\\test\\images\\DSC_5711_JPG_jpg.rf.93b43550bfa0c0136939f6df7cf6aba8.jpg: 640x640 1 apple, 1 beef, 1 butter, 1 carrot, 2 flours, 1 heavy_cream, 1 lime, 1 milk, 1 potato, 1 shrimp, 1 strawberries, 1 sugar, 1 tomato, 16.5ms\n",
      "image 237/1176 c:\\Users\\user\\Desktop\\FINAL\\final-project\\16\\data\\13\\test\\images\\DSC_5711_JPG_jpg.rf.f8f54647e9d4af2cb90958cd8b2af63f.jpg: 640x640 1 apple, 1 beef, 1 butter, 1 carrot, 2 flours, 1 heavy_cream, 1 lime, 1 milk, 1 potato, 1 shrimp, 1 strawberries, 1 sugar, 1 tomato, 17.0ms\n",
      "image 238/1176 c:\\Users\\user\\Desktop\\FINAL\\final-project\\16\\data\\13\\test\\images\\DSC_5712_JPG_jpg.rf.0bd808ec00a46b8684cc9d4dd42f9cee.jpg: 640x640 1 apple, 1 beef, 1 butter, 1 carrot, 2 flours, 1 heavy_cream, 1 lime, 1 milk, 1 potato, 1 shrimp, 1 strawberries, 1 sugar, 1 tomato, 14.5ms\n",
      "image 239/1176 c:\\Users\\user\\Desktop\\FINAL\\final-project\\16\\data\\13\\test\\images\\DSC_5712_JPG_jpg.rf.60da6c9ac8e3cdc140810181a7aee3cc.jpg: 640x640 1 apple, 1 beef, 2 butters, 1 carrot, 2 flours, 1 heavy_cream, 1 lime, 1 milk, 1 potato, 1 shrimp, 1 strawberries, 1 sugar, 1 tomato, 16.5ms\n",
      "image 240/1176 c:\\Users\\user\\Desktop\\FINAL\\final-project\\16\\data\\13\\test\\images\\DSC_5712_JPG_jpg.rf.9b51bb4da460f05a67064bb8319a3ef2.jpg: 640x640 1 apple, 1 beef, 1 butter, 1 carrot, 2 flours, 1 heavy_cream, 1 lime, 1 milk, 1 potato, 1 shrimp, 1 strawberries, 1 sugar, 1 tomato, 15.4ms\n",
      "image 241/1176 c:\\Users\\user\\Desktop\\FINAL\\final-project\\16\\data\\13\\test\\images\\DSC_5712_JPG_jpg.rf.a597ca7175f117209350da7e431de689.jpg: 640x640 1 apple, 1 beef, 1 butter, 1 carrot, 2 flours, 1 heavy_cream, 1 lime, 1 milk, 1 potato, 1 shrimp, 1 strawberries, 1 sugar, 1 tomato, 23.2ms\n",
      "image 242/1176 c:\\Users\\user\\Desktop\\FINAL\\final-project\\16\\data\\13\\test\\images\\DSC_5716_JPG_jpg.rf.75fcb20308e6dae26b739815a6d4abd0.jpg: 640x640 1 blueberries, 1 cheese, 1 chicken, 1 corn, 2 flours, 1 heavy_cream, 1 milk, 1 mushrooms, 1 strawberries, 1 sugar, 2 sweet_potatos, 16.5ms\n",
      "image 243/1176 c:\\Users\\user\\Desktop\\FINAL\\final-project\\16\\data\\13\\test\\images\\DSC_5717_JPG_jpg.rf.2fad251cc4a91e7ca98d053e122b2ad0.jpg: 640x640 1 blueberries, 1 butter, 1 cheese, 1 chicken, 1 corn, 1 flour, 1 heavy_cream, 1 milk, 1 mushrooms, 1 strawberries, 1 sugar, 2 sweet_potatos, 17.8ms\n",
      "image 244/1176 c:\\Users\\user\\Desktop\\FINAL\\final-project\\16\\data\\13\\test\\images\\DSC_5717_JPG_jpg.rf.93083a736663f41594d90197650faafe.jpg: 640x640 1 blueberries, 1 butter, 1 cheese, 1 chicken, 2 corns, 1 flour, 1 ground_beef, 1 heavy_cream, 1 milk, 1 mushrooms, 1 strawberries, 1 sugar, 2 sweet_potatos, 24.2ms\n",
      "image 245/1176 c:\\Users\\user\\Desktop\\FINAL\\final-project\\16\\data\\13\\test\\images\\DSC_5719_JPG_jpg.rf.ec3a5960a049e54f48cec38497472b40.jpg: 640x640 1 cheese, 1 chicken, 1 corn, 1 flour, 1 green_beans, 1 heavy_cream, 1 milk, 1 potato, 1 shrimp, 1 sugar, 2 sweet_potatos, 16.7ms\n",
      "image 246/1176 c:\\Users\\user\\Desktop\\FINAL\\final-project\\16\\data\\13\\test\\images\\DSC_5720_JPG_jpg.rf.848416f849d1a18900c406554d8d1eff.jpg: 640x640 1 cheese, 1 chicken, 1 corn, 1 green_beans, 1 heavy_cream, 1 milk, 1 potato, 1 shrimp, 1 strawberries, 1 sugar, 2 sweet_potatos, 21.5ms\n",
      "image 247/1176 c:\\Users\\user\\Desktop\\FINAL\\final-project\\16\\data\\13\\test\\images\\DSC_5724_JPG_jpg.rf.b229018d5c06347481a6d6c0d2d2349b.jpg: 640x640 1 apple, 1 butter, 1 carrot, 1 cheese, 1 chicken, 1 flour, 1 ham, 1 milk, 1 potato, 1 spinach, 2 sugars, 2 sweet_potatos, 12.6ms\n",
      "image 248/1176 c:\\Users\\user\\Desktop\\FINAL\\final-project\\16\\data\\13\\test\\images\\DSC_5725_JPG_jpg.rf.0f071ad114e51a731f4bfc5ad568407b.jpg: 640x640 1 apple, 1 banana, 1 butter, 1 carrot, 1 cheese, 1 chicken, 1 flour, 1 ham, 1 milk, 1 potato, 1 sugar, 2 sweet_potatos, 12.3ms\n",
      "image 249/1176 c:\\Users\\user\\Desktop\\FINAL\\final-project\\16\\data\\13\\test\\images\\DSC_5725_JPG_jpg.rf.1a655cac1c6feaf4c3127e8e6c720b45.jpg: 640x640 1 apple, 1 banana, 1 beef, 1 butter, 1 carrot, 1 cheese, 1 chicken, 1 flour, 1 ham, 1 milk, 1 potato, 1 sugar, 2 sweet_potatos, 17.0ms\n",
      "image 250/1176 c:\\Users\\user\\Desktop\\FINAL\\final-project\\16\\data\\13\\test\\images\\DSC_5725_JPG_jpg.rf.2838a0153b708619c773ebc5fd5441be.jpg: 640x640 1 apple, 1 banana, 1 butter, 1 carrot, 1 cheese, 1 chicken, 1 flour, 1 ham, 2 milks, 1 potato, 1 sugar, 2 sweet_potatos, 1 tomato, 25.0ms\n",
      "image 251/1176 c:\\Users\\user\\Desktop\\FINAL\\final-project\\16\\data\\13\\test\\images\\DSC_5727_JPG_jpg.rf.a75fa69bb7d5a0cbda8a4b6977ae5063.jpg: 640x640 1 apple, 1 banana, 1 carrot, 1 cheese, 1 chicken, 1 flour, 2 milks, 1 potato, 1 strawberries, 2 sugars, 1 sweet_potato, 1 tomato, 17.6ms\n",
      "image 252/1176 c:\\Users\\user\\Desktop\\FINAL\\final-project\\16\\data\\13\\test\\images\\DSC_5728_JPG_jpg.rf.9b625d4a0ad9056cedc4d2294009973a.jpg: 640x640 1 apple, 1 banana, 1 carrot, 1 cheese, 1 chicken, 1 milk, 1 mushrooms, 1 potato, 1 strawberries, 1 sugar, 1 tomato, 14.2ms\n",
      "image 253/1176 c:\\Users\\user\\Desktop\\FINAL\\final-project\\16\\data\\13\\test\\images\\DSC_5728_JPG_jpg.rf.cc4e9f16c98cefa9874fd2c76b1cf34c.jpg: 640x640 1 apple, 1 banana, 1 carrot, 1 cheese, 1 chicken, 1 milk, 1 potato, 1 strawberries, 1 sugar, 1 sweet_potato, 1 tomato, 12.7ms\n",
      "image 254/1176 c:\\Users\\user\\Desktop\\FINAL\\final-project\\16\\data\\13\\test\\images\\DSC_5737_JPG_jpg.rf.404ae84f33085dddbaae71e75fd397c5.jpg: 640x640 1 beef, 1 blueberries, 1 cheese, 1 green_beans, 1 heavy_cream, 1 lime, 1 mushrooms, 1 onion, 1 potato, 1 spinach, 1 strawberries, 1 sweet_potato, 1 tomato, 10.6ms\n",
      "image 255/1176 c:\\Users\\user\\Desktop\\FINAL\\final-project\\16\\data\\13\\test\\images\\DSC_5737_JPG_jpg.rf.f23f82baeb0cb7e20d1ddce281498763.jpg: 640x640 1 beef, 1 blueberries, 1 cheese, 1 green_beans, 1 heavy_cream, 1 lime, 1 mushrooms, 1 onion, 1 potato, 1 spinach, 1 strawberries, 1 sweet_potato, 1 tomato, 16.1ms\n",
      "image 256/1176 c:\\Users\\user\\Desktop\\FINAL\\final-project\\16\\data\\13\\test\\images\\DSC_5741_JPG_jpg.rf.2ea2f9c27d0cbd55b045ca21ab4e63f8.jpg: 640x640 1 banana, 1 beef, 1 corn, 1 flour, 1 goat_cheese, 1 green_beans, 1 ground_beef, 1 mushrooms, 1 onion, 1 spinach, 1 strawberries, 1 sugar, 1 tomato, 13.2ms\n",
      "image 257/1176 c:\\Users\\user\\Desktop\\FINAL\\final-project\\16\\data\\13\\test\\images\\DSC_5741_JPG_jpg.rf.51d14a38f664b147a5fe745ae5c61a4e.jpg: 640x640 1 banana, 1 beef, 1 corn, 1 flour, 1 goat_cheese, 1 green_beans, 1 ground_beef, 1 mushrooms, 1 onion, 1 spinach, 1 strawberries, 1 sugar, 1 tomato, 13.3ms\n",
      "image 258/1176 c:\\Users\\user\\Desktop\\FINAL\\final-project\\16\\data\\13\\test\\images\\DSC_5749_JPG_jpg.rf.0aa7993edf43b56a3bda58736ef2c95a.jpg: 640x640 1 beef, 1 blueberries, 1 flour, 1 goat_cheese, 1 green_beans, 1 ham, 1 lime, 1 mushrooms, 1 onion, 1 spinach, 1 strawberries, 1 sugar, 23.0ms\n",
      "image 259/1176 c:\\Users\\user\\Desktop\\FINAL\\final-project\\16\\data\\13\\test\\images\\DSC_5749_JPG_jpg.rf.48f705b92b7c4281c5a31da733a0a88c.jpg: 640x640 1 beef, 1 blueberries, 1 flour, 1 goat_cheese, 1 green_beans, 1 ham, 1 lime, 1 mushrooms, 1 onion, 1 spinach, 1 strawberries, 1 sugar, 17.8ms\n",
      "image 260/1176 c:\\Users\\user\\Desktop\\FINAL\\final-project\\16\\data\\13\\test\\images\\DSC_5749_JPG_jpg.rf.e950421ca54d574949165ecb1af2b1fb.jpg: 640x640 1 beef, 1 blueberries, 1 flour, 1 goat_cheese, 1 green_beans, 1 ham, 1 lime, 1 mushrooms, 1 onion, 1 spinach, 1 strawberries, 1 sugar, 18.4ms\n",
      "image 261/1176 c:\\Users\\user\\Desktop\\FINAL\\final-project\\16\\data\\13\\test\\images\\DSC_5749_JPG_jpg.rf.eb3b41baecbdbe1e1225f25d7f9b2d85.jpg: 640x640 1 beef, 1 blueberries, 1 flour, 1 goat_cheese, 1 green_beans, 1 ham, 1 lime, 1 mushrooms, 1 onion, 1 spinach, 1 strawberries, 1 sugar, 13.5ms\n",
      "image 262/1176 c:\\Users\\user\\Desktop\\FINAL\\final-project\\16\\data\\13\\test\\images\\DSC_5765_JPG_jpg.rf.0d9b428959e51a78e8f3ef8199abfbde.jpg: 640x640 1 banana, 1 beef, 1 blueberries, 1 carrot, 2 flours, 1 green_beans, 1 ground_beef, 1 lime, 1 milk, 1 shrimp, 1 spinach, 1 tomato, 15.7ms\n",
      "image 263/1176 c:\\Users\\user\\Desktop\\FINAL\\final-project\\16\\data\\13\\test\\images\\DSC_5765_JPG_jpg.rf.350bf18d133a99d8156f3f639366a78a.jpg: 640x640 1 banana, 1 beef, 1 blueberries, 1 carrot, 2 flours, 1 green_beans, 1 ground_beef, 1 lime, 1 milk, 1 shrimp, 1 spinach, 1 tomato, 14.9ms\n",
      "image 264/1176 c:\\Users\\user\\Desktop\\FINAL\\final-project\\16\\data\\13\\test\\images\\DSC_5766_JPG_jpg.rf.1a82de00af73f028f4ddc3f98503f656.jpg: 640x640 1 beef, 1 carrot, 2 flours, 1 green_beans, 1 ground_beef, 1 lime, 1 milk, 1 mushrooms, 1 shrimp, 1 spinach, 1 strawberries, 1 tomato, 16.3ms\n",
      "image 265/1176 c:\\Users\\user\\Desktop\\FINAL\\final-project\\16\\data\\13\\test\\images\\DSC_5766_JPG_jpg.rf.2c254199e562d27e336b46218ebb250f.jpg: 640x640 1 beef, 1 carrot, 2 flours, 1 green_beans, 1 ground_beef, 1 lime, 1 milk, 1 mushrooms, 1 shrimp, 1 spinach, 1 strawberries, 1 tomato, 14.5ms\n",
      "image 266/1176 c:\\Users\\user\\Desktop\\FINAL\\final-project\\16\\data\\13\\test\\images\\DSC_5767_JPG_jpg.rf.9b5be0738b7b19ca1db3185c62eb8f4d.jpg: 640x640 1 banana, 1 beef, 1 carrot, 2 flours, 1 green_beans, 1 ground_beef, 1 lime, 1 milk, 1 spinach, 1 strawberries, 1 tomato, 22.6ms\n",
      "image 267/1176 c:\\Users\\user\\Desktop\\FINAL\\final-project\\16\\data\\13\\test\\images\\DSC_5767_JPG_jpg.rf.c695d8c2db43f4f22aa38c166a691b40.jpg: 640x640 1 banana, 1 beef, 1 carrot, 2 flours, 1 green_beans, 1 ground_beef, 1 lime, 1 milk, 1 spinach, 1 strawberries, 1 tomato, 8.4ms\n",
      "image 268/1176 c:\\Users\\user\\Desktop\\FINAL\\final-project\\16\\data\\13\\test\\images\\DSC_5771_JPG_jpg.rf.5aeca91c34db86c8b4b213ad5dadc3fa.jpg: 640x640 1 banana, 1 beef, 2 flours, 1 green_beans, 1 lime, 1 milk, 1 potato, 2 spinachs, 1 strawberries, 1 sugar, 1 tomato, 21.1ms\n",
      "image 269/1176 c:\\Users\\user\\Desktop\\FINAL\\final-project\\16\\data\\13\\test\\images\\DSC_5771_JPG_jpg.rf.9d48ff560225e8cecc1a040c42925d55.jpg: 640x640 1 banana, 1 beef, 2 flours, 1 green_beans, 1 lime, 1 milk, 1 potato, 2 spinachs, 1 strawberries, 1 sugar, 1 tomato, 16.3ms\n",
      "image 270/1176 c:\\Users\\user\\Desktop\\FINAL\\final-project\\16\\data\\13\\test\\images\\DSC_5771_JPG_jpg.rf.acbf4f50053cf10e3a206adc26bd835e.jpg: 640x640 1 banana, 1 beef, 2 flours, 1 green_beans, 1 lime, 1 milk, 1 potato, 1 spinach, 1 strawberries, 1 sugar, 1 tomato, 14.6ms\n",
      "image 271/1176 c:\\Users\\user\\Desktop\\FINAL\\final-project\\16\\data\\13\\test\\images\\DSC_5771_JPG_jpg.rf.f9487459347cc76d846df0ddb60fa099.jpg: 640x640 1 banana, 1 beef, 2 flours, 1 green_beans, 1 lime, 1 milk, 1 potato, 1 spinach, 1 strawberries, 1 sugar, 1 tomato, 14.8ms\n",
      "image 272/1176 c:\\Users\\user\\Desktop\\FINAL\\final-project\\16\\data\\13\\test\\images\\DSC_5773_JPG_jpg.rf.a24bed28a47ced5bcf86a63edca29d2c.jpg: 640x640 1 beef, 2 carrots, 1 corn, 1 flour, 1 lime, 2 milks, 1 potato, 1 shrimp, 1 spinach, 1 strawberries, 1 sugar, 1 tomato, 13.8ms\n",
      "image 273/1176 c:\\Users\\user\\Desktop\\FINAL\\final-project\\16\\data\\13\\test\\images\\DSC_5773_JPG_jpg.rf.a8b462b51404658ba011f44c6a33a05b.jpg: 640x640 1 beef, 1 carrot, 1 corn, 1 flour, 1 lime, 2 milks, 1 potato, 1 spinach, 1 strawberries, 1 sugar, 1 tomato, 16.4ms\n",
      "image 274/1176 c:\\Users\\user\\Desktop\\FINAL\\final-project\\16\\data\\13\\test\\images\\DSC_5773_JPG_jpg.rf.ab8045b3c1c9c2ed08ecf834024a649c.jpg: 640x640 1 beef, 1 carrot, 1 corn, 1 flour, 1 lime, 2 milks, 1 potato, 1 shrimp, 1 spinach, 1 strawberries, 1 sugar, 1 tomato, 13.5ms\n",
      "image 275/1176 c:\\Users\\user\\Desktop\\FINAL\\final-project\\16\\data\\13\\test\\images\\DSC_5773_JPG_jpg.rf.b5082c4c7cefdb61eae2029eb55508af.jpg: 640x640 1 beef, 1 carrot, 1 corn, 1 flour, 1 lime, 2 milks, 1 potato, 1 spinach, 1 strawberries, 1 sugar, 1 tomato, 16.1ms\n",
      "image 276/1176 c:\\Users\\user\\Desktop\\FINAL\\final-project\\16\\data\\13\\test\\images\\DSC_5777_JPG_jpg.rf.522af0d6d6ece137fe78beb26c82b087.jpg: 640x640 1 beef, 1 carrot, 1 chicken, 1 corn, 1 green_beans, 1 ground_beef, 2 milks, 1 potato, 1 shrimp, 1 strawberries, 14.0ms\n",
      "image 277/1176 c:\\Users\\user\\Desktop\\FINAL\\final-project\\16\\data\\13\\test\\images\\DSC_5777_JPG_jpg.rf.cf56a376adc1a5ad3a38304be53fe805.jpg: 640x640 1 beef, 1 carrot, 1 chicken, 1 corn, 1 green_beans, 1 ground_beef, 2 milks, 1 potato, 1 shrimp, 1 spinach, 1 strawberries, 19.2ms\n",
      "image 278/1176 c:\\Users\\user\\Desktop\\FINAL\\final-project\\16\\data\\13\\test\\images\\DSC_5779_JPG_jpg.rf.5a57cc411b4738b45375c416511b9d86.jpg: 640x640 1 beef, 1 chicken, 1 corn, 2 onions, 1 potato, 1 shrimp, 1 sweet_potato, 16.0ms\n",
      "image 279/1176 c:\\Users\\user\\Desktop\\FINAL\\final-project\\16\\data\\13\\test\\images\\DSC_5789_JPG_jpg.rf.6fb345a1ebabf2946fd85f840a725276.jpg: 640x640 1 banana, 1 butter, 2 carrots, 1 chicken, 1 corn, 1 flour, 1 goat_cheese, 1 green_beans, 1 heavy_cream, 2 milks, 1 onion, 1 spinach, 1 strawberries, 1 sugar, 1 sweet_potato, 1 tomato, 15.6ms\n",
      "image 280/1176 c:\\Users\\user\\Desktop\\FINAL\\final-project\\16\\data\\13\\test\\images\\DSC_5789_JPG_jpg.rf.74f647476acec4c792218c9f5fc810d4.jpg: 640x640 1 banana, 1 butter, 2 carrots, 1 chicken, 1 corn, 1 flour, 1 goat_cheese, 1 green_beans, 1 heavy_cream, 2 milks, 1 onion, 1 spinach, 1 strawberries, 1 sugar, 1 sweet_potato, 1 tomato, 12.9ms\n",
      "image 281/1176 c:\\Users\\user\\Desktop\\FINAL\\final-project\\16\\data\\13\\test\\images\\DSC_5791_JPG_jpg.rf.7a53f906ea4a38c5fdfa2a569e59eb41.jpg: 640x640 1 banana, 1 blueberries, 1 butter, 2 carrots, 1 chicken, 1 corn, 1 flour, 1 goat_cheese, 1 green_beans, 1 heavy_cream, 2 milks, 1 onion, 1 potato, 1 spinach, 1 strawberries, 2 sugars, 1 sweet_potato, 1 tomato, 11.6ms\n",
      "image 282/1176 c:\\Users\\user\\Desktop\\FINAL\\final-project\\16\\data\\13\\test\\images\\DSC_5791_JPG_jpg.rf.9de9819ce0c4349567ab97c6c9290b6f.jpg: 640x640 1 banana, 1 blueberries, 1 butter, 2 carrots, 1 chicken, 1 corn, 2 flours, 1 goat_cheese, 1 green_beans, 1 heavy_cream, 2 milks, 1 onion, 1 potato, 1 spinach, 1 strawberries, 2 sugars, 1 sweet_potato, 1 tomato, 15.9ms\n",
      "image 283/1176 c:\\Users\\user\\Desktop\\FINAL\\final-project\\16\\data\\13\\test\\images\\DSC_5794_JPG_jpg.rf.7c4b632ea4a8ab68c47b35d8400f5fec.jpg: 640x640 1 apple, 1 banana, 1 beef, 1 blueberries, 1 butter, 2 carrots, 1 chicken, 1 corn, 1 flour, 1 goat_cheese, 1 green_beans, 1 ground_beef, 1 heavy_cream, 1 lime, 2 milks, 1 onion, 1 spinach, 1 strawberries, 2 sugars, 3 sweet_potatos, 1 tomato, 13.7ms\n",
      "image 284/1176 c:\\Users\\user\\Desktop\\FINAL\\final-project\\16\\data\\13\\test\\images\\DSC_5794_JPG_jpg.rf.7f0c6eb1b5a8273a79f0c3ffed3bf871.jpg: 640x640 1 apple, 1 banana, 1 beef, 1 blueberries, 1 butter, 2 carrots, 1 chicken, 1 corn, 1 flour, 1 goat_cheese, 1 green_beans, 1 ground_beef, 1 heavy_cream, 1 lime, 2 milks, 1 onion, 1 spinach, 1 strawberries, 2 sugars, 2 sweet_potatos, 1 tomato, 13.4ms\n",
      "image 285/1176 c:\\Users\\user\\Desktop\\FINAL\\final-project\\16\\data\\13\\test\\images\\DSC_5795_JPG_jpg.rf.593cf1c17d9493e1537f23f3e96e3a90.jpg: 640x640 1 apple, 1 banana, 1 beef, 1 blueberries, 1 butter, 2 carrots, 1 chicken, 1 corn, 1 flour, 1 goat_cheese, 1 green_beans, 1 ground_beef, 1 ham, 1 heavy_cream, 1 lime, 2 milks, 1 onion, 1 potato, 1 spinach, 1 strawberries, 2 sugars, 1 sweet_potato, 1 tomato, 15.3ms\n",
      "image 286/1176 c:\\Users\\user\\Desktop\\FINAL\\final-project\\16\\data\\13\\test\\images\\DSC_5795_JPG_jpg.rf.c8c911e910fff19d02d26f0dfc0a005a.jpg: 640x640 1 apple, 1 banana, 1 beef, 1 blueberries, 1 butter, 2 carrots, 1 chicken, 1 corn, 1 flour, 1 goat_cheese, 1 green_beans, 1 ground_beef, 1 ham, 1 heavy_cream, 1 lime, 2 milks, 1 onion, 1 potato, 1 spinach, 1 strawberries, 2 sugars, 1 sweet_potato, 1 tomato, 20.2ms\n",
      "image 287/1176 c:\\Users\\user\\Desktop\\FINAL\\final-project\\16\\data\\13\\test\\images\\DSC_5796_JPG_jpg.rf.bc2639b7ebcc080a95dda673a6e58d5c.jpg: 640x640 1 apple, 1 banana, 1 beef, 1 blueberries, 1 butter, 2 carrots, 1 chicken, 1 corn, 1 flour, 1 goat_cheese, 1 green_beans, 1 heavy_cream, 1 lime, 2 milks, 1 mushrooms, 1 onion, 1 potato, 1 spinach, 1 strawberries, 2 sugars, 1 sweet_potato, 1 tomato, 14.0ms\n",
      "image 288/1176 c:\\Users\\user\\Desktop\\FINAL\\final-project\\16\\data\\13\\test\\images\\DSC_5797_JPG_jpg.rf.4b0bf469f5e94c4a301889feacf5954e.jpg: 640x640 1 apple, 1 banana, 1 beef, 1 blueberries, 1 butter, 2 carrots, 1 chicken, 1 corn, 1 flour, 1 goat_cheese, 1 green_beans, 2 ground_beefs, 1 heavy_cream, 1 lime, 2 milks, 1 mushrooms, 1 onion, 1 potato, 1 spinach, 1 strawberries, 2 sugars, 1 sweet_potato, 1 tomato, 22.0ms\n",
      "image 289/1176 c:\\Users\\user\\Desktop\\FINAL\\final-project\\16\\data\\13\\test\\images\\DSC_5798_JPG_jpg.rf.8c205abcfd81e7cd19c07802f8630e8f.jpg: 640x640 1 banana, 1 butter, 2 carrots, 1 cheese, 1 chicken, 1 corn, 1 flour, 1 goat_cheese, 1 green_beans, 2 ground_beefs, 1 heavy_cream, 1 lime, 2 milks, 1 mushrooms, 1 onion, 1 potato, 2 spinachs, 1 strawberries, 2 sugars, 1 sweet_potato, 1 tomato, 15.3ms\n",
      "image 290/1176 c:\\Users\\user\\Desktop\\FINAL\\final-project\\16\\data\\13\\test\\images\\DSC_5802_JPG_jpg.rf.af1268f8d721a3417b8652c43d13113a.jpg: 640x640 1 apple, 1 banana, 1 beef, 1 blueberries, 1 butter, 2 carrots, 1 cheese, 1 corn, 2 flours, 1 goat_cheese, 1 green_beans, 1 ham, 1 heavy_cream, 1 lime, 1 milk, 1 mushrooms, 1 onion, 1 potato, 1 shrimp, 1 spinach, 1 strawberries, 2 sugars, 1 sweet_potato, 1 tomato, 15.4ms\n",
      "image 291/1176 c:\\Users\\user\\Desktop\\FINAL\\final-project\\16\\data\\13\\test\\images\\DSC_5802_JPG_jpg.rf.b7028bcbca1069f8452ec7e57b18d36b.jpg: 640x640 1 apple, 1 banana, 1 beef, 1 blueberries, 1 butter, 2 carrots, 1 cheese, 1 corn, 2 flours, 1 goat_cheese, 1 green_beans, 1 ham, 1 heavy_cream, 1 lime, 1 milk, 1 mushrooms, 1 onion, 1 potato, 1 shrimp, 1 spinach, 1 strawberries, 2 sugars, 1 sweet_potato, 1 tomato, 18.0ms\n",
      "image 292/1176 c:\\Users\\user\\Desktop\\FINAL\\final-project\\16\\data\\13\\test\\images\\DSC_5805_JPG_jpg.rf.b35abbcd5befbb9bb10b94c24fae7ba1.jpg: 640x640 1 apple, 1 banana, 1 blueberries, 1 butter, 1 carrot, 1 cheese, 1 chicken, 1 flour, 1 goat_cheese, 2 milks, 1 mushrooms, 2 onions, 3 potatos, 1 spinach, 1 strawberries, 1 sugar, 1 tomato, 13.1ms\n",
      "image 293/1176 c:\\Users\\user\\Desktop\\FINAL\\final-project\\16\\data\\13\\test\\images\\DSC_5806_JPG_jpg.rf.a042be56e76f036dec4278fc785bfcef.jpg: 640x640 1 apple, 1 banana, 1 blueberries, 1 butter, 1 carrot, 1 cheese, 1 chicken, 1 flour, 1 goat_cheese, 1 green_beans, 2 milks, 1 mushrooms, 1 onion, 2 potatos, 1 spinach, 1 strawberries, 1 sugar, 1 tomato, 14.3ms\n",
      "image 294/1176 c:\\Users\\user\\Desktop\\FINAL\\final-project\\16\\data\\13\\test\\images\\DSC_5808_JPG_jpg.rf.7cacdde5cd30d92528898afb98944a63.jpg: 640x640 1 apple, 1 banana, 1 blueberries, 1 butter, 1 carrot, 1 chicken, 1 green_beans, 1 ham, 1 heavy_cream, 1 milk, 1 mushrooms, 1 onion, 1 shrimp, 2 spinachs, 1 sugar, 1 tomato, 13.4ms\n",
      "image 295/1176 c:\\Users\\user\\Desktop\\FINAL\\final-project\\16\\data\\13\\test\\images\\DSC_5810_JPG_jpg.rf.88f4765708deca54272a5c7c8b278808.jpg: 640x640 1 apple, 1 banana, 1 beef, 1 blueberries, 1 butter, 1 carrot, 1 cheese, 1 chicken, 1 green_beans, 1 ham, 1 heavy_cream, 2 milks, 1 mushrooms, 1 onion, 1 potato, 1 shrimp, 1 sweet_potato, 14.6ms\n",
      "image 296/1176 c:\\Users\\user\\Desktop\\FINAL\\final-project\\16\\data\\13\\test\\images\\DSC_5810_JPG_jpg.rf.8c32d5d9da9bf49373eb309774ff540f.jpg: 640x640 1 apple, 1 banana, 1 beef, 1 butter, 1 carrot, 1 cheese, 1 chicken, 1 green_beans, 1 ground_beef, 1 heavy_cream, 2 milks, 1 mushrooms, 1 onion, 1 potato, 1 shrimp, 14.0ms\n",
      "image 297/1176 c:\\Users\\user\\Desktop\\FINAL\\final-project\\16\\data\\13\\test\\images\\DSC_5811_JPG_jpg.rf.1cb3f285286a382ebfcac31b29315171.jpg: 640x640 1 apple, 1 banana, 1 blueberries, 1 carrot, 1 cheese, 1 chicken, 1 ham, 1 lime, 2 milks, 1 mushrooms, 1 onion, 2 spinachs, 1 sweet_potato, 15.1ms\n",
      "image 298/1176 c:\\Users\\user\\Desktop\\FINAL\\final-project\\16\\data\\13\\test\\images\\DSC_5815_JPG_jpg.rf.7c100cf24c912306402fb8b6ce9a17b2.jpg: 640x640 1 apple, 1 banana, 1 beef, 1 blueberries, 1 carrot, 1 chicken, 1 ground_beef, 1 lime, 1 mushrooms, 1 onion, 1 shrimp, 2 spinachs, 1 strawberries, 16.1ms\n",
      "image 299/1176 c:\\Users\\user\\Desktop\\FINAL\\final-project\\16\\data\\13\\test\\images\\DSC_5816_JPG_jpg.rf.1ebd77a68782e77d6446ead482996e3c.jpg: 640x640 2 apples, 1 blueberries, 1 butter, 1 carrot, 1 cheese, 1 chicken, 1 corn, 1 goat_cheese, 1 lime, 1 mushrooms, 1 onion, 1 shrimp, 1 spinach, 1 strawberries, 13.2ms\n",
      "image 300/1176 c:\\Users\\user\\Desktop\\FINAL\\final-project\\16\\data\\13\\test\\images\\DSC_5816_JPG_jpg.rf.a4918606aabaef107359bf403c81184c.jpg: 640x640 2 apples, 1 blueberries, 1 butter, 1 cheese, 1 chicken, 1 corn, 1 goat_cheese, 1 green_beans, 1 lime, 1 mushrooms, 1 onion, 1 shrimp, 2 spinachs, 2 strawberriess, 13.5ms\n",
      "image 301/1176 c:\\Users\\user\\Desktop\\FINAL\\final-project\\16\\data\\13\\test\\images\\DSC_5817_JPG_jpg.rf.7e280d32e007de51317bce89a9a86406.jpg: 640x640 1 apple, 1 blueberries, 1 butter, 1 cheese, 1 chicken, 1 corn, 1 goat_cheese, 1 lime, 1 onion, 1 shrimp, 1 spinach, 3 strawberriess, 1 tomato, 13.3ms\n",
      "image 302/1176 c:\\Users\\user\\Desktop\\FINAL\\final-project\\16\\data\\13\\test\\images\\DSC_5817_JPG_jpg.rf.b721513a73111762b8c21e435170c658.jpg: 640x640 2 apples, 1 blueberries, 1 butter, 1 cheese, 1 chicken, 1 corn, 1 goat_cheese, 1 lime, 1 onion, 1 shrimp, 2 strawberriess, 1 tomato, 20.5ms\n",
      "image 303/1176 c:\\Users\\user\\Desktop\\FINAL\\final-project\\16\\data\\13\\test\\images\\DSC_5818_JPG_jpg.rf.01c8b83023a561caef826ff59003aeb5.jpg: 640x640 2 apples, 1 blueberries, 1 butter, 1 cheese, 1 chicken, 1 corn, 1 goat_cheese, 1 lime, 1 onion, 1 potato, 1 shrimp, 1 strawberries, 1 tomato, 12.3ms\n",
      "image 304/1176 c:\\Users\\user\\Desktop\\FINAL\\final-project\\16\\data\\13\\test\\images\\DSC_5822_JPG_jpg.rf.d641e2f45e4033b99b5d37cae3b07ce5.jpg: 640x640 1 blueberries, 1 butter, 1 carrot, 1 cheese, 1 chicken, 1 corn, 1 goat_cheese, 1 lime, 1 onion, 1 shrimp, 1 sugar, 15.7ms\n",
      "image 305/1176 c:\\Users\\user\\Desktop\\FINAL\\final-project\\16\\data\\13\\test\\images\\DSC_5823_JPG_jpg.rf.1a69f9cff676d2ae79c896891837d8cd.jpg: 640x640 1 banana, 1 butter, 1 carrot, 1 cheese, 1 chicken, 1 corn, 1 goat_cheese, 1 lime, 1 onion, 1 shrimp, 1 strawberries, 1 sugar, 13.8ms\n",
      "image 306/1176 c:\\Users\\user\\Desktop\\FINAL\\final-project\\16\\data\\13\\test\\images\\DSC_5823_JPG_jpg.rf.639c7a6220b49da77ee094526cb05a85.jpg: 640x640 1 banana, 1 butter, 1 carrot, 1 cheese, 1 chicken, 1 corn, 1 goat_cheese, 1 lime, 1 onion, 1 shrimp, 1 strawberries, 1 sugar, 5.0ms\n",
      "image 307/1176 c:\\Users\\user\\Desktop\\FINAL\\final-project\\16\\data\\13\\test\\images\\DSC_5824_JPG_jpg.rf.055f3a69ba20729f2bab6bea0d4a9145.jpg: 640x640 1 banana, 1 blueberries, 1 butter, 1 carrot, 1 chicken, 1 corn, 1 heavy_cream, 1 lime, 1 onion, 1 shrimp, 1 strawberries, 1 sugar, 19.3ms\n",
      "image 308/1176 c:\\Users\\user\\Desktop\\FINAL\\final-project\\16\\data\\13\\test\\images\\DSC_5825_JPG_jpg.rf.896b4d287fd68808fa4ee556f487ee75.jpg: 640x640 1 blueberries, 1 butter, 1 carrot, 1 cheese, 1 chicken, 1 corn, 1 heavy_cream, 1 lime, 1 onion, 1 potato, 1 shrimp, 1 strawberries, 1 sugar, 1 sweet_potato, 17.4ms\n",
      "image 309/1176 c:\\Users\\user\\Desktop\\FINAL\\final-project\\16\\data\\13\\test\\images\\DSC_5828_JPG_jpg.rf.d1345367b2302799772b68ee53c2945b.jpg: 640x640 1 blueberries, 1 carrot, 1 cheese, 1 chicken, 1 green_beans, 1 ham, 1 lime, 1 potato, 1 strawberries, 1 sugar, 1 sweet_potato, 1 tomato, 18.5ms\n",
      "image 310/1176 c:\\Users\\user\\Desktop\\FINAL\\final-project\\16\\data\\13\\test\\images\\DSC_5828_JPG_jpg.rf.da7b8c156f9473f731a90e7e4af562f0.jpg: 640x640 1 blueberries, 1 carrot, 1 cheese, 1 chicken, 1 green_beans, 1 ham, 1 lime, 1 potato, 1 strawberries, 1 sugar, 1 sweet_potato, 1 tomato, 16.1ms\n",
      "image 311/1176 c:\\Users\\user\\Desktop\\FINAL\\final-project\\16\\data\\13\\test\\images\\DSC_5829_JPG_jpg.rf.2500d08af1c9c43b2827a5ce697cb09d.jpg: 640x640 1 blueberries, 1 carrot, 1 cheese, 1 chicken, 1 green_beans, 1 ham, 1 lime, 1 mushrooms, 1 strawberries, 1 sugar, 1 tomato, 19.3ms\n",
      "image 312/1176 c:\\Users\\user\\Desktop\\FINAL\\final-project\\16\\data\\13\\test\\images\\DSC_5829_JPG_jpg.rf.ab4f0c1a06f948bf527236825fdadfb3.jpg: 640x640 1 blueberries, 1 carrot, 1 cheese, 1 chicken, 1 green_beans, 1 ham, 1 lime, 1 mushrooms, 1 strawberries, 1 sugar, 1 tomato, 27.1ms\n",
      "image 313/1176 c:\\Users\\user\\Desktop\\FINAL\\final-project\\16\\data\\13\\test\\images\\DSC_5829_JPG_jpg.rf.d7be248e5d68a472c9e1e06246c5540b.jpg: 640x640 1 blueberries, 1 carrot, 1 cheese, 1 chicken, 1 green_beans, 1 ham, 1 lime, 1 mushrooms, 1 spinach, 1 strawberries, 1 sugar, 1 tomato, 36.9ms\n",
      "image 314/1176 c:\\Users\\user\\Desktop\\FINAL\\final-project\\16\\data\\13\\test\\images\\DSC_5829_JPG_jpg.rf.e64b50b88e45ea2b95112f5140dfab6d.jpg: 640x640 1 blueberries, 1 carrot, 1 cheese, 1 chicken, 1 green_beans, 1 ham, 1 lime, 1 mushrooms, 1 spinach, 1 strawberries, 1 sugar, 1 tomato, 14.9ms\n",
      "image 315/1176 c:\\Users\\user\\Desktop\\FINAL\\final-project\\16\\data\\13\\test\\images\\DSC_5831_JPG_jpg.rf.79aa38f06bdf9ee644c3a48fdca651a7.jpg: 640x640 1 apple, 1 blueberries, 1 butter, 1 cheese, 1 chicken, 1 green_beans, 1 ground_beef, 2 hams, 1 mushrooms, 1 strawberries, 1 sugar, 1 tomato, 16.6ms\n",
      "image 316/1176 c:\\Users\\user\\Desktop\\FINAL\\final-project\\16\\data\\13\\test\\images\\DSC_5831_JPG_jpg.rf.cca12dd6cc0e3ce85df1eebf321d3dbc.jpg: 640x640 1 apple, 1 blueberries, 1 butter, 1 cheese, 1 chicken, 1 green_beans, 1 ground_beef, 2 hams, 1 mushrooms, 1 strawberries, 1 sugar, 1 tomato, 17.9ms\n",
      "image 317/1176 c:\\Users\\user\\Desktop\\FINAL\\final-project\\16\\data\\13\\test\\images\\DSC_5833_JPG_jpg.rf.c9f957fd318f4b733c7681bb28f63e38.jpg: 640x640 1 apple, 1 blueberries, 1 cheese, 1 chicken, 1 green_beans, 1 ham, 1 lime, 2 milks, 1 strawberries, 1 sugar, 1 tomato, 23.6ms\n",
      "image 318/1176 c:\\Users\\user\\Desktop\\FINAL\\final-project\\16\\data\\13\\test\\images\\DSC_5834_JPG_jpg.rf.170ab10245061c5d614fd4cb11343fb4.jpg: 640x640 1 blueberries, 1 cheese, 1 chicken, 1 green_beans, 1 ham, 1 lime, 2 milks, 1 mushrooms, 1 spinach, 1 strawberries, 13.0ms\n",
      "image 319/1176 c:\\Users\\user\\Desktop\\FINAL\\final-project\\16\\data\\13\\test\\images\\DSC_5834_JPG_jpg.rf.8bc0b92792c2d744005ce1592dbc590b.jpg: 640x640 1 blueberries, 1 cheese, 1 chicken, 1 green_beans, 1 ham, 1 lime, 2 milks, 1 mushrooms, 1 spinach, 1 strawberries, 14.7ms\n",
      "image 320/1176 c:\\Users\\user\\Desktop\\FINAL\\final-project\\16\\data\\13\\test\\images\\DSC_5835_JPG_jpg.rf.b140b024c9eec56a801ecdb78320a90e.jpg: 640x640 1 blueberries, 1 butter, 1 chicken, 1 ground_beef, 1 lime, 2 milks, 1 mushrooms, 1 spinach, 1 strawberries, 1 sugar, 16.4ms\n",
      "image 321/1176 c:\\Users\\user\\Desktop\\FINAL\\final-project\\16\\data\\13\\test\\images\\DSC_5835_JPG_jpg.rf.d224a1b9861282f561b7870bdd54a5c2.jpg: 640x640 1 blueberries, 1 chicken, 1 ground_beef, 1 lime, 2 milks, 1 mushrooms, 1 spinach, 1 strawberries, 1 sugar, 15.1ms\n",
      "image 322/1176 c:\\Users\\user\\Desktop\\FINAL\\final-project\\16\\data\\13\\test\\images\\DSC_5839_JPG_jpg.rf.007197e188cd3dc2d7ee7e8c709d473f.jpg: 640x640 1 beef, 1 blueberries, 1 cheese, 1 chicken, 1 green_beans, 1 ground_beef, 1 ham, 1 heavy_cream, 1 lime, 1 mushrooms, 2 spinachs, 1 strawberries, 12.3ms\n",
      "image 323/1176 c:\\Users\\user\\Desktop\\FINAL\\final-project\\16\\data\\13\\test\\images\\DSC_5839_JPG_jpg.rf.397e7352e9a514b673b7d7cb876fcaae.jpg: 640x640 1 beef, 1 blueberries, 1 chicken, 1 green_beans, 1 ground_beef, 1 ham, 1 heavy_cream, 1 lime, 1 mushrooms, 1 spinach, 1 strawberries, 12.7ms\n",
      "image 324/1176 c:\\Users\\user\\Desktop\\FINAL\\final-project\\16\\data\\13\\test\\images\\DSC_5839_JPG_jpg.rf.3c01d1e2284c7372a22e8c3106e99182.jpg: 640x640 1 beef, 1 blueberries, 1 cheese, 1 chicken, 1 green_beans, 1 ground_beef, 1 ham, 1 heavy_cream, 1 lime, 1 mushrooms, 2 spinachs, 1 strawberries, 14.3ms\n",
      "image 325/1176 c:\\Users\\user\\Desktop\\FINAL\\final-project\\16\\data\\13\\test\\images\\DSC_5839_JPG_jpg.rf.f33cdb2b66ca6dc406a5265c0b430a10.jpg: 640x640 1 beef, 1 blueberries, 1 chicken, 1 green_beans, 1 ground_beef, 1 ham, 1 heavy_cream, 1 lime, 1 mushrooms, 1 spinach, 1 strawberries, 13.4ms\n",
      "image 326/1176 c:\\Users\\user\\Desktop\\FINAL\\final-project\\16\\data\\13\\test\\images\\DSC_5840_JPG_jpg.rf.2118b8e189970b56f4f278822a47b205.jpg: 640x640 1 banana, 1 beef, 1 blueberries, 1 chicken, 1 ground_beef, 1 ham, 1 heavy_cream, 1 lime, 1 mushrooms, 1 strawberries, 12.9ms\n",
      "image 327/1176 c:\\Users\\user\\Desktop\\FINAL\\final-project\\16\\data\\13\\test\\images\\DSC_5840_JPG_jpg.rf.63a0513ec7e79e1655e7bb8fec23ed85.jpg: 640x640 1 banana, 1 beef, 1 blueberries, 1 cheese, 1 chicken, 1 ground_beef, 1 ham, 1 heavy_cream, 1 lime, 1 mushrooms, 1 strawberries, 16.7ms\n",
      "image 328/1176 c:\\Users\\user\\Desktop\\FINAL\\final-project\\16\\data\\13\\test\\images\\DSC_5841_JPG_jpg.rf.00ef5e76d560a3689d5d597a733998e4.jpg: 640x640 1 banana, 1 beef, 1 blueberries, 1 chicken, 1 green_beans, 1 ground_beef, 1 ham, 1 heavy_cream, 1 lime, 1 spinach, 1 strawberries, 1 sugar, 13.7ms\n",
      "image 329/1176 c:\\Users\\user\\Desktop\\FINAL\\final-project\\16\\data\\13\\test\\images\\DSC_5841_JPG_jpg.rf.13e99865159049e5b6d96149043dd08e.jpg: 640x640 1 banana, 1 beef, 1 blueberries, 1 chicken, 1 green_beans, 1 ground_beef, 1 ham, 1 heavy_cream, 1 lime, 1 spinach, 1 strawberries, 1 sugar, 16.0ms\n",
      "image 330/1176 c:\\Users\\user\\Desktop\\FINAL\\final-project\\16\\data\\13\\test\\images\\DSC_5841_JPG_jpg.rf.424722b1690ffee2df5042a5f6a2f99c.jpg: 640x640 1 banana, 1 beef, 1 blueberries, 1 chicken, 1 green_beans, 1 ground_beef, 1 ham, 1 heavy_cream, 1 lime, 1 spinach, 1 strawberries, 1 sugar, 15.4ms\n",
      "image 331/1176 c:\\Users\\user\\Desktop\\FINAL\\final-project\\16\\data\\13\\test\\images\\DSC_5841_JPG_jpg.rf.889bee1c0d6b602f9739d82c9db279fb.jpg: 640x640 1 banana, 1 beef, 1 blueberries, 1 chicken, 1 green_beans, 1 ground_beef, 1 ham, 1 heavy_cream, 1 lime, 1 spinach, 1 strawberries, 1 sugar, 18.3ms\n",
      "image 332/1176 c:\\Users\\user\\Desktop\\FINAL\\final-project\\16\\data\\13\\test\\images\\DSC_5842_JPG_jpg.rf.aa8f5d357064ffccc07904bf25e8c7e6.jpg: 640x640 1 apple, 1 banana, 1 beef, 1 chicken, 1 green_beans, 1 ground_beef, 1 ham, 1 heavy_cream, 1 lime, 1 spinach, 1 strawberries, 1 sugar, 16.1ms\n",
      "image 333/1176 c:\\Users\\user\\Desktop\\FINAL\\final-project\\16\\data\\13\\test\\images\\DSC_5842_JPG_jpg.rf.b0ef59817c1a5afd43d16a609299c5c5.jpg: 640x640 1 apple, 1 banana, 1 beef, 1 chicken, 1 green_beans, 1 ground_beef, 1 ham, 1 heavy_cream, 1 lime, 1 spinach, 1 strawberries, 1 sugar, 13.8ms\n",
      "image 334/1176 c:\\Users\\user\\Desktop\\FINAL\\final-project\\16\\data\\13\\test\\images\\DSC_5843_JPG_jpg.rf.a3809bbd037cd7feb7a116f6e9e74541.jpg: 640x640 1 apple, 1 beef, 1 blueberries, 1 chicken, 1 ground_beef, 1 ham, 1 heavy_cream, 1 lime, 1 shrimp, 1 spinach, 1 strawberries, 1 sugar, 19.3ms\n",
      "image 335/1176 c:\\Users\\user\\Desktop\\FINAL\\final-project\\16\\data\\13\\test\\images\\DSC_5843_JPG_jpg.rf.bf76c23761166871d5ec08fce9d0b529.jpg: 640x640 1 apple, 1 beef, 1 blueberries, 1 chicken, 1 ground_beef, 1 ham, 1 heavy_cream, 1 lime, 1 shrimp, 1 spinach, 1 strawberries, 1 sugar, 19.3ms\n",
      "image 336/1176 c:\\Users\\user\\Desktop\\FINAL\\final-project\\16\\data\\13\\test\\images\\DSC_5846_JPG_jpg.rf.0ef3531abfdbe920ee6304da76742c6b.jpg: 640x640 1 apple, 1 banana, 1 butter, 1 cheese, 1 chicken, 1 goat_cheese, 1 heavy_cream, 1 lime, 1 shrimp, 2 spinachs, 1 strawberries, 1 tomato, 18.3ms\n",
      "image 337/1176 c:\\Users\\user\\Desktop\\FINAL\\final-project\\16\\data\\13\\test\\images\\DSC_5848_JPG_jpg.rf.c182a9a504e29f2b1d22967bd574a53f.jpg: 640x640 1 apple, 1 banana, 1 butter, 1 cheese, 1 chicken, 1 goat_cheese, 1 heavy_cream, 1 lime, 1 onion, 1 potato, 1 shrimp, 1 spinach, 1 strawberries, 1 tomato, 7.1ms\n",
      "image 338/1176 c:\\Users\\user\\Desktop\\FINAL\\final-project\\16\\data\\13\\test\\images\\DSC_5850_JPG_jpg.rf.0d46c207d257d1b8acdabdd46ef85d49.jpg: 640x640 1 banana, 1 butter, 1 carrot, 1 cheese, 1 chicken, 1 corn, 1 goat_cheese, 1 ground_beef, 1 ham, 1 heavy_cream, 1 lime, 1 onion, 1 potato, 1 shrimp, 1 spinach, 1 sugar, 1 tomato, 17.7ms\n",
      "image 339/1176 c:\\Users\\user\\Desktop\\FINAL\\final-project\\16\\data\\13\\test\\images\\DSC_5852_JPG_jpg.rf.51919e7c7eaf10ae5e04e0bf9d6abe57.jpg: 640x640 1 banana, 1 carrot, 1 cheese, 1 chicken, 1 corn, 1 goat_cheese, 1 green_beans, 1 ham, 1 heavy_cream, 2 limes, 1 onion, 1 potato, 1 shrimp, 1 spinach, 1 strawberries, 1 sugar, 1 sweet_potato, 1 tomato, 13.9ms\n",
      "image 340/1176 c:\\Users\\user\\Desktop\\FINAL\\final-project\\16\\data\\13\\test\\images\\DSC_5852_JPG_jpg.rf.ea8d45221dcc92b9221505b8163d5d71.jpg: 640x640 1 banana, 1 carrot, 1 cheese, 1 chicken, 1 corn, 1 goat_cheese, 1 green_beans, 1 ham, 1 heavy_cream, 2 limes, 1 onion, 1 potato, 1 shrimp, 1 spinach, 1 strawberries, 1 sugar, 1 sweet_potato, 1 tomato, 14.8ms\n",
      "image 341/1176 c:\\Users\\user\\Desktop\\FINAL\\final-project\\16\\data\\13\\test\\images\\DSC_5854_JPG_jpg.rf.e28fcc31196455a1b19700251dc94785.jpg: 640x640 1 banana, 1 butter, 1 cheese, 1 chicken, 1 corn, 1 goat_cheese, 1 green_beans, 1 ham, 1 heavy_cream, 1 lime, 1 onion, 1 potato, 2 shrimps, 1 strawberries, 1 sugar, 1 sweet_potato, 1 tomato, 13.6ms\n",
      "image 342/1176 c:\\Users\\user\\Desktop\\FINAL\\final-project\\16\\data\\13\\test\\images\\DSC_5854_JPG_jpg.rf.eb2113666c03f3bc7a6ca5e41c5f8c6d.jpg: 640x640 1 banana, 1 butter, 1 cheese, 1 chicken, 1 corn, 1 goat_cheese, 1 green_beans, 1 ham, 1 heavy_cream, 1 lime, 1 onion, 1 potato, 2 shrimps, 1 strawberries, 1 sugar, 1 sweet_potato, 1 tomato, 20.6ms\n",
      "image 343/1176 c:\\Users\\user\\Desktop\\FINAL\\final-project\\16\\data\\13\\test\\images\\DSC_5856_JPG_jpg.rf.57f23636d72dd75095f1f928a39d31d1.jpg: 640x640 1 banana, 1 beef, 1 butter, 1 carrot, 1 cheese, 1 chicken, 1 corn, 1 goat_cheese, 1 green_beans, 1 heavy_cream, 1 lime, 1 onion, 1 potato, 1 strawberries, 1 tomato, 16.2ms\n",
      "image 344/1176 c:\\Users\\user\\Desktop\\FINAL\\final-project\\16\\data\\13\\test\\images\\DSC_5856_JPG_jpg.rf.ab05cf1ee4553470ab17f05cb317d4be.jpg: 640x640 1 banana, 1 beef, 1 butter, 1 carrot, 1 cheese, 1 chicken, 1 corn, 1 goat_cheese, 1 green_beans, 1 heavy_cream, 1 lime, 1 onion, 1 potato, 1 strawberries, 1 tomato, 14.5ms\n",
      "image 345/1176 c:\\Users\\user\\Desktop\\FINAL\\final-project\\16\\data\\13\\test\\images\\DSC_5858_JPG_jpg.rf.1a74a0ada3fefbac730e69b4e484031f.jpg: 640x640 1 banana, 1 beef, 1 butter, 1 carrot, 1 cheese, 1 chicken, 1 corn, 1 goat_cheese, 1 green_beans, 1 ham, 1 heavy_cream, 1 lime, 1 spinach, 1 strawberries, 1 sweet_potato, 1 tomato, 18.8ms\n",
      "image 346/1176 c:\\Users\\user\\Desktop\\FINAL\\final-project\\16\\data\\13\\test\\images\\DSC_5858_JPG_jpg.rf.442a29cd8fe4b1e50c56ce03d578c97a.jpg: 640x640 1 banana, 1 beef, 1 butter, 1 carrot, 1 cheese, 1 chicken, 1 corn, 1 goat_cheese, 1 green_beans, 1 ham, 1 heavy_cream, 1 lime, 1 spinach, 1 strawberries, 1 sweet_potato, 1 tomato, 13.9ms\n",
      "image 347/1176 c:\\Users\\user\\Desktop\\FINAL\\final-project\\16\\data\\13\\test\\images\\DSC_5861_JPG_jpg.rf.0720ea2637866ff69da8457a1fe96b72.jpg: 640x640 1 blueberries, 1 butter, 1 carrot, 1 cheese, 1 chicken, 1 goat_cheese, 1 green_beans, 1 ham, 1 heavy_cream, 1 lime, 1 mushrooms, 1 spinach, 1 strawberries, 1 sweet_potato, 1 tomato, 13.3ms\n",
      "image 348/1176 c:\\Users\\user\\Desktop\\FINAL\\final-project\\16\\data\\13\\test\\images\\DSC_5861_JPG_jpg.rf.82f39eb3932d7c2fb1338d5c0649d402.jpg: 640x640 1 blueberries, 1 butter, 1 carrot, 1 cheese, 1 chicken, 1 goat_cheese, 1 green_beans, 1 ham, 1 heavy_cream, 1 lime, 1 mushrooms, 1 spinach, 1 strawberries, 1 sweet_potato, 1 tomato, 13.0ms\n",
      "image 349/1176 c:\\Users\\user\\Desktop\\FINAL\\final-project\\16\\data\\13\\test\\images\\DSC_5864_JPG_jpg.rf.2d75780b45a4f7119ea8137f0bd3bdae.jpg: 640x640 1 butter, 1 carrot, 1 cheese, 1 chicken, 1 goat_cheese, 1 ground_beef, 1 ham, 1 heavy_cream, 1 lime, 1 potato, 1 strawberries, 1 sweet_potato, 1 tomato, 13.1ms\n",
      "image 350/1176 c:\\Users\\user\\Desktop\\FINAL\\final-project\\16\\data\\13\\test\\images\\DSC_5864_JPG_jpg.rf.371d44999958a2bca85fd6b8d4e5cac0.jpg: 640x640 1 butter, 1 carrot, 1 cheese, 1 chicken, 1 goat_cheese, 1 ground_beef, 1 ham, 1 heavy_cream, 1 lime, 1 potato, 1 strawberries, 1 sweet_potato, 1 tomato, 14.9ms\n",
      "image 351/1176 c:\\Users\\user\\Desktop\\FINAL\\final-project\\16\\data\\13\\test\\images\\DSC_5865_JPG_jpg.rf.ab32123fc06597a58dfa5fe98dc49f8c.jpg: 640x640 1 banana, 1 butter, 1 carrot, 1 cheese, 1 chicken, 1 corn, 1 goat_cheese, 1 ham, 1 heavy_cream, 1 lime, 1 potato, 1 strawberries, 1 sweet_potato, 1 tomato, 19.7ms\n",
      "image 352/1176 c:\\Users\\user\\Desktop\\FINAL\\final-project\\16\\data\\13\\test\\images\\DSC_5865_JPG_jpg.rf.e0afeda7ada98638c4e125b89d0dd7c6.jpg: 640x640 1 banana, 1 butter, 1 carrot, 1 cheese, 1 chicken, 1 corn, 1 goat_cheese, 1 ham, 1 heavy_cream, 1 lime, 1 potato, 1 strawberries, 1 sweet_potato, 1 tomato, 13.3ms\n",
      "image 353/1176 c:\\Users\\user\\Desktop\\FINAL\\final-project\\16\\data\\13\\test\\images\\DSC_5867_JPG_jpg.rf.05d8f35bf4ba742fd5a4a461f46a5ca4.jpg: 640x640 1 banana, 1 blueberries, 1 carrot, 1 cheese, 1 chicken, 1 corn, 1 flour, 1 goat_cheese, 1 ham, 1 lime, 1 spinach, 1 tomato, 17.2ms\n",
      "image 354/1176 c:\\Users\\user\\Desktop\\FINAL\\final-project\\16\\data\\13\\test\\images\\DSC_5867_JPG_jpg.rf.8439aba4e3e76b83afeac2f32b1f4951.jpg: 640x640 1 banana, 1 blueberries, 1 carrot, 1 cheese, 1 chicken, 1 corn, 1 flour, 1 goat_cheese, 1 ham, 1 lime, 1 shrimp, 1 spinach, 1 tomato, 16.4ms\n",
      "image 355/1176 c:\\Users\\user\\Desktop\\FINAL\\final-project\\16\\data\\13\\test\\images\\DSC_5868_JPG_jpg.rf.3f7bcb6468a16520d9c5453e350fe940.jpg: 640x640 1 banana, 1 blueberries, 1 carrot, 1 cheese, 1 chicken, 1 corn, 1 flour, 1 goat_cheese, 1 ham, 1 lime, 1 spinach, 1 tomato, 13.6ms\n",
      "image 356/1176 c:\\Users\\user\\Desktop\\FINAL\\final-project\\16\\data\\13\\test\\images\\DSC_5868_JPG_jpg.rf.8067a4c30dc4cb115f8bbad143d91b82.jpg: 640x640 1 banana, 1 blueberries, 1 carrot, 1 cheese, 1 chicken, 1 corn, 1 flour, 1 goat_cheese, 1 ham, 1 lime, 1 spinach, 1 tomato, 16.0ms\n",
      "image 357/1176 c:\\Users\\user\\Desktop\\FINAL\\final-project\\16\\data\\13\\test\\images\\DSC_5869_JPG_jpg.rf.4ac0482d48810db049a4eaf7e6b2c35a.jpg: 640x640 1 banana, 1 blueberries, 1 carrot, 1 cheese, 1 chicken, 1 corn, 1 flour, 1 ham, 1 heavy_cream, 1 spinach, 1 tomato, 17.2ms\n",
      "image 358/1176 c:\\Users\\user\\Desktop\\FINAL\\final-project\\16\\data\\13\\test\\images\\DSC_5869_JPG_jpg.rf.4c58b8c0c52bb9e32dedab5be35bbf53.jpg: 640x640 1 banana, 1 blueberries, 1 carrot, 1 cheese, 1 chicken, 1 corn, 1 flour, 1 ham, 1 heavy_cream, 1 spinach, 1 tomato, 14.6ms\n",
      "image 359/1176 c:\\Users\\user\\Desktop\\FINAL\\final-project\\16\\data\\13\\test\\images\\DSC_5869_JPG_jpg.rf.87bde4ac74e3902ada252896d08c4757.jpg: 640x640 1 banana, 1 blueberries, 1 carrot, 1 cheese, 1 chicken, 1 corn, 1 flour, 1 ham, 1 heavy_cream, 1 spinach, 1 tomato, 21.4ms\n",
      "image 360/1176 c:\\Users\\user\\Desktop\\FINAL\\final-project\\16\\data\\13\\test\\images\\DSC_5869_JPG_jpg.rf.c5de57b25609bbb4b5420be8be57355d.jpg: 640x640 1 banana, 1 blueberries, 1 carrot, 1 cheese, 1 chicken, 1 corn, 1 flour, 1 ham, 1 heavy_cream, 1 spinach, 1 tomato, 14.5ms\n",
      "image 361/1176 c:\\Users\\user\\Desktop\\FINAL\\final-project\\16\\data\\13\\test\\images\\DSC_5871_JPG_jpg.rf.8b01396297ec60007f416a4d34b74d11.jpg: 640x640 1 banana, 1 blueberries, 1 butter, 1 carrot, 1 cheese, 1 chicken, 1 corn, 1 flour, 1 goat_cheese, 1 ham, 1 heavy_cream, 1 potato, 1 tomato, 10.5ms\n",
      "image 362/1176 c:\\Users\\user\\Desktop\\FINAL\\final-project\\16\\data\\13\\test\\images\\DSC_5871_JPG_jpg.rf.9efc2ad016158ec399c2532ab722c6a8.jpg: 640x640 1 banana, 1 blueberries, 1 butter, 1 carrot, 1 cheese, 1 chicken, 1 corn, 1 goat_cheese, 1 ham, 1 heavy_cream, 1 potato, 1 tomato, 12.5ms\n",
      "image 363/1176 c:\\Users\\user\\Desktop\\FINAL\\final-project\\16\\data\\13\\test\\images\\DSC_5871_JPG_jpg.rf.cdc131150c4a860f9f65ed30c5c39fc2.jpg: 640x640 1 banana, 1 blueberries, 1 butter, 1 carrot, 1 cheese, 1 chicken, 1 corn, 1 flour, 1 goat_cheese, 1 ham, 1 heavy_cream, 1 potato, 1 tomato, 12.7ms\n",
      "image 364/1176 c:\\Users\\user\\Desktop\\FINAL\\final-project\\16\\data\\13\\test\\images\\DSC_5871_JPG_jpg.rf.eaca1ad51e09b4a1c22cd83664c7717a.jpg: 640x640 1 banana, 1 blueberries, 1 butter, 1 carrot, 1 cheese, 1 chicken, 1 corn, 1 flour, 1 goat_cheese, 1 ham, 1 heavy_cream, 1 potato, 1 tomato, 23.0ms\n",
      "image 365/1176 c:\\Users\\user\\Desktop\\FINAL\\final-project\\16\\data\\13\\test\\images\\DSC_5874_JPG_jpg.rf.53890dbbc9c328c17622e6ac7103394c.jpg: 640x640 1 banana, 1 blueberries, 1 butter, 1 carrot, 1 cheese, 1 chicken, 1 corn, 1 flour, 1 goat_cheese, 1 ham, 1 heavy_cream, 1 potato, 1 sweet_potato, 1 tomato, 15.8ms\n",
      "image 366/1176 c:\\Users\\user\\Desktop\\FINAL\\final-project\\16\\data\\13\\test\\images\\DSC_5874_JPG_jpg.rf.654e5125a0c9d22a1881a72f07469ea7.jpg: 640x640 1 banana, 1 blueberries, 1 butter, 1 carrot, 1 cheese, 1 chicken, 1 corn, 1 flour, 1 goat_cheese, 1 ham, 1 heavy_cream, 1 potato, 1 sweet_potato, 1 tomato, 19.2ms\n",
      "image 367/1176 c:\\Users\\user\\Desktop\\FINAL\\final-project\\16\\data\\13\\test\\images\\DSC_5875_JPG_jpg.rf.835de116353449200f17edf4d653ec81.jpg: 640x640 1 banana, 1 beef, 1 blueberries, 1 butter, 1 carrot, 1 cheese, 1 chicken, 1 corn, 1 flour, 1 ham, 1 heavy_cream, 1 strawberries, 2 sweet_potatos, 1 tomato, 14.7ms\n",
      "image 368/1176 c:\\Users\\user\\Desktop\\FINAL\\final-project\\16\\data\\13\\test\\images\\DSC_5875_JPG_jpg.rf.95982216337c4db71f7d81aa030d9cba.jpg: 640x640 1 banana, 1 beef, 1 blueberries, 1 butter, 1 carrot, 1 cheese, 1 chicken, 1 corn, 1 flour, 1 ham, 1 heavy_cream, 1 strawberries, 2 sweet_potatos, 1 tomato, 13.6ms\n",
      "image 369/1176 c:\\Users\\user\\Desktop\\FINAL\\final-project\\16\\data\\13\\test\\images\\DSC_5877_JPG_jpg.rf.2dcdda474e341e12cc268bc533f4c733.jpg: 640x640 1 banana, 1 beef, 1 butter, 1 carrot, 1 cheese, 1 chicken, 1 corn, 1 flour, 1 goat_cheese, 1 ham, 1 lime, 1 strawberries, 1 tomato, 23.6ms\n",
      "image 370/1176 c:\\Users\\user\\Desktop\\FINAL\\final-project\\16\\data\\13\\test\\images\\DSC_5877_JPG_jpg.rf.36861cc05ac84a89ee0b7fdae163af6a.jpg: 640x640 1 banana, 1 beef, 1 butter, 1 carrot, 1 cheese, 1 chicken, 1 corn, 1 flour, 1 goat_cheese, 1 ham, 1 lime, 1 strawberries, 1 tomato, 11.8ms\n",
      "image 371/1176 c:\\Users\\user\\Desktop\\FINAL\\final-project\\16\\data\\13\\test\\images\\DSC_5877_JPG_jpg.rf.4ee90c9187eda0d1d51b5623e4f57c38.jpg: 640x640 1 banana, 1 beef, 1 butter, 1 carrot, 1 cheese, 1 chicken, 1 corn, 1 flour, 1 goat_cheese, 1 ham, 1 lime, 1 strawberries, 1 tomato, 15.5ms\n",
      "image 372/1176 c:\\Users\\user\\Desktop\\FINAL\\final-project\\16\\data\\13\\test\\images\\DSC_5877_JPG_jpg.rf.dc43b026e5936b9cbe3efe9e3d71b597.jpg: 640x640 1 banana, 1 beef, 1 butter, 1 carrot, 1 cheese, 1 chicken, 1 corn, 1 flour, 1 goat_cheese, 1 ham, 1 lime, 1 strawberries, 1 tomato, 14.9ms\n",
      "image 373/1176 c:\\Users\\user\\Desktop\\FINAL\\final-project\\16\\data\\13\\test\\images\\DSC_5878_JPG_jpg.rf.1191d48d8e930330240a6a7a83ece057.jpg: 640x640 1 banana, 1 beef, 1 butter, 1 carrot, 1 cheese, 1 chicken, 1 corn, 1 flour, 1 goat_cheese, 1 ham, 1 lime, 1 shrimp, 1 strawberries, 1 tomato, 18.0ms\n",
      "image 374/1176 c:\\Users\\user\\Desktop\\FINAL\\final-project\\16\\data\\13\\test\\images\\DSC_5878_JPG_jpg.rf.ff150ba2e54852cf89705a7d6ee1ae67.jpg: 640x640 1 banana, 1 beef, 1 butter, 1 carrot, 1 cheese, 1 chicken, 1 corn, 1 flour, 1 goat_cheese, 1 ham, 1 lime, 1 shrimp, 1 strawberries, 1 tomato, 11.8ms\n",
      "image 375/1176 c:\\Users\\user\\Desktop\\FINAL\\final-project\\16\\data\\13\\test\\images\\DSC_5881_JPG_jpg.rf.901b81c9f2734635a3aa1faf5ec269b8.jpg: 640x640 1 banana, 1 blueberries, 1 butter, 1 carrot, 1 cheese, 1 chicken, 1 corn, 1 flour, 1 ham, 1 mushrooms, 1 shrimp, 1 strawberries, 1 tomato, 14.0ms\n",
      "image 376/1176 c:\\Users\\user\\Desktop\\FINAL\\final-project\\16\\data\\13\\test\\images\\DSC_5881_JPG_jpg.rf.ae453d2125672c53502f2991825328f8.jpg: 640x640 1 banana, 1 blueberries, 1 butter, 1 carrot, 1 cheese, 1 chicken, 1 corn, 1 flour, 1 ham, 1 mushrooms, 1 shrimp, 1 strawberries, 1 tomato, 16.0ms\n",
      "image 377/1176 c:\\Users\\user\\Desktop\\FINAL\\final-project\\16\\data\\13\\test\\images\\DSC_5883_JPG_jpg.rf.5ad56a24b2ade364793184e5a0f33ef1.jpg: 640x640 1 banana, 1 carrot, 1 cheese, 1 chicken, 2 flours, 1 goat_cheese, 1 ham, 1 heavy_cream, 1 lime, 1 mushrooms, 1 potato, 1 shrimp, 1 strawberries, 1 tomato, 23.1ms\n",
      "image 378/1176 c:\\Users\\user\\Desktop\\FINAL\\final-project\\16\\data\\13\\test\\images\\DSC_5883_JPG_jpg.rf.e0d245a3a30a2064b694e587abc32119.jpg: 640x640 1 banana, 1 carrot, 1 cheese, 1 chicken, 2 flours, 1 goat_cheese, 1 ham, 1 heavy_cream, 1 lime, 1 mushrooms, 1 potato, 1 shrimp, 1 strawberries, 1 tomato, 31.2ms\n",
      "image 379/1176 c:\\Users\\user\\Desktop\\FINAL\\final-project\\16\\data\\13\\test\\images\\DSC_5891_JPG_jpg.rf.8d2ac9b2aa66ecf2098c4e8bfbc1888f.jpg: 640x640 1 beef, 1 blueberries, 1 butter, 1 cheese, 1 chicken, 1 flour, 1 mushrooms, 1 onion, 1 spinach, 1 sweet_potato, 1 tomato, 35.0ms\n",
      "image 380/1176 c:\\Users\\user\\Desktop\\FINAL\\final-project\\16\\data\\13\\test\\images\\DSC_5891_JPG_jpg.rf.b6cbe1b339d66262b604ddc6fedd5588.jpg: 640x640 1 beef, 1 blueberries, 1 butter, 1 cheese, 1 chicken, 1 mushrooms, 1 onion, 1 spinach, 1 sweet_potato, 1 tomato, 15.8ms\n",
      "image 381/1176 c:\\Users\\user\\Desktop\\FINAL\\final-project\\16\\data\\13\\test\\images\\DSC_5896_JPG_jpg.rf.06eab01a6ee9c547dee44911caef1c26.jpg: 640x640 1 beef, 1 blueberries, 1 butter, 1 cheese, 1 chicken, 3 green_beanss, 1 mushrooms, 2 onions, 1 shrimp, 1 strawberries, 1 sweet_potato, 13.6ms\n",
      "image 382/1176 c:\\Users\\user\\Desktop\\FINAL\\final-project\\16\\data\\13\\test\\images\\DSC_5896_JPG_jpg.rf.24a47984e5d74a8c134b9c63f1e291c4.jpg: 640x640 1 beef, 1 blueberries, 1 butter, 1 cheese, 1 chicken, 2 green_beanss, 1 ground_beef, 1 lime, 1 mushrooms, 1 onion, 1 shrimp, 2 strawberriess, 1 tomato, 16.9ms\n",
      "image 383/1176 c:\\Users\\user\\Desktop\\FINAL\\final-project\\16\\data\\13\\test\\images\\DSC_5896_JPG_jpg.rf.915bb3d8d9a8cb7ec89f196db4c1ac62.jpg: 640x640 1 beef, 1 blueberries, 1 butter, 1 cheese, 1 chicken, 2 green_beanss, 1 ground_beef, 1 mushrooms, 1 onion, 1 shrimp, 1 strawberries, 1 sweet_potato, 1 tomato, 16.3ms\n",
      "image 384/1176 c:\\Users\\user\\Desktop\\FINAL\\final-project\\16\\data\\13\\test\\images\\DSC_5897_JPG_jpg.rf.1d8701d97a53b914ab44dcb3a696901f.jpg: 640x640 1 banana, 1 beef, 1 blueberries, 1 butter, 1 cheese, 1 chicken, 1 corn, 1 goat_cheese, 2 green_beanss, 1 ground_beef, 1 mushrooms, 1 onion, 1 potato, 1 shrimp, 2 strawberriess, 3 sweet_potatos, 1 tomato, 16.2ms\n",
      "image 385/1176 c:\\Users\\user\\Desktop\\FINAL\\final-project\\16\\data\\13\\test\\images\\DSC_5898_JPG_jpg.rf.b4447971cdd432140407bbbb1d48e7b9.jpg: 640x640 1 banana, 1 beef, 1 blueberries, 1 butter, 1 cheese, 1 chicken, 2 onions, 1 shrimp, 2 strawberriess, 15.7ms\n",
      "image 386/1176 c:\\Users\\user\\Desktop\\FINAL\\final-project\\16\\data\\13\\test\\images\\DSC_5899_JPG_jpg.rf.83c3b701a597c73ea2650b20bf291793.jpg: 640x640 1 banana, 1 blueberries, 1 butter, 1 chicken, 1 green_beans, 2 onions, 1 shrimp, 1 strawberries, 1 tomato, 13.2ms\n",
      "image 387/1176 c:\\Users\\user\\Desktop\\FINAL\\final-project\\16\\data\\13\\test\\images\\DSC_5900_JPG_jpg.rf.946ebc677d4ce9d96f2b4ac053c7a162.jpg: 640x640 1 banana, 1 cheese, 1 chicken, 1 green_beans, 1 onion, 1 shrimp, 1 strawberries, 1 tomato, 21.7ms\n",
      "image 388/1176 c:\\Users\\user\\Desktop\\FINAL\\final-project\\16\\data\\13\\test\\images\\DSC_5902_JPG_jpg.rf.419285223973bf1085818e098e0f4dc9.jpg: 640x640 1 banana, 1 beef, 1 carrot, 1 cheese, 1 chicken, 1 green_beans, 1 onion, 1 shrimp, 1 strawberries, 1 tomato, 14.8ms\n",
      "image 389/1176 c:\\Users\\user\\Desktop\\FINAL\\final-project\\16\\data\\13\\test\\images\\DSC_5902_JPG_jpg.rf.be24956f40695c76630fd467e3e4b29d.jpg: 640x640 1 banana, 1 beef, 1 carrot, 1 cheese, 1 chicken, 1 green_beans, 1 ground_beef, 1 onion, 1 shrimp, 2 strawberriess, 16.5ms\n",
      "image 390/1176 c:\\Users\\user\\Desktop\\FINAL\\final-project\\16\\data\\13\\test\\images\\DSC_5903_JPG_jpg.rf.261e1bac8d4ade05ad347b185aad8e87.jpg: 640x640 1 banana, 1 beef, 1 carrot, 1 cheese, 1 corn, 1 goat_cheese, 1 green_beans, 1 onion, 1 shrimp, 2 strawberriess, 1 tomato, 13.7ms\n",
      "image 391/1176 c:\\Users\\user\\Desktop\\FINAL\\final-project\\16\\data\\13\\test\\images\\DSC_5903_JPG_jpg.rf.3b8c9936d518fa89ee8e07c16c4cf99b.jpg: 640x640 1 banana, 1 beef, 1 carrot, 1 cheese, 1 chicken, 1 corn, 1 goat_cheese, 1 green_beans, 2 onions, 1 shrimp, 1 strawberries, 1 tomato, 14.0ms\n",
      "image 392/1176 c:\\Users\\user\\Desktop\\FINAL\\final-project\\16\\data\\13\\test\\images\\DSC_5904_JPG_jpg.rf.04e894d07cda8772b5dfc32e0e858867.jpg: 640x640 1 apple, 1 banana, 1 beef, 1 carrot, 1 cheese, 1 goat_cheese, 3 onions, 1 shrimp, 1 spinach, 1 strawberries, 1 tomato, 21.5ms\n",
      "image 393/1176 c:\\Users\\user\\Desktop\\FINAL\\final-project\\16\\data\\13\\test\\images\\DSC_5904_JPG_jpg.rf.902b110daaf82441b2abda5f2efb27eb.jpg: 640x640 1 banana, 1 beef, 1 carrot, 1 cheese, 1 corn, 1 goat_cheese, 2 onions, 1 shrimp, 1 strawberries, 1 sweet_potato, 22.3ms\n",
      "image 394/1176 c:\\Users\\user\\Desktop\\FINAL\\final-project\\16\\data\\13\\test\\images\\DSC_5906_JPG_jpg.rf.ffdd057bbfbfe4730e74677d0a9e024b.jpg: 640x640 1 beef, 1 cheese, 1 corn, 1 goat_cheese, 1 green_beans, 1 onion, 1 potato, 1 shrimp, 1 strawberries, 1 tomato, 21.9ms\n",
      "image 395/1176 c:\\Users\\user\\Desktop\\FINAL\\final-project\\16\\data\\13\\test\\images\\DSC_5907_JPG_jpg.rf.3dd7ee0bd8f48473e92fcf3bb27a03b2.jpg: 640x640 1 banana, 1 beef, 1 cheese, 1 corn, 1 goat_cheese, 1 onion, 1 potato, 1 shrimp, 1 strawberries, 16.7ms\n",
      "image 396/1176 c:\\Users\\user\\Desktop\\FINAL\\final-project\\16\\data\\13\\test\\images\\DSC_5907_JPG_jpg.rf.ca0c44c3ed005a6aff46b96133946912.jpg: 640x640 1 banana, 1 beef, 1 cheese, 1 corn, 1 goat_cheese, 1 onion, 1 potato, 1 strawberries, 1 sweet_potato, 1 tomato, 14.0ms\n",
      "image 397/1176 c:\\Users\\user\\Desktop\\FINAL\\final-project\\16\\data\\13\\test\\images\\DSC_5929_JPG_jpg.rf.2944a4252267f259b8d03aec4fbdec79.jpg: 640x640 1 banana, 1 blueberries, 1 butter, 1 chicken, 1 green_beans, 1 ground_beef, 1 ham, 1 heavy_cream, 1 mushrooms, 1 onion, 1 shrimp, 1 spinach, 1 strawberries, 1 tomato, 13.2ms\n",
      "image 398/1176 c:\\Users\\user\\Desktop\\FINAL\\final-project\\16\\data\\13\\test\\images\\DSC_5929_JPG_jpg.rf.98ca0a495178eea930562e9ecf711594.jpg: 640x640 1 banana, 1 blueberries, 1 butter, 1 chicken, 1 green_beans, 1 ground_beef, 1 ham, 1 heavy_cream, 1 mushrooms, 1 onion, 1 shrimp, 1 spinach, 1 strawberries, 1 tomato, 14.9ms\n",
      "image 399/1176 c:\\Users\\user\\Desktop\\FINAL\\final-project\\16\\data\\13\\test\\images\\DSC_5930_JPG_jpg.rf.403ed26b1df70e88f639eaffc51a5b7b.jpg: 640x640 1 banana, 1 blueberries, 1 butter, 1 chicken, 1 green_beans, 1 ground_beef, 1 ham, 1 heavy_cream, 1 mushrooms, 1 onion, 1 shrimp, 1 spinach, 1 strawberries, 1 tomato, 16.5ms\n",
      "image 400/1176 c:\\Users\\user\\Desktop\\FINAL\\final-project\\16\\data\\13\\test\\images\\DSC_5930_JPG_jpg.rf.f215879c5da97b6913264a316b146a32.jpg: 640x640 1 banana, 1 blueberries, 1 butter, 1 chicken, 1 green_beans, 1 ground_beef, 1 ham, 1 heavy_cream, 1 mushrooms, 1 onion, 1 spinach, 1 strawberries, 1 tomato, 13.9ms\n",
      "image 401/1176 c:\\Users\\user\\Desktop\\FINAL\\final-project\\16\\data\\13\\test\\images\\DSC_5977_JPG_jpg.rf.6d11653a1aae3d0d44be8cc5641e4fb2.jpg: 640x640 2 beefs, 1 butter, 1 cheese, 1 chicken, 1 goat_cheese, 1 green_beans, 1 ground_beef, 1 heavy_cream, 1 onion, 1 spinach, 14.9ms\n",
      "image 402/1176 c:\\Users\\user\\Desktop\\FINAL\\final-project\\16\\data\\13\\test\\images\\DSC_5977_JPG_jpg.rf.f98b79415be17633a343daa9d666e2b9.jpg: 640x640 2 beefs, 1 butter, 1 cheese, 1 chicken, 1 goat_cheese, 1 green_beans, 1 ground_beef, 1 heavy_cream, 1 onion, 1 spinach, 12.9ms\n",
      "image 403/1176 c:\\Users\\user\\Desktop\\FINAL\\final-project\\16\\data\\13\\test\\images\\DSC_5978_JPG_jpg.rf.f7ce0447a7c1b852dc1fcef66e4180f2.jpg: 640x640 1 beef, 1 cheese, 1 chicken, 1 green_beans, 2 ground_beefs, 1 heavy_cream, 1 onion, 1 potato, 1 shrimp, 1 spinach, 17.0ms\n",
      "image 404/1176 c:\\Users\\user\\Desktop\\FINAL\\final-project\\16\\data\\13\\test\\images\\DSC_5979_JPG_jpg.rf.0b79474ed1787187ce0f2397a0619dd0.jpg: 640x640 2 beefs, 1 cheese, 1 chicken, 1 chicken_breast, 1 corn, 1 ground_beef, 1 heavy_cream, 2 onions, 1 potato, 1 shrimp, 1 spinach, 1 strawberries, 14.9ms\n",
      "image 405/1176 c:\\Users\\user\\Desktop\\FINAL\\final-project\\16\\data\\13\\test\\images\\DSC_5979_JPG_jpg.rf.b814222e98f6d6161b8bb35a4313cd80.jpg: 640x640 3 beefs, 1 cheese, 1 chicken, 1 corn, 1 ground_beef, 1 heavy_cream, 2 onions, 1 potato, 1 spinach, 1 strawberries, 15.1ms\n",
      "image 406/1176 c:\\Users\\user\\Desktop\\FINAL\\final-project\\16\\data\\13\\test\\images\\DSC_5979_JPG_jpg.rf.e2815777ed83c818d02275ad042ddb61.jpg: 640x640 1 beef, 1 carrot, 1 cheese, 1 chicken, 1 chicken_breast, 1 corn, 1 eggs, 1 ground_beef, 1 heavy_cream, 1 milk, 1 onion, 1 potato, 1 shrimp, 1 spinach, 1 strawberries, 18.5ms\n",
      "image 407/1176 c:\\Users\\user\\Desktop\\FINAL\\final-project\\16\\data\\13\\test\\images\\DSC_5980_JPG_jpg.rf.980652bd9bca37ac6f581f758bca183e.jpg: 640x640 1 beef, 1 cheese, 1 chicken, 1 corn, 1 eggs, 3 ground_beefs, 1 ham, 1 heavy_cream, 1 onion, 1 shrimp, 1 strawberries, 17.1ms\n",
      "image 408/1176 c:\\Users\\user\\Desktop\\FINAL\\final-project\\16\\data\\13\\test\\images\\DSC_5981_JPG_jpg.rf.4e6ec3dd638254a2b9708b388e6194b1.jpg: 640x640 1 beef, 1 cheese, 1 chicken, 1 chicken_breast, 1 corn, 1 eggs, 1 green_beans, 2 ground_beefs, 1 heavy_cream, 1 potato, 1 shrimp, 1 strawberries, 14.7ms\n",
      "image 409/1176 c:\\Users\\user\\Desktop\\FINAL\\final-project\\16\\data\\13\\test\\images\\DSC_5982_JPG_jpg.rf.3a9a8d8b995b49d14a9c7a5499ea3dbd.jpg: 640x640 1 apple, 1 beef, 1 cheese, 1 chicken, 1 corn, 1 eggs, 1 green_beans, 1 ground_beef, 1 heavy_cream, 1 milk, 2 potatos, 1 strawberries, 15.7ms\n",
      "image 410/1176 c:\\Users\\user\\Desktop\\FINAL\\final-project\\16\\data\\13\\test\\images\\DSC_5984_JPG_jpg.rf.5f8ed73048752cfa6ad3cf593400af67.jpg: 640x640 2 beefs, 1 blueberries, 1 cheese, 1 chicken, 1 eggs, 1 green_beans, 1 ground_beef, 1 onion, 4 potatos, 1 spinach, 1 strawberries, 15.9ms\n",
      "image 411/1176 c:\\Users\\user\\Desktop\\FINAL\\final-project\\16\\data\\13\\test\\images\\DSC_5984_JPG_jpg.rf.cbbc109fd51d8c2be75a3c74c2f609c4.jpg: 640x640 1 apple, 1 banana, 2 beefs, 1 cheese, 1 chicken, 1 green_beans, 2 potatos, 1 strawberries, 22.1ms\n",
      "image 412/1176 c:\\Users\\user\\Desktop\\FINAL\\final-project\\16\\data\\13\\test\\images\\DSC_5987_JPG_jpg.rf.157690719c042594629609e38c8eaece.jpg: 640x640 1 banana, 2 beefs, 1 carrot, 1 chicken, 1 green_beans, 1 ham, 1 onion, 1 potato, 1 shrimp, 1 strawberries, 21.9ms\n",
      "image 413/1176 c:\\Users\\user\\Desktop\\FINAL\\final-project\\16\\data\\13\\test\\images\\DSC_5987_JPG_jpg.rf.2c5b4c67956fe6f8c2dc7c1810b78d0b.jpg: 640x640 1 banana, 2 beefs, 1 bread, 1 carrot, 1 chicken, 1 green_beans, 1 ham, 3 potatos, 1 shrimp, 1 strawberries, 19.5ms\n",
      "image 414/1176 c:\\Users\\user\\Desktop\\FINAL\\final-project\\16\\data\\13\\test\\images\\DSC_5990_JPG_jpg.rf.2451cd371ee12f7312dd64a6ab09f984.jpg: 640x640 1 banana, 1 beef, 1 blueberries, 1 chicken, 2 potatos, 2 shrimps, 1 strawberries, 14.5ms\n",
      "image 415/1176 c:\\Users\\user\\Desktop\\FINAL\\final-project\\16\\data\\13\\test\\images\\DSC_5990_JPG_jpg.rf.b5888a01ed50f6a940852da7e0ac1735.jpg: 640x640 1 banana, 1 beef, 1 blueberries, 1 chicken, 2 potatos, 2 shrimps, 1 strawberries, 21.6ms\n",
      "image 416/1176 c:\\Users\\user\\Desktop\\FINAL\\final-project\\16\\data\\13\\test\\images\\DSC_5991_JPG_jpg.rf.06bd19da58f0f56d3b86dbee97c8d294.jpg: 640x640 1 banana, 1 beef, 1 blueberries, 1 chicken, 2 potatos, 2 shrimps, 1 strawberries, 18.6ms\n",
      "image 417/1176 c:\\Users\\user\\Desktop\\FINAL\\final-project\\16\\data\\13\\test\\images\\DSC_5992_JPG_jpg.rf.618c9c4b710ed51ef8e2f8f64af14386.jpg: 640x640 1 banana, 2 beefs, 1 blueberries, 1 cheese, 1 chicken, 1 eggs, 1 flour, 1 potato, 1 shrimp, 1 strawberries, 22.2ms\n",
      "image 418/1176 c:\\Users\\user\\Desktop\\FINAL\\final-project\\16\\data\\13\\test\\images\\DSC_6007_JPG_jpg.rf.a50e70d50987e4924f440cef81d90d44.jpg: 640x640 1 banana, 1 beef, 1 corn, 1 flour, 2 green_beanss, 1 ham, 1 heavy_cream, 1 mushrooms, 2 onions, 2 potatos, 1 shrimp, 1 sweet_potato, 16.3ms\n",
      "image 419/1176 c:\\Users\\user\\Desktop\\FINAL\\final-project\\16\\data\\13\\test\\images\\DSC_6007_JPG_jpg.rf.e71dc44b7be043ec68ab63b1a86dbbea.jpg: 640x640 1 banana, 1 beef, 1 corn, 1 flour, 1 green_beans, 1 heavy_cream, 1 mushrooms, 2 onions, 2 potatos, 1 sweet_potato, 13.5ms\n",
      "image 420/1176 c:\\Users\\user\\Desktop\\FINAL\\final-project\\16\\data\\13\\test\\images\\DSC_6008_JPG_jpg.rf.6dd66c3724e9c7d2c77b6c8f6192bbeb.jpg: 640x640 1 banana, 1 beef, 1 corn, 1 flour, 1 green_beans, 1 heavy_cream, 1 mushrooms, 1 onion, 2 potatos, 2 shrimps, 1 sweet_potato, 16.9ms\n",
      "image 421/1176 c:\\Users\\user\\Desktop\\FINAL\\final-project\\16\\data\\13\\test\\images\\DSC_6009_JPG_jpg.rf.98f3cf2d20180b4f6a5554820439970b.jpg: 640x640 1 banana, 1 beef, 1 cheese, 1 corn, 1 goat_cheese, 1 green_beans, 1 heavy_cream, 1 mushrooms, 2 potatos, 1 shrimp, 1 sweet_potato, 27.0ms\n",
      "image 422/1176 c:\\Users\\user\\Desktop\\FINAL\\final-project\\16\\data\\13\\test\\images\\DSC_6010_JPG_jpg.rf.2fe15c04e0dd75f8b776dcaf1f36d031.jpg: 640x640 1 banana, 2 beefs, 1 corn, 1 heavy_cream, 1 mushrooms, 1 onion, 2 potatos, 2 shrimps, 1 spinach, 1 sweet_potato, 1 tomato, 16.4ms\n",
      "image 423/1176 c:\\Users\\user\\Desktop\\FINAL\\final-project\\16\\data\\13\\test\\images\\DSC_6011_JPG_jpg.rf.05dd730e64c5a578795665914d4a36a1.jpg: 640x640 1 banana, 1 beef, 1 cheese, 1 corn, 1 heavy_cream, 1 milk, 1 mushrooms, 2 onions, 1 potato, 1 spinach, 1 sweet_potato, 1 tomato, 22.0ms\n",
      "image 424/1176 c:\\Users\\user\\Desktop\\FINAL\\final-project\\16\\data\\13\\test\\images\\DSC_6012_JPG_jpg.rf.d15c7f6dab1ae2e3f541ae1ac4d9a43a.jpg: 640x640 2 bananas, 2 beefs, 1 cheese, 1 corn, 1 heavy_cream, 2 milks, 1 mushrooms, 2 onions, 1 potato, 1 spinach, 1 sweet_potato, 1 tomato, 12.8ms\n",
      "image 425/1176 c:\\Users\\user\\Desktop\\FINAL\\final-project\\16\\data\\13\\test\\images\\DSC_6012_JPG_jpg.rf.dba8a3ec09284f275c69768fd9b83ac9.jpg: 640x640 1 banana, 2 beefs, 1 cheese, 1 heavy_cream, 1 mushrooms, 1 onion, 1 potato, 1 shrimp, 1 spinach, 2 sweet_potatos, 1 tomato, 13.3ms\n",
      "image 426/1176 c:\\Users\\user\\Desktop\\FINAL\\final-project\\16\\data\\13\\test\\images\\DSC_6013_JPG_jpg.rf.7206c4a531cb58277c39d3d8bc4dee52.jpg: 640x640 1 banana, 2 beefs, 1 cheese, 1 eggs, 1 heavy_cream, 2 milks, 1 mushrooms, 3 onions, 1 spinach, 1 sweet_potato, 1 tomato, 15.5ms\n",
      "image 427/1176 c:\\Users\\user\\Desktop\\FINAL\\final-project\\16\\data\\13\\test\\images\\DSC_6017_JPG_jpg.rf.5ed34ae378a6dd5a56eeb1f9f4624fe4.jpg: 640x640 1 banana, 1 beef, 2 cheeses, 1 corn, 1 heavy_cream, 1 mushrooms, 1 potato, 1 spinach, 1 tomato, 14.1ms\n",
      "image 428/1176 c:\\Users\\user\\Desktop\\FINAL\\final-project\\16\\data\\13\\test\\images\\DSC_6031_JPG_jpg.rf.5bafdf83f662a7d3269847120ee1d577.jpg: 640x640 1 butter, 1 carrot, 2 cheeses, 1 chicken, 1 chicken_breast, 1 milk, 2 potatos, 1 sugar, 1 tomato, 13.1ms\n",
      "image 429/1176 c:\\Users\\user\\Desktop\\FINAL\\final-project\\16\\data\\13\\test\\images\\DSC_6032_JPG_jpg.rf.234aba53370246d093212f7c1f49c025.jpg: 640x640 1 butter, 3 cheeses, 1 chicken, 1 chicken_breast, 1 flour, 1 heavy_cream, 1 milk, 1 potato, 1 sugar, 1 tomato, 20.0ms\n",
      "image 430/1176 c:\\Users\\user\\Desktop\\FINAL\\final-project\\16\\data\\13\\test\\images\\DSC_6035_JPG_jpg.rf.5c6ec719d034b01f0c7033c4b29a415e.jpg: 640x640 2 beefs, 1 butter, 1 carrot, 1 cheese, 1 eggs, 1 lime, 1 milk, 3 potatos, 1 sugar, 13.6ms\n",
      "image 431/1176 c:\\Users\\user\\Desktop\\FINAL\\final-project\\16\\data\\13\\test\\images\\DSC_6036_JPG_jpg.rf.3a59b23a6f0308ec811b5aeab9fe9412.jpg: 640x640 1 beef, 1 blueberries, 1 butter, 1 carrot, 1 cheese, 1 eggs, 1 lime, 1 milk, 1 potato, 1 shrimp, 1 sugar, 1 tomato, 12.9ms\n",
      "image 432/1176 c:\\Users\\user\\Desktop\\FINAL\\final-project\\16\\data\\13\\test\\images\\DSC_6036_JPG_jpg.rf.9cc96f08eaba07f0a495455f53b7fed6.jpg: 640x640 2 beefs, 1 blueberries, 1 butter, 1 carrot, 2 cheeses, 1 eggs, 1 lime, 1 milk, 1 potato, 1 sugar, 1 tomato, 21.6ms\n",
      "image 433/1176 c:\\Users\\user\\Desktop\\FINAL\\final-project\\16\\data\\13\\test\\images\\DSC_6038_JPG_jpg.rf.9216e5b2311780b9a7c4a83a2b99c8e7.jpg: 640x640 1 beef, 1 blueberries, 1 butter, 1 cheese, 1 ground_beef, 1 lime, 1 milk, 1 potato, 1 shrimp, 1 spinach, 1 sugar, 1 tomato, 12.9ms\n",
      "image 434/1176 c:\\Users\\user\\Desktop\\FINAL\\final-project\\16\\data\\13\\test\\images\\DSC_6040_JPG_jpg.rf.34cc1434443804fb7c819dfb77ec4beb.jpg: 640x640 1 beef, 1 blueberries, 1 cheese, 1 eggs, 1 lime, 2 milks, 1 mushrooms, 1 potato, 1 shrimp, 1 spinach, 1 tomato, 17.8ms\n",
      "image 435/1176 c:\\Users\\user\\Desktop\\FINAL\\final-project\\16\\data\\13\\test\\images\\DSC_6040_JPG_jpg.rf.e440b4f49f14e982a1d83edc4517fa69.jpg: 640x640 1 beef, 1 blueberries, 1 cheese, 1 eggs, 1 ham, 1 lime, 2 milks, 1 mushrooms, 1 potato, 1 shrimp, 1 strawberries, 1 tomato, 25.1ms\n",
      "image 436/1176 c:\\Users\\user\\Desktop\\FINAL\\final-project\\16\\data\\13\\test\\images\\DSC_6041_JPG_jpg.rf.a9ed9e9abd075173aadb9e52869f5435.jpg: 640x640 1 beef, 1 blueberries, 1 carrot, 2 cheeses, 1 eggs, 1 ground_beef, 1 lime, 2 milks, 1 potato, 2 shrimps, 1 spinach, 1 sugar, 1 tomato, 12.5ms\n",
      "image 437/1176 c:\\Users\\user\\Desktop\\FINAL\\final-project\\16\\data\\13\\test\\images\\DSC_6049_JPG_jpg.rf.4d3565ab39314af053c73ad3a9c4f962.jpg: 640x640 1 apple, 1 beef, 1 butter, 1 carrot, 1 cheese, 1 chicken, 1 corn, 1 lime, 1 milk, 2 shrimps, 1 spinach, 1 strawberries, 1 sugar, 1 sweet_potato, 16.2ms\n",
      "image 438/1176 c:\\Users\\user\\Desktop\\FINAL\\final-project\\16\\data\\13\\test\\images\\DSC_6084_JPG_jpg.rf.47bd77d9b80adf340131aa9f9afaee20.jpg: 640x640 1 beef, 1 blueberries, 1 butter, 1 chicken, 1 chicken_breast, 1 corn, 1 eggs, 1 flour, 1 milk, 1 potato, 20.2ms\n",
      "image 439/1176 c:\\Users\\user\\Desktop\\FINAL\\final-project\\16\\data\\13\\test\\images\\DSC_6084_JPG_jpg.rf.b05419c858ad57406d74ce1e967ce211.jpg: 640x640 1 beef, 1 blueberries, 1 butter, 1 chicken, 1 chicken_breast, 1 corn, 1 eggs, 1 flour, 1 milk, 1 potato, 16.1ms\n",
      "image 440/1176 c:\\Users\\user\\Desktop\\FINAL\\final-project\\16\\data\\13\\test\\images\\DSC_6090_JPG_jpg.rf.d1fdf36b3f6b977bbad59983a4ad6112.jpg: 640x640 1 beef, 1 blueberries, 1 cheese, 1 chicken, 1 corn, 1 eggs, 1 flour, 2 milks, 1 potato, 1 strawberries, 20.1ms\n",
      "image 441/1176 c:\\Users\\user\\Desktop\\FINAL\\final-project\\16\\data\\13\\test\\images\\DSC_6090_JPG_jpg.rf.fe8d71177665e470246700bfc6fea8af.jpg: 640x640 1 beef, 1 blueberries, 1 cheese, 1 chicken, 1 corn, 1 eggs, 1 flour, 2 milks, 1 potato, 1 strawberries, 13.2ms\n",
      "image 442/1176 c:\\Users\\user\\Desktop\\FINAL\\final-project\\16\\data\\13\\test\\images\\DSC_6099_JPG_jpg.rf.72a80c4f198ca5bde87398c7c52cb57c.jpg: 640x640 1 apple, 1 beef, 1 blueberries, 1 bread, 1 carrot, 1 chicken, 1 chicken_breast, 1 corn, 1 eggs, 1 flour, 1 ground_beef, 1 milk, 1 sugar, 14.7ms\n",
      "image 443/1176 c:\\Users\\user\\Desktop\\FINAL\\final-project\\16\\data\\13\\test\\images\\DSC_6099_JPG_jpg.rf.df7c0f3621e62f21bca64b845810ec47.jpg: 640x640 1 apple, 1 beef, 1 blueberries, 1 bread, 1 carrot, 1 chicken, 1 chicken_breast, 1 corn, 1 eggs, 1 flour, 1 ground_beef, 1 milk, 1 sugar, 15.8ms\n",
      "image 444/1176 c:\\Users\\user\\Desktop\\FINAL\\final-project\\16\\data\\13\\test\\images\\DSC_6101_JPG_jpg.rf.d33c80a39474993263546bc15a631b8b.jpg: 640x640 1 apple, 1 beef, 1 bread, 1 carrot, 1 chicken, 1 chicken_breast, 1 corn, 1 eggs, 1 flour, 1 ground_beef, 1 milk, 1 sugar, 12.7ms\n",
      "image 445/1176 c:\\Users\\user\\Desktop\\FINAL\\final-project\\16\\data\\13\\test\\images\\DSC_6103_JPG_jpg.rf.0d41d76324aeac389ff4922b1eb5baa6.jpg: 640x640 2 apples, 1 beef, 1 bread, 1 carrot, 1 chicken, 1 corn, 1 eggs, 1 flour, 1 ground_beef, 1 milk, 1 sugar, 11.9ms\n",
      "image 446/1176 c:\\Users\\user\\Desktop\\FINAL\\final-project\\16\\data\\13\\test\\images\\DSC_6108_JPG_jpg.rf.ad60b2e5ff1e95c2a07b9813baedfc05.jpg: 640x640 2 apples, 1 beef, 1 bread, 1 butter, 1 carrot, 1 cheese, 1 chicken, 1 eggs, 1 flour, 1 ground_beef, 1 lime, 1 milk, 1 shrimp, 1 sugar, 12.7ms\n",
      "image 447/1176 c:\\Users\\user\\Desktop\\FINAL\\final-project\\16\\data\\13\\test\\images\\DSC_6108_JPG_jpg.rf.f657ee2dbc511b9f2e1eef27943170bc.jpg: 640x640 2 apples, 1 beef, 1 bread, 1 butter, 1 carrot, 1 cheese, 1 chicken, 1 eggs, 1 flour, 1 ground_beef, 1 lime, 1 milk, 1 shrimp, 1 sugar, 22.6ms\n",
      "image 448/1176 c:\\Users\\user\\Desktop\\FINAL\\final-project\\16\\data\\13\\test\\images\\DSC_6113_JPG_jpg.rf.c5791d279cb7f1f6b735d4d53fc64c82.jpg: 640x640 1 apple, 1 bread, 1 cheese, 1 chicken, 1 eggs, 1 flour, 1 green_beans, 1 ground_beef, 1 milk, 1 onion, 1 potato, 2 shrimps, 1 sweet_potato, 21.5ms\n",
      "image 449/1176 c:\\Users\\user\\Desktop\\FINAL\\final-project\\16\\data\\13\\test\\images\\DSC_6115_JPG_jpg.rf.b87ac0da968d5a60a99c6ae374b3ca97.jpg: 640x640 1 bread, 1 carrot, 1 cheese, 1 chicken, 1 flour, 1 green_beans, 1 ground_beef, 1 lime, 1 milk, 1 onion, 1 shrimp, 1 strawberries, 1 sweet_potato, 1 tomato, 16.0ms\n",
      "image 450/1176 c:\\Users\\user\\Desktop\\FINAL\\final-project\\16\\data\\13\\test\\images\\DSC_6122_JPG_jpg.rf.f10e5c177cc8c301cbd938c14b81284d.jpg: 640x640 2 beefs, 1 chicken, 1 chicken_breast, 1 eggs, 1 flour, 1 green_beans, 1 ground_beef, 2 milks, 1 mushrooms, 2 potatos, 1 shrimp, 1 tomato, 13.2ms\n",
      "image 451/1176 c:\\Users\\user\\Desktop\\FINAL\\final-project\\16\\data\\13\\test\\images\\DSC_6125_JPG_jpg.rf.ef98bb95f70e6854098fcd32ecf8a82d.jpg: 640x640 1 apple, 1 butter, 1 chicken, 1 corn, 1 green_beans, 1 ground_beef, 1 ham, 2 limes, 1 mushrooms, 2 potatos, 2 sugars, 1 tomato, 13.0ms\n",
      "image 452/1176 c:\\Users\\user\\Desktop\\FINAL\\final-project\\16\\data\\13\\test\\images\\DSC_6126_JPG_jpg.rf.dc56c6784b359726b38f913d99729ada.jpg: 640x640 1 butter, 1 carrot, 1 chicken, 1 eggs, 1 green_beans, 1 milk, 1 mushrooms, 1 onion, 2 potatos, 1 sugar, 1 tomato, 18.4ms\n",
      "image 453/1176 c:\\Users\\user\\Desktop\\FINAL\\final-project\\16\\data\\13\\test\\images\\DSC_6141_JPG_jpg.rf.457043c75747b8403f036fb8b477fd02.jpg: 640x640 1 beef, 1 blueberries, 1 butter, 1 carrot, 1 chicken, 1 chicken_breast, 1 eggs, 1 flour, 1 green_beans, 1 mushrooms, 2 onions, 1 potato, 1 strawberries, 15.0ms\n",
      "image 454/1176 c:\\Users\\user\\Desktop\\FINAL\\final-project\\16\\data\\13\\test\\images\\DSC_6142_JPG_jpg.rf.7d1a1c4adfefb6322ca02015bf70a973.jpg: 640x640 1 beef, 1 blueberries, 1 butter, 1 carrot, 1 chicken, 1 onion, 2 potatos, 1 shrimp, 1 strawberries, 1 tomato, 16.0ms\n",
      "image 455/1176 c:\\Users\\user\\Desktop\\FINAL\\final-project\\16\\data\\13\\test\\images\\DSC_6143_JPG_jpg.rf.05473acb3d1ccb8a17031a64d423b7f1.jpg: 640x640 1 beef, 1 blueberries, 1 butter, 1 carrot, 1 cheese, 1 chicken, 1 potato, 2 shrimps, 1 sweet_potato, 1 tomato, 12.2ms\n",
      "image 456/1176 c:\\Users\\user\\Desktop\\FINAL\\final-project\\16\\data\\13\\test\\images\\DSC_6144_JPG_jpg.rf.6a0d32bae294a5b3c5ef3b82b2af1544.jpg: 640x640 1 beef, 1 butter, 1 carrot, 1 cheese, 1 chicken, 1 flour, 1 ham, 1 mushrooms, 2 onions, 2 potatos, 2 shrimps, 1 sweet_potato, 1 tomato, 18.0ms\n",
      "image 457/1176 c:\\Users\\user\\Desktop\\FINAL\\final-project\\16\\data\\13\\test\\images\\Data-2-1-_jpg.rf.bf1e0cd25fdd609599beb920b9e42ec3.jpg: 640x640 1 garlic, 14.7ms\n",
      "image 458/1176 c:\\Users\\user\\Desktop\\FINAL\\final-project\\16\\data\\13\\test\\images\\Data-2-10-_jpg.rf.dee6c884433ad7c49a0b3daadb375693.jpg: 640x640 1 tomato, 13.8ms\n",
      "image 459/1176 c:\\Users\\user\\Desktop\\FINAL\\final-project\\16\\data\\13\\test\\images\\Data-2-18-_jpg.rf.105ce53d474af0f6ba81bb34d045ca2c.jpg: 640x640 1 cashew, 1 lemon, 1 potato, 3 tomatos, 16.3ms\n",
      "image 460/1176 c:\\Users\\user\\Desktop\\FINAL\\final-project\\16\\data\\13\\test\\images\\Data-2-18-_jpg.rf.544163dc193545f307528831cfd71fea.jpg: 640x640 1 avocado, 1 green chilli, 1 lemon, 4 tomatos, 15.8ms\n",
      "image 461/1176 c:\\Users\\user\\Desktop\\FINAL\\final-project\\16\\data\\13\\test\\images\\Data-2-18-_jpg.rf.829ce0bf6f5ac5156c30b38ea768b160.jpg: 640x640 1 cashew, 1 green chilli, 1 lemon, 1 mango, 1 potato, 3 tomatos, 23.9ms\n",
      "image 462/1176 c:\\Users\\user\\Desktop\\FINAL\\final-project\\16\\data\\13\\test\\images\\Data-2-19-_jpg.rf.75ae1194b9066f6aed9c36b7325a8033.jpg: 640x640 1 Apple, 2 Tomatos, 1 mango, 1 potato, 18.9ms\n",
      "image 463/1176 c:\\Users\\user\\Desktop\\FINAL\\final-project\\16\\data\\13\\test\\images\\Data-2-20-_jpg.rf.50a436095051d4bbd0ef78eea3a651bb.jpg: 640x640 1 mango, 1 potato, 13.8ms\n",
      "image 464/1176 c:\\Users\\user\\Desktop\\FINAL\\final-project\\16\\data\\13\\test\\images\\Data-2-20-_jpg.rf.916ba4f4fbb3a835ac2adae028453483.jpg: 640x640 1 potato, 2 tomatos, 14.0ms\n",
      "image 465/1176 c:\\Users\\user\\Desktop\\FINAL\\final-project\\16\\data\\13\\test\\images\\Data-2-20-_jpg.rf.d5aac17e571f71d5fcdea2b3f53a5751.jpg: 640x640 1 mango, 1 potato, 2 tomatos, 14.7ms\n",
      "image 466/1176 c:\\Users\\user\\Desktop\\FINAL\\final-project\\16\\data\\13\\test\\images\\Data-2-21-_jpg.rf.3fb3bd35f4f81dfd237fd01bae934237.jpg: 640x640 1 10_tangerine, 1 mango, 3 potatos, 2 tomatos, 13.9ms\n",
      "image 467/1176 c:\\Users\\user\\Desktop\\FINAL\\final-project\\16\\data\\13\\test\\images\\Data-2-21-_jpg.rf.4bba3cc69edf1be8b766f5de58ac3be6.jpg: 640x640 1 mango, 3 potatos, 16.5ms\n",
      "image 468/1176 c:\\Users\\user\\Desktop\\FINAL\\final-project\\16\\data\\13\\test\\images\\Data-2-21-_jpg.rf.952afe8b536c6c2da948f91938051ecc.jpg: 640x640 1 mango, 4 potatos, 11.4ms\n",
      "image 469/1176 c:\\Users\\user\\Desktop\\FINAL\\final-project\\16\\data\\13\\test\\images\\Data-2-22-_jpg.rf.5ce71f7189778af95b226ebe0c34dddf.jpg: 640x640 1 Tomato, 1 green chilli, 1 mango, 1 potato, 1 tomato, 14.3ms\n",
      "image 470/1176 c:\\Users\\user\\Desktop\\FINAL\\final-project\\16\\data\\13\\test\\images\\Data-2-22-_jpg.rf.b50324bed50c1d1b11fbb63254a8901d.jpg: 640x640 1 mango, 2 potatos, 15.8ms\n",
      "image 471/1176 c:\\Users\\user\\Desktop\\FINAL\\final-project\\16\\data\\13\\test\\images\\Data-2-22-_jpg.rf.e0d34f3f57eedfff3b9422a56b0586c1.jpg: 640x640 2 potatos, 1 tomato, 1 zucchini, 17.8ms\n",
      "image 472/1176 c:\\Users\\user\\Desktop\\FINAL\\final-project\\16\\data\\13\\test\\images\\Data-2-23-_jpg.rf.2b149d16c10896ae990eecfb23a86629.jpg: 640x640 1 Apple, 1 mango, 1 potato, 1 tomato, 11.8ms\n",
      "image 473/1176 c:\\Users\\user\\Desktop\\FINAL\\final-project\\16\\data\\13\\test\\images\\Data-2-23-_jpg.rf.3d19106b37157fe16dd34272dbc1c8cf.jpg: 640x640 1 mango, 3 potatos, 1 tomato, 14.1ms\n",
      "image 474/1176 c:\\Users\\user\\Desktop\\FINAL\\final-project\\16\\data\\13\\test\\images\\Data-2-23-_jpg.rf.e5396643145b8dc8c36357fca4c65191.jpg: 640x640 1 mango, 3 potatos, 1 tomato, 13.3ms\n",
      "image 475/1176 c:\\Users\\user\\Desktop\\FINAL\\final-project\\16\\data\\13\\test\\images\\Data-2-28-_jpg.rf.61ddc4886ead63a75217f312f397bd47.jpg: 640x640 1 ampalaya, 1 potato, 12.4ms\n",
      "image 476/1176 c:\\Users\\user\\Desktop\\FINAL\\final-project\\16\\data\\13\\test\\images\\Data-2-29-_jpg.rf.41286cc1bbe827857a4c6b7b8ba05cfc.jpg: 640x640 1 chicken, 1 potato, 28.0ms\n",
      "image 477/1176 c:\\Users\\user\\Desktop\\FINAL\\final-project\\16\\data\\13\\test\\images\\Data-2-30-_jpg.rf.0dd65ae339475cd2429888f846f96c5d.jpg: 640x640 1 potato, 13.4ms\n",
      "image 478/1176 c:\\Users\\user\\Desktop\\FINAL\\final-project\\16\\data\\13\\test\\images\\Data-2-30-_jpg.rf.1dadfb615bde94b3dede60f07f341cf8.jpg: 640x640 1 potato, 12.1ms\n",
      "image 479/1176 c:\\Users\\user\\Desktop\\FINAL\\final-project\\16\\data\\13\\test\\images\\Data-2-30-_jpg.rf.ee7e08b53739ea1dfa7b7062bae9eb10.jpg: 640x640 1 ampalaya, 1 green chilli, 1 potato, 18.5ms\n",
      "image 480/1176 c:\\Users\\user\\Desktop\\FINAL\\final-project\\16\\data\\13\\test\\images\\Data-2-4-_jpg.rf.08d5ddd10630ba6af2b31d8619df32b4.jpg: 640x640 1 ginger, 1 potato, 15.0ms\n",
      "image 481/1176 c:\\Users\\user\\Desktop\\FINAL\\final-project\\16\\data\\13\\test\\images\\Data-2-4-_jpg.rf.23aad89345884db2018e5d8979d440db.jpg: 640x640 1 potato, 11.7ms\n",
      "image 482/1176 c:\\Users\\user\\Desktop\\FINAL\\final-project\\16\\data\\13\\test\\images\\Data-2-4-_jpg.rf.307d89f11da8a73d22e2af89c355b2db.jpg: 640x640 1 potato, 11.5ms\n",
      "image 483/1176 c:\\Users\\user\\Desktop\\FINAL\\final-project\\16\\data\\13\\test\\images\\Data-2-40-_jpg.rf.27b63a96c1605715533a4bbcae511e04.jpg: 640x640 1 Cucumber, 1 lemon, 1 mango, 1 potato, 16.3ms\n",
      "image 484/1176 c:\\Users\\user\\Desktop\\FINAL\\final-project\\16\\data\\13\\test\\images\\Data-2-40-_jpg.rf.9cb07f5b52a5f198c0a11b31889e1a63.jpg: 640x640 3 potatos, 19.8ms\n",
      "image 485/1176 c:\\Users\\user\\Desktop\\FINAL\\final-project\\16\\data\\13\\test\\images\\Data-2-40-_jpg.rf.cabde1e286048314e0ea3201b6791fcf.jpg: 640x640 1 lemon, 1 mango, 1 potato, 14.9ms\n",
      "image 486/1176 c:\\Users\\user\\Desktop\\FINAL\\final-project\\16\\data\\13\\test\\images\\Data-2-41-_jpg.rf.6686f277ca3b53dc77c558d3a24f82db.jpg: 640x640 2 mangos, 1 potato, 2 tomatos, 12.6ms\n",
      "image 487/1176 c:\\Users\\user\\Desktop\\FINAL\\final-project\\16\\data\\13\\test\\images\\Data-2-41-_jpg.rf.74dc2802ecf16efee0ca29c092cfc112.jpg: 640x640 2 mangos, 1 potato, 2 tomatos, 12.6ms\n",
      "image 488/1176 c:\\Users\\user\\Desktop\\FINAL\\final-project\\16\\data\\13\\test\\images\\Data-2-41-_jpg.rf.927223cbcc770672f8c74700e034c4bf.jpg: 640x640 2 mangos, 1 potato, 2 tomatos, 20.6ms\n",
      "image 489/1176 c:\\Users\\user\\Desktop\\FINAL\\final-project\\16\\data\\13\\test\\images\\Data-2-43-_jpg.rf.343ed67c8027f46b6cb4c03167a747e4.jpg: 640x640 4 potatos, 18.7ms\n",
      "image 490/1176 c:\\Users\\user\\Desktop\\FINAL\\final-project\\16\\data\\13\\test\\images\\Data-2-43-_jpg.rf.6c3751653e557a421bca5e93240e7092.jpg: 640x640 2 Apples, 1 Tomato, 1 mango, 2 tomatos, 14.4ms\n",
      "image 491/1176 c:\\Users\\user\\Desktop\\FINAL\\final-project\\16\\data\\13\\test\\images\\Data-2-43-_jpg.rf.b0cb8b300d294aaa8b3ca62d7ea7773e.jpg: 640x640 1 Tomato, 2 mangos, 1 potato, 2 tomatos, 17.0ms\n",
      "image 492/1176 c:\\Users\\user\\Desktop\\FINAL\\final-project\\16\\data\\13\\test\\images\\Data-2-5-_jpg.rf.8bac90f6258ceec148e420267652dc95.jpg: 640x640 1 ampalaya, 16.2ms\n",
      "image 493/1176 c:\\Users\\user\\Desktop\\FINAL\\final-project\\16\\data\\13\\test\\images\\Data-2-5-_jpg.rf.a9554d61f18f1e4c163814886a0852a4.jpg: 640x640 1 ampalaya, 17.8ms\n",
      "image 494/1176 c:\\Users\\user\\Desktop\\FINAL\\final-project\\16\\data\\13\\test\\images\\Data-2-5-_jpg.rf.d547647d4c4282319a71d43f6aa7c26f.jpg: 640x640 1 ampalaya, 1 green chilli, 12.7ms\n",
      "image 495/1176 c:\\Users\\user\\Desktop\\FINAL\\final-project\\16\\data\\13\\test\\images\\Data-2-6-_jpg.rf.5230b6402e58f1924d4e599e5942a523.jpg: 640x640 1 onion, 11.9ms\n",
      "image 496/1176 c:\\Users\\user\\Desktop\\FINAL\\final-project\\16\\data\\13\\test\\images\\Determining-If-The-Pork-Has-Gone-Bad-1_jpg.rf.9d4b25f04ee64edcf72a75293c80b971.jpg: 640x640 2 porks, 2 pork bellys, 20.3ms\n",
      "image 497/1176 c:\\Users\\user\\Desktop\\FINAL\\final-project\\16\\data\\13\\test\\images\\GettyImages-155127339-79902ab_jpg.rf.5fe948d6778c8fa1247b1b806340aa5b.jpg: 640x640 3 eggs, 13.6ms\n",
      "image 498/1176 c:\\Users\\user\\Desktop\\FINAL\\final-project\\16\\data\\13\\test\\images\\IMG-20211216-WA0017_jpg.rf.68e5e56b935a6a6d29ceaa032fefe454.jpg: 640x640 1 chilli, 13.6ms\n",
      "image 499/1176 c:\\Users\\user\\Desktop\\FINAL\\final-project\\16\\data\\13\\test\\images\\IMG-20211216-WA0037_jpg.rf.d13e03d7df9972cc836c5caf7f6a3250.jpg: 640x640 1 red chili, 6.0ms\n",
      "image 500/1176 c:\\Users\\user\\Desktop\\FINAL\\final-project\\16\\data\\13\\test\\images\\IMG-20211216-WA0038_jpg.rf.ce92c35af3e3f4e9473b1a3921bf350b.jpg: 640x640 1 red chili, 13.1ms\n",
      "image 501/1176 c:\\Users\\user\\Desktop\\FINAL\\final-project\\16\\data\\13\\test\\images\\IMG-20211216-WA0042_jpg.rf.e55e5533b552abb13185d72b9e7b4d54.jpg: 640x640 1 red chili, 14.1ms\n",
      "image 502/1176 c:\\Users\\user\\Desktop\\FINAL\\final-project\\16\\data\\13\\test\\images\\IMG-20211216-WA0050_jpg.rf.5c0a577914c9abc3180215c765eb24b6.jpg: 640x640 1 red chili, 12.8ms\n",
      "image 503/1176 c:\\Users\\user\\Desktop\\FINAL\\final-project\\16\\data\\13\\test\\images\\IMG-7475_jpg.rf.4db9bdc40eea6a527d98ff3687680090.jpg: 640x640 1 avocado, 3 milks, 1 salad, 15.4ms\n",
      "image 504/1176 c:\\Users\\user\\Desktop\\FINAL\\final-project\\16\\data\\13\\test\\images\\IMG-7476_jpg.rf.46c9ca077a4158781f5609e007cfaf56.jpg: 640x640 1 bread, 3 milks, 3 tomatos, 16.3ms\n",
      "image 505/1176 c:\\Users\\user\\Desktop\\FINAL\\final-project\\16\\data\\13\\test\\images\\IMG_0413_jpg.rf.eaf5107875c7c5d95a27c4a4386fe271.jpg: 640x640 2 beefs, 12.4ms\n",
      "image 506/1176 c:\\Users\\user\\Desktop\\FINAL\\final-project\\16\\data\\13\\test\\images\\IMG_20220110_093130_jpg.rf.cd937b6d20c68e7a47c3b59bf13b1081.jpg: 640x640 1 pork, 15.2ms\n",
      "image 507/1176 c:\\Users\\user\\Desktop\\FINAL\\final-project\\16\\data\\13\\test\\images\\IMG_20220110_093332_jpg.rf.f8848a228cde7cf9a1efdf85f6b922aa.jpg: 640x640 1 pork, 19.6ms\n",
      "image 508/1176 c:\\Users\\user\\Desktop\\FINAL\\final-project\\16\\data\\13\\test\\images\\IMG_20220110_093420_jpg.rf.a31d1991ba6c10fa02bf1fa5d16682c1.jpg: 640x640 1 pork, 11.5ms\n",
      "image 509/1176 c:\\Users\\user\\Desktop\\FINAL\\final-project\\16\\data\\13\\test\\images\\IMG_20221027_123044_jpg.rf.097463357d76febc8bc97703489d9557.jpg: 640x640 3 potatos, 2 tomatos, 12.0ms\n",
      "image 510/1176 c:\\Users\\user\\Desktop\\FINAL\\final-project\\16\\data\\13\\test\\images\\IMG_20221027_123044_jpg.rf.dd28c5fab81a0da0ac1bd8ce039dd02d.jpg: 640x640 3 potatos, 2 tomatos, 12.3ms\n",
      "image 511/1176 c:\\Users\\user\\Desktop\\FINAL\\final-project\\16\\data\\13\\test\\images\\IMG_20221027_123048_jpg.rf.3b36084d6dedb61022bd0ab27a5269df.jpg: 640x640 3 potatos, 2 tomatos, 11.9ms\n",
      "image 512/1176 c:\\Users\\user\\Desktop\\FINAL\\final-project\\16\\data\\13\\test\\images\\IMG_20221027_123048_jpg.rf.4d7d35088f454caa924616d80d9fe108.jpg: 640x640 3 potatos, 2 tomatos, 14.0ms\n",
      "image 513/1176 c:\\Users\\user\\Desktop\\FINAL\\final-project\\16\\data\\13\\test\\images\\IMG_20221027_123048_jpg.rf.87bc8355c8736f08cd9bf6b04c073758.jpg: 640x640 3 potatos, 2 tomatos, 12.6ms\n",
      "image 514/1176 c:\\Users\\user\\Desktop\\FINAL\\final-project\\16\\data\\13\\test\\images\\IMG_20221027_123123_jpg.rf.b882e8da332715e7f90a5ad8268557f9.jpg: 640x640 3 potatos, 2 tomatos, 15.9ms\n",
      "image 515/1176 c:\\Users\\user\\Desktop\\FINAL\\final-project\\16\\data\\13\\test\\images\\IMG_20221027_123136_jpg.rf.2df884a7321250d06d1e3a477b85c7ef.jpg: 640x640 3 potatos, 1 tomato, 14.7ms\n",
      "image 516/1176 c:\\Users\\user\\Desktop\\FINAL\\final-project\\16\\data\\13\\test\\images\\IMG_20221027_123136_jpg.rf.4957dba7b7ba162ce08b9e2405fd182d.jpg: 640x640 3 potatos, 12.2ms\n",
      "image 517/1176 c:\\Users\\user\\Desktop\\FINAL\\final-project\\16\\data\\13\\test\\images\\IMG_20221027_123136_jpg.rf.4e2a9983ee72ac73a1e91ab5399f4edd.jpg: 640x640 3 potatos, 1 tomato, 11.2ms\n",
      "image 518/1176 c:\\Users\\user\\Desktop\\FINAL\\final-project\\16\\data\\13\\test\\images\\IMG_20221027_123141_jpg.rf.12668f163678d2fdf923b6e76c0fe3ae.jpg: 640x640 3 potatos, 2 tomatos, 13.3ms\n",
      "image 519/1176 c:\\Users\\user\\Desktop\\FINAL\\final-project\\16\\data\\13\\test\\images\\IMG_20221027_123146_jpg.rf.018defba30feb6f951978641989c1c40.jpg: 640x640 2 potatos, 2 tomatos, 13.6ms\n",
      "image 520/1176 c:\\Users\\user\\Desktop\\FINAL\\final-project\\16\\data\\13\\test\\images\\IMG_20221027_123146_jpg.rf.2a00e0364030888d1211679769c2fa50.jpg: 640x640 3 potatos, 2 tomatos, 16.0ms\n",
      "image 521/1176 c:\\Users\\user\\Desktop\\FINAL\\final-project\\16\\data\\13\\test\\images\\IMG_20221027_123146_jpg.rf.addc7e5c36008cf7c1bf35ae5e35f6a0.jpg: 640x640 3 potatos, 2 tomatos, 21.1ms\n",
      "image 522/1176 c:\\Users\\user\\Desktop\\FINAL\\final-project\\16\\data\\13\\test\\images\\IMG_20221027_123203_jpg.rf.2bd1e3e61c52d02babde95fc741215c1.jpg: 640x640 3 potatos, 17.1ms\n",
      "image 523/1176 c:\\Users\\user\\Desktop\\FINAL\\final-project\\16\\data\\13\\test\\images\\IMG_20221027_123203_jpg.rf.3384edd193fee5f5b74455536ec45de9.jpg: 640x640 3 potatos, 1 tomato, 11.3ms\n",
      "image 524/1176 c:\\Users\\user\\Desktop\\FINAL\\final-project\\16\\data\\13\\test\\images\\IMG_20221027_123203_jpg.rf.eb9acd48b639d2d971afa85d2cfc22b8.jpg: 640x640 3 potatos, 1 tomato, 16.3ms\n",
      "image 525/1176 c:\\Users\\user\\Desktop\\FINAL\\final-project\\16\\data\\13\\test\\images\\IMG_20221027_123212_jpg.rf.0b20d85496b3d8d251076e270638c800.jpg: 640x640 1 cashew, 1 potato, 1 tomato, 19.3ms\n",
      "image 526/1176 c:\\Users\\user\\Desktop\\FINAL\\final-project\\16\\data\\13\\test\\images\\IMG_20221027_123212_jpg.rf.11ff90c47397973edba31ca22daad788.jpg: 640x640 3 potatos, 1 tomato, 11.6ms\n",
      "image 527/1176 c:\\Users\\user\\Desktop\\FINAL\\final-project\\16\\data\\13\\test\\images\\IMG_20221027_123212_jpg.rf.fafb2092a375fc14b1ce81ff1cae99fb.jpg: 640x640 3 potatos, 1 tomato, 16.4ms\n",
      "image 528/1176 c:\\Users\\user\\Desktop\\FINAL\\final-project\\16\\data\\13\\test\\images\\IMG_20221027_123224_jpg.rf.78486caa4e5934040c8da47e43b043b5.jpg: 640x640 3 potatos, 2 tomatos, 18.8ms\n",
      "image 529/1176 c:\\Users\\user\\Desktop\\FINAL\\final-project\\16\\data\\13\\test\\images\\IMG_20221027_123224_jpg.rf.a0805b47e5a901c9c36786bc625ee9d9.jpg: 640x640 3 potatos, 2 tomatos, 17.9ms\n",
      "image 530/1176 c:\\Users\\user\\Desktop\\FINAL\\final-project\\16\\data\\13\\test\\images\\IMG_20221027_123224_jpg.rf.d7470d032fddde1ab11ffa4e2af2a7b4.jpg: 640x640 3 potatos, 2 tomatos, 16.0ms\n",
      "image 531/1176 c:\\Users\\user\\Desktop\\FINAL\\final-project\\16\\data\\13\\test\\images\\IMG_20221027_123228_jpg.rf.0784062ef6a80b89a530856cec70a730.jpg: 640x640 1 potato, 2 tomatos, 16.3ms\n",
      "image 532/1176 c:\\Users\\user\\Desktop\\FINAL\\final-project\\16\\data\\13\\test\\images\\IMG_20221027_123228_jpg.rf.748eccd80cd6464075167fcf12513b6b.jpg: 640x640 2 potatos, 2 tomatos, 20.9ms\n",
      "image 533/1176 c:\\Users\\user\\Desktop\\FINAL\\final-project\\16\\data\\13\\test\\images\\IMG_20221027_123228_jpg.rf.ae22de5ce838a3f2e6c64d981a81c056.jpg: 640x640 1 potato, 1 tomato, 14.0ms\n",
      "image 534/1176 c:\\Users\\user\\Desktop\\FINAL\\final-project\\16\\data\\13\\test\\images\\IMG_20221027_123234_jpg.rf.e026fcf5cbc08807a111fbf2079aedde.jpg: 640x640 2 potatos, 2 tomatos, 13.9ms\n",
      "image 535/1176 c:\\Users\\user\\Desktop\\FINAL\\final-project\\16\\data\\13\\test\\images\\IMG_20221027_123238_jpg.rf.387f7b2648642326e2c47265de4c9f9c.jpg: 640x640 2 potatos, 1 tomato, 15.1ms\n",
      "image 536/1176 c:\\Users\\user\\Desktop\\FINAL\\final-project\\16\\data\\13\\test\\images\\IMG_20221027_123243_jpg.rf.59c5d23e7b6134ab3a33777d95161b75.jpg: 640x640 1 garlic, 2 potatos, 1 tomato, 27.7ms\n",
      "image 537/1176 c:\\Users\\user\\Desktop\\FINAL\\final-project\\16\\data\\13\\test\\images\\IMG_20221027_123243_jpg.rf.7f77f8dbf11b1751206db79d2a14ba42.jpg: 640x640 1 cashew, 2 potatos, 14.7ms\n",
      "image 538/1176 c:\\Users\\user\\Desktop\\FINAL\\final-project\\16\\data\\13\\test\\images\\IMG_20221027_123243_jpg.rf.f76ce5cffa5124d7bc514f2ceb9a4c73.jpg: 640x640 1 cashew, 2 potatos, 1 tomato, 11.7ms\n",
      "image 539/1176 c:\\Users\\user\\Desktop\\FINAL\\final-project\\16\\data\\13\\test\\images\\IMG_20221027_123254_jpg.rf.12767646f768190f0ea582cecbdde2b3.jpg: 640x640 3 potatos, 1 tomato, 13.2ms\n",
      "image 540/1176 c:\\Users\\user\\Desktop\\FINAL\\final-project\\16\\data\\13\\test\\images\\IMG_20221027_123254_jpg.rf.3ce27c39536e1278c31dc3037f42cd47.jpg: 640x640 2 potatos, 2 tomatos, 17.3ms\n",
      "image 541/1176 c:\\Users\\user\\Desktop\\FINAL\\final-project\\16\\data\\13\\test\\images\\IMG_20221027_123254_jpg.rf.e73e451de829b4d22072f46d411e0873.jpg: 640x640 1 cashew, 2 potatos, 1 tomato, 12.1ms\n",
      "image 542/1176 c:\\Users\\user\\Desktop\\FINAL\\final-project\\16\\data\\13\\test\\images\\IMG_20221027_123259_jpg.rf.2c72f98112d7cc6aa2a9453330dbb1b6.jpg: 640x640 1 cashew, 2 potatos, 16.3ms\n",
      "image 543/1176 c:\\Users\\user\\Desktop\\FINAL\\final-project\\16\\data\\13\\test\\images\\IMG_20221027_123259_jpg.rf.41bd755e70d03893e2775f226f86981a.jpg: 640x640 2 potatos, 1 tomato, 11.5ms\n",
      "image 544/1176 c:\\Users\\user\\Desktop\\FINAL\\final-project\\16\\data\\13\\test\\images\\IMG_20221027_123259_jpg.rf.866f2bc1f910c2bbafaef6fa4b1d54e3.jpg: 640x640 2 potatos, 2 tomatos, 14.9ms\n",
      "image 545/1176 c:\\Users\\user\\Desktop\\FINAL\\final-project\\16\\data\\13\\test\\images\\IMG_20221027_123311_jpg.rf.2c9dddb170aa1e6363a4f6a2c33a4007.jpg: 640x640 3 potatos, 16.4ms\n",
      "image 546/1176 c:\\Users\\user\\Desktop\\FINAL\\final-project\\16\\data\\13\\test\\images\\IMG_20221027_123317_jpg.rf.cb7080eeb5a95bd6a295dfca41287023.jpg: 640x640 3 potatos, 2 tomatos, 12.0ms\n",
      "image 547/1176 c:\\Users\\user\\Desktop\\FINAL\\final-project\\16\\data\\13\\test\\images\\IMG_2354_jpg.rf.8d0d76c9de51c31da6d9f4d625a65e1a.jpg: 640x640 1 egg, 21.0ms\n",
      "image 548/1176 c:\\Users\\user\\Desktop\\FINAL\\final-project\\16\\data\\13\\test\\images\\IMG_2357_jpg.rf.cfcae04c68ee5562d2392a38c56bd685.jpg: 640x640 1 egg, 12.6ms\n",
      "image 549/1176 c:\\Users\\user\\Desktop\\FINAL\\final-project\\16\\data\\13\\test\\images\\IMG_2378_jpg.rf.eec384224dadd4795846743a07e22dbb.jpg: 640x640 1 egg, 17.9ms\n",
      "image 550/1176 c:\\Users\\user\\Desktop\\FINAL\\final-project\\16\\data\\13\\test\\images\\IMG_5029_jpg.rf.e018f1127de9fb45a5d52069239c7c78.jpg: 640x640 1 chicken, 12.9ms\n",
      "image 551/1176 c:\\Users\\user\\Desktop\\FINAL\\final-project\\16\\data\\13\\test\\images\\IMG_5038_jpg.rf.a89e563dfaed5ec09db5ea482ddc4427.jpg: 640x640 1 chicken, 12.4ms\n",
      "image 552/1176 c:\\Users\\user\\Desktop\\FINAL\\final-project\\16\\data\\13\\test\\images\\IMG_5068_jpg.rf.53983f06a8f8de161a606a79dde0e0d1.jpg: 640x640 1 chicken, 15.1ms\n",
      "image 553/1176 c:\\Users\\user\\Desktop\\FINAL\\final-project\\16\\data\\13\\test\\images\\IMG_5234_JPG.rf.dc51a8dbe0aa605c9f2239b49b4da13c.jpg: 640x640 1 chicken, 11.6ms\n",
      "image 554/1176 c:\\Users\\user\\Desktop\\FINAL\\final-project\\16\\data\\13\\test\\images\\IMG_6365_JPG_jpg.rf.35632dc8da6bd5647d43f34a2206860d.jpg: 640x640 1 avocado, 2 bell_peppers, 2 guacamoles, 1 salad, 3 yogurts, 12.2ms\n",
      "image 555/1176 c:\\Users\\user\\Desktop\\FINAL\\final-project\\16\\data\\13\\test\\images\\IMG_6367_JPG_jpg.rf.8b14e67aaaf909c124ffa8886f954b9f.jpg: 640x640 1 guacamole, 1 heavy_cream, 1 salad, 2 yogurts, 19.3ms\n",
      "image 556/1176 c:\\Users\\user\\Desktop\\FINAL\\final-project\\16\\data\\13\\test\\images\\Image_14_jpg.rf.67dd311ee3dd1ba83c7dbf1c96bb3b2a.jpg: 640x640 2 tomatos, 15.4ms\n",
      "image 557/1176 c:\\Users\\user\\Desktop\\FINAL\\final-project\\16\\data\\13\\test\\images\\Image_17_jpeg.rf.4b8f10f72b56a074d47f15c38b4ad51a.jpg: 640x640 6 carrots, 15.5ms\n",
      "image 558/1176 c:\\Users\\user\\Desktop\\FINAL\\final-project\\16\\data\\13\\test\\images\\Image_29_jpg.rf.673c202ab11cf9bd4ba52146a5e4f17d.jpg: 640x640 1 tomato, 12.4ms\n",
      "image 559/1176 c:\\Users\\user\\Desktop\\FINAL\\final-project\\16\\data\\13\\test\\images\\Image_31_jpg.rf.52bff9fa2989b2378b3650000e5b2a02.jpg: 640x640 4 carrots, 16.0ms\n",
      "image 560/1176 c:\\Users\\user\\Desktop\\FINAL\\final-project\\16\\data\\13\\test\\images\\Image_3_jpg.rf.8df5a0fe350ade76425f111fc475c9dd.jpg: 640x640 1 tempeh, 1 tofu, 13.6ms\n",
      "image 561/1176 c:\\Users\\user\\Desktop\\FINAL\\final-project\\16\\data\\13\\test\\images\\Image_51_jpg.rf.6db99a045b30933c54ee905b41eaa866.jpg: 640x640 5 carrots, 12.4ms\n",
      "image 562/1176 c:\\Users\\user\\Desktop\\FINAL\\final-project\\16\\data\\13\\test\\images\\Image_66_jpg.rf.4ee5e95c58af25fe8e7fc681533e579d.jpg: 640x640 6 carrots, 20.8ms\n",
      "image 563/1176 c:\\Users\\user\\Desktop\\FINAL\\final-project\\16\\data\\13\\test\\images\\Image_80_png.rf.89feb8248cf03ccb86ce4ab8498650da.jpg: 640x640 3 carrots, 11.8ms\n",
      "image 564/1176 c:\\Users\\user\\Desktop\\FINAL\\final-project\\16\\data\\13\\test\\images\\Image_81_jpg.rf.48fce40d1c55ae40503798b30d6155bb.jpg: 640x640 6 carrots, 22.6ms\n",
      "image 565/1176 c:\\Users\\user\\Desktop\\FINAL\\final-project\\16\\data\\13\\test\\images\\Image_85_jpg.rf.e6cf856b7414842e099c1e03880c8543.jpg: 640x640 3 carrots, 22.4ms\n",
      "image 566/1176 c:\\Users\\user\\Desktop\\FINAL\\final-project\\16\\data\\13\\test\\images\\LINE_ALBUM_-_211223_100_jpg.rf.6555165e664dfde291df73fa65d18c48.jpg: 640x640 1 egg, 12.5ms\n",
      "image 567/1176 c:\\Users\\user\\Desktop\\FINAL\\final-project\\16\\data\\13\\test\\images\\LINE_ALBUM_-_211223_102_jpg.rf.5705c60008d2f0332a5ff5cac593ddc0.jpg: 640x640 1 egg, 17.9ms\n",
      "image 568/1176 c:\\Users\\user\\Desktop\\FINAL\\final-project\\16\\data\\13\\test\\images\\LINE_ALBUM_-_211223_102_jpg.rf.ff5acd443ce82416289eb6d3f91ca5ac.jpg: 640x640 1 egg, 13.8ms\n",
      "image 569/1176 c:\\Users\\user\\Desktop\\FINAL\\final-project\\16\\data\\13\\test\\images\\LINE_ALBUM_-_211223_106_jpg.rf.d01c2a2714b9148874a0f5b91d68bdc2.jpg: 640x640 1 egg, 12.8ms\n",
      "image 570/1176 c:\\Users\\user\\Desktop\\FINAL\\final-project\\16\\data\\13\\test\\images\\LINE_ALBUM_-_211223_108_jpg.rf.fe966e5012dcf18cc55fa41ec68b9688.jpg: 640x640 1 egg, 23.0ms\n",
      "image 571/1176 c:\\Users\\user\\Desktop\\FINAL\\final-project\\16\\data\\13\\test\\images\\LINE_ALBUM_-_211223_113_jpg.rf.6b84a1286ca781c7ae75635c15f62fb1.jpg: 640x640 1 egg, 1 tomato, 13.3ms\n",
      "image 572/1176 c:\\Users\\user\\Desktop\\FINAL\\final-project\\16\\data\\13\\test\\images\\LINE_ALBUM_-_211223_119_jpg.rf.e71d1ef9530281c9a8650574edd410e7.jpg: 640x640 1 egg, 15.9ms\n",
      "image 573/1176 c:\\Users\\user\\Desktop\\FINAL\\final-project\\16\\data\\13\\test\\images\\LINE_ALBUM_-_211223_143_jpg.rf.9c5fed35e4298a678409bf0f4c112ace.jpg: 640x640 1 egg, 17.3ms\n",
      "image 574/1176 c:\\Users\\user\\Desktop\\FINAL\\final-project\\16\\data\\13\\test\\images\\LINE_ALBUM_-_211223_145_jpg.rf.1bec34ce33c65a6fc7ba775be722d92d.jpg: 640x640 1 egg, 12.1ms\n",
      "image 575/1176 c:\\Users\\user\\Desktop\\FINAL\\final-project\\16\\data\\13\\test\\images\\LINE_ALBUM_-_211223_73_jpg.rf.a7adaeca4e08078e6ca069638dc67c6d.jpg: 640x640 4 eggs, 11.6ms\n",
      "image 576/1176 c:\\Users\\user\\Desktop\\FINAL\\final-project\\16\\data\\13\\test\\images\\LINE_ALBUM_-_211223_83_jpg.rf.2cc4e2741b90b14aa697fd025d760484.jpg: 640x640 1 egg, 17.3ms\n",
      "image 577/1176 c:\\Users\\user\\Desktop\\FINAL\\final-project\\16\\data\\13\\test\\images\\LINE_ALBUM_-_211223_86_jpg.rf.fd803ebb03bd04408f8ab01d805d70dd.jpg: 640x640 1 egg, 20.4ms\n",
      "image 578/1176 c:\\Users\\user\\Desktop\\FINAL\\final-project\\16\\data\\13\\test\\images\\LINE_ALBUM_-_211223_87_jpg.rf.d88230bc4a791986a42d5a5c05d7a741.jpg: 640x640 1 egg, 20.5ms\n",
      "image 579/1176 c:\\Users\\user\\Desktop\\FINAL\\final-project\\16\\data\\13\\test\\images\\LINE_ALBUM_-_211223_88_jpg.rf.44fa87592e40796f39229b4ccb9e6e9e.jpg: 640x640 1 egg, 17.1ms\n",
      "image 580/1176 c:\\Users\\user\\Desktop\\FINAL\\final-project\\16\\data\\13\\test\\images\\LINE_ALBUM_-_211223_98_jpg.rf.0ed384973b999f51760525d82e35a695.jpg: 640x640 1 egg, 17.4ms\n",
      "image 581/1176 c:\\Users\\user\\Desktop\\FINAL\\final-project\\16\\data\\13\\test\\images\\LINE_ALBUM_-_211223_98_jpg.rf.7e111280897c9c954fa3819343a83ecc.jpg: 640x640 1 egg, 12.6ms\n",
      "image 582/1176 c:\\Users\\user\\Desktop\\FINAL\\final-project\\16\\data\\13\\test\\images\\PF-Shopify-HotPepper_jpg.rf.cf995b2bad719fc9fd83d36ae085cd71.jpg: 640x640 1 chilli, 1 red chili, 12.1ms\n",
      "image 583/1176 c:\\Users\\user\\Desktop\\FINAL\\final-project\\16\\data\\13\\test\\images\\Raising-Backyard-Chickens-For-Eggs-2_png.rf.a616f3e0659a19510abc6fc64531d91a.jpg: 640x640 6 eggs, 27.5ms\n",
      "image 584/1176 c:\\Users\\user\\Desktop\\FINAL\\final-project\\16\\data\\13\\test\\images\\Riped-tomato_107_jpeg.rf.b33e79b40a3dba5143320bfc8ae6ab3c.jpg: 640x640 4 tomatos, 17.7ms\n",
      "image 585/1176 c:\\Users\\user\\Desktop\\FINAL\\final-project\\16\\data\\13\\test\\images\\Riped-tomato_57_jpeg.rf.0f7e94cdd6004199f8832cbb3945f5c4.jpg: 640x640 2 tomatos, 16.0ms\n",
      "image 586/1176 c:\\Users\\user\\Desktop\\FINAL\\final-project\\16\\data\\13\\test\\images\\Sapi-15-_JPG.rf.e27659273bb5a7fb6fd966b5f6398d6c.jpg: 640x640 1 beef, 19.7ms\n",
      "image 587/1176 c:\\Users\\user\\Desktop\\FINAL\\final-project\\16\\data\\13\\test\\images\\Screenshot_332_jpg.rf.7c804c0f4907e4d69392d29125770c5e.jpg: 640x640 1 pork, 13.2ms\n",
      "image 588/1176 c:\\Users\\user\\Desktop\\FINAL\\final-project\\16\\data\\13\\test\\images\\Tomato_Green-152-_jpg.rf.877e85369bba6f4537c57a9b7a755db0.jpg: 640x640 1 potato, 11.6ms\n",
      "image 589/1176 c:\\Users\\user\\Desktop\\FINAL\\final-project\\16\\data\\13\\test\\images\\WhatsApp-Image-2022-10-26-at-1-20-32-PM_jpeg_jpg.rf.008d09ddc94194d0938781f143412298.jpg: 640x640 1 cucumber, 16.6ms\n",
      "image 590/1176 c:\\Users\\user\\Desktop\\FINAL\\final-project\\16\\data\\13\\test\\images\\WhatsApp-Image-2022-10-26-at-1-20-32-PM_jpeg_jpg.rf.1bc3d33ec9a6a0cb9be31a790ffdb18e.jpg: 640x640 1 bitter gourd, 1 green chilli, 1 tomato, 15.3ms\n",
      "image 591/1176 c:\\Users\\user\\Desktop\\FINAL\\final-project\\16\\data\\13\\test\\images\\WhatsApp-Image-2022-10-26-at-1-20-32-PM_jpeg_jpg.rf.dcab12e44f2861f8510115846b09b849.jpg: 640x640 1 green chilli, 15.8ms\n",
      "image 592/1176 c:\\Users\\user\\Desktop\\FINAL\\final-project\\16\\data\\13\\test\\images\\WhatsApp-Image-2022-10-26-at-1-20-33-PM-1-_jpeg_jpg.rf.2462fe1926ca469ce036a6c228f66f79.jpg: 640x640 1 tomato, 12.4ms\n",
      "image 593/1176 c:\\Users\\user\\Desktop\\FINAL\\final-project\\16\\data\\13\\test\\images\\WhatsApp-Image-2022-10-26-at-1-20-33-PM-1-_jpeg_jpg.rf.854ab8485728ad2888f42e583a399891.jpg: 640x640 1 cucumber, 16.8ms\n",
      "image 594/1176 c:\\Users\\user\\Desktop\\FINAL\\final-project\\16\\data\\13\\test\\images\\WhatsApp-Image-2022-10-26-at-1-20-33-PM-1-_jpeg_jpg.rf.ff495202a47a4c0c9e31467003679ef4.jpg: 640x640 1 cucumber, 12.7ms\n",
      "image 595/1176 c:\\Users\\user\\Desktop\\FINAL\\final-project\\16\\data\\13\\test\\images\\WhatsApp-Image-2022-10-26-at-1-20-33-PM_jpeg_jpg.rf.916d3f1c73aef4c97ddc667e879af52e.jpg: 640x640 1 cucumber, 13.8ms\n",
      "image 596/1176 c:\\Users\\user\\Desktop\\FINAL\\final-project\\16\\data\\13\\test\\images\\WhatsApp-Image-2022-10-26-at-1-20-33-PM_jpeg_jpg.rf.abb2cc8f38148b28c0b6a464924dcbc3.jpg: 640x640 1 bitter gourd, 1 tomato, 17.8ms\n",
      "image 597/1176 c:\\Users\\user\\Desktop\\FINAL\\final-project\\16\\data\\13\\test\\images\\WhatsApp-Image-2022-10-26-at-1-20-33-PM_jpeg_jpg.rf.e1c2fb29a31baa1cdf0b38d069f7a97e.jpg: 640x640 1 bitter gourd, 1 tomato, 13.0ms\n",
      "image 598/1176 c:\\Users\\user\\Desktop\\FINAL\\final-project\\16\\data\\13\\test\\images\\WhatsApp-Image-2022-10-26-at-1-20-34-PM-1-_jpeg_jpg.rf.6ae59110ac40ffdbc4b9bb89b19e88e0.jpg: 640x640 (no detections), 16.2ms\n",
      "image 599/1176 c:\\Users\\user\\Desktop\\FINAL\\final-project\\16\\data\\13\\test\\images\\WhatsApp-Image-2022-10-26-at-1-20-34-PM_jpeg_jpg.rf.18c03901292272900a6802b648534b69.jpg: 640x640 1 tomato, 12.4ms\n",
      "image 600/1176 c:\\Users\\user\\Desktop\\FINAL\\final-project\\16\\data\\13\\test\\images\\WhatsApp-Image-2022-10-26-at-1-20-35-PM-1-_jpeg_jpg.rf.4f4bf865c3ff5e9db03f88d98945e11a.jpg: 640x640 (no detections), 16.5ms\n",
      "image 601/1176 c:\\Users\\user\\Desktop\\FINAL\\final-project\\16\\data\\13\\test\\images\\WhatsApp-Image-2022-10-26-at-1-20-35-PM-1-_jpeg_jpg.rf.7111f2260d1ab46f2ab31906912e5937.jpg: 640x640 1 bitter gourd, 1 tomato, 14.6ms\n",
      "image 602/1176 c:\\Users\\user\\Desktop\\FINAL\\final-project\\16\\data\\13\\test\\images\\WhatsApp-Image-2022-10-26-at-1-20-35-PM-1-_jpeg_jpg.rf.e7ec2ee646b77f16fba8a5d9f2b7dc24.jpg: 640x640 1 Mushroom, 1 bitter gourd, 1 tomato, 15.1ms\n",
      "image 603/1176 c:\\Users\\user\\Desktop\\FINAL\\final-project\\16\\data\\13\\test\\images\\WhatsApp-Image-2022-10-26-at-1-20-35-PM_jpeg_jpg.rf.246990aa4de130f1542b625184e91738.jpg: 640x640 1 green chilli, 1 tomato, 15.8ms\n",
      "image 604/1176 c:\\Users\\user\\Desktop\\FINAL\\final-project\\16\\data\\13\\test\\images\\WhatsApp-Image-2022-10-26-at-1-20-35-PM_jpeg_jpg.rf.a163034541dd46730fe8eb95c03d0538.jpg: 640x640 (no detections), 16.3ms\n",
      "image 605/1176 c:\\Users\\user\\Desktop\\FINAL\\final-project\\16\\data\\13\\test\\images\\WhatsApp-Image-2022-10-26-at-1-20-35-PM_jpeg_jpg.rf.c750fd34b55fac33fb90c97b06be74fb.jpg: 640x640 1 bitter gourd, 1 tomato, 13.0ms\n",
      "image 606/1176 c:\\Users\\user\\Desktop\\FINAL\\final-project\\16\\data\\13\\test\\images\\WhatsApp-Image-2022-10-26-at-1-20-36-PM_jpeg_jpg.rf.6d5fd134425d8de9ee53376df1592290.jpg: 640x640 1 green chilli, 1 tomato, 12.0ms\n",
      "image 607/1176 c:\\Users\\user\\Desktop\\FINAL\\final-project\\16\\data\\13\\test\\images\\WhatsApp-Image-2022-10-26-at-1-20-36-PM_jpeg_jpg.rf.aa09b8308bfa8b030021f8de103b3b4e.jpg: 640x640 1 tomato, 14.2ms\n",
      "image 608/1176 c:\\Users\\user\\Desktop\\FINAL\\final-project\\16\\data\\13\\test\\images\\WhatsApp-Image-2022-10-26-at-1-20-36-PM_jpeg_jpg.rf.cbe439a8a49f349ebf2831ec7389b055.jpg: 640x640 1 green chilli, 17.5ms\n",
      "image 609/1176 c:\\Users\\user\\Desktop\\FINAL\\final-project\\16\\data\\13\\test\\images\\WhatsApp-Image-2022-10-26-at-1-20-40-PM_jpeg_jpg.rf.ce268b1e90d33f408c0cc7c45c9309c9.jpg: 640x640 (no detections), 6.8ms\n",
      "image 610/1176 c:\\Users\\user\\Desktop\\FINAL\\final-project\\16\\data\\13\\test\\images\\WhatsApp-Image-2022-10-26-at-1-20-42-PM_jpeg_jpg.rf.539ec05ec262fb89026177d5293cb9e4.jpg: 640x640 1 tomato, 13.3ms\n",
      "image 611/1176 c:\\Users\\user\\Desktop\\FINAL\\final-project\\16\\data\\13\\test\\images\\WhatsApp-Image-2022-10-26-at-1-20-42-PM_jpeg_jpg.rf.e0ccae34d4cf2dd3daaaf8da1d6d3ccd.jpg: 640x640 1 cucumber, 12.6ms\n",
      "image 612/1176 c:\\Users\\user\\Desktop\\FINAL\\final-project\\16\\data\\13\\test\\images\\WhatsApp-Image-2022-10-26-at-1-20-42-PM_jpeg_jpg.rf.e712da60441882d0db398efbbaa7ae91.jpg: 640x640 1 cucumber, 14.4ms\n",
      "image 613/1176 c:\\Users\\user\\Desktop\\FINAL\\final-project\\16\\data\\13\\test\\images\\WhatsApp-Image-2022-10-26-at-1-20-43-PM_jpeg_jpg.rf.e1d4d623eea5e6b586ff8a946ff0299e.jpg: 640x640 (no detections), 15.9ms\n",
      "image 614/1176 c:\\Users\\user\\Desktop\\FINAL\\final-project\\16\\data\\13\\test\\images\\WhatsApp-Image-2022-10-26-at-1-20-55-PM_jpeg_jpg.rf.7f50ecbe3fe63c714b44b26ce79e14c1.jpg: 640x640 1 bitter gourd, 17.5ms\n",
      "image 615/1176 c:\\Users\\user\\Desktop\\FINAL\\final-project\\16\\data\\13\\test\\images\\WhatsApp-Image-2022-10-26-at-1-20-55-PM_jpeg_jpg.rf.b9c44ec72ab3cf6c78b402058e811520.jpg: 640x640 1 ampalaya, 1 bitter gourd, 20.6ms\n",
      "image 616/1176 c:\\Users\\user\\Desktop\\FINAL\\final-project\\16\\data\\13\\test\\images\\WhatsApp-Image-2022-10-26-at-1-20-55-PM_jpeg_jpg.rf.bfda83ca0b9d8dbd459029d7e926a985.jpg: 640x640 1 bitter gourd, 24.4ms\n",
      "image 617/1176 c:\\Users\\user\\Desktop\\FINAL\\final-project\\16\\data\\13\\test\\images\\WhatsApp-Image-2022-10-26-at-1-21-00-PM_jpeg_jpg.rf.30fbe45e0fec490b003b9660964e655a.jpg: 640x640 1 tomato, 16.8ms\n",
      "image 618/1176 c:\\Users\\user\\Desktop\\FINAL\\final-project\\16\\data\\13\\test\\images\\WhatsApp-Image-2022-10-26-at-1-21-00-PM_jpeg_jpg.rf.cb7f22a15287e26bf3f7d8667935e2da.jpg: 640x640 1 cucumber, 15.3ms\n",
      "image 619/1176 c:\\Users\\user\\Desktop\\FINAL\\final-project\\16\\data\\13\\test\\images\\WhatsApp-Image-2022-10-26-at-1-21-00-PM_jpeg_jpg.rf.d029f88daf3d7fa66597b3bff247b879.jpg: 640x640 1 green chilli, 13.0ms\n",
      "image 620/1176 c:\\Users\\user\\Desktop\\FINAL\\final-project\\16\\data\\13\\test\\images\\WhatsApp-Image-2022-10-26-at-1-21-02-PM_jpeg_jpg.rf.689f4268429a9efaddf6bbd94d7b9030.jpg: 640x640 1 green chilli, 1 tomato, 15.0ms\n",
      "image 621/1176 c:\\Users\\user\\Desktop\\FINAL\\final-project\\16\\data\\13\\test\\images\\WhatsApp-Image-2022-10-26-at-1-21-02-PM_jpeg_jpg.rf.a0ed78f327978162790d3884fb9c63e0.jpg: 640x640 1 bitter gourd, 1 tomato, 8.8ms\n",
      "image 622/1176 c:\\Users\\user\\Desktop\\FINAL\\final-project\\16\\data\\13\\test\\images\\WhatsApp-Image-2022-10-26-at-1-21-02-PM_jpeg_jpg.rf.c8ffe33ddebb97e0fe05529891764e28.jpg: 640x640 1 cucumber, 14.3ms\n",
      "image 623/1176 c:\\Users\\user\\Desktop\\FINAL\\final-project\\16\\data\\13\\test\\images\\WhatsApp-Image-2022-10-26-at-1-21-03-PM_jpeg_jpg.rf.2cc46a81904ac803cf41eba8edff6ad6.jpg: 640x640 1 Mushroom, 1 tomato, 13.5ms\n",
      "image 624/1176 c:\\Users\\user\\Desktop\\FINAL\\final-project\\16\\data\\13\\test\\images\\WhatsApp-Image-2022-10-26-at-1-21-03-PM_jpeg_jpg.rf.a377fddaed5be313d36c44dec8d85958.jpg: 640x640 1 bitter gourd, 1 tomato, 20.4ms\n",
      "image 625/1176 c:\\Users\\user\\Desktop\\FINAL\\final-project\\16\\data\\13\\test\\images\\WhatsApp-Image-2022-10-26-at-1-21-03-PM_jpeg_jpg.rf.cc7ac187668ec0378c34c8fd3df4e81a.jpg: 640x640 1 bitter gourd, 1 tomato, 12.3ms\n",
      "image 626/1176 c:\\Users\\user\\Desktop\\FINAL\\final-project\\16\\data\\13\\test\\images\\WhatsApp-Image-2022-10-26-at-1-21-04-PM-1-_jpeg_jpg.rf.9010a3f71a0e14daa134487f03ab2093.jpg: 640x640 1 bitter gourd, 11.4ms\n",
      "image 627/1176 c:\\Users\\user\\Desktop\\FINAL\\final-project\\16\\data\\13\\test\\images\\WhatsApp-Image-2022-10-26-at-1-21-05-PM-1-_jpeg_jpg.rf.ac46af83b76854c63fa1c75039d72ca3.jpg: 640x640 1 green chilli, 16.6ms\n",
      "image 628/1176 c:\\Users\\user\\Desktop\\FINAL\\final-project\\16\\data\\13\\test\\images\\WhatsApp-Image-2022-10-26-at-1-21-05-PM-1-_jpeg_jpg.rf.c178239c1e81aa65231573c019ae02af.jpg: 640x640 1 cucumber, 15.5ms\n",
      "image 629/1176 c:\\Users\\user\\Desktop\\FINAL\\final-project\\16\\data\\13\\test\\images\\WhatsApp-Image-2022-10-26-at-1-21-05-PM-1-_jpeg_jpg.rf.ef2fe7ba474b1c9ca9a1bf5f871585fa.jpg: 640x640 (no detections), 7.3ms\n",
      "image 630/1176 c:\\Users\\user\\Desktop\\FINAL\\final-project\\16\\data\\13\\test\\images\\WhatsApp-Image-2022-10-26-at-1-21-05-PM_jpeg_jpg.rf.6884b59d3693024a476d855e4835601d.jpg: 640x640 1 green chilli, 1 tomato, 15.7ms\n",
      "image 631/1176 c:\\Users\\user\\Desktop\\FINAL\\final-project\\16\\data\\13\\test\\images\\WhatsApp-Image-2022-10-26-at-1-21-05-PM_jpeg_jpg.rf.82dd23ab48e1cd9f8ffe7dacb291db51.jpg: 640x640 1 tomato, 14.8ms\n",
      "image 632/1176 c:\\Users\\user\\Desktop\\FINAL\\final-project\\16\\data\\13\\test\\images\\WhatsApp-Image-2022-10-26-at-1-21-05-PM_jpeg_jpg.rf.89260768e15a681807fd662c9db7a282.jpg: 640x640 1 tomato, 14.7ms\n",
      "image 633/1176 c:\\Users\\user\\Desktop\\FINAL\\final-project\\16\\data\\13\\test\\images\\WhatsApp-Image-2022-10-26-at-1-21-06-PM_jpeg_jpg.rf.03417d3511e0a8696fa5604d15587690.jpg: 640x640 (no detections), 17.9ms\n",
      "image 634/1176 c:\\Users\\user\\Desktop\\FINAL\\final-project\\16\\data\\13\\test\\images\\WhatsApp-Image-2022-10-26-at-1-21-06-PM_jpeg_jpg.rf.116e551a2c17b522c9bd3a949171dc20.jpg: 640x640 1 green chilli, 14.1ms\n",
      "image 635/1176 c:\\Users\\user\\Desktop\\FINAL\\final-project\\16\\data\\13\\test\\images\\WhatsApp-Image-2022-10-26-at-1-21-06-PM_jpeg_jpg.rf.fd60619a2b540f8b163c01ba84d674dc.jpg: 640x640 1 bitter gourd, 1 tomato, 12.6ms\n",
      "image 636/1176 c:\\Users\\user\\Desktop\\FINAL\\final-project\\16\\data\\13\\test\\images\\WhatsApp-Image-2022-10-26-at-1-21-07-PM-1-_jpeg_jpg.rf.7c480654daa601774a70733d35eebc16.jpg: 640x640 1 Mushroom, 1 green chilli, 15.9ms\n",
      "image 637/1176 c:\\Users\\user\\Desktop\\FINAL\\final-project\\16\\data\\13\\test\\images\\WhatsApp-Image-2022-10-26-at-1-21-07-PM-1-_jpeg_jpg.rf.914310aa971b573436af03c4d1408d34.jpg: 640x640 (no detections), 12.9ms\n",
      "image 638/1176 c:\\Users\\user\\Desktop\\FINAL\\final-project\\16\\data\\13\\test\\images\\WhatsApp-Image-2022-10-26-at-1-21-07-PM-1-_jpeg_jpg.rf.def8892d96937dbfcd2ed0100c67ac7b.jpg: 640x640 1 Mushroom, 1 cucumber, 18.0ms\n",
      "image 639/1176 c:\\Users\\user\\Desktop\\FINAL\\final-project\\16\\data\\13\\test\\images\\WhatsApp-Image-2022-10-26-at-1-21-07-PM_jpeg_jpg.rf.2d8655e02dea3fa54cd5f489c294be94.jpg: 640x640 1 green chilli, 12.7ms\n",
      "image 640/1176 c:\\Users\\user\\Desktop\\FINAL\\final-project\\16\\data\\13\\test\\images\\WhatsApp-Image-2022-10-26-at-1-21-07-PM_jpeg_jpg.rf.3a101f8a51f733a5155750222f3603ab.jpg: 640x640 (no detections), 13.6ms\n",
      "image 641/1176 c:\\Users\\user\\Desktop\\FINAL\\final-project\\16\\data\\13\\test\\images\\WhatsApp-Image-2022-10-26-at-1-21-07-PM_jpeg_jpg.rf.dda6a94604f56ccbdf7f807289447971.jpg: 640x640 1 green chilli, 20.6ms\n",
      "image 642/1176 c:\\Users\\user\\Desktop\\FINAL\\final-project\\16\\data\\13\\test\\images\\WhatsApp-Image-2022-10-26-at-1-21-08-PM-1-_jpeg_jpg.rf.ebf62e0abffc0dea0424e35c681986a5.jpg: 640x640 (no detections), 15.1ms\n",
      "image 643/1176 c:\\Users\\user\\Desktop\\FINAL\\final-project\\16\\data\\13\\test\\images\\WhatsApp-Image-2022-10-26-at-1-21-08-PM-2-_jpeg_jpg.rf.8776a93cb687631dd47e9bdffc3e2c6f.jpg: 640x640 1 ampalaya, 1 sweet potato, 12.4ms\n",
      "image 644/1176 c:\\Users\\user\\Desktop\\FINAL\\final-project\\16\\data\\13\\test\\images\\WhatsApp-Image-2022-10-26-at-1-21-08-PM-2-_jpeg_jpg.rf.a3a56a8789c37e7f57817c20e44b67ee.jpg: 640x640 1 bitter gourd, 1 tomato, 15.9ms\n",
      "image 645/1176 c:\\Users\\user\\Desktop\\FINAL\\final-project\\16\\data\\13\\test\\images\\WhatsApp-Image-2022-10-26-at-1-21-08-PM-2-_jpeg_jpg.rf.cc80e33070e1c327f9a54e5139e528d4.jpg: 640x640 (no detections), 11.5ms\n",
      "image 646/1176 c:\\Users\\user\\Desktop\\FINAL\\final-project\\16\\data\\13\\test\\images\\WhatsApp-Image-2022-10-26-at-1-21-08-PM_jpeg_jpg.rf.6973e91e186210e342a3de9bc4412315.jpg: 640x640 1 bitter gourd, 7.6ms\n",
      "image 647/1176 c:\\Users\\user\\Desktop\\FINAL\\final-project\\16\\data\\13\\test\\images\\WhatsApp-Image-2022-10-26-at-1-21-08-PM_jpeg_jpg.rf.a221fd4b432ea723391a352cc659a5f5.jpg: 640x640 1 bitter gourd, 13.5ms\n",
      "image 648/1176 c:\\Users\\user\\Desktop\\FINAL\\final-project\\16\\data\\13\\test\\images\\WhatsApp-Image-2022-10-26-at-1-21-08-PM_jpeg_jpg.rf.f1438fbefa305d36b7c205a4762ed946.jpg: 640x640 1 bitter gourd, 15.8ms\n",
      "image 649/1176 c:\\Users\\user\\Desktop\\FINAL\\final-project\\16\\data\\13\\test\\images\\WhatsApp-Image-2022-10-26-at-1-21-09-PM-1-_jpeg_jpg.rf.ecbe58731100b59c7b2e2e05ed67f0ce.jpg: 640x640 1 ampalaya, 14.0ms\n",
      "image 650/1176 c:\\Users\\user\\Desktop\\FINAL\\final-project\\16\\data\\13\\test\\images\\WhatsApp-Image-2022-10-26-at-1-21-09-PM_jpeg_jpg.rf.0c100b42b9c3f57d3f91a0606252c1cf.jpg: 640x640 (no detections), 13.8ms\n",
      "image 651/1176 c:\\Users\\user\\Desktop\\FINAL\\final-project\\16\\data\\13\\test\\images\\WhatsApp-Image-2022-10-26-at-1-21-09-PM_jpeg_jpg.rf.74d8a22cbab81b92f721f644041c0ca5.jpg: 640x640 1 cucumber, 1 egg, 14.0ms\n",
      "image 652/1176 c:\\Users\\user\\Desktop\\FINAL\\final-project\\16\\data\\13\\test\\images\\WhatsApp-Image-2022-10-26-at-1-21-09-PM_jpeg_jpg.rf.bedbd4783d1dcb15ecf5f99910dd09e3.jpg: 640x640 (no detections), 14.9ms\n",
      "image 653/1176 c:\\Users\\user\\Desktop\\FINAL\\final-project\\16\\data\\13\\test\\images\\WhatsApp-Image-2022-10-26-at-1-21-10-PM_jpeg_jpg.rf.f33197b19dc06241347b93f0465fd3a7.jpg: 640x640 1 tomato, 22.3ms\n",
      "image 654/1176 c:\\Users\\user\\Desktop\\FINAL\\final-project\\16\\data\\13\\test\\images\\WhatsApp-Image-2022-10-26-at-1-21-13-PM_jpeg_jpg.rf.3728f563e6b2a1dee04335c9ea2a13ff.jpg: 640x640 1 bitter gourd, 11.9ms\n",
      "image 655/1176 c:\\Users\\user\\Desktop\\FINAL\\final-project\\16\\data\\13\\test\\images\\WhatsApp-Image-2022-10-26-at-1-21-24-PM_jpeg_jpg.rf.65ec93ec9fb39a5a8758409ed92b0b60.jpg: 640x640 1 green chilli, 13.5ms\n",
      "image 656/1176 c:\\Users\\user\\Desktop\\FINAL\\final-project\\16\\data\\13\\test\\images\\WhatsApp-Image-2022-10-26-at-1-21-24-PM_jpeg_jpg.rf.998e9d4aa5df11df86aecafe73afbc9b.jpg: 640x640 1 green chilli, 1 tomato, 14.5ms\n",
      "image 657/1176 c:\\Users\\user\\Desktop\\FINAL\\final-project\\16\\data\\13\\test\\images\\WhatsApp-Image-2022-10-26-at-1-21-24-PM_jpeg_jpg.rf.a799dbf9446373753ecbe6f913252498.jpg: 640x640 (no detections), 15.2ms\n",
      "image 658/1176 c:\\Users\\user\\Desktop\\FINAL\\final-project\\16\\data\\13\\test\\images\\WhatsApp-Image-2022-10-26-at-1-21-26-PM_jpeg_jpg.rf.1781791c9268fe9a29fddd551797a8fe.jpg: 640x640 (no detections), 32.7ms\n",
      "image 659/1176 c:\\Users\\user\\Desktop\\FINAL\\final-project\\16\\data\\13\\test\\images\\WhatsApp-Image-2022-10-26-at-1-21-27-PM_jpeg_jpg.rf.9702c9c26e9dd4f46b26d60cc0f2262d.jpg: 640x640 1 tomato, 21.7ms\n",
      "image 660/1176 c:\\Users\\user\\Desktop\\FINAL\\final-project\\16\\data\\13\\test\\images\\WhatsApp-Image-2022-10-26-at-1-21-28-PM-1-_jpeg_jpg.rf.cc7317db71445d50a9bbdba68f235c26.jpg: 640x640 1 tomato, 13.4ms\n",
      "image 661/1176 c:\\Users\\user\\Desktop\\FINAL\\final-project\\16\\data\\13\\test\\images\\WhatsApp-Image-2022-10-26-at-1-21-29-PM-1-_jpeg_jpg.rf.6e5baca2838c3487dd8b7a5f0367c403.jpg: 640x640 2 asparaguss, 1 bitter gourd, 1 tomato, 13.2ms\n",
      "image 662/1176 c:\\Users\\user\\Desktop\\FINAL\\final-project\\16\\data\\13\\test\\images\\WhatsApp-Image-2022-10-26-at-1-21-29-PM-1-_jpeg_jpg.rf.a7e85c0e845f333d7f2f92d136631b92.jpg: 640x640 1 bitter gourd, 1 tomato, 25.2ms\n",
      "image 663/1176 c:\\Users\\user\\Desktop\\FINAL\\final-project\\16\\data\\13\\test\\images\\WhatsApp-Image-2022-10-26-at-1-21-29-PM-1-_jpeg_jpg.rf.f599398d40003948dad188aaa25f2301.jpg: 640x640 2 Mushrooms, 1 tomato, 14.0ms\n",
      "image 664/1176 c:\\Users\\user\\Desktop\\FINAL\\final-project\\16\\data\\13\\test\\images\\WhatsApp-Image-2022-10-26-at-1-21-31-PM-1-_jpeg_jpg.rf.08b98904f10e0744606ff23e491d5dd6.jpg: 640x640 1 spinach, 1 tomato, 14.8ms\n",
      "image 665/1176 c:\\Users\\user\\Desktop\\FINAL\\final-project\\16\\data\\13\\test\\images\\WhatsApp-Image-2022-10-26-at-1-21-31-PM-1-_jpeg_jpg.rf.780e2feb67cd8eb8a0e76a1d5ff86812.jpg: 640x640 (no detections), 19.7ms\n",
      "image 666/1176 c:\\Users\\user\\Desktop\\FINAL\\final-project\\16\\data\\13\\test\\images\\WhatsApp-Image-2022-10-26-at-1-21-31-PM-1-_jpeg_jpg.rf.b5660b5ea1c60f6fe58d96aba376754f.jpg: 640x640 1 cucumber, 23.9ms\n",
      "image 667/1176 c:\\Users\\user\\Desktop\\FINAL\\final-project\\16\\data\\13\\test\\images\\WhatsApp-Image-2023-06-02-at-18-24-21-2-_jpeg_jpg.rf.6c6aa09266ee5b26d645bc16aeedd363.jpg: 640x640 1 avocado, 3 bananas, 6.9ms\n",
      "image 668/1176 c:\\Users\\user\\Desktop\\FINAL\\final-project\\16\\data\\13\\test\\images\\WhatsApp-Image-2023-06-02-at-18-24-21-3-_jpeg_jpg.rf.b0d402bbae1639bb4fefc65a4d4e07f9.jpg: 640x640 1 avocado, 5 bananas, 12.5ms\n",
      "image 669/1176 c:\\Users\\user\\Desktop\\FINAL\\final-project\\16\\data\\13\\test\\images\\WhatsApp-Image-2023-06-02-at-18-24-21-3-_jpeg_jpg.rf.e16fea3b729b032aae3a4d2faeabe346.jpg: 640x640 1 avocado, 2 bananas, 1 cheese, 14.9ms\n",
      "image 670/1176 c:\\Users\\user\\Desktop\\FINAL\\final-project\\16\\data\\13\\test\\images\\WhatsApp-Image-2023-06-02-at-18-24-22-2-_jpeg_jpg.rf.606183df4f7c2f1aedad8b515bb0b7e5.jpg: 640x640 2 avocados, 11.8ms\n",
      "image 671/1176 c:\\Users\\user\\Desktop\\FINAL\\final-project\\16\\data\\13\\test\\images\\WhatsApp-Image-2023-06-02-at-18-24-22-2-_jpeg_jpg.rf.e03d6626c25352f1be9a540ba486f776.jpg: 640x640 2 avocados, 1 banana, 1 butter, 1 cheese, 1 milk, 11.7ms\n",
      "image 672/1176 c:\\Users\\user\\Desktop\\FINAL\\final-project\\16\\data\\13\\test\\images\\WhatsApp-Image-2023-06-02-at-18-24-22_jpeg_jpg.rf.44966fa81767bc1371aa6cc889374404.jpg: 640x640 1 avocado, 2 bananas, 12.0ms\n",
      "image 673/1176 c:\\Users\\user\\Desktop\\FINAL\\final-project\\16\\data\\13\\test\\images\\ash-hayes-x9wAjor9i0E-unsplash_jpg.rf.5a24504a5e1deadc2336b896ab4ee860.jpg: 640x640 4 eggs, 3 egg_s, 13.3ms\n",
      "image 674/1176 c:\\Users\\user\\Desktop\\FINAL\\final-project\\16\\data\\13\\test\\images\\asparagus_21_jpg.rf.065023f7927d725b434ae400cba91d0c.jpg: 640x640 1 asparagus, 29.6ms\n",
      "image 675/1176 c:\\Users\\user\\Desktop\\FINAL\\final-project\\16\\data\\13\\test\\images\\asparagus_3_jpg.rf.bcbabe6dbcb5029274faca0aa95d693a.jpg: 640x640 6 asparaguss, 15.5ms\n",
      "image 676/1176 c:\\Users\\user\\Desktop\\FINAL\\final-project\\16\\data\\13\\test\\images\\asparagus_93_jpg.rf.91aa55b56aea8314d55918ba5e3577d8.jpg: 640x640 1 sea scallops, 11.8ms\n",
      "image 677/1176 c:\\Users\\user\\Desktop\\FINAL\\final-project\\16\\data\\13\\test\\images\\avocado_45_jpg.rf.fb661f6083556d0afa3c09359bed4aac.jpg: 640x640 2 avocados, 16.8ms\n",
      "image 678/1176 c:\\Users\\user\\Desktop\\FINAL\\final-project\\16\\data\\13\\test\\images\\avocado_52_jpg.rf.272be9966e2a5704cf0887829a177126.jpg: 640x640 11 avocados, 15.1ms\n",
      "image 679/1176 c:\\Users\\user\\Desktop\\FINAL\\final-project\\16\\data\\13\\test\\images\\avocado_55_jpg.rf.9ce1d680ad1952eee78257bc2d7877cc.jpg: 640x640 3 avocados, 20.3ms\n",
      "image 680/1176 c:\\Users\\user\\Desktop\\FINAL\\final-project\\16\\data\\13\\test\\images\\avocado_74_jpg.rf.eb4cf7542b2e3fad60ad0f984fad2543.jpg: 640x640 5 avocados, 14.5ms\n",
      "image 681/1176 c:\\Users\\user\\Desktop\\FINAL\\final-project\\16\\data\\13\\test\\images\\avocado_85_jpg.rf.7917e95bf30e8faad846a06790488da0.jpg: 640x640 1 avocado, 13.6ms\n",
      "image 682/1176 c:\\Users\\user\\Desktop\\FINAL\\final-project\\16\\data\\13\\test\\images\\b7e11cb8a0a202c4b68cca282b6c2566_jpg.rf.afa3797938f30e3a188e6dd978f03024.jpg: 640x640 1 beef, 13.8ms\n",
      "image 683/1176 c:\\Users\\user\\Desktop\\FINAL\\final-project\\16\\data\\13\\test\\images\\banana0_jpeg.rf.9e9eda6d5f2df7f9e593c8f454b54ae4.jpg: 640x640 1 banana, 12.1ms\n",
      "image 684/1176 c:\\Users\\user\\Desktop\\FINAL\\final-project\\16\\data\\13\\test\\images\\banana108_jpeg.rf.898c31bd26e782461db3119d78152c5a.jpg: 640x640 20 bananas, 13.8ms\n",
      "image 685/1176 c:\\Users\\user\\Desktop\\FINAL\\final-project\\16\\data\\13\\test\\images\\banana144_jpeg.rf.da09eaf749988b8bc8d8dcdebc401a96.jpg: 640x640 11 bananas, 14.3ms\n",
      "image 686/1176 c:\\Users\\user\\Desktop\\FINAL\\final-project\\16\\data\\13\\test\\images\\banana180_jpeg.rf.701de3e0a45e3d040540c863a6cc5f46.jpg: 640x640 17 bananas, 13.6ms\n",
      "image 687/1176 c:\\Users\\user\\Desktop\\FINAL\\final-project\\16\\data\\13\\test\\images\\banana186_jpeg.rf.a408e950792dbc8b426fe39882be0825.jpg: 640x640 14 bananas, 12.7ms\n",
      "image 688/1176 c:\\Users\\user\\Desktop\\FINAL\\final-project\\16\\data\\13\\test\\images\\banana193_jpeg.rf.cdc86b49d5f258d64a15877517e1db19.jpg: 640x640 9 bananas, 13.9ms\n",
      "image 689/1176 c:\\Users\\user\\Desktop\\FINAL\\final-project\\16\\data\\13\\test\\images\\banana23_jpeg.rf.f8d296e78817355f952f88e90e109945.jpg: 640x640 1 banana, 13.6ms\n",
      "image 690/1176 c:\\Users\\user\\Desktop\\FINAL\\final-project\\16\\data\\13\\test\\images\\banana244_jpeg.rf.1666f8354153cb7575d6fd6c82659ea1.jpg: 640x640 1 banana, 2 tofus, 16.4ms\n",
      "image 691/1176 c:\\Users\\user\\Desktop\\FINAL\\final-project\\16\\data\\13\\test\\images\\banana248_jpeg.rf.e8643dd0a9f3e61687cc72b71337a430.jpg: 640x640 1 banana, 17.2ms\n",
      "image 692/1176 c:\\Users\\user\\Desktop\\FINAL\\final-project\\16\\data\\13\\test\\images\\banana29_png.rf.6a4c66aec17cbefaf68c14838958e75d.jpg: 640x640 1 banana, 15.9ms\n",
      "image 693/1176 c:\\Users\\user\\Desktop\\FINAL\\final-project\\16\\data\\13\\test\\images\\banana5_jpeg.rf.b00c585ec674ac1a2b266791d208e901.jpg: 640x640 1 banana, 13.8ms\n",
      "image 694/1176 c:\\Users\\user\\Desktop\\FINAL\\final-project\\16\\data\\13\\test\\images\\banana6_jpeg.rf.ad120b6acee152b210de3793a313d665.jpg: 640x640 1 banana, 17.7ms\n",
      "image 695/1176 c:\\Users\\user\\Desktop\\FINAL\\final-project\\16\\data\\13\\test\\images\\banana86_jpeg.rf.3ba79fcd3cea5be79485259957e37303.jpg: 640x640 1 banana, 15.2ms\n",
      "image 696/1176 c:\\Users\\user\\Desktop\\FINAL\\final-project\\16\\data\\13\\test\\images\\banana_dole_23_jpg.rf.5a9c31ebb96f7bc16611aa76103bed3d.jpg: 640x640 6 bananas, 14.7ms\n",
      "image 697/1176 c:\\Users\\user\\Desktop\\FINAL\\final-project\\16\\data\\13\\test\\images\\banana_dole_25_jpg.rf.c622506a5f6498d588ada77515bd969b.jpg: 640x640 3 bananas, 12.5ms\n",
      "image 698/1176 c:\\Users\\user\\Desktop\\FINAL\\final-project\\16\\data\\13\\test\\images\\banana_dole_36_jpg.rf.845b1157f662a2c84727328c6b582ace.jpg: 640x640 5 bananas, 14.9ms\n",
      "image 699/1176 c:\\Users\\user\\Desktop\\FINAL\\final-project\\16\\data\\13\\test\\images\\banana_dole_39_jpg.rf.5734dfd2d4c0a5b60ff9d50367fc322d.jpg: 640x640 7 bananas, 12.4ms\n",
      "image 700/1176 c:\\Users\\user\\Desktop\\FINAL\\final-project\\16\\data\\13\\test\\images\\banana_dole_45_jpg.rf.72eec37190043955842672495e6923f4.jpg: 640x640 13 bananas, 12.2ms\n",
      "image 701/1176 c:\\Users\\user\\Desktop\\FINAL\\final-project\\16\\data\\13\\test\\images\\banana_dole_58_jpg.rf.bfe78d76ebfcf79d55fb6e3931492012.jpg: 640x640 7 bananas, 12.7ms\n",
      "image 702/1176 c:\\Users\\user\\Desktop\\FINAL\\final-project\\16\\data\\13\\test\\images\\banana_dole_61_jpg.rf.2514e59fae8f03a6bb3951ede7955dfc.jpg: 640x640 10 bananas, 16.1ms\n",
      "image 703/1176 c:\\Users\\user\\Desktop\\FINAL\\final-project\\16\\data\\13\\test\\images\\banana_dole_9_jpg.rf.58bdd37206ac856b745a665492d9415f.jpg: 640x640 10 bananas, 14.4ms\n",
      "image 704/1176 c:\\Users\\user\\Desktop\\FINAL\\final-project\\16\\data\\13\\test\\images\\bell_peppers_17_jpg.rf.717de5514ae3beffc469d0b10b809367.jpg: 640x640 2 bell peppers, 1 lemon, 16.8ms\n",
      "image 705/1176 c:\\Users\\user\\Desktop\\FINAL\\final-project\\16\\data\\13\\test\\images\\bell_peppers_26_jpg.rf.97de42dfa637a2910abda10c9c2bc610.jpg: 640x640 1 bell pepper, 15.8ms\n",
      "image 706/1176 c:\\Users\\user\\Desktop\\FINAL\\final-project\\16\\data\\13\\test\\images\\bell_peppers_28_jpg.rf.b898b447fc02bfa669c0ee1c821595d0.jpg: 640x640 3 bell peppers, 2 chillis, 15.2ms\n",
      "image 707/1176 c:\\Users\\user\\Desktop\\FINAL\\final-project\\16\\data\\13\\test\\images\\bell_peppers_39_jpg.rf.6f612a48a5633917a6615c5c3e30cf72.jpg: 640x640 5 bell peppers, 19.6ms\n",
      "image 708/1176 c:\\Users\\user\\Desktop\\FINAL\\final-project\\16\\data\\13\\test\\images\\bell_peppers_3_jpg.rf.04b2e7ab239e186839b82c41b87a8c51.jpg: 640x640 18 bell peppers, 1 tomato, 30.3ms\n",
      "image 709/1176 c:\\Users\\user\\Desktop\\FINAL\\final-project\\16\\data\\13\\test\\images\\bell_peppers_51_jpeg.rf.78134e246b9b30b065edcdc32aeeccc1.jpg: 640x640 8 bell peppers, 17.0ms\n",
      "image 710/1176 c:\\Users\\user\\Desktop\\FINAL\\final-project\\16\\data\\13\\test\\images\\bell_peppers_52_jpg.rf.e04dd7c85177b691007eff9480c177ed.jpg: 640x640 2 bell peppers, 13.1ms\n",
      "image 711/1176 c:\\Users\\user\\Desktop\\FINAL\\final-project\\16\\data\\13\\test\\images\\bell_peppers_58_png.rf.4a0cc3b6d35e33fe0aa88b488041024b.jpg: 640x640 1 bell pepper, 22.5ms\n",
      "image 712/1176 c:\\Users\\user\\Desktop\\FINAL\\final-project\\16\\data\\13\\test\\images\\bell_peppers_5_jpg.rf.845e5356fcb7e4634078792a3abed878.jpg: 640x640 3 bell peppers, 16.2ms\n",
      "image 713/1176 c:\\Users\\user\\Desktop\\FINAL\\final-project\\16\\data\\13\\test\\images\\bell_peppers_67_JPG.rf.ea046a437cefa6fd6f3b9f8226c2a73a.jpg: 640x640 1 bell pepper, 19.2ms\n",
      "image 714/1176 c:\\Users\\user\\Desktop\\FINAL\\final-project\\16\\data\\13\\test\\images\\bell_peppers_73_jpg.rf.1b712f36de8d6f20e8198651f6164cac.jpg: 640x640 3 bell peppers, 16.1ms\n",
      "image 715/1176 c:\\Users\\user\\Desktop\\FINAL\\final-project\\16\\data\\13\\test\\images\\bell_peppers_80_jpg.rf.2116c93f2d12c844182cb0b0323bb3ee.jpg: 640x640 3 10_tangerines, 2 bell peppers, 11.8ms\n",
      "image 716/1176 c:\\Users\\user\\Desktop\\FINAL\\final-project\\16\\data\\13\\test\\images\\bell_peppers_83_jpg.rf.bccd91efd35da21b9a26336e8fde314d.jpg: 640x640 10 bell peppers, 1 chilli, 11.7ms\n",
      "image 717/1176 c:\\Users\\user\\Desktop\\FINAL\\final-project\\16\\data\\13\\test\\images\\bell_peppers_8_jpg.rf.29e371a61fd9c41965250baf45941069.jpg: 640x640 3 bell peppers, 11.4ms\n",
      "image 718/1176 c:\\Users\\user\\Desktop\\FINAL\\final-project\\16\\data\\13\\test\\images\\bell_peppers_91_jpg.rf.14cb759af0c8455f5e27838332c26949.jpg: 640x640 1 bell pepper, 16.0ms\n",
      "image 719/1176 c:\\Users\\user\\Desktop\\FINAL\\final-project\\16\\data\\13\\test\\images\\bell_peppers_92_JPG.rf.8713f718d0f735763542bf14584c8fd1.jpg: 640x640 1 bell pepper, 30.6ms\n",
      "image 720/1176 c:\\Users\\user\\Desktop\\FINAL\\final-project\\16\\data\\13\\test\\images\\bell_peppers_99_jpg.rf.473c16b1fc539052353230d47816403b.jpg: 640x640 1 bell pepper, 14.0ms\n",
      "image 721/1176 c:\\Users\\user\\Desktop\\FINAL\\final-project\\16\\data\\13\\test\\images\\bitter_gourd_15_jpg.rf.a1e92cf5b7b4b1e6291fd094d29af060.jpg: 640x640 1 broccoli, 13.6ms\n",
      "image 722/1176 c:\\Users\\user\\Desktop\\FINAL\\final-project\\16\\data\\13\\test\\images\\bitter_gourd_19_jpg.rf.bcb624ce4d2dba9836505e792cecee19.jpg: 640x640 1 bitter gourd, 13.6ms\n",
      "image 723/1176 c:\\Users\\user\\Desktop\\FINAL\\final-project\\16\\data\\13\\test\\images\\bitter_gourd_22_jpg.rf.64304de6a9e0ab6224bcc7bd226f2e5b.jpg: 640x640 5 bitter gourds, 12.2ms\n",
      "image 724/1176 c:\\Users\\user\\Desktop\\FINAL\\final-project\\16\\data\\13\\test\\images\\bitter_gourd_38_jpg.rf.539dd10dcb1ee188fcafc0096c9225b6.jpg: 640x640 2 bitter gourds, 11.8ms\n",
      "image 725/1176 c:\\Users\\user\\Desktop\\FINAL\\final-project\\16\\data\\13\\test\\images\\bitter_gourd_52_jpg.rf.ba0105a712dbf73a89b139c8fd7495bb.jpg: 640x640 1 bitter gourd, 12.2ms\n",
      "image 726/1176 c:\\Users\\user\\Desktop\\FINAL\\final-project\\16\\data\\13\\test\\images\\bitter_gourd_61_jpg.rf.7f0651940b25e65db5d787b33c76b8a9.jpg: 640x640 (no detections), 12.3ms\n",
      "image 727/1176 c:\\Users\\user\\Desktop\\FINAL\\final-project\\16\\data\\13\\test\\images\\bitter_gourd_64_jpg.rf.168352180e3831d3943ea6c8ca1fd553.jpg: 640x640 1 bitter gourd, 15.0ms\n",
      "image 728/1176 c:\\Users\\user\\Desktop\\FINAL\\final-project\\16\\data\\13\\test\\images\\bitter_gourd_79_jpg.rf.582db03e188802953401d6ebc0494420.jpg: 640x640 1 bitter gourd, 12.9ms\n",
      "image 729/1176 c:\\Users\\user\\Desktop\\FINAL\\final-project\\16\\data\\13\\test\\images\\bitter_gourd_94_jpg.rf.3b6e0b855217b6649879b50b3e4fe704.jpg: 640x640 1 bitter gourd, 13.9ms\n",
      "image 730/1176 c:\\Users\\user\\Desktop\\FINAL\\final-project\\16\\data\\13\\test\\images\\bok_choy_15_jpg.rf.c998a324feb1f8903c61ff79e3a1ea3f.jpg: 640x640 2 bok choys, 20.9ms\n",
      "image 731/1176 c:\\Users\\user\\Desktop\\FINAL\\final-project\\16\\data\\13\\test\\images\\bok_choy_2_jpg.rf.7a801dd9898317e537715c9608a050d3.jpg: 640x640 (no detections), 9.7ms\n",
      "image 732/1176 c:\\Users\\user\\Desktop\\FINAL\\final-project\\16\\data\\13\\test\\images\\bok_choy_33_jpg.rf.067c34aa56a76cd0c7274905860c0f2b.jpg: 640x640 3 bok choys, 13.7ms\n",
      "image 733/1176 c:\\Users\\user\\Desktop\\FINAL\\final-project\\16\\data\\13\\test\\images\\bok_choy_34_jpg.rf.8cf355e533ffd72958250498a325ea23.jpg: 640x640 2 bok choys, 17.1ms\n",
      "image 734/1176 c:\\Users\\user\\Desktop\\FINAL\\final-project\\16\\data\\13\\test\\images\\bok_choy_3_jpg.rf.ba3eda52f1f954118f69c645052bb8ec.jpg: 640x640 1 bok choy, 12.1ms\n",
      "image 735/1176 c:\\Users\\user\\Desktop\\FINAL\\final-project\\16\\data\\13\\test\\images\\bok_choy_45_jpg.rf.1c94c6c61f84b83b22759408a4abbd96.jpg: 640x640 7 bok choys, 18.5ms\n",
      "image 736/1176 c:\\Users\\user\\Desktop\\FINAL\\final-project\\16\\data\\13\\test\\images\\bok_choy_50_jpg.rf.2841bfcc1ecd186eb97ede57c8c524cf.jpg: 640x640 12 bok choys, 14.4ms\n",
      "image 737/1176 c:\\Users\\user\\Desktop\\FINAL\\final-project\\16\\data\\13\\test\\images\\bok_choy_62_jpg.rf.7ef8cc1625c2ef21c783f1563ce3e095.jpg: 640x640 3 bok choys, 13.0ms\n",
      "image 738/1176 c:\\Users\\user\\Desktop\\FINAL\\final-project\\16\\data\\13\\test\\images\\bok_choy_63_jpg.rf.9600b0c9e029060deb4aca551f2b990e.jpg: 640x640 2 bok choys, 11.4ms\n",
      "image 739/1176 c:\\Users\\user\\Desktop\\FINAL\\final-project\\16\\data\\13\\test\\images\\bok_choy_69_jpg.rf.8658ecb09ef09b32e30a6c58c679c59c.jpg: 640x640 1 bok choy, 16.4ms\n",
      "image 740/1176 c:\\Users\\user\\Desktop\\FINAL\\final-project\\16\\data\\13\\test\\images\\bok_choy_7_jpg.rf.5577c39300340cd0115978352a81cc02.jpg: 640x640 3 bok choys, 14.6ms\n",
      "image 741/1176 c:\\Users\\user\\Desktop\\FINAL\\final-project\\16\\data\\13\\test\\images\\brisket_jpg.rf.b6722fa407dbc3c6b6438da0468ed3d5.jpg: 640x640 1 pork, 18.8ms\n",
      "image 742/1176 c:\\Users\\user\\Desktop\\FINAL\\final-project\\16\\data\\13\\test\\images\\broccoli_29_jpg.rf.7fa6a9670a6846fc4c9746fa25e3bb4f.jpg: 640x640 5 broccolis, 16.5ms\n",
      "image 743/1176 c:\\Users\\user\\Desktop\\FINAL\\final-project\\16\\data\\13\\test\\images\\broccoli_43_jpg.rf.16a1ff64108f76432852515b297f6d28.jpg: 640x640 1 broccoli, 14.7ms\n",
      "image 744/1176 c:\\Users\\user\\Desktop\\FINAL\\final-project\\16\\data\\13\\test\\images\\broccoli_49_jpg.rf.adb01cd9b4ac04bba489bd0124c07edc.jpg: 640x640 4 broccolis, 17.3ms\n",
      "image 745/1176 c:\\Users\\user\\Desktop\\FINAL\\final-project\\16\\data\\13\\test\\images\\broccoli_51_jpg.rf.aa74f415a8ce3759d74aff08613607c9.jpg: 640x640 2 broccolis, 12.9ms\n",
      "image 746/1176 c:\\Users\\user\\Desktop\\FINAL\\final-project\\16\\data\\13\\test\\images\\broccoli_54_jpg.rf.420f3cc021249f7c32ffc6170cfbbc6c.jpg: 640x640 2 broccolis, 15.7ms\n",
      "image 747/1176 c:\\Users\\user\\Desktop\\FINAL\\final-project\\16\\data\\13\\test\\images\\broccoli_57_jpg.rf.35aa25a5b97019a1e242a174d260f290.jpg: 640x640 4 broccolis, 14.4ms\n",
      "image 748/1176 c:\\Users\\user\\Desktop\\FINAL\\final-project\\16\\data\\13\\test\\images\\broccoli_64_jpg.rf.7e2683ec0f1b9e395d496a5721f92642.jpg: 640x640 2 broccolis, 14.0ms\n",
      "image 749/1176 c:\\Users\\user\\Desktop\\FINAL\\final-project\\16\\data\\13\\test\\images\\broccoli_83_jpg.rf.62fe0dea685617d26b13e1e21d593a22.jpg: 640x640 8 broccolis, 20.4ms\n",
      "image 750/1176 c:\\Users\\user\\Desktop\\FINAL\\final-project\\16\\data\\13\\test\\images\\broccoli_84_jpg.rf.546eb5a7bf6d6ee103892d64c73ec604.jpg: 640x640 13 broccolis, 16.9ms\n",
      "image 751/1176 c:\\Users\\user\\Desktop\\FINAL\\final-project\\16\\data\\13\\test\\images\\cabbage_14_jpg.rf.972dabd160b400432f93ad39a46fa684.jpg: 640x640 1 cabbage, 1 spinach, 13.0ms\n",
      "image 752/1176 c:\\Users\\user\\Desktop\\FINAL\\final-project\\16\\data\\13\\test\\images\\cabbage_29_jpg.rf.a66fb7590d13d3ecb01d6501cb20702c.jpg: 640x640 1 cabbage, 19.3ms\n",
      "image 753/1176 c:\\Users\\user\\Desktop\\FINAL\\final-project\\16\\data\\13\\test\\images\\cabbage_32_jpg.rf.af68371e164453768c60aea33d828562.jpg: 640x640 1 cabbage, 14.0ms\n",
      "image 754/1176 c:\\Users\\user\\Desktop\\FINAL\\final-project\\16\\data\\13\\test\\images\\cabbage_5_jpg.rf.1a6e7fb9a8c6d627b236342fa4772af1.jpg: 640x640 1 cabbage, 12.8ms\n",
      "image 755/1176 c:\\Users\\user\\Desktop\\FINAL\\final-project\\16\\data\\13\\test\\images\\cabbage_61_jpg.rf.94f1bdb7bfb35dfc9e8afc42fe4edf70.jpg: 640x640 1 cabbage, 15.2ms\n",
      "image 756/1176 c:\\Users\\user\\Desktop\\FINAL\\final-project\\16\\data\\13\\test\\images\\cabbage_63_jpg.rf.742ab4c1da50abc3b46fc9fd9e3a190b.jpg: 640x640 1 cabbage, 12.0ms\n",
      "image 757/1176 c:\\Users\\user\\Desktop\\FINAL\\final-project\\16\\data\\13\\test\\images\\cabbage_67_jpg.rf.3ba3b12da644d8ac80fb9d2c8d61f8ae.jpg: 640x640 1 cabbage, 19.6ms\n",
      "image 758/1176 c:\\Users\\user\\Desktop\\FINAL\\final-project\\16\\data\\13\\test\\images\\cachuaxau-149-_jpg.rf.4653397db6026f85a3e2d2bbbbc37eab.jpg: 640x640 1 tomato, 20.6ms\n",
      "image 759/1176 c:\\Users\\user\\Desktop\\FINAL\\final-project\\16\\data\\13\\test\\images\\cashew_nut_16_jpg.rf.7d95c8bb65bd22a37ad0d238838abc00.jpg: 640x640 12 cashews, 13.4ms\n",
      "image 760/1176 c:\\Users\\user\\Desktop\\FINAL\\final-project\\16\\data\\13\\test\\images\\cashew_nut_22_jpg.rf.20e871f3d210a9fd4f3f29a1f2c2ab5a.jpg: 640x640 1 avocado, 2 cashews, 13.6ms\n",
      "image 761/1176 c:\\Users\\user\\Desktop\\FINAL\\final-project\\16\\data\\13\\test\\images\\cashew_nut_37_jpg.rf.3ca40fc07f920e09ea875c262b20c075.jpg: 640x640 1 cashew, 14.8ms\n",
      "image 762/1176 c:\\Users\\user\\Desktop\\FINAL\\final-project\\16\\data\\13\\test\\images\\cashew_nut_52_jpg.rf.fef7d9543165819e07c5dbd72bad27f0.jpg: 640x640 2 cashews, 17.4ms\n",
      "image 763/1176 c:\\Users\\user\\Desktop\\FINAL\\final-project\\16\\data\\13\\test\\images\\cashew_nut_53_jpg.rf.cabe6a7cfe278e566c685642e14d0c22.jpg: 640x640 3 cashews, 15.9ms\n",
      "image 764/1176 c:\\Users\\user\\Desktop\\FINAL\\final-project\\16\\data\\13\\test\\images\\cashew_nut_64_jpg.rf.aefccfb3b95267ece93a5b06a0f06b6a.jpg: 640x640 3 cashews, 17.9ms\n",
      "image 765/1176 c:\\Users\\user\\Desktop\\FINAL\\final-project\\16\\data\\13\\test\\images\\cashew_nut_72_jpg.rf.2ba8a86e3d141060893858810e86eda3.jpg: 640x640 5 cashews, 12.9ms\n",
      "image 766/1176 c:\\Users\\user\\Desktop\\FINAL\\final-project\\16\\data\\13\\test\\images\\cashew_nut_95_jpg.rf.0907d880c4ab4c8afaf9cd6bdda114cf.jpg: 640x640 1 cashew, 18.4ms\n",
      "image 767/1176 c:\\Users\\user\\Desktop\\FINAL\\final-project\\16\\data\\13\\test\\images\\cashew_nut_9_jpg.rf.14504880fbf1d885040a85a7e5280497.jpg: 640x640 14 cashews, 13.8ms\n",
      "image 768/1176 c:\\Users\\user\\Desktop\\FINAL\\final-project\\16\\data\\13\\test\\images\\cauliflower_100_jpg.rf.4c8280a1ea68dafd89924845ed525045.jpg: 640x640 2 cauliflowers, 29.1ms\n",
      "image 769/1176 c:\\Users\\user\\Desktop\\FINAL\\final-project\\16\\data\\13\\test\\images\\cauliflower_47_jpg.rf.48c8171af6c53b8ed9bca3983ab3416a.jpg: 640x640 1 Bagel, 1 Mushroom, 16.4ms\n",
      "image 770/1176 c:\\Users\\user\\Desktop\\FINAL\\final-project\\16\\data\\13\\test\\images\\cauliflower_65_jpg.rf.5bc5708881dd217d19102be8849d8d98.jpg: 640x640 1 cauliflower, 46.2ms\n",
      "image 771/1176 c:\\Users\\user\\Desktop\\FINAL\\final-project\\16\\data\\13\\test\\images\\cauliflower_85_jpg.rf.d930881cce61bae068a5c63b8c6b280d.jpg: 640x640 1 cauliflower, 28.2ms\n",
      "image 772/1176 c:\\Users\\user\\Desktop\\FINAL\\final-project\\16\\data\\13\\test\\images\\cauliflower_8_jpg.rf.bb05bab433be5b0384569692a3c7ed57.jpg: 640x640 1 rice, 18.6ms\n",
      "image 773/1176 c:\\Users\\user\\Desktop\\FINAL\\final-project\\16\\data\\13\\test\\images\\cauliflower_91_jpg.rf.0f3c3d7ab43fbe7fbff6d5733a4f51fd.jpg: 640x640 1 cauliflower, 17.2ms\n",
      "image 774/1176 c:\\Users\\user\\Desktop\\FINAL\\final-project\\16\\data\\13\\test\\images\\chicken-13_jpg.rf.05ccde8405b2dc4e99f23283a58ff7ea.jpg: 640x640 3 chicken wings, 1 lemon, 16.5ms\n",
      "image 775/1176 c:\\Users\\user\\Desktop\\FINAL\\final-project\\16\\data\\13\\test\\images\\chicken-1_jpeg.rf.96a630c760c742d0d34e52f4e211c2b6.jpg: 640x640 4 chickens, 12.8ms\n",
      "image 776/1176 c:\\Users\\user\\Desktop\\FINAL\\final-project\\16\\data\\13\\test\\images\\chicken_breast_29_jpg.rf.59ff49d1182f37710b6a1b7d9e3ed75b.jpg: 640x640 4 chicken breasts, 17.7ms\n",
      "image 777/1176 c:\\Users\\user\\Desktop\\FINAL\\final-project\\16\\data\\13\\test\\images\\chicken_breast_58_jpg.rf.eb7193869152b69237efafd3497a1222.jpg: 640x640 3 chicken breasts, 16.3ms\n",
      "image 778/1176 c:\\Users\\user\\Desktop\\FINAL\\final-project\\16\\data\\13\\test\\images\\chicken_breast_90_jpg.rf.0574928415e9341b23abffc19437f83e.jpg: 640x640 1 chicken breast, 15.7ms\n",
      "image 779/1176 c:\\Users\\user\\Desktop\\FINAL\\final-project\\16\\data\\13\\test\\images\\chicken_breast_91_jpg.rf.c5ef176c3e11611edc303e7eade551c6.jpg: 640x640 2 chicken breasts, 12.6ms\n",
      "image 780/1176 c:\\Users\\user\\Desktop\\FINAL\\final-project\\16\\data\\13\\test\\images\\chicken_breast_94_jpg.rf.7f28f360b358b30472f7c436a0b8a04a.jpg: 640x640 1 chicken thigh, 15.6ms\n",
      "image 781/1176 c:\\Users\\user\\Desktop\\FINAL\\final-project\\16\\data\\13\\test\\images\\chicken_thighs_50_jpg.rf.32aafe8032880087c0128878588d57ba.jpg: 640x640 3 chicken thighs, 12.8ms\n",
      "image 782/1176 c:\\Users\\user\\Desktop\\FINAL\\final-project\\16\\data\\13\\test\\images\\chicken_thighs_70_jpg.rf.cc1a4e113ae0bc5e05207a66ad8caf90.jpg: 640x640 1 chicken wing, 17.7ms\n",
      "image 783/1176 c:\\Users\\user\\Desktop\\FINAL\\final-project\\16\\data\\13\\test\\images\\chicken_thighs_72_jpg.rf.706186831f17ad23e7bdd63deb664dc0.jpg: 640x640 1 chicken thigh, 15.2ms\n",
      "image 784/1176 c:\\Users\\user\\Desktop\\FINAL\\final-project\\16\\data\\13\\test\\images\\chicken_thighs_86_jpg.rf.9c7b7159517fc3493845cfcc8ab4e535.jpg: 640x640 5 chicken thighs, 14.3ms\n",
      "image 785/1176 c:\\Users\\user\\Desktop\\FINAL\\final-project\\16\\data\\13\\test\\images\\chicken_thighs_89_jpg.rf.ed86af961f8669ef34203edc3b01784c.jpg: 640x640 2 chicken thighs, 13.5ms\n",
      "image 786/1176 c:\\Users\\user\\Desktop\\FINAL\\final-project\\16\\data\\13\\test\\images\\chicken_thighs_8_jpg.rf.3d7e4923181285b7dfcf6058ecd5014c.jpg: 640x640 1 chicken, 9 chicken thighs, 22.2ms\n",
      "image 787/1176 c:\\Users\\user\\Desktop\\FINAL\\final-project\\16\\data\\13\\test\\images\\chicken_thighs_92_jpg.rf.ea3328e7208ced21cf003240046ce81f.jpg: 640x640 1 chicken, 6 chicken thighs, 11.0ms\n",
      "image 788/1176 c:\\Users\\user\\Desktop\\FINAL\\final-project\\16\\data\\13\\test\\images\\chicken_thighs_9_jpg.rf.6aec282755252b71ac6f926b894cfd71.jpg: 640x640 2 chicken thighs, 15.9ms\n",
      "image 789/1176 c:\\Users\\user\\Desktop\\FINAL\\final-project\\16\\data\\13\\test\\images\\chicken_wings_17_jpg.rf.333554a05df903b385741d5bfd1a5736.jpg: 640x640 2 chicken wings, 15.1ms\n",
      "image 790/1176 c:\\Users\\user\\Desktop\\FINAL\\final-project\\16\\data\\13\\test\\images\\chicken_wings_34_jpg.rf.4c6048f1a71d5777b1a516f688118fd2.jpg: 640x640 1 chicken wing, 14.2ms\n",
      "image 791/1176 c:\\Users\\user\\Desktop\\FINAL\\final-project\\16\\data\\13\\test\\images\\chicken_wings_3_jpg.rf.39c7714950753f43e6e099e696213296.jpg: 640x640 3 chickens, 14.6ms\n",
      "image 792/1176 c:\\Users\\user\\Desktop\\FINAL\\final-project\\16\\data\\13\\test\\images\\chicken_wings_54_jpg.rf.710e49b61f11a54a5bf4d617e4a2fe8a.jpg: 640x640 3 chicken wings, 12.5ms\n",
      "image 793/1176 c:\\Users\\user\\Desktop\\FINAL\\final-project\\16\\data\\13\\test\\images\\chicken_wings_5_jpg.rf.f551d9d533daf6797a8d3ec0d4091436.jpg: 640x640 4 chicken wings, 11.3ms\n",
      "image 794/1176 c:\\Users\\user\\Desktop\\FINAL\\final-project\\16\\data\\13\\test\\images\\chicken_wings_85_jpg.rf.8dbf605c0b417784fa892a2a7efc1beb.jpg: 640x640 3 chicken wings, 6.5ms\n",
      "image 795/1176 c:\\Users\\user\\Desktop\\FINAL\\final-project\\16\\data\\13\\test\\images\\chilli_23_jpg.rf.02082cafff263fc8d2ad27c362402863.jpg: 640x640 4 chillis, 1 red chili, 16.1ms\n",
      "image 796/1176 c:\\Users\\user\\Desktop\\FINAL\\final-project\\16\\data\\13\\test\\images\\chilli_38_png.rf.56aca22a18426296aa34bb3085f2dec0.jpg: 640x640 15 chillis, 18.3ms\n",
      "image 797/1176 c:\\Users\\user\\Desktop\\FINAL\\final-project\\16\\data\\13\\test\\images\\chilli_4_jpg.rf.4b3e63559a57f97216bfc46ddd47cbac.jpg: 640x640 2 green chillis, 12.2ms\n",
      "image 798/1176 c:\\Users\\user\\Desktop\\FINAL\\final-project\\16\\data\\13\\test\\images\\chilli_53_jpg.rf.c0ebe1edeaea119a6dd7d8ccbfbb6029.jpg: 640x640 1 bell pepper, 4 chillis, 13.1ms\n",
      "image 799/1176 c:\\Users\\user\\Desktop\\FINAL\\final-project\\16\\data\\13\\test\\images\\chilli_62_JPG.rf.948eb1e0632109319ee76912ef49ec83.jpg: 640x640 1 bell pepper, 3 chillis, 1 red chili, 17.9ms\n",
      "image 800/1176 c:\\Users\\user\\Desktop\\FINAL\\final-project\\16\\data\\13\\test\\images\\chilli_77_jpg.rf.1145b7d372107523bf68ff9bebe86bc2.jpg: 640x640 1 chilli, 1 red chili, 1 tomato, 14.3ms\n",
      "image 801/1176 c:\\Users\\user\\Desktop\\FINAL\\final-project\\16\\data\\13\\test\\images\\chilli_8_jpg.rf.a1bc7492ad6936d3eb7c6332e012f84e.jpg: 640x640 2 chillis, 12.7ms\n",
      "image 802/1176 c:\\Users\\user\\Desktop\\FINAL\\final-project\\16\\data\\13\\test\\images\\corn_12_jpg.rf.8e34186d6abe027479df15a4de7f6cc6.jpg: 640x640 3 corns, 12.1ms\n",
      "image 803/1176 c:\\Users\\user\\Desktop\\FINAL\\final-project\\16\\data\\13\\test\\images\\corn_14_jpg.rf.2b7771bdb082a544c231eb3bb5f9219f.jpg: 640x640 5 corns, 1 lemon, 1 pineapple, 13.8ms\n",
      "image 804/1176 c:\\Users\\user\\Desktop\\FINAL\\final-project\\16\\data\\13\\test\\images\\corn_38_jpg.rf.533d3b8ca8f32c22b54dbbbf9a6122ea.jpg: 640x640 5 corns, 18.3ms\n",
      "image 805/1176 c:\\Users\\user\\Desktop\\FINAL\\final-project\\16\\data\\13\\test\\images\\corn_91_jpg.rf.784a68f33a4f199b0748a7e680132cca.jpg: 640x640 1 corn, 1 orange, 13.2ms\n",
      "image 806/1176 c:\\Users\\user\\Desktop\\FINAL\\final-project\\16\\data\\13\\test\\images\\corn_9_jpg.rf.91decfafe78053984ec2cdd0f1337a67.jpg: 640x640 6 corns, 12.4ms\n",
      "image 807/1176 c:\\Users\\user\\Desktop\\FINAL\\final-project\\16\\data\\13\\test\\images\\crab_12_jpg.rf.7ed551f26e179df8f7bbc4d8f64f26e1.jpg: 640x640 1 crab, 14.5ms\n",
      "image 808/1176 c:\\Users\\user\\Desktop\\FINAL\\final-project\\16\\data\\13\\test\\images\\crab_24_jpg.rf.ecbc3d5a3381615f88626636bf637f35.jpg: 640x640 (no detections), 13.2ms\n",
      "image 809/1176 c:\\Users\\user\\Desktop\\FINAL\\final-project\\16\\data\\13\\test\\images\\crab_2_jpg.rf.24a2af99393535301206fd485aad3a71.jpg: 640x640 5 crabs, 19.0ms\n",
      "image 810/1176 c:\\Users\\user\\Desktop\\FINAL\\final-project\\16\\data\\13\\test\\images\\crab_46_jpg.rf.d2b0d352f0b44f26dd1132a45e21a682.jpg: 640x640 1 crab, 1 lemon, 13.9ms\n",
      "image 811/1176 c:\\Users\\user\\Desktop\\FINAL\\final-project\\16\\data\\13\\test\\images\\crab_56_jpg.rf.6ff4860658ae4301a3e3705906875ad3.jpg: 640x640 2 crabs, 14.0ms\n",
      "image 812/1176 c:\\Users\\user\\Desktop\\FINAL\\final-project\\16\\data\\13\\test\\images\\crab_60_jpg.rf.861dfdb53472157f42fd735d1f48ae48.jpg: 640x640 1 kimchi, 13.5ms\n",
      "image 813/1176 c:\\Users\\user\\Desktop\\FINAL\\final-project\\16\\data\\13\\test\\images\\crab_63_jpg.rf.16c9aa9d7b964a42bc33828a85d9999a.jpg: 640x640 4 crabs, 14.1ms\n",
      "image 814/1176 c:\\Users\\user\\Desktop\\FINAL\\final-project\\16\\data\\13\\test\\images\\cucumber_38_jpg.rf.c9f045c30d8d00234da291a944d7d185.jpg: 640x640 4 cucumbers, 6.4ms\n",
      "image 815/1176 c:\\Users\\user\\Desktop\\FINAL\\final-project\\16\\data\\13\\test\\images\\cucumber_47_jpg.rf.2154649fbb4c154d0160e3f71395c200.jpg: 640x640 5 cucumbers, 11.6ms\n",
      "image 816/1176 c:\\Users\\user\\Desktop\\FINAL\\final-project\\16\\data\\13\\test\\images\\cucumber_72_jpg.rf.a0f820f7ebd29ae498bf6e6298e9725d.jpg: 640x640 9 cucumbers, 16.9ms\n",
      "image 817/1176 c:\\Users\\user\\Desktop\\FINAL\\final-project\\16\\data\\13\\test\\images\\cucumber_78_jpg.rf.60f9fc5588cd4f25c8c25115654bdaa8.jpg: 640x640 3 cucumbers, 15.5ms\n",
      "image 818/1176 c:\\Users\\user\\Desktop\\FINAL\\final-project\\16\\data\\13\\test\\images\\daging-sapi-_160610081741-307_jpg.rf.de6c6a5f7b7a4b29f3f4d68fcd3e770e.jpg: 640x640 14 beefs, 2 porks, 18.5ms\n",
      "image 819/1176 c:\\Users\\user\\Desktop\\FINAL\\final-project\\16\\data\\13\\test\\images\\daging-sapi-_jpg.rf.10366c4775dcdd0ac7f172efdee3e28b.jpg: 640x640 2 beefs, 16.2ms\n",
      "image 820/1176 c:\\Users\\user\\Desktop\\FINAL\\final-project\\16\\data\\13\\test\\images\\daniele-levis-pelusi-kEnBCaLjstY-unsplash_jpg.rf.b639b88c77c3404e8332896d636f3e8c.jpg: 640x640 2 eggs, 15.1ms\n",
      "image 821/1176 c:\\Users\\user\\Desktop\\FINAL\\final-project\\16\\data\\13\\test\\images\\diagonal-cut-carrots-2_jpg.rf.b38d60de56b77f80b95a84bd5f760b69.jpg: 640x640 5 carrots, 4 potatos, 15.7ms\n",
      "image 822/1176 c:\\Users\\user\\Desktop\\FINAL\\final-project\\16\\data\\13\\test\\images\\download-2-_jpg.rf.8b6a14eafb687bf6349a923a50c57e7a.jpg: 640x640 3 tomatos, 27.0ms\n",
      "image 823/1176 c:\\Users\\user\\Desktop\\FINAL\\final-project\\16\\data\\13\\test\\images\\download_jpg.rf.58a343536eac1710fba897c057025645.jpg: 640x640 1 beef, 21.5ms\n",
      "image 824/1176 c:\\Users\\user\\Desktop\\FINAL\\final-project\\16\\data\\13\\test\\images\\download_jpg.rf.f1fca0aaf703839988c0bf10d3b1c73c.jpg: 640x640 2 chickens, 1 shrimp, 13.5ms\n",
      "image 825/1176 c:\\Users\\user\\Desktop\\FINAL\\final-project\\16\\data\\13\\test\\images\\egg_23_jpg.rf.cfb26b4bfa7e7fddfdac1416c722d48a.jpg: 640x640 4 egg_s, 13.0ms\n",
      "image 826/1176 c:\\Users\\user\\Desktop\\FINAL\\final-project\\16\\data\\13\\test\\images\\egg_25_jpg.rf.b54da395c8d063c792acd1d684c27e5e.jpg: 640x640 2 egg_s, 14.5ms\n",
      "image 827/1176 c:\\Users\\user\\Desktop\\FINAL\\final-project\\16\\data\\13\\test\\images\\egg_34_jpg.rf.70b70a08c5f8a891dc791591a1daaf88.jpg: 640x640 1 egg_, 12.4ms\n",
      "image 828/1176 c:\\Users\\user\\Desktop\\FINAL\\final-project\\16\\data\\13\\test\\images\\egg_51_jpg.rf.ab8196156b0df5ea9f80aeba9580f02a.jpg: 640x640 3 egg_s, 13.8ms\n",
      "image 829/1176 c:\\Users\\user\\Desktop\\FINAL\\final-project\\16\\data\\13\\test\\images\\egg_57_jpg.rf.2800cb9cf73fd33ef404a9baaa600cd3.jpg: 640x640 2 egg_s, 1 onion, 12.8ms\n",
      "image 830/1176 c:\\Users\\user\\Desktop\\FINAL\\final-project\\16\\data\\13\\test\\images\\egg_60_jpg.rf.294d4fc095c514b324f28daec997f62a.jpg: 640x640 7 egg_s, 13.0ms\n",
      "image 831/1176 c:\\Users\\user\\Desktop\\FINAL\\final-project\\16\\data\\13\\test\\images\\egg_65_jpg.rf.42ca07779a4defc46c29025011180ca0.jpg: 640x640 1 egg, 7 egg_s, 16.6ms\n",
      "image 832/1176 c:\\Users\\user\\Desktop\\FINAL\\final-project\\16\\data\\13\\test\\images\\egg_70_jpg.rf.68838a6e570d1426ed8eef1307274cd6.jpg: 640x640 1 egg, 2 egg_s, 12.5ms\n",
      "image 833/1176 c:\\Users\\user\\Desktop\\FINAL\\final-project\\16\\data\\13\\test\\images\\egg_76_jpg.rf.a05f8281ee1a76f4528aadce4338478d.jpg: 640x640 4 egg_s, 12.3ms\n",
      "image 834/1176 c:\\Users\\user\\Desktop\\FINAL\\final-project\\16\\data\\13\\test\\images\\egg_82_jpg.rf.c2e488dcff4f35a710fe1515da35edd7.jpg: 640x640 2 egg_s, 9.8ms\n",
      "image 835/1176 c:\\Users\\user\\Desktop\\FINAL\\final-project\\16\\data\\13\\test\\images\\fresh-pork-meat-market_41338-1978_jpg.rf.eb7de34132b76c752742fc9efdbe826e.jpg: 640x640 12 porks, 14.0ms\n",
      "image 836/1176 c:\\Users\\user\\Desktop\\FINAL\\final-project\\16\\data\\13\\test\\images\\garlic_11_jpg.rf.bd5fddc9d3b27c82bbbc67b6ed9c780a.jpg: 640x640 7 garlics, 1 onion, 12.8ms\n",
      "image 837/1176 c:\\Users\\user\\Desktop\\FINAL\\final-project\\16\\data\\13\\test\\images\\garlic_13_jpeg.rf.b00a4a813059e62e751a5b13697ec7aa.jpg: 640x640 4 garlics, 13.8ms\n",
      "image 838/1176 c:\\Users\\user\\Desktop\\FINAL\\final-project\\16\\data\\13\\test\\images\\garlic_22_jpg.rf.1b35c45c10bc191b0296e4ecd962423a.jpg: 640x640 5 garlics, 14.9ms\n",
      "image 839/1176 c:\\Users\\user\\Desktop\\FINAL\\final-project\\16\\data\\13\\test\\images\\garlic_25_jpg.rf.809805a0a9ced2e0a3eac0c9c0f50c96.jpg: 640x640 2 garlics, 28.9ms\n",
      "image 840/1176 c:\\Users\\user\\Desktop\\FINAL\\final-project\\16\\data\\13\\test\\images\\garlic_28_jpg.rf.fb5697573799cc4d19d33b399e223dc1.jpg: 640x640 1 Mushroom, 4 garlics, 15.1ms\n",
      "image 841/1176 c:\\Users\\user\\Desktop\\FINAL\\final-project\\16\\data\\13\\test\\images\\garlic_41_jpg.rf.6e84891127e62027cdc9ffe4a50d63d7.jpg: 640x640 4 garlics, 11.8ms\n",
      "image 842/1176 c:\\Users\\user\\Desktop\\FINAL\\final-project\\16\\data\\13\\test\\images\\garlic_53_jpg.rf.c634d8708173c20cbfaf428254820dab.jpg: 640x640 6 garlics, 20.1ms\n",
      "image 843/1176 c:\\Users\\user\\Desktop\\FINAL\\final-project\\16\\data\\13\\test\\images\\garlic_58_jpg.rf.3ec0b2c38309670d9f3ecabf1871a029.jpg: 640x640 9 garlics, 12.0ms\n",
      "image 844/1176 c:\\Users\\user\\Desktop\\FINAL\\final-project\\16\\data\\13\\test\\images\\garlic_64_jpg.rf.4d68e635ac5ebbd47ef1dda3110fda47.jpg: 640x640 1 garlic, 16.1ms\n",
      "image 845/1176 c:\\Users\\user\\Desktop\\FINAL\\final-project\\16\\data\\13\\test\\images\\garlic_66_jpg.rf.e8760629d20ff06376fa2cd7fe6ef414.jpg: 640x640 4 garlics, 12.1ms\n",
      "image 846/1176 c:\\Users\\user\\Desktop\\FINAL\\final-project\\16\\data\\13\\test\\images\\ginger_22_jpg.rf.d0f8dff3cfffb94f469c7601e35f0a70.jpg: 640x640 1 ginger, 12.2ms\n",
      "image 847/1176 c:\\Users\\user\\Desktop\\FINAL\\final-project\\16\\data\\13\\test\\images\\ginger_29_jpg.rf.d744baefce591d3f27996c62f8fee3e6.jpg: 640x640 1 ginger, 10.8ms\n",
      "image 848/1176 c:\\Users\\user\\Desktop\\FINAL\\final-project\\16\\data\\13\\test\\images\\ginger_31_jpg.rf.19a05b3fd86dad889ab783d943079474.jpg: 640x640 2 gingers, 13.7ms\n",
      "image 849/1176 c:\\Users\\user\\Desktop\\FINAL\\final-project\\16\\data\\13\\test\\images\\ginger_57_png.rf.d4783e06386060546fecc6bf9022fb50.jpg: 640x640 2 gingers, 11.8ms\n",
      "image 850/1176 c:\\Users\\user\\Desktop\\FINAL\\final-project\\16\\data\\13\\test\\images\\ginger_65_jpg.rf.a3aa68d142d541f609ab237ec94282e1.jpg: 640x640 1 garlic, 2 gingers, 16.1ms\n",
      "image 851/1176 c:\\Users\\user\\Desktop\\FINAL\\final-project\\16\\data\\13\\test\\images\\good-161-_jpg.rf.e40b83a5c512802d7716df59eea59964.jpg: 640x640 1 tomato, 12.2ms\n",
      "image 852/1176 c:\\Users\\user\\Desktop\\FINAL\\final-project\\16\\data\\13\\test\\images\\grapes_1_jpg.rf.f330708e4697a31dccaad9bdf2287bd9.jpg: 640x640 (no detections), 14.3ms\n",
      "image 853/1176 c:\\Users\\user\\Desktop\\FINAL\\final-project\\16\\data\\13\\test\\images\\grapes_22_jpg.rf.d499ca81efc8f63688d721ca04ed6f00.jpg: 640x640 2 grapess, 16.8ms\n",
      "image 854/1176 c:\\Users\\user\\Desktop\\FINAL\\final-project\\16\\data\\13\\test\\images\\grapes_31_jpg.rf.ec94c049acb3230892f7318b65ffbb57.jpg: 640x640 1 Apple, 1 grapes, 1 tomato, 13.8ms\n",
      "image 855/1176 c:\\Users\\user\\Desktop\\FINAL\\final-project\\16\\data\\13\\test\\images\\grapes_38_jpg.rf.3f121ca134bbde1e5a3c935ace933000.jpg: 640x640 4 grapess, 14.4ms\n",
      "image 856/1176 c:\\Users\\user\\Desktop\\FINAL\\final-project\\16\\data\\13\\test\\images\\grapes_39_jpg.rf.4b0774b7efbeb876a7a14643d7cc9d1b.jpg: 640x640 1 grapes, 16.0ms\n",
      "image 857/1176 c:\\Users\\user\\Desktop\\FINAL\\final-project\\16\\data\\13\\test\\images\\grapes_51_jpg.rf.da3b3cc22417cb2546ec4b513d326df8.jpg: 640x640 8 grapess, 11.7ms\n",
      "image 858/1176 c:\\Users\\user\\Desktop\\FINAL\\final-project\\16\\data\\13\\test\\images\\grapes_57_jpeg.rf.a013d712f913392cc22c1fbc82573c99.jpg: 640x640 2 grapess, 12.5ms\n",
      "image 859/1176 c:\\Users\\user\\Desktop\\FINAL\\final-project\\16\\data\\13\\test\\images\\grapes_59_png.rf.16bd207c7c80b397539629dacdfd3e6c.jpg: 640x640 1 grapes, 12.7ms\n",
      "image 860/1176 c:\\Users\\user\\Desktop\\FINAL\\final-project\\16\\data\\13\\test\\images\\grapes_68_jpg.rf.89c7362512eb4478c8a05d618b36607c.jpg: 640x640 1 grapes, 18.2ms\n",
      "image 861/1176 c:\\Users\\user\\Desktop\\FINAL\\final-project\\16\\data\\13\\test\\images\\grapes_72_jpg.rf.80ebe5c7c3370551191bb2be76fc3326.jpg: 640x640 1 grapes, 9.9ms\n",
      "image 862/1176 c:\\Users\\user\\Desktop\\FINAL\\final-project\\16\\data\\13\\test\\images\\grapes_87_jpg.rf.2b24329f66e6086dfdc8e8a2c92c2d18.jpg: 640x640 1 grapes, 18.9ms\n",
      "image 863/1176 c:\\Users\\user\\Desktop\\FINAL\\final-project\\16\\data\\13\\test\\images\\grapes_92_jpg.rf.08ec0ad331da8e92f1f9595b29efb530.jpg: 640x640 4 grapess, 12.3ms\n",
      "image 864/1176 c:\\Users\\user\\Desktop\\FINAL\\final-project\\16\\data\\13\\test\\images\\grapes_94_jpg.rf.77498ac47d0c75fc66b2a636e9ade2b3.jpg: 640x640 1 grapes, 14.4ms\n",
      "image 865/1176 c:\\Users\\user\\Desktop\\FINAL\\final-project\\16\\data\\13\\test\\images\\grapes_9_jpg.rf.9f03fea485747cb4c0b27b3ff619c69f.jpg: 640x640 3 grapess, 15.4ms\n",
      "image 866/1176 c:\\Users\\user\\Desktop\\FINAL\\final-project\\16\\data\\13\\test\\images\\haley-hamilton-HxNunc_vnlg-unsplash_jpg.rf.3f5db545b64f3386cb1a0b7872a1e6dd.jpg: 640x640 1 Mushroom, 4 eggs, 23.8ms\n",
      "image 867/1176 c:\\Users\\user\\Desktop\\FINAL\\final-project\\16\\data\\13\\test\\images\\ilustrasi-daging-sapi_169_jpeg.rf.abd20ef632435b54a05f3bf32dabf44f.jpg: 640x640 4 beefs, 3 porks, 13.9ms\n",
      "image 868/1176 c:\\Users\\user\\Desktop\\FINAL\\final-project\\16\\data\\13\\test\\images\\images-14-1-_jpg.rf.8f1f6a8d8e83f679fe1dcde5ba3573eb.jpg: 640x640 4 green chillis, 11.0ms\n",
      "image 869/1176 c:\\Users\\user\\Desktop\\FINAL\\final-project\\16\\data\\13\\test\\images\\images-14-_jpg.rf.552d5bdaf11967872c907767fef41b0f.jpg: 640x640 2 beefs, 1 pork, 13.0ms\n",
      "image 870/1176 c:\\Users\\user\\Desktop\\FINAL\\final-project\\16\\data\\13\\test\\images\\images-15-_jpg.rf.d15eb85bd6d640454dc9ec7eb5d0a164.jpg: 640x640 3 green chillis, 15.8ms\n",
      "image 871/1176 c:\\Users\\user\\Desktop\\FINAL\\final-project\\16\\data\\13\\test\\images\\images-15-_jpg.rf.e79782b6aad34e5c7d1b7cb4171a6c56.jpg: 640x640 1 beef, 12.6ms\n",
      "image 872/1176 c:\\Users\\user\\Desktop\\FINAL\\final-project\\16\\data\\13\\test\\images\\images-18-1-_jpg.rf.175597ba2552872c51163c7604167741.jpg: 640x640 10 green chillis, 13.9ms\n",
      "image 873/1176 c:\\Users\\user\\Desktop\\FINAL\\final-project\\16\\data\\13\\test\\images\\images-2-_jpg.rf.6dae2fe826efd6b744178a36c24908ba.jpg: 640x640 1 beef, 13.6ms\n",
      "image 874/1176 c:\\Users\\user\\Desktop\\FINAL\\final-project\\16\\data\\13\\test\\images\\images-2-_jpg.rf.a849366b50b2daf200d1220bc2102c9c.jpg: 640x640 5 chicken breasts, 17.0ms\n",
      "image 875/1176 c:\\Users\\user\\Desktop\\FINAL\\final-project\\16\\data\\13\\test\\images\\images-21-_jpg.rf.d42a503b3b5623dc19d4a49fddd765f8.jpg: 640x640 2 chickens, 15.7ms\n",
      "image 876/1176 c:\\Users\\user\\Desktop\\FINAL\\final-project\\16\\data\\13\\test\\images\\images-23-_jpg.rf.649ddd17a4e529eae92da12546d9e68f.jpg: 640x640 4 chickens, 15.0ms\n",
      "image 877/1176 c:\\Users\\user\\Desktop\\FINAL\\final-project\\16\\data\\13\\test\\images\\images-26-_jpg.rf.75c00986d39eea734b518ca4b263ca66.jpg: 640x640 1 beef, 10.7ms\n",
      "image 878/1176 c:\\Users\\user\\Desktop\\FINAL\\final-project\\16\\data\\13\\test\\images\\images-27-_jpg.rf.62a87214a63eadc0d86c7c867914aa57.jpg: 640x640 2 beefs, 13.9ms\n",
      "image 879/1176 c:\\Users\\user\\Desktop\\FINAL\\final-project\\16\\data\\13\\test\\images\\images-28-_jpg.rf.02d74195c665136dac6841c24d386192.jpg: 640x640 5 green chillis, 14.9ms\n",
      "image 880/1176 c:\\Users\\user\\Desktop\\FINAL\\final-project\\16\\data\\13\\test\\images\\images-32-_jpg.rf.23eb7065966a591aaf0712e6a44c28a2.jpg: 640x640 1 pork, 20.9ms\n",
      "image 881/1176 c:\\Users\\user\\Desktop\\FINAL\\final-project\\16\\data\\13\\test\\images\\images-5-_jpg.rf.3a1318b4242a249458d0e659a733f616.jpg: 640x640 3 green chillis, 14.7ms\n",
      "image 882/1176 c:\\Users\\user\\Desktop\\FINAL\\final-project\\16\\data\\13\\test\\images\\images-57-_jpg.rf.b268def45c94771121b26f5e9df31b78.jpg: 640x640 1 tomato, 12.4ms\n",
      "image 883/1176 c:\\Users\\user\\Desktop\\FINAL\\final-project\\16\\data\\13\\test\\images\\images-6-_jpg.rf.38b3a39484de175a861e6b7f8e75acfe.jpg: 640x640 1 beef, 2 porks, 13.7ms\n",
      "image 884/1176 c:\\Users\\user\\Desktop\\FINAL\\final-project\\16\\data\\13\\test\\images\\images_jpg.rf.17af46b025e593a737da486bcf6f35cd.jpg: 640x640 1 carrot, 1 shrimp, 19.4ms\n",
      "image 885/1176 c:\\Users\\user\\Desktop\\FINAL\\final-project\\16\\data\\13\\test\\images\\img291_jpg.rf.2e92890c9fb01981cba6a19ae7057ec3.jpg: 640x640 1 tomato, 18.6ms\n",
      "image 886/1176 c:\\Users\\user\\Desktop\\FINAL\\final-project\\16\\data\\13\\test\\images\\incik-113-_jpg.rf.e71adf9023fff7941e886fc2ce630482.jpg: 640x640 2 beefs, 13.6ms\n",
      "image 887/1176 c:\\Users\\user\\Desktop\\FINAL\\final-project\\16\\data\\13\\test\\images\\incik-117-_jpg.rf.2686f8f579863ff1b0e31fd68bd48558.jpg: 640x640 1 beef, 19.3ms\n",
      "image 888/1176 c:\\Users\\user\\Desktop\\FINAL\\final-project\\16\\data\\13\\test\\images\\incik-125-_jpg.rf.91202263bac8cf6f32a946b810adca63.jpg: 640x640 1 beef, 17.8ms\n",
      "image 889/1176 c:\\Users\\user\\Desktop\\FINAL\\final-project\\16\\data\\13\\test\\images\\incik-139-_jpg.rf.c9eca4a031e00c76877ae126f1bafe12.jpg: 640x640 1 beef, 17.4ms\n",
      "image 890/1176 c:\\Users\\user\\Desktop\\FINAL\\final-project\\16\\data\\13\\test\\images\\incik-142-_jpg.rf.ba5936bec45a2ad190f5cba53d482f4e.jpg: 640x640 2 beefs, 14.9ms\n",
      "image 891/1176 c:\\Users\\user\\Desktop\\FINAL\\final-project\\16\\data\\13\\test\\images\\incik-145-_jpg.rf.d9944c212cab56bd3b4e65dda0d0db45.jpg: 640x640 3 beefs, 13.2ms\n",
      "image 892/1176 c:\\Users\\user\\Desktop\\FINAL\\final-project\\16\\data\\13\\test\\images\\incik-148-_jpg.rf.e3917dc6bdf4c296d99bc74ed2a2791a.jpg: 640x640 1 beef, 30.8ms\n",
      "image 893/1176 c:\\Users\\user\\Desktop\\FINAL\\final-project\\16\\data\\13\\test\\images\\incik-161-_jpg.rf.95154979330a8d06bd2ba41884a31d97.jpg: 640x640 1 beef, 20.6ms\n",
      "image 894/1176 c:\\Users\\user\\Desktop\\FINAL\\final-project\\16\\data\\13\\test\\images\\incik-169-_jpg.rf.a1a3021eb426d81769cb6018e2bc07cc.jpg: 640x640 1 chicken, 17.2ms\n",
      "image 895/1176 c:\\Users\\user\\Desktop\\FINAL\\final-project\\16\\data\\13\\test\\images\\incik-173-_jpg.rf.0373b2cd75c14f48f8844334775c6580.jpg: 640x640 1 beef, 15.8ms\n",
      "image 896/1176 c:\\Users\\user\\Desktop\\FINAL\\final-project\\16\\data\\13\\test\\images\\incik-182-_jpg.rf.22ec45939a5fb899d5821d23d8a4389b.jpg: 640x640 1 beef, 14.0ms\n",
      "image 897/1176 c:\\Users\\user\\Desktop\\FINAL\\final-project\\16\\data\\13\\test\\images\\incik-21-_jpg.rf.72d3a9507e18639a7bfae0744d751825.jpg: 640x640 3 beefs, 17.5ms\n",
      "image 898/1176 c:\\Users\\user\\Desktop\\FINAL\\final-project\\16\\data\\13\\test\\images\\incik-23-_jpg.rf.308ad1bc6498480c288337dafb45f791.jpg: 640x640 1 pork, 14.0ms\n",
      "image 899/1176 c:\\Users\\user\\Desktop\\FINAL\\final-project\\16\\data\\13\\test\\images\\incik-39-_jpg.rf.b62589ed84d6e8b1f1a7f2f85e73e2bf.jpg: 640x640 2 beefs, 16.1ms\n",
      "image 900/1176 c:\\Users\\user\\Desktop\\FINAL\\final-project\\16\\data\\13\\test\\images\\incik-40-_jpg.rf.cd3df1b82d100a2b726be94dae634997.jpg: 640x640 1 beef, 15.9ms\n",
      "image 901/1176 c:\\Users\\user\\Desktop\\FINAL\\final-project\\16\\data\\13\\test\\images\\incik-80-_jpg.rf.1902439f3cb569b8ec6e9e5b908a26e3.jpg: 640x640 1 beef, 13.8ms\n",
      "image 902/1176 c:\\Users\\user\\Desktop\\FINAL\\final-project\\16\\data\\13\\test\\images\\incik-91-_jpg.rf.aa93cd1113658b9743363768bd327a5d.jpg: 640x640 (no detections), 12.4ms\n",
      "image 903/1176 c:\\Users\\user\\Desktop\\FINAL\\final-project\\16\\data\\13\\test\\images\\istockphoto-1275039389-612x612_jpg.rf.1b7c459a46f65f7652b5434bed6b08c2.jpg: 640x640 1 avocado, 2 cashews, 16.6ms\n",
      "image 904/1176 c:\\Users\\user\\Desktop\\FINAL\\final-project\\16\\data\\13\\test\\images\\istockphoto-137861064-612x612_jpg.rf.b481024b7f721a74d73dbbc3614c44d6.jpg: 640x640 1 egg, 14.5ms\n",
      "image 905/1176 c:\\Users\\user\\Desktop\\FINAL\\final-project\\16\\data\\13\\test\\images\\istockphoto-175260546-612x612_jpg.rf.bde8c4c513377ef57378796793b36965.jpg: 640x640 1 pork, 40.4ms\n",
      "image 906/1176 c:\\Users\\user\\Desktop\\FINAL\\final-project\\16\\data\\13\\test\\images\\istockphoto-507372419-170667a_jpg.rf.bcfd7abe3a803c50da9cd8d239e8d480.jpg: 640x640 9 red chilis, 13.7ms\n",
      "image 907/1176 c:\\Users\\user\\Desktop\\FINAL\\final-project\\16\\data\\13\\test\\images\\istockphoto-924202150-170667a-1-_jpg.rf.0351d9fb4f0e26ee1e270eb08a7e4b6a.jpg: 640x640 4 eggs, 12.5ms\n",
      "image 908/1176 c:\\Users\\user\\Desktop\\FINAL\\final-project\\16\\data\\13\\test\\images\\jahe-emprit-047_jpg.rf.d1fa39347fdb2c2e88427ea346b301e6.jpg: 640x640 4 gingers, 11.4ms\n",
      "image 909/1176 c:\\Users\\user\\Desktop\\FINAL\\final-project\\16\\data\\13\\test\\images\\jahe-emprit-066_jpg.rf.26b5068d883f9a64d71ea8b7c75aa68a.jpg: 640x640 1 ginger, 14.6ms\n",
      "image 910/1176 c:\\Users\\user\\Desktop\\FINAL\\final-project\\16\\data\\13\\test\\images\\jahe-emprit-076_jpg.rf.c2b886f80420964392fce6c998a527e0.jpg: 640x640 1 ginger, 14.9ms\n",
      "image 911/1176 c:\\Users\\user\\Desktop\\FINAL\\final-project\\16\\data\\13\\test\\images\\jahe-emprit-091_jpg.rf.96d35802d3b28e9f90461abfdd749837.jpg: 640x640 1 ginger, 13.1ms\n",
      "image 912/1176 c:\\Users\\user\\Desktop\\FINAL\\final-project\\16\\data\\13\\test\\images\\jahe-emprit-092_jpg.rf.17a72a4247ec5ed063ad766b72522f7a.jpg: 640x640 1 ginger, 16.9ms\n",
      "image 913/1176 c:\\Users\\user\\Desktop\\FINAL\\final-project\\16\\data\\13\\test\\images\\jahe-emprit-105_jpg.rf.fa698bf49a83eba1f71de294125f67bc.jpg: 640x640 1 ginger, 8.9ms\n",
      "image 914/1176 c:\\Users\\user\\Desktop\\FINAL\\final-project\\16\\data\\13\\test\\images\\jahe-emprit-112_jpg.rf.ecb1a75d38fc2adfeac1537849215009.jpg: 640x640 1 ginger, 11.4ms\n",
      "image 915/1176 c:\\Users\\user\\Desktop\\FINAL\\final-project\\16\\data\\13\\test\\images\\jahe-merah-050_jpg.rf.b3c357653792e0bc256abe209c35a7fe.jpg: 640x640 3 gingers, 11.4ms\n",
      "image 916/1176 c:\\Users\\user\\Desktop\\FINAL\\final-project\\16\\data\\13\\test\\images\\jahe-merah-067_jpg.rf.0d920e3d61ac047804015dbfc829b0dc.jpg: 640x640 2 gingers, 13.3ms\n",
      "image 917/1176 c:\\Users\\user\\Desktop\\FINAL\\final-project\\16\\data\\13\\test\\images\\jahe-merah-105_jpg.rf.eac3a89874d95a3fd74cde9155ab85a5.jpg: 640x640 1 ginger, 18.2ms\n",
      "image 918/1176 c:\\Users\\user\\Desktop\\FINAL\\final-project\\16\\data\\13\\test\\images\\jahe-putih-020_jpg.rf.ee3985072a5dab78e06f98b50ff85393.jpg: 640x640 1 ginger, 12.1ms\n",
      "image 919/1176 c:\\Users\\user\\Desktop\\FINAL\\final-project\\16\\data\\13\\test\\images\\jahe-putih-076_jpg.rf.b6b284ecf0b0a6fce342d61e34943702.jpg: 640x640 1 ginger, 12.2ms\n",
      "image 920/1176 c:\\Users\\user\\Desktop\\FINAL\\final-project\\16\\data\\13\\test\\images\\jiangxulei1990-eIzzzwtkBjU-unsplash_jpg.rf.70463b9a4d5fd4e03db13d9438e5e4aa.jpg: 640x640 5 eggs, 13.7ms\n",
      "image 921/1176 c:\\Users\\user\\Desktop\\FINAL\\final-project\\16\\data\\13\\test\\images\\katie-bernotsky-PHxUUcl327k-unsplash_jpg.rf.6f65d0c15bff8defc7502c09d540e273.jpg: 640x640 11 eggs, 14.9ms\n",
      "image 922/1176 c:\\Users\\user\\Desktop\\FINAL\\final-project\\16\\data\\13\\test\\images\\leilani-angel-GsA431IyQFw-unsplash_jpg.rf.ac25cf2ba066c73eb1e2f4bc9e1462ec.jpg: 640x640 2 egg_s, 11.0ms\n",
      "image 923/1176 c:\\Users\\user\\Desktop\\FINAL\\final-project\\16\\data\\13\\test\\images\\lemons_12_jpg.rf.6461285fd304be4597e83425388b2e20.jpg: 640x640 6 lemons, 13.4ms\n",
      "image 924/1176 c:\\Users\\user\\Desktop\\FINAL\\final-project\\16\\data\\13\\test\\images\\lemons_35_png.rf.b8c32c4beceedd0c90c889a7f84cbee2.jpg: 640x640 3 lemons, 17.8ms\n",
      "image 925/1176 c:\\Users\\user\\Desktop\\FINAL\\final-project\\16\\data\\13\\test\\images\\lemons_3_jpeg.rf.d7ae8912a394f9d0f14cc5d3ce87f7e4.jpg: 640x640 2 lemons, 9.6ms\n",
      "image 926/1176 c:\\Users\\user\\Desktop\\FINAL\\final-project\\16\\data\\13\\test\\images\\lemons_44_jpg.rf.a9112c0ae051703f513579e736e46cb9.jpg: 640x640 4 lemons, 12.9ms\n",
      "image 927/1176 c:\\Users\\user\\Desktop\\FINAL\\final-project\\16\\data\\13\\test\\images\\lemons_4_jpg.rf.afefab73dc21389a66925e0139249c83.jpg: 640x640 11 lemons, 15.0ms\n",
      "image 928/1176 c:\\Users\\user\\Desktop\\FINAL\\final-project\\16\\data\\13\\test\\images\\lemons_63_png.rf.40cd83c27efcd20b475ca3f029f4b408.jpg: 640x640 2 lemons, 12.2ms\n",
      "image 929/1176 c:\\Users\\user\\Desktop\\FINAL\\final-project\\16\\data\\13\\test\\images\\lemons_75_jpg.rf.5bce6a1c30ff56dfbfa65fe137c0545b.jpg: 640x640 2 lemons, 13.4ms\n",
      "image 930/1176 c:\\Users\\user\\Desktop\\FINAL\\final-project\\16\\data\\13\\test\\images\\lemons_80_jpg.rf.65ccc599b20649b22a8c008df0ea2675.jpg: 640x640 2 lemons, 20.5ms\n",
      "image 931/1176 c:\\Users\\user\\Desktop\\FINAL\\final-project\\16\\data\\13\\test\\images\\lemons_89_jpg.rf.d42eacca7e26e7a4fdca5a72a118def8.jpg: 640x640 1 lemon, 15.2ms\n",
      "image 932/1176 c:\\Users\\user\\Desktop\\FINAL\\final-project\\16\\data\\13\\test\\images\\lemons_97_jpg.rf.d2e43fec7f6a87794ad1d556ce19c0fa.jpg: 640x640 1 avocado, 1 lemon, 2 mangos, 3 oranges, 20.0ms\n",
      "image 933/1176 c:\\Users\\user\\Desktop\\FINAL\\final-project\\16\\data\\13\\test\\images\\lettuce_13_jpg.rf.de1f9f2aa99be7f8773cbc936106cad4.jpg: 640x640 1 lettuce, 14.4ms\n",
      "image 934/1176 c:\\Users\\user\\Desktop\\FINAL\\final-project\\16\\data\\13\\test\\images\\lettuce_14_jpg.rf.14019c0fee0321bc6e41b6776b59cfb8.jpg: 640x640 1 lettuce, 11.6ms\n",
      "image 935/1176 c:\\Users\\user\\Desktop\\FINAL\\final-project\\16\\data\\13\\test\\images\\lettuce_23_jpg.rf.151727545bfe55918d5ab038e7ab743b.jpg: 640x640 1 cabbage, 1 lettuce, 9.6ms\n",
      "image 936/1176 c:\\Users\\user\\Desktop\\FINAL\\final-project\\16\\data\\13\\test\\images\\lettuce_42_jpg.rf.9b07aac3911969db5e1ecffc0f603bac.jpg: 640x640 2 lettuces, 12.6ms\n",
      "image 937/1176 c:\\Users\\user\\Desktop\\FINAL\\final-project\\16\\data\\13\\test\\images\\lettuce_43_jpg.rf.c75edb6cbb002c574f044d2ee51deb19.jpg: 640x640 1 lettuce, 16.1ms\n",
      "image 938/1176 c:\\Users\\user\\Desktop\\FINAL\\final-project\\16\\data\\13\\test\\images\\lettuce_44_jpg.rf.0fd644e73bec4966582f1f468e988a7d.jpg: 640x640 1 cabbage, 12.4ms\n",
      "image 939/1176 c:\\Users\\user\\Desktop\\FINAL\\final-project\\16\\data\\13\\test\\images\\lettuce_62_jpg.rf.4297dbf61095b95a1ea63576428ebd18.jpg: 640x640 1 lettuce, 19.9ms\n",
      "image 940/1176 c:\\Users\\user\\Desktop\\FINAL\\final-project\\16\\data\\13\\test\\images\\lettuce_79_jpg.rf.f9406faeb1131e83250949f0fa42edb9.jpg: 640x640 1 lettuce, 13.5ms\n",
      "image 941/1176 c:\\Users\\user\\Desktop\\FINAL\\final-project\\16\\data\\13\\test\\images\\lettuce_82_jpg.rf.6860874278dd93462b96270c4099dbd2.jpg: 640x640 1 lettuce, 16.3ms\n",
      "image 942/1176 c:\\Users\\user\\Desktop\\FINAL\\final-project\\16\\data\\13\\test\\images\\lettuce_85_jpg.rf.93b85b60c1383d7653435473d53956d2.jpg: 640x640 (no detections), 12.0ms\n",
      "image 943/1176 c:\\Users\\user\\Desktop\\FINAL\\final-project\\16\\data\\13\\test\\images\\lobster_tails_16_jpg.rf.40eb0e29691772890b731d54b810b936.jpg: 640x640 1 crab, 3 lobster tailss, 12.0ms\n",
      "image 944/1176 c:\\Users\\user\\Desktop\\FINAL\\final-project\\16\\data\\13\\test\\images\\lobster_tails_19_jpg.rf.2dffdc0993de614d74a4e9f7aad79b3c.jpg: 640x640 (no detections), 17.6ms\n",
      "image 945/1176 c:\\Users\\user\\Desktop\\FINAL\\final-project\\16\\data\\13\\test\\images\\lobster_tails_32_jpg.rf.76423869178a10637652581b48328d87.jpg: 640x640 1 lobster tails, 24.6ms\n",
      "image 946/1176 c:\\Users\\user\\Desktop\\FINAL\\final-project\\16\\data\\13\\test\\images\\lobster_tails_34_jpg.rf.e65a29539f7d5879abb5b0c34c53a0ab.jpg: 640x640 1 sausage, 33.9ms\n",
      "image 947/1176 c:\\Users\\user\\Desktop\\FINAL\\final-project\\16\\data\\13\\test\\images\\lobster_tails_68_jpg.rf.bc5882d66ca7ffec9045275ddf8c5eb4.jpg: 640x640 2 lemons, 2 lobster tailss, 13.6ms\n",
      "image 948/1176 c:\\Users\\user\\Desktop\\FINAL\\final-project\\16\\data\\13\\test\\images\\lobster_tails_74_jpg.rf.ab852cbec63320767c1dca1edb60a16e.jpg: 640x640 1 lemon, 3 lobster tailss, 17.1ms\n",
      "image 949/1176 c:\\Users\\user\\Desktop\\FINAL\\final-project\\16\\data\\13\\test\\images\\lobster_tails_95_jpg.rf.0d4d490dd1d21e27f16fa93dba594483.jpg: 640x640 3 lemons, 1 sausage, 16.7ms\n",
      "image 950/1176 c:\\Users\\user\\Desktop\\FINAL\\final-project\\16\\data\\13\\test\\images\\mango_100_jpg.rf.0c74b3e1b7fbb397ea1294352f2a997f.jpg: 640x640 1 mango, 13.6ms\n",
      "image 951/1176 c:\\Users\\user\\Desktop\\FINAL\\final-project\\16\\data\\13\\test\\images\\mango_10_jpg.rf.a66ee5576cc37aaf3a64fd31227b9f88.jpg: 640x640 3 cucumbers, 2 mangos, 12.5ms\n",
      "image 952/1176 c:\\Users\\user\\Desktop\\FINAL\\final-project\\16\\data\\13\\test\\images\\mango_11_jpg.rf.49fac74d7edb09b27859ff0aadde950a.jpg: 640x640 2 10_tangerines, 12 mangos, 1 sweet potato, 13.4ms\n",
      "image 953/1176 c:\\Users\\user\\Desktop\\FINAL\\final-project\\16\\data\\13\\test\\images\\mango_15_jpg.rf.8f3e257b673f92d37484052fef00563e.jpg: 640x640 2 mangos, 23.0ms\n",
      "image 954/1176 c:\\Users\\user\\Desktop\\FINAL\\final-project\\16\\data\\13\\test\\images\\mango_1_jpg.rf.9eded6c96b4a0f29efd06ac19c4dd62c.jpg: 640x640 2 mangos, 12.9ms\n",
      "image 955/1176 c:\\Users\\user\\Desktop\\FINAL\\final-project\\16\\data\\13\\test\\images\\mango_22_jpg.rf.df868159ca86506592c3ffb6b0288b83.jpg: 640x640 2 10_tangerines, 15.7ms\n",
      "image 956/1176 c:\\Users\\user\\Desktop\\FINAL\\final-project\\16\\data\\13\\test\\images\\mango_24_png.rf.b20dac28247c1f3eba06864aa52af5ab.jpg: 640x640 1 lemon, 1 mango, 16.3ms\n",
      "image 957/1176 c:\\Users\\user\\Desktop\\FINAL\\final-project\\16\\data\\13\\test\\images\\mango_27_jpg.rf.b187846217af783b4ec28d1425802466.jpg: 640x640 1 mango, 12.0ms\n",
      "image 958/1176 c:\\Users\\user\\Desktop\\FINAL\\final-project\\16\\data\\13\\test\\images\\mango_39_jpg.rf.7cc3c562c6522b6d32728042df0467db.jpg: 640x640 1 Orange, 2 egg_s, 1 mango, 19.1ms\n",
      "image 959/1176 c:\\Users\\user\\Desktop\\FINAL\\final-project\\16\\data\\13\\test\\images\\mango_49_jpg.rf.ac7fc7c73f6ce9ffad35d5f0e9059cf9.jpg: 640x640 8 mangos, 18.0ms\n",
      "image 960/1176 c:\\Users\\user\\Desktop\\FINAL\\final-project\\16\\data\\13\\test\\images\\mango_5_jpg.rf.1a6441d98e0c486fc68b1a2d543c7839.jpg: 640x640 2 mangos, 8.5ms\n",
      "image 961/1176 c:\\Users\\user\\Desktop\\FINAL\\final-project\\16\\data\\13\\test\\images\\mango_99_jpg.rf.52aa479840588779538b10e841d6ba18.jpg: 640x640 1 mango, 11.8ms\n",
      "image 962/1176 c:\\Users\\user\\Desktop\\FINAL\\final-project\\16\\data\\13\\test\\images\\mceclip3_jpg.rf.4bf83f4aea3534c924a4a507c0ecffdc.jpg: 640x640 1 egg, 12.1ms\n",
      "image 963/1176 c:\\Users\\user\\Desktop\\FINAL\\final-project\\16\\data\\13\\test\\images\\onion-10-_png_jpg.rf.f23cb4abb9045a2209586ff83621f202.jpg: 640x640 1 onion, 12.7ms\n",
      "image 964/1176 c:\\Users\\user\\Desktop\\FINAL\\final-project\\16\\data\\13\\test\\images\\onion-4-_jpg.rf.39387eeab348ad267702fa9263d92177.jpg: 640x640 3 onions, 17.8ms\n",
      "image 965/1176 c:\\Users\\user\\Desktop\\FINAL\\final-project\\16\\data\\13\\test\\images\\onion-50-_jpg.rf.7e45cfa043f36fbfa29dc8759c35073e.jpg: 640x640 3 onions, 9.9ms\n",
      "image 966/1176 c:\\Users\\user\\Desktop\\FINAL\\final-project\\16\\data\\13\\test\\images\\onion_17_jpg.rf.cec3d1e7fc32b6a6c372846045770590.jpg: 640x640 11 onions, 15.6ms\n",
      "image 967/1176 c:\\Users\\user\\Desktop\\FINAL\\final-project\\16\\data\\13\\test\\images\\onion_20_jpg.rf.7250afb68a71635d760ca616581912db.jpg: 640x640 3 onions, 17.9ms\n",
      "image 968/1176 c:\\Users\\user\\Desktop\\FINAL\\final-project\\16\\data\\13\\test\\images\\onion_29_jpg.rf.058b23c6ccfbc8b3f03c70520785a42f.jpg: 640x640 3 onions, 13.6ms\n",
      "image 969/1176 c:\\Users\\user\\Desktop\\FINAL\\final-project\\16\\data\\13\\test\\images\\onion_53_jpg.rf.637ab0f283faf58119543e459fbd1156.jpg: 640x640 2 onions, 13.0ms\n",
      "image 970/1176 c:\\Users\\user\\Desktop\\FINAL\\final-project\\16\\data\\13\\test\\images\\onion_57_jpg.rf.3d196c3fb137f93d689221adbb9e528a.jpg: 640x640 2 onions, 11.8ms\n",
      "image 971/1176 c:\\Users\\user\\Desktop\\FINAL\\final-project\\16\\data\\13\\test\\images\\onion_63_png.rf.342f79c5a8361fb7335ab14e90954e13.jpg: 640x640 1 onion, 9.3ms\n",
      "image 972/1176 c:\\Users\\user\\Desktop\\FINAL\\final-project\\16\\data\\13\\test\\images\\onion_6_png.rf.74cfceb0aa91d8787cdac85da03e3914.jpg: 640x640 2 onions, 11.8ms\n",
      "image 973/1176 c:\\Users\\user\\Desktop\\FINAL\\final-project\\16\\data\\13\\test\\images\\onion_75_jpg.rf.3f3a31f72806f04df0bf10a603ff2105.jpg: 640x640 5 onions, 11.4ms\n",
      "image 974/1176 c:\\Users\\user\\Desktop\\FINAL\\final-project\\16\\data\\13\\test\\images\\onion_77_jpg.rf.b8c43a2ebb7f8666c93c6a5366939ad3.jpg: 640x640 2 onions, 16.2ms\n",
      "image 975/1176 c:\\Users\\user\\Desktop\\FINAL\\final-project\\16\\data\\13\\test\\images\\onion_90_jpg.rf.3d938da37512896e683505c1c55b67f0.jpg: 640x640 3 onions, 11.6ms\n",
      "image 976/1176 c:\\Users\\user\\Desktop\\FINAL\\final-project\\16\\data\\13\\test\\images\\orange_18_jpg.rf.28b9367864134dcad9d1b137214240e2.jpg: 640x640 1 orange, 17.1ms\n",
      "image 977/1176 c:\\Users\\user\\Desktop\\FINAL\\final-project\\16\\data\\13\\test\\images\\orange_20_jpg.rf.89d20c3faae8fd5c46cdc1fd0dac554b.jpg: 640x640 23 oranges, 13.9ms\n",
      "image 978/1176 c:\\Users\\user\\Desktop\\FINAL\\final-project\\16\\data\\13\\test\\images\\orange_24_jpg.rf.8c4b8d9b763ce5b5f5cc12d5c88054fc.jpg: 640x640 1 Mushroom, 7 oranges, 18.7ms\n",
      "image 979/1176 c:\\Users\\user\\Desktop\\FINAL\\final-project\\16\\data\\13\\test\\images\\orange_30_jpg.rf.0396878d0a8c52fcd2000e97ad0bc5f3.jpg: 640x640 2 oranges, 12.3ms\n",
      "image 980/1176 c:\\Users\\user\\Desktop\\FINAL\\final-project\\16\\data\\13\\test\\images\\orange_38_jpg.rf.c4c3499212e2420a4131569f9c777617.jpg: 640x640 1 cashew, 3 lemons, 6 oranges, 15.8ms\n",
      "image 981/1176 c:\\Users\\user\\Desktop\\FINAL\\final-project\\16\\data\\13\\test\\images\\orange_47_jpg.rf.4e82a184d589c7508b711847b5d7080e.jpg: 640x640 15 oranges, 21.5ms\n",
      "image 982/1176 c:\\Users\\user\\Desktop\\FINAL\\final-project\\16\\data\\13\\test\\images\\orange_49_jpg.rf.9386af561802fb00ee97573c9837777c.jpg: 640x640 2 oranges, 13.8ms\n",
      "image 983/1176 c:\\Users\\user\\Desktop\\FINAL\\final-project\\16\\data\\13\\test\\images\\orange_68_jpg.rf.e4001f505f24a1a1cfb2e06414feb185.jpg: 640x640 2 oranges, 14.8ms\n",
      "image 984/1176 c:\\Users\\user\\Desktop\\FINAL\\final-project\\16\\data\\13\\test\\images\\orange_84_jpg.rf.d016693d45604cf17060dcbe1a0e6d7e.jpg: 640x640 1 orange, 11.8ms\n",
      "image 985/1176 c:\\Users\\user\\Desktop\\FINAL\\final-project\\16\\data\\13\\test\\images\\orange_92_jpg.rf.4fff62261a40881500600d6b93eb6f29.jpg: 640x640 1 Mushroom, 31 oranges, 14.8ms\n",
      "image 986/1176 c:\\Users\\user\\Desktop\\FINAL\\final-project\\16\\data\\13\\test\\images\\orange_96_jpg.rf.7b00f2f907e2ff2e937ae481e3bf5f46.jpg: 640x640 3 10_tangerines, 5 egg_s, 12 oranges, 1 sea scallops, 20.4ms\n",
      "image 987/1176 c:\\Users\\user\\Desktop\\FINAL\\final-project\\16\\data\\13\\test\\images\\orange_9_jpg.rf.d07561a3a2e509bcdcdd541ef302a94d.jpg: 640x640 13 oranges, 10.5ms\n",
      "image 988/1176 c:\\Users\\user\\Desktop\\FINAL\\final-project\\16\\data\\13\\test\\images\\organic_carrot_jpg.rf.c5a26994e377271769bcd36d5c8f136f.jpg: 640x640 1 carrot, 15.8ms\n",
      "image 989/1176 c:\\Users\\user\\Desktop\\FINAL\\final-project\\16\\data\\13\\test\\images\\oysters_33_jpg.rf.51d63165d9b58b3e404b8ee40c5c60a8.jpg: 640x640 1 watermelon, 18.8ms\n",
      "image 990/1176 c:\\Users\\user\\Desktop\\FINAL\\final-project\\16\\data\\13\\test\\images\\oysters_66_jpg.rf.cb68f1a6cf2c6734a4ede86354edcb80.jpg: 640x640 5 oysterss, 22.2ms\n",
      "image 991/1176 c:\\Users\\user\\Desktop\\FINAL\\final-project\\16\\data\\13\\test\\images\\oysters_89_jpg.rf.8ba872cda75f69620031a6590fd28e89.jpg: 640x640 1 lemon, 9 oysterss, 14.0ms\n",
      "image 992/1176 c:\\Users\\user\\Desktop\\FINAL\\final-project\\16\\data\\13\\test\\images\\pawpaw_20_jpg.rf.92c2d4c24c6fde6524b423411dda5adf.jpg: 640x640 7 mangos, 14.4ms\n",
      "image 993/1176 c:\\Users\\user\\Desktop\\FINAL\\final-project\\16\\data\\13\\test\\images\\photo-1611059263765-f57653f3bba3_jpg.rf.917eaec247649d6cc833831cd6a409ff.jpg: 640x640 6 porks, 1 pork belly, 16.1ms\n",
      "image 994/1176 c:\\Users\\user\\Desktop\\FINAL\\final-project\\16\\data\\13\\test\\images\\photo_10_2023-03-18_23-58-41_jpg.rf.986a1ee674fa7779bfb65a8999cb4915.jpg: 640x640 4 Apples, 2 Bananas, 3 Cucumbers, 4 Oranges, 4 Tomatos, 13.3ms\n",
      "image 995/1176 c:\\Users\\user\\Desktop\\FINAL\\final-project\\16\\data\\13\\test\\images\\photo_13_2023-03-11_21-51-48_jpg.rf.7d95d1c2473c434ff3d743b9659ae6b3.jpg: 640x640 4 Apples, 3 Cucumbers, 4 Oranges, 3 Tomatos, 13.6ms\n",
      "image 996/1176 c:\\Users\\user\\Desktop\\FINAL\\final-project\\16\\data\\13\\test\\images\\photo_13_2023-03-18_23-58-41_jpg.rf.6314b48e315031a40986b7c6ecbf90be.jpg: 640x640 3 Apples, 4 Bananas, 3 Cucumbers, 4 Oranges, 4 Tomatos, 12.8ms\n",
      "image 997/1176 c:\\Users\\user\\Desktop\\FINAL\\final-project\\16\\data\\13\\test\\images\\photo_17_2023-03-18_23-58-41_jpg.rf.003cd4ca3adbd4cf4b07697e4d06fb33.jpg: 640x640 3 Apples, 2 Bananas, 3 Cucumbers, 3 Oranges, 4 Tomatos, 18.7ms\n",
      "image 998/1176 c:\\Users\\user\\Desktop\\FINAL\\final-project\\16\\data\\13\\test\\images\\photo_18_2023-03-18_23-58-14_jpg.rf.278c9029d5bc00a1143d6f50e0df606d.jpg: 640x640 4 Apples, 4 Bananas, 3 Cucumbers, 4 Oranges, 2 Tomatos, 17.5ms\n",
      "image 999/1176 c:\\Users\\user\\Desktop\\FINAL\\final-project\\16\\data\\13\\test\\images\\photo_19_2023-03-11_21-51-48_jpg.rf.02283a90add19ca17187abb8d6fa02ca.jpg: 640x640 3 Apples, 3 Cucumbers, 4 Oranges, 3 Tomatos, 9.8ms\n",
      "image 1000/1176 c:\\Users\\user\\Desktop\\FINAL\\final-project\\16\\data\\13\\test\\images\\photo_21_2023-03-11_21-51-48_jpg.rf.446b0148e37e99422f41b519c77f4398.jpg: 640x640 4 Apples, 3 Cucumbers, 4 Oranges, 3 Tomatos, 11.9ms\n",
      "image 1001/1176 c:\\Users\\user\\Desktop\\FINAL\\final-project\\16\\data\\13\\test\\images\\photo_24_2023-03-18_23-58-14_jpg.rf.58dcb609c1e4759019ce2914b3e4610b.jpg: 640x640 3 Apples, 2 Bananas, 3 Cucumbers, 4 Oranges, 4 Tomatos, 9.3ms\n",
      "image 1002/1176 c:\\Users\\user\\Desktop\\FINAL\\final-project\\16\\data\\13\\test\\images\\photo_24_2023-03-18_23-58-35_jpg.rf.2e36675d4701fae29873811b8a216bd6.jpg: 640x640 4 Apples, 3 Bananas, 3 Cucumbers, 4 Oranges, 2 Tomatos, 15.9ms\n",
      "image 1003/1176 c:\\Users\\user\\Desktop\\FINAL\\final-project\\16\\data\\13\\test\\images\\photo_25_2023-03-11_21-51-48_jpg.rf.249a12345856272ac5d4292299380d65.jpg: 640x640 3 Apples, 2 Cucumbers, 1 Orange, 3 Tomatos, 11.9ms\n",
      "image 1004/1176 c:\\Users\\user\\Desktop\\FINAL\\final-project\\16\\data\\13\\test\\images\\photo_2_2023-03-18_23-58-35_jpg.rf.ed42a0e4cf0ec6b17790c2a37a25736e.jpg: 640x640 4 Apples, 2 Bananas, 3 Cucumbers, 4 Oranges, 2 Tomatos, 12.1ms\n",
      "image 1005/1176 c:\\Users\\user\\Desktop\\FINAL\\final-project\\16\\data\\13\\test\\images\\photo_2_2023-03-18_23-58-41_jpg.rf.60ea6cb14477b9f90309e0d8282c1bbc.jpg: 640x640 4 Apples, 2 Bananas, 3 Cucumbers, 4 Oranges, 4 Tomatos, 21.5ms\n",
      "image 1006/1176 c:\\Users\\user\\Desktop\\FINAL\\final-project\\16\\data\\13\\test\\images\\photo_30_2023-03-18_23-58-35_jpg.rf.d9063b5c132d58331096dd73cad06b87.jpg: 640x640 4 Apples, 4 Bananas, 3 Cucumbers, 4 Oranges, 3 Tomatos, 9.9ms\n",
      "image 1007/1176 c:\\Users\\user\\Desktop\\FINAL\\final-project\\16\\data\\13\\test\\images\\photo_6_2023-03-11_21-51-48_jpg.rf.9fec2b4bd426caf1ca646e1b1620d023.jpg: 640x640 2 Apples, 2 Oranges, 2 Tomatos, 16.7ms\n",
      "image 1008/1176 c:\\Users\\user\\Desktop\\FINAL\\final-project\\16\\data\\13\\test\\images\\photo_7_2023-03-11_21-51-48_jpg.rf.7a6bb1f5184a1743931d7e71243b6f11.jpg: 640x640 3 Apples, 3 Cucumbers, 3 Oranges, 3 Tomatos, 17.7ms\n",
      "image 1009/1176 c:\\Users\\user\\Desktop\\FINAL\\final-project\\16\\data\\13\\test\\images\\photo_8_2023-03-18_23-58-14_jpg.rf.c55b4d1ec96f3b50f896261bdb475154.jpg: 640x640 4 Apples, 4 Bananas, 4 Cucumbers, 3 Oranges, 4 Tomatos, 15.7ms\n",
      "image 1010/1176 c:\\Users\\user\\Desktop\\FINAL\\final-project\\16\\data\\13\\test\\images\\photo_8_2023-03-18_23-58-35_jpg.rf.6530a11c6f52e68ff4f7cbc6a9d3db37.jpg: 640x640 4 Apples, 4 Bananas, 4 Cucumbers, 4 Oranges, 4 Tomatos, 16.4ms\n",
      "image 1011/1176 c:\\Users\\user\\Desktop\\FINAL\\final-project\\16\\data\\13\\test\\images\\photo_8_2023-03-18_23-58-41_jpg.rf.3e13d97c289057a5ed0b0e6750b424dc.jpg: 640x640 5 Apples, 2 Bananas, 3 Cucumbers, 4 Oranges, 4 Tomatos, 12.6ms\n",
      "image 1012/1176 c:\\Users\\user\\Desktop\\FINAL\\final-project\\16\\data\\13\\test\\images\\pineapple_13_jpg.rf.c0d9432553445850622a56c8cbde69d6.jpg: 640x640 2 bananas, 1 pineapple, 13.4ms\n",
      "image 1013/1176 c:\\Users\\user\\Desktop\\FINAL\\final-project\\16\\data\\13\\test\\images\\pineapple_24_png.rf.94353058c9194911171215e661ef9d19.jpg: 640x640 3 pineapples, 20.5ms\n",
      "image 1014/1176 c:\\Users\\user\\Desktop\\FINAL\\final-project\\16\\data\\13\\test\\images\\pineapple_25_jpg.rf.ff143fbf93aa907b2fed1ff11977f4b6.jpg: 640x640 3 pineapples, 12.0ms\n",
      "image 1015/1176 c:\\Users\\user\\Desktop\\FINAL\\final-project\\16\\data\\13\\test\\images\\pineapple_29_jpg.rf.8d3e1e80a65c366f69c6adcbef32574e.jpg: 640x640 4 pineapples, 15.8ms\n",
      "image 1016/1176 c:\\Users\\user\\Desktop\\FINAL\\final-project\\16\\data\\13\\test\\images\\pineapple_2_jpg.rf.ee1c2b2ed686009413fe71dbe30ddf45.jpg: 640x640 2 pineapples, 12.7ms\n",
      "image 1017/1176 c:\\Users\\user\\Desktop\\FINAL\\final-project\\16\\data\\13\\test\\images\\pineapple_42_png.rf.94ea4ae1ba41577337d6d5aed2e6d42a.jpg: 640x640 1 pineapple, 15.9ms\n",
      "image 1018/1176 c:\\Users\\user\\Desktop\\FINAL\\final-project\\16\\data\\13\\test\\images\\pineapple_8_jpg.rf.0fe7b1d51a044cd859c8e09783152f1d.jpg: 640x640 1 pineapple, 23.1ms\n",
      "image 1019/1176 c:\\Users\\user\\Desktop\\FINAL\\final-project\\16\\data\\13\\test\\images\\pineapple_90_jpg.rf.033429f2137496be9a684188dfe37663.jpg: 640x640 1 pineapple, 12.5ms\n",
      "image 1020/1176 c:\\Users\\user\\Desktop\\FINAL\\final-project\\16\\data\\13\\test\\images\\pineapple_gold_280_jpg.rf.79ad4f828f1a64ce5c4d950f77c03b9f.jpg: 640x640 5 10_pineapples, 1 banana, 1 ginger, 1 pineapple, 14.8ms\n",
      "image 1021/1176 c:\\Users\\user\\Desktop\\FINAL\\final-project\\16\\data\\13\\test\\images\\plantains25_jpeg.rf.d8be9088e61537ffdb1aa5277bab9147.jpg: 640x640 1 banana, 13.0ms\n",
      "image 1022/1176 c:\\Users\\user\\Desktop\\FINAL\\final-project\\16\\data\\13\\test\\images\\plantains72_jpeg.rf.6d9ad97f6288b136c80fdf7b123a8058.jpg: 640x640 1 ampalaya, 1 banana, 1 carrot, 15.7ms\n",
      "image 1023/1176 c:\\Users\\user\\Desktop\\FINAL\\final-project\\16\\data\\13\\test\\images\\pngimg-com-chili_pepper_PNG15_png.rf.565f96bc0a23cd3e56231197e4dfbfd2.jpg: 640x640 1 red chili, 14.0ms\n",
      "image 1024/1176 c:\\Users\\user\\Desktop\\FINAL\\final-project\\16\\data\\13\\test\\images\\pork_belly_10_jpg.rf.93d22d7d8be57ace9c7fcc12c47b0d7b.jpg: 640x640 5 pork bellys, 13.8ms\n",
      "image 1025/1176 c:\\Users\\user\\Desktop\\FINAL\\final-project\\16\\data\\13\\test\\images\\pork_belly_21_jpg.rf.9e68cc9be62b8bb3a31c72aca6e0b30b.jpg: 640x640 1 bitter gourd, 2 pork bellys, 14.6ms\n",
      "image 1026/1176 c:\\Users\\user\\Desktop\\FINAL\\final-project\\16\\data\\13\\test\\images\\pork_belly_22_jpg.rf.304b29b56240fd3529c48c7d553302a4.jpg: 640x640 (no detections), 11.9ms\n",
      "image 1027/1176 c:\\Users\\user\\Desktop\\FINAL\\final-project\\16\\data\\13\\test\\images\\pork_belly_24_jpg.rf.1153fa4c196b5dd4e218f48d486204bd.jpg: 640x640 3 porks, 11.1ms\n",
      "image 1028/1176 c:\\Users\\user\\Desktop\\FINAL\\final-project\\16\\data\\13\\test\\images\\pork_belly_36_jpg.rf.36857511444aa86d2f123a8ce51bf085.jpg: 640x640 1 lobster tails, 22.0ms\n",
      "image 1029/1176 c:\\Users\\user\\Desktop\\FINAL\\final-project\\16\\data\\13\\test\\images\\pork_belly_46_jpg.rf.b9de24446a1cedcf72df87b1cae85e70.jpg: 640x640 1 pork, 20.6ms\n",
      "image 1030/1176 c:\\Users\\user\\Desktop\\FINAL\\final-project\\16\\data\\13\\test\\images\\pork_belly_57_jpg.rf.b0e7b4e4539374f6abdab025ad24a587.jpg: 640x640 5 porks, 14.5ms\n",
      "image 1031/1176 c:\\Users\\user\\Desktop\\FINAL\\final-project\\16\\data\\13\\test\\images\\pork_belly_64_jpg.rf.88641d9afb8d0191c7015fb37eb8ef81.jpg: 640x640 1 pork belly, 15.4ms\n",
      "image 1032/1176 c:\\Users\\user\\Desktop\\FINAL\\final-project\\16\\data\\13\\test\\images\\pork_belly_6_jpg.rf.8c9459e7127c205787f26fcc8de94b5d.jpg: 640x640 2 porks, 1 pork belly, 17.1ms\n",
      "image 1033/1176 c:\\Users\\user\\Desktop\\FINAL\\final-project\\16\\data\\13\\test\\images\\pork_belly_78_jpg.rf.9fda3e17e7fac8a219b08ebd8fd00030.jpg: 640x640 1 beef, 2 red chilis, 19.1ms\n",
      "image 1034/1176 c:\\Users\\user\\Desktop\\FINAL\\final-project\\16\\data\\13\\test\\images\\pork_belly_81_jpg.rf.ca8478bbd7bbd1d5cea3884c6ca7caec.jpg: 640x640 1 pork belly, 22.9ms\n",
      "image 1035/1176 c:\\Users\\user\\Desktop\\FINAL\\final-project\\16\\data\\13\\test\\images\\pork_belly_85_jpg.rf.8032b867be7d6b27dae5efa9332d5526.jpg: 640x640 1 pork, 18.4ms\n",
      "image 1036/1176 c:\\Users\\user\\Desktop\\FINAL\\final-project\\16\\data\\13\\test\\images\\pork_belly_89_jpg.rf.b036455b53221b5cf84ada4ab3e45743.jpg: 640x640 1 pork, 18.6ms\n",
      "image 1037/1176 c:\\Users\\user\\Desktop\\FINAL\\final-project\\16\\data\\13\\test\\images\\pork_belly_91_jpg.rf.0185f02606fb7b522569fe9f3c0c5c34.jpg: 640x640 1 pork belly, 10.4ms\n",
      "image 1038/1176 c:\\Users\\user\\Desktop\\FINAL\\final-project\\16\\data\\13\\test\\images\\pork_belly_95_jpg.rf.0266204617b9acae64617aac4636b6fd.jpg: 640x640 2 porks, 6 pork bellys, 13.3ms\n",
      "image 1039/1176 c:\\Users\\user\\Desktop\\FINAL\\final-project\\16\\data\\13\\test\\images\\potato_14_jpg.rf.b72c80483f046d5a46eee917b18ec65d.jpg: 640x640 1 potato, 12.4ms\n",
      "image 1040/1176 c:\\Users\\user\\Desktop\\FINAL\\final-project\\16\\data\\13\\test\\images\\potato_16_jpg.rf.253440f64e7f1d10e6db3d3982348f76.jpg: 640x640 16 potatos, 13.0ms\n",
      "image 1041/1176 c:\\Users\\user\\Desktop\\FINAL\\final-project\\16\\data\\13\\test\\images\\potato_1_jpg.rf.8d2822ea77c78a3db2a606f42133aa43.jpg: 640x640 3 potatos, 18.4ms\n",
      "image 1042/1176 c:\\Users\\user\\Desktop\\FINAL\\final-project\\16\\data\\13\\test\\images\\potato_25_jpg.rf.a4718a142b5f668cd62c95233ae2d463.jpg: 640x640 3 potatos, 11.7ms\n",
      "image 1043/1176 c:\\Users\\user\\Desktop\\FINAL\\final-project\\16\\data\\13\\test\\images\\potato_35_png.rf.d5d02703fecc2c3d0c9fb296eab84a23.jpg: 640x640 1 mango, 12.2ms\n",
      "image 1044/1176 c:\\Users\\user\\Desktop\\FINAL\\final-project\\16\\data\\13\\test\\images\\potato_48_jpg.rf.3e771f908d931544b1c07c9374f412c1.jpg: 640x640 1 potato, 11.5ms\n",
      "image 1045/1176 c:\\Users\\user\\Desktop\\FINAL\\final-project\\16\\data\\13\\test\\images\\potato_58_jpg.rf.f9776f7844a4c670e3fc05f0955be5bc.jpg: 640x640 5 potatos, 12.8ms\n",
      "image 1046/1176 c:\\Users\\user\\Desktop\\FINAL\\final-project\\16\\data\\13\\test\\images\\potato_59_jpg.rf.d768f068bfb378377257d94f7b167e6b.jpg: 640x640 6 potatos, 12.5ms\n",
      "image 1047/1176 c:\\Users\\user\\Desktop\\FINAL\\final-project\\16\\data\\13\\test\\images\\potato_72_jpg.rf.fe7ccdd6352f68e4766851496dc00389.jpg: 640x640 3 potatos, 11.5ms\n",
      "image 1048/1176 c:\\Users\\user\\Desktop\\FINAL\\final-project\\16\\data\\13\\test\\images\\potato_74_jpg.rf.5bd69025c78038cad1cae3a1f44d5254.jpg: 640x640 3 potatos, 12.5ms\n",
      "image 1049/1176 c:\\Users\\user\\Desktop\\FINAL\\final-project\\16\\data\\13\\test\\images\\potato_75_jpg.rf.d661cfa6326e2546c681ea9b16596cbc.jpg: 640x640 4 potatos, 12.1ms\n",
      "image 1050/1176 c:\\Users\\user\\Desktop\\FINAL\\final-project\\16\\data\\13\\test\\images\\potato_90_jpg.rf.0760d51a6f929637108a86ede7523f42.jpg: 640x640 2 potatos, 13.7ms\n",
      "image 1051/1176 c:\\Users\\user\\Desktop\\FINAL\\final-project\\16\\data\\13\\test\\images\\potato_91_jpg.rf.32f2ff55f0bce4d1e6895c2856bdbe6d.jpg: 640x640 2 potatos, 12.0ms\n",
      "image 1052/1176 c:\\Users\\user\\Desktop\\FINAL\\final-project\\16\\data\\13\\test\\images\\potato_94_jpg.rf.89d829e0e0da3a7763369cf577c920b3.jpg: 640x640 2 potatos, 12.6ms\n",
      "image 1053/1176 c:\\Users\\user\\Desktop\\FINAL\\final-project\\16\\data\\13\\test\\images\\potato_96_jpg.rf.2f7d72b62aa9740927b6ee51e2af16e9.jpg: 640x640 1 potato, 16.4ms\n",
      "image 1054/1176 c:\\Users\\user\\Desktop\\FINAL\\final-project\\16\\data\\13\\test\\images\\pumpkin_33_jpg.rf.90722abf5e8c31ce9ae397021ba9ddd6.jpg: 640x640 2 pumpkins, 13.9ms\n",
      "image 1055/1176 c:\\Users\\user\\Desktop\\FINAL\\final-project\\16\\data\\13\\test\\images\\pumpkin_46_jpg.rf.56fe95bcc1f0223a572fc00bf343ad9f.jpg: 640x640 1 pumpkin, 17.4ms\n",
      "image 1056/1176 c:\\Users\\user\\Desktop\\FINAL\\final-project\\16\\data\\13\\test\\images\\pumpkin_49_jpg.rf.2e0872f656cda2a7deed6f2726a2b647.jpg: 640x640 3 pumpkins, 16.2ms\n",
      "image 1057/1176 c:\\Users\\user\\Desktop\\FINAL\\final-project\\16\\data\\13\\test\\images\\pumpkin_4_jpg.rf.a328091e4ce2fdb0d847d92831c12857.jpg: 640x640 2 pumpkins, 13.1ms\n",
      "image 1058/1176 c:\\Users\\user\\Desktop\\FINAL\\final-project\\16\\data\\13\\test\\images\\pumpkin_64_jpg.rf.473b30ae4997992c70264bc307693e6f.jpg: 640x640 5 pumpkins, 12.3ms\n",
      "image 1059/1176 c:\\Users\\user\\Desktop\\FINAL\\final-project\\16\\data\\13\\test\\images\\pumpkin_6_jpg.rf.86bb3ffef3d7cd7b28a04da724bf3507.jpg: 640x640 4 pumpkins, 12.1ms\n",
      "image 1060/1176 c:\\Users\\user\\Desktop\\FINAL\\final-project\\16\\data\\13\\test\\images\\pumpkin_79_jpg.rf.fee13ae39e4fbf9436a134d785e33bad.jpg: 640x640 1 pumpkin, 18.5ms\n",
      "image 1061/1176 c:\\Users\\user\\Desktop\\FINAL\\final-project\\16\\data\\13\\test\\images\\pumpkin_91_jpg.rf.ba418842e4114f354ff8084edbb75da7.jpg: 640x640 2 pumpkins, 12.4ms\n",
      "image 1062/1176 c:\\Users\\user\\Desktop\\FINAL\\final-project\\16\\data\\13\\test\\images\\radishes_88_jpg.rf.e4513b3ea021ebef00bf030708ee950e.jpg: 640x640 1 chilli, 3 spinachs, 13.5ms\n",
      "image 1063/1176 c:\\Users\\user\\Desktop\\FINAL\\final-project\\16\\data\\13\\test\\images\\salmon_12_jpg.rf.8f2275befdd008fbc9dd8f687904fe17.jpg: 640x640 1 pork belly, 1 salmon, 18.1ms\n",
      "image 1064/1176 c:\\Users\\user\\Desktop\\FINAL\\final-project\\16\\data\\13\\test\\images\\salmon_34_jpg.rf.75992508058bd7ceff0df516ee1602a6.jpg: 640x640 3 salmons, 11.6ms\n",
      "image 1065/1176 c:\\Users\\user\\Desktop\\FINAL\\final-project\\16\\data\\13\\test\\images\\salmon_61_jpg.rf.c0c697250048d0d0aa960626ef0b0de7.jpg: 640x640 1 salmon, 10.0ms\n",
      "image 1066/1176 c:\\Users\\user\\Desktop\\FINAL\\final-project\\16\\data\\13\\test\\images\\salmon_78_jpg.rf.551a65f025e63f95e3c2e735494668e3.jpg: 640x640 4 salmons, 13.8ms\n",
      "image 1067/1176 c:\\Users\\user\\Desktop\\FINAL\\final-project\\16\\data\\13\\test\\images\\salmon_81_jpg.rf.03cabdc6eb3414edf239e7281a9174ff.jpg: 640x640 2 salmons, 17.0ms\n",
      "image 1068/1176 c:\\Users\\user\\Desktop\\FINAL\\final-project\\16\\data\\13\\test\\images\\salmon_82_jpg.rf.b3a9a6b55a64dd7b13917d46eec31d76.jpg: 640x640 4 salmons, 16.1ms\n",
      "image 1069/1176 c:\\Users\\user\\Desktop\\FINAL\\final-project\\16\\data\\13\\test\\images\\salmon_93_jpg.rf.d3262eb4000a322ef0a8994a44ef3e16.jpg: 640x640 1 salmon, 14.5ms\n",
      "image 1070/1176 c:\\Users\\user\\Desktop\\FINAL\\final-project\\16\\data\\13\\test\\images\\salmon_95_jpg.rf.1eb54f3b25f348cbfd765e14e9b5a107.jpg: 640x640 1 salmon, 11.9ms\n",
      "image 1071/1176 c:\\Users\\user\\Desktop\\FINAL\\final-project\\16\\data\\13\\test\\images\\sea_scallops_12_jpg.rf.74b8ee4a5e2e319198d18fbee8b1ddfc.jpg: 640x640 1 oysters, 3 sea scallopss, 14.9ms\n",
      "image 1072/1176 c:\\Users\\user\\Desktop\\FINAL\\final-project\\16\\data\\13\\test\\images\\sea_scallops_23_jpg.rf.32791d62e057730003ea4954ad2a4371.jpg: 640x640 2 sea scallopss, 9.6ms\n",
      "image 1073/1176 c:\\Users\\user\\Desktop\\FINAL\\final-project\\16\\data\\13\\test\\images\\sea_scallops_81_jpg.rf.64419b3e599c418015dafcfce7d071b7.jpg: 640x640 11 sea scallopss, 2 spinachs, 23.4ms\n",
      "image 1074/1176 c:\\Users\\user\\Desktop\\FINAL\\final-project\\16\\data\\13\\test\\images\\sea_scallops_92_jpg.rf.0af0e436ff36526bdc89819370b807d6.jpg: 640x640 2 sea scallopss, 12.6ms\n",
      "image 1075/1176 c:\\Users\\user\\Desktop\\FINAL\\final-project\\16\\data\\13\\test\\images\\sea_scallops_99_jpg.rf.2022f2a4d5ec28a924752e857389b648.jpg: 640x640 3 sea scallopss, 18.0ms\n",
      "image 1076/1176 c:\\Users\\user\\Desktop\\FINAL\\final-project\\16\\data\\13\\test\\images\\shrimp_14_jpg.rf.f4886e6511e6e9045706175d5d0b9381.jpg: 640x640 2 shrimps, 12.3ms\n",
      "image 1077/1176 c:\\Users\\user\\Desktop\\FINAL\\final-project\\16\\data\\13\\test\\images\\shrimp_47_jpg.rf.11516db4101adcdb497e71d241549849.jpg: 640x640 8 shrimps, 12.0ms\n",
      "image 1078/1176 c:\\Users\\user\\Desktop\\FINAL\\final-project\\16\\data\\13\\test\\images\\shrimp_54_jpg.rf.8d19a69e40ca608e1175e3aac4e93871.jpg: 640x640 1 milk, 20.2ms\n",
      "image 1079/1176 c:\\Users\\user\\Desktop\\FINAL\\final-project\\16\\data\\13\\test\\images\\shrimp_64_jpg.rf.b0c3c278d096e89551a25e5a1449ddd9.jpg: 640x640 8 shrimps, 1 spinach, 15.8ms\n",
      "image 1080/1176 c:\\Users\\user\\Desktop\\FINAL\\final-project\\16\\data\\13\\test\\images\\shrimp_99_jpg.rf.401522fada027a4f0a2365eb88084c3a.jpg: 640x640 5 shrimps, 24.5ms\n",
      "image 1081/1176 c:\\Users\\user\\Desktop\\FINAL\\final-project\\16\\data\\13\\test\\images\\siling-labuyo-small-chili-pepper-260nw-2303864001_jpg.rf.9bb3fd0092617de23260f11c3283a1eb.jpg: 640x640 8 red chilis, 15.8ms\n",
      "image 1082/1176 c:\\Users\\user\\Desktop\\FINAL\\final-project\\16\\data\\13\\test\\images\\spinach_33_jpeg.rf.e20197bc0d1f3528d6bd908b337470e2.jpg: 640x640 3 spinachs, 12.3ms\n",
      "image 1083/1176 c:\\Users\\user\\Desktop\\FINAL\\final-project\\16\\data\\13\\test\\images\\spinach_47_jpg.rf.65271adf9771e0460915db8b1f629821.jpg: 640x640 15 spinachs, 12.5ms\n",
      "image 1084/1176 c:\\Users\\user\\Desktop\\FINAL\\final-project\\16\\data\\13\\test\\images\\spinach_55_jpg.rf.e421fa6247a606b0f730495cd3822741.jpg: 640x640 (no detections), 14.4ms\n",
      "image 1085/1176 c:\\Users\\user\\Desktop\\FINAL\\final-project\\16\\data\\13\\test\\images\\spinach_58_JPG.rf.ba5162ad6da071c50ed9286c038f6801.jpg: 640x640 10 spinachs, 11.9ms\n",
      "image 1086/1176 c:\\Users\\user\\Desktop\\FINAL\\final-project\\16\\data\\13\\test\\images\\spinach_64_jpg.rf.cb6ce86bdd2f7174063cb3896a7d7482.jpg: 640x640 5 spinachs, 11.6ms\n",
      "image 1087/1176 c:\\Users\\user\\Desktop\\FINAL\\final-project\\16\\data\\13\\test\\images\\spinach_66_jpg.rf.59b4a340fe56fcefb706f3a0915b6aec.jpg: 640x640 1 bok choy, 3 spinachs, 12.8ms\n",
      "image 1088/1176 c:\\Users\\user\\Desktop\\FINAL\\final-project\\16\\data\\13\\test\\images\\spinach_70_jpg.rf.1006328cf5bae337648c0c314d856286.jpg: 640x640 9 spinachs, 20.9ms\n",
      "image 1089/1176 c:\\Users\\user\\Desktop\\FINAL\\final-project\\16\\data\\13\\test\\images\\strawberry_1_jpg.rf.655ca779d30d2065e8647f26e835f108.jpg: 640x640 11 strawberrys, 13.8ms\n",
      "image 1090/1176 c:\\Users\\user\\Desktop\\FINAL\\final-project\\16\\data\\13\\test\\images\\strawberry_20_jpg.rf.b045d17b1766e6c117bd98ab8cc5e519.jpg: 640x640 11 strawberrys, 14.9ms\n",
      "image 1091/1176 c:\\Users\\user\\Desktop\\FINAL\\final-project\\16\\data\\13\\test\\images\\strawberry_24_jpg.rf.51cd4da1d43b70b681049ed050ecf28d.jpg: 640x640 1 strawberry, 11.9ms\n",
      "image 1092/1176 c:\\Users\\user\\Desktop\\FINAL\\final-project\\16\\data\\13\\test\\images\\strawberry_29_jpg.rf.c50f20be402ebb4e02aa27385bc4ff41.jpg: 640x640 31 strawberrys, 17.6ms\n",
      "image 1093/1176 c:\\Users\\user\\Desktop\\FINAL\\final-project\\16\\data\\13\\test\\images\\strawberry_30_jpg.rf.1de674004a01b4a2cd72506536c2642b.jpg: 640x640 11 strawberrys, 14.7ms\n",
      "image 1094/1176 c:\\Users\\user\\Desktop\\FINAL\\final-project\\16\\data\\13\\test\\images\\strawberry_35_jpg.rf.8fde5be3b105ebb1cae93b9113f61bba.jpg: 640x640 7 strawberrys, 2 tomatos, 10.6ms\n",
      "image 1095/1176 c:\\Users\\user\\Desktop\\FINAL\\final-project\\16\\data\\13\\test\\images\\strawberry_53_jpg.rf.42899abba11d44b61098d9eba081d353.jpg: 640x640 7 strawberrys, 14.6ms\n",
      "image 1096/1176 c:\\Users\\user\\Desktop\\FINAL\\final-project\\16\\data\\13\\test\\images\\strawberry_69_jpg.rf.390d1fcfcb3986df80240229931ce3b3.jpg: 640x640 1 strawberry, 17.9ms\n",
      "image 1097/1176 c:\\Users\\user\\Desktop\\FINAL\\final-project\\16\\data\\13\\test\\images\\sweet_potato_16_jpg.rf.f19ba2e5e03c36ab9876745a85178667.jpg: 640x640 1 sweet potato, 12.2ms\n",
      "image 1098/1176 c:\\Users\\user\\Desktop\\FINAL\\final-project\\16\\data\\13\\test\\images\\sweet_potato_27_jpg.rf.7cb919d42b575645cb3c0d7b679c0145.jpg: 640x640 4 sweet potatos, 11.8ms\n",
      "image 1099/1176 c:\\Users\\user\\Desktop\\FINAL\\final-project\\16\\data\\13\\test\\images\\sweet_potato_45_jpg.rf.d693d70c98e14d695175e7a04f03a2cd.jpg: 640x640 6 sweet potatos, 14.8ms\n",
      "image 1100/1176 c:\\Users\\user\\Desktop\\FINAL\\final-project\\16\\data\\13\\test\\images\\sweet_potato_4_jpg.rf.f82b504b475a2cde22aff496a0fb012f.jpg: 640x640 5 carrots, 1 sweet potato, 13.4ms\n",
      "image 1101/1176 c:\\Users\\user\\Desktop\\FINAL\\final-project\\16\\data\\13\\test\\images\\sweet_potato_52_jpg.rf.00e6bd20921a0bae039be11c73c8e8fa.jpg: 640x640 2 sweet potatos, 12.0ms\n",
      "image 1102/1176 c:\\Users\\user\\Desktop\\FINAL\\final-project\\16\\data\\13\\test\\images\\sweet_potato_60_jpg.rf.1f2f2cc50c526f46118c377e5bdfeb33.jpg: 640x640 1 ginger, 14.1ms\n",
      "image 1103/1176 c:\\Users\\user\\Desktop\\FINAL\\final-project\\16\\data\\13\\test\\images\\sweet_potato_61_jpg.rf.eaedd0a454708f0cf8bb848023aa2cb2.jpg: 640x640 5 sweet potatos, 15.3ms\n",
      "image 1104/1176 c:\\Users\\user\\Desktop\\FINAL\\final-project\\16\\data\\13\\test\\images\\sweet_potato_6_jpg.rf.a479a0a03f5974a603cc206b03801ec5.jpg: 640x640 4 sweet potatos, 13.4ms\n",
      "image 1105/1176 c:\\Users\\user\\Desktop\\FINAL\\final-project\\16\\data\\13\\test\\images\\sweet_potato_77_jpg.rf.549a35bcc9c8a028999db8f47d5226b5.jpg: 640x640 1 sweet potato, 13.1ms\n",
      "image 1106/1176 c:\\Users\\user\\Desktop\\FINAL\\final-project\\16\\data\\13\\test\\images\\sweet_potato_78_jpg.rf.b4119b9a21265f886008fc87fe0dbd6e.jpg: 640x640 9 sweet potatos, 14.1ms\n",
      "image 1107/1176 c:\\Users\\user\\Desktop\\FINAL\\final-project\\16\\data\\13\\test\\images\\sweet_potato_86_jpg.rf.ba4d042a550e232e2d8514cab9990d7b.jpg: 640x640 1 onion, 17 sweet potatos, 17.7ms\n",
      "image 1108/1176 c:\\Users\\user\\Desktop\\FINAL\\final-project\\16\\data\\13\\test\\images\\sweet_potato_92_jpg.rf.5aafac7204c775519be314fe13b710eb.jpg: 640x640 5 sweet potatos, 16.0ms\n",
      "image 1109/1176 c:\\Users\\user\\Desktop\\FINAL\\final-project\\16\\data\\13\\test\\images\\sweet_potato_97_jpg.rf.cf648308b8a4d1f1b326019960b24f14.jpg: 640x640 2 sweet potatos, 12.5ms\n",
      "image 1110/1176 c:\\Users\\user\\Desktop\\FINAL\\final-project\\16\\data\\13\\test\\images\\tangerines106_jpeg.rf.8e89914ca66b6be1cd7d51f3b91dad2b.jpg: 640x640 19 10_tangerines, 4 oranges, 12.4ms\n",
      "image 1111/1176 c:\\Users\\user\\Desktop\\FINAL\\final-project\\16\\data\\13\\test\\images\\tangerines110_jpeg.rf.4f49637cfd8e0c9952b268b726aae03f.jpg: 640x640 1 10_tangerine, 1 chicken wing, 12.4ms\n",
      "image 1112/1176 c:\\Users\\user\\Desktop\\FINAL\\final-project\\16\\data\\13\\test\\images\\tangerines129_jpeg.rf.1e8989e5d2ca8d331c50c2124c585183.jpg: 640x640 11 10_tangerines, 1 orange, 20.6ms\n",
      "image 1113/1176 c:\\Users\\user\\Desktop\\FINAL\\final-project\\16\\data\\13\\test\\images\\tangerines144_jpeg.rf.d6020b1a9767fa0735a7f0588dddb970.jpg: 640x640 5 10_tangerines, 13.8ms\n",
      "image 1114/1176 c:\\Users\\user\\Desktop\\FINAL\\final-project\\16\\data\\13\\test\\images\\tangerines147_jpeg.rf.cb4a15a1af4eaac5792d6310142f4759.jpg: 640x640 5 10_tangerines, 11.6ms\n",
      "image 1115/1176 c:\\Users\\user\\Desktop\\FINAL\\final-project\\16\\data\\13\\test\\images\\tangerines15_jpeg.rf.2af8595eb9b1bbdfef23dc01134b8392.jpg: 640x640 3 10_tangerines, 1 orange, 14.5ms\n",
      "image 1116/1176 c:\\Users\\user\\Desktop\\FINAL\\final-project\\16\\data\\13\\test\\images\\tangerines21_jpeg.rf.03b0a63fbbb757ffd457a2f146b03675.jpg: 640x640 3 10_tangerines, 13.1ms\n",
      "image 1117/1176 c:\\Users\\user\\Desktop\\FINAL\\final-project\\16\\data\\13\\test\\images\\tangerines48_jpeg.rf.338a918503bd448e95ba866161c7e4a9.jpg: 640x640 2 10_tangerines, 1 orange, 16.6ms\n",
      "image 1118/1176 c:\\Users\\user\\Desktop\\FINAL\\final-project\\16\\data\\13\\test\\images\\tangerines49_jpeg.rf.ae1cc8ed9a51390b9af9a208d82794e2.jpg: 640x640 6 10_tangerines, 12.5ms\n",
      "image 1119/1176 c:\\Users\\user\\Desktop\\FINAL\\final-project\\16\\data\\13\\test\\images\\tangerines51_jpeg.rf.17d5f54f9952ff8a1bbc645b4625f089.jpg: 640x640 15 10_tangerines, 20.4ms\n",
      "image 1120/1176 c:\\Users\\user\\Desktop\\FINAL\\final-project\\16\\data\\13\\test\\images\\tangerines76_jpeg.rf.ae026cdd1b550a83a5a85ada5c31478b.jpg: 640x640 1 10_tangerine, 11.5ms\n",
      "image 1121/1176 c:\\Users\\user\\Desktop\\FINAL\\final-project\\16\\data\\13\\test\\images\\tangerines78_jpeg.rf.1e7a7b0c90bcf5eda7c0cb3999a5e984.jpg: 640x640 6 10_tangerines, 4 egg_s, 18.2ms\n",
      "image 1122/1176 c:\\Users\\user\\Desktop\\FINAL\\final-project\\16\\data\\13\\test\\images\\tangerines79_jpeg.rf.08277b7ed9c67c520f02c61f1c9bd275.jpg: 640x640 11 10_tangerines, 16.9ms\n",
      "image 1123/1176 c:\\Users\\user\\Desktop\\FINAL\\final-project\\16\\data\\13\\test\\images\\tangerines7_jpeg.rf.0e1dfd5574d619e069ed57fc306c5f42.jpg: 640x640 8 10_tangerines, 14.6ms\n",
      "image 1124/1176 c:\\Users\\user\\Desktop\\FINAL\\final-project\\16\\data\\13\\test\\images\\tangerines80_png.rf.f6c4d328d70f6311a87fd1475470921d.jpg: 640x640 4 10_tangerines, 9.9ms\n",
      "image 1125/1176 c:\\Users\\user\\Desktop\\FINAL\\final-project\\16\\data\\13\\test\\images\\tangerines95_jpeg.rf.493766cdea265b15ee9c217d479e6b4a.jpg: 640x640 10 10_tangerines, 14.4ms\n",
      "image 1126/1176 c:\\Users\\user\\Desktop\\FINAL\\final-project\\16\\data\\13\\test\\images\\tempeh_65_jpg.rf.23633e3c0c698490374b5ca810c9f1a6.jpg: 640x640 10 tofus, 16.5ms\n",
      "image 1127/1176 c:\\Users\\user\\Desktop\\FINAL\\final-project\\16\\data\\13\\test\\images\\tofu_33_jpg.rf.7e385fe6b074d9a4594495c307aed778.jpg: 640x640 9 tofus, 10.1ms\n",
      "image 1128/1176 c:\\Users\\user\\Desktop\\FINAL\\final-project\\16\\data\\13\\test\\images\\tofu_47_jpg.rf.e6e2232f9e2f8ba6ff4da76052b84852.jpg: 640x640 5 tofus, 23.0ms\n",
      "image 1129/1176 c:\\Users\\user\\Desktop\\FINAL\\final-project\\16\\data\\13\\test\\images\\tofu_48_jpg.rf.42a25f23bcc1eb601fe4208c8e47a57e.jpg: 640x640 12 tofus, 12.7ms\n",
      "image 1130/1176 c:\\Users\\user\\Desktop\\FINAL\\final-project\\16\\data\\13\\test\\images\\tofu_55_jpg.rf.1d90689eca18b692ec785a4f103e7d92.jpg: 640x640 6 tofus, 20.4ms\n",
      "image 1131/1176 c:\\Users\\user\\Desktop\\FINAL\\final-project\\16\\data\\13\\test\\images\\tofu_71_jpg.rf.61259bd64acf815c8732058c1bb56195.jpg: 640x640 9 tofus, 16.0ms\n",
      "image 1132/1176 c:\\Users\\user\\Desktop\\FINAL\\final-project\\16\\data\\13\\test\\images\\tofu_9_jpg.rf.736a8e01c458a614e28d3816d3384f1f.jpg: 640x640 13 tofus, 12.9ms\n",
      "image 1133/1176 c:\\Users\\user\\Desktop\\FINAL\\final-project\\16\\data\\13\\test\\images\\tomato24_png.rf.1260fd79e60752cefb29b3ea9eae0653.jpg: 640x640 3 tomatos, 15.6ms\n",
      "image 1134/1176 c:\\Users\\user\\Desktop\\FINAL\\final-project\\16\\data\\13\\test\\images\\tomato42_png.rf.707105dd0401e9f243d6575724740084.jpg: 640x640 3 tomatos, 6.0ms\n",
      "image 1135/1176 c:\\Users\\user\\Desktop\\FINAL\\final-project\\16\\data\\13\\test\\images\\tomato_13_jpg.rf.2c995662f79ec9b92c27688b29bda0e7.jpg: 640x640 1 tomato, 12.8ms\n",
      "image 1136/1176 c:\\Users\\user\\Desktop\\FINAL\\final-project\\16\\data\\13\\test\\images\\tomato_20_jpg.rf.815ee04ba23fe6fd2d7bfffb3e37c5a9.jpg: 640x640 2 tomatos, 13.7ms\n",
      "image 1137/1176 c:\\Users\\user\\Desktop\\FINAL\\final-project\\16\\data\\13\\test\\images\\tomato_23_jpg.rf.607c353627dec311e7a0b49e685fb960.jpg: 640x640 2 10_tangerines, 3 tomatos, 11.3ms\n",
      "image 1138/1176 c:\\Users\\user\\Desktop\\FINAL\\final-project\\16\\data\\13\\test\\images\\tomato_31_jpg.rf.8da3ac9b9eb28513ea22a794e3ec0aa7.jpg: 640x640 1 egg, 7 tomatos, 10.8ms\n",
      "image 1139/1176 c:\\Users\\user\\Desktop\\FINAL\\final-project\\16\\data\\13\\test\\images\\tomato_33_jpg.rf.7a0c9776501caa58dcd0be405f9abf59.jpg: 640x640 3 tomatos, 12.2ms\n",
      "image 1140/1176 c:\\Users\\user\\Desktop\\FINAL\\final-project\\16\\data\\13\\test\\images\\tomato_61_jpg.rf.cef306bae8e622e4bfce5925c7ef06ff.jpg: 640x640 2 mangos, 2 tomatos, 17.6ms\n",
      "image 1141/1176 c:\\Users\\user\\Desktop\\FINAL\\final-project\\16\\data\\13\\test\\images\\tomato_6_jpg.rf.9b0917444b08d885b0a93d9833512618.jpg: 640x640 1 bell pepper, 2 tomatos, 14.9ms\n",
      "image 1142/1176 c:\\Users\\user\\Desktop\\FINAL\\final-project\\16\\data\\13\\test\\images\\tomato_88_jpg.rf.956938259cdc6f09e12f205b9e92361b.jpg: 640x640 1 avocado, 1 orange, 19.2ms\n",
      "image 1143/1176 c:\\Users\\user\\Desktop\\FINAL\\final-project\\16\\data\\13\\test\\images\\tomato_91_jpg.rf.e4a763bdac4c11743b38413c3e8f3716.jpg: 640x640 1 bell pepper, 40 tomatos, 18.5ms\n",
      "image 1144/1176 c:\\Users\\user\\Desktop\\FINAL\\final-project\\16\\data\\13\\test\\images\\tomato_95_jpg.rf.d2083c7911ddb8d7da79581e421fb451.jpg: 640x640 1 tomato, 20.6ms\n",
      "image 1145/1176 c:\\Users\\user\\Desktop\\FINAL\\final-project\\16\\data\\13\\test\\images\\tuna_40_jpg.rf.564a809238ac91d350518aea6f990a8a.jpg: 640x640 1 lemon, 18.5ms\n",
      "image 1146/1176 c:\\Users\\user\\Desktop\\FINAL\\final-project\\16\\data\\13\\test\\images\\very-good-24-_jpg.rf.f38d750ccacf6d2c8586f3e655e91c61.jpg: 640x640 1 tomato, 12.9ms\n",
      "image 1147/1176 c:\\Users\\user\\Desktop\\FINAL\\final-project\\16\\data\\13\\test\\images\\watermelon116_jpeg.rf.ed7f35f9522a64d3f3a6229a50d4a70b.jpg: 640x640 10 watermelons, 15.7ms\n",
      "image 1148/1176 c:\\Users\\user\\Desktop\\FINAL\\final-project\\16\\data\\13\\test\\images\\watermelon126_jpeg.rf.bc85aecf264af4c546a3dfb55075340f.jpg: 640x640 9 watermelons, 16.6ms\n",
      "image 1149/1176 c:\\Users\\user\\Desktop\\FINAL\\final-project\\16\\data\\13\\test\\images\\watermelon133_jpeg.rf.f731ee2540e9df6a9012e1eb0766fb14.jpg: 640x640 2 watermelons, 11.9ms\n",
      "image 1150/1176 c:\\Users\\user\\Desktop\\FINAL\\final-project\\16\\data\\13\\test\\images\\watermelon143_jpeg.rf.fc72a4f8f7c321dbb5e5ef8eaca343cd.jpg: 640x640 8 watermelons, 14.0ms\n",
      "image 1151/1176 c:\\Users\\user\\Desktop\\FINAL\\final-project\\16\\data\\13\\test\\images\\watermelon145_jpeg.rf.ceac69c4f8ba5c312b9c82d62459933b.jpg: 640x640 8 watermelons, 11.4ms\n",
      "image 1152/1176 c:\\Users\\user\\Desktop\\FINAL\\final-project\\16\\data\\13\\test\\images\\watermelon14_jpeg.rf.339a70e6782140253ab400a3a671a6d9.jpg: 640x640 1 chicken, 2 watermelons, 14.4ms\n",
      "image 1153/1176 c:\\Users\\user\\Desktop\\FINAL\\final-project\\16\\data\\13\\test\\images\\watermelon15_jpeg.rf.c50216a8fe5a7b1a0d4b71c193b0efaf.jpg: 640x640 2 watermelons, 10.5ms\n",
      "image 1154/1176 c:\\Users\\user\\Desktop\\FINAL\\final-project\\16\\data\\13\\test\\images\\watermelon204_jpeg.rf.6643dca57134fb584ee7a2fb264246ca.jpg: 640x640 3 watermelons, 11.8ms\n",
      "image 1155/1176 c:\\Users\\user\\Desktop\\FINAL\\final-project\\16\\data\\13\\test\\images\\watermelon206_jpeg.rf.a21b2c66f2cbc532f24512cfed998326.jpg: 640x640 9 watermelons, 11.7ms\n",
      "image 1156/1176 c:\\Users\\user\\Desktop\\FINAL\\final-project\\16\\data\\13\\test\\images\\watermelon225_jpeg.rf.61e1dc28b5a17eb600799dbbdcc2d693.jpg: 640x640 4 watermelons, 12.9ms\n",
      "image 1157/1176 c:\\Users\\user\\Desktop\\FINAL\\final-project\\16\\data\\13\\test\\images\\watermelon246_jpeg.rf.b4ee9b9a972311f205778ecbfea0467f.jpg: 640x640 15 watermelons, 19.7ms\n",
      "image 1158/1176 c:\\Users\\user\\Desktop\\FINAL\\final-project\\16\\data\\13\\test\\images\\watermelon248_jpeg.rf.0237c97d84ef18a84b688673c6c4ef0b.jpg: 640x640 5 watermelons, 13.4ms\n",
      "image 1159/1176 c:\\Users\\user\\Desktop\\FINAL\\final-project\\16\\data\\13\\test\\images\\watermelon30_jpeg.rf.f3b85279bf911d28054c4b7ba64376a5.jpg: 640x640 5 watermelons, 13.5ms\n",
      "image 1160/1176 c:\\Users\\user\\Desktop\\FINAL\\final-project\\16\\data\\13\\test\\images\\watermelon35_jpeg.rf.2e3c13fd79e95a0ffbd256a587cfff8d.jpg: 640x640 2 watermelons, 12.5ms\n",
      "image 1161/1176 c:\\Users\\user\\Desktop\\FINAL\\final-project\\16\\data\\13\\test\\images\\watermelon53_jpeg.rf.df9cbbf1da2ce21ec31d51cde5799ae1.jpg: 640x640 2 watermelons, 6.5ms\n",
      "image 1162/1176 c:\\Users\\user\\Desktop\\FINAL\\final-project\\16\\data\\13\\test\\images\\watermelon56_jpeg.rf.49b43fadf57d75aae454f0ccd4283912.jpg: 640x640 16 watermelons, 12.1ms\n",
      "image 1163/1176 c:\\Users\\user\\Desktop\\FINAL\\final-project\\16\\data\\13\\test\\images\\watermelon74_jpeg.rf.acda8ff5b41018633fb75f938da8b336.jpg: 640x640 3 watermelons, 12.2ms\n",
      "image 1164/1176 c:\\Users\\user\\Desktop\\FINAL\\final-project\\16\\data\\13\\test\\images\\watermelon92_jpeg.rf.3f6b9a475c2f0ff9b8df6e5536f99071.jpg: 640x640 1 beef, 15 watermelons, 15.5ms\n",
      "image 1165/1176 c:\\Users\\user\\Desktop\\FINAL\\final-project\\16\\data\\13\\test\\images\\white_rice_16_jpg.rf.d53aae7cb872532c1cd737a41ea65fc7.jpg: 640x640 1 white rice, 13.5ms\n",
      "image 1166/1176 c:\\Users\\user\\Desktop\\FINAL\\final-project\\16\\data\\13\\test\\images\\white_rice_17_jpg.rf.2a8af1d865f87bec1f24d177139e3355.jpg: 640x640 1 white rice, 11.0ms\n",
      "image 1167/1176 c:\\Users\\user\\Desktop\\FINAL\\final-project\\16\\data\\13\\test\\images\\white_rice_24_jpg.rf.2c1c4b5bbe52001b317340f3eacf3feb.jpg: 640x640 1 white rice, 11.6ms\n",
      "image 1168/1176 c:\\Users\\user\\Desktop\\FINAL\\final-project\\16\\data\\13\\test\\images\\white_rice_28_jpg.rf.84688ad1b5ea546b4de5b7aec9f61852.jpg: 640x640 1 white rice, 23.7ms\n",
      "image 1169/1176 c:\\Users\\user\\Desktop\\FINAL\\final-project\\16\\data\\13\\test\\images\\white_rice_2_jpg.rf.9830fa9aeab478850422b3121e43e9f2.jpg: 640x640 1 white rice, 15.9ms\n",
      "image 1170/1176 c:\\Users\\user\\Desktop\\FINAL\\final-project\\16\\data\\13\\test\\images\\white_rice_35_jpg.rf.62e3557bb6f7fc24acb1a33573df2919.jpg: 640x640 1 white rice, 14.8ms\n",
      "image 1171/1176 c:\\Users\\user\\Desktop\\FINAL\\final-project\\16\\data\\13\\test\\images\\white_rice_40_jpg.rf.8c5131bbe50360ea4fad551837fcf270.jpg: 640x640 1 white rice, 15.0ms\n",
      "image 1172/1176 c:\\Users\\user\\Desktop\\FINAL\\final-project\\16\\data\\13\\test\\images\\white_rice_41_jpg.rf.ab5d1e635266a11125288c51382f860d.jpg: 640x640 1 white rice, 13.9ms\n",
      "image 1173/1176 c:\\Users\\user\\Desktop\\FINAL\\final-project\\16\\data\\13\\test\\images\\white_rice_61_jpg.rf.c7b0dd852f86cae0107cd53491d92970.jpg: 640x640 1 rice, 1 white rice, 15.3ms\n",
      "image 1174/1176 c:\\Users\\user\\Desktop\\FINAL\\final-project\\16\\data\\13\\test\\images\\white_rice_79_jpg.rf.eb40fd49c8f37277cdd41f898b3f7007.jpg: 640x640 3 white rices, 14.0ms\n",
      "image 1175/1176 c:\\Users\\user\\Desktop\\FINAL\\final-project\\16\\data\\13\\test\\images\\white_rice_93_jpg.rf.6566ba724034972459549e0588b52359.jpg: 640x640 1 rice, 15.9ms\n",
      "image 1176/1176 c:\\Users\\user\\Desktop\\FINAL\\final-project\\16\\data\\13\\test\\images\\z2185583010921ae8985836ec90e1b490c088fd476ebfc_jpg.rf.3d5303e65dd5e62063739f8c134104ea.jpg: 640x640 6 red chilis, 12.5ms\n",
      "Speed: 1.7ms preprocess, 15.6ms inference, 1.2ms postprocess per image at shape (1, 3, 640, 640)\n",
      "Results saved to \u001b[1mruns\\detect\\train2\u001b[0m\n"
     ]
    }
   ],
   "source": [
    "from ultralytics import YOLO\n",
    "import torch\n",
    "\n",
    "model = YOLO('yolov9s.pt')\n",
    "\n",
    "model.train(data = r'C:\\Users\\user\\Desktop\\FINAL\\final-project\\16\\data\\13\\data.yaml', \n",
    "            epochs=100, \n",
    "            patience=30, \n",
    "            batch=16, \n",
    "            imgsz=640)\n",
    "\n",
    "torch.cuda.empty_cache()\n",
    "\n",
    "results = model.predict(source=\"test\\images\", save=True)"
   ]
  },
  {
   "cell_type": "code",
   "execution_count": null,
   "metadata": {},
   "outputs": [],
   "source": []
  }
 ],
 "metadata": {
  "kernelspec": {
   "display_name": "Python 3",
   "language": "python",
   "name": "python3"
  },
  "language_info": {
   "codemirror_mode": {
    "name": "ipython",
    "version": 3
   },
   "file_extension": ".py",
   "mimetype": "text/x-python",
   "name": "python",
   "nbconvert_exporter": "python",
   "pygments_lexer": "ipython3",
   "version": "3.11.8"
  }
 },
 "nbformat": 4,
 "nbformat_minor": 2
}
