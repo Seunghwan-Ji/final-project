{
 "cells": [
  {
   "cell_type": "code",
   "execution_count": 1,
   "metadata": {},
   "outputs": [
    {
     "name": "stdout",
     "output_type": "stream",
     "text": [
      "New https://pypi.org/project/ultralytics/8.2.60 available  Update with 'pip install -U ultralytics'\n",
      "Ultralytics YOLOv8.2.54  Python-3.11.8 torch-2.3.0+cu118 CUDA:0 (NVIDIA GeForce RTX 4060 Laptop GPU, 8188MiB)\n",
      "\u001b[34m\u001b[1mengine\\trainer: \u001b[0mtask=detect, mode=train, model=yolov9s.pt, data=C:\\Users\\user\\Desktop\\FINAL\\final-project\\16\\data\\2\\data.yaml, epochs=100, time=None, patience=30, batch=16, imgsz=640, save=True, save_period=-1, cache=False, device=None, workers=8, project=None, name=train5, exist_ok=False, pretrained=True, optimizer=auto, verbose=True, seed=0, deterministic=True, single_cls=False, rect=False, cos_lr=False, close_mosaic=10, resume=False, amp=True, fraction=1.0, profile=False, freeze=None, multi_scale=False, overlap_mask=True, mask_ratio=4, dropout=0.0, val=True, split=val, save_json=False, save_hybrid=False, conf=None, iou=0.7, max_det=300, half=False, dnn=False, plots=True, source=None, vid_stride=1, stream_buffer=False, visualize=False, augment=False, agnostic_nms=False, classes=None, retina_masks=False, embed=None, show=False, save_frames=False, save_txt=False, save_conf=False, save_crop=False, show_labels=True, show_conf=True, show_boxes=True, line_width=None, format=torchscript, keras=False, optimize=False, int8=False, dynamic=False, simplify=False, opset=None, workspace=4, nms=False, lr0=0.01, lrf=0.01, momentum=0.937, weight_decay=0.0005, warmup_epochs=3.0, warmup_momentum=0.8, warmup_bias_lr=0.1, box=7.5, cls=0.5, dfl=1.5, pose=12.0, kobj=1.0, label_smoothing=0.0, nbs=64, hsv_h=0.015, hsv_s=0.7, hsv_v=0.4, degrees=0.0, translate=0.1, scale=0.5, shear=0.0, perspective=0.0, flipud=0.0, fliplr=0.5, bgr=0.0, mosaic=1.0, mixup=0.0, copy_paste=0.0, auto_augment=randaugment, erasing=0.4, crop_fraction=1.0, cfg=None, tracker=botsort.yaml, save_dir=runs\\detect\\train5\n",
      "Overriding model.yaml nc=80 with nc=14\n",
      "\n",
      "                   from  n    params  module                                       arguments                     \n",
      "  0                  -1  1       928  ultralytics.nn.modules.conv.Conv             [3, 32, 3, 2]                 \n",
      "  1                  -1  1     18560  ultralytics.nn.modules.conv.Conv             [32, 64, 3, 2]                \n",
      "  2                  -1  1     31104  ultralytics.nn.modules.block.ELAN1           [64, 64, 64, 32]              \n",
      "  3                  -1  1     73984  ultralytics.nn.modules.block.AConv           [64, 128]                     \n",
      "  4                  -1  1    258432  ultralytics.nn.modules.block.RepNCSPELAN4    [128, 128, 128, 64, 3]        \n",
      "  5                  -1  1    221568  ultralytics.nn.modules.block.AConv           [128, 192]                    \n",
      "  6                  -1  1    579648  ultralytics.nn.modules.block.RepNCSPELAN4    [192, 192, 192, 96, 3]        \n",
      "  7                  -1  1    442880  ultralytics.nn.modules.block.AConv           [192, 256]                    \n",
      "  8                  -1  1   1028864  ultralytics.nn.modules.block.RepNCSPELAN4    [256, 256, 256, 128, 3]       \n",
      "  9                  -1  1    164608  ultralytics.nn.modules.block.SPPELAN         [256, 256, 128]               \n",
      " 10                  -1  1         0  torch.nn.modules.upsampling.Upsample         [None, 2, 'nearest']          \n",
      " 11             [-1, 6]  1         0  ultralytics.nn.modules.conv.Concat           [1]                           \n",
      " 12                  -1  1    628800  ultralytics.nn.modules.block.RepNCSPELAN4    [448, 192, 192, 96, 3]        \n",
      " 13                  -1  1         0  torch.nn.modules.upsampling.Upsample         [None, 2, 'nearest']          \n",
      " 14             [-1, 4]  1         0  ultralytics.nn.modules.conv.Concat           [1]                           \n",
      " 15                  -1  1    283008  ultralytics.nn.modules.block.RepNCSPELAN4    [320, 128, 128, 64, 3]        \n",
      " 16                  -1  1    110784  ultralytics.nn.modules.block.AConv           [128, 96]                     \n",
      " 17            [-1, 12]  1         0  ultralytics.nn.modules.conv.Concat           [1]                           \n",
      " 18                  -1  1    598080  ultralytics.nn.modules.block.RepNCSPELAN4    [288, 192, 192, 96, 3]        \n",
      " 19                  -1  1    221440  ultralytics.nn.modules.block.AConv           [192, 128]                    \n",
      " 20             [-1, 9]  1         0  ultralytics.nn.modules.conv.Concat           [1]                           \n",
      " 21                  -1  1   1061632  ultralytics.nn.modules.block.RepNCSPELAN4    [384, 256, 256, 128, 3]       \n",
      " 22        [15, 18, 21]  1   1568506  ultralytics.nn.modules.head.Detect           [14, [128, 192, 256]]         \n",
      "YOLOv9s summary: 917 layers, 7292826 parameters, 7292810 gradients, 27.4 GFLOPs\n",
      "\n",
      "Transferred 1333/1339 items from pretrained weights\n",
      "\u001b[34m\u001b[1mTensorBoard: \u001b[0mStart with 'tensorboard --logdir runs\\detect\\train5', view at http://localhost:6006/\n",
      "Freezing layer 'model.22.dfl.conv.weight'\n",
      "\u001b[34m\u001b[1mAMP: \u001b[0mrunning Automatic Mixed Precision (AMP) checks with YOLOv8n...\n"
     ]
    },
    {
     "name": "stderr",
     "output_type": "stream",
     "text": [
      "c:\\Users\\user\\AppData\\Local\\Programs\\Python\\Python311\\Lib\\site-packages\\tqdm\\auto.py:21: TqdmWarning: IProgress not found. Please update jupyter and ipywidgets. See https://ipywidgets.readthedocs.io/en/stable/user_install.html\n",
      "  from .autonotebook import tqdm as notebook_tqdm\n",
      "c:\\Users\\user\\AppData\\Local\\Programs\\Python\\Python311\\Lib\\site-packages\\torch\\nn\\modules\\conv.py:456: UserWarning: Plan failed with a cudnnException: CUDNN_BACKEND_EXECUTION_PLAN_DESCRIPTOR: cudnnFinalize Descriptor Failed cudnn_status: CUDNN_STATUS_NOT_SUPPORTED (Triggered internally at ..\\aten\\src\\ATen\\native\\cudnn\\Conv_v8.cpp:919.)\n",
      "  return F.conv2d(input, weight, bias, self.stride,\n"
     ]
    },
    {
     "name": "stdout",
     "output_type": "stream",
     "text": [
      "\u001b[34m\u001b[1mAMP: \u001b[0mchecks passed \n"
     ]
    },
    {
     "name": "stderr",
     "output_type": "stream",
     "text": [
      "\u001b[34m\u001b[1mtrain: \u001b[0mScanning C:\\Users\\user\\Desktop\\FINAL\\final-project\\16\\data\\2\\train\\labels.cache... 1364 images, 0 backgrounds, 0 corrupt: 100%|██████████| 1364/1364 [00:00<?, ?it/s]\n",
      "\u001b[34m\u001b[1mval: \u001b[0mScanning C:\\Users\\user\\Desktop\\FINAL\\final-project\\16\\data\\2\\valid\\labels.cache... 100 images, 0 backgrounds, 0 corrupt: 100%|██████████| 100/100 [00:00<?, ?it/s]"
     ]
    },
    {
     "name": "stdout",
     "output_type": "stream",
     "text": [
      "WARNING  Box and segment counts should be equal, but got len(segments) = 2, len(boxes) = 263. To resolve this only boxes will be used and all segments will be removed. To avoid this please supply either a detect or segment dataset, not a detect-segment mixed dataset.\n"
     ]
    },
    {
     "name": "stderr",
     "output_type": "stream",
     "text": [
      "\n"
     ]
    },
    {
     "name": "stdout",
     "output_type": "stream",
     "text": [
      "Plotting labels to runs\\detect\\train5\\labels.jpg... \n",
      "\u001b[34m\u001b[1moptimizer:\u001b[0m 'optimizer=auto' found, ignoring 'lr0=0.01' and 'momentum=0.937' and determining best 'optimizer', 'lr0' and 'momentum' automatically... \n",
      "\u001b[34m\u001b[1moptimizer:\u001b[0m AdamW(lr=0.000556, momentum=0.9) with parameter groups 221 weight(decay=0.0), 228 weight(decay=0.0005), 227 bias(decay=0.0)\n",
      "\u001b[34m\u001b[1mTensorBoard: \u001b[0mmodel graph visualization added \n",
      "Image sizes 640 train, 640 val\n",
      "Using 8 dataloader workers\n",
      "Logging results to \u001b[1mruns\\detect\\train5\u001b[0m\n",
      "Starting training for 100 epochs...\n",
      "\n",
      "      Epoch    GPU_mem   box_loss   cls_loss   dfl_loss  Instances       Size\n"
     ]
    },
    {
     "name": "stderr",
     "output_type": "stream",
     "text": [
      "      1/100      5.39G      1.404      2.994      1.862         32        640: 100%|██████████| 86/86 [00:28<00:00,  3.04it/s]\n",
      "                 Class     Images  Instances      Box(P          R      mAP50  mAP50-95): 100%|██████████| 4/4 [00:01<00:00,  3.31it/s]"
     ]
    },
    {
     "name": "stdout",
     "output_type": "stream",
     "text": [
      "                   all        100        263       0.49      0.415      0.382      0.207\n"
     ]
    },
    {
     "name": "stderr",
     "output_type": "stream",
     "text": [
      "\n"
     ]
    },
    {
     "name": "stdout",
     "output_type": "stream",
     "text": [
      "\n",
      "      Epoch    GPU_mem   box_loss   cls_loss   dfl_loss  Instances       Size\n"
     ]
    },
    {
     "name": "stderr",
     "output_type": "stream",
     "text": [
      "      2/100      5.16G      1.279      1.971      1.679         13        640: 100%|██████████| 86/86 [00:24<00:00,  3.52it/s]\n",
      "                 Class     Images  Instances      Box(P          R      mAP50  mAP50-95): 100%|██████████| 4/4 [00:00<00:00,  4.74it/s]"
     ]
    },
    {
     "name": "stdout",
     "output_type": "stream",
     "text": [
      "                   all        100        263      0.394      0.487      0.442      0.207\n"
     ]
    },
    {
     "name": "stderr",
     "output_type": "stream",
     "text": [
      "\n"
     ]
    },
    {
     "name": "stdout",
     "output_type": "stream",
     "text": [
      "\n",
      "      Epoch    GPU_mem   box_loss   cls_loss   dfl_loss  Instances       Size\n"
     ]
    },
    {
     "name": "stderr",
     "output_type": "stream",
     "text": [
      "      3/100      5.16G      1.291      1.732      1.709         11        640: 100%|██████████| 86/86 [00:23<00:00,  3.63it/s]\n",
      "                 Class     Images  Instances      Box(P          R      mAP50  mAP50-95): 100%|██████████| 4/4 [00:00<00:00,  4.62it/s]"
     ]
    },
    {
     "name": "stdout",
     "output_type": "stream",
     "text": [
      "                   all        100        263      0.343      0.572      0.432       0.21\n"
     ]
    },
    {
     "name": "stderr",
     "output_type": "stream",
     "text": [
      "\n"
     ]
    },
    {
     "name": "stdout",
     "output_type": "stream",
     "text": [
      "\n",
      "      Epoch    GPU_mem   box_loss   cls_loss   dfl_loss  Instances       Size\n"
     ]
    },
    {
     "name": "stderr",
     "output_type": "stream",
     "text": [
      "      4/100      5.18G      1.276      1.605      1.691         15        640: 100%|██████████| 86/86 [00:23<00:00,  3.70it/s]\n",
      "                 Class     Images  Instances      Box(P          R      mAP50  mAP50-95): 100%|██████████| 4/4 [00:00<00:00,  4.74it/s]"
     ]
    },
    {
     "name": "stdout",
     "output_type": "stream",
     "text": [
      "                   all        100        263      0.645      0.502      0.561      0.238\n"
     ]
    },
    {
     "name": "stderr",
     "output_type": "stream",
     "text": [
      "\n"
     ]
    },
    {
     "name": "stdout",
     "output_type": "stream",
     "text": [
      "\n",
      "      Epoch    GPU_mem   box_loss   cls_loss   dfl_loss  Instances       Size\n"
     ]
    },
    {
     "name": "stderr",
     "output_type": "stream",
     "text": [
      "      5/100      5.16G      1.262      1.516      1.679         27        640: 100%|██████████| 86/86 [00:23<00:00,  3.69it/s]\n",
      "                 Class     Images  Instances      Box(P          R      mAP50  mAP50-95): 100%|██████████| 4/4 [00:00<00:00,  4.69it/s]"
     ]
    },
    {
     "name": "stdout",
     "output_type": "stream",
     "text": [
      "                   all        100        263       0.56       0.68       0.67      0.372\n"
     ]
    },
    {
     "name": "stderr",
     "output_type": "stream",
     "text": [
      "\n"
     ]
    },
    {
     "name": "stdout",
     "output_type": "stream",
     "text": [
      "\n",
      "      Epoch    GPU_mem   box_loss   cls_loss   dfl_loss  Instances       Size\n"
     ]
    },
    {
     "name": "stderr",
     "output_type": "stream",
     "text": [
      "      6/100      5.18G      1.227      1.424      1.636         21        640: 100%|██████████| 86/86 [00:23<00:00,  3.65it/s]\n",
      "                 Class     Images  Instances      Box(P          R      mAP50  mAP50-95): 100%|██████████| 4/4 [00:00<00:00,  4.94it/s]"
     ]
    },
    {
     "name": "stdout",
     "output_type": "stream",
     "text": [
      "                   all        100        263      0.533       0.57      0.579      0.289\n"
     ]
    },
    {
     "name": "stderr",
     "output_type": "stream",
     "text": [
      "\n"
     ]
    },
    {
     "name": "stdout",
     "output_type": "stream",
     "text": [
      "\n",
      "      Epoch    GPU_mem   box_loss   cls_loss   dfl_loss  Instances       Size\n"
     ]
    },
    {
     "name": "stderr",
     "output_type": "stream",
     "text": [
      "      7/100      5.16G      1.187       1.34      1.617         26        640: 100%|██████████| 86/86 [00:23<00:00,  3.64it/s]\n",
      "                 Class     Images  Instances      Box(P          R      mAP50  mAP50-95): 100%|██████████| 4/4 [00:00<00:00,  4.67it/s]"
     ]
    },
    {
     "name": "stdout",
     "output_type": "stream",
     "text": [
      "                   all        100        263      0.676      0.641      0.682      0.384\n"
     ]
    },
    {
     "name": "stderr",
     "output_type": "stream",
     "text": [
      "\n"
     ]
    },
    {
     "name": "stdout",
     "output_type": "stream",
     "text": [
      "\n",
      "      Epoch    GPU_mem   box_loss   cls_loss   dfl_loss  Instances       Size\n"
     ]
    },
    {
     "name": "stderr",
     "output_type": "stream",
     "text": [
      "      8/100      5.18G      1.179      1.259      1.594         22        640: 100%|██████████| 86/86 [00:23<00:00,  3.63it/s]\n",
      "                 Class     Images  Instances      Box(P          R      mAP50  mAP50-95): 100%|██████████| 4/4 [00:00<00:00,  4.90it/s]"
     ]
    },
    {
     "name": "stdout",
     "output_type": "stream",
     "text": [
      "                   all        100        263      0.601      0.591      0.663      0.393\n"
     ]
    },
    {
     "name": "stderr",
     "output_type": "stream",
     "text": [
      "\n"
     ]
    },
    {
     "name": "stdout",
     "output_type": "stream",
     "text": [
      "\n",
      "      Epoch    GPU_mem   box_loss   cls_loss   dfl_loss  Instances       Size\n"
     ]
    },
    {
     "name": "stderr",
     "output_type": "stream",
     "text": [
      "      9/100      5.15G      1.141      1.238      1.593         22        640: 100%|██████████| 86/86 [00:23<00:00,  3.59it/s]\n",
      "                 Class     Images  Instances      Box(P          R      mAP50  mAP50-95): 100%|██████████| 4/4 [00:00<00:00,  4.66it/s]"
     ]
    },
    {
     "name": "stdout",
     "output_type": "stream",
     "text": [
      "                   all        100        263      0.646      0.652      0.701      0.448\n"
     ]
    },
    {
     "name": "stderr",
     "output_type": "stream",
     "text": [
      "\n"
     ]
    },
    {
     "name": "stdout",
     "output_type": "stream",
     "text": [
      "\n",
      "      Epoch    GPU_mem   box_loss   cls_loss   dfl_loss  Instances       Size\n"
     ]
    },
    {
     "name": "stderr",
     "output_type": "stream",
     "text": [
      "     10/100      5.18G      1.113      1.179      1.556         20        640: 100%|██████████| 86/86 [00:23<00:00,  3.63it/s]\n",
      "                 Class     Images  Instances      Box(P          R      mAP50  mAP50-95): 100%|██████████| 4/4 [00:00<00:00,  4.68it/s]"
     ]
    },
    {
     "name": "stdout",
     "output_type": "stream",
     "text": [
      "                   all        100        263      0.597      0.718      0.703      0.394\n"
     ]
    },
    {
     "name": "stderr",
     "output_type": "stream",
     "text": [
      "\n"
     ]
    },
    {
     "name": "stdout",
     "output_type": "stream",
     "text": [
      "\n",
      "      Epoch    GPU_mem   box_loss   cls_loss   dfl_loss  Instances       Size\n"
     ]
    },
    {
     "name": "stderr",
     "output_type": "stream",
     "text": [
      "     11/100      5.16G      1.094      1.104      1.551         24        640: 100%|██████████| 86/86 [00:23<00:00,  3.64it/s]\n",
      "                 Class     Images  Instances      Box(P          R      mAP50  mAP50-95): 100%|██████████| 4/4 [00:00<00:00,  4.94it/s]"
     ]
    },
    {
     "name": "stdout",
     "output_type": "stream",
     "text": [
      "                   all        100        263      0.768      0.724      0.796      0.485\n"
     ]
    },
    {
     "name": "stderr",
     "output_type": "stream",
     "text": [
      "\n"
     ]
    },
    {
     "name": "stdout",
     "output_type": "stream",
     "text": [
      "\n",
      "      Epoch    GPU_mem   box_loss   cls_loss   dfl_loss  Instances       Size\n"
     ]
    },
    {
     "name": "stderr",
     "output_type": "stream",
     "text": [
      "     12/100      5.18G      1.092      1.084      1.534         24        640: 100%|██████████| 86/86 [00:23<00:00,  3.59it/s]\n",
      "                 Class     Images  Instances      Box(P          R      mAP50  mAP50-95): 100%|██████████| 4/4 [00:00<00:00,  4.92it/s]"
     ]
    },
    {
     "name": "stdout",
     "output_type": "stream",
     "text": [
      "                   all        100        263      0.624      0.745      0.722      0.474\n"
     ]
    },
    {
     "name": "stderr",
     "output_type": "stream",
     "text": [
      "\n"
     ]
    },
    {
     "name": "stdout",
     "output_type": "stream",
     "text": [
      "\n",
      "      Epoch    GPU_mem   box_loss   cls_loss   dfl_loss  Instances       Size\n"
     ]
    },
    {
     "name": "stderr",
     "output_type": "stream",
     "text": [
      "     13/100      5.16G      1.061      1.052      1.508         43        640: 100%|██████████| 86/86 [00:23<00:00,  3.61it/s]\n",
      "                 Class     Images  Instances      Box(P          R      mAP50  mAP50-95): 100%|██████████| 4/4 [00:00<00:00,  4.92it/s]"
     ]
    },
    {
     "name": "stdout",
     "output_type": "stream",
     "text": [
      "                   all        100        263      0.673      0.658      0.701      0.364\n"
     ]
    },
    {
     "name": "stderr",
     "output_type": "stream",
     "text": [
      "\n"
     ]
    },
    {
     "name": "stdout",
     "output_type": "stream",
     "text": [
      "\n",
      "      Epoch    GPU_mem   box_loss   cls_loss   dfl_loss  Instances       Size\n"
     ]
    },
    {
     "name": "stderr",
     "output_type": "stream",
     "text": [
      "     14/100      5.18G       1.05      1.028      1.524         25        640: 100%|██████████| 86/86 [00:23<00:00,  3.61it/s]\n",
      "                 Class     Images  Instances      Box(P          R      mAP50  mAP50-95): 100%|██████████| 4/4 [00:00<00:00,  4.68it/s]"
     ]
    },
    {
     "name": "stdout",
     "output_type": "stream",
     "text": [
      "                   all        100        263      0.703      0.735      0.774      0.473\n"
     ]
    },
    {
     "name": "stderr",
     "output_type": "stream",
     "text": [
      "\n"
     ]
    },
    {
     "name": "stdout",
     "output_type": "stream",
     "text": [
      "\n",
      "      Epoch    GPU_mem   box_loss   cls_loss   dfl_loss  Instances       Size\n"
     ]
    },
    {
     "name": "stderr",
     "output_type": "stream",
     "text": [
      "     15/100      5.16G      1.031      1.028      1.495         33        640: 100%|██████████| 86/86 [00:23<00:00,  3.65it/s]\n",
      "                 Class     Images  Instances      Box(P          R      mAP50  mAP50-95): 100%|██████████| 4/4 [00:00<00:00,  4.80it/s]"
     ]
    },
    {
     "name": "stdout",
     "output_type": "stream",
     "text": [
      "                   all        100        263      0.743      0.643      0.704      0.432\n"
     ]
    },
    {
     "name": "stderr",
     "output_type": "stream",
     "text": [
      "\n"
     ]
    },
    {
     "name": "stdout",
     "output_type": "stream",
     "text": [
      "\n",
      "      Epoch    GPU_mem   box_loss   cls_loss   dfl_loss  Instances       Size\n"
     ]
    },
    {
     "name": "stderr",
     "output_type": "stream",
     "text": [
      "     16/100      5.18G      1.016       1.01      1.489         18        640: 100%|██████████| 86/86 [00:23<00:00,  3.67it/s]\n",
      "                 Class     Images  Instances      Box(P          R      mAP50  mAP50-95): 100%|██████████| 4/4 [00:00<00:00,  4.79it/s]"
     ]
    },
    {
     "name": "stdout",
     "output_type": "stream",
     "text": [
      "                   all        100        263       0.73      0.645      0.706      0.445\n"
     ]
    },
    {
     "name": "stderr",
     "output_type": "stream",
     "text": [
      "\n"
     ]
    },
    {
     "name": "stdout",
     "output_type": "stream",
     "text": [
      "\n",
      "      Epoch    GPU_mem   box_loss   cls_loss   dfl_loss  Instances       Size\n"
     ]
    },
    {
     "name": "stderr",
     "output_type": "stream",
     "text": [
      "     17/100      5.16G      1.011     0.9547      1.473         31        640: 100%|██████████| 86/86 [00:23<00:00,  3.62it/s]\n",
      "                 Class     Images  Instances      Box(P          R      mAP50  mAP50-95): 100%|██████████| 4/4 [00:00<00:00,  4.76it/s]"
     ]
    },
    {
     "name": "stdout",
     "output_type": "stream",
     "text": [
      "                   all        100        263      0.781      0.733      0.793      0.495\n"
     ]
    },
    {
     "name": "stderr",
     "output_type": "stream",
     "text": [
      "\n"
     ]
    },
    {
     "name": "stdout",
     "output_type": "stream",
     "text": [
      "\n",
      "      Epoch    GPU_mem   box_loss   cls_loss   dfl_loss  Instances       Size\n"
     ]
    },
    {
     "name": "stderr",
     "output_type": "stream",
     "text": [
      "     18/100      5.18G     0.9948     0.9405      1.448         15        640: 100%|██████████| 86/86 [00:23<00:00,  3.63it/s]\n",
      "                 Class     Images  Instances      Box(P          R      mAP50  mAP50-95): 100%|██████████| 4/4 [00:00<00:00,  4.77it/s]"
     ]
    },
    {
     "name": "stdout",
     "output_type": "stream",
     "text": [
      "                   all        100        263      0.758      0.739      0.768      0.517\n"
     ]
    },
    {
     "name": "stderr",
     "output_type": "stream",
     "text": [
      "\n"
     ]
    },
    {
     "name": "stdout",
     "output_type": "stream",
     "text": [
      "\n",
      "      Epoch    GPU_mem   box_loss   cls_loss   dfl_loss  Instances       Size\n"
     ]
    },
    {
     "name": "stderr",
     "output_type": "stream",
     "text": [
      "     19/100      5.16G     0.9714     0.9237      1.442         18        640: 100%|██████████| 86/86 [00:23<00:00,  3.59it/s]\n",
      "                 Class     Images  Instances      Box(P          R      mAP50  mAP50-95): 100%|██████████| 4/4 [00:00<00:00,  4.88it/s]"
     ]
    },
    {
     "name": "stdout",
     "output_type": "stream",
     "text": [
      "                   all        100        263      0.746      0.727      0.784      0.518\n"
     ]
    },
    {
     "name": "stderr",
     "output_type": "stream",
     "text": [
      "\n"
     ]
    },
    {
     "name": "stdout",
     "output_type": "stream",
     "text": [
      "\n",
      "      Epoch    GPU_mem   box_loss   cls_loss   dfl_loss  Instances       Size\n"
     ]
    },
    {
     "name": "stderr",
     "output_type": "stream",
     "text": [
      "     20/100      5.18G     0.9596     0.9205       1.44         36        640: 100%|██████████| 86/86 [00:23<00:00,  3.63it/s]\n",
      "                 Class     Images  Instances      Box(P          R      mAP50  mAP50-95): 100%|██████████| 4/4 [00:00<00:00,  4.89it/s]"
     ]
    },
    {
     "name": "stdout",
     "output_type": "stream",
     "text": [
      "                   all        100        263      0.663      0.764      0.728      0.486\n"
     ]
    },
    {
     "name": "stderr",
     "output_type": "stream",
     "text": [
      "\n"
     ]
    },
    {
     "name": "stdout",
     "output_type": "stream",
     "text": [
      "\n",
      "      Epoch    GPU_mem   box_loss   cls_loss   dfl_loss  Instances       Size\n"
     ]
    },
    {
     "name": "stderr",
     "output_type": "stream",
     "text": [
      "     21/100      5.16G     0.9522     0.8762      1.439         37        640: 100%|██████████| 86/86 [00:23<00:00,  3.60it/s]\n",
      "                 Class     Images  Instances      Box(P          R      mAP50  mAP50-95): 100%|██████████| 4/4 [00:00<00:00,  4.66it/s]"
     ]
    },
    {
     "name": "stdout",
     "output_type": "stream",
     "text": [
      "                   all        100        263      0.744      0.682      0.749      0.504\n"
     ]
    },
    {
     "name": "stderr",
     "output_type": "stream",
     "text": [
      "\n"
     ]
    },
    {
     "name": "stdout",
     "output_type": "stream",
     "text": [
      "\n",
      "      Epoch    GPU_mem   box_loss   cls_loss   dfl_loss  Instances       Size\n"
     ]
    },
    {
     "name": "stderr",
     "output_type": "stream",
     "text": [
      "     22/100      5.18G     0.9485     0.8726      1.432         14        640: 100%|██████████| 86/86 [00:23<00:00,  3.64it/s]\n",
      "                 Class     Images  Instances      Box(P          R      mAP50  mAP50-95): 100%|██████████| 4/4 [00:00<00:00,  4.98it/s]"
     ]
    },
    {
     "name": "stdout",
     "output_type": "stream",
     "text": [
      "                   all        100        263       0.66      0.691       0.74      0.504\n"
     ]
    },
    {
     "name": "stderr",
     "output_type": "stream",
     "text": [
      "\n"
     ]
    },
    {
     "name": "stdout",
     "output_type": "stream",
     "text": [
      "\n",
      "      Epoch    GPU_mem   box_loss   cls_loss   dfl_loss  Instances       Size\n"
     ]
    },
    {
     "name": "stderr",
     "output_type": "stream",
     "text": [
      "     23/100      5.23G     0.9342     0.8744      1.409         22        640: 100%|██████████| 86/86 [00:23<00:00,  3.62it/s]\n",
      "                 Class     Images  Instances      Box(P          R      mAP50  mAP50-95): 100%|██████████| 4/4 [00:00<00:00,  4.83it/s]"
     ]
    },
    {
     "name": "stdout",
     "output_type": "stream",
     "text": [
      "                   all        100        263      0.724      0.703       0.75      0.516\n"
     ]
    },
    {
     "name": "stderr",
     "output_type": "stream",
     "text": [
      "\n"
     ]
    },
    {
     "name": "stdout",
     "output_type": "stream",
     "text": [
      "\n",
      "      Epoch    GPU_mem   box_loss   cls_loss   dfl_loss  Instances       Size\n"
     ]
    },
    {
     "name": "stderr",
     "output_type": "stream",
     "text": [
      "     24/100      5.18G     0.9253     0.8672      1.408         14        640: 100%|██████████| 86/86 [00:23<00:00,  3.64it/s]\n",
      "                 Class     Images  Instances      Box(P          R      mAP50  mAP50-95): 100%|██████████| 4/4 [00:00<00:00,  4.69it/s]"
     ]
    },
    {
     "name": "stdout",
     "output_type": "stream",
     "text": [
      "                   all        100        263      0.805      0.634      0.769      0.541\n"
     ]
    },
    {
     "name": "stderr",
     "output_type": "stream",
     "text": [
      "\n"
     ]
    },
    {
     "name": "stdout",
     "output_type": "stream",
     "text": [
      "\n",
      "      Epoch    GPU_mem   box_loss   cls_loss   dfl_loss  Instances       Size\n"
     ]
    },
    {
     "name": "stderr",
     "output_type": "stream",
     "text": [
      "     25/100      5.16G     0.9244     0.8303       1.41         10        640: 100%|██████████| 86/86 [00:23<00:00,  3.67it/s]\n",
      "                 Class     Images  Instances      Box(P          R      mAP50  mAP50-95): 100%|██████████| 4/4 [00:00<00:00,  4.81it/s]"
     ]
    },
    {
     "name": "stdout",
     "output_type": "stream",
     "text": [
      "                   all        100        263      0.764      0.663      0.716      0.513\n"
     ]
    },
    {
     "name": "stderr",
     "output_type": "stream",
     "text": [
      "\n"
     ]
    },
    {
     "name": "stdout",
     "output_type": "stream",
     "text": [
      "\n",
      "      Epoch    GPU_mem   box_loss   cls_loss   dfl_loss  Instances       Size\n"
     ]
    },
    {
     "name": "stderr",
     "output_type": "stream",
     "text": [
      "     26/100      5.18G     0.9114     0.8092      1.401         17        640: 100%|██████████| 86/86 [00:23<00:00,  3.64it/s]\n",
      "                 Class     Images  Instances      Box(P          R      mAP50  mAP50-95): 100%|██████████| 4/4 [00:00<00:00,  4.60it/s]"
     ]
    },
    {
     "name": "stdout",
     "output_type": "stream",
     "text": [
      "                   all        100        263      0.809      0.702       0.78      0.521\n"
     ]
    },
    {
     "name": "stderr",
     "output_type": "stream",
     "text": [
      "\n"
     ]
    },
    {
     "name": "stdout",
     "output_type": "stream",
     "text": [
      "\n",
      "      Epoch    GPU_mem   box_loss   cls_loss   dfl_loss  Instances       Size\n"
     ]
    },
    {
     "name": "stderr",
     "output_type": "stream",
     "text": [
      "     27/100      5.16G     0.9264     0.8438      1.416         16        640: 100%|██████████| 86/86 [00:23<00:00,  3.62it/s]\n",
      "                 Class     Images  Instances      Box(P          R      mAP50  mAP50-95): 100%|██████████| 4/4 [00:00<00:00,  4.70it/s]"
     ]
    },
    {
     "name": "stdout",
     "output_type": "stream",
     "text": [
      "                   all        100        263      0.784      0.721      0.765      0.557\n"
     ]
    },
    {
     "name": "stderr",
     "output_type": "stream",
     "text": [
      "\n"
     ]
    },
    {
     "name": "stdout",
     "output_type": "stream",
     "text": [
      "\n",
      "      Epoch    GPU_mem   box_loss   cls_loss   dfl_loss  Instances       Size\n"
     ]
    },
    {
     "name": "stderr",
     "output_type": "stream",
     "text": [
      "     28/100      5.18G     0.9007     0.7921      1.398         25        640: 100%|██████████| 86/86 [00:23<00:00,  3.62it/s]\n",
      "                 Class     Images  Instances      Box(P          R      mAP50  mAP50-95): 100%|██████████| 4/4 [00:00<00:00,  4.79it/s]"
     ]
    },
    {
     "name": "stdout",
     "output_type": "stream",
     "text": [
      "                   all        100        263      0.708      0.762        0.8      0.548\n"
     ]
    },
    {
     "name": "stderr",
     "output_type": "stream",
     "text": [
      "\n"
     ]
    },
    {
     "name": "stdout",
     "output_type": "stream",
     "text": [
      "\n",
      "      Epoch    GPU_mem   box_loss   cls_loss   dfl_loss  Instances       Size\n"
     ]
    },
    {
     "name": "stderr",
     "output_type": "stream",
     "text": [
      "     29/100      5.16G     0.8967     0.7965      1.399         14        640: 100%|██████████| 86/86 [00:23<00:00,  3.65it/s]\n",
      "                 Class     Images  Instances      Box(P          R      mAP50  mAP50-95): 100%|██████████| 4/4 [00:00<00:00,  4.70it/s]"
     ]
    },
    {
     "name": "stdout",
     "output_type": "stream",
     "text": [
      "                   all        100        263      0.731      0.715      0.795      0.574\n"
     ]
    },
    {
     "name": "stderr",
     "output_type": "stream",
     "text": [
      "\n"
     ]
    },
    {
     "name": "stdout",
     "output_type": "stream",
     "text": [
      "\n",
      "      Epoch    GPU_mem   box_loss   cls_loss   dfl_loss  Instances       Size\n"
     ]
    },
    {
     "name": "stderr",
     "output_type": "stream",
     "text": [
      "     30/100      5.18G     0.8918     0.7752      1.386         23        640: 100%|██████████| 86/86 [00:23<00:00,  3.61it/s]\n",
      "                 Class     Images  Instances      Box(P          R      mAP50  mAP50-95): 100%|██████████| 4/4 [00:00<00:00,  4.51it/s]"
     ]
    },
    {
     "name": "stdout",
     "output_type": "stream",
     "text": [
      "                   all        100        263      0.756      0.746      0.793      0.495\n"
     ]
    },
    {
     "name": "stderr",
     "output_type": "stream",
     "text": [
      "\n"
     ]
    },
    {
     "name": "stdout",
     "output_type": "stream",
     "text": [
      "\n",
      "      Epoch    GPU_mem   box_loss   cls_loss   dfl_loss  Instances       Size\n"
     ]
    },
    {
     "name": "stderr",
     "output_type": "stream",
     "text": [
      "     31/100      5.16G     0.8902     0.7688      1.367         24        640: 100%|██████████| 86/86 [00:23<00:00,  3.60it/s]\n",
      "                 Class     Images  Instances      Box(P          R      mAP50  mAP50-95): 100%|██████████| 4/4 [00:00<00:00,  4.77it/s]"
     ]
    },
    {
     "name": "stdout",
     "output_type": "stream",
     "text": [
      "                   all        100        263      0.772      0.729      0.796      0.593\n"
     ]
    },
    {
     "name": "stderr",
     "output_type": "stream",
     "text": [
      "\n"
     ]
    },
    {
     "name": "stdout",
     "output_type": "stream",
     "text": [
      "\n",
      "      Epoch    GPU_mem   box_loss   cls_loss   dfl_loss  Instances       Size\n"
     ]
    },
    {
     "name": "stderr",
     "output_type": "stream",
     "text": [
      "     32/100      5.18G     0.8607     0.7362      1.348         25        640: 100%|██████████| 86/86 [00:23<00:00,  3.65it/s]\n",
      "                 Class     Images  Instances      Box(P          R      mAP50  mAP50-95): 100%|██████████| 4/4 [00:00<00:00,  4.68it/s]"
     ]
    },
    {
     "name": "stdout",
     "output_type": "stream",
     "text": [
      "                   all        100        263      0.674      0.745       0.76      0.563\n"
     ]
    },
    {
     "name": "stderr",
     "output_type": "stream",
     "text": [
      "\n"
     ]
    },
    {
     "name": "stdout",
     "output_type": "stream",
     "text": [
      "\n",
      "      Epoch    GPU_mem   box_loss   cls_loss   dfl_loss  Instances       Size\n"
     ]
    },
    {
     "name": "stderr",
     "output_type": "stream",
     "text": [
      "     33/100      5.16G     0.8697     0.7452      1.354         19        640: 100%|██████████| 86/86 [00:23<00:00,  3.64it/s]\n",
      "                 Class     Images  Instances      Box(P          R      mAP50  mAP50-95): 100%|██████████| 4/4 [00:00<00:00,  4.61it/s]"
     ]
    },
    {
     "name": "stdout",
     "output_type": "stream",
     "text": [
      "                   all        100        263      0.681      0.738      0.765      0.533\n"
     ]
    },
    {
     "name": "stderr",
     "output_type": "stream",
     "text": [
      "\n"
     ]
    },
    {
     "name": "stdout",
     "output_type": "stream",
     "text": [
      "\n",
      "      Epoch    GPU_mem   box_loss   cls_loss   dfl_loss  Instances       Size\n"
     ]
    },
    {
     "name": "stderr",
     "output_type": "stream",
     "text": [
      "     34/100      5.18G     0.8632     0.7503      1.358         25        640: 100%|██████████| 86/86 [00:23<00:00,  3.64it/s]\n",
      "                 Class     Images  Instances      Box(P          R      mAP50  mAP50-95): 100%|██████████| 4/4 [00:00<00:00,  4.68it/s]"
     ]
    },
    {
     "name": "stdout",
     "output_type": "stream",
     "text": [
      "                   all        100        263      0.765       0.76       0.81       0.56\n"
     ]
    },
    {
     "name": "stderr",
     "output_type": "stream",
     "text": [
      "\n"
     ]
    },
    {
     "name": "stdout",
     "output_type": "stream",
     "text": [
      "\n",
      "      Epoch    GPU_mem   box_loss   cls_loss   dfl_loss  Instances       Size\n"
     ]
    },
    {
     "name": "stderr",
     "output_type": "stream",
     "text": [
      "     35/100      5.16G     0.8457     0.7199      1.339         15        640: 100%|██████████| 86/86 [00:23<00:00,  3.66it/s]\n",
      "                 Class     Images  Instances      Box(P          R      mAP50  mAP50-95): 100%|██████████| 4/4 [00:00<00:00,  4.52it/s]"
     ]
    },
    {
     "name": "stdout",
     "output_type": "stream",
     "text": [
      "                   all        100        263      0.792      0.748      0.805      0.583\n"
     ]
    },
    {
     "name": "stderr",
     "output_type": "stream",
     "text": [
      "\n"
     ]
    },
    {
     "name": "stdout",
     "output_type": "stream",
     "text": [
      "\n",
      "      Epoch    GPU_mem   box_loss   cls_loss   dfl_loss  Instances       Size\n"
     ]
    },
    {
     "name": "stderr",
     "output_type": "stream",
     "text": [
      "     36/100      5.18G     0.8372     0.7017      1.326         14        640: 100%|██████████| 86/86 [00:23<00:00,  3.65it/s]\n",
      "                 Class     Images  Instances      Box(P          R      mAP50  mAP50-95): 100%|██████████| 4/4 [00:00<00:00,  4.81it/s]"
     ]
    },
    {
     "name": "stdout",
     "output_type": "stream",
     "text": [
      "                   all        100        263      0.712      0.742      0.785      0.562\n"
     ]
    },
    {
     "name": "stderr",
     "output_type": "stream",
     "text": [
      "\n"
     ]
    },
    {
     "name": "stdout",
     "output_type": "stream",
     "text": [
      "\n",
      "      Epoch    GPU_mem   box_loss   cls_loss   dfl_loss  Instances       Size\n"
     ]
    },
    {
     "name": "stderr",
     "output_type": "stream",
     "text": [
      "     37/100      5.16G     0.8266     0.6943      1.319         34        640: 100%|██████████| 86/86 [00:23<00:00,  3.64it/s]\n",
      "                 Class     Images  Instances      Box(P          R      mAP50  mAP50-95): 100%|██████████| 4/4 [00:00<00:00,  4.76it/s]"
     ]
    },
    {
     "name": "stdout",
     "output_type": "stream",
     "text": [
      "                   all        100        263      0.806      0.737      0.801      0.577\n"
     ]
    },
    {
     "name": "stderr",
     "output_type": "stream",
     "text": [
      "\n"
     ]
    },
    {
     "name": "stdout",
     "output_type": "stream",
     "text": [
      "\n",
      "      Epoch    GPU_mem   box_loss   cls_loss   dfl_loss  Instances       Size\n"
     ]
    },
    {
     "name": "stderr",
     "output_type": "stream",
     "text": [
      "     38/100      5.18G     0.8177     0.6902      1.325         32        640: 100%|██████████| 86/86 [00:23<00:00,  3.65it/s]\n",
      "                 Class     Images  Instances      Box(P          R      mAP50  mAP50-95): 100%|██████████| 4/4 [00:00<00:00,  4.87it/s]"
     ]
    },
    {
     "name": "stdout",
     "output_type": "stream",
     "text": [
      "                   all        100        263      0.749      0.748      0.823       0.59\n"
     ]
    },
    {
     "name": "stderr",
     "output_type": "stream",
     "text": [
      "\n"
     ]
    },
    {
     "name": "stdout",
     "output_type": "stream",
     "text": [
      "\n",
      "      Epoch    GPU_mem   box_loss   cls_loss   dfl_loss  Instances       Size\n"
     ]
    },
    {
     "name": "stderr",
     "output_type": "stream",
     "text": [
      "     39/100      5.16G      0.837     0.6975      1.352         21        640: 100%|██████████| 86/86 [00:23<00:00,  3.64it/s]\n",
      "                 Class     Images  Instances      Box(P          R      mAP50  mAP50-95): 100%|██████████| 4/4 [00:00<00:00,  4.93it/s]"
     ]
    },
    {
     "name": "stdout",
     "output_type": "stream",
     "text": [
      "                   all        100        263      0.752      0.751      0.828       0.61\n"
     ]
    },
    {
     "name": "stderr",
     "output_type": "stream",
     "text": [
      "\n"
     ]
    },
    {
     "name": "stdout",
     "output_type": "stream",
     "text": [
      "\n",
      "      Epoch    GPU_mem   box_loss   cls_loss   dfl_loss  Instances       Size\n"
     ]
    },
    {
     "name": "stderr",
     "output_type": "stream",
     "text": [
      "     40/100      5.18G     0.8242     0.6749      1.325         13        640: 100%|██████████| 86/86 [00:23<00:00,  3.66it/s]\n",
      "                 Class     Images  Instances      Box(P          R      mAP50  mAP50-95): 100%|██████████| 4/4 [00:00<00:00,  4.79it/s]"
     ]
    },
    {
     "name": "stdout",
     "output_type": "stream",
     "text": [
      "                   all        100        263      0.758      0.753      0.784      0.568\n"
     ]
    },
    {
     "name": "stderr",
     "output_type": "stream",
     "text": [
      "\n"
     ]
    },
    {
     "name": "stdout",
     "output_type": "stream",
     "text": [
      "\n",
      "      Epoch    GPU_mem   box_loss   cls_loss   dfl_loss  Instances       Size\n"
     ]
    },
    {
     "name": "stderr",
     "output_type": "stream",
     "text": [
      "     41/100      5.16G      0.809     0.6727       1.32         13        640: 100%|██████████| 86/86 [00:23<00:00,  3.63it/s]\n",
      "                 Class     Images  Instances      Box(P          R      mAP50  mAP50-95): 100%|██████████| 4/4 [00:00<00:00,  4.92it/s]"
     ]
    },
    {
     "name": "stdout",
     "output_type": "stream",
     "text": [
      "                   all        100        263      0.778       0.73      0.795      0.585\n"
     ]
    },
    {
     "name": "stderr",
     "output_type": "stream",
     "text": [
      "\n"
     ]
    },
    {
     "name": "stdout",
     "output_type": "stream",
     "text": [
      "\n",
      "      Epoch    GPU_mem   box_loss   cls_loss   dfl_loss  Instances       Size\n"
     ]
    },
    {
     "name": "stderr",
     "output_type": "stream",
     "text": [
      "     42/100      5.18G     0.8096     0.6627      1.327          8        640: 100%|██████████| 86/86 [00:23<00:00,  3.64it/s]\n",
      "                 Class     Images  Instances      Box(P          R      mAP50  mAP50-95): 100%|██████████| 4/4 [00:00<00:00,  4.82it/s]"
     ]
    },
    {
     "name": "stdout",
     "output_type": "stream",
     "text": [
      "                   all        100        263      0.804      0.726      0.782      0.591\n"
     ]
    },
    {
     "name": "stderr",
     "output_type": "stream",
     "text": [
      "\n"
     ]
    },
    {
     "name": "stdout",
     "output_type": "stream",
     "text": [
      "\n",
      "      Epoch    GPU_mem   box_loss   cls_loss   dfl_loss  Instances       Size\n"
     ]
    },
    {
     "name": "stderr",
     "output_type": "stream",
     "text": [
      "     43/100      5.16G     0.8049      0.664      1.327         10        640: 100%|██████████| 86/86 [00:23<00:00,  3.64it/s]\n",
      "                 Class     Images  Instances      Box(P          R      mAP50  mAP50-95): 100%|██████████| 4/4 [00:00<00:00,  4.84it/s]"
     ]
    },
    {
     "name": "stdout",
     "output_type": "stream",
     "text": [
      "                   all        100        263      0.789      0.745      0.799       0.59\n"
     ]
    },
    {
     "name": "stderr",
     "output_type": "stream",
     "text": [
      "\n"
     ]
    },
    {
     "name": "stdout",
     "output_type": "stream",
     "text": [
      "\n",
      "      Epoch    GPU_mem   box_loss   cls_loss   dfl_loss  Instances       Size\n"
     ]
    },
    {
     "name": "stderr",
     "output_type": "stream",
     "text": [
      "     44/100      5.18G     0.7898     0.6473      1.317         27        640: 100%|██████████| 86/86 [00:23<00:00,  3.68it/s]\n",
      "                 Class     Images  Instances      Box(P          R      mAP50  mAP50-95): 100%|██████████| 4/4 [00:00<00:00,  4.86it/s]"
     ]
    },
    {
     "name": "stdout",
     "output_type": "stream",
     "text": [
      "                   all        100        263      0.727      0.744      0.756      0.571\n"
     ]
    },
    {
     "name": "stderr",
     "output_type": "stream",
     "text": [
      "\n"
     ]
    },
    {
     "name": "stdout",
     "output_type": "stream",
     "text": [
      "\n",
      "      Epoch    GPU_mem   box_loss   cls_loss   dfl_loss  Instances       Size\n"
     ]
    },
    {
     "name": "stderr",
     "output_type": "stream",
     "text": [
      "     45/100      5.16G     0.7983     0.6576      1.307         15        640: 100%|██████████| 86/86 [00:23<00:00,  3.64it/s]\n",
      "                 Class     Images  Instances      Box(P          R      mAP50  mAP50-95): 100%|██████████| 4/4 [00:00<00:00,  4.81it/s]"
     ]
    },
    {
     "name": "stdout",
     "output_type": "stream",
     "text": [
      "                   all        100        263      0.807       0.67      0.763      0.565\n"
     ]
    },
    {
     "name": "stderr",
     "output_type": "stream",
     "text": [
      "\n"
     ]
    },
    {
     "name": "stdout",
     "output_type": "stream",
     "text": [
      "\n",
      "      Epoch    GPU_mem   box_loss   cls_loss   dfl_loss  Instances       Size\n"
     ]
    },
    {
     "name": "stderr",
     "output_type": "stream",
     "text": [
      "     46/100      5.18G     0.7997     0.6529      1.317         19        640: 100%|██████████| 86/86 [00:23<00:00,  3.65it/s]\n",
      "                 Class     Images  Instances      Box(P          R      mAP50  mAP50-95): 100%|██████████| 4/4 [00:00<00:00,  4.88it/s]"
     ]
    },
    {
     "name": "stdout",
     "output_type": "stream",
     "text": [
      "                   all        100        263      0.794      0.747      0.812      0.591\n"
     ]
    },
    {
     "name": "stderr",
     "output_type": "stream",
     "text": [
      "\n"
     ]
    },
    {
     "name": "stdout",
     "output_type": "stream",
     "text": [
      "\n",
      "      Epoch    GPU_mem   box_loss   cls_loss   dfl_loss  Instances       Size\n"
     ]
    },
    {
     "name": "stderr",
     "output_type": "stream",
     "text": [
      "     47/100      5.16G     0.7748     0.6246       1.29         30        640: 100%|██████████| 86/86 [00:23<00:00,  3.62it/s]\n",
      "                 Class     Images  Instances      Box(P          R      mAP50  mAP50-95): 100%|██████████| 4/4 [00:00<00:00,  4.90it/s]"
     ]
    },
    {
     "name": "stdout",
     "output_type": "stream",
     "text": [
      "                   all        100        263      0.709       0.76      0.764      0.579\n"
     ]
    },
    {
     "name": "stderr",
     "output_type": "stream",
     "text": [
      "\n"
     ]
    },
    {
     "name": "stdout",
     "output_type": "stream",
     "text": [
      "\n",
      "      Epoch    GPU_mem   box_loss   cls_loss   dfl_loss  Instances       Size\n"
     ]
    },
    {
     "name": "stderr",
     "output_type": "stream",
     "text": [
      "     48/100      5.18G      0.773      0.614      1.284         27        640: 100%|██████████| 86/86 [00:23<00:00,  3.67it/s]\n",
      "                 Class     Images  Instances      Box(P          R      mAP50  mAP50-95): 100%|██████████| 4/4 [00:00<00:00,  4.98it/s]"
     ]
    },
    {
     "name": "stdout",
     "output_type": "stream",
     "text": [
      "                   all        100        263       0.76      0.752      0.802      0.591\n"
     ]
    },
    {
     "name": "stderr",
     "output_type": "stream",
     "text": [
      "\n"
     ]
    },
    {
     "name": "stdout",
     "output_type": "stream",
     "text": [
      "\n",
      "      Epoch    GPU_mem   box_loss   cls_loss   dfl_loss  Instances       Size\n"
     ]
    },
    {
     "name": "stderr",
     "output_type": "stream",
     "text": [
      "     49/100      5.16G     0.7736     0.6258      1.277         16        640: 100%|██████████| 86/86 [00:23<00:00,  3.66it/s]\n",
      "                 Class     Images  Instances      Box(P          R      mAP50  mAP50-95): 100%|██████████| 4/4 [00:00<00:00,  4.76it/s]"
     ]
    },
    {
     "name": "stdout",
     "output_type": "stream",
     "text": [
      "                   all        100        263      0.766      0.709      0.785      0.588\n"
     ]
    },
    {
     "name": "stderr",
     "output_type": "stream",
     "text": [
      "\n"
     ]
    },
    {
     "name": "stdout",
     "output_type": "stream",
     "text": [
      "\n",
      "      Epoch    GPU_mem   box_loss   cls_loss   dfl_loss  Instances       Size\n"
     ]
    },
    {
     "name": "stderr",
     "output_type": "stream",
     "text": [
      "     50/100      5.18G     0.7658     0.6001      1.271         15        640: 100%|██████████| 86/86 [00:23<00:00,  3.61it/s]\n",
      "                 Class     Images  Instances      Box(P          R      mAP50  mAP50-95): 100%|██████████| 4/4 [00:00<00:00,  4.82it/s]"
     ]
    },
    {
     "name": "stdout",
     "output_type": "stream",
     "text": [
      "                   all        100        263      0.782      0.731      0.771      0.602\n"
     ]
    },
    {
     "name": "stderr",
     "output_type": "stream",
     "text": [
      "\n"
     ]
    },
    {
     "name": "stdout",
     "output_type": "stream",
     "text": [
      "\n",
      "      Epoch    GPU_mem   box_loss   cls_loss   dfl_loss  Instances       Size\n"
     ]
    },
    {
     "name": "stderr",
     "output_type": "stream",
     "text": [
      "     51/100      5.15G     0.7574     0.6037      1.269         16        640: 100%|██████████| 86/86 [00:23<00:00,  3.65it/s]\n",
      "                 Class     Images  Instances      Box(P          R      mAP50  mAP50-95): 100%|██████████| 4/4 [00:00<00:00,  4.89it/s]"
     ]
    },
    {
     "name": "stdout",
     "output_type": "stream",
     "text": [
      "                   all        100        263      0.788      0.705      0.797       0.62\n"
     ]
    },
    {
     "name": "stderr",
     "output_type": "stream",
     "text": [
      "\n"
     ]
    },
    {
     "name": "stdout",
     "output_type": "stream",
     "text": [
      "\n",
      "      Epoch    GPU_mem   box_loss   cls_loss   dfl_loss  Instances       Size\n"
     ]
    },
    {
     "name": "stderr",
     "output_type": "stream",
     "text": [
      "     52/100      5.18G     0.7495     0.6072      1.275         16        640: 100%|██████████| 86/86 [00:23<00:00,  3.68it/s]\n",
      "                 Class     Images  Instances      Box(P          R      mAP50  mAP50-95): 100%|██████████| 4/4 [00:00<00:00,  4.92it/s]"
     ]
    },
    {
     "name": "stdout",
     "output_type": "stream",
     "text": [
      "                   all        100        263      0.794       0.74      0.814      0.578\n"
     ]
    },
    {
     "name": "stderr",
     "output_type": "stream",
     "text": [
      "\n"
     ]
    },
    {
     "name": "stdout",
     "output_type": "stream",
     "text": [
      "\n",
      "      Epoch    GPU_mem   box_loss   cls_loss   dfl_loss  Instances       Size\n"
     ]
    },
    {
     "name": "stderr",
     "output_type": "stream",
     "text": [
      "     53/100      5.16G     0.7425     0.5938      1.266          9        640: 100%|██████████| 86/86 [00:23<00:00,  3.66it/s]\n",
      "                 Class     Images  Instances      Box(P          R      mAP50  mAP50-95): 100%|██████████| 4/4 [00:00<00:00,  4.73it/s]"
     ]
    },
    {
     "name": "stdout",
     "output_type": "stream",
     "text": [
      "                   all        100        263      0.789      0.729      0.796      0.601\n"
     ]
    },
    {
     "name": "stderr",
     "output_type": "stream",
     "text": [
      "\n"
     ]
    },
    {
     "name": "stdout",
     "output_type": "stream",
     "text": [
      "\n",
      "      Epoch    GPU_mem   box_loss   cls_loss   dfl_loss  Instances       Size\n"
     ]
    },
    {
     "name": "stderr",
     "output_type": "stream",
     "text": [
      "     54/100      5.18G     0.7568     0.5768      1.262         27        640: 100%|██████████| 86/86 [00:23<00:00,  3.67it/s]\n",
      "                 Class     Images  Instances      Box(P          R      mAP50  mAP50-95): 100%|██████████| 4/4 [00:00<00:00,  4.67it/s]"
     ]
    },
    {
     "name": "stdout",
     "output_type": "stream",
     "text": [
      "                   all        100        263      0.795      0.719      0.809      0.628\n"
     ]
    },
    {
     "name": "stderr",
     "output_type": "stream",
     "text": [
      "\n"
     ]
    },
    {
     "name": "stdout",
     "output_type": "stream",
     "text": [
      "\n",
      "      Epoch    GPU_mem   box_loss   cls_loss   dfl_loss  Instances       Size\n"
     ]
    },
    {
     "name": "stderr",
     "output_type": "stream",
     "text": [
      "     55/100      5.16G     0.7369     0.5885      1.272         17        640: 100%|██████████| 86/86 [00:23<00:00,  3.62it/s]\n",
      "                 Class     Images  Instances      Box(P          R      mAP50  mAP50-95): 100%|██████████| 4/4 [00:00<00:00,  4.79it/s]"
     ]
    },
    {
     "name": "stdout",
     "output_type": "stream",
     "text": [
      "                   all        100        263      0.823      0.732      0.814      0.605\n"
     ]
    },
    {
     "name": "stderr",
     "output_type": "stream",
     "text": [
      "\n"
     ]
    },
    {
     "name": "stdout",
     "output_type": "stream",
     "text": [
      "\n",
      "      Epoch    GPU_mem   box_loss   cls_loss   dfl_loss  Instances       Size\n"
     ]
    },
    {
     "name": "stderr",
     "output_type": "stream",
     "text": [
      "     56/100      5.18G     0.7341     0.5723      1.246         15        640: 100%|██████████| 86/86 [00:23<00:00,  3.65it/s]\n",
      "                 Class     Images  Instances      Box(P          R      mAP50  mAP50-95): 100%|██████████| 4/4 [00:00<00:00,  4.90it/s]"
     ]
    },
    {
     "name": "stdout",
     "output_type": "stream",
     "text": [
      "                   all        100        263      0.782      0.739      0.805      0.632\n"
     ]
    },
    {
     "name": "stderr",
     "output_type": "stream",
     "text": [
      "\n"
     ]
    },
    {
     "name": "stdout",
     "output_type": "stream",
     "text": [
      "\n",
      "      Epoch    GPU_mem   box_loss   cls_loss   dfl_loss  Instances       Size\n"
     ]
    },
    {
     "name": "stderr",
     "output_type": "stream",
     "text": [
      "     57/100      5.16G     0.7276     0.5675      1.251         28        640: 100%|██████████| 86/86 [00:23<00:00,  3.64it/s]\n",
      "                 Class     Images  Instances      Box(P          R      mAP50  mAP50-95): 100%|██████████| 4/4 [00:00<00:00,  4.82it/s]"
     ]
    },
    {
     "name": "stdout",
     "output_type": "stream",
     "text": [
      "                   all        100        263      0.721      0.797      0.808      0.625\n"
     ]
    },
    {
     "name": "stderr",
     "output_type": "stream",
     "text": [
      "\n"
     ]
    },
    {
     "name": "stdout",
     "output_type": "stream",
     "text": [
      "\n",
      "      Epoch    GPU_mem   box_loss   cls_loss   dfl_loss  Instances       Size\n"
     ]
    },
    {
     "name": "stderr",
     "output_type": "stream",
     "text": [
      "     58/100      5.18G     0.7192     0.5635      1.251         20        640: 100%|██████████| 86/86 [00:23<00:00,  3.68it/s]\n",
      "                 Class     Images  Instances      Box(P          R      mAP50  mAP50-95): 100%|██████████| 4/4 [00:00<00:00,  4.94it/s]"
     ]
    },
    {
     "name": "stdout",
     "output_type": "stream",
     "text": [
      "                   all        100        263      0.703      0.779        0.8      0.609\n"
     ]
    },
    {
     "name": "stderr",
     "output_type": "stream",
     "text": [
      "\n"
     ]
    },
    {
     "name": "stdout",
     "output_type": "stream",
     "text": [
      "\n",
      "      Epoch    GPU_mem   box_loss   cls_loss   dfl_loss  Instances       Size\n"
     ]
    },
    {
     "name": "stderr",
     "output_type": "stream",
     "text": [
      "     59/100      5.16G     0.7195     0.5713      1.245         31        640: 100%|██████████| 86/86 [00:23<00:00,  3.62it/s]\n",
      "                 Class     Images  Instances      Box(P          R      mAP50  mAP50-95): 100%|██████████| 4/4 [00:00<00:00,  4.87it/s]"
     ]
    },
    {
     "name": "stdout",
     "output_type": "stream",
     "text": [
      "                   all        100        263      0.782      0.732      0.802      0.616\n"
     ]
    },
    {
     "name": "stderr",
     "output_type": "stream",
     "text": [
      "\n"
     ]
    },
    {
     "name": "stdout",
     "output_type": "stream",
     "text": [
      "\n",
      "      Epoch    GPU_mem   box_loss   cls_loss   dfl_loss  Instances       Size\n"
     ]
    },
    {
     "name": "stderr",
     "output_type": "stream",
     "text": [
      "     60/100      5.18G     0.7062     0.5372      1.229         22        640: 100%|██████████| 86/86 [00:23<00:00,  3.65it/s]\n",
      "                 Class     Images  Instances      Box(P          R      mAP50  mAP50-95): 100%|██████████| 4/4 [00:00<00:00,  4.74it/s]"
     ]
    },
    {
     "name": "stdout",
     "output_type": "stream",
     "text": [
      "                   all        100        263      0.824      0.737      0.836       0.63\n"
     ]
    },
    {
     "name": "stderr",
     "output_type": "stream",
     "text": [
      "\n"
     ]
    },
    {
     "name": "stdout",
     "output_type": "stream",
     "text": [
      "\n",
      "      Epoch    GPU_mem   box_loss   cls_loss   dfl_loss  Instances       Size\n"
     ]
    },
    {
     "name": "stderr",
     "output_type": "stream",
     "text": [
      "     61/100      5.16G     0.7107     0.5451      1.231         42        640: 100%|██████████| 86/86 [00:23<00:00,  3.65it/s]\n",
      "                 Class     Images  Instances      Box(P          R      mAP50  mAP50-95): 100%|██████████| 4/4 [00:00<00:00,  4.71it/s]"
     ]
    },
    {
     "name": "stdout",
     "output_type": "stream",
     "text": [
      "                   all        100        263      0.769       0.79       0.81      0.631\n"
     ]
    },
    {
     "name": "stderr",
     "output_type": "stream",
     "text": [
      "\n"
     ]
    },
    {
     "name": "stdout",
     "output_type": "stream",
     "text": [
      "\n",
      "      Epoch    GPU_mem   box_loss   cls_loss   dfl_loss  Instances       Size\n"
     ]
    },
    {
     "name": "stderr",
     "output_type": "stream",
     "text": [
      "     62/100      5.18G     0.7003     0.5449      1.227         25        640: 100%|██████████| 86/86 [00:23<00:00,  3.69it/s]\n",
      "                 Class     Images  Instances      Box(P          R      mAP50  mAP50-95): 100%|██████████| 4/4 [00:00<00:00,  4.78it/s]"
     ]
    },
    {
     "name": "stdout",
     "output_type": "stream",
     "text": [
      "                   all        100        263      0.753      0.778      0.792       0.59\n"
     ]
    },
    {
     "name": "stderr",
     "output_type": "stream",
     "text": [
      "\n"
     ]
    },
    {
     "name": "stdout",
     "output_type": "stream",
     "text": [
      "\n",
      "      Epoch    GPU_mem   box_loss   cls_loss   dfl_loss  Instances       Size\n"
     ]
    },
    {
     "name": "stderr",
     "output_type": "stream",
     "text": [
      "     63/100      5.16G     0.6999     0.5328       1.22         29        640: 100%|██████████| 86/86 [00:23<00:00,  3.65it/s]\n",
      "                 Class     Images  Instances      Box(P          R      mAP50  mAP50-95): 100%|██████████| 4/4 [00:00<00:00,  4.94it/s]"
     ]
    },
    {
     "name": "stdout",
     "output_type": "stream",
     "text": [
      "                   all        100        263      0.799      0.739      0.826      0.633\n"
     ]
    },
    {
     "name": "stderr",
     "output_type": "stream",
     "text": [
      "\n"
     ]
    },
    {
     "name": "stdout",
     "output_type": "stream",
     "text": [
      "\n",
      "      Epoch    GPU_mem   box_loss   cls_loss   dfl_loss  Instances       Size\n"
     ]
    },
    {
     "name": "stderr",
     "output_type": "stream",
     "text": [
      "     64/100      5.18G       0.68     0.5334      1.205         20        640: 100%|██████████| 86/86 [00:23<00:00,  3.66it/s]\n",
      "                 Class     Images  Instances      Box(P          R      mAP50  mAP50-95): 100%|██████████| 4/4 [00:00<00:00,  4.89it/s]"
     ]
    },
    {
     "name": "stdout",
     "output_type": "stream",
     "text": [
      "                   all        100        263      0.781      0.744       0.83      0.641\n"
     ]
    },
    {
     "name": "stderr",
     "output_type": "stream",
     "text": [
      "\n"
     ]
    },
    {
     "name": "stdout",
     "output_type": "stream",
     "text": [
      "\n",
      "      Epoch    GPU_mem   box_loss   cls_loss   dfl_loss  Instances       Size\n"
     ]
    },
    {
     "name": "stderr",
     "output_type": "stream",
     "text": [
      "     65/100      5.16G      0.698     0.5189      1.227         20        640: 100%|██████████| 86/86 [00:23<00:00,  3.65it/s]\n",
      "                 Class     Images  Instances      Box(P          R      mAP50  mAP50-95): 100%|██████████| 4/4 [00:00<00:00,  4.71it/s]"
     ]
    },
    {
     "name": "stdout",
     "output_type": "stream",
     "text": [
      "                   all        100        263      0.728      0.781      0.819      0.623\n"
     ]
    },
    {
     "name": "stderr",
     "output_type": "stream",
     "text": [
      "\n"
     ]
    },
    {
     "name": "stdout",
     "output_type": "stream",
     "text": [
      "\n",
      "      Epoch    GPU_mem   box_loss   cls_loss   dfl_loss  Instances       Size\n"
     ]
    },
    {
     "name": "stderr",
     "output_type": "stream",
     "text": [
      "     66/100      5.18G     0.6841     0.5119       1.22         29        640: 100%|██████████| 86/86 [00:23<00:00,  3.66it/s]\n",
      "                 Class     Images  Instances      Box(P          R      mAP50  mAP50-95): 100%|██████████| 4/4 [00:00<00:00,  4.83it/s]"
     ]
    },
    {
     "name": "stdout",
     "output_type": "stream",
     "text": [
      "                   all        100        263      0.804      0.711      0.804      0.611\n"
     ]
    },
    {
     "name": "stderr",
     "output_type": "stream",
     "text": [
      "\n"
     ]
    },
    {
     "name": "stdout",
     "output_type": "stream",
     "text": [
      "\n",
      "      Epoch    GPU_mem   box_loss   cls_loss   dfl_loss  Instances       Size\n"
     ]
    },
    {
     "name": "stderr",
     "output_type": "stream",
     "text": [
      "     67/100      5.16G     0.6722     0.5078      1.209         12        640: 100%|██████████| 86/86 [00:23<00:00,  3.61it/s]\n",
      "                 Class     Images  Instances      Box(P          R      mAP50  mAP50-95): 100%|██████████| 4/4 [00:00<00:00,  4.87it/s]"
     ]
    },
    {
     "name": "stdout",
     "output_type": "stream",
     "text": [
      "                   all        100        263      0.768      0.749       0.78      0.603\n"
     ]
    },
    {
     "name": "stderr",
     "output_type": "stream",
     "text": [
      "\n"
     ]
    },
    {
     "name": "stdout",
     "output_type": "stream",
     "text": [
      "\n",
      "      Epoch    GPU_mem   box_loss   cls_loss   dfl_loss  Instances       Size\n"
     ]
    },
    {
     "name": "stderr",
     "output_type": "stream",
     "text": [
      "     68/100      5.18G     0.6815     0.5216      1.221         18        640: 100%|██████████| 86/86 [00:23<00:00,  3.63it/s]\n",
      "                 Class     Images  Instances      Box(P          R      mAP50  mAP50-95): 100%|██████████| 4/4 [00:00<00:00,  4.94it/s]"
     ]
    },
    {
     "name": "stdout",
     "output_type": "stream",
     "text": [
      "                   all        100        263      0.797       0.71      0.783      0.607\n"
     ]
    },
    {
     "name": "stderr",
     "output_type": "stream",
     "text": [
      "\n"
     ]
    },
    {
     "name": "stdout",
     "output_type": "stream",
     "text": [
      "\n",
      "      Epoch    GPU_mem   box_loss   cls_loss   dfl_loss  Instances       Size\n"
     ]
    },
    {
     "name": "stderr",
     "output_type": "stream",
     "text": [
      "     69/100      5.16G     0.6797     0.5113      1.211         22        640: 100%|██████████| 86/86 [00:23<00:00,  3.66it/s]\n",
      "                 Class     Images  Instances      Box(P          R      mAP50  mAP50-95): 100%|██████████| 4/4 [00:00<00:00,  4.85it/s]"
     ]
    },
    {
     "name": "stdout",
     "output_type": "stream",
     "text": [
      "                   all        100        263       0.77      0.784      0.808      0.612\n"
     ]
    },
    {
     "name": "stderr",
     "output_type": "stream",
     "text": [
      "\n"
     ]
    },
    {
     "name": "stdout",
     "output_type": "stream",
     "text": [
      "\n",
      "      Epoch    GPU_mem   box_loss   cls_loss   dfl_loss  Instances       Size\n"
     ]
    },
    {
     "name": "stderr",
     "output_type": "stream",
     "text": [
      "     70/100      5.18G      0.675      0.504      1.215         33        640: 100%|██████████| 86/86 [00:23<00:00,  3.67it/s]\n",
      "                 Class     Images  Instances      Box(P          R      mAP50  mAP50-95): 100%|██████████| 4/4 [00:00<00:00,  4.84it/s]"
     ]
    },
    {
     "name": "stdout",
     "output_type": "stream",
     "text": [
      "                   all        100        263      0.741      0.751       0.78      0.601\n"
     ]
    },
    {
     "name": "stderr",
     "output_type": "stream",
     "text": [
      "\n"
     ]
    },
    {
     "name": "stdout",
     "output_type": "stream",
     "text": [
      "\n",
      "      Epoch    GPU_mem   box_loss   cls_loss   dfl_loss  Instances       Size\n"
     ]
    },
    {
     "name": "stderr",
     "output_type": "stream",
     "text": [
      "     71/100      5.16G     0.6601     0.5013      1.191         29        640: 100%|██████████| 86/86 [00:23<00:00,  3.64it/s]\n",
      "                 Class     Images  Instances      Box(P          R      mAP50  mAP50-95): 100%|██████████| 4/4 [00:00<00:00,  4.89it/s]"
     ]
    },
    {
     "name": "stdout",
     "output_type": "stream",
     "text": [
      "                   all        100        263      0.809       0.74      0.781      0.593\n"
     ]
    },
    {
     "name": "stderr",
     "output_type": "stream",
     "text": [
      "\n"
     ]
    },
    {
     "name": "stdout",
     "output_type": "stream",
     "text": [
      "\n",
      "      Epoch    GPU_mem   box_loss   cls_loss   dfl_loss  Instances       Size\n"
     ]
    },
    {
     "name": "stderr",
     "output_type": "stream",
     "text": [
      "     72/100      5.18G     0.6512     0.4929      1.191         19        640: 100%|██████████| 86/86 [00:23<00:00,  3.68it/s]\n",
      "                 Class     Images  Instances      Box(P          R      mAP50  mAP50-95): 100%|██████████| 4/4 [00:00<00:00,  4.79it/s]"
     ]
    },
    {
     "name": "stdout",
     "output_type": "stream",
     "text": [
      "                   all        100        263      0.772      0.687      0.792      0.593\n"
     ]
    },
    {
     "name": "stderr",
     "output_type": "stream",
     "text": [
      "\n"
     ]
    },
    {
     "name": "stdout",
     "output_type": "stream",
     "text": [
      "\n",
      "      Epoch    GPU_mem   box_loss   cls_loss   dfl_loss  Instances       Size\n"
     ]
    },
    {
     "name": "stderr",
     "output_type": "stream",
     "text": [
      "     73/100      5.16G      0.653     0.4893      1.191         28        640: 100%|██████████| 86/86 [00:23<00:00,  3.66it/s]\n",
      "                 Class     Images  Instances      Box(P          R      mAP50  mAP50-95): 100%|██████████| 4/4 [00:00<00:00,  4.65it/s]"
     ]
    },
    {
     "name": "stdout",
     "output_type": "stream",
     "text": [
      "                   all        100        263      0.753      0.735      0.774      0.594\n"
     ]
    },
    {
     "name": "stderr",
     "output_type": "stream",
     "text": [
      "\n"
     ]
    },
    {
     "name": "stdout",
     "output_type": "stream",
     "text": [
      "\n",
      "      Epoch    GPU_mem   box_loss   cls_loss   dfl_loss  Instances       Size\n"
     ]
    },
    {
     "name": "stderr",
     "output_type": "stream",
     "text": [
      "     74/100      5.18G     0.6715     0.4971      1.201         17        640: 100%|██████████| 86/86 [00:23<00:00,  3.68it/s]\n",
      "                 Class     Images  Instances      Box(P          R      mAP50  mAP50-95): 100%|██████████| 4/4 [00:00<00:00,  4.78it/s]"
     ]
    },
    {
     "name": "stdout",
     "output_type": "stream",
     "text": [
      "                   all        100        263      0.802      0.729      0.801      0.629\n"
     ]
    },
    {
     "name": "stderr",
     "output_type": "stream",
     "text": [
      "\n"
     ]
    },
    {
     "name": "stdout",
     "output_type": "stream",
     "text": [
      "\n",
      "      Epoch    GPU_mem   box_loss   cls_loss   dfl_loss  Instances       Size\n"
     ]
    },
    {
     "name": "stderr",
     "output_type": "stream",
     "text": [
      "     75/100      5.16G     0.6434     0.4876      1.176         17        640: 100%|██████████| 86/86 [00:23<00:00,  3.65it/s]\n",
      "                 Class     Images  Instances      Box(P          R      mAP50  mAP50-95): 100%|██████████| 4/4 [00:00<00:00,  4.95it/s]"
     ]
    },
    {
     "name": "stdout",
     "output_type": "stream",
     "text": [
      "                   all        100        263      0.782       0.74      0.801       0.61\n"
     ]
    },
    {
     "name": "stderr",
     "output_type": "stream",
     "text": [
      "\n"
     ]
    },
    {
     "name": "stdout",
     "output_type": "stream",
     "text": [
      "\n",
      "      Epoch    GPU_mem   box_loss   cls_loss   dfl_loss  Instances       Size\n"
     ]
    },
    {
     "name": "stderr",
     "output_type": "stream",
     "text": [
      "     76/100      5.18G     0.6433     0.4814      1.186          9        640: 100%|██████████| 86/86 [00:23<00:00,  3.66it/s]\n",
      "                 Class     Images  Instances      Box(P          R      mAP50  mAP50-95): 100%|██████████| 4/4 [00:00<00:00,  4.91it/s]"
     ]
    },
    {
     "name": "stdout",
     "output_type": "stream",
     "text": [
      "                   all        100        263      0.759      0.772      0.797      0.607\n"
     ]
    },
    {
     "name": "stderr",
     "output_type": "stream",
     "text": [
      "\n"
     ]
    },
    {
     "name": "stdout",
     "output_type": "stream",
     "text": [
      "\n",
      "      Epoch    GPU_mem   box_loss   cls_loss   dfl_loss  Instances       Size\n"
     ]
    },
    {
     "name": "stderr",
     "output_type": "stream",
     "text": [
      "     77/100      5.15G      0.615     0.4619      1.166         23        640: 100%|██████████| 86/86 [00:23<00:00,  3.68it/s]\n",
      "                 Class     Images  Instances      Box(P          R      mAP50  mAP50-95): 100%|██████████| 4/4 [00:00<00:00,  5.00it/s]"
     ]
    },
    {
     "name": "stdout",
     "output_type": "stream",
     "text": [
      "                   all        100        263      0.833      0.708      0.809       0.64\n"
     ]
    },
    {
     "name": "stderr",
     "output_type": "stream",
     "text": [
      "\n"
     ]
    },
    {
     "name": "stdout",
     "output_type": "stream",
     "text": [
      "\n",
      "      Epoch    GPU_mem   box_loss   cls_loss   dfl_loss  Instances       Size\n"
     ]
    },
    {
     "name": "stderr",
     "output_type": "stream",
     "text": [
      "     78/100      5.18G     0.6444     0.4769      1.197         34        640: 100%|██████████| 86/86 [00:23<00:00,  3.64it/s]\n",
      "                 Class     Images  Instances      Box(P          R      mAP50  mAP50-95): 100%|██████████| 4/4 [00:00<00:00,  4.90it/s]"
     ]
    },
    {
     "name": "stdout",
     "output_type": "stream",
     "text": [
      "                   all        100        263      0.729      0.717      0.769      0.595\n"
     ]
    },
    {
     "name": "stderr",
     "output_type": "stream",
     "text": [
      "\n"
     ]
    },
    {
     "name": "stdout",
     "output_type": "stream",
     "text": [
      "\n",
      "      Epoch    GPU_mem   box_loss   cls_loss   dfl_loss  Instances       Size\n"
     ]
    },
    {
     "name": "stderr",
     "output_type": "stream",
     "text": [
      "     79/100      5.16G     0.6371     0.4701      1.183         31        640: 100%|██████████| 86/86 [00:23<00:00,  3.61it/s]\n",
      "                 Class     Images  Instances      Box(P          R      mAP50  mAP50-95): 100%|██████████| 4/4 [00:00<00:00,  4.90it/s]"
     ]
    },
    {
     "name": "stdout",
     "output_type": "stream",
     "text": [
      "                   all        100        263      0.749      0.778      0.815      0.626\n"
     ]
    },
    {
     "name": "stderr",
     "output_type": "stream",
     "text": [
      "\n"
     ]
    },
    {
     "name": "stdout",
     "output_type": "stream",
     "text": [
      "\n",
      "      Epoch    GPU_mem   box_loss   cls_loss   dfl_loss  Instances       Size\n"
     ]
    },
    {
     "name": "stderr",
     "output_type": "stream",
     "text": [
      "     80/100      5.18G      0.622     0.4502      1.181         33        640: 100%|██████████| 86/86 [00:23<00:00,  3.64it/s]\n",
      "                 Class     Images  Instances      Box(P          R      mAP50  mAP50-95): 100%|██████████| 4/4 [00:00<00:00,  4.81it/s]"
     ]
    },
    {
     "name": "stdout",
     "output_type": "stream",
     "text": [
      "                   all        100        263      0.784      0.758      0.819      0.641\n"
     ]
    },
    {
     "name": "stderr",
     "output_type": "stream",
     "text": [
      "\n"
     ]
    },
    {
     "name": "stdout",
     "output_type": "stream",
     "text": [
      "\n",
      "      Epoch    GPU_mem   box_loss   cls_loss   dfl_loss  Instances       Size\n"
     ]
    },
    {
     "name": "stderr",
     "output_type": "stream",
     "text": [
      "     81/100      5.16G     0.6111     0.4407      1.172         10        640: 100%|██████████| 86/86 [00:23<00:00,  3.62it/s]\n",
      "                 Class     Images  Instances      Box(P          R      mAP50  mAP50-95): 100%|██████████| 4/4 [00:00<00:00,  4.66it/s]"
     ]
    },
    {
     "name": "stdout",
     "output_type": "stream",
     "text": [
      "                   all        100        263      0.792      0.742      0.809      0.636\n"
     ]
    },
    {
     "name": "stderr",
     "output_type": "stream",
     "text": [
      "\n"
     ]
    },
    {
     "name": "stdout",
     "output_type": "stream",
     "text": [
      "\n",
      "      Epoch    GPU_mem   box_loss   cls_loss   dfl_loss  Instances       Size\n"
     ]
    },
    {
     "name": "stderr",
     "output_type": "stream",
     "text": [
      "     82/100      5.18G     0.6149     0.4502      1.169         31        640: 100%|██████████| 86/86 [00:23<00:00,  3.69it/s]\n",
      "                 Class     Images  Instances      Box(P          R      mAP50  mAP50-95): 100%|██████████| 4/4 [00:00<00:00,  4.95it/s]"
     ]
    },
    {
     "name": "stdout",
     "output_type": "stream",
     "text": [
      "                   all        100        263      0.746       0.77      0.807       0.63\n"
     ]
    },
    {
     "name": "stderr",
     "output_type": "stream",
     "text": [
      "\n"
     ]
    },
    {
     "name": "stdout",
     "output_type": "stream",
     "text": [
      "\n",
      "      Epoch    GPU_mem   box_loss   cls_loss   dfl_loss  Instances       Size\n"
     ]
    },
    {
     "name": "stderr",
     "output_type": "stream",
     "text": [
      "     83/100      5.24G     0.6115     0.4429      1.171         20        640: 100%|██████████| 86/86 [00:23<00:00,  3.64it/s]\n",
      "                 Class     Images  Instances      Box(P          R      mAP50  mAP50-95): 100%|██████████| 4/4 [00:00<00:00,  4.88it/s]"
     ]
    },
    {
     "name": "stdout",
     "output_type": "stream",
     "text": [
      "                   all        100        263      0.803       0.73      0.818      0.642\n"
     ]
    },
    {
     "name": "stderr",
     "output_type": "stream",
     "text": [
      "\n"
     ]
    },
    {
     "name": "stdout",
     "output_type": "stream",
     "text": [
      "\n",
      "      Epoch    GPU_mem   box_loss   cls_loss   dfl_loss  Instances       Size\n"
     ]
    },
    {
     "name": "stderr",
     "output_type": "stream",
     "text": [
      "     84/100      5.18G     0.6072     0.4526       1.16         14        640: 100%|██████████| 86/86 [00:23<00:00,  3.68it/s]\n",
      "                 Class     Images  Instances      Box(P          R      mAP50  mAP50-95): 100%|██████████| 4/4 [00:00<00:00,  4.57it/s]"
     ]
    },
    {
     "name": "stdout",
     "output_type": "stream",
     "text": [
      "                   all        100        263      0.804      0.735      0.829      0.657\n"
     ]
    },
    {
     "name": "stderr",
     "output_type": "stream",
     "text": [
      "\n"
     ]
    },
    {
     "name": "stdout",
     "output_type": "stream",
     "text": [
      "\n",
      "      Epoch    GPU_mem   box_loss   cls_loss   dfl_loss  Instances       Size\n"
     ]
    },
    {
     "name": "stderr",
     "output_type": "stream",
     "text": [
      "     85/100      5.16G     0.6036     0.4392      1.174         28        640: 100%|██████████| 86/86 [00:23<00:00,  3.64it/s]\n",
      "                 Class     Images  Instances      Box(P          R      mAP50  mAP50-95): 100%|██████████| 4/4 [00:00<00:00,  4.94it/s]"
     ]
    },
    {
     "name": "stdout",
     "output_type": "stream",
     "text": [
      "                   all        100        263      0.819      0.692      0.812      0.639\n"
     ]
    },
    {
     "name": "stderr",
     "output_type": "stream",
     "text": [
      "\n"
     ]
    },
    {
     "name": "stdout",
     "output_type": "stream",
     "text": [
      "\n",
      "      Epoch    GPU_mem   box_loss   cls_loss   dfl_loss  Instances       Size\n"
     ]
    },
    {
     "name": "stderr",
     "output_type": "stream",
     "text": [
      "     86/100      5.18G     0.5953      0.436      1.159         18        640: 100%|██████████| 86/86 [00:23<00:00,  3.68it/s]\n",
      "                 Class     Images  Instances      Box(P          R      mAP50  mAP50-95): 100%|██████████| 4/4 [00:00<00:00,  4.93it/s]"
     ]
    },
    {
     "name": "stdout",
     "output_type": "stream",
     "text": [
      "                   all        100        263       0.78      0.713      0.821      0.644\n"
     ]
    },
    {
     "name": "stderr",
     "output_type": "stream",
     "text": [
      "\n"
     ]
    },
    {
     "name": "stdout",
     "output_type": "stream",
     "text": [
      "\n",
      "      Epoch    GPU_mem   box_loss   cls_loss   dfl_loss  Instances       Size\n"
     ]
    },
    {
     "name": "stderr",
     "output_type": "stream",
     "text": [
      "     87/100      5.16G     0.5969     0.4326      1.165         13        640: 100%|██████████| 86/86 [00:23<00:00,  3.65it/s]\n",
      "                 Class     Images  Instances      Box(P          R      mAP50  mAP50-95): 100%|██████████| 4/4 [00:00<00:00,  4.82it/s]"
     ]
    },
    {
     "name": "stdout",
     "output_type": "stream",
     "text": [
      "                   all        100        263      0.806      0.721      0.808       0.63\n"
     ]
    },
    {
     "name": "stderr",
     "output_type": "stream",
     "text": [
      "\n"
     ]
    },
    {
     "name": "stdout",
     "output_type": "stream",
     "text": [
      "\n",
      "      Epoch    GPU_mem   box_loss   cls_loss   dfl_loss  Instances       Size\n"
     ]
    },
    {
     "name": "stderr",
     "output_type": "stream",
     "text": [
      "     88/100      5.18G     0.5986     0.4381      1.161         21        640: 100%|██████████| 86/86 [00:23<00:00,  3.67it/s]\n",
      "                 Class     Images  Instances      Box(P          R      mAP50  mAP50-95): 100%|██████████| 4/4 [00:00<00:00,  4.87it/s]"
     ]
    },
    {
     "name": "stdout",
     "output_type": "stream",
     "text": [
      "                   all        100        263      0.752      0.736      0.804      0.632\n"
     ]
    },
    {
     "name": "stderr",
     "output_type": "stream",
     "text": [
      "\n"
     ]
    },
    {
     "name": "stdout",
     "output_type": "stream",
     "text": [
      "\n",
      "      Epoch    GPU_mem   box_loss   cls_loss   dfl_loss  Instances       Size\n"
     ]
    },
    {
     "name": "stderr",
     "output_type": "stream",
     "text": [
      "     89/100      5.23G      0.581     0.4212      1.149         29        640: 100%|██████████| 86/86 [00:23<00:00,  3.64it/s]\n",
      "                 Class     Images  Instances      Box(P          R      mAP50  mAP50-95): 100%|██████████| 4/4 [00:00<00:00,  4.71it/s]"
     ]
    },
    {
     "name": "stdout",
     "output_type": "stream",
     "text": [
      "                   all        100        263      0.741      0.774      0.807      0.651\n"
     ]
    },
    {
     "name": "stderr",
     "output_type": "stream",
     "text": [
      "\n"
     ]
    },
    {
     "name": "stdout",
     "output_type": "stream",
     "text": [
      "\n",
      "      Epoch    GPU_mem   box_loss   cls_loss   dfl_loss  Instances       Size\n"
     ]
    },
    {
     "name": "stderr",
     "output_type": "stream",
     "text": [
      "     90/100      5.18G     0.5842     0.4227      1.156         13        640: 100%|██████████| 86/86 [00:23<00:00,  3.66it/s]\n",
      "                 Class     Images  Instances      Box(P          R      mAP50  mAP50-95): 100%|██████████| 4/4 [00:00<00:00,  4.91it/s]"
     ]
    },
    {
     "name": "stdout",
     "output_type": "stream",
     "text": [
      "                   all        100        263      0.767      0.744      0.816      0.632\n"
     ]
    },
    {
     "name": "stderr",
     "output_type": "stream",
     "text": [
      "\n"
     ]
    },
    {
     "name": "stdout",
     "output_type": "stream",
     "text": [
      "Closing dataloader mosaic\n",
      "\n",
      "      Epoch    GPU_mem   box_loss   cls_loss   dfl_loss  Instances       Size\n"
     ]
    },
    {
     "name": "stderr",
     "output_type": "stream",
     "text": [
      "     91/100      5.15G     0.5223     0.3011      1.125         18        640: 100%|██████████| 86/86 [00:24<00:00,  3.45it/s]\n",
      "                 Class     Images  Instances      Box(P          R      mAP50  mAP50-95): 100%|██████████| 4/4 [00:00<00:00,  4.84it/s]"
     ]
    },
    {
     "name": "stdout",
     "output_type": "stream",
     "text": [
      "                   all        100        263      0.801       0.71      0.793      0.604\n"
     ]
    },
    {
     "name": "stderr",
     "output_type": "stream",
     "text": [
      "\n"
     ]
    },
    {
     "name": "stdout",
     "output_type": "stream",
     "text": [
      "\n",
      "      Epoch    GPU_mem   box_loss   cls_loss   dfl_loss  Instances       Size\n"
     ]
    },
    {
     "name": "stderr",
     "output_type": "stream",
     "text": [
      "     92/100      5.18G     0.5189     0.2928      1.124          8        640: 100%|██████████| 86/86 [00:23<00:00,  3.67it/s]\n",
      "                 Class     Images  Instances      Box(P          R      mAP50  mAP50-95): 100%|██████████| 4/4 [00:00<00:00,  4.88it/s]"
     ]
    },
    {
     "name": "stdout",
     "output_type": "stream",
     "text": [
      "                   all        100        263      0.748      0.737      0.787      0.605\n"
     ]
    },
    {
     "name": "stderr",
     "output_type": "stream",
     "text": [
      "\n"
     ]
    },
    {
     "name": "stdout",
     "output_type": "stream",
     "text": [
      "\n",
      "      Epoch    GPU_mem   box_loss   cls_loss   dfl_loss  Instances       Size\n"
     ]
    },
    {
     "name": "stderr",
     "output_type": "stream",
     "text": [
      "     93/100      5.16G     0.5019     0.2855      1.103          5        640: 100%|██████████| 86/86 [00:23<00:00,  3.68it/s]\n",
      "                 Class     Images  Instances      Box(P          R      mAP50  mAP50-95): 100%|██████████| 4/4 [00:00<00:00,  4.95it/s]"
     ]
    },
    {
     "name": "stdout",
     "output_type": "stream",
     "text": [
      "                   all        100        263      0.733      0.758      0.795      0.616\n"
     ]
    },
    {
     "name": "stderr",
     "output_type": "stream",
     "text": [
      "\n"
     ]
    },
    {
     "name": "stdout",
     "output_type": "stream",
     "text": [
      "\n",
      "      Epoch    GPU_mem   box_loss   cls_loss   dfl_loss  Instances       Size\n"
     ]
    },
    {
     "name": "stderr",
     "output_type": "stream",
     "text": [
      "     94/100      5.18G     0.5037     0.2775      1.103         13        640: 100%|██████████| 86/86 [00:23<00:00,  3.69it/s]\n",
      "                 Class     Images  Instances      Box(P          R      mAP50  mAP50-95): 100%|██████████| 4/4 [00:00<00:00,  4.74it/s]"
     ]
    },
    {
     "name": "stdout",
     "output_type": "stream",
     "text": [
      "                   all        100        263      0.735      0.769      0.789      0.604\n"
     ]
    },
    {
     "name": "stderr",
     "output_type": "stream",
     "text": [
      "\n"
     ]
    },
    {
     "name": "stdout",
     "output_type": "stream",
     "text": [
      "\n",
      "      Epoch    GPU_mem   box_loss   cls_loss   dfl_loss  Instances       Size\n"
     ]
    },
    {
     "name": "stderr",
     "output_type": "stream",
     "text": [
      "     95/100      5.16G     0.4853     0.2718      1.091         10        640: 100%|██████████| 86/86 [00:23<00:00,  3.69it/s]\n",
      "                 Class     Images  Instances      Box(P          R      mAP50  mAP50-95): 100%|██████████| 4/4 [00:00<00:00,  4.94it/s]"
     ]
    },
    {
     "name": "stdout",
     "output_type": "stream",
     "text": [
      "                   all        100        263      0.727      0.758      0.784      0.605\n"
     ]
    },
    {
     "name": "stderr",
     "output_type": "stream",
     "text": [
      "\n"
     ]
    },
    {
     "name": "stdout",
     "output_type": "stream",
     "text": [
      "\n",
      "      Epoch    GPU_mem   box_loss   cls_loss   dfl_loss  Instances       Size\n"
     ]
    },
    {
     "name": "stderr",
     "output_type": "stream",
     "text": [
      "     96/100      5.18G     0.4806     0.2649      1.082         16        640: 100%|██████████| 86/86 [00:23<00:00,  3.70it/s]\n",
      "                 Class     Images  Instances      Box(P          R      mAP50  mAP50-95): 100%|██████████| 4/4 [00:00<00:00,  4.60it/s]"
     ]
    },
    {
     "name": "stdout",
     "output_type": "stream",
     "text": [
      "                   all        100        263      0.786      0.714      0.795      0.615\n"
     ]
    },
    {
     "name": "stderr",
     "output_type": "stream",
     "text": [
      "\n"
     ]
    },
    {
     "name": "stdout",
     "output_type": "stream",
     "text": [
      "\n",
      "      Epoch    GPU_mem   box_loss   cls_loss   dfl_loss  Instances       Size\n"
     ]
    },
    {
     "name": "stderr",
     "output_type": "stream",
     "text": [
      "     97/100      5.16G     0.4734     0.2639      1.067          9        640: 100%|██████████| 86/86 [00:23<00:00,  3.71it/s]\n",
      "                 Class     Images  Instances      Box(P          R      mAP50  mAP50-95): 100%|██████████| 4/4 [00:00<00:00,  4.57it/s]"
     ]
    },
    {
     "name": "stdout",
     "output_type": "stream",
     "text": [
      "                   all        100        263       0.78      0.729       0.81      0.624\n"
     ]
    },
    {
     "name": "stderr",
     "output_type": "stream",
     "text": [
      "\n"
     ]
    },
    {
     "name": "stdout",
     "output_type": "stream",
     "text": [
      "\n",
      "      Epoch    GPU_mem   box_loss   cls_loss   dfl_loss  Instances       Size\n"
     ]
    },
    {
     "name": "stderr",
     "output_type": "stream",
     "text": [
      "     98/100      5.18G     0.4681     0.2523      1.059          7        640: 100%|██████████| 86/86 [00:23<00:00,  3.72it/s]\n",
      "                 Class     Images  Instances      Box(P          R      mAP50  mAP50-95): 100%|██████████| 4/4 [00:00<00:00,  4.77it/s]"
     ]
    },
    {
     "name": "stdout",
     "output_type": "stream",
     "text": [
      "                   all        100        263      0.763      0.746      0.796      0.611\n"
     ]
    },
    {
     "name": "stderr",
     "output_type": "stream",
     "text": [
      "\n"
     ]
    },
    {
     "name": "stdout",
     "output_type": "stream",
     "text": [
      "\n",
      "      Epoch    GPU_mem   box_loss   cls_loss   dfl_loss  Instances       Size\n"
     ]
    },
    {
     "name": "stderr",
     "output_type": "stream",
     "text": [
      "     99/100      5.16G     0.4646     0.2514      1.054         20        640: 100%|██████████| 86/86 [00:23<00:00,  3.70it/s]\n",
      "                 Class     Images  Instances      Box(P          R      mAP50  mAP50-95): 100%|██████████| 4/4 [00:00<00:00,  4.66it/s]"
     ]
    },
    {
     "name": "stdout",
     "output_type": "stream",
     "text": [
      "                   all        100        263      0.798      0.731      0.798      0.608\n"
     ]
    },
    {
     "name": "stderr",
     "output_type": "stream",
     "text": [
      "\n"
     ]
    },
    {
     "name": "stdout",
     "output_type": "stream",
     "text": [
      "\n",
      "      Epoch    GPU_mem   box_loss   cls_loss   dfl_loss  Instances       Size\n"
     ]
    },
    {
     "name": "stderr",
     "output_type": "stream",
     "text": [
      "    100/100      5.18G     0.4685     0.2609      1.081          8        640: 100%|██████████| 86/86 [00:23<00:00,  3.70it/s]\n",
      "                 Class     Images  Instances      Box(P          R      mAP50  mAP50-95): 100%|██████████| 4/4 [00:00<00:00,  4.80it/s]"
     ]
    },
    {
     "name": "stdout",
     "output_type": "stream",
     "text": [
      "                   all        100        263      0.791      0.726       0.79      0.619\n"
     ]
    },
    {
     "name": "stderr",
     "output_type": "stream",
     "text": [
      "\n"
     ]
    },
    {
     "name": "stdout",
     "output_type": "stream",
     "text": [
      "\n",
      "100 epochs completed in 0.713 hours.\n",
      "Optimizer stripped from runs\\detect\\train5\\weights\\last.pt, 15.3MB\n",
      "Optimizer stripped from runs\\detect\\train5\\weights\\best.pt, 15.2MB\n",
      "\n",
      "Validating runs\\detect\\train5\\weights\\best.pt...\n",
      "Ultralytics YOLOv8.2.54  Python-3.11.8 torch-2.3.0+cu118 CUDA:0 (NVIDIA GeForce RTX 4060 Laptop GPU, 8188MiB)\n",
      "YOLOv9s summary (fused): 486 layers, 7172506 parameters, 0 gradients, 26.8 GFLOPs\n"
     ]
    },
    {
     "name": "stderr",
     "output_type": "stream",
     "text": [
      "                 Class     Images  Instances      Box(P          R      mAP50  mAP50-95): 100%|██████████| 4/4 [00:01<00:00,  3.71it/s]\n"
     ]
    },
    {
     "name": "stdout",
     "output_type": "stream",
     "text": [
      "                   all        100        263      0.801      0.736      0.829      0.658\n",
      "                 bread          4          7      0.495      0.857      0.801      0.739\n",
      "               cabbage          9          9      0.807      0.889      0.818      0.538\n",
      "                carrot          8         26          1      0.769      0.883       0.68\n",
      "                cheese          9         20       0.98       0.55      0.902      0.659\n",
      "               chicken         10         35      0.898      0.502      0.687       0.43\n",
      "              cucumber          7         24      0.802      0.708      0.819      0.673\n",
      "                   egg          7         21      0.911      0.485      0.847      0.769\n",
      "                  meat          7         17      0.729      0.471      0.544      0.316\n",
      "                  milk          5          7      0.686          1      0.995      0.737\n",
      "                 onion          6         22      0.704      0.636      0.758      0.557\n",
      "                potato          6         33      0.616      0.922      0.883       0.79\n",
      "                  rice          6         10      0.931        0.6       0.76      0.656\n",
      "                  spam          7          9      0.803          1      0.984      0.856\n",
      "                tomato          9         23      0.855      0.913      0.929      0.807\n",
      "Speed: 0.2ms preprocess, 6.2ms inference, 0.0ms loss, 0.9ms postprocess per image\n",
      "Results saved to \u001b[1mruns\\detect\\train5\u001b[0m\n",
      "\n",
      "image 1/101 c:\\Users\\user\\Desktop\\FINAL\\final-project\\16\\data\\2\\test\\images\\-2-_jpeg.rf.2bec9dd9e9fbb9116d7331471107a100.jpg: 640x640 1 cheese, 36.9ms\n",
      "image 2/101 c:\\Users\\user\\Desktop\\FINAL\\final-project\\16\\data\\2\\test\\images\\-2-_jpeg.rf.31e8e3171a6539b6bd24522f2a844d53.jpg: 640x640 2 breads, 3 spams, 32.9ms\n",
      "image 3/101 c:\\Users\\user\\Desktop\\FINAL\\final-project\\16\\data\\2\\test\\images\\-2-_jpeg.rf.ad27951133062bbf27e8cde72617f56c.jpg: 640x640 2 eggs, 32.9ms\n",
      "image 4/101 c:\\Users\\user\\Desktop\\FINAL\\final-project\\16\\data\\2\\test\\images\\-3-_jpeg.rf.7c95132595c0d60e304eeb6a5af284c3.jpg: 640x640 1 spam, 33.9ms\n",
      "image 5/101 c:\\Users\\user\\Desktop\\FINAL\\final-project\\16\\data\\2\\test\\images\\-3-_jpeg.rf.bd016323f5568d44ecde4d0d46c7fbf0.jpg: 640x640 4 eggs, 23.9ms\n",
      "image 6/101 c:\\Users\\user\\Desktop\\FINAL\\final-project\\16\\data\\2\\test\\images\\-4-_jpeg.rf.23ed7a79f2a5516397474bbffc643333.jpg: 640x640 6 eggs, 24.9ms\n",
      "image 7/101 c:\\Users\\user\\Desktop\\FINAL\\final-project\\16\\data\\2\\test\\images\\-5-_jpeg.rf.cb75d3bdfa660805b2322202b34632fb.jpg: 640x640 10 potatos, 23.9ms\n",
      "image 8/101 c:\\Users\\user\\Desktop\\FINAL\\final-project\\16\\data\\2\\test\\images\\-_-08_jpeg.rf.ce41ef9ce628d1c69512de761384bdda.jpg: 640x640 2 rices, 1 tomato, 28.9ms\n",
      "image 9/101 c:\\Users\\user\\Desktop\\FINAL\\final-project\\16\\data\\2\\test\\images\\-_jpeg.rf.48123a3f425bc20cc28aee1773751b34.jpg: 640x640 5 meats, 30.9ms\n",
      "image 10/101 c:\\Users\\user\\Desktop\\FINAL\\final-project\\16\\data\\2\\test\\images\\-_jpeg.rf.71398f3c1b4d9391810c226f50b310f1.jpg: 640x640 1 meat, 19.9ms\n",
      "image 11/101 c:\\Users\\user\\Desktop\\FINAL\\final-project\\16\\data\\2\\test\\images\\0000006609258_i1_1100_jpeg.rf.d30b6389dff01bce0a478d4be0ccdb77.jpg: 640x640 1 spam, 20.9ms\n",
      "image 12/101 c:\\Users\\user\\Desktop\\FINAL\\final-project\\16\\data\\2\\test\\images\\0228_white_rice_TND_jpeg.rf.267c81931575b32e88388ee31cd1a177.jpg: 640x640 1 rice, 17.9ms\n",
      "image 13/101 c:\\Users\\user\\Desktop\\FINAL\\final-project\\16\\data\\2\\test\\images\\06013295_1_960_jpeg.rf.ba3ef5cc778c4ec9af79ee34462778e8.jpg: 640x640 1 spam, 16.9ms\n",
      "image 14/101 c:\\Users\\user\\Desktop\\FINAL\\final-project\\16\\data\\2\\test\\images\\0e6f33bf591698825018b83608f9fbf71_png.rf.b1a2335a79f1dc948284dc96a80caaa7.jpg: 640x640 1 bread, 18.9ms\n",
      "image 15/101 c:\\Users\\user\\Desktop\\FINAL\\final-project\\16\\data\\2\\test\\images\\1000084401956_i1_1100_jpeg.rf.69e06825ad2ad18171240322fc199ba0.jpg: 640x640 1 chicken, 21.9ms\n",
      "image 16/101 c:\\Users\\user\\Desktop\\FINAL\\final-project\\16\\data\\2\\test\\images\\1000_F_446542059_0Ad04MgoiXuqAYKSWGQUUuZzBMio8Ual_jpeg.rf.1e0374f56e830bd2d5e0e6094f1b18d6.jpg: 640x640 1 chicken, 8 eggs, 17.3ms\n",
      "image 17/101 c:\\Users\\user\\Desktop\\FINAL\\final-project\\16\\data\\2\\test\\images\\106356_200066_jpeg.rf.bad5fe06e6ae2607027bdff295500262.jpg: 640x640 2 meats, 14.9ms\n",
      "image 18/101 c:\\Users\\user\\Desktop\\FINAL\\final-project\\16\\data\\2\\test\\images\\113636800-2_jpg.rf.b26b030ad74e9992b034c4d864e2d7d3.jpg: 640x640 6 eggs, 23.9ms\n",
      "image 19/101 c:\\Users\\user\\Desktop\\FINAL\\final-project\\16\\data\\2\\test\\images\\148b5904-cd23-4884-8625-a5b6a0e308fa_jpeg.rf.e131072e8ae11c3aeb9231ca56540c1c.jpg: 640x640 2 cheeses, 19.9ms\n",
      "image 20/101 c:\\Users\\user\\Desktop\\FINAL\\final-project\\16\\data\\2\\test\\images\\1631233154393_0_jpeg.rf.ba5724bda088b1996250a7dcaaec2ca5.jpg: 640x640 3 eggs, 14.9ms\n",
      "image 21/101 c:\\Users\\user\\Desktop\\FINAL\\final-project\\16\\data\\2\\test\\images\\1647415297128z0_jpeg.rf.9dbfdedb4cf853bfebb1ceb283f38abd.jpg: 640x640 1 chicken, 1 rice, 15.0ms\n",
      "image 22/101 c:\\Users\\user\\Desktop\\FINAL\\final-project\\16\\data\\2\\test\\images\\171015_rice_8_jpeg.rf.3063062e32047ea82ef8d1c965b7b30e.jpg: 640x640 1 bread, 14.0ms\n",
      "image 23/101 c:\\Users\\user\\Desktop\\FINAL\\final-project\\16\\data\\2\\test\\images\\1930-hard-boiled-egg-diabetic_AS_163304407_031920_3864451747_jpeg.rf.bb5df984996b4ec51d9fbd2e9abe5156.jpg: 640x640 3 eggs, 14.9ms\n",
      "image 24/101 c:\\Users\\user\\Desktop\\FINAL\\final-project\\16\\data\\2\\test\\images\\20200826140101_1104394444_2_jpeg.rf.621d9d9bc7b77a1d142b074d7c6b8216.jpg: 640x640 2 cheeses, 14.0ms\n",
      "image 25/101 c:\\Users\\user\\Desktop\\FINAL\\final-project\\16\\data\\2\\test\\images\\20220527_3932352719853_jpeg.rf.50370968922be72558eedb3c1452e91a.jpg: 640x640 2 cheeses, 14.0ms\n",
      "image 26/101 c:\\Users\\user\\Desktop\\FINAL\\final-project\\16\\data\\2\\test\\images\\2022082701080807_jpeg.rf.56df5d933959573aa0bfb7196dcf4822.jpg: 640x640 1 bread, 14.9ms\n",
      "image 27/101 c:\\Users\\user\\Desktop\\FINAL\\final-project\\16\\data\\2\\test\\images\\20221005165757_1804076_1200_801_jpeg.rf.6cc0418097d3d2f966cfc2153d2ae84f.jpg: 640x640 3 chickens, 2 spams, 13.0ms\n",
      "image 28/101 c:\\Users\\user\\Desktop\\FINAL\\final-project\\16\\data\\2\\test\\images\\2022123014523369435_1672379554_jpeg.rf.5e1a57e138cdb9b287a91d89236e6f9b.jpg: 640x640 2 spams, 12.9ms\n",
      "image 29/101 c:\\Users\\user\\Desktop\\FINAL\\final-project\\16\\data\\2\\test\\images\\20230205502074_jpeg.rf.e91b86e8605c9649d40225faa25d7deb.jpg: 640x640 3 meats, 13.0ms\n",
      "image 30/101 c:\\Users\\user\\Desktop\\FINAL\\final-project\\16\\data\\2\\test\\images\\205528693_-cnt-_1668560978_w-res-_jpeg.rf.7d0af7b3ec41d872ab4280631e3a99ca.jpg: 640x640 7 spams, 13.9ms\n",
      "image 31/101 c:\\Users\\user\\Desktop\\FINAL\\final-project\\16\\data\\2\\test\\images\\25345F42552C806E1B_jpeg.rf.53ef31a676e8cd4cbd6d7ceba421d610.jpg: 640x640 2 chickens, 15.9ms\n",
      "image 32/101 c:\\Users\\user\\Desktop\\FINAL\\final-project\\16\\data\\2\\test\\images\\256AD2395558797E1E_jpeg.rf.7627196f06f0fcf1b06378bc237e9b4e.jpg: 640x640 1 bread, 16.9ms\n",
      "image 33/101 c:\\Users\\user\\Desktop\\FINAL\\final-project\\16\\data\\2\\test\\images\\2dbce5cd-ed5d-48be-8ef5-6eb1c7b42078_jpeg.rf.16a0a2ef341b6d1b6946d6e84cae8e1d.jpg: 640x640 1 rice, 18.9ms\n",
      "image 34/101 c:\\Users\\user\\Desktop\\FINAL\\final-project\\16\\data\\2\\test\\images\\3-delicious-rice-recipes_jpeg.rf.67b01b07a1e5ca86fa016db7f56bea37.jpg: 640x640 1 chicken, 1 rice, 13.0ms\n",
      "image 35/101 c:\\Users\\user\\Desktop\\FINAL\\final-project\\16\\data\\2\\test\\images\\36bdd674-f4b3-497b-8b5a-3518598bed20_lg_sq_jpeg.rf.6adcee00abe7f10ccda5d991393c6974.jpg: 640x640 4 eggs, 4 onions, 2 potatos, 12.8ms\n",
      "image 36/101 c:\\Users\\user\\Desktop\\FINAL\\final-project\\16\\data\\2\\test\\images\\400x400-1-_jpeg.rf.76c46bf80371f5f8b0d50101e960c2ad.jpg: 640x640 5 meats, 1 milk, 12.7ms\n",
      "image 37/101 c:\\Users\\user\\Desktop\\FINAL\\final-project\\16\\data\\2\\test\\images\\400x400_jpeg.rf.5ef8a5339798cd8beebfc48772196f0d.jpg: 640x640 2 spams, 13.6ms\n",
      "image 38/101 c:\\Users\\user\\Desktop\\FINAL\\final-project\\16\\data\\2\\test\\images\\4c20b419107945fc98f9ac6f873ea0c820170627122158_jpeg.rf.68cd2898b0c97eea1cb1427b2b730151.jpg: 640x640 2 chickens, 1 meat, 13.4ms\n",
      "image 39/101 c:\\Users\\user\\Desktop\\FINAL\\final-project\\16\\data\\2\\test\\images\\550_jpeg.rf.3d901ab069a0d87b6dec96d74b6d4d4e.jpg: 640x640 2 meats, 14.5ms\n",
      "image 40/101 c:\\Users\\user\\Desktop\\FINAL\\final-project\\16\\data\\2\\test\\images\\601757ca0ae4d2738de6_jpeg.rf.020ad40d65dfc57b9cbf8fb09d3943b2.jpg: 640x640 3 spams, 14.0ms\n",
      "image 41/101 c:\\Users\\user\\Desktop\\FINAL\\final-project\\16\\data\\2\\test\\images\\6914f41a612520659dc701a423bfc8c01_jpeg.rf.305664ebee35c5cc5fdf731960d689c7.jpg: 640x640 1 bread, 2 meats, 13.0ms\n",
      "image 42/101 c:\\Users\\user\\Desktop\\FINAL\\final-project\\16\\data\\2\\test\\images\\72_2021080812372911_jpeg.rf.ed9a553322ccb56d262866003459e3d5.jpg: 640x640 12 spams, 13.9ms\n",
      "image 43/101 c:\\Users\\user\\Desktop\\FINAL\\final-project\\16\\data\\2\\test\\images\\820b460a-ab70-4fdf-afe8-ee6ec5f0ea28_lg_sq_jpeg.rf.9aba3b2e056a8db9d8ef885b743916c6.jpg: 640x640 1 bread, 3 meats, 13.3ms\n",
      "image 44/101 c:\\Users\\user\\Desktop\\FINAL\\final-project\\16\\data\\2\\test\\images\\9343bda5df24cf2c59727ebed134d6ec_jpeg.rf.f6273e6d0b8f2b1f81131e6db8285a71.jpg: 640x640 2 spams, 14.1ms\n",
      "image 45/101 c:\\Users\\user\\Desktop\\FINAL\\final-project\\16\\data\\2\\test\\images\\93a2083fcb78ea5e1b53369115d7e6121_f_jpeg.rf.f25a1133e463b91b20407eeca8efe379.jpg: 640x640 1 rice, 14.0ms\n",
      "image 46/101 c:\\Users\\user\\Desktop\\FINAL\\final-project\\16\\data\\2\\test\\images\\99-24812305-1_jpg.rf.acc03456af314adaf7355923f3f4cc58.jpg: 640x640 3 eggs, 13.0ms\n",
      "image 47/101 c:\\Users\\user\\Desktop\\FINAL\\final-project\\16\\data\\2\\test\\images\\9943C14A5E1335490B_jpeg.rf.ae532b285b6789486481f12f79e081f6.jpg: 640x640 2 meats, 15.9ms\n",
      "image 48/101 c:\\Users\\user\\Desktop\\FINAL\\final-project\\16\\data\\2\\test\\images\\99DCAA3C5E1333C62A_jpeg.rf.469c4944e718ede0e1dd2b6ee09c6761.jpg: 640x640 2 meats, 16.9ms\n",
      "image 49/101 c:\\Users\\user\\Desktop\\FINAL\\final-project\\16\\data\\2\\test\\images\\CI0009_1-min_jpeg.rf.e312e323f1026e1d6c86879529ef79e2.jpg: 640x640 2 spams, 14.0ms\n",
      "image 50/101 c:\\Users\\user\\Desktop\\FINAL\\final-project\\16\\data\\2\\test\\images\\DSC_6085_jpeg.rf.92b6846e7a8193c15a397a30c24d2153.jpg: 640x640 2 eggs, 1 rice, 2 tomatos, 14.0ms\n",
      "image 51/101 c:\\Users\\user\\Desktop\\FINAL\\final-project\\16\\data\\2\\test\\images\\Egg_baking-ingredients-e1584136402126-400x400_jpeg.rf.84e7390323edb3b8ac8d43dc1fac2b84.jpg: 640x640 3 potatos, 14.0ms\n",
      "image 52/101 c:\\Users\\user\\Desktop\\FINAL\\final-project\\16\\data\\2\\test\\images\\IMG_8222_jpeg.rf.78fffcb37cc31f6ae7d8df535656d032.jpg: 640x640 2 cheeses, 15.0ms\n",
      "image 53/101 c:\\Users\\user\\Desktop\\FINAL\\final-project\\16\\data\\2\\test\\images\\IO9FghimTO77jqdi-HILd6vOliF4_jpeg.rf.651e7508815ea7b746fdda5b11f62bec.jpg: 640x640 1 rice, 18.9ms\n",
      "image 54/101 c:\\Users\\user\\Desktop\\FINAL\\final-project\\16\\data\\2\\test\\images\\Image_21_jpg.rf.58d2e7ab4303ad9fcd2d519596c4e82f.jpg: 640x640 2 onions, 20.9ms\n",
      "image 55/101 c:\\Users\\user\\Desktop\\FINAL\\final-project\\16\\data\\2\\test\\images\\Image_22_jpg.rf.3be7db07734f8867be817b3e3d7039fc.jpg: 640x640 24 onions, 16.9ms\n",
      "image 56/101 c:\\Users\\user\\Desktop\\FINAL\\final-project\\16\\data\\2\\test\\images\\Image_24_jpg.rf.6c229b0a842fdd82e17250ccf3fd655a.jpg: 640x640 9 onions, 13.9ms\n",
      "image 57/101 c:\\Users\\user\\Desktop\\FINAL\\final-project\\16\\data\\2\\test\\images\\Image_30_jpg.rf.3e0ed34be24d1463b06365488ff96274.jpg: 640x640 3 onions, 18.9ms\n",
      "image 58/101 c:\\Users\\user\\Desktop\\FINAL\\final-project\\16\\data\\2\\test\\images\\Image_36_jpg.rf.3ebea02ed7f815b3b0edfb67665bd789.jpg: 640x640 4 onions, 17.9ms\n",
      "image 59/101 c:\\Users\\user\\Desktop\\FINAL\\final-project\\16\\data\\2\\test\\images\\Image_50_jpg.rf.38d1aba2dfdda68f058083935424fa11.jpg: 640x640 1 onion, 18.7ms\n",
      "image 60/101 c:\\Users\\user\\Desktop\\FINAL\\final-project\\16\\data\\2\\test\\images\\Image_53_jpg.rf.1bb71cd6671097788b793429b6f79d68.jpg: 640x640 1 chicken, 1 onion, 12.9ms\n",
      "image 61/101 c:\\Users\\user\\Desktop\\FINAL\\final-project\\16\\data\\2\\test\\images\\Image_69_jpg.rf.e3bb21a15afdef4cafc34eff95c67ce9.jpg: 640x640 1 onion, 20.8ms\n",
      "image 62/101 c:\\Users\\user\\Desktop\\FINAL\\final-project\\16\\data\\2\\test\\images\\Image_78_png.rf.5fbf216adcfeaebdaca5cce96f3feb51.jpg: 640x640 1 onion, 19.9ms\n",
      "image 63/101 c:\\Users\\user\\Desktop\\FINAL\\final-project\\16\\data\\2\\test\\images\\Image_85_jpg.rf.f41992d37ad5001818f72df09711b33b.jpg: 640x640 2 onions, 14.0ms\n",
      "image 64/101 c:\\Users\\user\\Desktop\\FINAL\\final-project\\16\\data\\2\\test\\images\\Instant-pot-rice-pot-in-pot-L1-Paint-the-Kitchen-Red-scaled_jpeg.rf.d01629ce22375a77d865486633d34ee8.jpg: 640x640 2 rices, 1 tomato, 13.0ms\n",
      "image 65/101 c:\\Users\\user\\Desktop\\FINAL\\final-project\\16\\data\\2\\test\\images\\KakaoTalk_20200321_185424201_03_jpeg.rf.80b43ef20121f486b42e393786aead27.jpg: 640x640 1 carrot, 1 cucumber, 1 spam, 21.9ms\n",
      "image 66/101 c:\\Users\\user\\Desktop\\FINAL\\final-project\\16\\data\\2\\test\\images\\Korean-purple-rice-cooked-in-stone-pot-thumbnail_jpeg.rf.aaaaf78160fdce12837a95dc0a5ca82c.jpg: 640x640 1 meat, 13.0ms\n",
      "image 67/101 c:\\Users\\user\\Desktop\\FINAL\\final-project\\16\\data\\2\\test\\images\\P7021365_jpeg.rf.9ad4eca3ad41fd4ede5efcd68afcbeee.jpg: 640x640 1 bread, 1 chicken, 1 egg, 13.0ms\n",
      "image 68/101 c:\\Users\\user\\Desktop\\FINAL\\final-project\\16\\data\\2\\test\\images\\SE-48345fc4-e858-4aec-8dab-c11a7dcd30f2_jpeg.rf.6e1f5010ecbe715a67b38d7961cf285d.jpg: 640x640 2 rices, 14.0ms\n",
      "image 69/101 c:\\Users\\user\\Desktop\\FINAL\\final-project\\16\\data\\2\\test\\images\\SE-87c7080b-024b-4fdf-b3c5-41109dc8676e_jpeg.rf.90014e902a65ccb4c3395d5b66fb18b0.jpg: 640x640 7 chickens, 1 meat, 18.1ms\n",
      "image 70/101 c:\\Users\\user\\Desktop\\FINAL\\final-project\\16\\data\\2\\test\\images\\SE-9c1e4f91-f2e0-423f-9eb4-6f228429119c_jpeg.rf.18a15b2117415549ccbb441d876b2531.jpg: 640x640 1 rice, 20.9ms\n",
      "image 71/101 c:\\Users\\user\\Desktop\\FINAL\\final-project\\16\\data\\2\\test\\images\\Shokupan-Failure-1_jpeg.rf.febb46673fe3ed4016ed856e0a554430.jpg: 640x640 1 bread, 19.9ms\n",
      "image 72/101 c:\\Users\\user\\Desktop\\FINAL\\final-project\\16\\data\\2\\test\\images\\Sudden_egg_allergy_in_adults_jpeg.rf.1c6b0f56bc9ae5316520ec0bd314d421.jpg: 640x640 5 eggs, 15.0ms\n",
      "image 73/101 c:\\Users\\user\\Desktop\\FINAL\\final-project\\16\\data\\2\\test\\images\\YJFIJDOYNNF3RBRZFDUCKE4W4E_jpeg.rf.cb8d7f875fa5fafea79d478e6f2d72ee.jpg: 640x640 1 rice, 20.9ms\n",
      "image 74/101 c:\\Users\\user\\Desktop\\FINAL\\final-project\\16\\data\\2\\test\\images\\cafb52f6411b673fafac2b85dbaa2e011_jpeg.rf.304cd5e448501c21521dc64aa93a9029.jpg: 640x640 4 eggs, 14.0ms\n",
      "image 75/101 c:\\Users\\user\\Desktop\\FINAL\\final-project\\16\\data\\2\\test\\images\\d466b3e663456d7d74f1fb8ab3e96297_png.rf.f8f893ea447912e6216a2f131ab7b831.jpg: 640x640 3 chickens, 13.9ms\n",
      "image 76/101 c:\\Users\\user\\Desktop\\FINAL\\final-project\\16\\data\\2\\test\\images\\e3afb878-6da5-4af5-8121-89d375efaf62_lg_sq_jpeg.rf.5a012adb0986003d4c83e5f0b47f58a8.jpg: 640x640 1 milk, 13.9ms\n",
      "image 77/101 c:\\Users\\user\\Desktop\\FINAL\\final-project\\16\\data\\2\\test\\images\\egg-featured-768x512_jpeg.rf.bbda691f547c358ca1706a6f1d70ebd8.jpg: 640x640 5 eggs, 12.9ms\n",
      "image 78/101 c:\\Users\\user\\Desktop\\FINAL\\final-project\\16\\data\\2\\test\\images\\eggs_jpeg.rf.2567963060f27f42a4f57188f3e9e323.jpg: 640x640 3 eggs, 1 onion, 14.0ms\n",
      "image 79/101 c:\\Users\\user\\Desktop\\FINAL\\final-project\\16\\data\\2\\test\\images\\fedd812123c9a71c3fade96e65994e361_jpeg.rf.144cae7f98f9087f267ddb5c9b3a801f.jpg: 640x640 4 breads, 12.9ms\n",
      "image 80/101 c:\\Users\\user\\Desktop\\FINAL\\final-project\\16\\data\\2\\test\\images\\gv10000317171_2_jpeg.rf.6f0bde2b3d72d218cd0a6ef0648a4e66.jpg: 640x640 4 cheeses, 2 spams, 12.9ms\n",
      "image 81/101 c:\\Users\\user\\Desktop\\FINAL\\final-project\\16\\data\\2\\test\\images\\gv20000103608_1_jpeg.rf.61c2dac7d7a6efc92c2e29666e2f7956.jpg: 640x640 1 rice, 14.9ms\n",
      "image 82/101 c:\\Users\\user\\Desktop\\FINAL\\final-project\\16\\data\\2\\test\\images\\how-to-boil-eggs-12_jpeg.rf.bf63aef8bf24e0f6ef942734c6edf050.jpg: 640x640 3 eggs, 13.0ms\n",
      "image 83/101 c:\\Users\\user\\Desktop\\FINAL\\final-project\\16\\data\\2\\test\\images\\image01_jpeg.rf.b4558f71af790511d27883562cde21c2.jpg: 640x640 1 bread, 5 meats, 14.0ms\n",
      "image 84/101 c:\\Users\\user\\Desktop\\FINAL\\final-project\\16\\data\\2\\test\\images\\image_6021424801500365827980_jpeg.rf.7a6e9d4954348c83d76ccec41daf6e9b.jpg: 640x640 1 rice, 14.0ms\n",
      "image 85/101 c:\\Users\\user\\Desktop\\FINAL\\final-project\\16\\data\\2\\test\\images\\image_9867442521500365176516_jpeg.rf.382a16f50d8ab27f198044af226aebb4.jpg: 640x640 1 rice, 15.9ms\n",
      "image 86/101 c:\\Users\\user\\Desktop\\FINAL\\final-project\\16\\data\\2\\test\\images\\image_jpeg.rf.444c160028813a4390a5e3259a8f9971.jpg: 640x640 6 eggs, 15.9ms\n",
      "image 87/101 c:\\Users\\user\\Desktop\\FINAL\\final-project\\16\\data\\2\\test\\images\\images_jpeg.rf.5ac001990f43afcca41e7d07d3f51b73.jpg: 640x640 10 meats, 19.9ms\n",
      "image 88/101 c:\\Users\\user\\Desktop\\FINAL\\final-project\\16\\data\\2\\test\\images\\img_jpeg.rf.3c5ee62e5d728d5c4f7920653976b37e.jpg: 640x640 5 meats, 13.0ms\n",
      "image 89/101 c:\\Users\\user\\Desktop\\FINAL\\final-project\\16\\data\\2\\test\\images\\img_jpeg.rf.a3db747b6f7f9909315246a8dc234c0d.jpg: 640x640 1 bread, 13.0ms\n",
      "image 90/101 c:\\Users\\user\\Desktop\\FINAL\\final-project\\16\\data\\2\\test\\images\\img_png.rf.5a1e0e8c9017d89a01de1c220ec10cbf.jpg: 640x640 2 meats, 14.9ms\n",
      "image 91/101 c:\\Users\\user\\Desktop\\FINAL\\final-project\\16\\data\\2\\test\\images\\instant-pot-rice-500x375_jpeg.rf.3583ea94d8ee6ccb55b79aebd3c69f9a.jpg: 640x640 1 rice, 14.0ms\n",
      "image 92/101 c:\\Users\\user\\Desktop\\FINAL\\final-project\\16\\data\\2\\test\\images\\istockphoto-178891822-170667a_jpeg.rf.7f4b7cf4991031194f3c6dc23bd8a5b7.jpg: 640x640 4 meats, 13.0ms\n",
      "image 93/101 c:\\Users\\user\\Desktop\\FINAL\\final-project\\16\\data\\2\\test\\images\\korean-purple-rice-4-500x500_jpeg.rf.4519a295739536f5e54c24b092167b1b.jpg: 640x640 (no detections), 13.0ms\n",
      "image 94/101 c:\\Users\\user\\Desktop\\FINAL\\final-project\\16\\data\\2\\test\\images\\news-p-v1-20230120-147dac61380c464d9ba7827977ca7e88_P1_jpg.rf.54992c147633a0a74553af5b6882ccb4.jpg: 640x640 11 spams, 14.0ms\n",
      "image 95/101 c:\\Users\\user\\Desktop\\FINAL\\final-project\\16\\data\\2\\test\\images\\pork-523102_1920_jpeg.rf.0ded3df4f21795d063f0870d665bce74.jpg: 640x640 1 chicken, 1 meat, 13.0ms\n",
      "image 96/101 c:\\Users\\user\\Desktop\\FINAL\\final-project\\16\\data\\2\\test\\images\\shutterstock_1020179506_jpeg.rf.6e8bf8f0d5b2168ca4ab12b588ec0ce5.jpg: 640x640 15 eggs, 13.0ms\n",
      "image 97/101 c:\\Users\\user\\Desktop\\FINAL\\final-project\\16\\data\\2\\test\\images\\temp_1569071381354-1438004020_jpeg.rf.5a00ae4db8703098263118e124e4a2b0.jpg: 640x640 1 spam, 21.9ms\n",
      "image 98/101 c:\\Users\\user\\Desktop\\FINAL\\final-project\\16\\data\\2\\test\\images\\thumb-4e24_1_450x520_jpeg.rf.be6eb6d97ae36e2d43ba4323cf23e5db.jpg: 640x640 1 spam, 14.9ms\n",
      "image 99/101 c:\\Users\\user\\Desktop\\FINAL\\final-project\\16\\data\\2\\test\\images\\thumb_289464709a64c-5363-4ded-9177-f1d566138c11_jpeg.rf.77c1ee40276b8f38b8b1c74b2c5f75d7.jpg: 640x640 1 meat, 13.0ms\n",
      "image 100/101 c:\\Users\\user\\Desktop\\FINAL\\final-project\\16\\data\\2\\test\\images\\trans-1-_jpeg.rf.90d66ee3b830a85d66f1486034ac04da.jpg: 640x640 1 chicken, 12.9ms\n",
      "image 101/101 c:\\Users\\user\\Desktop\\FINAL\\final-project\\16\\data\\2\\test\\images\\v4-460px-Make-a-Turbo-Sandwich-Step-1-Version-2_jpeg.rf.909089164067660a8956ab42f486cbfb.jpg: 640x640 1 bread, 12.9ms\n",
      "Speed: 2.4ms preprocess, 16.8ms inference, 1.3ms postprocess per image at shape (1, 3, 640, 640)\n",
      "Results saved to \u001b[1mruns\\detect\\train52\u001b[0m\n"
     ]
    }
   ],
   "source": [
    "from ultralytics import YOLO\n",
    "import torch\n",
    "\n",
    "model = YOLO('yolov9s.pt')\n",
    "\n",
    "model.train(data = r'C:\\Users\\user\\Desktop\\FINAL\\final-project\\16\\data\\2\\data.yaml', \n",
    "            epochs=100, \n",
    "            patience=30, \n",
    "            batch=16, \n",
    "            imgsz=640)\n",
    "\n",
    "torch.cuda.empty_cache()\n",
    "\n",
    "results = model.predict(source=\"test\\images\", save=True)"
   ]
  },
  {
   "cell_type": "code",
   "execution_count": null,
   "metadata": {},
   "outputs": [],
   "source": []
  }
 ],
 "metadata": {
  "kernelspec": {
   "display_name": "Python 3",
   "language": "python",
   "name": "python3"
  },
  "language_info": {
   "codemirror_mode": {
    "name": "ipython",
    "version": 3
   },
   "file_extension": ".py",
   "mimetype": "text/x-python",
   "name": "python",
   "nbconvert_exporter": "python",
   "pygments_lexer": "ipython3",
   "version": "3.11.8"
  }
 },
 "nbformat": 4,
 "nbformat_minor": 2
}
