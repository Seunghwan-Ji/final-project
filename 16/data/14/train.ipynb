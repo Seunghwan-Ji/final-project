{
 "cells": [
  {
   "cell_type": "code",
   "execution_count": 1,
   "metadata": {},
   "outputs": [
    {
     "name": "stdout",
     "output_type": "stream",
     "text": [
      "New https://pypi.org/project/ultralytics/8.2.60 available  Update with 'pip install -U ultralytics'\n",
      "Ultralytics YOLOv8.2.54  Python-3.11.8 torch-2.3.0+cu118 CUDA:0 (NVIDIA GeForce RTX 4060 Laptop GPU, 8188MiB)\n",
      "\u001b[34m\u001b[1mengine\\trainer: \u001b[0mtask=detect, mode=train, model=yolov9s.pt, data=C:\\Users\\user\\Desktop\\FINAL\\final-project\\16\\data\\14\\data.yaml, epochs=100, time=None, patience=30, batch=16, imgsz=640, save=True, save_period=-1, cache=False, device=None, workers=8, project=None, name=train2, exist_ok=False, pretrained=True, optimizer=auto, verbose=True, seed=0, deterministic=True, single_cls=False, rect=False, cos_lr=False, close_mosaic=10, resume=False, amp=True, fraction=1.0, profile=False, freeze=None, multi_scale=False, overlap_mask=True, mask_ratio=4, dropout=0.0, val=True, split=val, save_json=False, save_hybrid=False, conf=None, iou=0.7, max_det=300, half=False, dnn=False, plots=True, source=None, vid_stride=1, stream_buffer=False, visualize=False, augment=False, agnostic_nms=False, classes=None, retina_masks=False, embed=None, show=False, save_frames=False, save_txt=False, save_conf=False, save_crop=False, show_labels=True, show_conf=True, show_boxes=True, line_width=None, format=torchscript, keras=False, optimize=False, int8=False, dynamic=False, simplify=False, opset=None, workspace=4, nms=False, lr0=0.01, lrf=0.01, momentum=0.937, weight_decay=0.0005, warmup_epochs=3.0, warmup_momentum=0.8, warmup_bias_lr=0.1, box=7.5, cls=0.5, dfl=1.5, pose=12.0, kobj=1.0, label_smoothing=0.0, nbs=64, hsv_h=0.015, hsv_s=0.7, hsv_v=0.4, degrees=0.0, translate=0.1, scale=0.5, shear=0.0, perspective=0.0, flipud=0.0, fliplr=0.5, bgr=0.0, mosaic=1.0, mixup=0.0, copy_paste=0.0, auto_augment=randaugment, erasing=0.4, crop_fraction=1.0, cfg=None, tracker=botsort.yaml, save_dir=runs\\detect\\train2\n",
      "Overriding model.yaml nc=80 with nc=30\n",
      "\n",
      "                   from  n    params  module                                       arguments                     \n",
      "  0                  -1  1       928  ultralytics.nn.modules.conv.Conv             [3, 32, 3, 2]                 \n",
      "  1                  -1  1     18560  ultralytics.nn.modules.conv.Conv             [32, 64, 3, 2]                \n",
      "  2                  -1  1     31104  ultralytics.nn.modules.block.ELAN1           [64, 64, 64, 32]              \n",
      "  3                  -1  1     73984  ultralytics.nn.modules.block.AConv           [64, 128]                     \n",
      "  4                  -1  1    258432  ultralytics.nn.modules.block.RepNCSPELAN4    [128, 128, 128, 64, 3]        \n",
      "  5                  -1  1    221568  ultralytics.nn.modules.block.AConv           [128, 192]                    \n",
      "  6                  -1  1    579648  ultralytics.nn.modules.block.RepNCSPELAN4    [192, 192, 192, 96, 3]        \n",
      "  7                  -1  1    442880  ultralytics.nn.modules.block.AConv           [192, 256]                    \n",
      "  8                  -1  1   1028864  ultralytics.nn.modules.block.RepNCSPELAN4    [256, 256, 256, 128, 3]       \n",
      "  9                  -1  1    164608  ultralytics.nn.modules.block.SPPELAN         [256, 256, 128]               \n",
      " 10                  -1  1         0  torch.nn.modules.upsampling.Upsample         [None, 2, 'nearest']          \n",
      " 11             [-1, 6]  1         0  ultralytics.nn.modules.conv.Concat           [1]                           \n",
      " 12                  -1  1    628800  ultralytics.nn.modules.block.RepNCSPELAN4    [448, 192, 192, 96, 3]        \n",
      " 13                  -1  1         0  torch.nn.modules.upsampling.Upsample         [None, 2, 'nearest']          \n",
      " 14             [-1, 4]  1         0  ultralytics.nn.modules.conv.Concat           [1]                           \n",
      " 15                  -1  1    283008  ultralytics.nn.modules.block.RepNCSPELAN4    [320, 128, 128, 64, 3]        \n",
      " 16                  -1  1    110784  ultralytics.nn.modules.block.AConv           [128, 96]                     \n",
      " 17            [-1, 12]  1         0  ultralytics.nn.modules.conv.Concat           [1]                           \n",
      " 18                  -1  1    598080  ultralytics.nn.modules.block.RepNCSPELAN4    [288, 192, 192, 96, 3]        \n",
      " 19                  -1  1    221440  ultralytics.nn.modules.block.AConv           [192, 128]                    \n",
      " 20             [-1, 9]  1         0  ultralytics.nn.modules.conv.Concat           [1]                           \n",
      " 21                  -1  1   1061632  ultralytics.nn.modules.block.RepNCSPELAN4    [384, 256, 256, 128, 3]       \n",
      " 22        [15, 18, 21]  1   1574698  ultralytics.nn.modules.head.Detect           [30, [128, 192, 256]]         \n",
      "YOLOv9s summary: 917 layers, 7299018 parameters, 7299002 gradients, 27.4 GFLOPs\n",
      "\n",
      "Transferred 1333/1339 items from pretrained weights\n",
      "\u001b[34m\u001b[1mTensorBoard: \u001b[0mStart with 'tensorboard --logdir runs\\detect\\train2', view at http://localhost:6006/\n",
      "Freezing layer 'model.22.dfl.conv.weight'\n",
      "\u001b[34m\u001b[1mAMP: \u001b[0mrunning Automatic Mixed Precision (AMP) checks with YOLOv8n...\n"
     ]
    },
    {
     "name": "stderr",
     "output_type": "stream",
     "text": [
      "c:\\Users\\user\\AppData\\Local\\Programs\\Python\\Python311\\Lib\\site-packages\\tqdm\\auto.py:21: TqdmWarning: IProgress not found. Please update jupyter and ipywidgets. See https://ipywidgets.readthedocs.io/en/stable/user_install.html\n",
      "  from .autonotebook import tqdm as notebook_tqdm\n",
      "c:\\Users\\user\\AppData\\Local\\Programs\\Python\\Python311\\Lib\\site-packages\\torch\\nn\\modules\\conv.py:456: UserWarning: Plan failed with a cudnnException: CUDNN_BACKEND_EXECUTION_PLAN_DESCRIPTOR: cudnnFinalize Descriptor Failed cudnn_status: CUDNN_STATUS_NOT_SUPPORTED (Triggered internally at ..\\aten\\src\\ATen\\native\\cudnn\\Conv_v8.cpp:919.)\n",
      "  return F.conv2d(input, weight, bias, self.stride,\n"
     ]
    },
    {
     "name": "stdout",
     "output_type": "stream",
     "text": [
      "\u001b[34m\u001b[1mAMP: \u001b[0mchecks passed \n"
     ]
    },
    {
     "name": "stderr",
     "output_type": "stream",
     "text": [
      "\u001b[34m\u001b[1mtrain: \u001b[0mScanning C:\\Users\\user\\Desktop\\FINAL\\final-project\\16\\data\\14\\train\\labels.cache... 2896 images, 0 backgrounds, 0 corrupt: 100%|██████████| 2896/2896 [00:00<?, ?it/s]\n",
      "\u001b[34m\u001b[1mval: \u001b[0mScanning C:\\Users\\user\\Desktop\\FINAL\\final-project\\16\\data\\14\\valid\\labels.cache... 103 images, 0 backgrounds, 0 corrupt: 100%|██████████| 103/103 [00:00<?, ?it/s]\n"
     ]
    },
    {
     "name": "stdout",
     "output_type": "stream",
     "text": [
      "Plotting labels to runs\\detect\\train2\\labels.jpg... \n",
      "\u001b[34m\u001b[1moptimizer:\u001b[0m 'optimizer=auto' found, ignoring 'lr0=0.01' and 'momentum=0.937' and determining best 'optimizer', 'lr0' and 'momentum' automatically... \n",
      "\u001b[34m\u001b[1moptimizer:\u001b[0m AdamW(lr=0.000294, momentum=0.9) with parameter groups 221 weight(decay=0.0), 228 weight(decay=0.0005), 227 bias(decay=0.0)\n",
      "\u001b[34m\u001b[1mTensorBoard: \u001b[0mmodel graph visualization added \n",
      "Image sizes 640 train, 640 val\n",
      "Using 8 dataloader workers\n",
      "Logging results to \u001b[1mruns\\detect\\train2\u001b[0m\n",
      "Starting training for 100 epochs...\n",
      "\n",
      "      Epoch    GPU_mem   box_loss   cls_loss   dfl_loss  Instances       Size\n"
     ]
    },
    {
     "name": "stderr",
     "output_type": "stream",
     "text": [
      "      1/100      5.45G      1.438      2.498      1.373        300        640: 100%|██████████| 181/181 [00:59<00:00,  3.06it/s]\n",
      "                 Class     Images  Instances      Box(P          R      mAP50  mAP50-95): 100%|██████████| 4/4 [00:01<00:00,  3.21it/s]"
     ]
    },
    {
     "name": "stdout",
     "output_type": "stream",
     "text": [
      "                   all        103       1227      0.839      0.834      0.879      0.562\n"
     ]
    },
    {
     "name": "stderr",
     "output_type": "stream",
     "text": [
      "\n"
     ]
    },
    {
     "name": "stdout",
     "output_type": "stream",
     "text": [
      "\n",
      "      Epoch    GPU_mem   box_loss   cls_loss   dfl_loss  Instances       Size\n"
     ]
    },
    {
     "name": "stderr",
     "output_type": "stream",
     "text": [
      "      2/100      5.28G      1.162     0.9469      1.169        311        640: 100%|██████████| 181/181 [00:53<00:00,  3.39it/s]\n",
      "                 Class     Images  Instances      Box(P          R      mAP50  mAP50-95): 100%|██████████| 4/4 [00:00<00:00,  4.57it/s]"
     ]
    },
    {
     "name": "stdout",
     "output_type": "stream",
     "text": [
      "                   all        103       1227      0.892      0.913      0.946      0.615\n"
     ]
    },
    {
     "name": "stderr",
     "output_type": "stream",
     "text": [
      "\n"
     ]
    },
    {
     "name": "stdout",
     "output_type": "stream",
     "text": [
      "\n",
      "      Epoch    GPU_mem   box_loss   cls_loss   dfl_loss  Instances       Size\n"
     ]
    },
    {
     "name": "stderr",
     "output_type": "stream",
     "text": [
      "      3/100      5.21G      1.085     0.7562      1.129        344        640: 100%|██████████| 181/181 [00:50<00:00,  3.59it/s]\n",
      "                 Class     Images  Instances      Box(P          R      mAP50  mAP50-95): 100%|██████████| 4/4 [00:00<00:00,  4.58it/s]"
     ]
    },
    {
     "name": "stdout",
     "output_type": "stream",
     "text": [
      "                   all        103       1227      0.932      0.938       0.97      0.639\n"
     ]
    },
    {
     "name": "stderr",
     "output_type": "stream",
     "text": [
      "\n"
     ]
    },
    {
     "name": "stdout",
     "output_type": "stream",
     "text": [
      "\n",
      "      Epoch    GPU_mem   box_loss   cls_loss   dfl_loss  Instances       Size\n"
     ]
    },
    {
     "name": "stderr",
     "output_type": "stream",
     "text": [
      "      4/100      5.28G      1.044     0.6706      1.112        309        640: 100%|██████████| 181/181 [00:49<00:00,  3.63it/s]\n",
      "                 Class     Images  Instances      Box(P          R      mAP50  mAP50-95): 100%|██████████| 4/4 [00:00<00:00,  4.68it/s]"
     ]
    },
    {
     "name": "stdout",
     "output_type": "stream",
     "text": [
      "                   all        103       1227      0.926      0.943      0.969      0.643\n"
     ]
    },
    {
     "name": "stderr",
     "output_type": "stream",
     "text": [
      "\n"
     ]
    },
    {
     "name": "stdout",
     "output_type": "stream",
     "text": [
      "\n",
      "      Epoch    GPU_mem   box_loss   cls_loss   dfl_loss  Instances       Size\n"
     ]
    },
    {
     "name": "stderr",
     "output_type": "stream",
     "text": [
      "      5/100       5.4G      1.006     0.6102      1.092        337        640: 100%|██████████| 181/181 [00:49<00:00,  3.66it/s]\n",
      "                 Class     Images  Instances      Box(P          R      mAP50  mAP50-95): 100%|██████████| 4/4 [00:00<00:00,  4.58it/s]"
     ]
    },
    {
     "name": "stdout",
     "output_type": "stream",
     "text": [
      "                   all        103       1227      0.953      0.954      0.976      0.647\n"
     ]
    },
    {
     "name": "stderr",
     "output_type": "stream",
     "text": [
      "\n"
     ]
    },
    {
     "name": "stdout",
     "output_type": "stream",
     "text": [
      "\n",
      "      Epoch    GPU_mem   box_loss   cls_loss   dfl_loss  Instances       Size\n"
     ]
    },
    {
     "name": "stderr",
     "output_type": "stream",
     "text": [
      "      6/100      5.31G     0.9766     0.5783      1.083        314        640: 100%|██████████| 181/181 [00:51<00:00,  3.54it/s]\n",
      "                 Class     Images  Instances      Box(P          R      mAP50  mAP50-95): 100%|██████████| 4/4 [00:00<00:00,  4.48it/s]"
     ]
    },
    {
     "name": "stdout",
     "output_type": "stream",
     "text": [
      "                   all        103       1227      0.911      0.959      0.969      0.643\n"
     ]
    },
    {
     "name": "stderr",
     "output_type": "stream",
     "text": [
      "\n"
     ]
    },
    {
     "name": "stdout",
     "output_type": "stream",
     "text": [
      "\n",
      "      Epoch    GPU_mem   box_loss   cls_loss   dfl_loss  Instances       Size\n"
     ]
    },
    {
     "name": "stderr",
     "output_type": "stream",
     "text": [
      "      7/100       5.4G     0.9646     0.5516      1.078        237        640: 100%|██████████| 181/181 [00:51<00:00,  3.55it/s]\n",
      "                 Class     Images  Instances      Box(P          R      mAP50  mAP50-95): 100%|██████████| 4/4 [00:00<00:00,  4.69it/s]"
     ]
    },
    {
     "name": "stdout",
     "output_type": "stream",
     "text": [
      "                   all        103       1227      0.955      0.968      0.975      0.649\n"
     ]
    },
    {
     "name": "stderr",
     "output_type": "stream",
     "text": [
      "\n"
     ]
    },
    {
     "name": "stdout",
     "output_type": "stream",
     "text": [
      "\n",
      "      Epoch    GPU_mem   box_loss   cls_loss   dfl_loss  Instances       Size\n"
     ]
    },
    {
     "name": "stderr",
     "output_type": "stream",
     "text": [
      "      8/100      5.38G     0.9321     0.5181      1.061        278        640: 100%|██████████| 181/181 [00:51<00:00,  3.52it/s]\n",
      "                 Class     Images  Instances      Box(P          R      mAP50  mAP50-95): 100%|██████████| 4/4 [00:00<00:00,  4.52it/s]"
     ]
    },
    {
     "name": "stdout",
     "output_type": "stream",
     "text": [
      "                   all        103       1227       0.96      0.971      0.974      0.655\n"
     ]
    },
    {
     "name": "stderr",
     "output_type": "stream",
     "text": [
      "\n"
     ]
    },
    {
     "name": "stdout",
     "output_type": "stream",
     "text": [
      "\n",
      "      Epoch    GPU_mem   box_loss   cls_loss   dfl_loss  Instances       Size\n"
     ]
    },
    {
     "name": "stderr",
     "output_type": "stream",
     "text": [
      "      9/100      5.13G     0.9157     0.5062      1.054        220        640: 100%|██████████| 181/181 [00:50<00:00,  3.56it/s]\n",
      "                 Class     Images  Instances      Box(P          R      mAP50  mAP50-95): 100%|██████████| 4/4 [00:00<00:00,  4.66it/s]"
     ]
    },
    {
     "name": "stdout",
     "output_type": "stream",
     "text": [
      "                   all        103       1227       0.95      0.962      0.969      0.642\n"
     ]
    },
    {
     "name": "stderr",
     "output_type": "stream",
     "text": [
      "\n"
     ]
    },
    {
     "name": "stdout",
     "output_type": "stream",
     "text": [
      "\n",
      "      Epoch    GPU_mem   box_loss   cls_loss   dfl_loss  Instances       Size\n"
     ]
    },
    {
     "name": "stderr",
     "output_type": "stream",
     "text": [
      "     10/100      5.26G     0.9033     0.4914      1.048        354        640: 100%|██████████| 181/181 [00:51<00:00,  3.54it/s]\n",
      "                 Class     Images  Instances      Box(P          R      mAP50  mAP50-95): 100%|██████████| 4/4 [00:00<00:00,  4.10it/s]"
     ]
    },
    {
     "name": "stdout",
     "output_type": "stream",
     "text": [
      "                   all        103       1227       0.96      0.963      0.971       0.65\n"
     ]
    },
    {
     "name": "stderr",
     "output_type": "stream",
     "text": [
      "\n"
     ]
    },
    {
     "name": "stdout",
     "output_type": "stream",
     "text": [
      "\n",
      "      Epoch    GPU_mem   box_loss   cls_loss   dfl_loss  Instances       Size\n"
     ]
    },
    {
     "name": "stderr",
     "output_type": "stream",
     "text": [
      "     11/100      5.21G     0.8892     0.4812      1.046        190        640: 100%|██████████| 181/181 [00:51<00:00,  3.52it/s]\n",
      "                 Class     Images  Instances      Box(P          R      mAP50  mAP50-95): 100%|██████████| 4/4 [00:00<00:00,  4.67it/s]"
     ]
    },
    {
     "name": "stdout",
     "output_type": "stream",
     "text": [
      "                   all        103       1227      0.947      0.971      0.967      0.647\n"
     ]
    },
    {
     "name": "stderr",
     "output_type": "stream",
     "text": [
      "\n"
     ]
    },
    {
     "name": "stdout",
     "output_type": "stream",
     "text": [
      "\n",
      "      Epoch    GPU_mem   box_loss   cls_loss   dfl_loss  Instances       Size\n"
     ]
    },
    {
     "name": "stderr",
     "output_type": "stream",
     "text": [
      "     12/100      5.28G     0.8831     0.4689      1.039        236        640: 100%|██████████| 181/181 [00:51<00:00,  3.53it/s]\n",
      "                 Class     Images  Instances      Box(P          R      mAP50  mAP50-95): 100%|██████████| 4/4 [00:00<00:00,  4.61it/s]"
     ]
    },
    {
     "name": "stdout",
     "output_type": "stream",
     "text": [
      "                   all        103       1227       0.95      0.972      0.969      0.657\n"
     ]
    },
    {
     "name": "stderr",
     "output_type": "stream",
     "text": [
      "\n"
     ]
    },
    {
     "name": "stdout",
     "output_type": "stream",
     "text": [
      "\n",
      "      Epoch    GPU_mem   box_loss   cls_loss   dfl_loss  Instances       Size\n"
     ]
    },
    {
     "name": "stderr",
     "output_type": "stream",
     "text": [
      "     13/100      5.19G     0.8681     0.4578      1.034        259        640: 100%|██████████| 181/181 [00:50<00:00,  3.55it/s]\n",
      "                 Class     Images  Instances      Box(P          R      mAP50  mAP50-95): 100%|██████████| 4/4 [00:00<00:00,  4.43it/s]"
     ]
    },
    {
     "name": "stdout",
     "output_type": "stream",
     "text": [
      "                   all        103       1227      0.958      0.963      0.973      0.665\n"
     ]
    },
    {
     "name": "stderr",
     "output_type": "stream",
     "text": [
      "\n"
     ]
    },
    {
     "name": "stdout",
     "output_type": "stream",
     "text": [
      "\n",
      "      Epoch    GPU_mem   box_loss   cls_loss   dfl_loss  Instances       Size\n"
     ]
    },
    {
     "name": "stderr",
     "output_type": "stream",
     "text": [
      "     14/100       5.2G     0.8602     0.4496      1.032        373        640: 100%|██████████| 181/181 [00:50<00:00,  3.57it/s]\n",
      "                 Class     Images  Instances      Box(P          R      mAP50  mAP50-95): 100%|██████████| 4/4 [00:00<00:00,  4.51it/s]"
     ]
    },
    {
     "name": "stdout",
     "output_type": "stream",
     "text": [
      "                   all        103       1227      0.952      0.966      0.969      0.661\n"
     ]
    },
    {
     "name": "stderr",
     "output_type": "stream",
     "text": [
      "\n"
     ]
    },
    {
     "name": "stdout",
     "output_type": "stream",
     "text": [
      "\n",
      "      Epoch    GPU_mem   box_loss   cls_loss   dfl_loss  Instances       Size\n"
     ]
    },
    {
     "name": "stderr",
     "output_type": "stream",
     "text": [
      "     15/100      5.22G     0.8452     0.4415      1.022        370        640: 100%|██████████| 181/181 [00:50<00:00,  3.61it/s]\n",
      "                 Class     Images  Instances      Box(P          R      mAP50  mAP50-95): 100%|██████████| 4/4 [00:00<00:00,  4.69it/s]"
     ]
    },
    {
     "name": "stdout",
     "output_type": "stream",
     "text": [
      "                   all        103       1227      0.957      0.968      0.965      0.653\n"
     ]
    },
    {
     "name": "stderr",
     "output_type": "stream",
     "text": [
      "\n"
     ]
    },
    {
     "name": "stdout",
     "output_type": "stream",
     "text": [
      "\n",
      "      Epoch    GPU_mem   box_loss   cls_loss   dfl_loss  Instances       Size\n"
     ]
    },
    {
     "name": "stderr",
     "output_type": "stream",
     "text": [
      "     16/100      5.36G     0.8334     0.4347      1.018        305        640: 100%|██████████| 181/181 [00:51<00:00,  3.53it/s]\n",
      "                 Class     Images  Instances      Box(P          R      mAP50  mAP50-95): 100%|██████████| 4/4 [00:00<00:00,  4.49it/s]"
     ]
    },
    {
     "name": "stdout",
     "output_type": "stream",
     "text": [
      "                   all        103       1227      0.959      0.965       0.97      0.653\n"
     ]
    },
    {
     "name": "stderr",
     "output_type": "stream",
     "text": [
      "\n"
     ]
    },
    {
     "name": "stdout",
     "output_type": "stream",
     "text": [
      "\n",
      "      Epoch    GPU_mem   box_loss   cls_loss   dfl_loss  Instances       Size\n"
     ]
    },
    {
     "name": "stderr",
     "output_type": "stream",
     "text": [
      "     17/100      5.22G      0.827     0.4294      1.012        304        640: 100%|██████████| 181/181 [00:51<00:00,  3.54it/s]\n",
      "                 Class     Images  Instances      Box(P          R      mAP50  mAP50-95): 100%|██████████| 4/4 [00:00<00:00,  4.55it/s]"
     ]
    },
    {
     "name": "stdout",
     "output_type": "stream",
     "text": [
      "                   all        103       1227      0.949      0.967      0.969      0.653\n"
     ]
    },
    {
     "name": "stderr",
     "output_type": "stream",
     "text": [
      "\n"
     ]
    },
    {
     "name": "stdout",
     "output_type": "stream",
     "text": [
      "\n",
      "      Epoch    GPU_mem   box_loss   cls_loss   dfl_loss  Instances       Size\n"
     ]
    },
    {
     "name": "stderr",
     "output_type": "stream",
     "text": [
      "     18/100      5.23G     0.8163     0.4226      1.012        309        640: 100%|██████████| 181/181 [00:50<00:00,  3.55it/s]\n",
      "                 Class     Images  Instances      Box(P          R      mAP50  mAP50-95): 100%|██████████| 4/4 [00:00<00:00,  4.65it/s]"
     ]
    },
    {
     "name": "stdout",
     "output_type": "stream",
     "text": [
      "                   all        103       1227      0.944      0.978      0.974      0.663\n"
     ]
    },
    {
     "name": "stderr",
     "output_type": "stream",
     "text": [
      "\n"
     ]
    },
    {
     "name": "stdout",
     "output_type": "stream",
     "text": [
      "\n",
      "      Epoch    GPU_mem   box_loss   cls_loss   dfl_loss  Instances       Size\n"
     ]
    },
    {
     "name": "stderr",
     "output_type": "stream",
     "text": [
      "     19/100      5.26G     0.8091     0.4177      1.009        307        640: 100%|██████████| 181/181 [00:51<00:00,  3.51it/s]\n",
      "                 Class     Images  Instances      Box(P          R      mAP50  mAP50-95): 100%|██████████| 4/4 [00:00<00:00,  4.64it/s]"
     ]
    },
    {
     "name": "stdout",
     "output_type": "stream",
     "text": [
      "                   all        103       1227      0.955      0.968      0.974      0.653\n"
     ]
    },
    {
     "name": "stderr",
     "output_type": "stream",
     "text": [
      "\n"
     ]
    },
    {
     "name": "stdout",
     "output_type": "stream",
     "text": [
      "\n",
      "      Epoch    GPU_mem   box_loss   cls_loss   dfl_loss  Instances       Size\n"
     ]
    },
    {
     "name": "stderr",
     "output_type": "stream",
     "text": [
      "     20/100      5.36G     0.7971     0.4074      1.005        245        640: 100%|██████████| 181/181 [00:51<00:00,  3.54it/s]\n",
      "                 Class     Images  Instances      Box(P          R      mAP50  mAP50-95): 100%|██████████| 4/4 [00:00<00:00,  4.74it/s]"
     ]
    },
    {
     "name": "stdout",
     "output_type": "stream",
     "text": [
      "                   all        103       1227      0.961      0.963      0.969      0.653\n"
     ]
    },
    {
     "name": "stderr",
     "output_type": "stream",
     "text": [
      "\n"
     ]
    },
    {
     "name": "stdout",
     "output_type": "stream",
     "text": [
      "\n",
      "      Epoch    GPU_mem   box_loss   cls_loss   dfl_loss  Instances       Size\n"
     ]
    },
    {
     "name": "stderr",
     "output_type": "stream",
     "text": [
      "     21/100      5.19G     0.7907     0.4028     0.9975        299        640: 100%|██████████| 181/181 [00:50<00:00,  3.55it/s]\n",
      "                 Class     Images  Instances      Box(P          R      mAP50  mAP50-95): 100%|██████████| 4/4 [00:00<00:00,  4.77it/s]"
     ]
    },
    {
     "name": "stdout",
     "output_type": "stream",
     "text": [
      "                   all        103       1227      0.952      0.972       0.97      0.661\n"
     ]
    },
    {
     "name": "stderr",
     "output_type": "stream",
     "text": [
      "\n"
     ]
    },
    {
     "name": "stdout",
     "output_type": "stream",
     "text": [
      "\n",
      "      Epoch    GPU_mem   box_loss   cls_loss   dfl_loss  Instances       Size\n"
     ]
    },
    {
     "name": "stderr",
     "output_type": "stream",
     "text": [
      "     22/100      5.25G     0.7862     0.4011     0.9967        298        640: 100%|██████████| 181/181 [00:51<00:00,  3.52it/s]\n",
      "                 Class     Images  Instances      Box(P          R      mAP50  mAP50-95): 100%|██████████| 4/4 [00:00<00:00,  4.32it/s]"
     ]
    },
    {
     "name": "stdout",
     "output_type": "stream",
     "text": [
      "                   all        103       1227      0.957      0.965      0.972      0.655\n"
     ]
    },
    {
     "name": "stderr",
     "output_type": "stream",
     "text": [
      "\n"
     ]
    },
    {
     "name": "stdout",
     "output_type": "stream",
     "text": [
      "\n",
      "      Epoch    GPU_mem   box_loss   cls_loss   dfl_loss  Instances       Size\n"
     ]
    },
    {
     "name": "stderr",
     "output_type": "stream",
     "text": [
      "     23/100      5.24G     0.7795     0.3988     0.9954        340        640: 100%|██████████| 181/181 [00:51<00:00,  3.55it/s]\n",
      "                 Class     Images  Instances      Box(P          R      mAP50  mAP50-95): 100%|██████████| 4/4 [00:00<00:00,  4.68it/s]"
     ]
    },
    {
     "name": "stdout",
     "output_type": "stream",
     "text": [
      "                   all        103       1227      0.951       0.97      0.967      0.648\n"
     ]
    },
    {
     "name": "stderr",
     "output_type": "stream",
     "text": [
      "\n"
     ]
    },
    {
     "name": "stdout",
     "output_type": "stream",
     "text": [
      "\n",
      "      Epoch    GPU_mem   box_loss   cls_loss   dfl_loss  Instances       Size\n"
     ]
    },
    {
     "name": "stderr",
     "output_type": "stream",
     "text": [
      "     24/100      5.39G     0.7681     0.3872     0.9909        316        640: 100%|██████████| 181/181 [00:51<00:00,  3.54it/s]\n",
      "                 Class     Images  Instances      Box(P          R      mAP50  mAP50-95): 100%|██████████| 4/4 [00:00<00:00,  4.70it/s]"
     ]
    },
    {
     "name": "stdout",
     "output_type": "stream",
     "text": [
      "                   all        103       1227      0.956      0.967      0.967      0.656\n"
     ]
    },
    {
     "name": "stderr",
     "output_type": "stream",
     "text": [
      "\n"
     ]
    },
    {
     "name": "stdout",
     "output_type": "stream",
     "text": [
      "\n",
      "      Epoch    GPU_mem   box_loss   cls_loss   dfl_loss  Instances       Size\n"
     ]
    },
    {
     "name": "stderr",
     "output_type": "stream",
     "text": [
      "     25/100      5.12G     0.7657     0.3868     0.9882        290        640: 100%|██████████| 181/181 [00:50<00:00,  3.56it/s]\n",
      "                 Class     Images  Instances      Box(P          R      mAP50  mAP50-95): 100%|██████████| 4/4 [00:00<00:00,  4.47it/s]"
     ]
    },
    {
     "name": "stdout",
     "output_type": "stream",
     "text": [
      "                   all        103       1227      0.951      0.964      0.965      0.657\n"
     ]
    },
    {
     "name": "stderr",
     "output_type": "stream",
     "text": [
      "\n"
     ]
    },
    {
     "name": "stdout",
     "output_type": "stream",
     "text": [
      "\n",
      "      Epoch    GPU_mem   box_loss   cls_loss   dfl_loss  Instances       Size\n"
     ]
    },
    {
     "name": "stderr",
     "output_type": "stream",
     "text": [
      "     26/100      5.23G     0.7566     0.3793     0.9831        255        640: 100%|██████████| 181/181 [00:50<00:00,  3.56it/s]\n",
      "                 Class     Images  Instances      Box(P          R      mAP50  mAP50-95): 100%|██████████| 4/4 [00:00<00:00,  4.66it/s]"
     ]
    },
    {
     "name": "stdout",
     "output_type": "stream",
     "text": [
      "                   all        103       1227       0.95      0.968      0.963      0.658\n"
     ]
    },
    {
     "name": "stderr",
     "output_type": "stream",
     "text": [
      "\n"
     ]
    },
    {
     "name": "stdout",
     "output_type": "stream",
     "text": [
      "\n",
      "      Epoch    GPU_mem   box_loss   cls_loss   dfl_loss  Instances       Size\n"
     ]
    },
    {
     "name": "stderr",
     "output_type": "stream",
     "text": [
      "     27/100      5.22G     0.7513     0.3783     0.9825        246        640: 100%|██████████| 181/181 [00:51<00:00,  3.55it/s]\n",
      "                 Class     Images  Instances      Box(P          R      mAP50  mAP50-95): 100%|██████████| 4/4 [00:00<00:00,  4.67it/s]"
     ]
    },
    {
     "name": "stdout",
     "output_type": "stream",
     "text": [
      "                   all        103       1227      0.955      0.973      0.967      0.656\n"
     ]
    },
    {
     "name": "stderr",
     "output_type": "stream",
     "text": [
      "\n"
     ]
    },
    {
     "name": "stdout",
     "output_type": "stream",
     "text": [
      "\n",
      "      Epoch    GPU_mem   box_loss   cls_loss   dfl_loss  Instances       Size\n"
     ]
    },
    {
     "name": "stderr",
     "output_type": "stream",
     "text": [
      "     28/100      5.35G     0.7485     0.3731     0.9836        242        640: 100%|██████████| 181/181 [00:51<00:00,  3.54it/s]\n",
      "                 Class     Images  Instances      Box(P          R      mAP50  mAP50-95): 100%|██████████| 4/4 [00:00<00:00,  4.63it/s]"
     ]
    },
    {
     "name": "stdout",
     "output_type": "stream",
     "text": [
      "                   all        103       1227      0.963      0.969      0.968      0.653\n"
     ]
    },
    {
     "name": "stderr",
     "output_type": "stream",
     "text": [
      "\n"
     ]
    },
    {
     "name": "stdout",
     "output_type": "stream",
     "text": [
      "\n",
      "      Epoch    GPU_mem   box_loss   cls_loss   dfl_loss  Instances       Size\n"
     ]
    },
    {
     "name": "stderr",
     "output_type": "stream",
     "text": [
      "     29/100       5.2G     0.7404     0.3693      0.977        259        640: 100%|██████████| 181/181 [00:51<00:00,  3.53it/s]\n",
      "                 Class     Images  Instances      Box(P          R      mAP50  mAP50-95): 100%|██████████| 4/4 [00:00<00:00,  4.62it/s]"
     ]
    },
    {
     "name": "stdout",
     "output_type": "stream",
     "text": [
      "                   all        103       1227      0.954      0.973       0.97      0.658\n"
     ]
    },
    {
     "name": "stderr",
     "output_type": "stream",
     "text": [
      "\n"
     ]
    },
    {
     "name": "stdout",
     "output_type": "stream",
     "text": [
      "\n",
      "      Epoch    GPU_mem   box_loss   cls_loss   dfl_loss  Instances       Size\n"
     ]
    },
    {
     "name": "stderr",
     "output_type": "stream",
     "text": [
      "     30/100      5.22G     0.7364     0.3644     0.9712        285        640: 100%|██████████| 181/181 [00:51<00:00,  3.54it/s]\n",
      "                 Class     Images  Instances      Box(P          R      mAP50  mAP50-95): 100%|██████████| 4/4 [00:00<00:00,  4.67it/s]"
     ]
    },
    {
     "name": "stdout",
     "output_type": "stream",
     "text": [
      "                   all        103       1227      0.956      0.969      0.966      0.653\n"
     ]
    },
    {
     "name": "stderr",
     "output_type": "stream",
     "text": [
      "\n"
     ]
    },
    {
     "name": "stdout",
     "output_type": "stream",
     "text": [
      "\n",
      "      Epoch    GPU_mem   box_loss   cls_loss   dfl_loss  Instances       Size\n"
     ]
    },
    {
     "name": "stderr",
     "output_type": "stream",
     "text": [
      "     31/100      5.25G     0.7365     0.3669     0.9755        349        640: 100%|██████████| 181/181 [00:51<00:00,  3.55it/s]\n",
      "                 Class     Images  Instances      Box(P          R      mAP50  mAP50-95): 100%|██████████| 4/4 [00:00<00:00,  4.46it/s]"
     ]
    },
    {
     "name": "stdout",
     "output_type": "stream",
     "text": [
      "                   all        103       1227      0.956      0.966      0.971      0.659\n"
     ]
    },
    {
     "name": "stderr",
     "output_type": "stream",
     "text": [
      "\n"
     ]
    },
    {
     "name": "stdout",
     "output_type": "stream",
     "text": [
      "\n",
      "      Epoch    GPU_mem   box_loss   cls_loss   dfl_loss  Instances       Size\n"
     ]
    },
    {
     "name": "stderr",
     "output_type": "stream",
     "text": [
      "     32/100      5.38G     0.7182     0.3566     0.9686        257        640: 100%|██████████| 181/181 [00:50<00:00,  3.56it/s]\n",
      "                 Class     Images  Instances      Box(P          R      mAP50  mAP50-95): 100%|██████████| 4/4 [00:00<00:00,  4.75it/s]"
     ]
    },
    {
     "name": "stdout",
     "output_type": "stream",
     "text": [
      "                   all        103       1227      0.959      0.958      0.963      0.648\n"
     ]
    },
    {
     "name": "stderr",
     "output_type": "stream",
     "text": [
      "\n"
     ]
    },
    {
     "name": "stdout",
     "output_type": "stream",
     "text": [
      "\n",
      "      Epoch    GPU_mem   box_loss   cls_loss   dfl_loss  Instances       Size\n"
     ]
    },
    {
     "name": "stderr",
     "output_type": "stream",
     "text": [
      "     33/100      5.21G     0.7236     0.3585     0.9699        244        640: 100%|██████████| 181/181 [00:51<00:00,  3.54it/s]\n",
      "                 Class     Images  Instances      Box(P          R      mAP50  mAP50-95): 100%|██████████| 4/4 [00:00<00:00,  4.60it/s]"
     ]
    },
    {
     "name": "stdout",
     "output_type": "stream",
     "text": [
      "                   all        103       1227      0.952      0.967      0.966       0.65\n"
     ]
    },
    {
     "name": "stderr",
     "output_type": "stream",
     "text": [
      "\n"
     ]
    },
    {
     "name": "stdout",
     "output_type": "stream",
     "text": [
      "\n",
      "      Epoch    GPU_mem   box_loss   cls_loss   dfl_loss  Instances       Size\n"
     ]
    },
    {
     "name": "stderr",
     "output_type": "stream",
     "text": [
      "     34/100      5.22G     0.7223     0.3522     0.9679        339        640: 100%|██████████| 181/181 [00:50<00:00,  3.56it/s]\n",
      "                 Class     Images  Instances      Box(P          R      mAP50  mAP50-95): 100%|██████████| 4/4 [00:00<00:00,  4.67it/s]"
     ]
    },
    {
     "name": "stdout",
     "output_type": "stream",
     "text": [
      "                   all        103       1227      0.958      0.964      0.965      0.654\n"
     ]
    },
    {
     "name": "stderr",
     "output_type": "stream",
     "text": [
      "\n"
     ]
    },
    {
     "name": "stdout",
     "output_type": "stream",
     "text": [
      "\n",
      "      Epoch    GPU_mem   box_loss   cls_loss   dfl_loss  Instances       Size\n"
     ]
    },
    {
     "name": "stderr",
     "output_type": "stream",
     "text": [
      "     35/100      5.24G     0.7052     0.3475      0.963        360        640: 100%|██████████| 181/181 [00:51<00:00,  3.52it/s]\n",
      "                 Class     Images  Instances      Box(P          R      mAP50  mAP50-95): 100%|██████████| 4/4 [00:00<00:00,  4.63it/s]"
     ]
    },
    {
     "name": "stdout",
     "output_type": "stream",
     "text": [
      "                   all        103       1227      0.954      0.959      0.964       0.65\n"
     ]
    },
    {
     "name": "stderr",
     "output_type": "stream",
     "text": [
      "\n"
     ]
    },
    {
     "name": "stdout",
     "output_type": "stream",
     "text": [
      "\n",
      "      Epoch    GPU_mem   box_loss   cls_loss   dfl_loss  Instances       Size\n"
     ]
    },
    {
     "name": "stderr",
     "output_type": "stream",
     "text": [
      "     36/100      5.22G     0.7079     0.3515     0.9614        274        640: 100%|██████████| 181/181 [00:51<00:00,  3.53it/s]\n",
      "                 Class     Images  Instances      Box(P          R      mAP50  mAP50-95): 100%|██████████| 4/4 [00:00<00:00,  4.69it/s]"
     ]
    },
    {
     "name": "stdout",
     "output_type": "stream",
     "text": [
      "                   all        103       1227      0.958      0.962      0.965      0.653\n"
     ]
    },
    {
     "name": "stderr",
     "output_type": "stream",
     "text": [
      "\n"
     ]
    },
    {
     "name": "stdout",
     "output_type": "stream",
     "text": [
      "\n",
      "      Epoch    GPU_mem   box_loss   cls_loss   dfl_loss  Instances       Size\n"
     ]
    },
    {
     "name": "stderr",
     "output_type": "stream",
     "text": [
      "     37/100      5.25G      0.703      0.346     0.9656        323        640: 100%|██████████| 181/181 [00:51<00:00,  3.54it/s]\n",
      "                 Class     Images  Instances      Box(P          R      mAP50  mAP50-95): 100%|██████████| 4/4 [00:00<00:00,  4.70it/s]"
     ]
    },
    {
     "name": "stdout",
     "output_type": "stream",
     "text": [
      "                   all        103       1227       0.95      0.961      0.965      0.656\n"
     ]
    },
    {
     "name": "stderr",
     "output_type": "stream",
     "text": [
      "\n"
     ]
    },
    {
     "name": "stdout",
     "output_type": "stream",
     "text": [
      "\n",
      "      Epoch    GPU_mem   box_loss   cls_loss   dfl_loss  Instances       Size\n"
     ]
    },
    {
     "name": "stderr",
     "output_type": "stream",
     "text": [
      "     38/100      5.39G     0.7033     0.3469     0.9601        373        640: 100%|██████████| 181/181 [00:51<00:00,  3.52it/s]\n",
      "                 Class     Images  Instances      Box(P          R      mAP50  mAP50-95): 100%|██████████| 4/4 [00:00<00:00,  4.58it/s]"
     ]
    },
    {
     "name": "stdout",
     "output_type": "stream",
     "text": [
      "                   all        103       1227      0.955      0.964      0.968      0.654\n"
     ]
    },
    {
     "name": "stderr",
     "output_type": "stream",
     "text": [
      "\n"
     ]
    },
    {
     "name": "stdout",
     "output_type": "stream",
     "text": [
      "\n",
      "      Epoch    GPU_mem   box_loss   cls_loss   dfl_loss  Instances       Size\n"
     ]
    },
    {
     "name": "stderr",
     "output_type": "stream",
     "text": [
      "     39/100      5.23G     0.6946     0.3413     0.9586        346        640: 100%|██████████| 181/181 [00:51<00:00,  3.53it/s]\n",
      "                 Class     Images  Instances      Box(P          R      mAP50  mAP50-95): 100%|██████████| 4/4 [00:00<00:00,  4.64it/s]"
     ]
    },
    {
     "name": "stdout",
     "output_type": "stream",
     "text": [
      "                   all        103       1227      0.956      0.969      0.971      0.664\n"
     ]
    },
    {
     "name": "stderr",
     "output_type": "stream",
     "text": [
      "\n"
     ]
    },
    {
     "name": "stdout",
     "output_type": "stream",
     "text": [
      "\n",
      "      Epoch    GPU_mem   box_loss   cls_loss   dfl_loss  Instances       Size\n"
     ]
    },
    {
     "name": "stderr",
     "output_type": "stream",
     "text": [
      "     40/100      5.38G      0.688     0.3371     0.9526        242        640: 100%|██████████| 181/181 [00:51<00:00,  3.54it/s]\n",
      "                 Class     Images  Instances      Box(P          R      mAP50  mAP50-95): 100%|██████████| 4/4 [00:00<00:00,  4.70it/s]"
     ]
    },
    {
     "name": "stdout",
     "output_type": "stream",
     "text": [
      "                   all        103       1227       0.95      0.964      0.966      0.658\n"
     ]
    },
    {
     "name": "stderr",
     "output_type": "stream",
     "text": [
      "\n"
     ]
    },
    {
     "name": "stdout",
     "output_type": "stream",
     "text": [
      "\n",
      "      Epoch    GPU_mem   box_loss   cls_loss   dfl_loss  Instances       Size\n"
     ]
    },
    {
     "name": "stderr",
     "output_type": "stream",
     "text": [
      "     41/100      5.21G     0.6814     0.3332      0.955        305        640: 100%|██████████| 181/181 [00:51<00:00,  3.55it/s]\n",
      "                 Class     Images  Instances      Box(P          R      mAP50  mAP50-95): 100%|██████████| 4/4 [00:00<00:00,  4.58it/s]"
     ]
    },
    {
     "name": "stdout",
     "output_type": "stream",
     "text": [
      "                   all        103       1227      0.948      0.971      0.966      0.656\n"
     ]
    },
    {
     "name": "stderr",
     "output_type": "stream",
     "text": [
      "\n"
     ]
    },
    {
     "name": "stdout",
     "output_type": "stream",
     "text": [
      "\n",
      "      Epoch    GPU_mem   box_loss   cls_loss   dfl_loss  Instances       Size\n"
     ]
    },
    {
     "name": "stderr",
     "output_type": "stream",
     "text": [
      "     42/100       5.2G     0.6844     0.3351     0.9554        268        640: 100%|██████████| 181/181 [00:51<00:00,  3.52it/s]\n",
      "                 Class     Images  Instances      Box(P          R      mAP50  mAP50-95): 100%|██████████| 4/4 [00:00<00:00,  4.62it/s]"
     ]
    },
    {
     "name": "stdout",
     "output_type": "stream",
     "text": [
      "                   all        103       1227      0.954      0.966      0.966      0.658\n"
     ]
    },
    {
     "name": "stderr",
     "output_type": "stream",
     "text": [
      "\n"
     ]
    },
    {
     "name": "stdout",
     "output_type": "stream",
     "text": [
      "\n",
      "      Epoch    GPU_mem   box_loss   cls_loss   dfl_loss  Instances       Size\n"
     ]
    },
    {
     "name": "stderr",
     "output_type": "stream",
     "text": [
      "     43/100      5.25G     0.6756     0.3304     0.9492        302        640: 100%|██████████| 181/181 [00:50<00:00,  3.56it/s]\n",
      "                 Class     Images  Instances      Box(P          R      mAP50  mAP50-95): 100%|██████████| 4/4 [00:00<00:00,  4.65it/s]"
     ]
    },
    {
     "name": "stdout",
     "output_type": "stream",
     "text": [
      "                   all        103       1227      0.957      0.968       0.97      0.654\n",
      "\u001b[34m\u001b[1mEarlyStopping: \u001b[0mTraining stopped early as no improvement observed in last 30 epochs. Best results observed at epoch 13, best model saved as best.pt.\n",
      "To update EarlyStopping(patience=30) pass a new patience value, i.e. `patience=300` or use `patience=0` to disable EarlyStopping.\n"
     ]
    },
    {
     "name": "stderr",
     "output_type": "stream",
     "text": [
      "\n"
     ]
    },
    {
     "name": "stdout",
     "output_type": "stream",
     "text": [
      "\n",
      "43 epochs completed in 0.635 hours.\n",
      "Optimizer stripped from runs\\detect\\train2\\weights\\last.pt, 15.3MB\n",
      "Optimizer stripped from runs\\detect\\train2\\weights\\best.pt, 15.3MB\n",
      "\n",
      "Validating runs\\detect\\train2\\weights\\best.pt...\n",
      "Ultralytics YOLOv8.2.54  Python-3.11.8 torch-2.3.0+cu118 CUDA:0 (NVIDIA GeForce RTX 4060 Laptop GPU, 8188MiB)\n",
      "YOLOv9s summary (fused): 486 layers, 7178698 parameters, 0 gradients, 26.8 GFLOPs\n"
     ]
    },
    {
     "name": "stderr",
     "output_type": "stream",
     "text": [
      "                 Class     Images  Instances      Box(P          R      mAP50  mAP50-95): 100%|██████████| 4/4 [00:01<00:00,  2.84it/s]\n"
     ]
    },
    {
     "name": "stdout",
     "output_type": "stream",
     "text": [
      "                   all        103       1227      0.958      0.963      0.972      0.664\n",
      "                 apple         43         44      0.997      0.955      0.978      0.776\n",
      "                banana         41         41      0.995          1      0.995      0.766\n",
      "                  beef         24         24      0.867      0.816      0.857      0.315\n",
      "           blueberries         33         33      0.996       0.97      0.974       0.58\n",
      "                 bread         41         41      0.976      0.986      0.975      0.719\n",
      "                butter         32         32      0.993          1      0.995      0.774\n",
      "                carrot         35         37      0.883      0.919      0.943      0.568\n",
      "                cheese         49         49      0.991          1      0.995      0.754\n",
      "               chicken         27         27      0.957          1      0.995      0.668\n",
      "        chicken_breast         35         35      0.788      0.914      0.796      0.312\n",
      "             chocolate         29         29          1       0.95      0.993      0.652\n",
      "                  corn         48         48      0.979      0.986      0.994      0.653\n",
      "                  eggs         60         60      0.996          1      0.995      0.689\n",
      "                 flour         53         58          1       0.91      0.977       0.72\n",
      "           goat_cheese         11         11      0.912      0.942      0.988      0.712\n",
      "           green_beans         47         47      0.942      0.957      0.983      0.641\n",
      "           ground_beef         22         22      0.783      0.819      0.911      0.528\n",
      "                   ham          7          7      0.905          1      0.995      0.447\n",
      "           heavy_cream         44         44      0.995          1      0.995      0.715\n",
      "                  lime         28         28          1       0.98      0.995       0.77\n",
      "                  milk         39         48          1      0.967      0.993      0.762\n",
      "             mushrooms         56         56      0.995          1      0.995      0.742\n",
      "                 onion         42         42      0.949          1      0.951      0.728\n",
      "                potato         64         64      0.997      0.984      0.987      0.749\n",
      "                shrimp         42         42      0.987      0.976       0.98      0.609\n",
      "               spinach         38         38      0.921      0.895      0.973      0.713\n",
      "          strawberries         51         51      0.998       0.98      0.989      0.744\n",
      "                 sugar         63         78      0.952          1       0.99      0.723\n",
      "          sweet_potato         30         32          1      0.982      0.995      0.707\n",
      "                tomato         58         59      0.997          1      0.995      0.696\n",
      "Speed: 0.4ms preprocess, 8.5ms inference, 0.0ms loss, 0.7ms postprocess per image\n",
      "Results saved to \u001b[1mruns\\detect\\train2\u001b[0m\n",
      "\n",
      "image 1/51 c:\\Users\\user\\Desktop\\FINAL\\final-project\\16\\data\\14\\test\\images\\DSC_5941_JPG_jpg.rf.7f34ef03affd2f952f6519e8506d8cdc.jpg: 640x640 1 apple, 1 bread, 1 carrot, 1 chocolate, 1 flour, 1 green_beans, 1 ground_beef, 1 lime, 1 strawberries, 2 sugars, 1 tomato, 28.9ms\n",
      "image 2/51 c:\\Users\\user\\Desktop\\FINAL\\final-project\\16\\data\\14\\test\\images\\DSC_5945_JPG_jpg.rf.15457f9c7c97e17d20684976193e6e8f.jpg: 640x640 1 apple, 2 beefs, 1 bread, 1 carrot, 1 chicken, 1 chicken_breast, 1 ground_beef, 1 lime, 1 spinach, 1 strawberries, 1 sugar, 1 tomato, 28.0ms\n",
      "image 3/51 c:\\Users\\user\\Desktop\\FINAL\\final-project\\16\\data\\14\\test\\images\\DSC_5959_JPG_jpg.rf.9fc416d1349e2e3c26a0a0d2a15a7976.jpg: 640x640 1 bread, 1 butter, 1 eggs, 1 green_beans, 1 ground_beef, 1 heavy_cream, 1 mushrooms, 1 onion, 1 spinach, 1 strawberries, 2 sweet_potatos, 27.9ms\n",
      "image 4/51 c:\\Users\\user\\Desktop\\FINAL\\final-project\\16\\data\\14\\test\\images\\DSC_5966_JPG_jpg.rf.5d1394ae07842ba768ef443a1f11100e.jpg: 640x640 1 apple, 1 blueberries, 1 bread, 1 chicken_breast, 1 chocolate, 1 eggs, 1 onion, 1 spinach, 1 strawberries, 1 sugar, 1 sweet_potato, 1 tomato, 20.9ms\n",
      "image 5/51 c:\\Users\\user\\Desktop\\FINAL\\final-project\\16\\data\\14\\test\\images\\DSC_5968_JPG_jpg.rf.5eb40ebc6ac76249dfc35ddacc0a3aee.jpg: 640x640 1 apple, 1 bread, 1 cheese, 1 chicken_breast, 1 chocolate, 1 eggs, 1 potato, 1 strawberries, 1 sugar, 1 sweet_potato, 20.9ms\n",
      "image 6/51 c:\\Users\\user\\Desktop\\FINAL\\final-project\\16\\data\\14\\test\\images\\DSC_5994_JPG_jpg.rf.e59df6997260d8a4811dea2ac9fd906b.jpg: 640x640 1 banana, 1 blueberries, 1 bread, 1 chicken, 1 chicken_breast, 1 eggs, 1 flour, 1 green_beans, 1 potato, 1 shrimp, 22.9ms\n",
      "image 7/51 c:\\Users\\user\\Desktop\\FINAL\\final-project\\16\\data\\14\\test\\images\\DSC_6021_JPG_jpg.rf.624152252b749f6789ed901524aa61fd.jpg: 640x640 1 banana, 1 cheese, 1 chicken_breast, 1 chocolate, 1 corn, 1 eggs, 1 heavy_cream, 1 milk, 1 mushrooms, 1 potato, 1 tomato, 20.5ms\n",
      "image 8/51 c:\\Users\\user\\Desktop\\FINAL\\final-project\\16\\data\\14\\test\\images\\DSC_6054_JPG_jpg.rf.6f7baadc273b8df793ef0372f9a9be39.jpg: 640x640 1 apple, 1 bread, 1 butter, 1 cheese, 1 chicken_breast, 1 corn, 1 eggs, 1 flour, 1 green_beans, 1 ground_beef, 1 milk, 1 strawberries, 1 sugar, 2 sweet_potatos, 20.9ms\n",
      "image 9/51 c:\\Users\\user\\Desktop\\FINAL\\final-project\\16\\data\\14\\test\\images\\DSC_6059_JPG_jpg.rf.6d01b8d48241048bb9456081492861ca.jpg: 640x640 1 banana, 1 bread, 1 cheese, 1 eggs, 1 flour, 1 green_beans, 1 milk, 1 mushrooms, 1 onion, 1 strawberries, 16.8ms\n",
      "image 10/51 c:\\Users\\user\\Desktop\\FINAL\\final-project\\16\\data\\14\\test\\images\\DSC_6060_JPG_jpg.rf.aaadd1e2af83511440f289f21abf4099.jpg: 640x640 1 banana, 1 bread, 1 cheese, 1 eggs, 1 flour, 1 green_beans, 1 milk, 1 mushrooms, 1 onion, 1 shrimp, 1 strawberries, 20.6ms\n",
      "image 11/51 c:\\Users\\user\\Desktop\\FINAL\\final-project\\16\\data\\14\\test\\images\\DSC_6065_JPG_jpg.rf.564df77ab0cd26ddebf9a40aa5a331d5.jpg: 640x640 1 banana, 1 bread, 1 cheese, 1 chocolate, 1 eggs, 1 flour, 1 green_beans, 2 milks, 1 mushrooms, 1 onion, 1 shrimp, 17.4ms\n",
      "image 12/51 c:\\Users\\user\\Desktop\\FINAL\\final-project\\16\\data\\14\\test\\images\\DSC_6067_JPG_jpg.rf.d1098c3269fb5a8b884c44ad9a8e679c.jpg: 640x640 1 banana, 1 bread, 1 butter, 1 cheese, 1 chocolate, 1 eggs, 1 flour, 1 green_beans, 1 mushrooms, 1 onion, 1 shrimp, 16.6ms\n",
      "image 13/51 c:\\Users\\user\\Desktop\\FINAL\\final-project\\16\\data\\14\\test\\images\\DSC_6069_JPG_jpg.rf.84034956163d2654b1ea41786d3b6189.jpg: 640x640 1 apple, 1 bread, 1 butter, 1 cheese, 1 chicken_breast, 1 chocolate, 1 eggs, 1 flour, 1 green_beans, 1 mushrooms, 1 onion, 1 shrimp, 1 sugar, 17.9ms\n",
      "image 14/51 c:\\Users\\user\\Desktop\\FINAL\\final-project\\16\\data\\14\\test\\images\\DSC_6072_JPG_jpg.rf.5873ad8da06b887c08a768c5655f320b.jpg: 640x640 1 apple, 1 beef, 1 bread, 1 butter, 1 cheese, 1 chicken_breast, 1 eggs, 1 flour, 1 green_beans, 1 lime, 1 onion, 1 shrimp, 1 spinach, 22.4ms\n",
      "image 15/51 c:\\Users\\user\\Desktop\\FINAL\\final-project\\16\\data\\14\\test\\images\\DSC_6073_JPG_jpg.rf.6fce287076b0a40cd67889aab85418a7.jpg: 640x640 1 apple, 1 beef, 1 bread, 1 cheese, 1 chicken_breast, 1 eggs, 1 flour, 1 green_beans, 1 onion, 1 potato, 1 shrimp, 16.5ms\n",
      "image 16/51 c:\\Users\\user\\Desktop\\FINAL\\final-project\\16\\data\\14\\test\\images\\DSC_6074_JPG_jpg.rf.f88f78a1872d7cf3f5834d7bbbad65cc.jpg: 640x640 1 apple, 1 beef, 1 cheese, 1 chicken_breast, 1 eggs, 1 flour, 1 green_beans, 1 lime, 1 onion, 1 potato, 1 shrimp, 16.2ms\n",
      "image 17/51 c:\\Users\\user\\Desktop\\FINAL\\final-project\\16\\data\\14\\test\\images\\DSC_6076_JPG_jpg.rf.7e91bf702c848a342ca9f27e720eb698.jpg: 640x640 1 beef, 1 blueberries, 1 cheese, 1 chicken_breast, 1 eggs, 1 flour, 2 green_beanss, 1 lime, 1 onion, 1 potato, 1 spinach, 15.4ms\n",
      "image 18/51 c:\\Users\\user\\Desktop\\FINAL\\final-project\\16\\data\\14\\test\\images\\DSC_6077_JPG_jpg.rf.288867a7b9a9a2e7c70751cfabc2a1db.jpg: 640x640 1 beef, 1 blueberries, 1 cheese, 1 eggs, 1 flour, 1 green_beans, 1 lime, 1 onion, 1 potato, 1 spinach, 15.9ms\n",
      "image 19/51 c:\\Users\\user\\Desktop\\FINAL\\final-project\\16\\data\\14\\test\\images\\DSC_6078_JPG_jpg.rf.fc893aec75fed3ce0858b6e463a6f3a8.jpg: 640x640 1 beef, 1 blueberries, 1 cheese, 1 eggs, 1 flour, 1 green_beans, 1 lime, 1 onion, 1 potato, 1 spinach, 15.6ms\n",
      "image 20/51 c:\\Users\\user\\Desktop\\FINAL\\final-project\\16\\data\\14\\test\\images\\DSC_6079_JPG_jpg.rf.cfa6235726a16182fee204865c7ec52d.jpg: 640x640 1 beef, 1 blueberries, 1 cheese, 1 chicken_breast, 1 eggs, 1 flour, 1 green_beans, 1 lime, 1 onion, 1 potato, 1 spinach, 15.3ms\n",
      "image 21/51 c:\\Users\\user\\Desktop\\FINAL\\final-project\\16\\data\\14\\test\\images\\DSC_6080_JPG_jpg.rf.dd18c6ec8d9f3c84689d4ee527a43cff.jpg: 640x640 1 beef, 1 blueberries, 1 cheese, 1 chicken, 1 chicken_breast, 1 eggs, 1 flour, 1 lime, 1 onion, 1 potato, 16.4ms\n",
      "image 22/51 c:\\Users\\user\\Desktop\\FINAL\\final-project\\16\\data\\14\\test\\images\\DSC_6082_JPG_jpg.rf.5826a63def4bcc615717da331d38e901.jpg: 640x640 1 beef, 1 blueberries, 1 chicken, 1 chicken_breast, 1 corn, 1 eggs, 1 flour, 1 lime, 1 milk, 1 potato, 1 tomato, 14.8ms\n",
      "image 23/51 c:\\Users\\user\\Desktop\\FINAL\\final-project\\16\\data\\14\\test\\images\\DSC_6083_JPG_jpg.rf.c6e66a02ab7dada63a83a7463190e8c3.jpg: 640x640 1 beef, 1 blueberries, 1 chicken, 1 chicken_breast, 1 corn, 1 eggs, 1 flour, 1 milk, 1 mushrooms, 1 potato, 1 tomato, 15.0ms\n",
      "image 24/51 c:\\Users\\user\\Desktop\\FINAL\\final-project\\16\\data\\14\\test\\images\\DSC_6084_JPG_jpg.rf.f7deac2397b83ba9075619a979cc5613.jpg: 640x640 2 beefs, 1 blueberries, 1 butter, 1 chicken, 1 chicken_breast, 1 corn, 1 eggs, 1 flour, 1 milk, 1 potato, 16.9ms\n",
      "image 25/51 c:\\Users\\user\\Desktop\\FINAL\\final-project\\16\\data\\14\\test\\images\\DSC_6085_JPG_jpg.rf.1d156d69a4a4348e1274b71a9ff91f0d.jpg: 640x640 1 beef, 1 blueberries, 1 butter, 1 chicken, 1 chicken_breast, 1 corn, 1 eggs, 1 flour, 1 mushrooms, 1 potato, 1 strawberries, 17.5ms\n",
      "image 26/51 c:\\Users\\user\\Desktop\\FINAL\\final-project\\16\\data\\14\\test\\images\\DSC_6089_JPG_jpg.rf.fa37d8ef13cb74d0b20cbe3a5331789a.jpg: 640x640 2 beefs, 1 blueberries, 1 chicken, 1 corn, 1 eggs, 1 flour, 1 heavy_cream, 1 milk, 2 potatos, 1 strawberries, 16.1ms\n",
      "image 27/51 c:\\Users\\user\\Desktop\\FINAL\\final-project\\16\\data\\14\\test\\images\\DSC_6090_JPG_jpg.rf.c5fd03c031efa773a79bbd0f40025ae9.jpg: 640x640 2 beefs, 1 blueberries, 1 cheese, 1 chicken, 1 corn, 1 eggs, 1 flour, 1 milk, 1 potato, 1 strawberries, 19.3ms\n",
      "image 28/51 c:\\Users\\user\\Desktop\\FINAL\\final-project\\16\\data\\14\\test\\images\\DSC_6091_JPG_jpg.rf.d9493f73a3360959aa1ecc64176e67c6.jpg: 640x640 1 beef, 1 blueberries, 1 cheese, 1 chicken, 1 chocolate, 1 corn, 1 eggs, 1 flour, 1 milk, 2 potatos, 1 strawberries, 16.4ms\n",
      "image 29/51 c:\\Users\\user\\Desktop\\FINAL\\final-project\\16\\data\\14\\test\\images\\DSC_6092_JPG_jpg.rf.05eb9a1289d9aa88e05b6403b6a4bfc2.jpg: 640x640 1 beef, 1 blueberries, 1 cheese, 1 chicken, 1 chocolate, 1 corn, 1 eggs, 1 flour, 2 milks, 2 potatos, 1 strawberries, 1 sugar, 17.5ms\n",
      "image 30/51 c:\\Users\\user\\Desktop\\FINAL\\final-project\\16\\data\\14\\test\\images\\DSC_6093_JPG_jpg.rf.1ce230d6d529e44c6644c672e05e2957.jpg: 640x640 1 apple, 1 beef, 1 blueberries, 1 cheese, 1 chicken, 1 chocolate, 1 corn, 1 eggs, 1 flour, 2 limes, 3 milks, 1 potato, 1 strawberries, 18.0ms\n",
      "image 31/51 c:\\Users\\user\\Desktop\\FINAL\\final-project\\16\\data\\14\\test\\images\\DSC_6095_JPG_jpg.rf.f2a7d4dce16f81a68e5ff5abcce2b5fc.jpg: 640x640 1 apple, 1 beef, 1 blueberries, 1 carrot, 1 chicken, 1 chicken_breast, 1 corn, 1 eggs, 2 milks, 1 onion, 1 strawberries, 16.5ms\n",
      "image 32/51 c:\\Users\\user\\Desktop\\FINAL\\final-project\\16\\data\\14\\test\\images\\DSC_6096_JPG_jpg.rf.9a8bd1abb671636f1571e8f6b35edeba.jpg: 640x640 1 apple, 1 beef, 1 blueberries, 1 carrot, 1 chicken, 1 chicken_breast, 1 corn, 1 eggs, 1 flour, 1 ground_beef, 2 milks, 1 strawberries, 14.7ms\n",
      "image 33/51 c:\\Users\\user\\Desktop\\FINAL\\final-project\\16\\data\\14\\test\\images\\DSC_6097_JPG_jpg.rf.f19732a3986e212e490be477045c14de.jpg: 640x640 1 apple, 1 beef, 1 blueberries, 1 carrot, 1 chicken, 1 chicken_breast, 1 corn, 1 eggs, 1 flour, 1 ground_beef, 1 milk, 1 strawberries, 18.4ms\n",
      "image 34/51 c:\\Users\\user\\Desktop\\FINAL\\final-project\\16\\data\\14\\test\\images\\DSC_6098_JPG_jpg.rf.bbcafc7e8d30934d085fb4861f858c19.jpg: 640x640 1 apple, 1 beef, 1 blueberries, 1 carrot, 1 chicken, 1 chicken_breast, 1 corn, 1 eggs, 1 flour, 1 ground_beef, 1 milk, 1 strawberries, 1 sugar, 18.1ms\n",
      "image 35/51 c:\\Users\\user\\Desktop\\FINAL\\final-project\\16\\data\\14\\test\\images\\DSC_6099_JPG_jpg.rf.3039514604f0ad81210a752a39882524.jpg: 640x640 1 apple, 1 beef, 1 blueberries, 1 bread, 1 carrot, 1 chicken, 1 chicken_breast, 1 corn, 1 eggs, 1 flour, 1 ground_beef, 1 milk, 1 sugar, 14.0ms\n",
      "image 36/51 c:\\Users\\user\\Desktop\\FINAL\\final-project\\16\\data\\14\\test\\images\\DSC_6100_JPG_jpg.rf.7120b7220cd97f99aa583effd1abf327.jpg: 640x640 1 apple, 1 beef, 1 bread, 1 carrot, 1 chicken, 1 chicken_breast, 1 corn, 1 eggs, 1 flour, 1 ground_beef, 1 milk, 1 sugar, 16.9ms\n",
      "image 37/51 c:\\Users\\user\\Desktop\\FINAL\\final-project\\16\\data\\14\\test\\images\\DSC_6104_JPG_jpg.rf.e15e409dc36be42b274c64ef99005173.jpg: 640x640 1 apple, 2 beefs, 1 bread, 1 chicken, 1 eggs, 1 flour, 1 ground_beef, 1 lime, 1 milk, 1 shrimp, 1 sugar, 15.0ms\n",
      "image 38/51 c:\\Users\\user\\Desktop\\FINAL\\final-project\\16\\data\\14\\test\\images\\DSC_6105_JPG_jpg.rf.ff0a91dcb57df0748309bc56f19afd21.jpg: 640x640 1 apple, 2 beefs, 1 bread, 1 cheese, 1 chicken, 1 chicken_breast, 1 eggs, 1 flour, 1 ground_beef, 2 limes, 2 milks, 1 shrimp, 1 sugar, 14.0ms\n",
      "image 39/51 c:\\Users\\user\\Desktop\\FINAL\\final-project\\16\\data\\14\\test\\images\\DSC_6106_JPG_jpg.rf.acbbcdb96e5ac7389d43925a6af23102.jpg: 640x640 1 apple, 1 beef, 1 bread, 1 cheese, 1 chicken, 1 eggs, 1 flour, 1 ground_beef, 1 lime, 2 milks, 2 shrimps, 1 sugar, 15.0ms\n",
      "image 40/51 c:\\Users\\user\\Desktop\\FINAL\\final-project\\16\\data\\14\\test\\images\\DSC_6107_JPG_jpg.rf.2bb5660c99f5942f8b6dcca5c7ba9a16.jpg: 640x640 1 apple, 1 beef, 1 bread, 1 butter, 1 cheese, 1 chicken, 1 eggs, 1 flour, 1 ground_beef, 1 lime, 1 milk, 2 shrimps, 1 sugar, 15.0ms\n",
      "image 41/51 c:\\Users\\user\\Desktop\\FINAL\\final-project\\16\\data\\14\\test\\images\\DSC_6108_JPG_jpg.rf.38cc9fcc1ddf0fc0c8f80ffaeb52488a.jpg: 640x640 1 apple, 1 beef, 1 bread, 1 butter, 1 carrot, 1 cheese, 1 chicken, 1 chicken_breast, 1 eggs, 2 flours, 1 ground_beef, 1 lime, 1 milk, 1 shrimp, 1 sugar, 15.9ms\n",
      "image 42/51 c:\\Users\\user\\Desktop\\FINAL\\final-project\\16\\data\\14\\test\\images\\DSC_6110_JPG_jpg.rf.f13fb135d157fd365b2241c4a2d7fe02.jpg: 640x640 1 apple, 1 beef, 1 butter, 1 chicken, 1 eggs, 2 flours, 1 green_beans, 1 ground_beef, 1 milk, 1 shrimp, 14.9ms\n",
      "image 43/51 c:\\Users\\user\\Desktop\\FINAL\\final-project\\16\\data\\14\\test\\images\\DSC_6111_JPG_jpg.rf.d1bd597e751651dcb4352eae69d689ef.jpg: 640x640 1 apple, 2 beefs, 1 butter, 1 carrot, 1 chicken, 1 eggs, 2 flours, 1 green_beans, 1 ground_beef, 1 milk, 1 shrimp, 14.9ms\n",
      "image 44/51 c:\\Users\\user\\Desktop\\FINAL\\final-project\\16\\data\\14\\test\\images\\DSC_6112_JPG_jpg.rf.7adc4e1f67cd111a7aebd2d3af0d264b.jpg: 640x640 1 apple, 1 butter, 1 carrot, 1 cheese, 1 chicken, 1 chicken_breast, 1 eggs, 1 flour, 1 green_beans, 1 ground_beef, 1 lime, 1 shrimp, 1 strawberries, 1 sweet_potato, 15.0ms\n",
      "image 45/51 c:\\Users\\user\\Desktop\\FINAL\\final-project\\16\\data\\14\\test\\images\\DSC_6113_JPG_jpg.rf.9a7c1f6ada4508c5b4b9b518e1252dfc.jpg: 640x640 1 apple, 1 bread, 1 cheese, 1 chicken, 1 eggs, 1 flour, 1 green_beans, 1 ground_beef, 1 lime, 1 milk, 1 mushrooms, 1 onion, 1 shrimp, 1 sweet_potato, 14.0ms\n",
      "image 46/51 c:\\Users\\user\\Desktop\\FINAL\\final-project\\16\\data\\14\\test\\images\\DSC_6115_JPG_jpg.rf.47488bf353646497486a31e6a0a5e43e.jpg: 640x640 1 bread, 1 carrot, 1 cheese, 1 chicken, 1 flour, 1 green_beans, 1 ground_beef, 1 lime, 1 milk, 1 onion, 1 strawberries, 1 sweet_potato, 1 tomato, 15.0ms\n",
      "image 47/51 c:\\Users\\user\\Desktop\\FINAL\\final-project\\16\\data\\14\\test\\images\\DSC_6116_JPG_jpg.rf.fbf038d25af223dd2e9fdd55b262a062.jpg: 640x640 1 carrot, 1 cheese, 1 chicken, 1 corn, 1 flour, 1 ground_beef, 1 heavy_cream, 2 limes, 1 milk, 1 mushrooms, 1 onion, 1 strawberries, 1 sweet_potato, 1 tomato, 15.9ms\n",
      "image 48/51 c:\\Users\\user\\Desktop\\FINAL\\final-project\\16\\data\\14\\test\\images\\DSC_6118_JPG_jpg.rf.59a322b5925c268682d8f3049d37db7e.jpg: 640x640 1 bread, 1 chicken, 1 chicken_breast, 1 eggs, 1 flour, 1 green_beans, 1 ground_beef, 1 ham, 1 heavy_cream, 1 milk, 1 mushrooms, 1 onion, 1 spinach, 1 strawberries, 1 tomato, 16.0ms\n",
      "image 49/51 c:\\Users\\user\\Desktop\\FINAL\\final-project\\16\\data\\14\\test\\images\\DSC_6119_JPG_jpg.rf.66f55ef8c2f07e811b33307ee130cdbc.jpg: 640x640 1 bread, 1 chicken, 1 chicken_breast, 1 eggs, 1 flour, 1 green_beans, 1 ground_beef, 1 ham, 1 heavy_cream, 1 milk, 1 mushrooms, 1 onion, 1 spinach, 1 strawberries, 1 tomato, 14.9ms\n",
      "image 50/51 c:\\Users\\user\\Desktop\\FINAL\\final-project\\16\\data\\14\\test\\images\\DSC_6120_JPG_jpg.rf.c22d6d6e7c23ea5ed6729a4362b2d20f.jpg: 640x640 1 chicken, 1 chicken_breast, 1 eggs, 1 flour, 1 green_beans, 1 ground_beef, 1 milk, 1 mushrooms, 1 onion, 1 potato, 2 spinachs, 1 strawberries, 1 sugar, 1 tomato, 17.9ms\n",
      "image 51/51 c:\\Users\\user\\Desktop\\FINAL\\final-project\\16\\data\\14\\test\\images\\DSC_6121_JPG_jpg.rf.46804f374a0f5f83ea880d6eb02d3364.jpg: 640x640 1 bread, 1 cheese, 1 chicken, 1 chicken_breast, 1 eggs, 1 flour, 1 green_beans, 1 ground_beef, 1 milk, 1 mushrooms, 1 potato, 1 shrimp, 1 spinach, 1 tomato, 14.9ms\n",
      "Speed: 1.8ms preprocess, 17.5ms inference, 1.3ms postprocess per image at shape (1, 3, 640, 640)\n",
      "Results saved to \u001b[1mruns\\detect\\train22\u001b[0m\n"
     ]
    }
   ],
   "source": [
    "from ultralytics import YOLO\n",
    "import torch\n",
    "\n",
    "model = YOLO('yolov9s.pt')\n",
    "\n",
    "model.train(data = r'C:\\Users\\user\\Desktop\\FINAL\\final-project\\16\\data\\14\\data.yaml', \n",
    "            epochs=100, \n",
    "            patience=30, \n",
    "            batch=16, \n",
    "            imgsz=640)\n",
    "\n",
    "torch.cuda.empty_cache()\n",
    "\n",
    "results = model.predict(source=\"test\\images\", save=True)"
   ]
  },
  {
   "cell_type": "code",
   "execution_count": null,
   "metadata": {},
   "outputs": [],
   "source": []
  }
 ],
 "metadata": {
  "kernelspec": {
   "display_name": "Python 3",
   "language": "python",
   "name": "python3"
  },
  "language_info": {
   "codemirror_mode": {
    "name": "ipython",
    "version": 3
   },
   "file_extension": ".py",
   "mimetype": "text/x-python",
   "name": "python",
   "nbconvert_exporter": "python",
   "pygments_lexer": "ipython3",
   "version": "3.11.8"
  }
 },
 "nbformat": 4,
 "nbformat_minor": 2
}
