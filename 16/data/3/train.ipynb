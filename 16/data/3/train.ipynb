{
 "cells": [
  {
   "cell_type": "code",
   "execution_count": 1,
   "metadata": {},
   "outputs": [
    {
     "name": "stdout",
     "output_type": "stream",
     "text": [
      "New https://pypi.org/project/ultralytics/8.2.59 available  Update with 'pip install -U ultralytics'\n",
      "Ultralytics YOLOv8.2.54  Python-3.11.8 torch-2.3.0+cu118 CUDA:0 (NVIDIA GeForce RTX 4060 Laptop GPU, 8188MiB)\n",
      "\u001b[34m\u001b[1mengine\\trainer: \u001b[0mtask=detect, mode=train, model=yolov9s.pt, data=C:\\Users\\user\\Desktop\\FINAL\\final-project\\16\\data\\3\\data.yaml, epochs=100, time=None, patience=30, batch=16, imgsz=640, save=True, save_period=-1, cache=False, device=None, workers=8, project=None, name=train2, exist_ok=False, pretrained=True, optimizer=auto, verbose=True, seed=0, deterministic=True, single_cls=False, rect=False, cos_lr=False, close_mosaic=10, resume=False, amp=True, fraction=1.0, profile=False, freeze=None, multi_scale=False, overlap_mask=True, mask_ratio=4, dropout=0.0, val=True, split=val, save_json=False, save_hybrid=False, conf=None, iou=0.7, max_det=300, half=False, dnn=False, plots=True, source=None, vid_stride=1, stream_buffer=False, visualize=False, augment=False, agnostic_nms=False, classes=None, retina_masks=False, embed=None, show=False, save_frames=False, save_txt=False, save_conf=False, save_crop=False, show_labels=True, show_conf=True, show_boxes=True, line_width=None, format=torchscript, keras=False, optimize=False, int8=False, dynamic=False, simplify=False, opset=None, workspace=4, nms=False, lr0=0.01, lrf=0.01, momentum=0.937, weight_decay=0.0005, warmup_epochs=3.0, warmup_momentum=0.8, warmup_bias_lr=0.1, box=7.5, cls=0.5, dfl=1.5, pose=12.0, kobj=1.0, label_smoothing=0.0, nbs=64, hsv_h=0.015, hsv_s=0.7, hsv_v=0.4, degrees=0.0, translate=0.1, scale=0.5, shear=0.0, perspective=0.0, flipud=0.0, fliplr=0.5, bgr=0.0, mosaic=1.0, mixup=0.0, copy_paste=0.0, auto_augment=randaugment, erasing=0.4, crop_fraction=1.0, cfg=None, tracker=botsort.yaml, save_dir=runs\\detect\\train2\n",
      "Overriding model.yaml nc=80 with nc=61\n",
      "\n",
      "                   from  n    params  module                                       arguments                     \n",
      "  0                  -1  1       928  ultralytics.nn.modules.conv.Conv             [3, 32, 3, 2]                 \n",
      "  1                  -1  1     18560  ultralytics.nn.modules.conv.Conv             [32, 64, 3, 2]                \n",
      "  2                  -1  1     31104  ultralytics.nn.modules.block.ELAN1           [64, 64, 64, 32]              \n",
      "  3                  -1  1     73984  ultralytics.nn.modules.block.AConv           [64, 128]                     \n",
      "  4                  -1  1    258432  ultralytics.nn.modules.block.RepNCSPELAN4    [128, 128, 128, 64, 3]        \n",
      "  5                  -1  1    221568  ultralytics.nn.modules.block.AConv           [128, 192]                    \n",
      "  6                  -1  1    579648  ultralytics.nn.modules.block.RepNCSPELAN4    [192, 192, 192, 96, 3]        \n",
      "  7                  -1  1    442880  ultralytics.nn.modules.block.AConv           [192, 256]                    \n",
      "  8                  -1  1   1028864  ultralytics.nn.modules.block.RepNCSPELAN4    [256, 256, 256, 128, 3]       \n",
      "  9                  -1  1    164608  ultralytics.nn.modules.block.SPPELAN         [256, 256, 128]               \n",
      " 10                  -1  1         0  torch.nn.modules.upsampling.Upsample         [None, 2, 'nearest']          \n",
      " 11             [-1, 6]  1         0  ultralytics.nn.modules.conv.Concat           [1]                           \n",
      " 12                  -1  1    628800  ultralytics.nn.modules.block.RepNCSPELAN4    [448, 192, 192, 96, 3]        \n",
      " 13                  -1  1         0  torch.nn.modules.upsampling.Upsample         [None, 2, 'nearest']          \n",
      " 14             [-1, 4]  1         0  ultralytics.nn.modules.conv.Concat           [1]                           \n",
      " 15                  -1  1    283008  ultralytics.nn.modules.block.RepNCSPELAN4    [320, 128, 128, 64, 3]        \n",
      " 16                  -1  1    110784  ultralytics.nn.modules.block.AConv           [128, 96]                     \n",
      " 17            [-1, 12]  1         0  ultralytics.nn.modules.conv.Concat           [1]                           \n",
      " 18                  -1  1    598080  ultralytics.nn.modules.block.RepNCSPELAN4    [288, 192, 192, 96, 3]        \n",
      " 19                  -1  1    221440  ultralytics.nn.modules.block.AConv           [192, 128]                    \n",
      " 20             [-1, 9]  1         0  ultralytics.nn.modules.conv.Concat           [1]                           \n",
      " 21                  -1  1   1061632  ultralytics.nn.modules.block.RepNCSPELAN4    [384, 256, 256, 128, 3]       \n",
      " 22        [15, 18, 21]  1   1586695  ultralytics.nn.modules.head.Detect           [61, [128, 192, 256]]         \n",
      "YOLOv9s summary: 917 layers, 7311015 parameters, 7310999 gradients, 27.5 GFLOPs\n",
      "\n",
      "Transferred 1333/1339 items from pretrained weights\n",
      "\u001b[34m\u001b[1mTensorBoard: \u001b[0mStart with 'tensorboard --logdir runs\\detect\\train2', view at http://localhost:6006/\n",
      "Freezing layer 'model.22.dfl.conv.weight'\n",
      "\u001b[34m\u001b[1mAMP: \u001b[0mrunning Automatic Mixed Precision (AMP) checks with YOLOv8n...\n"
     ]
    },
    {
     "name": "stderr",
     "output_type": "stream",
     "text": [
      "c:\\Users\\user\\AppData\\Local\\Programs\\Python\\Python311\\Lib\\site-packages\\tqdm\\auto.py:21: TqdmWarning: IProgress not found. Please update jupyter and ipywidgets. See https://ipywidgets.readthedocs.io/en/stable/user_install.html\n",
      "  from .autonotebook import tqdm as notebook_tqdm\n",
      "c:\\Users\\user\\AppData\\Local\\Programs\\Python\\Python311\\Lib\\site-packages\\torch\\nn\\modules\\conv.py:456: UserWarning: Plan failed with a cudnnException: CUDNN_BACKEND_EXECUTION_PLAN_DESCRIPTOR: cudnnFinalize Descriptor Failed cudnn_status: CUDNN_STATUS_NOT_SUPPORTED (Triggered internally at ..\\aten\\src\\ATen\\native\\cudnn\\Conv_v8.cpp:919.)\n",
      "  return F.conv2d(input, weight, bias, self.stride,\n"
     ]
    },
    {
     "name": "stdout",
     "output_type": "stream",
     "text": [
      "\u001b[34m\u001b[1mAMP: \u001b[0mchecks passed \n"
     ]
    },
    {
     "name": "stderr",
     "output_type": "stream",
     "text": [
      "\u001b[34m\u001b[1mtrain: \u001b[0mScanning C:\\Users\\user\\Desktop\\FINAL\\final-project\\16\\data\\3\\train\\labels.cache... 3368 images, 82 backgrounds, 0 corrupt: 100%|██████████| 3368/3368 [00:00<?, ?it/s]"
     ]
    },
    {
     "name": "stdout",
     "output_type": "stream",
     "text": [
      "\u001b[34m\u001b[1mtrain: \u001b[0mWARNING  C:\\Users\\user\\Desktop\\FINAL\\final-project\\16\\data\\3\\train\\images\\Image_29_jpg.rf.14e1551c2d94362c173040482fcd8449.jpg: 1 duplicate labels removed\n",
      "\u001b[34m\u001b[1mtrain: \u001b[0mWARNING  C:\\Users\\user\\Desktop\\FINAL\\final-project\\16\\data\\3\\train\\images\\Image_36_jpg.rf.3d758c93f0448beb907105f7e36e99cb.jpg: 1 duplicate labels removed\n",
      "\u001b[34m\u001b[1mtrain: \u001b[0mWARNING  C:\\Users\\user\\Desktop\\FINAL\\final-project\\16\\data\\3\\train\\images\\Image_36_jpg.rf.4ddc834672c554ee51b8734de195d7c9.jpg: 1 duplicate labels removed\n",
      "\u001b[34m\u001b[1mtrain: \u001b[0mWARNING  C:\\Users\\user\\Desktop\\FINAL\\final-project\\16\\data\\3\\train\\images\\Image_45_jpg.rf.ddaccb8c53530247f13fbd2fc73fc297.jpg: 1 duplicate labels removed\n",
      "\u001b[34m\u001b[1mtrain: \u001b[0mWARNING  C:\\Users\\user\\Desktop\\FINAL\\final-project\\16\\data\\3\\train\\images\\Image_45_jpg.rf.eec17c123303639c4cc3ae8866092183.jpg: 1 duplicate labels removed\n",
      "\u001b[34m\u001b[1mtrain: \u001b[0mWARNING  C:\\Users\\user\\Desktop\\FINAL\\final-project\\16\\data\\3\\train\\images\\white-shelled-egg-500x500_jpg.rf.181099392b3baa225608fef416f00ea3.jpg: 1 duplicate labels removed\n",
      "WARNING  Box and segment counts should be equal, but got len(segments) = 4624, len(boxes) = 13131. To resolve this only boxes will be used and all segments will be removed. To avoid this please supply either a detect or segment dataset, not a detect-segment mixed dataset.\n"
     ]
    },
    {
     "name": "stderr",
     "output_type": "stream",
     "text": [
      "\n",
      "\u001b[34m\u001b[1mval: \u001b[0mScanning C:\\Users\\user\\Desktop\\FINAL\\final-project\\16\\data\\3\\valid\\labels.cache... 637 images, 12 backgrounds, 0 corrupt: 100%|██████████| 637/637 [00:00<?, ?it/s]"
     ]
    },
    {
     "name": "stdout",
     "output_type": "stream",
     "text": [
      "\u001b[34m\u001b[1mval: \u001b[0mWARNING  C:\\Users\\user\\Desktop\\FINAL\\final-project\\16\\data\\3\\valid\\images\\Image_31_jpg.rf.d8d7668d94e756e7759903f2754a919e.jpg: 1 duplicate labels removed\n",
      "\u001b[34m\u001b[1mval: \u001b[0mWARNING  C:\\Users\\user\\Desktop\\FINAL\\final-project\\16\\data\\3\\valid\\images\\cinnamon-1-_jpg.rf.ff80dd0a1eb44d56f8888ab0125a6380.jpg: 1 duplicate labels removed\n",
      "\u001b[34m\u001b[1mval: \u001b[0mWARNING  C:\\Users\\user\\Desktop\\FINAL\\final-project\\16\\data\\3\\valid\\images\\tmp_yp12oV_47ce79a0a011adf5_GettyImages-1536235481_jpg.rf.a3651abd9949f079d33e96960ddf8e22.jpg: 1 duplicate labels removed\n",
      "\u001b[34m\u001b[1mval: \u001b[0mWARNING  C:\\Users\\user\\Desktop\\FINAL\\final-project\\16\\data\\3\\valid\\images\\what-is-cinnamon-4x3-c5c5736114e74d75a56fe2039e2c1437_jpg.rf.1a2ad38ba954482547fd0c79dd7d4873.jpg: 1 duplicate labels removed\n",
      "WARNING  Box and segment counts should be equal, but got len(segments) = 811, len(boxes) = 2337. To resolve this only boxes will be used and all segments will be removed. To avoid this please supply either a detect or segment dataset, not a detect-segment mixed dataset.\n"
     ]
    },
    {
     "name": "stderr",
     "output_type": "stream",
     "text": [
      "\n"
     ]
    },
    {
     "name": "stdout",
     "output_type": "stream",
     "text": [
      "Plotting labels to runs\\detect\\train2\\labels.jpg... \n",
      "\u001b[34m\u001b[1moptimizer:\u001b[0m 'optimizer=auto' found, ignoring 'lr0=0.01' and 'momentum=0.937' and determining best 'optimizer', 'lr0' and 'momentum' automatically... \n",
      "\u001b[34m\u001b[1moptimizer:\u001b[0m AdamW(lr=0.000154, momentum=0.9) with parameter groups 221 weight(decay=0.0), 228 weight(decay=0.0005), 227 bias(decay=0.0)\n",
      "\u001b[34m\u001b[1mTensorBoard: \u001b[0mmodel graph visualization added \n",
      "Image sizes 640 train, 640 val\n",
      "Using 8 dataloader workers\n",
      "Logging results to \u001b[1mruns\\detect\\train2\u001b[0m\n",
      "Starting training for 100 epochs...\n",
      "\n",
      "      Epoch    GPU_mem   box_loss   cls_loss   dfl_loss  Instances       Size\n"
     ]
    },
    {
     "name": "stderr",
     "output_type": "stream",
     "text": [
      "      1/100      5.22G      1.384      4.208      1.787         54        640: 100%|██████████| 211/211 [01:02<00:00,  3.36it/s]\n",
      "                 Class     Images  Instances      Box(P          R      mAP50  mAP50-95): 100%|██████████| 20/20 [00:05<00:00,  3.47it/s]"
     ]
    },
    {
     "name": "stdout",
     "output_type": "stream",
     "text": [
      "                   all        637       2337      0.325      0.206      0.161      0.106\n"
     ]
    },
    {
     "name": "stderr",
     "output_type": "stream",
     "text": [
      "\n"
     ]
    },
    {
     "name": "stdout",
     "output_type": "stream",
     "text": [
      "\n",
      "      Epoch    GPU_mem   box_loss   cls_loss   dfl_loss  Instances       Size\n"
     ]
    },
    {
     "name": "stderr",
     "output_type": "stream",
     "text": [
      "      2/100      5.56G      1.254      2.763      1.606         67        640: 100%|██████████| 211/211 [00:56<00:00,  3.72it/s]\n",
      "                 Class     Images  Instances      Box(P          R      mAP50  mAP50-95): 100%|██████████| 20/20 [00:05<00:00,  3.96it/s]"
     ]
    },
    {
     "name": "stdout",
     "output_type": "stream",
     "text": [
      "                   all        637       2337      0.403      0.365      0.308      0.205\n"
     ]
    },
    {
     "name": "stderr",
     "output_type": "stream",
     "text": [
      "\n"
     ]
    },
    {
     "name": "stdout",
     "output_type": "stream",
     "text": [
      "\n",
      "      Epoch    GPU_mem   box_loss   cls_loss   dfl_loss  Instances       Size\n"
     ]
    },
    {
     "name": "stderr",
     "output_type": "stream",
     "text": [
      "      3/100      5.55G      1.207      2.278      1.559         46        640: 100%|██████████| 211/211 [00:56<00:00,  3.74it/s]\n",
      "                 Class     Images  Instances      Box(P          R      mAP50  mAP50-95): 100%|██████████| 20/20 [00:05<00:00,  3.98it/s]"
     ]
    },
    {
     "name": "stdout",
     "output_type": "stream",
     "text": [
      "                   all        637       2337      0.543      0.389      0.405      0.275\n"
     ]
    },
    {
     "name": "stderr",
     "output_type": "stream",
     "text": [
      "\n"
     ]
    },
    {
     "name": "stdout",
     "output_type": "stream",
     "text": [
      "\n",
      "      Epoch    GPU_mem   box_loss   cls_loss   dfl_loss  Instances       Size\n"
     ]
    },
    {
     "name": "stderr",
     "output_type": "stream",
     "text": [
      "      4/100      5.35G      1.186      1.997      1.535         45        640: 100%|██████████| 211/211 [00:55<00:00,  3.81it/s]\n",
      "                 Class     Images  Instances      Box(P          R      mAP50  mAP50-95): 100%|██████████| 20/20 [00:04<00:00,  4.06it/s]"
     ]
    },
    {
     "name": "stdout",
     "output_type": "stream",
     "text": [
      "                   all        637       2337      0.507      0.477      0.436      0.292\n"
     ]
    },
    {
     "name": "stderr",
     "output_type": "stream",
     "text": [
      "\n"
     ]
    },
    {
     "name": "stdout",
     "output_type": "stream",
     "text": [
      "\n",
      "      Epoch    GPU_mem   box_loss   cls_loss   dfl_loss  Instances       Size\n"
     ]
    },
    {
     "name": "stderr",
     "output_type": "stream",
     "text": [
      "      5/100      5.35G      1.165      1.832      1.518         45        640: 100%|██████████| 211/211 [00:55<00:00,  3.80it/s]\n",
      "                 Class     Images  Instances      Box(P          R      mAP50  mAP50-95): 100%|██████████| 20/20 [00:04<00:00,  4.07it/s]"
     ]
    },
    {
     "name": "stdout",
     "output_type": "stream",
     "text": [
      "                   all        637       2337       0.53      0.486      0.458      0.311\n"
     ]
    },
    {
     "name": "stderr",
     "output_type": "stream",
     "text": [
      "\n"
     ]
    },
    {
     "name": "stdout",
     "output_type": "stream",
     "text": [
      "\n",
      "      Epoch    GPU_mem   box_loss   cls_loss   dfl_loss  Instances       Size\n"
     ]
    },
    {
     "name": "stderr",
     "output_type": "stream",
     "text": [
      "      6/100      5.43G      1.133      1.706      1.491         56        640: 100%|██████████| 211/211 [00:55<00:00,  3.81it/s]\n",
      "                 Class     Images  Instances      Box(P          R      mAP50  mAP50-95): 100%|██████████| 20/20 [00:04<00:00,  4.05it/s]"
     ]
    },
    {
     "name": "stdout",
     "output_type": "stream",
     "text": [
      "                   all        637       2337      0.576      0.475       0.48      0.327\n"
     ]
    },
    {
     "name": "stderr",
     "output_type": "stream",
     "text": [
      "\n"
     ]
    },
    {
     "name": "stdout",
     "output_type": "stream",
     "text": [
      "\n",
      "      Epoch    GPU_mem   box_loss   cls_loss   dfl_loss  Instances       Size\n"
     ]
    },
    {
     "name": "stderr",
     "output_type": "stream",
     "text": [
      "      7/100      5.58G      1.124      1.613       1.49         61        640: 100%|██████████| 211/211 [00:55<00:00,  3.80it/s]\n",
      "                 Class     Images  Instances      Box(P          R      mAP50  mAP50-95): 100%|██████████| 20/20 [00:04<00:00,  4.05it/s]"
     ]
    },
    {
     "name": "stdout",
     "output_type": "stream",
     "text": [
      "                   all        637       2337      0.523      0.521      0.515      0.343\n"
     ]
    },
    {
     "name": "stderr",
     "output_type": "stream",
     "text": [
      "\n"
     ]
    },
    {
     "name": "stdout",
     "output_type": "stream",
     "text": [
      "\n",
      "      Epoch    GPU_mem   box_loss   cls_loss   dfl_loss  Instances       Size\n"
     ]
    },
    {
     "name": "stderr",
     "output_type": "stream",
     "text": [
      "      8/100      5.48G      1.086       1.52      1.462         35        640: 100%|██████████| 211/211 [00:55<00:00,  3.80it/s]\n",
      "                 Class     Images  Instances      Box(P          R      mAP50  mAP50-95): 100%|██████████| 20/20 [00:04<00:00,  4.10it/s]"
     ]
    },
    {
     "name": "stdout",
     "output_type": "stream",
     "text": [
      "                   all        637       2337      0.594      0.463      0.503      0.346\n"
     ]
    },
    {
     "name": "stderr",
     "output_type": "stream",
     "text": [
      "\n"
     ]
    },
    {
     "name": "stdout",
     "output_type": "stream",
     "text": [
      "\n",
      "      Epoch    GPU_mem   box_loss   cls_loss   dfl_loss  Instances       Size\n"
     ]
    },
    {
     "name": "stderr",
     "output_type": "stream",
     "text": [
      "      9/100      5.54G      1.089      1.467      1.459         43        640: 100%|██████████| 211/211 [00:55<00:00,  3.81it/s]\n",
      "                 Class     Images  Instances      Box(P          R      mAP50  mAP50-95): 100%|██████████| 20/20 [00:04<00:00,  4.08it/s]"
     ]
    },
    {
     "name": "stdout",
     "output_type": "stream",
     "text": [
      "                   all        637       2337      0.549      0.517      0.526      0.354\n"
     ]
    },
    {
     "name": "stderr",
     "output_type": "stream",
     "text": [
      "\n"
     ]
    },
    {
     "name": "stdout",
     "output_type": "stream",
     "text": [
      "\n",
      "      Epoch    GPU_mem   box_loss   cls_loss   dfl_loss  Instances       Size\n"
     ]
    },
    {
     "name": "stderr",
     "output_type": "stream",
     "text": [
      "     10/100      5.57G      1.064      1.387      1.443         48        640: 100%|██████████| 211/211 [00:55<00:00,  3.80it/s]\n",
      "                 Class     Images  Instances      Box(P          R      mAP50  mAP50-95): 100%|██████████| 20/20 [00:04<00:00,  4.05it/s]"
     ]
    },
    {
     "name": "stdout",
     "output_type": "stream",
     "text": [
      "                   all        637       2337      0.578      0.508       0.54      0.376\n"
     ]
    },
    {
     "name": "stderr",
     "output_type": "stream",
     "text": [
      "\n"
     ]
    },
    {
     "name": "stdout",
     "output_type": "stream",
     "text": [
      "\n",
      "      Epoch    GPU_mem   box_loss   cls_loss   dfl_loss  Instances       Size\n"
     ]
    },
    {
     "name": "stderr",
     "output_type": "stream",
     "text": [
      "     11/100      5.43G      1.055      1.348      1.437         91        640: 100%|██████████| 211/211 [00:55<00:00,  3.80it/s]\n",
      "                 Class     Images  Instances      Box(P          R      mAP50  mAP50-95): 100%|██████████| 20/20 [00:04<00:00,  4.07it/s]"
     ]
    },
    {
     "name": "stdout",
     "output_type": "stream",
     "text": [
      "                   all        637       2337      0.572      0.516      0.539      0.369\n"
     ]
    },
    {
     "name": "stderr",
     "output_type": "stream",
     "text": [
      "\n"
     ]
    },
    {
     "name": "stdout",
     "output_type": "stream",
     "text": [
      "\n",
      "      Epoch    GPU_mem   box_loss   cls_loss   dfl_loss  Instances       Size\n"
     ]
    },
    {
     "name": "stderr",
     "output_type": "stream",
     "text": [
      "     12/100      5.34G      1.043      1.311      1.426         83        640: 100%|██████████| 211/211 [00:55<00:00,  3.81it/s]\n",
      "                 Class     Images  Instances      Box(P          R      mAP50  mAP50-95): 100%|██████████| 20/20 [00:04<00:00,  4.11it/s]"
     ]
    },
    {
     "name": "stdout",
     "output_type": "stream",
     "text": [
      "                   all        637       2337      0.599      0.558      0.558       0.38\n"
     ]
    },
    {
     "name": "stderr",
     "output_type": "stream",
     "text": [
      "\n"
     ]
    },
    {
     "name": "stdout",
     "output_type": "stream",
     "text": [
      "\n",
      "      Epoch    GPU_mem   box_loss   cls_loss   dfl_loss  Instances       Size\n"
     ]
    },
    {
     "name": "stderr",
     "output_type": "stream",
     "text": [
      "     13/100      5.57G      1.041       1.29      1.426         52        640: 100%|██████████| 211/211 [00:55<00:00,  3.79it/s]\n",
      "                 Class     Images  Instances      Box(P          R      mAP50  mAP50-95): 100%|██████████| 20/20 [00:04<00:00,  4.01it/s]"
     ]
    },
    {
     "name": "stdout",
     "output_type": "stream",
     "text": [
      "                   all        637       2337      0.597      0.524      0.538      0.368\n"
     ]
    },
    {
     "name": "stderr",
     "output_type": "stream",
     "text": [
      "\n"
     ]
    },
    {
     "name": "stdout",
     "output_type": "stream",
     "text": [
      "\n",
      "      Epoch    GPU_mem   box_loss   cls_loss   dfl_loss  Instances       Size\n"
     ]
    },
    {
     "name": "stderr",
     "output_type": "stream",
     "text": [
      "     14/100      5.56G      1.029      1.227      1.413         64        640: 100%|██████████| 211/211 [00:55<00:00,  3.81it/s]\n",
      "                 Class     Images  Instances      Box(P          R      mAP50  mAP50-95): 100%|██████████| 20/20 [00:04<00:00,  4.06it/s]"
     ]
    },
    {
     "name": "stdout",
     "output_type": "stream",
     "text": [
      "                   all        637       2337      0.593      0.518      0.554      0.383\n"
     ]
    },
    {
     "name": "stderr",
     "output_type": "stream",
     "text": [
      "\n"
     ]
    },
    {
     "name": "stdout",
     "output_type": "stream",
     "text": [
      "\n",
      "      Epoch    GPU_mem   box_loss   cls_loss   dfl_loss  Instances       Size\n"
     ]
    },
    {
     "name": "stderr",
     "output_type": "stream",
     "text": [
      "     15/100      5.57G      1.013      1.187        1.4         80        640: 100%|██████████| 211/211 [00:55<00:00,  3.80it/s]\n",
      "                 Class     Images  Instances      Box(P          R      mAP50  mAP50-95): 100%|██████████| 20/20 [00:04<00:00,  4.10it/s]"
     ]
    },
    {
     "name": "stdout",
     "output_type": "stream",
     "text": [
      "                   all        637       2337      0.575       0.55      0.555      0.378\n"
     ]
    },
    {
     "name": "stderr",
     "output_type": "stream",
     "text": [
      "\n"
     ]
    },
    {
     "name": "stdout",
     "output_type": "stream",
     "text": [
      "\n",
      "      Epoch    GPU_mem   box_loss   cls_loss   dfl_loss  Instances       Size\n"
     ]
    },
    {
     "name": "stderr",
     "output_type": "stream",
     "text": [
      "     16/100      5.34G     0.9901      1.167      1.394         49        640: 100%|██████████| 211/211 [00:55<00:00,  3.81it/s]\n",
      "                 Class     Images  Instances      Box(P          R      mAP50  mAP50-95): 100%|██████████| 20/20 [00:04<00:00,  4.09it/s]"
     ]
    },
    {
     "name": "stdout",
     "output_type": "stream",
     "text": [
      "                   all        637       2337      0.643      0.521       0.56      0.389\n"
     ]
    },
    {
     "name": "stderr",
     "output_type": "stream",
     "text": [
      "\n"
     ]
    },
    {
     "name": "stdout",
     "output_type": "stream",
     "text": [
      "\n",
      "      Epoch    GPU_mem   box_loss   cls_loss   dfl_loss  Instances       Size\n"
     ]
    },
    {
     "name": "stderr",
     "output_type": "stream",
     "text": [
      "     17/100       5.7G      1.011      1.165      1.404         88        640: 100%|██████████| 211/211 [00:55<00:00,  3.81it/s]\n",
      "                 Class     Images  Instances      Box(P          R      mAP50  mAP50-95): 100%|██████████| 20/20 [00:04<00:00,  4.06it/s]"
     ]
    },
    {
     "name": "stdout",
     "output_type": "stream",
     "text": [
      "                   all        637       2337      0.642      0.546      0.576      0.397\n"
     ]
    },
    {
     "name": "stderr",
     "output_type": "stream",
     "text": [
      "\n"
     ]
    },
    {
     "name": "stdout",
     "output_type": "stream",
     "text": [
      "\n",
      "      Epoch    GPU_mem   box_loss   cls_loss   dfl_loss  Instances       Size\n"
     ]
    },
    {
     "name": "stderr",
     "output_type": "stream",
     "text": [
      "     18/100      5.45G     0.9782      1.101      1.379         80        640: 100%|██████████| 211/211 [00:55<00:00,  3.81it/s]\n",
      "                 Class     Images  Instances      Box(P          R      mAP50  mAP50-95): 100%|██████████| 20/20 [00:04<00:00,  4.05it/s]"
     ]
    },
    {
     "name": "stdout",
     "output_type": "stream",
     "text": [
      "                   all        637       2337      0.625       0.53      0.562      0.393\n"
     ]
    },
    {
     "name": "stderr",
     "output_type": "stream",
     "text": [
      "\n"
     ]
    },
    {
     "name": "stdout",
     "output_type": "stream",
     "text": [
      "\n",
      "      Epoch    GPU_mem   box_loss   cls_loss   dfl_loss  Instances       Size\n"
     ]
    },
    {
     "name": "stderr",
     "output_type": "stream",
     "text": [
      "     19/100      5.93G     0.9842      1.099      1.373         68        640: 100%|██████████| 211/211 [00:55<00:00,  3.80it/s]\n",
      "                 Class     Images  Instances      Box(P          R      mAP50  mAP50-95): 100%|██████████| 20/20 [00:04<00:00,  4.05it/s]"
     ]
    },
    {
     "name": "stdout",
     "output_type": "stream",
     "text": [
      "                   all        637       2337      0.592      0.545       0.57      0.392\n"
     ]
    },
    {
     "name": "stderr",
     "output_type": "stream",
     "text": [
      "\n"
     ]
    },
    {
     "name": "stdout",
     "output_type": "stream",
     "text": [
      "\n",
      "      Epoch    GPU_mem   box_loss   cls_loss   dfl_loss  Instances       Size\n"
     ]
    },
    {
     "name": "stderr",
     "output_type": "stream",
     "text": [
      "     20/100         6G     0.9886      1.083      1.387         55        640: 100%|██████████| 211/211 [00:55<00:00,  3.80it/s]\n",
      "                 Class     Images  Instances      Box(P          R      mAP50  mAP50-95): 100%|██████████| 20/20 [00:04<00:00,  4.11it/s]"
     ]
    },
    {
     "name": "stdout",
     "output_type": "stream",
     "text": [
      "                   all        637       2337      0.609      0.544       0.57      0.391\n"
     ]
    },
    {
     "name": "stderr",
     "output_type": "stream",
     "text": [
      "\n"
     ]
    },
    {
     "name": "stdout",
     "output_type": "stream",
     "text": [
      "\n",
      "      Epoch    GPU_mem   box_loss   cls_loss   dfl_loss  Instances       Size\n"
     ]
    },
    {
     "name": "stderr",
     "output_type": "stream",
     "text": [
      "     21/100      5.94G     0.9738      1.061      1.377         99        640: 100%|██████████| 211/211 [00:55<00:00,  3.80it/s]\n",
      "                 Class     Images  Instances      Box(P          R      mAP50  mAP50-95): 100%|██████████| 20/20 [00:04<00:00,  4.10it/s]"
     ]
    },
    {
     "name": "stdout",
     "output_type": "stream",
     "text": [
      "                   all        637       2337      0.632      0.552      0.582      0.409\n"
     ]
    },
    {
     "name": "stderr",
     "output_type": "stream",
     "text": [
      "\n"
     ]
    },
    {
     "name": "stdout",
     "output_type": "stream",
     "text": [
      "\n",
      "      Epoch    GPU_mem   box_loss   cls_loss   dfl_loss  Instances       Size\n"
     ]
    },
    {
     "name": "stderr",
     "output_type": "stream",
     "text": [
      "     22/100      5.45G     0.9565      1.034      1.365         59        640: 100%|██████████| 211/211 [00:55<00:00,  3.81it/s]\n",
      "                 Class     Images  Instances      Box(P          R      mAP50  mAP50-95): 100%|██████████| 20/20 [00:04<00:00,  4.09it/s]"
     ]
    },
    {
     "name": "stdout",
     "output_type": "stream",
     "text": [
      "                   all        637       2337      0.604      0.547      0.577      0.398\n"
     ]
    },
    {
     "name": "stderr",
     "output_type": "stream",
     "text": [
      "\n"
     ]
    },
    {
     "name": "stdout",
     "output_type": "stream",
     "text": [
      "\n",
      "      Epoch    GPU_mem   box_loss   cls_loss   dfl_loss  Instances       Size\n"
     ]
    },
    {
     "name": "stderr",
     "output_type": "stream",
     "text": [
      "     23/100       5.4G     0.9601      1.018      1.368         33        640: 100%|██████████| 211/211 [00:55<00:00,  3.81it/s]\n",
      "                 Class     Images  Instances      Box(P          R      mAP50  mAP50-95): 100%|██████████| 20/20 [00:04<00:00,  4.06it/s]"
     ]
    },
    {
     "name": "stdout",
     "output_type": "stream",
     "text": [
      "                   all        637       2337      0.599       0.56      0.577      0.396\n"
     ]
    },
    {
     "name": "stderr",
     "output_type": "stream",
     "text": [
      "\n"
     ]
    },
    {
     "name": "stdout",
     "output_type": "stream",
     "text": [
      "\n",
      "      Epoch    GPU_mem   box_loss   cls_loss   dfl_loss  Instances       Size\n"
     ]
    },
    {
     "name": "stderr",
     "output_type": "stream",
     "text": [
      "     24/100      5.34G     0.9474      1.012      1.359         61        640: 100%|██████████| 211/211 [00:55<00:00,  3.81it/s]\n",
      "                 Class     Images  Instances      Box(P          R      mAP50  mAP50-95): 100%|██████████| 20/20 [00:04<00:00,  4.12it/s]"
     ]
    },
    {
     "name": "stdout",
     "output_type": "stream",
     "text": [
      "                   all        637       2337      0.605      0.557      0.582      0.407\n"
     ]
    },
    {
     "name": "stderr",
     "output_type": "stream",
     "text": [
      "\n"
     ]
    },
    {
     "name": "stdout",
     "output_type": "stream",
     "text": [
      "\n",
      "      Epoch    GPU_mem   box_loss   cls_loss   dfl_loss  Instances       Size\n"
     ]
    },
    {
     "name": "stderr",
     "output_type": "stream",
     "text": [
      "     25/100      5.67G     0.9396     0.9747      1.346         37        640: 100%|██████████| 211/211 [00:55<00:00,  3.80it/s]\n",
      "                 Class     Images  Instances      Box(P          R      mAP50  mAP50-95): 100%|██████████| 20/20 [00:04<00:00,  4.12it/s]"
     ]
    },
    {
     "name": "stdout",
     "output_type": "stream",
     "text": [
      "                   all        637       2337      0.578      0.543      0.564      0.391\n"
     ]
    },
    {
     "name": "stderr",
     "output_type": "stream",
     "text": [
      "\n"
     ]
    },
    {
     "name": "stdout",
     "output_type": "stream",
     "text": [
      "\n",
      "      Epoch    GPU_mem   box_loss   cls_loss   dfl_loss  Instances       Size\n"
     ]
    },
    {
     "name": "stderr",
     "output_type": "stream",
     "text": [
      "     26/100      5.51G     0.9408     0.9618      1.355         91        640: 100%|██████████| 211/211 [00:55<00:00,  3.81it/s]\n",
      "                 Class     Images  Instances      Box(P          R      mAP50  mAP50-95): 100%|██████████| 20/20 [00:04<00:00,  4.07it/s]"
     ]
    },
    {
     "name": "stdout",
     "output_type": "stream",
     "text": [
      "                   all        637       2337      0.607      0.538      0.577      0.399\n"
     ]
    },
    {
     "name": "stderr",
     "output_type": "stream",
     "text": [
      "\n"
     ]
    },
    {
     "name": "stdout",
     "output_type": "stream",
     "text": [
      "\n",
      "      Epoch    GPU_mem   box_loss   cls_loss   dfl_loss  Instances       Size\n"
     ]
    },
    {
     "name": "stderr",
     "output_type": "stream",
     "text": [
      "     27/100       5.7G     0.9181     0.9449      1.339         45        640: 100%|██████████| 211/211 [00:55<00:00,  3.82it/s]\n",
      "                 Class     Images  Instances      Box(P          R      mAP50  mAP50-95): 100%|██████████| 20/20 [00:04<00:00,  4.05it/s]"
     ]
    },
    {
     "name": "stdout",
     "output_type": "stream",
     "text": [
      "                   all        637       2337      0.643      0.548      0.571      0.393\n"
     ]
    },
    {
     "name": "stderr",
     "output_type": "stream",
     "text": [
      "\n"
     ]
    },
    {
     "name": "stdout",
     "output_type": "stream",
     "text": [
      "\n",
      "      Epoch    GPU_mem   box_loss   cls_loss   dfl_loss  Instances       Size\n"
     ]
    },
    {
     "name": "stderr",
     "output_type": "stream",
     "text": [
      "     28/100      5.28G      0.916     0.9332      1.331         36        640: 100%|██████████| 211/211 [00:55<00:00,  3.80it/s]\n",
      "                 Class     Images  Instances      Box(P          R      mAP50  mAP50-95): 100%|██████████| 20/20 [00:04<00:00,  4.08it/s]"
     ]
    },
    {
     "name": "stdout",
     "output_type": "stream",
     "text": [
      "                   all        637       2337      0.596      0.591      0.601      0.414\n"
     ]
    },
    {
     "name": "stderr",
     "output_type": "stream",
     "text": [
      "\n"
     ]
    },
    {
     "name": "stdout",
     "output_type": "stream",
     "text": [
      "\n",
      "      Epoch    GPU_mem   box_loss   cls_loss   dfl_loss  Instances       Size\n"
     ]
    },
    {
     "name": "stderr",
     "output_type": "stream",
     "text": [
      "     29/100      5.61G     0.9292     0.9377      1.344         54        640: 100%|██████████| 211/211 [00:55<00:00,  3.80it/s]\n",
      "                 Class     Images  Instances      Box(P          R      mAP50  mAP50-95): 100%|██████████| 20/20 [00:04<00:00,  4.09it/s]"
     ]
    },
    {
     "name": "stdout",
     "output_type": "stream",
     "text": [
      "                   all        637       2337      0.583      0.575      0.586      0.409\n"
     ]
    },
    {
     "name": "stderr",
     "output_type": "stream",
     "text": [
      "\n"
     ]
    },
    {
     "name": "stdout",
     "output_type": "stream",
     "text": [
      "\n",
      "      Epoch    GPU_mem   box_loss   cls_loss   dfl_loss  Instances       Size\n"
     ]
    },
    {
     "name": "stderr",
     "output_type": "stream",
     "text": [
      "     30/100      5.91G     0.9071     0.9253      1.329         60        640: 100%|██████████| 211/211 [00:55<00:00,  3.80it/s]\n",
      "                 Class     Images  Instances      Box(P          R      mAP50  mAP50-95): 100%|██████████| 20/20 [00:04<00:00,  4.07it/s]"
     ]
    },
    {
     "name": "stdout",
     "output_type": "stream",
     "text": [
      "                   all        637       2337      0.674      0.541      0.587      0.403\n"
     ]
    },
    {
     "name": "stderr",
     "output_type": "stream",
     "text": [
      "\n"
     ]
    },
    {
     "name": "stdout",
     "output_type": "stream",
     "text": [
      "\n",
      "      Epoch    GPU_mem   box_loss   cls_loss   dfl_loss  Instances       Size\n"
     ]
    },
    {
     "name": "stderr",
     "output_type": "stream",
     "text": [
      "     31/100       5.5G     0.9005     0.8914      1.329         48        640: 100%|██████████| 211/211 [00:55<00:00,  3.81it/s]\n",
      "                 Class     Images  Instances      Box(P          R      mAP50  mAP50-95): 100%|██████████| 20/20 [00:04<00:00,  4.07it/s]"
     ]
    },
    {
     "name": "stdout",
     "output_type": "stream",
     "text": [
      "                   all        637       2337      0.653      0.527      0.585      0.409\n"
     ]
    },
    {
     "name": "stderr",
     "output_type": "stream",
     "text": [
      "\n"
     ]
    },
    {
     "name": "stdout",
     "output_type": "stream",
     "text": [
      "\n",
      "      Epoch    GPU_mem   box_loss   cls_loss   dfl_loss  Instances       Size\n"
     ]
    },
    {
     "name": "stderr",
     "output_type": "stream",
     "text": [
      "     32/100      5.42G     0.8982     0.9029      1.331         58        640: 100%|██████████| 211/211 [00:55<00:00,  3.81it/s]\n",
      "                 Class     Images  Instances      Box(P          R      mAP50  mAP50-95): 100%|██████████| 20/20 [00:04<00:00,  4.05it/s]"
     ]
    },
    {
     "name": "stdout",
     "output_type": "stream",
     "text": [
      "                   all        637       2337      0.586      0.581      0.579      0.402\n"
     ]
    },
    {
     "name": "stderr",
     "output_type": "stream",
     "text": [
      "\n"
     ]
    },
    {
     "name": "stdout",
     "output_type": "stream",
     "text": [
      "\n",
      "      Epoch    GPU_mem   box_loss   cls_loss   dfl_loss  Instances       Size\n"
     ]
    },
    {
     "name": "stderr",
     "output_type": "stream",
     "text": [
      "     33/100      5.51G     0.8906     0.8764      1.323         30        640: 100%|██████████| 211/211 [00:55<00:00,  3.82it/s]\n",
      "                 Class     Images  Instances      Box(P          R      mAP50  mAP50-95): 100%|██████████| 20/20 [00:04<00:00,  4.11it/s]"
     ]
    },
    {
     "name": "stdout",
     "output_type": "stream",
     "text": [
      "                   all        637       2337      0.635       0.56      0.598      0.416\n"
     ]
    },
    {
     "name": "stderr",
     "output_type": "stream",
     "text": [
      "\n"
     ]
    },
    {
     "name": "stdout",
     "output_type": "stream",
     "text": [
      "\n",
      "      Epoch    GPU_mem   box_loss   cls_loss   dfl_loss  Instances       Size\n"
     ]
    },
    {
     "name": "stderr",
     "output_type": "stream",
     "text": [
      "     34/100      5.25G     0.8794     0.8596      1.324         52        640: 100%|██████████| 211/211 [00:55<00:00,  3.81it/s]\n",
      "                 Class     Images  Instances      Box(P          R      mAP50  mAP50-95): 100%|██████████| 20/20 [00:04<00:00,  4.11it/s]"
     ]
    },
    {
     "name": "stdout",
     "output_type": "stream",
     "text": [
      "                   all        637       2337      0.607      0.559      0.593      0.412\n"
     ]
    },
    {
     "name": "stderr",
     "output_type": "stream",
     "text": [
      "\n"
     ]
    },
    {
     "name": "stdout",
     "output_type": "stream",
     "text": [
      "\n",
      "      Epoch    GPU_mem   box_loss   cls_loss   dfl_loss  Instances       Size\n"
     ]
    },
    {
     "name": "stderr",
     "output_type": "stream",
     "text": [
      "     35/100       5.7G      0.875     0.8563      1.315         81        640: 100%|██████████| 211/211 [00:55<00:00,  3.80it/s]\n",
      "                 Class     Images  Instances      Box(P          R      mAP50  mAP50-95): 100%|██████████| 20/20 [00:04<00:00,  4.09it/s]"
     ]
    },
    {
     "name": "stdout",
     "output_type": "stream",
     "text": [
      "                   all        637       2337      0.622      0.567      0.581      0.402\n"
     ]
    },
    {
     "name": "stderr",
     "output_type": "stream",
     "text": [
      "\n"
     ]
    },
    {
     "name": "stdout",
     "output_type": "stream",
     "text": [
      "\n",
      "      Epoch    GPU_mem   box_loss   cls_loss   dfl_loss  Instances       Size\n"
     ]
    },
    {
     "name": "stderr",
     "output_type": "stream",
     "text": [
      "     36/100      5.51G     0.8786     0.8516      1.318         64        640: 100%|██████████| 211/211 [00:55<00:00,  3.79it/s]\n",
      "                 Class     Images  Instances      Box(P          R      mAP50  mAP50-95): 100%|██████████| 20/20 [00:04<00:00,  4.07it/s]"
     ]
    },
    {
     "name": "stdout",
     "output_type": "stream",
     "text": [
      "                   all        637       2337      0.635      0.576      0.591      0.414\n"
     ]
    },
    {
     "name": "stderr",
     "output_type": "stream",
     "text": [
      "\n"
     ]
    },
    {
     "name": "stdout",
     "output_type": "stream",
     "text": [
      "\n",
      "      Epoch    GPU_mem   box_loss   cls_loss   dfl_loss  Instances       Size\n"
     ]
    },
    {
     "name": "stderr",
     "output_type": "stream",
     "text": [
      "     37/100      5.58G     0.8705      0.834        1.3         85        640: 100%|██████████| 211/211 [00:55<00:00,  3.82it/s]\n",
      "                 Class     Images  Instances      Box(P          R      mAP50  mAP50-95): 100%|██████████| 20/20 [00:04<00:00,  4.06it/s]"
     ]
    },
    {
     "name": "stdout",
     "output_type": "stream",
     "text": [
      "                   all        637       2337      0.638      0.551      0.584      0.403\n"
     ]
    },
    {
     "name": "stderr",
     "output_type": "stream",
     "text": [
      "\n"
     ]
    },
    {
     "name": "stdout",
     "output_type": "stream",
     "text": [
      "\n",
      "      Epoch    GPU_mem   box_loss   cls_loss   dfl_loss  Instances       Size\n"
     ]
    },
    {
     "name": "stderr",
     "output_type": "stream",
     "text": [
      "     38/100      5.56G     0.8671     0.8184      1.294         62        640: 100%|██████████| 211/211 [00:55<00:00,  3.80it/s]\n",
      "                 Class     Images  Instances      Box(P          R      mAP50  mAP50-95): 100%|██████████| 20/20 [00:04<00:00,  4.10it/s]"
     ]
    },
    {
     "name": "stdout",
     "output_type": "stream",
     "text": [
      "                   all        637       2337      0.614      0.593      0.603      0.418\n"
     ]
    },
    {
     "name": "stderr",
     "output_type": "stream",
     "text": [
      "\n"
     ]
    },
    {
     "name": "stdout",
     "output_type": "stream",
     "text": [
      "\n",
      "      Epoch    GPU_mem   box_loss   cls_loss   dfl_loss  Instances       Size\n"
     ]
    },
    {
     "name": "stderr",
     "output_type": "stream",
     "text": [
      "     39/100       5.6G     0.8714      0.837      1.297         45        640: 100%|██████████| 211/211 [00:55<00:00,  3.81it/s]\n",
      "                 Class     Images  Instances      Box(P          R      mAP50  mAP50-95): 100%|██████████| 20/20 [00:04<00:00,  4.13it/s]"
     ]
    },
    {
     "name": "stdout",
     "output_type": "stream",
     "text": [
      "                   all        637       2337      0.582      0.587       0.59       0.41\n"
     ]
    },
    {
     "name": "stderr",
     "output_type": "stream",
     "text": [
      "\n"
     ]
    },
    {
     "name": "stdout",
     "output_type": "stream",
     "text": [
      "\n",
      "      Epoch    GPU_mem   box_loss   cls_loss   dfl_loss  Instances       Size\n"
     ]
    },
    {
     "name": "stderr",
     "output_type": "stream",
     "text": [
      "     40/100      5.24G     0.8441     0.8071      1.284         40        640: 100%|██████████| 211/211 [00:55<00:00,  3.83it/s]\n",
      "                 Class     Images  Instances      Box(P          R      mAP50  mAP50-95): 100%|██████████| 20/20 [00:04<00:00,  4.05it/s]"
     ]
    },
    {
     "name": "stdout",
     "output_type": "stream",
     "text": [
      "                   all        637       2337      0.627      0.556      0.583      0.403\n"
     ]
    },
    {
     "name": "stderr",
     "output_type": "stream",
     "text": [
      "\n"
     ]
    },
    {
     "name": "stdout",
     "output_type": "stream",
     "text": [
      "\n",
      "      Epoch    GPU_mem   box_loss   cls_loss   dfl_loss  Instances       Size\n"
     ]
    },
    {
     "name": "stderr",
     "output_type": "stream",
     "text": [
      "     41/100      5.35G     0.8407     0.7954      1.285         45        640: 100%|██████████| 211/211 [00:55<00:00,  3.80it/s]\n",
      "                 Class     Images  Instances      Box(P          R      mAP50  mAP50-95): 100%|██████████| 20/20 [00:04<00:00,  4.11it/s]"
     ]
    },
    {
     "name": "stdout",
     "output_type": "stream",
     "text": [
      "                   all        637       2337      0.634      0.556      0.589       0.41\n"
     ]
    },
    {
     "name": "stderr",
     "output_type": "stream",
     "text": [
      "\n"
     ]
    },
    {
     "name": "stdout",
     "output_type": "stream",
     "text": [
      "\n",
      "      Epoch    GPU_mem   box_loss   cls_loss   dfl_loss  Instances       Size\n"
     ]
    },
    {
     "name": "stderr",
     "output_type": "stream",
     "text": [
      "     42/100      5.59G     0.8449     0.8062      1.301         61        640: 100%|██████████| 211/211 [00:55<00:00,  3.78it/s]\n",
      "                 Class     Images  Instances      Box(P          R      mAP50  mAP50-95): 100%|██████████| 20/20 [00:04<00:00,  4.06it/s]"
     ]
    },
    {
     "name": "stdout",
     "output_type": "stream",
     "text": [
      "                   all        637       2337      0.655      0.554      0.591      0.408\n"
     ]
    },
    {
     "name": "stderr",
     "output_type": "stream",
     "text": [
      "\n"
     ]
    },
    {
     "name": "stdout",
     "output_type": "stream",
     "text": [
      "\n",
      "      Epoch    GPU_mem   box_loss   cls_loss   dfl_loss  Instances       Size\n"
     ]
    },
    {
     "name": "stderr",
     "output_type": "stream",
     "text": [
      "     43/100      5.66G     0.8394       0.79      1.288         37        640: 100%|██████████| 211/211 [00:55<00:00,  3.80it/s]\n",
      "                 Class     Images  Instances      Box(P          R      mAP50  mAP50-95): 100%|██████████| 20/20 [00:04<00:00,  4.13it/s]"
     ]
    },
    {
     "name": "stdout",
     "output_type": "stream",
     "text": [
      "                   all        637       2337      0.689      0.532      0.586      0.406\n"
     ]
    },
    {
     "name": "stderr",
     "output_type": "stream",
     "text": [
      "\n"
     ]
    },
    {
     "name": "stdout",
     "output_type": "stream",
     "text": [
      "\n",
      "      Epoch    GPU_mem   box_loss   cls_loss   dfl_loss  Instances       Size\n"
     ]
    },
    {
     "name": "stderr",
     "output_type": "stream",
     "text": [
      "     44/100      5.28G     0.8388     0.7737      1.285         50        640: 100%|██████████| 211/211 [00:55<00:00,  3.80it/s]\n",
      "                 Class     Images  Instances      Box(P          R      mAP50  mAP50-95): 100%|██████████| 20/20 [00:04<00:00,  4.12it/s]"
     ]
    },
    {
     "name": "stdout",
     "output_type": "stream",
     "text": [
      "                   all        637       2337      0.651      0.564      0.596      0.412\n"
     ]
    },
    {
     "name": "stderr",
     "output_type": "stream",
     "text": [
      "\n"
     ]
    },
    {
     "name": "stdout",
     "output_type": "stream",
     "text": [
      "\n",
      "      Epoch    GPU_mem   box_loss   cls_loss   dfl_loss  Instances       Size\n"
     ]
    },
    {
     "name": "stderr",
     "output_type": "stream",
     "text": [
      "     45/100      5.55G     0.8247     0.7613      1.285         36        640: 100%|██████████| 211/211 [00:55<00:00,  3.82it/s]\n",
      "                 Class     Images  Instances      Box(P          R      mAP50  mAP50-95): 100%|██████████| 20/20 [00:04<00:00,  4.12it/s]"
     ]
    },
    {
     "name": "stdout",
     "output_type": "stream",
     "text": [
      "                   all        637       2337      0.659      0.553      0.593      0.411\n"
     ]
    },
    {
     "name": "stderr",
     "output_type": "stream",
     "text": [
      "\n"
     ]
    },
    {
     "name": "stdout",
     "output_type": "stream",
     "text": [
      "\n",
      "      Epoch    GPU_mem   box_loss   cls_loss   dfl_loss  Instances       Size\n"
     ]
    },
    {
     "name": "stderr",
     "output_type": "stream",
     "text": [
      "     46/100      5.44G     0.8296      0.761      1.275         58        640: 100%|██████████| 211/211 [00:55<00:00,  3.79it/s]\n",
      "                 Class     Images  Instances      Box(P          R      mAP50  mAP50-95): 100%|██████████| 20/20 [00:04<00:00,  4.06it/s]"
     ]
    },
    {
     "name": "stdout",
     "output_type": "stream",
     "text": [
      "                   all        637       2337      0.658      0.569      0.602      0.416\n"
     ]
    },
    {
     "name": "stderr",
     "output_type": "stream",
     "text": [
      "\n"
     ]
    },
    {
     "name": "stdout",
     "output_type": "stream",
     "text": [
      "\n",
      "      Epoch    GPU_mem   box_loss   cls_loss   dfl_loss  Instances       Size\n"
     ]
    },
    {
     "name": "stderr",
     "output_type": "stream",
     "text": [
      "     47/100       5.8G     0.8192     0.7544      1.268         59        640: 100%|██████████| 211/211 [00:55<00:00,  3.80it/s]\n",
      "                 Class     Images  Instances      Box(P          R      mAP50  mAP50-95): 100%|██████████| 20/20 [00:04<00:00,  4.10it/s]"
     ]
    },
    {
     "name": "stdout",
     "output_type": "stream",
     "text": [
      "                   all        637       2337      0.637      0.587      0.603      0.415\n"
     ]
    },
    {
     "name": "stderr",
     "output_type": "stream",
     "text": [
      "\n"
     ]
    },
    {
     "name": "stdout",
     "output_type": "stream",
     "text": [
      "\n",
      "      Epoch    GPU_mem   box_loss   cls_loss   dfl_loss  Instances       Size\n"
     ]
    },
    {
     "name": "stderr",
     "output_type": "stream",
     "text": [
      "     48/100      5.67G     0.8207     0.7473       1.28         69        640: 100%|██████████| 211/211 [00:55<00:00,  3.82it/s]\n",
      "                 Class     Images  Instances      Box(P          R      mAP50  mAP50-95): 100%|██████████| 20/20 [00:04<00:00,  4.10it/s]"
     ]
    },
    {
     "name": "stdout",
     "output_type": "stream",
     "text": [
      "                   all        637       2337      0.633      0.577      0.599      0.415\n"
     ]
    },
    {
     "name": "stderr",
     "output_type": "stream",
     "text": [
      "\n"
     ]
    },
    {
     "name": "stdout",
     "output_type": "stream",
     "text": [
      "\n",
      "      Epoch    GPU_mem   box_loss   cls_loss   dfl_loss  Instances       Size\n"
     ]
    },
    {
     "name": "stderr",
     "output_type": "stream",
     "text": [
      "     49/100      5.35G     0.8085     0.7339      1.266         55        640: 100%|██████████| 211/211 [00:55<00:00,  3.82it/s]\n",
      "                 Class     Images  Instances      Box(P          R      mAP50  mAP50-95): 100%|██████████| 20/20 [00:04<00:00,  4.01it/s]"
     ]
    },
    {
     "name": "stdout",
     "output_type": "stream",
     "text": [
      "                   all        637       2337      0.643      0.567      0.604      0.416\n"
     ]
    },
    {
     "name": "stderr",
     "output_type": "stream",
     "text": [
      "\n"
     ]
    },
    {
     "name": "stdout",
     "output_type": "stream",
     "text": [
      "\n",
      "      Epoch    GPU_mem   box_loss   cls_loss   dfl_loss  Instances       Size\n"
     ]
    },
    {
     "name": "stderr",
     "output_type": "stream",
     "text": [
      "     50/100      5.67G     0.7971     0.7416      1.254         43        640: 100%|██████████| 211/211 [00:55<00:00,  3.79it/s]\n",
      "                 Class     Images  Instances      Box(P          R      mAP50  mAP50-95): 100%|██████████| 20/20 [00:04<00:00,  4.13it/s]"
     ]
    },
    {
     "name": "stdout",
     "output_type": "stream",
     "text": [
      "                   all        637       2337      0.641      0.572      0.596      0.409\n"
     ]
    },
    {
     "name": "stderr",
     "output_type": "stream",
     "text": [
      "\n"
     ]
    },
    {
     "name": "stdout",
     "output_type": "stream",
     "text": [
      "\n",
      "      Epoch    GPU_mem   box_loss   cls_loss   dfl_loss  Instances       Size\n"
     ]
    },
    {
     "name": "stderr",
     "output_type": "stream",
     "text": [
      "     51/100       5.4G     0.8001     0.7318      1.256         72        640: 100%|██████████| 211/211 [00:55<00:00,  3.81it/s]\n",
      "                 Class     Images  Instances      Box(P          R      mAP50  mAP50-95): 100%|██████████| 20/20 [00:04<00:00,  4.08it/s]"
     ]
    },
    {
     "name": "stdout",
     "output_type": "stream",
     "text": [
      "                   all        637       2337      0.673      0.543      0.605       0.42\n"
     ]
    },
    {
     "name": "stderr",
     "output_type": "stream",
     "text": [
      "\n"
     ]
    },
    {
     "name": "stdout",
     "output_type": "stream",
     "text": [
      "\n",
      "      Epoch    GPU_mem   box_loss   cls_loss   dfl_loss  Instances       Size\n"
     ]
    },
    {
     "name": "stderr",
     "output_type": "stream",
     "text": [
      "     52/100      5.54G      0.799     0.7204      1.255         59        640: 100%|██████████| 211/211 [00:55<00:00,  3.80it/s]\n",
      "                 Class     Images  Instances      Box(P          R      mAP50  mAP50-95): 100%|██████████| 20/20 [00:04<00:00,  4.12it/s]"
     ]
    },
    {
     "name": "stdout",
     "output_type": "stream",
     "text": [
      "                   all        637       2337      0.614      0.601       0.61      0.424\n"
     ]
    },
    {
     "name": "stderr",
     "output_type": "stream",
     "text": [
      "\n"
     ]
    },
    {
     "name": "stdout",
     "output_type": "stream",
     "text": [
      "\n",
      "      Epoch    GPU_mem   box_loss   cls_loss   dfl_loss  Instances       Size\n"
     ]
    },
    {
     "name": "stderr",
     "output_type": "stream",
     "text": [
      "     53/100      5.72G     0.7813     0.7127      1.241         51        640: 100%|██████████| 211/211 [00:55<00:00,  3.82it/s]\n",
      "                 Class     Images  Instances      Box(P          R      mAP50  mAP50-95): 100%|██████████| 20/20 [00:04<00:00,  4.10it/s]"
     ]
    },
    {
     "name": "stdout",
     "output_type": "stream",
     "text": [
      "                   all        637       2337      0.625       0.58      0.608      0.418\n"
     ]
    },
    {
     "name": "stderr",
     "output_type": "stream",
     "text": [
      "\n"
     ]
    },
    {
     "name": "stdout",
     "output_type": "stream",
     "text": [
      "\n",
      "      Epoch    GPU_mem   box_loss   cls_loss   dfl_loss  Instances       Size\n"
     ]
    },
    {
     "name": "stderr",
     "output_type": "stream",
     "text": [
      "     54/100      5.35G     0.7845     0.7005      1.247         71        640: 100%|██████████| 211/211 [00:55<00:00,  3.80it/s]\n",
      "                 Class     Images  Instances      Box(P          R      mAP50  mAP50-95): 100%|██████████| 20/20 [00:04<00:00,  4.08it/s]"
     ]
    },
    {
     "name": "stdout",
     "output_type": "stream",
     "text": [
      "                   all        637       2337      0.628       0.57      0.593      0.414\n"
     ]
    },
    {
     "name": "stderr",
     "output_type": "stream",
     "text": [
      "\n"
     ]
    },
    {
     "name": "stdout",
     "output_type": "stream",
     "text": [
      "\n",
      "      Epoch    GPU_mem   box_loss   cls_loss   dfl_loss  Instances       Size\n"
     ]
    },
    {
     "name": "stderr",
     "output_type": "stream",
     "text": [
      "     55/100       5.4G     0.7882     0.7098      1.249         62        640: 100%|██████████| 211/211 [00:55<00:00,  3.82it/s]\n",
      "                 Class     Images  Instances      Box(P          R      mAP50  mAP50-95): 100%|██████████| 20/20 [00:04<00:00,  4.12it/s]"
     ]
    },
    {
     "name": "stdout",
     "output_type": "stream",
     "text": [
      "                   all        637       2337      0.618      0.592      0.605      0.417\n"
     ]
    },
    {
     "name": "stderr",
     "output_type": "stream",
     "text": [
      "\n"
     ]
    },
    {
     "name": "stdout",
     "output_type": "stream",
     "text": [
      "\n",
      "      Epoch    GPU_mem   box_loss   cls_loss   dfl_loss  Instances       Size\n"
     ]
    },
    {
     "name": "stderr",
     "output_type": "stream",
     "text": [
      "     56/100      5.52G     0.7953     0.7081      1.253         59        640: 100%|██████████| 211/211 [00:55<00:00,  3.81it/s]\n",
      "                 Class     Images  Instances      Box(P          R      mAP50  mAP50-95): 100%|██████████| 20/20 [00:04<00:00,  4.11it/s]"
     ]
    },
    {
     "name": "stdout",
     "output_type": "stream",
     "text": [
      "                   all        637       2337      0.651      0.545      0.602      0.418\n"
     ]
    },
    {
     "name": "stderr",
     "output_type": "stream",
     "text": [
      "\n"
     ]
    },
    {
     "name": "stdout",
     "output_type": "stream",
     "text": [
      "\n",
      "      Epoch    GPU_mem   box_loss   cls_loss   dfl_loss  Instances       Size\n"
     ]
    },
    {
     "name": "stderr",
     "output_type": "stream",
     "text": [
      "     57/100      5.28G     0.7776      0.696      1.232         79        640: 100%|██████████| 211/211 [00:55<00:00,  3.81it/s]\n",
      "                 Class     Images  Instances      Box(P          R      mAP50  mAP50-95): 100%|██████████| 20/20 [00:05<00:00,  4.00it/s]"
     ]
    },
    {
     "name": "stdout",
     "output_type": "stream",
     "text": [
      "                   all        637       2337      0.659      0.572      0.601       0.41\n"
     ]
    },
    {
     "name": "stderr",
     "output_type": "stream",
     "text": [
      "\n"
     ]
    },
    {
     "name": "stdout",
     "output_type": "stream",
     "text": [
      "\n",
      "      Epoch    GPU_mem   box_loss   cls_loss   dfl_loss  Instances       Size\n"
     ]
    },
    {
     "name": "stderr",
     "output_type": "stream",
     "text": [
      "     58/100       5.6G     0.7737     0.6762      1.222         46        640: 100%|██████████| 211/211 [00:55<00:00,  3.79it/s]\n",
      "                 Class     Images  Instances      Box(P          R      mAP50  mAP50-95): 100%|██████████| 20/20 [00:04<00:00,  4.06it/s]"
     ]
    },
    {
     "name": "stdout",
     "output_type": "stream",
     "text": [
      "                   all        637       2337      0.621      0.583      0.598      0.413\n"
     ]
    },
    {
     "name": "stderr",
     "output_type": "stream",
     "text": [
      "\n"
     ]
    },
    {
     "name": "stdout",
     "output_type": "stream",
     "text": [
      "\n",
      "      Epoch    GPU_mem   box_loss   cls_loss   dfl_loss  Instances       Size\n"
     ]
    },
    {
     "name": "stderr",
     "output_type": "stream",
     "text": [
      "     59/100       5.7G     0.7636     0.6745      1.227         47        640: 100%|██████████| 211/211 [00:55<00:00,  3.81it/s]\n",
      "                 Class     Images  Instances      Box(P          R      mAP50  mAP50-95): 100%|██████████| 20/20 [00:04<00:00,  4.10it/s]"
     ]
    },
    {
     "name": "stdout",
     "output_type": "stream",
     "text": [
      "                   all        637       2337      0.647      0.564      0.599      0.413\n"
     ]
    },
    {
     "name": "stderr",
     "output_type": "stream",
     "text": [
      "\n"
     ]
    },
    {
     "name": "stdout",
     "output_type": "stream",
     "text": [
      "\n",
      "      Epoch    GPU_mem   box_loss   cls_loss   dfl_loss  Instances       Size\n"
     ]
    },
    {
     "name": "stderr",
     "output_type": "stream",
     "text": [
      "     60/100      5.41G     0.7648      0.671       1.22         49        640: 100%|██████████| 211/211 [00:55<00:00,  3.83it/s]\n",
      "                 Class     Images  Instances      Box(P          R      mAP50  mAP50-95): 100%|██████████| 20/20 [00:04<00:00,  4.10it/s]"
     ]
    },
    {
     "name": "stdout",
     "output_type": "stream",
     "text": [
      "                   all        637       2337      0.643      0.558      0.594      0.409\n"
     ]
    },
    {
     "name": "stderr",
     "output_type": "stream",
     "text": [
      "\n"
     ]
    },
    {
     "name": "stdout",
     "output_type": "stream",
     "text": [
      "\n",
      "      Epoch    GPU_mem   box_loss   cls_loss   dfl_loss  Instances       Size\n"
     ]
    },
    {
     "name": "stderr",
     "output_type": "stream",
     "text": [
      "     61/100      5.24G     0.7637     0.6659      1.223         69        640: 100%|██████████| 211/211 [00:55<00:00,  3.81it/s]\n",
      "                 Class     Images  Instances      Box(P          R      mAP50  mAP50-95): 100%|██████████| 20/20 [00:04<00:00,  4.10it/s]"
     ]
    },
    {
     "name": "stdout",
     "output_type": "stream",
     "text": [
      "                   all        637       2337      0.627      0.579      0.595      0.409\n"
     ]
    },
    {
     "name": "stderr",
     "output_type": "stream",
     "text": [
      "\n"
     ]
    },
    {
     "name": "stdout",
     "output_type": "stream",
     "text": [
      "\n",
      "      Epoch    GPU_mem   box_loss   cls_loss   dfl_loss  Instances       Size\n"
     ]
    },
    {
     "name": "stderr",
     "output_type": "stream",
     "text": [
      "     62/100      5.46G     0.7409     0.6553      1.213         60        640: 100%|██████████| 211/211 [00:55<00:00,  3.80it/s]\n",
      "                 Class     Images  Instances      Box(P          R      mAP50  mAP50-95): 100%|██████████| 20/20 [00:04<00:00,  4.06it/s]"
     ]
    },
    {
     "name": "stdout",
     "output_type": "stream",
     "text": [
      "                   all        637       2337      0.693      0.557      0.601      0.409\n"
     ]
    },
    {
     "name": "stderr",
     "output_type": "stream",
     "text": [
      "\n"
     ]
    },
    {
     "name": "stdout",
     "output_type": "stream",
     "text": [
      "\n",
      "      Epoch    GPU_mem   box_loss   cls_loss   dfl_loss  Instances       Size\n"
     ]
    },
    {
     "name": "stderr",
     "output_type": "stream",
     "text": [
      "     63/100      5.44G     0.7441     0.6575       1.21         57        640: 100%|██████████| 211/211 [00:55<00:00,  3.81it/s]\n",
      "                 Class     Images  Instances      Box(P          R      mAP50  mAP50-95): 100%|██████████| 20/20 [00:04<00:00,  4.13it/s]"
     ]
    },
    {
     "name": "stdout",
     "output_type": "stream",
     "text": [
      "                   all        637       2337       0.65      0.573       0.61      0.417\n"
     ]
    },
    {
     "name": "stderr",
     "output_type": "stream",
     "text": [
      "\n"
     ]
    },
    {
     "name": "stdout",
     "output_type": "stream",
     "text": [
      "\n",
      "      Epoch    GPU_mem   box_loss   cls_loss   dfl_loss  Instances       Size\n"
     ]
    },
    {
     "name": "stderr",
     "output_type": "stream",
     "text": [
      "     64/100      5.52G     0.7539     0.6619      1.218         87        640: 100%|██████████| 211/211 [00:55<00:00,  3.79it/s]\n",
      "                 Class     Images  Instances      Box(P          R      mAP50  mAP50-95): 100%|██████████| 20/20 [00:04<00:00,  4.10it/s]"
     ]
    },
    {
     "name": "stdout",
     "output_type": "stream",
     "text": [
      "                   all        637       2337      0.625      0.573      0.599      0.409\n"
     ]
    },
    {
     "name": "stderr",
     "output_type": "stream",
     "text": [
      "\n"
     ]
    },
    {
     "name": "stdout",
     "output_type": "stream",
     "text": [
      "\n",
      "      Epoch    GPU_mem   box_loss   cls_loss   dfl_loss  Instances       Size\n"
     ]
    },
    {
     "name": "stderr",
     "output_type": "stream",
     "text": [
      "     65/100      5.41G     0.7453     0.6462      1.211         43        640: 100%|██████████| 211/211 [00:55<00:00,  3.79it/s]\n",
      "                 Class     Images  Instances      Box(P          R      mAP50  mAP50-95): 100%|██████████| 20/20 [00:04<00:00,  4.09it/s]"
     ]
    },
    {
     "name": "stdout",
     "output_type": "stream",
     "text": [
      "                   all        637       2337      0.638      0.576      0.606      0.414\n"
     ]
    },
    {
     "name": "stderr",
     "output_type": "stream",
     "text": [
      "\n"
     ]
    },
    {
     "name": "stdout",
     "output_type": "stream",
     "text": [
      "\n",
      "      Epoch    GPU_mem   box_loss   cls_loss   dfl_loss  Instances       Size\n"
     ]
    },
    {
     "name": "stderr",
     "output_type": "stream",
     "text": [
      "     66/100      5.73G     0.7431     0.6419      1.212         46        640: 100%|██████████| 211/211 [00:55<00:00,  3.78it/s]\n",
      "                 Class     Images  Instances      Box(P          R      mAP50  mAP50-95): 100%|██████████| 20/20 [00:04<00:00,  4.09it/s]"
     ]
    },
    {
     "name": "stdout",
     "output_type": "stream",
     "text": [
      "                   all        637       2337      0.626      0.582        0.6      0.415\n"
     ]
    },
    {
     "name": "stderr",
     "output_type": "stream",
     "text": [
      "\n"
     ]
    },
    {
     "name": "stdout",
     "output_type": "stream",
     "text": [
      "\n",
      "      Epoch    GPU_mem   box_loss   cls_loss   dfl_loss  Instances       Size\n"
     ]
    },
    {
     "name": "stderr",
     "output_type": "stream",
     "text": [
      "     67/100      6.04G     0.7378     0.6397      1.207         60        640: 100%|██████████| 211/211 [00:55<00:00,  3.79it/s]\n",
      "                 Class     Images  Instances      Box(P          R      mAP50  mAP50-95): 100%|██████████| 20/20 [00:04<00:00,  4.10it/s]"
     ]
    },
    {
     "name": "stdout",
     "output_type": "stream",
     "text": [
      "                   all        637       2337      0.629      0.576      0.604      0.417\n"
     ]
    },
    {
     "name": "stderr",
     "output_type": "stream",
     "text": [
      "\n"
     ]
    },
    {
     "name": "stdout",
     "output_type": "stream",
     "text": [
      "\n",
      "      Epoch    GPU_mem   box_loss   cls_loss   dfl_loss  Instances       Size\n"
     ]
    },
    {
     "name": "stderr",
     "output_type": "stream",
     "text": [
      "     68/100      5.56G     0.7279     0.6302      1.205         42        640: 100%|██████████| 211/211 [00:55<00:00,  3.79it/s]\n",
      "                 Class     Images  Instances      Box(P          R      mAP50  mAP50-95): 100%|██████████| 20/20 [00:04<00:00,  4.08it/s]"
     ]
    },
    {
     "name": "stdout",
     "output_type": "stream",
     "text": [
      "                   all        637       2337      0.637      0.561      0.602      0.409\n"
     ]
    },
    {
     "name": "stderr",
     "output_type": "stream",
     "text": [
      "\n"
     ]
    },
    {
     "name": "stdout",
     "output_type": "stream",
     "text": [
      "\n",
      "      Epoch    GPU_mem   box_loss   cls_loss   dfl_loss  Instances       Size\n"
     ]
    },
    {
     "name": "stderr",
     "output_type": "stream",
     "text": [
      "     69/100      5.61G     0.7351     0.6403      1.215         44        640: 100%|██████████| 211/211 [00:55<00:00,  3.80it/s]\n",
      "                 Class     Images  Instances      Box(P          R      mAP50  mAP50-95): 100%|██████████| 20/20 [00:04<00:00,  4.08it/s]"
     ]
    },
    {
     "name": "stdout",
     "output_type": "stream",
     "text": [
      "                   all        637       2337      0.621      0.594      0.605      0.418\n"
     ]
    },
    {
     "name": "stderr",
     "output_type": "stream",
     "text": [
      "\n"
     ]
    },
    {
     "name": "stdout",
     "output_type": "stream",
     "text": [
      "\n",
      "      Epoch    GPU_mem   box_loss   cls_loss   dfl_loss  Instances       Size\n"
     ]
    },
    {
     "name": "stderr",
     "output_type": "stream",
     "text": [
      "     70/100      5.48G     0.7326     0.6325      1.207         48        640: 100%|██████████| 211/211 [00:55<00:00,  3.79it/s]\n",
      "                 Class     Images  Instances      Box(P          R      mAP50  mAP50-95): 100%|██████████| 20/20 [00:04<00:00,  4.08it/s]"
     ]
    },
    {
     "name": "stdout",
     "output_type": "stream",
     "text": [
      "                   all        637       2337       0.63      0.583      0.603      0.417\n"
     ]
    },
    {
     "name": "stderr",
     "output_type": "stream",
     "text": [
      "\n"
     ]
    },
    {
     "name": "stdout",
     "output_type": "stream",
     "text": [
      "\n",
      "      Epoch    GPU_mem   box_loss   cls_loss   dfl_loss  Instances       Size\n"
     ]
    },
    {
     "name": "stderr",
     "output_type": "stream",
     "text": [
      "     71/100      5.75G     0.7207     0.6207      1.193         47        640: 100%|██████████| 211/211 [00:55<00:00,  3.80it/s]\n",
      "                 Class     Images  Instances      Box(P          R      mAP50  mAP50-95): 100%|██████████| 20/20 [00:04<00:00,  4.08it/s]"
     ]
    },
    {
     "name": "stdout",
     "output_type": "stream",
     "text": [
      "                   all        637       2337      0.692       0.55      0.598      0.416\n"
     ]
    },
    {
     "name": "stderr",
     "output_type": "stream",
     "text": [
      "\n"
     ]
    },
    {
     "name": "stdout",
     "output_type": "stream",
     "text": [
      "\n",
      "      Epoch    GPU_mem   box_loss   cls_loss   dfl_loss  Instances       Size\n"
     ]
    },
    {
     "name": "stderr",
     "output_type": "stream",
     "text": [
      "     72/100      5.63G     0.7254     0.6186        1.2         71        640: 100%|██████████| 211/211 [00:55<00:00,  3.80it/s]\n",
      "                 Class     Images  Instances      Box(P          R      mAP50  mAP50-95): 100%|██████████| 20/20 [00:04<00:00,  4.12it/s]"
     ]
    },
    {
     "name": "stdout",
     "output_type": "stream",
     "text": [
      "                   all        637       2337      0.698       0.53      0.599      0.416\n"
     ]
    },
    {
     "name": "stderr",
     "output_type": "stream",
     "text": [
      "\n"
     ]
    },
    {
     "name": "stdout",
     "output_type": "stream",
     "text": [
      "\n",
      "      Epoch    GPU_mem   box_loss   cls_loss   dfl_loss  Instances       Size\n"
     ]
    },
    {
     "name": "stderr",
     "output_type": "stream",
     "text": [
      "     73/100      5.47G     0.7221     0.6134        1.2         42        640: 100%|██████████| 211/211 [00:55<00:00,  3.80it/s]\n",
      "                 Class     Images  Instances      Box(P          R      mAP50  mAP50-95): 100%|██████████| 20/20 [00:04<00:00,  4.11it/s]"
     ]
    },
    {
     "name": "stdout",
     "output_type": "stream",
     "text": [
      "                   all        637       2337      0.657      0.559      0.605      0.416\n"
     ]
    },
    {
     "name": "stderr",
     "output_type": "stream",
     "text": [
      "\n"
     ]
    },
    {
     "name": "stdout",
     "output_type": "stream",
     "text": [
      "\n",
      "      Epoch    GPU_mem   box_loss   cls_loss   dfl_loss  Instances       Size\n"
     ]
    },
    {
     "name": "stderr",
     "output_type": "stream",
     "text": [
      "     74/100      5.45G     0.7168     0.6069      1.196         57        640: 100%|██████████| 211/211 [00:55<00:00,  3.80it/s]\n",
      "                 Class     Images  Instances      Box(P          R      mAP50  mAP50-95): 100%|██████████| 20/20 [00:04<00:00,  4.08it/s]"
     ]
    },
    {
     "name": "stdout",
     "output_type": "stream",
     "text": [
      "                   all        637       2337      0.644      0.586      0.604      0.415\n"
     ]
    },
    {
     "name": "stderr",
     "output_type": "stream",
     "text": [
      "\n"
     ]
    },
    {
     "name": "stdout",
     "output_type": "stream",
     "text": [
      "\n",
      "      Epoch    GPU_mem   box_loss   cls_loss   dfl_loss  Instances       Size\n"
     ]
    },
    {
     "name": "stderr",
     "output_type": "stream",
     "text": [
      "     75/100      5.37G     0.7062     0.5949      1.186         62        640: 100%|██████████| 211/211 [00:55<00:00,  3.81it/s]\n",
      "                 Class     Images  Instances      Box(P          R      mAP50  mAP50-95): 100%|██████████| 20/20 [00:04<00:00,  4.14it/s]"
     ]
    },
    {
     "name": "stdout",
     "output_type": "stream",
     "text": [
      "                   all        637       2337      0.632      0.593       0.61      0.417\n"
     ]
    },
    {
     "name": "stderr",
     "output_type": "stream",
     "text": [
      "\n"
     ]
    },
    {
     "name": "stdout",
     "output_type": "stream",
     "text": [
      "\n",
      "      Epoch    GPU_mem   box_loss   cls_loss   dfl_loss  Instances       Size\n"
     ]
    },
    {
     "name": "stderr",
     "output_type": "stream",
     "text": [
      "     76/100      5.62G      0.718     0.6005      1.196         75        640: 100%|██████████| 211/211 [00:55<00:00,  3.80it/s]\n",
      "                 Class     Images  Instances      Box(P          R      mAP50  mAP50-95): 100%|██████████| 20/20 [00:04<00:00,  4.15it/s]"
     ]
    },
    {
     "name": "stdout",
     "output_type": "stream",
     "text": [
      "                   all        637       2337       0.64       0.58      0.606      0.421\n"
     ]
    },
    {
     "name": "stderr",
     "output_type": "stream",
     "text": [
      "\n"
     ]
    },
    {
     "name": "stdout",
     "output_type": "stream",
     "text": [
      "\n",
      "      Epoch    GPU_mem   box_loss   cls_loss   dfl_loss  Instances       Size\n"
     ]
    },
    {
     "name": "stderr",
     "output_type": "stream",
     "text": [
      "     77/100      5.24G     0.7123     0.6015      1.187         49        640: 100%|██████████| 211/211 [00:55<00:00,  3.80it/s]\n",
      "                 Class     Images  Instances      Box(P          R      mAP50  mAP50-95): 100%|██████████| 20/20 [00:04<00:00,  4.11it/s]"
     ]
    },
    {
     "name": "stdout",
     "output_type": "stream",
     "text": [
      "                   all        637       2337      0.685      0.552      0.608      0.422\n"
     ]
    },
    {
     "name": "stderr",
     "output_type": "stream",
     "text": [
      "\n"
     ]
    },
    {
     "name": "stdout",
     "output_type": "stream",
     "text": [
      "\n",
      "      Epoch    GPU_mem   box_loss   cls_loss   dfl_loss  Instances       Size\n"
     ]
    },
    {
     "name": "stderr",
     "output_type": "stream",
     "text": [
      "     78/100      5.47G      0.701      0.604      1.187         79        640: 100%|██████████| 211/211 [00:55<00:00,  3.81it/s]\n",
      "                 Class     Images  Instances      Box(P          R      mAP50  mAP50-95): 100%|██████████| 20/20 [00:04<00:00,  4.13it/s]"
     ]
    },
    {
     "name": "stdout",
     "output_type": "stream",
     "text": [
      "                   all        637       2337      0.684      0.552      0.606      0.421\n"
     ]
    },
    {
     "name": "stderr",
     "output_type": "stream",
     "text": [
      "\n"
     ]
    },
    {
     "name": "stdout",
     "output_type": "stream",
     "text": [
      "\n",
      "      Epoch    GPU_mem   box_loss   cls_loss   dfl_loss  Instances       Size\n"
     ]
    },
    {
     "name": "stderr",
     "output_type": "stream",
     "text": [
      "     79/100      5.54G     0.6998     0.5892      1.174         40        640: 100%|██████████| 211/211 [00:55<00:00,  3.80it/s]\n",
      "                 Class     Images  Instances      Box(P          R      mAP50  mAP50-95): 100%|██████████| 20/20 [00:04<00:00,  4.09it/s]"
     ]
    },
    {
     "name": "stdout",
     "output_type": "stream",
     "text": [
      "                   all        637       2337      0.642      0.575        0.6      0.416\n"
     ]
    },
    {
     "name": "stderr",
     "output_type": "stream",
     "text": [
      "\n"
     ]
    },
    {
     "name": "stdout",
     "output_type": "stream",
     "text": [
      "\n",
      "      Epoch    GPU_mem   box_loss   cls_loss   dfl_loss  Instances       Size\n"
     ]
    },
    {
     "name": "stderr",
     "output_type": "stream",
     "text": [
      "     80/100      5.52G     0.6975     0.5939      1.182         30        640: 100%|██████████| 211/211 [00:55<00:00,  3.82it/s]\n",
      "                 Class     Images  Instances      Box(P          R      mAP50  mAP50-95): 100%|██████████| 20/20 [00:04<00:00,  4.12it/s]"
     ]
    },
    {
     "name": "stdout",
     "output_type": "stream",
     "text": [
      "                   all        637       2337      0.655      0.586      0.607      0.418\n"
     ]
    },
    {
     "name": "stderr",
     "output_type": "stream",
     "text": [
      "\n"
     ]
    },
    {
     "name": "stdout",
     "output_type": "stream",
     "text": [
      "\n",
      "      Epoch    GPU_mem   box_loss   cls_loss   dfl_loss  Instances       Size\n"
     ]
    },
    {
     "name": "stderr",
     "output_type": "stream",
     "text": [
      "     81/100      5.55G      0.693     0.5803      1.173         73        640: 100%|██████████| 211/211 [00:55<00:00,  3.78it/s]\n",
      "                 Class     Images  Instances      Box(P          R      mAP50  mAP50-95): 100%|██████████| 20/20 [00:04<00:00,  4.12it/s]"
     ]
    },
    {
     "name": "stdout",
     "output_type": "stream",
     "text": [
      "                   all        637       2337      0.665      0.568      0.606       0.42\n"
     ]
    },
    {
     "name": "stderr",
     "output_type": "stream",
     "text": [
      "\n"
     ]
    },
    {
     "name": "stdout",
     "output_type": "stream",
     "text": [
      "\n",
      "      Epoch    GPU_mem   box_loss   cls_loss   dfl_loss  Instances       Size\n"
     ]
    },
    {
     "name": "stderr",
     "output_type": "stream",
     "text": [
      "     82/100      5.53G      0.684     0.5704      1.167         55        640: 100%|██████████| 211/211 [00:55<00:00,  3.81it/s]\n",
      "                 Class     Images  Instances      Box(P          R      mAP50  mAP50-95): 100%|██████████| 20/20 [00:04<00:00,  4.12it/s]"
     ]
    },
    {
     "name": "stdout",
     "output_type": "stream",
     "text": [
      "                   all        637       2337      0.653      0.582      0.609       0.42\n",
      "\u001b[34m\u001b[1mEarlyStopping: \u001b[0mTraining stopped early as no improvement observed in last 30 epochs. Best results observed at epoch 52, best model saved as best.pt.\n",
      "To update EarlyStopping(patience=30) pass a new patience value, i.e. `patience=300` or use `patience=0` to disable EarlyStopping.\n"
     ]
    },
    {
     "name": "stderr",
     "output_type": "stream",
     "text": [
      "\n"
     ]
    },
    {
     "name": "stdout",
     "output_type": "stream",
     "text": [
      "\n",
      "82 epochs completed in 1.399 hours.\n",
      "Optimizer stripped from runs\\detect\\train2\\weights\\last.pt, 15.3MB\n",
      "Optimizer stripped from runs\\detect\\train2\\weights\\best.pt, 15.3MB\n",
      "\n",
      "Validating runs\\detect\\train2\\weights\\best.pt...\n",
      "Ultralytics YOLOv8.2.54  Python-3.11.8 torch-2.3.0+cu118 CUDA:0 (NVIDIA GeForce RTX 4060 Laptop GPU, 8188MiB)\n",
      "YOLOv9s summary (fused): 486 layers, 7190695 parameters, 0 gradients, 26.9 GFLOPs\n"
     ]
    },
    {
     "name": "stderr",
     "output_type": "stream",
     "text": [
      "                 Class     Images  Instances      Box(P          R      mAP50  mAP50-95): 100%|██████████| 20/20 [00:04<00:00,  4.27it/s]\n"
     ]
    },
    {
     "name": "stdout",
     "output_type": "stream",
     "text": [
      "                   all        637       2337      0.613      0.601      0.611      0.423\n",
      "                 Apple         13         75      0.905      0.127      0.239      0.179\n",
      "                Banana         13         46      0.604      0.283      0.435      0.277\n",
      "              Beetroot         14         57      0.521      0.686      0.564      0.272\n",
      "           Bell pepper         24        108      0.624      0.593      0.609      0.391\n",
      "          Black pepper         15         23      0.525      0.609      0.605       0.49\n",
      "                 Bread         10         20      0.527        0.7      0.768      0.608\n",
      "                   Bun         10         41      0.972      0.836      0.967      0.794\n",
      "                Butter          2          3       0.87      0.333      0.342       0.24\n",
      "               Cabbage         11         27       0.56      0.778      0.651       0.44\n",
      "              Cardamom         13         41      0.681       0.39      0.526      0.367\n",
      "                Carrot         13         70      0.548      0.614      0.601      0.279\n",
      "               Catfish         13         24      0.526      0.542      0.546      0.408\n",
      "           Cauliflower         13         17      0.891      0.824      0.931      0.665\n",
      "                Cheese          7         28      0.356        0.5      0.447      0.283\n",
      "               Chicken         11         22      0.633      0.773      0.735      0.539\n",
      "         Chilli Pepper         36        189      0.741      0.571      0.667      0.393\n",
      "              Cinnamon         12        105      0.658      0.676       0.67      0.548\n",
      "             Coriander          5          7          0          0      0.102     0.0679\n",
      "                  Corn         11         40      0.781      0.725      0.734      0.388\n",
      "              Crawfish         12         21      0.671      0.486      0.646      0.407\n",
      "              Cucumber         14         72      0.655       0.75      0.762      0.459\n",
      "                   Egg          8         51        0.6      0.413      0.425      0.363\n",
      "              Eggplant         15         49      0.723       0.98       0.93      0.518\n",
      "                Garlic         18        100      0.733       0.68      0.702      0.362\n",
      "                Ginger         12         18      0.756      0.722      0.845      0.622\n",
      "                Grapes         14         41      0.548      0.439      0.517      0.307\n",
      "              Jalepeno         17         96      0.581      0.792       0.76      0.442\n",
      "               Lettuce         14         22      0.612      0.773      0.735      0.458\n",
      "               Lobster         13         42       0.49      0.429      0.508      0.255\n",
      "              Mackerel         11         35      0.734        0.6      0.681      0.609\n",
      "                 Mango         13         61      0.654       0.82      0.719      0.507\n",
      "                 Onion         15         39      0.806      0.821      0.892      0.576\n",
      "                Orange         11         28       0.79      0.857      0.884      0.677\n",
      "               Paprika          6         13      0.532      0.462      0.484      0.325\n",
      "                  Peas         16        103      0.248      0.476      0.252     0.0943\n",
      "             Pineapple         16         41      0.606      0.659      0.731        0.6\n",
      "           Pomegranate         14         38       0.68      0.711      0.721      0.647\n",
      "                  Pork         11         26      0.485        0.5      0.504      0.381\n",
      "                Potato         13         63      0.364      0.683      0.499      0.457\n",
      "                Radish          4         13      0.421      0.769      0.667      0.375\n",
      "            Soya Beans         13         21      0.722      0.743      0.794      0.562\n",
      "          Spring onion          3          4          1          0          0          0\n",
      "                 Thyme          3          3      0.392      0.667      0.503      0.239\n",
      "                Tomato         17        108      0.508      0.722      0.603      0.528\n",
      "            Watermelon         15         63       0.89      0.841      0.927      0.847\n",
      "                 clove         14         17      0.666      0.765      0.791      0.654\n",
      "                  duck         13         15      0.689        0.6      0.716      0.512\n",
      "                 lemon         17         47      0.635      0.723       0.68      0.502\n",
      "                  paer         15         37       0.86      0.892      0.916      0.433\n",
      "               raddish          1          1          0          0          0          0\n",
      "               spinach         17         77      0.547       0.39      0.394      0.305\n",
      "          sweet potato         10         29      0.363      0.517      0.416      0.347\n",
      "Speed: 0.2ms preprocess, 4.3ms inference, 0.0ms loss, 0.7ms postprocess per image\n",
      "Results saved to \u001b[1mruns\\detect\\train2\u001b[0m\n",
      "\n",
      "image 1/317 c:\\Users\\user\\Desktop\\FINAL\\final-project\\16\\data\\3\\test\\images\\1000_F_218030921_YpdJ0eInLefviJy3jYrNd2IiJwFq4BwS_jpg.rf.ec705d9fd37cab6b00c6123787eb47fb.jpg: 640x640 1 Cinnamon, 1 Lobster, 56.9ms\n",
      "image 2/317 c:\\Users\\user\\Desktop\\FINAL\\final-project\\16\\data\\3\\test\\images\\1000_F_533541994_fghnGqtJgr8Xv07s8Zc8xGR7Qbf2CQmU_jpg.rf.04761b642a2d1b42a9f6a44e493dc026.jpg: 640x640 2 Black peppers, 2 Catfishs, 2 Rosemarys, 2 lemons, 31.0ms\n",
      "image 3/317 c:\\Users\\user\\Desktop\\FINAL\\final-project\\16\\data\\3\\test\\images\\100322799-lobsters-for-sale-on-ice-at-market_jpg.rf.947f8e544058933829b01a655788649e.jpg: 640x640 6 Lobsters, 31.8ms\n",
      "image 4/317 c:\\Users\\user\\Desktop\\FINAL\\final-project\\16\\data\\3\\test\\images\\1200px-Sesame_seed_hamburger_buns_jpg.rf.ff2fdc888e1ac47d468276022a44d555.jpg: 640x640 1 Bread, 4 Buns, 34.7ms\n",
      "image 5/317 c:\\Users\\user\\Desktop\\FINAL\\final-project\\16\\data\\3\\test\\images\\20230630_124424-scaled_jpg.rf.a8d14182cc3120f9b0e0924b6827f963.jpg: 640x640 6 Cinnamons, 29.6ms\n",
      "image 6/317 c:\\Users\\user\\Desktop\\FINAL\\final-project\\16\\data\\3\\test\\images\\254478-homemade-mozzarella-cheese-DDMFS-4x3-ed982c4254fe4d86bc38df6381729673_jpg.rf.db785f6cf7cbc0340687658baacbf28d.jpg: 640x640 3 Cheeses, 28.0ms\n",
      "image 7/317 c:\\Users\\user\\Desktop\\FINAL\\final-project\\16\\data\\3\\test\\images\\360_F_388186777_wcZn2jg3JI5UmWjD8jD3vtPQAvXQ0pmm_jpg.rf.a1811d2105fa04d9d7e56cc999194c8a.jpg: 640x640 2 Mackerels, 26.3ms\n",
      "image 8/317 c:\\Users\\user\\Desktop\\FINAL\\final-project\\16\\data\\3\\test\\images\\40087523_2-fresho-sweet-bun-safe-preservative-free_jpg.rf.cfbd868963b8b5920e8ec9cee8339d75.jpg: 640x640 4 Buns, 19.2ms\n",
      "image 9/317 c:\\Users\\user\\Desktop\\FINAL\\final-project\\16\\data\\3\\test\\images\\41Gta1uLxsL-_AC_UF1000-1000_QL80__jpg.rf.8e30bd29a3565dd188efc84316119c24.jpg: 640x640 7 Cinnamons, 21.4ms\n",
      "image 10/317 c:\\Users\\user\\Desktop\\FINAL\\final-project\\16\\data\\3\\test\\images\\4270_jpg.rf.6dc358b7ac88f1b38f6421078b2f8e0e.jpg: 640x640 1 Broccoli, 4 Lobsters, 20.8ms\n",
      "image 11/317 c:\\Users\\user\\Desktop\\FINAL\\final-project\\16\\data\\3\\test\\images\\6-1_jpg.rf.1a0a0a17806042a8a5ebe775608ef047.jpg: 640x640 1 Black pepper, 18.2ms\n",
      "image 12/317 c:\\Users\\user\\Desktop\\FINAL\\final-project\\16\\data\\3\\test\\images\\61I00g400ML_jpg.rf.864d7fbf8c3c25313796ed7265e2e577.jpg: 640x640 1 Lobster, 18.4ms\n",
      "image 13/317 c:\\Users\\user\\Desktop\\FINAL\\final-project\\16\\data\\3\\test\\images\\63745ccdb1413658dc2447c2-catfish-fillet-blue_jpg.rf.e64d3ea08e996b53f0dd6a44277e2a8a.jpg: 640x640 1 Catfish, 1 Rosemary, 1 lemon, 23.0ms\n",
      "image 14/317 c:\\Users\\user\\Desktop\\FINAL\\final-project\\16\\data\\3\\test\\images\\6mm-coorg-green-cardamom_jpg.rf.3826cd05c827db81b923673e834f6551.jpg: 640x640 1 Cardamom, 17.0ms\n",
      "image 15/317 c:\\Users\\user\\Desktop\\FINAL\\final-project\\16\\data\\3\\test\\images\\71HIfMxoG-L_jpg.rf.cc4c274b5709b4e808d42bd5fb56c06c.jpg: 640x640 1 Cardamom, 16.3ms\n",
      "image 16/317 c:\\Users\\user\\Desktop\\FINAL\\final-project\\16\\data\\3\\test\\images\\8-Unmissable-Health-Benefits-of-Cloves-or-Laung-and-How-to-Use-It_jpg.rf.ee9505908f3338167f4461e89ab6afb1.jpg: 640x640 1 clove, 17.9ms\n",
      "image 17/317 c:\\Users\\user\\Desktop\\FINAL\\final-project\\16\\data\\3\\test\\images\\8mm-premium-green-cardamom-500x500_jpg.rf.b4002eaf68295f7bf75b0205f09922ee.jpg: 640x640 1 Cardamom, 19.1ms\n",
      "image 18/317 c:\\Users\\user\\Desktop\\FINAL\\final-project\\16\\data\\3\\test\\images\\AmazonImages3_3_png.rf.0521a8be67828ac1c6fc3531e062876b.jpg: 640x640 1 clove, 19.6ms\n",
      "image 19/317 c:\\Users\\user\\Desktop\\FINAL\\final-project\\16\\data\\3\\test\\images\\Black-Pepper-1_jpg.rf.e5434cb36e9bb58d9bb7d3a0683d5355.jpg: 640x640 3 Black peppers, 12.9ms\n",
      "image 20/317 c:\\Users\\user\\Desktop\\FINAL\\final-project\\16\\data\\3\\test\\images\\CrawfishPot_jpg.rf.947f3999d77057723fac7c2101e8353f.jpg: 640x640 1 Crawfish, 18.8ms\n",
      "image 21/317 c:\\Users\\user\\Desktop\\FINAL\\final-project\\16\\data\\3\\test\\images\\DrAxeCinnamonBenefitsThumbnail_jpg.rf.81c5f03d3c93d137928d4bf4ff5a3998.jpg: 640x640 3 Cinnamons, 12.0ms\n",
      "image 22/317 c:\\Users\\user\\Desktop\\FINAL\\final-project\\16\\data\\3\\test\\images\\Duck-breast-raw_jpg.rf.9e23f6436696a5d952f2bba4ef63da12.jpg: 640x640 1 Chicken, 1 duck, 12.8ms\n",
      "image 23/317 c:\\Users\\user\\Desktop\\FINAL\\final-project\\16\\data\\3\\test\\images\\Facebook_SaigonCinnamon_jpg.rf.9681f7971f61c18287989f9e4a84082a.jpg: 640x640 4 Cinnamons, 12.6ms\n",
      "image 24/317 c:\\Users\\user\\Desktop\\FINAL\\final-project\\16\\data\\3\\test\\images\\GettyImages-1068570034-177f4f5555934e519b0471912105fdb6_jpg.rf.676f887c0a12626e4436b4b19732eb2e.jpg: 640x640 1 clove, 14.1ms\n",
      "image 25/317 c:\\Users\\user\\Desktop\\FINAL\\final-project\\16\\data\\3\\test\\images\\GettyImages-1144769011-28ed184dd64e4f56813b91f6c6ca5eef_jpg.rf.23c8c75741a63614f7fb7542ce6adb31.jpg: 640x640 1 Garlic, 4 cloves, 11.6ms\n",
      "image 26/317 c:\\Users\\user\\Desktop\\FINAL\\final-project\\16\\data\\3\\test\\images\\Green-Cardamom_5e400f93-4372-4a2d-aec1-64c6cc75b105_jpg.rf.eb25ab2479f36455556acaa47d396550.jpg: 640x640 2 Cardamoms, 16.2ms\n",
      "image 27/317 c:\\Users\\user\\Desktop\\FINAL\\final-project\\16\\data\\3\\test\\images\\Harvest-Select-Fillet-Chef_jpg.rf.5c95d0da817c90edc7e8198aa47ee52a.jpg: 640x640 2 Catfishs, 1 Coriander, 12.8ms\n",
      "image 28/317 c:\\Users\\user\\Desktop\\FINAL\\final-project\\16\\data\\3\\test\\images\\Homemade-White-Bread-large-6-480x360_jpg.rf.98aafbb33dc4dcd3393c3ac560db7364.jpg: 640x640 1 Bread, 11.8ms\n",
      "image 29/317 c:\\Users\\user\\Desktop\\FINAL\\final-project\\16\\data\\3\\test\\images\\Image_100_jpeg.rf.676cf5e33fc856ecb456258e9a5f309b.jpg: 640x640 1 Lettuce, 18.2ms\n",
      "image 30/317 c:\\Users\\user\\Desktop\\FINAL\\final-project\\16\\data\\3\\test\\images\\Image_100_jpg.rf.25b476a31c8d68907ee6320c31dd2130.jpg: 640x640 1 Cucumber, 12 Jalepenos, 12.4ms\n",
      "image 31/317 c:\\Users\\user\\Desktop\\FINAL\\final-project\\16\\data\\3\\test\\images\\Image_100_jpg.rf.3f2fac078fdb4e55719828c9ff0be8e9.jpg: 640x640 1 Ginger, 13.7ms\n",
      "image 32/317 c:\\Users\\user\\Desktop\\FINAL\\final-project\\16\\data\\3\\test\\images\\Image_10_jpg.rf.29d25ab99b588d9b1d5a6189654066d2.jpg: 640x640 1 Eggplant, 1 Jalepeno, 14.6ms\n",
      "image 33/317 c:\\Users\\user\\Desktop\\FINAL\\final-project\\16\\data\\3\\test\\images\\Image_10_jpg.rf.5fdad7c33f55a00f905cbd9343e18b6e.jpg: 640x640 2 Pineapples, 11.7ms\n",
      "image 34/317 c:\\Users\\user\\Desktop\\FINAL\\final-project\\16\\data\\3\\test\\images\\Image_11_jpg.rf.b0819a8eb5bb3622904da2c0dee80f1b.jpg: 640x640 1 Cabbage, 16.5ms\n",
      "image 35/317 c:\\Users\\user\\Desktop\\FINAL\\final-project\\16\\data\\3\\test\\images\\Image_11_jpg.rf.b27d876673a238f2b0233c1b7a2608e2.jpg: 640x640 14 Chilli Peppers, 15.7ms\n",
      "image 36/317 c:\\Users\\user\\Desktop\\FINAL\\final-project\\16\\data\\3\\test\\images\\Image_11_jpg.rf.be08abcc359263432d405defce98c3e5.jpg: 640x640 5 Garlics, 13.0ms\n",
      "image 37/317 c:\\Users\\user\\Desktop\\FINAL\\final-project\\16\\data\\3\\test\\images\\Image_12_jpg.rf.7e1c488a4466fffc7a7693182b18f6eb.jpg: 640x640 5 Corns, 11.9ms\n",
      "image 38/317 c:\\Users\\user\\Desktop\\FINAL\\final-project\\16\\data\\3\\test\\images\\Image_12_jpg.rf.d0577a8d318ac960bda0d6644268c003.jpg: 640x640 13 Oranges, 19.2ms\n",
      "image 39/317 c:\\Users\\user\\Desktop\\FINAL\\final-project\\16\\data\\3\\test\\images\\Image_12_jpg.rf.e01972f0986091e684a2446c2b9ed1f3.jpg: 640x640 5 Garlics, 13.4ms\n",
      "image 40/317 c:\\Users\\user\\Desktop\\FINAL\\final-project\\16\\data\\3\\test\\images\\Image_13_jpg.rf.06ae0ade4a8b280ecded9c865a41b7aa.jpg: 640x640 12 Chilli Peppers, 12.3ms\n",
      "image 41/317 c:\\Users\\user\\Desktop\\FINAL\\final-project\\16\\data\\3\\test\\images\\Image_13_jpg.rf.104a546431056b06ee531ef9fa82bf19.jpg: 640x640 2 lemons, 21.5ms\n",
      "image 42/317 c:\\Users\\user\\Desktop\\FINAL\\final-project\\16\\data\\3\\test\\images\\Image_13_jpg.rf.26931b5f14f52c81b6f8dab62f54bd71.jpg: 640x640 13 Potatos, 17.5ms\n",
      "image 43/317 c:\\Users\\user\\Desktop\\FINAL\\final-project\\16\\data\\3\\test\\images\\Image_13_jpg.rf.5238596744539d87f3160954221b2a67.jpg: 640x640 1 Cauliflower, 20.6ms\n",
      "image 44/317 c:\\Users\\user\\Desktop\\FINAL\\final-project\\16\\data\\3\\test\\images\\Image_14_jpg.rf.4345d9f4cb378ae9c4c209ad9913a359.jpg: 640x640 5 Cucumbers, 2 Jalepenos, 12.5ms\n",
      "image 45/317 c:\\Users\\user\\Desktop\\FINAL\\final-project\\16\\data\\3\\test\\images\\Image_14_jpg.rf.554f54f8a87b3fc55d484ff02fe7d59d.jpg: 640x640 2 paers, 13.6ms\n",
      "image 46/317 c:\\Users\\user\\Desktop\\FINAL\\final-project\\16\\data\\3\\test\\images\\Image_14_jpg.rf.791f1f48137337ac65ef7c2f70b8e778.jpg: 640x640 18 Chilli Peppers, 14.8ms\n",
      "image 47/317 c:\\Users\\user\\Desktop\\FINAL\\final-project\\16\\data\\3\\test\\images\\Image_14_jpg.rf.8618fdcdad56e1d173608fc7503e38f6.jpg: 640x640 3 Corns, 1 lemon, 12.2ms\n",
      "image 48/317 c:\\Users\\user\\Desktop\\FINAL\\final-project\\16\\data\\3\\test\\images\\Image_14_jpg.rf.e2a2fe8431b139870b041c8513d28292.jpg: 640x640 23 Peass, 11.8ms\n",
      "image 49/317 c:\\Users\\user\\Desktop\\FINAL\\final-project\\16\\data\\3\\test\\images\\Image_15_jpg.rf.64fc9f5a538b26a27e41e7a5029d7d69.jpg: 640x640 16 Chilli Peppers, 14.8ms\n",
      "image 50/317 c:\\Users\\user\\Desktop\\FINAL\\final-project\\16\\data\\3\\test\\images\\Image_15_jpg.rf.e802675b1457380ad410cef0ca582e5c.jpg: 640x640 6 Bell peppers, 12.1ms\n",
      "image 51/317 c:\\Users\\user\\Desktop\\FINAL\\final-project\\16\\data\\3\\test\\images\\Image_16_jpg.rf.06eddfcc300cd17232cae49b6affa812.jpg: 640x640 3 Cucumbers, 13.3ms\n",
      "image 52/317 c:\\Users\\user\\Desktop\\FINAL\\final-project\\16\\data\\3\\test\\images\\Image_16_jpg.rf.2b25161ec6f3db9c27fe361bb599979c.jpg: 640x640 9 Oranges, 11.5ms\n",
      "image 53/317 c:\\Users\\user\\Desktop\\FINAL\\final-project\\16\\data\\3\\test\\images\\Image_16_jpg.rf.66320ebb4f54aecf1dbf7576ee625c26.jpg: 640x640 1 Garlic, 4 Onions, 17.8ms\n",
      "image 54/317 c:\\Users\\user\\Desktop\\FINAL\\final-project\\16\\data\\3\\test\\images\\Image_16_jpg.rf.c465bb1e78ed7b40a63731f2c0da891f.jpg: 640x640 1 Cheese, 1 Paprika, 17.2ms\n",
      "image 55/317 c:\\Users\\user\\Desktop\\FINAL\\final-project\\16\\data\\3\\test\\images\\Image_16_jpg.rf.e719e7a0fd19ceaf127dd36407013303.jpg: 640x640 3 Soya Beanss, 17.9ms\n",
      "image 56/317 c:\\Users\\user\\Desktop\\FINAL\\final-project\\16\\data\\3\\test\\images\\Image_17_jpg.rf.28232a296156dc1188213ad1053ad3de.jpg: 640x640 3 Pomegranates, 15.8ms\n",
      "image 57/317 c:\\Users\\user\\Desktop\\FINAL\\final-project\\16\\data\\3\\test\\images\\Image_17_jpg.rf.9d0e07e08588c4aa7ef9d245a0c9ea0e.jpg: 640x640 3 Chilli Peppers, 2 Jalepenos, 16.6ms\n",
      "image 58/317 c:\\Users\\user\\Desktop\\FINAL\\final-project\\16\\data\\3\\test\\images\\Image_17_jpg.rf.bd9b74575f2c937fdca13bab79e3ab18.jpg: 640x640 1 Eggplant, 1 paer, 13.1ms\n",
      "image 59/317 c:\\Users\\user\\Desktop\\FINAL\\final-project\\16\\data\\3\\test\\images\\Image_18_jpg.rf.58c1b61ca2d7564c97f4eb7facf712c8.jpg: 640x640 12 Chilli Peppers, 14.4ms\n",
      "image 60/317 c:\\Users\\user\\Desktop\\FINAL\\final-project\\16\\data\\3\\test\\images\\Image_18_jpg.rf.91d251095472f8351e559befffebbcbe.jpg: 640x640 1 Cauliflower, 17.8ms\n",
      "image 61/317 c:\\Users\\user\\Desktop\\FINAL\\final-project\\16\\data\\3\\test\\images\\Image_18_jpg.rf.c3b9ea826f7d6133752ecec59e2c8ccc.jpg: 640x640 1 spinach, 12.4ms\n",
      "image 62/317 c:\\Users\\user\\Desktop\\FINAL\\final-project\\16\\data\\3\\test\\images\\Image_19_jpg.rf.c93e6e3d68a72af129f2e8fff98fc16f.jpg: 640x640 2 Gingers, 12.7ms\n",
      "image 63/317 c:\\Users\\user\\Desktop\\FINAL\\final-project\\16\\data\\3\\test\\images\\Image_1_jpg.rf.2f49cfa6e1e97fd0088f1f506f9f9b0e.jpg: 640x640 4 Bell peppers, 18.5ms\n",
      "image 64/317 c:\\Users\\user\\Desktop\\FINAL\\final-project\\16\\data\\3\\test\\images\\Image_1_jpg.rf.a6050e32842de3f523e3362dc26026eb.jpg: 640x640 2 Chilli Peppers, 13.4ms\n",
      "image 65/317 c:\\Users\\user\\Desktop\\FINAL\\final-project\\16\\data\\3\\test\\images\\Image_1_jpg.rf.b35df8c1e0d2a30f3c008175b1f34149.jpg: 640x640 2 spinachs, 12.8ms\n",
      "image 66/317 c:\\Users\\user\\Desktop\\FINAL\\final-project\\16\\data\\3\\test\\images\\Image_20_jpg.rf.402c3147777a4eb369211fce07da8d3a.jpg: 640x640 2 Watermelons, 18.4ms\n",
      "image 67/317 c:\\Users\\user\\Desktop\\FINAL\\final-project\\16\\data\\3\\test\\images\\Image_21_jpg.rf.80246a79c76b906a90ded02a1422fd82.jpg: 640x640 2 Cucumbers, 11.4ms\n",
      "image 68/317 c:\\Users\\user\\Desktop\\FINAL\\final-project\\16\\data\\3\\test\\images\\Image_22_jpg.rf.11d5cdc4efe872066e69396d4dafc7a3.jpg: 640x640 1 Cabbage, 12.8ms\n",
      "image 69/317 c:\\Users\\user\\Desktop\\FINAL\\final-project\\16\\data\\3\\test\\images\\Image_22_jpg.rf.7e39afd6a1ad4b5e928ec60734ba1b03.jpg: 640x640 1 Apple, 19.6ms\n",
      "image 70/317 c:\\Users\\user\\Desktop\\FINAL\\final-project\\16\\data\\3\\test\\images\\Image_22_jpg.rf.e79cc909e70837be4e78f997c502390e.jpg: 640x640 2 Oranges, 12.6ms\n",
      "image 71/317 c:\\Users\\user\\Desktop\\FINAL\\final-project\\16\\data\\3\\test\\images\\Image_22_jpg.rf.f92c1640e27b7e36f8eae5b207ff69c8.jpg: 640x640 3 Chilli Peppers, 10.2ms\n",
      "image 72/317 c:\\Users\\user\\Desktop\\FINAL\\final-project\\16\\data\\3\\test\\images\\Image_23_jpg.rf.8281fdf258543dce5f0ef4d194517fe1.jpg: 640x640 (no detections), 16.6ms\n",
      "image 73/317 c:\\Users\\user\\Desktop\\FINAL\\final-project\\16\\data\\3\\test\\images\\Image_24_jpg.rf.c47e293f18053e4e2615bdd70250598e.jpg: 640x640 5 Tomatos, 16.0ms\n",
      "image 74/317 c:\\Users\\user\\Desktop\\FINAL\\final-project\\16\\data\\3\\test\\images\\Image_24_png.rf.342811d65c6040e831ea09899b7e84a0.jpg: 640x640 1 Pineapple, 19.8ms\n",
      "image 75/317 c:\\Users\\user\\Desktop\\FINAL\\final-project\\16\\data\\3\\test\\images\\Image_25_jpeg.rf.a5191f17daf93f54fba9542230631650.jpg: 640x640 6 Grapess, 9.6ms\n",
      "image 76/317 c:\\Users\\user\\Desktop\\FINAL\\final-project\\16\\data\\3\\test\\images\\Image_25_jpg.rf.2674ce54e5c42c5e9771557876ab3123.jpg: 640x640 5 sweet potatos, 16.4ms\n",
      "image 77/317 c:\\Users\\user\\Desktop\\FINAL\\final-project\\16\\data\\3\\test\\images\\Image_25_jpg.rf.4c1e5669024808681a00f56d8233d34b.jpg: 640x640 1 Orange, 15.9ms\n",
      "image 78/317 c:\\Users\\user\\Desktop\\FINAL\\final-project\\16\\data\\3\\test\\images\\Image_25_jpg.rf.adbd60d66f3d6eec944b1d9530b483f5.jpg: 640x640 2 Radishs, 18.4ms\n",
      "image 79/317 c:\\Users\\user\\Desktop\\FINAL\\final-project\\16\\data\\3\\test\\images\\Image_25_jpg.rf.d2a7fd8cb24925f0be70469d91b75c6f.jpg: 640x640 1 Tomato, 16.0ms\n",
      "image 80/317 c:\\Users\\user\\Desktop\\FINAL\\final-project\\16\\data\\3\\test\\images\\Image_26_jpg.rf.99026105d424eacce81397d69921c879.jpg: 640x640 3 Cauliflowers, 15.1ms\n",
      "image 81/317 c:\\Users\\user\\Desktop\\FINAL\\final-project\\16\\data\\3\\test\\images\\Image_26_png.rf.98bba69fcc04b88ca0ca67f70a467db5.jpg: 640x640 1 Eggplant, 11.8ms\n",
      "image 82/317 c:\\Users\\user\\Desktop\\FINAL\\final-project\\16\\data\\3\\test\\images\\Image_27_jpg.rf.5b9114adfab8a89a481020f56bcd18b8.jpg: 640x640 2 spinachs, 16.3ms\n",
      "image 83/317 c:\\Users\\user\\Desktop\\FINAL\\final-project\\16\\data\\3\\test\\images\\Image_27_jpg.rf.a5994d955255032248ddb0f3824cea0f.jpg: 640x640 2 Onions, 17.9ms\n",
      "image 84/317 c:\\Users\\user\\Desktop\\FINAL\\final-project\\16\\data\\3\\test\\images\\Image_27_jpg.rf.d961aecd266721ec3770ea805f1a9a5c.jpg: 640x640 19 Garlics, 16.0ms\n",
      "image 85/317 c:\\Users\\user\\Desktop\\FINAL\\final-project\\16\\data\\3\\test\\images\\Image_28_jpg.rf.0f7774a5ded92dbca356b393e2231a68.jpg: 640x640 2 Corns, 1 Pineapple, 19.1ms\n",
      "image 86/317 c:\\Users\\user\\Desktop\\FINAL\\final-project\\16\\data\\3\\test\\images\\Image_28_jpg.rf.a3d9fd82081d54a51470c6d5dcfa4fb1.jpg: 640x640 1 Bell pepper, 1 Chilli Pepper, 1 Eggplant, 12.8ms\n",
      "image 87/317 c:\\Users\\user\\Desktop\\FINAL\\final-project\\16\\data\\3\\test\\images\\Image_28_jpg.rf.b72430f319e789b14da11870d2716283.jpg: 640x640 3 Beetroots, 12.1ms\n",
      "image 88/317 c:\\Users\\user\\Desktop\\FINAL\\final-project\\16\\data\\3\\test\\images\\Image_29_jpeg.rf.d26aeb70425f054b89b01a15686422cd.jpg: 640x640 3 lemons, 14.7ms\n",
      "image 89/317 c:\\Users\\user\\Desktop\\FINAL\\final-project\\16\\data\\3\\test\\images\\Image_29_jpg.rf.dd6b7f2f4ef179bd794e4600cdff1673.jpg: 640x640 1 Cauliflower, 12.3ms\n",
      "image 90/317 c:\\Users\\user\\Desktop\\FINAL\\final-project\\16\\data\\3\\test\\images\\Image_29_png.rf.44d1490789d9829bde55f4de9c287308.jpg: 640x640 1 Ginger, 14.0ms\n",
      "image 91/317 c:\\Users\\user\\Desktop\\FINAL\\final-project\\16\\data\\3\\test\\images\\Image_2_jpg.rf.3907837f0321678f87e19957c05a1fea.jpg: 640x640 1 Apple, 16.4ms\n",
      "image 92/317 c:\\Users\\user\\Desktop\\FINAL\\final-project\\16\\data\\3\\test\\images\\Image_2_jpg.rf.6031c43d31bfc1f53da9f0c7974845f9.jpg: 640x640 3 Radishs, 14.4ms\n",
      "image 93/317 c:\\Users\\user\\Desktop\\FINAL\\final-project\\16\\data\\3\\test\\images\\Image_2_jpg.rf.97b2198d459b4f36d0f1c8e9ced8499d.jpg: 640x640 2 Corns, 9.3ms\n",
      "image 94/317 c:\\Users\\user\\Desktop\\FINAL\\final-project\\16\\data\\3\\test\\images\\Image_2_jpg.rf.cddad6df1e9ca167e603ee6f358d3db7.jpg: 640x640 1 duck, 1 lemon, 4 spinachs, 17.0ms\n",
      "image 95/317 c:\\Users\\user\\Desktop\\FINAL\\final-project\\16\\data\\3\\test\\images\\Image_30_JPG.rf.0805fcb29f9a54f31ebf5e106f54315c.jpg: 640x640 (no detections), 16.8ms\n",
      "image 96/317 c:\\Users\\user\\Desktop\\FINAL\\final-project\\16\\data\\3\\test\\images\\Image_30_jpg.rf.de530b2786988fde02dd1d33afcbb5f6.jpg: 640x640 1 Apple, 1 Mango, 11.5ms\n",
      "image 97/317 c:\\Users\\user\\Desktop\\FINAL\\final-project\\16\\data\\3\\test\\images\\Image_31_jpg.rf.4dc43ad52394ffdf41df466a27ef8581.jpg: 640x640 1 Paprika, 14.4ms\n",
      "image 98/317 c:\\Users\\user\\Desktop\\FINAL\\final-project\\16\\data\\3\\test\\images\\Image_31_jpg.rf.4ec3db2d1b97cbb147a04ddb1014c4ef.jpg: 640x640 1 Jalepeno, 20.8ms\n",
      "image 99/317 c:\\Users\\user\\Desktop\\FINAL\\final-project\\16\\data\\3\\test\\images\\Image_31_jpg.rf.57b36db26ac2ce0cff0b8b3d4db50c50.jpg: 640x640 2 Chilli Peppers, 5.6ms\n",
      "image 100/317 c:\\Users\\user\\Desktop\\FINAL\\final-project\\16\\data\\3\\test\\images\\Image_31_jpg.rf.ec3973de7d17a328f91f61389821e29a.jpg: 640x640 3 Cucumbers, 14.6ms\n",
      "image 101/317 c:\\Users\\user\\Desktop\\FINAL\\final-project\\16\\data\\3\\test\\images\\Image_32_jpg.rf.9427ea12a0a3a76d76fd8655e225ca91.jpg: 640x640 2 Grapess, 15.4ms\n",
      "image 102/317 c:\\Users\\user\\Desktop\\FINAL\\final-project\\16\\data\\3\\test\\images\\Image_32_jpg.rf.c0e66a426827fa021c0d435488c61329.jpg: 640x640 1 Bell pepper, 3 Jalepenos, 13.5ms\n",
      "image 103/317 c:\\Users\\user\\Desktop\\FINAL\\final-project\\16\\data\\3\\test\\images\\Image_32_jpg.rf.cd5aa0b09ced9565a71524b581fdb06f.jpg: 640x640 1 Cabbage, 13.9ms\n",
      "image 104/317 c:\\Users\\user\\Desktop\\FINAL\\final-project\\16\\data\\3\\test\\images\\Image_32_png.rf.7cc4034137842f71a9c4a1828c483330.jpg: 640x640 1 Soya Beans, 18.3ms\n",
      "image 105/317 c:\\Users\\user\\Desktop\\FINAL\\final-project\\16\\data\\3\\test\\images\\Image_33_jpg.rf.38cdfd5b27db06ef755a07cc1524b9f7.jpg: 640x640 9 Grapess, 16.5ms\n",
      "image 106/317 c:\\Users\\user\\Desktop\\FINAL\\final-project\\16\\data\\3\\test\\images\\Image_33_jpg.rf.fc4ade14987122c99c8fd11724718e8f.jpg: 640x640 5 Lettuces, 16.3ms\n",
      "image 107/317 c:\\Users\\user\\Desktop\\FINAL\\final-project\\16\\data\\3\\test\\images\\Image_33_png.rf.968d2aca2a1f85a3937c3fac96966627.jpg: 640x640 1 paer, 16.7ms\n",
      "image 108/317 c:\\Users\\user\\Desktop\\FINAL\\final-project\\16\\data\\3\\test\\images\\Image_34_jpg.rf.30fbee94c2d0f57d0c4f2a7ccfd97ee6.jpg: 640x640 1 Jalepeno, 8 Peass, 12.9ms\n",
      "image 109/317 c:\\Users\\user\\Desktop\\FINAL\\final-project\\16\\data\\3\\test\\images\\Image_35_jpg.rf.27517c543f3030eca45b27e252d89841.jpg: 640x640 3 Cucumbers, 1 lemon, 15.9ms\n",
      "image 110/317 c:\\Users\\user\\Desktop\\FINAL\\final-project\\16\\data\\3\\test\\images\\Image_35_jpg.rf.b5894a349ac38b1315f0659b95022cff.jpg: 640x640 8 Bell peppers, 13.6ms\n",
      "image 111/317 c:\\Users\\user\\Desktop\\FINAL\\final-project\\16\\data\\3\\test\\images\\Image_35_jpg.rf.bfa7f90fe872a47cf841c517962be9a2.jpg: 640x640 5 Gingers, 15.4ms\n",
      "image 112/317 c:\\Users\\user\\Desktop\\FINAL\\final-project\\16\\data\\3\\test\\images\\Image_35_png.rf.6ecf8b4a58bffb8065cf4b33112aaa79.jpg: 640x640 4 Garlics, 15.5ms\n",
      "image 113/317 c:\\Users\\user\\Desktop\\FINAL\\final-project\\16\\data\\3\\test\\images\\Image_36_jpg.rf.3c1db04a3f41ea25949d248e1f8bca42.jpg: 640x640 24 Peass, 11.8ms\n",
      "image 114/317 c:\\Users\\user\\Desktop\\FINAL\\final-project\\16\\data\\3\\test\\images\\Image_36_jpg.rf.4807588b9fbe4554e762a9d270d6b70b.jpg: 640x640 1 Beetroot, 12.8ms\n",
      "image 115/317 c:\\Users\\user\\Desktop\\FINAL\\final-project\\16\\data\\3\\test\\images\\Image_36_jpg.rf.e6b243b50468261b808b7609bbade630.jpg: 640x640 1 Bread, 14.8ms\n",
      "image 116/317 c:\\Users\\user\\Desktop\\FINAL\\final-project\\16\\data\\3\\test\\images\\Image_37_jpg.rf.6a13e2812e32457ee5c71981220c62b6.jpg: 640x640 4 Garlics, 6.5ms\n",
      "image 117/317 c:\\Users\\user\\Desktop\\FINAL\\final-project\\16\\data\\3\\test\\images\\Image_37_jpg.rf.b844ff479c674bd4f1bc7158956f830c.jpg: 640x640 4 Cabbages, 1 Eggplant, 16.4ms\n",
      "image 118/317 c:\\Users\\user\\Desktop\\FINAL\\final-project\\16\\data\\3\\test\\images\\Image_37_jpg.rf.c34644679b53179427fe04acef99e643.jpg: 640x640 10 Eggplants, 14.5ms\n",
      "image 119/317 c:\\Users\\user\\Desktop\\FINAL\\final-project\\16\\data\\3\\test\\images\\Image_37_png.rf.9106e00892f5a353559d342eea794b11.jpg: 640x640 3 Beetroots, 4 Onions, 11.6ms\n",
      "image 120/317 c:\\Users\\user\\Desktop\\FINAL\\final-project\\16\\data\\3\\test\\images\\Image_38_jpg.rf.165dc1dcf986b2714c49d6015d01deb3.jpg: 640x640 1 Bread, 2 Gingers, 14.8ms\n",
      "image 121/317 c:\\Users\\user\\Desktop\\FINAL\\final-project\\16\\data\\3\\test\\images\\Image_38_jpg.rf.79fe220390ed9d45974658db86b76881.jpg: 640x640 1 Soya Beans, 13.6ms\n",
      "image 122/317 c:\\Users\\user\\Desktop\\FINAL\\final-project\\16\\data\\3\\test\\images\\Image_38_jpg.rf.88d62d8a02f05d778058bb8dc37ed5e7.jpg: 640x640 3 Watermelons, 15.2ms\n",
      "image 123/317 c:\\Users\\user\\Desktop\\FINAL\\final-project\\16\\data\\3\\test\\images\\Image_38_jpg.rf.b11b7e63fc91f573534dc48f32cc9ce5.jpg: 640x640 2 Corns, 12.7ms\n",
      "image 124/317 c:\\Users\\user\\Desktop\\FINAL\\final-project\\16\\data\\3\\test\\images\\Image_38_png.rf.a69b6e398458681821030336067432cb.jpg: 640x640 3 Cucumbers, 17.3ms\n",
      "image 125/317 c:\\Users\\user\\Desktop\\FINAL\\final-project\\16\\data\\3\\test\\images\\Image_39_jpg.rf.6927c336daba8ac6ec784a2bb9f21763.jpg: 640x640 1 Watermelon, 10.6ms\n",
      "image 126/317 c:\\Users\\user\\Desktop\\FINAL\\final-project\\16\\data\\3\\test\\images\\Image_3_jpg.rf.650cfccd976d05e509030b1204e225cf.jpg: 640x640 23 Onions, 12.5ms\n",
      "image 127/317 c:\\Users\\user\\Desktop\\FINAL\\final-project\\16\\data\\3\\test\\images\\Image_3_jpg.rf.6b9973aab4a247464fca5b98f88ffc6c.jpg: 640x640 4 Beetroots, 13.9ms\n",
      "image 128/317 c:\\Users\\user\\Desktop\\FINAL\\final-project\\16\\data\\3\\test\\images\\Image_40_jpg.rf.5b4210f1590e7b61518dbd0888409bbe.jpg: 640x640 1 Banana, 12.3ms\n",
      "image 129/317 c:\\Users\\user\\Desktop\\FINAL\\final-project\\16\\data\\3\\test\\images\\Image_40_jpg.rf.7564e9bee44418451b8ae6765ad84e5f.jpg: 640x640 1 Jalepeno, 4 Peass, 15.8ms\n",
      "image 130/317 c:\\Users\\user\\Desktop\\FINAL\\final-project\\16\\data\\3\\test\\images\\Image_40_jpg.rf.8a2c25129ddac26ff81f3931e034ccd4.jpg: 640x640 1 Chilli Pepper, 3 Eggplants, 1 Jalepeno, 14.0ms\n",
      "image 131/317 c:\\Users\\user\\Desktop\\FINAL\\final-project\\16\\data\\3\\test\\images\\Image_41_jpg.rf.4a9ef1819c0b13664a6420b6fb84b734.jpg: 640x640 2 Pomegranates, 14.5ms\n",
      "image 132/317 c:\\Users\\user\\Desktop\\FINAL\\final-project\\16\\data\\3\\test\\images\\Image_41_jpg.rf.640f24bd88fe811b6c5be7dcfd1ca88b.jpg: 640x640 (no detections), 12.1ms\n",
      "image 133/317 c:\\Users\\user\\Desktop\\FINAL\\final-project\\16\\data\\3\\test\\images\\Image_41_jpg.rf.a46b14aaceb8e2a9bde64694750dedb4.jpg: 640x640 3 Chilli Peppers, 1 Eggplant, 15.6ms\n",
      "image 134/317 c:\\Users\\user\\Desktop\\FINAL\\final-project\\16\\data\\3\\test\\images\\Image_41_jpg.rf.ddc1c96ff88eaa9d94339448ed5a25ff.jpg: 640x640 1 Banana, 11.6ms\n",
      "image 135/317 c:\\Users\\user\\Desktop\\FINAL\\final-project\\16\\data\\3\\test\\images\\Image_41_jpg.rf.e495e9bc903e3111b8b23efe09ec9cf0.jpg: 640x640 1 Garlic, 19.2ms\n",
      "image 136/317 c:\\Users\\user\\Desktop\\FINAL\\final-project\\16\\data\\3\\test\\images\\Image_42_jpg.rf.22f5d3b01830b4982c0288049bfec464.jpg: 640x640 9 Peass, 15.4ms\n",
      "image 137/317 c:\\Users\\user\\Desktop\\FINAL\\final-project\\16\\data\\3\\test\\images\\Image_43_jpg.rf.1d718acf4b1c5151e79afd2cab0f1d52.jpg: 640x640 1 Apple, 11.2ms\n",
      "image 138/317 c:\\Users\\user\\Desktop\\FINAL\\final-project\\16\\data\\3\\test\\images\\Image_43_jpg.rf.4fd42c552c08239631d3c7fd2b44bb5f.jpg: 640x640 2 paers, 12.2ms\n",
      "image 139/317 c:\\Users\\user\\Desktop\\FINAL\\final-project\\16\\data\\3\\test\\images\\Image_43_jpg.rf.e45e9829f6df74aef0895ce4af44caed.jpg: 640x640 25 Potatos, 18.0ms\n",
      "image 140/317 c:\\Users\\user\\Desktop\\FINAL\\final-project\\16\\data\\3\\test\\images\\Image_44_jpg.rf.304d5854ad30835cd8fccdc22b342c29.jpg: 640x640 2 Mackerels, 5 Watermelons, 13.4ms\n",
      "image 141/317 c:\\Users\\user\\Desktop\\FINAL\\final-project\\16\\data\\3\\test\\images\\Image_45_jpg.rf.755a20da16be48e748767503d680dc37.jpg: 640x640 8 Chilli Peppers, 16.2ms\n",
      "image 142/317 c:\\Users\\user\\Desktop\\FINAL\\final-project\\16\\data\\3\\test\\images\\Image_45_jpg.rf.7f13d03a23b2deea06852fd53f2847cd.jpg: 640x640 25 Bananas, 11.1ms\n",
      "image 143/317 c:\\Users\\user\\Desktop\\FINAL\\final-project\\16\\data\\3\\test\\images\\Image_45_jpg.rf.b96d951719390c59e88d7d71d9d5d743.jpg: 640x640 1 Apple, 2 Eggplants, 11.3ms\n",
      "image 144/317 c:\\Users\\user\\Desktop\\FINAL\\final-project\\16\\data\\3\\test\\images\\Image_45_jpg.rf.d66b4a616e5256ecad7b76e482ab1889.jpg: 640x640 1 Lettuce, 13.6ms\n",
      "image 145/317 c:\\Users\\user\\Desktop\\FINAL\\final-project\\16\\data\\3\\test\\images\\Image_46_jpg.rf.20ed65ad9c523827f73a7bc033be50db.jpg: 640x640 1 spinach, 16.5ms\n",
      "image 146/317 c:\\Users\\user\\Desktop\\FINAL\\final-project\\16\\data\\3\\test\\images\\Image_46_jpg.rf.5b36fabdc696718d6de2927e05f4d7f8.jpg: 640x640 2 Pineapples, 14.6ms\n",
      "image 147/317 c:\\Users\\user\\Desktop\\FINAL\\final-project\\16\\data\\3\\test\\images\\Image_47_jpg.rf.14db42c32bb6cd893cda7c419dc38f12.jpg: 640x640 1 Carrot, 12.0ms\n",
      "image 148/317 c:\\Users\\user\\Desktop\\FINAL\\final-project\\16\\data\\3\\test\\images\\Image_48_jpg.rf.1a394ededdb508e42cf72c6f24a57b5f.jpg: 640x640 1 Garlic, 1 Onion, 12.8ms\n",
      "image 149/317 c:\\Users\\user\\Desktop\\FINAL\\final-project\\16\\data\\3\\test\\images\\Image_48_jpg.rf.bac97fcec3e4a85d5516c9092413ea8f.jpg: 640x640 36 Potatos, 12.7ms\n",
      "image 150/317 c:\\Users\\user\\Desktop\\FINAL\\final-project\\16\\data\\3\\test\\images\\Image_48_png.rf.afa31924d384bf317c02904cc07c9bec.jpg: 640x640 3 Cauliflowers, 13.7ms\n",
      "image 151/317 c:\\Users\\user\\Desktop\\FINAL\\final-project\\16\\data\\3\\test\\images\\Image_49_jpg.rf.111eef58098d2d6390de27cea162c994.jpg: 640x640 15 Carrots, 16.0ms\n",
      "image 152/317 c:\\Users\\user\\Desktop\\FINAL\\final-project\\16\\data\\3\\test\\images\\Image_4_jpg.rf.95afd86ba9047ac19bbdb9cf7c0d0141.jpg: 640x640 7 spinachs, 17.0ms\n",
      "image 153/317 c:\\Users\\user\\Desktop\\FINAL\\final-project\\16\\data\\3\\test\\images\\Image_4_jpg.rf.eba6a7615ea3cfa3c1558523bd56f764.jpg: 640x640 4 Tomatos, 14.4ms\n",
      "image 154/317 c:\\Users\\user\\Desktop\\FINAL\\final-project\\16\\data\\3\\test\\images\\Image_50_jpg.rf.13061b7e5b329b908677d56c3a528071.jpg: 640x640 12 Apples, 2 Pomegranates, 18.3ms\n",
      "image 155/317 c:\\Users\\user\\Desktop\\FINAL\\final-project\\16\\data\\3\\test\\images\\Image_50_jpg.rf.58edb47ce523f195e21e251a8f3e0fed.jpg: 640x640 5 Lettuces, 12.2ms\n",
      "image 156/317 c:\\Users\\user\\Desktop\\FINAL\\final-project\\16\\data\\3\\test\\images\\Image_50_jpg.rf.870944e04ebd26f5e6769b77a9b3a182.jpg: 640x640 7 lemons, 13.2ms\n",
      "image 157/317 c:\\Users\\user\\Desktop\\FINAL\\final-project\\16\\data\\3\\test\\images\\Image_50_jpg.rf.b97ddbf0baf578354c1a9e4047f01a79.jpg: 640x640 4 Bell peppers, 2 Chilli Peppers, 12.3ms\n",
      "image 158/317 c:\\Users\\user\\Desktop\\FINAL\\final-project\\16\\data\\3\\test\\images\\Image_51_JPG.rf.497203fdd1d6ddb45f3cd5d88e78cdf3.jpg: 640x640 2 Pineapples, 16.3ms\n",
      "image 159/317 c:\\Users\\user\\Desktop\\FINAL\\final-project\\16\\data\\3\\test\\images\\Image_51_jpg.rf.1a2aba1824ef1a61f21f658af84d6aec.jpg: 640x640 11 Potatos, 14.6ms\n",
      "image 160/317 c:\\Users\\user\\Desktop\\FINAL\\final-project\\16\\data\\3\\test\\images\\Image_51_jpg.rf.1ad4bddea94008657a0e308161050fe2.jpg: 640x640 1 Soya Beans, 13.5ms\n",
      "image 161/317 c:\\Users\\user\\Desktop\\FINAL\\final-project\\16\\data\\3\\test\\images\\Image_51_jpg.rf.2312341c851150e70fd6cc9e9f117eb6.jpg: 640x640 3 paers, 16.2ms\n",
      "image 162/317 c:\\Users\\user\\Desktop\\FINAL\\final-project\\16\\data\\3\\test\\images\\Image_51_jpg.rf.38f70dfb9f03ae46cbcfe17f5dd66673.jpg: 640x640 1 Grapes, 11.7ms\n",
      "image 163/317 c:\\Users\\user\\Desktop\\FINAL\\final-project\\16\\data\\3\\test\\images\\Image_51_jpg.rf.c483fdd7b55c0f579ec5526eaac89f6c.jpg: 640x640 8 lemons, 16.6ms\n",
      "image 164/317 c:\\Users\\user\\Desktop\\FINAL\\final-project\\16\\data\\3\\test\\images\\Image_51_jpg.rf.cdddafa1b2805e5f82d606c2e0d1391f.jpg: 640x640 1 Watermelon, 11.9ms\n",
      "image 165/317 c:\\Users\\user\\Desktop\\FINAL\\final-project\\16\\data\\3\\test\\images\\Image_51_jpg.rf.dcb55f9b2fe9b7f9d4a2583475d0c042.jpg: 640x640 1 Bell pepper, 19.0ms\n",
      "image 166/317 c:\\Users\\user\\Desktop\\FINAL\\final-project\\16\\data\\3\\test\\images\\Image_52_jpeg.rf.1b52fb80f39da53a2410d769663f68b9.jpg: 640x640 1 spinach, 19.5ms\n",
      "image 167/317 c:\\Users\\user\\Desktop\\FINAL\\final-project\\16\\data\\3\\test\\images\\Image_52_jpg.rf.4abb3f274a119d03ff25d09cbea9fb58.jpg: 640x640 5 Jalepenos, 12.4ms\n",
      "image 168/317 c:\\Users\\user\\Desktop\\FINAL\\final-project\\16\\data\\3\\test\\images\\Image_52_jpg.rf.599d24118f2703c07199ac1c8c2c4cf4.jpg: 640x640 1 Cheese, 3 Mangos, 13.8ms\n",
      "image 169/317 c:\\Users\\user\\Desktop\\FINAL\\final-project\\16\\data\\3\\test\\images\\Image_52_jpg.rf.c8e30c7adbb3c4804fd0d784534afbd5.jpg: 640x640 2 Beetroots, 17.6ms\n",
      "image 170/317 c:\\Users\\user\\Desktop\\FINAL\\final-project\\16\\data\\3\\test\\images\\Image_53_jpg.rf.51689bd7cc3776d31b03fc578e11456d.jpg: 640x640 3 Beetroots, 11.5ms\n",
      "image 171/317 c:\\Users\\user\\Desktop\\FINAL\\final-project\\16\\data\\3\\test\\images\\Image_53_jpg.rf.d3c7e6eab34405f7fe3206b26a910a2c.jpg: 640x640 2 Mangos, 1 Watermelon, 11.9ms\n",
      "image 172/317 c:\\Users\\user\\Desktop\\FINAL\\final-project\\16\\data\\3\\test\\images\\Image_54_jpg.rf.9603d849a809d715a85ad5c00f801a2c.jpg: 640x640 1 Bun, 2 Potatos, 12.1ms\n",
      "image 173/317 c:\\Users\\user\\Desktop\\FINAL\\final-project\\16\\data\\3\\test\\images\\Image_54_jpg.rf.9e78779a6955f0cb238976ac0eee8944.jpg: 640x640 4 spinachs, 12.6ms\n",
      "image 174/317 c:\\Users\\user\\Desktop\\FINAL\\final-project\\16\\data\\3\\test\\images\\Image_55_jpg.rf.e22dd99daec6f0a505d46fdc90c9e802.jpg: 640x640 2 Apples, 1 Eggplant, 10.9ms\n",
      "image 175/317 c:\\Users\\user\\Desktop\\FINAL\\final-project\\16\\data\\3\\test\\images\\Image_55_jpg.rf.f259e10e08272ce0c26cc718e45166ae.jpg: 640x640 1 Pineapple, 13.7ms\n",
      "image 176/317 c:\\Users\\user\\Desktop\\FINAL\\final-project\\16\\data\\3\\test\\images\\Image_56_jpg.rf.f2c102acca7bc6b0800b472d0a74c21d.jpg: 640x640 3 Potatos, 20.4ms\n",
      "image 177/317 c:\\Users\\user\\Desktop\\FINAL\\final-project\\16\\data\\3\\test\\images\\Image_57_jpg.rf.ba719c762a6a3c52844d0e444e907240.jpg: 640x640 1 Cauliflower, 14.8ms\n",
      "image 178/317 c:\\Users\\user\\Desktop\\FINAL\\final-project\\16\\data\\3\\test\\images\\Image_57_jpg.rf.f36ab6079ddd02f0939fecb593eea9e4.jpg: 640x640 3 Jalepenos, 11.1ms\n",
      "image 179/317 c:\\Users\\user\\Desktop\\FINAL\\final-project\\16\\data\\3\\test\\images\\Image_58_jpg.rf.5d24489d4e3e96febe50e954adfdbd66.jpg: 640x640 1 Pomegranate, 15.6ms\n",
      "image 180/317 c:\\Users\\user\\Desktop\\FINAL\\final-project\\16\\data\\3\\test\\images\\Image_58_png.rf.8a56b7b367aaa5d78a391dff2a49b424.jpg: 640x640 1 Banana, 14.8ms\n",
      "image 181/317 c:\\Users\\user\\Desktop\\FINAL\\final-project\\16\\data\\3\\test\\images\\Image_59_jpg.rf.6e552bfbf5effd763b29fd0e87363f7d.jpg: 640x640 11 Carrots, 12.2ms\n",
      "image 182/317 c:\\Users\\user\\Desktop\\FINAL\\final-project\\16\\data\\3\\test\\images\\Image_59_jpg.rf.e0cf747849e92b8ef5844a42ff0b408a.jpg: 640x640 6 Tomatos, 15.6ms\n",
      "image 183/317 c:\\Users\\user\\Desktop\\FINAL\\final-project\\16\\data\\3\\test\\images\\Image_59_jpg.rf.f4e63646dfa52b46b0abb907d95a186b.jpg: 640x640 4 Eggplants, 11.7ms\n",
      "image 184/317 c:\\Users\\user\\Desktop\\FINAL\\final-project\\16\\data\\3\\test\\images\\Image_5_jpg.rf.2c348c9ab2ab2addf74a9035cef1b0a1.jpg: 640x640 1 Pineapple, 15.0ms\n",
      "image 185/317 c:\\Users\\user\\Desktop\\FINAL\\final-project\\16\\data\\3\\test\\images\\Image_5_jpg.rf.87eb9ccf4698681d58fd51221dc21bf8.jpg: 640x640 16 Radishs, 13.5ms\n",
      "image 186/317 c:\\Users\\user\\Desktop\\FINAL\\final-project\\16\\data\\3\\test\\images\\Image_60_jpg.rf.a0a377ab0ef7b2e7c086610732c88206.jpg: 640x640 26 Apples, 12.1ms\n",
      "image 187/317 c:\\Users\\user\\Desktop\\FINAL\\final-project\\16\\data\\3\\test\\images\\Image_61_jpg.rf.829fc200ca90f12248ca7a9bf3624c7b.jpg: 640x640 2 Eggplants, 14.1ms\n",
      "image 188/317 c:\\Users\\user\\Desktop\\FINAL\\final-project\\16\\data\\3\\test\\images\\Image_61_jpg.rf.f78233679109bba84ee426235555abc4.jpg: 640x640 1 Lettuce, 2 spinachs, 12.3ms\n",
      "image 189/317 c:\\Users\\user\\Desktop\\FINAL\\final-project\\16\\data\\3\\test\\images\\Image_62_jpg.rf.46316ecd92b7e0bc6481f2a479064108.jpg: 640x640 3 Garlics, 25 Onions, 7.2ms\n",
      "image 190/317 c:\\Users\\user\\Desktop\\FINAL\\final-project\\16\\data\\3\\test\\images\\Image_62_jpg.rf.b56234c4b52c8cebc73c6665b48a288c.jpg: 640x640 1 Beetroot, 13.1ms\n",
      "image 191/317 c:\\Users\\user\\Desktop\\FINAL\\final-project\\16\\data\\3\\test\\images\\Image_63_jpg.rf.5b0cc2f3fb8f861ba26f327136daf2ed.jpg: 640x640 1 Cucumber, 14.8ms\n",
      "image 192/317 c:\\Users\\user\\Desktop\\FINAL\\final-project\\16\\data\\3\\test\\images\\Image_64_jpg.rf.414e5d6c0f5a2b1da22e1eb93a12c52d.jpg: 640x640 1 Beetroot, 1 Pomegranate, 16.7ms\n",
      "image 193/317 c:\\Users\\user\\Desktop\\FINAL\\final-project\\16\\data\\3\\test\\images\\Image_64_jpg.rf.9963ecc882b1eae15e1a00dbb8aab1e8.jpg: 640x640 2 sweet potatos, 16.8ms\n",
      "image 194/317 c:\\Users\\user\\Desktop\\FINAL\\final-project\\16\\data\\3\\test\\images\\Image_64_jpg.rf.f069a17c8184fa0b4ceeb06cee163813.jpg: 640x640 15 Eggplants, 12.9ms\n",
      "image 195/317 c:\\Users\\user\\Desktop\\FINAL\\final-project\\16\\data\\3\\test\\images\\Image_64_png.rf.6d4de3b26937a0dd95a344a6a9cdf888.jpg: 640x640 (no detections), 19.9ms\n",
      "image 196/317 c:\\Users\\user\\Desktop\\FINAL\\final-project\\16\\data\\3\\test\\images\\Image_65_jpg.rf.ba56194ff12ce001abe2d948e18aad06.jpg: 640x640 3 Paprikas, 18.4ms\n",
      "image 197/317 c:\\Users\\user\\Desktop\\FINAL\\final-project\\16\\data\\3\\test\\images\\Image_66_JPG.rf.9810ff45365b62fbededa2ab7247b169.jpg: 640x640 34 Peass, 13.9ms\n",
      "image 198/317 c:\\Users\\user\\Desktop\\FINAL\\final-project\\16\\data\\3\\test\\images\\Image_66_jpg.rf.1cad45d5cf92c2d1042427bd4ef9c85a.jpg: 640x640 3 Beetroots, 13.9ms\n",
      "image 199/317 c:\\Users\\user\\Desktop\\FINAL\\final-project\\16\\data\\3\\test\\images\\Image_66_jpg.rf.33bc5ae2916fe89e9795e5b3cea72f7b.jpg: 640x640 2 paers, 14.5ms\n",
      "image 200/317 c:\\Users\\user\\Desktop\\FINAL\\final-project\\16\\data\\3\\test\\images\\Image_66_jpg.rf.729ae080cb86ed7c76cb2cdf18d924ec.jpg: 640x640 6 Mangos, 11.8ms\n",
      "image 201/317 c:\\Users\\user\\Desktop\\FINAL\\final-project\\16\\data\\3\\test\\images\\Image_66_jpg.rf.c8ba0544bdabfc646176893b8b63f2c5.jpg: 640x640 1 Beetroot, 2 Onions, 15.5ms\n",
      "image 202/317 c:\\Users\\user\\Desktop\\FINAL\\final-project\\16\\data\\3\\test\\images\\Image_67_jpg.rf.234d7d1756685e5d41b466f44a48d7d7.jpg: 640x640 4 Tomatos, 10.3ms\n",
      "image 203/317 c:\\Users\\user\\Desktop\\FINAL\\final-project\\16\\data\\3\\test\\images\\Image_67_jpg.rf.5687f7736bede42dc3cdfa90f1ac0235.jpg: 640x640 1 Chicken, 16.0ms\n",
      "image 204/317 c:\\Users\\user\\Desktop\\FINAL\\final-project\\16\\data\\3\\test\\images\\Image_67_jpg.rf.d28cedcb72d00bfbb2e9bddbeff88469.jpg: 640x640 1 Carrot, 13.6ms\n",
      "image 205/317 c:\\Users\\user\\Desktop\\FINAL\\final-project\\16\\data\\3\\test\\images\\Image_67_png.rf.76a1ada40d690cc434a0f1e2c743b887.jpg: 640x640 2 Pomegranates, 13.6ms\n",
      "image 206/317 c:\\Users\\user\\Desktop\\FINAL\\final-project\\16\\data\\3\\test\\images\\Image_69_jpg.rf.53c55d9664492578f60dbf7c8cbc9e8c.jpg: 640x640 4 Pomegranates, 14.1ms\n",
      "image 207/317 c:\\Users\\user\\Desktop\\FINAL\\final-project\\16\\data\\3\\test\\images\\Image_69_jpg.rf.8944e0ee465e57702fe18452bdde77f3.jpg: 640x640 1 Mango, 1 Watermelon, 15.9ms\n",
      "image 208/317 c:\\Users\\user\\Desktop\\FINAL\\final-project\\16\\data\\3\\test\\images\\Image_69_jpg.rf.e1a40d2b4a1303e35761b73f190eec34.jpg: 640x640 1 Soya Beans, 21.6ms\n",
      "image 209/317 c:\\Users\\user\\Desktop\\FINAL\\final-project\\16\\data\\3\\test\\images\\Image_6_jpg.rf.3bd6fdc7de4ecffdab978a4c1a70f926.jpg: 640x640 5 Bell peppers, 12.6ms\n",
      "image 210/317 c:\\Users\\user\\Desktop\\FINAL\\final-project\\16\\data\\3\\test\\images\\Image_70_jpg.rf.0fb9bc395de9fe78c650a2898f024535.jpg: 640x640 5 Carrots, 12.0ms\n",
      "image 211/317 c:\\Users\\user\\Desktop\\FINAL\\final-project\\16\\data\\3\\test\\images\\Image_70_jpg.rf.b92f80c34c769a5991be713ac574d40f.jpg: 640x640 21 Chilli Peppers, 11.7ms\n",
      "image 212/317 c:\\Users\\user\\Desktop\\FINAL\\final-project\\16\\data\\3\\test\\images\\Image_71_JPG.rf.f5a01aea2c554d2aa2619674822e9afe.jpg: 640x640 2 spinachs, 11.8ms\n",
      "image 213/317 c:\\Users\\user\\Desktop\\FINAL\\final-project\\16\\data\\3\\test\\images\\Image_71_jpg.rf.9d3fad7353a012f4fb3c73ed4a0d05e1.jpg: 640x640 1 Apple, 3 Jalepenos, 14.8ms\n",
      "image 214/317 c:\\Users\\user\\Desktop\\FINAL\\final-project\\16\\data\\3\\test\\images\\Image_72_jpg.rf.b0323e675c90e9c04ac00d5283ebe673.jpg: 640x640 6 Pomegranates, 1 Soya Beans, 11.6ms\n",
      "image 215/317 c:\\Users\\user\\Desktop\\FINAL\\final-project\\16\\data\\3\\test\\images\\Image_72_png.rf.bb80fdbfbafe51aeab782f42a284c307.jpg: 640x640 1 Bell pepper, 13.0ms\n",
      "image 216/317 c:\\Users\\user\\Desktop\\FINAL\\final-project\\16\\data\\3\\test\\images\\Image_74_jpg.rf.6ccab7806250601c08073e370048bbcb.jpg: 640x640 7 Pineapples, 14.8ms\n",
      "image 217/317 c:\\Users\\user\\Desktop\\FINAL\\final-project\\16\\data\\3\\test\\images\\Image_75_jpg.rf.92842b080e361e70b364eeed1b9b4902.jpg: 640x640 1 paer, 19.2ms\n",
      "image 218/317 c:\\Users\\user\\Desktop\\FINAL\\final-project\\16\\data\\3\\test\\images\\Image_76_jpg.rf.3b41db4ff6042ae39bfc5cf56a655008.jpg: 640x640 1 Tomato, 11.6ms\n",
      "image 219/317 c:\\Users\\user\\Desktop\\FINAL\\final-project\\16\\data\\3\\test\\images\\Image_76_png.rf.fb53137dbf6927890d46c6909e892b8d.jpg: 640x640 1 Chilli Pepper, 3 Jalepenos, 15.7ms\n",
      "image 220/317 c:\\Users\\user\\Desktop\\FINAL\\final-project\\16\\data\\3\\test\\images\\Image_77_jpg.rf.1f5e7fccb7551ee784f30870e198d8e0.jpg: 640x640 6 Bell peppers, 13.8ms\n",
      "image 221/317 c:\\Users\\user\\Desktop\\FINAL\\final-project\\16\\data\\3\\test\\images\\Image_77_jpg.rf.5c399782cf1e0b8fdb11abf24c53da9c.jpg: 640x640 2 Cabbages, 15.5ms\n",
      "image 222/317 c:\\Users\\user\\Desktop\\FINAL\\final-project\\16\\data\\3\\test\\images\\Image_77_jpg.rf.ae802528f56a05153fcde4a170e64b5b.jpg: 640x640 1 Jalepeno, 16.6ms\n",
      "image 223/317 c:\\Users\\user\\Desktop\\FINAL\\final-project\\16\\data\\3\\test\\images\\Image_77_jpg.rf.b56cbfe93c520e8e7e032df572989aae.jpg: 640x640 9 Carrots, 11.6ms\n",
      "image 224/317 c:\\Users\\user\\Desktop\\FINAL\\final-project\\16\\data\\3\\test\\images\\Image_78_jpg.rf.07263f4e92492cf2a4507b02c1dbcc65.jpg: 640x640 1 Eggplant, 3 Jalepenos, 14.8ms\n",
      "image 225/317 c:\\Users\\user\\Desktop\\FINAL\\final-project\\16\\data\\3\\test\\images\\Image_78_jpg.rf.261961e6621801c66b362506cfb4bbdd.jpg: 640x640 7 Garlics, 13.4ms\n",
      "image 226/317 c:\\Users\\user\\Desktop\\FINAL\\final-project\\16\\data\\3\\test\\images\\Image_78_jpg.rf.5ca6ad8555c1d85d3094a8041b320ba3.jpg: 640x640 3 Corns, 13.8ms\n",
      "image 227/317 c:\\Users\\user\\Desktop\\FINAL\\final-project\\16\\data\\3\\test\\images\\Image_79_jpg.rf.ac4e1a88353283739cd62af648d06a16.jpg: 640x640 3 Apples, 3 Pomegranates, 15.1ms\n",
      "image 228/317 c:\\Users\\user\\Desktop\\FINAL\\final-project\\16\\data\\3\\test\\images\\Image_79_png.rf.91a35974ce07d303ca88981fdb132313.jpg: 640x640 1 Cucumber, 1 Mango, 1 lemon, 14.5ms\n",
      "image 229/317 c:\\Users\\user\\Desktop\\FINAL\\final-project\\16\\data\\3\\test\\images\\Image_7_jpg.rf.6adef5789d38fbf7328cdf42390b1ba7.jpg: 640x640 3 Cabbages, 12.6ms\n",
      "image 230/317 c:\\Users\\user\\Desktop\\FINAL\\final-project\\16\\data\\3\\test\\images\\Image_7_jpg.rf.eb75d9b58a7899b785c6eb9326085838.jpg: 640x640 12 Potatos, 17.5ms\n",
      "image 231/317 c:\\Users\\user\\Desktop\\FINAL\\final-project\\16\\data\\3\\test\\images\\Image_7_png.rf.01c3fb1f977b346543afbd7fa556520b.jpg: 640x640 1 Grapes, 12.3ms\n",
      "image 232/317 c:\\Users\\user\\Desktop\\FINAL\\final-project\\16\\data\\3\\test\\images\\Image_80_jpg.rf.bbd53efe2e88146dc3764472951b5fc4.jpg: 640x640 4 Jalepenos, 14.6ms\n",
      "image 233/317 c:\\Users\\user\\Desktop\\FINAL\\final-project\\16\\data\\3\\test\\images\\Image_80_png.rf.fe5930682edf8c378c67c738e40f6826.jpg: 640x640 2 spinachs, 11.3ms\n",
      "image 234/317 c:\\Users\\user\\Desktop\\FINAL\\final-project\\16\\data\\3\\test\\images\\Image_81_jpg.rf.abe65d147bc2d9da5f582754d7c98970.jpg: 640x640 1 paer, 15.8ms\n",
      "image 235/317 c:\\Users\\user\\Desktop\\FINAL\\final-project\\16\\data\\3\\test\\images\\Image_82_jpg.rf.db27edfb649ad6f5bff1b19a87fdcc33.jpg: 640x640 1 Apple, 13.7ms\n",
      "image 236/317 c:\\Users\\user\\Desktop\\FINAL\\final-project\\16\\data\\3\\test\\images\\Image_83_JPG.rf.588aa5e53842273d22d2d89e903b3dd9.jpg: 640x640 1 Grapes, 12.3ms\n",
      "image 237/317 c:\\Users\\user\\Desktop\\FINAL\\final-project\\16\\data\\3\\test\\images\\Image_83_png.rf.410d8634524f932ad253ceb43485b88d.jpg: 640x640 1 Banana, 16.6ms\n",
      "image 238/317 c:\\Users\\user\\Desktop\\FINAL\\final-project\\16\\data\\3\\test\\images\\Image_84_jpg.rf.0112392eed042909cf36a2fac8250fe5.jpg: 640x640 1 lemon, 12.0ms\n",
      "image 239/317 c:\\Users\\user\\Desktop\\FINAL\\final-project\\16\\data\\3\\test\\images\\Image_84_jpg.rf.401779ef1f62a3e463ffb51107a0ea71.jpg: 640x640 2 Lettuces, 14.8ms\n",
      "image 240/317 c:\\Users\\user\\Desktop\\FINAL\\final-project\\16\\data\\3\\test\\images\\Image_84_jpg.rf.7347a0763f5ee8f440580b3d377f4995.jpg: 640x640 6 Grapess, 13.8ms\n",
      "image 241/317 c:\\Users\\user\\Desktop\\FINAL\\final-project\\16\\data\\3\\test\\images\\Image_86_png.rf.1f3b991603c9020590f23c175cca9bdd.jpg: 640x640 1 Cucumber, 3 paers, 13.4ms\n",
      "image 242/317 c:\\Users\\user\\Desktop\\FINAL\\final-project\\16\\data\\3\\test\\images\\Image_87_jpg.rf.c1f509bae1171f16e1e9a00c0460dc1f.jpg: 640x640 1 Cabbage, 5 Garlics, 18.8ms\n",
      "image 243/317 c:\\Users\\user\\Desktop\\FINAL\\final-project\\16\\data\\3\\test\\images\\Image_88_jpg.rf.0d339c524d26fb729199efe14ebc6bb9.jpg: 640x640 1 Watermelon, 14.0ms\n",
      "image 244/317 c:\\Users\\user\\Desktop\\FINAL\\final-project\\16\\data\\3\\test\\images\\Image_88_jpg.rf.3d04eb814585328ff7c665ad036e483b.jpg: 640x640 3 Peass, 22.0ms\n",
      "image 245/317 c:\\Users\\user\\Desktop\\FINAL\\final-project\\16\\data\\3\\test\\images\\Image_88_png.rf.e81ae4a12f2e2e18b24c784b85763e3e.jpg: 640x640 1 Banana, 13.8ms\n",
      "image 246/317 c:\\Users\\user\\Desktop\\FINAL\\final-project\\16\\data\\3\\test\\images\\Image_89_jpg.rf.169086be278fde2553436b8dcd6fc042.jpg: 640x640 1 Soya Beans, 12.0ms\n",
      "image 247/317 c:\\Users\\user\\Desktop\\FINAL\\final-project\\16\\data\\3\\test\\images\\Image_8_jpg.rf.4e1d636ce975d210db34448e42d6fb8e.jpg: 640x640 4 Watermelons, 14.4ms\n",
      "image 248/317 c:\\Users\\user\\Desktop\\FINAL\\final-project\\16\\data\\3\\test\\images\\Image_8_png.rf.2b124bd58bdca60ece7a9571cb985798.jpg: 640x640 2 lemons, 13.4ms\n",
      "image 249/317 c:\\Users\\user\\Desktop\\FINAL\\final-project\\16\\data\\3\\test\\images\\Image_90_jpg.rf.3c3af50233ba25c0ff4942ac26039fc2.jpg: 640x640 4 Cheeses, 1 Cinnamon, 1 sweet potato, 21.6ms\n",
      "image 250/317 c:\\Users\\user\\Desktop\\FINAL\\final-project\\16\\data\\3\\test\\images\\Image_90_jpg.rf.be135bfe8aa25662f96216a0c980b8be.jpg: 640x640 9 Jalepenos, 11.9ms\n",
      "image 251/317 c:\\Users\\user\\Desktop\\FINAL\\final-project\\16\\data\\3\\test\\images\\Image_90_jpg.rf.f1568fa01da57d09e1e98d4d8b5fa6c5.jpg: 640x640 1 Bell pepper, 1 Tomato, 15.8ms\n",
      "image 252/317 c:\\Users\\user\\Desktop\\FINAL\\final-project\\16\\data\\3\\test\\images\\Image_91_jpg.rf.b60ef3ede8214a3c3a6e3fafadc9d24d.jpg: 640x640 8 Chilli Peppers, 1 Jalepeno, 12.6ms\n",
      "image 253/317 c:\\Users\\user\\Desktop\\FINAL\\final-project\\16\\data\\3\\test\\images\\Image_91_jpg.rf.d202750769b6a90d4e8d2ba76e0da518.jpg: 640x640 8 Tomatos, 13.8ms\n",
      "image 254/317 c:\\Users\\user\\Desktop\\FINAL\\final-project\\16\\data\\3\\test\\images\\Image_93_jpg.rf.12d8e857e5902909b8acf223fb79ac3d.jpg: 640x640 4 Eggplants, 12.8ms\n",
      "image 255/317 c:\\Users\\user\\Desktop\\FINAL\\final-project\\16\\data\\3\\test\\images\\Image_93_jpg.rf.f3c54304fe6f3114ac72e062f9662f20.jpg: 640x640 8 Carrots, 13.0ms\n",
      "image 256/317 c:\\Users\\user\\Desktop\\FINAL\\final-project\\16\\data\\3\\test\\images\\Image_94_jpg.rf.fd821d7d37cf1310ec5400f539e44e52.jpg: 640x640 18 Bell peppers, 14.0ms\n",
      "image 257/317 c:\\Users\\user\\Desktop\\FINAL\\final-project\\16\\data\\3\\test\\images\\Image_97_jpg.rf.b1002bfe1c1cdc5dfa87ebf023f02f9e.jpg: 640x640 1 Chilli Pepper, 10 Tomatos, 13.8ms\n",
      "image 258/317 c:\\Users\\user\\Desktop\\FINAL\\final-project\\16\\data\\3\\test\\images\\Image_9_jpg.rf.0dcda93d8738b539248e30127d5d49b9.jpg: 640x640 1 Mango, 12.4ms\n",
      "image 259/317 c:\\Users\\user\\Desktop\\FINAL\\final-project\\16\\data\\3\\test\\images\\Image_9_jpg.rf.22cfa3ba5fea9d34906737f7f1bb2701.jpg: 640x640 2 Potatos, 2 sweet potatos, 9.7ms\n",
      "image 260/317 c:\\Users\\user\\Desktop\\FINAL\\final-project\\16\\data\\3\\test\\images\\LobsterZoomed_jpg.rf.9685de7e228e96bbf5bc13e9eeddcb21.jpg: 640x640 1 Lobster, 12.6ms\n",
      "image 261/317 c:\\Users\\user\\Desktop\\FINAL\\final-project\\16\\data\\3\\test\\images\\Sandwich-White_jpg.rf.255d87aa8ee9581d6a9da4b97580d0f0.jpg: 640x640 4 Breads, 16.0ms\n",
      "image 262/317 c:\\Users\\user\\Desktop\\FINAL\\final-project\\16\\data\\3\\test\\images\\Simply-Recipes-Brioche-Hamburger-Buns-LEAD-2-788f5bf61bb943249653731db9683faa_jpg.rf.d9d84862853090543aff3679832ab090.jpg: 640x640 6 Buns, 10.9ms\n",
      "image 263/317 c:\\Users\\user\\Desktop\\FINAL\\final-project\\16\\data\\3\\test\\images\\Untitled-design-1-min-1-_jpg.rf.41c97f6e987b7bff59cf9dd7087b36ef.jpg: 640x640 2 Cardamoms, 1 Pineapple, 14.9ms\n",
      "image 264/317 c:\\Users\\user\\Desktop\\FINAL\\final-project\\16\\data\\3\\test\\images\\american-cheese-33-600_jpg.rf.d79b6c315f6e67b826a0abdad55978e7.jpg: 640x640 1 Bread, 1 Cheese, 11.8ms\n",
      "image 265/317 c:\\Users\\user\\Desktop\\FINAL\\final-project\\16\\data\\3\\test\\images\\black-pepper-1-2-_jpg.rf.72c8315939db05a55443b0ff17e29a27.jpg: 640x640 2 Black peppers, 23.9ms\n",
      "image 266/317 c:\\Users\\user\\Desktop\\FINAL\\final-project\\16\\data\\3\\test\\images\\bread-recipe-1-500x500_jpg.rf.43e8d96e1d7f2fa34a1e9ea503087dbb.jpg: 640x640 4 Breads, 10.9ms\n",
      "image 267/317 c:\\Users\\user\\Desktop\\FINAL\\final-project\\16\\data\\3\\test\\images\\buttery-brioche-buns-thumb_jpg.rf.c452beabd8765adcea839b1658de1aab.jpg: 640x640 1 Bread, 4 Buns, 11.7ms\n",
      "image 268/317 c:\\Users\\user\\Desktop\\FINAL\\final-project\\16\\data\\3\\test\\images\\cardamomad_jpg.rf.0b9dbd336c92cb0241b97b33d79bf28d.jpg: 640x640 1 Cardamom, 16.1ms\n",
      "image 269/317 c:\\Users\\user\\Desktop\\FINAL\\final-project\\16\\data\\3\\test\\images\\catfish-fillet_jpg.rf.48d325604db490cb49894de421f2cf04.jpg: 640x640 3 Catfishs, 11.9ms\n",
      "image 270/317 c:\\Users\\user\\Desktop\\FINAL\\final-project\\16\\data\\3\\test\\images\\cheese-for-weight-loss_jpg.rf.bba6bec934c9b59491116efedeed53fb.jpg: 640x640 20 Cheeses, 13.3ms\n",
      "image 271/317 c:\\Users\\user\\Desktop\\FINAL\\final-project\\16\\data\\3\\test\\images\\chicken20_jpg.rf.8b5932f561fa442cd004302148bfbeb1.jpg: 640x640 2 Chickens, 11.7ms\n",
      "image 272/317 c:\\Users\\user\\Desktop\\FINAL\\final-project\\16\\data\\3\\test\\images\\chicken24_jpg.rf.62fe41f71f8f1fde4c4fd2e570ae14dd.jpg: 640x640 3 Chickens, 14.8ms\n",
      "image 273/317 c:\\Users\\user\\Desktop\\FINAL\\final-project\\16\\data\\3\\test\\images\\chicken30_jpg.rf.751a444e2eb49cc8c1958baf79e9c2d9.jpg: 640x640 4 Chickens, 12.6ms\n",
      "image 274/317 c:\\Users\\user\\Desktop\\FINAL\\final-project\\16\\data\\3\\test\\images\\chicken44_jpg.rf.359f227e60ec0c707d14b2d1dec1b593.jpg: 640x640 2 Chickens, 13.7ms\n",
      "image 275/317 c:\\Users\\user\\Desktop\\FINAL\\final-project\\16\\data\\3\\test\\images\\chicken54_jpg.rf.281080cafb5bb91d43198b96bfcbfb03.jpg: 640x640 1 Chicken, 12.0ms\n",
      "image 276/317 c:\\Users\\user\\Desktop\\FINAL\\final-project\\16\\data\\3\\test\\images\\chicken9_jpg.rf.79674ae7af4f82bacf41a20ac8e08e01.jpg: 640x640 1 Chicken, 17.7ms\n",
      "image 277/317 c:\\Users\\user\\Desktop\\FINAL\\final-project\\16\\data\\3\\test\\images\\cinnamon-gba3c15de2_640_jpg.rf.e5cc89481bc866520d9a0e01d64ddf2b.jpg: 640x640 1 Cinnamon, 2 cloves, 14.7ms\n",
      "image 278/317 c:\\Users\\user\\Desktop\\FINAL\\final-project\\16\\data\\3\\test\\images\\cinnamon2_jpg.rf.f3c492c31f3e4d6cc3452547cd3ed4e2.jpg: 640x640 4 Cinnamons, 15.1ms\n",
      "image 279/317 c:\\Users\\user\\Desktop\\FINAL\\final-project\\16\\data\\3\\test\\images\\close-up-of-crab-on-rock_jpg.rf.c6a581d46c886685ea1cecb9fb10c45c.jpg: 640x640 1 Crawfish, 13.6ms\n",
      "image 280/317 c:\\Users\\user\\Desktop\\FINAL\\final-project\\16\\data\\3\\test\\images\\clove_63497cf9-6692-4334-95ee-b920cf64a96f_jpg.rf.371b9de9dd726d4f0395f8e78a036bd2.jpg: 640x640 1 clove, 15.3ms\n",
      "image 281/317 c:\\Users\\user\\Desktop\\FINAL\\final-project\\16\\data\\3\\test\\images\\com_is_image_ABS__jpg.rf.41a7c5feee970eb9a7edbfdd42985128.jpg: 640x640 1 Catfish, 12.3ms\n",
      "image 282/317 c:\\Users\\user\\Desktop\\FINAL\\final-project\\16\\data\\3\\test\\images\\coorg-green-cardamom-2020869041-m3koi2hy_jpg.rf.72d4dc7a1db958783a204f50f0df214e.jpg: 640x640 (no detections), 15.3ms\n",
      "image 283/317 c:\\Users\\user\\Desktop\\FINAL\\final-project\\16\\data\\3\\test\\images\\crawfish-5_jpg.rf.09ab56dea3686cd8f2d1180e62005104.jpg: 640x640 1 Crawfish, 10.7ms\n",
      "image 284/317 c:\\Users\\user\\Desktop\\FINAL\\final-project\\16\\data\\3\\test\\images\\crawfish_1_jpg.rf.e183e5daeb78e20414edf482f592c5fa.jpg: 640x640 1 Crawfish, 16.7ms\n",
      "image 285/317 c:\\Users\\user\\Desktop\\FINAL\\final-project\\16\\data\\3\\test\\images\\empire-foods-goose-meat-11-03-2021-024-222968627-q601x_jpg.rf.b03da51d39683038c9c8c707b7b71c61.jpg: 640x640 2 Pomegranates, 1 duck, 11.7ms\n",
      "image 286/317 c:\\Users\\user\\Desktop\\FINAL\\final-project\\16\\data\\3\\test\\images\\fas001-20180827095538_webp.rf.42e531f4e36fc44cb0dc65cf23bab90f.jpg: 640x640 4 Mackerels, 12.9ms\n",
      "image 287/317 c:\\Users\\user\\Desktop\\FINAL\\final-project\\16\\data\\3\\test\\images\\fermented-fish-mackerel-jpg_jpg.rf.29dfaec0003b24909e928029abdda444.jpg: 640x640 1 Egg, 5 Mackerels, 1 Pork, 11.7ms\n",
      "image 288/317 c:\\Users\\user\\Desktop\\FINAL\\final-project\\16\\data\\3\\test\\images\\fermented-mackerel-fish-sliced-on-a-plate-shot-above-head_jpg.rf.789315d8a43b243175331f39ce258c21.jpg: 640x640 5 Mackerels, 16.9ms\n",
      "image 289/317 c:\\Users\\user\\Desktop\\FINAL\\final-project\\16\\data\\3\\test\\images\\finletted-mackerel-_kanni-ayala_-fillet_jpg.rf.8f1d81450621ec4103442869c2fe5c55.jpg: 640x640 1 Chicken, 2 Chilli Peppers, 1 Rosemary, 13.3ms\n",
      "image 290/317 c:\\Users\\user\\Desktop\\FINAL\\final-project\\16\\data\\3\\test\\images\\fotolia_1459192_XS_jpg.rf.9ef706bd87ae691c7e594196a91689a8.jpg: 640x640 1 Crawfish, 12.3ms\n",
      "image 291/317 c:\\Users\\user\\Desktop\\FINAL\\final-project\\16\\data\\3\\test\\images\\fresh-raw-pangasius-fish-fillet-with-meat-dolly-fish-tilapia-striped-catfish-fish-fillet-on-wooden-board-with-ingredients-celery-for-cooking-free-photo-1-_jpg.rf.4c23efe667a64bb901478d0065745c52.jpg: 640x640 1 Black pepper, 1 Catfish, 2 lemons, 13.6ms\n",
      "image 292/317 c:\\Users\\user\\Desktop\\FINAL\\final-project\\16\\data\\3\\test\\images\\hamburger-buns-02-500x500_jpg.rf.9224700b71fbbf44221873bceb98977c.jpg: 640x640 10 Buns, 11.3ms\n",
      "image 293/317 c:\\Users\\user\\Desktop\\FINAL\\final-project\\16\\data\\3\\test\\images\\healthiest-cheese-1296x728-swiss_jpg.rf.801b25b171e24022339d235066f31687.jpg: 640x640 6 Cheeses, 1 Cinnamon, 15.5ms\n",
      "image 294/317 c:\\Users\\user\\Desktop\\FINAL\\final-project\\16\\data\\3\\test\\images\\il_fullxfull-3662294263_56ux_jpg.rf.62fb97e78efe2ae17e1fc5a20bde77f0.jpg: 640x640 3 Black peppers, 16.3ms\n",
      "image 295/317 c:\\Users\\user\\Desktop\\FINAL\\final-project\\16\\data\\3\\test\\images\\info_image_upload_f_jpg-q_auto_eco-c_fill-g_auto-w_1500-ar_1_1__jpg.rf.3d8200959fcbb5365baefb990f41548b.jpg: 640x640 2 Breads, 15.6ms\n",
      "image 296/317 c:\\Users\\user\\Desktop\\FINAL\\final-project\\16\\data\\3\\test\\images\\japanese-milk-bread-loaf-1_jpg.rf.34ddbe186babad14cf1de6a2f5080964.jpg: 640x640 3 Breads, 1 Cheese, 16.9ms\n",
      "image 297/317 c:\\Users\\user\\Desktop\\FINAL\\final-project\\16\\data\\3\\test\\images\\king-big-spiny-lobster-on-ice-night-martket-street-food-bangkok-thailand-photo_jpg.rf.cd25e3a0eaa75ea268dfdf6d8c128dae.jpg: 640x640 5 Lobsters, 12.5ms\n",
      "image 298/317 c:\\Users\\user\\Desktop\\FINAL\\final-project\\16\\data\\3\\test\\images\\l-intro-1672942389_jpg.rf.ce18febbae5b8ee03f0712ffc8487557.jpg: 640x640 2 cloves, 13.8ms\n",
      "image 299/317 c:\\Users\\user\\Desktop\\FINAL\\final-project\\16\\data\\3\\test\\images\\l-intro-1689603523_jpg.rf.4320378f03951c8b8d2cb71f6456c0c2.jpg: 640x640 8 Cinnamons, 2 Garlics, 1 Ginger, 14.5ms\n",
      "image 300/317 c:\\Users\\user\\Desktop\\FINAL\\final-project\\16\\data\\3\\test\\images\\lobsters-also-known-as-shevanda-crayfish-per-kg-384328409-facdl_jpg.rf.3ba35352ce892f06401ce00be3572d86.jpg: 640x640 2 Lobsters, 16.7ms\n",
      "image 301/317 c:\\Users\\user\\Desktop\\FINAL\\final-project\\16\\data\\3\\test\\images\\omega-3-eggs-500x500_jpg.rf.4872de1a3ca5b10f7335cf9f3d12cd40.jpg: 640x640 7 Eggs, 2 Potatos, 12.7ms\n",
      "image 302/317 c:\\Users\\user\\Desktop\\FINAL\\final-project\\16\\data\\3\\test\\images\\pepper-5501218_1280_jpg.rf.77a324edabb550bc04c8b734eac04e87.jpg: 640x640 1 Black pepper, 15.5ms\n",
      "image 303/317 c:\\Users\\user\\Desktop\\FINAL\\final-project\\16\\data\\3\\test\\images\\photo-1593462430565-94f606c65e71_jpg.rf.afdf5b1037fcdbea18a8cf1ce5b46b96.jpg: 640x640 1 Egg, 12.1ms\n",
      "image 304/317 c:\\Users\\user\\Desktop\\FINAL\\final-project\\16\\data\\3\\test\\images\\pork10_jpg.rf.c7f2dd496afdc6256f10373496686453.jpg: 640x640 4 Porks, 12.6ms\n",
      "image 305/317 c:\\Users\\user\\Desktop\\FINAL\\final-project\\16\\data\\3\\test\\images\\pork17_jpg.rf.ad178af0dea9b03ae3e29b4b53f31ca0.jpg: 640x640 1 Pork, 13.8ms\n",
      "image 306/317 c:\\Users\\user\\Desktop\\FINAL\\final-project\\16\\data\\3\\test\\images\\pork24_jpg.rf.463ce4c5c74282cfff4f69d15141846b.jpg: 640x640 1 Pork, 15.1ms\n",
      "image 307/317 c:\\Users\\user\\Desktop\\FINAL\\final-project\\16\\data\\3\\test\\images\\pork30_jpg.rf.2ad2083fee2a45cdace8ccd4bf5f5df3.jpg: 640x640 3 Porks, 11.9ms\n",
      "image 308/317 c:\\Users\\user\\Desktop\\FINAL\\final-project\\16\\data\\3\\test\\images\\pork36_jpg.rf.891dd54a2fe2bff42ac05b36b04d9622.jpg: 640x640 1 Chicken, 3 Porks, 15.2ms\n",
      "image 309/317 c:\\Users\\user\\Desktop\\FINAL\\final-project\\16\\data\\3\\test\\images\\pork51_jpg.rf.1f19c58da50d55c15c6f3916f9524907.jpg: 640x640 1 Chicken, 1 Pork, 11.8ms\n",
      "image 310/317 c:\\Users\\user\\Desktop\\FINAL\\final-project\\16\\data\\3\\test\\images\\poultry-broiler-eggs-500x500_png.rf.228d00dfd36507e613b957f6bad68be4.jpg: 640x640 12 Eggs, 16.5ms\n",
      "image 311/317 c:\\Users\\user\\Desktop\\FINAL\\final-project\\16\\data\\3\\test\\images\\product-jpeg-500x500_png.rf.3528abde955d5c47ac011e981036a55b.jpg: 640x640 9 Eggs, 13.8ms\n",
      "image 312/317 c:\\Users\\user\\Desktop\\FINAL\\final-project\\16\\data\\3\\test\\images\\raw-duck-breast-1_jpg.rf.e79f1eb679d6f550c563133f5a98a82f.jpg: 640x640 1 Chicken, 17.7ms\n",
      "image 313/317 c:\\Users\\user\\Desktop\\FINAL\\final-project\\16\\data\\3\\test\\images\\raw-duck-breast_jpg.rf.0cc808adb6069865a7059542c11b3945.jpg: 640x640 2 ducks, 6.1ms\n",
      "image 314/317 c:\\Users\\user\\Desktop\\FINAL\\final-project\\16\\data\\3\\test\\images\\raw-duck-on-wooden-board-260nw-744392044_jpg.rf.9b0c02e5a0049cacac772b1e13db15d6.jpg: 640x640 1 duck, 16.9ms\n",
      "image 315/317 c:\\Users\\user\\Desktop\\FINAL\\final-project\\16\\data\\3\\test\\images\\raw-uncooked-duck-breast-fillet-steaks-butcher-table_89816-28322_jpg.rf.46403b69eecf5a20bf3d7466d008275d.jpg: 640x640 1 duck, 20.8ms\n",
      "image 316/317 c:\\Users\\user\\Desktop\\FINAL\\final-project\\16\\data\\3\\test\\images\\two-mackerel-fish-fillets-isolated-on-white-C3J022_jpg.rf.0c3b5f0c887f123d0f3ff31d0efbca0c.jpg: 640x640 2 Mackerels, 13.9ms\n",
      "image 317/317 c:\\Users\\user\\Desktop\\FINAL\\final-project\\16\\data\\3\\test\\images\\whole-black-pepper-2_jpg.rf.7e61da2f05d37c2f840e0d52844c42e7.jpg: 640x640 1 Black pepper, 16.1ms\n",
      "Speed: 1.5ms preprocess, 14.9ms inference, 1.1ms postprocess per image at shape (1, 3, 640, 640)\n",
      "Results saved to \u001b[1mruns\\detect\\train22\u001b[0m\n"
     ]
    }
   ],
   "source": [
    "from ultralytics import YOLO\n",
    "import torch\n",
    "\n",
    "model = YOLO('yolov9s.pt')\n",
    "\n",
    "model.train(data = r'C:\\Users\\user\\Desktop\\FINAL\\final-project\\16\\data\\3\\data.yaml', \n",
    "            epochs=100, \n",
    "            patience=30, \n",
    "            batch=16, \n",
    "            imgsz=640)\n",
    "\n",
    "torch.cuda.empty_cache()\n",
    "\n",
    "results = model.predict(source=\"test\\images\", save=True)"
   ]
  },
  {
   "cell_type": "code",
   "execution_count": null,
   "metadata": {},
   "outputs": [],
   "source": []
  }
 ],
 "metadata": {
  "kernelspec": {
   "display_name": "Python 3",
   "language": "python",
   "name": "python3"
  },
  "language_info": {
   "codemirror_mode": {
    "name": "ipython",
    "version": 3
   },
   "file_extension": ".py",
   "mimetype": "text/x-python",
   "name": "python",
   "nbconvert_exporter": "python",
   "pygments_lexer": "ipython3",
   "version": "3.11.8"
  }
 },
 "nbformat": 4,
 "nbformat_minor": 2
}
