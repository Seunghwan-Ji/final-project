{
 "cells": [
  {
   "cell_type": "code",
   "execution_count": 20,
   "metadata": {},
   "outputs": [
    {
     "name": "stdout",
     "output_type": "stream",
     "text": [
      "['사과', '바나나', '비트', '피망', '후추', '빵', '브로콜리', '번', '버터', '양배추', '카다멈', '당근', '메기', '콜리플라워', '치즈', '닭고기', '고추', '계피', '고수', '옥수수', '가재', '오이', '계란', '가지', '마늘', '생강', '포도', '할라피뇨', '키위', '상추', '랍스터', '고등어', '망고', '우유', '올리브', '양파', '오렌지', '파프리카', '배', '완두콩', '파인애플', '피스타치오', '석류', '돼지고기', '감자', '무', '로즈마리', '대두', '대파', '딸기', '타임', '토마토', '호두', '수박', '정향', '오리', '레몬', '번역 필요', '무', '시금치', '고구마']\n"
     ]
    }
   ],
   "source": [
    "import json\n",
    "\n",
    "# Load the mapping dictionary from the uploaded file\n",
    "with open('mapping_dict.json', 'r', encoding='utf-8') as file:\n",
    "    mapping_dict = json.load(file)\n",
    "\n",
    "# List of names to translate\n",
    "names = ['Apple', 'Banana', 'Beetroot', 'Bell pepper', 'Black pepper', 'Bread', 'Broccoli', 'Bun', 'Butter', 'Cabbage', 'Cardamom', 'Carrot', 'Catfish', 'Cauliflower', 'Cheese', 'Chicken', 'Chilli Pepper', 'Cinnamon', 'Coriander', 'Corn', 'Crawfish', 'Cucumber', 'Egg', 'Eggplant', 'Garlic', 'Ginger', 'Grapes', 'Jalepeno', 'Kiwi', 'Lettuce', 'Lobster', 'Mackerel', 'Mango', 'Milk', 'Olive', 'Onion', 'Orange', 'Paprika', 'Pear', 'Peas', 'Pineapple', 'Pistachio', 'Pomegranate', 'Pork', 'Potato', 'Radish', 'Rosemary', 'Soya Beans', 'Spring onion', 'Strawberry', 'Thyme', 'Tomato', 'Walnut', 'Watermelon', 'clove', 'duck', 'lemon', 'paer', 'raddish', 'spinach', 'sweet potato']\n",
    "\n",
    "# Translate names using the mapping dictionary\n",
    "translated_names = [mapping_dict.get(name.lower(), name) for name in names]\n",
    "\n",
    "print(translated_names)"
   ]
  },
  {
   "cell_type": "code",
   "execution_count": null,
   "metadata": {},
   "outputs": [],
   "source": []
  }
 ],
 "metadata": {
  "kernelspec": {
   "display_name": "Python 3",
   "language": "python",
   "name": "python3"
  },
  "language_info": {
   "codemirror_mode": {
    "name": "ipython",
    "version": 3
   },
   "file_extension": ".py",
   "mimetype": "text/x-python",
   "name": "python",
   "nbconvert_exporter": "python",
   "pygments_lexer": "ipython3",
   "version": "3.12.2"
  }
 },
 "nbformat": 4,
 "nbformat_minor": 2
}
