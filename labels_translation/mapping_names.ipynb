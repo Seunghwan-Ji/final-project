{
 "cells": [
  {
   "cell_type": "code",
   "execution_count": 12,
   "metadata": {},
   "outputs": [
    {
     "name": "stdout",
     "output_type": "stream",
     "text": [
      "['-', '파인애플', '귤', '사과', '베이글', '바나나', '여주', '오이', '마늘', '청고추', '오크라', '버섯', '양파', '오렌지', '감자', '수세미오이', '토마토', '여주', '사과', '아스파라거스', '아보카도', '베이컨', '바나나', '소고기', '피망', '피망', '도시락', '여주', '블루베리', '청경채', '병', '빵', '브로콜리', '버터', '양배추', '캔', '통조림 참치', '당근', '캐슈넛', '콜리플라워', '치즈', '체리', '닭고기', '닭 가슴살', '닭 넓적다리', '닭 날개', '닭 가슴살', '고추', '초콜릿', '옥수수', '게', '크림치즈', '오이', '대추야자', '계란', '계란', '가지', '계란', '생선', '어묵', '밀가루', '감자튀김', '마늘', '생강', '염소 치즈', '자몽', '포도', '갈린 치즈', '청고추', '초록 고추', '그린빈', '파', '간 소고기', '과카몰리', '햄', '해쉬 브라운', '생크림', '후무스', '주스', '케첩', '김치', '키위', '대파', '레몬', '상추', '라임', '랍스터 꼬리', '망고', '마멀레이드', '마요네즈', '마요네즈', '우유', '민트', '모짜렐라 치즈', '버섯', '머스터드', '나초 칩', '견과류', '올리브', '양파', '오렌지', '굴', '청경채', '파르메산 치즈', '파슬리', '파스타', '파파야', '복숭아', '땅콩', '배', '완두콩', '고추', '피클', '피멘토', '파인애플', '플랜테인', '플라스틱 보관함', '석류', '돼지고기', '돼지 삼겹살', '냄비', '감자', '감자', '푸딩', '호박', '무', '홍고추', '적양배추', '적포도', '적양파', '쌀', '주먹밥', '떡', '샐러드', '살라미', '연어', '샌드위치', '소시지', '차요테', '가리비', '해초', '참깨', '새우', '스무디', '시금치', '대파', '딸기', '딸기', '설탕', '고구마', '고구마', '귤', '템페', '두부', '토마토', '토마토 소스', '토르티야', '참치', '칠면조', '수박', '백미', '요거트', '주키니']\n"
     ]
    }
   ],
   "source": [
    "import json\n",
    "\n",
    "# 라벨이 번역된 json 파일 로드\n",
    "with open('translation_names.json', 'r', encoding='utf-8') as file:\n",
    "    mapping_dict = json.load(file)\n",
    "\n",
    "# yaml 파일에서 names 복사 후 여기에 붙여넣기\n",
    "names = ['-', '10_pineapple', '10_tangerine', 'Apple', 'Bagel', 'Banana', 'Bitter melon', 'Cucumber', 'Garlic', 'Green Chili', 'Lady finger', 'Mushroom', 'Onion', 'Orange', 'Potato', 'Sponge Gourd', 'Tomato', 'ampalaya', 'apple', 'asparagus', 'avocado', 'bacon', 'banana', 'beef', 'bell pepper', 'bell_pepper', 'bento', 'bitter gourd', 'blueberries', 'bok choy', 'bottle', 'bread', 'broccoli', 'butter', 'cabbage', 'can', 'canned_tuna', 'carrot', 'cashew', 'cauliflower', 'cheese', 'cherry', 'chicken', 'chicken breast', 'chicken thigh', 'chicken wing', 'chicken_breast', 'chilli', 'chocolate', 'corn', 'crab', 'cream-cheese', 'cucumber', 'dates', 'egg', 'egg_', 'eggplant', 'eggs', 'fish', 'fish_cake', 'flour', 'french_fries', 'garlic', 'ginger', 'goat_cheese', 'grapefruit', 'grapes', 'grated_cheese', 'green chilli', 'green-chillies', 'green_beans', 'green_onion', 'ground_beef', 'guacamole', 'ham', 'hash_brown', 'heavy_cream', 'humus', 'juice', 'ketchup', 'kimchi', 'kiwi', 'leek', 'lemon', 'lettuce', 'lime', 'lobster tails', 'mango', 'marmelade', 'mayonaise', 'mayonnaise', 'milk', 'mint', 'mozzarella cheese', 'mushrooms', 'mustard', 'nacho_chips', 'nuts', 'olives', 'onion', 'orange', 'oysters', 'pak_choi', 'parmasan_cheese', 'parsley', 'pasta', 'pawpaw', 'peach', 'peanuts', 'pear', 'peas', 'pepper', 'pickles', 'pimento', 'pineapple', 'plantains', 'plasticsaveholder', 'pomegrante', 'pork', 'pork belly', 'pot', 'potato', 'potatoes', 'pudding', 'pumpkin', 'radish', 'red chili', 'red_cabbage', 'red_grapes', 'red_onion', 'rice', 'rice_ball', 'rice_cake', 'salad', 'salami', 'salmon', 'sandwich', 'sausage', 'sayote', 'sea scallops', 'seaweed', 'seseme', 'shrimp', 'smoothie', 'spinach', 'spring_onion', 'strawberries', 'strawberry', 'sugar', 'sweet potato', 'sweet_potato', 'tangerine', 'tempeh', 'tofu', 'tomato', 'tomato_sauce', 'tortillas', 'tuna', 'turkey', 'watermelon', 'white rice', 'yogurt', 'zucchini']\n",
    "\n",
    "# json 파일을 참조하여 각 단어 맵핑하기\n",
    "translated_names = [mapping_dict.get(name.lower(), name) for name in names]\n",
    "\n",
    "print(translated_names)"
   ]
  },
  {
   "cell_type": "code",
   "execution_count": null,
   "metadata": {},
   "outputs": [],
   "source": []
  }
 ],
 "metadata": {
  "kernelspec": {
   "display_name": "Python 3",
   "language": "python",
   "name": "python3"
  },
  "language_info": {
   "codemirror_mode": {
    "name": "ipython",
    "version": 3
   },
   "file_extension": ".py",
   "mimetype": "text/x-python",
   "name": "python",
   "nbconvert_exporter": "python",
   "pygments_lexer": "ipython3",
   "version": "3.12.2"
  }
 },
 "nbformat": 4,
 "nbformat_minor": 2
}
