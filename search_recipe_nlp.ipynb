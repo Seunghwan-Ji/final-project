{
 "cells": [
  {
   "cell_type": "code",
   "execution_count": 16,
   "metadata": {},
   "outputs": [
    {
     "name": "stdout",
     "output_type": "stream",
     "text": [
      "문장: '북어포 1마리' -> 명사: ['북어', '포', '마리']\n",
      "문장: '찹쌀가루 1C' -> 명사: ['찹쌀', '가루']\n",
      "문장: '간장 2T' -> 명사: ['간장']\n",
      "문장: '설탕 1T' -> 명사: ['설탕']\n",
      "문장: '물 1T' -> 명사: ['물']\n",
      "문장: '다진파 1T' -> 명사: ['파']\n",
      "문장: '다진마늘 1T' -> 명사: ['마늘']\n",
      "문장: '참기름 1T' -> 명사: ['참기름']\n",
      "문장: '깨소금 1T' -> 명사: ['깨소금']\n",
      "문장: '후춧가루 약간' -> 명사: ['후춧가루', '약간']\n",
      "문장: '손질된 닭' -> 명사: ['손질', '닭']\n"
     ]
    }
   ],
   "source": [
    "from konlpy.tag import Okt\n",
    "\n",
    "# Okt 형태소 분석기 로드\n",
    "okt = Okt()\n",
    "\n",
    "# 입력 문장들\n",
    "sentences = [\n",
    "    '북어포 1마리',\n",
    "    '찹쌀가루 1C',\n",
    "    '간장 2T',\n",
    "    '설탕 1T',\n",
    "    '물 1T',\n",
    "    '다진파 1T',\n",
    "    '다진마늘 1T',\n",
    "    '참기름 1T',\n",
    "    '깨소금 1T',\n",
    "    '후춧가루 약간',\n",
    "    '손질된 닭'\n",
    "]\n",
    "\n",
    "# 명사 추출\n",
    "for sentence in sentences:\n",
    "    nouns = okt.nouns(sentence)\n",
    "    print(f\"문장: '{sentence}' -> 명사: {nouns}\")"
   ]
  },
  {
   "cell_type": "code",
   "execution_count": 22,
   "metadata": {},
   "outputs": [
    {
     "name": "stdout",
     "output_type": "stream",
     "text": [
      "각 문장의 명사:\n",
      "\n",
      "[('북어', 'Noun'), ('포', 'Noun'), ('1', 'Number'), ('마리', 'Noun')]\n",
      "['북어', '포', '마리']\n",
      "====================================================================================================\n",
      "[('찹쌀', 'Noun'), ('가루', 'Noun'), ('1', 'Number'), ('C', 'Alpha')]\n",
      "['찹쌀', '가루']\n",
      "====================================================================================================\n",
      "[('간장', 'Noun'), ('2', 'Number'), ('T', 'Alpha')]\n",
      "['간장']\n",
      "====================================================================================================\n",
      "[('설탕', 'Noun'), ('1', 'Number'), ('T', 'Alpha')]\n",
      "['설탕']\n",
      "====================================================================================================\n",
      "[('물', 'Noun'), ('1', 'Number'), ('T', 'Alpha')]\n",
      "['물']\n",
      "====================================================================================================\n",
      "[('다진', 'Verb'), ('파', 'Noun'), ('1', 'Number'), ('T', 'Alpha')]\n",
      "['파']\n",
      "====================================================================================================\n",
      "[('다진', 'Verb'), ('마늘', 'Noun'), ('1', 'Number'), ('T', 'Alpha')]\n",
      "['마늘']\n",
      "====================================================================================================\n",
      "[('참기름', 'Noun'), ('1', 'Number'), ('T', 'Alpha')]\n",
      "['참기름']\n",
      "====================================================================================================\n",
      "[('깨소금', 'Noun'), ('1', 'Number'), ('T', 'Alpha')]\n",
      "['깨소금']\n",
      "====================================================================================================\n",
      "[('후춧가루', 'Noun'), ('약간', 'Noun')]\n",
      "['후춧가루', '약간']\n",
      "====================================================================================================\n",
      "[('손질', 'Noun'), ('된', 'Verb'), ('닭', 'Noun')]\n",
      "['손질', '닭']\n",
      "====================================================================================================\n"
     ]
    }
   ],
   "source": [
    "# 윤태님 코드\n",
    "from konlpy.tag import Okt\n",
    "\n",
    "# Okt 형태소 분석기 로드\n",
    "okt = Okt()\n",
    "\n",
    "# 입력 문장들\n",
    "sentences = [\n",
    "    '북어포 1마리',\n",
    "    '찹쌀가루 1C',\n",
    "    '간장 2T',\n",
    "    '설탕 1T',\n",
    "    '물 1T',\n",
    "    '다진파 1T',\n",
    "    '다진마늘 1T',\n",
    "    '참기름 1T',\n",
    "    '깨소금 1T',\n",
    "    '후춧가루 약간',\n",
    "    '손질된 닭'\n",
    "]\n",
    "\n",
    "# pos_tags 품사 명사 인것만 추출\n",
    "def noun_find(text):\n",
    "    # 텍스트의 품사를 태깅\n",
    "    tags = okt.pos(text)\n",
    "    print(tags)\n",
    "    # 명사만 추출\n",
    "    nouns = [word for word, pos in tags if pos == 'Noun']\n",
    "    return nouns\n",
    "\n",
    "print(\"각 문장의 명사:\\n\")\n",
    "for sentence in sentences:\n",
    "    print(noun_find(sentence))\n",
    "    print(\"==\" * 50)"
   ]
  },
  {
   "cell_type": "markdown",
   "metadata": {},
   "source": [
    "단어간 유사도를 계산하여 유사한지 판별\n",
    "\n",
    "pip install transformers"
   ]
  },
  {
   "cell_type": "code",
   "execution_count": 1,
   "metadata": {},
   "outputs": [
    {
     "name": "stderr",
     "output_type": "stream",
     "text": [
      "c:\\Program Files\\Python312\\Lib\\site-packages\\tqdm\\auto.py:21: TqdmWarning: IProgress not found. Please update jupyter and ipywidgets. See https://ipywidgets.readthedocs.io/en/stable/user_install.html\n",
      "  from .autonotebook import tqdm as notebook_tqdm\n",
      "A parameter name that contains `beta` will be renamed internally to `bias`. Please use a different name to suppress this warning.\n",
      "A parameter name that contains `gamma` will be renamed internally to `weight`. Please use a different name to suppress this warning.\n",
      "A parameter name that contains `beta` will be renamed internally to `bias`. Please use a different name to suppress this warning.\n",
      "A parameter name that contains `gamma` will be renamed internally to `weight`. Please use a different name to suppress this warning.\n",
      "A parameter name that contains `beta` will be renamed internally to `bias`. Please use a different name to suppress this warning.\n",
      "A parameter name that contains `gamma` will be renamed internally to `weight`. Please use a different name to suppress this warning.\n",
      "A parameter name that contains `beta` will be renamed internally to `bias`. Please use a different name to suppress this warning.\n",
      "A parameter name that contains `gamma` will be renamed internally to `weight`. Please use a different name to suppress this warning.\n",
      "A parameter name that contains `beta` will be renamed internally to `bias`. Please use a different name to suppress this warning.\n",
      "A parameter name that contains `gamma` will be renamed internally to `weight`. Please use a different name to suppress this warning.\n",
      "A parameter name that contains `beta` will be renamed internally to `bias`. Please use a different name to suppress this warning.\n",
      "A parameter name that contains `gamma` will be renamed internally to `weight`. Please use a different name to suppress this warning.\n",
      "A parameter name that contains `beta` will be renamed internally to `bias`. Please use a different name to suppress this warning.\n",
      "A parameter name that contains `gamma` will be renamed internally to `weight`. Please use a different name to suppress this warning.\n",
      "A parameter name that contains `beta` will be renamed internally to `bias`. Please use a different name to suppress this warning.\n",
      "A parameter name that contains `gamma` will be renamed internally to `weight`. Please use a different name to suppress this warning.\n",
      "A parameter name that contains `beta` will be renamed internally to `bias`. Please use a different name to suppress this warning.\n",
      "A parameter name that contains `gamma` will be renamed internally to `weight`. Please use a different name to suppress this warning.\n",
      "A parameter name that contains `beta` will be renamed internally to `bias`. Please use a different name to suppress this warning.\n",
      "A parameter name that contains `gamma` will be renamed internally to `weight`. Please use a different name to suppress this warning.\n",
      "A parameter name that contains `beta` will be renamed internally to `bias`. Please use a different name to suppress this warning.\n",
      "A parameter name that contains `gamma` will be renamed internally to `weight`. Please use a different name to suppress this warning.\n",
      "A parameter name that contains `beta` will be renamed internally to `bias`. Please use a different name to suppress this warning.\n",
      "A parameter name that contains `gamma` will be renamed internally to `weight`. Please use a different name to suppress this warning.\n",
      "A parameter name that contains `beta` will be renamed internally to `bias`. Please use a different name to suppress this warning.\n",
      "A parameter name that contains `gamma` will be renamed internally to `weight`. Please use a different name to suppress this warning.\n",
      "A parameter name that contains `beta` will be renamed internally to `bias`. Please use a different name to suppress this warning.\n",
      "A parameter name that contains `gamma` will be renamed internally to `weight`. Please use a different name to suppress this warning.\n",
      "A parameter name that contains `beta` will be renamed internally to `bias`. Please use a different name to suppress this warning.\n",
      "A parameter name that contains `gamma` will be renamed internally to `weight`. Please use a different name to suppress this warning.\n",
      "A parameter name that contains `beta` will be renamed internally to `bias`. Please use a different name to suppress this warning.\n",
      "A parameter name that contains `gamma` will be renamed internally to `weight`. Please use a different name to suppress this warning.\n",
      "A parameter name that contains `beta` will be renamed internally to `bias`. Please use a different name to suppress this warning.\n",
      "A parameter name that contains `gamma` will be renamed internally to `weight`. Please use a different name to suppress this warning.\n",
      "A parameter name that contains `beta` will be renamed internally to `bias`. Please use a different name to suppress this warning.\n",
      "A parameter name that contains `gamma` will be renamed internally to `weight`. Please use a different name to suppress this warning.\n",
      "A parameter name that contains `beta` will be renamed internally to `bias`. Please use a different name to suppress this warning.\n",
      "A parameter name that contains `gamma` will be renamed internally to `weight`. Please use a different name to suppress this warning.\n",
      "A parameter name that contains `beta` will be renamed internally to `bias`. Please use a different name to suppress this warning.\n",
      "A parameter name that contains `gamma` will be renamed internally to `weight`. Please use a different name to suppress this warning.\n",
      "A parameter name that contains `beta` will be renamed internally to `bias`. Please use a different name to suppress this warning.\n",
      "A parameter name that contains `gamma` will be renamed internally to `weight`. Please use a different name to suppress this warning.\n",
      "A parameter name that contains `beta` will be renamed internally to `bias`. Please use a different name to suppress this warning.\n",
      "A parameter name that contains `gamma` will be renamed internally to `weight`. Please use a different name to suppress this warning.\n",
      "A parameter name that contains `beta` will be renamed internally to `bias`. Please use a different name to suppress this warning.\n",
      "A parameter name that contains `gamma` will be renamed internally to `weight`. Please use a different name to suppress this warning.\n",
      "A parameter name that contains `beta` will be renamed internally to `bias`. Please use a different name to suppress this warning.\n",
      "A parameter name that contains `gamma` will be renamed internally to `weight`. Please use a different name to suppress this warning.\n",
      "A parameter name that contains `beta` will be renamed internally to `bias`. Please use a different name to suppress this warning.\n",
      "A parameter name that contains `gamma` will be renamed internally to `weight`. Please use a different name to suppress this warning.\n",
      "A parameter name that contains `beta` will be renamed internally to `bias`. Please use a different name to suppress this warning.\n",
      "A parameter name that contains `gamma` will be renamed internally to `weight`. Please use a different name to suppress this warning.\n"
     ]
    }
   ],
   "source": [
    "from transformers import BertTokenizer, BertModel\n",
    "import torch\n",
    "from scipy.spatial.distance import cosine\n",
    "\n",
    "# BERT 모델과 토크나이저 로드\n",
    "model_name = 'bert-base-multilingual-cased'\n",
    "tokenizer = BertTokenizer.from_pretrained(model_name)\n",
    "model = BertModel.from_pretrained(model_name)\n",
    "\n",
    "# 입력 문장 토크나이징 및 텐서 변환\n",
    "def get_word_embedding(word):\n",
    "    inputs = tokenizer(word, return_tensors='pt')\n",
    "    with torch.no_grad():\n",
    "        outputs = model(**inputs)\n",
    "    # [CLS] 토큰의 임베딩을 사용\n",
    "    embedding = outputs.last_hidden_state[:, 0, :].squeeze()\n",
    "    return embedding"
   ]
  },
  {
   "cell_type": "code",
   "execution_count": 5,
   "metadata": {},
   "outputs": [
    {
     "name": "stdout",
     "output_type": "stream",
     "text": [
      "'후추' 와(과) '후춧가루' 의 유사도 = 0.7805625777061581\n"
     ]
    }
   ],
   "source": [
    "# 단어 임베딩 계산\n",
    "word1 = \"후추\"\n",
    "word2 = \"후춧가루\"\n",
    "embedding1 = get_word_embedding(word1)\n",
    "embedding2 = get_word_embedding(word2)\n",
    "\n",
    "# 코사인 유사도 계산\n",
    "similarity = 1 - cosine(embedding1.numpy(), embedding2.numpy())\n",
    "print(f\"'{word1}' 와(과) '{word2}' 의 유사도 = {similarity}\")"
   ]
  },
  {
   "cell_type": "code",
   "execution_count": null,
   "metadata": {},
   "outputs": [],
   "source": []
  }
 ],
 "metadata": {
  "kernelspec": {
   "display_name": "Python 3",
   "language": "python",
   "name": "python3"
  },
  "language_info": {
   "codemirror_mode": {
    "name": "ipython",
    "version": 3
   },
   "file_extension": ".py",
   "mimetype": "text/x-python",
   "name": "python",
   "nbconvert_exporter": "python",
   "pygments_lexer": "ipython3",
   "version": "3.12.2"
  }
 },
 "nbformat": 4,
 "nbformat_minor": 2
}
