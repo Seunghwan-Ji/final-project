{
 "cells": [
  {
   "cell_type": "code",
   "execution_count": 6,
   "metadata": {},
   "outputs": [
    {
     "name": "stdout",
     "output_type": "stream",
     "text": [
      "\n",
      "image 1/12 c:\\Users\\Seunghwan\\Desktop\\yolo & gpu & cv2\\images\\19511_30300_2213.png: 256x416 (no detections), 100.6ms\n",
      "image 2/12 c:\\Users\\Seunghwan\\Desktop\\yolo & gpu & cv2\\images\\2024042201965_0.jpg: 352x416 1 chicken thigh, 96.6ms\n",
      "image 3/12 c:\\Users\\Seunghwan\\Desktop\\yolo & gpu & cv2\\images\\28625_52668_1144.jpg: 256x416 1 10_tangerine, 1 bell pepper, 1 broccoli, 1 grapes, 4 tomatos, 105.5ms\n",
      "image 4/12 c:\\Users\\Seunghwan\\Desktop\\yolo & gpu & cv2\\images\\4214_6486_2627.png: 320x416 1 10_tangerine, 15 onions, 96.3ms\n",
      "image 5/12 c:\\Users\\Seunghwan\\Desktop\\yolo & gpu & cv2\\images\\560_03.jpg: 288x416 6 potatos, 105.6ms\n",
      "image 6/12 c:\\Users\\Seunghwan\\Desktop\\yolo & gpu & cv2\\images\\61644_118877_4950.jpg: 288x416 6 egg_s, 93.6ms\n",
      "image 7/12 c:\\Users\\Seunghwan\\Desktop\\yolo & gpu & cv2\\images\\9861_16853_218.jpg: 320x416 1 avocado, 99.6ms\n",
      "image 8/12 c:\\Users\\Seunghwan\\Desktop\\yolo & gpu & cv2\\images\\groro_bb0d30be04a040fbb7c3afef57a2de87.jpg: 224x416 4 tomatos, 114.6ms\n",
      "image 9/12 c:\\Users\\Seunghwan\\Desktop\\yolo & gpu & cv2\\images\\restmb_idxmake.jpg: 288x416 1 lemon, 2 mangos, 1 potato, 107.4ms\n",
      "image 10/12 c:\\Users\\Seunghwan\\Desktop\\yolo & gpu & cv2\\images\\style_6306fb0f7c43f-700x467.jpeg: 288x416 1 chicken, 1 lemon, 100.6ms\n",
      "image 11/12 c:\\Users\\Seunghwan\\Desktop\\yolo & gpu & cv2\\images\\unnamed.jpg: 256x416 5 cucumbers, 121.6ms\n",
      "image 12/12 c:\\Users\\Seunghwan\\Desktop\\yolo & gpu & cv2\\images\\.jpg: 288x416 1 beef, 1 salmon, 114.6ms\n",
      "Speed: 2.3ms preprocess, 104.7ms inference, 13.1ms postprocess per image at shape (1, 3, 288, 416)\n",
      "Results saved to \u001b[1mruns\\detect\\predict\u001b[0m\n"
     ]
    }
   ],
   "source": [
    "from ultralytics import YOLO\n",
    "\n",
    "# YOLO 모델 로드\n",
    "model = YOLO('best.pt')\n",
    "\n",
    "results = model.predict(source='images', save=True)"
   ]
  },
  {
   "cell_type": "code",
   "execution_count": null,
   "metadata": {},
   "outputs": [],
   "source": []
  }
 ],
 "metadata": {
  "kernelspec": {
   "display_name": "Python 3",
   "language": "python",
   "name": "python3"
  },
  "language_info": {
   "codemirror_mode": {
    "name": "ipython",
    "version": 3
   },
   "file_extension": ".py",
   "mimetype": "text/x-python",
   "name": "python",
   "nbconvert_exporter": "python",
   "pygments_lexer": "ipython3",
   "version": "3.12.2"
  }
 },
 "nbformat": 4,
 "nbformat_minor": 2
}
